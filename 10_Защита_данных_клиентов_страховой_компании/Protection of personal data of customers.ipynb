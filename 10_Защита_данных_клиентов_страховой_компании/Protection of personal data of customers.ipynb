{
 "cells": [
  {
   "cell_type": "markdown",
   "metadata": {
    "toc": true
   },
   "source": [
    "<h1>Содержание<span class=\"tocSkip\"></span></h1>\n",
    "<div class=\"toc\"><ul class=\"toc-item\"><li><span><a href=\"#Загрузка-данных\" data-toc-modified-id=\"Загрузка-данных-1\"><span class=\"toc-item-num\">1&nbsp;&nbsp;</span>Загрузка данных</a></span><ul class=\"toc-item\"><li><span><a href=\"#Вывод\" data-toc-modified-id=\"Вывод-1.1\"><span class=\"toc-item-num\">1.1&nbsp;&nbsp;</span>Вывод</a></span></li></ul></li><li><span><a href=\"#Умножение-матриц\" data-toc-modified-id=\"Умножение-матриц-2\"><span class=\"toc-item-num\">2&nbsp;&nbsp;</span>Умножение матриц</a></span><ul class=\"toc-item\"><li><span><a href=\"#Вывод\" data-toc-modified-id=\"Вывод-2.1\"><span class=\"toc-item-num\">2.1&nbsp;&nbsp;</span>Вывод</a></span></li></ul></li><li><span><a href=\"#Алгоритм-преобразования\" data-toc-modified-id=\"Алгоритм-преобразования-3\"><span class=\"toc-item-num\">3&nbsp;&nbsp;</span>Алгоритм преобразования</a></span></li><li><span><a href=\"#Проверка-алгоритма\" data-toc-modified-id=\"Проверка-алгоритма-4\"><span class=\"toc-item-num\">4&nbsp;&nbsp;</span>Проверка алгоритма</a></span></li><li><span><a href=\"#Вывод\" data-toc-modified-id=\"Вывод-5\"><span class=\"toc-item-num\">5&nbsp;&nbsp;</span>Вывод</a></span></li><li><span><a href=\"#Чек-лист-проверки\" data-toc-modified-id=\"Чек-лист-проверки-6\"><span class=\"toc-item-num\">6&nbsp;&nbsp;</span>Чек-лист проверки</a></span></li></ul></div>"
   ]
  },
  {
   "cell_type": "markdown",
   "metadata": {},
   "source": [
    "# Защита персональных данных клиентов"
   ]
  },
  {
   "cell_type": "markdown",
   "metadata": {},
   "source": [
    "Вам нужно защитить данные клиентов страховой компании «Хоть потоп». Разработайте такой метод преобразования данных, чтобы по ним было сложно восстановить персональную информацию. Обоснуйте корректность его работы.\n",
    "\n",
    "Нужно защитить данные, чтобы при преобразовании качество моделей машинного обучения не ухудшилось. Подбирать наилучшую модель не требуется."
   ]
  },
  {
   "cell_type": "markdown",
   "metadata": {},
   "source": [
    "## Загрузка данных"
   ]
  },
  {
   "cell_type": "code",
   "execution_count": 1,
   "metadata": {},
   "outputs": [],
   "source": [
    "import pandas as pd\n",
    "import numpy as np\n",
    "from sklearn.linear_model import LinearRegression\n",
    "from sklearn.metrics import r2_score"
   ]
  },
  {
   "cell_type": "code",
   "execution_count": 2,
   "metadata": {},
   "outputs": [],
   "source": [
    "data = pd.read_csv('/datasets/insurance.csv')"
   ]
  },
  {
   "cell_type": "code",
   "execution_count": 3,
   "metadata": {},
   "outputs": [
    {
     "data": {
      "text/html": [
       "<div>\n",
       "<style scoped>\n",
       "    .dataframe tbody tr th:only-of-type {\n",
       "        vertical-align: middle;\n",
       "    }\n",
       "\n",
       "    .dataframe tbody tr th {\n",
       "        vertical-align: top;\n",
       "    }\n",
       "\n",
       "    .dataframe thead th {\n",
       "        text-align: right;\n",
       "    }\n",
       "</style>\n",
       "<table border=\"1\" class=\"dataframe\">\n",
       "  <thead>\n",
       "    <tr style=\"text-align: right;\">\n",
       "      <th></th>\n",
       "      <th>Пол</th>\n",
       "      <th>Возраст</th>\n",
       "      <th>Зарплата</th>\n",
       "      <th>Члены семьи</th>\n",
       "      <th>Страховые выплаты</th>\n",
       "    </tr>\n",
       "  </thead>\n",
       "  <tbody>\n",
       "    <tr>\n",
       "      <th>0</th>\n",
       "      <td>1</td>\n",
       "      <td>41.0</td>\n",
       "      <td>49600.0</td>\n",
       "      <td>1</td>\n",
       "      <td>0</td>\n",
       "    </tr>\n",
       "    <tr>\n",
       "      <th>1</th>\n",
       "      <td>0</td>\n",
       "      <td>46.0</td>\n",
       "      <td>38000.0</td>\n",
       "      <td>1</td>\n",
       "      <td>1</td>\n",
       "    </tr>\n",
       "    <tr>\n",
       "      <th>2</th>\n",
       "      <td>0</td>\n",
       "      <td>29.0</td>\n",
       "      <td>21000.0</td>\n",
       "      <td>0</td>\n",
       "      <td>0</td>\n",
       "    </tr>\n",
       "    <tr>\n",
       "      <th>3</th>\n",
       "      <td>0</td>\n",
       "      <td>21.0</td>\n",
       "      <td>41700.0</td>\n",
       "      <td>2</td>\n",
       "      <td>0</td>\n",
       "    </tr>\n",
       "    <tr>\n",
       "      <th>4</th>\n",
       "      <td>1</td>\n",
       "      <td>28.0</td>\n",
       "      <td>26100.0</td>\n",
       "      <td>0</td>\n",
       "      <td>0</td>\n",
       "    </tr>\n",
       "    <tr>\n",
       "      <th>...</th>\n",
       "      <td>...</td>\n",
       "      <td>...</td>\n",
       "      <td>...</td>\n",
       "      <td>...</td>\n",
       "      <td>...</td>\n",
       "    </tr>\n",
       "    <tr>\n",
       "      <th>4995</th>\n",
       "      <td>0</td>\n",
       "      <td>28.0</td>\n",
       "      <td>35700.0</td>\n",
       "      <td>2</td>\n",
       "      <td>0</td>\n",
       "    </tr>\n",
       "    <tr>\n",
       "      <th>4996</th>\n",
       "      <td>0</td>\n",
       "      <td>34.0</td>\n",
       "      <td>52400.0</td>\n",
       "      <td>1</td>\n",
       "      <td>0</td>\n",
       "    </tr>\n",
       "    <tr>\n",
       "      <th>4997</th>\n",
       "      <td>0</td>\n",
       "      <td>20.0</td>\n",
       "      <td>33900.0</td>\n",
       "      <td>2</td>\n",
       "      <td>0</td>\n",
       "    </tr>\n",
       "    <tr>\n",
       "      <th>4998</th>\n",
       "      <td>1</td>\n",
       "      <td>22.0</td>\n",
       "      <td>32700.0</td>\n",
       "      <td>3</td>\n",
       "      <td>0</td>\n",
       "    </tr>\n",
       "    <tr>\n",
       "      <th>4999</th>\n",
       "      <td>1</td>\n",
       "      <td>28.0</td>\n",
       "      <td>40600.0</td>\n",
       "      <td>1</td>\n",
       "      <td>0</td>\n",
       "    </tr>\n",
       "  </tbody>\n",
       "</table>\n",
       "<p>5000 rows × 5 columns</p>\n",
       "</div>"
      ],
      "text/plain": [
       "      Пол  Возраст  Зарплата  Члены семьи  Страховые выплаты\n",
       "0       1     41.0   49600.0            1                  0\n",
       "1       0     46.0   38000.0            1                  1\n",
       "2       0     29.0   21000.0            0                  0\n",
       "3       0     21.0   41700.0            2                  0\n",
       "4       1     28.0   26100.0            0                  0\n",
       "...   ...      ...       ...          ...                ...\n",
       "4995    0     28.0   35700.0            2                  0\n",
       "4996    0     34.0   52400.0            1                  0\n",
       "4997    0     20.0   33900.0            2                  0\n",
       "4998    1     22.0   32700.0            3                  0\n",
       "4999    1     28.0   40600.0            1                  0\n",
       "\n",
       "[5000 rows x 5 columns]"
      ]
     },
     "execution_count": 3,
     "metadata": {},
     "output_type": "execute_result"
    }
   ],
   "source": [
    "# посмотрим, что в датафрейме\n",
    "data"
   ]
  },
  {
   "cell_type": "code",
   "execution_count": 4,
   "metadata": {},
   "outputs": [
    {
     "name": "stdout",
     "output_type": "stream",
     "text": [
      "<class 'pandas.core.frame.DataFrame'>\n",
      "RangeIndex: 5000 entries, 0 to 4999\n",
      "Data columns (total 5 columns):\n",
      " #   Column             Non-Null Count  Dtype  \n",
      "---  ------             --------------  -----  \n",
      " 0   Пол                5000 non-null   int64  \n",
      " 1   Возраст            5000 non-null   float64\n",
      " 2   Зарплата           5000 non-null   float64\n",
      " 3   Члены семьи        5000 non-null   int64  \n",
      " 4   Страховые выплаты  5000 non-null   int64  \n",
      "dtypes: float64(2), int64(3)\n",
      "memory usage: 195.4 KB\n"
     ]
    }
   ],
   "source": [
    "data.info()\n"
   ]
  },
  {
   "cell_type": "code",
   "execution_count": 5,
   "metadata": {},
   "outputs": [
    {
     "data": {
      "text/plain": [
       "0    2505\n",
       "1    2495\n",
       "Name: Пол, dtype: int64"
      ]
     },
     "execution_count": 5,
     "metadata": {},
     "output_type": "execute_result"
    }
   ],
   "source": [
    "# Проверин на перекос в данных\n",
    "data['Пол'].value_counts()"
   ]
  },
  {
   "cell_type": "markdown",
   "metadata": {},
   "source": [
    "В датасете поровну мужчин и женщин."
   ]
  },
  {
   "cell_type": "code",
   "execution_count": 6,
   "metadata": {},
   "outputs": [
    {
     "data": {
      "text/plain": [
       "153"
      ]
     },
     "execution_count": 6,
     "metadata": {},
     "output_type": "execute_result"
    }
   ],
   "source": [
    "# Дубликаты в наличии\n",
    "data.duplicated().sum()"
   ]
  },
  {
   "cell_type": "raw",
   "metadata": {},
   "source": [
    "Дубликаты в наличии, зато нет перекоса в датасете по половому признаку, удалять дубли не будем, можно считать, был применен метод увеличения выборки **upsampling**."
   ]
  },
  {
   "cell_type": "code",
   "execution_count": 7,
   "metadata": {},
   "outputs": [
    {
     "data": {
      "text/plain": [
       "Пол                  0\n",
       "Возраст              0\n",
       "Зарплата             0\n",
       "Члены семьи          0\n",
       "Страховые выплаты    0\n",
       "dtype: int64"
      ]
     },
     "execution_count": 7,
     "metadata": {},
     "output_type": "execute_result"
    }
   ],
   "source": [
    "# пропусков нет\n",
    "data.isna().sum()"
   ]
  },
  {
   "cell_type": "markdown",
   "metadata": {},
   "source": [
    "### Вывод\n",
    "\n",
    "* В датасете 5000 строк.\n",
    "* Данные примерно поровну поделены на мужчин и женщин.\n",
    "* В датасете информация: Пол, Возраст, Зарплата, Члены семьи, Страховые выплаты - это признаки. Целевой признак - Страховые выплаты\n"
   ]
  },
  {
   "cell_type": "code",
   "execution_count": 8,
   "metadata": {},
   "outputs": [
    {
     "data": {
      "text/html": [
       "<div>\n",
       "<style scoped>\n",
       "    .dataframe tbody tr th:only-of-type {\n",
       "        vertical-align: middle;\n",
       "    }\n",
       "\n",
       "    .dataframe tbody tr th {\n",
       "        vertical-align: top;\n",
       "    }\n",
       "\n",
       "    .dataframe thead th {\n",
       "        text-align: right;\n",
       "    }\n",
       "</style>\n",
       "<table border=\"1\" class=\"dataframe\">\n",
       "  <thead>\n",
       "    <tr style=\"text-align: right;\">\n",
       "      <th></th>\n",
       "      <th>Пол</th>\n",
       "      <th>Возраст</th>\n",
       "      <th>Зарплата</th>\n",
       "      <th>Члены семьи</th>\n",
       "      <th>Страховые выплаты</th>\n",
       "    </tr>\n",
       "  </thead>\n",
       "  <tbody>\n",
       "    <tr>\n",
       "      <th>Пол</th>\n",
       "      <td>1.000000</td>\n",
       "      <td>0.002074</td>\n",
       "      <td>0.014910</td>\n",
       "      <td>-0.008991</td>\n",
       "      <td>0.010140</td>\n",
       "    </tr>\n",
       "    <tr>\n",
       "      <th>Возраст</th>\n",
       "      <td>0.002074</td>\n",
       "      <td>1.000000</td>\n",
       "      <td>-0.019093</td>\n",
       "      <td>-0.006692</td>\n",
       "      <td>0.651030</td>\n",
       "    </tr>\n",
       "    <tr>\n",
       "      <th>Зарплата</th>\n",
       "      <td>0.014910</td>\n",
       "      <td>-0.019093</td>\n",
       "      <td>1.000000</td>\n",
       "      <td>-0.030296</td>\n",
       "      <td>-0.014963</td>\n",
       "    </tr>\n",
       "    <tr>\n",
       "      <th>Члены семьи</th>\n",
       "      <td>-0.008991</td>\n",
       "      <td>-0.006692</td>\n",
       "      <td>-0.030296</td>\n",
       "      <td>1.000000</td>\n",
       "      <td>-0.036290</td>\n",
       "    </tr>\n",
       "    <tr>\n",
       "      <th>Страховые выплаты</th>\n",
       "      <td>0.010140</td>\n",
       "      <td>0.651030</td>\n",
       "      <td>-0.014963</td>\n",
       "      <td>-0.036290</td>\n",
       "      <td>1.000000</td>\n",
       "    </tr>\n",
       "  </tbody>\n",
       "</table>\n",
       "</div>"
      ],
      "text/plain": [
       "                        Пол   Возраст  Зарплата  Члены семьи  \\\n",
       "Пол                1.000000  0.002074  0.014910    -0.008991   \n",
       "Возраст            0.002074  1.000000 -0.019093    -0.006692   \n",
       "Зарплата           0.014910 -0.019093  1.000000    -0.030296   \n",
       "Члены семьи       -0.008991 -0.006692 -0.030296     1.000000   \n",
       "Страховые выплаты  0.010140  0.651030 -0.014963    -0.036290   \n",
       "\n",
       "                   Страховые выплаты  \n",
       "Пол                         0.010140  \n",
       "Возраст                     0.651030  \n",
       "Зарплата                   -0.014963  \n",
       "Члены семьи                -0.036290  \n",
       "Страховые выплаты           1.000000  "
      ]
     },
     "execution_count": 8,
     "metadata": {},
     "output_type": "execute_result"
    }
   ],
   "source": [
    "# посмотрим корреляцию между признаками\n",
    "data.corr()"
   ]
  },
  {
   "cell_type": "code",
   "execution_count": 9,
   "metadata": {},
   "outputs": [
    {
     "data": {
      "text/plain": [
       "array([[<AxesSubplot:xlabel='Пол', ylabel='Пол'>,\n",
       "        <AxesSubplot:xlabel='Возраст', ylabel='Пол'>,\n",
       "        <AxesSubplot:xlabel='Зарплата', ylabel='Пол'>,\n",
       "        <AxesSubplot:xlabel='Члены семьи', ylabel='Пол'>,\n",
       "        <AxesSubplot:xlabel='Страховые выплаты', ylabel='Пол'>],\n",
       "       [<AxesSubplot:xlabel='Пол', ylabel='Возраст'>,\n",
       "        <AxesSubplot:xlabel='Возраст', ylabel='Возраст'>,\n",
       "        <AxesSubplot:xlabel='Зарплата', ylabel='Возраст'>,\n",
       "        <AxesSubplot:xlabel='Члены семьи', ylabel='Возраст'>,\n",
       "        <AxesSubplot:xlabel='Страховые выплаты', ylabel='Возраст'>],\n",
       "       [<AxesSubplot:xlabel='Пол', ylabel='Зарплата'>,\n",
       "        <AxesSubplot:xlabel='Возраст', ylabel='Зарплата'>,\n",
       "        <AxesSubplot:xlabel='Зарплата', ylabel='Зарплата'>,\n",
       "        <AxesSubplot:xlabel='Члены семьи', ylabel='Зарплата'>,\n",
       "        <AxesSubplot:xlabel='Страховые выплаты', ylabel='Зарплата'>],\n",
       "       [<AxesSubplot:xlabel='Пол', ylabel='Члены семьи'>,\n",
       "        <AxesSubplot:xlabel='Возраст', ylabel='Члены семьи'>,\n",
       "        <AxesSubplot:xlabel='Зарплата', ylabel='Члены семьи'>,\n",
       "        <AxesSubplot:xlabel='Члены семьи', ylabel='Члены семьи'>,\n",
       "        <AxesSubplot:xlabel='Страховые выплаты', ylabel='Члены семьи'>],\n",
       "       [<AxesSubplot:xlabel='Пол', ylabel='Страховые выплаты'>,\n",
       "        <AxesSubplot:xlabel='Возраст', ylabel='Страховые выплаты'>,\n",
       "        <AxesSubplot:xlabel='Зарплата', ylabel='Страховые выплаты'>,\n",
       "        <AxesSubplot:xlabel='Члены семьи', ylabel='Страховые выплаты'>,\n",
       "        <AxesSubplot:xlabel='Страховые выплаты', ylabel='Страховые выплаты'>]],\n",
       "      dtype=object)"
      ]
     },
     "execution_count": 9,
     "metadata": {},
     "output_type": "execute_result"
    },
    {
     "data": {
      "image/png": "[encoded data removed]",
      "text/plain": [
       "<Figure size 1152x1152 with 25 Axes>"
      ]
     },
     "metadata": {
      "needs_background": "light"
     },
     "output_type": "display_data"
    }
   ],
   "source": [
    "# Графическое представление корреляции\n",
    "pd.plotting.scatter_matrix(data, figsize=(16,16))"
   ]
  },
  {
   "cell_type": "markdown",
   "metadata": {},
   "source": [
    "## Умножение матриц"
   ]
  },
  {
   "cell_type": "markdown",
   "metadata": {},
   "source": [
    "В этом задании вы можете записывать формулы в *Jupyter Notebook.*\n",
    "\n",
    "Чтобы записать формулу внутри текста, окружите её символами доллара \\\\$; если снаружи —  двойными символами \\\\$\\\\$. Эти формулы записываются на языке вёрстки *LaTeX.* \n",
    "\n",
    "Для примера мы записали формулы линейной регрессии. Можете их скопировать и отредактировать, чтобы решить задачу.\n",
    "\n",
    "Работать в *LaTeX* необязательно."
   ]
  },
  {
   "cell_type": "markdown",
   "metadata": {},
   "source": [
    "Обозначения:\n",
    "\n",
    "- $X$ — матрица признаков (нулевой столбец состоит из единиц)\n",
    "\n",
    "- $y$ — вектор целевого признака\n",
    "\n",
    "- $P$ — матрица, на которую умножаются признаки\n",
    "\n",
    "- $w$ — вектор весов линейной регрессии (нулевой элемент равен сдвигу)"
   ]
  },
  {
   "cell_type": "markdown",
   "metadata": {},
   "source": [
    "Предсказания:\n",
    "\n",
    "$$\n",
    "a = Xw\n",
    "$$\n",
    "\n",
    "Задача обучения:\n",
    "\n",
    "$$\n",
    "w = \\arg\\min_w MSE(Xw, y)\n",
    "$$\n",
    "\n",
    "Формула обучения:\n",
    "\n",
    "$$\n",
    "w = (X^T X)^{-1} X^T y\n",
    "$$"
   ]
  },
  {
   "cell_type": "markdown",
   "metadata": {},
   "source": [
    "**Вопрос:**\n",
    "\n",
    "* Признаки умножают на обратимую матрицу. Изменится ли качество линейной регрессии? (Её можно обучить заново.)\n",
    "    - a. Изменится. Приведите примеры матриц.\n",
    "    - b. Не изменится. Укажите, как связаны параметры линейной регрессии в исходной задаче и в преобразованной.\n"
   ]
  },
  {
   "cell_type": "markdown",
   "metadata": {},
   "source": [
    "**Ответ:** b. Не изменится.\n",
    "\n",
    "**Обоснование:** :\n",
    "\n",
    "Признаки **X** умножают на обратимую матрицу **𝑃**:\n",
    "\n",
    "$$\n",
    "X_1 = XP\n",
    "$$\n",
    "Тогда наши криптопредсказания:\n",
    "$$\n",
    "a_1 = Xw_1\n",
    "$$\n",
    "\n",
    "\n",
    "Тогда можно записать наш криптовектор так:\n",
    "$$\n",
    "w_1 = (X_1^T X_1)^{-1} X_1^T y\n",
    "$$\n",
    "или\n",
    "\n",
    "$$\n",
    "w_1 = ((XP)^T XP)^{-1} (XP)^T y\n",
    "$$\n",
    "\n",
    "Раскроем все скобки, какие только  можно. Есть правила для матриц: \n",
    "$$\n",
    "(AB)^T = B^TA^T\n",
    "$$\n",
    "\n",
    "Тогда наш криптовектор примет вид:\n",
    "$$\n",
    "w_1 = (P^TX^TXP)^{-1} P^TX^T y\n",
    "$$\n",
    "\n",
    "Применим второе правило, ниже:\n",
    "$$\n",
    "(AB)^{-1} = B^{-1}A^{-1} \n",
    "$$\n",
    "\n",
    "$$\n",
    "w_1 = P^{-1}(X^TX)^{-1}(P^T)^{-1}P^TX^T y\n",
    "$$\n",
    "\n",
    "И третье правило, при умножении матрицы на обратную себе, получается единичная матрица:\n",
    "$$\n",
    "AA^{-1} = A^{-1}A = E\n",
    "$$\n",
    "\n",
    "Применим это правило к криптовектору для **P** матриц. Получим \n",
    "\n",
    "$$\n",
    "w_1 = P^{-1}(X^TX)^{-1}EX^T y \n",
    "$$\n",
    "\n",
    "или\n",
    "\n",
    "$$\n",
    "w_1 = P^{-1}(X^TX)^{-1}X^T y \n",
    "$$\n",
    "\n",
    "или\n",
    "$$\n",
    "w_1 = P^{-1}w\n",
    "$$\n",
    "Криптовектор весов линейной регрессии оказался равен произведению обратной матрицы **P** на вектор предсказаний **w**\n",
    "\n",
    "\n",
    "$$\n",
    "a_1 = XPP^{-1}w\n",
    "$$\n",
    "\n",
    "Снова сократим то, что можно сократить, а именно P матрицы:\n",
    "$$\n",
    "a_1 = Xw = a\n",
    "$$\n",
    "\n",
    "Можно шифровать"
   ]
  },
  {
   "cell_type": "markdown",
   "metadata": {},
   "source": [
    "### Вывод\n",
    "\n",
    "При умножении признаков на обратимую матрицу  **P** -  качество нашей линейной регрессии не пострадает. Можно шифровать"
   ]
  },
  {
   "cell_type": "markdown",
   "metadata": {},
   "source": [
    "\n",
    "## Алгоритм преобразования"
   ]
  },
  {
   "cell_type": "markdown",
   "metadata": {},
   "source": [
    "**Алгоритм**\n",
    "\n",
    "Алгоритм будет как предыдущем пункте:\n",
    "\n",
    "* Возьмем **P** матрицу, которая должна быть квадратная и обратимая. В обратимости надо убедиться. Размерность матрицы P будет по числу признаковнашей матрицы X, то есть 4х4, Целевой признак исключен из размерности.\n",
    "* Преобразуем признаки: перемножим матрицу с признаками **X** на матрицу **P**\n",
    "* Найдем метрику R2 "
   ]
  },
  {
   "cell_type": "markdown",
   "metadata": {},
   "source": [
    "**Обоснование**\n",
    "Теоретическое обоснование такого метода было сделано выше. Сейчас реализуем его в коде\n",
    "..."
   ]
  },
  {
   "cell_type": "code",
   "execution_count": 10,
   "metadata": {},
   "outputs": [],
   "source": [
    "# подготовим нешифрованные признаки\n",
    "\n",
    "features = data.drop('Страховые выплаты', axis=1)\n",
    "target = data['Страховые выплаты']\n"
   ]
  },
  {
   "cell_type": "code",
   "execution_count": 11,
   "metadata": {},
   "outputs": [],
   "source": [
    "# подготовим квадратную матрицу P поразмерам матрицы features\n",
    "# \n",
    "np.random.seed(0)\n",
    "P = np.random.normal(size=(features.shape[1], features.shape[1]))"
   ]
  },
  {
   "cell_type": "code",
   "execution_count": 12,
   "metadata": {},
   "outputs": [
    {
     "data": {
      "text/plain": [
       "array([[ 1.76405235,  0.40015721,  0.97873798,  2.2408932 ],\n",
       "       [ 1.86755799, -0.97727788,  0.95008842, -0.15135721],\n",
       "       [-0.10321885,  0.4105985 ,  0.14404357,  1.45427351],\n",
       "       [ 0.76103773,  0.12167502,  0.44386323,  0.33367433]])"
      ]
     },
     "execution_count": 12,
     "metadata": {},
     "output_type": "execute_result"
    }
   ],
   "source": [
    "P"
   ]
  },
  {
   "cell_type": "code",
   "execution_count": 13,
   "metadata": {},
   "outputs": [
    {
     "name": "stdout",
     "output_type": "stream",
     "text": [
      "Матрица P обратима: \n",
      " [[ 2.11085143 -0.59820592 -2.74511783 -2.48320948]\n",
      " [ 0.02821503 -1.00893094 -0.68038028  2.31819805]\n",
      " [-4.03395824  1.21012513  4.73060099  7.02254523]\n",
      " [ 0.54141147  0.12254136  0.2163297  -1.52633955]]\n"
     ]
    }
   ],
   "source": [
    "# Проверим на обратимость\n",
    "try:\n",
    "    np.linalg.inv(P)\n",
    "    print('Матрица P обратима: \\n', np.linalg.inv(P))\n",
    "except:\n",
    "    print('Мартица Р необратима, надо выбрать другую')"
   ]
  },
  {
   "cell_type": "code",
   "execution_count": 14,
   "metadata": {},
   "outputs": [
    {
     "data": {
      "text/plain": [
       "0.2827659277931275"
      ]
     },
     "execution_count": 14,
     "metadata": {},
     "output_type": "execute_result"
    }
   ],
   "source": [
    "np.linalg.det(P)"
   ]
  },
  {
   "cell_type": "code",
   "execution_count": 15,
   "metadata": {},
   "outputs": [
    {
     "name": "stdout",
     "output_type": "stream",
     "text": [
      "Матрица P обратима: \n",
      "Детерминант: 0.2827659277931275\n"
     ]
    }
   ],
   "source": [
    "if np.linalg.det(P) != 0:\n",
    "    print('Матрица P обратима: \\nДетерминант:', np.linalg.det(P))\n",
    "else:\n",
    "    print('Мартица Р необратима, надо выбрать другую')    \n"
   ]
  },
  {
   "cell_type": "code",
   "execution_count": 16,
   "metadata": {},
   "outputs": [
    {
     "data": {
      "text/html": [
       "<div>\n",
       "<style scoped>\n",
       "    .dataframe tbody tr th:only-of-type {\n",
       "        vertical-align: middle;\n",
       "    }\n",
       "\n",
       "    .dataframe tbody tr th {\n",
       "        vertical-align: top;\n",
       "    }\n",
       "\n",
       "    .dataframe thead th {\n",
       "        text-align: right;\n",
       "    }\n",
       "</style>\n",
       "<table border=\"1\" class=\"dataframe\">\n",
       "  <thead>\n",
       "    <tr style=\"text-align: right;\">\n",
       "      <th></th>\n",
       "      <th>0</th>\n",
       "      <th>1</th>\n",
       "      <th>2</th>\n",
       "      <th>3</th>\n",
       "    </tr>\n",
       "  </thead>\n",
       "  <tbody>\n",
       "    <tr>\n",
       "      <th>0</th>\n",
       "      <td>-5040.560081</td>\n",
       "      <td>20326.139135</td>\n",
       "      <td>7184.937356</td>\n",
       "      <td>72128.334867</td>\n",
       "    </tr>\n",
       "    <tr>\n",
       "      <th>1</th>\n",
       "      <td>-3835.647663</td>\n",
       "      <td>15557.909966</td>\n",
       "      <td>5517.803635</td>\n",
       "      <td>55255.764507</td>\n",
       "    </tr>\n",
       "    <tr>\n",
       "      <th>2</th>\n",
       "      <td>-2113.436706</td>\n",
       "      <td>8594.227482</td>\n",
       "      <td>3052.467558</td>\n",
       "      <td>30535.354287</td>\n",
       "    </tr>\n",
       "    <tr>\n",
       "      <th>3</th>\n",
       "      <td>-4263.485327</td>\n",
       "      <td>17101.678045</td>\n",
       "      <td>6027.456501</td>\n",
       "      <td>60640.694088</td>\n",
       "    </tr>\n",
       "    <tr>\n",
       "      <th>4</th>\n",
       "      <td>-2639.956356</td>\n",
       "      <td>10689.657277</td>\n",
       "      <td>3787.118421</td>\n",
       "      <td>37954.541423</td>\n",
       "    </tr>\n",
       "    <tr>\n",
       "      <th>...</th>\n",
       "      <td>...</td>\n",
       "      <td>...</td>\n",
       "      <td>...</td>\n",
       "      <td>...</td>\n",
       "    </tr>\n",
       "    <tr>\n",
       "      <th>4995</th>\n",
       "      <td>-3631.099310</td>\n",
       "      <td>14631.246089</td>\n",
       "      <td>5169.845693</td>\n",
       "      <td>51913.993545</td>\n",
       "    </tr>\n",
       "    <tr>\n",
       "      <th>4996</th>\n",
       "      <td>-5344.409825</td>\n",
       "      <td>21482.255729</td>\n",
       "      <td>7580.629998</td>\n",
       "      <td>76199.119294</td>\n",
       "    </tr>\n",
       "    <tr>\n",
       "      <th>4997</th>\n",
       "      <td>-3460.245841</td>\n",
       "      <td>13899.987008</td>\n",
       "      <td>4902.966557</td>\n",
       "      <td>49297.512091</td>\n",
       "    </tr>\n",
       "    <tr>\n",
       "      <th>4998</th>\n",
       "      <td>-3330.123012</td>\n",
       "      <td>13405.836082</td>\n",
       "      <td>4733.437050</td>\n",
       "      <td>47554.655735</td>\n",
       "    </tr>\n",
       "    <tr>\n",
       "      <th>4999</th>\n",
       "      <td>-4135.868669</td>\n",
       "      <td>16643.457230</td>\n",
       "      <td>5876.194066</td>\n",
       "      <td>59041.840948</td>\n",
       "    </tr>\n",
       "  </tbody>\n",
       "</table>\n",
       "<p>5000 rows × 4 columns</p>\n",
       "</div>"
      ],
      "text/plain": [
       "                0             1            2             3\n",
       "0    -5040.560081  20326.139135  7184.937356  72128.334867\n",
       "1    -3835.647663  15557.909966  5517.803635  55255.764507\n",
       "2    -2113.436706   8594.227482  3052.467558  30535.354287\n",
       "3    -4263.485327  17101.678045  6027.456501  60640.694088\n",
       "4    -2639.956356  10689.657277  3787.118421  37954.541423\n",
       "...           ...           ...          ...           ...\n",
       "4995 -3631.099310  14631.246089  5169.845693  51913.993545\n",
       "4996 -5344.409825  21482.255729  7580.629998  76199.119294\n",
       "4997 -3460.245841  13899.987008  4902.966557  49297.512091\n",
       "4998 -3330.123012  13405.836082  4733.437050  47554.655735\n",
       "4999 -4135.868669  16643.457230  5876.194066  59041.840948\n",
       "\n",
       "[5000 rows x 4 columns]"
      ]
     },
     "execution_count": 16,
     "metadata": {},
     "output_type": "execute_result"
    }
   ],
   "source": [
    "#Зашифроуем признаки с помощью матрицы P, перемножив ее с матрицей features\n",
    "X_crypto = features @ P\n",
    "X_crypto"
   ]
  },
  {
   "cell_type": "code",
   "execution_count": 17,
   "metadata": {},
   "outputs": [],
   "source": [
    "#Обучим линейную регрессию на зашифрованной матрице\n",
    "\n",
    "model_crypto = LinearRegression()\n",
    "model_crypto.fit(X_crypto, target)\n",
    "prediction_crypto = model_crypto.predict(X_crypto)\n"
   ]
  },
  {
   "cell_type": "code",
   "execution_count": 18,
   "metadata": {},
   "outputs": [
    {
     "data": {
      "text/plain": [
       "0.424945502866682"
      ]
     },
     "execution_count": 18,
     "metadata": {},
     "output_type": "execute_result"
    }
   ],
   "source": [
    "#Посмотрим метрику R2\n",
    "R2_crypto = r2_score(target, prediction_crypto)\n",
    "R2_crypto"
   ]
  },
  {
   "cell_type": "markdown",
   "metadata": {},
   "source": [
    "## Проверка алгоритма"
   ]
  },
  {
   "cell_type": "code",
   "execution_count": 19,
   "metadata": {},
   "outputs": [],
   "source": [
    "# Для проверки обучим линейную регрессию на незашиврованной матрице и посмотрим метрику R2\n",
    "model = LinearRegression()\n",
    "model.fit(features, target)\n",
    "prediction = model.predict(features)"
   ]
  },
  {
   "cell_type": "code",
   "execution_count": 20,
   "metadata": {},
   "outputs": [
    {
     "data": {
      "text/plain": [
       "0.4249455028666801"
      ]
     },
     "execution_count": 20,
     "metadata": {},
     "output_type": "execute_result"
    }
   ],
   "source": [
    "#Посмотрим метрику R2\n",
    "R2 = r2_score(target, prediction)\n",
    "R2"
   ]
  },
  {
   "cell_type": "code",
   "execution_count": 21,
   "metadata": {},
   "outputs": [
    {
     "data": {
      "text/plain": [
       "1.887379141862766e-15"
      ]
     },
     "execution_count": 21,
     "metadata": {},
     "output_type": "execute_result"
    }
   ],
   "source": [
    "# разница между метриками крайне незначительная\n",
    "R2_crypto - R2"
   ]
  },
  {
   "cell_type": "code",
   "execution_count": 22,
   "metadata": {},
   "outputs": [],
   "source": [
    "# Попробуем восстановить исходную матрицу из зашифрованной\n",
    "X_uncrip = np.round(X_crypto @ np.linalg.inv(P))\n"
   ]
  },
  {
   "cell_type": "code",
   "execution_count": 23,
   "metadata": {},
   "outputs": [
    {
     "name": "stdout",
     "output_type": "stream",
     "text": [
      "<class 'pandas.core.frame.DataFrame'>\n",
      "RangeIndex: 5000 entries, 0 to 4999\n",
      "Data columns (total 4 columns):\n",
      " #   Column       Non-Null Count  Dtype  \n",
      "---  ------       --------------  -----  \n",
      " 0   Пол          5000 non-null   int64  \n",
      " 1   Возраст      5000 non-null   float64\n",
      " 2   Зарплата     5000 non-null   float64\n",
      " 3   Члены семьи  5000 non-null   int64  \n",
      "dtypes: float64(2), int64(2)\n",
      "memory usage: 156.4 KB\n",
      "\n",
      "<class 'pandas.core.frame.DataFrame'>\n",
      "RangeIndex: 5000 entries, 0 to 4999\n",
      "Data columns (total 4 columns):\n",
      " #   Column  Non-Null Count  Dtype  \n",
      "---  ------  --------------  -----  \n",
      " 0   0       5000 non-null   float64\n",
      " 1   1       5000 non-null   float64\n",
      " 2   2       5000 non-null   float64\n",
      " 3   3       5000 non-null   float64\n",
      "dtypes: float64(4)\n",
      "memory usage: 156.4 KB\n",
      "      Пол  Возраст  Зарплата  Члены семьи\n",
      "0       1     41.0   49600.0            1\n",
      "1       0     46.0   38000.0            1\n",
      "2       0     29.0   21000.0            0\n",
      "3       0     21.0   41700.0            2\n",
      "4       1     28.0   26100.0            0\n",
      "...   ...      ...       ...          ...\n",
      "4995    0     28.0   35700.0            2\n",
      "4996    0     34.0   52400.0            1\n",
      "4997    0     20.0   33900.0            2\n",
      "4998    1     22.0   32700.0            3\n",
      "4999    1     28.0   40600.0            1\n",
      "\n",
      "[5000 rows x 4 columns]             0     1        2    3\n",
      "0     1.0  41.0  49600.0  1.0\n",
      "1     0.0  46.0  38000.0  1.0\n",
      "2     0.0  29.0  21000.0 -0.0\n",
      "3     0.0  21.0  41700.0  2.0\n",
      "4     1.0  28.0  26100.0  0.0\n",
      "...   ...   ...      ...  ...\n",
      "4995  0.0  28.0  35700.0  2.0\n",
      "4996  0.0  34.0  52400.0  1.0\n",
      "4997  0.0  20.0  33900.0  2.0\n",
      "4998  1.0  22.0  32700.0  3.0\n",
      "4999  1.0  28.0  40600.0  1.0\n",
      "\n",
      "[5000 rows x 4 columns]\n"
     ]
    }
   ],
   "source": [
    "# посмотрим, что получилось\n",
    "features.info()\n",
    "print()\n",
    "X_uncrip.info()\n",
    "print(features, '   ', X_uncrip)"
   ]
  },
  {
   "cell_type": "code",
   "execution_count": 24,
   "metadata": {},
   "outputs": [
    {
     "data": {
      "text/html": [
       "<div>\n",
       "<style scoped>\n",
       "    .dataframe tbody tr th:only-of-type {\n",
       "        vertical-align: middle;\n",
       "    }\n",
       "\n",
       "    .dataframe tbody tr th {\n",
       "        vertical-align: top;\n",
       "    }\n",
       "\n",
       "    .dataframe thead th {\n",
       "        text-align: right;\n",
       "    }\n",
       "</style>\n",
       "<table border=\"1\" class=\"dataframe\">\n",
       "  <thead>\n",
       "    <tr style=\"text-align: right;\">\n",
       "      <th></th>\n",
       "      <th>0</th>\n",
       "      <th>1</th>\n",
       "      <th>2</th>\n",
       "      <th>3</th>\n",
       "    </tr>\n",
       "  </thead>\n",
       "  <tbody>\n",
       "    <tr>\n",
       "      <th>count</th>\n",
       "      <td>5000.0</td>\n",
       "      <td>5000.0</td>\n",
       "      <td>5000.0</td>\n",
       "      <td>5000.0</td>\n",
       "    </tr>\n",
       "    <tr>\n",
       "      <th>mean</th>\n",
       "      <td>0.0</td>\n",
       "      <td>0.0</td>\n",
       "      <td>0.0</td>\n",
       "      <td>0.0</td>\n",
       "    </tr>\n",
       "    <tr>\n",
       "      <th>std</th>\n",
       "      <td>0.0</td>\n",
       "      <td>0.0</td>\n",
       "      <td>0.0</td>\n",
       "      <td>0.0</td>\n",
       "    </tr>\n",
       "    <tr>\n",
       "      <th>min</th>\n",
       "      <td>0.0</td>\n",
       "      <td>0.0</td>\n",
       "      <td>0.0</td>\n",
       "      <td>0.0</td>\n",
       "    </tr>\n",
       "    <tr>\n",
       "      <th>25%</th>\n",
       "      <td>0.0</td>\n",
       "      <td>0.0</td>\n",
       "      <td>0.0</td>\n",
       "      <td>0.0</td>\n",
       "    </tr>\n",
       "    <tr>\n",
       "      <th>50%</th>\n",
       "      <td>0.0</td>\n",
       "      <td>0.0</td>\n",
       "      <td>0.0</td>\n",
       "      <td>0.0</td>\n",
       "    </tr>\n",
       "    <tr>\n",
       "      <th>75%</th>\n",
       "      <td>0.0</td>\n",
       "      <td>0.0</td>\n",
       "      <td>0.0</td>\n",
       "      <td>0.0</td>\n",
       "    </tr>\n",
       "    <tr>\n",
       "      <th>max</th>\n",
       "      <td>0.0</td>\n",
       "      <td>0.0</td>\n",
       "      <td>0.0</td>\n",
       "      <td>0.0</td>\n",
       "    </tr>\n",
       "  </tbody>\n",
       "</table>\n",
       "</div>"
      ],
      "text/plain": [
       "            0       1       2       3\n",
       "count  5000.0  5000.0  5000.0  5000.0\n",
       "mean      0.0     0.0     0.0     0.0\n",
       "std       0.0     0.0     0.0     0.0\n",
       "min       0.0     0.0     0.0     0.0\n",
       "25%       0.0     0.0     0.0     0.0\n",
       "50%       0.0     0.0     0.0     0.0\n",
       "75%       0.0     0.0     0.0     0.0\n",
       "max       0.0     0.0     0.0     0.0"
      ]
     },
     "execution_count": 24,
     "metadata": {},
     "output_type": "execute_result"
    }
   ],
   "source": [
    "# Если вычесть расшифрованную матрицу X_uncrip из непреобразованной матрицы признаков features, то получаем матрицу с нулями, значит матрицы\n",
    "(np.round(features.values) - np.round(X_uncrip)).describe()"
   ]
  },
  {
   "cell_type": "markdown",
   "metadata": {},
   "source": [
    "## Вывод\n",
    "\n",
    "* Были загружены данные. \n",
    "* Теоретически проверили, что качество линейной регрессии не меняется при использовании обратимой квадратной матрицы для шифрования признаков\n",
    "* Сформулировали алгоритм преобразования признаков. Зашифровали признаки. Обучили модель линейной регрессии на преобразованных признаках. Получили метрику качества R2_crypto\n",
    "* Реализовали алгоритм в коде. Для проверки качества на исходных признакакх обучили модель и получили метрику R2.\n",
    "* Метрики качества  R2_crypto и R2 получились одинаковые, то есть качество линейной регрессии не изменяется при использовании обратимой матрицы для шифрования данных .\n",
    "\n",
    "\n"
   ]
  }
 ],
 "metadata": {
  "ExecuteTimeLog": [
   {
    "duration": 416,
    "start_time": "2022-07-17T10:21:39.625Z"
   },
   {
    "duration": 114,
    "start_time": "2022-07-17T10:22:38.230Z"
   },
   {
    "duration": 82,
    "start_time": "2022-07-17T10:22:42.888Z"
   },
   {
    "duration": 27,
    "start_time": "2022-07-17T10:22:50.894Z"
   },
   {
    "duration": 12,
    "start_time": "2022-07-17T10:24:40.594Z"
   },
   {
    "duration": 390,
    "start_time": "2022-08-16T11:49:12.562Z"
   },
   {
    "duration": 89,
    "start_time": "2022-08-16T11:49:13.044Z"
   },
   {
    "duration": 30,
    "start_time": "2022-08-16T11:49:13.509Z"
   },
   {
    "duration": 10,
    "start_time": "2022-08-16T11:49:14.070Z"
   },
   {
    "duration": 73,
    "start_time": "2022-08-16T11:53:10.413Z"
   },
   {
    "duration": 6,
    "start_time": "2022-08-16T11:53:16.160Z"
   },
   {
    "duration": 5,
    "start_time": "2022-08-16T12:00:54.966Z"
   },
   {
    "duration": 9,
    "start_time": "2022-08-16T12:01:05.465Z"
   },
   {
    "duration": 6,
    "start_time": "2022-08-16T12:01:14.929Z"
   },
   {
    "duration": 5,
    "start_time": "2022-08-16T12:01:24.750Z"
   },
   {
    "duration": 5,
    "start_time": "2022-08-16T12:01:37.288Z"
   },
   {
    "duration": 6,
    "start_time": "2022-08-16T12:01:50.163Z"
   },
   {
    "duration": 52,
    "start_time": "2022-08-16T12:02:08.975Z"
   },
   {
    "duration": 6,
    "start_time": "2022-08-16T12:02:14.487Z"
   },
   {
    "duration": 12,
    "start_time": "2022-08-16T12:02:48.207Z"
   },
   {
    "duration": 6,
    "start_time": "2022-08-17T14:56:42.532Z"
   },
   {
    "duration": 3,
    "start_time": "2022-08-17T15:13:36.116Z"
   },
   {
    "duration": 3,
    "start_time": "2022-08-17T15:13:39.026Z"
   },
   {
    "duration": 3,
    "start_time": "2022-08-17T15:13:55.148Z"
   },
   {
    "duration": 3,
    "start_time": "2022-08-17T15:13:57.765Z"
   },
   {
    "duration": 725,
    "start_time": "2022-08-17T16:02:21.823Z"
   },
   {
    "duration": 63,
    "start_time": "2022-08-17T16:10:48.624Z"
   },
   {
    "duration": 4,
    "start_time": "2022-08-17T16:10:52.920Z"
   },
   {
    "duration": 3,
    "start_time": "2022-08-17T16:10:53.245Z"
   },
   {
    "duration": 3,
    "start_time": "2022-08-17T16:10:58.234Z"
   },
   {
    "duration": 5,
    "start_time": "2022-08-17T16:11:03.372Z"
   },
   {
    "duration": 4,
    "start_time": "2022-08-17T16:11:04.632Z"
   },
   {
    "duration": 3,
    "start_time": "2022-08-17T16:11:05.723Z"
   },
   {
    "duration": 5,
    "start_time": "2022-08-17T16:11:05.938Z"
   },
   {
    "duration": 4,
    "start_time": "2022-08-17T16:17:10.715Z"
   },
   {
    "duration": 5,
    "start_time": "2022-08-17T16:17:11.275Z"
   },
   {
    "duration": 5,
    "start_time": "2022-08-17T16:17:12.784Z"
   },
   {
    "duration": 4,
    "start_time": "2022-08-17T16:17:13.044Z"
   },
   {
    "duration": 4,
    "start_time": "2022-08-17T16:17:14.922Z"
   },
   {
    "duration": 4,
    "start_time": "2022-08-17T16:17:15.183Z"
   },
   {
    "duration": 3,
    "start_time": "2022-08-17T16:17:58.604Z"
   },
   {
    "duration": 4,
    "start_time": "2022-08-17T16:17:59.401Z"
   },
   {
    "duration": 3,
    "start_time": "2022-08-17T16:18:00.742Z"
   },
   {
    "duration": 4,
    "start_time": "2022-08-17T16:18:00.925Z"
   },
   {
    "duration": 4,
    "start_time": "2022-08-17T16:18:03.157Z"
   },
   {
    "duration": 4,
    "start_time": "2022-08-17T16:18:03.448Z"
   },
   {
    "duration": 3,
    "start_time": "2022-08-17T16:18:05.657Z"
   },
   {
    "duration": 5,
    "start_time": "2022-08-17T16:18:05.939Z"
   },
   {
    "duration": 3,
    "start_time": "2022-08-17T16:21:56.549Z"
   },
   {
    "duration": 4,
    "start_time": "2022-08-17T16:22:41.682Z"
   },
   {
    "duration": 5,
    "start_time": "2022-08-17T16:23:03.373Z"
   },
   {
    "duration": 5,
    "start_time": "2022-08-17T16:23:22.542Z"
   },
   {
    "duration": 3,
    "start_time": "2022-08-17T16:23:30.421Z"
   },
   {
    "duration": 4,
    "start_time": "2022-08-17T16:23:32.671Z"
   },
   {
    "duration": 7,
    "start_time": "2022-08-17T16:23:34.830Z"
   },
   {
    "duration": 4,
    "start_time": "2022-08-17T16:23:38.920Z"
   },
   {
    "duration": 4,
    "start_time": "2022-08-17T16:23:51.975Z"
   },
   {
    "duration": 15,
    "start_time": "2022-08-17T16:28:32.047Z"
   },
   {
    "duration": 11,
    "start_time": "2022-08-17T16:31:06.764Z"
   },
   {
    "duration": 6,
    "start_time": "2022-08-17T16:31:15.177Z"
   },
   {
    "duration": 6,
    "start_time": "2022-08-17T16:31:17.087Z"
   },
   {
    "duration": 4,
    "start_time": "2022-08-17T16:32:06.696Z"
   },
   {
    "duration": 10,
    "start_time": "2022-08-17T16:34:03.615Z"
   },
   {
    "duration": 15,
    "start_time": "2022-08-17T16:34:25.817Z"
   },
   {
    "duration": 6,
    "start_time": "2022-08-17T16:34:28.135Z"
   },
   {
    "duration": 5,
    "start_time": "2022-08-17T16:35:00.824Z"
   },
   {
    "duration": 9,
    "start_time": "2022-08-17T16:35:25.623Z"
   },
   {
    "duration": 5,
    "start_time": "2022-08-17T16:35:35.224Z"
   },
   {
    "duration": 5,
    "start_time": "2022-08-17T16:35:43.224Z"
   },
   {
    "duration": 4,
    "start_time": "2022-08-17T16:35:46.224Z"
   },
   {
    "duration": 3,
    "start_time": "2022-08-17T16:35:52.968Z"
   },
   {
    "duration": 3,
    "start_time": "2022-08-17T16:36:21.668Z"
   },
   {
    "duration": 3,
    "start_time": "2022-08-17T16:42:19.401Z"
   },
   {
    "duration": 12,
    "start_time": "2022-08-17T16:43:57.081Z"
   },
   {
    "duration": 11,
    "start_time": "2022-08-17T16:44:34.024Z"
   },
   {
    "duration": 11,
    "start_time": "2022-08-17T16:44:37.198Z"
   },
   {
    "duration": 6,
    "start_time": "2022-08-17T16:45:22.663Z"
   },
   {
    "duration": 13,
    "start_time": "2022-08-17T16:45:30.676Z"
   },
   {
    "duration": 19,
    "start_time": "2022-08-17T16:46:04.445Z"
   },
   {
    "duration": 18,
    "start_time": "2022-08-17T16:46:16.676Z"
   },
   {
    "duration": 18,
    "start_time": "2022-08-17T16:46:33.914Z"
   },
   {
    "duration": 15,
    "start_time": "2022-08-17T16:46:51.721Z"
   },
   {
    "duration": 14,
    "start_time": "2022-08-17T16:47:22.673Z"
   },
   {
    "duration": 10,
    "start_time": "2022-08-17T16:47:36.192Z"
   },
   {
    "duration": 12,
    "start_time": "2022-08-17T16:47:44.158Z"
   },
   {
    "duration": 11,
    "start_time": "2022-08-17T16:48:10.440Z"
   },
   {
    "duration": 14,
    "start_time": "2022-08-17T16:48:23.224Z"
   },
   {
    "duration": 15,
    "start_time": "2022-08-17T16:51:07.897Z"
   },
   {
    "duration": 14,
    "start_time": "2022-08-17T16:51:12.651Z"
   },
   {
    "duration": 10,
    "start_time": "2022-08-17T16:51:19.961Z"
   },
   {
    "duration": 8,
    "start_time": "2022-08-17T16:51:24.402Z"
   },
   {
    "duration": 12,
    "start_time": "2022-08-17T16:51:35.885Z"
   },
   {
    "duration": 7,
    "start_time": "2022-08-17T16:51:41.286Z"
   },
   {
    "duration": 14,
    "start_time": "2022-08-17T16:51:44.703Z"
   },
   {
    "duration": 7,
    "start_time": "2022-08-17T16:52:22.016Z"
   },
   {
    "duration": 18,
    "start_time": "2022-08-17T16:52:22.642Z"
   },
   {
    "duration": 7,
    "start_time": "2022-08-17T16:52:46.131Z"
   },
   {
    "duration": 14,
    "start_time": "2022-08-17T16:52:46.820Z"
   },
   {
    "duration": 11,
    "start_time": "2022-08-17T16:52:58.031Z"
   },
   {
    "duration": 23,
    "start_time": "2022-08-17T16:54:13.164Z"
   },
   {
    "duration": 13,
    "start_time": "2022-08-17T16:54:51.632Z"
   },
   {
    "duration": 15,
    "start_time": "2022-08-17T16:55:11.597Z"
   },
   {
    "duration": 3,
    "start_time": "2022-08-17T16:56:10.116Z"
   },
   {
    "duration": 2,
    "start_time": "2022-08-17T16:56:10.731Z"
   },
   {
    "duration": 4,
    "start_time": "2022-08-17T16:56:11.344Z"
   },
   {
    "duration": 4,
    "start_time": "2022-08-17T16:56:11.968Z"
   },
   {
    "duration": 4,
    "start_time": "2022-08-17T16:56:12.736Z"
   },
   {
    "duration": 4,
    "start_time": "2022-08-17T16:56:13.349Z"
   },
   {
    "duration": 5,
    "start_time": "2022-08-17T16:56:14.416Z"
   },
   {
    "duration": 4,
    "start_time": "2022-08-17T16:56:16.193Z"
   },
   {
    "duration": 4,
    "start_time": "2022-08-17T16:56:16.554Z"
   },
   {
    "duration": 3,
    "start_time": "2022-08-17T16:56:16.878Z"
   },
   {
    "duration": 4,
    "start_time": "2022-08-17T16:56:19.088Z"
   },
   {
    "duration": 8,
    "start_time": "2022-08-17T16:56:20.000Z"
   },
   {
    "duration": 8,
    "start_time": "2022-08-17T16:56:39.733Z"
   },
   {
    "duration": 13,
    "start_time": "2022-08-17T16:56:57.391Z"
   },
   {
    "duration": 4,
    "start_time": "2022-08-17T16:56:57.767Z"
   },
   {
    "duration": 3,
    "start_time": "2022-08-17T16:56:58.084Z"
   },
   {
    "duration": 4,
    "start_time": "2022-08-17T16:56:58.537Z"
   },
   {
    "duration": 7,
    "start_time": "2022-08-17T16:56:58.821Z"
   },
   {
    "duration": 8,
    "start_time": "2022-08-17T16:56:59.360Z"
   },
   {
    "duration": 4,
    "start_time": "2022-08-17T16:57:24.383Z"
   },
   {
    "duration": 3,
    "start_time": "2022-08-17T16:57:24.659Z"
   },
   {
    "duration": 5,
    "start_time": "2022-08-17T16:57:26.811Z"
   },
   {
    "duration": 4,
    "start_time": "2022-08-17T16:57:27.378Z"
   },
   {
    "duration": 12,
    "start_time": "2022-08-17T16:57:28.381Z"
   },
   {
    "duration": 17,
    "start_time": "2022-08-17T16:57:30.209Z"
   },
   {
    "duration": 5,
    "start_time": "2022-08-17T16:57:30.939Z"
   },
   {
    "duration": 7,
    "start_time": "2022-08-17T16:57:34.977Z"
   },
   {
    "duration": 5,
    "start_time": "2022-08-17T16:57:36.152Z"
   },
   {
    "duration": 3,
    "start_time": "2022-08-17T16:57:36.933Z"
   },
   {
    "duration": 6,
    "start_time": "2022-08-17T16:57:37.363Z"
   },
   {
    "duration": 15,
    "start_time": "2022-08-17T16:57:38.529Z"
   },
   {
    "duration": 15,
    "start_time": "2022-08-17T16:57:57.825Z"
   },
   {
    "duration": 16,
    "start_time": "2022-08-17T16:58:02.635Z"
   },
   {
    "duration": 18,
    "start_time": "2022-08-17T16:58:15.461Z"
   },
   {
    "duration": 20,
    "start_time": "2022-08-17T16:58:32.820Z"
   },
   {
    "duration": 21,
    "start_time": "2022-08-17T16:58:44.785Z"
   },
   {
    "duration": 21,
    "start_time": "2022-08-17T16:58:55.520Z"
   },
   {
    "duration": 21,
    "start_time": "2022-08-17T16:59:12.845Z"
   },
   {
    "duration": 6,
    "start_time": "2022-08-17T16:59:40.990Z"
   },
   {
    "duration": 20,
    "start_time": "2022-08-17T16:59:42.365Z"
   },
   {
    "duration": 12,
    "start_time": "2022-08-17T17:00:02.444Z"
   },
   {
    "duration": 19,
    "start_time": "2022-08-17T17:03:21.193Z"
   },
   {
    "duration": 5,
    "start_time": "2022-08-17T17:03:38.943Z"
   },
   {
    "duration": 20,
    "start_time": "2022-08-17T17:03:39.620Z"
   },
   {
    "duration": 21,
    "start_time": "2022-08-17T17:04:00.742Z"
   },
   {
    "duration": 84,
    "start_time": "2022-08-17T17:04:23.629Z"
   },
   {
    "duration": 21,
    "start_time": "2022-08-17T17:04:28.415Z"
   },
   {
    "duration": 20,
    "start_time": "2022-08-17T17:06:43.742Z"
   },
   {
    "duration": 1030,
    "start_time": "2022-08-17T17:18:59.019Z"
   },
   {
    "duration": 75,
    "start_time": "2022-08-17T17:19:00.051Z"
   },
   {
    "duration": 20,
    "start_time": "2022-08-17T17:19:00.128Z"
   },
   {
    "duration": 12,
    "start_time": "2022-08-17T17:19:00.150Z"
   },
   {
    "duration": 6,
    "start_time": "2022-08-17T17:19:00.165Z"
   },
   {
    "duration": 14,
    "start_time": "2022-08-17T17:19:00.173Z"
   },
   {
    "duration": 11,
    "start_time": "2022-08-17T17:19:00.189Z"
   },
   {
    "duration": 10,
    "start_time": "2022-08-17T17:19:00.212Z"
   },
   {
    "duration": 10,
    "start_time": "2022-08-17T17:19:00.224Z"
   },
   {
    "duration": 8,
    "start_time": "2022-08-17T17:19:00.236Z"
   },
   {
    "duration": 21,
    "start_time": "2022-08-17T17:19:00.246Z"
   },
   {
    "duration": 47,
    "start_time": "2022-08-17T17:19:00.269Z"
   },
   {
    "duration": 99,
    "start_time": "2022-08-17T17:19:00.317Z"
   },
   {
    "duration": 198,
    "start_time": "2022-08-17T17:19:00.419Z"
   },
   {
    "duration": 13,
    "start_time": "2022-08-17T17:19:00.618Z"
   },
   {
    "duration": 189,
    "start_time": "2022-08-17T17:19:00.635Z"
   },
   {
    "duration": 26,
    "start_time": "2022-08-17T17:19:00.825Z"
   },
   {
    "duration": 17,
    "start_time": "2022-08-17T17:19:00.852Z"
   },
   {
    "duration": 57,
    "start_time": "2022-08-17T17:19:00.871Z"
   },
   {
    "duration": 101,
    "start_time": "2022-08-17T17:19:00.931Z"
   },
   {
    "duration": 1098,
    "start_time": "2022-08-17T19:29:26.675Z"
   },
   {
    "duration": 87,
    "start_time": "2022-08-17T19:29:27.775Z"
   },
   {
    "duration": 18,
    "start_time": "2022-08-17T19:29:27.863Z"
   },
   {
    "duration": 9,
    "start_time": "2022-08-17T19:29:27.883Z"
   },
   {
    "duration": 7,
    "start_time": "2022-08-17T19:29:27.894Z"
   },
   {
    "duration": 10,
    "start_time": "2022-08-17T19:29:27.903Z"
   },
   {
    "duration": 8,
    "start_time": "2022-08-17T19:29:27.915Z"
   },
   {
    "duration": 3,
    "start_time": "2022-08-17T19:29:27.924Z"
   },
   {
    "duration": 5,
    "start_time": "2022-08-17T19:29:27.929Z"
   },
   {
    "duration": 5,
    "start_time": "2022-08-17T19:29:27.935Z"
   },
   {
    "duration": 5,
    "start_time": "2022-08-17T19:29:27.942Z"
   },
   {
    "duration": 63,
    "start_time": "2022-08-17T19:29:27.949Z"
   },
   {
    "duration": 93,
    "start_time": "2022-08-17T19:29:28.013Z"
   },
   {
    "duration": 101,
    "start_time": "2022-08-17T19:29:28.108Z"
   },
   {
    "duration": 8,
    "start_time": "2022-08-17T19:29:28.211Z"
   },
   {
    "duration": 89,
    "start_time": "2022-08-17T19:29:28.220Z"
   },
   {
    "duration": 97,
    "start_time": "2022-08-17T19:29:28.311Z"
   },
   {
    "duration": 12,
    "start_time": "2022-08-17T19:29:28.409Z"
   },
   {
    "duration": 98,
    "start_time": "2022-08-17T19:29:28.423Z"
   },
   {
    "duration": 100,
    "start_time": "2022-08-17T19:29:28.523Z"
   },
   {
    "duration": 28,
    "start_time": "2022-08-17T19:29:34.130Z"
   },
   {
    "duration": 11,
    "start_time": "2022-08-17T19:29:34.543Z"
   },
   {
    "duration": 5,
    "start_time": "2022-08-17T19:29:39.087Z"
   },
   {
    "duration": 5,
    "start_time": "2022-08-17T19:29:41.432Z"
   },
   {
    "duration": 55,
    "start_time": "2022-08-18T07:22:42.381Z"
   },
   {
    "duration": 1246,
    "start_time": "2022-08-18T07:22:49.132Z"
   },
   {
    "duration": 3,
    "start_time": "2022-08-18T07:22:52.253Z"
   },
   {
    "duration": 3,
    "start_time": "2022-08-18T07:22:54.464Z"
   },
   {
    "duration": 136,
    "start_time": "2022-08-18T07:22:54.903Z"
   },
   {
    "duration": 21,
    "start_time": "2022-08-18T07:22:55.220Z"
   },
   {
    "duration": 12,
    "start_time": "2022-08-18T07:22:55.493Z"
   },
   {
    "duration": 7,
    "start_time": "2022-08-18T07:22:55.737Z"
   },
   {
    "duration": 7,
    "start_time": "2022-08-18T07:22:56.408Z"
   },
   {
    "duration": 7,
    "start_time": "2022-08-18T07:22:57.026Z"
   },
   {
    "duration": 2646,
    "start_time": "2022-08-18T07:22:58.366Z"
   },
   {
    "duration": 12,
    "start_time": "2022-08-18T07:24:46.488Z"
   },
   {
    "duration": 50,
    "start_time": "2022-08-18T16:18:09.743Z"
   },
   {
    "duration": 983,
    "start_time": "2022-08-18T16:24:33.646Z"
   },
   {
    "duration": 78,
    "start_time": "2022-08-18T16:24:34.632Z"
   },
   {
    "duration": 18,
    "start_time": "2022-08-18T16:24:34.711Z"
   },
   {
    "duration": 11,
    "start_time": "2022-08-18T16:24:34.731Z"
   },
   {
    "duration": 10,
    "start_time": "2022-08-18T16:24:34.743Z"
   },
   {
    "duration": 7,
    "start_time": "2022-08-18T16:24:34.858Z"
   },
   {
    "duration": 6,
    "start_time": "2022-08-18T16:24:35.804Z"
   },
   {
    "duration": 10,
    "start_time": "2022-08-18T16:24:36.648Z"
   },
   {
    "duration": 2172,
    "start_time": "2022-08-18T16:24:36.849Z"
   },
   {
    "duration": 4,
    "start_time": "2022-08-18T16:24:40.525Z"
   },
   {
    "duration": 4,
    "start_time": "2022-08-18T16:24:40.763Z"
   },
   {
    "duration": 5,
    "start_time": "2022-08-18T16:24:40.993Z"
   },
   {
    "duration": 9,
    "start_time": "2022-08-18T16:24:41.224Z"
   },
   {
    "duration": 83,
    "start_time": "2022-08-18T16:24:46.417Z"
   },
   {
    "duration": 84,
    "start_time": "2022-08-18T16:25:03.720Z"
   },
   {
    "duration": 95,
    "start_time": "2022-08-18T16:25:32.213Z"
   },
   {
    "duration": 93,
    "start_time": "2022-08-18T16:25:41.815Z"
   },
   {
    "duration": 11,
    "start_time": "2022-08-18T16:25:49.914Z"
   },
   {
    "duration": 4,
    "start_time": "2022-08-18T16:25:54.889Z"
   },
   {
    "duration": 4,
    "start_time": "2022-08-18T16:26:09.060Z"
   },
   {
    "duration": 9,
    "start_time": "2022-08-18T16:26:49.039Z"
   },
   {
    "duration": 5,
    "start_time": "2022-08-18T16:27:05.001Z"
   },
   {
    "duration": 3,
    "start_time": "2022-08-18T16:27:42.345Z"
   },
   {
    "duration": 9,
    "start_time": "2022-08-18T16:28:18.831Z"
   },
   {
    "duration": 8,
    "start_time": "2022-08-18T16:28:25.545Z"
   },
   {
    "duration": 8,
    "start_time": "2022-08-18T16:28:33.907Z"
   },
   {
    "duration": 4,
    "start_time": "2022-08-18T16:28:38.307Z"
   },
   {
    "duration": 5,
    "start_time": "2022-08-18T16:28:54.945Z"
   },
   {
    "duration": 4,
    "start_time": "2022-08-18T16:29:28.907Z"
   },
   {
    "duration": 47,
    "start_time": "2022-08-18T16:34:42.316Z"
   },
   {
    "duration": 1747,
    "start_time": "2022-08-18T16:37:59.201Z"
   },
   {
    "duration": 10,
    "start_time": "2022-08-18T16:38:19.630Z"
   },
   {
    "duration": 1032,
    "start_time": "2022-08-18T16:39:34.744Z"
   },
   {
    "duration": 29,
    "start_time": "2022-08-18T16:39:35.777Z"
   },
   {
    "duration": 18,
    "start_time": "2022-08-18T16:39:35.807Z"
   },
   {
    "duration": 10,
    "start_time": "2022-08-18T16:39:35.827Z"
   },
   {
    "duration": 5,
    "start_time": "2022-08-18T16:39:35.838Z"
   },
   {
    "duration": 8,
    "start_time": "2022-08-18T16:39:35.844Z"
   },
   {
    "duration": 9,
    "start_time": "2022-08-18T16:39:35.853Z"
   },
   {
    "duration": 12,
    "start_time": "2022-08-18T16:39:35.864Z"
   },
   {
    "duration": 2018,
    "start_time": "2022-08-18T16:39:35.899Z"
   },
   {
    "duration": 4,
    "start_time": "2022-08-18T16:39:37.920Z"
   },
   {
    "duration": 6,
    "start_time": "2022-08-18T16:39:37.925Z"
   },
   {
    "duration": 9,
    "start_time": "2022-08-18T16:39:37.932Z"
   },
   {
    "duration": 7,
    "start_time": "2022-08-18T16:39:37.943Z"
   },
   {
    "duration": 45,
    "start_time": "2022-08-18T16:39:37.956Z"
   },
   {
    "duration": 7,
    "start_time": "2022-08-18T16:39:38.003Z"
   },
   {
    "duration": 92,
    "start_time": "2022-08-18T16:39:38.012Z"
   },
   {
    "duration": 10,
    "start_time": "2022-08-18T16:39:38.105Z"
   },
   {
    "duration": 187,
    "start_time": "2022-08-18T16:39:38.116Z"
   },
   {
    "duration": 9,
    "start_time": "2022-08-18T16:39:38.304Z"
   },
   {
    "duration": 88,
    "start_time": "2022-08-18T16:39:38.314Z"
   },
   {
    "duration": 97,
    "start_time": "2022-08-18T16:39:38.403Z"
   },
   {
    "duration": 9,
    "start_time": "2022-08-18T16:39:38.501Z"
   },
   {
    "duration": 105,
    "start_time": "2022-08-18T16:39:38.511Z"
   },
   {
    "duration": 101,
    "start_time": "2022-08-18T16:39:38.617Z"
   }
  ],
  "kernelspec": {
   "display_name": "Python 3 (ipykernel)",
   "language": "python",
   "name": "python3"
  },
  "language_info": {
   "codemirror_mode": {
    "name": "ipython",
    "version": 3
   },
   "file_extension": ".py",
   "mimetype": "text/x-python",
   "name": "python",
   "nbconvert_exporter": "python",
   "pygments_lexer": "ipython3",
   "version": "3.7.8"
  },
  "toc": {
   "base_numbering": 1,
   "nav_menu": {},
   "number_sections": true,
   "sideBar": true,
   "skip_h1_title": true,
   "title_cell": "Содержание",
   "title_sidebar": "Contents",
   "toc_cell": true,
   "toc_position": {},
   "toc_section_display": true,
   "toc_window_display": true
  }
 },
 "nbformat": 4,
 "nbformat_minor": 2
}
