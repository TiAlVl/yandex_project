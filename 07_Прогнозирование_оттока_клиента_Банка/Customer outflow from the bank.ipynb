{
 "cells": [
  {
   "cell_type": "markdown",
   "metadata": {
    "toc": true
   },
   "source": [
    "<h1>Содержание<span class=\"tocSkip\"></span></h1>\n",
    "<div class=\"toc\"><ul class=\"toc-item\"><li><span><a href=\"#Подготовка-данных\" data-toc-modified-id=\"Подготовка-данных-1\"><span class=\"toc-item-num\">1&nbsp;&nbsp;</span>Подготовка данных</a></span><ul class=\"toc-item\"><li><span><a href=\"#Вывод\" data-toc-modified-id=\"Вывод-1.1\"><span class=\"toc-item-num\">1.1&nbsp;&nbsp;</span>Вывод</a></span></li></ul></li><li><span><a href=\"#Исследование-задачи\" data-toc-modified-id=\"Исследование-задачи-2\"><span class=\"toc-item-num\">2&nbsp;&nbsp;</span>Исследование задачи</a></span><ul class=\"toc-item\"><li><span><a href=\"#Преобразование-категориальных-признаков\" data-toc-modified-id=\"Преобразование-категориальных-признаков-2.1\"><span class=\"toc-item-num\">2.1&nbsp;&nbsp;</span>Преобразование категориальных признаков</a></span></li><li><span><a href=\"#Масштабирование-признаков\" data-toc-modified-id=\"Масштабирование-признаков-2.2\"><span class=\"toc-item-num\">2.2&nbsp;&nbsp;</span>Масштабирование признаков</a></span></li><li><span><a href=\"#обучение-моделей-на-несбалансированном-датасете\" data-toc-modified-id=\"обучение-моделей-на-несбалансированном-датасете-2.3\"><span class=\"toc-item-num\">2.3&nbsp;&nbsp;</span>обучение моделей на несбалансированном датасете</a></span></li><li><span><a href=\"#Вывод\" data-toc-modified-id=\"Вывод-2.4\"><span class=\"toc-item-num\">2.4&nbsp;&nbsp;</span>Вывод</a></span></li></ul></li><li><span><a href=\"#Борьба-с-дисбалансом\" data-toc-modified-id=\"Борьба-с-дисбалансом-3\"><span class=\"toc-item-num\">3&nbsp;&nbsp;</span>Борьба с дисбалансом</a></span><ul class=\"toc-item\"><li><span><a href=\"#Взвешивание-классов\" data-toc-modified-id=\"Взвешивание-классов-3.1\"><span class=\"toc-item-num\">3.1&nbsp;&nbsp;</span>Взвешивание классов</a></span><ul class=\"toc-item\"><li><span><a href=\"#Вывод-Взвешиванине-классов\" data-toc-modified-id=\"Вывод-Взвешиванине-классов-3.1.1\"><span class=\"toc-item-num\">3.1.1&nbsp;&nbsp;</span>Вывод Взвешиванине классов</a></span></li></ul></li><li><span><a href=\"#Увеличение-выборки\" data-toc-modified-id=\"Увеличение-выборки-3.2\"><span class=\"toc-item-num\">3.2&nbsp;&nbsp;</span>Увеличение выборки</a></span><ul class=\"toc-item\"><li><span><a href=\"#Вывод-при-увеличении-выборки-показатели-у-моделей-следующие**\" data-toc-modified-id=\"Вывод-при-увеличении-выборки-показатели-у-моделей-следующие**-3.2.1\"><span class=\"toc-item-num\">3.2.1&nbsp;&nbsp;</span>Вывод при увеличении выборки показатели у моделей следующие**</a></span></li></ul></li><li><span><a href=\"#Вывод\" data-toc-modified-id=\"Вывод-3.3\"><span class=\"toc-item-num\">3.3&nbsp;&nbsp;</span>Вывод</a></span></li></ul></li><li><span><a href=\"#Тестирование-модели\" data-toc-modified-id=\"Тестирование-модели-4\"><span class=\"toc-item-num\">4&nbsp;&nbsp;</span>Тестирование модели</a></span></li><li><span><a href=\"#Вывод\" data-toc-modified-id=\"Вывод-5\"><span class=\"toc-item-num\">5&nbsp;&nbsp;</span>Вывод</a></span></li></ul></div>"
   ]
  },
  {
   "cell_type": "markdown",
   "metadata": {},
   "source": [
    "# Описание проекта"
   ]
  },
  {
   "cell_type": "markdown",
   "metadata": {},
   "source": [
    "Из «Бета-Банка» стали уходить клиенты. Каждый месяц. Немного, но заметно. Банковские маркетологи посчитали: сохранять текущих клиентов дешевле, чем привлекать новых.\n",
    "\n",
    "# Цель проекта\n",
    "\n",
    "Нужно спрогнозировать, уйдёт клиент из банка в ближайшее время или нет. Вам предоставлены исторические данные о поведении клиентов и расторжении договоров с банком. \n"
   ]
  },
  {
   "cell_type": "raw",
   "metadata": {},
   "source": [
    "# План работы\n",
    "\n",
    "- Подготовить данные. Убрать пропуски и дубли, \n",
    "- Исследовать задачу: тренируем модель на несбалансированном датасете. Используем логистическую регрессию, дерево решений и случайный лес для обучения модели.\n",
    "- Дисбаланс класса:  взвешивание классов, либо добавить 1 (увеличение выборки)\n",
    "- Получить улучшенную модель.\n",
    "- Протестировать модель\n",
    "- Написать вывод\n",
    "\n",
    "\n",
    "Постройте модель с предельно большим значением *F1*-меры. Чтобы сдать проект успешно, нужно довести метрику до 0.59. Проверьте *F1*-меру на тестовой выборке самостоятельно.\n",
    "\n",
    "Дополнительно измеряйте *AUC-ROC*, сравнивайте её значение с *F1*-мерой.\n",
    "\n",
    "Источник данных: [https://www.kaggle.com/barelydedicated/bank-customer-churn-modeling](https://www.kaggle.com/barelydedicated/bank-customer-churn-modeling)"
   ]
  },
  {
   "cell_type": "markdown",
   "metadata": {},
   "source": [
    "## Подготовка данных"
   ]
  },
  {
   "cell_type": "code",
   "execution_count": 1,
   "metadata": {},
   "outputs": [],
   "source": [
    "# Импорт модулей\n",
    "\n",
    "import pandas as pd\n",
    "from sklearn.model_selection import train_test_split\n",
    "# логичтическая регрессия\n",
    "from sklearn.linear_model import LogisticRegression\n",
    "# Дерево решений\n",
    "from sklearn.tree import DecisionTreeClassifier\n",
    "# Случайный лес\n",
    "from sklearn.ensemble import RandomForestClassifier\n",
    "# Порядковое кодирование\n",
    "from sklearn.preprocessing import OrdinalEncoder\n",
    "# метрика accuracy_score\n",
    "from sklearn.metrics import accuracy_score\n",
    "\n",
    "# стандартизация\n",
    "from sklearn.preprocessing import StandardScaler\n",
    "# матрица ошибок\n",
    "from sklearn.metrics import confusion_matrix\n",
    "\n",
    "# Полнота \n",
    "from sklearn.metrics import recall_score\n",
    "\n",
    "# точность\n",
    "from sklearn.metrics import precision_score\n",
    "\n",
    "# F-1 мера\n",
    "from sklearn.metrics import f1_score\n",
    "\n",
    "# метрика AUC-ROC\n",
    "from sklearn.metrics import roc_curve\n",
    "from sklearn.metrics import roc_auc_score\n",
    "\n",
    "# перемешивание\n",
    "from sklearn.utils import shuffle\n",
    "\n",
    "pd.options.mode.chained_assignment = None\n",
    "pd.set_option('display.max_columns', None)\n",
    "\n",
    "# для индикации\n",
    "from tqdm import tqdm\n",
    "import os\n",
    "\n",
    "# дял отрисовки графиков\n",
    "import matplotlib.pyplot as plt\n",
    "%matplotlib inline\n",
    "import seaborn as sns"
   ]
  },
  {
   "cell_type": "code",
   "execution_count": 2,
   "metadata": {},
   "outputs": [],
   "source": [
    "data = pd.read_csv('/datasets/Churn.csv')"
   ]
  },
  {
   "cell_type": "code",
   "execution_count": 3,
   "metadata": {},
   "outputs": [
    {
     "name": "stdout",
     "output_type": "stream",
     "text": [
      "<class 'pandas.core.frame.DataFrame'>\n",
      "RangeIndex: 10000 entries, 0 to 9999\n",
      "Data columns (total 14 columns):\n",
      " #   Column           Non-Null Count  Dtype  \n",
      "---  ------           --------------  -----  \n",
      " 0   RowNumber        10000 non-null  int64  \n",
      " 1   CustomerId       10000 non-null  int64  \n",
      " 2   Surname          10000 non-null  object \n",
      " 3   CreditScore      10000 non-null  int64  \n",
      " 4   Geography        10000 non-null  object \n",
      " 5   Gender           10000 non-null  object \n",
      " 6   Age              10000 non-null  int64  \n",
      " 7   Tenure           9091 non-null   float64\n",
      " 8   Balance          10000 non-null  float64\n",
      " 9   NumOfProducts    10000 non-null  int64  \n",
      " 10  HasCrCard        10000 non-null  int64  \n",
      " 11  IsActiveMember   10000 non-null  int64  \n",
      " 12  EstimatedSalary  10000 non-null  float64\n",
      " 13  Exited           10000 non-null  int64  \n",
      "dtypes: float64(3), int64(8), object(3)\n",
      "memory usage: 1.1+ MB\n"
     ]
    }
   ],
   "source": [
    "data.info()"
   ]
  },
  {
   "cell_type": "markdown",
   "metadata": {},
   "source": [
    "**Признаки** \n",
    "\n",
    "* \tRowNumber — индекс строки в данных\n",
    "*\tCustomerId — уникальный идентификатор клиента\n",
    "*\tSurname — фамилия\n",
    "*\tCreditScore — кредитный рейтинг\n",
    "*\tGeography — страна проживания\n",
    "*\tGender — пол\n",
    "*\tAge — возраст\n",
    "*\tTenure — сколько лет человек является клиентом банка\n",
    "*\tBalance — баланс на счёте\n",
    "*\tNumOfProducts — количество продуктов банка, используемых клиентом\n",
    "*\tHasCrCard — наличие кредитной карты\n",
    "*\tIsActiveMember — активность клиента\n",
    "*\tEstimatedSalary — предполагаемая зарплата\n",
    "\n",
    "**Целевой признак**\n",
    "\n",
    "*\tExited — факт ухода клиента\n"
   ]
  },
  {
   "cell_type": "code",
   "execution_count": 4,
   "metadata": {},
   "outputs": [
    {
     "data": {
      "text/html": [
       "<div>\n",
       "<style scoped>\n",
       "    .dataframe tbody tr th:only-of-type {\n",
       "        vertical-align: middle;\n",
       "    }\n",
       "\n",
       "    .dataframe tbody tr th {\n",
       "        vertical-align: top;\n",
       "    }\n",
       "\n",
       "    .dataframe thead th {\n",
       "        text-align: right;\n",
       "    }\n",
       "</style>\n",
       "<table border=\"1\" class=\"dataframe\">\n",
       "  <thead>\n",
       "    <tr style=\"text-align: right;\">\n",
       "      <th></th>\n",
       "      <th>RowNumber</th>\n",
       "      <th>CustomerId</th>\n",
       "      <th>Surname</th>\n",
       "      <th>CreditScore</th>\n",
       "      <th>Geography</th>\n",
       "      <th>Gender</th>\n",
       "      <th>Age</th>\n",
       "      <th>Tenure</th>\n",
       "      <th>Balance</th>\n",
       "      <th>NumOfProducts</th>\n",
       "      <th>HasCrCard</th>\n",
       "      <th>IsActiveMember</th>\n",
       "      <th>EstimatedSalary</th>\n",
       "      <th>Exited</th>\n",
       "    </tr>\n",
       "  </thead>\n",
       "  <tbody>\n",
       "    <tr>\n",
       "      <th>0</th>\n",
       "      <td>1</td>\n",
       "      <td>15634602</td>\n",
       "      <td>Hargrave</td>\n",
       "      <td>619</td>\n",
       "      <td>France</td>\n",
       "      <td>Female</td>\n",
       "      <td>42</td>\n",
       "      <td>2.0</td>\n",
       "      <td>0.00</td>\n",
       "      <td>1</td>\n",
       "      <td>1</td>\n",
       "      <td>1</td>\n",
       "      <td>101348.88</td>\n",
       "      <td>1</td>\n",
       "    </tr>\n",
       "    <tr>\n",
       "      <th>1</th>\n",
       "      <td>2</td>\n",
       "      <td>15647311</td>\n",
       "      <td>Hill</td>\n",
       "      <td>608</td>\n",
       "      <td>Spain</td>\n",
       "      <td>Female</td>\n",
       "      <td>41</td>\n",
       "      <td>1.0</td>\n",
       "      <td>83807.86</td>\n",
       "      <td>1</td>\n",
       "      <td>0</td>\n",
       "      <td>1</td>\n",
       "      <td>112542.58</td>\n",
       "      <td>0</td>\n",
       "    </tr>\n",
       "    <tr>\n",
       "      <th>2</th>\n",
       "      <td>3</td>\n",
       "      <td>15619304</td>\n",
       "      <td>Onio</td>\n",
       "      <td>502</td>\n",
       "      <td>France</td>\n",
       "      <td>Female</td>\n",
       "      <td>42</td>\n",
       "      <td>8.0</td>\n",
       "      <td>159660.80</td>\n",
       "      <td>3</td>\n",
       "      <td>1</td>\n",
       "      <td>0</td>\n",
       "      <td>113931.57</td>\n",
       "      <td>1</td>\n",
       "    </tr>\n",
       "    <tr>\n",
       "      <th>3</th>\n",
       "      <td>4</td>\n",
       "      <td>15701354</td>\n",
       "      <td>Boni</td>\n",
       "      <td>699</td>\n",
       "      <td>France</td>\n",
       "      <td>Female</td>\n",
       "      <td>39</td>\n",
       "      <td>1.0</td>\n",
       "      <td>0.00</td>\n",
       "      <td>2</td>\n",
       "      <td>0</td>\n",
       "      <td>0</td>\n",
       "      <td>93826.63</td>\n",
       "      <td>0</td>\n",
       "    </tr>\n",
       "    <tr>\n",
       "      <th>4</th>\n",
       "      <td>5</td>\n",
       "      <td>15737888</td>\n",
       "      <td>Mitchell</td>\n",
       "      <td>850</td>\n",
       "      <td>Spain</td>\n",
       "      <td>Female</td>\n",
       "      <td>43</td>\n",
       "      <td>2.0</td>\n",
       "      <td>125510.82</td>\n",
       "      <td>1</td>\n",
       "      <td>1</td>\n",
       "      <td>1</td>\n",
       "      <td>79084.10</td>\n",
       "      <td>0</td>\n",
       "    </tr>\n",
       "  </tbody>\n",
       "</table>\n",
       "</div>"
      ],
      "text/plain": [
       "   RowNumber  CustomerId   Surname  CreditScore Geography  Gender  Age  \\\n",
       "0          1    15634602  Hargrave          619    France  Female   42   \n",
       "1          2    15647311      Hill          608     Spain  Female   41   \n",
       "2          3    15619304      Onio          502    France  Female   42   \n",
       "3          4    15701354      Boni          699    France  Female   39   \n",
       "4          5    15737888  Mitchell          850     Spain  Female   43   \n",
       "\n",
       "   Tenure    Balance  NumOfProducts  HasCrCard  IsActiveMember  \\\n",
       "0     2.0       0.00              1          1               1   \n",
       "1     1.0   83807.86              1          0               1   \n",
       "2     8.0  159660.80              3          1               0   \n",
       "3     1.0       0.00              2          0               0   \n",
       "4     2.0  125510.82              1          1               1   \n",
       "\n",
       "   EstimatedSalary  Exited  \n",
       "0        101348.88       1  \n",
       "1        112542.58       0  \n",
       "2        113931.57       1  \n",
       "3         93826.63       0  \n",
       "4         79084.10       0  "
      ]
     },
     "execution_count": 4,
     "metadata": {},
     "output_type": "execute_result"
    }
   ],
   "source": [
    "data.head()"
   ]
  },
  {
   "cell_type": "code",
   "execution_count": 5,
   "metadata": {},
   "outputs": [
    {
     "data": {
      "text/html": [
       "<div>\n",
       "<style scoped>\n",
       "    .dataframe tbody tr th:only-of-type {\n",
       "        vertical-align: middle;\n",
       "    }\n",
       "\n",
       "    .dataframe tbody tr th {\n",
       "        vertical-align: top;\n",
       "    }\n",
       "\n",
       "    .dataframe thead th {\n",
       "        text-align: right;\n",
       "    }\n",
       "</style>\n",
       "<table border=\"1\" class=\"dataframe\">\n",
       "  <thead>\n",
       "    <tr style=\"text-align: right;\">\n",
       "      <th></th>\n",
       "      <th>RowNumber</th>\n",
       "      <th>CustomerId</th>\n",
       "      <th>CreditScore</th>\n",
       "      <th>Age</th>\n",
       "      <th>Tenure</th>\n",
       "      <th>Balance</th>\n",
       "      <th>NumOfProducts</th>\n",
       "      <th>HasCrCard</th>\n",
       "      <th>IsActiveMember</th>\n",
       "      <th>EstimatedSalary</th>\n",
       "      <th>Exited</th>\n",
       "    </tr>\n",
       "  </thead>\n",
       "  <tbody>\n",
       "    <tr>\n",
       "      <th>count</th>\n",
       "      <td>10000.00000</td>\n",
       "      <td>1.000000e+04</td>\n",
       "      <td>10000.000000</td>\n",
       "      <td>10000.000000</td>\n",
       "      <td>9091.000000</td>\n",
       "      <td>10000.000000</td>\n",
       "      <td>10000.000000</td>\n",
       "      <td>10000.00000</td>\n",
       "      <td>10000.000000</td>\n",
       "      <td>10000.000000</td>\n",
       "      <td>10000.000000</td>\n",
       "    </tr>\n",
       "    <tr>\n",
       "      <th>mean</th>\n",
       "      <td>5000.50000</td>\n",
       "      <td>1.569094e+07</td>\n",
       "      <td>650.528800</td>\n",
       "      <td>38.921800</td>\n",
       "      <td>4.997690</td>\n",
       "      <td>76485.889288</td>\n",
       "      <td>1.530200</td>\n",
       "      <td>0.70550</td>\n",
       "      <td>0.515100</td>\n",
       "      <td>100090.239881</td>\n",
       "      <td>0.203700</td>\n",
       "    </tr>\n",
       "    <tr>\n",
       "      <th>std</th>\n",
       "      <td>2886.89568</td>\n",
       "      <td>7.193619e+04</td>\n",
       "      <td>96.653299</td>\n",
       "      <td>10.487806</td>\n",
       "      <td>2.894723</td>\n",
       "      <td>62397.405202</td>\n",
       "      <td>0.581654</td>\n",
       "      <td>0.45584</td>\n",
       "      <td>0.499797</td>\n",
       "      <td>57510.492818</td>\n",
       "      <td>0.402769</td>\n",
       "    </tr>\n",
       "    <tr>\n",
       "      <th>min</th>\n",
       "      <td>1.00000</td>\n",
       "      <td>1.556570e+07</td>\n",
       "      <td>350.000000</td>\n",
       "      <td>18.000000</td>\n",
       "      <td>0.000000</td>\n",
       "      <td>0.000000</td>\n",
       "      <td>1.000000</td>\n",
       "      <td>0.00000</td>\n",
       "      <td>0.000000</td>\n",
       "      <td>11.580000</td>\n",
       "      <td>0.000000</td>\n",
       "    </tr>\n",
       "    <tr>\n",
       "      <th>25%</th>\n",
       "      <td>2500.75000</td>\n",
       "      <td>1.562853e+07</td>\n",
       "      <td>584.000000</td>\n",
       "      <td>32.000000</td>\n",
       "      <td>2.000000</td>\n",
       "      <td>0.000000</td>\n",
       "      <td>1.000000</td>\n",
       "      <td>0.00000</td>\n",
       "      <td>0.000000</td>\n",
       "      <td>51002.110000</td>\n",
       "      <td>0.000000</td>\n",
       "    </tr>\n",
       "    <tr>\n",
       "      <th>50%</th>\n",
       "      <td>5000.50000</td>\n",
       "      <td>1.569074e+07</td>\n",
       "      <td>652.000000</td>\n",
       "      <td>37.000000</td>\n",
       "      <td>5.000000</td>\n",
       "      <td>97198.540000</td>\n",
       "      <td>1.000000</td>\n",
       "      <td>1.00000</td>\n",
       "      <td>1.000000</td>\n",
       "      <td>100193.915000</td>\n",
       "      <td>0.000000</td>\n",
       "    </tr>\n",
       "    <tr>\n",
       "      <th>75%</th>\n",
       "      <td>7500.25000</td>\n",
       "      <td>1.575323e+07</td>\n",
       "      <td>718.000000</td>\n",
       "      <td>44.000000</td>\n",
       "      <td>7.000000</td>\n",
       "      <td>127644.240000</td>\n",
       "      <td>2.000000</td>\n",
       "      <td>1.00000</td>\n",
       "      <td>1.000000</td>\n",
       "      <td>149388.247500</td>\n",
       "      <td>0.000000</td>\n",
       "    </tr>\n",
       "    <tr>\n",
       "      <th>max</th>\n",
       "      <td>10000.00000</td>\n",
       "      <td>1.581569e+07</td>\n",
       "      <td>850.000000</td>\n",
       "      <td>92.000000</td>\n",
       "      <td>10.000000</td>\n",
       "      <td>250898.090000</td>\n",
       "      <td>4.000000</td>\n",
       "      <td>1.00000</td>\n",
       "      <td>1.000000</td>\n",
       "      <td>199992.480000</td>\n",
       "      <td>1.000000</td>\n",
       "    </tr>\n",
       "  </tbody>\n",
       "</table>\n",
       "</div>"
      ],
      "text/plain": [
       "         RowNumber    CustomerId   CreditScore           Age       Tenure  \\\n",
       "count  10000.00000  1.000000e+04  10000.000000  10000.000000  9091.000000   \n",
       "mean    5000.50000  1.569094e+07    650.528800     38.921800     4.997690   \n",
       "std     2886.89568  7.193619e+04     96.653299     10.487806     2.894723   \n",
       "min        1.00000  1.556570e+07    350.000000     18.000000     0.000000   \n",
       "25%     2500.75000  1.562853e+07    584.000000     32.000000     2.000000   \n",
       "50%     5000.50000  1.569074e+07    652.000000     37.000000     5.000000   \n",
       "75%     7500.25000  1.575323e+07    718.000000     44.000000     7.000000   \n",
       "max    10000.00000  1.581569e+07    850.000000     92.000000    10.000000   \n",
       "\n",
       "             Balance  NumOfProducts    HasCrCard  IsActiveMember  \\\n",
       "count   10000.000000   10000.000000  10000.00000    10000.000000   \n",
       "mean    76485.889288       1.530200      0.70550        0.515100   \n",
       "std     62397.405202       0.581654      0.45584        0.499797   \n",
       "min         0.000000       1.000000      0.00000        0.000000   \n",
       "25%         0.000000       1.000000      0.00000        0.000000   \n",
       "50%     97198.540000       1.000000      1.00000        1.000000   \n",
       "75%    127644.240000       2.000000      1.00000        1.000000   \n",
       "max    250898.090000       4.000000      1.00000        1.000000   \n",
       "\n",
       "       EstimatedSalary        Exited  \n",
       "count     10000.000000  10000.000000  \n",
       "mean     100090.239881      0.203700  \n",
       "std       57510.492818      0.402769  \n",
       "min          11.580000      0.000000  \n",
       "25%       51002.110000      0.000000  \n",
       "50%      100193.915000      0.000000  \n",
       "75%      149388.247500      0.000000  \n",
       "max      199992.480000      1.000000  "
      ]
     },
     "execution_count": 5,
     "metadata": {},
     "output_type": "execute_result"
    }
   ],
   "source": [
    "data.describe()"
   ]
  },
  {
   "cell_type": "code",
   "execution_count": 6,
   "metadata": {},
   "outputs": [
    {
     "data": {
      "text/plain": [
       "RowNumber            0\n",
       "CustomerId           0\n",
       "Surname              0\n",
       "CreditScore          0\n",
       "Geography            0\n",
       "Gender               0\n",
       "Age                  0\n",
       "Tenure             909\n",
       "Balance              0\n",
       "NumOfProducts        0\n",
       "HasCrCard            0\n",
       "IsActiveMember       0\n",
       "EstimatedSalary      0\n",
       "Exited               0\n",
       "dtype: int64"
      ]
     },
     "execution_count": 6,
     "metadata": {},
     "output_type": "execute_result"
    }
   ],
   "source": [
    "# Посмотрим пропуски\n",
    "data.isna().sum()"
   ]
  },
  {
   "cell_type": "markdown",
   "metadata": {},
   "source": [
    "пропуски в столбце с данными о количестве лет. Заменим их на нули"
   ]
  },
  {
   "cell_type": "code",
   "execution_count": 7,
   "metadata": {},
   "outputs": [
    {
     "data": {
      "text/html": [
       "<div>\n",
       "<style scoped>\n",
       "    .dataframe tbody tr th:only-of-type {\n",
       "        vertical-align: middle;\n",
       "    }\n",
       "\n",
       "    .dataframe tbody tr th {\n",
       "        vertical-align: top;\n",
       "    }\n",
       "\n",
       "    .dataframe thead th {\n",
       "        text-align: right;\n",
       "    }\n",
       "</style>\n",
       "<table border=\"1\" class=\"dataframe\">\n",
       "  <thead>\n",
       "    <tr style=\"text-align: right;\">\n",
       "      <th></th>\n",
       "      <th>RowNumber</th>\n",
       "      <th>CustomerId</th>\n",
       "      <th>Surname</th>\n",
       "      <th>CreditScore</th>\n",
       "      <th>Geography</th>\n",
       "      <th>Gender</th>\n",
       "      <th>Age</th>\n",
       "      <th>Tenure</th>\n",
       "      <th>Balance</th>\n",
       "      <th>NumOfProducts</th>\n",
       "      <th>HasCrCard</th>\n",
       "      <th>IsActiveMember</th>\n",
       "      <th>EstimatedSalary</th>\n",
       "      <th>Exited</th>\n",
       "    </tr>\n",
       "  </thead>\n",
       "  <tbody>\n",
       "    <tr>\n",
       "      <th>0</th>\n",
       "      <td>1</td>\n",
       "      <td>15634602</td>\n",
       "      <td>Hargrave</td>\n",
       "      <td>619</td>\n",
       "      <td>France</td>\n",
       "      <td>Female</td>\n",
       "      <td>42</td>\n",
       "      <td>2.0</td>\n",
       "      <td>0.00</td>\n",
       "      <td>1</td>\n",
       "      <td>1</td>\n",
       "      <td>1</td>\n",
       "      <td>101348.88</td>\n",
       "      <td>1</td>\n",
       "    </tr>\n",
       "    <tr>\n",
       "      <th>1</th>\n",
       "      <td>2</td>\n",
       "      <td>15647311</td>\n",
       "      <td>Hill</td>\n",
       "      <td>608</td>\n",
       "      <td>Spain</td>\n",
       "      <td>Female</td>\n",
       "      <td>41</td>\n",
       "      <td>1.0</td>\n",
       "      <td>83807.86</td>\n",
       "      <td>1</td>\n",
       "      <td>0</td>\n",
       "      <td>1</td>\n",
       "      <td>112542.58</td>\n",
       "      <td>0</td>\n",
       "    </tr>\n",
       "    <tr>\n",
       "      <th>2</th>\n",
       "      <td>3</td>\n",
       "      <td>15619304</td>\n",
       "      <td>Onio</td>\n",
       "      <td>502</td>\n",
       "      <td>France</td>\n",
       "      <td>Female</td>\n",
       "      <td>42</td>\n",
       "      <td>8.0</td>\n",
       "      <td>159660.80</td>\n",
       "      <td>3</td>\n",
       "      <td>1</td>\n",
       "      <td>0</td>\n",
       "      <td>113931.57</td>\n",
       "      <td>1</td>\n",
       "    </tr>\n",
       "    <tr>\n",
       "      <th>3</th>\n",
       "      <td>4</td>\n",
       "      <td>15701354</td>\n",
       "      <td>Boni</td>\n",
       "      <td>699</td>\n",
       "      <td>France</td>\n",
       "      <td>Female</td>\n",
       "      <td>39</td>\n",
       "      <td>1.0</td>\n",
       "      <td>0.00</td>\n",
       "      <td>2</td>\n",
       "      <td>0</td>\n",
       "      <td>0</td>\n",
       "      <td>93826.63</td>\n",
       "      <td>0</td>\n",
       "    </tr>\n",
       "    <tr>\n",
       "      <th>4</th>\n",
       "      <td>5</td>\n",
       "      <td>15737888</td>\n",
       "      <td>Mitchell</td>\n",
       "      <td>850</td>\n",
       "      <td>Spain</td>\n",
       "      <td>Female</td>\n",
       "      <td>43</td>\n",
       "      <td>2.0</td>\n",
       "      <td>125510.82</td>\n",
       "      <td>1</td>\n",
       "      <td>1</td>\n",
       "      <td>1</td>\n",
       "      <td>79084.10</td>\n",
       "      <td>0</td>\n",
       "    </tr>\n",
       "    <tr>\n",
       "      <th>...</th>\n",
       "      <td>...</td>\n",
       "      <td>...</td>\n",
       "      <td>...</td>\n",
       "      <td>...</td>\n",
       "      <td>...</td>\n",
       "      <td>...</td>\n",
       "      <td>...</td>\n",
       "      <td>...</td>\n",
       "      <td>...</td>\n",
       "      <td>...</td>\n",
       "      <td>...</td>\n",
       "      <td>...</td>\n",
       "      <td>...</td>\n",
       "      <td>...</td>\n",
       "    </tr>\n",
       "    <tr>\n",
       "      <th>9995</th>\n",
       "      <td>9996</td>\n",
       "      <td>15606229</td>\n",
       "      <td>Obijiaku</td>\n",
       "      <td>771</td>\n",
       "      <td>France</td>\n",
       "      <td>Male</td>\n",
       "      <td>39</td>\n",
       "      <td>5.0</td>\n",
       "      <td>0.00</td>\n",
       "      <td>2</td>\n",
       "      <td>1</td>\n",
       "      <td>0</td>\n",
       "      <td>96270.64</td>\n",
       "      <td>0</td>\n",
       "    </tr>\n",
       "    <tr>\n",
       "      <th>9996</th>\n",
       "      <td>9997</td>\n",
       "      <td>15569892</td>\n",
       "      <td>Johnstone</td>\n",
       "      <td>516</td>\n",
       "      <td>France</td>\n",
       "      <td>Male</td>\n",
       "      <td>35</td>\n",
       "      <td>10.0</td>\n",
       "      <td>57369.61</td>\n",
       "      <td>1</td>\n",
       "      <td>1</td>\n",
       "      <td>1</td>\n",
       "      <td>101699.77</td>\n",
       "      <td>0</td>\n",
       "    </tr>\n",
       "    <tr>\n",
       "      <th>9997</th>\n",
       "      <td>9998</td>\n",
       "      <td>15584532</td>\n",
       "      <td>Liu</td>\n",
       "      <td>709</td>\n",
       "      <td>France</td>\n",
       "      <td>Female</td>\n",
       "      <td>36</td>\n",
       "      <td>7.0</td>\n",
       "      <td>0.00</td>\n",
       "      <td>1</td>\n",
       "      <td>0</td>\n",
       "      <td>1</td>\n",
       "      <td>42085.58</td>\n",
       "      <td>1</td>\n",
       "    </tr>\n",
       "    <tr>\n",
       "      <th>9998</th>\n",
       "      <td>9999</td>\n",
       "      <td>15682355</td>\n",
       "      <td>Sabbatini</td>\n",
       "      <td>772</td>\n",
       "      <td>Germany</td>\n",
       "      <td>Male</td>\n",
       "      <td>42</td>\n",
       "      <td>3.0</td>\n",
       "      <td>75075.31</td>\n",
       "      <td>2</td>\n",
       "      <td>1</td>\n",
       "      <td>0</td>\n",
       "      <td>92888.52</td>\n",
       "      <td>1</td>\n",
       "    </tr>\n",
       "    <tr>\n",
       "      <th>9999</th>\n",
       "      <td>10000</td>\n",
       "      <td>15628319</td>\n",
       "      <td>Walker</td>\n",
       "      <td>792</td>\n",
       "      <td>France</td>\n",
       "      <td>Female</td>\n",
       "      <td>28</td>\n",
       "      <td>0.0</td>\n",
       "      <td>130142.79</td>\n",
       "      <td>1</td>\n",
       "      <td>1</td>\n",
       "      <td>0</td>\n",
       "      <td>38190.78</td>\n",
       "      <td>0</td>\n",
       "    </tr>\n",
       "  </tbody>\n",
       "</table>\n",
       "<p>10000 rows × 14 columns</p>\n",
       "</div>"
      ],
      "text/plain": [
       "      RowNumber  CustomerId    Surname  CreditScore Geography  Gender  Age  \\\n",
       "0             1    15634602   Hargrave          619    France  Female   42   \n",
       "1             2    15647311       Hill          608     Spain  Female   41   \n",
       "2             3    15619304       Onio          502    France  Female   42   \n",
       "3             4    15701354       Boni          699    France  Female   39   \n",
       "4             5    15737888   Mitchell          850     Spain  Female   43   \n",
       "...         ...         ...        ...          ...       ...     ...  ...   \n",
       "9995       9996    15606229   Obijiaku          771    France    Male   39   \n",
       "9996       9997    15569892  Johnstone          516    France    Male   35   \n",
       "9997       9998    15584532        Liu          709    France  Female   36   \n",
       "9998       9999    15682355  Sabbatini          772   Germany    Male   42   \n",
       "9999      10000    15628319     Walker          792    France  Female   28   \n",
       "\n",
       "      Tenure    Balance  NumOfProducts  HasCrCard  IsActiveMember  \\\n",
       "0        2.0       0.00              1          1               1   \n",
       "1        1.0   83807.86              1          0               1   \n",
       "2        8.0  159660.80              3          1               0   \n",
       "3        1.0       0.00              2          0               0   \n",
       "4        2.0  125510.82              1          1               1   \n",
       "...      ...        ...            ...        ...             ...   \n",
       "9995     5.0       0.00              2          1               0   \n",
       "9996    10.0   57369.61              1          1               1   \n",
       "9997     7.0       0.00              1          0               1   \n",
       "9998     3.0   75075.31              2          1               0   \n",
       "9999     0.0  130142.79              1          1               0   \n",
       "\n",
       "      EstimatedSalary  Exited  \n",
       "0           101348.88       1  \n",
       "1           112542.58       0  \n",
       "2           113931.57       1  \n",
       "3            93826.63       0  \n",
       "4            79084.10       0  \n",
       "...               ...     ...  \n",
       "9995         96270.64       0  \n",
       "9996        101699.77       0  \n",
       "9997         42085.58       1  \n",
       "9998         92888.52       1  \n",
       "9999         38190.78       0  \n",
       "\n",
       "[10000 rows x 14 columns]"
      ]
     },
     "execution_count": 7,
     "metadata": {},
     "output_type": "execute_result"
    }
   ],
   "source": [
    "data['Tenure'] = data['Tenure'].fillna(0)\n",
    "data"
   ]
  },
  {
   "cell_type": "code",
   "execution_count": 8,
   "metadata": {},
   "outputs": [
    {
     "data": {
      "text/plain": [
       "RowNumber          0\n",
       "CustomerId         0\n",
       "Surname            0\n",
       "CreditScore        0\n",
       "Geography          0\n",
       "Gender             0\n",
       "Age                0\n",
       "Tenure             0\n",
       "Balance            0\n",
       "NumOfProducts      0\n",
       "HasCrCard          0\n",
       "IsActiveMember     0\n",
       "EstimatedSalary    0\n",
       "Exited             0\n",
       "dtype: int64"
      ]
     },
     "execution_count": 8,
     "metadata": {},
     "output_type": "execute_result"
    }
   ],
   "source": [
    "# Пропуски убрали\n",
    "data.isna().sum()"
   ]
  },
  {
   "cell_type": "code",
   "execution_count": 9,
   "metadata": {},
   "outputs": [
    {
     "data": {
      "text/plain": [
       "0"
      ]
     },
     "execution_count": 9,
     "metadata": {},
     "output_type": "execute_result"
    }
   ],
   "source": [
    "# Смотрим дубли\n",
    "data.duplicated().sum()"
   ]
  },
  {
   "cell_type": "markdown",
   "metadata": {},
   "source": [
    "Дублей нет"
   ]
  },
  {
   "cell_type": "code",
   "execution_count": 10,
   "metadata": {},
   "outputs": [],
   "source": [
    "# Для прогнозирования не нужны данные, такие как Фамилия, Индекс строки и идентификатор клиента\n",
    "data = data.drop(['RowNumber', 'CustomerId', 'Surname'], axis=1)"
   ]
  },
  {
   "cell_type": "code",
   "execution_count": 11,
   "metadata": {},
   "outputs": [
    {
     "name": "stdout",
     "output_type": "stream",
     "text": [
      "<class 'pandas.core.frame.DataFrame'>\n",
      "RangeIndex: 10000 entries, 0 to 9999\n",
      "Data columns (total 11 columns):\n",
      " #   Column           Non-Null Count  Dtype  \n",
      "---  ------           --------------  -----  \n",
      " 0   CreditScore      10000 non-null  int64  \n",
      " 1   Geography        10000 non-null  object \n",
      " 2   Gender           10000 non-null  object \n",
      " 3   Age              10000 non-null  int64  \n",
      " 4   Tenure           10000 non-null  float64\n",
      " 5   Balance          10000 non-null  float64\n",
      " 6   NumOfProducts    10000 non-null  int64  \n",
      " 7   HasCrCard        10000 non-null  int64  \n",
      " 8   IsActiveMember   10000 non-null  int64  \n",
      " 9   EstimatedSalary  10000 non-null  float64\n",
      " 10  Exited           10000 non-null  int64  \n",
      "dtypes: float64(3), int64(6), object(2)\n",
      "memory usage: 859.5+ KB\n"
     ]
    }
   ],
   "source": [
    "data.info()"
   ]
  },
  {
   "cell_type": "code",
   "execution_count": 12,
   "metadata": {},
   "outputs": [
    {
     "data": {
      "text/html": [
       "<div>\n",
       "<style scoped>\n",
       "    .dataframe tbody tr th:only-of-type {\n",
       "        vertical-align: middle;\n",
       "    }\n",
       "\n",
       "    .dataframe tbody tr th {\n",
       "        vertical-align: top;\n",
       "    }\n",
       "\n",
       "    .dataframe thead th {\n",
       "        text-align: right;\n",
       "    }\n",
       "</style>\n",
       "<table border=\"1\" class=\"dataframe\">\n",
       "  <thead>\n",
       "    <tr style=\"text-align: right;\">\n",
       "      <th></th>\n",
       "      <th>CreditScore</th>\n",
       "      <th>Geography</th>\n",
       "      <th>Gender</th>\n",
       "      <th>Age</th>\n",
       "      <th>Tenure</th>\n",
       "      <th>Balance</th>\n",
       "      <th>NumOfProducts</th>\n",
       "      <th>HasCrCard</th>\n",
       "      <th>IsActiveMember</th>\n",
       "      <th>EstimatedSalary</th>\n",
       "      <th>Exited</th>\n",
       "    </tr>\n",
       "  </thead>\n",
       "  <tbody>\n",
       "    <tr>\n",
       "      <th>0</th>\n",
       "      <td>619</td>\n",
       "      <td>France</td>\n",
       "      <td>Female</td>\n",
       "      <td>42</td>\n",
       "      <td>2.0</td>\n",
       "      <td>0.00</td>\n",
       "      <td>1</td>\n",
       "      <td>1</td>\n",
       "      <td>1</td>\n",
       "      <td>101348.88</td>\n",
       "      <td>1</td>\n",
       "    </tr>\n",
       "    <tr>\n",
       "      <th>1</th>\n",
       "      <td>608</td>\n",
       "      <td>Spain</td>\n",
       "      <td>Female</td>\n",
       "      <td>41</td>\n",
       "      <td>1.0</td>\n",
       "      <td>83807.86</td>\n",
       "      <td>1</td>\n",
       "      <td>0</td>\n",
       "      <td>1</td>\n",
       "      <td>112542.58</td>\n",
       "      <td>0</td>\n",
       "    </tr>\n",
       "    <tr>\n",
       "      <th>2</th>\n",
       "      <td>502</td>\n",
       "      <td>France</td>\n",
       "      <td>Female</td>\n",
       "      <td>42</td>\n",
       "      <td>8.0</td>\n",
       "      <td>159660.80</td>\n",
       "      <td>3</td>\n",
       "      <td>1</td>\n",
       "      <td>0</td>\n",
       "      <td>113931.57</td>\n",
       "      <td>1</td>\n",
       "    </tr>\n",
       "    <tr>\n",
       "      <th>3</th>\n",
       "      <td>699</td>\n",
       "      <td>France</td>\n",
       "      <td>Female</td>\n",
       "      <td>39</td>\n",
       "      <td>1.0</td>\n",
       "      <td>0.00</td>\n",
       "      <td>2</td>\n",
       "      <td>0</td>\n",
       "      <td>0</td>\n",
       "      <td>93826.63</td>\n",
       "      <td>0</td>\n",
       "    </tr>\n",
       "    <tr>\n",
       "      <th>4</th>\n",
       "      <td>850</td>\n",
       "      <td>Spain</td>\n",
       "      <td>Female</td>\n",
       "      <td>43</td>\n",
       "      <td>2.0</td>\n",
       "      <td>125510.82</td>\n",
       "      <td>1</td>\n",
       "      <td>1</td>\n",
       "      <td>1</td>\n",
       "      <td>79084.10</td>\n",
       "      <td>0</td>\n",
       "    </tr>\n",
       "    <tr>\n",
       "      <th>...</th>\n",
       "      <td>...</td>\n",
       "      <td>...</td>\n",
       "      <td>...</td>\n",
       "      <td>...</td>\n",
       "      <td>...</td>\n",
       "      <td>...</td>\n",
       "      <td>...</td>\n",
       "      <td>...</td>\n",
       "      <td>...</td>\n",
       "      <td>...</td>\n",
       "      <td>...</td>\n",
       "    </tr>\n",
       "    <tr>\n",
       "      <th>9995</th>\n",
       "      <td>771</td>\n",
       "      <td>France</td>\n",
       "      <td>Male</td>\n",
       "      <td>39</td>\n",
       "      <td>5.0</td>\n",
       "      <td>0.00</td>\n",
       "      <td>2</td>\n",
       "      <td>1</td>\n",
       "      <td>0</td>\n",
       "      <td>96270.64</td>\n",
       "      <td>0</td>\n",
       "    </tr>\n",
       "    <tr>\n",
       "      <th>9996</th>\n",
       "      <td>516</td>\n",
       "      <td>France</td>\n",
       "      <td>Male</td>\n",
       "      <td>35</td>\n",
       "      <td>10.0</td>\n",
       "      <td>57369.61</td>\n",
       "      <td>1</td>\n",
       "      <td>1</td>\n",
       "      <td>1</td>\n",
       "      <td>101699.77</td>\n",
       "      <td>0</td>\n",
       "    </tr>\n",
       "    <tr>\n",
       "      <th>9997</th>\n",
       "      <td>709</td>\n",
       "      <td>France</td>\n",
       "      <td>Female</td>\n",
       "      <td>36</td>\n",
       "      <td>7.0</td>\n",
       "      <td>0.00</td>\n",
       "      <td>1</td>\n",
       "      <td>0</td>\n",
       "      <td>1</td>\n",
       "      <td>42085.58</td>\n",
       "      <td>1</td>\n",
       "    </tr>\n",
       "    <tr>\n",
       "      <th>9998</th>\n",
       "      <td>772</td>\n",
       "      <td>Germany</td>\n",
       "      <td>Male</td>\n",
       "      <td>42</td>\n",
       "      <td>3.0</td>\n",
       "      <td>75075.31</td>\n",
       "      <td>2</td>\n",
       "      <td>1</td>\n",
       "      <td>0</td>\n",
       "      <td>92888.52</td>\n",
       "      <td>1</td>\n",
       "    </tr>\n",
       "    <tr>\n",
       "      <th>9999</th>\n",
       "      <td>792</td>\n",
       "      <td>France</td>\n",
       "      <td>Female</td>\n",
       "      <td>28</td>\n",
       "      <td>0.0</td>\n",
       "      <td>130142.79</td>\n",
       "      <td>1</td>\n",
       "      <td>1</td>\n",
       "      <td>0</td>\n",
       "      <td>38190.78</td>\n",
       "      <td>0</td>\n",
       "    </tr>\n",
       "  </tbody>\n",
       "</table>\n",
       "<p>10000 rows × 11 columns</p>\n",
       "</div>"
      ],
      "text/plain": [
       "      CreditScore Geography  Gender  Age  Tenure    Balance  NumOfProducts  \\\n",
       "0             619    France  Female   42     2.0       0.00              1   \n",
       "1             608     Spain  Female   41     1.0   83807.86              1   \n",
       "2             502    France  Female   42     8.0  159660.80              3   \n",
       "3             699    France  Female   39     1.0       0.00              2   \n",
       "4             850     Spain  Female   43     2.0  125510.82              1   \n",
       "...           ...       ...     ...  ...     ...        ...            ...   \n",
       "9995          771    France    Male   39     5.0       0.00              2   \n",
       "9996          516    France    Male   35    10.0   57369.61              1   \n",
       "9997          709    France  Female   36     7.0       0.00              1   \n",
       "9998          772   Germany    Male   42     3.0   75075.31              2   \n",
       "9999          792    France  Female   28     0.0  130142.79              1   \n",
       "\n",
       "      HasCrCard  IsActiveMember  EstimatedSalary  Exited  \n",
       "0             1               1        101348.88       1  \n",
       "1             0               1        112542.58       0  \n",
       "2             1               0        113931.57       1  \n",
       "3             0               0         93826.63       0  \n",
       "4             1               1         79084.10       0  \n",
       "...         ...             ...              ...     ...  \n",
       "9995          1               0         96270.64       0  \n",
       "9996          1               1        101699.77       0  \n",
       "9997          0               1         42085.58       1  \n",
       "9998          1               0         92888.52       1  \n",
       "9999          1               0         38190.78       0  \n",
       "\n",
       "[10000 rows x 11 columns]"
      ]
     },
     "execution_count": 12,
     "metadata": {},
     "output_type": "execute_result"
    }
   ],
   "source": [
    "data"
   ]
  },
  {
   "cell_type": "markdown",
   "metadata": {},
   "source": [
    "Проверим на целево признаке, сбалансированы ли данные"
   ]
  },
  {
   "cell_type": "code",
   "execution_count": 13,
   "metadata": {},
   "outputs": [
    {
     "data": {
      "text/plain": [
       "<AxesSubplot:>"
      ]
     },
     "execution_count": 13,
     "metadata": {},
     "output_type": "execute_result"
    },
    {
     "data": {
      "image/png": "[encoded data removed]",
      "text/plain": [
       "<Figure size 432x288 with 1 Axes>"
      ]
     },
     "metadata": {
      "needs_background": "light"
     },
     "output_type": "display_data"
    }
   ],
   "source": [
    "(\n",
    "data['Exited']\n",
    "    .value_counts(normalize=True)\n",
    "    .plot(kind='bar')\n",
    ")"
   ]
  },
  {
   "cell_type": "code",
   "execution_count": 14,
   "metadata": {},
   "outputs": [
    {
     "data": {
      "text/plain": [
       "3.9091801669121256"
      ]
     },
     "execution_count": 14,
     "metadata": {},
     "output_type": "execute_result"
    }
   ],
   "source": [
    "len(data.query('Exited == 0')) / len(data.query('Exited == 1'))"
   ]
  },
  {
   "cell_type": "markdown",
   "metadata": {},
   "source": [
    "Данные не сбалансированы, поэтому при делении на выброки нужна будет стратификация "
   ]
  },
  {
   "cell_type": "markdown",
   "metadata": {},
   "source": [
    "### Вывод\n",
    "\n",
    "- Были подгружены данные\n",
    "- Обработаны пропуски\n",
    "- Произведена проверка на наличие дубликатов\n",
    "- Из признаков (столбцов) были исключены ненужные \n",
    "- Категориальные признаки - **Geography** и **Gender**. Необходимо преобрахование признаков, используем прямое кодирование (OHE)\n",
    "- в стобце о кредитном рейтинге трехзначные числа, возраст - двузначные, остальные столбцы -однозначные. Столбец о зарплате - шестизначный. Неообходимо производить масштабировние признаков"
   ]
  },
  {
   "cell_type": "markdown",
   "metadata": {},
   "source": [
    "## Исследование задачи"
   ]
  },
  {
   "cell_type": "markdown",
   "metadata": {},
   "source": [
    "### Преобразование категориальных признаков"
   ]
  },
  {
   "cell_type": "code",
   "execution_count": 15,
   "metadata": {},
   "outputs": [],
   "source": [
    "# Кодируем категориальные признаки\n",
    "data_ohe = pd.get_dummies(data, drop_first=True)"
   ]
  },
  {
   "cell_type": "code",
   "execution_count": 16,
   "metadata": {},
   "outputs": [
    {
     "name": "stdout",
     "output_type": "stream",
     "text": [
      "Обучающая выборка: (6000, 11) в процентах: 60.0 %\n",
      "Валидационная выборка: (2000, 11) в процентах: 20.0 %\n",
      "Тестовая выборка: (2000, 11) в процентах: 20.0 %\n"
     ]
    }
   ],
   "source": [
    "# Подготовим признаки и целевой признак, Тренировочную  валидационную выборки\n",
    "\n",
    "target = data_ohe['Exited']\n",
    "features = data_ohe.drop('Exited', axis=1)\n",
    "features_train, features_valid_all, target_train, target_valid_all = train_test_split(features, target, test_size=0.4, random_state=12345, stratify=target)\n",
    "features_valid, features_test, target_valid, target_test = train_test_split(features_valid_all, target_valid_all, test_size=0.5, random_state=12345, stratify=target_valid_all)\n",
    "\n",
    "print('Обучающая выборка:', features_train.shape, 'в процентах:', round((features_train.shape[0])/len(data)*100, 2),'%')\n",
    "print('Валидационная выборка:', features_valid.shape, 'в процентах:', round((features_valid.shape[0])/len(data)*100, 2),'%')\n",
    "print('Тестовая выборка:', features_valid.shape, 'в процентах:', round((features_test.shape[0])/len(data)*100, 2),'%')\n"
   ]
  },
  {
   "cell_type": "markdown",
   "metadata": {},
   "source": [
    "### Масштабирование признаков"
   ]
  },
  {
   "cell_type": "code",
   "execution_count": 17,
   "metadata": {},
   "outputs": [
    {
     "data": {
      "text/plain": [
       "Index(['CreditScore', 'Age', 'Tenure', 'Balance', 'NumOfProducts', 'HasCrCard',\n",
       "       'IsActiveMember', 'EstimatedSalary', 'Exited', 'Geography_Germany',\n",
       "       'Geography_Spain', 'Gender_Male'],\n",
       "      dtype='object')"
      ]
     },
     "execution_count": 17,
     "metadata": {},
     "output_type": "execute_result"
    }
   ],
   "source": [
    "data_ohe.columns"
   ]
  },
  {
   "cell_type": "code",
   "execution_count": 18,
   "metadata": {},
   "outputs": [
    {
     "name": "stdout",
     "output_type": "stream",
     "text": [
      "(6000, 11)\n",
      "(2000, 11)\n",
      "(2000, 11)\n"
     ]
    }
   ],
   "source": [
    "# масштабирование признаков необходимо\n",
    "numeric = ['CreditScore', 'Age', 'Tenure', 'Balance', 'NumOfProducts', 'HasCrCard', 'IsActiveMember', 'EstimatedSalary']\n",
    "\n",
    "scaler = StandardScaler()\n",
    "scaler.fit(features_train[numeric])\n",
    "features_train[numeric] = scaler.transform(features_train[numeric])\n",
    "features_valid[numeric] = scaler.transform(features_valid[numeric])\n",
    "features_test[numeric] = scaler.transform(features_test[numeric])\n",
    "\n",
    "print(features_train.shape)\n",
    "print(features_valid.shape)\n",
    "print(features_test.shape)"
   ]
  },
  {
   "cell_type": "markdown",
   "metadata": {},
   "source": [
    "###  обучение моделей на несбалансированном датасете"
   ]
  },
  {
   "cell_type": "code",
   "execution_count": 19,
   "metadata": {},
   "outputs": [
    {
     "name": "stdout",
     "output_type": "stream",
     "text": [
      "Модель: Логистическая регрессия, валидационая выборка\n",
      "[[1538   54]\n",
      " [ 325   83]]\n",
      "Доля верных решений (Accuracy): 0.8105\n",
      "Полнота:  0.2034313725490196\n",
      "Точность: 0.6058394160583942\n",
      "F-1 мера: 0.30458715596330277\n",
      "Метрика AUC_ROC: 0.7875098531875061\n"
     ]
    }
   ],
   "source": [
    "# Используем логистическую регрессию\n",
    "model = LogisticRegression(solver='liblinear', random_state=12345)\n",
    "model.fit(features_train, target_train)\n",
    "\n",
    "predicted_valid = model.predict(features_valid)\n",
    "\n",
    "# Метрика AUC-ROC\n",
    "probabilities_valid_logist = model.predict_proba(features_valid)\n",
    "probabilities_one_valid_logist = probabilities_valid_logist[:, 1]\n",
    "auc_roc_logist = roc_auc_score(target_valid, probabilities_one_valid_logist)\n",
    "\n",
    "print('Модель: Логистическая регрессия, валидационая выборка')\n",
    "print(confusion_matrix(target_valid, predicted_valid))\n",
    "print('Доля верных решений (Accuracy):', model.score(features_valid, target_valid))\n",
    "print('Полнота: ', recall_score(target_valid, predicted_valid))\n",
    "print('Точность:', precision_score(target_valid, predicted_valid))\n",
    "print('F-1 мера:', f1_score(target_valid, predicted_valid))\n",
    "print('Метрика AUC_ROC:', auc_roc_logist)"
   ]
  },
  {
   "cell_type": "code",
   "execution_count": 20,
   "metadata": {},
   "outputs": [
    {
     "name": "stderr",
     "output_type": "stream",
     "text": [
      "100%|██████████| 19/19 [00:00<00:00, 31.61it/s]\n"
     ]
    },
    {
     "name": "stdout",
     "output_type": "stream",
     "text": [
      "Модель: Решающее дерево, валидационая выборка\n",
      "Доля верных решений (Accuracy): 0.859\n",
      "Метрика F-1 на валидационной выборке у Решающего дерева: 0.59 Глубина: 7\n",
      "Метрика AUC_ROC: 0.8247056360232534\n",
      "Полнота:  0.5024509803921569\n",
      "Точность: 0.721830985915493\n",
      "[[1513   79]\n",
      " [ 203  205]]\n"
     ]
    }
   ],
   "source": [
    "# Использузем Решающее дерево\n",
    "# Переберем глубину max_depth от 1 до 20, чтобы найти лучший accuracy\n",
    "\n",
    "# список глубин решающего дерева\n",
    "depth_tree = []\n",
    "#список accuracy решающего дерева на валидационной выборке\n",
    "accuracy_tree_valid = []\n",
    "#список accuracy решающего дерева на тренировочной выборке\n",
    "accuracy_tree_train = []\n",
    "best_result_tree = 0\n",
    "best_result_tree_f1 = 0\n",
    "best_depth_tree = 0\n",
    "best_model_tree = None\n",
    "for depth in tqdm(range(1,20)):\n",
    "#поместим в можел структуру решающего дерева\n",
    "    model_tree = DecisionTreeClassifier(random_state=12345, max_depth=depth)\n",
    "# обучим модель\n",
    "    model_tree.fit(features_train, target_train)\n",
    "# предскажем целевой признак на валидационной выборке\n",
    "    prediction_valid_tree = model_tree.predict(features_valid)\n",
    "    result_accuracy = accuracy_score(target_valid, prediction_valid_tree)\n",
    "# F-1 мера    \n",
    "    result_f1 = f1_score(target_valid, prediction_valid_tree)\n",
    "# глубину в список\n",
    "    depth_tree.append(depth)\n",
    "# accuracy в  список\n",
    "    accuracy_tree_valid.append(result_accuracy)\n",
    "# добавим accuracy тренировочной выборки в список\n",
    "    accuracy_tree_train.append(accuracy_score(target_train, model_tree.predict(features_train)))\n",
    "    if result_f1 > best_result_tree_f1:\n",
    "        best_model_tree = model_tree\n",
    "        best_depth_tree = depth\n",
    "        best_result_tree = result_accuracy\n",
    "        best_result_tree_f1 = result_f1\n",
    "        probabilities_valid_tree = model_tree.predict_proba(features_valid)\n",
    "        probabilities_one_valid_tree = probabilities_valid_tree[:, 1]\n",
    "        auc_roc_tree = roc_auc_score(target_valid, probabilities_one_valid_tree)\n",
    "\n",
    "predicted_valid_tree = best_model_tree.predict(features_valid)\n",
    "print('Модель: Решающее дерево, валидационая выборка')\n",
    "print('Доля верных решений (Accuracy):', best_result_tree)\n",
    "print('Метрика F-1 на валидационной выборке у Решающего дерева:', round(best_result_tree_f1, 2), 'Глубина:', best_depth_tree)  \n",
    "print('Метрика AUC_ROC:', auc_roc_tree)\n",
    "print('Полнота: ', recall_score(target_valid, predicted_valid_tree))\n",
    "print('Точность:', precision_score(target_valid, predicted_valid_tree))\n",
    "print(confusion_matrix(target_valid, predicted_valid_tree))\n"
   ]
  },
  {
   "cell_type": "code",
   "execution_count": 21,
   "metadata": {},
   "outputs": [
    {
     "data": {
      "text/html": [
       "<div>\n",
       "<style scoped>\n",
       "    .dataframe tbody tr th:only-of-type {\n",
       "        vertical-align: middle;\n",
       "    }\n",
       "\n",
       "    .dataframe tbody tr th {\n",
       "        vertical-align: top;\n",
       "    }\n",
       "\n",
       "    .dataframe thead th {\n",
       "        text-align: right;\n",
       "    }\n",
       "</style>\n",
       "<table border=\"1\" class=\"dataframe\">\n",
       "  <thead>\n",
       "    <tr style=\"text-align: right;\">\n",
       "      <th></th>\n",
       "      <th>accuracy_tree_valid</th>\n",
       "      <th>accuracy_tree_train</th>\n",
       "    </tr>\n",
       "  </thead>\n",
       "  <tbody>\n",
       "    <tr>\n",
       "      <th>1</th>\n",
       "      <td>0.7960</td>\n",
       "      <td>0.796333</td>\n",
       "    </tr>\n",
       "    <tr>\n",
       "      <th>2</th>\n",
       "      <td>0.8350</td>\n",
       "      <td>0.837500</td>\n",
       "    </tr>\n",
       "    <tr>\n",
       "      <th>3</th>\n",
       "      <td>0.8400</td>\n",
       "      <td>0.842167</td>\n",
       "    </tr>\n",
       "    <tr>\n",
       "      <th>4</th>\n",
       "      <td>0.8490</td>\n",
       "      <td>0.856167</td>\n",
       "    </tr>\n",
       "    <tr>\n",
       "      <th>5</th>\n",
       "      <td>0.8575</td>\n",
       "      <td>0.862500</td>\n",
       "    </tr>\n",
       "    <tr>\n",
       "      <th>6</th>\n",
       "      <td>0.8600</td>\n",
       "      <td>0.866000</td>\n",
       "    </tr>\n",
       "    <tr>\n",
       "      <th>7</th>\n",
       "      <td>0.8590</td>\n",
       "      <td>0.870833</td>\n",
       "    </tr>\n",
       "    <tr>\n",
       "      <th>8</th>\n",
       "      <td>0.8580</td>\n",
       "      <td>0.879167</td>\n",
       "    </tr>\n",
       "    <tr>\n",
       "      <th>9</th>\n",
       "      <td>0.8500</td>\n",
       "      <td>0.892167</td>\n",
       "    </tr>\n",
       "    <tr>\n",
       "      <th>10</th>\n",
       "      <td>0.8375</td>\n",
       "      <td>0.906000</td>\n",
       "    </tr>\n",
       "    <tr>\n",
       "      <th>11</th>\n",
       "      <td>0.8350</td>\n",
       "      <td>0.920167</td>\n",
       "    </tr>\n",
       "    <tr>\n",
       "      <th>12</th>\n",
       "      <td>0.8255</td>\n",
       "      <td>0.933500</td>\n",
       "    </tr>\n",
       "    <tr>\n",
       "      <th>13</th>\n",
       "      <td>0.8175</td>\n",
       "      <td>0.950667</td>\n",
       "    </tr>\n",
       "    <tr>\n",
       "      <th>14</th>\n",
       "      <td>0.8010</td>\n",
       "      <td>0.963000</td>\n",
       "    </tr>\n",
       "    <tr>\n",
       "      <th>15</th>\n",
       "      <td>0.8005</td>\n",
       "      <td>0.976000</td>\n",
       "    </tr>\n",
       "    <tr>\n",
       "      <th>16</th>\n",
       "      <td>0.8055</td>\n",
       "      <td>0.983500</td>\n",
       "    </tr>\n",
       "    <tr>\n",
       "      <th>17</th>\n",
       "      <td>0.7980</td>\n",
       "      <td>0.991333</td>\n",
       "    </tr>\n",
       "    <tr>\n",
       "      <th>18</th>\n",
       "      <td>0.7935</td>\n",
       "      <td>0.995333</td>\n",
       "    </tr>\n",
       "    <tr>\n",
       "      <th>19</th>\n",
       "      <td>0.7965</td>\n",
       "      <td>0.996667</td>\n",
       "    </tr>\n",
       "  </tbody>\n",
       "</table>\n",
       "</div>"
      ],
      "text/plain": [
       "    accuracy_tree_valid  accuracy_tree_train\n",
       "1                0.7960             0.796333\n",
       "2                0.8350             0.837500\n",
       "3                0.8400             0.842167\n",
       "4                0.8490             0.856167\n",
       "5                0.8575             0.862500\n",
       "6                0.8600             0.866000\n",
       "7                0.8590             0.870833\n",
       "8                0.8580             0.879167\n",
       "9                0.8500             0.892167\n",
       "10               0.8375             0.906000\n",
       "11               0.8350             0.920167\n",
       "12               0.8255             0.933500\n",
       "13               0.8175             0.950667\n",
       "14               0.8010             0.963000\n",
       "15               0.8005             0.976000\n",
       "16               0.8055             0.983500\n",
       "17               0.7980             0.991333\n",
       "18               0.7935             0.995333\n",
       "19               0.7965             0.996667"
      ]
     },
     "execution_count": 21,
     "metadata": {},
     "output_type": "execute_result"
    }
   ],
   "source": [
    "# График accuracy для оценки, не переобучилась ли у нас модель\n",
    "# Для отрисовки графика сделаем датасет\n",
    "tree_graphic = pd.DataFrame(data = accuracy_tree_valid, columns = ['accuracy_tree_valid'], index = depth_tree)\n",
    "tree_graphic['accuracy_tree_train'] = accuracy_tree_train\n",
    "tree_graphic"
   ]
  },
  {
   "cell_type": "code",
   "execution_count": 22,
   "metadata": {},
   "outputs": [
    {
     "data": {
      "image/png": "[encoded data removed]",
      "text/plain": [
       "<Figure size 1584x432 with 1 Axes>"
      ]
     },
     "metadata": {
      "needs_background": "light"
     },
     "output_type": "display_data"
    }
   ],
   "source": [
    "# График Accuracy\n",
    "plt.figure(figsize=(22,6))\n",
    "\n",
    "sns.lineplot(data=tree_graphic)\n",
    "plt.title(\"Доля правильных ответов модели Решающее дерево\", fontsize=20)\n",
    "plt.xlabel(\"Глубина\", fontsize=20)\n",
    "plt.ylabel(\"Метрика Accuracy\", fontsize=20)\n",
    "plt.legend()\n",
    "plt.show()"
   ]
  },
  {
   "cell_type": "markdown",
   "metadata": {},
   "source": [
    "Лучшую метрику F-1 = 0.59 получили при глубине = 6. Из графика Accuracy решающего дерева видно, что при глубине, большей 6 модель начинает переобучаться."
   ]
  },
  {
   "cell_type": "code",
   "execution_count": 23,
   "metadata": {},
   "outputs": [
    {
     "name": "stderr",
     "output_type": "stream",
     "text": [
      "100%|██████████| 15/15 [00:56<00:00,  3.75s/it]"
     ]
    },
    {
     "name": "stdout",
     "output_type": "stream",
     "text": [
      "Модель: Случайный лес, валидационая выборка\n",
      "Метрика F-1 на валидационной выборке у Случайного леса: 0.6\n",
      "Метрика AUC_ROC: 0.8697023721548921\n",
      "Доля правильных ответов Accuracy на валидационной выборке у Случайного леса: 0.87 Глубина: 9 Деревьев: 20\n",
      "Полнота:  0.48284313725490197\n",
      "Точность: 0.8008130081300813\n",
      "[[1543   49]\n",
      " [ 211  197]]\n",
      "CPU times: user 55.8 s, sys: 360 ms, total: 56.1 s\n",
      "Wall time: 56.4 s\n"
     ]
    },
    {
     "name": "stderr",
     "output_type": "stream",
     "text": [
      "\n"
     ]
    }
   ],
   "source": [
    "%%time\n",
    "# используем Случайный лес\n",
    "best_model_forest = None\n",
    "best_depth_forest = 0\n",
    "best_est = 0\n",
    "best_result_forest = 0\n",
    "best_result_forest_f1 = 0\n",
    "for est in tqdm(range(10, 151, 10)):\n",
    "            #перебор по глубине\n",
    "            for depth_forest in range(1, 11):\n",
    "                model_forest = RandomForestClassifier(random_state=12345, n_estimators=est, max_depth=depth_forest, n_jobs=-1)\n",
    "                model_forest.fit(features_train, target_train)\n",
    "                predictions_forest = model_forest.predict(features_valid)\n",
    "                result_forest = accuracy_score(target_valid, predictions_forest)\n",
    "                result_forest_f1 = f1_score(target_valid, predictions_forest)\n",
    "                if result_forest_f1 > best_result_forest_f1:\n",
    "                    best_model_forest = model_forest\n",
    "                    best_depth_forest = depth_forest\n",
    "                    best_est = est\n",
    "                    best_result_forest = result_forest\n",
    "                    best_result_forest_f1 = result_forest_f1                    \n",
    "probabilities_valid_forest = best_model_forest.predict_proba(features_valid)\n",
    "probabilities_one_valid_forest = probabilities_valid_forest[:, 1]\n",
    "auc_roc_forest = roc_auc_score(target_valid, probabilities_one_valid_forest)\n",
    "                    \n",
    "                    \n",
    "predicted_valid_forest = best_model_forest.predict(features_valid)\n",
    "print('Модель: Случайный лес, валидационая выборка')\n",
    "print('Метрика F-1 на валидационной выборке у Случайного леса:', round(best_result_forest_f1, 2))  \n",
    "print('Метрика AUC_ROC:', auc_roc_forest)\n",
    "print(\"Доля правильных ответов Accuracy на валидационной выборке у Случайного леса:\", round(best_result_forest, 2), 'Глубина:',best_depth_forest, 'Деревьев:', best_est)\n",
    "print('Полнота: ', recall_score(target_valid, predicted_valid_forest))\n",
    "print('Точность:', precision_score(target_valid, predicted_valid_forest))\n",
    "print(confusion_matrix(target_valid, predicted_valid_forest))"
   ]
  },
  {
   "cell_type": "code",
   "execution_count": 24,
   "metadata": {},
   "outputs": [
    {
     "data": {
      "image/png": "[encoded data removed]",
      "text/plain": [
       "<Figure size 864x648 with 1 Axes>"
      ]
     },
     "metadata": {
      "needs_background": "light"
     },
     "output_type": "display_data"
    }
   ],
   "source": [
    "# График ROC-AUC\n",
    "\n",
    "fpr_forest, tpr_forest, thresholds = roc_curve(target_valid, probabilities_one_valid_forest) # < напишите код здесь >\n",
    "fpr_tree, tpr_tree, thresholds = roc_curve(target_valid, probabilities_one_valid_tree) # < напишите код здесь >#probabilities_one_valid_tree\n",
    "fpr_logist, tpr_logist, thresholds = roc_curve(target_valid, probabilities_one_valid_logist) # < напишите код здесь >#probabilities_one_valid_tree\n",
    "\n",
    "\n",
    "plt.figure(figsize=[12,9])\n",
    "\n",
    "plt.xlim([0.0, 1.0])\n",
    "plt.ylim([0.0, 1.0])\n",
    "plt.xlabel('False Positive Rate')\n",
    "plt.ylabel('True Positive Rate')\n",
    "plt.title('ROC-кривая')\n",
    "\n",
    "# ROC-кривая случайной модели (выглядит как прямая)\n",
    "plt.plot([0, 1], [0, 1], linestyle='--', label='RandomModel')\n",
    "plt.plot(fpr_logist, tpr_logist, label='LogisticRegression')\n",
    "plt.plot(fpr_tree, tpr_tree, label='DecisionTreeClassifier')\n",
    "plt.plot(fpr_forest, tpr_forest, label='RandomForestClassifier')\n",
    "plt.legend(loc='lower right', fontsize='x-large')\n",
    "plt.show()"
   ]
  },
  {
   "cell_type": "markdown",
   "metadata": {},
   "source": [
    "### Вывод\n",
    "\n",
    "\n",
    "* Логистическая регрессия: \n",
    "    - F-1 мера: 0.30458715596330277\n",
    "    - Метрика AUC_ROC: 0.7875098531875061\n",
    "\n",
    "* Решающее дерево:\n",
    "    - Метрика F-1 на валидационной выборке у Решающего дерева: 0.59 Глубина: 7\n",
    "    - Метрика AUC_ROC: 0.8247056360232534\n",
    "\n",
    "* Случайный лес:\n",
    "    - Метрика F-1 на валидационной выборке у Случайного леса: 0.6\n",
    "    - Метрика AUC_ROC: 0.8697023721548921   \n",
    "    \n",
    "Лучшие показатели у Случайного леса\n",
    "\n",
    "Все модели имеют метрику ROC-AUC больше 0.5\n",
    "Лучший результат показала модель Случайного леса"
   ]
  },
  {
   "cell_type": "markdown",
   "metadata": {},
   "source": [
    "## Борьба с дисбалансом"
   ]
  },
  {
   "cell_type": "markdown",
   "metadata": {},
   "source": [
    "### Взвешивание классов"
   ]
  },
  {
   "cell_type": "code",
   "execution_count": 25,
   "metadata": {},
   "outputs": [
    {
     "name": "stdout",
     "output_type": "stream",
     "text": [
      "Модель: Логистическая регрессия, валидационая выборка\n",
      "[[1163  429]\n",
      " [ 107  301]]\n",
      "Доля верных решений (Accuracy): 0.732\n",
      "Полнота:  0.7377450980392157\n",
      "Точность: 0.4123287671232877\n",
      "F-1 мера: 0.5289982425307558\n",
      "Метрика AUC_ROC: 0.7937235195585772\n"
     ]
    }
   ],
   "source": [
    "# Взвешивание классов  class_weight='balanced'\n",
    "model = LogisticRegression(random_state=12345, solver='liblinear', class_weight='balanced')\n",
    "model.fit(features_train, target_train)\n",
    "predicted_valid = model.predict(features_valid)\n",
    "\n",
    "# Метрика AUC-ROC\n",
    "probabilities_valid_logist = model.predict_proba(features_valid)\n",
    "probabilities_one_valid_logist = probabilities_valid_logist[:, 1]\n",
    "auc_roc_logist = roc_auc_score(target_valid, probabilities_one_valid_logist)\n",
    "\n",
    "print('Модель: Логистическая регрессия, валидационая выборка')\n",
    "print(confusion_matrix(target_valid, predicted_valid))\n",
    "print('Доля верных решений (Accuracy):', model.score(features_valid, target_valid))\n",
    "print('Полнота: ', recall_score(target_valid, predicted_valid))\n",
    "print('Точность:', precision_score(target_valid, predicted_valid))\n",
    "print('F-1 мера:', f1_score(target_valid, predicted_valid))\n",
    "print('Метрика AUC_ROC:', auc_roc_logist)"
   ]
  },
  {
   "cell_type": "code",
   "execution_count": 26,
   "metadata": {},
   "outputs": [
    {
     "name": "stderr",
     "output_type": "stream",
     "text": [
      "100%|██████████| 19/19 [00:00<00:00, 34.99it/s]"
     ]
    },
    {
     "name": "stdout",
     "output_type": "stream",
     "text": [
      "Модель: Решающее дерево, валидационая выборка\n",
      "Доля верных решений (Accuracy): 0.771\n",
      "Метрика F-1 на валидационной выборке у Решающего дерева: 0.58 Глубина: 6\n",
      "Метрика AUC_ROC: 0.8234124051630702\n",
      "Полнота:  0.7622549019607843\n",
      "Точность: 0.46279761904761907\n",
      "[[1231  361]\n",
      " [  97  311]]\n"
     ]
    },
    {
     "name": "stderr",
     "output_type": "stream",
     "text": [
      "\n"
     ]
    }
   ],
   "source": [
    "# Решающее дерево\n",
    "\n",
    "best_result_tree = 0\n",
    "best_result_tree_f1 = 0\n",
    "best_depth_tree = 0\n",
    "best_model_tree = None\n",
    "for depth in tqdm(range(1,20)):\n",
    "#поместим в можел структуру решающего дерева\n",
    "    model_tree = DecisionTreeClassifier(random_state=12345, max_depth=depth, class_weight='balanced')\n",
    "# обучим модель\n",
    "    model_tree.fit(features_train, target_train)\n",
    "# предскажем целевой признак на валидационной выборке\n",
    "    prediction_valid_tree = model_tree.predict(features_valid)\n",
    "    result_accuracy = accuracy_score(target_valid, prediction_valid_tree)\n",
    "# F-1 мера    \n",
    "    result_f1 = f1_score(target_valid, prediction_valid_tree)\n",
    "    if result_f1 > best_result_tree_f1:\n",
    "        best_model_tree = model_tree\n",
    "        best_depth_tree = depth\n",
    "        best_result_tree = result_accuracy\n",
    "        best_result_tree_f1 = result_f1\n",
    "probabilities_valid_tree = best_model_tree.predict_proba(features_valid)\n",
    "probabilities_one_valid_tree = probabilities_valid_tree[:, 1]\n",
    "auc_roc_tree = roc_auc_score(target_valid, probabilities_one_valid_tree)\n",
    "\n",
    "predicted_valid_tree = best_model_tree.predict(features_valid)\n",
    "print('Модель: Решающее дерево, валидационая выборка')\n",
    "print('Доля верных решений (Accuracy):', best_result_tree)\n",
    "print('Метрика F-1 на валидационной выборке у Решающего дерева:', round(best_result_tree_f1, 2), 'Глубина:', best_depth_tree)  \n",
    "print('Метрика AUC_ROC:', auc_roc_tree)\n",
    "print('Полнота: ', recall_score(target_valid, predicted_valid_tree))\n",
    "print('Точность:', precision_score(target_valid, predicted_valid_tree))\n",
    "print(confusion_matrix(target_valid, predicted_valid_tree))"
   ]
  },
  {
   "cell_type": "code",
   "execution_count": 27,
   "metadata": {},
   "outputs": [
    {
     "name": "stderr",
     "output_type": "stream",
     "text": [
      "100%|██████████| 15/15 [00:58<00:00,  3.90s/it]"
     ]
    },
    {
     "name": "stdout",
     "output_type": "stream",
     "text": [
      "Модель: Случайный лес, валидационая выборка\n",
      "Метрика F-1 на валидационной выборке у Случайного леса: 0.66\n",
      "Метрика AUC_ROC: 0.8704074908858016\n",
      "Доля правильных ответов Accuracy на валидационной выборке у Случайного леса: 0.84 Глубина: 8 Деревьев: 150\n",
      "Полнота:  0.7303921568627451\n",
      "Точность: 0.5948103792415169\n",
      "[[1389  203]\n",
      " [ 110  298]]\n",
      "CPU times: user 58 s, sys: 484 ms, total: 58.5 s\n",
      "Wall time: 58.6 s\n"
     ]
    },
    {
     "name": "stderr",
     "output_type": "stream",
     "text": [
      "\n"
     ]
    }
   ],
   "source": [
    "%%time\n",
    "# используем Случайный лес\n",
    "best_model_forest = None\n",
    "best_depth_forest = 0\n",
    "best_est = 0\n",
    "best_result_forest = 0\n",
    "best_result_forest_f1 = 0\n",
    "for est in tqdm(range(10, 151, 10)):\n",
    "            #перебор по глубине\n",
    "            for depth_forest in range(1, 11):\n",
    "                model_forest = RandomForestClassifier(random_state=12345, n_estimators=est, max_depth=depth_forest, n_jobs=-1, class_weight='balanced')\n",
    "                model_forest.fit(features_train, target_train)\n",
    "                predictions_forest = model_forest.predict(features_valid)\n",
    "                result_forest = accuracy_score(target_valid, predictions_forest)\n",
    "                result_forest_f1 = f1_score(target_valid, predictions_forest)\n",
    "                if result_forest_f1 > best_result_forest_f1:\n",
    "                    best_model_forest = model_forest\n",
    "                    best_depth_forest = depth_forest\n",
    "                    best_est = est\n",
    "                    best_result_forest = result_forest\n",
    "                    best_result_forest_f1 = result_forest_f1                    \n",
    "probabilities_valid_forest = best_model_forest.predict_proba(features_valid)\n",
    "probabilities_one_valid_forest = probabilities_valid_forest[:, 1]\n",
    "auc_roc_forest = roc_auc_score(target_valid, probabilities_one_valid_forest)\n",
    "                    \n",
    "                    \n",
    "predicted_valid_forest = best_model_forest.predict(features_valid)\n",
    "print('Модель: Случайный лес, валидационая выборка')\n",
    "print('Метрика F-1 на валидационной выборке у Случайного леса:', round(best_result_forest_f1, 2))  \n",
    "print('Метрика AUC_ROC:', auc_roc_forest)\n",
    "#print(\"Доля правильных ответов Accuracy на валидационной выборке у Случайного леса:\", round(best_result_forest, 2), 'Глубина:',best_depth_forest, 'Деревьев:', best_est, 'узлов:', best_split, 'Листьев:', best_leaf)\n",
    "print(\"Доля правильных ответов Accuracy на валидационной выборке у Случайного леса:\", round(best_result_forest, 2), 'Глубина:',best_depth_forest, 'Деревьев:', best_est)\n",
    "print('Полнота: ', recall_score(target_valid, predicted_valid_forest))\n",
    "print('Точность:', precision_score(target_valid, predicted_valid_forest))\n",
    "print(confusion_matrix(target_valid, predicted_valid_forest))"
   ]
  },
  {
   "cell_type": "code",
   "execution_count": 28,
   "metadata": {},
   "outputs": [
    {
     "data": {
      "image/png": "[encoded data removed]",
      "text/plain": [
       "<Figure size 864x648 with 1 Axes>"
      ]
     },
     "metadata": {
      "needs_background": "light"
     },
     "output_type": "display_data"
    }
   ],
   "source": [
    "# График ROC-AUC\n",
    "\n",
    "fpr_forest, tpr_forest, thresholds = roc_curve(target_valid, probabilities_one_valid_forest) # < напишите код здесь >\n",
    "fpr_tree, tpr_tree, thresholds = roc_curve(target_valid, probabilities_one_valid_tree) # < напишите код здесь >#probabilities_one_valid_tree\n",
    "fpr_logist, tpr_logist, thresholds = roc_curve(target_valid, probabilities_one_valid_logist) # < напишите код здесь >#probabilities_one_valid_tree\n",
    "\n",
    "\n",
    "plt.figure(figsize=[12,9])\n",
    "\n",
    "plt.xlim([0.0, 1.0])\n",
    "plt.ylim([0.0, 1.0])\n",
    "plt.xlabel('False Positive Rate')\n",
    "plt.ylabel('True Positive Rate')\n",
    "plt.title('ROC-кривая')\n",
    "\n",
    "# ROC-кривая случайной модели (выглядит как прямая)\n",
    "plt.plot([0, 1], [0, 1], linestyle='--', label='RandomModel')\n",
    "plt.plot(fpr_logist, tpr_logist, label='LogisticRegression')\n",
    "plt.plot(fpr_tree, tpr_tree, label='DecisionTreeClassifier')\n",
    "plt.plot(fpr_forest, tpr_forest, label='RandomForestClassifier')\n",
    "plt.legend(loc='lower right', fontsize='x-large')\n",
    "plt.show()"
   ]
  },
  {
   "cell_type": "markdown",
   "metadata": {},
   "source": [
    "#### Вывод Взвешиванине классов \n",
    "\n",
    "\n",
    "* Логистическая регрессия: \n",
    "    - F-1 мера: 0.5289982425307558\n",
    "    - Метрика AUC_ROC: 0.7937235195585772\n",
    "\n",
    "* Решающее дерево:\n",
    "    - Метрика F-1 на валидационной выборке у Решающего дерева: 0.58 \n",
    "    - Метрика AUC_ROC: 0.8234124051630702\n",
    "\n",
    "* Случайный лес:\n",
    "    - Метрика F-1 на валидационной выборке у Случайного леса: 0.66\n",
    "    - Метрика AUC_ROC: 0.8704074908858016    \n",
    "    \n",
    "Лучшие показатели у Случайного леса"
   ]
  },
  {
   "cell_type": "markdown",
   "metadata": {},
   "source": [
    "### Увеличение выборки\n"
   ]
  },
  {
   "cell_type": "code",
   "execution_count": 29,
   "metadata": {},
   "outputs": [],
   "source": [
    "# функция для увеличения выборки\n",
    "\n",
    "def upsample(features, target, repeat):\n",
    "    features_zeros = features[target == 0]\n",
    "    features_ones = features[target == 1]\n",
    "    target_zeros = target[target == 0]\n",
    "    target_ones = target[target == 1]\n",
    "    features_upsampled = pd.concat([features_zeros] + [features_ones] * repeat)\n",
    "    target_upsampled = pd.concat([target_zeros] + [target_ones] * repeat)\n",
    "    features_upsampled, target_upsampled = shuffle(features_upsampled, target_upsampled, random_state=12345)\n",
    "    return features_upsampled, target_upsampled"
   ]
  },
  {
   "cell_type": "code",
   "execution_count": 30,
   "metadata": {},
   "outputs": [
    {
     "name": "stdout",
     "output_type": "stream",
     "text": [
      "1    4888\n",
      "0    4778\n",
      "Name: Exited, dtype: int64\n"
     ]
    }
   ],
   "source": [
    "# У нас дисбаланс 0 и 1 равен 3.9\n",
    "features_upsampled, target_upsampled = upsample(features_train, target_train, 4)\n",
    "print(target_upsampled.value_counts())"
   ]
  },
  {
   "cell_type": "code",
   "execution_count": 31,
   "metadata": {},
   "outputs": [
    {
     "name": "stdout",
     "output_type": "stream",
     "text": [
      "Модель: Логистическая регрессия, валидационая выборка\n",
      "[[1148  444]\n",
      " [ 105  303]]\n",
      "Доля верных решений (Accuracy): 0.7255\n",
      "Полнота:  0.7426470588235294\n",
      "Точность: 0.40562248995983935\n",
      "F-1 мера: 0.5246753246753246\n",
      "Метрика AUC_ROC: 0.7937851019804907\n"
     ]
    }
   ],
   "source": [
    "# Взвешивание классов  class_weight='balanced'\n",
    "model = LogisticRegression(random_state=12345, solver='liblinear')\n",
    "model.fit(features_upsampled, target_upsampled)\n",
    "predicted_valid = model.predict(features_valid)\n",
    "\n",
    "# Метрика AUC-ROC\n",
    "probabilities_valid_logist = model.predict_proba(features_valid)\n",
    "probabilities_one_valid_logist = probabilities_valid_logist[:, 1]\n",
    "auc_roc_logist = roc_auc_score(target_valid, probabilities_one_valid_logist)\n",
    "\n",
    "print('Модель: Логистическая регрессия, валидационая выборка')\n",
    "print(confusion_matrix(target_valid, predicted_valid))\n",
    "print('Доля верных решений (Accuracy):', model.score(features_valid, target_valid))\n",
    "print('Полнота: ', recall_score(target_valid, predicted_valid))\n",
    "print('Точность:', precision_score(target_valid, predicted_valid))\n",
    "print('F-1 мера:', f1_score(target_valid, predicted_valid))\n",
    "print('Метрика AUC_ROC:', auc_roc_logist)"
   ]
  },
  {
   "cell_type": "code",
   "execution_count": 32,
   "metadata": {},
   "outputs": [
    {
     "name": "stderr",
     "output_type": "stream",
     "text": [
      "100%|██████████| 19/19 [00:00<00:00, 26.28it/s]"
     ]
    },
    {
     "name": "stdout",
     "output_type": "stream",
     "text": [
      "Модель: Решающее дерево, валидационая выборка\n",
      "Доля верных решений (Accuracy): 0.771\n",
      "Метрика F-1 на валидационной выборке у Решающего дерева: 0.58 Глубина: 6\n",
      "Метрика AUC_ROC: 0.8234278007685487\n",
      "Полнота:  0.7622549019607843\n",
      "Точность: 0.46279761904761907\n",
      "[[1231  361]\n",
      " [  97  311]]\n",
      "CPU times: user 661 ms, sys: 35.3 ms, total: 696 ms\n",
      "Wall time: 742 ms\n"
     ]
    },
    {
     "name": "stderr",
     "output_type": "stream",
     "text": [
      "\n"
     ]
    }
   ],
   "source": [
    "%%time\n",
    "# Решающее дерево\n",
    "best_result_tree = 0\n",
    "best_result_tree_f1 = 0\n",
    "best_depth_tree = 0\n",
    "best_model_tree = None\n",
    "for depth in tqdm(range(1,20)):\n",
    "#поместим в можел структуру решающего дерева\n",
    "    model_tree = DecisionTreeClassifier(random_state=12345, max_depth=depth)\n",
    "# обучим модель\n",
    "    model_tree.fit(features_upsampled, target_upsampled)\n",
    "# предскажем целевой признак на валидационной выборке\n",
    "    prediction_valid_tree = model_tree.predict(features_valid)\n",
    "    result_accuracy = accuracy_score(target_valid, prediction_valid_tree)\n",
    "# F-1 мера    \n",
    "    result_f1 = f1_score(target_valid, prediction_valid_tree)\n",
    "    if result_f1 > best_result_tree_f1:\n",
    "        best_model_tree = model_tree\n",
    "        best_depth_tree = depth\n",
    "        best_result_tree = result_accuracy\n",
    "        best_result_tree_f1 = result_f1\n",
    "probabilities_valid_tree = best_model_tree.predict_proba(features_valid)\n",
    "probabilities_one_valid_tree = probabilities_valid_tree[:, 1]\n",
    "auc_roc_tree = roc_auc_score(target_valid, probabilities_one_valid_tree)\n",
    "\n",
    "predicted_valid_tree = best_model_tree.predict(features_valid)\n",
    "print('Модель: Решающее дерево, валидационая выборка')\n",
    "print('Доля верных решений (Accuracy):', best_result_tree)\n",
    "print('Метрика F-1 на валидационной выборке у Решающего дерева:', round(best_result_tree_f1, 2), 'Глубина:', best_depth_tree)  \n",
    "print('Метрика AUC_ROC:', auc_roc_tree)\n",
    "print('Полнота: ', recall_score(target_valid, predicted_valid_tree))\n",
    "print('Точность:', precision_score(target_valid, predicted_valid_tree))\n",
    "print(confusion_matrix(target_valid, predicted_valid_tree))"
   ]
  },
  {
   "cell_type": "code",
   "execution_count": 33,
   "metadata": {},
   "outputs": [
    {
     "name": "stderr",
     "output_type": "stream",
     "text": [
      "100%|██████████| 15/15 [01:16<00:00,  5.10s/it]"
     ]
    },
    {
     "name": "stdout",
     "output_type": "stream",
     "text": [
      "Модель: Случайный лес, валидационая выборка\n",
      "Метрика F-1 на валидационной выборке у Случайного леса: 0.64\n",
      "Метрика AUC_ROC: 0.8741147526849935\n",
      "Доля правильных ответов Accuracy на валидационной выборке у Случайного леса: 0.83 Глубина: 9 Деревьев: 110\n",
      "Полнота:  0.7352941176470589\n",
      "Точность: 0.5725190839694656\n",
      "[[1368  224]\n",
      " [ 108  300]]\n",
      "CPU times: user 1min 15s, sys: 451 ms, total: 1min 16s\n",
      "Wall time: 1min 16s\n"
     ]
    },
    {
     "name": "stderr",
     "output_type": "stream",
     "text": [
      "\n"
     ]
    }
   ],
   "source": [
    "%%time\n",
    "# используем Случайный лес\n",
    "best_model_forest = None\n",
    "best_depth_forest = 0\n",
    "best_est = 0\n",
    "best_result_forest = 0\n",
    "best_result_forest_f1 = 0\n",
    "for est in tqdm(range(10, 151, 10)):\n",
    "            #перебор по глубине\n",
    "            for depth_forest in range(1, 11):\n",
    "                model_forest = RandomForestClassifier(random_state=12345, n_estimators=est, max_depth=depth_forest, n_jobs=-1)\n",
    "                model_forest.fit(features_upsampled, target_upsampled)\n",
    "                predictions_forest = model_forest.predict(features_valid)\n",
    "                result_forest = accuracy_score(target_valid, predictions_forest)\n",
    "                result_forest_f1 = f1_score(target_valid, predictions_forest)\n",
    "                if result_forest_f1 > best_result_forest_f1:\n",
    "                    best_model_forest = model_forest\n",
    "                    best_depth_forest = depth_forest\n",
    "                    best_est = est\n",
    "                    best_result_forest = result_forest\n",
    "                    best_result_forest_f1 = result_forest_f1                    \n",
    "probabilities_valid_forest = best_model_forest.predict_proba(features_valid)\n",
    "probabilities_one_valid_forest = probabilities_valid_forest[:, 1]\n",
    "auc_roc_forest = roc_auc_score(target_valid, probabilities_one_valid_forest)\n",
    "                    \n",
    "                    \n",
    "predicted_valid_forest = best_model_forest.predict(features_valid)\n",
    "print('Модель: Случайный лес, валидационая выборка')\n",
    "print('Метрика F-1 на валидационной выборке у Случайного леса:', round(best_result_forest_f1, 2))  \n",
    "print('Метрика AUC_ROC:', auc_roc_forest)\n",
    "#print(\"Доля правильных ответов Accuracy на валидационной выборке у Случайного леса:\", round(best_result_forest, 2), 'Глубина:',best_depth_forest, 'Деревьев:', best_est, 'узлов:', best_split, 'Листьев:', best_leaf)\n",
    "print(\"Доля правильных ответов Accuracy на валидационной выборке у Случайного леса:\", round(best_result_forest, 2), 'Глубина:',best_depth_forest, 'Деревьев:', best_est)\n",
    "print('Полнота: ', recall_score(target_valid, predicted_valid_forest))\n",
    "print('Точность:', precision_score(target_valid, predicted_valid_forest))\n",
    "print(confusion_matrix(target_valid, predicted_valid_forest))"
   ]
  },
  {
   "cell_type": "code",
   "execution_count": 34,
   "metadata": {},
   "outputs": [
    {
     "data": {
      "image/png": "[encoded data removed]",
      "text/plain": [
       "<Figure size 864x648 with 1 Axes>"
      ]
     },
     "metadata": {
      "needs_background": "light"
     },
     "output_type": "display_data"
    }
   ],
   "source": [
    "# График ROC-AUC\n",
    "\n",
    "fpr_forest, tpr_forest, thresholds = roc_curve(target_valid, probabilities_one_valid_forest) # < напишите код здесь >\n",
    "fpr_tree, tpr_tree, thresholds = roc_curve(target_valid, probabilities_one_valid_tree) # < напишите код здесь >#probabilities_one_valid_tree\n",
    "fpr_logist, tpr_logist, thresholds = roc_curve(target_valid, probabilities_one_valid_logist) # < напишите код здесь >#probabilities_one_valid_tree\n",
    "\n",
    "\n",
    "plt.figure(figsize=[12,9])\n",
    "\n",
    "plt.xlim([0.0, 1.0])\n",
    "plt.ylim([0.0, 1.0])\n",
    "plt.xlabel('False Positive Rate')\n",
    "plt.ylabel('True Positive Rate')\n",
    "plt.title('ROC-кривая')\n",
    "\n",
    "# ROC-кривая случайной модели (выглядит как прямая)\n",
    "plt.plot([0, 1], [0, 1], linestyle='--', label='RandomModel')\n",
    "plt.plot(fpr_logist, tpr_logist, label='LogisticRegression')\n",
    "plt.plot(fpr_tree, tpr_tree, label='DecisionTreeClassifier')\n",
    "plt.plot(fpr_forest, tpr_forest, label='RandomForestClassifier')\n",
    "plt.legend(loc='lower right', fontsize='x-large')\n",
    "plt.show()"
   ]
  },
  {
   "cell_type": "markdown",
   "metadata": {},
   "source": [
    "#### Вывод при увеличении выборки показатели у моделей следующие**\n",
    "\n",
    "* Логистическая регрессия: \n",
    "    - F-1 мера: 0.5246753246753246\n",
    "    - Метрика AUC_ROC: 0.7937851019804907\n",
    "\n",
    "* Решающее дерево:\n",
    "    - Метрика F-1 на валидационной выборке у Решающего дерева: 0.58 Глубина: 6\n",
    "    - Метрика AUC_ROC: 0.8234278007685487\n",
    "\n",
    "* Случайный лес:\n",
    "    - Метрика F-1 на валидационной выборке у Случайного леса: 0.64\n",
    "    - Метрика AUC_ROC: 0.8741147526849935\n",
    "    \n",
    "Лучшие показатели у Случайного леса"
   ]
  },
  {
   "cell_type": "markdown",
   "metadata": {},
   "source": [
    "### Вывод\n",
    "\n",
    "* В борьбе с дисбалансом были применены методы:\n",
    "    - Взвешивания классов\n",
    "    - Увеличение выборки\n",
    "* Оба метода дали положительные результаты по улучшению метрик F-1 и ROC-AUC\n",
    "* Лучшие показатели у Случайного леса, применяемый метод для устранения дисбаланса:  взвешивание классов\n",
    "    * Случайный лес:\n",
    "        - Метрика F-1 на валидационной выборке у Случайного леса: 0.66\n",
    "        - Метрика AUC_ROC: 0.8704074908858016    \n",
    "    \n"
   ]
  },
  {
   "cell_type": "markdown",
   "metadata": {},
   "source": [
    "## Тестирование модели"
   ]
  },
  {
   "cell_type": "code",
   "execution_count": 35,
   "metadata": {},
   "outputs": [
    {
     "name": "stdout",
     "output_type": "stream",
     "text": [
      "Модель: Случайный лес, тестовая выборка\n",
      "Метрика F-1 на валидационной выборке у Случайного леса: 0.61\n",
      "Метрика AUC_ROC: 0.85916116424591\n",
      "Доля правильных ответов Accuracy на валидационной выборке у Случайного леса: 0.82\n",
      "Полнота:  0.687960687960688\n",
      "Точность: 0.5533596837944664\n",
      "[[1367  226]\n",
      " [ 127  280]]\n"
     ]
    }
   ],
   "source": [
    "# Лучшие показатели F-1 и AUC-ROC у случайного леса с параметрами доереьев: Глубина: 8 Деревьев: 150\n",
    "# переобучим модель с этими параметрами на общей выборке train+valid\n",
    "model_forest = RandomForestClassifier(random_state=12345, n_estimators=150, max_depth=8, n_jobs=-1, class_weight='balanced')\n",
    "model_forest.fit(features_train.append(features_valid, ignore_index=True), target_train.append(target_valid, ignore_index=True))\n",
    "\n",
    "predictions_forest = model_forest.predict(features_test)\n",
    "result_forest = accuracy_score(target_test, predictions_forest)\n",
    "result_forest_f1 = f1_score(target_test, predictions_forest)\n",
    "probabilities_test_forest = model_forest.predict_proba(features_test)\n",
    "probabilities_one_test_forest = probabilities_test_forest[:, 1]\n",
    "auc_roc_forest = roc_auc_score(target_test, probabilities_one_test_forest)\n",
    "                    \n",
    "                    \n",
    "predicted_test_forest = model_forest.predict(features_test)\n",
    "print('Модель: Случайный лес, тестовая выборка')\n",
    "print('Метрика F-1 на валидационной выборке у Случайного леса:', round(result_forest_f1, 2))  \n",
    "print('Метрика AUC_ROC:', auc_roc_forest)\n",
    "#print(\"Доля правильных ответов Accuracy на валидационной выборке у Случайного леса:\", round(best_result_forest, 2), 'Глубина:',best_depth_forest, 'Деревьев:', best_est, 'узлов:', best_split, 'Листьев:', best_leaf)\n",
    "print(\"Доля правильных ответов Accuracy на валидационной выборке у Случайного леса:\", round(result_forest, 2))\n",
    "print('Полнота: ', recall_score(target_test, predicted_test_forest))\n",
    "print('Точность:', precision_score(target_test, predicted_test_forest))\n",
    "print(confusion_matrix(target_test, predicted_test_forest))"
   ]
  },
  {
   "cell_type": "code",
   "execution_count": 36,
   "metadata": {},
   "outputs": [
    {
     "data": {
      "image/png": "[encoded data removed]",
      "text/plain": [
       "<Figure size 864x648 with 1 Axes>"
      ]
     },
     "metadata": {
      "needs_background": "light"
     },
     "output_type": "display_data"
    }
   ],
   "source": [
    "# График AUC-ROC\n",
    "fpr_forest, tpr_forest, thresholds = roc_curve(target_test, probabilities_one_test_forest)\n",
    "\n",
    "\n",
    "plt.figure(figsize=[12,9])\n",
    "\n",
    "plt.xlim([0.0, 1.0])\n",
    "plt.ylim([0.0, 1.0])\n",
    "plt.xlabel('False Positive Rate')\n",
    "plt.ylabel('True Positive Rate')\n",
    "plt.title('ROC-кривая')\n",
    "\n",
    "# ROC-кривая случайной модели (выглядит как прямая)\n",
    "plt.plot([0, 1], [0, 1], linestyle='--', label='RandomModel')\n",
    "plt.plot(fpr_forest, tpr_forest, label='RandomForestClassifier')\n",
    "plt.legend(loc='lower right', fontsize='x-large')\n",
    "plt.show()"
   ]
  },
  {
   "cell_type": "markdown",
   "metadata": {},
   "source": [
    "## Вывод\n",
    "\n",
    "**Тестирование модели показало результат:**\n",
    "\n",
    "- Модель: Случайный лес, тестовая выборка\n",
    "- Метрика F-1 на валидационной выборке у Случайного леса: 0.61\n",
    "- Метрика AUC_ROC: 0.85916116424591\n",
    "- Доля правильных ответов Accuracy на валидационной выборке у Случайного леса: 0.82\n",
    "\n",
    "Наша модель получила результат по метрике F-1 больший, нежели указан в задании.\n",
    "Метрика AUC-ROC = 0.86 показвывает, что модель предсказывает уход клиента лучше, чем случайная модель, где вероятность угадать равна 0.5"
   ]
  }
 ],
 "metadata": {
  "ExecuteTimeLog": [
   {
    "duration": 485,
    "start_time": "2022-06-21T20:46:08.721Z"
   },
   {
    "duration": 47,
    "start_time": "2022-06-24T18:05:10.104Z"
   },
   {
    "duration": 383,
    "start_time": "2022-06-24T18:05:12.268Z"
   },
   {
    "duration": 28,
    "start_time": "2022-06-24T18:05:12.910Z"
   },
   {
    "duration": 83,
    "start_time": "2022-06-24T18:05:23.837Z"
   },
   {
    "duration": 3,
    "start_time": "2022-06-24T18:05:33.917Z"
   },
   {
    "duration": 44,
    "start_time": "2022-06-24T18:05:35.600Z"
   },
   {
    "duration": 40,
    "start_time": "2022-06-24T18:05:37.102Z"
   },
   {
    "duration": 13,
    "start_time": "2022-06-24T18:05:42.266Z"
   },
   {
    "duration": 13,
    "start_time": "2022-06-24T18:05:47.271Z"
   },
   {
    "duration": 19,
    "start_time": "2022-06-24T18:05:51.397Z"
   },
   {
    "duration": 15,
    "start_time": "2022-06-24T18:12:08.650Z"
   },
   {
    "duration": 73,
    "start_time": "2022-06-24T18:12:17.501Z"
   },
   {
    "duration": 11,
    "start_time": "2022-06-24T18:12:21.751Z"
   },
   {
    "duration": 62,
    "start_time": "2022-06-25T13:15:54.743Z"
   },
   {
    "duration": 501,
    "start_time": "2022-06-25T13:16:00.447Z"
   },
   {
    "duration": 1892,
    "start_time": "2022-06-25T13:16:00.951Z"
   },
   {
    "duration": 703,
    "start_time": "2022-06-25T13:16:02.845Z"
   },
   {
    "duration": 33,
    "start_time": "2022-06-25T13:17:59.051Z"
   },
   {
    "duration": 14,
    "start_time": "2022-06-25T13:18:16.388Z"
   },
   {
    "duration": 8,
    "start_time": "2022-06-25T13:19:07.111Z"
   },
   {
    "duration": 7,
    "start_time": "2022-06-25T13:21:15.010Z"
   },
   {
    "duration": 11,
    "start_time": "2022-06-25T13:21:30.301Z"
   },
   {
    "duration": 6,
    "start_time": "2022-06-25T13:21:45.815Z"
   },
   {
    "duration": 11,
    "start_time": "2022-06-25T13:21:47.425Z"
   },
   {
    "duration": 24,
    "start_time": "2022-06-25T13:21:54.902Z"
   },
   {
    "duration": 8,
    "start_time": "2022-06-25T13:22:33.125Z"
   },
   {
    "duration": 13,
    "start_time": "2022-06-25T13:24:38.416Z"
   },
   {
    "duration": 10,
    "start_time": "2022-06-25T13:24:42.327Z"
   },
   {
    "duration": 3,
    "start_time": "2022-06-25T13:26:42.499Z"
   },
   {
    "duration": 9,
    "start_time": "2022-06-25T13:26:44.787Z"
   },
   {
    "duration": 27,
    "start_time": "2022-06-25T13:29:16.295Z"
   },
   {
    "duration": 21,
    "start_time": "2022-06-25T13:29:32.082Z"
   },
   {
    "duration": 6,
    "start_time": "2022-06-25T13:30:16.380Z"
   },
   {
    "duration": 16,
    "start_time": "2022-06-25T13:30:26.294Z"
   },
   {
    "duration": 12,
    "start_time": "2022-06-25T13:30:35.924Z"
   },
   {
    "duration": 19,
    "start_time": "2022-06-25T13:30:37.131Z"
   },
   {
    "duration": 8,
    "start_time": "2022-06-25T13:42:30.717Z"
   },
   {
    "duration": 8,
    "start_time": "2022-06-25T13:42:35.291Z"
   },
   {
    "duration": 2,
    "start_time": "2022-06-25T13:42:40.920Z"
   },
   {
    "duration": 3,
    "start_time": "2022-06-25T19:39:51.939Z"
   },
   {
    "duration": 10,
    "start_time": "2022-06-25T20:13:02.390Z"
   },
   {
    "duration": 754,
    "start_time": "2022-06-25T20:14:02.187Z"
   },
   {
    "duration": 82,
    "start_time": "2022-06-25T20:14:06.338Z"
   },
   {
    "duration": 14,
    "start_time": "2022-06-25T20:14:06.576Z"
   },
   {
    "duration": 16,
    "start_time": "2022-06-25T20:14:07.345Z"
   },
   {
    "duration": 10,
    "start_time": "2022-06-25T20:14:07.618Z"
   },
   {
    "duration": 21,
    "start_time": "2022-06-25T20:14:08.118Z"
   },
   {
    "duration": 10,
    "start_time": "2022-06-25T20:14:08.620Z"
   },
   {
    "duration": 13,
    "start_time": "2022-06-25T20:14:08.944Z"
   },
   {
    "duration": 4,
    "start_time": "2022-06-25T20:14:09.927Z"
   },
   {
    "duration": 13,
    "start_time": "2022-06-25T20:14:10.238Z"
   },
   {
    "duration": 19,
    "start_time": "2022-06-25T20:14:10.930Z"
   },
   {
    "duration": 9,
    "start_time": "2022-06-25T20:14:14.032Z"
   },
   {
    "duration": 32,
    "start_time": "2022-06-25T20:15:16.557Z"
   },
   {
    "duration": 4,
    "start_time": "2022-06-25T20:15:38.336Z"
   },
   {
    "duration": 11,
    "start_time": "2022-06-25T20:18:39.895Z"
   },
   {
    "duration": 22,
    "start_time": "2022-06-25T20:21:07.127Z"
   },
   {
    "duration": 68,
    "start_time": "2022-06-25T20:24:59.326Z"
   },
   {
    "duration": 74,
    "start_time": "2022-06-25T20:25:07.155Z"
   },
   {
    "duration": 1245,
    "start_time": "2022-06-25T20:26:00.413Z"
   },
   {
    "duration": 36,
    "start_time": "2022-06-25T20:26:16.286Z"
   },
   {
    "duration": 3,
    "start_time": "2022-06-25T20:31:41.738Z"
   },
   {
    "duration": 6,
    "start_time": "2022-06-25T20:37:30.416Z"
   },
   {
    "duration": 28,
    "start_time": "2022-06-25T20:38:19.697Z"
   },
   {
    "duration": 985,
    "start_time": "2022-06-25T20:38:33.117Z"
   },
   {
    "duration": 39,
    "start_time": "2022-06-25T20:38:34.104Z"
   },
   {
    "duration": 12,
    "start_time": "2022-06-25T20:38:34.146Z"
   },
   {
    "duration": 27,
    "start_time": "2022-06-25T20:38:34.159Z"
   },
   {
    "duration": 22,
    "start_time": "2022-06-25T20:38:34.187Z"
   },
   {
    "duration": 34,
    "start_time": "2022-06-25T20:38:34.211Z"
   },
   {
    "duration": 12,
    "start_time": "2022-06-25T20:38:34.246Z"
   },
   {
    "duration": 18,
    "start_time": "2022-06-25T20:38:34.260Z"
   },
   {
    "duration": 10,
    "start_time": "2022-06-25T20:38:34.279Z"
   },
   {
    "duration": 32,
    "start_time": "2022-06-25T20:38:34.292Z"
   },
   {
    "duration": 17,
    "start_time": "2022-06-25T20:38:34.326Z"
   },
   {
    "duration": 11,
    "start_time": "2022-06-25T20:38:34.345Z"
   },
   {
    "duration": 41,
    "start_time": "2022-06-25T20:38:34.358Z"
   },
   {
    "duration": 65,
    "start_time": "2022-06-25T20:38:34.400Z"
   },
   {
    "duration": 3,
    "start_time": "2022-06-25T20:38:34.467Z"
   },
   {
    "duration": 18,
    "start_time": "2022-06-25T20:38:34.472Z"
   },
   {
    "duration": 52,
    "start_time": "2022-06-25T20:41:12.949Z"
   },
   {
    "duration": 4,
    "start_time": "2022-06-25T20:41:14.102Z"
   },
   {
    "duration": 15,
    "start_time": "2022-06-25T20:41:15.385Z"
   },
   {
    "duration": 3,
    "start_time": "2022-06-25T20:41:33.905Z"
   },
   {
    "duration": 38,
    "start_time": "2022-06-25T20:41:34.134Z"
   },
   {
    "duration": 11,
    "start_time": "2022-06-25T20:41:34.552Z"
   },
   {
    "duration": 12,
    "start_time": "2022-06-25T20:41:35.382Z"
   },
   {
    "duration": 7,
    "start_time": "2022-06-25T20:41:35.709Z"
   },
   {
    "duration": 21,
    "start_time": "2022-06-25T20:41:36.457Z"
   },
   {
    "duration": 8,
    "start_time": "2022-06-25T20:41:36.809Z"
   },
   {
    "duration": 17,
    "start_time": "2022-06-25T20:41:37.142Z"
   },
   {
    "duration": 4,
    "start_time": "2022-06-25T20:41:37.770Z"
   },
   {
    "duration": 11,
    "start_time": "2022-06-25T20:41:38.053Z"
   },
   {
    "duration": 18,
    "start_time": "2022-06-25T20:41:38.333Z"
   },
   {
    "duration": 10,
    "start_time": "2022-06-25T20:41:39.943Z"
   },
   {
    "duration": 36,
    "start_time": "2022-06-25T20:41:40.252Z"
   },
   {
    "duration": 45,
    "start_time": "2022-06-25T20:41:40.776Z"
   },
   {
    "duration": 5,
    "start_time": "2022-06-25T20:41:41.421Z"
   },
   {
    "duration": 26,
    "start_time": "2022-06-25T20:41:42.417Z"
   },
   {
    "duration": 4,
    "start_time": "2022-06-25T20:42:59.395Z"
   },
   {
    "duration": 36,
    "start_time": "2022-06-25T20:43:01.123Z"
   },
   {
    "duration": 13,
    "start_time": "2022-06-25T20:43:01.461Z"
   },
   {
    "duration": 19,
    "start_time": "2022-06-25T20:43:01.904Z"
   },
   {
    "duration": 9,
    "start_time": "2022-06-25T20:43:02.120Z"
   },
   {
    "duration": 30,
    "start_time": "2022-06-25T20:43:02.481Z"
   },
   {
    "duration": 8,
    "start_time": "2022-06-25T20:43:02.697Z"
   },
   {
    "duration": 11,
    "start_time": "2022-06-25T20:43:02.892Z"
   },
   {
    "duration": 4,
    "start_time": "2022-06-25T20:43:03.314Z"
   },
   {
    "duration": 11,
    "start_time": "2022-06-25T20:43:03.551Z"
   },
   {
    "duration": 19,
    "start_time": "2022-06-25T20:43:03.781Z"
   },
   {
    "duration": 10,
    "start_time": "2022-06-25T20:43:04.418Z"
   },
   {
    "duration": 37,
    "start_time": "2022-06-25T20:43:04.651Z"
   },
   {
    "duration": 101,
    "start_time": "2022-06-25T20:43:04.888Z"
   },
   {
    "duration": 4,
    "start_time": "2022-06-25T20:43:05.119Z"
   },
   {
    "duration": 35,
    "start_time": "2022-06-25T20:43:06.440Z"
   },
   {
    "duration": 5,
    "start_time": "2022-06-25T21:22:28.521Z"
   },
   {
    "duration": 103,
    "start_time": "2022-06-25T21:23:24.964Z"
   },
   {
    "duration": 84,
    "start_time": "2022-06-25T21:23:32.740Z"
   },
   {
    "duration": 49,
    "start_time": "2022-06-25T21:24:18.460Z"
   },
   {
    "duration": 152,
    "start_time": "2022-06-25T21:25:45.998Z"
   },
   {
    "duration": 5,
    "start_time": "2022-06-25T21:27:00.926Z"
   },
   {
    "duration": 4,
    "start_time": "2022-06-25T21:27:36.590Z"
   },
   {
    "duration": 90,
    "start_time": "2022-06-25T21:28:12.890Z"
   },
   {
    "duration": 65,
    "start_time": "2022-06-25T21:28:13.467Z"
   },
   {
    "duration": 62,
    "start_time": "2022-06-25T21:28:45.813Z"
   },
   {
    "duration": 76,
    "start_time": "2022-06-25T21:29:04.131Z"
   },
   {
    "duration": 66,
    "start_time": "2022-06-25T21:29:25.128Z"
   },
   {
    "duration": 62,
    "start_time": "2022-06-25T21:29:25.773Z"
   },
   {
    "duration": 5,
    "start_time": "2022-06-25T21:30:49.906Z"
   },
   {
    "duration": 74,
    "start_time": "2022-06-25T21:31:42.704Z"
   },
   {
    "duration": 226,
    "start_time": "2022-06-25T21:31:53.448Z"
   },
   {
    "duration": 52,
    "start_time": "2022-06-25T21:43:44.576Z"
   },
   {
    "duration": 1124,
    "start_time": "2022-06-26T13:56:31.592Z"
   },
   {
    "duration": 144,
    "start_time": "2022-06-26T13:56:33.817Z"
   },
   {
    "duration": 11,
    "start_time": "2022-06-26T13:56:35.448Z"
   },
   {
    "duration": 18,
    "start_time": "2022-06-26T13:56:47.431Z"
   },
   {
    "duration": 8,
    "start_time": "2022-06-26T13:56:48.595Z"
   },
   {
    "duration": 21,
    "start_time": "2022-06-26T13:56:50.083Z"
   },
   {
    "duration": 7,
    "start_time": "2022-06-26T13:56:54.005Z"
   },
   {
    "duration": 15,
    "start_time": "2022-06-26T13:56:56.639Z"
   },
   {
    "duration": 3,
    "start_time": "2022-06-26T13:56:57.786Z"
   },
   {
    "duration": 11,
    "start_time": "2022-06-26T13:56:59.101Z"
   },
   {
    "duration": 18,
    "start_time": "2022-06-26T13:57:05.836Z"
   },
   {
    "duration": 98,
    "start_time": "2022-06-26T13:58:23.446Z"
   },
   {
    "duration": 10,
    "start_time": "2022-06-26T13:59:27.093Z"
   },
   {
    "duration": 11,
    "start_time": "2022-06-26T13:59:53.090Z"
   },
   {
    "duration": 9,
    "start_time": "2022-06-26T14:00:35.120Z"
   },
   {
    "duration": 10,
    "start_time": "2022-06-26T14:00:39.651Z"
   },
   {
    "duration": 8,
    "start_time": "2022-06-26T14:00:39.934Z"
   },
   {
    "duration": 46,
    "start_time": "2022-06-26T14:00:40.884Z"
   },
   {
    "duration": 44,
    "start_time": "2022-06-26T14:00:41.337Z"
   },
   {
    "duration": 10,
    "start_time": "2022-06-26T14:01:17.746Z"
   },
   {
    "duration": 8,
    "start_time": "2022-06-26T14:01:18.149Z"
   },
   {
    "duration": 30,
    "start_time": "2022-06-26T14:01:18.802Z"
   },
   {
    "duration": 83,
    "start_time": "2022-06-26T14:01:19.646Z"
   },
   {
    "duration": 51,
    "start_time": "2022-06-26T14:01:23.983Z"
   },
   {
    "duration": 7,
    "start_time": "2022-06-26T14:01:58.962Z"
   },
   {
    "duration": 8,
    "start_time": "2022-06-26T14:02:07.771Z"
   },
   {
    "duration": 4,
    "start_time": "2022-06-26T14:02:11.188Z"
   },
   {
    "duration": 4,
    "start_time": "2022-06-26T14:03:36.608Z"
   },
   {
    "duration": 22,
    "start_time": "2022-06-26T14:04:57.765Z"
   },
   {
    "duration": 48,
    "start_time": "2022-06-26T14:06:34.378Z"
   },
   {
    "duration": 43,
    "start_time": "2022-06-26T14:06:57.643Z"
   },
   {
    "duration": 75,
    "start_time": "2022-06-26T14:09:15.856Z"
   },
   {
    "duration": 53,
    "start_time": "2022-06-26T14:09:34.660Z"
   },
   {
    "duration": 11,
    "start_time": "2022-06-26T14:22:59.485Z"
   },
   {
    "duration": 19,
    "start_time": "2022-06-26T14:31:20.580Z"
   },
   {
    "duration": 6,
    "start_time": "2022-06-26T14:33:38.376Z"
   },
   {
    "duration": 9,
    "start_time": "2022-06-26T14:46:15.830Z"
   },
   {
    "duration": 3,
    "start_time": "2022-06-26T14:46:19.323Z"
   },
   {
    "duration": 4,
    "start_time": "2022-06-26T14:46:30.779Z"
   },
   {
    "duration": 28,
    "start_time": "2022-06-26T14:46:31.183Z"
   },
   {
    "duration": 69,
    "start_time": "2022-06-26T14:46:37.457Z"
   },
   {
    "duration": 48,
    "start_time": "2022-06-26T14:46:40.317Z"
   },
   {
    "duration": 9,
    "start_time": "2022-06-26T14:47:49.031Z"
   },
   {
    "duration": 4,
    "start_time": "2022-06-26T14:48:04.534Z"
   },
   {
    "duration": 22,
    "start_time": "2022-06-26T14:51:25.920Z"
   },
   {
    "duration": 4,
    "start_time": "2022-06-26T14:52:51.119Z"
   },
   {
    "duration": 527,
    "start_time": "2022-06-26T14:52:58.340Z"
   },
   {
    "duration": 532,
    "start_time": "2022-06-26T14:53:18.315Z"
   },
   {
    "duration": 32,
    "start_time": "2022-06-26T15:02:15.936Z"
   },
   {
    "duration": 80,
    "start_time": "2022-06-26T15:02:48.324Z"
   },
   {
    "duration": 77,
    "start_time": "2022-06-26T15:02:57.344Z"
   },
   {
    "duration": 524,
    "start_time": "2022-06-26T15:03:19.303Z"
   },
   {
    "duration": 10,
    "start_time": "2022-06-26T15:09:48.407Z"
   },
   {
    "duration": 12,
    "start_time": "2022-06-26T15:10:46.823Z"
   },
   {
    "duration": 11,
    "start_time": "2022-06-26T15:11:07.530Z"
   },
   {
    "duration": 5,
    "start_time": "2022-06-26T15:11:39.363Z"
   },
   {
    "duration": 4,
    "start_time": "2022-06-26T15:12:07.618Z"
   },
   {
    "duration": 6,
    "start_time": "2022-06-26T15:12:44.772Z"
   },
   {
    "duration": 4,
    "start_time": "2022-06-26T15:12:58.014Z"
   },
   {
    "duration": 4,
    "start_time": "2022-06-26T15:12:59.170Z"
   },
   {
    "duration": 14,
    "start_time": "2022-06-26T15:13:11.506Z"
   },
   {
    "duration": 99,
    "start_time": "2022-06-26T15:13:42.406Z"
   },
   {
    "duration": 35,
    "start_time": "2022-06-26T15:14:15.614Z"
   },
   {
    "duration": 9,
    "start_time": "2022-06-26T15:14:26.451Z"
   },
   {
    "duration": 108,
    "start_time": "2022-06-26T15:15:53.019Z"
   },
   {
    "duration": 5,
    "start_time": "2022-06-26T15:16:03.839Z"
   },
   {
    "duration": 37,
    "start_time": "2022-06-26T15:16:04.048Z"
   },
   {
    "duration": 13,
    "start_time": "2022-06-26T15:16:04.246Z"
   },
   {
    "duration": 11,
    "start_time": "2022-06-26T15:16:04.940Z"
   },
   {
    "duration": 8,
    "start_time": "2022-06-26T15:16:05.302Z"
   },
   {
    "duration": 21,
    "start_time": "2022-06-26T15:16:06.306Z"
   },
   {
    "duration": 9,
    "start_time": "2022-06-26T15:16:07.349Z"
   },
   {
    "duration": 11,
    "start_time": "2022-06-26T15:16:07.844Z"
   },
   {
    "duration": 3,
    "start_time": "2022-06-26T15:16:08.814Z"
   },
   {
    "duration": 10,
    "start_time": "2022-06-26T15:16:09.139Z"
   },
   {
    "duration": 17,
    "start_time": "2022-06-26T15:16:09.540Z"
   },
   {
    "duration": 117,
    "start_time": "2022-06-26T15:16:11.138Z"
   },
   {
    "duration": 10,
    "start_time": "2022-06-26T15:16:11.752Z"
   },
   {
    "duration": 9,
    "start_time": "2022-06-26T15:16:22.706Z"
   },
   {
    "duration": 11,
    "start_time": "2022-06-26T15:16:23.350Z"
   },
   {
    "duration": 4,
    "start_time": "2022-06-26T15:16:25.470Z"
   },
   {
    "duration": 26,
    "start_time": "2022-06-26T15:16:26.306Z"
   },
   {
    "duration": 95,
    "start_time": "2022-06-26T15:16:27.738Z"
   },
   {
    "duration": 555,
    "start_time": "2022-06-26T15:16:41.931Z"
   },
   {
    "duration": 529,
    "start_time": "2022-06-26T15:17:54.243Z"
   },
   {
    "duration": 546,
    "start_time": "2022-06-26T15:18:06.126Z"
   },
   {
    "duration": 513,
    "start_time": "2022-06-26T15:18:22.118Z"
   },
   {
    "duration": 566,
    "start_time": "2022-06-26T15:22:32.602Z"
   },
   {
    "duration": 514,
    "start_time": "2022-06-26T15:26:24.830Z"
   },
   {
    "duration": 2,
    "start_time": "2022-06-26T15:26:36.898Z"
   },
   {
    "duration": 547,
    "start_time": "2022-06-26T15:26:39.760Z"
   },
   {
    "duration": 521,
    "start_time": "2022-06-26T15:27:15.522Z"
   },
   {
    "duration": 514,
    "start_time": "2022-06-26T15:28:57.198Z"
   },
   {
    "duration": 10,
    "start_time": "2022-06-26T15:29:40.562Z"
   },
   {
    "duration": 9,
    "start_time": "2022-06-26T15:29:53.474Z"
   },
   {
    "duration": 9,
    "start_time": "2022-06-26T15:29:57.627Z"
   },
   {
    "duration": 53,
    "start_time": "2022-06-26T15:30:40.239Z"
   },
   {
    "duration": 10,
    "start_time": "2022-06-26T15:30:49.666Z"
   },
   {
    "duration": 244,
    "start_time": "2022-06-26T15:30:49.922Z"
   },
   {
    "duration": 218,
    "start_time": "2022-06-26T15:31:17.719Z"
   },
   {
    "duration": 511,
    "start_time": "2022-06-26T15:35:33.458Z"
   },
   {
    "duration": 47,
    "start_time": "2022-06-26T16:01:57.323Z"
   },
   {
    "duration": 45,
    "start_time": "2022-06-26T16:03:52.304Z"
   },
   {
    "duration": 628292,
    "start_time": "2022-06-26T16:04:06.819Z"
   },
   {
    "duration": 550,
    "start_time": "2022-06-26T16:14:35.113Z"
   },
   {
    "duration": 545,
    "start_time": "2022-06-26T16:14:54.124Z"
   },
   {
    "duration": 583,
    "start_time": "2022-06-26T16:15:11.198Z"
   },
   {
    "duration": 623835,
    "start_time": "2022-06-26T16:16:24.603Z"
   },
   {
    "duration": 20,
    "start_time": "2022-06-26T16:26:48.440Z"
   },
   {
    "duration": 565,
    "start_time": "2022-06-26T16:28:45.789Z"
   },
   {
    "duration": 595,
    "start_time": "2022-06-26T16:29:49.449Z"
   },
   {
    "duration": 583,
    "start_time": "2022-06-26T16:30:25.043Z"
   },
   {
    "duration": 586,
    "start_time": "2022-06-26T16:31:29.494Z"
   },
   {
    "duration": 22,
    "start_time": "2022-06-26T16:33:24.918Z"
   },
   {
    "duration": 19,
    "start_time": "2022-06-26T16:35:09.903Z"
   },
   {
    "duration": 34,
    "start_time": "2022-06-26T16:44:37.902Z"
   },
   {
    "duration": 7,
    "start_time": "2022-06-26T16:54:37.834Z"
   },
   {
    "duration": 11,
    "start_time": "2022-06-26T17:06:36.384Z"
   },
   {
    "duration": 34,
    "start_time": "2022-06-26T17:06:43.053Z"
   },
   {
    "duration": 46,
    "start_time": "2022-06-26T17:25:00.733Z"
   },
   {
    "duration": 7,
    "start_time": "2022-06-26T17:25:49.413Z"
   },
   {
    "duration": 629,
    "start_time": "2022-06-26T17:26:02.885Z"
   },
   {
    "duration": 62,
    "start_time": "2022-06-26T17:29:46.527Z"
   },
   {
    "duration": 459160,
    "start_time": "2022-06-26T17:30:05.579Z"
   },
   {
    "duration": 0,
    "start_time": "2022-06-26T17:37:44.844Z"
   },
   {
    "duration": 28,
    "start_time": "2022-06-26T17:39:22.404Z"
   },
   {
    "duration": 207,
    "start_time": "2022-06-26T17:39:56.018Z"
   },
   {
    "duration": 614,
    "start_time": "2022-06-26T17:40:05.231Z"
   },
   {
    "duration": 10,
    "start_time": "2022-06-26T17:43:33.116Z"
   },
   {
    "duration": 14773,
    "start_time": "2022-06-26T17:43:47.893Z"
   },
   {
    "duration": 493019,
    "start_time": "2022-06-26T17:44:47.666Z"
   },
   {
    "duration": 8,
    "start_time": "2022-06-26T17:53:00.694Z"
   },
   {
    "duration": 62,
    "start_time": "2022-06-26T17:57:31.965Z"
   },
   {
    "duration": 165,
    "start_time": "2022-06-26T17:57:41.264Z"
   },
   {
    "duration": 5,
    "start_time": "2022-06-26T17:59:26.707Z"
   },
   {
    "duration": 17,
    "start_time": "2022-06-26T18:07:01.557Z"
   },
   {
    "duration": 4,
    "start_time": "2022-06-26T18:07:05.152Z"
   },
   {
    "duration": 16,
    "start_time": "2022-06-26T18:07:07.936Z"
   },
   {
    "duration": 17,
    "start_time": "2022-06-26T18:07:20.097Z"
   },
   {
    "duration": 8,
    "start_time": "2022-06-26T18:07:47.511Z"
   },
   {
    "duration": 3,
    "start_time": "2022-06-26T18:07:54.688Z"
   },
   {
    "duration": 9,
    "start_time": "2022-06-26T18:07:55.276Z"
   },
   {
    "duration": 10,
    "start_time": "2022-06-26T18:08:09.061Z"
   },
   {
    "duration": 71,
    "start_time": "2022-06-26T18:09:53.065Z"
   },
   {
    "duration": 161861,
    "start_time": "2022-06-26T18:10:27.251Z"
   },
   {
    "duration": 219,
    "start_time": "2022-06-26T18:13:09.114Z"
   },
   {
    "duration": 721,
    "start_time": "2022-06-26T18:13:10.151Z"
   },
   {
    "duration": 710,
    "start_time": "2022-06-26T18:13:30.806Z"
   },
   {
    "duration": 659900,
    "start_time": "2022-06-26T18:15:50.036Z"
   },
   {
    "duration": 12,
    "start_time": "2022-06-26T18:28:21.535Z"
   },
   {
    "duration": 214,
    "start_time": "2022-06-26T18:28:32.449Z"
   },
   {
    "duration": 48,
    "start_time": "2022-06-26T18:29:57.683Z"
   },
   {
    "duration": 573,
    "start_time": "2022-06-26T18:29:59.060Z"
   },
   {
    "duration": 499588,
    "start_time": "2022-06-26T18:30:05.785Z"
   },
   {
    "duration": 10,
    "start_time": "2022-06-26T19:14:43.536Z"
   },
   {
    "duration": 48,
    "start_time": "2022-06-26T19:14:44.165Z"
   },
   {
    "duration": 12,
    "start_time": "2022-06-26T19:14:44.688Z"
   },
   {
    "duration": 12,
    "start_time": "2022-06-26T19:14:46.939Z"
   },
   {
    "duration": 122,
    "start_time": "2022-06-26T19:14:47.322Z"
   },
   {
    "duration": 7,
    "start_time": "2022-06-26T19:14:47.861Z"
   },
   {
    "duration": 19,
    "start_time": "2022-06-26T19:14:49.410Z"
   },
   {
    "duration": 7,
    "start_time": "2022-06-26T19:14:49.937Z"
   },
   {
    "duration": 14,
    "start_time": "2022-06-26T19:14:50.684Z"
   },
   {
    "duration": 4,
    "start_time": "2022-06-26T19:14:51.944Z"
   },
   {
    "duration": 14,
    "start_time": "2022-06-26T19:14:52.631Z"
   },
   {
    "duration": 17,
    "start_time": "2022-06-26T19:14:53.294Z"
   },
   {
    "duration": 98,
    "start_time": "2022-06-26T19:14:54.370Z"
   },
   {
    "duration": 7,
    "start_time": "2022-06-26T19:14:54.985Z"
   },
   {
    "duration": 11,
    "start_time": "2022-06-26T19:15:06.717Z"
   },
   {
    "duration": 12,
    "start_time": "2022-06-26T19:15:07.137Z"
   },
   {
    "duration": 4,
    "start_time": "2022-06-26T19:15:08.719Z"
   },
   {
    "duration": 34,
    "start_time": "2022-06-26T19:17:01.124Z"
   },
   {
    "duration": 24,
    "start_time": "2022-06-26T19:17:52.649Z"
   },
   {
    "duration": 11,
    "start_time": "2022-06-26T19:18:13.553Z"
   },
   {
    "duration": 74,
    "start_time": "2022-06-26T19:18:13.567Z"
   },
   {
    "duration": 13,
    "start_time": "2022-06-26T19:18:13.911Z"
   },
   {
    "duration": 17,
    "start_time": "2022-06-26T19:18:14.620Z"
   },
   {
    "duration": 48,
    "start_time": "2022-06-26T19:18:14.915Z"
   },
   {
    "duration": 10,
    "start_time": "2022-06-26T19:18:15.150Z"
   },
   {
    "duration": 21,
    "start_time": "2022-06-26T19:18:15.460Z"
   },
   {
    "duration": 8,
    "start_time": "2022-06-26T19:18:15.698Z"
   },
   {
    "duration": 13,
    "start_time": "2022-06-26T19:18:16.048Z"
   },
   {
    "duration": 4,
    "start_time": "2022-06-26T19:18:16.983Z"
   },
   {
    "duration": 10,
    "start_time": "2022-06-26T19:18:17.350Z"
   },
   {
    "duration": 16,
    "start_time": "2022-06-26T19:18:17.667Z"
   },
   {
    "duration": 106,
    "start_time": "2022-06-26T19:18:18.390Z"
   },
   {
    "duration": 12,
    "start_time": "2022-06-26T19:18:18.865Z"
   },
   {
    "duration": 11,
    "start_time": "2022-06-26T19:18:20.964Z"
   },
   {
    "duration": 22,
    "start_time": "2022-06-26T19:18:22.261Z"
   },
   {
    "duration": 84,
    "start_time": "2022-06-26T20:04:58.785Z"
   },
   {
    "duration": 9,
    "start_time": "2022-06-26T20:05:02.900Z"
   },
   {
    "duration": 14,
    "start_time": "2022-06-26T20:05:03.329Z"
   },
   {
    "duration": 2242,
    "start_time": "2022-06-26T20:05:19.772Z"
   },
   {
    "duration": 69,
    "start_time": "2022-06-26T20:05:22.017Z"
   },
   {
    "duration": 25,
    "start_time": "2022-06-26T20:05:22.088Z"
   },
   {
    "duration": 29,
    "start_time": "2022-06-26T20:05:24.223Z"
   },
   {
    "duration": 68,
    "start_time": "2022-06-26T20:05:24.543Z"
   },
   {
    "duration": 14,
    "start_time": "2022-06-26T20:05:24.917Z"
   },
   {
    "duration": 29,
    "start_time": "2022-06-26T20:05:25.639Z"
   },
   {
    "duration": 13,
    "start_time": "2022-06-26T20:05:26.074Z"
   },
   {
    "duration": 20,
    "start_time": "2022-06-26T20:05:26.437Z"
   },
   {
    "duration": 7,
    "start_time": "2022-06-26T20:05:27.138Z"
   },
   {
    "duration": 20,
    "start_time": "2022-06-26T20:05:27.482Z"
   },
   {
    "duration": 27,
    "start_time": "2022-06-26T20:05:28.704Z"
   },
   {
    "duration": 161,
    "start_time": "2022-06-26T20:05:29.541Z"
   },
   {
    "duration": 13,
    "start_time": "2022-06-26T20:05:30.004Z"
   },
   {
    "duration": 17,
    "start_time": "2022-06-26T20:05:32.172Z"
   },
   {
    "duration": 136,
    "start_time": "2022-06-26T20:05:32.987Z"
   },
   {
    "duration": 6,
    "start_time": "2022-06-26T20:05:33.844Z"
   },
   {
    "duration": 42,
    "start_time": "2022-06-26T20:05:34.298Z"
   },
   {
    "duration": 34,
    "start_time": "2022-06-26T20:05:35.372Z"
   },
   {
    "duration": 26,
    "start_time": "2022-06-26T20:06:08.062Z"
   },
   {
    "duration": 6,
    "start_time": "2022-06-26T20:06:09.646Z"
   },
   {
    "duration": 45,
    "start_time": "2022-06-26T20:06:09.932Z"
   },
   {
    "duration": 391,
    "start_time": "2022-06-26T20:06:10.471Z"
   },
   {
    "duration": 642,
    "start_time": "2022-06-26T20:06:11.132Z"
   },
   {
    "duration": 18,
    "start_time": "2022-06-26T20:06:11.777Z"
   },
   {
    "duration": 422,
    "start_time": "2022-06-26T20:06:11.798Z"
   },
   {
    "duration": 43,
    "start_time": "2022-06-26T21:15:06.530Z"
   },
   {
    "duration": 1549,
    "start_time": "2022-06-26T21:15:14.138Z"
   },
   {
    "duration": 55,
    "start_time": "2022-06-26T21:15:15.689Z"
   },
   {
    "duration": 13,
    "start_time": "2022-06-26T21:15:15.745Z"
   },
   {
    "duration": 17,
    "start_time": "2022-06-26T21:15:15.759Z"
   },
   {
    "duration": 34,
    "start_time": "2022-06-26T21:15:15.777Z"
   },
   {
    "duration": 9,
    "start_time": "2022-06-26T21:15:16.263Z"
   },
   {
    "duration": 18,
    "start_time": "2022-06-26T21:15:17.386Z"
   },
   {
    "duration": 6,
    "start_time": "2022-06-26T21:15:17.656Z"
   },
   {
    "duration": 14,
    "start_time": "2022-06-26T21:15:18.146Z"
   },
   {
    "duration": 5,
    "start_time": "2022-06-26T21:15:18.826Z"
   },
   {
    "duration": 13,
    "start_time": "2022-06-26T21:15:19.170Z"
   },
   {
    "duration": 23,
    "start_time": "2022-06-26T21:15:20.072Z"
   },
   {
    "duration": 133,
    "start_time": "2022-06-26T21:15:20.853Z"
   },
   {
    "duration": 10,
    "start_time": "2022-06-26T21:15:21.287Z"
   },
   {
    "duration": 9,
    "start_time": "2022-06-26T21:15:22.787Z"
   },
   {
    "duration": 18,
    "start_time": "2022-06-26T21:15:23.227Z"
   },
   {
    "duration": 6,
    "start_time": "2022-06-26T21:15:27.105Z"
   },
   {
    "duration": 38,
    "start_time": "2022-06-26T21:15:27.906Z"
   },
   {
    "duration": 193,
    "start_time": "2022-06-26T21:15:28.961Z"
   },
   {
    "duration": 536,
    "start_time": "2022-06-26T21:15:44.453Z"
   },
   {
    "duration": 13,
    "start_time": "2022-06-26T21:15:50.505Z"
   },
   {
    "duration": 237,
    "start_time": "2022-06-26T21:15:52.141Z"
   },
   {
    "duration": 89825,
    "start_time": "2022-06-26T21:16:04.545Z"
   },
   {
    "duration": 266,
    "start_time": "2022-06-26T21:17:34.372Z"
   },
   {
    "duration": 43256,
    "start_time": "2022-06-26T21:17:41.817Z"
   },
   {
    "duration": 185,
    "start_time": "2022-06-26T21:18:40.088Z"
   },
   {
    "duration": 190,
    "start_time": "2022-06-26T21:20:10.057Z"
   },
   {
    "duration": 40399,
    "start_time": "2022-06-26T21:21:41.380Z"
   },
   {
    "duration": 170,
    "start_time": "2022-06-26T21:22:21.954Z"
   },
   {
    "duration": 41872,
    "start_time": "2022-06-26T21:23:33.849Z"
   },
   {
    "duration": 165,
    "start_time": "2022-06-26T21:24:37.836Z"
   },
   {
    "duration": 191,
    "start_time": "2022-06-26T21:26:04.422Z"
   },
   {
    "duration": 161,
    "start_time": "2022-06-26T21:26:14.161Z"
   },
   {
    "duration": 61,
    "start_time": "2022-06-26T21:28:11.097Z"
   },
   {
    "duration": 526,
    "start_time": "2022-06-26T21:28:12.294Z"
   },
   {
    "duration": 41659,
    "start_time": "2022-06-26T21:28:12.821Z"
   },
   {
    "duration": 190,
    "start_time": "2022-06-26T21:28:54.482Z"
   },
   {
    "duration": 163,
    "start_time": "2022-06-26T21:32:17.916Z"
   },
   {
    "duration": 4,
    "start_time": "2022-06-26T21:34:04.863Z"
   },
   {
    "duration": 9,
    "start_time": "2022-06-26T21:34:05.551Z"
   },
   {
    "duration": 37,
    "start_time": "2022-06-26T21:34:06.824Z"
   },
   {
    "duration": 541,
    "start_time": "2022-06-26T21:34:08.346Z"
   },
   {
    "duration": 28,
    "start_time": "2022-06-26T21:34:29.876Z"
   },
   {
    "duration": 54452,
    "start_time": "2022-06-26T21:35:27.901Z"
   },
   {
    "duration": 215,
    "start_time": "2022-06-26T21:36:26.797Z"
   },
   {
    "duration": 207,
    "start_time": "2022-06-26T21:53:53.725Z"
   },
   {
    "duration": 391,
    "start_time": "2022-06-26T21:56:11.642Z"
   },
   {
    "duration": 41373,
    "start_time": "2022-06-26T21:56:54.540Z"
   },
   {
    "duration": 465,
    "start_time": "2022-06-26T21:58:10.526Z"
   },
   {
    "duration": 55474,
    "start_time": "2022-06-26T21:58:17.334Z"
   },
   {
    "duration": 167,
    "start_time": "2022-06-26T21:59:12.809Z"
   },
   {
    "duration": 32,
    "start_time": "2022-06-26T22:05:47.981Z"
   },
   {
    "duration": 24,
    "start_time": "2022-06-26T22:06:09.024Z"
   },
   {
    "duration": 1531,
    "start_time": "2022-06-27T10:12:34.808Z"
   },
   {
    "duration": 1648,
    "start_time": "2022-06-27T10:14:20.984Z"
   },
   {
    "duration": 1382,
    "start_time": "2022-06-27T10:14:50.364Z"
   },
   {
    "duration": 202,
    "start_time": "2022-06-27T10:15:14.390Z"
   },
   {
    "duration": 153,
    "start_time": "2022-06-27T10:15:48.069Z"
   },
   {
    "duration": 1749,
    "start_time": "2022-06-27T10:16:15.336Z"
   },
   {
    "duration": 33,
    "start_time": "2022-06-27T10:16:17.088Z"
   },
   {
    "duration": 16,
    "start_time": "2022-06-27T10:16:17.123Z"
   },
   {
    "duration": 32,
    "start_time": "2022-06-27T10:16:17.141Z"
   },
   {
    "duration": 56,
    "start_time": "2022-06-27T10:16:17.176Z"
   },
   {
    "duration": 29,
    "start_time": "2022-06-27T10:16:17.234Z"
   },
   {
    "duration": 42,
    "start_time": "2022-06-27T10:16:17.265Z"
   },
   {
    "duration": 8,
    "start_time": "2022-06-27T10:16:17.310Z"
   },
   {
    "duration": 26,
    "start_time": "2022-06-27T10:16:17.321Z"
   },
   {
    "duration": 15,
    "start_time": "2022-06-27T10:16:17.349Z"
   },
   {
    "duration": 42,
    "start_time": "2022-06-27T10:16:17.366Z"
   },
   {
    "duration": 32,
    "start_time": "2022-06-27T10:16:17.411Z"
   },
   {
    "duration": 185,
    "start_time": "2022-06-27T10:16:17.446Z"
   },
   {
    "duration": 27,
    "start_time": "2022-06-27T10:16:17.635Z"
   },
   {
    "duration": 35,
    "start_time": "2022-06-27T10:16:17.669Z"
   },
   {
    "duration": 24,
    "start_time": "2022-06-27T10:16:17.706Z"
   },
   {
    "duration": 5,
    "start_time": "2022-06-27T10:16:17.733Z"
   },
   {
    "duration": 74,
    "start_time": "2022-06-27T10:16:17.740Z"
   },
   {
    "duration": 160,
    "start_time": "2022-06-27T10:16:17.817Z"
   },
   {
    "duration": 802,
    "start_time": "2022-06-27T10:16:17.980Z"
   },
   {
    "duration": 14,
    "start_time": "2022-06-27T10:16:18.784Z"
   },
   {
    "duration": 350,
    "start_time": "2022-06-27T10:16:18.800Z"
   },
   {
    "duration": 62440,
    "start_time": "2022-06-27T10:16:19.153Z"
   },
   {
    "duration": 245,
    "start_time": "2022-06-27T10:17:21.595Z"
   },
   {
    "duration": 316,
    "start_time": "2022-06-27T10:17:21.842Z"
   },
   {
    "duration": 613,
    "start_time": "2022-06-27T10:17:22.168Z"
   },
   {
    "duration": 66239,
    "start_time": "2022-06-27T10:17:22.783Z"
   },
   {
    "duration": 338,
    "start_time": "2022-06-27T10:18:29.025Z"
   },
   {
    "duration": 12,
    "start_time": "2022-06-27T10:18:29.366Z"
   },
   {
    "duration": 51,
    "start_time": "2022-06-27T10:18:29.382Z"
   },
   {
    "duration": 362,
    "start_time": "2022-06-27T10:18:29.436Z"
   },
   {
    "duration": 940,
    "start_time": "2022-06-27T10:18:29.810Z"
   },
   {
    "duration": 89944,
    "start_time": "2022-06-27T10:18:30.762Z"
   },
   {
    "duration": 267,
    "start_time": "2022-06-27T10:20:00.708Z"
   },
   {
    "duration": 231,
    "start_time": "2022-06-27T10:20:00.977Z"
   },
   {
    "duration": 1368,
    "start_time": "2022-06-27T10:27:32.927Z"
   },
   {
    "duration": 1334,
    "start_time": "2022-06-27T10:27:38.820Z"
   },
   {
    "duration": 1402,
    "start_time": "2022-06-27T10:27:59.683Z"
   },
   {
    "duration": 1404,
    "start_time": "2022-06-27T10:28:14.681Z"
   },
   {
    "duration": 1367,
    "start_time": "2022-06-27T10:29:00.178Z"
   },
   {
    "duration": 1338,
    "start_time": "2022-06-27T10:29:45.440Z"
   },
   {
    "duration": 1295,
    "start_time": "2022-06-27T11:03:20.834Z"
   },
   {
    "duration": 246,
    "start_time": "2022-06-27T11:04:01.132Z"
   },
   {
    "duration": 211,
    "start_time": "2022-06-27T11:04:17.733Z"
   },
   {
    "duration": 210,
    "start_time": "2022-06-27T11:04:23.482Z"
   },
   {
    "duration": 6,
    "start_time": "2022-06-27T11:06:29.093Z"
   },
   {
    "duration": 202,
    "start_time": "2022-06-27T11:06:43.744Z"
   },
   {
    "duration": 213,
    "start_time": "2022-06-27T11:06:55.341Z"
   },
   {
    "duration": 9,
    "start_time": "2022-06-27T11:12:47.237Z"
   },
   {
    "duration": 1621,
    "start_time": "2022-06-27T11:13:08.829Z"
   },
   {
    "duration": 33,
    "start_time": "2022-06-27T11:13:10.452Z"
   },
   {
    "duration": 17,
    "start_time": "2022-06-27T11:13:10.487Z"
   },
   {
    "duration": 20,
    "start_time": "2022-06-27T11:13:10.507Z"
   },
   {
    "duration": 47,
    "start_time": "2022-06-27T11:13:10.551Z"
   },
   {
    "duration": 8,
    "start_time": "2022-06-27T11:13:10.600Z"
   },
   {
    "duration": 56,
    "start_time": "2022-06-27T11:13:10.610Z"
   },
   {
    "duration": 10,
    "start_time": "2022-06-27T11:13:10.669Z"
   },
   {
    "duration": 17,
    "start_time": "2022-06-27T11:13:10.681Z"
   },
   {
    "duration": 7,
    "start_time": "2022-06-27T11:13:10.700Z"
   },
   {
    "duration": 45,
    "start_time": "2022-06-27T11:13:10.709Z"
   },
   {
    "duration": 24,
    "start_time": "2022-06-27T11:13:10.756Z"
   },
   {
    "duration": 160,
    "start_time": "2022-06-27T11:13:10.783Z"
   },
   {
    "duration": 10,
    "start_time": "2022-06-27T11:13:10.952Z"
   },
   {
    "duration": 12,
    "start_time": "2022-06-27T11:13:10.964Z"
   },
   {
    "duration": 20,
    "start_time": "2022-06-27T11:13:10.979Z"
   },
   {
    "duration": 4,
    "start_time": "2022-06-27T11:13:11.001Z"
   },
   {
    "duration": 70,
    "start_time": "2022-06-27T11:13:11.008Z"
   },
   {
    "duration": 171,
    "start_time": "2022-06-27T11:13:11.080Z"
   },
   {
    "duration": 712,
    "start_time": "2022-06-27T11:13:11.254Z"
   },
   {
    "duration": 12,
    "start_time": "2022-06-27T11:13:11.968Z"
   },
   {
    "duration": 308,
    "start_time": "2022-06-27T11:13:11.982Z"
   },
   {
    "duration": 56368,
    "start_time": "2022-06-27T11:13:12.292Z"
   },
   {
    "duration": 246,
    "start_time": "2022-06-27T11:14:08.662Z"
   },
   {
    "duration": 252,
    "start_time": "2022-06-27T11:14:08.910Z"
   },
   {
    "duration": 651,
    "start_time": "2022-06-27T11:14:09.163Z"
   },
   {
    "duration": 58582,
    "start_time": "2022-06-27T11:14:09.816Z"
   },
   {
    "duration": 235,
    "start_time": "2022-06-27T11:15:08.399Z"
   },
   {
    "duration": 6,
    "start_time": "2022-06-27T11:15:08.636Z"
   },
   {
    "duration": 19,
    "start_time": "2022-06-27T11:15:08.651Z"
   },
   {
    "duration": 279,
    "start_time": "2022-06-27T11:15:08.673Z"
   },
   {
    "duration": 751,
    "start_time": "2022-06-27T11:15:08.954Z"
   },
   {
    "duration": 76684,
    "start_time": "2022-06-27T11:15:09.707Z"
   },
   {
    "duration": 229,
    "start_time": "2022-06-27T11:16:26.393Z"
   },
   {
    "duration": 1219,
    "start_time": "2022-06-27T11:16:26.624Z"
   },
   {
    "duration": 204,
    "start_time": "2022-06-27T11:16:27.851Z"
   }
  ],
  "kernelspec": {
   "display_name": "Python 3 (ipykernel)",
   "language": "python",
   "name": "python3"
  },
  "language_info": {
   "codemirror_mode": {
    "name": "ipython",
    "version": 3
   },
   "file_extension": ".py",
   "mimetype": "text/x-python",
   "name": "python",
   "nbconvert_exporter": "python",
   "pygments_lexer": "ipython3",
   "version": "3.7.8"
  },
  "toc": {
   "base_numbering": 1,
   "nav_menu": {},
   "number_sections": true,
   "sideBar": true,
   "skip_h1_title": true,
   "title_cell": "Содержание",
   "title_sidebar": "Contents",
   "toc_cell": true,
   "toc_position": {
    "height": "calc(100% - 180px)",
    "left": "10px",
    "top": "150px",
    "width": "274.391px"
   },
   "toc_section_display": true,
   "toc_window_display": true
  }
 },
 "nbformat": 4,
 "nbformat_minor": 2
}
