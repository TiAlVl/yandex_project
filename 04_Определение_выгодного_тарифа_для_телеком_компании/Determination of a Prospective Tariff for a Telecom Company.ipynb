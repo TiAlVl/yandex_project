{
 "cells": [
  {
   "cell_type": "markdown",
   "metadata": {},
   "source": [
    "# Описание проекта\n",
    "\n",
    "Вы аналитик компании «Мегалайн» — федерального оператора сотовой связи. Клиентам предлагают два тарифных плана: «Смарт» и «Ультра». Чтобы скорректировать рекламный бюджет, коммерческий департамент хочет понять, какой тариф приносит больше денег.\n",
    "Вам предстоит сделать предварительный анализ тарифов на небольшой выборке клиентов. В  распоряжении данные 500 пользователей «Мегалайна»: кто они, откуда, каким тарифом пользуются, сколько звонков и сообщений каждый отправил за 2018 год. \n"
   ]
  },
  {
   "cell_type": "markdown",
   "metadata": {},
   "source": [
    "# Цель проекта\n",
    "Нужно проанализировать поведение клиентов и сделать вывод — какой тариф лучше."
   ]
  },
  {
   "cell_type": "markdown",
   "metadata": {},
   "source": [
    "\n",
    "# Описание тарифов\n",
    "\n",
    "**Тариф «Смарт»**\n",
    "\n",
    "1.\tЕжемесячная плата: 550 рублей\n",
    "2.\tВключено 500 минут разговора, 50 сообщений и 15 Гб интернет-трафика\n",
    "3.\tСтоимость услуг сверх тарифного пакета:\n",
    "-\tминута разговора: 3 рубля\n",
    "-\tсообщение: 3 рубля\n",
    "-\t1 Гб интернет-трафика: 200 рублей\n",
    "\n",
    "**Тариф «Ультра»**\n",
    "\n",
    "1.\tЕжемесячная плата: 1950 рублей\n",
    "2.\tВключено 3000 минут разговора, 1000 сообщений и 30 Гб интернет-трафика\n",
    "3.\tСтоимость услуг сверх тарифного пакета:\n",
    "-\tминута разговора: 1 рубль\n",
    "-\tсообщение: 1 рубль\n",
    "-\t1 Гб интернет-трафика: 150 рублей\n",
    "\n",
    "**Примечание:**\n",
    "\n",
    "«Мегалайн» всегда округляет:\n",
    "* секунды до минут, \n",
    "* мегабайты — до гигабайт. \n",
    "* каждый звонок округляется отдельно: даже если он длился всего 1 секунду, будет засчитан как 1 минута.\n",
    "\n",
    "Для веб-трафика отдельные сессии не считаются. \n",
    "Вместо этого общая сумма за месяц округляется в бо́льшую сторону. Если абонент использует 1025 мегабайт в этом месяце, с него возьмут плату за 2 гигабайта.\n"
   ]
  },
  {
   "cell_type": "markdown",
   "metadata": {},
   "source": [
    "# План выполнения проекта\n",
    "\n",
    "# [Открыть файл с данными и изучить общую информацию](#step_1)\n",
    "Данные в файлах:\n",
    "-\tинформация о звонках: /datasets/calls.csv. \n",
    "-\tинформация об интернет-сессиях: /datasets/internet.csv.\n",
    "-\tинформация о сообщениях: /datasets/messages.csv.\n",
    "-\tинформация о тарифах: /datasets/tariffs.csv.\n",
    "-   информация о пользователях: /datasets/users.csv.\n",
    "-   Вывод\n",
    "\n",
    "\n",
    "\n",
    "# [Подготовка данных](#step_2)\n",
    "\n",
    "- Привести данные к нужным типам\n",
    "- Найти и исправить ошибки в данных\n",
    "- Посчитать для каждого пользователя:\n",
    "    * количество сделанных звонков и израсходованных минут разговора по месяцам;\n",
    "    * количество отправленных сообщений по месяцам;\n",
    "    * объем израсходованного интернет-трафика по месяцам;\n",
    "    * помесячную выручку с каждого пользователя.\n",
    "- Вывод по подготовке\n",
    "    \n",
    "# [Анализ данных](#step_3)\n",
    "\n",
    "- Определить количество минут разговора, сообщений и какой объём интернет-трафика требуется пользователям каждого тарифа в месяц?\n",
    "- Посчитать среднее количество, дисперсию и стандартное отклонение.\n",
    "- Построить гистограммы, описать распределения.\n",
    "- Вывод по анализу\n",
    "    \n",
    "# [Проверка гипотез](#step_4)\n",
    "\n",
    "- средняя выручка пользователей тарифов «Ультра» и «Смарт» различается;\n",
    "- средняя выручка пользователей из Москвы отличается от выручки пользователей из других регионов;\n",
    "\n",
    "# [Написать общий вывод](#end)\n",
    "\n"
   ]
  },
  {
   "cell_type": "markdown",
   "metadata": {},
   "source": [
    "## Открыть файл с данными и изучить общую информацию<a id='step_1'></a>"
   ]
  },
  {
   "cell_type": "code",
   "execution_count": 1,
   "metadata": {},
   "outputs": [],
   "source": [
    "import pandas as pd\n",
    "import numpy as np\n",
    "%matplotlib inline\n",
    "import matplotlib.pyplot as plt\n",
    "import seaborn as sns\n",
    "from scipy import stats as st"
   ]
  },
  {
   "cell_type": "code",
   "execution_count": 2,
   "metadata": {},
   "outputs": [],
   "source": [
    "#Прочитаем файлы\n",
    "#информация о тарифах\n",
    "tariffs = pd.read_csv('/datasets/tariffs.csv')\n",
    "#информация об интернет-сессиях\n",
    "#internet = pd.read_csv('/datasets/internet.csv')  \n",
    "internet = pd.read_csv('/datasets/internet.csv',  index_col=0)\n",
    "#информация о сообщениях\n",
    "messages = pd.read_csv('/datasets/messages.csv')\n",
    "#информация о звонках\n",
    "calls = pd.read_csv('/datasets/calls.csv')\n",
    "#информация о пользователях\n",
    "users = pd.read_csv('/datasets/users.csv')"
   ]
  },
  {
   "cell_type": "code",
   "execution_count": 3,
   "metadata": {},
   "outputs": [
    {
     "name": "stdout",
     "output_type": "stream",
     "text": [
      "<class 'pandas.core.frame.DataFrame'>\n",
      "RangeIndex: 2 entries, 0 to 1\n",
      "Data columns (total 8 columns):\n",
      " #   Column                 Non-Null Count  Dtype \n",
      "---  ------                 --------------  ----- \n",
      " 0   messages_included      2 non-null      int64 \n",
      " 1   mb_per_month_included  2 non-null      int64 \n",
      " 2   minutes_included       2 non-null      int64 \n",
      " 3   rub_monthly_fee        2 non-null      int64 \n",
      " 4   rub_per_gb             2 non-null      int64 \n",
      " 5   rub_per_message        2 non-null      int64 \n",
      " 6   rub_per_minute         2 non-null      int64 \n",
      " 7   tariff_name            2 non-null      object\n",
      "dtypes: int64(7), object(1)\n",
      "memory usage: 256.0+ bytes\n"
     ]
    },
    {
     "data": {
      "text/html": [
       "<div>\n",
       "<style scoped>\n",
       "    .dataframe tbody tr th:only-of-type {\n",
       "        vertical-align: middle;\n",
       "    }\n",
       "\n",
       "    .dataframe tbody tr th {\n",
       "        vertical-align: top;\n",
       "    }\n",
       "\n",
       "    .dataframe thead th {\n",
       "        text-align: right;\n",
       "    }\n",
       "</style>\n",
       "<table border=\"1\" class=\"dataframe\">\n",
       "  <thead>\n",
       "    <tr style=\"text-align: right;\">\n",
       "      <th></th>\n",
       "      <th>messages_included</th>\n",
       "      <th>mb_per_month_included</th>\n",
       "      <th>minutes_included</th>\n",
       "      <th>rub_monthly_fee</th>\n",
       "      <th>rub_per_gb</th>\n",
       "      <th>rub_per_message</th>\n",
       "      <th>rub_per_minute</th>\n",
       "      <th>tariff_name</th>\n",
       "    </tr>\n",
       "  </thead>\n",
       "  <tbody>\n",
       "    <tr>\n",
       "      <th>0</th>\n",
       "      <td>50</td>\n",
       "      <td>15360</td>\n",
       "      <td>500</td>\n",
       "      <td>550</td>\n",
       "      <td>200</td>\n",
       "      <td>3</td>\n",
       "      <td>3</td>\n",
       "      <td>smart</td>\n",
       "    </tr>\n",
       "    <tr>\n",
       "      <th>1</th>\n",
       "      <td>1000</td>\n",
       "      <td>30720</td>\n",
       "      <td>3000</td>\n",
       "      <td>1950</td>\n",
       "      <td>150</td>\n",
       "      <td>1</td>\n",
       "      <td>1</td>\n",
       "      <td>ultra</td>\n",
       "    </tr>\n",
       "  </tbody>\n",
       "</table>\n",
       "</div>"
      ],
      "text/plain": [
       "   messages_included  mb_per_month_included  minutes_included  \\\n",
       "0                 50                  15360               500   \n",
       "1               1000                  30720              3000   \n",
       "\n",
       "   rub_monthly_fee  rub_per_gb  rub_per_message  rub_per_minute tariff_name  \n",
       "0              550         200                3               3       smart  \n",
       "1             1950         150                1               1       ultra  "
      ]
     },
     "execution_count": 3,
     "metadata": {},
     "output_type": "execute_result"
    }
   ],
   "source": [
    "tariffs.info()\n",
    "tariffs"
   ]
  },
  {
   "cell_type": "markdown",
   "metadata": {},
   "source": [
    "**Таблица tariffs (информация о тарифах):**\n",
    "-\ttariff_name — название тарифа\n",
    "-\trub_monthly_fee — ежемесячная абонентская плата в рублях\n",
    "-\tminutes_included — количество минут разговора в месяц, включённых в абонентскую плату\n",
    "-\tmessages_included — количество сообщений в месяц, включённых в абонентскую плату\n",
    "-\tmb_per_month_included — объём интернет-трафика, включённого в абонентскую плату (в мегабайтах)\n",
    "-\trub_per_minute — стоимость минуты разговора сверх тарифного пакета (например, если в тарифе 100 минут разговора в месяц, то со 101 минуты будет взиматься плата)\n",
    "-\trub_per_message — стоимость отправки сообщения сверх тарифного пакета\n",
    "-\trub_per_gb — стоимость дополнительного гигабайта интернет-трафика сверх тарифного пакета (1 гигабайт = 1024 мегабайта)\n"
   ]
  },
  {
   "cell_type": "code",
   "execution_count": 4,
   "metadata": {},
   "outputs": [
    {
     "name": "stdout",
     "output_type": "stream",
     "text": [
      "<class 'pandas.core.frame.DataFrame'>\n",
      "Int64Index: 149396 entries, 0 to 149395\n",
      "Data columns (total 4 columns):\n",
      " #   Column        Non-Null Count   Dtype  \n",
      "---  ------        --------------   -----  \n",
      " 0   id            149396 non-null  object \n",
      " 1   mb_used       149396 non-null  float64\n",
      " 2   session_date  149396 non-null  object \n",
      " 3   user_id       149396 non-null  int64  \n",
      "dtypes: float64(1), int64(1), object(2)\n",
      "memory usage: 5.7+ MB\n"
     ]
    },
    {
     "data": {
      "text/html": [
       "<div>\n",
       "<style scoped>\n",
       "    .dataframe tbody tr th:only-of-type {\n",
       "        vertical-align: middle;\n",
       "    }\n",
       "\n",
       "    .dataframe tbody tr th {\n",
       "        vertical-align: top;\n",
       "    }\n",
       "\n",
       "    .dataframe thead th {\n",
       "        text-align: right;\n",
       "    }\n",
       "</style>\n",
       "<table border=\"1\" class=\"dataframe\">\n",
       "  <thead>\n",
       "    <tr style=\"text-align: right;\">\n",
       "      <th></th>\n",
       "      <th>id</th>\n",
       "      <th>mb_used</th>\n",
       "      <th>session_date</th>\n",
       "      <th>user_id</th>\n",
       "    </tr>\n",
       "  </thead>\n",
       "  <tbody>\n",
       "    <tr>\n",
       "      <th>0</th>\n",
       "      <td>1000_0</td>\n",
       "      <td>112.95</td>\n",
       "      <td>2018-11-25</td>\n",
       "      <td>1000</td>\n",
       "    </tr>\n",
       "    <tr>\n",
       "      <th>1</th>\n",
       "      <td>1000_1</td>\n",
       "      <td>1052.81</td>\n",
       "      <td>2018-09-07</td>\n",
       "      <td>1000</td>\n",
       "    </tr>\n",
       "    <tr>\n",
       "      <th>2</th>\n",
       "      <td>1000_2</td>\n",
       "      <td>1197.26</td>\n",
       "      <td>2018-06-25</td>\n",
       "      <td>1000</td>\n",
       "    </tr>\n",
       "    <tr>\n",
       "      <th>3</th>\n",
       "      <td>1000_3</td>\n",
       "      <td>550.27</td>\n",
       "      <td>2018-08-22</td>\n",
       "      <td>1000</td>\n",
       "    </tr>\n",
       "    <tr>\n",
       "      <th>4</th>\n",
       "      <td>1000_4</td>\n",
       "      <td>302.56</td>\n",
       "      <td>2018-09-24</td>\n",
       "      <td>1000</td>\n",
       "    </tr>\n",
       "    <tr>\n",
       "      <th>...</th>\n",
       "      <td>...</td>\n",
       "      <td>...</td>\n",
       "      <td>...</td>\n",
       "      <td>...</td>\n",
       "    </tr>\n",
       "    <tr>\n",
       "      <th>149391</th>\n",
       "      <td>1499_152</td>\n",
       "      <td>318.90</td>\n",
       "      <td>2018-10-03</td>\n",
       "      <td>1499</td>\n",
       "    </tr>\n",
       "    <tr>\n",
       "      <th>149392</th>\n",
       "      <td>1499_153</td>\n",
       "      <td>490.13</td>\n",
       "      <td>2018-12-14</td>\n",
       "      <td>1499</td>\n",
       "    </tr>\n",
       "    <tr>\n",
       "      <th>149393</th>\n",
       "      <td>1499_154</td>\n",
       "      <td>0.00</td>\n",
       "      <td>2018-10-27</td>\n",
       "      <td>1499</td>\n",
       "    </tr>\n",
       "    <tr>\n",
       "      <th>149394</th>\n",
       "      <td>1499_155</td>\n",
       "      <td>1246.32</td>\n",
       "      <td>2018-11-26</td>\n",
       "      <td>1499</td>\n",
       "    </tr>\n",
       "    <tr>\n",
       "      <th>149395</th>\n",
       "      <td>1499_156</td>\n",
       "      <td>544.37</td>\n",
       "      <td>2018-10-26</td>\n",
       "      <td>1499</td>\n",
       "    </tr>\n",
       "  </tbody>\n",
       "</table>\n",
       "<p>149396 rows × 4 columns</p>\n",
       "</div>"
      ],
      "text/plain": [
       "              id  mb_used session_date  user_id\n",
       "0         1000_0   112.95   2018-11-25     1000\n",
       "1         1000_1  1052.81   2018-09-07     1000\n",
       "2         1000_2  1197.26   2018-06-25     1000\n",
       "3         1000_3   550.27   2018-08-22     1000\n",
       "4         1000_4   302.56   2018-09-24     1000\n",
       "...          ...      ...          ...      ...\n",
       "149391  1499_152   318.90   2018-10-03     1499\n",
       "149392  1499_153   490.13   2018-12-14     1499\n",
       "149393  1499_154     0.00   2018-10-27     1499\n",
       "149394  1499_155  1246.32   2018-11-26     1499\n",
       "149395  1499_156   544.37   2018-10-26     1499\n",
       "\n",
       "[149396 rows x 4 columns]"
      ]
     },
     "execution_count": 4,
     "metadata": {},
     "output_type": "execute_result"
    }
   ],
   "source": [
    "#информация об интернет-сессиях\n",
    "internet.info()\n",
    "internet"
   ]
  },
  {
   "cell_type": "code",
   "execution_count": 5,
   "metadata": {},
   "outputs": [
    {
     "data": {
      "text/plain": [
       "497"
      ]
     },
     "execution_count": 5,
     "metadata": {},
     "output_type": "execute_result"
    }
   ],
   "source": [
    "# Проверим количество уникальных пользователей\n",
    "# 497 записей из 500 - видимо кто-то не пользуется интернетом\n",
    "len(internet['user_id'].unique())"
   ]
  },
  {
   "cell_type": "code",
   "execution_count": 6,
   "metadata": {},
   "outputs": [
    {
     "data": {
      "text/plain": [
       "0"
      ]
     },
     "execution_count": 6,
     "metadata": {},
     "output_type": "execute_result"
    }
   ],
   "source": [
    "internet.duplicated().sum() # Наличие дублей"
   ]
  },
  {
   "cell_type": "code",
   "execution_count": 7,
   "metadata": {},
   "outputs": [
    {
     "data": {
      "text/html": [
       "<div>\n",
       "<style scoped>\n",
       "    .dataframe tbody tr th:only-of-type {\n",
       "        vertical-align: middle;\n",
       "    }\n",
       "\n",
       "    .dataframe tbody tr th {\n",
       "        vertical-align: top;\n",
       "    }\n",
       "\n",
       "    .dataframe thead th {\n",
       "        text-align: right;\n",
       "    }\n",
       "</style>\n",
       "<table border=\"1\" class=\"dataframe\">\n",
       "  <thead>\n",
       "    <tr style=\"text-align: right;\">\n",
       "      <th></th>\n",
       "      <th>mb_used</th>\n",
       "      <th>user_id</th>\n",
       "    </tr>\n",
       "  </thead>\n",
       "  <tbody>\n",
       "    <tr>\n",
       "      <th>count</th>\n",
       "      <td>149396.000000</td>\n",
       "      <td>149396.000000</td>\n",
       "    </tr>\n",
       "    <tr>\n",
       "      <th>mean</th>\n",
       "      <td>370.192426</td>\n",
       "      <td>1252.099842</td>\n",
       "    </tr>\n",
       "    <tr>\n",
       "      <th>std</th>\n",
       "      <td>278.300951</td>\n",
       "      <td>144.050823</td>\n",
       "    </tr>\n",
       "    <tr>\n",
       "      <th>min</th>\n",
       "      <td>0.000000</td>\n",
       "      <td>1000.000000</td>\n",
       "    </tr>\n",
       "    <tr>\n",
       "      <th>25%</th>\n",
       "      <td>138.187500</td>\n",
       "      <td>1130.000000</td>\n",
       "    </tr>\n",
       "    <tr>\n",
       "      <th>50%</th>\n",
       "      <td>348.015000</td>\n",
       "      <td>1251.000000</td>\n",
       "    </tr>\n",
       "    <tr>\n",
       "      <th>75%</th>\n",
       "      <td>559.552500</td>\n",
       "      <td>1380.000000</td>\n",
       "    </tr>\n",
       "    <tr>\n",
       "      <th>max</th>\n",
       "      <td>1724.830000</td>\n",
       "      <td>1499.000000</td>\n",
       "    </tr>\n",
       "  </tbody>\n",
       "</table>\n",
       "</div>"
      ],
      "text/plain": [
       "             mb_used        user_id\n",
       "count  149396.000000  149396.000000\n",
       "mean      370.192426    1252.099842\n",
       "std       278.300951     144.050823\n",
       "min         0.000000    1000.000000\n",
       "25%       138.187500    1130.000000\n",
       "50%       348.015000    1251.000000\n",
       "75%       559.552500    1380.000000\n",
       "max      1724.830000    1499.000000"
      ]
     },
     "execution_count": 7,
     "metadata": {},
     "output_type": "execute_result"
    }
   ],
   "source": [
    "internet.describe()"
   ]
  },
  {
   "cell_type": "code",
   "execution_count": 8,
   "metadata": {},
   "outputs": [
    {
     "data": {
      "text/plain": [
       "Text(0.5, 1.0, 'График объема интернета')"
      ]
     },
     "execution_count": 8,
     "metadata": {},
     "output_type": "execute_result"
    },
    {
     "data": {
      "image/png": "[encoded data removed]",
      "text/plain": [
       "<Figure size 720x504 with 1 Axes>"
      ]
     },
     "metadata": {
      "needs_background": "light"
     },
     "output_type": "display_data"
    }
   ],
   "source": [
    "fig, ax = plt.subplots(figsize =(10, 7))\n",
    "ax.hist(internet['mb_used'], bins = 100)\n",
    "plt.xlabel('Объем траффика Mb')\n",
    "plt.ylabel('Количество')\n",
    "plt.title('График объема интернета', fontsize=20)"
   ]
  },
  {
   "cell_type": "code",
   "execution_count": 9,
   "metadata": {},
   "outputs": [
    {
     "data": {
      "text/plain": [
       "Text(0, 0.5, 'Количество')"
      ]
     },
     "execution_count": 9,
     "metadata": {},
     "output_type": "execute_result"
    },
    {
     "data": {
      "image/png": "[encoded data removed]",
      "text/plain": [
       "<Figure size 720x432 with 1 Axes>"
      ]
     },
     "metadata": {
      "needs_background": "light"
     },
     "output_type": "display_data"
    }
   ],
   "source": [
    "# очень много сессий с передачей данных, равной нулю\n",
    "internet.query('mb_used == 0')['user_id'].plot(kind='hist', bins=100, figsize=(10,6))\n",
    "plt.xlabel('Номер пользователя')\n",
    "plt.ylabel('Количество')"
   ]
  },
  {
   "cell_type": "markdown",
   "metadata": {},
   "source": [
    "Интернет сессии с нулевой передачей данных наблюдаются у каждого абонента.\n",
    "Можно предположить, что это установка соединения, или регистрация устройства на сотовой вышке."
   ]
  },
  {
   "cell_type": "markdown",
   "metadata": {},
   "source": [
    "\n",
    "**Таблица internet (информация об интернет-сессиях):**\n",
    "-\tid — уникальный номер сессии\n",
    "-\tmb_used — объём потраченного за сессию интернет-трафика (в мегабайтах)\n",
    "-\tsession_date — дата интернет-сессии\n",
    "-\tuser_id — идентификатор пользователя"
   ]
  },
  {
   "cell_type": "markdown",
   "metadata": {},
   "source": [
    "* Таблица **internet** имеет 5 столбцов. 149396 записей.\n",
    "* Пропусков данных нет\n",
    "* Сомнительный столбец **Unnamed:0** - в нем повотряется номер строки - удаляем\n",
    "* Столбец **session_date** приведем в тип данных datetime\n",
    "* Дубликатов нет\n",
    "* Есть нулевые данные по траффику интернета - кто-то не пользуется"
   ]
  },
  {
   "cell_type": "code",
   "execution_count": 10,
   "metadata": {},
   "outputs": [
    {
     "name": "stdout",
     "output_type": "stream",
     "text": [
      "<class 'pandas.core.frame.DataFrame'>\n",
      "RangeIndex: 123036 entries, 0 to 123035\n",
      "Data columns (total 3 columns):\n",
      " #   Column        Non-Null Count   Dtype \n",
      "---  ------        --------------   ----- \n",
      " 0   id            123036 non-null  object\n",
      " 1   message_date  123036 non-null  object\n",
      " 2   user_id       123036 non-null  int64 \n",
      "dtypes: int64(1), object(2)\n",
      "memory usage: 2.8+ MB\n"
     ]
    },
    {
     "data": {
      "text/html": [
       "<div>\n",
       "<style scoped>\n",
       "    .dataframe tbody tr th:only-of-type {\n",
       "        vertical-align: middle;\n",
       "    }\n",
       "\n",
       "    .dataframe tbody tr th {\n",
       "        vertical-align: top;\n",
       "    }\n",
       "\n",
       "    .dataframe thead th {\n",
       "        text-align: right;\n",
       "    }\n",
       "</style>\n",
       "<table border=\"1\" class=\"dataframe\">\n",
       "  <thead>\n",
       "    <tr style=\"text-align: right;\">\n",
       "      <th></th>\n",
       "      <th>id</th>\n",
       "      <th>message_date</th>\n",
       "      <th>user_id</th>\n",
       "    </tr>\n",
       "  </thead>\n",
       "  <tbody>\n",
       "    <tr>\n",
       "      <th>0</th>\n",
       "      <td>1000_0</td>\n",
       "      <td>2018-06-27</td>\n",
       "      <td>1000</td>\n",
       "    </tr>\n",
       "    <tr>\n",
       "      <th>1</th>\n",
       "      <td>1000_1</td>\n",
       "      <td>2018-10-08</td>\n",
       "      <td>1000</td>\n",
       "    </tr>\n",
       "    <tr>\n",
       "      <th>2</th>\n",
       "      <td>1000_2</td>\n",
       "      <td>2018-08-04</td>\n",
       "      <td>1000</td>\n",
       "    </tr>\n",
       "    <tr>\n",
       "      <th>3</th>\n",
       "      <td>1000_3</td>\n",
       "      <td>2018-06-16</td>\n",
       "      <td>1000</td>\n",
       "    </tr>\n",
       "    <tr>\n",
       "      <th>4</th>\n",
       "      <td>1000_4</td>\n",
       "      <td>2018-12-05</td>\n",
       "      <td>1000</td>\n",
       "    </tr>\n",
       "    <tr>\n",
       "      <th>...</th>\n",
       "      <td>...</td>\n",
       "      <td>...</td>\n",
       "      <td>...</td>\n",
       "    </tr>\n",
       "    <tr>\n",
       "      <th>123031</th>\n",
       "      <td>1499_179</td>\n",
       "      <td>2018-12-12</td>\n",
       "      <td>1499</td>\n",
       "    </tr>\n",
       "    <tr>\n",
       "      <th>123032</th>\n",
       "      <td>1499_180</td>\n",
       "      <td>2018-09-28</td>\n",
       "      <td>1499</td>\n",
       "    </tr>\n",
       "    <tr>\n",
       "      <th>123033</th>\n",
       "      <td>1499_181</td>\n",
       "      <td>2018-09-27</td>\n",
       "      <td>1499</td>\n",
       "    </tr>\n",
       "    <tr>\n",
       "      <th>123034</th>\n",
       "      <td>1499_182</td>\n",
       "      <td>2018-11-15</td>\n",
       "      <td>1499</td>\n",
       "    </tr>\n",
       "    <tr>\n",
       "      <th>123035</th>\n",
       "      <td>1499_183</td>\n",
       "      <td>2018-11-16</td>\n",
       "      <td>1499</td>\n",
       "    </tr>\n",
       "  </tbody>\n",
       "</table>\n",
       "<p>123036 rows × 3 columns</p>\n",
       "</div>"
      ],
      "text/plain": [
       "              id message_date  user_id\n",
       "0         1000_0   2018-06-27     1000\n",
       "1         1000_1   2018-10-08     1000\n",
       "2         1000_2   2018-08-04     1000\n",
       "3         1000_3   2018-06-16     1000\n",
       "4         1000_4   2018-12-05     1000\n",
       "...          ...          ...      ...\n",
       "123031  1499_179   2018-12-12     1499\n",
       "123032  1499_180   2018-09-28     1499\n",
       "123033  1499_181   2018-09-27     1499\n",
       "123034  1499_182   2018-11-15     1499\n",
       "123035  1499_183   2018-11-16     1499\n",
       "\n",
       "[123036 rows x 3 columns]"
      ]
     },
     "execution_count": 10,
     "metadata": {},
     "output_type": "execute_result"
    }
   ],
   "source": [
    "#информация о сообщениях\n",
    "messages.info()\n",
    "messages"
   ]
  },
  {
   "cell_type": "code",
   "execution_count": 11,
   "metadata": {},
   "outputs": [
    {
     "data": {
      "text/plain": [
       "426"
      ]
     },
     "execution_count": 11,
     "metadata": {},
     "output_type": "execute_result"
    }
   ],
   "source": [
    "# Проверим количество уникальных пользователей\n",
    "# 426 из 500 пользуются смсками\n",
    "len(messages['user_id'].unique())"
   ]
  },
  {
   "cell_type": "code",
   "execution_count": 12,
   "metadata": {},
   "outputs": [
    {
     "data": {
      "text/plain": [
       "0"
      ]
     },
     "execution_count": 12,
     "metadata": {},
     "output_type": "execute_result"
    }
   ],
   "source": [
    "messages.duplicated().sum() # Проверим наличие дубликатов"
   ]
  },
  {
   "cell_type": "markdown",
   "metadata": {},
   "source": [
    "\n",
    "**Таблица messages (информация о сообщениях):**\n",
    "-\tid — уникальный номер сообщения\n",
    "-\tmessage_date — дата сообщения\n",
    "-\tuser_id — идентификатор пользователя, отправившего сообщение\n"
   ]
  },
  {
   "cell_type": "markdown",
   "metadata": {},
   "source": [
    "* Таблица содержит 3 столбца. 123036 строк. Пропусков данных нет\n",
    "* Столбец **message_date** приведем в тип данных datetime\n",
    "* Дубликатов нет"
   ]
  },
  {
   "cell_type": "code",
   "execution_count": 13,
   "metadata": {},
   "outputs": [
    {
     "name": "stdout",
     "output_type": "stream",
     "text": [
      "<class 'pandas.core.frame.DataFrame'>\n",
      "RangeIndex: 202607 entries, 0 to 202606\n",
      "Data columns (total 4 columns):\n",
      " #   Column     Non-Null Count   Dtype  \n",
      "---  ------     --------------   -----  \n",
      " 0   id         202607 non-null  object \n",
      " 1   call_date  202607 non-null  object \n",
      " 2   duration   202607 non-null  float64\n",
      " 3   user_id    202607 non-null  int64  \n",
      "dtypes: float64(1), int64(1), object(2)\n",
      "memory usage: 6.2+ MB\n"
     ]
    },
    {
     "data": {
      "text/html": [
       "<div>\n",
       "<style scoped>\n",
       "    .dataframe tbody tr th:only-of-type {\n",
       "        vertical-align: middle;\n",
       "    }\n",
       "\n",
       "    .dataframe tbody tr th {\n",
       "        vertical-align: top;\n",
       "    }\n",
       "\n",
       "    .dataframe thead th {\n",
       "        text-align: right;\n",
       "    }\n",
       "</style>\n",
       "<table border=\"1\" class=\"dataframe\">\n",
       "  <thead>\n",
       "    <tr style=\"text-align: right;\">\n",
       "      <th></th>\n",
       "      <th>id</th>\n",
       "      <th>call_date</th>\n",
       "      <th>duration</th>\n",
       "      <th>user_id</th>\n",
       "    </tr>\n",
       "  </thead>\n",
       "  <tbody>\n",
       "    <tr>\n",
       "      <th>0</th>\n",
       "      <td>1000_0</td>\n",
       "      <td>2018-07-25</td>\n",
       "      <td>0.00</td>\n",
       "      <td>1000</td>\n",
       "    </tr>\n",
       "    <tr>\n",
       "      <th>1</th>\n",
       "      <td>1000_1</td>\n",
       "      <td>2018-08-17</td>\n",
       "      <td>0.00</td>\n",
       "      <td>1000</td>\n",
       "    </tr>\n",
       "    <tr>\n",
       "      <th>2</th>\n",
       "      <td>1000_2</td>\n",
       "      <td>2018-06-11</td>\n",
       "      <td>2.85</td>\n",
       "      <td>1000</td>\n",
       "    </tr>\n",
       "    <tr>\n",
       "      <th>3</th>\n",
       "      <td>1000_3</td>\n",
       "      <td>2018-09-21</td>\n",
       "      <td>13.80</td>\n",
       "      <td>1000</td>\n",
       "    </tr>\n",
       "    <tr>\n",
       "      <th>4</th>\n",
       "      <td>1000_4</td>\n",
       "      <td>2018-12-15</td>\n",
       "      <td>5.18</td>\n",
       "      <td>1000</td>\n",
       "    </tr>\n",
       "    <tr>\n",
       "      <th>...</th>\n",
       "      <td>...</td>\n",
       "      <td>...</td>\n",
       "      <td>...</td>\n",
       "      <td>...</td>\n",
       "    </tr>\n",
       "    <tr>\n",
       "      <th>202602</th>\n",
       "      <td>1499_215</td>\n",
       "      <td>2018-12-26</td>\n",
       "      <td>0.76</td>\n",
       "      <td>1499</td>\n",
       "    </tr>\n",
       "    <tr>\n",
       "      <th>202603</th>\n",
       "      <td>1499_216</td>\n",
       "      <td>2018-10-18</td>\n",
       "      <td>18.83</td>\n",
       "      <td>1499</td>\n",
       "    </tr>\n",
       "    <tr>\n",
       "      <th>202604</th>\n",
       "      <td>1499_217</td>\n",
       "      <td>2018-11-10</td>\n",
       "      <td>10.81</td>\n",
       "      <td>1499</td>\n",
       "    </tr>\n",
       "    <tr>\n",
       "      <th>202605</th>\n",
       "      <td>1499_218</td>\n",
       "      <td>2018-10-06</td>\n",
       "      <td>4.27</td>\n",
       "      <td>1499</td>\n",
       "    </tr>\n",
       "    <tr>\n",
       "      <th>202606</th>\n",
       "      <td>1499_219</td>\n",
       "      <td>2018-12-14</td>\n",
       "      <td>19.62</td>\n",
       "      <td>1499</td>\n",
       "    </tr>\n",
       "  </tbody>\n",
       "</table>\n",
       "<p>202607 rows × 4 columns</p>\n",
       "</div>"
      ],
      "text/plain": [
       "              id   call_date  duration  user_id\n",
       "0         1000_0  2018-07-25      0.00     1000\n",
       "1         1000_1  2018-08-17      0.00     1000\n",
       "2         1000_2  2018-06-11      2.85     1000\n",
       "3         1000_3  2018-09-21     13.80     1000\n",
       "4         1000_4  2018-12-15      5.18     1000\n",
       "...          ...         ...       ...      ...\n",
       "202602  1499_215  2018-12-26      0.76     1499\n",
       "202603  1499_216  2018-10-18     18.83     1499\n",
       "202604  1499_217  2018-11-10     10.81     1499\n",
       "202605  1499_218  2018-10-06      4.27     1499\n",
       "202606  1499_219  2018-12-14     19.62     1499\n",
       "\n",
       "[202607 rows x 4 columns]"
      ]
     },
     "execution_count": 13,
     "metadata": {},
     "output_type": "execute_result"
    }
   ],
   "source": [
    "#информация о звонках\n",
    "calls.info()\n",
    "calls"
   ]
  },
  {
   "cell_type": "code",
   "execution_count": 14,
   "metadata": {},
   "outputs": [
    {
     "data": {
      "text/plain": [
       "492"
      ]
     },
     "execution_count": 14,
     "metadata": {},
     "output_type": "execute_result"
    }
   ],
   "source": [
    "# Проверим количество уникальных пользователей\n",
    "# 492 из 500 - есть пользователи, которым не понадобилась связь\n",
    "len(calls['user_id'].unique())"
   ]
  },
  {
   "cell_type": "code",
   "execution_count": 15,
   "metadata": {},
   "outputs": [
    {
     "data": {
      "text/plain": [
       "0"
      ]
     },
     "execution_count": 15,
     "metadata": {},
     "output_type": "execute_result"
    }
   ],
   "source": [
    "calls.duplicated().sum() # Проверим наличие дубликатов"
   ]
  },
  {
   "cell_type": "code",
   "execution_count": 16,
   "metadata": {},
   "outputs": [
    {
     "data": {
      "text/html": [
       "<div>\n",
       "<style scoped>\n",
       "    .dataframe tbody tr th:only-of-type {\n",
       "        vertical-align: middle;\n",
       "    }\n",
       "\n",
       "    .dataframe tbody tr th {\n",
       "        vertical-align: top;\n",
       "    }\n",
       "\n",
       "    .dataframe thead th {\n",
       "        text-align: right;\n",
       "    }\n",
       "</style>\n",
       "<table border=\"1\" class=\"dataframe\">\n",
       "  <thead>\n",
       "    <tr style=\"text-align: right;\">\n",
       "      <th></th>\n",
       "      <th>duration</th>\n",
       "      <th>user_id</th>\n",
       "    </tr>\n",
       "  </thead>\n",
       "  <tbody>\n",
       "    <tr>\n",
       "      <th>count</th>\n",
       "      <td>202607.000000</td>\n",
       "      <td>202607.000000</td>\n",
       "    </tr>\n",
       "    <tr>\n",
       "      <th>mean</th>\n",
       "      <td>6.755887</td>\n",
       "      <td>1253.940619</td>\n",
       "    </tr>\n",
       "    <tr>\n",
       "      <th>std</th>\n",
       "      <td>5.843365</td>\n",
       "      <td>144.722751</td>\n",
       "    </tr>\n",
       "    <tr>\n",
       "      <th>min</th>\n",
       "      <td>0.000000</td>\n",
       "      <td>1000.000000</td>\n",
       "    </tr>\n",
       "    <tr>\n",
       "      <th>25%</th>\n",
       "      <td>1.300000</td>\n",
       "      <td>1126.000000</td>\n",
       "    </tr>\n",
       "    <tr>\n",
       "      <th>50%</th>\n",
       "      <td>6.000000</td>\n",
       "      <td>1260.000000</td>\n",
       "    </tr>\n",
       "    <tr>\n",
       "      <th>75%</th>\n",
       "      <td>10.700000</td>\n",
       "      <td>1379.000000</td>\n",
       "    </tr>\n",
       "    <tr>\n",
       "      <th>max</th>\n",
       "      <td>38.000000</td>\n",
       "      <td>1499.000000</td>\n",
       "    </tr>\n",
       "  </tbody>\n",
       "</table>\n",
       "</div>"
      ],
      "text/plain": [
       "            duration        user_id\n",
       "count  202607.000000  202607.000000\n",
       "mean        6.755887    1253.940619\n",
       "std         5.843365     144.722751\n",
       "min         0.000000    1000.000000\n",
       "25%         1.300000    1126.000000\n",
       "50%         6.000000    1260.000000\n",
       "75%        10.700000    1379.000000\n",
       "max        38.000000    1499.000000"
      ]
     },
     "execution_count": 16,
     "metadata": {},
     "output_type": "execute_result"
    }
   ],
   "source": [
    "calls.describe()"
   ]
  },
  {
   "cell_type": "markdown",
   "metadata": {},
   "source": [
    "В таблице **calls** 4 столбца с даными.\n",
    "202607 значений\n",
    "пропусков не наблюдается\n",
    "* Столбец **call_date** приведем в тип данных datetime\n",
    "* Дубликатов нет\n",
    "* Есть звонки длительностью 0 минут - пропущенные скорее всего \n",
    "* Звноки округлить в большую сторону до минуты (тарификация кампании), после имзенить тип данных на целочисленный\n",
    "\n",
    "**Таблица calls (информация о звонках):**\n",
    "-\tid — уникальный номер звонка\n",
    "-\tcall_date — дата звонка\n",
    "-\tduration — длительность звонка в минутах\n",
    "-\tuser_id — идентификатор пользователя, сделавшего звонок\n"
   ]
  },
  {
   "cell_type": "code",
   "execution_count": 17,
   "metadata": {},
   "outputs": [
    {
     "name": "stdout",
     "output_type": "stream",
     "text": [
      "<class 'pandas.core.frame.DataFrame'>\n",
      "RangeIndex: 500 entries, 0 to 499\n",
      "Data columns (total 8 columns):\n",
      " #   Column      Non-Null Count  Dtype \n",
      "---  ------      --------------  ----- \n",
      " 0   user_id     500 non-null    int64 \n",
      " 1   age         500 non-null    int64 \n",
      " 2   churn_date  38 non-null     object\n",
      " 3   city        500 non-null    object\n",
      " 4   first_name  500 non-null    object\n",
      " 5   last_name   500 non-null    object\n",
      " 6   reg_date    500 non-null    object\n",
      " 7   tariff      500 non-null    object\n",
      "dtypes: int64(2), object(6)\n",
      "memory usage: 31.4+ KB\n"
     ]
    },
    {
     "data": {
      "text/html": [
       "<div>\n",
       "<style scoped>\n",
       "    .dataframe tbody tr th:only-of-type {\n",
       "        vertical-align: middle;\n",
       "    }\n",
       "\n",
       "    .dataframe tbody tr th {\n",
       "        vertical-align: top;\n",
       "    }\n",
       "\n",
       "    .dataframe thead th {\n",
       "        text-align: right;\n",
       "    }\n",
       "</style>\n",
       "<table border=\"1\" class=\"dataframe\">\n",
       "  <thead>\n",
       "    <tr style=\"text-align: right;\">\n",
       "      <th></th>\n",
       "      <th>user_id</th>\n",
       "      <th>age</th>\n",
       "      <th>churn_date</th>\n",
       "      <th>city</th>\n",
       "      <th>first_name</th>\n",
       "      <th>last_name</th>\n",
       "      <th>reg_date</th>\n",
       "      <th>tariff</th>\n",
       "    </tr>\n",
       "  </thead>\n",
       "  <tbody>\n",
       "    <tr>\n",
       "      <th>0</th>\n",
       "      <td>1000</td>\n",
       "      <td>52</td>\n",
       "      <td>NaN</td>\n",
       "      <td>Краснодар</td>\n",
       "      <td>Рафаил</td>\n",
       "      <td>Верещагин</td>\n",
       "      <td>2018-05-25</td>\n",
       "      <td>ultra</td>\n",
       "    </tr>\n",
       "    <tr>\n",
       "      <th>1</th>\n",
       "      <td>1001</td>\n",
       "      <td>41</td>\n",
       "      <td>NaN</td>\n",
       "      <td>Москва</td>\n",
       "      <td>Иван</td>\n",
       "      <td>Ежов</td>\n",
       "      <td>2018-11-01</td>\n",
       "      <td>smart</td>\n",
       "    </tr>\n",
       "    <tr>\n",
       "      <th>2</th>\n",
       "      <td>1002</td>\n",
       "      <td>59</td>\n",
       "      <td>NaN</td>\n",
       "      <td>Стерлитамак</td>\n",
       "      <td>Евгений</td>\n",
       "      <td>Абрамович</td>\n",
       "      <td>2018-06-17</td>\n",
       "      <td>smart</td>\n",
       "    </tr>\n",
       "    <tr>\n",
       "      <th>3</th>\n",
       "      <td>1003</td>\n",
       "      <td>23</td>\n",
       "      <td>NaN</td>\n",
       "      <td>Москва</td>\n",
       "      <td>Белла</td>\n",
       "      <td>Белякова</td>\n",
       "      <td>2018-08-17</td>\n",
       "      <td>ultra</td>\n",
       "    </tr>\n",
       "    <tr>\n",
       "      <th>4</th>\n",
       "      <td>1004</td>\n",
       "      <td>68</td>\n",
       "      <td>NaN</td>\n",
       "      <td>Новокузнецк</td>\n",
       "      <td>Татьяна</td>\n",
       "      <td>Авдеенко</td>\n",
       "      <td>2018-05-14</td>\n",
       "      <td>ultra</td>\n",
       "    </tr>\n",
       "    <tr>\n",
       "      <th>...</th>\n",
       "      <td>...</td>\n",
       "      <td>...</td>\n",
       "      <td>...</td>\n",
       "      <td>...</td>\n",
       "      <td>...</td>\n",
       "      <td>...</td>\n",
       "      <td>...</td>\n",
       "      <td>...</td>\n",
       "    </tr>\n",
       "    <tr>\n",
       "      <th>495</th>\n",
       "      <td>1495</td>\n",
       "      <td>65</td>\n",
       "      <td>NaN</td>\n",
       "      <td>Иркутск</td>\n",
       "      <td>Авксентий</td>\n",
       "      <td>Фокин</td>\n",
       "      <td>2018-08-28</td>\n",
       "      <td>ultra</td>\n",
       "    </tr>\n",
       "    <tr>\n",
       "      <th>496</th>\n",
       "      <td>1496</td>\n",
       "      <td>36</td>\n",
       "      <td>NaN</td>\n",
       "      <td>Вологда</td>\n",
       "      <td>Трифон</td>\n",
       "      <td>Блохин</td>\n",
       "      <td>2018-01-27</td>\n",
       "      <td>smart</td>\n",
       "    </tr>\n",
       "    <tr>\n",
       "      <th>497</th>\n",
       "      <td>1497</td>\n",
       "      <td>32</td>\n",
       "      <td>NaN</td>\n",
       "      <td>Челябинск</td>\n",
       "      <td>Каролина</td>\n",
       "      <td>Агеева</td>\n",
       "      <td>2018-10-09</td>\n",
       "      <td>smart</td>\n",
       "    </tr>\n",
       "    <tr>\n",
       "      <th>498</th>\n",
       "      <td>1498</td>\n",
       "      <td>68</td>\n",
       "      <td>2018-10-25</td>\n",
       "      <td>Владикавказ</td>\n",
       "      <td>Всеволод</td>\n",
       "      <td>Акимчин</td>\n",
       "      <td>2018-07-19</td>\n",
       "      <td>smart</td>\n",
       "    </tr>\n",
       "    <tr>\n",
       "      <th>499</th>\n",
       "      <td>1499</td>\n",
       "      <td>35</td>\n",
       "      <td>NaN</td>\n",
       "      <td>Пермь</td>\n",
       "      <td>Гектор</td>\n",
       "      <td>Корнилов</td>\n",
       "      <td>2018-09-27</td>\n",
       "      <td>smart</td>\n",
       "    </tr>\n",
       "  </tbody>\n",
       "</table>\n",
       "<p>500 rows × 8 columns</p>\n",
       "</div>"
      ],
      "text/plain": [
       "     user_id  age  churn_date         city first_name  last_name    reg_date  \\\n",
       "0       1000   52         NaN    Краснодар     Рафаил  Верещагин  2018-05-25   \n",
       "1       1001   41         NaN       Москва       Иван       Ежов  2018-11-01   \n",
       "2       1002   59         NaN  Стерлитамак    Евгений  Абрамович  2018-06-17   \n",
       "3       1003   23         NaN       Москва      Белла   Белякова  2018-08-17   \n",
       "4       1004   68         NaN  Новокузнецк    Татьяна   Авдеенко  2018-05-14   \n",
       "..       ...  ...         ...          ...        ...        ...         ...   \n",
       "495     1495   65         NaN      Иркутск  Авксентий      Фокин  2018-08-28   \n",
       "496     1496   36         NaN      Вологда     Трифон     Блохин  2018-01-27   \n",
       "497     1497   32         NaN    Челябинск   Каролина     Агеева  2018-10-09   \n",
       "498     1498   68  2018-10-25  Владикавказ   Всеволод    Акимчин  2018-07-19   \n",
       "499     1499   35         NaN        Пермь     Гектор   Корнилов  2018-09-27   \n",
       "\n",
       "    tariff  \n",
       "0    ultra  \n",
       "1    smart  \n",
       "2    smart  \n",
       "3    ultra  \n",
       "4    ultra  \n",
       "..     ...  \n",
       "495  ultra  \n",
       "496  smart  \n",
       "497  smart  \n",
       "498  smart  \n",
       "499  smart  \n",
       "\n",
       "[500 rows x 8 columns]"
      ]
     },
     "execution_count": 17,
     "metadata": {},
     "output_type": "execute_result"
    }
   ],
   "source": [
    "#информация о пользователях\n",
    "users.info()\n",
    "users"
   ]
  },
  {
   "cell_type": "code",
   "execution_count": 18,
   "metadata": {},
   "outputs": [
    {
     "data": {
      "text/plain": [
       "500"
      ]
     },
     "execution_count": 18,
     "metadata": {},
     "output_type": "execute_result"
    }
   ],
   "source": [
    "# Проверим количество уникальных пользователей\n",
    "# Пользователи в наличии в полном объеме)\n",
    "len(users['user_id'].unique())"
   ]
  },
  {
   "cell_type": "code",
   "execution_count": 19,
   "metadata": {},
   "outputs": [
    {
     "data": {
      "text/plain": [
       "0"
      ]
     },
     "execution_count": 19,
     "metadata": {},
     "output_type": "execute_result"
    }
   ],
   "source": [
    "users.duplicated().sum() # Проверим наличие дубликатов"
   ]
  },
  {
   "cell_type": "markdown",
   "metadata": {},
   "source": [
    "**Таблица users (информация о пользователях):**\n",
    "-\tuser_id — уникальный идентификатор пользователя\n",
    "-\tfirst_name — имя пользователя\n",
    "-\tlast_name — фамилия пользователя\n",
    "-\tage — возраст пользователя (годы)\n",
    "-\treg_date — дата подключения тарифа (день, месяц, год)\n",
    "-\tchurn_date — дата прекращения пользования тарифом (если значение пропущено, то тариф ещё действовал на момент выгрузки данных)\n",
    "-\tcity — город проживания пользователя\n",
    "-\ttariff — название тарифного плана\n",
    "\n",
    "В таблице 8 колонок, 500 строк с данными, имеются пропуски в столце **churn_date** — дата прекращения пользования тарифом - тариф еще действует\n",
    "* Столбец **reg_date** приведем в тип данных datetime\n",
    "* Столбец **churn_date** приведем в тип данных datetime\n",
    "* Дубликатов нет"
   ]
  },
  {
   "cell_type": "markdown",
   "metadata": {},
   "source": [
    "**Вывод по данным в наличии:**\n",
    "\n",
    "Имеем 5 таблиц с данными. Во всех таблицах имеется столбец с датой. В них будет произведена замена типа данных на **Datetime**\n",
    "\n",
    "Пропусков данных не наблюдается, кроме столбца **churn_date**, который содержит информацию о дате прекращения пользования тарифом. Такой пропуск означает действующий контракт.\n",
    "\n",
    "Есть звонки с нулевой длительностью - пропущенные \n",
    "\n",
    "\n",
    "~~В таблице **internet** есть сомнительный столбец **Unnamed:0** - в нем повотряется номер строки - удаляем.~~\n",
    "После правки команды чтения данных из файла **internet.csv** не придется производить удаление столбца\n",
    "\n",
    "Также в таблице **internet** имеются данные о неиспользованном траффике - кто-то не пользуется интернетом.\n",
    "Также есть много значений с нулевым траффиком - есть предположение, что это установка соединеня при преходе от одной базовой станции к другой\n",
    "\n",
    "Так же есть абоненты с неиспользованным пакетом смс\n",
    "\n",
    "Дубликаты в  таблицах не обнаружены"
   ]
  },
  {
   "cell_type": "markdown",
   "metadata": {},
   "source": [
    "## Подготовка данных <a id='step_2'></a>"
   ]
  },
  {
   "cell_type": "markdown",
   "metadata": {},
   "source": [
    "### Приводим данные к нужным типам"
   ]
  },
  {
   "cell_type": "code",
   "execution_count": 20,
   "metadata": {},
   "outputs": [],
   "source": [
    "# Меняем тип данных Datetime\n",
    "\n",
    "calls['call_date'] = pd.to_datetime(calls['call_date'], format='%Y-%m-%d') # \n",
    "internet['session_date'] = pd.to_datetime(internet['session_date'], format='%Y-%m-%d')\n",
    "messages['message_date'] = pd.to_datetime(messages['message_date'], format='%Y-%m-%d')\n",
    "users['churn_date'] = pd.to_datetime(users['churn_date'], format='%Y-%m-%d')\n",
    "users['reg_date'] = pd.to_datetime(users['reg_date'], format='%Y-%m-%d')"
   ]
  },
  {
   "cell_type": "code",
   "execution_count": 21,
   "metadata": {},
   "outputs": [
    {
     "name": "stdout",
     "output_type": "stream",
     "text": [
      "<class 'pandas.core.frame.DataFrame'>\n",
      "RangeIndex: 202607 entries, 0 to 202606\n",
      "Data columns (total 4 columns):\n",
      " #   Column     Non-Null Count   Dtype         \n",
      "---  ------     --------------   -----         \n",
      " 0   id         202607 non-null  object        \n",
      " 1   call_date  202607 non-null  datetime64[ns]\n",
      " 2   duration   202607 non-null  int64         \n",
      " 3   user_id    202607 non-null  int64         \n",
      "dtypes: datetime64[ns](1), int64(2), object(1)\n",
      "memory usage: 6.2+ MB\n"
     ]
    }
   ],
   "source": [
    "# в таблице calls округляем длительность звонков до минут в большую сторону, после меняем тип данных на int\n",
    "# calls['duration'] = calls['duration'].apply(np.ceil).astype(int) \n",
    "calls['duration'] = np.ceil(calls['duration']).astype(int)\n",
    "calls.info()"
   ]
  },
  {
   "cell_type": "markdown",
   "metadata": {},
   "source": [
    "### Найти и исправить ошибки в данных"
   ]
  },
  {
   "cell_type": "code",
   "execution_count": 22,
   "metadata": {},
   "outputs": [
    {
     "name": "stdout",
     "output_type": "stream",
     "text": [
      "<class 'pandas.core.frame.DataFrame'>\n",
      "Int64Index: 149396 entries, 0 to 149395\n",
      "Data columns (total 4 columns):\n",
      " #   Column        Non-Null Count   Dtype         \n",
      "---  ------        --------------   -----         \n",
      " 0   id            149396 non-null  object        \n",
      " 1   mb_used       149396 non-null  float64       \n",
      " 2   session_date  149396 non-null  datetime64[ns]\n",
      " 3   user_id       149396 non-null  int64         \n",
      "dtypes: datetime64[ns](1), float64(1), int64(1), object(1)\n",
      "memory usage: 5.7+ MB\n"
     ]
    },
    {
     "data": {
      "text/html": [
       "<div>\n",
       "<style scoped>\n",
       "    .dataframe tbody tr th:only-of-type {\n",
       "        vertical-align: middle;\n",
       "    }\n",
       "\n",
       "    .dataframe tbody tr th {\n",
       "        vertical-align: top;\n",
       "    }\n",
       "\n",
       "    .dataframe thead th {\n",
       "        text-align: right;\n",
       "    }\n",
       "</style>\n",
       "<table border=\"1\" class=\"dataframe\">\n",
       "  <thead>\n",
       "    <tr style=\"text-align: right;\">\n",
       "      <th></th>\n",
       "      <th>id</th>\n",
       "      <th>mb_used</th>\n",
       "      <th>session_date</th>\n",
       "      <th>user_id</th>\n",
       "    </tr>\n",
       "  </thead>\n",
       "  <tbody>\n",
       "    <tr>\n",
       "      <th>0</th>\n",
       "      <td>1000_0</td>\n",
       "      <td>112.95</td>\n",
       "      <td>2018-11-25</td>\n",
       "      <td>1000</td>\n",
       "    </tr>\n",
       "    <tr>\n",
       "      <th>1</th>\n",
       "      <td>1000_1</td>\n",
       "      <td>1052.81</td>\n",
       "      <td>2018-09-07</td>\n",
       "      <td>1000</td>\n",
       "    </tr>\n",
       "    <tr>\n",
       "      <th>2</th>\n",
       "      <td>1000_2</td>\n",
       "      <td>1197.26</td>\n",
       "      <td>2018-06-25</td>\n",
       "      <td>1000</td>\n",
       "    </tr>\n",
       "    <tr>\n",
       "      <th>3</th>\n",
       "      <td>1000_3</td>\n",
       "      <td>550.27</td>\n",
       "      <td>2018-08-22</td>\n",
       "      <td>1000</td>\n",
       "    </tr>\n",
       "    <tr>\n",
       "      <th>4</th>\n",
       "      <td>1000_4</td>\n",
       "      <td>302.56</td>\n",
       "      <td>2018-09-24</td>\n",
       "      <td>1000</td>\n",
       "    </tr>\n",
       "    <tr>\n",
       "      <th>...</th>\n",
       "      <td>...</td>\n",
       "      <td>...</td>\n",
       "      <td>...</td>\n",
       "      <td>...</td>\n",
       "    </tr>\n",
       "    <tr>\n",
       "      <th>149391</th>\n",
       "      <td>1499_152</td>\n",
       "      <td>318.90</td>\n",
       "      <td>2018-10-03</td>\n",
       "      <td>1499</td>\n",
       "    </tr>\n",
       "    <tr>\n",
       "      <th>149392</th>\n",
       "      <td>1499_153</td>\n",
       "      <td>490.13</td>\n",
       "      <td>2018-12-14</td>\n",
       "      <td>1499</td>\n",
       "    </tr>\n",
       "    <tr>\n",
       "      <th>149393</th>\n",
       "      <td>1499_154</td>\n",
       "      <td>0.00</td>\n",
       "      <td>2018-10-27</td>\n",
       "      <td>1499</td>\n",
       "    </tr>\n",
       "    <tr>\n",
       "      <th>149394</th>\n",
       "      <td>1499_155</td>\n",
       "      <td>1246.32</td>\n",
       "      <td>2018-11-26</td>\n",
       "      <td>1499</td>\n",
       "    </tr>\n",
       "    <tr>\n",
       "      <th>149395</th>\n",
       "      <td>1499_156</td>\n",
       "      <td>544.37</td>\n",
       "      <td>2018-10-26</td>\n",
       "      <td>1499</td>\n",
       "    </tr>\n",
       "  </tbody>\n",
       "</table>\n",
       "<p>149396 rows × 4 columns</p>\n",
       "</div>"
      ],
      "text/plain": [
       "              id  mb_used session_date  user_id\n",
       "0         1000_0   112.95   2018-11-25     1000\n",
       "1         1000_1  1052.81   2018-09-07     1000\n",
       "2         1000_2  1197.26   2018-06-25     1000\n",
       "3         1000_3   550.27   2018-08-22     1000\n",
       "4         1000_4   302.56   2018-09-24     1000\n",
       "...          ...      ...          ...      ...\n",
       "149391  1499_152   318.90   2018-10-03     1499\n",
       "149392  1499_153   490.13   2018-12-14     1499\n",
       "149393  1499_154     0.00   2018-10-27     1499\n",
       "149394  1499_155  1246.32   2018-11-26     1499\n",
       "149395  1499_156   544.37   2018-10-26     1499\n",
       "\n",
       "[149396 rows x 4 columns]"
      ]
     },
     "execution_count": 22,
     "metadata": {},
     "output_type": "execute_result"
    }
   ],
   "source": [
    "# удалим столбец Unnamed:0 из таблицы internet\n",
    "#internet = internet.drop('Unnamed: 0',axis=1)\n",
    "internet.info()\n",
    "internet"
   ]
  },
  {
   "cell_type": "markdown",
   "metadata": {},
   "source": [
    "### Посчитать для каждого пользователя:"
   ]
  },
  {
   "cell_type": "markdown",
   "metadata": {},
   "source": [
    "#### количество сделанных звонков и израсходованных минут разговора по месяцам;\n"
   ]
  },
  {
   "cell_type": "code",
   "execution_count": 23,
   "metadata": {},
   "outputs": [],
   "source": [
    "#Добавим в каждый датасет по столбцу month для удобства расчета\n",
    "calls['month'] = calls['call_date'].dt.month # месяц совершения звонка\n",
    "internet['month'] = internet['session_date'].dt.month # месяцо интернет сессии\n",
    "messages['month'] = messages['message_date'].dt.month # месяц отправки сообщения\n",
    "users['churn_month'] = users['churn_date'].dt.month # месяц расторжения контракта\n",
    "users['reg_month'] = users['reg_date'].dt.month # месяц регистрации контракта"
   ]
  },
  {
   "cell_type": "code",
   "execution_count": 24,
   "metadata": {},
   "outputs": [
    {
     "data": {
      "text/html": [
       "<div>\n",
       "<style scoped>\n",
       "    .dataframe tbody tr th:only-of-type {\n",
       "        vertical-align: middle;\n",
       "    }\n",
       "\n",
       "    .dataframe tbody tr th {\n",
       "        vertical-align: top;\n",
       "    }\n",
       "\n",
       "    .dataframe thead th {\n",
       "        text-align: right;\n",
       "    }\n",
       "</style>\n",
       "<table border=\"1\" class=\"dataframe\">\n",
       "  <thead>\n",
       "    <tr style=\"text-align: right;\">\n",
       "      <th></th>\n",
       "      <th></th>\n",
       "      <th>calls</th>\n",
       "      <th>duration</th>\n",
       "    </tr>\n",
       "    <tr>\n",
       "      <th>user_id</th>\n",
       "      <th>month</th>\n",
       "      <th></th>\n",
       "      <th></th>\n",
       "    </tr>\n",
       "  </thead>\n",
       "  <tbody>\n",
       "    <tr>\n",
       "      <th rowspan=\"5\" valign=\"top\">1000</th>\n",
       "      <th>5</th>\n",
       "      <td>22</td>\n",
       "      <td>159</td>\n",
       "    </tr>\n",
       "    <tr>\n",
       "      <th>6</th>\n",
       "      <td>43</td>\n",
       "      <td>172</td>\n",
       "    </tr>\n",
       "    <tr>\n",
       "      <th>7</th>\n",
       "      <td>47</td>\n",
       "      <td>340</td>\n",
       "    </tr>\n",
       "    <tr>\n",
       "      <th>8</th>\n",
       "      <td>52</td>\n",
       "      <td>408</td>\n",
       "    </tr>\n",
       "    <tr>\n",
       "      <th>9</th>\n",
       "      <td>58</td>\n",
       "      <td>466</td>\n",
       "    </tr>\n",
       "    <tr>\n",
       "      <th>...</th>\n",
       "      <th>...</th>\n",
       "      <td>...</td>\n",
       "      <td>...</td>\n",
       "    </tr>\n",
       "    <tr>\n",
       "      <th>1498</th>\n",
       "      <th>10</th>\n",
       "      <td>41</td>\n",
       "      <td>247</td>\n",
       "    </tr>\n",
       "    <tr>\n",
       "      <th rowspan=\"4\" valign=\"top\">1499</th>\n",
       "      <th>9</th>\n",
       "      <td>9</td>\n",
       "      <td>70</td>\n",
       "    </tr>\n",
       "    <tr>\n",
       "      <th>10</th>\n",
       "      <td>68</td>\n",
       "      <td>449</td>\n",
       "    </tr>\n",
       "    <tr>\n",
       "      <th>11</th>\n",
       "      <td>74</td>\n",
       "      <td>612</td>\n",
       "    </tr>\n",
       "    <tr>\n",
       "      <th>12</th>\n",
       "      <td>69</td>\n",
       "      <td>492</td>\n",
       "    </tr>\n",
       "  </tbody>\n",
       "</table>\n",
       "<p>3174 rows × 2 columns</p>\n",
       "</div>"
      ],
      "text/plain": [
       "               calls  duration\n",
       "user_id month                 \n",
       "1000    5         22       159\n",
       "        6         43       172\n",
       "        7         47       340\n",
       "        8         52       408\n",
       "        9         58       466\n",
       "...              ...       ...\n",
       "1498    10        41       247\n",
       "1499    9          9        70\n",
       "        10        68       449\n",
       "        11        74       612\n",
       "        12        69       492\n",
       "\n",
       "[3174 rows x 2 columns]"
      ]
     },
     "execution_count": 24,
     "metadata": {},
     "output_type": "execute_result"
    }
   ],
   "source": [
    "# Сводная таблица по звонкам каждого пользователя за месяц\n",
    "calls_at_month = calls.pivot_table(\n",
    "    index=['user_id', 'month'],\n",
    "    values='duration',\n",
    "    aggfunc=['count', 'sum']\n",
    ")\n",
    "calls_at_month.columns = ['calls', 'duration'] # переименуем столбцы\n",
    "calls_at_month"
   ]
  },
  {
   "cell_type": "markdown",
   "metadata": {},
   "source": [
    "#### количество отправленных сообщений по месяцам;\n"
   ]
  },
  {
   "cell_type": "code",
   "execution_count": 25,
   "metadata": {},
   "outputs": [
    {
     "data": {
      "text/html": [
       "<div>\n",
       "<style scoped>\n",
       "    .dataframe tbody tr th:only-of-type {\n",
       "        vertical-align: middle;\n",
       "    }\n",
       "\n",
       "    .dataframe tbody tr th {\n",
       "        vertical-align: top;\n",
       "    }\n",
       "\n",
       "    .dataframe thead th {\n",
       "        text-align: right;\n",
       "    }\n",
       "</style>\n",
       "<table border=\"1\" class=\"dataframe\">\n",
       "  <thead>\n",
       "    <tr style=\"text-align: right;\">\n",
       "      <th></th>\n",
       "      <th></th>\n",
       "      <th>messages_count</th>\n",
       "    </tr>\n",
       "    <tr>\n",
       "      <th>user_id</th>\n",
       "      <th>month</th>\n",
       "      <th></th>\n",
       "    </tr>\n",
       "  </thead>\n",
       "  <tbody>\n",
       "    <tr>\n",
       "      <th rowspan=\"5\" valign=\"top\">1000</th>\n",
       "      <th>5</th>\n",
       "      <td>22</td>\n",
       "    </tr>\n",
       "    <tr>\n",
       "      <th>6</th>\n",
       "      <td>60</td>\n",
       "    </tr>\n",
       "    <tr>\n",
       "      <th>7</th>\n",
       "      <td>75</td>\n",
       "    </tr>\n",
       "    <tr>\n",
       "      <th>8</th>\n",
       "      <td>81</td>\n",
       "    </tr>\n",
       "    <tr>\n",
       "      <th>9</th>\n",
       "      <td>57</td>\n",
       "    </tr>\n",
       "    <tr>\n",
       "      <th>...</th>\n",
       "      <th>...</th>\n",
       "      <td>...</td>\n",
       "    </tr>\n",
       "    <tr>\n",
       "      <th>1498</th>\n",
       "      <th>10</th>\n",
       "      <td>42</td>\n",
       "    </tr>\n",
       "    <tr>\n",
       "      <th rowspan=\"4\" valign=\"top\">1499</th>\n",
       "      <th>9</th>\n",
       "      <td>11</td>\n",
       "    </tr>\n",
       "    <tr>\n",
       "      <th>10</th>\n",
       "      <td>48</td>\n",
       "    </tr>\n",
       "    <tr>\n",
       "      <th>11</th>\n",
       "      <td>59</td>\n",
       "    </tr>\n",
       "    <tr>\n",
       "      <th>12</th>\n",
       "      <td>66</td>\n",
       "    </tr>\n",
       "  </tbody>\n",
       "</table>\n",
       "<p>2717 rows × 1 columns</p>\n",
       "</div>"
      ],
      "text/plain": [
       "               messages_count\n",
       "user_id month                \n",
       "1000    5                  22\n",
       "        6                  60\n",
       "        7                  75\n",
       "        8                  81\n",
       "        9                  57\n",
       "...                       ...\n",
       "1498    10                 42\n",
       "1499    9                  11\n",
       "        10                 48\n",
       "        11                 59\n",
       "        12                 66\n",
       "\n",
       "[2717 rows x 1 columns]"
      ]
     },
     "execution_count": 25,
     "metadata": {},
     "output_type": "execute_result"
    }
   ],
   "source": [
    "#сводная таблица по cмскам за месяц у пользователя\n",
    "messages_at_month = messages.pivot_table(\n",
    "    index = ['user_id', 'month'],\n",
    "    values = 'id',\n",
    "    aggfunc = ['count']\n",
    ")\n",
    "\n",
    "messages_at_month.columns = ['messages_count'] # переименуем столбцы\n",
    "messages_at_month"
   ]
  },
  {
   "cell_type": "markdown",
   "metadata": {},
   "source": [
    "#### объем израсходованного интернет-трафика по месяцам;\n"
   ]
  },
  {
   "cell_type": "code",
   "execution_count": 26,
   "metadata": {},
   "outputs": [
    {
     "data": {
      "text/html": [
       "<div>\n",
       "<style scoped>\n",
       "    .dataframe tbody tr th:only-of-type {\n",
       "        vertical-align: middle;\n",
       "    }\n",
       "\n",
       "    .dataframe tbody tr th {\n",
       "        vertical-align: top;\n",
       "    }\n",
       "\n",
       "    .dataframe thead th {\n",
       "        text-align: right;\n",
       "    }\n",
       "</style>\n",
       "<table border=\"1\" class=\"dataframe\">\n",
       "  <thead>\n",
       "    <tr style=\"text-align: right;\">\n",
       "      <th></th>\n",
       "      <th></th>\n",
       "      <th>session_count</th>\n",
       "      <th>mb_sum</th>\n",
       "    </tr>\n",
       "    <tr>\n",
       "      <th>user_id</th>\n",
       "      <th>month</th>\n",
       "      <th></th>\n",
       "      <th></th>\n",
       "    </tr>\n",
       "  </thead>\n",
       "  <tbody>\n",
       "    <tr>\n",
       "      <th rowspan=\"5\" valign=\"top\">1000</th>\n",
       "      <th>5</th>\n",
       "      <td>5</td>\n",
       "      <td>2253.49</td>\n",
       "    </tr>\n",
       "    <tr>\n",
       "      <th>6</th>\n",
       "      <td>49</td>\n",
       "      <td>23233.77</td>\n",
       "    </tr>\n",
       "    <tr>\n",
       "      <th>7</th>\n",
       "      <td>29</td>\n",
       "      <td>14003.64</td>\n",
       "    </tr>\n",
       "    <tr>\n",
       "      <th>8</th>\n",
       "      <td>29</td>\n",
       "      <td>14055.93</td>\n",
       "    </tr>\n",
       "    <tr>\n",
       "      <th>9</th>\n",
       "      <td>27</td>\n",
       "      <td>14568.91</td>\n",
       "    </tr>\n",
       "    <tr>\n",
       "      <th>...</th>\n",
       "      <th>...</th>\n",
       "      <td>...</td>\n",
       "      <td>...</td>\n",
       "    </tr>\n",
       "    <tr>\n",
       "      <th>1498</th>\n",
       "      <th>10</th>\n",
       "      <td>59</td>\n",
       "      <td>20579.36</td>\n",
       "    </tr>\n",
       "    <tr>\n",
       "      <th rowspan=\"4\" valign=\"top\">1499</th>\n",
       "      <th>9</th>\n",
       "      <td>5</td>\n",
       "      <td>1845.75</td>\n",
       "    </tr>\n",
       "    <tr>\n",
       "      <th>10</th>\n",
       "      <td>58</td>\n",
       "      <td>17788.51</td>\n",
       "    </tr>\n",
       "    <tr>\n",
       "      <th>11</th>\n",
       "      <td>49</td>\n",
       "      <td>17963.31</td>\n",
       "    </tr>\n",
       "    <tr>\n",
       "      <th>12</th>\n",
       "      <td>45</td>\n",
       "      <td>13055.58</td>\n",
       "    </tr>\n",
       "  </tbody>\n",
       "</table>\n",
       "<p>3203 rows × 2 columns</p>\n",
       "</div>"
      ],
      "text/plain": [
       "               session_count    mb_sum\n",
       "user_id month                         \n",
       "1000    5                  5   2253.49\n",
       "        6                 49  23233.77\n",
       "        7                 29  14003.64\n",
       "        8                 29  14055.93\n",
       "        9                 27  14568.91\n",
       "...                      ...       ...\n",
       "1498    10                59  20579.36\n",
       "1499    9                  5   1845.75\n",
       "        10                58  17788.51\n",
       "        11                49  17963.31\n",
       "        12                45  13055.58\n",
       "\n",
       "[3203 rows x 2 columns]"
      ]
     },
     "execution_count": 26,
     "metadata": {},
     "output_type": "execute_result"
    }
   ],
   "source": [
    "# Израсходованный траффик интрнета\n",
    "internet_at_month = internet.pivot_table(\n",
    "    index=['user_id','month'],\n",
    "    values='mb_used',\n",
    "    aggfunc=['count', 'sum']\n",
    ")\n",
    "internet_at_month.columns = ['session_count', 'mb_sum'] #  переименуем столбцы\n",
    "internet_at_month"
   ]
  },
  {
   "cell_type": "code",
   "execution_count": 27,
   "metadata": {},
   "outputs": [],
   "source": [
    "# округляем мегабайты в большую сторону\n",
    "#internet_at_month['mb_sum'] = internet_at_month['mb_sum'].apply(np.floor).astype(int)\n",
    "#internet_at_month"
   ]
  },
  {
   "cell_type": "markdown",
   "metadata": {},
   "source": [
    "#### помесячная выручку с каждого пользователя.\n"
   ]
  },
  {
   "cell_type": "code",
   "execution_count": 28,
   "metadata": {},
   "outputs": [
    {
     "data": {
      "text/html": [
       "<div>\n",
       "<style scoped>\n",
       "    .dataframe tbody tr th:only-of-type {\n",
       "        vertical-align: middle;\n",
       "    }\n",
       "\n",
       "    .dataframe tbody tr th {\n",
       "        vertical-align: top;\n",
       "    }\n",
       "\n",
       "    .dataframe thead th {\n",
       "        text-align: right;\n",
       "    }\n",
       "</style>\n",
       "<table border=\"1\" class=\"dataframe\">\n",
       "  <thead>\n",
       "    <tr style=\"text-align: right;\">\n",
       "      <th></th>\n",
       "      <th>user_id</th>\n",
       "      <th>month</th>\n",
       "      <th>calls</th>\n",
       "      <th>duration</th>\n",
       "      <th>messages_count</th>\n",
       "      <th>session_count</th>\n",
       "      <th>mb_sum</th>\n",
       "    </tr>\n",
       "  </thead>\n",
       "  <tbody>\n",
       "    <tr>\n",
       "      <th>0</th>\n",
       "      <td>1000</td>\n",
       "      <td>5</td>\n",
       "      <td>22.0</td>\n",
       "      <td>159.0</td>\n",
       "      <td>22.0</td>\n",
       "      <td>5.0</td>\n",
       "      <td>2253.49</td>\n",
       "    </tr>\n",
       "    <tr>\n",
       "      <th>1</th>\n",
       "      <td>1000</td>\n",
       "      <td>6</td>\n",
       "      <td>43.0</td>\n",
       "      <td>172.0</td>\n",
       "      <td>60.0</td>\n",
       "      <td>49.0</td>\n",
       "      <td>23233.77</td>\n",
       "    </tr>\n",
       "    <tr>\n",
       "      <th>2</th>\n",
       "      <td>1000</td>\n",
       "      <td>7</td>\n",
       "      <td>47.0</td>\n",
       "      <td>340.0</td>\n",
       "      <td>75.0</td>\n",
       "      <td>29.0</td>\n",
       "      <td>14003.64</td>\n",
       "    </tr>\n",
       "    <tr>\n",
       "      <th>3</th>\n",
       "      <td>1000</td>\n",
       "      <td>8</td>\n",
       "      <td>52.0</td>\n",
       "      <td>408.0</td>\n",
       "      <td>81.0</td>\n",
       "      <td>29.0</td>\n",
       "      <td>14055.93</td>\n",
       "    </tr>\n",
       "    <tr>\n",
       "      <th>4</th>\n",
       "      <td>1000</td>\n",
       "      <td>9</td>\n",
       "      <td>58.0</td>\n",
       "      <td>466.0</td>\n",
       "      <td>57.0</td>\n",
       "      <td>27.0</td>\n",
       "      <td>14568.91</td>\n",
       "    </tr>\n",
       "    <tr>\n",
       "      <th>...</th>\n",
       "      <td>...</td>\n",
       "      <td>...</td>\n",
       "      <td>...</td>\n",
       "      <td>...</td>\n",
       "      <td>...</td>\n",
       "      <td>...</td>\n",
       "      <td>...</td>\n",
       "    </tr>\n",
       "    <tr>\n",
       "      <th>3209</th>\n",
       "      <td>1498</td>\n",
       "      <td>10</td>\n",
       "      <td>41.0</td>\n",
       "      <td>247.0</td>\n",
       "      <td>42.0</td>\n",
       "      <td>59.0</td>\n",
       "      <td>20579.36</td>\n",
       "    </tr>\n",
       "    <tr>\n",
       "      <th>3210</th>\n",
       "      <td>1499</td>\n",
       "      <td>9</td>\n",
       "      <td>9.0</td>\n",
       "      <td>70.0</td>\n",
       "      <td>11.0</td>\n",
       "      <td>5.0</td>\n",
       "      <td>1845.75</td>\n",
       "    </tr>\n",
       "    <tr>\n",
       "      <th>3211</th>\n",
       "      <td>1499</td>\n",
       "      <td>10</td>\n",
       "      <td>68.0</td>\n",
       "      <td>449.0</td>\n",
       "      <td>48.0</td>\n",
       "      <td>58.0</td>\n",
       "      <td>17788.51</td>\n",
       "    </tr>\n",
       "    <tr>\n",
       "      <th>3212</th>\n",
       "      <td>1499</td>\n",
       "      <td>11</td>\n",
       "      <td>74.0</td>\n",
       "      <td>612.0</td>\n",
       "      <td>59.0</td>\n",
       "      <td>49.0</td>\n",
       "      <td>17963.31</td>\n",
       "    </tr>\n",
       "    <tr>\n",
       "      <th>3213</th>\n",
       "      <td>1499</td>\n",
       "      <td>12</td>\n",
       "      <td>69.0</td>\n",
       "      <td>492.0</td>\n",
       "      <td>66.0</td>\n",
       "      <td>45.0</td>\n",
       "      <td>13055.58</td>\n",
       "    </tr>\n",
       "  </tbody>\n",
       "</table>\n",
       "<p>3214 rows × 7 columns</p>\n",
       "</div>"
      ],
      "text/plain": [
       "      user_id  month  calls  duration  messages_count  session_count    mb_sum\n",
       "0        1000      5   22.0     159.0            22.0            5.0   2253.49\n",
       "1        1000      6   43.0     172.0            60.0           49.0  23233.77\n",
       "2        1000      7   47.0     340.0            75.0           29.0  14003.64\n",
       "3        1000      8   52.0     408.0            81.0           29.0  14055.93\n",
       "4        1000      9   58.0     466.0            57.0           27.0  14568.91\n",
       "...       ...    ...    ...       ...             ...            ...       ...\n",
       "3209     1498     10   41.0     247.0            42.0           59.0  20579.36\n",
       "3210     1499      9    9.0      70.0            11.0            5.0   1845.75\n",
       "3211     1499     10   68.0     449.0            48.0           58.0  17788.51\n",
       "3212     1499     11   74.0     612.0            59.0           49.0  17963.31\n",
       "3213     1499     12   69.0     492.0            66.0           45.0  13055.58\n",
       "\n",
       "[3214 rows x 7 columns]"
      ]
     },
     "execution_count": 28,
     "metadata": {},
     "output_type": "execute_result"
    }
   ],
   "source": [
    "# Сделаем новый датафрейм, в котором по пользователям будут объединенные данные\n",
    "# склеим звонки с  сообщениями и интернет траффиком, индекс в этих таблицах (user_id, month)\n",
    "# в методе join применим внешний тип слияния how='outer'- для объединения данных трех таблиц\n",
    "data = calls_at_month.join([messages_at_month, internet_at_month], how='outer')\n",
    "#data.sample(5)\n",
    "data = data.reset_index(drop=False)\n",
    "data"
   ]
  },
  {
   "cell_type": "code",
   "execution_count": 29,
   "metadata": {},
   "outputs": [
    {
     "name": "stdout",
     "output_type": "stream",
     "text": [
      "<class 'pandas.core.frame.DataFrame'>\n",
      "RangeIndex: 3214 entries, 0 to 3213\n",
      "Data columns (total 7 columns):\n",
      " #   Column          Non-Null Count  Dtype  \n",
      "---  ------          --------------  -----  \n",
      " 0   user_id         3214 non-null   int64  \n",
      " 1   month           3214 non-null   int64  \n",
      " 2   calls           3174 non-null   float64\n",
      " 3   duration        3174 non-null   float64\n",
      " 4   messages_count  2717 non-null   float64\n",
      " 5   session_count   3203 non-null   float64\n",
      " 6   mb_sum          3203 non-null   float64\n",
      "dtypes: float64(5), int64(2)\n",
      "memory usage: 175.9 KB\n"
     ]
    }
   ],
   "source": [
    "data.info()"
   ]
  },
  {
   "cell_type": "code",
   "execution_count": 30,
   "metadata": {},
   "outputs": [
    {
     "data": {
      "text/html": [
       "<div>\n",
       "<style scoped>\n",
       "    .dataframe tbody tr th:only-of-type {\n",
       "        vertical-align: middle;\n",
       "    }\n",
       "\n",
       "    .dataframe tbody tr th {\n",
       "        vertical-align: top;\n",
       "    }\n",
       "\n",
       "    .dataframe thead th {\n",
       "        text-align: right;\n",
       "    }\n",
       "</style>\n",
       "<table border=\"1\" class=\"dataframe\">\n",
       "  <thead>\n",
       "    <tr style=\"text-align: right;\">\n",
       "      <th></th>\n",
       "      <th>user_id</th>\n",
       "      <th>age</th>\n",
       "      <th>churn_date</th>\n",
       "      <th>city</th>\n",
       "      <th>first_name</th>\n",
       "      <th>last_name</th>\n",
       "      <th>reg_date</th>\n",
       "      <th>tariff</th>\n",
       "      <th>churn_month</th>\n",
       "      <th>reg_month</th>\n",
       "    </tr>\n",
       "  </thead>\n",
       "  <tbody>\n",
       "    <tr>\n",
       "      <th>0</th>\n",
       "      <td>1000</td>\n",
       "      <td>52</td>\n",
       "      <td>NaT</td>\n",
       "      <td>Краснодар</td>\n",
       "      <td>Рафаил</td>\n",
       "      <td>Верещагин</td>\n",
       "      <td>2018-05-25</td>\n",
       "      <td>ultra</td>\n",
       "      <td>NaN</td>\n",
       "      <td>5</td>\n",
       "    </tr>\n",
       "    <tr>\n",
       "      <th>1</th>\n",
       "      <td>1001</td>\n",
       "      <td>41</td>\n",
       "      <td>NaT</td>\n",
       "      <td>Москва</td>\n",
       "      <td>Иван</td>\n",
       "      <td>Ежов</td>\n",
       "      <td>2018-11-01</td>\n",
       "      <td>smart</td>\n",
       "      <td>NaN</td>\n",
       "      <td>11</td>\n",
       "    </tr>\n",
       "    <tr>\n",
       "      <th>2</th>\n",
       "      <td>1002</td>\n",
       "      <td>59</td>\n",
       "      <td>NaT</td>\n",
       "      <td>Стерлитамак</td>\n",
       "      <td>Евгений</td>\n",
       "      <td>Абрамович</td>\n",
       "      <td>2018-06-17</td>\n",
       "      <td>smart</td>\n",
       "      <td>NaN</td>\n",
       "      <td>6</td>\n",
       "    </tr>\n",
       "    <tr>\n",
       "      <th>3</th>\n",
       "      <td>1003</td>\n",
       "      <td>23</td>\n",
       "      <td>NaT</td>\n",
       "      <td>Москва</td>\n",
       "      <td>Белла</td>\n",
       "      <td>Белякова</td>\n",
       "      <td>2018-08-17</td>\n",
       "      <td>ultra</td>\n",
       "      <td>NaN</td>\n",
       "      <td>8</td>\n",
       "    </tr>\n",
       "    <tr>\n",
       "      <th>4</th>\n",
       "      <td>1004</td>\n",
       "      <td>68</td>\n",
       "      <td>NaT</td>\n",
       "      <td>Новокузнецк</td>\n",
       "      <td>Татьяна</td>\n",
       "      <td>Авдеенко</td>\n",
       "      <td>2018-05-14</td>\n",
       "      <td>ultra</td>\n",
       "      <td>NaN</td>\n",
       "      <td>5</td>\n",
       "    </tr>\n",
       "  </tbody>\n",
       "</table>\n",
       "</div>"
      ],
      "text/plain": [
       "   user_id  age churn_date         city first_name  last_name   reg_date  \\\n",
       "0     1000   52        NaT    Краснодар     Рафаил  Верещагин 2018-05-25   \n",
       "1     1001   41        NaT       Москва       Иван       Ежов 2018-11-01   \n",
       "2     1002   59        NaT  Стерлитамак    Евгений  Абрамович 2018-06-17   \n",
       "3     1003   23        NaT       Москва      Белла   Белякова 2018-08-17   \n",
       "4     1004   68        NaT  Новокузнецк    Татьяна   Авдеенко 2018-05-14   \n",
       "\n",
       "  tariff  churn_month  reg_month  \n",
       "0  ultra          NaN          5  \n",
       "1  smart          NaN         11  \n",
       "2  smart          NaN          6  \n",
       "3  ultra          NaN          8  \n",
       "4  ultra          NaN          5  "
      ]
     },
     "execution_count": 30,
     "metadata": {},
     "output_type": "execute_result"
    }
   ],
   "source": [
    "# вспомним, какие данные есть в таблице с пользователями для склейки\n",
    "# \n",
    "users.head()"
   ]
  },
  {
   "cell_type": "code",
   "execution_count": 31,
   "metadata": {},
   "outputs": [
    {
     "data": {
      "text/plain": [
       "498"
      ]
     },
     "execution_count": 31,
     "metadata": {},
     "output_type": "execute_result"
    }
   ],
   "source": [
    "# Проверим количество уникальных значений в столбце user_id - чтобы не было потеряшек\n",
    "len(data['user_id'].unique())\n"
   ]
  },
  {
   "cell_type": "code",
   "execution_count": 32,
   "metadata": {},
   "outputs": [],
   "source": [
    "\n",
    "# теперь добавим в датасет данные о пользователе\n",
    "# data = data.merge(users, on='user_id', how='left') было\n",
    "# исправленный вариант\n",
    "data = data.merge(users, on='user_id', how='outer')"
   ]
  },
  {
   "cell_type": "code",
   "execution_count": 33,
   "metadata": {},
   "outputs": [
    {
     "data": {
      "text/plain": [
       "500"
      ]
     },
     "execution_count": 33,
     "metadata": {},
     "output_type": "execute_result"
    }
   ],
   "source": [
    "#Снова проверим наличие отсутствия потеряшек\n",
    "len(data['user_id'].unique())\n"
   ]
  },
  {
   "cell_type": "code",
   "execution_count": 34,
   "metadata": {},
   "outputs": [
    {
     "data": {
      "text/html": [
       "<div>\n",
       "<style scoped>\n",
       "    .dataframe tbody tr th:only-of-type {\n",
       "        vertical-align: middle;\n",
       "    }\n",
       "\n",
       "    .dataframe tbody tr th {\n",
       "        vertical-align: top;\n",
       "    }\n",
       "\n",
       "    .dataframe thead th {\n",
       "        text-align: right;\n",
       "    }\n",
       "</style>\n",
       "<table border=\"1\" class=\"dataframe\">\n",
       "  <thead>\n",
       "    <tr style=\"text-align: right;\">\n",
       "      <th></th>\n",
       "      <th>user_id</th>\n",
       "      <th>month</th>\n",
       "      <th>calls</th>\n",
       "      <th>duration</th>\n",
       "      <th>messages_count</th>\n",
       "      <th>session_count</th>\n",
       "      <th>mb_sum</th>\n",
       "      <th>age</th>\n",
       "      <th>churn_date</th>\n",
       "      <th>city</th>\n",
       "      <th>...</th>\n",
       "      <th>churn_month</th>\n",
       "      <th>reg_month</th>\n",
       "      <th>messages_included</th>\n",
       "      <th>mb_per_month_included</th>\n",
       "      <th>minutes_included</th>\n",
       "      <th>rub_monthly_fee</th>\n",
       "      <th>rub_per_gb</th>\n",
       "      <th>rub_per_message</th>\n",
       "      <th>rub_per_minute</th>\n",
       "      <th>tariff_name</th>\n",
       "    </tr>\n",
       "  </thead>\n",
       "  <tbody>\n",
       "    <tr>\n",
       "      <th>1931</th>\n",
       "      <td>1303</td>\n",
       "      <td>11.0</td>\n",
       "      <td>70.0</td>\n",
       "      <td>563.0</td>\n",
       "      <td>32.0</td>\n",
       "      <td>36.0</td>\n",
       "      <td>18243.36</td>\n",
       "      <td>36</td>\n",
       "      <td>NaT</td>\n",
       "      <td>Смоленск</td>\n",
       "      <td>...</td>\n",
       "      <td>NaN</td>\n",
       "      <td>7</td>\n",
       "      <td>1000</td>\n",
       "      <td>30720</td>\n",
       "      <td>3000</td>\n",
       "      <td>1950</td>\n",
       "      <td>150</td>\n",
       "      <td>1</td>\n",
       "      <td>1</td>\n",
       "      <td>ultra</td>\n",
       "    </tr>\n",
       "    <tr>\n",
       "      <th>1135</th>\n",
       "      <td>1177</td>\n",
       "      <td>9.0</td>\n",
       "      <td>61.0</td>\n",
       "      <td>409.0</td>\n",
       "      <td>NaN</td>\n",
       "      <td>55.0</td>\n",
       "      <td>16784.98</td>\n",
       "      <td>75</td>\n",
       "      <td>NaT</td>\n",
       "      <td>Новосибирск</td>\n",
       "      <td>...</td>\n",
       "      <td>NaN</td>\n",
       "      <td>6</td>\n",
       "      <td>50</td>\n",
       "      <td>15360</td>\n",
       "      <td>500</td>\n",
       "      <td>550</td>\n",
       "      <td>200</td>\n",
       "      <td>3</td>\n",
       "      <td>3</td>\n",
       "      <td>smart</td>\n",
       "    </tr>\n",
       "    <tr>\n",
       "      <th>1196</th>\n",
       "      <td>1186</td>\n",
       "      <td>7.0</td>\n",
       "      <td>88.0</td>\n",
       "      <td>589.0</td>\n",
       "      <td>54.0</td>\n",
       "      <td>32.0</td>\n",
       "      <td>8714.63</td>\n",
       "      <td>21</td>\n",
       "      <td>NaT</td>\n",
       "      <td>Самара</td>\n",
       "      <td>...</td>\n",
       "      <td>NaN</td>\n",
       "      <td>2</td>\n",
       "      <td>50</td>\n",
       "      <td>15360</td>\n",
       "      <td>500</td>\n",
       "      <td>550</td>\n",
       "      <td>200</td>\n",
       "      <td>3</td>\n",
       "      <td>3</td>\n",
       "      <td>smart</td>\n",
       "    </tr>\n",
       "    <tr>\n",
       "      <th>2673</th>\n",
       "      <td>1416</td>\n",
       "      <td>12.0</td>\n",
       "      <td>50.0</td>\n",
       "      <td>363.0</td>\n",
       "      <td>44.0</td>\n",
       "      <td>21.0</td>\n",
       "      <td>9998.83</td>\n",
       "      <td>50</td>\n",
       "      <td>2018-12-14</td>\n",
       "      <td>Санкт-Петербург</td>\n",
       "      <td>...</td>\n",
       "      <td>12.0</td>\n",
       "      <td>7</td>\n",
       "      <td>1000</td>\n",
       "      <td>30720</td>\n",
       "      <td>3000</td>\n",
       "      <td>1950</td>\n",
       "      <td>150</td>\n",
       "      <td>1</td>\n",
       "      <td>1</td>\n",
       "      <td>ultra</td>\n",
       "    </tr>\n",
       "    <tr>\n",
       "      <th>2271</th>\n",
       "      <td>1359</td>\n",
       "      <td>12.0</td>\n",
       "      <td>108.0</td>\n",
       "      <td>726.0</td>\n",
       "      <td>22.0</td>\n",
       "      <td>49.0</td>\n",
       "      <td>17609.31</td>\n",
       "      <td>52</td>\n",
       "      <td>NaT</td>\n",
       "      <td>Москва</td>\n",
       "      <td>...</td>\n",
       "      <td>NaN</td>\n",
       "      <td>7</td>\n",
       "      <td>50</td>\n",
       "      <td>15360</td>\n",
       "      <td>500</td>\n",
       "      <td>550</td>\n",
       "      <td>200</td>\n",
       "      <td>3</td>\n",
       "      <td>3</td>\n",
       "      <td>smart</td>\n",
       "    </tr>\n",
       "    <tr>\n",
       "      <th>3200</th>\n",
       "      <td>1496</td>\n",
       "      <td>10.0</td>\n",
       "      <td>72.0</td>\n",
       "      <td>450.0</td>\n",
       "      <td>35.0</td>\n",
       "      <td>84.0</td>\n",
       "      <td>28183.17</td>\n",
       "      <td>36</td>\n",
       "      <td>NaT</td>\n",
       "      <td>Вологда</td>\n",
       "      <td>...</td>\n",
       "      <td>NaN</td>\n",
       "      <td>1</td>\n",
       "      <td>50</td>\n",
       "      <td>15360</td>\n",
       "      <td>500</td>\n",
       "      <td>550</td>\n",
       "      <td>200</td>\n",
       "      <td>3</td>\n",
       "      <td>3</td>\n",
       "      <td>smart</td>\n",
       "    </tr>\n",
       "    <tr>\n",
       "      <th>1005</th>\n",
       "      <td>1158</td>\n",
       "      <td>2.0</td>\n",
       "      <td>45.0</td>\n",
       "      <td>371.0</td>\n",
       "      <td>55.0</td>\n",
       "      <td>36.0</td>\n",
       "      <td>12715.60</td>\n",
       "      <td>45</td>\n",
       "      <td>NaT</td>\n",
       "      <td>Новокузнецк</td>\n",
       "      <td>...</td>\n",
       "      <td>NaN</td>\n",
       "      <td>2</td>\n",
       "      <td>50</td>\n",
       "      <td>15360</td>\n",
       "      <td>500</td>\n",
       "      <td>550</td>\n",
       "      <td>200</td>\n",
       "      <td>3</td>\n",
       "      <td>3</td>\n",
       "      <td>smart</td>\n",
       "    </tr>\n",
       "    <tr>\n",
       "      <th>2251</th>\n",
       "      <td>1357</td>\n",
       "      <td>9.0</td>\n",
       "      <td>42.0</td>\n",
       "      <td>342.0</td>\n",
       "      <td>48.0</td>\n",
       "      <td>64.0</td>\n",
       "      <td>14566.16</td>\n",
       "      <td>37</td>\n",
       "      <td>NaT</td>\n",
       "      <td>Томск</td>\n",
       "      <td>...</td>\n",
       "      <td>NaN</td>\n",
       "      <td>9</td>\n",
       "      <td>50</td>\n",
       "      <td>15360</td>\n",
       "      <td>500</td>\n",
       "      <td>550</td>\n",
       "      <td>200</td>\n",
       "      <td>3</td>\n",
       "      <td>3</td>\n",
       "      <td>smart</td>\n",
       "    </tr>\n",
       "    <tr>\n",
       "      <th>2409</th>\n",
       "      <td>1378</td>\n",
       "      <td>12.0</td>\n",
       "      <td>90.0</td>\n",
       "      <td>563.0</td>\n",
       "      <td>7.0</td>\n",
       "      <td>37.0</td>\n",
       "      <td>13741.03</td>\n",
       "      <td>21</td>\n",
       "      <td>NaT</td>\n",
       "      <td>Иркутск</td>\n",
       "      <td>...</td>\n",
       "      <td>NaN</td>\n",
       "      <td>1</td>\n",
       "      <td>50</td>\n",
       "      <td>15360</td>\n",
       "      <td>500</td>\n",
       "      <td>550</td>\n",
       "      <td>200</td>\n",
       "      <td>3</td>\n",
       "      <td>3</td>\n",
       "      <td>smart</td>\n",
       "    </tr>\n",
       "    <tr>\n",
       "      <th>1682</th>\n",
       "      <td>1266</td>\n",
       "      <td>8.0</td>\n",
       "      <td>50.0</td>\n",
       "      <td>305.0</td>\n",
       "      <td>37.0</td>\n",
       "      <td>49.0</td>\n",
       "      <td>16415.88</td>\n",
       "      <td>32</td>\n",
       "      <td>NaT</td>\n",
       "      <td>Калуга</td>\n",
       "      <td>...</td>\n",
       "      <td>NaN</td>\n",
       "      <td>7</td>\n",
       "      <td>50</td>\n",
       "      <td>15360</td>\n",
       "      <td>500</td>\n",
       "      <td>550</td>\n",
       "      <td>200</td>\n",
       "      <td>3</td>\n",
       "      <td>3</td>\n",
       "      <td>smart</td>\n",
       "    </tr>\n",
       "  </tbody>\n",
       "</table>\n",
       "<p>10 rows × 24 columns</p>\n",
       "</div>"
      ],
      "text/plain": [
       "      user_id  month  calls  duration  messages_count  session_count  \\\n",
       "1931     1303   11.0   70.0     563.0            32.0           36.0   \n",
       "1135     1177    9.0   61.0     409.0             NaN           55.0   \n",
       "1196     1186    7.0   88.0     589.0            54.0           32.0   \n",
       "2673     1416   12.0   50.0     363.0            44.0           21.0   \n",
       "2271     1359   12.0  108.0     726.0            22.0           49.0   \n",
       "3200     1496   10.0   72.0     450.0            35.0           84.0   \n",
       "1005     1158    2.0   45.0     371.0            55.0           36.0   \n",
       "2251     1357    9.0   42.0     342.0            48.0           64.0   \n",
       "2409     1378   12.0   90.0     563.0             7.0           37.0   \n",
       "1682     1266    8.0   50.0     305.0            37.0           49.0   \n",
       "\n",
       "        mb_sum  age churn_date             city  ... churn_month reg_month  \\\n",
       "1931  18243.36   36        NaT         Смоленск  ...         NaN         7   \n",
       "1135  16784.98   75        NaT      Новосибирск  ...         NaN         6   \n",
       "1196   8714.63   21        NaT           Самара  ...         NaN         2   \n",
       "2673   9998.83   50 2018-12-14  Санкт-Петербург  ...        12.0         7   \n",
       "2271  17609.31   52        NaT           Москва  ...         NaN         7   \n",
       "3200  28183.17   36        NaT          Вологда  ...         NaN         1   \n",
       "1005  12715.60   45        NaT      Новокузнецк  ...         NaN         2   \n",
       "2251  14566.16   37        NaT            Томск  ...         NaN         9   \n",
       "2409  13741.03   21        NaT          Иркутск  ...         NaN         1   \n",
       "1682  16415.88   32        NaT           Калуга  ...         NaN         7   \n",
       "\n",
       "     messages_included mb_per_month_included  minutes_included  \\\n",
       "1931              1000                 30720              3000   \n",
       "1135                50                 15360               500   \n",
       "1196                50                 15360               500   \n",
       "2673              1000                 30720              3000   \n",
       "2271                50                 15360               500   \n",
       "3200                50                 15360               500   \n",
       "1005                50                 15360               500   \n",
       "2251                50                 15360               500   \n",
       "2409                50                 15360               500   \n",
       "1682                50                 15360               500   \n",
       "\n",
       "      rub_monthly_fee  rub_per_gb  rub_per_message  rub_per_minute  \\\n",
       "1931             1950         150                1               1   \n",
       "1135              550         200                3               3   \n",
       "1196              550         200                3               3   \n",
       "2673             1950         150                1               1   \n",
       "2271              550         200                3               3   \n",
       "3200              550         200                3               3   \n",
       "1005              550         200                3               3   \n",
       "2251              550         200                3               3   \n",
       "2409              550         200                3               3   \n",
       "1682              550         200                3               3   \n",
       "\n",
       "      tariff_name  \n",
       "1931        ultra  \n",
       "1135        smart  \n",
       "1196        smart  \n",
       "2673        ultra  \n",
       "2271        smart  \n",
       "3200        smart  \n",
       "1005        smart  \n",
       "2251        smart  \n",
       "2409        smart  \n",
       "1682        smart  \n",
       "\n",
       "[10 rows x 24 columns]"
      ]
     },
     "execution_count": 34,
     "metadata": {},
     "output_type": "execute_result"
    }
   ],
   "source": [
    "# теперь добавим в датасет данные о тарифе\n",
    "data = data.merge(tariffs, left_on='tariff', right_on='tariff_name', how='left')\n",
    "data.sample(10) # посмотрим результат склеек"
   ]
  },
  {
   "cell_type": "code",
   "execution_count": 35,
   "metadata": {},
   "outputs": [
    {
     "data": {
      "text/plain": [
       "user_id                     0\n",
       "month                       2\n",
       "calls                      42\n",
       "duration                   42\n",
       "messages_count            499\n",
       "session_count              13\n",
       "mb_sum                     13\n",
       "age                         0\n",
       "churn_date               3027\n",
       "city                        0\n",
       "first_name                  0\n",
       "last_name                   0\n",
       "reg_date                    0\n",
       "tariff                      0\n",
       "churn_month              3027\n",
       "reg_month                   0\n",
       "messages_included           0\n",
       "mb_per_month_included       0\n",
       "minutes_included            0\n",
       "rub_monthly_fee             0\n",
       "rub_per_gb                  0\n",
       "rub_per_message             0\n",
       "rub_per_minute              0\n",
       "tariff_name                 0\n",
       "dtype: int64"
      ]
     },
     "execution_count": 35,
     "metadata": {},
     "output_type": "execute_result"
    }
   ],
   "source": [
    "# проверим на пропуски\n",
    "data.isna().sum()"
   ]
  },
  {
   "cell_type": "markdown",
   "metadata": {},
   "source": [
    "Пропуски в наличии"
   ]
  },
  {
   "cell_type": "code",
   "execution_count": 36,
   "metadata": {},
   "outputs": [],
   "source": [
    "# Уберем пропуски в звонках, смсках и мегабайтах заменив их на нули\n",
    "data['calls'] = data['calls'].fillna(0)\n",
    "data['duration'] = data['duration'].fillna(0)\n",
    "data['messages_count'] = data['messages_count'].fillna(0)\n",
    "data['mb_sum'] = data['mb_sum'].fillna(0)"
   ]
  },
  {
   "cell_type": "code",
   "execution_count": 37,
   "metadata": {},
   "outputs": [
    {
     "data": {
      "text/plain": [
       "user_id                     0\n",
       "month                       2\n",
       "calls                       0\n",
       "duration                    0\n",
       "messages_count              0\n",
       "session_count              13\n",
       "mb_sum                      0\n",
       "age                         0\n",
       "churn_date               3027\n",
       "city                        0\n",
       "first_name                  0\n",
       "last_name                   0\n",
       "reg_date                    0\n",
       "tariff                      0\n",
       "churn_month              3027\n",
       "reg_month                   0\n",
       "messages_included           0\n",
       "mb_per_month_included       0\n",
       "minutes_included            0\n",
       "rub_monthly_fee             0\n",
       "rub_per_gb                  0\n",
       "rub_per_message             0\n",
       "rub_per_minute              0\n",
       "tariff_name                 0\n",
       "dtype: int64"
      ]
     },
     "execution_count": 37,
     "metadata": {},
     "output_type": "execute_result"
    }
   ],
   "source": [
    "#Пропуски убраны, заменены нулями\n",
    "data.isna().sum()"
   ]
  },
  {
   "cell_type": "code",
   "execution_count": 38,
   "metadata": {
    "scrolled": true
   },
   "outputs": [
    {
     "data": {
      "text/html": [
       "<div>\n",
       "<style scoped>\n",
       "    .dataframe tbody tr th:only-of-type {\n",
       "        vertical-align: middle;\n",
       "    }\n",
       "\n",
       "    .dataframe tbody tr th {\n",
       "        vertical-align: top;\n",
       "    }\n",
       "\n",
       "    .dataframe thead th {\n",
       "        text-align: right;\n",
       "    }\n",
       "</style>\n",
       "<table border=\"1\" class=\"dataframe\">\n",
       "  <thead>\n",
       "    <tr style=\"text-align: right;\">\n",
       "      <th></th>\n",
       "      <th>user_id</th>\n",
       "      <th>month</th>\n",
       "      <th>calls</th>\n",
       "      <th>duration</th>\n",
       "      <th>messages_count</th>\n",
       "      <th>session_count</th>\n",
       "      <th>mb_sum</th>\n",
       "      <th>age</th>\n",
       "      <th>churn_date</th>\n",
       "      <th>city</th>\n",
       "      <th>...</th>\n",
       "      <th>messages_included</th>\n",
       "      <th>mb_per_month_included</th>\n",
       "      <th>minutes_included</th>\n",
       "      <th>rub_monthly_fee</th>\n",
       "      <th>rub_per_gb</th>\n",
       "      <th>rub_per_message</th>\n",
       "      <th>rub_per_minute</th>\n",
       "      <th>tariff_name</th>\n",
       "      <th>gb_sum</th>\n",
       "      <th>gb_per_month_included</th>\n",
       "    </tr>\n",
       "  </thead>\n",
       "  <tbody>\n",
       "    <tr>\n",
       "      <th>1592</th>\n",
       "      <td>1251</td>\n",
       "      <td>2.0</td>\n",
       "      <td>26.0</td>\n",
       "      <td>206.0</td>\n",
       "      <td>45.0</td>\n",
       "      <td>45.0</td>\n",
       "      <td>14556.77</td>\n",
       "      <td>48</td>\n",
       "      <td>NaT</td>\n",
       "      <td>Пермь</td>\n",
       "      <td>...</td>\n",
       "      <td>50</td>\n",
       "      <td>15360</td>\n",
       "      <td>500</td>\n",
       "      <td>550</td>\n",
       "      <td>200</td>\n",
       "      <td>3</td>\n",
       "      <td>3</td>\n",
       "      <td>smart</td>\n",
       "      <td>15.0</td>\n",
       "      <td>15.0</td>\n",
       "    </tr>\n",
       "    <tr>\n",
       "      <th>873</th>\n",
       "      <td>1138</td>\n",
       "      <td>8.0</td>\n",
       "      <td>107.0</td>\n",
       "      <td>859.0</td>\n",
       "      <td>3.0</td>\n",
       "      <td>83.0</td>\n",
       "      <td>28836.37</td>\n",
       "      <td>23</td>\n",
       "      <td>NaT</td>\n",
       "      <td>Екатеринбург</td>\n",
       "      <td>...</td>\n",
       "      <td>50</td>\n",
       "      <td>15360</td>\n",
       "      <td>500</td>\n",
       "      <td>550</td>\n",
       "      <td>200</td>\n",
       "      <td>3</td>\n",
       "      <td>3</td>\n",
       "      <td>smart</td>\n",
       "      <td>29.0</td>\n",
       "      <td>15.0</td>\n",
       "    </tr>\n",
       "    <tr>\n",
       "      <th>1774</th>\n",
       "      <td>1281</td>\n",
       "      <td>7.0</td>\n",
       "      <td>72.0</td>\n",
       "      <td>508.0</td>\n",
       "      <td>71.0</td>\n",
       "      <td>32.0</td>\n",
       "      <td>17450.89</td>\n",
       "      <td>62</td>\n",
       "      <td>NaT</td>\n",
       "      <td>Нижний Новгород</td>\n",
       "      <td>...</td>\n",
       "      <td>1000</td>\n",
       "      <td>30720</td>\n",
       "      <td>3000</td>\n",
       "      <td>1950</td>\n",
       "      <td>150</td>\n",
       "      <td>1</td>\n",
       "      <td>1</td>\n",
       "      <td>ultra</td>\n",
       "      <td>18.0</td>\n",
       "      <td>30.0</td>\n",
       "    </tr>\n",
       "    <tr>\n",
       "      <th>2254</th>\n",
       "      <td>1357</td>\n",
       "      <td>12.0</td>\n",
       "      <td>42.0</td>\n",
       "      <td>321.0</td>\n",
       "      <td>33.0</td>\n",
       "      <td>58.0</td>\n",
       "      <td>17946.56</td>\n",
       "      <td>37</td>\n",
       "      <td>NaT</td>\n",
       "      <td>Томск</td>\n",
       "      <td>...</td>\n",
       "      <td>50</td>\n",
       "      <td>15360</td>\n",
       "      <td>500</td>\n",
       "      <td>550</td>\n",
       "      <td>200</td>\n",
       "      <td>3</td>\n",
       "      <td>3</td>\n",
       "      <td>smart</td>\n",
       "      <td>18.0</td>\n",
       "      <td>15.0</td>\n",
       "    </tr>\n",
       "    <tr>\n",
       "      <th>888</th>\n",
       "      <td>1142</td>\n",
       "      <td>9.0</td>\n",
       "      <td>60.0</td>\n",
       "      <td>465.0</td>\n",
       "      <td>33.0</td>\n",
       "      <td>54.0</td>\n",
       "      <td>13114.39</td>\n",
       "      <td>51</td>\n",
       "      <td>NaT</td>\n",
       "      <td>Новосибирск</td>\n",
       "      <td>...</td>\n",
       "      <td>50</td>\n",
       "      <td>15360</td>\n",
       "      <td>500</td>\n",
       "      <td>550</td>\n",
       "      <td>200</td>\n",
       "      <td>3</td>\n",
       "      <td>3</td>\n",
       "      <td>smart</td>\n",
       "      <td>13.0</td>\n",
       "      <td>15.0</td>\n",
       "    </tr>\n",
       "    <tr>\n",
       "      <th>1281</th>\n",
       "      <td>1200</td>\n",
       "      <td>8.0</td>\n",
       "      <td>92.0</td>\n",
       "      <td>627.0</td>\n",
       "      <td>49.0</td>\n",
       "      <td>33.0</td>\n",
       "      <td>16303.33</td>\n",
       "      <td>36</td>\n",
       "      <td>NaT</td>\n",
       "      <td>Санкт-Петербург</td>\n",
       "      <td>...</td>\n",
       "      <td>1000</td>\n",
       "      <td>30720</td>\n",
       "      <td>3000</td>\n",
       "      <td>1950</td>\n",
       "      <td>150</td>\n",
       "      <td>1</td>\n",
       "      <td>1</td>\n",
       "      <td>ultra</td>\n",
       "      <td>16.0</td>\n",
       "      <td>30.0</td>\n",
       "    </tr>\n",
       "    <tr>\n",
       "      <th>102</th>\n",
       "      <td>1014</td>\n",
       "      <td>7.0</td>\n",
       "      <td>40.0</td>\n",
       "      <td>300.0</td>\n",
       "      <td>39.0</td>\n",
       "      <td>79.0</td>\n",
       "      <td>27823.59</td>\n",
       "      <td>64</td>\n",
       "      <td>NaT</td>\n",
       "      <td>Чебоксары</td>\n",
       "      <td>...</td>\n",
       "      <td>50</td>\n",
       "      <td>15360</td>\n",
       "      <td>500</td>\n",
       "      <td>550</td>\n",
       "      <td>200</td>\n",
       "      <td>3</td>\n",
       "      <td>3</td>\n",
       "      <td>smart</td>\n",
       "      <td>28.0</td>\n",
       "      <td>15.0</td>\n",
       "    </tr>\n",
       "    <tr>\n",
       "      <th>2485</th>\n",
       "      <td>1389</td>\n",
       "      <td>12.0</td>\n",
       "      <td>42.0</td>\n",
       "      <td>292.0</td>\n",
       "      <td>1.0</td>\n",
       "      <td>53.0</td>\n",
       "      <td>16807.56</td>\n",
       "      <td>29</td>\n",
       "      <td>NaT</td>\n",
       "      <td>Москва</td>\n",
       "      <td>...</td>\n",
       "      <td>50</td>\n",
       "      <td>15360</td>\n",
       "      <td>500</td>\n",
       "      <td>550</td>\n",
       "      <td>200</td>\n",
       "      <td>3</td>\n",
       "      <td>3</td>\n",
       "      <td>smart</td>\n",
       "      <td>17.0</td>\n",
       "      <td>15.0</td>\n",
       "    </tr>\n",
       "    <tr>\n",
       "      <th>2842</th>\n",
       "      <td>1440</td>\n",
       "      <td>8.0</td>\n",
       "      <td>35.0</td>\n",
       "      <td>185.0</td>\n",
       "      <td>103.0</td>\n",
       "      <td>51.0</td>\n",
       "      <td>25494.77</td>\n",
       "      <td>51</td>\n",
       "      <td>NaT</td>\n",
       "      <td>Москва</td>\n",
       "      <td>...</td>\n",
       "      <td>1000</td>\n",
       "      <td>30720</td>\n",
       "      <td>3000</td>\n",
       "      <td>1950</td>\n",
       "      <td>150</td>\n",
       "      <td>1</td>\n",
       "      <td>1</td>\n",
       "      <td>ultra</td>\n",
       "      <td>25.0</td>\n",
       "      <td>30.0</td>\n",
       "    </tr>\n",
       "    <tr>\n",
       "      <th>539</th>\n",
       "      <td>1086</td>\n",
       "      <td>6.0</td>\n",
       "      <td>62.0</td>\n",
       "      <td>467.0</td>\n",
       "      <td>23.0</td>\n",
       "      <td>69.0</td>\n",
       "      <td>25558.94</td>\n",
       "      <td>73</td>\n",
       "      <td>NaT</td>\n",
       "      <td>Волгоград</td>\n",
       "      <td>...</td>\n",
       "      <td>50</td>\n",
       "      <td>15360</td>\n",
       "      <td>500</td>\n",
       "      <td>550</td>\n",
       "      <td>200</td>\n",
       "      <td>3</td>\n",
       "      <td>3</td>\n",
       "      <td>smart</td>\n",
       "      <td>25.0</td>\n",
       "      <td>15.0</td>\n",
       "    </tr>\n",
       "  </tbody>\n",
       "</table>\n",
       "<p>10 rows × 26 columns</p>\n",
       "</div>"
      ],
      "text/plain": [
       "      user_id  month  calls  duration  messages_count  session_count  \\\n",
       "1592     1251    2.0   26.0     206.0            45.0           45.0   \n",
       "873      1138    8.0  107.0     859.0             3.0           83.0   \n",
       "1774     1281    7.0   72.0     508.0            71.0           32.0   \n",
       "2254     1357   12.0   42.0     321.0            33.0           58.0   \n",
       "888      1142    9.0   60.0     465.0            33.0           54.0   \n",
       "1281     1200    8.0   92.0     627.0            49.0           33.0   \n",
       "102      1014    7.0   40.0     300.0            39.0           79.0   \n",
       "2485     1389   12.0   42.0     292.0             1.0           53.0   \n",
       "2842     1440    8.0   35.0     185.0           103.0           51.0   \n",
       "539      1086    6.0   62.0     467.0            23.0           69.0   \n",
       "\n",
       "        mb_sum  age churn_date             city  ... messages_included  \\\n",
       "1592  14556.77   48        NaT            Пермь  ...                50   \n",
       "873   28836.37   23        NaT     Екатеринбург  ...                50   \n",
       "1774  17450.89   62        NaT  Нижний Новгород  ...              1000   \n",
       "2254  17946.56   37        NaT            Томск  ...                50   \n",
       "888   13114.39   51        NaT      Новосибирск  ...                50   \n",
       "1281  16303.33   36        NaT  Санкт-Петербург  ...              1000   \n",
       "102   27823.59   64        NaT        Чебоксары  ...                50   \n",
       "2485  16807.56   29        NaT           Москва  ...                50   \n",
       "2842  25494.77   51        NaT           Москва  ...              1000   \n",
       "539   25558.94   73        NaT        Волгоград  ...                50   \n",
       "\n",
       "     mb_per_month_included minutes_included rub_monthly_fee  rub_per_gb  \\\n",
       "1592                 15360              500             550         200   \n",
       "873                  15360              500             550         200   \n",
       "1774                 30720             3000            1950         150   \n",
       "2254                 15360              500             550         200   \n",
       "888                  15360              500             550         200   \n",
       "1281                 30720             3000            1950         150   \n",
       "102                  15360              500             550         200   \n",
       "2485                 15360              500             550         200   \n",
       "2842                 30720             3000            1950         150   \n",
       "539                  15360              500             550         200   \n",
       "\n",
       "      rub_per_message  rub_per_minute  tariff_name  gb_sum  \\\n",
       "1592                3               3        smart    15.0   \n",
       "873                 3               3        smart    29.0   \n",
       "1774                1               1        ultra    18.0   \n",
       "2254                3               3        smart    18.0   \n",
       "888                 3               3        smart    13.0   \n",
       "1281                1               1        ultra    16.0   \n",
       "102                 3               3        smart    28.0   \n",
       "2485                3               3        smart    17.0   \n",
       "2842                1               1        ultra    25.0   \n",
       "539                 3               3        smart    25.0   \n",
       "\n",
       "      gb_per_month_included  \n",
       "1592                   15.0  \n",
       "873                    15.0  \n",
       "1774                   30.0  \n",
       "2254                   15.0  \n",
       "888                    15.0  \n",
       "1281                   30.0  \n",
       "102                    15.0  \n",
       "2485                   15.0  \n",
       "2842                   30.0  \n",
       "539                    15.0  \n",
       "\n",
       "[10 rows x 26 columns]"
      ]
     },
     "execution_count": 38,
     "metadata": {},
     "output_type": "execute_result"
    }
   ],
   "source": [
    "#Округлим мегабайты в Гигабайты\n",
    "data['gb_sum'] = np.ceil(data['mb_sum']/1024) # Согласно тарифу округляем до гигабайт в большую сторону\n",
    "data['gb_per_month_included'] = data['mb_per_month_included']/1024\n",
    "data.sample(10)"
   ]
  },
  {
   "cell_type": "code",
   "execution_count": 39,
   "metadata": {},
   "outputs": [
    {
     "data": {
      "text/plain": [
       "0"
      ]
     },
     "execution_count": 39,
     "metadata": {},
     "output_type": "execute_result"
    }
   ],
   "source": [
    "# Посмотрим наличие дубликатов\n",
    "data.duplicated().sum()"
   ]
  },
  {
   "cell_type": "code",
   "execution_count": 40,
   "metadata": {},
   "outputs": [],
   "source": [
    "# Добавим функцию,которая при вызове буде считать переплату в рублях, если она есть\n",
    "# если переплаты нет, тогда будет возвращен 0\n",
    "def overpayment(value):\n",
    "# Перепутал столбцы 'calls' и 'duration'\n",
    "#    minutes = (value['calls'] - value['minutes_included']) * value['rub_per_minute']\n",
    "    minutes = (value['duration'] - value['minutes_included']) * value['rub_per_minute']    \n",
    "    sms = (value['messages_count'] - value['messages_included']) * value['rub_per_message']\n",
    "    mbps = (value['gb_sum'] - value['gb_per_month_included']) * value['rub_per_gb']\n",
    "    count_overpay = 0\n",
    "    for i in [minutes, sms, mbps]:\n",
    "        if i > 0:\n",
    "            count_overpay += i\n",
    "#    print(count_overpay)\n",
    "    return count_overpay"
   ]
  },
  {
   "cell_type": "code",
   "execution_count": 41,
   "metadata": {},
   "outputs": [
    {
     "data": {
      "text/plain": [
       "2309       0.0\n",
       "1649     400.0\n",
       "280      445.0\n",
       "1644    1116.0\n",
       "2176    1283.0\n",
       "Name: overpayment_tariff, dtype: float64"
      ]
     },
     "execution_count": 41,
     "metadata": {},
     "output_type": "execute_result"
    }
   ],
   "source": [
    "# переплаты имеются н находятся в столбце overpayment_tariff\n",
    "data['overpayment_tariff'] = data.apply(lambda x: overpayment(x), axis=1)\n",
    "data['overpayment_tariff'].sample(5) #несколько значений для проверки на наличие данных"
   ]
  },
  {
   "cell_type": "code",
   "execution_count": 42,
   "metadata": {},
   "outputs": [],
   "source": [
    "# добавим столбец с итоговой стоимостью услуг за месяц с учетом переплат\n",
    "data['total_pay']= data['rub_monthly_fee'] + data['overpayment_tariff']"
   ]
  },
  {
   "cell_type": "code",
   "execution_count": 43,
   "metadata": {},
   "outputs": [
    {
     "data": {
      "text/html": [
       "<div>\n",
       "<style scoped>\n",
       "    .dataframe tbody tr th:only-of-type {\n",
       "        vertical-align: middle;\n",
       "    }\n",
       "\n",
       "    .dataframe tbody tr th {\n",
       "        vertical-align: top;\n",
       "    }\n",
       "\n",
       "    .dataframe thead th {\n",
       "        text-align: right;\n",
       "    }\n",
       "</style>\n",
       "<table border=\"1\" class=\"dataframe\">\n",
       "  <thead>\n",
       "    <tr style=\"text-align: right;\">\n",
       "      <th></th>\n",
       "      <th>user_id</th>\n",
       "      <th>month</th>\n",
       "      <th>calls</th>\n",
       "      <th>duration</th>\n",
       "      <th>messages_count</th>\n",
       "      <th>session_count</th>\n",
       "      <th>mb_sum</th>\n",
       "      <th>age</th>\n",
       "      <th>churn_date</th>\n",
       "      <th>city</th>\n",
       "      <th>...</th>\n",
       "      <th>minutes_included</th>\n",
       "      <th>rub_monthly_fee</th>\n",
       "      <th>rub_per_gb</th>\n",
       "      <th>rub_per_message</th>\n",
       "      <th>rub_per_minute</th>\n",
       "      <th>tariff_name</th>\n",
       "      <th>gb_sum</th>\n",
       "      <th>gb_per_month_included</th>\n",
       "      <th>overpayment_tariff</th>\n",
       "      <th>total_pay</th>\n",
       "    </tr>\n",
       "  </thead>\n",
       "  <tbody>\n",
       "    <tr>\n",
       "      <th>2378</th>\n",
       "      <td>1375</td>\n",
       "      <td>12.0</td>\n",
       "      <td>124.0</td>\n",
       "      <td>858.0</td>\n",
       "      <td>75.0</td>\n",
       "      <td>41.0</td>\n",
       "      <td>21544.34</td>\n",
       "      <td>53</td>\n",
       "      <td>NaT</td>\n",
       "      <td>Пенза</td>\n",
       "      <td>...</td>\n",
       "      <td>3000</td>\n",
       "      <td>1950</td>\n",
       "      <td>150</td>\n",
       "      <td>1</td>\n",
       "      <td>1</td>\n",
       "      <td>ultra</td>\n",
       "      <td>22.0</td>\n",
       "      <td>30.0</td>\n",
       "      <td>0.0</td>\n",
       "      <td>1950.0</td>\n",
       "    </tr>\n",
       "    <tr>\n",
       "      <th>1406</th>\n",
       "      <td>1220</td>\n",
       "      <td>11.0</td>\n",
       "      <td>28.0</td>\n",
       "      <td>236.0</td>\n",
       "      <td>0.0</td>\n",
       "      <td>18.0</td>\n",
       "      <td>6459.93</td>\n",
       "      <td>59</td>\n",
       "      <td>NaT</td>\n",
       "      <td>Ростов-на-Дону</td>\n",
       "      <td>...</td>\n",
       "      <td>500</td>\n",
       "      <td>550</td>\n",
       "      <td>200</td>\n",
       "      <td>3</td>\n",
       "      <td>3</td>\n",
       "      <td>smart</td>\n",
       "      <td>7.0</td>\n",
       "      <td>15.0</td>\n",
       "      <td>0.0</td>\n",
       "      <td>550.0</td>\n",
       "    </tr>\n",
       "    <tr>\n",
       "      <th>3173</th>\n",
       "      <td>1492</td>\n",
       "      <td>7.0</td>\n",
       "      <td>80.0</td>\n",
       "      <td>517.0</td>\n",
       "      <td>19.0</td>\n",
       "      <td>55.0</td>\n",
       "      <td>15212.45</td>\n",
       "      <td>63</td>\n",
       "      <td>NaT</td>\n",
       "      <td>Санкт-Петербург</td>\n",
       "      <td>...</td>\n",
       "      <td>500</td>\n",
       "      <td>550</td>\n",
       "      <td>200</td>\n",
       "      <td>3</td>\n",
       "      <td>3</td>\n",
       "      <td>smart</td>\n",
       "      <td>15.0</td>\n",
       "      <td>15.0</td>\n",
       "      <td>51.0</td>\n",
       "      <td>601.0</td>\n",
       "    </tr>\n",
       "    <tr>\n",
       "      <th>2341</th>\n",
       "      <td>1372</td>\n",
       "      <td>8.0</td>\n",
       "      <td>65.0</td>\n",
       "      <td>466.0</td>\n",
       "      <td>24.0</td>\n",
       "      <td>41.0</td>\n",
       "      <td>13872.15</td>\n",
       "      <td>71</td>\n",
       "      <td>NaT</td>\n",
       "      <td>Магнитогорск</td>\n",
       "      <td>...</td>\n",
       "      <td>500</td>\n",
       "      <td>550</td>\n",
       "      <td>200</td>\n",
       "      <td>3</td>\n",
       "      <td>3</td>\n",
       "      <td>smart</td>\n",
       "      <td>14.0</td>\n",
       "      <td>15.0</td>\n",
       "      <td>0.0</td>\n",
       "      <td>550.0</td>\n",
       "    </tr>\n",
       "    <tr>\n",
       "      <th>2648</th>\n",
       "      <td>1413</td>\n",
       "      <td>8.0</td>\n",
       "      <td>10.0</td>\n",
       "      <td>63.0</td>\n",
       "      <td>3.0</td>\n",
       "      <td>26.0</td>\n",
       "      <td>8760.97</td>\n",
       "      <td>37</td>\n",
       "      <td>NaT</td>\n",
       "      <td>Новосибирск</td>\n",
       "      <td>...</td>\n",
       "      <td>500</td>\n",
       "      <td>550</td>\n",
       "      <td>200</td>\n",
       "      <td>3</td>\n",
       "      <td>3</td>\n",
       "      <td>smart</td>\n",
       "      <td>9.0</td>\n",
       "      <td>15.0</td>\n",
       "      <td>0.0</td>\n",
       "      <td>550.0</td>\n",
       "    </tr>\n",
       "    <tr>\n",
       "      <th>1276</th>\n",
       "      <td>1199</td>\n",
       "      <td>12.0</td>\n",
       "      <td>120.0</td>\n",
       "      <td>890.0</td>\n",
       "      <td>66.0</td>\n",
       "      <td>27.0</td>\n",
       "      <td>10574.17</td>\n",
       "      <td>27</td>\n",
       "      <td>NaT</td>\n",
       "      <td>Чебоксары</td>\n",
       "      <td>...</td>\n",
       "      <td>500</td>\n",
       "      <td>550</td>\n",
       "      <td>200</td>\n",
       "      <td>3</td>\n",
       "      <td>3</td>\n",
       "      <td>smart</td>\n",
       "      <td>11.0</td>\n",
       "      <td>15.0</td>\n",
       "      <td>1218.0</td>\n",
       "      <td>1768.0</td>\n",
       "    </tr>\n",
       "    <tr>\n",
       "      <th>2678</th>\n",
       "      <td>1417</td>\n",
       "      <td>11.0</td>\n",
       "      <td>47.0</td>\n",
       "      <td>369.0</td>\n",
       "      <td>81.0</td>\n",
       "      <td>42.0</td>\n",
       "      <td>16537.75</td>\n",
       "      <td>34</td>\n",
       "      <td>NaT</td>\n",
       "      <td>Тольятти</td>\n",
       "      <td>...</td>\n",
       "      <td>500</td>\n",
       "      <td>550</td>\n",
       "      <td>200</td>\n",
       "      <td>3</td>\n",
       "      <td>3</td>\n",
       "      <td>smart</td>\n",
       "      <td>17.0</td>\n",
       "      <td>15.0</td>\n",
       "      <td>493.0</td>\n",
       "      <td>1043.0</td>\n",
       "    </tr>\n",
       "    <tr>\n",
       "      <th>689</th>\n",
       "      <td>1109</td>\n",
       "      <td>3.0</td>\n",
       "      <td>66.0</td>\n",
       "      <td>426.0</td>\n",
       "      <td>1.0</td>\n",
       "      <td>44.0</td>\n",
       "      <td>14502.70</td>\n",
       "      <td>64</td>\n",
       "      <td>NaT</td>\n",
       "      <td>Санкт-Петербург</td>\n",
       "      <td>...</td>\n",
       "      <td>500</td>\n",
       "      <td>550</td>\n",
       "      <td>200</td>\n",
       "      <td>3</td>\n",
       "      <td>3</td>\n",
       "      <td>smart</td>\n",
       "      <td>15.0</td>\n",
       "      <td>15.0</td>\n",
       "      <td>0.0</td>\n",
       "      <td>550.0</td>\n",
       "    </tr>\n",
       "    <tr>\n",
       "      <th>563</th>\n",
       "      <td>1089</td>\n",
       "      <td>9.0</td>\n",
       "      <td>68.0</td>\n",
       "      <td>477.0</td>\n",
       "      <td>137.0</td>\n",
       "      <td>23.0</td>\n",
       "      <td>10933.27</td>\n",
       "      <td>19</td>\n",
       "      <td>NaT</td>\n",
       "      <td>Иркутск</td>\n",
       "      <td>...</td>\n",
       "      <td>3000</td>\n",
       "      <td>1950</td>\n",
       "      <td>150</td>\n",
       "      <td>1</td>\n",
       "      <td>1</td>\n",
       "      <td>ultra</td>\n",
       "      <td>11.0</td>\n",
       "      <td>30.0</td>\n",
       "      <td>0.0</td>\n",
       "      <td>1950.0</td>\n",
       "    </tr>\n",
       "    <tr>\n",
       "      <th>2017</th>\n",
       "      <td>1318</td>\n",
       "      <td>9.0</td>\n",
       "      <td>94.0</td>\n",
       "      <td>662.0</td>\n",
       "      <td>56.0</td>\n",
       "      <td>19.0</td>\n",
       "      <td>9050.08</td>\n",
       "      <td>53</td>\n",
       "      <td>NaT</td>\n",
       "      <td>Курган</td>\n",
       "      <td>...</td>\n",
       "      <td>3000</td>\n",
       "      <td>1950</td>\n",
       "      <td>150</td>\n",
       "      <td>1</td>\n",
       "      <td>1</td>\n",
       "      <td>ultra</td>\n",
       "      <td>9.0</td>\n",
       "      <td>30.0</td>\n",
       "      <td>0.0</td>\n",
       "      <td>1950.0</td>\n",
       "    </tr>\n",
       "  </tbody>\n",
       "</table>\n",
       "<p>10 rows × 28 columns</p>\n",
       "</div>"
      ],
      "text/plain": [
       "      user_id  month  calls  duration  messages_count  session_count  \\\n",
       "2378     1375   12.0  124.0     858.0            75.0           41.0   \n",
       "1406     1220   11.0   28.0     236.0             0.0           18.0   \n",
       "3173     1492    7.0   80.0     517.0            19.0           55.0   \n",
       "2341     1372    8.0   65.0     466.0            24.0           41.0   \n",
       "2648     1413    8.0   10.0      63.0             3.0           26.0   \n",
       "1276     1199   12.0  120.0     890.0            66.0           27.0   \n",
       "2678     1417   11.0   47.0     369.0            81.0           42.0   \n",
       "689      1109    3.0   66.0     426.0             1.0           44.0   \n",
       "563      1089    9.0   68.0     477.0           137.0           23.0   \n",
       "2017     1318    9.0   94.0     662.0            56.0           19.0   \n",
       "\n",
       "        mb_sum  age churn_date             city  ... minutes_included  \\\n",
       "2378  21544.34   53        NaT            Пенза  ...             3000   \n",
       "1406   6459.93   59        NaT   Ростов-на-Дону  ...              500   \n",
       "3173  15212.45   63        NaT  Санкт-Петербург  ...              500   \n",
       "2341  13872.15   71        NaT     Магнитогорск  ...              500   \n",
       "2648   8760.97   37        NaT      Новосибирск  ...              500   \n",
       "1276  10574.17   27        NaT        Чебоксары  ...              500   \n",
       "2678  16537.75   34        NaT         Тольятти  ...              500   \n",
       "689   14502.70   64        NaT  Санкт-Петербург  ...              500   \n",
       "563   10933.27   19        NaT          Иркутск  ...             3000   \n",
       "2017   9050.08   53        NaT           Курган  ...             3000   \n",
       "\n",
       "     rub_monthly_fee rub_per_gb rub_per_message  rub_per_minute  tariff_name  \\\n",
       "2378            1950        150               1               1        ultra   \n",
       "1406             550        200               3               3        smart   \n",
       "3173             550        200               3               3        smart   \n",
       "2341             550        200               3               3        smart   \n",
       "2648             550        200               3               3        smart   \n",
       "1276             550        200               3               3        smart   \n",
       "2678             550        200               3               3        smart   \n",
       "689              550        200               3               3        smart   \n",
       "563             1950        150               1               1        ultra   \n",
       "2017            1950        150               1               1        ultra   \n",
       "\n",
       "      gb_sum  gb_per_month_included  overpayment_tariff  total_pay  \n",
       "2378    22.0                   30.0                 0.0     1950.0  \n",
       "1406     7.0                   15.0                 0.0      550.0  \n",
       "3173    15.0                   15.0                51.0      601.0  \n",
       "2341    14.0                   15.0                 0.0      550.0  \n",
       "2648     9.0                   15.0                 0.0      550.0  \n",
       "1276    11.0                   15.0              1218.0     1768.0  \n",
       "2678    17.0                   15.0               493.0     1043.0  \n",
       "689     15.0                   15.0                 0.0      550.0  \n",
       "563     11.0                   30.0                 0.0     1950.0  \n",
       "2017     9.0                   30.0                 0.0     1950.0  \n",
       "\n",
       "[10 rows x 28 columns]"
      ]
     },
     "execution_count": 43,
     "metadata": {},
     "output_type": "execute_result"
    }
   ],
   "source": [
    "# посмотрим 10 случайных строк из data\n",
    "# столбцы с данными об оплате имеются\n",
    "data.sample(10)"
   ]
  },
  {
   "cell_type": "markdown",
   "metadata": {},
   "source": [
    "### Вывод по подготовке"
   ]
  },
  {
   "cell_type": "markdown",
   "metadata": {},
   "source": [
    "\n",
    "- Данные были приведены к нужным типам.\n",
    "- Так как расчеты за услуги идут помесячно, был добавлен для удобства расчетов столбец с номером месяца\n",
    "- Звонки были округлены до минут согласно тарифам оператора\n",
    "- Исправлены ошибки в таблице internet\n",
    "- Созданы сводные таблицы по звонкам, смскам, траффику интернета. по каждому пользователю за месяц\n",
    "- Мегабайты пересчитаны в Гигабайты с округлением в большую сторону за месяц\n",
    "- Написана функция, с помощью которой посчитана переплата сверх тарифа\n",
    "- Сделан датасет, в котором посчитана выручка и переплата по каждому пользователю на основе созданных ранее сводных таблиц\n"
   ]
  },
  {
   "cell_type": "code",
   "execution_count": 44,
   "metadata": {},
   "outputs": [
    {
     "data": {
      "text/plain": [
       "4916951.0"
      ]
     },
     "execution_count": 44,
     "metadata": {},
     "output_type": "execute_result"
    }
   ],
   "source": [
    "# check\n",
    "data['total_pay'].sum()"
   ]
  },
  {
   "cell_type": "code",
   "execution_count": 45,
   "metadata": {},
   "outputs": [
    {
     "data": {
      "text/html": [
       "<div>\n",
       "<style scoped>\n",
       "    .dataframe tbody tr th:only-of-type {\n",
       "        vertical-align: middle;\n",
       "    }\n",
       "\n",
       "    .dataframe tbody tr th {\n",
       "        vertical-align: top;\n",
       "    }\n",
       "\n",
       "    .dataframe thead th {\n",
       "        text-align: right;\n",
       "    }\n",
       "</style>\n",
       "<table border=\"1\" class=\"dataframe\">\n",
       "  <thead>\n",
       "    <tr style=\"text-align: right;\">\n",
       "      <th></th>\n",
       "      <th>user_id</th>\n",
       "      <th>month</th>\n",
       "      <th>duration</th>\n",
       "      <th>messages_count</th>\n",
       "      <th>mb_sum</th>\n",
       "      <th>reg_date</th>\n",
       "      <th>tariff</th>\n",
       "      <th>tariff_name</th>\n",
       "      <th>gb_sum</th>\n",
       "      <th>gb_per_month_included</th>\n",
       "      <th>overpayment_tariff</th>\n",
       "      <th>total_pay</th>\n",
       "    </tr>\n",
       "  </thead>\n",
       "  <tbody>\n",
       "    <tr>\n",
       "      <th>3201</th>\n",
       "      <td>1496</td>\n",
       "      <td>11.0</td>\n",
       "      <td>662.0</td>\n",
       "      <td>46.0</td>\n",
       "      <td>25063.40</td>\n",
       "      <td>2018-01-27</td>\n",
       "      <td>smart</td>\n",
       "      <td>smart</td>\n",
       "      <td>25.0</td>\n",
       "      <td>15.0</td>\n",
       "      <td>2486.0</td>\n",
       "      <td>3036.0</td>\n",
       "    </tr>\n",
       "    <tr>\n",
       "      <th>3202</th>\n",
       "      <td>1496</td>\n",
       "      <td>12.0</td>\n",
       "      <td>518.0</td>\n",
       "      <td>51.0</td>\n",
       "      <td>20736.15</td>\n",
       "      <td>2018-01-27</td>\n",
       "      <td>smart</td>\n",
       "      <td>smart</td>\n",
       "      <td>21.0</td>\n",
       "      <td>15.0</td>\n",
       "      <td>1257.0</td>\n",
       "      <td>1807.0</td>\n",
       "    </tr>\n",
       "    <tr>\n",
       "      <th>3205</th>\n",
       "      <td>1497</td>\n",
       "      <td>12.0</td>\n",
       "      <td>545.0</td>\n",
       "      <td>17.0</td>\n",
       "      <td>19918.60</td>\n",
       "      <td>2018-10-09</td>\n",
       "      <td>smart</td>\n",
       "      <td>smart</td>\n",
       "      <td>20.0</td>\n",
       "      <td>15.0</td>\n",
       "      <td>1135.0</td>\n",
       "      <td>1685.0</td>\n",
       "    </tr>\n",
       "    <tr>\n",
       "      <th>3212</th>\n",
       "      <td>1499</td>\n",
       "      <td>11.0</td>\n",
       "      <td>612.0</td>\n",
       "      <td>59.0</td>\n",
       "      <td>17963.31</td>\n",
       "      <td>2018-09-27</td>\n",
       "      <td>smart</td>\n",
       "      <td>smart</td>\n",
       "      <td>18.0</td>\n",
       "      <td>15.0</td>\n",
       "      <td>963.0</td>\n",
       "      <td>1513.0</td>\n",
       "    </tr>\n",
       "  </tbody>\n",
       "</table>\n",
       "</div>"
      ],
      "text/plain": [
       "      user_id  month  duration  messages_count    mb_sum   reg_date tariff  \\\n",
       "3201     1496   11.0     662.0            46.0  25063.40 2018-01-27  smart   \n",
       "3202     1496   12.0     518.0            51.0  20736.15 2018-01-27  smart   \n",
       "3205     1497   12.0     545.0            17.0  19918.60 2018-10-09  smart   \n",
       "3212     1499   11.0     612.0            59.0  17963.31 2018-09-27  smart   \n",
       "\n",
       "     tariff_name  gb_sum  gb_per_month_included  overpayment_tariff  total_pay  \n",
       "3201       smart    25.0                   15.0              2486.0     3036.0  \n",
       "3202       smart    21.0                   15.0              1257.0     1807.0  \n",
       "3205       smart    20.0                   15.0              1135.0     1685.0  \n",
       "3212       smart    18.0                   15.0               963.0     1513.0  "
      ]
     },
     "execution_count": 45,
     "metadata": {},
     "output_type": "execute_result"
    }
   ],
   "source": [
    "# check\n",
    "data[data ['duration'] > 500][['user_id', 'month', 'duration', 'messages_count',\n",
    "       'mb_sum', 'reg_date', 'tariff', 'tariff_name', 'gb_sum', 'gb_per_month_included', 'overpayment_tariff',\n",
    "       'total_pay']].tail(4)"
   ]
  },
  {
   "cell_type": "markdown",
   "metadata": {},
   "source": [
    "## Анализ данных"
   ]
  },
  {
   "cell_type": "markdown",
   "metadata": {},
   "source": [
    "### Опишите поведение клиентов оператора, исходя из выборки. \n",
    "Потребности пользователей каждого тарифа в месяц"
   ]
  },
  {
   "cell_type": "code",
   "execution_count": 46,
   "metadata": {},
   "outputs": [
    {
     "data": {
      "text/html": [
       "<div>\n",
       "<style scoped>\n",
       "    .dataframe tbody tr th:only-of-type {\n",
       "        vertical-align: middle;\n",
       "    }\n",
       "\n",
       "    .dataframe tbody tr th {\n",
       "        vertical-align: top;\n",
       "    }\n",
       "\n",
       "    .dataframe thead th {\n",
       "        text-align: right;\n",
       "    }\n",
       "</style>\n",
       "<table border=\"1\" class=\"dataframe\">\n",
       "  <thead>\n",
       "    <tr style=\"text-align: right;\">\n",
       "      <th></th>\n",
       "      <th>overpayment_tariff</th>\n",
       "      <th>total_pay</th>\n",
       "    </tr>\n",
       "  </thead>\n",
       "  <tbody>\n",
       "    <tr>\n",
       "      <th>count</th>\n",
       "      <td>3216.000000</td>\n",
       "      <td>3216.000000</td>\n",
       "    </tr>\n",
       "    <tr>\n",
       "      <th>mean</th>\n",
       "      <td>549.673818</td>\n",
       "      <td>1528.902674</td>\n",
       "    </tr>\n",
       "    <tr>\n",
       "      <th>std</th>\n",
       "      <td>767.655172</td>\n",
       "      <td>798.224060</td>\n",
       "    </tr>\n",
       "    <tr>\n",
       "      <th>min</th>\n",
       "      <td>0.000000</td>\n",
       "      <td>550.000000</td>\n",
       "    </tr>\n",
       "    <tr>\n",
       "      <th>25%</th>\n",
       "      <td>0.000000</td>\n",
       "      <td>750.000000</td>\n",
       "    </tr>\n",
       "    <tr>\n",
       "      <th>50%</th>\n",
       "      <td>159.000000</td>\n",
       "      <td>1653.500000</td>\n",
       "    </tr>\n",
       "    <tr>\n",
       "      <th>75%</th>\n",
       "      <td>938.000000</td>\n",
       "      <td>1950.000000</td>\n",
       "    </tr>\n",
       "    <tr>\n",
       "      <th>max</th>\n",
       "      <td>6220.000000</td>\n",
       "      <td>6770.000000</td>\n",
       "    </tr>\n",
       "  </tbody>\n",
       "</table>\n",
       "</div>"
      ],
      "text/plain": [
       "       overpayment_tariff    total_pay\n",
       "count         3216.000000  3216.000000\n",
       "mean           549.673818  1528.902674\n",
       "std            767.655172   798.224060\n",
       "min              0.000000   550.000000\n",
       "25%              0.000000   750.000000\n",
       "50%            159.000000  1653.500000\n",
       "75%            938.000000  1950.000000\n",
       "max           6220.000000  6770.000000"
      ]
     },
     "execution_count": 46,
     "metadata": {},
     "output_type": "execute_result"
    }
   ],
   "source": [
    "# Посмотрим информацию по датасету в целом\n",
    "data[['overpayment_tariff','total_pay']].describe()\n",
    "# Среднее значение переплаты за месяц 550 руб, а средня оплата по тарифу 1528,9 руб!"
   ]
  },
  {
   "cell_type": "code",
   "execution_count": 47,
   "metadata": {},
   "outputs": [
    {
     "data": {
      "text/html": [
       "<style  type=\"text/css\" >\n",
       "</style><table id=\"T_46549_\" ><thead>    <tr>        <th class=\"blank level0\" ></th>        <th class=\"col_heading level0 col0\" colspan=\"8\">mean</th>    </tr>    <tr>        <th class=\"blank level1\" ></th>        <th class=\"col_heading level1 col0\" >duration</th>        <th class=\"col_heading level1 col1\" >gb_per_month_included</th>        <th class=\"col_heading level1 col2\" >gb_sum</th>        <th class=\"col_heading level1 col3\" >messages_count</th>        <th class=\"col_heading level1 col4\" >messages_included</th>        <th class=\"col_heading level1 col5\" >minutes_included</th>        <th class=\"col_heading level1 col6\" >rub_monthly_fee</th>        <th class=\"col_heading level1 col7\" >total_pay</th>    </tr>    <tr>        <th class=\"index_name level0\" >tariff</th>        <th class=\"blank\" ></th>        <th class=\"blank\" ></th>        <th class=\"blank\" ></th>        <th class=\"blank\" ></th>        <th class=\"blank\" ></th>        <th class=\"blank\" ></th>        <th class=\"blank\" ></th>        <th class=\"blank\" ></th>    </tr></thead><tbody>\n",
       "                <tr>\n",
       "                        <th id=\"T_46549_level0_row0\" class=\"row_heading level0 row0\" >smart</th>\n",
       "                        <td id=\"T_46549_row0_col0\" class=\"data row0 col0\" >417.75</td>\n",
       "                        <td id=\"T_46549_row0_col1\" class=\"data row0 col1\" >15.00</td>\n",
       "                        <td id=\"T_46549_row0_col2\" class=\"data row0 col2\" >16.32</td>\n",
       "                        <td id=\"T_46549_row0_col3\" class=\"data row0 col3\" >33.37</td>\n",
       "                        <td id=\"T_46549_row0_col4\" class=\"data row0 col4\" >50.00</td>\n",
       "                        <td id=\"T_46549_row0_col5\" class=\"data row0 col5\" >500.00</td>\n",
       "                        <td id=\"T_46549_row0_col6\" class=\"data row0 col6\" >550.00</td>\n",
       "                        <td id=\"T_46549_row0_col7\" class=\"data row0 col7\" >1289.64</td>\n",
       "            </tr>\n",
       "            <tr>\n",
       "                        <th id=\"T_46549_level0_row1\" class=\"row_heading level0 row1\" >ultra</th>\n",
       "                        <td id=\"T_46549_row1_col0\" class=\"data row1 col0\" >526.09</td>\n",
       "                        <td id=\"T_46549_row1_col1\" class=\"data row1 col1\" >30.00</td>\n",
       "                        <td id=\"T_46549_row1_col2\" class=\"data row1 col2\" >19.47</td>\n",
       "                        <td id=\"T_46549_row1_col3\" class=\"data row1 col3\" >49.31</td>\n",
       "                        <td id=\"T_46549_row1_col4\" class=\"data row1 col4\" >1000.00</td>\n",
       "                        <td id=\"T_46549_row1_col5\" class=\"data row1 col5\" >3000.00</td>\n",
       "                        <td id=\"T_46549_row1_col6\" class=\"data row1 col6\" >1950.00</td>\n",
       "                        <td id=\"T_46549_row1_col7\" class=\"data row1 col7\" >2070.03</td>\n",
       "            </tr>\n",
       "    </tbody></table>"
      ],
      "text/plain": [
       "<pandas.io.formats.style.Styler at 0x7f40862155b0>"
      ]
     },
     "execution_count": 47,
     "metadata": {},
     "output_type": "execute_result"
    }
   ],
   "source": [
    "# Посмотрим сводную таблицу по тарифам\n",
    "data.pivot_table(\n",
    "    index = 'tariff',\n",
    "    values = ['duration', 'minutes_included', 'messages_count', 'messages_included', 'gb_sum', 'gb_per_month_included','total_pay', 'rub_monthly_fee'],\n",
    "    aggfunc = ['mean']\n",
    "\n",
    ").style.format('{0:.2f}')\n"
   ]
  },
  {
   "cell_type": "markdown",
   "metadata": {},
   "source": [
    "В среднем видно по тарифу Смарт:\n",
    "\n",
    "- Минуты среднее значение 418 минут, в пакете включено 500\n",
    "- Смски 34  шт, в пакете включено 50\n",
    "- Интернет 16.32 Гб в пакете 15 (интерент докупается)\n",
    "\n",
    "По тарифу Ультра:\n",
    "- Минут среднее значение 527, в пакете 3000\n",
    "- Смски 50, в пакете 1000\n",
    "- Интернет 19,47 Гб, в пакете 30 Гб\n",
    "\n",
    "Пользователи тарифа Смарт докупают недостающий траффик, в то время, как пользователям тарифа Ультра в среднем хватает пакета услуг на месяц"
   ]
  },
  {
   "cell_type": "code",
   "execution_count": 48,
   "metadata": {},
   "outputs": [
    {
     "data": {
      "text/html": [
       "<style  type=\"text/css\" >\n",
       "</style><table id=\"T_7ecbd_\" ><thead>    <tr>        <th class=\"blank level0\" ></th>        <th class=\"col_heading level0 col0\" colspan=\"5\">sum</th>    </tr>    <tr>        <th class=\"blank level1\" ></th>        <th class=\"col_heading level1 col0\" >duration</th>        <th class=\"col_heading level1 col1\" >gb_sum</th>        <th class=\"col_heading level1 col2\" >messages_count</th>        <th class=\"col_heading level1 col3\" >overpayment_tariff</th>        <th class=\"col_heading level1 col4\" >total_pay</th>    </tr>    <tr>        <th class=\"index_name level0\" >tariff</th>        <th class=\"blank\" ></th>        <th class=\"blank\" ></th>        <th class=\"blank\" ></th>        <th class=\"blank\" ></th>        <th class=\"blank\" ></th>    </tr></thead><tbody>\n",
       "                <tr>\n",
       "                        <th id=\"T_7ecbd_level0_row0\" class=\"row_heading level0 row0\" >smart</th>\n",
       "                        <td id=\"T_7ecbd_row0_col0\" class=\"data row0 col0\" >931577.00</td>\n",
       "                        <td id=\"T_7ecbd_row0_col1\" class=\"data row0 col1\" >36397.00</td>\n",
       "                        <td id=\"T_7ecbd_row0_col2\" class=\"data row0 col2\" >74413.00</td>\n",
       "                        <td id=\"T_7ecbd_row0_col3\" class=\"data row0 col3\" >1649401.00</td>\n",
       "                        <td id=\"T_7ecbd_row0_col4\" class=\"data row0 col4\" >2875901.00</td>\n",
       "            </tr>\n",
       "            <tr>\n",
       "                        <th id=\"T_7ecbd_level0_row1\" class=\"row_heading level0 row1\" >ultra</th>\n",
       "                        <td id=\"T_7ecbd_row1_col0\" class=\"data row1 col0\" >518724.00</td>\n",
       "                        <td id=\"T_7ecbd_row1_col1\" class=\"data row1 col1\" >19202.00</td>\n",
       "                        <td id=\"T_7ecbd_row1_col2\" class=\"data row1 col2\" >48623.00</td>\n",
       "                        <td id=\"T_7ecbd_row1_col3\" class=\"data row1 col3\" >118350.00</td>\n",
       "                        <td id=\"T_7ecbd_row1_col4\" class=\"data row1 col4\" >2041050.00</td>\n",
       "            </tr>\n",
       "    </tbody></table>"
      ],
      "text/plain": [
       "<pandas.io.formats.style.Styler at 0x7f408620b0d0>"
      ]
     },
     "execution_count": 48,
     "metadata": {},
     "output_type": "execute_result"
    }
   ],
   "source": [
    "# посмотрим оплаченную сумму по тарифам\n",
    "data.pivot_table(\n",
    "    index = 'tariff',\n",
    "    values = ['duration', 'messages_count', 'gb_sum', 'total_pay', 'overpayment_tariff'],\n",
    "    aggfunc = ['sum']\n",
    "\n",
    ").style.format('{0:.2f}')\n"
   ]
  },
  {
   "cell_type": "markdown",
   "metadata": {},
   "source": [
    "Из таблицы видно в среднем по тарифу:\n",
    "\n",
    "Smart: минуты с\n",
    "верх пакета не выговаривают, смски сверх пакета не используют, траффик интернета в среднем превышают на 1.3 Гб\n",
    "\n",
    "Ultra: Минуты сверх пакета не расходуют, смски тоже в не расходуют, траффик интернета тоже расходуется в пределах пакета.\n",
    "Но при этом по среднему значению имеется переплата двукратная по тарифу Smart\n",
    "\n",
    "Но суммарно за год выручки с тарифа Смарт больше, нежели с тарифа Ультра"
   ]
  },
  {
   "cell_type": "code",
   "execution_count": 49,
   "metadata": {},
   "outputs": [
    {
     "data": {
      "text/plain": [
       "Text(0.5, 1.0, 'Оплата по тарифам')"
      ]
     },
     "execution_count": 49,
     "metadata": {},
     "output_type": "execute_result"
    },
    {
     "data": {
      "image/png": "[encoded data removed]",
      "text/plain": [
       "<Figure size 864x576 with 1 Axes>"
      ]
     },
     "metadata": {
      "needs_background": "light"
     },
     "output_type": "display_data"
    }
   ],
   "source": [
    "# посмотрим оплаченную сумму по тарифам\n",
    "data.pivot_table(\n",
    "    index = 'tariff',\n",
    "    values = ['duration', 'messages_count', 'gb_sum', 'total_pay', 'overpayment_tariff'],\n",
    "    aggfunc = ['sum']\n",
    "\n",
    ").plot(kind='bar', figsize=(12, 8))\n",
    "plt.xlabel('Тариф')\n",
    "plt.ylabel('Сумма в руб')\n",
    "plt.title('Оплата по тарифам', fontsize=20)\n"
   ]
  },
  {
   "cell_type": "code",
   "execution_count": 50,
   "metadata": {},
   "outputs": [
    {
     "data": {
      "text/plain": [
       "Text(0.5, 1.0, 'Оплата по тарифам')"
      ]
     },
     "execution_count": 50,
     "metadata": {},
     "output_type": "execute_result"
    },
    {
     "data": {
      "image/png": "[encoded data removed]",
      "text/plain": [
       "<Figure size 864x576 with 1 Axes>"
      ]
     },
     "metadata": {
      "needs_background": "light"
     },
     "output_type": "display_data"
    }
   ],
   "source": [
    "# Графическое представление\n",
    "data.pivot_table(\n",
    "    index = 'tariff',\n",
    "    values = ['duration', 'minutes_included', 'messages_count', 'messages_included', 'gb_sum', 'gb_per_month_included','total_pay', 'rub_monthly_fee']\n",
    ").plot(kind='bar', figsize=(12, 8))\n",
    "plt.xlabel('Тариф/услуга/оплата')\n",
    "plt.ylabel('Среднее значение в руб')\n",
    "plt.title('Оплата по тарифам', fontsize=20)\n"
   ]
  },
  {
   "cell_type": "markdown",
   "metadata": {},
   "source": [
    "Из графиков наглядно видно, что в итоге пользователи тарифа Smart в среднем переплачивают за пользование услугами сверх пакета.\n",
    "Пользователи тарифа Ultra в среднем тоже переплачивают, но незначительно.\n"
   ]
  },
  {
   "cell_type": "code",
   "execution_count": 51,
   "metadata": {},
   "outputs": [
    {
     "data": {
      "text/html": [
       "<style  type=\"text/css\" >\n",
       "</style><table id=\"T_00d79_\" ><thead>    <tr>        <th class=\"blank\" ></th>        <th class=\"blank level0\" ></th>        <th class=\"col_heading level0 col0\" colspan=\"8\">mean</th>    </tr>    <tr>        <th class=\"blank\" ></th>        <th class=\"blank level1\" ></th>        <th class=\"col_heading level1 col0\" >duration</th>        <th class=\"col_heading level1 col1\" >gb_per_month_included</th>        <th class=\"col_heading level1 col2\" >gb_sum</th>        <th class=\"col_heading level1 col3\" >messages_count</th>        <th class=\"col_heading level1 col4\" >messages_included</th>        <th class=\"col_heading level1 col5\" >minutes_included</th>        <th class=\"col_heading level1 col6\" >rub_monthly_fee</th>        <th class=\"col_heading level1 col7\" >total_pay</th>    </tr>    <tr>        <th class=\"index_name level0\" >tariff</th>        <th class=\"index_name level1\" >month</th>        <th class=\"blank\" ></th>        <th class=\"blank\" ></th>        <th class=\"blank\" ></th>        <th class=\"blank\" ></th>        <th class=\"blank\" ></th>        <th class=\"blank\" ></th>        <th class=\"blank\" ></th>        <th class=\"blank\" ></th>    </tr></thead><tbody>\n",
       "                <tr>\n",
       "                        <th id=\"T_00d79_level0_row0\" class=\"row_heading level0 row0\" rowspan=\"12\">smart</th>\n",
       "                        <th id=\"T_00d79_level1_row0\" class=\"row_heading level1 row0\" >1.0</th>\n",
       "                        <td id=\"T_00d79_row0_col0\" class=\"data row0 col0\" >203.85</td>\n",
       "                        <td id=\"T_00d79_row0_col1\" class=\"data row0 col1\" >15.00</td>\n",
       "                        <td id=\"T_00d79_row0_col2\" class=\"data row0 col2\" >8.74</td>\n",
       "                        <td id=\"T_00d79_row0_col3\" class=\"data row0 col3\" >18.24</td>\n",
       "                        <td id=\"T_00d79_row0_col4\" class=\"data row0 col4\" >50.00</td>\n",
       "                        <td id=\"T_00d79_row0_col5\" class=\"data row0 col5\" >500.00</td>\n",
       "                        <td id=\"T_00d79_row0_col6\" class=\"data row0 col6\" >550.00</td>\n",
       "                        <td id=\"T_00d79_row0_col7\" class=\"data row0 col7\" >721.32</td>\n",
       "            </tr>\n",
       "            <tr>\n",
       "                                <th id=\"T_00d79_level1_row1\" class=\"row_heading level1 row1\" >2.0</th>\n",
       "                        <td id=\"T_00d79_row1_col0\" class=\"data row1 col0\" >298.69</td>\n",
       "                        <td id=\"T_00d79_row1_col1\" class=\"data row1 col1\" >15.00</td>\n",
       "                        <td id=\"T_00d79_row1_col2\" class=\"data row1 col2\" >11.84</td>\n",
       "                        <td id=\"T_00d79_row1_col3\" class=\"data row1 col3\" >24.09</td>\n",
       "                        <td id=\"T_00d79_row1_col4\" class=\"data row1 col4\" >50.00</td>\n",
       "                        <td id=\"T_00d79_row1_col5\" class=\"data row1 col5\" >500.00</td>\n",
       "                        <td id=\"T_00d79_row1_col6\" class=\"data row1 col6\" >550.00</td>\n",
       "                        <td id=\"T_00d79_row1_col7\" class=\"data row1 col7\" >827.60</td>\n",
       "            </tr>\n",
       "            <tr>\n",
       "                                <th id=\"T_00d79_level1_row2\" class=\"row_heading level1 row2\" >3.0</th>\n",
       "                        <td id=\"T_00d79_row2_col0\" class=\"data row2 col0\" >390.05</td>\n",
       "                        <td id=\"T_00d79_row2_col1\" class=\"data row2 col1\" >15.00</td>\n",
       "                        <td id=\"T_00d79_row2_col2\" class=\"data row2 col2\" >15.23</td>\n",
       "                        <td id=\"T_00d79_row2_col3\" class=\"data row2 col3\" >31.86</td>\n",
       "                        <td id=\"T_00d79_row2_col4\" class=\"data row2 col4\" >50.00</td>\n",
       "                        <td id=\"T_00d79_row2_col5\" class=\"data row2 col5\" >500.00</td>\n",
       "                        <td id=\"T_00d79_row2_col6\" class=\"data row2 col6\" >550.00</td>\n",
       "                        <td id=\"T_00d79_row2_col7\" class=\"data row2 col7\" >1164.62</td>\n",
       "            </tr>\n",
       "            <tr>\n",
       "                                <th id=\"T_00d79_level1_row3\" class=\"row_heading level1 row3\" >4.0</th>\n",
       "                        <td id=\"T_00d79_row3_col0\" class=\"data row3 col0\" >367.13</td>\n",
       "                        <td id=\"T_00d79_row3_col1\" class=\"data row3 col1\" >15.00</td>\n",
       "                        <td id=\"T_00d79_row3_col2\" class=\"data row3 col2\" >13.62</td>\n",
       "                        <td id=\"T_00d79_row3_col3\" class=\"data row3 col3\" >30.74</td>\n",
       "                        <td id=\"T_00d79_row3_col4\" class=\"data row3 col4\" >50.00</td>\n",
       "                        <td id=\"T_00d79_row3_col5\" class=\"data row3 col5\" >500.00</td>\n",
       "                        <td id=\"T_00d79_row3_col6\" class=\"data row3 col6\" >550.00</td>\n",
       "                        <td id=\"T_00d79_row3_col7\" class=\"data row3 col7\" >963.09</td>\n",
       "            </tr>\n",
       "            <tr>\n",
       "                                <th id=\"T_00d79_level1_row4\" class=\"row_heading level1 row4\" >5.0</th>\n",
       "                        <td id=\"T_00d79_row4_col0\" class=\"data row4 col0\" >387.36</td>\n",
       "                        <td id=\"T_00d79_row4_col1\" class=\"data row4 col1\" >15.00</td>\n",
       "                        <td id=\"T_00d79_row4_col2\" class=\"data row4 col2\" >15.91</td>\n",
       "                        <td id=\"T_00d79_row4_col3\" class=\"data row4 col3\" >33.77</td>\n",
       "                        <td id=\"T_00d79_row4_col4\" class=\"data row4 col4\" >50.00</td>\n",
       "                        <td id=\"T_00d79_row4_col5\" class=\"data row4 col5\" >500.00</td>\n",
       "                        <td id=\"T_00d79_row4_col6\" class=\"data row4 col6\" >550.00</td>\n",
       "                        <td id=\"T_00d79_row4_col7\" class=\"data row4 col7\" >1197.51</td>\n",
       "            </tr>\n",
       "            <tr>\n",
       "                                <th id=\"T_00d79_level1_row5\" class=\"row_heading level1 row5\" >6.0</th>\n",
       "                        <td id=\"T_00d79_row5_col0\" class=\"data row5 col0\" >395.64</td>\n",
       "                        <td id=\"T_00d79_row5_col1\" class=\"data row5 col1\" >15.00</td>\n",
       "                        <td id=\"T_00d79_row5_col2\" class=\"data row5 col2\" >15.95</td>\n",
       "                        <td id=\"T_00d79_row5_col3\" class=\"data row5 col3\" >33.40</td>\n",
       "                        <td id=\"T_00d79_row5_col4\" class=\"data row5 col4\" >50.00</td>\n",
       "                        <td id=\"T_00d79_row5_col5\" class=\"data row5 col5\" >500.00</td>\n",
       "                        <td id=\"T_00d79_row5_col6\" class=\"data row5 col6\" >550.00</td>\n",
       "                        <td id=\"T_00d79_row5_col7\" class=\"data row5 col7\" >1204.02</td>\n",
       "            </tr>\n",
       "            <tr>\n",
       "                                <th id=\"T_00d79_level1_row6\" class=\"row_heading level1 row6\" >7.0</th>\n",
       "                        <td id=\"T_00d79_row6_col0\" class=\"data row6 col0\" >408.35</td>\n",
       "                        <td id=\"T_00d79_row6_col1\" class=\"data row6 col1\" >15.00</td>\n",
       "                        <td id=\"T_00d79_row6_col2\" class=\"data row6 col2\" >15.88</td>\n",
       "                        <td id=\"T_00d79_row6_col3\" class=\"data row6 col3\" >33.75</td>\n",
       "                        <td id=\"T_00d79_row6_col4\" class=\"data row6 col4\" >50.00</td>\n",
       "                        <td id=\"T_00d79_row6_col5\" class=\"data row6 col5\" >500.00</td>\n",
       "                        <td id=\"T_00d79_row6_col6\" class=\"data row6 col6\" >550.00</td>\n",
       "                        <td id=\"T_00d79_row6_col7\" class=\"data row6 col7\" >1223.95</td>\n",
       "            </tr>\n",
       "            <tr>\n",
       "                                <th id=\"T_00d79_level1_row7\" class=\"row_heading level1 row7\" >8.0</th>\n",
       "                        <td id=\"T_00d79_row7_col0\" class=\"data row7 col0\" >421.47</td>\n",
       "                        <td id=\"T_00d79_row7_col1\" class=\"data row7 col1\" >15.00</td>\n",
       "                        <td id=\"T_00d79_row7_col2\" class=\"data row7 col2\" >16.74</td>\n",
       "                        <td id=\"T_00d79_row7_col3\" class=\"data row7 col3\" >33.64</td>\n",
       "                        <td id=\"T_00d79_row7_col4\" class=\"data row7 col4\" >50.00</td>\n",
       "                        <td id=\"T_00d79_row7_col5\" class=\"data row7 col5\" >500.00</td>\n",
       "                        <td id=\"T_00d79_row7_col6\" class=\"data row7 col6\" >550.00</td>\n",
       "                        <td id=\"T_00d79_row7_col7\" class=\"data row7 col7\" >1320.60</td>\n",
       "            </tr>\n",
       "            <tr>\n",
       "                                <th id=\"T_00d79_level1_row8\" class=\"row_heading level1 row8\" >9.0</th>\n",
       "                        <td id=\"T_00d79_row8_col0\" class=\"data row8 col0\" >428.61</td>\n",
       "                        <td id=\"T_00d79_row8_col1\" class=\"data row8 col1\" >15.00</td>\n",
       "                        <td id=\"T_00d79_row8_col2\" class=\"data row8 col2\" >16.39</td>\n",
       "                        <td id=\"T_00d79_row8_col3\" class=\"data row8 col3\" >33.64</td>\n",
       "                        <td id=\"T_00d79_row8_col4\" class=\"data row8 col4\" >50.00</td>\n",
       "                        <td id=\"T_00d79_row8_col5\" class=\"data row8 col5\" >500.00</td>\n",
       "                        <td id=\"T_00d79_row8_col6\" class=\"data row8 col6\" >550.00</td>\n",
       "                        <td id=\"T_00d79_row8_col7\" class=\"data row8 col7\" >1249.95</td>\n",
       "            </tr>\n",
       "            <tr>\n",
       "                                <th id=\"T_00d79_level1_row9\" class=\"row_heading level1 row9\" >10.0</th>\n",
       "                        <td id=\"T_00d79_row9_col0\" class=\"data row9 col0\" >426.14</td>\n",
       "                        <td id=\"T_00d79_row9_col1\" class=\"data row9 col1\" >15.00</td>\n",
       "                        <td id=\"T_00d79_row9_col2\" class=\"data row9 col2\" >16.88</td>\n",
       "                        <td id=\"T_00d79_row9_col3\" class=\"data row9 col3\" >33.77</td>\n",
       "                        <td id=\"T_00d79_row9_col4\" class=\"data row9 col4\" >50.00</td>\n",
       "                        <td id=\"T_00d79_row9_col5\" class=\"data row9 col5\" >500.00</td>\n",
       "                        <td id=\"T_00d79_row9_col6\" class=\"data row9 col6\" >550.00</td>\n",
       "                        <td id=\"T_00d79_row9_col7\" class=\"data row9 col7\" >1364.85</td>\n",
       "            </tr>\n",
       "            <tr>\n",
       "                                <th id=\"T_00d79_level1_row10\" class=\"row_heading level1 row10\" >11.0</th>\n",
       "                        <td id=\"T_00d79_row10_col0\" class=\"data row10 col0\" >435.27</td>\n",
       "                        <td id=\"T_00d79_row10_col1\" class=\"data row10 col1\" >15.00</td>\n",
       "                        <td id=\"T_00d79_row10_col2\" class=\"data row10 col2\" >17.00</td>\n",
       "                        <td id=\"T_00d79_row10_col3\" class=\"data row10 col3\" >34.08</td>\n",
       "                        <td id=\"T_00d79_row10_col4\" class=\"data row10 col4\" >50.00</td>\n",
       "                        <td id=\"T_00d79_row10_col5\" class=\"data row10 col5\" >500.00</td>\n",
       "                        <td id=\"T_00d79_row10_col6\" class=\"data row10 col6\" >550.00</td>\n",
       "                        <td id=\"T_00d79_row10_col7\" class=\"data row10 col7\" >1343.05</td>\n",
       "            </tr>\n",
       "            <tr>\n",
       "                                <th id=\"T_00d79_level1_row11\" class=\"row_heading level1 row11\" >12.0</th>\n",
       "                        <td id=\"T_00d79_row11_col0\" class=\"data row11 col0\" >478.56</td>\n",
       "                        <td id=\"T_00d79_row11_col1\" class=\"data row11 col1\" >15.00</td>\n",
       "                        <td id=\"T_00d79_row11_col2\" class=\"data row11 col2\" >18.20</td>\n",
       "                        <td id=\"T_00d79_row11_col3\" class=\"data row11 col3\" >35.99</td>\n",
       "                        <td id=\"T_00d79_row11_col4\" class=\"data row11 col4\" >50.00</td>\n",
       "                        <td id=\"T_00d79_row11_col5\" class=\"data row11 col5\" >500.00</td>\n",
       "                        <td id=\"T_00d79_row11_col6\" class=\"data row11 col6\" >550.00</td>\n",
       "                        <td id=\"T_00d79_row11_col7\" class=\"data row11 col7\" >1578.53</td>\n",
       "            </tr>\n",
       "            <tr>\n",
       "                        <th id=\"T_00d79_level0_row12\" class=\"row_heading level0 row12\" rowspan=\"12\">ultra</th>\n",
       "                        <th id=\"T_00d79_level1_row12\" class=\"row_heading level1 row12\" >1.0</th>\n",
       "                        <td id=\"T_00d79_row12_col0\" class=\"data row12 col0\" >428.11</td>\n",
       "                        <td id=\"T_00d79_row12_col1\" class=\"data row12 col1\" >30.00</td>\n",
       "                        <td id=\"T_00d79_row12_col2\" class=\"data row12 col2\" >13.22</td>\n",
       "                        <td id=\"T_00d79_row12_col3\" class=\"data row12 col3\" >33.78</td>\n",
       "                        <td id=\"T_00d79_row12_col4\" class=\"data row12 col4\" >1000.00</td>\n",
       "                        <td id=\"T_00d79_row12_col5\" class=\"data row12 col5\" >3000.00</td>\n",
       "                        <td id=\"T_00d79_row12_col6\" class=\"data row12 col6\" >1950.00</td>\n",
       "                        <td id=\"T_00d79_row12_col7\" class=\"data row12 col7\" >1950.00</td>\n",
       "            </tr>\n",
       "            <tr>\n",
       "                                <th id=\"T_00d79_level1_row13\" class=\"row_heading level1 row13\" >2.0</th>\n",
       "                        <td id=\"T_00d79_row13_col0\" class=\"data row13 col0\" >297.12</td>\n",
       "                        <td id=\"T_00d79_row13_col1\" class=\"data row13 col1\" >30.00</td>\n",
       "                        <td id=\"T_00d79_row13_col2\" class=\"data row13 col2\" >12.00</td>\n",
       "                        <td id=\"T_00d79_row13_col3\" class=\"data row13 col3\" >21.96</td>\n",
       "                        <td id=\"T_00d79_row13_col4\" class=\"data row13 col4\" >1000.00</td>\n",
       "                        <td id=\"T_00d79_row13_col5\" class=\"data row13 col5\" >3000.00</td>\n",
       "                        <td id=\"T_00d79_row13_col6\" class=\"data row13 col6\" >1950.00</td>\n",
       "                        <td id=\"T_00d79_row13_col7\" class=\"data row13 col7\" >1975.00</td>\n",
       "            </tr>\n",
       "            <tr>\n",
       "                                <th id=\"T_00d79_level1_row14\" class=\"row_heading level1 row14\" >3.0</th>\n",
       "                        <td id=\"T_00d79_row14_col0\" class=\"data row14 col0\" >489.65</td>\n",
       "                        <td id=\"T_00d79_row14_col1\" class=\"data row14 col1\" >30.00</td>\n",
       "                        <td id=\"T_00d79_row14_col2\" class=\"data row14 col2\" >17.65</td>\n",
       "                        <td id=\"T_00d79_row14_col3\" class=\"data row14 col3\" >32.30</td>\n",
       "                        <td id=\"T_00d79_row14_col4\" class=\"data row14 col4\" >1000.00</td>\n",
       "                        <td id=\"T_00d79_row14_col5\" class=\"data row14 col5\" >3000.00</td>\n",
       "                        <td id=\"T_00d79_row14_col6\" class=\"data row14 col6\" >1950.00</td>\n",
       "                        <td id=\"T_00d79_row14_col7\" class=\"data row14 col7\" >2014.86</td>\n",
       "            </tr>\n",
       "            <tr>\n",
       "                                <th id=\"T_00d79_level1_row15\" class=\"row_heading level1 row15\" >4.0</th>\n",
       "                        <td id=\"T_00d79_row15_col0\" class=\"data row15 col0\" >458.02</td>\n",
       "                        <td id=\"T_00d79_row15_col1\" class=\"data row15 col1\" >30.00</td>\n",
       "                        <td id=\"T_00d79_row15_col2\" class=\"data row15 col2\" >16.96</td>\n",
       "                        <td id=\"T_00d79_row15_col3\" class=\"data row15 col3\" >31.56</td>\n",
       "                        <td id=\"T_00d79_row15_col4\" class=\"data row15 col4\" >1000.00</td>\n",
       "                        <td id=\"T_00d79_row15_col5\" class=\"data row15 col5\" >3000.00</td>\n",
       "                        <td id=\"T_00d79_row15_col6\" class=\"data row15 col6\" >1950.00</td>\n",
       "                        <td id=\"T_00d79_row15_col7\" class=\"data row15 col7\" >2001.82</td>\n",
       "            </tr>\n",
       "            <tr>\n",
       "                                <th id=\"T_00d79_level1_row16\" class=\"row_heading level1 row16\" >5.0</th>\n",
       "                        <td id=\"T_00d79_row16_col0\" class=\"data row16 col0\" >510.33</td>\n",
       "                        <td id=\"T_00d79_row16_col1\" class=\"data row16 col1\" >30.00</td>\n",
       "                        <td id=\"T_00d79_row16_col2\" class=\"data row16 col2\" >19.37</td>\n",
       "                        <td id=\"T_00d79_row16_col3\" class=\"data row16 col3\" >37.85</td>\n",
       "                        <td id=\"T_00d79_row16_col4\" class=\"data row16 col4\" >1000.00</td>\n",
       "                        <td id=\"T_00d79_row16_col5\" class=\"data row16 col5\" >3000.00</td>\n",
       "                        <td id=\"T_00d79_row16_col6\" class=\"data row16 col6\" >1950.00</td>\n",
       "                        <td id=\"T_00d79_row16_col7\" class=\"data row16 col7\" >2059.70</td>\n",
       "            </tr>\n",
       "            <tr>\n",
       "                                <th id=\"T_00d79_level1_row17\" class=\"row_heading level1 row17\" >6.0</th>\n",
       "                        <td id=\"T_00d79_row17_col0\" class=\"data row17 col0\" >479.70</td>\n",
       "                        <td id=\"T_00d79_row17_col1\" class=\"data row17 col1\" >30.00</td>\n",
       "                        <td id=\"T_00d79_row17_col2\" class=\"data row17 col2\" >18.94</td>\n",
       "                        <td id=\"T_00d79_row17_col3\" class=\"data row17 col3\" >41.73</td>\n",
       "                        <td id=\"T_00d79_row17_col4\" class=\"data row17 col4\" >1000.00</td>\n",
       "                        <td id=\"T_00d79_row17_col5\" class=\"data row17 col5\" >3000.00</td>\n",
       "                        <td id=\"T_00d79_row17_col6\" class=\"data row17 col6\" >1950.00</td>\n",
       "                        <td id=\"T_00d79_row17_col7\" class=\"data row17 col7\" >2039.29</td>\n",
       "            </tr>\n",
       "            <tr>\n",
       "                                <th id=\"T_00d79_level1_row18\" class=\"row_heading level1 row18\" >7.0</th>\n",
       "                        <td id=\"T_00d79_row18_col0\" class=\"data row18 col0\" >545.79</td>\n",
       "                        <td id=\"T_00d79_row18_col1\" class=\"data row18 col1\" >30.00</td>\n",
       "                        <td id=\"T_00d79_row18_col2\" class=\"data row18 col2\" >20.51</td>\n",
       "                        <td id=\"T_00d79_row18_col3\" class=\"data row18 col3\" >49.85</td>\n",
       "                        <td id=\"T_00d79_row18_col4\" class=\"data row18 col4\" >1000.00</td>\n",
       "                        <td id=\"T_00d79_row18_col5\" class=\"data row18 col5\" >3000.00</td>\n",
       "                        <td id=\"T_00d79_row18_col6\" class=\"data row18 col6\" >1950.00</td>\n",
       "                        <td id=\"T_00d79_row18_col7\" class=\"data row18 col7\" >2118.13</td>\n",
       "            </tr>\n",
       "            <tr>\n",
       "                                <th id=\"T_00d79_level1_row19\" class=\"row_heading level1 row19\" >8.0</th>\n",
       "                        <td id=\"T_00d79_row19_col0\" class=\"data row19 col0\" >510.78</td>\n",
       "                        <td id=\"T_00d79_row19_col1\" class=\"data row19 col1\" >30.00</td>\n",
       "                        <td id=\"T_00d79_row19_col2\" class=\"data row19 col2\" >19.60</td>\n",
       "                        <td id=\"T_00d79_row19_col3\" class=\"data row19 col3\" >48.44</td>\n",
       "                        <td id=\"T_00d79_row19_col4\" class=\"data row19 col4\" >1000.00</td>\n",
       "                        <td id=\"T_00d79_row19_col5\" class=\"data row19 col5\" >3000.00</td>\n",
       "                        <td id=\"T_00d79_row19_col6\" class=\"data row19 col6\" >1950.00</td>\n",
       "                        <td id=\"T_00d79_row19_col7\" class=\"data row19 col7\" >2083.18</td>\n",
       "            </tr>\n",
       "            <tr>\n",
       "                                <th id=\"T_00d79_level1_row20\" class=\"row_heading level1 row20\" >9.0</th>\n",
       "                        <td id=\"T_00d79_row20_col0\" class=\"data row20 col0\" >539.44</td>\n",
       "                        <td id=\"T_00d79_row20_col1\" class=\"data row20 col1\" >30.00</td>\n",
       "                        <td id=\"T_00d79_row20_col2\" class=\"data row20 col2\" >19.24</td>\n",
       "                        <td id=\"T_00d79_row20_col3\" class=\"data row20 col3\" >52.29</td>\n",
       "                        <td id=\"T_00d79_row20_col4\" class=\"data row20 col4\" >1000.00</td>\n",
       "                        <td id=\"T_00d79_row20_col5\" class=\"data row20 col5\" >3000.00</td>\n",
       "                        <td id=\"T_00d79_row20_col6\" class=\"data row20 col6\" >1950.00</td>\n",
       "                        <td id=\"T_00d79_row20_col7\" class=\"data row20 col7\" >2024.35</td>\n",
       "            </tr>\n",
       "            <tr>\n",
       "                                <th id=\"T_00d79_level1_row21\" class=\"row_heading level1 row21\" >10.0</th>\n",
       "                        <td id=\"T_00d79_row21_col0\" class=\"data row21 col0\" >558.08</td>\n",
       "                        <td id=\"T_00d79_row21_col1\" class=\"data row21 col1\" >30.00</td>\n",
       "                        <td id=\"T_00d79_row21_col2\" class=\"data row21 col2\" >20.07</td>\n",
       "                        <td id=\"T_00d79_row21_col3\" class=\"data row21 col3\" >58.43</td>\n",
       "                        <td id=\"T_00d79_row21_col4\" class=\"data row21 col4\" >1000.00</td>\n",
       "                        <td id=\"T_00d79_row21_col5\" class=\"data row21 col5\" >3000.00</td>\n",
       "                        <td id=\"T_00d79_row21_col6\" class=\"data row21 col6\" >1950.00</td>\n",
       "                        <td id=\"T_00d79_row21_col7\" class=\"data row21 col7\" >2065.85</td>\n",
       "            </tr>\n",
       "            <tr>\n",
       "                                <th id=\"T_00d79_level1_row22\" class=\"row_heading level1 row22\" >11.0</th>\n",
       "                        <td id=\"T_00d79_row22_col0\" class=\"data row22 col0\" >541.38</td>\n",
       "                        <td id=\"T_00d79_row22_col1\" class=\"data row22 col1\" >30.00</td>\n",
       "                        <td id=\"T_00d79_row22_col2\" class=\"data row22 col2\" >19.81</td>\n",
       "                        <td id=\"T_00d79_row22_col3\" class=\"data row22 col3\" >55.79</td>\n",
       "                        <td id=\"T_00d79_row22_col4\" class=\"data row22 col4\" >1000.00</td>\n",
       "                        <td id=\"T_00d79_row22_col5\" class=\"data row22 col5\" >3000.00</td>\n",
       "                        <td id=\"T_00d79_row22_col6\" class=\"data row22 col6\" >1950.00</td>\n",
       "                        <td id=\"T_00d79_row22_col7\" class=\"data row22 col7\" >2092.16</td>\n",
       "            </tr>\n",
       "            <tr>\n",
       "                                <th id=\"T_00d79_level1_row23\" class=\"row_heading level1 row23\" >12.0</th>\n",
       "                        <td id=\"T_00d79_row23_col0\" class=\"data row23 col0\" >592.81</td>\n",
       "                        <td id=\"T_00d79_row23_col1\" class=\"data row23 col1\" >30.00</td>\n",
       "                        <td id=\"T_00d79_row23_col2\" class=\"data row23 col2\" >21.74</td>\n",
       "                        <td id=\"T_00d79_row23_col3\" class=\"data row23 col3\" >60.61</td>\n",
       "                        <td id=\"T_00d79_row23_col4\" class=\"data row23 col4\" >1000.00</td>\n",
       "                        <td id=\"T_00d79_row23_col5\" class=\"data row23 col5\" >3000.00</td>\n",
       "                        <td id=\"T_00d79_row23_col6\" class=\"data row23 col6\" >1950.00</td>\n",
       "                        <td id=\"T_00d79_row23_col7\" class=\"data row23 col7\" >2138.85</td>\n",
       "            </tr>\n",
       "    </tbody></table>"
      ],
      "text/plain": [
       "<pandas.io.formats.style.Styler at 0x7f40861507f0>"
      ]
     },
     "execution_count": 51,
     "metadata": {},
     "output_type": "execute_result"
    }
   ],
   "source": [
    "# Посмотрим сводную таблицу по тарифам и по месяцам\n",
    "data.pivot_table(\n",
    "    index = ['tariff','month'],\n",
    "    values = ['duration', 'minutes_included', 'messages_count', 'messages_included', 'gb_sum', 'gb_per_month_included','total_pay', 'rub_monthly_fee'],\n",
    "    aggfunc = ['mean']\n",
    "\n",
    ").style.format('{0:.2f}')"
   ]
  },
  {
   "cell_type": "code",
   "execution_count": 52,
   "metadata": {},
   "outputs": [
    {
     "data": {
      "text/html": [
       "<style  type=\"text/css\" >\n",
       "</style><table id=\"T_e39ec_\" ><thead>    <tr>        <th class=\"blank level0\" ></th>        <th class=\"col_heading level0 col0\" colspan=\"8\">sum</th>        <th class=\"col_heading level0 col8\" colspan=\"8\">mean</th>    </tr>    <tr>        <th class=\"blank level1\" ></th>        <th class=\"col_heading level1 col0\" >duration</th>        <th class=\"col_heading level1 col1\" >gb_per_month_included</th>        <th class=\"col_heading level1 col2\" >gb_sum</th>        <th class=\"col_heading level1 col3\" >messages_count</th>        <th class=\"col_heading level1 col4\" >messages_included</th>        <th class=\"col_heading level1 col5\" >minutes_included</th>        <th class=\"col_heading level1 col6\" >rub_monthly_fee</th>        <th class=\"col_heading level1 col7\" >total_pay</th>        <th class=\"col_heading level1 col8\" >duration</th>        <th class=\"col_heading level1 col9\" >gb_per_month_included</th>        <th class=\"col_heading level1 col10\" >gb_sum</th>        <th class=\"col_heading level1 col11\" >messages_count</th>        <th class=\"col_heading level1 col12\" >messages_included</th>        <th class=\"col_heading level1 col13\" >minutes_included</th>        <th class=\"col_heading level1 col14\" >rub_monthly_fee</th>        <th class=\"col_heading level1 col15\" >total_pay</th>    </tr>    <tr>        <th class=\"index_name level0\" >tariff</th>        <th class=\"blank\" ></th>        <th class=\"blank\" ></th>        <th class=\"blank\" ></th>        <th class=\"blank\" ></th>        <th class=\"blank\" ></th>        <th class=\"blank\" ></th>        <th class=\"blank\" ></th>        <th class=\"blank\" ></th>        <th class=\"blank\" ></th>        <th class=\"blank\" ></th>        <th class=\"blank\" ></th>        <th class=\"blank\" ></th>        <th class=\"blank\" ></th>        <th class=\"blank\" ></th>        <th class=\"blank\" ></th>        <th class=\"blank\" ></th>    </tr></thead><tbody>\n",
       "                <tr>\n",
       "                        <th id=\"T_e39ec_level0_row0\" class=\"row_heading level0 row0\" >smart</th>\n",
       "                        <td id=\"T_e39ec_row0_col0\" class=\"data row0 col0\" >931577.00</td>\n",
       "                        <td id=\"T_e39ec_row0_col1\" class=\"data row0 col1\" >33450.00</td>\n",
       "                        <td id=\"T_e39ec_row0_col2\" class=\"data row0 col2\" >36397.00</td>\n",
       "                        <td id=\"T_e39ec_row0_col3\" class=\"data row0 col3\" >74413.00</td>\n",
       "                        <td id=\"T_e39ec_row0_col4\" class=\"data row0 col4\" >111500.00</td>\n",
       "                        <td id=\"T_e39ec_row0_col5\" class=\"data row0 col5\" >1115000.00</td>\n",
       "                        <td id=\"T_e39ec_row0_col6\" class=\"data row0 col6\" >1226500.00</td>\n",
       "                        <td id=\"T_e39ec_row0_col7\" class=\"data row0 col7\" >2875901.00</td>\n",
       "                        <td id=\"T_e39ec_row0_col8\" class=\"data row0 col8\" >417.75</td>\n",
       "                        <td id=\"T_e39ec_row0_col9\" class=\"data row0 col9\" >15.00</td>\n",
       "                        <td id=\"T_e39ec_row0_col10\" class=\"data row0 col10\" >16.32</td>\n",
       "                        <td id=\"T_e39ec_row0_col11\" class=\"data row0 col11\" >33.37</td>\n",
       "                        <td id=\"T_e39ec_row0_col12\" class=\"data row0 col12\" >50.00</td>\n",
       "                        <td id=\"T_e39ec_row0_col13\" class=\"data row0 col13\" >500.00</td>\n",
       "                        <td id=\"T_e39ec_row0_col14\" class=\"data row0 col14\" >550.00</td>\n",
       "                        <td id=\"T_e39ec_row0_col15\" class=\"data row0 col15\" >1289.64</td>\n",
       "            </tr>\n",
       "            <tr>\n",
       "                        <th id=\"T_e39ec_level0_row1\" class=\"row_heading level0 row1\" >ultra</th>\n",
       "                        <td id=\"T_e39ec_row1_col0\" class=\"data row1 col0\" >518724.00</td>\n",
       "                        <td id=\"T_e39ec_row1_col1\" class=\"data row1 col1\" >29580.00</td>\n",
       "                        <td id=\"T_e39ec_row1_col2\" class=\"data row1 col2\" >19202.00</td>\n",
       "                        <td id=\"T_e39ec_row1_col3\" class=\"data row1 col3\" >48623.00</td>\n",
       "                        <td id=\"T_e39ec_row1_col4\" class=\"data row1 col4\" >986000.00</td>\n",
       "                        <td id=\"T_e39ec_row1_col5\" class=\"data row1 col5\" >2958000.00</td>\n",
       "                        <td id=\"T_e39ec_row1_col6\" class=\"data row1 col6\" >1922700.00</td>\n",
       "                        <td id=\"T_e39ec_row1_col7\" class=\"data row1 col7\" >2041050.00</td>\n",
       "                        <td id=\"T_e39ec_row1_col8\" class=\"data row1 col8\" >526.09</td>\n",
       "                        <td id=\"T_e39ec_row1_col9\" class=\"data row1 col9\" >30.00</td>\n",
       "                        <td id=\"T_e39ec_row1_col10\" class=\"data row1 col10\" >19.47</td>\n",
       "                        <td id=\"T_e39ec_row1_col11\" class=\"data row1 col11\" >49.31</td>\n",
       "                        <td id=\"T_e39ec_row1_col12\" class=\"data row1 col12\" >1000.00</td>\n",
       "                        <td id=\"T_e39ec_row1_col13\" class=\"data row1 col13\" >3000.00</td>\n",
       "                        <td id=\"T_e39ec_row1_col14\" class=\"data row1 col14\" >1950.00</td>\n",
       "                        <td id=\"T_e39ec_row1_col15\" class=\"data row1 col15\" >2070.03</td>\n",
       "            </tr>\n",
       "    </tbody></table>"
      ],
      "text/plain": [
       "<pandas.io.formats.style.Styler at 0x7f40860ed070>"
      ]
     },
     "execution_count": 52,
     "metadata": {},
     "output_type": "execute_result"
    }
   ],
   "source": [
    "data.pivot_table(\n",
    "    index = ['tariff'],\n",
    "    values = ['duration', 'minutes_included', 'messages_count', 'messages_included', 'gb_sum', 'gb_per_month_included','total_pay', 'rub_monthly_fee'],\n",
    "    aggfunc = ['sum','mean']\n",
    "\n",
    ").style.format('{0:.2f}')"
   ]
  },
  {
   "cell_type": "markdown",
   "metadata": {},
   "source": [
    "#### Сколько минут разговора "
   ]
  },
  {
   "cell_type": "code",
   "execution_count": 53,
   "metadata": {},
   "outputs": [
    {
     "data": {
      "text/html": [
       "<div>\n",
       "<style scoped>\n",
       "    .dataframe tbody tr th:only-of-type {\n",
       "        vertical-align: middle;\n",
       "    }\n",
       "\n",
       "    .dataframe tbody tr th {\n",
       "        vertical-align: top;\n",
       "    }\n",
       "\n",
       "    .dataframe thead tr th {\n",
       "        text-align: left;\n",
       "    }\n",
       "\n",
       "    .dataframe thead tr:last-of-type th {\n",
       "        text-align: right;\n",
       "    }\n",
       "</style>\n",
       "<table border=\"1\" class=\"dataframe\">\n",
       "  <thead>\n",
       "    <tr>\n",
       "      <th></th>\n",
       "      <th colspan=\"2\" halign=\"left\">mean</th>\n",
       "      <th colspan=\"2\" halign=\"left\">median</th>\n",
       "    </tr>\n",
       "    <tr>\n",
       "      <th></th>\n",
       "      <th>duration</th>\n",
       "      <th>minutes_included</th>\n",
       "      <th>duration</th>\n",
       "      <th>minutes_included</th>\n",
       "    </tr>\n",
       "    <tr>\n",
       "      <th>tariff</th>\n",
       "      <th></th>\n",
       "      <th></th>\n",
       "      <th></th>\n",
       "      <th></th>\n",
       "    </tr>\n",
       "  </thead>\n",
       "  <tbody>\n",
       "    <tr>\n",
       "      <th>smart</th>\n",
       "      <td>417.747534</td>\n",
       "      <td>500</td>\n",
       "      <td>421.5</td>\n",
       "      <td>500</td>\n",
       "    </tr>\n",
       "    <tr>\n",
       "      <th>ultra</th>\n",
       "      <td>526.089249</td>\n",
       "      <td>3000</td>\n",
       "      <td>518.0</td>\n",
       "      <td>3000</td>\n",
       "    </tr>\n",
       "  </tbody>\n",
       "</table>\n",
       "</div>"
      ],
      "text/plain": [
       "              mean                    median                 \n",
       "          duration minutes_included duration minutes_included\n",
       "tariff                                                       \n",
       "smart   417.747534              500    421.5              500\n",
       "ultra   526.089249             3000    518.0             3000"
      ]
     },
     "execution_count": 53,
     "metadata": {},
     "output_type": "execute_result"
    }
   ],
   "source": [
    "(\n",
    "data.pivot_table(\n",
    "    index='tariff',\n",
    "    values = ['duration', 'minutes_included'],\n",
    "    aggfunc = ['mean','median']\n",
    "                )\n",
    "#    .plot(kind='bar')\n",
    ")"
   ]
  },
  {
   "cell_type": "code",
   "execution_count": 54,
   "metadata": {},
   "outputs": [
    {
     "data": {
      "text/plain": [
       "Text(0.5, 1.0, 'Минуты')"
      ]
     },
     "execution_count": 54,
     "metadata": {},
     "output_type": "execute_result"
    },
    {
     "data": {
      "image/png": "[encoded data removed]",
      "text/plain": [
       "<Figure size 864x576 with 1 Axes>"
      ]
     },
     "metadata": {
      "needs_background": "light"
     },
     "output_type": "display_data"
    }
   ],
   "source": [
    "(\n",
    "data.pivot_table(\n",
    "    index='tariff',\n",
    "    values = ['duration', 'minutes_included'],\n",
    "    aggfunc = ['mean']\n",
    "                )\n",
    "    .plot(kind='bar',  figsize=(12, 8))\n",
    ")\n",
    "plt.xlabel('Минуты')\n",
    "plt.ylabel('Среднее значение в руб')\n",
    "plt.title('Минуты', fontsize=20)"
   ]
  },
  {
   "cell_type": "markdown",
   "metadata": {},
   "source": [
    "пользователи в среднем не превышают пакет минут"
   ]
  },
  {
   "cell_type": "markdown",
   "metadata": {},
   "source": [
    "#### сколько сообщений "
   ]
  },
  {
   "cell_type": "code",
   "execution_count": 55,
   "metadata": {},
   "outputs": [
    {
     "data": {
      "text/html": [
       "<div>\n",
       "<style scoped>\n",
       "    .dataframe tbody tr th:only-of-type {\n",
       "        vertical-align: middle;\n",
       "    }\n",
       "\n",
       "    .dataframe tbody tr th {\n",
       "        vertical-align: top;\n",
       "    }\n",
       "\n",
       "    .dataframe thead tr th {\n",
       "        text-align: left;\n",
       "    }\n",
       "\n",
       "    .dataframe thead tr:last-of-type th {\n",
       "        text-align: right;\n",
       "    }\n",
       "</style>\n",
       "<table border=\"1\" class=\"dataframe\">\n",
       "  <thead>\n",
       "    <tr>\n",
       "      <th></th>\n",
       "      <th colspan=\"2\" halign=\"left\">mean</th>\n",
       "      <th colspan=\"2\" halign=\"left\">median</th>\n",
       "    </tr>\n",
       "    <tr>\n",
       "      <th></th>\n",
       "      <th>messages_count</th>\n",
       "      <th>messages_included</th>\n",
       "      <th>messages_count</th>\n",
       "      <th>messages_included</th>\n",
       "    </tr>\n",
       "    <tr>\n",
       "      <th>tariff</th>\n",
       "      <th></th>\n",
       "      <th></th>\n",
       "      <th></th>\n",
       "      <th></th>\n",
       "    </tr>\n",
       "  </thead>\n",
       "  <tbody>\n",
       "    <tr>\n",
       "      <th>smart</th>\n",
       "      <td>33.369058</td>\n",
       "      <td>50</td>\n",
       "      <td>28.0</td>\n",
       "      <td>50</td>\n",
       "    </tr>\n",
       "    <tr>\n",
       "      <th>ultra</th>\n",
       "      <td>49.313387</td>\n",
       "      <td>1000</td>\n",
       "      <td>38.0</td>\n",
       "      <td>1000</td>\n",
       "    </tr>\n",
       "  </tbody>\n",
       "</table>\n",
       "</div>"
      ],
      "text/plain": [
       "                 mean                           median                  \n",
       "       messages_count messages_included messages_count messages_included\n",
       "tariff                                                                  \n",
       "smart       33.369058                50           28.0                50\n",
       "ultra       49.313387              1000           38.0              1000"
      ]
     },
     "execution_count": 55,
     "metadata": {},
     "output_type": "execute_result"
    }
   ],
   "source": [
    "# \n",
    "(\n",
    "data.pivot_table(\n",
    "    index='tariff',\n",
    "    values = ['messages_count', 'messages_included'],\n",
    "    aggfunc = ['mean','median']\n",
    "                )\n",
    "#    .plot(kind='bar')\n",
    ")"
   ]
  },
  {
   "cell_type": "markdown",
   "metadata": {},
   "source": [
    "не удивительно, но смсок в пакете пользователям тоже хватает на обоих тарифах"
   ]
  },
  {
   "cell_type": "markdown",
   "metadata": {},
   "source": [
    "#### какой объём интернет-трафика требуется пользователям каждого тарифа в месяц? "
   ]
  },
  {
   "cell_type": "code",
   "execution_count": 56,
   "metadata": {},
   "outputs": [
    {
     "data": {
      "text/html": [
       "<div>\n",
       "<style scoped>\n",
       "    .dataframe tbody tr th:only-of-type {\n",
       "        vertical-align: middle;\n",
       "    }\n",
       "\n",
       "    .dataframe tbody tr th {\n",
       "        vertical-align: top;\n",
       "    }\n",
       "\n",
       "    .dataframe thead tr th {\n",
       "        text-align: left;\n",
       "    }\n",
       "\n",
       "    .dataframe thead tr:last-of-type th {\n",
       "        text-align: right;\n",
       "    }\n",
       "</style>\n",
       "<table border=\"1\" class=\"dataframe\">\n",
       "  <thead>\n",
       "    <tr>\n",
       "      <th></th>\n",
       "      <th colspan=\"2\" halign=\"left\">mean</th>\n",
       "      <th colspan=\"2\" halign=\"left\">median</th>\n",
       "    </tr>\n",
       "    <tr>\n",
       "      <th></th>\n",
       "      <th>gb_per_month_included</th>\n",
       "      <th>gb_sum</th>\n",
       "      <th>gb_per_month_included</th>\n",
       "      <th>gb_sum</th>\n",
       "    </tr>\n",
       "    <tr>\n",
       "      <th>tariff</th>\n",
       "      <th></th>\n",
       "      <th></th>\n",
       "      <th></th>\n",
       "      <th></th>\n",
       "    </tr>\n",
       "  </thead>\n",
       "  <tbody>\n",
       "    <tr>\n",
       "      <th>smart</th>\n",
       "      <td>15.0</td>\n",
       "      <td>16.321525</td>\n",
       "      <td>15.0</td>\n",
       "      <td>17.0</td>\n",
       "    </tr>\n",
       "    <tr>\n",
       "      <th>ultra</th>\n",
       "      <td>30.0</td>\n",
       "      <td>19.474645</td>\n",
       "      <td>30.0</td>\n",
       "      <td>19.0</td>\n",
       "    </tr>\n",
       "  </tbody>\n",
       "</table>\n",
       "</div>"
      ],
      "text/plain": [
       "                        mean                           median       \n",
       "       gb_per_month_included     gb_sum gb_per_month_included gb_sum\n",
       "tariff                                                              \n",
       "smart                   15.0  16.321525                  15.0   17.0\n",
       "ultra                   30.0  19.474645                  30.0   19.0"
      ]
     },
     "execution_count": 56,
     "metadata": {},
     "output_type": "execute_result"
    }
   ],
   "source": [
    "(\n",
    "data.pivot_table(\n",
    "    index='tariff',\n",
    "    values = ['gb_sum', 'gb_per_month_included'],\n",
    "    aggfunc = ['mean','median']\n",
    "                )\n",
    "#    .plot(kind='bar')\n",
    ")"
   ]
  },
  {
   "cell_type": "code",
   "execution_count": 57,
   "metadata": {},
   "outputs": [
    {
     "data": {
      "text/plain": [
       "Text(0.5, 1.0, 'Смски')"
      ]
     },
     "execution_count": 57,
     "metadata": {},
     "output_type": "execute_result"
    },
    {
     "data": {
      "image/png": "[encoded data removed]",
      "text/plain": [
       "<Figure size 864x576 with 1 Axes>"
      ]
     },
     "metadata": {
      "needs_background": "light"
     },
     "output_type": "display_data"
    }
   ],
   "source": [
    "(\n",
    "data.pivot_table(\n",
    "    index='tariff',\n",
    "    values = ['gb_sum', 'gb_per_month_included'],\n",
    "    aggfunc = ['mean']\n",
    "                )\n",
    "    .plot(kind='bar',  figsize=(12, 8))\n",
    ")\n",
    "plt.xlabel('Сообщения')\n",
    "plt.ylabel('Среднее значение в руб')\n",
    "plt.title('Смски', fontsize=20)"
   ]
  },
  {
   "cell_type": "markdown",
   "metadata": {},
   "source": [
    "Пользователям тарифа Смарт не хватает пакета мегабайт, им приходится докупать\n",
    "\n",
    "Пользователи тарифа Ультра в общей своей массе не превышают пакета интрернет траффика\n",
    "\n",
    "\n"
   ]
  },
  {
   "cell_type": "markdown",
   "metadata": {},
   "source": [
    "### Статистики"
   ]
  },
  {
   "cell_type": "markdown",
   "metadata": {},
   "source": [
    "#### среднее количество"
   ]
  },
  {
   "cell_type": "code",
   "execution_count": 58,
   "metadata": {},
   "outputs": [
    {
     "data": {
      "text/html": [
       "<style  type=\"text/css\" >\n",
       "</style><table id=\"T_a0a59_\" ><thead>    <tr>        <th class=\"blank level0\" ></th>        <th class=\"col_heading level0 col0\" colspan=\"6\">mean</th>    </tr>    <tr>        <th class=\"blank level1\" ></th>        <th class=\"col_heading level1 col0\" >duration</th>        <th class=\"col_heading level1 col1\" >gb_per_month_included</th>        <th class=\"col_heading level1 col2\" >gb_sum</th>        <th class=\"col_heading level1 col3\" >messages_count</th>        <th class=\"col_heading level1 col4\" >messages_included</th>        <th class=\"col_heading level1 col5\" >minutes_included</th>    </tr>    <tr>        <th class=\"index_name level0\" >tariff</th>        <th class=\"blank\" ></th>        <th class=\"blank\" ></th>        <th class=\"blank\" ></th>        <th class=\"blank\" ></th>        <th class=\"blank\" ></th>        <th class=\"blank\" ></th>    </tr></thead><tbody>\n",
       "                <tr>\n",
       "                        <th id=\"T_a0a59_level0_row0\" class=\"row_heading level0 row0\" >smart</th>\n",
       "                        <td id=\"T_a0a59_row0_col0\" class=\"data row0 col0\" >417.75</td>\n",
       "                        <td id=\"T_a0a59_row0_col1\" class=\"data row0 col1\" >15.00</td>\n",
       "                        <td id=\"T_a0a59_row0_col2\" class=\"data row0 col2\" >16.32</td>\n",
       "                        <td id=\"T_a0a59_row0_col3\" class=\"data row0 col3\" >33.37</td>\n",
       "                        <td id=\"T_a0a59_row0_col4\" class=\"data row0 col4\" >50.00</td>\n",
       "                        <td id=\"T_a0a59_row0_col5\" class=\"data row0 col5\" >500.00</td>\n",
       "            </tr>\n",
       "            <tr>\n",
       "                        <th id=\"T_a0a59_level0_row1\" class=\"row_heading level0 row1\" >ultra</th>\n",
       "                        <td id=\"T_a0a59_row1_col0\" class=\"data row1 col0\" >526.09</td>\n",
       "                        <td id=\"T_a0a59_row1_col1\" class=\"data row1 col1\" >30.00</td>\n",
       "                        <td id=\"T_a0a59_row1_col2\" class=\"data row1 col2\" >19.47</td>\n",
       "                        <td id=\"T_a0a59_row1_col3\" class=\"data row1 col3\" >49.31</td>\n",
       "                        <td id=\"T_a0a59_row1_col4\" class=\"data row1 col4\" >1000.00</td>\n",
       "                        <td id=\"T_a0a59_row1_col5\" class=\"data row1 col5\" >3000.00</td>\n",
       "            </tr>\n",
       "    </tbody></table>"
      ],
      "text/plain": [
       "<pandas.io.formats.style.Styler at 0x7f40861133d0>"
      ]
     },
     "execution_count": 58,
     "metadata": {},
     "output_type": "execute_result"
    }
   ],
   "source": [
    "# Посмотрим среднее значение по минутам, смскам и гигабайтам для каждого тарифа\n",
    "data.pivot_table(\n",
    "    index = 'tariff',\n",
    "    values = ['duration', 'minutes_included', 'messages_count', 'messages_included', 'gb_sum', 'gb_per_month_included'],\n",
    "    aggfunc = ['mean']\n",
    "\n",
    ").style.format('{0:.2f}')\n"
   ]
  },
  {
   "cell_type": "markdown",
   "metadata": {},
   "source": [
    "####  дисперсия\n"
   ]
  },
  {
   "cell_type": "code",
   "execution_count": 59,
   "metadata": {},
   "outputs": [
    {
     "data": {
      "text/html": [
       "<style  type=\"text/css\" >\n",
       "</style><table id=\"T_f7a89_\" ><thead>    <tr>        <th class=\"blank level0\" ></th>        <th class=\"col_heading level0 col0\" colspan=\"4\">var</th>    </tr>    <tr>        <th class=\"blank level1\" ></th>        <th class=\"col_heading level1 col0\" >duration</th>        <th class=\"col_heading level1 col1\" >gb_sum</th>        <th class=\"col_heading level1 col2\" >messages_count</th>        <th class=\"col_heading level1 col3\" >total_pay</th>    </tr>    <tr>        <th class=\"index_name level0\" >tariff</th>        <th class=\"blank\" ></th>        <th class=\"blank\" ></th>        <th class=\"blank\" ></th>        <th class=\"blank\" ></th>    </tr></thead><tbody>\n",
       "                <tr>\n",
       "                        <th id=\"T_f7a89_level0_row0\" class=\"row_heading level0 row0\" >smart</th>\n",
       "                        <td id=\"T_f7a89_row0_col0\" class=\"data row0 col0\" >36281.39</td>\n",
       "                        <td id=\"T_f7a89_row0_col1\" class=\"data row0 col1\" >33.13</td>\n",
       "                        <td id=\"T_f7a89_row0_col2\" class=\"data row0 col2\" >796.96</td>\n",
       "                        <td id=\"T_f7a89_row0_col3\" class=\"data row0 col3\" >669730.76</td>\n",
       "            </tr>\n",
       "            <tr>\n",
       "                        <th id=\"T_f7a89_level0_row1\" class=\"row_heading level0 row1\" >ultra</th>\n",
       "                        <td id=\"T_f7a89_row1_col0\" class=\"data row1 col0\" >101052.49</td>\n",
       "                        <td id=\"T_f7a89_row1_col1\" class=\"data row1 col1\" >97.38</td>\n",
       "                        <td id=\"T_f7a89_row1_col2\" class=\"data row1 col2\" >2285.42</td>\n",
       "                        <td id=\"T_f7a89_row1_col3\" class=\"data row1 col3\" >141387.71</td>\n",
       "            </tr>\n",
       "    </tbody></table>"
      ],
      "text/plain": [
       "<pandas.io.formats.style.Styler at 0x7f408611ee20>"
      ]
     },
     "execution_count": 59,
     "metadata": {},
     "output_type": "execute_result"
    }
   ],
   "source": [
    "# опередлим дисперсии \n",
    "data.pivot_table(\n",
    "    index = 'tariff',\n",
    "    values = ['duration', 'messages_count','gb_sum', 'total_pay'],\n",
    "    aggfunc = ['var']\n",
    ").style.format('{0:.2f}')\n"
   ]
  },
  {
   "cell_type": "markdown",
   "metadata": {},
   "source": [
    "#### стандартное отклонение. \n"
   ]
  },
  {
   "cell_type": "code",
   "execution_count": 60,
   "metadata": {},
   "outputs": [
    {
     "data": {
      "text/html": [
       "<style  type=\"text/css\" >\n",
       "</style><table id=\"T_45bfc_\" ><thead>    <tr>        <th class=\"blank level0\" ></th>        <th class=\"col_heading level0 col0\" colspan=\"4\">std</th>    </tr>    <tr>        <th class=\"blank level1\" ></th>        <th class=\"col_heading level1 col0\" >duration</th>        <th class=\"col_heading level1 col1\" >gb_sum</th>        <th class=\"col_heading level1 col2\" >messages_count</th>        <th class=\"col_heading level1 col3\" >total_pay</th>    </tr>    <tr>        <th class=\"index_name level0\" >tariff</th>        <th class=\"blank\" ></th>        <th class=\"blank\" ></th>        <th class=\"blank\" ></th>        <th class=\"blank\" ></th>    </tr></thead><tbody>\n",
       "                <tr>\n",
       "                        <th id=\"T_45bfc_level0_row0\" class=\"row_heading level0 row0\" >smart</th>\n",
       "                        <td id=\"T_45bfc_row0_col0\" class=\"data row0 col0\" >190.48</td>\n",
       "                        <td id=\"T_45bfc_row0_col1\" class=\"data row0 col1\" >5.76</td>\n",
       "                        <td id=\"T_45bfc_row0_col2\" class=\"data row0 col2\" >28.23</td>\n",
       "                        <td id=\"T_45bfc_row0_col3\" class=\"data row0 col3\" >818.37</td>\n",
       "            </tr>\n",
       "            <tr>\n",
       "                        <th id=\"T_45bfc_level0_row1\" class=\"row_heading level0 row1\" >ultra</th>\n",
       "                        <td id=\"T_45bfc_row1_col0\" class=\"data row1 col0\" >317.89</td>\n",
       "                        <td id=\"T_45bfc_row1_col1\" class=\"data row1 col1\" >9.87</td>\n",
       "                        <td id=\"T_45bfc_row1_col2\" class=\"data row1 col2\" >47.81</td>\n",
       "                        <td id=\"T_45bfc_row1_col3\" class=\"data row1 col3\" >376.02</td>\n",
       "            </tr>\n",
       "    </tbody></table>"
      ],
      "text/plain": [
       "<pandas.io.formats.style.Styler at 0x7f40844d8fa0>"
      ]
     },
     "execution_count": 60,
     "metadata": {},
     "output_type": "execute_result"
    }
   ],
   "source": [
    "data.pivot_table(\n",
    "    index = 'tariff',\n",
    "    values = ['duration', 'messages_count','gb_sum','total_pay'],\n",
    "    aggfunc = ['std']\n",
    "\n",
    ").style.format('{0:.2f}')"
   ]
  },
  {
   "cell_type": "markdown",
   "metadata": {},
   "source": [
    "### Постройте гистограммы. "
   ]
  },
  {
   "cell_type": "markdown",
   "metadata": {},
   "source": [
    "#### Гистограммы по оплате"
   ]
  },
  {
   "cell_type": "code",
   "execution_count": 61,
   "metadata": {},
   "outputs": [
    {
     "data": {
      "text/plain": [
       "Text(0.5, 1.0, 'Распределение оплаты в мес')"
      ]
     },
     "execution_count": 61,
     "metadata": {},
     "output_type": "execute_result"
    },
    {
     "data": {
      "image/png": "[encoded data removed]",
      "text/plain": [
       "<Figure size 720x504 with 1 Axes>"
      ]
     },
     "metadata": {
      "needs_background": "light"
     },
     "output_type": "display_data"
    }
   ],
   "source": [
    "#sns.catpplt.grid(lot(x='tariff', y='total_pay', kind=\"box\", data=data)\n",
    "data.boxplot('total_pay', by='tariff', figsize=(10,7))\n",
    "plt.xlabel('Руб/мес')\n",
    "plt.title('Распределение оплаты в мес')"
   ]
  },
  {
   "cell_type": "markdown",
   "metadata": {},
   "source": [
    "Медианное значение по оплате у тарифа ультра больше, чем у смарта примерно в два раза, можно сказать, что тариф ультра выгоднее для оператора связи."
   ]
  },
  {
   "cell_type": "code",
   "execution_count": 62,
   "metadata": {},
   "outputs": [
    {
     "data": {
      "text/plain": [
       "<AxesSubplot:ylabel='Frequency'>"
      ]
     },
     "execution_count": 62,
     "metadata": {},
     "output_type": "execute_result"
    },
    {
     "data": {
      "image/png": "[encoded data removed]",
      "text/plain": [
       "<Figure size 432x288 with 1 Axes>"
      ]
     },
     "metadata": {
      "needs_background": "light"
     },
     "output_type": "display_data"
    }
   ],
   "source": [
    "# Гистограмма по оплате, тариф Смарт\n",
    "data.query('tariff == \"smart\"')['total_pay'].plot(kind='hist', bins=25)"
   ]
  },
  {
   "cell_type": "code",
   "execution_count": 63,
   "metadata": {},
   "outputs": [
    {
     "data": {
      "text/plain": [
       "count    2230.000000\n",
       "mean     1289.641704\n",
       "std       818.370799\n",
       "min       550.000000\n",
       "25%       550.000000\n",
       "50%      1021.000000\n",
       "75%      1750.000000\n",
       "max      6770.000000\n",
       "Name: total_pay, dtype: float64"
      ]
     },
     "execution_count": 63,
     "metadata": {},
     "output_type": "execute_result"
    }
   ],
   "source": [
    "data.query('tariff == \"smart\"')['total_pay'].describe()"
   ]
  },
  {
   "cell_type": "markdown",
   "metadata": {},
   "source": [
    "Пользователи тарифа Смарт часто вылезают из пакетов услуг и докупают их"
   ]
  },
  {
   "cell_type": "code",
   "execution_count": 64,
   "metadata": {},
   "outputs": [
    {
     "data": {
      "text/plain": [
       "<AxesSubplot:ylabel='Frequency'>"
      ]
     },
     "execution_count": 64,
     "metadata": {},
     "output_type": "execute_result"
    },
    {
     "data": {
      "image/png": "[encoded data removed]",
      "text/plain": [
       "<Figure size 432x288 with 1 Axes>"
      ]
     },
     "metadata": {
      "needs_background": "light"
     },
     "output_type": "display_data"
    }
   ],
   "source": [
    "# Гистограмма по оплате, тариф Ультра\n",
    "data.query('tariff == \"ultra\"')['total_pay'].plot(kind='hist', bins=25)"
   ]
  },
  {
   "cell_type": "code",
   "execution_count": 65,
   "metadata": {},
   "outputs": [
    {
     "data": {
      "text/plain": [
       "count     986.000000\n",
       "mean     2070.030426\n",
       "std       376.015578\n",
       "min      1950.000000\n",
       "25%      1950.000000\n",
       "50%      1950.000000\n",
       "75%      1950.000000\n",
       "max      4800.000000\n",
       "Name: total_pay, dtype: float64"
      ]
     },
     "execution_count": 65,
     "metadata": {},
     "output_type": "execute_result"
    }
   ],
   "source": [
    "data.query('tariff == \"ultra\"')['total_pay'].describe()"
   ]
  },
  {
   "cell_type": "markdown",
   "metadata": {},
   "source": [
    "Можно сказать, что пользователям тарифа Ультра хватает пакетов услуг, включенных в тариф.\n"
   ]
  },
  {
   "cell_type": "markdown",
   "metadata": {},
   "source": [
    "#### Гистограмма по минутам"
   ]
  },
  {
   "cell_type": "code",
   "execution_count": 66,
   "metadata": {},
   "outputs": [
    {
     "data": {
      "text/plain": [
       "<AxesSubplot:ylabel='Frequency'>"
      ]
     },
     "execution_count": 66,
     "metadata": {},
     "output_type": "execute_result"
    },
    {
     "data": {
      "image/png": "[encoded data removed]",
      "text/plain": [
       "<Figure size 432x288 with 1 Axes>"
      ]
     },
     "metadata": {
      "needs_background": "light"
     },
     "output_type": "display_data"
    }
   ],
   "source": [
    "# Гистограмма по использованым минутам, тариф Смарт\n",
    "data.query('tariff == \"smart\"')['duration'].plot(kind='hist', bins=100)"
   ]
  },
  {
   "cell_type": "code",
   "execution_count": 67,
   "metadata": {},
   "outputs": [
    {
     "data": {
      "text/plain": [
       "count    2230.000000\n",
       "mean      417.747534\n",
       "std       190.476754\n",
       "min         0.000000\n",
       "25%       282.000000\n",
       "50%       421.500000\n",
       "75%       545.000000\n",
       "max      1435.000000\n",
       "Name: duration, dtype: float64"
      ]
     },
     "execution_count": 67,
     "metadata": {},
     "output_type": "execute_result"
    }
   ],
   "source": [
    "data.query('tariff == \"smart\"')['duration'].describe()"
   ]
  },
  {
   "cell_type": "code",
   "execution_count": 68,
   "metadata": {},
   "outputs": [
    {
     "data": {
      "text/plain": [
       "<AxesSubplot:ylabel='Frequency'>"
      ]
     },
     "execution_count": 68,
     "metadata": {},
     "output_type": "execute_result"
    },
    {
     "data": {
      "image/png": "[encoded data removed]",
      "text/plain": [
       "<Figure size 432x288 with 1 Axes>"
      ]
     },
     "metadata": {
      "needs_background": "light"
     },
     "output_type": "display_data"
    }
   ],
   "source": [
    "data.query('tariff == \"ultra\"')['duration'].plot(kind='hist', bins=100)"
   ]
  },
  {
   "cell_type": "markdown",
   "metadata": {},
   "source": [
    "Из гистограмм видны нулевые значения расходования пакета минут - есть пользователи, которые не пользуются связью"
   ]
  },
  {
   "cell_type": "code",
   "execution_count": 69,
   "metadata": {},
   "outputs": [
    {
     "data": {
      "text/plain": [
       "count     986.000000\n",
       "mean      526.089249\n",
       "std       317.887549\n",
       "min         0.000000\n",
       "25%       282.500000\n",
       "50%       518.000000\n",
       "75%       751.750000\n",
       "max      1673.000000\n",
       "Name: duration, dtype: float64"
      ]
     },
     "execution_count": 69,
     "metadata": {},
     "output_type": "execute_result"
    }
   ],
   "source": [
    "data.query('tariff == \"ultra\"')['duration'].describe()"
   ]
  },
  {
   "cell_type": "code",
   "execution_count": 70,
   "metadata": {},
   "outputs": [
    {
     "data": {
      "text/plain": [
       "Text(0.5, 1.0, 'Распределение минут в мес')"
      ]
     },
     "execution_count": 70,
     "metadata": {},
     "output_type": "execute_result"
    },
    {
     "data": {
      "image/png": "[encoded data removed]",
      "text/plain": [
       "<Figure size 720x504 with 1 Axes>"
      ]
     },
     "metadata": {
      "needs_background": "light"
     },
     "output_type": "display_data"
    }
   ],
   "source": [
    "data.boxplot('duration', by='tariff', figsize=(10,7))\n",
    "plt.xlabel('Минуты/мес')\n",
    "plt.title('Распределение минут в мес')"
   ]
  },
  {
   "cell_type": "markdown",
   "metadata": {},
   "source": [
    "#### Гистограмма по смскам"
   ]
  },
  {
   "cell_type": "code",
   "execution_count": 71,
   "metadata": {},
   "outputs": [
    {
     "data": {
      "text/plain": [
       "count    2230.000000\n",
       "mean       33.369058\n",
       "std        28.230396\n",
       "min         0.000000\n",
       "25%        10.000000\n",
       "50%        28.000000\n",
       "75%        51.000000\n",
       "max       143.000000\n",
       "Name: messages_count, dtype: float64"
      ]
     },
     "execution_count": 71,
     "metadata": {},
     "output_type": "execute_result"
    },
    {
     "data": {
      "image/png": "[encoded data removed]",
      "text/plain": [
       "<Figure size 432x288 with 1 Axes>"
      ]
     },
     "metadata": {
      "needs_background": "light"
     },
     "output_type": "display_data"
    }
   ],
   "source": [
    "data.query('tariff == \"smart\"')['messages_count'].plot(kind='hist', bins=100)\n",
    "data.query('tariff == \"smart\"')['messages_count'].describe()"
   ]
  },
  {
   "cell_type": "code",
   "execution_count": 72,
   "metadata": {},
   "outputs": [
    {
     "data": {
      "text/plain": [
       "count    1922.000000\n",
       "mean       38.716441\n",
       "std        26.787949\n",
       "min         1.000000\n",
       "25%        17.000000\n",
       "50%        34.000000\n",
       "75%        55.000000\n",
       "max       143.000000\n",
       "Name: messages_count, dtype: float64"
      ]
     },
     "execution_count": 72,
     "metadata": {},
     "output_type": "execute_result"
    },
    {
     "data": {
      "image/png": "[encoded data removed]",
      "text/plain": [
       "<Figure size 432x288 with 1 Axes>"
      ]
     },
     "metadata": {
      "needs_background": "light"
     },
     "output_type": "display_data"
    }
   ],
   "source": [
    "data.query('tariff == \"smart\" and messages_count>0')['messages_count'].plot(kind='hist', bins=100)\n",
    "data.query('tariff == \"smart\" and messages_count>0')['messages_count'].describe()"
   ]
  },
  {
   "cell_type": "code",
   "execution_count": 73,
   "metadata": {},
   "outputs": [
    {
     "data": {
      "text/plain": [
       "count    986.000000\n",
       "mean      49.313387\n",
       "std       47.806040\n",
       "min        0.000000\n",
       "25%        6.000000\n",
       "50%       38.000000\n",
       "75%       78.750000\n",
       "max      224.000000\n",
       "Name: messages_count, dtype: float64"
      ]
     },
     "execution_count": 73,
     "metadata": {},
     "output_type": "execute_result"
    },
    {
     "data": {
      "image/png": "[encoded data removed]",
      "text/plain": [
       "<Figure size 432x288 with 1 Axes>"
      ]
     },
     "metadata": {
      "needs_background": "light"
     },
     "output_type": "display_data"
    }
   ],
   "source": [
    "data.query('tariff == \"ultra\"')['messages_count'].plot(kind='hist', bins=100)\n",
    "data.query('tariff == \"ultra\"')['messages_count'].describe()"
   ]
  },
  {
   "cell_type": "code",
   "execution_count": 74,
   "metadata": {},
   "outputs": [
    {
     "data": {
      "text/plain": [
       "count    986.000000\n",
       "mean      49.313387\n",
       "std       47.806040\n",
       "min        0.000000\n",
       "25%        6.000000\n",
       "50%       38.000000\n",
       "75%       78.750000\n",
       "max      224.000000\n",
       "Name: messages_count, dtype: float64"
      ]
     },
     "execution_count": 74,
     "metadata": {},
     "output_type": "execute_result"
    },
    {
     "data": {
      "image/png": "[encoded data removed]",
      "text/plain": [
       "<Figure size 432x288 with 1 Axes>"
      ]
     },
     "metadata": {
      "needs_background": "light"
     },
     "output_type": "display_data"
    }
   ],
   "source": [
    "data.query('tariff == \"ultra\" and messages_count > 0')['messages_count'].plot(kind='hist', bins=100)\n",
    "data.query('tariff == \"ultra\"')['messages_count'].describe()"
   ]
  },
  {
   "cell_type": "markdown",
   "metadata": {},
   "source": [
    "На обеих гистограммах видны пики у нулевых значений - есть пользователи, которые не расходуют пакеты смс, но  также есть пользователи, которые активно пользуются смсками, и на тарифе смарт превышают пакет смс"
   ]
  },
  {
   "cell_type": "code",
   "execution_count": 75,
   "metadata": {},
   "outputs": [
    {
     "data": {
      "text/plain": [
       "Text(0.5, 1.0, 'Распределение смс в мес')"
      ]
     },
     "execution_count": 75,
     "metadata": {},
     "output_type": "execute_result"
    },
    {
     "data": {
      "image/png": "[encoded data removed]",
      "text/plain": [
       "<Figure size 720x504 with 1 Axes>"
      ]
     },
     "metadata": {
      "needs_background": "light"
     },
     "output_type": "display_data"
    }
   ],
   "source": [
    "data.boxplot('messages_count', by='tariff', figsize=(10,7))\n",
    "plt.xlabel('смс/мес')\n",
    "plt.title('Распределение смс в мес')"
   ]
  },
  {
   "cell_type": "markdown",
   "metadata": {},
   "source": [
    "Судя по графику, пользователи тарифа Ультра пользуются смсками больше, чем пользователи Смарта, медианное значение на ультре больше смарта, и в целом квартили и выбросы по смскам на Ультре больше, чем на Смарте."
   ]
  },
  {
   "cell_type": "markdown",
   "metadata": {},
   "source": [
    "#### Гистограмма по траффику"
   ]
  },
  {
   "cell_type": "code",
   "execution_count": 76,
   "metadata": {},
   "outputs": [
    {
     "data": {
      "text/plain": [
       "count    2230.000000\n",
       "mean       16.321525\n",
       "std         5.756167\n",
       "min         0.000000\n",
       "25%        13.000000\n",
       "50%        17.000000\n",
       "75%        20.000000\n",
       "max        38.000000\n",
       "Name: gb_sum, dtype: float64"
      ]
     },
     "execution_count": 76,
     "metadata": {},
     "output_type": "execute_result"
    },
    {
     "data": {
      "image/png": "[encoded data removed]",
      "text/plain": [
       "<Figure size 432x288 with 1 Axes>"
      ]
     },
     "metadata": {
      "needs_background": "light"
     },
     "output_type": "display_data"
    }
   ],
   "source": [
    "data.query('tariff == \"smart\"')['gb_sum'].plot(kind='hist', bins=100)\n",
    "data.query('tariff == \"smart\"')['gb_sum'].describe()"
   ]
  },
  {
   "cell_type": "code",
   "execution_count": 77,
   "metadata": {},
   "outputs": [
    {
     "data": {
      "text/plain": [
       "count    986.000000\n",
       "mean      19.474645\n",
       "std        9.868057\n",
       "min        0.000000\n",
       "25%       12.000000\n",
       "50%       19.000000\n",
       "75%       27.000000\n",
       "max       49.000000\n",
       "Name: gb_sum, dtype: float64"
      ]
     },
     "execution_count": 77,
     "metadata": {},
     "output_type": "execute_result"
    },
    {
     "data": {
      "image/png": "[encoded data removed]",
      "text/plain": [
       "<Figure size 432x288 with 1 Axes>"
      ]
     },
     "metadata": {
      "needs_background": "light"
     },
     "output_type": "display_data"
    }
   ],
   "source": [
    "data.query('tariff == \"ultra\"')['gb_sum'].plot(kind='hist', bins=100)\n",
    "data.query('tariff == \"ultra\"')['gb_sum'].describe()"
   ]
  },
  {
   "cell_type": "code",
   "execution_count": 78,
   "metadata": {},
   "outputs": [
    {
     "data": {
      "text/plain": [
       "Text(0.5, 1.0, 'Распределение Гб в мес')"
      ]
     },
     "execution_count": 78,
     "metadata": {},
     "output_type": "execute_result"
    },
    {
     "data": {
      "image/png": "[encoded data removed]",
      "text/plain": [
       "<Figure size 720x504 with 1 Axes>"
      ]
     },
     "metadata": {
      "needs_background": "light"
     },
     "output_type": "display_data"
    }
   ],
   "source": [
    "data.boxplot('gb_sum', by='tariff', figsize=(10,7))\n",
    "plt.xlabel('Гб/мес')\n",
    "plt.title('Распределение Гб в мес')"
   ]
  },
  {
   "cell_type": "markdown",
   "metadata": {},
   "source": [
    "Расход по траффику на Ультре больше Смарта. Медианное значение примерно на одном уровне в 17-18 Гб.\n",
    "Но по гистограммам видно, что пользователи тарифа Ультра расходуют больше гигабайт, чем на Смарт, зато на Смарте лимит в 15Гб в мес успешно преодолевается пользователями, и они докупают мегабайты сверх пакета"
   ]
  },
  {
   "cell_type": "markdown",
   "metadata": {},
   "source": [
    "### Вывод по анализу данных"
   ]
  },
  {
   "cell_type": "markdown",
   "metadata": {},
   "source": [
    "\n",
    "\n",
    "- Расход по траффику на Ультре больше Смарта. Медианное значение примерно на одном уровне в 17-18 Гб. Но по гистограммам видно, что пользователи тарифа Ультра расходуют больше гигабайт, чем на Смарт, зато на Смарте лимит в 15Гб в мес успешно преодолевается пользователями, и они докупают мегабайты сверх пакета\n",
    "\n",
    "В среднем видно по тарифу Смарт:\n",
    "\n",
    "- Минуты среднее значение 418 минут, в пакете включено 500\n",
    "- Смски 34 шт, в пакете включено 50\n",
    "- Интернет 17 Гб в пакете 15 (интерент докупается)\n",
    "\n",
    "По тарифу Ультра:\n",
    "\n",
    "- Минут среднее значение 527, в пакете 3000\n",
    "- Смски 50, в пакете 1000\n",
    "- Интернет 19,49 Гб, в пакете 30 Гб\n",
    "\n",
    "Пользователи тарифа Смарт докупают недостающий траффик, в то время, как пользователям тарифа Ультра в среднем хватает пакета услуг на месяц. \n",
    "\n",
    "Медианное значение по оплате у тарифа Ультра больше, чем у тарифа Смарт примерно в два раза, можно сказать, что тариф Ультра выгоднее для оператора связи.\n",
    "\n",
    "Расход по траффику на Ультре больше Смарта. Медианное значение примерно на одном уровне в 17-18 Гб.\n",
    "Но по гистограммам видно, что пользователи тарифа Ультра расходуют больше гигабайт, чем на Смарт, зато на Смарте лимит в 15Гб в мес успешно преодолевается пользователями, и они докупают мегабайты сверх пакета\n",
    "\n",
    "Судя по графикам, пользователи тарифа Ультра пользуются смсками больше, чем пользователи Смарта, медианное значение на Ультре больше Смарта, и в целом квартили и выбросы по смскам на Ультре больше, чем на Смарте\n",
    "\n",
    "Большинство пользователей не расходуют пакеты смс, львиная доля вообще не пользуется смсками, но также есть пользователи, которые активно ими пользуются, и на тарифе смарт превышают пакет смс, в то время как на тарифе Ульта пакет в 1000 смс ни кем не расходуется\n",
    "\n",
    "Из гистограмм видны нулевые значения расходования пакета минут - есть пользователи, которые не пользуются связью."
   ]
  },
  {
   "cell_type": "markdown",
   "metadata": {},
   "source": [
    "\n",
    "\n"
   ]
  },
  {
   "cell_type": "markdown",
   "metadata": {},
   "source": [
    "## Проверка гипотез"
   ]
  },
  {
   "cell_type": "markdown",
   "metadata": {},
   "source": [
    "###  средняя выручка пользователей тарифов «Ультра» и «Смарт» различаются"
   ]
  },
  {
   "cell_type": "markdown",
   "metadata": {},
   "source": [
    "- Нулевая гипотеза H₀: Средняя выручка пользователей тарифов Смарт и Ультра не различается \n",
    "- Альтернативная гипотеза H₁: Средняя выручка пользователей тарифов Смарт и Ультра различается"
   ]
  },
  {
   "cell_type": "code",
   "execution_count": 79,
   "metadata": {},
   "outputs": [],
   "source": [
    "# Установка порога значимости\n",
    "alpha = 0.05"
   ]
  },
  {
   "cell_type": "code",
   "execution_count": 80,
   "metadata": {},
   "outputs": [],
   "source": [
    "# для проверки гипотезы выделим в отдельные переменные столбцы с оплатой по тарифам\n",
    "smart_month_payment = data.query('tariff == \"smart\"')['total_pay']\n",
    "ultra_month_payment = data.query('tariff == \"ultra\"')['total_pay']"
   ]
  },
  {
   "cell_type": "code",
   "execution_count": 81,
   "metadata": {},
   "outputs": [
    {
     "name": "stdout",
     "output_type": "stream",
     "text": [
      "p-значение: 8.081909555489933e-161\n",
      "Отвергаем нулевую гипотезу\n"
     ]
    }
   ],
   "source": [
    "# Делаем t-тест Стьюдента \n",
    "# для проверки гипотезы о равенстве среднего двух генеральных совокупностей по взятым из них выборкам\n",
    "\n",
    "results = st.ttest_ind(\n",
    "    smart_month_payment, \n",
    "    ultra_month_payment)\n",
    "\n",
    "print('p-значение:', results.pvalue)\n",
    "\n",
    "if results.pvalue < alpha:\n",
    "    print(\"Отвергаем нулевую гипотезу\")\n",
    "else:\n",
    "    print(\"Не получилось отвергнуть нулевую гипотезу\") "
   ]
  },
  {
   "cell_type": "code",
   "execution_count": 82,
   "metadata": {},
   "outputs": [
    {
     "name": "stdout",
     "output_type": "stream",
     "text": [
      "Средняя выручка по тарифу Smart: 1289.64\n",
      "Средняя выручка по тарифу Ultra: 2070.03\n"
     ]
    }
   ],
   "source": [
    "print('Средняя выручка по тарифу Smart:', smart_month_payment.mean().round(2))\n",
    "print('Средняя выручка по тарифу Ultra:', ultra_month_payment.mean().round(2))"
   ]
  },
  {
   "cell_type": "markdown",
   "metadata": {},
   "source": [
    "Средняя выручка по тарифам весьма различается"
   ]
  },
  {
   "cell_type": "markdown",
   "metadata": {},
   "source": [
    "###  средняя выручка пользователей из Москвы отличается от выручки пользователей из других регионов."
   ]
  },
  {
   "cell_type": "markdown",
   "metadata": {},
   "source": [
    "- Нулевая гипотеза H₀: Средняя выручка пользователей из Москвы и других городов не различается \n",
    "- Альтернативная гипотеза H₁: Средняя выручка пользователей из Москвы и других городов различается "
   ]
  },
  {
   "cell_type": "code",
   "execution_count": 83,
   "metadata": {},
   "outputs": [
    {
     "data": {
      "text/plain": [
       "array(['Архангельск', 'Астрахань', 'Балашиха', 'Барнаул', 'Белгород',\n",
       "       'Брянск', 'Владивосток', 'Владикавказ', 'Владимир', 'Волгоград',\n",
       "       'Волжский', 'Вологда', 'Воронеж', 'Грозный', 'Екатеринбург',\n",
       "       'Иваново', 'Ижевск', 'Иркутск', 'Казань', 'Калининград', 'Калуга',\n",
       "       'Кемерово', 'Киров', 'Кострома', 'Краснодар', 'Красноярск',\n",
       "       'Курган', 'Курск', 'Липецк', 'Магнитогорск', 'Махачкала', 'Москва',\n",
       "       'Мурманск', 'Набережные Челны', 'Нижневартовск', 'Нижний Новгород',\n",
       "       'Нижний Тагил', 'Новокузнецк', 'Новороссийск', 'Новосибирск',\n",
       "       'Омск', 'Оренбург', 'Орёл', 'Пенза', 'Пермь', 'Петрозаводск',\n",
       "       'Подольск', 'Ростов-на-Дону', 'Рязань', 'Самара',\n",
       "       'Санкт-Петербург', 'Саранск', 'Саратов', 'Севастополь', 'Смоленск',\n",
       "       'Сочи', 'Ставрополь', 'Стерлитамак', 'Сургут', 'Тамбов', 'Тверь',\n",
       "       'Тольятти', 'Томск', 'Тула', 'Тюмень', 'Улан-Удэ', 'Ульяновск',\n",
       "       'Уфа', 'Хабаровск', 'Химки', 'Чебоксары', 'Челябинск', 'Череповец',\n",
       "       'Чита', 'Якутск', 'Ярославль'], dtype=object)"
      ]
     },
     "execution_count": 83,
     "metadata": {},
     "output_type": "execute_result"
    }
   ],
   "source": [
    "#Для проверки гипотез разделим пользователей Москвы и не Москвы\n",
    "data['city'].sort_values().unique()"
   ]
  },
  {
   "cell_type": "code",
   "execution_count": 84,
   "metadata": {},
   "outputs": [],
   "source": [
    "data_moscow = data.query('city == \"Москва\"')['total_pay']\n",
    "data_other_city = data.query('city != \"Москва\"')['total_pay']"
   ]
  },
  {
   "cell_type": "code",
   "execution_count": 85,
   "metadata": {},
   "outputs": [
    {
     "name": "stdout",
     "output_type": "stream",
     "text": [
      "p-значение: 0.5400751614511182\n",
      "Не получилось отвергнуть нулевую гипотезу\n"
     ]
    }
   ],
   "source": [
    "# Делаем t-тест Стьюдента \n",
    "# для проверки гипотезы о равенстве среднего двух генеральных совокупностей по взятым из них выборкам\n",
    "\n",
    "results = st.ttest_ind(\n",
    "    data_moscow, \n",
    "    data_other_city)\n",
    "\n",
    "print('p-значение:', results.pvalue)\n",
    "\n",
    "if results.pvalue < alpha:\n",
    "    print(\"Отвергаем нулевую гипотезу\")\n",
    "else:\n",
    "    print(\"Не получилось отвергнуть нулевую гипотезу\") "
   ]
  },
  {
   "cell_type": "code",
   "execution_count": 86,
   "metadata": {},
   "outputs": [
    {
     "name": "stdout",
     "output_type": "stream",
     "text": [
      "p-значение: 0.1912450522572209\n",
      "Не получилось отвергнуть нулевую гипотезу\n"
     ]
    }
   ],
   "source": [
    "# Приведены два датасета: сумма покупок, совершённых за месяц посетителями ...\n",
    "\n",
    "sample_1 = [3071, 3636, 3454, 3151, 2185, 3259, 1727, 2263, 2015,\n",
    "2582, 4815, 633, 3186, 887, 2028, 3589, 2564, 1422, 1785,\n",
    "3180, 1770, 2716, 2546, 1848, 4644, 3134, 475, 2686,\n",
    "1838, 3352]\n",
    "sample_2 = [1211, 1228, 2157, 3699, 600, 1898, 1688, 1420, 5048, 3007,\n",
    "509, 3777, 5583, 3949, 121, 1674, 4300, 1338, 3066,\n",
    "3562, 1010, 2311, 462, 863, 2021, 528, 1849, 255,\n",
    "1740, 2596]\n",
    "alpha = .05 # критический уровень статистической значимости\n",
    "# если p-value окажется меньше него - отвергнем гипотезу\n",
    "results = st.ttest_ind(\n",
    "sample_1,\n",
    "sample_2)\n",
    "print('p-значение:', results.pvalue)\n",
    "if (results.pvalue < alpha):\n",
    "    print(\"Отвергаем нулевую гипотезу\")\n",
    "else:\n",
    "\n",
    "    print(\"Не получилось отвергнуть нулевую гипотезу\")"
   ]
  },
  {
   "cell_type": "code",
   "execution_count": 87,
   "metadata": {},
   "outputs": [
    {
     "name": "stdout",
     "output_type": "stream",
     "text": [
      "Средняя выручка жителя Москвы: 1546.71\n",
      "Средняя выручка жителя другого города: 1524.73\n"
     ]
    }
   ],
   "source": [
    "print('Средняя выручка жителя Москвы:', data_moscow.mean().round(2))\n",
    "print('Средняя выручка жителя другого города:', data_other_city.mean().round(2))"
   ]
  },
  {
   "cell_type": "markdown",
   "metadata": {},
   "source": [
    "**Правка**\n",
    "\n",
    "Гипотеза о том, что в Москве платят за связь столько же , сколько и в других городах ~~подтвердилась~~ не отвергнута"
   ]
  },
  {
   "cell_type": "markdown",
   "metadata": {},
   "source": [
    "### Вывод по гипотезам"
   ]
  },
  {
   "cell_type": "markdown",
   "metadata": {},
   "source": [
    "Проверили две гипотезы\n",
    "\n",
    "- Средняя выручка пользователей тарифов Смарт и Ультра не различается.\n",
    "\n",
    "~~Эта гипотеза не подтвердилась: ~~\n",
    "<br>В результате проверки этой гипотезы пришли к мнению: <b>отвергаем</b>\n",
    "\n",
    "Среднее по Смарт 1289.64 руб. Среднее по тарифу Ультра 2070.03 руб\n",
    "\n",
    "- Средняя выручка пользователей из Москвы и других городов не различается.\n",
    "\n",
    "~~Эта гипотеза подтвердилась:~~\n",
    "<br>В результате проверки этой гипотезы пришли к мнению: <b>отвергнуть не удалось</b>\n",
    "\n",
    "Средняя выручка жителя Москвы: 1546.71\n",
    "\n",
    "Средняя выручка жителя другого города: 1524.73"
   ]
  },
  {
   "cell_type": "markdown",
   "metadata": {},
   "source": [
    "\n",
    "## Общий вывод"
   ]
  },
  {
   "cell_type": "markdown",
   "metadata": {},
   "source": [
    "В процессе работы над проэктом сделали следующее:\n",
    "\n",
    "1. подготовили данные: \n",
    "- Данные были приведены к нужным типам\n",
    "- Звонки были округлены до минут согласно тарифам оператора\n",
    "- Исправлены ошибки\n",
    "- Мегабайты пересчитаны в Гигабайты с округлением в большую сторону за месяц\n",
    "- Сделан датасет, в котором посчитана выручка и переплата по каждому пользователю на основе созданных ранее сводных таблиц\n",
    "2. Сделан анализ данных:\n",
    "\n",
    "В среднем видно по тарифу Смарт:\n",
    "\n",
    "- Минуты среднее значение 418 минут, в пакете включено 500\n",
    "- Смски 34 шт, в пакете включено 50\n",
    "- Интернет 17 Гб в пакете 15 (интерент докупается)\n",
    "\n",
    "По тарифу Ультра:\n",
    "\n",
    "- Минут среднее значение 527, в пакете 3000\n",
    "- Смски 50, в пакете 1000\n",
    "- Интернет 19,49 Гб, в пакете 30 Гб\n",
    "\n",
    "- Медианное значение по оплате у тарифа Ультра больше, чем у тарифа Смарт примерно в два раза, можно сказать, что тариф Ультра выгоднее для оператора связи.При этом суммарно за год выручки с тарифа Смарт больше, нежели с тарифа Ультра, за счет количества абонентов Смарт\n",
    "\n",
    "- Пользователи тарифа Смарт докупают недостающий траффик, в то время, как пользователям тарифа Ультра в среднем хватает пакета услуг на месяц. \n",
    "\n",
    "- Расход по траффику на Ультре больше Смарта. Медианное значение примерно на одном уровне в 17-18 Гб. Но по гистограммам видно, что пользователи тарифа Ультра расходуют больше гигабайт, чем на Смарт, зато на Смарте лимит в 15Гб в мес успешно преодолевается пользователями, и они докупают мегабайты сверх пакета\n",
    "\n",
    "- Смсками пользователи тарифа Ультра пользуются больше, чем пользователи Смарта. Но большинство пользователей не расходуют пакеты смс, львиная доля вообще не пользуется смсками, но также есть пользователи, которые активно ими пользуются, и на тарифе Смарт превышают пакет смс, в то время как на тарифе Ульта пакет в 1000 смс ни кем не расходуется\n",
    "\n",
    "- Пакет минут на тарифах:в процессе анализа данных выявили, что есть пользователи, которые не пользуются связью.\n",
    "\n",
    "3. Проверены гипотезы:\n",
    " 3. 1. Средняя выручка пользователей тарифов Смарт и Ультра не различается.\n",
    "~~Эта гипотеза не подтвердилась: ~~\n",
    "<br>В результате проверки этой гипотезы пришли к мнению: <b>отвергаем</b>\n",
    "\n",
    "- Среднее по Смарт 1289.64 руб. \n",
    "- Среднее по тарифу Ультра 2070.03 руб\n",
    "\n",
    " 3. 2. Средняя выручка пользователей из Москвы и других городов не различается.\n",
    "~~Эта гипотеза подтвердилась:~~\n",
    "<br>В результате проверки этой гипотезы пришли к мнению: <b>отвергнуть не удалось</b>\n",
    "- Средняя выручка жителя Москвы: 1546.71\n",
    "- Средняя выручка жителя другого города: 1524.73\n",
    "\n",
    "\n"
   ]
  },
  {
   "cell_type": "code",
   "execution_count": 88,
   "metadata": {},
   "outputs": [
    {
     "data": {
      "text/plain": [
       "351"
      ]
     },
     "execution_count": 88,
     "metadata": {},
     "output_type": "execute_result"
    }
   ],
   "source": [
    "# Количество пользователей тарифа Смарт\n",
    "smart_user_count = len(data.query('tariff == \"smart\"')['user_id'].unique())\n",
    "smart_user_count"
   ]
  },
  {
   "cell_type": "code",
   "execution_count": 89,
   "metadata": {},
   "outputs": [
    {
     "data": {
      "text/plain": [
       "149"
      ]
     },
     "execution_count": 89,
     "metadata": {},
     "output_type": "execute_result"
    }
   ],
   "source": [
    "# Количество пользователей тарифа Ультра\n",
    "ultra_user_count = len(data.query('tariff == \"ultra\"')['user_id'].unique())\n",
    "ultra_user_count"
   ]
  },
  {
   "cell_type": "code",
   "execution_count": 90,
   "metadata": {},
   "outputs": [
    {
     "data": {
      "text/plain": [
       "Index(['user_id', 'month', 'calls', 'duration', 'messages_count',\n",
       "       'session_count', 'mb_sum', 'age', 'churn_date', 'city', 'first_name',\n",
       "       'last_name', 'reg_date', 'tariff', 'churn_month', 'reg_month',\n",
       "       'messages_included', 'mb_per_month_included', 'minutes_included',\n",
       "       'rub_monthly_fee', 'rub_per_gb', 'rub_per_message', 'rub_per_minute',\n",
       "       'tariff_name', 'gb_sum', 'gb_per_month_included', 'overpayment_tariff',\n",
       "       'total_pay'],\n",
       "      dtype='object')"
      ]
     },
     "execution_count": 90,
     "metadata": {},
     "output_type": "execute_result"
    }
   ],
   "source": [
    "# check\n",
    "data.columns"
   ]
  },
  {
   "cell_type": "code",
   "execution_count": 91,
   "metadata": {},
   "outputs": [],
   "source": [
    "import seaborn as sns\n",
    "import matplotlib.pyplot as plt"
   ]
  },
  {
   "cell_type": "code",
   "execution_count": 92,
   "metadata": {},
   "outputs": [
    {
     "data": {
      "image/png": "[encoded data removed]",
      "text/plain": [
       "<Figure size 864x144 with 1 Axes>"
      ]
     },
     "metadata": {
      "needs_background": "light"
     },
     "output_type": "display_data"
    },
    {
     "data": {
      "image/png": "[encoded data removed]",
      "text/plain": [
       "<Figure size 864x144 with 1 Axes>"
      ]
     },
     "metadata": {
      "needs_background": "light"
     },
     "output_type": "display_data"
    },
    {
     "data": {
      "image/png": "[encoded data removed]",
      "text/plain": [
       "<Figure size 864x144 with 1 Axes>"
      ]
     },
     "metadata": {
      "needs_background": "light"
     },
     "output_type": "display_data"
    },
    {
     "data": {
      "image/png": "[encoded data removed]",
      "text/plain": [
       "<Figure size 864x144 with 1 Axes>"
      ]
     },
     "metadata": {
      "needs_background": "light"
     },
     "output_type": "display_data"
    },
    {
     "data": {
      "image/png": "[encoded data removed]",
      "text/plain": [
       "<Figure size 864x144 with 1 Axes>"
      ]
     },
     "metadata": {
      "needs_background": "light"
     },
     "output_type": "display_data"
    }
   ],
   "source": [
    "\n",
    "for column in ['calls', 'duration', 'messages_count',\n",
    "        'gb_sum',  'total_pay']:    \n",
    "    g = sns.catplot(y='tariff', x=column, kind=\"box\", data= data, orient='h', palette = 'pastel')\n",
    "    g.fig.set_figwidth(12)\n",
    "    g.fig.set_figheight(2)"
   ]
  },
  {
   "cell_type": "code",
   "execution_count": 93,
   "metadata": {},
   "outputs": [
    {
     "data": {
      "image/png": "[encoded data removed]",
      "text/plain": [
       "<Figure size 720x288 with 1 Axes>"
      ]
     },
     "metadata": {
      "needs_background": "light"
     },
     "output_type": "display_data"
    }
   ],
   "source": [
    "(data\n",
    " .pivot_table(index='tariff', columns='month', values='user_id', aggfunc='count')\n",
    " .T\n",
    " .plot(kind='line', figsize=(10,4),  style = 'o-')\n",
    ")\n",
    "plt.title('Рост кол-ва клиентов по 2-м тарифам за год'+ \"\\n\")\n",
    "plt.xlabel('Месяц')\n",
    "plt.ylabel('кол-во');"
   ]
  },
  {
   "cell_type": "code",
   "execution_count": 94,
   "metadata": {
    "colab": {
     "base_uri": "https://localhost:8080/",
     "height": 330
    },
    "id": "V4Vo2tdzJ3G6",
    "outputId": "9cfd13a1-35e4-4421-9f10-349b8932486b"
   },
   "outputs": [
    {
     "data": {
      "image/png": "[encoded data removed]",
      "text/plain": [
       "<Figure size 720x288 with 1 Axes>"
      ]
     },
     "metadata": {
      "needs_background": "light"
     },
     "output_type": "display_data"
    }
   ],
   "source": [
    "(data\n",
    " .pivot_table(index='tariff', columns='month', values='total_pay', aggfunc='mean')\n",
    " .T\n",
    " .plot(kind='line', figsize=(10,4),  style = 'o-')\n",
    ")\n",
    "plt.title('Средняя ежемесячная выручка от одного абонента'+ \"\\n\")\n",
    "plt.xlabel('Месяц')\n",
    "plt.ylabel('Рубли');"
   ]
  },
  {
   "cell_type": "code",
   "execution_count": 95,
   "metadata": {},
   "outputs": [
    {
     "data": {
      "image/png": "[encoded data removed]",
      "text/plain": [
       "<Figure size 720x288 with 1 Axes>"
      ]
     },
     "metadata": {
      "needs_background": "light"
     },
     "output_type": "display_data"
    }
   ],
   "source": [
    "(data\n",
    " .pivot_table(index='tariff', columns='month', values='total_pay', aggfunc='sum')\n",
    " .T\n",
    " .plot(kind='line', figsize=(10,4),  style = 'o-')\n",
    ")\n",
    "plt.title('Суммарная ежемесячная выручка по 2-м тарифам'+ \"\\n\")\n",
    "plt.xlabel('Месяц')\n",
    "plt.ylabel('Рубли');"
   ]
  },
  {
   "cell_type": "markdown",
   "metadata": {},
   "source": [
    "# выручка от смартов уже в два раза выше выручки от ультры, но есть опасность - убегут клиенты смарт от такой счастливой жизни к конкурентам :)"
   ]
  },
  {
   "cell_type": "code",
   "execution_count": 96,
   "metadata": {},
   "outputs": [
    {
     "name": "stdout",
     "output_type": "stream",
     "text": [
      "Кол-во клентов покинувших компанию за год 38\n",
      "Кол-во клентов покинувших компанию за посл. 4 мес. 2018 г. на двух тарифах 35\n",
      "%  от общего кол-ва всех клиентов, покинувших компанию за посл. 4 мес. 2018 г. на двух тарифах 92.1\n",
      "Распределение оттока клиентов на тарифах за посл. 4 мес. 2018 г.\n"
     ]
    },
    {
     "data": {
      "text/html": [
       "<div>\n",
       "<style scoped>\n",
       "    .dataframe tbody tr th:only-of-type {\n",
       "        vertical-align: middle;\n",
       "    }\n",
       "\n",
       "    .dataframe tbody tr th {\n",
       "        vertical-align: top;\n",
       "    }\n",
       "\n",
       "    .dataframe thead th {\n",
       "        text-align: right;\n",
       "    }\n",
       "</style>\n",
       "<table border=\"1\" class=\"dataframe\">\n",
       "  <thead>\n",
       "    <tr style=\"text-align: right;\">\n",
       "      <th></th>\n",
       "      <th>churn_date</th>\n",
       "    </tr>\n",
       "    <tr>\n",
       "      <th>tariff</th>\n",
       "      <th></th>\n",
       "    </tr>\n",
       "  </thead>\n",
       "  <tbody>\n",
       "    <tr>\n",
       "      <th>smart</th>\n",
       "      <td>22</td>\n",
       "    </tr>\n",
       "    <tr>\n",
       "      <th>ultra</th>\n",
       "      <td>13</td>\n",
       "    </tr>\n",
       "  </tbody>\n",
       "</table>\n",
       "</div>"
      ],
      "text/plain": [
       "        churn_date\n",
       "tariff            \n",
       "smart           22\n",
       "ultra           13"
      ]
     },
     "execution_count": 96,
     "metadata": {},
     "output_type": "execute_result"
    }
   ],
   "source": [
    "# на скорую руку\n",
    "df_users = pd.read_csv('/datasets/users.csv')\n",
    "\n",
    "print ('Кол-во клентов покинувших компанию за год', df_users.churn_date.notna().sum())\n",
    "\n",
    "print ('Кол-во клентов покинувших компанию за посл. 4 мес. 2018 г. на двух тарифах',\n",
    "       df_users.query('churn_date > \"2018-09-25\"').churn_date.notna().sum()\n",
    "      )\n",
    "print ('%  от общего кол-ва всех клиентов, покинувших компанию за посл. 4 мес. 2018 г. на двух тарифах',\n",
    "    (df_users.query('churn_date > \"2018-09-25\"').churn_date.notna().sum()/df_users.churn_date.notna().sum()*100).round(1)\n",
    ")\n",
    "\n",
    "print ('Распределение оттока клиентов на тарифах за посл. 4 мес. 2018 г.')\n",
    "df_users.query('churn_date > \"2018-09-25\"').groupby('tariff')['churn_date'].count().to_frame()"
   ]
  },
  {
   "cell_type": "markdown",
   "metadata": {},
   "source": [
    "# отток усиливается?\n",
    "\n",
    "# мы не ограничены в рекомендациях бизнесу только двумя тарифами, если мы видим риски для бизнеса мы можем предложить и третий и четвертый вариант развития тарифной политики"
   ]
  },
  {
   "cell_type": "code",
   "execution_count": null,
   "metadata": {},
   "outputs": [],
   "source": []
  }
 ],
 "metadata": {
  "ExecuteTimeLog": [
   {
    "duration": 46,
    "start_time": "2022-05-14T07:51:42.133Z"
   },
   {
    "duration": 420,
    "start_time": "2022-05-14T07:52:14.249Z"
   },
   {
    "duration": 99,
    "start_time": "2022-05-14T07:52:14.671Z"
   },
   {
    "duration": 357,
    "start_time": "2022-05-14T07:53:18.154Z"
   },
   {
    "duration": 22,
    "start_time": "2022-05-14T07:53:26.770Z"
   },
   {
    "duration": 31,
    "start_time": "2022-05-14T07:53:30.004Z"
   },
   {
    "duration": 69,
    "start_time": "2022-05-14T07:53:30.871Z"
   },
   {
    "duration": 30,
    "start_time": "2022-05-14T07:53:33.228Z"
   },
   {
    "duration": 25,
    "start_time": "2022-05-14T07:53:39.360Z"
   },
   {
    "duration": 52,
    "start_time": "2022-05-14T07:53:41.163Z"
   },
   {
    "duration": 32,
    "start_time": "2022-05-14T07:53:54.899Z"
   },
   {
    "duration": 102,
    "start_time": "2022-05-14T07:53:56.324Z"
   },
   {
    "duration": 27,
    "start_time": "2022-05-14T07:54:00.034Z"
   },
   {
    "duration": 20,
    "start_time": "2022-05-14T07:54:11.699Z"
   },
   {
    "duration": 6,
    "start_time": "2022-05-14T07:54:22.931Z"
   },
   {
    "duration": 72,
    "start_time": "2022-05-14T07:56:12.939Z"
   },
   {
    "duration": 19,
    "start_time": "2022-05-14T07:56:13.837Z"
   },
   {
    "duration": 19,
    "start_time": "2022-05-14T07:56:35.485Z"
   },
   {
    "duration": 50,
    "start_time": "2022-05-14T07:56:39.290Z"
   },
   {
    "duration": 56,
    "start_time": "2022-05-14T07:57:34.810Z"
   },
   {
    "duration": 32,
    "start_time": "2022-05-14T07:59:56.944Z"
   },
   {
    "duration": 42,
    "start_time": "2022-05-14T08:00:27.929Z"
   },
   {
    "duration": 64,
    "start_time": "2022-05-14T08:00:55.358Z"
   },
   {
    "duration": 10,
    "start_time": "2022-05-14T08:01:49.767Z"
   },
   {
    "duration": 19,
    "start_time": "2022-05-14T08:01:55.493Z"
   },
   {
    "duration": 10,
    "start_time": "2022-05-14T08:01:56.237Z"
   },
   {
    "duration": 29,
    "start_time": "2022-05-14T08:02:15.058Z"
   },
   {
    "duration": 11,
    "start_time": "2022-05-14T08:03:32.554Z"
   },
   {
    "duration": 11,
    "start_time": "2022-05-14T08:03:52.302Z"
   },
   {
    "duration": 9,
    "start_time": "2022-05-14T08:04:17.322Z"
   },
   {
    "duration": 24,
    "start_time": "2022-05-14T08:04:32.821Z"
   },
   {
    "duration": 26,
    "start_time": "2022-05-14T08:04:55.519Z"
   },
   {
    "duration": 8,
    "start_time": "2022-05-14T08:05:15.056Z"
   },
   {
    "duration": 6,
    "start_time": "2022-05-14T08:06:07.351Z"
   },
   {
    "duration": 8,
    "start_time": "2022-05-14T08:06:41.910Z"
   },
   {
    "duration": 14,
    "start_time": "2022-05-14T08:06:58.074Z"
   },
   {
    "duration": 10,
    "start_time": "2022-05-14T08:07:13.308Z"
   },
   {
    "duration": 4,
    "start_time": "2022-05-14T08:07:33.280Z"
   },
   {
    "duration": 1790,
    "start_time": "2022-05-14T08:07:57.734Z"
   },
   {
    "duration": 4,
    "start_time": "2022-05-14T08:08:01.116Z"
   },
   {
    "duration": 2164,
    "start_time": "2022-05-14T08:08:01.752Z"
   },
   {
    "duration": 390,
    "start_time": "2022-05-14T08:09:15.397Z"
   },
   {
    "duration": 358,
    "start_time": "2022-05-14T08:09:15.789Z"
   },
   {
    "duration": 21,
    "start_time": "2022-05-14T08:09:16.148Z"
   },
   {
    "duration": 29,
    "start_time": "2022-05-14T08:09:16.171Z"
   },
   {
    "duration": 83,
    "start_time": "2022-05-14T08:09:16.201Z"
   },
   {
    "duration": 28,
    "start_time": "2022-05-14T08:09:16.286Z"
   },
   {
    "duration": 23,
    "start_time": "2022-05-14T08:09:16.315Z"
   },
   {
    "duration": 73,
    "start_time": "2022-05-14T08:09:16.339Z"
   },
   {
    "duration": 31,
    "start_time": "2022-05-14T08:09:16.413Z"
   },
   {
    "duration": 126,
    "start_time": "2022-05-14T08:09:16.446Z"
   },
   {
    "duration": 26,
    "start_time": "2022-05-14T08:09:16.573Z"
   },
   {
    "duration": 19,
    "start_time": "2022-05-14T08:09:16.601Z"
   },
   {
    "duration": 7,
    "start_time": "2022-05-14T08:09:16.621Z"
   },
   {
    "duration": 96,
    "start_time": "2022-05-14T08:09:16.629Z"
   },
   {
    "duration": 18,
    "start_time": "2022-05-14T08:09:16.726Z"
   },
   {
    "duration": 36,
    "start_time": "2022-05-14T08:09:16.746Z"
   },
   {
    "duration": 48,
    "start_time": "2022-05-14T08:09:16.784Z"
   },
   {
    "duration": 74,
    "start_time": "2022-05-14T08:09:16.834Z"
   },
   {
    "duration": 30,
    "start_time": "2022-05-14T08:09:16.910Z"
   },
   {
    "duration": 53,
    "start_time": "2022-05-14T08:09:16.942Z"
   },
   {
    "duration": 60,
    "start_time": "2022-05-14T08:09:16.996Z"
   },
   {
    "duration": 19,
    "start_time": "2022-05-14T08:09:17.058Z"
   },
   {
    "duration": 13,
    "start_time": "2022-05-14T08:09:17.079Z"
   },
   {
    "duration": 13,
    "start_time": "2022-05-14T08:09:17.093Z"
   },
   {
    "duration": 32,
    "start_time": "2022-05-14T08:09:17.107Z"
   },
   {
    "duration": 7,
    "start_time": "2022-05-14T08:09:17.141Z"
   },
   {
    "duration": 6,
    "start_time": "2022-05-14T08:09:17.171Z"
   },
   {
    "duration": 13,
    "start_time": "2022-05-14T08:09:17.180Z"
   },
   {
    "duration": 11,
    "start_time": "2022-05-14T08:09:17.195Z"
   },
   {
    "duration": 10,
    "start_time": "2022-05-14T08:09:17.208Z"
   },
   {
    "duration": 5,
    "start_time": "2022-05-14T08:09:17.219Z"
   },
   {
    "duration": 124,
    "start_time": "2022-05-14T08:09:17.226Z"
   },
   {
    "duration": 96,
    "start_time": "2022-05-14T08:09:50.622Z"
   },
   {
    "duration": 99,
    "start_time": "2022-05-14T08:09:56.184Z"
   },
   {
    "duration": 95,
    "start_time": "2022-05-14T08:10:00.937Z"
   },
   {
    "duration": 98,
    "start_time": "2022-05-14T08:10:20.437Z"
   },
   {
    "duration": 94,
    "start_time": "2022-05-14T08:11:42.678Z"
   },
   {
    "duration": 4,
    "start_time": "2022-05-14T08:12:08.561Z"
   },
   {
    "duration": 17,
    "start_time": "2022-05-14T08:12:28.996Z"
   },
   {
    "duration": 20,
    "start_time": "2022-05-14T08:12:34.069Z"
   },
   {
    "duration": 22,
    "start_time": "2022-05-14T08:13:30.923Z"
   },
   {
    "duration": 17,
    "start_time": "2022-05-14T08:15:14.779Z"
   },
   {
    "duration": 3,
    "start_time": "2022-05-14T08:16:36.956Z"
   },
   {
    "duration": 2,
    "start_time": "2022-05-14T08:18:30.991Z"
   },
   {
    "duration": 3,
    "start_time": "2022-05-14T08:18:52.146Z"
   },
   {
    "duration": 2,
    "start_time": "2022-05-14T08:19:28.456Z"
   },
   {
    "duration": 3,
    "start_time": "2022-05-14T08:20:54.504Z"
   },
   {
    "duration": 2,
    "start_time": "2022-05-14T08:21:02.367Z"
   },
   {
    "duration": 2,
    "start_time": "2022-05-14T08:21:11.297Z"
   },
   {
    "duration": 561,
    "start_time": "2022-05-16T15:01:10.867Z"
   },
   {
    "duration": 512,
    "start_time": "2022-05-16T15:01:11.431Z"
   },
   {
    "duration": 39,
    "start_time": "2022-05-16T15:01:11.945Z"
   },
   {
    "duration": 47,
    "start_time": "2022-05-16T15:01:11.987Z"
   },
   {
    "duration": 138,
    "start_time": "2022-05-16T15:01:12.036Z"
   },
   {
    "duration": 41,
    "start_time": "2022-05-16T15:01:12.182Z"
   },
   {
    "duration": 35,
    "start_time": "2022-05-16T15:01:12.225Z"
   },
   {
    "duration": 94,
    "start_time": "2022-05-16T15:01:12.262Z"
   },
   {
    "duration": 73,
    "start_time": "2022-05-16T15:01:12.359Z"
   },
   {
    "duration": 168,
    "start_time": "2022-05-16T15:01:12.436Z"
   },
   {
    "duration": 37,
    "start_time": "2022-05-16T15:01:12.606Z"
   },
   {
    "duration": 62,
    "start_time": "2022-05-16T15:01:12.645Z"
   },
   {
    "duration": 9,
    "start_time": "2022-05-16T15:01:12.709Z"
   },
   {
    "duration": 145,
    "start_time": "2022-05-16T15:01:12.720Z"
   },
   {
    "duration": 42,
    "start_time": "2022-05-16T15:01:12.868Z"
   },
   {
    "duration": 28,
    "start_time": "2022-05-16T15:01:12.912Z"
   },
   {
    "duration": 101,
    "start_time": "2022-05-16T15:01:12.942Z"
   },
   {
    "duration": 97,
    "start_time": "2022-05-16T15:01:13.046Z"
   },
   {
    "duration": 58,
    "start_time": "2022-05-16T15:01:13.145Z"
   },
   {
    "duration": 79,
    "start_time": "2022-05-16T15:01:13.208Z"
   },
   {
    "duration": 141,
    "start_time": "2022-05-16T15:01:13.290Z"
   },
   {
    "duration": 22,
    "start_time": "2022-05-16T15:01:13.434Z"
   },
   {
    "duration": 39,
    "start_time": "2022-05-16T15:01:13.458Z"
   },
   {
    "duration": 14,
    "start_time": "2022-05-16T15:01:13.500Z"
   },
   {
    "duration": 40,
    "start_time": "2022-05-16T15:01:13.516Z"
   },
   {
    "duration": 11,
    "start_time": "2022-05-16T15:01:13.587Z"
   },
   {
    "duration": 13,
    "start_time": "2022-05-16T15:01:13.600Z"
   },
   {
    "duration": 10,
    "start_time": "2022-05-16T15:01:13.618Z"
   },
   {
    "duration": 19,
    "start_time": "2022-05-16T15:01:13.630Z"
   },
   {
    "duration": 15,
    "start_time": "2022-05-16T15:01:13.688Z"
   },
   {
    "duration": 6,
    "start_time": "2022-05-16T15:01:13.705Z"
   },
   {
    "duration": 213,
    "start_time": "2022-05-16T15:01:13.713Z"
   },
   {
    "duration": 5,
    "start_time": "2022-05-16T15:01:13.928Z"
   },
   {
    "duration": 54,
    "start_time": "2022-05-16T15:01:13.935Z"
   },
   {
    "duration": 28,
    "start_time": "2022-05-16T15:01:13.992Z"
   },
   {
    "duration": 3,
    "start_time": "2022-05-16T15:11:41.899Z"
   },
   {
    "duration": 669,
    "start_time": "2022-05-16T15:11:50.446Z"
   },
   {
    "duration": 25,
    "start_time": "2022-05-16T15:11:51.506Z"
   },
   {
    "duration": 36,
    "start_time": "2022-05-16T15:18:08.541Z"
   },
   {
    "duration": 48,
    "start_time": "2022-05-16T15:18:38.100Z"
   },
   {
    "duration": 113,
    "start_time": "2022-05-16T15:28:32.105Z"
   },
   {
    "duration": 21,
    "start_time": "2022-05-16T15:28:38.099Z"
   },
   {
    "duration": 4,
    "start_time": "2022-05-16T15:29:26.133Z"
   },
   {
    "duration": 1572,
    "start_time": "2022-05-24T15:47:51.680Z"
   },
   {
    "duration": 1153,
    "start_time": "2022-05-24T15:47:59.061Z"
   },
   {
    "duration": 30,
    "start_time": "2022-05-24T15:48:00.216Z"
   },
   {
    "duration": 35,
    "start_time": "2022-05-24T15:48:00.255Z"
   },
   {
    "duration": 87,
    "start_time": "2022-05-24T15:48:00.519Z"
   },
   {
    "duration": 34,
    "start_time": "2022-05-24T15:48:00.746Z"
   },
   {
    "duration": 26,
    "start_time": "2022-05-24T15:48:01.278Z"
   },
   {
    "duration": 51,
    "start_time": "2022-05-24T15:48:01.465Z"
   },
   {
    "duration": 35,
    "start_time": "2022-05-24T15:48:02.079Z"
   },
   {
    "duration": 128,
    "start_time": "2022-05-24T15:48:02.325Z"
   },
   {
    "duration": 36,
    "start_time": "2022-05-24T15:48:02.510Z"
   },
   {
    "duration": 32,
    "start_time": "2022-05-24T15:48:03.006Z"
   },
   {
    "duration": 6,
    "start_time": "2022-05-24T15:48:03.239Z"
   },
   {
    "duration": 79,
    "start_time": "2022-05-24T15:48:04.264Z"
   },
   {
    "duration": 25,
    "start_time": "2022-05-24T15:48:04.479Z"
   },
   {
    "duration": 28,
    "start_time": "2022-05-24T15:48:04.969Z"
   },
   {
    "duration": 2,
    "start_time": "2022-05-24T15:48:38.706Z"
   },
   {
    "duration": 3,
    "start_time": "2022-05-24T15:50:45.074Z"
   },
   {
    "duration": 2,
    "start_time": "2022-05-24T16:07:50.556Z"
   },
   {
    "duration": 1278,
    "start_time": "2022-05-25T08:31:25.313Z"
   },
   {
    "duration": 1110,
    "start_time": "2022-05-25T08:31:27.278Z"
   },
   {
    "duration": 19,
    "start_time": "2022-05-25T08:31:28.390Z"
   },
   {
    "duration": 30,
    "start_time": "2022-05-25T08:31:28.837Z"
   },
   {
    "duration": 65,
    "start_time": "2022-05-25T08:31:29.313Z"
   },
   {
    "duration": 29,
    "start_time": "2022-05-25T08:31:29.627Z"
   },
   {
    "duration": 24,
    "start_time": "2022-05-25T08:31:30.347Z"
   },
   {
    "duration": 52,
    "start_time": "2022-05-25T08:31:30.576Z"
   },
   {
    "duration": 28,
    "start_time": "2022-05-25T08:31:31.195Z"
   },
   {
    "duration": 96,
    "start_time": "2022-05-25T08:31:31.394Z"
   },
   {
    "duration": 26,
    "start_time": "2022-05-25T08:31:31.601Z"
   },
   {
    "duration": 20,
    "start_time": "2022-05-25T08:31:32.052Z"
   },
   {
    "duration": 6,
    "start_time": "2022-05-25T08:31:32.977Z"
   },
   {
    "duration": 66,
    "start_time": "2022-05-25T08:31:35.568Z"
   },
   {
    "duration": 19,
    "start_time": "2022-05-25T08:31:36.375Z"
   },
   {
    "duration": 30,
    "start_time": "2022-05-25T08:31:37.520Z"
   },
   {
    "duration": 51,
    "start_time": "2022-05-25T08:31:39.006Z"
   },
   {
    "duration": 56,
    "start_time": "2022-05-25T08:31:39.496Z"
   },
   {
    "duration": 32,
    "start_time": "2022-05-25T08:31:40.912Z"
   },
   {
    "duration": 38,
    "start_time": "2022-05-25T08:31:42.263Z"
   },
   {
    "duration": 2,
    "start_time": "2022-05-25T08:31:43.049Z"
   },
   {
    "duration": 90,
    "start_time": "2022-05-25T08:31:44.077Z"
   },
   {
    "duration": 10,
    "start_time": "2022-05-25T08:31:44.499Z"
   },
   {
    "duration": 11,
    "start_time": "2022-05-25T08:31:44.975Z"
   },
   {
    "duration": 8,
    "start_time": "2022-05-25T08:31:45.389Z"
   },
   {
    "duration": 25,
    "start_time": "2022-05-25T08:31:45.852Z"
   },
   {
    "duration": 7,
    "start_time": "2022-05-25T08:31:46.258Z"
   },
   {
    "duration": 5,
    "start_time": "2022-05-25T08:31:47.180Z"
   },
   {
    "duration": 6,
    "start_time": "2022-05-25T08:31:47.567Z"
   },
   {
    "duration": 24,
    "start_time": "2022-05-25T08:31:47.903Z"
   },
   {
    "duration": 11,
    "start_time": "2022-05-25T08:31:48.285Z"
   },
   {
    "duration": 3,
    "start_time": "2022-05-25T08:31:48.626Z"
   },
   {
    "duration": 97,
    "start_time": "2022-05-25T08:31:48.905Z"
   },
   {
    "duration": 4,
    "start_time": "2022-05-25T08:31:49.385Z"
   },
   {
    "duration": 32,
    "start_time": "2022-05-25T08:31:49.780Z"
   },
   {
    "duration": 16,
    "start_time": "2022-05-25T08:31:52.590Z"
   },
   {
    "duration": 49,
    "start_time": "2022-05-25T08:31:53.230Z"
   },
   {
    "duration": 16,
    "start_time": "2022-05-25T08:31:53.891Z"
   },
   {
    "duration": 198,
    "start_time": "2022-05-25T08:31:55.306Z"
   },
   {
    "duration": 206,
    "start_time": "2022-05-25T08:31:56.326Z"
   },
   {
    "duration": 27,
    "start_time": "2022-05-25T08:31:57.987Z"
   },
   {
    "duration": 22,
    "start_time": "2022-05-25T08:31:59.245Z"
   },
   {
    "duration": 179,
    "start_time": "2022-05-25T08:31:59.793Z"
   },
   {
    "duration": 24,
    "start_time": "2022-05-25T08:34:35.013Z"
   },
   {
    "duration": 21,
    "start_time": "2022-05-25T08:34:37.817Z"
   },
   {
    "duration": 150,
    "start_time": "2022-05-25T08:34:38.303Z"
   },
   {
    "duration": 63,
    "start_time": "2022-05-25T08:42:06.715Z"
   },
   {
    "duration": 36,
    "start_time": "2022-05-25T08:42:22.604Z"
   },
   {
    "duration": 54,
    "start_time": "2022-05-25T08:42:30.049Z"
   },
   {
    "duration": 15,
    "start_time": "2022-05-25T08:42:39.734Z"
   },
   {
    "duration": 4,
    "start_time": "2022-05-25T08:43:18.542Z"
   },
   {
    "duration": 74,
    "start_time": "2022-05-25T08:43:43.913Z"
   },
   {
    "duration": 34,
    "start_time": "2022-05-25T08:43:52.699Z"
   },
   {
    "duration": 44,
    "start_time": "2022-05-25T08:47:12.165Z"
   },
   {
    "duration": 8,
    "start_time": "2022-05-25T08:47:35.147Z"
   },
   {
    "duration": 8,
    "start_time": "2022-05-25T09:31:23.666Z"
   },
   {
    "duration": 8,
    "start_time": "2022-05-25T09:31:28.053Z"
   },
   {
    "duration": 1448,
    "start_time": "2022-05-27T07:42:00.194Z"
   },
   {
    "duration": 1588,
    "start_time": "2022-05-27T07:42:39.643Z"
   },
   {
    "duration": 27,
    "start_time": "2022-05-27T07:42:42.602Z"
   },
   {
    "duration": 32,
    "start_time": "2022-05-27T07:42:44.286Z"
   },
   {
    "duration": 100,
    "start_time": "2022-05-27T07:42:45.142Z"
   },
   {
    "duration": 34,
    "start_time": "2022-05-27T07:42:46.203Z"
   },
   {
    "duration": 34,
    "start_time": "2022-05-27T07:44:26.471Z"
   },
   {
    "duration": 61,
    "start_time": "2022-05-27T07:44:27.196Z"
   },
   {
    "duration": 48,
    "start_time": "2022-05-27T07:44:28.795Z"
   },
   {
    "duration": 123,
    "start_time": "2022-05-27T07:44:29.483Z"
   },
   {
    "duration": 44,
    "start_time": "2022-05-27T07:44:30.123Z"
   },
   {
    "duration": 31,
    "start_time": "2022-05-27T07:44:31.434Z"
   },
   {
    "duration": 6,
    "start_time": "2022-05-27T07:44:32.214Z"
   },
   {
    "duration": 94,
    "start_time": "2022-05-27T07:44:35.676Z"
   },
   {
    "duration": 26,
    "start_time": "2022-05-27T07:44:36.040Z"
   },
   {
    "duration": 32,
    "start_time": "2022-05-27T07:44:36.607Z"
   },
   {
    "duration": 59,
    "start_time": "2022-05-27T07:44:37.288Z"
   },
   {
    "duration": 273,
    "start_time": "2022-05-27T07:44:37.489Z"
   },
   {
    "duration": 35,
    "start_time": "2022-05-27T07:44:37.888Z"
   },
   {
    "duration": 58,
    "start_time": "2022-05-27T07:44:38.283Z"
   },
   {
    "duration": 9,
    "start_time": "2022-05-27T07:44:38.494Z"
   },
   {
    "duration": 120,
    "start_time": "2022-05-27T07:44:38.984Z"
   },
   {
    "duration": 17,
    "start_time": "2022-05-27T07:44:39.131Z"
   },
   {
    "duration": 12,
    "start_time": "2022-05-27T07:44:39.325Z"
   },
   {
    "duration": 10,
    "start_time": "2022-05-27T07:44:39.513Z"
   },
   {
    "duration": 42,
    "start_time": "2022-05-27T07:44:39.988Z"
   },
   {
    "duration": 8,
    "start_time": "2022-05-27T07:44:40.337Z"
   },
   {
    "duration": 7,
    "start_time": "2022-05-27T07:44:41.037Z"
   },
   {
    "duration": 8,
    "start_time": "2022-05-27T07:44:41.408Z"
   },
   {
    "duration": 298,
    "start_time": "2022-05-27T15:03:24.687Z"
   },
   {
    "duration": 22,
    "start_time": "2022-05-27T15:07:46.485Z"
   },
   {
    "duration": 31,
    "start_time": "2022-05-27T15:21:28.256Z"
   },
   {
    "duration": 33,
    "start_time": "2022-05-27T15:22:16.590Z"
   },
   {
    "duration": 23,
    "start_time": "2022-05-27T15:23:03.276Z"
   },
   {
    "duration": 18,
    "start_time": "2022-05-27T15:23:26.120Z"
   },
   {
    "duration": 31,
    "start_time": "2022-05-27T15:23:41.880Z"
   },
   {
    "duration": 14,
    "start_time": "2022-05-27T15:23:47.911Z"
   },
   {
    "duration": 16,
    "start_time": "2022-05-27T15:26:12.323Z"
   },
   {
    "duration": 44,
    "start_time": "2022-05-27T15:26:35.348Z"
   },
   {
    "duration": 19,
    "start_time": "2022-05-27T15:26:54.879Z"
   },
   {
    "duration": 33,
    "start_time": "2022-05-27T15:34:55.472Z"
   },
   {
    "duration": 102,
    "start_time": "2022-05-27T15:37:23.869Z"
   },
   {
    "duration": 156,
    "start_time": "2022-05-27T15:37:41.584Z"
   },
   {
    "duration": 54,
    "start_time": "2022-05-27T15:37:45.083Z"
   },
   {
    "duration": 40,
    "start_time": "2022-05-27T15:38:13.472Z"
   },
   {
    "duration": 49,
    "start_time": "2022-05-27T15:38:31.291Z"
   },
   {
    "duration": 68,
    "start_time": "2022-05-27T15:38:37.440Z"
   },
   {
    "duration": 57,
    "start_time": "2022-05-27T15:38:39.517Z"
   },
   {
    "duration": 21,
    "start_time": "2022-05-27T15:39:06.571Z"
   },
   {
    "duration": 50,
    "start_time": "2022-05-27T15:39:14.076Z"
   },
   {
    "duration": 68,
    "start_time": "2022-05-27T15:39:46.712Z"
   },
   {
    "duration": 35,
    "start_time": "2022-05-27T15:40:00.002Z"
   },
   {
    "duration": 35,
    "start_time": "2022-05-27T15:40:52.841Z"
   },
   {
    "duration": 32,
    "start_time": "2022-05-27T15:41:05.946Z"
   },
   {
    "duration": 30,
    "start_time": "2022-05-27T15:41:07.658Z"
   },
   {
    "duration": 267,
    "start_time": "2022-05-27T15:42:08.372Z"
   },
   {
    "duration": 457,
    "start_time": "2022-05-27T15:42:34.583Z"
   },
   {
    "duration": 32,
    "start_time": "2022-05-27T15:42:54.566Z"
   },
   {
    "duration": 185,
    "start_time": "2022-05-27T15:55:22.399Z"
   },
   {
    "duration": 23,
    "start_time": "2022-05-27T15:55:55.050Z"
   },
   {
    "duration": 258,
    "start_time": "2022-05-27T15:56:42.992Z"
   },
   {
    "duration": 249,
    "start_time": "2022-05-27T15:57:05.701Z"
   },
   {
    "duration": 269,
    "start_time": "2022-05-27T15:57:14.247Z"
   },
   {
    "duration": 199,
    "start_time": "2022-05-27T15:57:30.975Z"
   },
   {
    "duration": 164,
    "start_time": "2022-05-27T15:58:55.756Z"
   },
   {
    "duration": 244,
    "start_time": "2022-05-27T15:59:01.907Z"
   },
   {
    "duration": 246,
    "start_time": "2022-05-27T15:59:10.988Z"
   },
   {
    "duration": 229,
    "start_time": "2022-05-27T16:01:02.322Z"
   },
   {
    "duration": 276,
    "start_time": "2022-05-27T16:01:07.789Z"
   },
   {
    "duration": 235,
    "start_time": "2022-05-27T16:01:22.278Z"
   },
   {
    "duration": 171,
    "start_time": "2022-05-27T16:04:24.895Z"
   },
   {
    "duration": 191,
    "start_time": "2022-05-27T16:04:55.343Z"
   },
   {
    "duration": 251,
    "start_time": "2022-05-27T16:05:08.095Z"
   },
   {
    "duration": 345,
    "start_time": "2022-05-27T16:05:51.992Z"
   },
   {
    "duration": 350,
    "start_time": "2022-05-27T16:06:09.715Z"
   },
   {
    "duration": 224,
    "start_time": "2022-05-27T16:06:20.720Z"
   },
   {
    "duration": 227,
    "start_time": "2022-05-27T16:06:26.080Z"
   },
   {
    "duration": 351,
    "start_time": "2022-05-27T16:06:33.594Z"
   },
   {
    "duration": 319,
    "start_time": "2022-05-27T16:06:47.403Z"
   },
   {
    "duration": 309,
    "start_time": "2022-05-27T16:08:15.628Z"
   },
   {
    "duration": 355,
    "start_time": "2022-05-27T16:08:22.570Z"
   },
   {
    "duration": 600,
    "start_time": "2022-05-27T16:08:31.314Z"
   },
   {
    "duration": 316,
    "start_time": "2022-05-27T16:08:35.820Z"
   },
   {
    "duration": 265,
    "start_time": "2022-05-27T16:08:39.527Z"
   },
   {
    "duration": 264,
    "start_time": "2022-05-27T16:08:43.346Z"
   },
   {
    "duration": 261,
    "start_time": "2022-05-27T16:08:45.581Z"
   },
   {
    "duration": 376,
    "start_time": "2022-05-27T16:08:47.813Z"
   },
   {
    "duration": 176,
    "start_time": "2022-05-27T16:08:50.214Z"
   },
   {
    "duration": 202,
    "start_time": "2022-05-27T16:08:52.495Z"
   },
   {
    "duration": 177,
    "start_time": "2022-05-27T16:08:56.969Z"
   },
   {
    "duration": 186,
    "start_time": "2022-05-27T16:09:11.416Z"
   },
   {
    "duration": 229,
    "start_time": "2022-05-27T16:09:17.630Z"
   },
   {
    "duration": 284,
    "start_time": "2022-05-27T16:09:23.010Z"
   },
   {
    "duration": 33,
    "start_time": "2022-05-27T16:10:32.380Z"
   },
   {
    "duration": 10,
    "start_time": "2022-05-27T16:10:43.394Z"
   },
   {
    "duration": 12,
    "start_time": "2022-05-27T16:10:48.421Z"
   },
   {
    "duration": 281,
    "start_time": "2022-05-27T16:11:04.075Z"
   },
   {
    "duration": 361,
    "start_time": "2022-05-27T16:11:14.105Z"
   },
   {
    "duration": 355,
    "start_time": "2022-05-27T16:11:38.030Z"
   },
   {
    "duration": 333,
    "start_time": "2022-05-27T16:11:59.470Z"
   },
   {
    "duration": 157,
    "start_time": "2022-05-27T16:12:40.608Z"
   },
   {
    "duration": 301,
    "start_time": "2022-05-27T16:12:49.672Z"
   },
   {
    "duration": 90,
    "start_time": "2022-05-27T16:15:42.332Z"
   },
   {
    "duration": 57,
    "start_time": "2022-05-27T16:15:53.579Z"
   },
   {
    "duration": 57,
    "start_time": "2022-05-27T16:15:57.976Z"
   },
   {
    "duration": 23,
    "start_time": "2022-05-27T16:16:00.425Z"
   },
   {
    "duration": 138,
    "start_time": "2022-05-27T16:16:17.169Z"
   },
   {
    "duration": 133,
    "start_time": "2022-05-27T16:37:31.170Z"
   },
   {
    "duration": 25,
    "start_time": "2022-05-27T16:38:35.703Z"
   },
   {
    "duration": 138,
    "start_time": "2022-05-27T16:38:41.494Z"
   },
   {
    "duration": 151,
    "start_time": "2022-05-27T16:39:36.788Z"
   },
   {
    "duration": 146,
    "start_time": "2022-05-27T16:39:40.191Z"
   },
   {
    "duration": 157,
    "start_time": "2022-05-27T16:41:02.292Z"
   },
   {
    "duration": 10,
    "start_time": "2022-05-27T16:42:05.809Z"
   },
   {
    "duration": 166,
    "start_time": "2022-05-27T16:42:32.203Z"
   },
   {
    "duration": 11,
    "start_time": "2022-05-27T16:42:37.928Z"
   },
   {
    "duration": 191,
    "start_time": "2022-05-27T16:46:37.185Z"
   },
   {
    "duration": 11,
    "start_time": "2022-05-27T16:47:01.408Z"
   },
   {
    "duration": 11,
    "start_time": "2022-05-27T16:48:54.707Z"
   },
   {
    "duration": 11,
    "start_time": "2022-05-27T16:49:02.398Z"
   },
   {
    "duration": 10,
    "start_time": "2022-05-27T16:49:06.924Z"
   },
   {
    "duration": 33,
    "start_time": "2022-05-27T16:50:33.378Z"
   },
   {
    "duration": 40,
    "start_time": "2022-05-27T16:50:50.172Z"
   },
   {
    "duration": 492,
    "start_time": "2022-05-27T16:50:54.581Z"
   },
   {
    "duration": 10,
    "start_time": "2022-05-27T16:51:35.905Z"
   },
   {
    "duration": 197,
    "start_time": "2022-05-27T16:51:42.907Z"
   },
   {
    "duration": 233,
    "start_time": "2022-05-27T16:51:49.180Z"
   },
   {
    "duration": 272,
    "start_time": "2022-05-27T16:52:01.976Z"
   },
   {
    "duration": 3,
    "start_time": "2022-05-27T16:53:12.913Z"
   },
   {
    "duration": 78,
    "start_time": "2022-05-27T16:53:47.466Z"
   },
   {
    "duration": 190,
    "start_time": "2022-05-27T16:53:51.977Z"
   },
   {
    "duration": 150,
    "start_time": "2022-05-27T16:54:04.278Z"
   },
   {
    "duration": 166,
    "start_time": "2022-05-27T16:54:11.271Z"
   },
   {
    "duration": 255,
    "start_time": "2022-05-27T16:55:04.370Z"
   },
   {
    "duration": 305,
    "start_time": "2022-05-27T16:55:13.174Z"
   },
   {
    "duration": 334,
    "start_time": "2022-05-27T16:55:47.925Z"
   },
   {
    "duration": 271,
    "start_time": "2022-05-27T16:55:57.279Z"
   },
   {
    "duration": 295,
    "start_time": "2022-05-27T16:56:04.909Z"
   },
   {
    "duration": 489,
    "start_time": "2022-05-27T16:58:03.118Z"
   },
   {
    "duration": 294,
    "start_time": "2022-05-27T16:59:52.636Z"
   },
   {
    "duration": 293,
    "start_time": "2022-05-27T16:59:53.317Z"
   },
   {
    "duration": 313,
    "start_time": "2022-05-27T17:00:20.580Z"
   },
   {
    "duration": 287,
    "start_time": "2022-05-27T17:00:21.273Z"
   },
   {
    "duration": 292,
    "start_time": "2022-05-27T17:00:29.986Z"
   },
   {
    "duration": 295,
    "start_time": "2022-05-27T17:01:59.874Z"
   },
   {
    "duration": 282,
    "start_time": "2022-05-27T17:02:02.773Z"
   },
   {
    "duration": 280,
    "start_time": "2022-05-27T17:02:13.900Z"
   },
   {
    "duration": 294,
    "start_time": "2022-05-27T17:02:17.939Z"
   },
   {
    "duration": 278,
    "start_time": "2022-05-27T17:02:37.691Z"
   },
   {
    "duration": 13,
    "start_time": "2022-05-27T17:05:58.607Z"
   },
   {
    "duration": 14,
    "start_time": "2022-05-27T17:06:10.279Z"
   },
   {
    "duration": 15,
    "start_time": "2022-05-27T17:06:26.579Z"
   },
   {
    "duration": 22,
    "start_time": "2022-05-27T17:06:30.172Z"
   },
   {
    "duration": 11,
    "start_time": "2022-05-27T17:08:04.497Z"
   },
   {
    "duration": 11,
    "start_time": "2022-05-27T17:08:09.821Z"
   },
   {
    "duration": 11,
    "start_time": "2022-05-27T17:08:31.212Z"
   },
   {
    "duration": 14,
    "start_time": "2022-05-27T17:08:39.581Z"
   },
   {
    "duration": 29,
    "start_time": "2022-05-27T17:08:48.281Z"
   },
   {
    "duration": 9,
    "start_time": "2022-05-27T17:08:50.804Z"
   },
   {
    "duration": 10,
    "start_time": "2022-05-27T17:10:21.621Z"
   },
   {
    "duration": 21,
    "start_time": "2022-05-27T17:10:36.090Z"
   },
   {
    "duration": 12,
    "start_time": "2022-05-27T17:10:51.378Z"
   },
   {
    "duration": 14,
    "start_time": "2022-05-27T17:10:59.072Z"
   },
   {
    "duration": 14,
    "start_time": "2022-05-27T17:11:07.376Z"
   },
   {
    "duration": 10,
    "start_time": "2022-05-27T17:11:14.006Z"
   },
   {
    "duration": 9,
    "start_time": "2022-05-27T17:11:29.999Z"
   },
   {
    "duration": 14,
    "start_time": "2022-05-27T17:19:58.444Z"
   },
   {
    "duration": 11,
    "start_time": "2022-05-27T17:20:15.678Z"
   },
   {
    "duration": 29,
    "start_time": "2022-05-27T17:20:25.542Z"
   },
   {
    "duration": 16,
    "start_time": "2022-05-27T17:20:29.184Z"
   },
   {
    "duration": 9,
    "start_time": "2022-05-27T17:20:35.221Z"
   },
   {
    "duration": 8,
    "start_time": "2022-05-27T17:20:43.218Z"
   },
   {
    "duration": 8,
    "start_time": "2022-05-27T17:20:51.705Z"
   },
   {
    "duration": 9,
    "start_time": "2022-05-27T17:24:29.641Z"
   },
   {
    "duration": 22,
    "start_time": "2022-05-27T17:26:32.767Z"
   },
   {
    "duration": 16,
    "start_time": "2022-05-27T17:26:43.582Z"
   },
   {
    "duration": 538,
    "start_time": "2022-05-27T17:28:18.581Z"
   },
   {
    "duration": 55,
    "start_time": "2022-05-27T17:29:06.135Z"
   },
   {
    "duration": 187,
    "start_time": "2022-05-27T17:30:30.987Z"
   },
   {
    "duration": 180,
    "start_time": "2022-05-27T17:30:47.299Z"
   },
   {
    "duration": 202,
    "start_time": "2022-05-27T17:30:50.887Z"
   },
   {
    "duration": 172,
    "start_time": "2022-05-27T17:31:17.536Z"
   },
   {
    "duration": 145,
    "start_time": "2022-05-27T17:31:33.292Z"
   },
   {
    "duration": 160,
    "start_time": "2022-05-27T17:31:41.149Z"
   },
   {
    "duration": 303,
    "start_time": "2022-05-27T17:32:01.646Z"
   },
   {
    "duration": 286,
    "start_time": "2022-05-27T17:32:13.578Z"
   },
   {
    "duration": 268,
    "start_time": "2022-05-27T17:32:36.190Z"
   },
   {
    "duration": 173,
    "start_time": "2022-05-27T17:33:00.370Z"
   },
   {
    "duration": 171,
    "start_time": "2022-05-27T17:46:25.323Z"
   },
   {
    "duration": 173,
    "start_time": "2022-05-27T17:46:31.424Z"
   },
   {
    "duration": 151,
    "start_time": "2022-05-27T17:46:40.798Z"
   },
   {
    "duration": 156,
    "start_time": "2022-05-27T17:47:01.576Z"
   },
   {
    "duration": 151,
    "start_time": "2022-05-27T17:47:16.317Z"
   },
   {
    "duration": 145,
    "start_time": "2022-05-27T17:48:52.789Z"
   },
   {
    "duration": 13,
    "start_time": "2022-05-27T18:01:13.176Z"
   },
   {
    "duration": 12,
    "start_time": "2022-05-27T18:02:58.994Z"
   },
   {
    "duration": 12,
    "start_time": "2022-05-27T18:03:26.900Z"
   },
   {
    "duration": 7,
    "start_time": "2022-05-27T18:03:34.881Z"
   },
   {
    "duration": 7,
    "start_time": "2022-05-27T18:03:50.928Z"
   },
   {
    "duration": 8,
    "start_time": "2022-05-27T18:06:18.892Z"
   },
   {
    "duration": 9,
    "start_time": "2022-05-27T18:07:26.593Z"
   },
   {
    "duration": 13,
    "start_time": "2022-05-27T18:07:42.474Z"
   },
   {
    "duration": 8,
    "start_time": "2022-05-27T18:07:49.420Z"
   },
   {
    "duration": 8,
    "start_time": "2022-05-27T18:07:56.688Z"
   },
   {
    "duration": 16,
    "start_time": "2022-05-27T18:08:05.300Z"
   },
   {
    "duration": 8,
    "start_time": "2022-05-27T18:08:18.477Z"
   },
   {
    "duration": 10,
    "start_time": "2022-05-27T18:09:29.571Z"
   },
   {
    "duration": 5,
    "start_time": "2022-05-27T18:10:09.872Z"
   },
   {
    "duration": 1067,
    "start_time": "2022-05-27T18:10:10.278Z"
   },
   {
    "duration": 23,
    "start_time": "2022-05-27T18:10:11.347Z"
   },
   {
    "duration": 1182,
    "start_time": "2022-05-27T18:10:26.219Z"
   },
   {
    "duration": 442,
    "start_time": "2022-05-27T18:10:27.403Z"
   },
   {
    "duration": 33,
    "start_time": "2022-05-27T18:10:27.847Z"
   },
   {
    "duration": 28,
    "start_time": "2022-05-27T18:10:27.882Z"
   },
   {
    "duration": 83,
    "start_time": "2022-05-27T18:10:27.912Z"
   },
   {
    "duration": 31,
    "start_time": "2022-05-27T18:10:27.997Z"
   },
   {
    "duration": 46,
    "start_time": "2022-05-27T18:10:28.029Z"
   },
   {
    "duration": 62,
    "start_time": "2022-05-27T18:10:28.077Z"
   },
   {
    "duration": 41,
    "start_time": "2022-05-27T18:10:28.141Z"
   },
   {
    "duration": 122,
    "start_time": "2022-05-27T18:10:28.184Z"
   },
   {
    "duration": 27,
    "start_time": "2022-05-27T18:10:28.308Z"
   },
   {
    "duration": 34,
    "start_time": "2022-05-27T18:10:28.337Z"
   },
   {
    "duration": 8,
    "start_time": "2022-05-27T18:10:28.378Z"
   },
   {
    "duration": 79,
    "start_time": "2022-05-27T18:10:28.389Z"
   },
   {
    "duration": 24,
    "start_time": "2022-05-27T18:10:28.469Z"
   },
   {
    "duration": 30,
    "start_time": "2022-05-27T18:10:28.494Z"
   },
   {
    "duration": 77,
    "start_time": "2022-05-27T18:10:28.526Z"
   },
   {
    "duration": 75,
    "start_time": "2022-05-27T18:10:28.605Z"
   },
   {
    "duration": 31,
    "start_time": "2022-05-27T18:10:28.682Z"
   },
   {
    "duration": 64,
    "start_time": "2022-05-27T18:10:28.714Z"
   },
   {
    "duration": 2,
    "start_time": "2022-05-27T18:10:28.780Z"
   },
   {
    "duration": 112,
    "start_time": "2022-05-27T18:10:28.783Z"
   },
   {
    "duration": 11,
    "start_time": "2022-05-27T18:10:28.897Z"
   },
   {
    "duration": 23,
    "start_time": "2022-05-27T18:10:28.910Z"
   },
   {
    "duration": 15,
    "start_time": "2022-05-27T18:10:28.934Z"
   },
   {
    "duration": 63,
    "start_time": "2022-05-27T18:10:28.950Z"
   },
   {
    "duration": 7,
    "start_time": "2022-05-27T18:10:29.015Z"
   },
   {
    "duration": 12,
    "start_time": "2022-05-27T18:10:29.024Z"
   },
   {
    "duration": 27,
    "start_time": "2022-05-27T18:10:29.038Z"
   },
   {
    "duration": 45,
    "start_time": "2022-05-27T18:10:29.066Z"
   },
   {
    "duration": 12,
    "start_time": "2022-05-27T18:10:29.113Z"
   },
   {
    "duration": 4,
    "start_time": "2022-05-27T18:10:29.127Z"
   },
   {
    "duration": 147,
    "start_time": "2022-05-27T18:10:29.132Z"
   },
   {
    "duration": 4,
    "start_time": "2022-05-27T18:10:29.281Z"
   },
   {
    "duration": 33,
    "start_time": "2022-05-27T18:10:29.286Z"
   },
   {
    "duration": 16,
    "start_time": "2022-05-27T18:10:29.320Z"
   },
   {
    "duration": 67,
    "start_time": "2022-05-27T18:10:29.337Z"
   },
   {
    "duration": 14,
    "start_time": "2022-05-27T18:10:29.406Z"
   },
   {
    "duration": 249,
    "start_time": "2022-05-27T18:10:29.421Z"
   },
   {
    "duration": 242,
    "start_time": "2022-05-27T18:10:29.679Z"
   },
   {
    "duration": 38,
    "start_time": "2022-05-27T18:10:29.925Z"
   },
   {
    "duration": 28,
    "start_time": "2022-05-27T18:10:29.965Z"
   },
   {
    "duration": 198,
    "start_time": "2022-05-27T18:10:29.995Z"
   },
   {
    "duration": 23,
    "start_time": "2022-05-27T18:10:30.195Z"
   },
   {
    "duration": 43,
    "start_time": "2022-05-27T18:10:30.220Z"
   },
   {
    "duration": 170,
    "start_time": "2022-05-27T18:10:30.276Z"
   },
   {
    "duration": 32,
    "start_time": "2022-05-27T18:10:30.448Z"
   },
   {
    "duration": 30,
    "start_time": "2022-05-27T18:10:30.482Z"
   },
   {
    "duration": 43,
    "start_time": "2022-05-27T18:10:30.514Z"
   },
   {
    "duration": 172,
    "start_time": "2022-05-27T18:10:30.561Z"
   },
   {
    "duration": 158,
    "start_time": "2022-05-27T18:10:30.734Z"
   },
   {
    "duration": 11,
    "start_time": "2022-05-27T18:10:30.894Z"
   },
   {
    "duration": 189,
    "start_time": "2022-05-27T18:10:30.907Z"
   },
   {
    "duration": 11,
    "start_time": "2022-05-27T18:10:31.098Z"
   },
   {
    "duration": 371,
    "start_time": "2022-05-27T18:10:31.111Z"
   },
   {
    "duration": 255,
    "start_time": "2022-05-27T18:10:31.484Z"
   },
   {
    "duration": 196,
    "start_time": "2022-05-27T18:10:31.741Z"
   },
   {
    "duration": 284,
    "start_time": "2022-05-27T18:10:31.938Z"
   },
   {
    "duration": 273,
    "start_time": "2022-05-27T18:10:32.224Z"
   },
   {
    "duration": 187,
    "start_time": "2022-05-27T18:10:32.499Z"
   },
   {
    "duration": 377,
    "start_time": "2022-05-27T18:10:32.692Z"
   },
   {
    "duration": 240,
    "start_time": "2022-05-27T18:10:33.073Z"
   },
   {
    "duration": 161,
    "start_time": "2022-05-27T18:10:33.315Z"
   },
   {
    "duration": 12,
    "start_time": "2022-05-27T18:10:33.479Z"
   },
   {
    "duration": 10,
    "start_time": "2022-05-27T18:10:33.493Z"
   },
   {
    "duration": 13,
    "start_time": "2022-05-27T18:10:33.505Z"
   },
   {
    "duration": 6,
    "start_time": "2022-05-27T18:10:33.519Z"
   },
   {
    "duration": 117,
    "start_time": "2022-05-27T18:10:33.527Z"
   },
   {
    "duration": 11,
    "start_time": "2022-05-27T18:12:06.095Z"
   },
   {
    "duration": 5,
    "start_time": "2022-05-27T18:12:06.806Z"
   },
   {
    "duration": 9,
    "start_time": "2022-05-27T18:13:02.299Z"
   },
   {
    "duration": 5,
    "start_time": "2022-05-27T18:13:06.288Z"
   },
   {
    "duration": 7,
    "start_time": "2022-05-27T18:13:46.707Z"
   },
   {
    "duration": 12,
    "start_time": "2022-05-27T18:13:47.152Z"
   },
   {
    "duration": 5,
    "start_time": "2022-05-27T18:14:30.000Z"
   },
   {
    "duration": 4,
    "start_time": "2022-05-27T18:16:15.483Z"
   },
   {
    "duration": 4,
    "start_time": "2022-05-27T18:16:26.597Z"
   },
   {
    "duration": 6,
    "start_time": "2022-05-27T18:17:02.928Z"
   },
   {
    "duration": 6,
    "start_time": "2022-05-27T18:20:27.278Z"
   },
   {
    "duration": 10,
    "start_time": "2022-05-27T18:21:34.663Z"
   },
   {
    "duration": 9,
    "start_time": "2022-05-27T18:21:38.164Z"
   },
   {
    "duration": 136,
    "start_time": "2022-05-27T18:21:59.765Z"
   },
   {
    "duration": 8,
    "start_time": "2022-05-27T18:22:10.763Z"
   },
   {
    "duration": 8,
    "start_time": "2022-05-27T18:22:11.075Z"
   },
   {
    "duration": 123,
    "start_time": "2022-05-27T18:22:11.461Z"
   },
   {
    "duration": 10,
    "start_time": "2022-05-27T18:22:52.693Z"
   },
   {
    "duration": 8,
    "start_time": "2022-05-27T18:22:55.153Z"
   },
   {
    "duration": 5,
    "start_time": "2022-05-27T18:23:04.313Z"
   },
   {
    "duration": 314,
    "start_time": "2022-05-27T18:24:43.669Z"
   },
   {
    "duration": 8,
    "start_time": "2022-05-27T18:24:58.352Z"
   },
   {
    "duration": 3,
    "start_time": "2022-05-27T18:25:11.824Z"
   },
   {
    "duration": 6,
    "start_time": "2022-05-27T18:25:32.567Z"
   },
   {
    "duration": 7,
    "start_time": "2022-05-27T18:25:41.055Z"
   },
   {
    "duration": 20,
    "start_time": "2022-05-27T18:26:04.220Z"
   },
   {
    "duration": 10,
    "start_time": "2022-05-27T18:27:18.616Z"
   },
   {
    "duration": 4,
    "start_time": "2022-05-27T18:27:23.778Z"
   },
   {
    "duration": 4,
    "start_time": "2022-05-27T18:27:35.012Z"
   },
   {
    "duration": 5,
    "start_time": "2022-05-27T18:27:40.035Z"
   },
   {
    "duration": 4,
    "start_time": "2022-05-27T18:33:45.965Z"
   },
   {
    "duration": 54,
    "start_time": "2022-05-27T20:42:44.128Z"
   },
   {
    "duration": 1183,
    "start_time": "2022-05-27T20:42:50.876Z"
   },
   {
    "duration": 442,
    "start_time": "2022-05-27T20:42:52.061Z"
   },
   {
    "duration": 19,
    "start_time": "2022-05-27T20:42:52.504Z"
   },
   {
    "duration": 33,
    "start_time": "2022-05-27T20:42:52.525Z"
   },
   {
    "duration": 96,
    "start_time": "2022-05-27T20:42:52.560Z"
   },
   {
    "duration": 31,
    "start_time": "2022-05-27T20:42:52.657Z"
   },
   {
    "duration": 45,
    "start_time": "2022-05-27T20:42:52.690Z"
   },
   {
    "duration": 57,
    "start_time": "2022-05-27T20:42:52.737Z"
   },
   {
    "duration": 50,
    "start_time": "2022-05-27T20:42:52.796Z"
   },
   {
    "duration": 117,
    "start_time": "2022-05-27T20:42:52.848Z"
   },
   {
    "duration": 30,
    "start_time": "2022-05-27T20:42:52.966Z"
   },
   {
    "duration": 36,
    "start_time": "2022-05-27T20:42:52.998Z"
   },
   {
    "duration": 7,
    "start_time": "2022-05-27T20:42:53.036Z"
   },
   {
    "duration": 87,
    "start_time": "2022-05-27T20:42:53.045Z"
   },
   {
    "duration": 19,
    "start_time": "2022-05-27T20:42:53.134Z"
   },
   {
    "duration": 35,
    "start_time": "2022-05-27T20:42:53.155Z"
   },
   {
    "duration": 72,
    "start_time": "2022-05-27T20:42:53.192Z"
   },
   {
    "duration": 68,
    "start_time": "2022-05-27T20:42:53.266Z"
   },
   {
    "duration": 35,
    "start_time": "2022-05-27T20:42:53.335Z"
   },
   {
    "duration": 59,
    "start_time": "2022-05-27T20:42:53.372Z"
   },
   {
    "duration": 2,
    "start_time": "2022-05-27T20:42:53.433Z"
   },
   {
    "duration": 124,
    "start_time": "2022-05-27T20:42:53.437Z"
   },
   {
    "duration": 12,
    "start_time": "2022-05-27T20:42:53.562Z"
   },
   {
    "duration": 30,
    "start_time": "2022-05-27T20:42:53.575Z"
   },
   {
    "duration": 11,
    "start_time": "2022-05-27T20:42:53.607Z"
   },
   {
    "duration": 45,
    "start_time": "2022-05-27T20:42:53.620Z"
   },
   {
    "duration": 7,
    "start_time": "2022-05-27T20:42:53.667Z"
   },
   {
    "duration": 12,
    "start_time": "2022-05-27T20:42:53.679Z"
   },
   {
    "duration": 17,
    "start_time": "2022-05-27T20:42:53.692Z"
   },
   {
    "duration": 36,
    "start_time": "2022-05-27T20:42:53.711Z"
   },
   {
    "duration": 10,
    "start_time": "2022-05-27T20:42:53.749Z"
   },
   {
    "duration": 15,
    "start_time": "2022-05-27T20:42:53.761Z"
   },
   {
    "duration": 126,
    "start_time": "2022-05-27T20:42:53.778Z"
   },
   {
    "duration": 4,
    "start_time": "2022-05-27T20:42:53.906Z"
   },
   {
    "duration": 42,
    "start_time": "2022-05-27T20:42:53.911Z"
   },
   {
    "duration": 4,
    "start_time": "2022-05-27T20:42:53.955Z"
   },
   {
    "duration": 30,
    "start_time": "2022-05-27T20:42:53.961Z"
   },
   {
    "duration": 60,
    "start_time": "2022-05-27T20:42:53.993Z"
   },
   {
    "duration": 13,
    "start_time": "2022-05-27T20:42:54.054Z"
   },
   {
    "duration": 203,
    "start_time": "2022-05-27T20:42:54.068Z"
   },
   {
    "duration": 231,
    "start_time": "2022-05-27T20:42:54.273Z"
   },
   {
    "duration": 39,
    "start_time": "2022-05-27T20:42:54.506Z"
   },
   {
    "duration": 25,
    "start_time": "2022-05-27T20:42:54.546Z"
   },
   {
    "duration": 182,
    "start_time": "2022-05-27T20:42:54.573Z"
   },
   {
    "duration": 25,
    "start_time": "2022-05-27T20:42:54.757Z"
   },
   {
    "duration": 32,
    "start_time": "2022-05-27T20:42:54.784Z"
   },
   {
    "duration": 173,
    "start_time": "2022-05-27T20:42:54.818Z"
   },
   {
    "duration": 16,
    "start_time": "2022-05-27T20:42:54.993Z"
   },
   {
    "duration": 28,
    "start_time": "2022-05-27T20:42:55.011Z"
   },
   {
    "duration": 16,
    "start_time": "2022-05-27T20:42:55.041Z"
   },
   {
    "duration": 147,
    "start_time": "2022-05-27T20:42:55.059Z"
   },
   {
    "duration": 136,
    "start_time": "2022-05-27T20:42:55.208Z"
   },
   {
    "duration": 10,
    "start_time": "2022-05-27T20:42:55.346Z"
   },
   {
    "duration": 164,
    "start_time": "2022-05-27T20:42:55.358Z"
   },
   {
    "duration": 11,
    "start_time": "2022-05-27T20:42:55.526Z"
   },
   {
    "duration": 364,
    "start_time": "2022-05-27T20:42:55.539Z"
   },
   {
    "duration": 240,
    "start_time": "2022-05-27T20:42:55.905Z"
   },
   {
    "duration": 156,
    "start_time": "2022-05-27T20:42:56.146Z"
   },
   {
    "duration": 257,
    "start_time": "2022-05-27T20:42:56.303Z"
   },
   {
    "duration": 242,
    "start_time": "2022-05-27T20:42:56.562Z"
   },
   {
    "duration": 149,
    "start_time": "2022-05-27T20:42:56.805Z"
   },
   {
    "duration": 348,
    "start_time": "2022-05-27T20:42:56.956Z"
   },
   {
    "duration": 224,
    "start_time": "2022-05-27T20:42:57.305Z"
   },
   {
    "duration": 138,
    "start_time": "2022-05-27T20:42:57.531Z"
   },
   {
    "duration": 3,
    "start_time": "2022-05-27T20:42:57.671Z"
   },
   {
    "duration": 17,
    "start_time": "2022-05-27T20:42:57.675Z"
   },
   {
    "duration": 7,
    "start_time": "2022-05-27T20:42:57.694Z"
   },
   {
    "duration": 6,
    "start_time": "2022-05-27T20:42:57.702Z"
   },
   {
    "duration": 7,
    "start_time": "2022-05-27T20:42:57.726Z"
   },
   {
    "duration": 10,
    "start_time": "2022-05-27T20:42:57.734Z"
   },
   {
    "duration": 8,
    "start_time": "2022-05-27T20:42:57.745Z"
   },
   {
    "duration": 8,
    "start_time": "2022-05-27T20:42:57.755Z"
   },
   {
    "duration": 6,
    "start_time": "2022-05-27T20:44:22.023Z"
   },
   {
    "duration": 4,
    "start_time": "2022-05-27T20:44:41.080Z"
   },
   {
    "duration": 25,
    "start_time": "2022-05-27T20:45:08.608Z"
   },
   {
    "duration": 17,
    "start_time": "2022-05-27T20:46:00.397Z"
   },
   {
    "duration": 8,
    "start_time": "2022-05-27T20:53:28.765Z"
   },
   {
    "duration": 6,
    "start_time": "2022-05-27T20:53:29.675Z"
   },
   {
    "duration": 1042,
    "start_time": "2022-05-27T20:58:23.822Z"
   },
   {
    "duration": 402,
    "start_time": "2022-05-27T20:58:24.865Z"
   },
   {
    "duration": 19,
    "start_time": "2022-05-27T20:58:25.268Z"
   },
   {
    "duration": 39,
    "start_time": "2022-05-27T20:58:25.289Z"
   },
   {
    "duration": 66,
    "start_time": "2022-05-27T20:58:25.330Z"
   },
   {
    "duration": 49,
    "start_time": "2022-05-27T20:58:25.398Z"
   },
   {
    "duration": 22,
    "start_time": "2022-05-27T20:58:25.448Z"
   },
   {
    "duration": 67,
    "start_time": "2022-05-27T20:58:25.472Z"
   },
   {
    "duration": 30,
    "start_time": "2022-05-27T20:58:25.541Z"
   },
   {
    "duration": 125,
    "start_time": "2022-05-27T20:58:25.574Z"
   },
   {
    "duration": 40,
    "start_time": "2022-05-27T20:58:25.700Z"
   },
   {
    "duration": 19,
    "start_time": "2022-05-27T20:58:25.743Z"
   },
   {
    "duration": 9,
    "start_time": "2022-05-27T20:58:25.764Z"
   },
   {
    "duration": 89,
    "start_time": "2022-05-27T20:58:25.774Z"
   },
   {
    "duration": 18,
    "start_time": "2022-05-27T20:58:25.864Z"
   },
   {
    "duration": 32,
    "start_time": "2022-05-27T20:58:25.883Z"
   },
   {
    "duration": 51,
    "start_time": "2022-05-27T20:58:25.926Z"
   },
   {
    "duration": 72,
    "start_time": "2022-05-27T20:58:25.978Z"
   },
   {
    "duration": 31,
    "start_time": "2022-05-27T20:58:26.051Z"
   },
   {
    "duration": 52,
    "start_time": "2022-05-27T20:58:26.084Z"
   },
   {
    "duration": 2,
    "start_time": "2022-05-27T20:58:26.137Z"
   },
   {
    "duration": 116,
    "start_time": "2022-05-27T20:58:26.141Z"
   },
   {
    "duration": 10,
    "start_time": "2022-05-27T20:58:26.258Z"
   },
   {
    "duration": 28,
    "start_time": "2022-05-27T20:58:26.269Z"
   },
   {
    "duration": 25,
    "start_time": "2022-05-27T20:58:26.299Z"
   },
   {
    "duration": 33,
    "start_time": "2022-05-27T20:58:26.325Z"
   },
   {
    "duration": 5,
    "start_time": "2022-05-27T20:58:26.360Z"
   },
   {
    "duration": 30,
    "start_time": "2022-05-27T20:58:26.369Z"
   },
   {
    "duration": 31,
    "start_time": "2022-05-27T20:58:26.400Z"
   },
   {
    "duration": 32,
    "start_time": "2022-05-27T20:58:26.432Z"
   },
   {
    "duration": 11,
    "start_time": "2022-05-27T20:58:26.465Z"
   },
   {
    "duration": 5,
    "start_time": "2022-05-27T20:58:26.477Z"
   },
   {
    "duration": 136,
    "start_time": "2022-05-27T20:58:26.483Z"
   },
   {
    "duration": 7,
    "start_time": "2022-05-27T20:58:26.620Z"
   },
   {
    "duration": 47,
    "start_time": "2022-05-27T20:58:26.628Z"
   },
   {
    "duration": 4,
    "start_time": "2022-05-27T20:58:26.676Z"
   },
   {
    "duration": 37,
    "start_time": "2022-05-27T20:58:26.681Z"
   },
   {
    "duration": 28,
    "start_time": "2022-05-27T20:58:26.719Z"
   },
   {
    "duration": 55,
    "start_time": "2022-05-27T20:58:26.748Z"
   },
   {
    "duration": 15,
    "start_time": "2022-05-27T20:58:26.805Z"
   },
   {
    "duration": 209,
    "start_time": "2022-05-27T20:58:26.822Z"
   },
   {
    "duration": 219,
    "start_time": "2022-05-27T20:58:27.032Z"
   },
   {
    "duration": 26,
    "start_time": "2022-05-27T20:58:27.253Z"
   },
   {
    "duration": 21,
    "start_time": "2022-05-27T20:58:27.281Z"
   },
   {
    "duration": 176,
    "start_time": "2022-05-27T20:58:27.303Z"
   },
   {
    "duration": 25,
    "start_time": "2022-05-27T20:58:27.481Z"
   },
   {
    "duration": 35,
    "start_time": "2022-05-27T20:58:27.507Z"
   },
   {
    "duration": 173,
    "start_time": "2022-05-27T20:58:27.543Z"
   },
   {
    "duration": 14,
    "start_time": "2022-05-27T20:58:27.718Z"
   },
   {
    "duration": 20,
    "start_time": "2022-05-27T20:58:27.734Z"
   },
   {
    "duration": 23,
    "start_time": "2022-05-27T20:58:27.756Z"
   },
   {
    "duration": 150,
    "start_time": "2022-05-27T20:58:27.781Z"
   },
   {
    "duration": 148,
    "start_time": "2022-05-27T20:58:27.932Z"
   },
   {
    "duration": 10,
    "start_time": "2022-05-27T20:58:28.082Z"
   },
   {
    "duration": 160,
    "start_time": "2022-05-27T20:58:28.094Z"
   },
   {
    "duration": 10,
    "start_time": "2022-05-27T20:58:28.256Z"
   },
   {
    "duration": 312,
    "start_time": "2022-05-27T20:58:28.268Z"
   },
   {
    "duration": 239,
    "start_time": "2022-05-27T20:58:28.581Z"
   },
   {
    "duration": 143,
    "start_time": "2022-05-27T20:58:28.826Z"
   },
   {
    "duration": 243,
    "start_time": "2022-05-27T20:58:28.971Z"
   },
   {
    "duration": 230,
    "start_time": "2022-05-27T20:58:29.215Z"
   },
   {
    "duration": 155,
    "start_time": "2022-05-27T20:58:29.446Z"
   },
   {
    "duration": 350,
    "start_time": "2022-05-27T20:58:29.602Z"
   },
   {
    "duration": 232,
    "start_time": "2022-05-27T20:58:29.953Z"
   },
   {
    "duration": 151,
    "start_time": "2022-05-27T20:58:30.187Z"
   },
   {
    "duration": 2,
    "start_time": "2022-05-27T20:58:30.340Z"
   },
   {
    "duration": 35,
    "start_time": "2022-05-27T20:58:30.343Z"
   },
   {
    "duration": 18,
    "start_time": "2022-05-27T20:58:30.380Z"
   },
   {
    "duration": 13,
    "start_time": "2022-05-27T20:58:30.400Z"
   },
   {
    "duration": 28,
    "start_time": "2022-05-27T20:58:30.415Z"
   },
   {
    "duration": 32,
    "start_time": "2022-05-27T20:58:30.445Z"
   },
   {
    "duration": 22,
    "start_time": "2022-05-27T20:58:30.479Z"
   },
   {
    "duration": 16,
    "start_time": "2022-05-27T20:58:30.503Z"
   },
   {
    "duration": 14,
    "start_time": "2022-05-27T20:58:30.520Z"
   },
   {
    "duration": 54,
    "start_time": "2022-05-28T05:47:08.445Z"
   },
   {
    "duration": 1242,
    "start_time": "2022-05-28T05:47:11.278Z"
   },
   {
    "duration": 929,
    "start_time": "2022-05-28T05:47:12.522Z"
   },
   {
    "duration": 19,
    "start_time": "2022-05-28T05:47:16.928Z"
   },
   {
    "duration": 30,
    "start_time": "2022-05-28T05:47:20.187Z"
   },
   {
    "duration": 49,
    "start_time": "2022-05-28T05:47:35.245Z"
   },
   {
    "duration": 24,
    "start_time": "2022-05-28T05:47:36.104Z"
   },
   {
    "duration": 46,
    "start_time": "2022-05-28T06:14:41.215Z"
   },
   {
    "duration": 26,
    "start_time": "2022-05-28T06:14:51.364Z"
   },
   {
    "duration": 66,
    "start_time": "2022-05-28T06:15:06.456Z"
   },
   {
    "duration": 6,
    "start_time": "2022-05-28T06:15:10.952Z"
   },
   {
    "duration": 93,
    "start_time": "2022-05-28T06:15:16.391Z"
   },
   {
    "duration": 6,
    "start_time": "2022-05-28T06:15:29.670Z"
   },
   {
    "duration": 120,
    "start_time": "2022-05-28T06:15:32.060Z"
   },
   {
    "duration": 9,
    "start_time": "2022-05-28T06:15:32.426Z"
   },
   {
    "duration": 2,
    "start_time": "2022-05-28T06:15:44.915Z"
   },
   {
    "duration": 595,
    "start_time": "2022-05-28T06:15:45.398Z"
   },
   {
    "duration": 15,
    "start_time": "2022-05-28T06:15:45.995Z"
   },
   {
    "duration": 37,
    "start_time": "2022-05-28T06:15:47.150Z"
   },
   {
    "duration": 45,
    "start_time": "2022-05-28T06:15:47.664Z"
   },
   {
    "duration": 23,
    "start_time": "2022-05-28T06:15:48.179Z"
   },
   {
    "duration": 40,
    "start_time": "2022-05-28T06:15:50.813Z"
   },
   {
    "duration": 57,
    "start_time": "2022-05-28T06:15:54.117Z"
   },
   {
    "duration": 34,
    "start_time": "2022-05-28T06:15:56.857Z"
   },
   {
    "duration": 121,
    "start_time": "2022-05-28T06:16:01.865Z"
   },
   {
    "duration": 28,
    "start_time": "2022-05-28T06:16:03.690Z"
   },
   {
    "duration": 21,
    "start_time": "2022-05-28T06:16:05.468Z"
   },
   {
    "duration": 13,
    "start_time": "2022-05-28T06:16:09.948Z"
   },
   {
    "duration": 87,
    "start_time": "2022-05-28T06:16:20.496Z"
   },
   {
    "duration": 7,
    "start_time": "2022-05-28T06:16:23.258Z"
   },
   {
    "duration": 33,
    "start_time": "2022-05-28T06:16:25.916Z"
   },
   {
    "duration": 7,
    "start_time": "2022-05-28T06:16:28.749Z"
   },
   {
    "duration": 31,
    "start_time": "2022-05-28T06:23:32.282Z"
   },
   {
    "duration": 35,
    "start_time": "2022-05-28T06:26:17.556Z"
   },
   {
    "duration": 3,
    "start_time": "2022-05-28T06:32:17.314Z"
   },
   {
    "duration": 582,
    "start_time": "2022-05-28T06:34:23.780Z"
   },
   {
    "duration": 24,
    "start_time": "2022-05-28T06:34:25.252Z"
   },
   {
    "duration": 51,
    "start_time": "2022-05-28T06:34:45.720Z"
   },
   {
    "duration": 62,
    "start_time": "2022-05-28T06:34:48.301Z"
   },
   {
    "duration": 6,
    "start_time": "2022-05-28T06:34:50.350Z"
   },
   {
    "duration": 585,
    "start_time": "2022-05-28T06:34:51.300Z"
   },
   {
    "duration": 14,
    "start_time": "2022-05-28T06:34:51.887Z"
   },
   {
    "duration": 29,
    "start_time": "2022-05-28T06:34:52.677Z"
   },
   {
    "duration": 518,
    "start_time": "2022-05-28T06:35:10.259Z"
   },
   {
    "duration": 20,
    "start_time": "2022-05-28T06:35:10.855Z"
   },
   {
    "duration": 43,
    "start_time": "2022-05-28T06:35:13.712Z"
   },
   {
    "duration": 595,
    "start_time": "2022-05-28T06:35:51.388Z"
   },
   {
    "duration": 14,
    "start_time": "2022-05-28T06:35:51.985Z"
   },
   {
    "duration": 39,
    "start_time": "2022-05-28T06:35:52.001Z"
   },
   {
    "duration": 72,
    "start_time": "2022-05-28T06:35:58.157Z"
   },
   {
    "duration": 21,
    "start_time": "2022-05-28T06:36:02.777Z"
   },
   {
    "duration": 26,
    "start_time": "2022-05-28T06:39:18.973Z"
   },
   {
    "duration": 42,
    "start_time": "2022-05-28T06:39:22.173Z"
   },
   {
    "duration": 41,
    "start_time": "2022-05-28T06:39:26.165Z"
   },
   {
    "duration": 109,
    "start_time": "2022-05-28T06:39:27.890Z"
   },
   {
    "duration": 36,
    "start_time": "2022-05-28T06:39:29.123Z"
   },
   {
    "duration": 19,
    "start_time": "2022-05-28T06:39:32.194Z"
   },
   {
    "duration": 8,
    "start_time": "2022-05-28T06:39:33.714Z"
   },
   {
    "duration": 353,
    "start_time": "2022-05-28T07:03:30.606Z"
   },
   {
    "duration": 3,
    "start_time": "2022-05-28T07:04:30.399Z"
   },
   {
    "duration": 18,
    "start_time": "2022-05-28T07:11:39.899Z"
   },
   {
    "duration": 14,
    "start_time": "2022-05-28T07:11:52.863Z"
   },
   {
    "duration": 43,
    "start_time": "2022-05-28T07:12:39.098Z"
   },
   {
    "duration": 15,
    "start_time": "2022-05-28T07:13:01.244Z"
   },
   {
    "duration": 14,
    "start_time": "2022-05-28T07:13:11.601Z"
   },
   {
    "duration": 6,
    "start_time": "2022-05-28T07:13:17.791Z"
   },
   {
    "duration": 10,
    "start_time": "2022-05-28T07:13:24.833Z"
   },
   {
    "duration": 4,
    "start_time": "2022-05-28T07:16:18.399Z"
   },
   {
    "duration": 26,
    "start_time": "2022-05-28T07:17:27.376Z"
   },
   {
    "duration": 5,
    "start_time": "2022-05-28T07:17:41.957Z"
   },
   {
    "duration": 5,
    "start_time": "2022-05-28T07:17:51.910Z"
   },
   {
    "duration": 31,
    "start_time": "2022-05-28T07:18:08.291Z"
   },
   {
    "duration": 7,
    "start_time": "2022-05-28T07:18:28.727Z"
   },
   {
    "duration": 21,
    "start_time": "2022-05-28T07:18:57.067Z"
   },
   {
    "duration": 4,
    "start_time": "2022-05-28T07:19:16.403Z"
   },
   {
    "duration": 10,
    "start_time": "2022-05-28T07:21:47.536Z"
   },
   {
    "duration": 7,
    "start_time": "2022-05-28T07:23:03.910Z"
   },
   {
    "duration": 7,
    "start_time": "2022-05-28T07:23:49.169Z"
   },
   {
    "duration": 6,
    "start_time": "2022-05-28T07:24:36.853Z"
   },
   {
    "duration": 68,
    "start_time": "2022-05-28T07:25:25.042Z"
   },
   {
    "duration": 7,
    "start_time": "2022-05-28T07:35:22.626Z"
   },
   {
    "duration": 12,
    "start_time": "2022-05-28T07:41:46.535Z"
   },
   {
    "duration": 1872,
    "start_time": "2022-05-28T08:28:35.776Z"
   },
   {
    "duration": 1310,
    "start_time": "2022-05-28T08:28:41.047Z"
   },
   {
    "duration": 25,
    "start_time": "2022-05-28T08:28:43.062Z"
   },
   {
    "duration": 53,
    "start_time": "2022-05-28T08:28:44.635Z"
   },
   {
    "duration": 6,
    "start_time": "2022-05-28T08:28:46.200Z"
   },
   {
    "duration": 96,
    "start_time": "2022-05-28T08:28:46.853Z"
   },
   {
    "duration": 103,
    "start_time": "2022-05-28T08:34:11.454Z"
   },
   {
    "duration": 1739,
    "start_time": "2022-05-28T08:34:19.971Z"
   },
   {
    "duration": 1433,
    "start_time": "2022-05-28T08:34:21.713Z"
   },
   {
    "duration": 28,
    "start_time": "2022-05-28T08:34:23.149Z"
   },
   {
    "duration": 54,
    "start_time": "2022-05-28T08:34:23.949Z"
   },
   {
    "duration": 7,
    "start_time": "2022-05-28T08:34:25.672Z"
   },
   {
    "duration": 89,
    "start_time": "2022-05-28T08:34:26.269Z"
   },
   {
    "duration": 470,
    "start_time": "2022-05-28T08:34:27.965Z"
   },
   {
    "duration": 383,
    "start_time": "2022-05-28T08:34:37.296Z"
   },
   {
    "duration": 2056,
    "start_time": "2022-05-28T08:34:47.383Z"
   },
   {
    "duration": 1071,
    "start_time": "2022-05-28T08:34:53.195Z"
   },
   {
    "duration": 290,
    "start_time": "2022-05-28T08:34:58.590Z"
   },
   {
    "duration": 343,
    "start_time": "2022-05-28T08:35:08.067Z"
   },
   {
    "duration": 255,
    "start_time": "2022-05-28T08:35:28.625Z"
   },
   {
    "duration": 121,
    "start_time": "2022-05-28T08:35:35.687Z"
   },
   {
    "duration": 13464,
    "start_time": "2022-05-28T08:36:30.825Z"
   },
   {
    "duration": 300,
    "start_time": "2022-05-28T08:37:35.273Z"
   },
   {
    "duration": 14,
    "start_time": "2022-05-28T08:37:50.363Z"
   },
   {
    "duration": 222,
    "start_time": "2022-05-28T08:37:58.634Z"
   },
   {
    "duration": 292,
    "start_time": "2022-05-28T08:38:07.348Z"
   },
   {
    "duration": 282,
    "start_time": "2022-05-28T08:40:09.912Z"
   },
   {
    "duration": 12,
    "start_time": "2022-05-28T08:40:22.660Z"
   },
   {
    "duration": 1248,
    "start_time": "2022-05-28T08:40:27.550Z"
   },
   {
    "duration": 1155,
    "start_time": "2022-05-28T08:47:09.434Z"
   },
   {
    "duration": 34,
    "start_time": "2022-05-28T08:47:46.353Z"
   },
   {
    "duration": 12,
    "start_time": "2022-05-28T08:47:52.569Z"
   },
   {
    "duration": 39,
    "start_time": "2022-05-28T08:48:07.966Z"
   },
   {
    "duration": 18,
    "start_time": "2022-05-28T08:54:54.868Z"
   },
   {
    "duration": 14,
    "start_time": "2022-05-28T08:55:06.884Z"
   },
   {
    "duration": 1005,
    "start_time": "2022-05-28T09:01:35.548Z"
   },
   {
    "duration": 176,
    "start_time": "2022-05-28T09:01:58.185Z"
   },
   {
    "duration": 442,
    "start_time": "2022-05-28T09:02:08.694Z"
   },
   {
    "duration": 252,
    "start_time": "2022-05-28T09:02:18.982Z"
   },
   {
    "duration": 398,
    "start_time": "2022-05-28T09:02:28.377Z"
   },
   {
    "duration": 973,
    "start_time": "2022-05-28T09:02:59.449Z"
   },
   {
    "duration": 19,
    "start_time": "2022-05-28T09:09:13.159Z"
   },
   {
    "duration": 512,
    "start_time": "2022-05-28T09:12:45.441Z"
   },
   {
    "duration": 1376,
    "start_time": "2022-05-28T09:13:29.754Z"
   },
   {
    "duration": 1442,
    "start_time": "2022-05-28T09:13:47.588Z"
   },
   {
    "duration": 16,
    "start_time": "2022-05-28T09:14:06.681Z"
   },
   {
    "duration": 18,
    "start_time": "2022-05-28T09:14:14.688Z"
   },
   {
    "duration": 23,
    "start_time": "2022-05-28T09:14:26.151Z"
   },
   {
    "duration": 23774,
    "start_time": "2022-05-28T09:14:36.285Z"
   },
   {
    "duration": 79,
    "start_time": "2022-05-29T09:32:50.940Z"
   },
   {
    "duration": 2089,
    "start_time": "2022-05-29T09:33:00.151Z"
   },
   {
    "duration": 1860,
    "start_time": "2022-05-29T09:33:02.243Z"
   },
   {
    "duration": 36,
    "start_time": "2022-05-29T09:33:04.109Z"
   },
   {
    "duration": 54,
    "start_time": "2022-05-29T09:33:04.148Z"
   },
   {
    "duration": 11,
    "start_time": "2022-05-29T09:33:04.205Z"
   },
   {
    "duration": 113,
    "start_time": "2022-05-29T09:33:04.221Z"
   },
   {
    "duration": 50,
    "start_time": "2022-05-29T09:33:04.337Z"
   },
   {
    "duration": 490,
    "start_time": "2022-05-29T09:33:04.390Z"
   },
   {
    "duration": 505,
    "start_time": "2022-05-29T09:33:04.883Z"
   },
   {
    "duration": 20,
    "start_time": "2022-05-29T09:33:05.390Z"
   },
   {
    "duration": 460,
    "start_time": "2022-05-29T09:33:25.115Z"
   },
   {
    "duration": 41,
    "start_time": "2022-05-29T09:34:41.966Z"
   },
   {
    "duration": 47,
    "start_time": "2022-05-29T09:34:45.820Z"
   },
   {
    "duration": 129,
    "start_time": "2022-05-29T09:35:09.940Z"
   },
   {
    "duration": 46,
    "start_time": "2022-05-29T09:35:21.419Z"
   },
   {
    "duration": 64,
    "start_time": "2022-05-29T09:35:42.314Z"
   },
   {
    "duration": 51,
    "start_time": "2022-05-29T09:35:57.772Z"
   },
   {
    "duration": 38,
    "start_time": "2022-05-29T09:36:09.117Z"
   },
   {
    "duration": 76,
    "start_time": "2022-05-29T09:36:15.226Z"
   },
   {
    "duration": 51,
    "start_time": "2022-05-29T09:37:55.106Z"
   },
   {
    "duration": 36,
    "start_time": "2022-05-29T09:38:09.767Z"
   },
   {
    "duration": 53,
    "start_time": "2022-05-29T09:38:16.767Z"
   },
   {
    "duration": 48,
    "start_time": "2022-05-29T09:38:36.349Z"
   },
   {
    "duration": 39,
    "start_time": "2022-05-29T09:38:55.656Z"
   },
   {
    "duration": 44,
    "start_time": "2022-05-29T09:39:07.641Z"
   },
   {
    "duration": 56,
    "start_time": "2022-05-29T09:39:13.087Z"
   },
   {
    "duration": 41,
    "start_time": "2022-05-29T09:39:39.328Z"
   },
   {
    "duration": 11,
    "start_time": "2022-05-29T09:41:14.287Z"
   },
   {
    "duration": 125,
    "start_time": "2022-05-29T09:41:18.714Z"
   },
   {
    "duration": 326,
    "start_time": "2022-05-29T09:41:53.824Z"
   },
   {
    "duration": 354,
    "start_time": "2022-05-29T09:45:39.460Z"
   },
   {
    "duration": 500,
    "start_time": "2022-05-29T09:46:01.250Z"
   },
   {
    "duration": 14,
    "start_time": "2022-05-29T09:46:52.475Z"
   },
   {
    "duration": 17,
    "start_time": "2022-05-29T09:47:01.144Z"
   },
   {
    "duration": 205,
    "start_time": "2022-05-29T09:47:14.010Z"
   },
   {
    "duration": 309,
    "start_time": "2022-05-29T09:47:25.343Z"
   },
   {
    "duration": 1004,
    "start_time": "2022-05-29T09:47:34.543Z"
   },
   {
    "duration": 15,
    "start_time": "2022-05-29T09:47:57.801Z"
   },
   {
    "duration": 15,
    "start_time": "2022-05-29T09:48:03.011Z"
   },
   {
    "duration": 700,
    "start_time": "2022-05-29T09:48:22.022Z"
   },
   {
    "duration": 361,
    "start_time": "2022-05-29T09:48:57.629Z"
   },
   {
    "duration": 315,
    "start_time": "2022-05-29T09:50:55.394Z"
   },
   {
    "duration": 339,
    "start_time": "2022-05-29T10:02:17.473Z"
   },
   {
    "duration": 311,
    "start_time": "2022-05-29T10:02:30.045Z"
   },
   {
    "duration": 537,
    "start_time": "2022-05-29T10:02:40.251Z"
   },
   {
    "duration": 300,
    "start_time": "2022-05-29T10:03:02.964Z"
   },
   {
    "duration": 358,
    "start_time": "2022-05-29T10:03:11.950Z"
   },
   {
    "duration": 30,
    "start_time": "2022-05-29T10:03:41.598Z"
   },
   {
    "duration": 360,
    "start_time": "2022-05-29T10:03:49.587Z"
   },
   {
    "duration": 415,
    "start_time": "2022-05-29T10:04:19.803Z"
   },
   {
    "duration": 19,
    "start_time": "2022-05-29T10:14:18.804Z"
   },
   {
    "duration": 4,
    "start_time": "2022-05-29T10:14:36.620Z"
   },
   {
    "duration": 494,
    "start_time": "2022-05-29T10:14:37.087Z"
   },
   {
    "duration": 20,
    "start_time": "2022-05-29T10:14:37.584Z"
   },
   {
    "duration": 44,
    "start_time": "2022-05-29T10:14:37.804Z"
   },
   {
    "duration": 6,
    "start_time": "2022-05-29T10:14:38.426Z"
   },
   {
    "duration": 67,
    "start_time": "2022-05-29T10:14:38.944Z"
   },
   {
    "duration": 30,
    "start_time": "2022-05-29T10:14:39.748Z"
   },
   {
    "duration": 370,
    "start_time": "2022-05-29T10:14:40.051Z"
   },
   {
    "duration": 306,
    "start_time": "2022-05-29T10:14:40.423Z"
   },
   {
    "duration": 39,
    "start_time": "2022-05-29T10:14:45.772Z"
   },
   {
    "duration": 6,
    "start_time": "2022-05-29T10:14:51.098Z"
   },
   {
    "duration": 70,
    "start_time": "2022-05-29T10:14:51.580Z"
   },
   {
    "duration": 38,
    "start_time": "2022-05-29T10:14:53.252Z"
   },
   {
    "duration": 6,
    "start_time": "2022-05-29T10:14:54.046Z"
   },
   {
    "duration": 143,
    "start_time": "2022-05-29T10:14:54.448Z"
   },
   {
    "duration": 28,
    "start_time": "2022-05-29T10:14:54.712Z"
   },
   {
    "duration": 49,
    "start_time": "2022-05-29T10:14:55.586Z"
   },
   {
    "duration": 5,
    "start_time": "2022-05-29T10:14:56.723Z"
   },
   {
    "duration": 9,
    "start_time": "2022-05-29T10:14:57.021Z"
   },
   {
    "duration": 71,
    "start_time": "2022-05-29T10:15:02.963Z"
   },
   {
    "duration": 23,
    "start_time": "2022-05-29T10:15:05.751Z"
   },
   {
    "duration": 21,
    "start_time": "2022-05-29T10:15:12.755Z"
   },
   {
    "duration": 28,
    "start_time": "2022-05-29T10:17:00.997Z"
   },
   {
    "duration": 24,
    "start_time": "2022-05-29T10:23:27.516Z"
   },
   {
    "duration": 25,
    "start_time": "2022-05-29T10:23:32.781Z"
   },
   {
    "duration": 55,
    "start_time": "2022-05-29T10:23:34.772Z"
   },
   {
    "duration": 228,
    "start_time": "2022-05-29T10:23:36.942Z"
   },
   {
    "duration": 36,
    "start_time": "2022-05-29T10:23:38.643Z"
   },
   {
    "duration": 45,
    "start_time": "2022-05-29T10:23:40.960Z"
   },
   {
    "duration": 3,
    "start_time": "2022-05-29T10:23:41.765Z"
   },
   {
    "duration": 36,
    "start_time": "2022-05-29T10:23:42.943Z"
   },
   {
    "duration": 16,
    "start_time": "2022-05-29T10:23:52.443Z"
   },
   {
    "duration": 13,
    "start_time": "2022-05-29T10:23:58.572Z"
   },
   {
    "duration": 16,
    "start_time": "2022-05-29T10:24:16.858Z"
   },
   {
    "duration": 10,
    "start_time": "2022-05-29T10:24:25.883Z"
   },
   {
    "duration": 10,
    "start_time": "2022-05-29T10:24:33.906Z"
   },
   {
    "duration": 11,
    "start_time": "2022-05-29T10:24:41.247Z"
   },
   {
    "duration": 13,
    "start_time": "2022-05-29T10:25:24.809Z"
   },
   {
    "duration": 9,
    "start_time": "2022-05-29T10:25:29.714Z"
   },
   {
    "duration": 7,
    "start_time": "2022-05-29T10:25:36.128Z"
   },
   {
    "duration": 26,
    "start_time": "2022-05-29T10:25:50.609Z"
   },
   {
    "duration": 15,
    "start_time": "2022-05-29T10:25:57.691Z"
   },
   {
    "duration": 7,
    "start_time": "2022-05-29T10:26:00.288Z"
   },
   {
    "duration": 5,
    "start_time": "2022-05-29T10:29:34.181Z"
   },
   {
    "duration": 5,
    "start_time": "2022-05-29T10:29:39.743Z"
   },
   {
    "duration": 127,
    "start_time": "2022-05-29T10:30:03.980Z"
   },
   {
    "duration": 4,
    "start_time": "2022-05-29T10:31:02.066Z"
   },
   {
    "duration": 7,
    "start_time": "2022-05-29T10:31:09.513Z"
   },
   {
    "duration": 22,
    "start_time": "2022-05-29T10:31:10.311Z"
   },
   {
    "duration": 21,
    "start_time": "2022-05-29T10:31:16.248Z"
   },
   {
    "duration": 10,
    "start_time": "2022-05-29T10:31:45.379Z"
   },
   {
    "duration": 5,
    "start_time": "2022-05-29T10:31:49.746Z"
   },
   {
    "duration": 10,
    "start_time": "2022-05-29T10:32:38.250Z"
   },
   {
    "duration": 1562,
    "start_time": "2022-05-29T10:35:43.950Z"
   },
   {
    "duration": 618,
    "start_time": "2022-05-29T10:35:45.515Z"
   },
   {
    "duration": 24,
    "start_time": "2022-05-29T10:35:46.142Z"
   },
   {
    "duration": 55,
    "start_time": "2022-05-29T10:35:46.168Z"
   },
   {
    "duration": 18,
    "start_time": "2022-05-29T10:35:46.227Z"
   },
   {
    "duration": 85,
    "start_time": "2022-05-29T10:35:46.247Z"
   },
   {
    "duration": 40,
    "start_time": "2022-05-29T10:35:46.335Z"
   },
   {
    "duration": 594,
    "start_time": "2022-05-29T10:35:46.378Z"
   },
   {
    "duration": 504,
    "start_time": "2022-05-29T10:35:46.974Z"
   },
   {
    "duration": 75,
    "start_time": "2022-05-29T10:35:47.481Z"
   },
   {
    "duration": 12,
    "start_time": "2022-05-29T10:35:47.558Z"
   },
   {
    "duration": 148,
    "start_time": "2022-05-29T10:35:47.573Z"
   },
   {
    "duration": 61,
    "start_time": "2022-05-29T10:35:47.723Z"
   },
   {
    "duration": 11,
    "start_time": "2022-05-29T10:35:47.791Z"
   },
   {
    "duration": 233,
    "start_time": "2022-05-29T10:35:47.804Z"
   },
   {
    "duration": 39,
    "start_time": "2022-05-29T10:35:48.039Z"
   },
   {
    "duration": 77,
    "start_time": "2022-05-29T10:35:48.080Z"
   },
   {
    "duration": 28,
    "start_time": "2022-05-29T10:35:48.160Z"
   },
   {
    "duration": 73,
    "start_time": "2022-05-29T10:35:48.191Z"
   },
   {
    "duration": 174,
    "start_time": "2022-05-29T10:35:48.266Z"
   },
   {
    "duration": 31,
    "start_time": "2022-05-29T10:35:48.442Z"
   },
   {
    "duration": 57,
    "start_time": "2022-05-29T10:35:48.475Z"
   },
   {
    "duration": 89,
    "start_time": "2022-05-29T10:35:48.537Z"
   },
   {
    "duration": 121,
    "start_time": "2022-05-29T10:35:48.629Z"
   },
   {
    "duration": 69,
    "start_time": "2022-05-29T10:35:48.753Z"
   },
   {
    "duration": 64,
    "start_time": "2022-05-29T10:35:48.825Z"
   },
   {
    "duration": 8,
    "start_time": "2022-05-29T10:35:48.890Z"
   },
   {
    "duration": 76,
    "start_time": "2022-05-29T10:35:48.901Z"
   },
   {
    "duration": 25,
    "start_time": "2022-05-29T10:35:48.979Z"
   },
   {
    "duration": 51,
    "start_time": "2022-05-29T10:35:49.006Z"
   },
   {
    "duration": 5,
    "start_time": "2022-05-29T10:35:49.060Z"
   },
   {
    "duration": 14,
    "start_time": "2022-05-29T10:35:49.067Z"
   },
   {
    "duration": 51,
    "start_time": "2022-05-29T10:35:49.088Z"
   },
   {
    "duration": 11,
    "start_time": "2022-05-29T10:35:49.141Z"
   },
   {
    "duration": 37,
    "start_time": "2022-05-29T10:35:49.154Z"
   },
   {
    "duration": 14,
    "start_time": "2022-05-29T10:35:49.193Z"
   },
   {
    "duration": 48,
    "start_time": "2022-05-29T10:35:49.210Z"
   },
   {
    "duration": 23,
    "start_time": "2022-05-29T10:35:49.259Z"
   },
   {
    "duration": 89,
    "start_time": "2022-05-29T10:35:49.285Z"
   },
   {
    "duration": 39,
    "start_time": "2022-05-29T10:35:49.376Z"
   },
   {
    "duration": 17,
    "start_time": "2022-05-29T10:35:49.427Z"
   },
   {
    "duration": 172,
    "start_time": "2022-05-29T10:35:49.446Z"
   },
   {
    "duration": 11,
    "start_time": "2022-05-29T10:35:49.620Z"
   },
   {
    "duration": 36,
    "start_time": "2022-05-29T10:35:49.639Z"
   },
   {
    "duration": 14,
    "start_time": "2022-05-29T10:35:49.678Z"
   },
   {
    "duration": 61,
    "start_time": "2022-05-29T10:35:49.695Z"
   },
   {
    "duration": 37,
    "start_time": "2022-05-29T10:35:49.758Z"
   },
   {
    "duration": 112,
    "start_time": "2022-05-29T10:35:49.797Z"
   },
   {
    "duration": 35,
    "start_time": "2022-05-29T10:35:49.911Z"
   },
   {
    "duration": 388,
    "start_time": "2022-05-29T10:35:49.948Z"
   },
   {
    "duration": 427,
    "start_time": "2022-05-29T10:35:50.338Z"
   },
   {
    "duration": 158,
    "start_time": "2022-05-29T10:35:50.767Z"
   },
   {
    "duration": 32,
    "start_time": "2022-05-29T10:35:50.927Z"
   },
   {
    "duration": 279,
    "start_time": "2022-05-29T10:35:50.961Z"
   },
   {
    "duration": 48,
    "start_time": "2022-05-29T10:35:51.244Z"
   },
   {
    "duration": 33,
    "start_time": "2022-05-29T10:35:51.297Z"
   },
   {
    "duration": 330,
    "start_time": "2022-05-29T10:35:51.332Z"
   },
   {
    "duration": 18,
    "start_time": "2022-05-29T10:35:51.664Z"
   },
   {
    "duration": 22,
    "start_time": "2022-05-29T10:35:51.688Z"
   },
   {
    "duration": 41,
    "start_time": "2022-05-29T10:35:51.712Z"
   },
   {
    "duration": 262,
    "start_time": "2022-05-29T10:35:51.755Z"
   },
   {
    "duration": 236,
    "start_time": "2022-05-29T10:35:52.023Z"
   },
   {
    "duration": 14,
    "start_time": "2022-05-29T10:35:52.261Z"
   },
   {
    "duration": 292,
    "start_time": "2022-05-29T10:35:52.276Z"
   },
   {
    "duration": 12,
    "start_time": "2022-05-29T10:35:52.570Z"
   },
   {
    "duration": 471,
    "start_time": "2022-05-29T10:35:52.584Z"
   },
   {
    "duration": 447,
    "start_time": "2022-05-29T10:35:53.057Z"
   },
   {
    "duration": 251,
    "start_time": "2022-05-29T10:35:53.516Z"
   },
   {
    "duration": 593,
    "start_time": "2022-05-29T10:35:53.768Z"
   },
   {
    "duration": 418,
    "start_time": "2022-05-29T10:35:54.363Z"
   },
   {
    "duration": 273,
    "start_time": "2022-05-29T10:35:54.783Z"
   },
   {
    "duration": 458,
    "start_time": "2022-05-29T10:35:55.058Z"
   },
   {
    "duration": 401,
    "start_time": "2022-05-29T10:35:55.518Z"
   },
   {
    "duration": 248,
    "start_time": "2022-05-29T10:35:55.921Z"
   },
   {
    "duration": 2,
    "start_time": "2022-05-29T10:35:56.171Z"
   },
   {
    "duration": 75,
    "start_time": "2022-05-29T10:35:56.175Z"
   },
   {
    "duration": 7,
    "start_time": "2022-05-29T10:35:56.252Z"
   },
   {
    "duration": 6,
    "start_time": "2022-05-29T10:35:56.262Z"
   },
   {
    "duration": 17,
    "start_time": "2022-05-29T10:35:56.271Z"
   },
   {
    "duration": 60,
    "start_time": "2022-05-29T10:35:56.291Z"
   },
   {
    "duration": 9,
    "start_time": "2022-05-29T10:35:56.353Z"
   },
   {
    "duration": 6,
    "start_time": "2022-05-29T10:35:56.364Z"
   },
   {
    "duration": 9,
    "start_time": "2022-05-29T10:35:56.373Z"
   },
   {
    "duration": 5,
    "start_time": "2022-05-29T10:51:58.413Z"
   },
   {
    "duration": 123,
    "start_time": "2022-05-29T10:52:02.400Z"
   },
   {
    "duration": 194,
    "start_time": "2022-05-29T10:52:48.876Z"
   },
   {
    "duration": 4,
    "start_time": "2022-05-29T10:53:08.911Z"
   },
   {
    "duration": 39,
    "start_time": "2022-05-29T10:53:09.652Z"
   },
   {
    "duration": 6,
    "start_time": "2022-05-29T10:53:12.444Z"
   },
   {
    "duration": 20,
    "start_time": "2022-05-29T10:53:13.035Z"
   },
   {
    "duration": 21,
    "start_time": "2022-05-29T10:53:15.101Z"
   },
   {
    "duration": 24,
    "start_time": "2022-05-29T10:53:15.801Z"
   },
   {
    "duration": 25,
    "start_time": "2022-05-29T10:53:29.912Z"
   },
   {
    "duration": 24,
    "start_time": "2022-05-29T10:53:36.638Z"
   },
   {
    "duration": 273,
    "start_time": "2022-05-29T11:18:12.547Z"
   },
   {
    "duration": 290,
    "start_time": "2022-05-29T11:18:47.658Z"
   },
   {
    "duration": 264,
    "start_time": "2022-05-29T11:19:10.859Z"
   },
   {
    "duration": 265,
    "start_time": "2022-05-29T11:19:54.259Z"
   },
   {
    "duration": 389,
    "start_time": "2022-05-29T11:20:11.364Z"
   },
   {
    "duration": 263,
    "start_time": "2022-05-29T11:20:30.797Z"
   },
   {
    "duration": 385,
    "start_time": "2022-05-29T11:21:07.847Z"
   },
   {
    "duration": 290,
    "start_time": "2022-05-29T11:21:16.259Z"
   },
   {
    "duration": 329,
    "start_time": "2022-05-29T11:38:38.779Z"
   },
   {
    "duration": 382,
    "start_time": "2022-05-29T11:38:58.168Z"
   },
   {
    "duration": 209,
    "start_time": "2022-05-29T11:39:05.122Z"
   },
   {
    "duration": 372,
    "start_time": "2022-05-29T11:39:17.972Z"
   },
   {
    "duration": 254,
    "start_time": "2022-05-29T11:39:28.684Z"
   },
   {
    "duration": 264,
    "start_time": "2022-05-29T11:39:38.751Z"
   },
   {
    "duration": 70,
    "start_time": "2022-05-29T11:40:02.120Z"
   },
   {
    "duration": 275,
    "start_time": "2022-05-29T11:40:08.385Z"
   },
   {
    "duration": 414,
    "start_time": "2022-05-29T11:42:07.878Z"
   },
   {
    "duration": 44,
    "start_time": "2022-05-29T11:42:22.861Z"
   },
   {
    "duration": 33,
    "start_time": "2022-05-29T11:42:26.603Z"
   },
   {
    "duration": 24,
    "start_time": "2022-05-29T11:42:28.206Z"
   },
   {
    "duration": 274,
    "start_time": "2022-05-29T11:42:52.616Z"
   },
   {
    "duration": 277,
    "start_time": "2022-05-29T11:43:26.919Z"
   },
   {
    "duration": 322,
    "start_time": "2022-05-29T11:43:43.566Z"
   },
   {
    "duration": 290,
    "start_time": "2022-05-29T11:43:57.764Z"
   },
   {
    "duration": 281,
    "start_time": "2022-05-29T11:44:19.898Z"
   },
   {
    "duration": 449,
    "start_time": "2022-05-29T11:44:29.887Z"
   },
   {
    "duration": 251,
    "start_time": "2022-05-29T12:13:05.498Z"
   },
   {
    "duration": 214,
    "start_time": "2022-05-29T12:13:34.101Z"
   },
   {
    "duration": 264,
    "start_time": "2022-05-29T12:13:45.855Z"
   },
   {
    "duration": 53,
    "start_time": "2022-05-29T14:48:52.840Z"
   },
   {
    "duration": 1600,
    "start_time": "2022-05-29T14:48:59.750Z"
   },
   {
    "duration": 1127,
    "start_time": "2022-05-29T14:49:01.352Z"
   },
   {
    "duration": 21,
    "start_time": "2022-05-29T14:49:02.481Z"
   },
   {
    "duration": 41,
    "start_time": "2022-05-29T14:49:02.504Z"
   },
   {
    "duration": 5,
    "start_time": "2022-05-29T14:49:03.414Z"
   },
   {
    "duration": 62,
    "start_time": "2022-05-29T14:49:04.052Z"
   },
   {
    "duration": 25,
    "start_time": "2022-05-29T14:49:05.042Z"
   },
   {
    "duration": 372,
    "start_time": "2022-05-29T14:49:05.374Z"
   },
   {
    "duration": 315,
    "start_time": "2022-05-29T14:49:05.748Z"
   },
   {
    "duration": 346,
    "start_time": "2022-05-29T14:49:24.906Z"
   },
   {
    "duration": 285,
    "start_time": "2022-05-29T14:49:25.373Z"
   },
   {
    "duration": 307,
    "start_time": "2022-05-29T14:49:30.783Z"
   },
   {
    "duration": 453,
    "start_time": "2022-05-29T14:50:03.492Z"
   },
   {
    "duration": 347,
    "start_time": "2022-05-29T14:50:18.520Z"
   },
   {
    "duration": 32,
    "start_time": "2022-05-29T14:50:20.993Z"
   },
   {
    "duration": 5,
    "start_time": "2022-05-29T14:50:22.491Z"
   },
   {
    "duration": 64,
    "start_time": "2022-05-29T14:50:23.080Z"
   },
   {
    "duration": 32,
    "start_time": "2022-05-29T14:50:24.679Z"
   },
   {
    "duration": 6,
    "start_time": "2022-05-29T14:50:25.848Z"
   },
   {
    "duration": 149,
    "start_time": "2022-05-29T14:50:26.326Z"
   },
   {
    "duration": 30,
    "start_time": "2022-05-29T14:50:26.867Z"
   },
   {
    "duration": 24,
    "start_time": "2022-05-29T14:50:27.893Z"
   },
   {
    "duration": 5,
    "start_time": "2022-05-29T14:50:29.373Z"
   },
   {
    "duration": 6,
    "start_time": "2022-05-29T14:50:29.877Z"
   },
   {
    "duration": 90,
    "start_time": "2022-05-29T14:50:58.085Z"
   },
   {
    "duration": 22,
    "start_time": "2022-05-29T14:50:58.397Z"
   },
   {
    "duration": 35,
    "start_time": "2022-05-29T14:51:09.021Z"
   },
   {
    "duration": 74,
    "start_time": "2022-05-29T14:51:10.664Z"
   },
   {
    "duration": 68,
    "start_time": "2022-05-29T14:51:12.315Z"
   },
   {
    "duration": 38,
    "start_time": "2022-05-29T14:51:13.171Z"
   },
   {
    "duration": 61,
    "start_time": "2022-05-29T14:51:13.981Z"
   },
   {
    "duration": 2,
    "start_time": "2022-05-29T14:51:14.371Z"
   },
   {
    "duration": 35,
    "start_time": "2022-05-29T14:51:15.042Z"
   },
   {
    "duration": 20,
    "start_time": "2022-05-29T14:51:17.518Z"
   },
   {
    "duration": 12,
    "start_time": "2022-05-29T14:51:27.346Z"
   },
   {
    "duration": 5,
    "start_time": "2022-05-29T14:51:27.781Z"
   },
   {
    "duration": 12,
    "start_time": "2022-05-29T14:51:28.400Z"
   },
   {
    "duration": 5,
    "start_time": "2022-05-29T14:51:28.844Z"
   },
   {
    "duration": 33,
    "start_time": "2022-05-29T14:51:30.461Z"
   },
   {
    "duration": 8,
    "start_time": "2022-05-29T14:51:31.862Z"
   },
   {
    "duration": 6,
    "start_time": "2022-05-29T14:51:32.952Z"
   },
   {
    "duration": 9,
    "start_time": "2022-05-29T14:51:33.947Z"
   },
   {
    "duration": 33,
    "start_time": "2022-05-29T14:51:34.442Z"
   },
   {
    "duration": 11,
    "start_time": "2022-05-29T14:51:35.493Z"
   },
   {
    "duration": 4,
    "start_time": "2022-05-29T14:51:36.162Z"
   },
   {
    "duration": 133,
    "start_time": "2022-05-29T14:51:38.179Z"
   },
   {
    "duration": 4,
    "start_time": "2022-05-29T14:51:45.577Z"
   },
   {
    "duration": 27,
    "start_time": "2022-05-29T14:51:46.040Z"
   },
   {
    "duration": 6,
    "start_time": "2022-05-29T14:51:48.809Z"
   },
   {
    "duration": 17,
    "start_time": "2022-05-29T14:52:22.050Z"
   },
   {
    "duration": 17,
    "start_time": "2022-05-29T14:52:23.861Z"
   },
   {
    "duration": 171,
    "start_time": "2022-05-29T14:52:26.678Z"
   },
   {
    "duration": 16,
    "start_time": "2022-05-29T14:52:35.300Z"
   },
   {
    "duration": 266,
    "start_time": "2022-05-29T14:52:41.121Z"
   },
   {
    "duration": 258,
    "start_time": "2022-05-29T14:52:53.095Z"
   },
   {
    "duration": 279,
    "start_time": "2022-05-29T14:53:07.610Z"
   },
   {
    "duration": 255,
    "start_time": "2022-05-29T14:53:17.405Z"
   },
   {
    "duration": 472,
    "start_time": "2022-05-29T14:53:56.311Z"
   },
   {
    "duration": 37,
    "start_time": "2022-05-29T14:54:26.462Z"
   },
   {
    "duration": 29,
    "start_time": "2022-05-29T14:54:28.195Z"
   },
   {
    "duration": 209,
    "start_time": "2022-05-29T14:54:29.294Z"
   },
   {
    "duration": 209,
    "start_time": "2022-05-29T14:54:43.929Z"
   },
   {
    "duration": 203,
    "start_time": "2022-05-29T14:54:55.525Z"
   },
   {
    "duration": 24,
    "start_time": "2022-05-29T14:55:03.348Z"
   },
   {
    "duration": 46,
    "start_time": "2022-05-29T14:55:09.126Z"
   },
   {
    "duration": 248,
    "start_time": "2022-05-29T14:55:10.367Z"
   },
   {
    "duration": 17,
    "start_time": "2022-05-29T14:55:13.883Z"
   },
   {
    "duration": 18,
    "start_time": "2022-05-29T14:55:20.392Z"
   },
   {
    "duration": 16,
    "start_time": "2022-05-29T14:55:26.579Z"
   },
   {
    "duration": 233,
    "start_time": "2022-05-29T14:55:29.072Z"
   },
   {
    "duration": 190,
    "start_time": "2022-05-29T14:55:34.469Z"
   },
   {
    "duration": 14,
    "start_time": "2022-05-29T14:55:45.366Z"
   },
   {
    "duration": 255,
    "start_time": "2022-05-29T14:55:51.466Z"
   },
   {
    "duration": 14,
    "start_time": "2022-05-29T14:55:53.512Z"
   },
   {
    "duration": 464,
    "start_time": "2022-05-29T14:55:55.793Z"
   },
   {
    "duration": 325,
    "start_time": "2022-05-29T14:56:05.455Z"
   },
   {
    "duration": 266,
    "start_time": "2022-05-29T14:56:06.564Z"
   },
   {
    "duration": 527,
    "start_time": "2022-05-29T14:56:08.852Z"
   },
   {
    "duration": 317,
    "start_time": "2022-05-29T14:56:10.047Z"
   },
   {
    "duration": 192,
    "start_time": "2022-05-29T14:56:11.167Z"
   },
   {
    "duration": 335,
    "start_time": "2022-05-29T14:56:23.085Z"
   },
   {
    "duration": 376,
    "start_time": "2022-05-29T14:56:23.998Z"
   },
   {
    "duration": 254,
    "start_time": "2022-05-29T14:56:25.708Z"
   },
   {
    "duration": 164,
    "start_time": "2022-05-29T15:14:39.414Z"
   },
   {
    "duration": 354,
    "start_time": "2022-05-29T15:16:40.803Z"
   },
   {
    "duration": 165,
    "start_time": "2022-05-29T15:16:45.135Z"
   },
   {
    "duration": 187,
    "start_time": "2022-05-29T15:18:57.907Z"
   },
   {
    "duration": 434,
    "start_time": "2022-05-29T15:20:39.940Z"
   },
   {
    "duration": 299,
    "start_time": "2022-05-29T15:21:33.344Z"
   },
   {
    "duration": 270,
    "start_time": "2022-05-29T15:21:51.008Z"
   },
   {
    "duration": 308,
    "start_time": "2022-05-29T15:23:25.945Z"
   },
   {
    "duration": 10,
    "start_time": "2022-05-29T15:23:51.090Z"
   },
   {
    "duration": 12,
    "start_time": "2022-05-29T15:27:08.331Z"
   },
   {
    "duration": 10,
    "start_time": "2022-05-29T15:27:27.508Z"
   },
   {
    "duration": 15,
    "start_time": "2022-05-29T15:27:59.218Z"
   },
   {
    "duration": 13,
    "start_time": "2022-05-29T15:28:16.069Z"
   },
   {
    "duration": 10,
    "start_time": "2022-05-29T15:28:21.695Z"
   },
   {
    "duration": 165,
    "start_time": "2022-05-29T15:30:37.147Z"
   },
   {
    "duration": 183,
    "start_time": "2022-05-29T15:31:59.840Z"
   },
   {
    "duration": 281,
    "start_time": "2022-05-29T15:39:16.896Z"
   },
   {
    "duration": 262,
    "start_time": "2022-05-29T15:39:42.896Z"
   },
   {
    "duration": 272,
    "start_time": "2022-05-29T15:40:00.553Z"
   },
   {
    "duration": 279,
    "start_time": "2022-05-29T15:42:30.481Z"
   },
   {
    "duration": 486,
    "start_time": "2022-05-29T15:42:55.048Z"
   },
   {
    "duration": 294,
    "start_time": "2022-05-29T15:43:34.927Z"
   },
   {
    "duration": 12,
    "start_time": "2022-05-29T15:43:51.371Z"
   },
   {
    "duration": 14,
    "start_time": "2022-05-29T15:47:00.505Z"
   },
   {
    "duration": 16,
    "start_time": "2022-05-29T15:47:11.277Z"
   },
   {
    "duration": 281,
    "start_time": "2022-05-29T15:52:37.486Z"
   },
   {
    "duration": 293,
    "start_time": "2022-05-29T15:54:47.667Z"
   },
   {
    "duration": 273,
    "start_time": "2022-05-29T15:55:41.249Z"
   },
   {
    "duration": 277,
    "start_time": "2022-05-29T15:55:51.268Z"
   },
   {
    "duration": 37,
    "start_time": "2022-05-29T15:56:25.202Z"
   },
   {
    "duration": 273,
    "start_time": "2022-05-29T15:56:50.924Z"
   },
   {
    "duration": 252,
    "start_time": "2022-05-29T15:58:41.440Z"
   },
   {
    "duration": 162,
    "start_time": "2022-05-29T16:00:52.510Z"
   },
   {
    "duration": 300,
    "start_time": "2022-05-29T16:05:47.966Z"
   },
   {
    "duration": 612,
    "start_time": "2022-05-29T16:06:05.996Z"
   },
   {
    "duration": 306,
    "start_time": "2022-05-29T16:09:03.597Z"
   },
   {
    "duration": 152,
    "start_time": "2022-05-29T16:12:51.603Z"
   },
   {
    "duration": 61,
    "start_time": "2022-05-29T18:27:40.040Z"
   },
   {
    "duration": 4,
    "start_time": "2022-05-29T19:01:30.155Z"
   },
   {
    "duration": 740,
    "start_time": "2022-05-29T19:01:30.793Z"
   },
   {
    "duration": 14,
    "start_time": "2022-05-29T19:01:31.535Z"
   },
   {
    "duration": 31,
    "start_time": "2022-05-29T19:01:31.734Z"
   },
   {
    "duration": 4,
    "start_time": "2022-05-29T19:01:32.411Z"
   },
   {
    "duration": 43,
    "start_time": "2022-05-29T19:01:32.758Z"
   },
   {
    "duration": 26,
    "start_time": "2022-05-29T19:01:33.615Z"
   },
   {
    "duration": 1127,
    "start_time": "2022-05-29T19:01:40.055Z"
   },
   {
    "duration": 421,
    "start_time": "2022-05-29T19:01:41.184Z"
   },
   {
    "duration": 20,
    "start_time": "2022-05-29T19:01:41.607Z"
   },
   {
    "duration": 27,
    "start_time": "2022-05-29T19:01:41.630Z"
   },
   {
    "duration": 6,
    "start_time": "2022-05-29T19:01:41.659Z"
   },
   {
    "duration": 77,
    "start_time": "2022-05-29T19:01:41.666Z"
   },
   {
    "duration": 27,
    "start_time": "2022-05-29T19:01:41.745Z"
   },
   {
    "duration": 381,
    "start_time": "2022-05-29T19:01:41.773Z"
   },
   {
    "duration": 299,
    "start_time": "2022-05-29T19:01:42.156Z"
   },
   {
    "duration": 26,
    "start_time": "2022-05-29T19:01:42.458Z"
   },
   {
    "duration": 4,
    "start_time": "2022-05-29T19:01:42.485Z"
   },
   {
    "duration": 69,
    "start_time": "2022-05-29T19:01:42.490Z"
   },
   {
    "duration": 30,
    "start_time": "2022-05-29T19:01:42.560Z"
   },
   {
    "duration": 5,
    "start_time": "2022-05-29T19:01:42.591Z"
   },
   {
    "duration": 151,
    "start_time": "2022-05-29T19:01:42.598Z"
   },
   {
    "duration": 27,
    "start_time": "2022-05-29T19:01:42.750Z"
   },
   {
    "duration": 21,
    "start_time": "2022-05-29T19:01:42.778Z"
   },
   {
    "duration": 28,
    "start_time": "2022-05-29T19:01:42.801Z"
   },
   {
    "duration": 40,
    "start_time": "2022-05-29T19:01:42.831Z"
   },
   {
    "duration": 70,
    "start_time": "2022-05-29T19:01:42.873Z"
   },
   {
    "duration": 17,
    "start_time": "2022-05-29T19:01:42.945Z"
   },
   {
    "duration": 23,
    "start_time": "2022-05-29T19:01:42.963Z"
   },
   {
    "duration": 60,
    "start_time": "2022-05-29T19:01:42.988Z"
   },
   {
    "duration": 56,
    "start_time": "2022-05-29T19:01:43.050Z"
   },
   {
    "duration": 46,
    "start_time": "2022-05-29T19:01:43.108Z"
   },
   {
    "duration": 39,
    "start_time": "2022-05-29T19:01:43.156Z"
   },
   {
    "duration": 2,
    "start_time": "2022-05-29T19:01:43.196Z"
   },
   {
    "duration": 46,
    "start_time": "2022-05-29T19:01:43.202Z"
   },
   {
    "duration": 11,
    "start_time": "2022-05-29T19:01:43.250Z"
   },
   {
    "duration": 30,
    "start_time": "2022-05-29T19:01:43.263Z"
   },
   {
    "duration": 13,
    "start_time": "2022-05-29T19:01:43.295Z"
   },
   {
    "duration": 19,
    "start_time": "2022-05-29T19:01:43.309Z"
   },
   {
    "duration": 4,
    "start_time": "2022-05-29T19:01:43.329Z"
   },
   {
    "duration": 30,
    "start_time": "2022-05-29T19:01:43.334Z"
   },
   {
    "duration": 6,
    "start_time": "2022-05-29T19:01:43.365Z"
   },
   {
    "duration": 7,
    "start_time": "2022-05-29T19:01:43.373Z"
   },
   {
    "duration": 13,
    "start_time": "2022-05-29T19:01:43.381Z"
   },
   {
    "duration": 33,
    "start_time": "2022-05-29T19:01:43.395Z"
   },
   {
    "duration": 10,
    "start_time": "2022-05-29T19:01:43.429Z"
   },
   {
    "duration": 4,
    "start_time": "2022-05-29T19:01:43.441Z"
   },
   {
    "duration": 117,
    "start_time": "2022-05-29T19:01:43.446Z"
   },
   {
    "duration": 7,
    "start_time": "2022-05-29T19:01:43.566Z"
   },
   {
    "duration": 65,
    "start_time": "2022-05-29T19:01:43.574Z"
   },
   {
    "duration": 3,
    "start_time": "2022-05-29T19:01:43.641Z"
   },
   {
    "duration": 22,
    "start_time": "2022-05-29T19:01:43.645Z"
   },
   {
    "duration": 14,
    "start_time": "2022-05-29T19:01:43.669Z"
   },
   {
    "duration": 58,
    "start_time": "2022-05-29T19:01:43.685Z"
   },
   {
    "duration": 14,
    "start_time": "2022-05-29T19:01:43.744Z"
   },
   {
    "duration": 250,
    "start_time": "2022-05-29T19:01:43.759Z"
   },
   {
    "duration": 252,
    "start_time": "2022-05-29T19:01:44.011Z"
   },
   {
    "duration": 112,
    "start_time": "2022-05-29T19:01:44.264Z"
   },
   {
    "duration": 22,
    "start_time": "2022-05-29T19:01:44.378Z"
   },
   {
    "duration": 195,
    "start_time": "2022-05-29T19:01:44.401Z"
   },
   {
    "duration": 33,
    "start_time": "2022-05-29T19:01:44.598Z"
   },
   {
    "duration": 19,
    "start_time": "2022-05-29T19:01:44.633Z"
   },
   {
    "duration": 200,
    "start_time": "2022-05-29T19:01:44.653Z"
   },
   {
    "duration": 18,
    "start_time": "2022-05-29T19:01:44.855Z"
   },
   {
    "duration": 24,
    "start_time": "2022-05-29T19:01:44.886Z"
   },
   {
    "duration": 15,
    "start_time": "2022-05-29T19:01:44.912Z"
   },
   {
    "duration": 170,
    "start_time": "2022-05-29T19:01:44.929Z"
   },
   {
    "duration": 162,
    "start_time": "2022-05-29T19:01:45.101Z"
   },
   {
    "duration": 12,
    "start_time": "2022-05-29T19:01:45.266Z"
   },
   {
    "duration": 175,
    "start_time": "2022-05-29T19:01:45.280Z"
   },
   {
    "duration": 10,
    "start_time": "2022-05-29T19:01:45.457Z"
   },
   {
    "duration": 269,
    "start_time": "2022-05-29T19:01:45.468Z"
   },
   {
    "duration": 11,
    "start_time": "2022-05-29T19:01:45.739Z"
   },
   {
    "duration": 278,
    "start_time": "2022-05-29T19:01:45.751Z"
   },
   {
    "duration": 10,
    "start_time": "2022-05-29T19:01:46.031Z"
   },
   {
    "duration": 178,
    "start_time": "2022-05-29T19:01:46.042Z"
   },
   {
    "duration": 448,
    "start_time": "2022-05-29T19:01:46.222Z"
   },
   {
    "duration": 262,
    "start_time": "2022-05-29T19:01:46.671Z"
   },
   {
    "duration": 279,
    "start_time": "2022-05-29T19:01:46.934Z"
   },
   {
    "duration": 295,
    "start_time": "2022-05-29T19:01:47.215Z"
   },
   {
    "duration": 150,
    "start_time": "2022-05-29T19:01:47.512Z"
   },
   {
    "duration": 254,
    "start_time": "2022-05-29T19:01:47.663Z"
   },
   {
    "duration": 370,
    "start_time": "2022-05-29T19:01:47.919Z"
   },
   {
    "duration": 151,
    "start_time": "2022-05-29T19:01:48.290Z"
   },
   {
    "duration": 2,
    "start_time": "2022-05-29T19:01:48.443Z"
   },
   {
    "duration": 14,
    "start_time": "2022-05-29T19:01:48.446Z"
   },
   {
    "duration": 4,
    "start_time": "2022-05-29T19:01:48.462Z"
   },
   {
    "duration": 8,
    "start_time": "2022-05-29T19:01:48.467Z"
   },
   {
    "duration": 6,
    "start_time": "2022-05-29T19:01:48.479Z"
   },
   {
    "duration": 10,
    "start_time": "2022-05-29T19:01:48.486Z"
   },
   {
    "duration": 37,
    "start_time": "2022-05-29T19:01:48.497Z"
   },
   {
    "duration": 8,
    "start_time": "2022-05-29T19:01:48.535Z"
   },
   {
    "duration": 6,
    "start_time": "2022-05-29T19:01:48.545Z"
   },
   {
    "duration": 19,
    "start_time": "2022-05-29T19:04:03.250Z"
   },
   {
    "duration": 15,
    "start_time": "2022-05-29T19:04:42.918Z"
   },
   {
    "duration": 14,
    "start_time": "2022-05-29T19:04:58.981Z"
   },
   {
    "duration": 134,
    "start_time": "2022-05-29T19:10:13.280Z"
   },
   {
    "duration": 1255,
    "start_time": "2022-05-29T19:10:45.804Z"
   },
   {
    "duration": 453,
    "start_time": "2022-05-29T19:10:47.061Z"
   },
   {
    "duration": 18,
    "start_time": "2022-05-29T19:10:47.516Z"
   },
   {
    "duration": 27,
    "start_time": "2022-05-29T19:10:47.536Z"
   },
   {
    "duration": 5,
    "start_time": "2022-05-29T19:10:47.565Z"
   },
   {
    "duration": 102,
    "start_time": "2022-05-29T19:10:47.572Z"
   },
   {
    "duration": 33,
    "start_time": "2022-05-29T19:10:47.676Z"
   },
   {
    "duration": 424,
    "start_time": "2022-05-29T19:10:47.711Z"
   },
   {
    "duration": 307,
    "start_time": "2022-05-29T19:10:48.137Z"
   },
   {
    "duration": 27,
    "start_time": "2022-05-29T19:10:48.447Z"
   },
   {
    "duration": 5,
    "start_time": "2022-05-29T19:10:48.476Z"
   },
   {
    "duration": 80,
    "start_time": "2022-05-29T19:10:48.483Z"
   },
   {
    "duration": 35,
    "start_time": "2022-05-29T19:10:48.564Z"
   },
   {
    "duration": 6,
    "start_time": "2022-05-29T19:10:48.600Z"
   },
   {
    "duration": 137,
    "start_time": "2022-05-29T19:10:48.607Z"
   },
   {
    "duration": 29,
    "start_time": "2022-05-29T19:10:48.746Z"
   },
   {
    "duration": 22,
    "start_time": "2022-05-29T19:10:48.776Z"
   },
   {
    "duration": 27,
    "start_time": "2022-05-29T19:10:48.800Z"
   },
   {
    "duration": 6,
    "start_time": "2022-05-29T19:10:48.829Z"
   },
   {
    "duration": 71,
    "start_time": "2022-05-29T19:10:48.836Z"
   },
   {
    "duration": 31,
    "start_time": "2022-05-29T19:10:48.909Z"
   },
   {
    "duration": 25,
    "start_time": "2022-05-29T19:10:48.941Z"
   },
   {
    "duration": 70,
    "start_time": "2022-05-29T19:10:48.968Z"
   },
   {
    "duration": 55,
    "start_time": "2022-05-29T19:10:49.040Z"
   },
   {
    "duration": 48,
    "start_time": "2022-05-29T19:10:49.096Z"
   },
   {
    "duration": 38,
    "start_time": "2022-05-29T19:10:49.146Z"
   },
   {
    "duration": 3,
    "start_time": "2022-05-29T19:10:49.185Z"
   },
   {
    "duration": 53,
    "start_time": "2022-05-29T19:10:49.192Z"
   },
   {
    "duration": 10,
    "start_time": "2022-05-29T19:10:49.247Z"
   },
   {
    "duration": 14,
    "start_time": "2022-05-29T19:10:49.259Z"
   },
   {
    "duration": 7,
    "start_time": "2022-05-29T19:10:49.276Z"
   },
   {
    "duration": 12,
    "start_time": "2022-05-29T19:10:49.284Z"
   },
   {
    "duration": 9,
    "start_time": "2022-05-29T19:10:49.298Z"
   },
   {
    "duration": 43,
    "start_time": "2022-05-29T19:10:49.308Z"
   },
   {
    "duration": 6,
    "start_time": "2022-05-29T19:10:49.352Z"
   },
   {
    "duration": 7,
    "start_time": "2022-05-29T19:10:49.360Z"
   },
   {
    "duration": 8,
    "start_time": "2022-05-29T19:10:49.368Z"
   },
   {
    "duration": 51,
    "start_time": "2022-05-29T19:10:49.377Z"
   },
   {
    "duration": 10,
    "start_time": "2022-05-29T19:10:49.429Z"
   },
   {
    "duration": 4,
    "start_time": "2022-05-29T19:10:49.441Z"
   },
   {
    "duration": 119,
    "start_time": "2022-05-29T19:10:49.447Z"
   },
   {
    "duration": 4,
    "start_time": "2022-05-29T19:10:49.568Z"
   },
   {
    "duration": 27,
    "start_time": "2022-05-29T19:10:49.574Z"
   },
   {
    "duration": 4,
    "start_time": "2022-05-29T19:10:49.603Z"
   },
   {
    "duration": 34,
    "start_time": "2022-05-29T19:10:49.608Z"
   },
   {
    "duration": 16,
    "start_time": "2022-05-29T19:10:49.644Z"
   },
   {
    "duration": 73,
    "start_time": "2022-05-29T19:10:49.661Z"
   },
   {
    "duration": 14,
    "start_time": "2022-05-29T19:10:49.735Z"
   },
   {
    "duration": 249,
    "start_time": "2022-05-29T19:10:49.751Z"
   },
   {
    "duration": 278,
    "start_time": "2022-05-29T19:10:50.002Z"
   },
   {
    "duration": 121,
    "start_time": "2022-05-29T19:10:50.281Z"
   },
   {
    "duration": 34,
    "start_time": "2022-05-29T19:10:50.404Z"
   },
   {
    "duration": 192,
    "start_time": "2022-05-29T19:10:50.440Z"
   },
   {
    "duration": 25,
    "start_time": "2022-05-29T19:10:50.634Z"
   },
   {
    "duration": 22,
    "start_time": "2022-05-29T19:10:50.662Z"
   },
   {
    "duration": 224,
    "start_time": "2022-05-29T19:10:50.686Z"
   },
   {
    "duration": 27,
    "start_time": "2022-05-29T19:10:50.912Z"
   },
   {
    "duration": 13,
    "start_time": "2022-05-29T19:10:50.941Z"
   },
   {
    "duration": 12,
    "start_time": "2022-05-29T19:10:50.956Z"
   },
   {
    "duration": 178,
    "start_time": "2022-05-29T19:10:50.969Z"
   },
   {
    "duration": 193,
    "start_time": "2022-05-29T19:10:51.149Z"
   },
   {
    "duration": 12,
    "start_time": "2022-05-29T19:10:51.344Z"
   },
   {
    "duration": 183,
    "start_time": "2022-05-29T19:10:51.358Z"
   },
   {
    "duration": 10,
    "start_time": "2022-05-29T19:10:51.543Z"
   },
   {
    "duration": 290,
    "start_time": "2022-05-29T19:10:51.555Z"
   },
   {
    "duration": 14,
    "start_time": "2022-05-29T19:10:51.847Z"
   },
   {
    "duration": 273,
    "start_time": "2022-05-29T19:10:51.862Z"
   },
   {
    "duration": 11,
    "start_time": "2022-05-29T19:10:52.137Z"
   },
   {
    "duration": 170,
    "start_time": "2022-05-29T19:10:52.150Z"
   },
   {
    "duration": 381,
    "start_time": "2022-05-29T19:10:52.327Z"
   },
   {
    "duration": 283,
    "start_time": "2022-05-29T19:10:52.710Z"
   },
   {
    "duration": 268,
    "start_time": "2022-05-29T19:10:52.995Z"
   },
   {
    "duration": 265,
    "start_time": "2022-05-29T19:10:53.265Z"
   },
   {
    "duration": 164,
    "start_time": "2022-05-29T19:10:53.532Z"
   },
   {
    "duration": 317,
    "start_time": "2022-05-29T19:10:53.698Z"
   },
   {
    "duration": 370,
    "start_time": "2022-05-29T19:10:54.017Z"
   },
   {
    "duration": 159,
    "start_time": "2022-05-29T19:10:54.389Z"
   },
   {
    "duration": 2,
    "start_time": "2022-05-29T19:10:54.550Z"
   },
   {
    "duration": 14,
    "start_time": "2022-05-29T19:10:54.554Z"
   },
   {
    "duration": 5,
    "start_time": "2022-05-29T19:10:54.570Z"
   },
   {
    "duration": 6,
    "start_time": "2022-05-29T19:10:54.577Z"
   },
   {
    "duration": 10,
    "start_time": "2022-05-29T19:10:54.587Z"
   },
   {
    "duration": 31,
    "start_time": "2022-05-29T19:10:54.598Z"
   },
   {
    "duration": 7,
    "start_time": "2022-05-29T19:10:54.631Z"
   },
   {
    "duration": 8,
    "start_time": "2022-05-29T19:10:54.640Z"
   },
   {
    "duration": 143,
    "start_time": "2022-05-29T19:10:54.650Z"
   },
   {
    "duration": 0,
    "start_time": "2022-05-29T19:10:54.795Z"
   },
   {
    "duration": 8,
    "start_time": "2022-05-29T19:11:06.057Z"
   },
   {
    "duration": 9,
    "start_time": "2022-05-29T19:11:18.962Z"
   },
   {
    "duration": 7,
    "start_time": "2022-05-29T19:11:22.908Z"
   },
   {
    "duration": 8,
    "start_time": "2022-05-29T19:11:36.096Z"
   },
   {
    "duration": 5,
    "start_time": "2022-05-29T19:15:55.323Z"
   },
   {
    "duration": 5,
    "start_time": "2022-05-29T19:16:35.876Z"
   },
   {
    "duration": 13,
    "start_time": "2022-05-29T19:23:18.167Z"
   },
   {
    "duration": 10,
    "start_time": "2022-05-29T19:32:43.794Z"
   },
   {
    "duration": 9,
    "start_time": "2022-05-29T19:32:44.720Z"
   },
   {
    "duration": 29,
    "start_time": "2022-05-29T19:37:44.585Z"
   },
   {
    "duration": 25,
    "start_time": "2022-05-29T19:38:07.858Z"
   },
   {
    "duration": 17,
    "start_time": "2022-05-29T19:38:21.860Z"
   },
   {
    "duration": 25,
    "start_time": "2022-05-29T19:38:40.159Z"
   },
   {
    "duration": 8,
    "start_time": "2022-05-29T19:48:56.703Z"
   },
   {
    "duration": 7,
    "start_time": "2022-05-29T19:48:59.696Z"
   },
   {
    "duration": 12,
    "start_time": "2022-05-29T19:51:23.723Z"
   },
   {
    "duration": 6,
    "start_time": "2022-05-29T19:51:27.056Z"
   },
   {
    "duration": 7,
    "start_time": "2022-05-29T19:51:27.391Z"
   },
   {
    "duration": 9,
    "start_time": "2022-05-29T19:51:34.011Z"
   },
   {
    "duration": 6,
    "start_time": "2022-05-29T19:51:53.042Z"
   },
   {
    "duration": 8,
    "start_time": "2022-05-29T19:52:11.967Z"
   },
   {
    "duration": 7,
    "start_time": "2022-05-29T19:53:16.894Z"
   },
   {
    "duration": 36,
    "start_time": "2022-05-29T19:54:26.243Z"
   },
   {
    "duration": 12,
    "start_time": "2022-05-29T19:54:36.225Z"
   },
   {
    "duration": 9,
    "start_time": "2022-05-29T19:54:46.902Z"
   },
   {
    "duration": 9,
    "start_time": "2022-05-29T19:55:15.363Z"
   },
   {
    "duration": 11,
    "start_time": "2022-05-29T19:55:25.536Z"
   },
   {
    "duration": 11,
    "start_time": "2022-05-29T19:56:31.934Z"
   },
   {
    "duration": 14,
    "start_time": "2022-05-29T19:56:38.984Z"
   },
   {
    "duration": 27,
    "start_time": "2022-05-29T19:56:49.375Z"
   },
   {
    "duration": 8,
    "start_time": "2022-05-29T20:07:19.483Z"
   },
   {
    "duration": 8,
    "start_time": "2022-05-29T20:07:32.648Z"
   },
   {
    "duration": 9,
    "start_time": "2022-05-29T20:07:36.327Z"
   },
   {
    "duration": 5,
    "start_time": "2022-05-29T20:09:08.640Z"
   },
   {
    "duration": 11,
    "start_time": "2022-05-29T20:09:58.613Z"
   },
   {
    "duration": 11,
    "start_time": "2022-05-29T20:10:10.991Z"
   },
   {
    "duration": 14,
    "start_time": "2022-05-29T20:10:38.966Z"
   },
   {
    "duration": 10,
    "start_time": "2022-05-29T20:10:50.223Z"
   },
   {
    "duration": 10,
    "start_time": "2022-05-29T20:11:21.165Z"
   },
   {
    "duration": 11,
    "start_time": "2022-05-29T20:11:32.654Z"
   },
   {
    "duration": 11,
    "start_time": "2022-05-29T20:11:51.835Z"
   },
   {
    "duration": 11,
    "start_time": "2022-05-29T20:12:17.162Z"
   },
   {
    "duration": 7,
    "start_time": "2022-05-29T20:13:23.438Z"
   },
   {
    "duration": 6,
    "start_time": "2022-05-29T20:14:27.223Z"
   },
   {
    "duration": 97,
    "start_time": "2022-05-30T12:16:57.166Z"
   },
   {
    "duration": 1386,
    "start_time": "2022-05-30T12:19:53.264Z"
   },
   {
    "duration": 1084,
    "start_time": "2022-05-30T12:19:54.652Z"
   },
   {
    "duration": 29,
    "start_time": "2022-05-30T12:19:55.738Z"
   },
   {
    "duration": 36,
    "start_time": "2022-05-30T12:19:55.772Z"
   },
   {
    "duration": 6,
    "start_time": "2022-05-30T12:19:55.809Z"
   },
   {
    "duration": 77,
    "start_time": "2022-05-30T12:19:55.817Z"
   },
   {
    "duration": 28,
    "start_time": "2022-05-30T12:19:55.896Z"
   },
   {
    "duration": 470,
    "start_time": "2022-05-30T12:19:55.926Z"
   },
   {
    "duration": 370,
    "start_time": "2022-05-30T12:19:56.398Z"
   },
   {
    "duration": 25,
    "start_time": "2022-05-30T12:19:56.774Z"
   },
   {
    "duration": 4,
    "start_time": "2022-05-30T12:19:56.801Z"
   },
   {
    "duration": 64,
    "start_time": "2022-05-30T12:19:56.807Z"
   },
   {
    "duration": 32,
    "start_time": "2022-05-30T12:19:56.876Z"
   },
   {
    "duration": 5,
    "start_time": "2022-05-30T12:19:56.910Z"
   },
   {
    "duration": 149,
    "start_time": "2022-05-30T12:19:56.917Z"
   },
   {
    "duration": 32,
    "start_time": "2022-05-30T12:19:57.069Z"
   },
   {
    "duration": 29,
    "start_time": "2022-05-30T12:19:57.103Z"
   },
   {
    "duration": 5,
    "start_time": "2022-05-30T12:19:57.133Z"
   },
   {
    "duration": 18,
    "start_time": "2022-05-30T12:19:57.161Z"
   },
   {
    "duration": 108,
    "start_time": "2022-05-30T12:19:57.181Z"
   },
   {
    "duration": 24,
    "start_time": "2022-05-30T12:19:57.291Z"
   },
   {
    "duration": 50,
    "start_time": "2022-05-30T12:19:57.318Z"
   },
   {
    "duration": 59,
    "start_time": "2022-05-30T12:19:57.369Z"
   },
   {
    "duration": 87,
    "start_time": "2022-05-30T12:19:57.429Z"
   },
   {
    "duration": 48,
    "start_time": "2022-05-30T12:19:57.518Z"
   },
   {
    "duration": 53,
    "start_time": "2022-05-30T12:19:57.568Z"
   },
   {
    "duration": 2,
    "start_time": "2022-05-30T12:19:57.623Z"
   },
   {
    "duration": 56,
    "start_time": "2022-05-30T12:19:57.630Z"
   },
   {
    "duration": 11,
    "start_time": "2022-05-30T12:19:57.688Z"
   },
   {
    "duration": 15,
    "start_time": "2022-05-30T12:19:57.700Z"
   },
   {
    "duration": 12,
    "start_time": "2022-05-30T12:19:57.716Z"
   },
   {
    "duration": 34,
    "start_time": "2022-05-30T12:19:57.729Z"
   },
   {
    "duration": 8,
    "start_time": "2022-05-30T12:19:57.764Z"
   },
   {
    "duration": 51,
    "start_time": "2022-05-30T12:19:57.773Z"
   },
   {
    "duration": 7,
    "start_time": "2022-05-30T12:19:57.826Z"
   },
   {
    "duration": 18,
    "start_time": "2022-05-30T12:19:57.835Z"
   },
   {
    "duration": 27,
    "start_time": "2022-05-30T12:19:57.855Z"
   },
   {
    "duration": 56,
    "start_time": "2022-05-30T12:19:57.884Z"
   },
   {
    "duration": 12,
    "start_time": "2022-05-30T12:19:57.942Z"
   },
   {
    "duration": 22,
    "start_time": "2022-05-30T12:19:57.956Z"
   },
   {
    "duration": 138,
    "start_time": "2022-05-30T12:19:57.979Z"
   },
   {
    "duration": 3,
    "start_time": "2022-05-30T12:19:58.119Z"
   },
   {
    "duration": 53,
    "start_time": "2022-05-30T12:19:58.124Z"
   },
   {
    "duration": 4,
    "start_time": "2022-05-30T12:19:58.179Z"
   },
   {
    "duration": 18,
    "start_time": "2022-05-30T12:19:58.185Z"
   },
   {
    "duration": 34,
    "start_time": "2022-05-30T12:19:58.205Z"
   },
   {
    "duration": 94,
    "start_time": "2022-05-30T12:19:58.240Z"
   },
   {
    "duration": 14,
    "start_time": "2022-05-30T12:19:58.336Z"
   },
   {
    "duration": 274,
    "start_time": "2022-05-30T12:19:58.351Z"
   },
   {
    "duration": 308,
    "start_time": "2022-05-30T12:19:58.627Z"
   },
   {
    "duration": 139,
    "start_time": "2022-05-30T12:19:58.937Z"
   },
   {
    "duration": 24,
    "start_time": "2022-05-30T12:19:59.079Z"
   },
   {
    "duration": 23,
    "start_time": "2022-05-30T12:19:59.105Z"
   },
   {
    "duration": 242,
    "start_time": "2022-05-30T12:19:59.130Z"
   },
   {
    "duration": 24,
    "start_time": "2022-05-30T12:19:59.376Z"
   },
   {
    "duration": 21,
    "start_time": "2022-05-30T12:19:59.401Z"
   },
   {
    "duration": 224,
    "start_time": "2022-05-30T12:19:59.424Z"
   },
   {
    "duration": 34,
    "start_time": "2022-05-30T12:19:59.651Z"
   },
   {
    "duration": 16,
    "start_time": "2022-05-30T12:19:59.687Z"
   },
   {
    "duration": 19,
    "start_time": "2022-05-30T12:19:59.706Z"
   },
   {
    "duration": 196,
    "start_time": "2022-05-30T12:19:59.726Z"
   },
   {
    "duration": 202,
    "start_time": "2022-05-30T12:19:59.925Z"
   },
   {
    "duration": 12,
    "start_time": "2022-05-30T12:20:00.129Z"
   },
   {
    "duration": 208,
    "start_time": "2022-05-30T12:20:00.143Z"
   },
   {
    "duration": 23,
    "start_time": "2022-05-30T12:20:00.352Z"
   },
   {
    "duration": 319,
    "start_time": "2022-05-30T12:20:00.377Z"
   },
   {
    "duration": 10,
    "start_time": "2022-05-30T12:20:00.698Z"
   },
   {
    "duration": 322,
    "start_time": "2022-05-30T12:20:00.710Z"
   },
   {
    "duration": 12,
    "start_time": "2022-05-30T12:20:01.034Z"
   },
   {
    "duration": 217,
    "start_time": "2022-05-30T12:20:01.059Z"
   },
   {
    "duration": 439,
    "start_time": "2022-05-30T12:20:01.278Z"
   },
   {
    "duration": 370,
    "start_time": "2022-05-30T12:20:01.719Z"
   },
   {
    "duration": 339,
    "start_time": "2022-05-30T12:20:02.091Z"
   },
   {
    "duration": 347,
    "start_time": "2022-05-30T12:20:02.432Z"
   },
   {
    "duration": 197,
    "start_time": "2022-05-30T12:20:02.781Z"
   },
   {
    "duration": 360,
    "start_time": "2022-05-30T12:20:02.982Z"
   },
   {
    "duration": 465,
    "start_time": "2022-05-30T12:20:03.345Z"
   },
   {
    "duration": 187,
    "start_time": "2022-05-30T12:20:03.812Z"
   },
   {
    "duration": 3,
    "start_time": "2022-05-30T12:20:04.001Z"
   },
   {
    "duration": 21,
    "start_time": "2022-05-30T12:20:04.006Z"
   },
   {
    "duration": 23,
    "start_time": "2022-05-30T12:20:04.029Z"
   },
   {
    "duration": 22,
    "start_time": "2022-05-30T12:20:04.062Z"
   },
   {
    "duration": 26,
    "start_time": "2022-05-30T12:20:04.086Z"
   },
   {
    "duration": 33,
    "start_time": "2022-05-30T12:20:04.114Z"
   },
   {
    "duration": 46,
    "start_time": "2022-05-30T12:20:04.149Z"
   },
   {
    "duration": 22,
    "start_time": "2022-05-30T12:20:04.197Z"
   },
   {
    "duration": 22,
    "start_time": "2022-05-30T12:20:04.220Z"
   },
   {
    "duration": 34,
    "start_time": "2022-05-30T12:20:04.244Z"
   },
   {
    "duration": 26,
    "start_time": "2022-05-30T12:20:04.280Z"
   },
   {
    "duration": 18,
    "start_time": "2022-05-30T12:20:04.308Z"
   },
   {
    "duration": 30,
    "start_time": "2022-05-30T12:20:04.328Z"
   },
   {
    "duration": 132,
    "start_time": "2022-05-30T12:20:04.366Z"
   },
   {
    "duration": 0,
    "start_time": "2022-05-30T12:20:04.500Z"
   },
   {
    "duration": 0,
    "start_time": "2022-05-30T12:20:04.501Z"
   },
   {
    "duration": 0,
    "start_time": "2022-05-30T12:20:04.502Z"
   },
   {
    "duration": 0,
    "start_time": "2022-05-30T12:20:04.503Z"
   },
   {
    "duration": 1938,
    "start_time": "2022-05-30T12:20:52.216Z"
   },
   {
    "duration": 220,
    "start_time": "2022-05-30T12:21:15.122Z"
   },
   {
    "duration": 226,
    "start_time": "2022-05-30T12:21:26.282Z"
   },
   {
    "duration": 203,
    "start_time": "2022-05-30T12:21:33.978Z"
   },
   {
    "duration": 67,
    "start_time": "2022-05-30T12:21:37.265Z"
   },
   {
    "duration": 1146,
    "start_time": "2022-05-30T12:23:46.106Z"
   },
   {
    "duration": 530,
    "start_time": "2022-05-30T12:23:47.255Z"
   },
   {
    "duration": 19,
    "start_time": "2022-05-30T12:23:47.787Z"
   },
   {
    "duration": 30,
    "start_time": "2022-05-30T12:23:47.808Z"
   },
   {
    "duration": 4,
    "start_time": "2022-05-30T12:23:47.840Z"
   },
   {
    "duration": 87,
    "start_time": "2022-05-30T12:23:47.846Z"
   },
   {
    "duration": 25,
    "start_time": "2022-05-30T12:23:47.935Z"
   },
   {
    "duration": 427,
    "start_time": "2022-05-30T12:23:47.961Z"
   },
   {
    "duration": 321,
    "start_time": "2022-05-30T12:23:48.389Z"
   },
   {
    "duration": 27,
    "start_time": "2022-05-30T12:23:48.714Z"
   },
   {
    "duration": 19,
    "start_time": "2022-05-30T12:23:48.743Z"
   },
   {
    "duration": 64,
    "start_time": "2022-05-30T12:23:48.767Z"
   },
   {
    "duration": 45,
    "start_time": "2022-05-30T12:23:48.833Z"
   },
   {
    "duration": 6,
    "start_time": "2022-05-30T12:23:48.880Z"
   },
   {
    "duration": 141,
    "start_time": "2022-05-30T12:23:48.888Z"
   },
   {
    "duration": 46,
    "start_time": "2022-05-30T12:23:49.030Z"
   },
   {
    "duration": 19,
    "start_time": "2022-05-30T12:23:49.078Z"
   },
   {
    "duration": 4,
    "start_time": "2022-05-30T12:23:49.099Z"
   },
   {
    "duration": 8,
    "start_time": "2022-05-30T12:23:49.104Z"
   },
   {
    "duration": 101,
    "start_time": "2022-05-30T12:23:49.114Z"
   },
   {
    "duration": 19,
    "start_time": "2022-05-30T12:23:49.216Z"
   },
   {
    "duration": 45,
    "start_time": "2022-05-30T12:23:49.237Z"
   },
   {
    "duration": 57,
    "start_time": "2022-05-30T12:23:49.284Z"
   },
   {
    "duration": 76,
    "start_time": "2022-05-30T12:23:49.343Z"
   },
   {
    "duration": 52,
    "start_time": "2022-05-30T12:23:49.421Z"
   },
   {
    "duration": 41,
    "start_time": "2022-05-30T12:23:49.474Z"
   },
   {
    "duration": 3,
    "start_time": "2022-05-30T12:23:49.517Z"
   },
   {
    "duration": 67,
    "start_time": "2022-05-30T12:23:49.526Z"
   },
   {
    "duration": 12,
    "start_time": "2022-05-30T12:23:49.595Z"
   },
   {
    "duration": 22,
    "start_time": "2022-05-30T12:23:49.609Z"
   },
   {
    "duration": 6,
    "start_time": "2022-05-30T12:23:49.633Z"
   },
   {
    "duration": 19,
    "start_time": "2022-05-30T12:23:49.640Z"
   },
   {
    "duration": 7,
    "start_time": "2022-05-30T12:23:49.661Z"
   },
   {
    "duration": 38,
    "start_time": "2022-05-30T12:23:49.671Z"
   },
   {
    "duration": 6,
    "start_time": "2022-05-30T12:23:49.711Z"
   },
   {
    "duration": 10,
    "start_time": "2022-05-30T12:23:49.719Z"
   },
   {
    "duration": 11,
    "start_time": "2022-05-30T12:23:49.730Z"
   },
   {
    "duration": 46,
    "start_time": "2022-05-30T12:23:49.742Z"
   },
   {
    "duration": 11,
    "start_time": "2022-05-30T12:23:49.790Z"
   },
   {
    "duration": 4,
    "start_time": "2022-05-30T12:23:49.802Z"
   },
   {
    "duration": 124,
    "start_time": "2022-05-30T12:23:49.808Z"
   },
   {
    "duration": 4,
    "start_time": "2022-05-30T12:23:49.934Z"
   },
   {
    "duration": 48,
    "start_time": "2022-05-30T12:23:49.939Z"
   },
   {
    "duration": 18,
    "start_time": "2022-05-30T12:23:49.989Z"
   },
   {
    "duration": 28,
    "start_time": "2022-05-30T12:23:50.009Z"
   },
   {
    "duration": 28,
    "start_time": "2022-05-30T12:23:50.039Z"
   },
   {
    "duration": 63,
    "start_time": "2022-05-30T12:23:50.074Z"
   },
   {
    "duration": 14,
    "start_time": "2022-05-30T12:23:50.138Z"
   },
   {
    "duration": 287,
    "start_time": "2022-05-30T12:23:50.154Z"
   },
   {
    "duration": 312,
    "start_time": "2022-05-30T12:23:50.444Z"
   },
   {
    "duration": 139,
    "start_time": "2022-05-30T12:23:50.758Z"
   },
   {
    "duration": 27,
    "start_time": "2022-05-30T12:23:50.899Z"
   },
   {
    "duration": 53,
    "start_time": "2022-05-30T12:23:50.927Z"
   },
   {
    "duration": 231,
    "start_time": "2022-05-30T12:23:50.982Z"
   },
   {
    "duration": 24,
    "start_time": "2022-05-30T12:23:51.214Z"
   },
   {
    "duration": 60,
    "start_time": "2022-05-30T12:23:51.239Z"
   },
   {
    "duration": 208,
    "start_time": "2022-05-30T12:23:51.301Z"
   },
   {
    "duration": 23,
    "start_time": "2022-05-30T12:23:51.511Z"
   },
   {
    "duration": 40,
    "start_time": "2022-05-30T12:23:51.536Z"
   },
   {
    "duration": 14,
    "start_time": "2022-05-30T12:23:51.578Z"
   },
   {
    "duration": 187,
    "start_time": "2022-05-30T12:23:51.593Z"
   },
   {
    "duration": 187,
    "start_time": "2022-05-30T12:23:51.782Z"
   },
   {
    "duration": 12,
    "start_time": "2022-05-30T12:23:51.971Z"
   },
   {
    "duration": 205,
    "start_time": "2022-05-30T12:23:51.985Z"
   },
   {
    "duration": 11,
    "start_time": "2022-05-30T12:23:52.191Z"
   },
   {
    "duration": 315,
    "start_time": "2022-05-30T12:23:52.204Z"
   },
   {
    "duration": 11,
    "start_time": "2022-05-30T12:23:52.520Z"
   },
   {
    "duration": 322,
    "start_time": "2022-05-30T12:23:52.532Z"
   },
   {
    "duration": 13,
    "start_time": "2022-05-30T12:23:52.859Z"
   },
   {
    "duration": 216,
    "start_time": "2022-05-30T12:23:52.877Z"
   },
   {
    "duration": 420,
    "start_time": "2022-05-30T12:23:53.096Z"
   },
   {
    "duration": 297,
    "start_time": "2022-05-30T12:23:53.518Z"
   },
   {
    "duration": 304,
    "start_time": "2022-05-30T12:23:53.817Z"
   },
   {
    "duration": 311,
    "start_time": "2022-05-30T12:23:54.122Z"
   },
   {
    "duration": 173,
    "start_time": "2022-05-30T12:23:54.435Z"
   },
   {
    "duration": 354,
    "start_time": "2022-05-30T12:23:54.610Z"
   },
   {
    "duration": 456,
    "start_time": "2022-05-30T12:23:54.966Z"
   },
   {
    "duration": 180,
    "start_time": "2022-05-30T12:23:55.424Z"
   },
   {
    "duration": 3,
    "start_time": "2022-05-30T12:23:55.605Z"
   },
   {
    "duration": 11,
    "start_time": "2022-05-30T12:23:55.610Z"
   },
   {
    "duration": 7,
    "start_time": "2022-05-30T12:23:55.623Z"
   },
   {
    "duration": 10,
    "start_time": "2022-05-30T12:23:55.658Z"
   },
   {
    "duration": 11,
    "start_time": "2022-05-30T12:23:55.672Z"
   },
   {
    "duration": 10,
    "start_time": "2022-05-30T12:23:55.685Z"
   },
   {
    "duration": 11,
    "start_time": "2022-05-30T12:23:55.697Z"
   },
   {
    "duration": 7,
    "start_time": "2022-05-30T12:23:55.709Z"
   },
   {
    "duration": 13,
    "start_time": "2022-05-30T12:23:55.718Z"
   },
   {
    "duration": 9,
    "start_time": "2022-05-30T12:23:55.732Z"
   },
   {
    "duration": 13,
    "start_time": "2022-05-30T12:23:55.764Z"
   },
   {
    "duration": 4,
    "start_time": "2022-05-30T12:23:55.779Z"
   },
   {
    "duration": 7,
    "start_time": "2022-05-30T12:23:55.784Z"
   },
   {
    "duration": 1541,
    "start_time": "2022-05-30T12:23:55.792Z"
   },
   {
    "duration": 248,
    "start_time": "2022-05-30T12:23:57.335Z"
   },
   {
    "duration": 232,
    "start_time": "2022-05-30T12:23:57.585Z"
   },
   {
    "duration": 215,
    "start_time": "2022-05-30T12:23:57.819Z"
   },
   {
    "duration": 58,
    "start_time": "2022-05-30T12:23:58.036Z"
   }
  ],
  "kernelspec": {
   "display_name": "Python 3 (ipykernel)",
   "language": "python",
   "name": "python3"
  },
  "language_info": {
   "codemirror_mode": {
    "name": "ipython",
    "version": 3
   },
   "file_extension": ".py",
   "mimetype": "text/x-python",
   "name": "python",
   "nbconvert_exporter": "python",
   "pygments_lexer": "ipython3",
   "version": "3.7.8"
  },
  "toc": {
   "base_numbering": 1,
   "nav_menu": {},
   "number_sections": true,
   "sideBar": true,
   "skip_h1_title": true,
   "title_cell": "Table of Contents",
   "title_sidebar": "Contents",
   "toc_cell": false,
   "toc_position": {
    "height": "calc(100% - 180px)",
    "left": "10px",
    "top": "150px",
    "width": "207px"
   },
   "toc_section_display": true,
   "toc_window_display": true
  }
 },
 "nbformat": 4,
 "nbformat_minor": 2
}
