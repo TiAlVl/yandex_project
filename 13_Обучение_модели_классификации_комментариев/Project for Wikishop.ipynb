{
 "cells": [
  {
   "cell_type": "markdown",
   "id": "171ccd98",
   "metadata": {
    "toc": true
   },
   "source": [
    "<h1>Table of Contents<span class=\"tocSkip\"></span></h1>\n",
    "<div class=\"toc\"><ul class=\"toc-item\"><li><span><a href=\"#Подготовка\" data-toc-modified-id=\"Подготовка-1\"><span class=\"toc-item-num\">1&nbsp;&nbsp;</span>Подготовка</a></span><ul class=\"toc-item\"><li><span><a href=\"#Загрузим-данные\" data-toc-modified-id=\"Загрузим-данные-1.1\"><span class=\"toc-item-num\">1.1&nbsp;&nbsp;</span>Загрузим данные</a></span></li><li><span><a href=\"#Анализ-данных\" data-toc-modified-id=\"Анализ-данных-1.2\"><span class=\"toc-item-num\">1.2&nbsp;&nbsp;</span>Анализ данных</a></span></li><li><span><a href=\"#Вывод\" data-toc-modified-id=\"Вывод-1.3\"><span class=\"toc-item-num\">1.3&nbsp;&nbsp;</span>Вывод</a></span></li></ul></li><li><span><a href=\"#Предобработка-даных\" data-toc-modified-id=\"Предобработка-даных-2\"><span class=\"toc-item-num\">2&nbsp;&nbsp;</span>Предобработка даных</a></span><ul class=\"toc-item\"><li><span><a href=\"#Вывод\" data-toc-modified-id=\"Вывод-2.1\"><span class=\"toc-item-num\">2.1&nbsp;&nbsp;</span>Вывод</a></span></li></ul></li><li><span><a href=\"#вывод\" data-toc-modified-id=\"вывод-3\"><span class=\"toc-item-num\">3&nbsp;&nbsp;</span>вывод</a></span></li></ul></div>"
   ]
  },
  {
   "cell_type": "markdown",
   "id": "a1eb996d",
   "metadata": {},
   "source": [
    "# Модель классификации комментариев для интернет-магазина"
   ]
  },
  {
   "cell_type": "markdown",
   "id": "11ede966",
   "metadata": {},
   "source": [
    "Интернет-магазин запускает новый сервис. Теперь пользователи могут редактировать и дополнять описания товаров, как в вики-сообществах. То есть, клиенты предлагают свои правки и комментируют изменения других. Магазину нужен инструмент, который будет искать токсичные комментарии и отправлять их на модерацию. \n",
    "\n",
    "Обучим модель классифицировать комментарии на позитивные и негативные. В нашем распоряжении набор данных с разметкой о токсичности правок.\n",
    "\n",
    "Значение метрики качества *F1* у модели должно быть не меньше 0.75. \n",
    "\n"
   ]
  },
  {
   "cell_type": "markdown",
   "id": "1a033caf",
   "metadata": {},
   "source": [
    "# **Цель**: \n",
    "   * Обучить модель классифицировать комментарии на позитивные и негативные\n",
    "<br>"
   ]
  },
  {
   "cell_type": "markdown",
   "id": "e0b3bcb6",
   "metadata": {},
   "source": [
    "# **Задача**: \n",
    "   * Получить значение метрики качества F1 у модели не меньше 0.75\n",
    "<br>"
   ]
  },
  {
   "cell_type": "markdown",
   "id": "71c8e0b0",
   "metadata": {},
   "source": [
    "# **Описание данных**: \n",
    "\n",
    "   * Данные находятся в файле /datasets/toxic_comments.csv.\n",
    "   * Столбец text содержит текст комментария, а toxic — целевой признак.\n",
    "\n",
    "<br>"
   ]
  },
  {
   "cell_type": "markdown",
   "id": "72004e72",
   "metadata": {},
   "source": [
    "\n",
    "# **План работы**:\n",
    "   * Загрузка данных\n",
    "   * Анализ данных\n",
    "   * Деление датасета на выборки: тренировочная и тестовая  в пропорции 90:10\n",
    "   * Подбор параметров моделей, для минимизации F1\n",
    "   * Анализ полученных результатов\n",
    "   * Общий вывод\n",
    "    \n"
   ]
  },
  {
   "cell_type": "markdown",
   "id": "1913efa7",
   "metadata": {},
   "source": [
    "\n",
    "# Описание данных\n",
    "\n",
    "Данные находятся в файле `toxic_comments.csv`. Столбец *text* в нём содержит текст комментария, а *toxic* — целевой признак."
   ]
  },
  {
   "cell_type": "markdown",
   "id": "c98dca09",
   "metadata": {},
   "source": [
    "## Подготовка"
   ]
  },
  {
   "cell_type": "code",
   "execution_count": 20,
   "id": "7459267b",
   "metadata": {},
   "outputs": [
    {
     "name": "stderr",
     "output_type": "stream",
     "text": [
      "[nltk_data] Downloading package punkt to\n",
      "[nltk_data]     C:\\Users\\tito_\\AppData\\Roaming\\nltk_data...\n",
      "[nltk_data]   Package punkt is already up-to-date!\n",
      "[nltk_data] Downloading package stopwords to\n",
      "[nltk_data]     C:\\Users\\tito_\\AppData\\Roaming\\nltk_data...\n",
      "[nltk_data]   Package stopwords is already up-to-date!\n",
      "[nltk_data] Downloading package averaged_perceptron_tagger to\n",
      "[nltk_data]     C:\\Users\\tito_\\AppData\\Roaming\\nltk_data...\n",
      "[nltk_data]   Package averaged_perceptron_tagger is already up-to-\n",
      "[nltk_data]       date!\n",
      "[nltk_data] Downloading package wordnet to\n",
      "[nltk_data]     C:\\Users\\tito_\\AppData\\Roaming\\nltk_data...\n",
      "[nltk_data]   Package wordnet is already up-to-date!\n",
      "C:\\Users\\tito_\\anaconda3\\envs\\praktikum_env_win_new\\lib\\site-packages\\ipykernel_launcher.py:18: TqdmDeprecationWarning: This function will be removed in tqdm==5.0.0\n",
      "Please use `tqdm.notebook.tqdm` instead of `tqdm.tqdm_notebook`\n"
     ]
    },
    {
     "data": {
      "application/vnd.jupyter.widget-view+json": {
       "model_id": "98b76dae3cf949008f2785f6d12b3667",
       "version_major": 2,
       "version_minor": 0
      },
      "text/plain": [
       "0it [00:00, ?it/s]"
      ]
     },
     "metadata": {},
     "output_type": "display_data"
    }
   ],
   "source": [
    "import pandas as pd\n",
    "import os\n",
    "import matplotlib.pyplot as plt\n",
    "from sklearn.model_selection import train_test_split, cross_val_score, GridSearchCV\n",
    "import re\n",
    "from sklearn.feature_extraction.text import CountVectorizer\n",
    "from nltk.corpus import stopwords, wordnet\n",
    "import nltk\n",
    "nltk.download('punkt')\n",
    "from nltk.stem import WordNetLemmatizer \n",
    "from sklearn.feature_extraction.text import TfidfVectorizer\n",
    "\n",
    "nltk.download('stopwords')\n",
    "nltk.download('averaged_perceptron_tagger')\n",
    "nltk.download('wordnet')\n",
    "\n",
    "from tqdm import tqdm, tqdm_notebook\n",
    "tqdm_notebook().pandas()\n",
    "from sklearn.linear_model import LogisticRegression\n",
    "from catboost import CatBoostClassifier\n",
    "from lightgbm import LGBMClassifier\n",
    "from sklearn.tree import DecisionTreeClassifier\n",
    "from sklearn.metrics import f1_score, confusion_matrix\n",
    "\n",
    "import time\n",
    "import re\n",
    "import numpy as np"
   ]
  },
  {
   "cell_type": "markdown",
   "id": "ccaadf71",
   "metadata": {},
   "source": [
    "### Загрузим данные"
   ]
  },
  {
   "cell_type": "code",
   "execution_count": 21,
   "id": "6137db9e",
   "metadata": {},
   "outputs": [],
   "source": [
    "# Загрузка данных\n",
    "pth1 = 'datasets/toxic_comments.csv'\n",
    "pth2 = '/datasets/toxic_comments.csv'\n",
    "if os.path.exists(pth1):\n",
    "    data = pd.read_csv(pth1)\n",
    "elif os.path.exists(pth2):\n",
    "    data = pd.read_csv(pth2)\n",
    "else:\n",
    "    print(\"Проверьте правильность пути к датасету\")"
   ]
  },
  {
   "cell_type": "code",
   "execution_count": 22,
   "id": "494cd101",
   "metadata": {},
   "outputs": [
    {
     "data": {
      "text/html": [
       "<div>\n",
       "<style scoped>\n",
       "    .dataframe tbody tr th:only-of-type {\n",
       "        vertical-align: middle;\n",
       "    }\n",
       "\n",
       "    .dataframe tbody tr th {\n",
       "        vertical-align: top;\n",
       "    }\n",
       "\n",
       "    .dataframe thead th {\n",
       "        text-align: right;\n",
       "    }\n",
       "</style>\n",
       "<table border=\"1\" class=\"dataframe\">\n",
       "  <thead>\n",
       "    <tr style=\"text-align: right;\">\n",
       "      <th></th>\n",
       "      <th>Unnamed: 0</th>\n",
       "      <th>text</th>\n",
       "      <th>toxic</th>\n",
       "    </tr>\n",
       "  </thead>\n",
       "  <tbody>\n",
       "    <tr>\n",
       "      <th>0</th>\n",
       "      <td>0</td>\n",
       "      <td>Explanation\\nWhy the edits made under my usern...</td>\n",
       "      <td>0</td>\n",
       "    </tr>\n",
       "    <tr>\n",
       "      <th>1</th>\n",
       "      <td>1</td>\n",
       "      <td>D'aww! He matches this background colour I'm s...</td>\n",
       "      <td>0</td>\n",
       "    </tr>\n",
       "    <tr>\n",
       "      <th>2</th>\n",
       "      <td>2</td>\n",
       "      <td>Hey man, I'm really not trying to edit war. It...</td>\n",
       "      <td>0</td>\n",
       "    </tr>\n",
       "    <tr>\n",
       "      <th>3</th>\n",
       "      <td>3</td>\n",
       "      <td>\"\\nMore\\nI can't make any real suggestions on ...</td>\n",
       "      <td>0</td>\n",
       "    </tr>\n",
       "    <tr>\n",
       "      <th>4</th>\n",
       "      <td>4</td>\n",
       "      <td>You, sir, are my hero. Any chance you remember...</td>\n",
       "      <td>0</td>\n",
       "    </tr>\n",
       "    <tr>\n",
       "      <th>...</th>\n",
       "      <td>...</td>\n",
       "      <td>...</td>\n",
       "      <td>...</td>\n",
       "    </tr>\n",
       "    <tr>\n",
       "      <th>159287</th>\n",
       "      <td>159446</td>\n",
       "      <td>\":::::And for the second time of asking, when ...</td>\n",
       "      <td>0</td>\n",
       "    </tr>\n",
       "    <tr>\n",
       "      <th>159288</th>\n",
       "      <td>159447</td>\n",
       "      <td>You should be ashamed of yourself \\n\\nThat is ...</td>\n",
       "      <td>0</td>\n",
       "    </tr>\n",
       "    <tr>\n",
       "      <th>159289</th>\n",
       "      <td>159448</td>\n",
       "      <td>Spitzer \\n\\nUmm, theres no actual article for ...</td>\n",
       "      <td>0</td>\n",
       "    </tr>\n",
       "    <tr>\n",
       "      <th>159290</th>\n",
       "      <td>159449</td>\n",
       "      <td>And it looks like it was actually you who put ...</td>\n",
       "      <td>0</td>\n",
       "    </tr>\n",
       "    <tr>\n",
       "      <th>159291</th>\n",
       "      <td>159450</td>\n",
       "      <td>\"\\nAnd ... I really don't think you understand...</td>\n",
       "      <td>0</td>\n",
       "    </tr>\n",
       "  </tbody>\n",
       "</table>\n",
       "<p>159292 rows × 3 columns</p>\n",
       "</div>"
      ],
      "text/plain": [
       "        Unnamed: 0                                               text  toxic\n",
       "0                0  Explanation\\nWhy the edits made under my usern...      0\n",
       "1                1  D'aww! He matches this background colour I'm s...      0\n",
       "2                2  Hey man, I'm really not trying to edit war. It...      0\n",
       "3                3  \"\\nMore\\nI can't make any real suggestions on ...      0\n",
       "4                4  You, sir, are my hero. Any chance you remember...      0\n",
       "...            ...                                                ...    ...\n",
       "159287      159446  \":::::And for the second time of asking, when ...      0\n",
       "159288      159447  You should be ashamed of yourself \\n\\nThat is ...      0\n",
       "159289      159448  Spitzer \\n\\nUmm, theres no actual article for ...      0\n",
       "159290      159449  And it looks like it was actually you who put ...      0\n",
       "159291      159450  \"\\nAnd ... I really don't think you understand...      0\n",
       "\n",
       "[159292 rows x 3 columns]"
      ]
     },
     "execution_count": 22,
     "metadata": {},
     "output_type": "execute_result"
    }
   ],
   "source": [
    "data"
   ]
  },
  {
   "cell_type": "markdown",
   "id": "02164562",
   "metadata": {},
   "source": [
    "### Анализ данных"
   ]
  },
  {
   "cell_type": "code",
   "execution_count": 23,
   "id": "ecc27b3b",
   "metadata": {},
   "outputs": [
    {
     "name": "stdout",
     "output_type": "stream",
     "text": [
      "<class 'pandas.core.frame.DataFrame'>\n",
      "RangeIndex: 159292 entries, 0 to 159291\n",
      "Data columns (total 3 columns):\n",
      " #   Column      Non-Null Count   Dtype \n",
      "---  ------      --------------   ----- \n",
      " 0   Unnamed: 0  159292 non-null  int64 \n",
      " 1   text        159292 non-null  object\n",
      " 2   toxic       159292 non-null  int64 \n",
      "dtypes: int64(2), object(1)\n",
      "memory usage: 3.6+ MB\n"
     ]
    }
   ],
   "source": [
    "# в датасете два столбца, один с текстом, второй с целевым признаком\n",
    "data.info()"
   ]
  },
  {
   "cell_type": "code",
   "execution_count": 24,
   "id": "a184db08",
   "metadata": {},
   "outputs": [
    {
     "data": {
      "text/plain": [
       "Unnamed: 0    0\n",
       "text          0\n",
       "toxic         0\n",
       "dtype: int64"
      ]
     },
     "execution_count": 24,
     "metadata": {},
     "output_type": "execute_result"
    }
   ],
   "source": [
    "# Пропуски\n",
    "data.isna().sum()"
   ]
  },
  {
   "cell_type": "markdown",
   "id": "3df7f399",
   "metadata": {},
   "source": [
    "Пропуски отсутствуют"
   ]
  },
  {
   "cell_type": "code",
   "execution_count": 25,
   "id": "2abe125b",
   "metadata": {},
   "outputs": [
    {
     "data": {
      "text/plain": [
       "0"
      ]
     },
     "execution_count": 25,
     "metadata": {},
     "output_type": "execute_result"
    }
   ],
   "source": [
    "# Дубликаты\n",
    "data.duplicated().sum()"
   ]
  },
  {
   "cell_type": "code",
   "execution_count": 26,
   "id": "b2a2f652",
   "metadata": {},
   "outputs": [
    {
     "data": {
      "image/png": "[encoded data removed]",
      "text/plain": [
       "<Figure size 432x288 with 1 Axes>"
      ]
     },
     "metadata": {
      "needs_background": "light"
     },
     "output_type": "display_data"
    }
   ],
   "source": [
    "# Посмотрим дисбаланс целевого признака\n",
    "data['toxic'].value_counts().plot(kind='bar')\n",
    "plt.title(\"Дисбаланс\", fontsize=14)\n",
    "plt.xlabel(\"Целевой признак\", fontsize=14)\n",
    "plt.ylabel(\"Количество\", fontsize=14)\n",
    "plt.show()"
   ]
  },
  {
   "cell_type": "markdown",
   "id": "57847aff",
   "metadata": {},
   "source": [
    "Дисбаланс в наличии: плохих комментариев меньше хороших"
   ]
  },
  {
   "cell_type": "markdown",
   "id": "a5fe83fa",
   "metadata": {},
   "source": [
    "### Вывод\n",
    "\n",
    "* Данные загружены успешно, в датасете два столбца: один с тестами, второй с целевым признаком\n",
    "* Пропусков и дубликатов нет\n",
    "* Наблюдается дисбаланс по целевому признаку"
   ]
  },
  {
   "cell_type": "markdown",
   "id": "1c73273c",
   "metadata": {},
   "source": [
    "## Предобработка даных"
   ]
  },
  {
   "cell_type": "markdown",
   "id": "7ca0d11c",
   "metadata": {},
   "source": [
    "# Очиста текста"
   ]
  },
  {
   "cell_type": "code",
   "execution_count": 27,
   "id": "20db4d87",
   "metadata": {},
   "outputs": [],
   "source": [
    "# функция очистки текстов\n",
    "def clear_text(text):\n",
    "    re_list = re.sub(r\"[^a-zA-Z']\", ' ', text)\n",
    "    re_list = re_list.lower() #добавлено исправление\n",
    "    re_list = re_list.split()\n",
    "    re_list = \" \".join(re_list)\n",
    "    return re_list"
   ]
  },
  {
   "cell_type": "code",
   "execution_count": 28,
   "id": "54b97728",
   "metadata": {},
   "outputs": [
    {
     "data": {
      "application/vnd.jupyter.widget-view+json": {
       "model_id": "bd59f597eedd4720a0e06fb2fd5d7821",
       "version_major": 2,
       "version_minor": 0
      },
      "text/plain": [
       "  0%|          | 0/159292 [00:00<?, ?it/s]"
      ]
     },
     "metadata": {},
     "output_type": "display_data"
    },
    {
     "name": "stdout",
     "output_type": "stream",
     "text": [
      "Wall time: 12.3 s\n"
     ]
    },
    {
     "data": {
      "text/html": [
       "<div>\n",
       "<style scoped>\n",
       "    .dataframe tbody tr th:only-of-type {\n",
       "        vertical-align: middle;\n",
       "    }\n",
       "\n",
       "    .dataframe tbody tr th {\n",
       "        vertical-align: top;\n",
       "    }\n",
       "\n",
       "    .dataframe thead th {\n",
       "        text-align: right;\n",
       "    }\n",
       "</style>\n",
       "<table border=\"1\" class=\"dataframe\">\n",
       "  <thead>\n",
       "    <tr style=\"text-align: right;\">\n",
       "      <th></th>\n",
       "      <th>Unnamed: 0</th>\n",
       "      <th>text</th>\n",
       "      <th>toxic</th>\n",
       "    </tr>\n",
       "  </thead>\n",
       "  <tbody>\n",
       "    <tr>\n",
       "      <th>0</th>\n",
       "      <td>0</td>\n",
       "      <td>explanation why the edits made under my userna...</td>\n",
       "      <td>0</td>\n",
       "    </tr>\n",
       "    <tr>\n",
       "      <th>1</th>\n",
       "      <td>1</td>\n",
       "      <td>d'aww he matches this background colour i'm se...</td>\n",
       "      <td>0</td>\n",
       "    </tr>\n",
       "    <tr>\n",
       "      <th>2</th>\n",
       "      <td>2</td>\n",
       "      <td>hey man i'm really not trying to edit war it's...</td>\n",
       "      <td>0</td>\n",
       "    </tr>\n",
       "    <tr>\n",
       "      <th>3</th>\n",
       "      <td>3</td>\n",
       "      <td>more i can't make any real suggestions on impr...</td>\n",
       "      <td>0</td>\n",
       "    </tr>\n",
       "    <tr>\n",
       "      <th>4</th>\n",
       "      <td>4</td>\n",
       "      <td>you sir are my hero any chance you remember wh...</td>\n",
       "      <td>0</td>\n",
       "    </tr>\n",
       "    <tr>\n",
       "      <th>...</th>\n",
       "      <td>...</td>\n",
       "      <td>...</td>\n",
       "      <td>...</td>\n",
       "    </tr>\n",
       "    <tr>\n",
       "      <th>159287</th>\n",
       "      <td>159446</td>\n",
       "      <td>and for the second time of asking when your vi...</td>\n",
       "      <td>0</td>\n",
       "    </tr>\n",
       "    <tr>\n",
       "      <th>159288</th>\n",
       "      <td>159447</td>\n",
       "      <td>you should be ashamed of yourself that is a ho...</td>\n",
       "      <td>0</td>\n",
       "    </tr>\n",
       "    <tr>\n",
       "      <th>159289</th>\n",
       "      <td>159448</td>\n",
       "      <td>spitzer umm theres no actual article for prost...</td>\n",
       "      <td>0</td>\n",
       "    </tr>\n",
       "    <tr>\n",
       "      <th>159290</th>\n",
       "      <td>159449</td>\n",
       "      <td>and it looks like it was actually you who put ...</td>\n",
       "      <td>0</td>\n",
       "    </tr>\n",
       "    <tr>\n",
       "      <th>159291</th>\n",
       "      <td>159450</td>\n",
       "      <td>and i really don't think you understand i came...</td>\n",
       "      <td>0</td>\n",
       "    </tr>\n",
       "  </tbody>\n",
       "</table>\n",
       "<p>159292 rows × 3 columns</p>\n",
       "</div>"
      ],
      "text/plain": [
       "        Unnamed: 0                                               text  toxic\n",
       "0                0  explanation why the edits made under my userna...      0\n",
       "1                1  d'aww he matches this background colour i'm se...      0\n",
       "2                2  hey man i'm really not trying to edit war it's...      0\n",
       "3                3  more i can't make any real suggestions on impr...      0\n",
       "4                4  you sir are my hero any chance you remember wh...      0\n",
       "...            ...                                                ...    ...\n",
       "159287      159446  and for the second time of asking when your vi...      0\n",
       "159288      159447  you should be ashamed of yourself that is a ho...      0\n",
       "159289      159448  spitzer umm theres no actual article for prost...      0\n",
       "159290      159449  and it looks like it was actually you who put ...      0\n",
       "159291      159450  and i really don't think you understand i came...      0\n",
       "\n",
       "[159292 rows x 3 columns]"
      ]
     },
     "execution_count": 28,
     "metadata": {},
     "output_type": "execute_result"
    }
   ],
   "source": [
    "%%time\n",
    "data['text'] = data['text'].progress_apply(clear_text)\n",
    "data"
   ]
  },
  {
   "cell_type": "markdown",
   "id": "230495c2",
   "metadata": {},
   "source": [
    "# Лемматизация\n"
   ]
  },
  {
   "cell_type": "code",
   "execution_count": 29,
   "id": "eb5864a0",
   "metadata": {},
   "outputs": [],
   "source": [
    "# для англ языка используем лемматизатор Wordnet из NLTK\n",
    "def get_wordnet_pos(word):\n",
    "    \"\"\"Map POS tag to first character lemmatize() accepts\"\"\"\n",
    "    tag = nltk.pos_tag([word])[0][1][0].upper()\n",
    "    tag_dict = {\"J\": wordnet.ADJ,\n",
    "                \"N\": wordnet.NOUN,\n",
    "                \"V\": wordnet.VERB,\n",
    "                \"R\": wordnet.ADV}\n",
    "    return tag_dict.get(tag, wordnet.NOUN)\n",
    "\n",
    "\n",
    "m = WordNetLemmatizer()\n",
    "\n",
    "def lemmatize(text):\n",
    "    #добавлено исправление\n",
    "    word_list = nltk.word_tokenize(text)\n",
    "    \n",
    "    return ' '.join([m.lemmatize(w, get_wordnet_pos(w)) for w in word_list])"
   ]
  },
  {
   "cell_type": "code",
   "execution_count": null,
   "id": "86cc21bd",
   "metadata": {},
   "outputs": [
    {
     "data": {
      "application/vnd.jupyter.widget-view+json": {
       "model_id": "fec17603c9b4474c90e970cacbb6e88f",
       "version_major": 2,
       "version_minor": 0
      },
      "text/plain": [
       "  0%|          | 0/159292 [00:00<?, ?it/s]"
      ]
     },
     "metadata": {},
     "output_type": "display_data"
    }
   ],
   "source": [
    "%%time\n",
    "# Лемматизируем текст\n",
    "data['lemm_text'] = data['text'].progress_apply(lemmatize)"
   ]
  },
  {
   "cell_type": "code",
   "execution_count": null,
   "id": "61ec6be2",
   "metadata": {},
   "outputs": [],
   "source": [
    "data"
   ]
  },
  {
   "cell_type": "markdown",
   "id": "71f5876a",
   "metadata": {},
   "source": [
    "# Корпус и выборки"
   ]
  },
  {
   "cell_type": "code",
   "execution_count": null,
   "id": "a09011da",
   "metadata": {},
   "outputs": [],
   "source": [
    "# сделаем датасет с лемматизированнымии токенизироанными данными\n",
    "data_clear = data.drop('text', axis=1)"
   ]
  },
  {
   "cell_type": "code",
   "execution_count": null,
   "id": "515d84e4",
   "metadata": {},
   "outputs": [],
   "source": [
    "# создадим корпус из очищенных текстов\n",
    "corpus = data_clear['lemm_text'].values"
   ]
  },
  {
   "cell_type": "code",
   "execution_count": null,
   "id": "3c7fc7b4",
   "metadata": {},
   "outputs": [],
   "source": [
    "# сделаем выборки\n",
    "features = corpus\n",
    "target = data_clear['toxic'].values"
   ]
  },
  {
   "cell_type": "code",
   "execution_count": null,
   "id": "baf1c228",
   "metadata": {},
   "outputs": [],
   "source": [
    "# разобьем выборки\n",
    "features_train, features_test, target_train, target_test = train_test_split(features, target, test_size=0.25, random_state=12345, stratify=target)\n"
   ]
  },
  {
   "cell_type": "code",
   "execution_count": null,
   "id": "5da42cb3",
   "metadata": {},
   "outputs": [],
   "source": [
    "print(features_train.shape)\n",
    "print(features_test.shape)"
   ]
  },
  {
   "cell_type": "code",
   "execution_count": null,
   "id": "3562e83c",
   "metadata": {},
   "outputs": [],
   "source": [
    "# Прогоним через  стоп слова\n",
    "stop_words = set(stopwords.words('english'))\n",
    "\n",
    "count_tf_idf = TfidfVectorizer(stop_words=stop_words)\n",
    "\n",
    "tf_idf_train = count_tf_idf.fit_transform(features_train) # < напишите код здесь >\n",
    "tf_idf_test = count_tf_idf.transform(features_test)"
   ]
  },
  {
   "cell_type": "code",
   "execution_count": null,
   "id": "a3bd9c27",
   "metadata": {},
   "outputs": [],
   "source": [
    "print(tf_idf_train.shape)\n",
    "print(tf_idf_test.shape)"
   ]
  },
  {
   "cell_type": "markdown",
   "id": "ed1b5871",
   "metadata": {},
   "source": [
    "### Вывод\n",
    "\n",
    "* очистили данные\n",
    "* Сделали токенизацию и лемматизацию\n",
    "* Сделали тренировочную и тестовую выборки для последующего обучения моделей\n",
    "* Из выборок удалили стоп слова"
   ]
  },
  {
   "cell_type": "markdown",
   "id": "d73e8d43",
   "metadata": {},
   "source": [
    "# Обучение"
   ]
  },
  {
   "cell_type": "code",
   "execution_count": null,
   "id": "777a0b58",
   "metadata": {},
   "outputs": [],
   "source": [
    "# Функция обучения и предсказания, на вход принимает алгоритм, признаки, целевой признак и параметры\n",
    "# принимает на вход название алгоритма, признаки, целевой признак и параметры для Grid\n",
    "# В параметрах можно задать перебор\n",
    "# возвращает словарь с данными о времени обучения и rmse\n",
    "def fit_predict(algo, X_train, y_train, X_test, y_test, parametrs):\n",
    "\n",
    "\n",
    "#     if algo == LinearRegression:\n",
    "#         model_grid = algo()\n",
    "\n",
    "#     else:\n",
    "    model = algo()\n",
    "    #Добавлено исправление\n",
    "    \n",
    "    # надо посмотреть, как подобрать параметр и аргументировать\n",
    "#     tscv = TimeSeriesSplit(n_splits=8)\n",
    "    model_grid = GridSearchCV(model, n_jobs=-1, param_grid=parametrs, scoring='f1', cv=5)\n",
    "    #Добавлено исправление\n",
    "    \n",
    "    start_fit = time.time()\n",
    "    model_grid_best = model_grid.fit(X_train, y_train)\n",
    "    print(model_grid_best.best_params_)\n",
    "    stop_fit = time.time()\n",
    "    start_pred_test =  time.time()\n",
    "    predicted_test = model_grid_best.predict(X_test)\n",
    "    stop_pred_test = time.time()\n",
    "    f1_test = f1_score(y_test, predicted_test) ** 0.5\n",
    "\n",
    "    start_pred_train =  time.time()\n",
    "    predicted_train = model_grid_best.predict(X_train)\n",
    "    stop_pred_train = time.time()\n",
    "    f1_train = f1_score(y_train, predicted_train) ** 0.5\n",
    "\n",
    "    time_fit = stop_fit - start_fit\n",
    "    time_predict_test = stop_pred_test - start_pred_test\n",
    "    time_predict_train = stop_pred_train - start_pred_train\n",
    "    algo = str(algo).split(sep='.')\n",
    "\n",
    "    algo = re.sub(\"[^A-Za-z0-9]\",'',str(algo[-1]))\n",
    "    t = {'algo' : algo,\n",
    "         'time_fit': round(time_fit, 6),\n",
    "         'time_predict_train': round(time_predict_train, 6),\n",
    "         'time_predict_test': round(time_predict_test, 6),\n",
    "         'f1_train': round(f1_train, 2),\n",
    "         'f1_test': round(f1_test, 2)\n",
    "        }\n",
    "    return t, model_grid_best"
   ]
  },
  {
   "cell_type": "markdown",
   "id": "65dc9ac9",
   "metadata": {},
   "source": [
    "# LogisticRegression"
   ]
  },
  {
   "cell_type": "code",
   "execution_count": null,
   "id": "a9a7e5cb",
   "metadata": {},
   "outputs": [],
   "source": [
    "%%time\n",
    "params = {\n",
    "#           'normalize': [True, False],\n",
    "#           'fit_intercept': [True, False],\n",
    "#           'copy_X': [True, False],\n",
    "#           'c': [0.1, 1, 10, 100],\n",
    "           'solver': ['liblinear', 'saga']\n",
    "         }\n",
    "lr_result, lr_model = fit_predict(LogisticRegression, tf_idf_train, target_train,tf_idf_test, target_test, params)"
   ]
  },
  {
   "cell_type": "markdown",
   "id": "93e8b313",
   "metadata": {},
   "source": [
    "# DesicionTreeClassifier"
   ]
  },
  {
   "cell_type": "code",
   "execution_count": null,
   "id": "23871c1c",
   "metadata": {},
   "outputs": [],
   "source": [
    "%%time\n",
    "params = {'max_depth': range(8,10),\n",
    "          'random_state': [12345]}\n",
    "dtr_result, dtr_model = fit_predict(DecisionTreeClassifier, tf_idf_train, target_train,tf_idf_test, target_test, params)"
   ]
  },
  {
   "cell_type": "markdown",
   "id": "2f165b40",
   "metadata": {},
   "source": [
    "# CatBoostClassifier"
   ]
  },
  {
   "cell_type": "code",
   "execution_count": null,
   "id": "83f7b48c",
   "metadata": {},
   "outputs": [],
   "source": [
    "params = {'max_depth': range(5,6),\n",
    "#           'n_estimators': range(100, 120),\n",
    "           'random_state': [12345],\n",
    "#           'learning_rate': np.arange(0.3, 0.9, 0.2)\n",
    "         }\n",
    "crb_result, cbr_model = fit_predict(CatBoostClassifier, tf_idf_train, target_train,tf_idf_test, target_test, params)\n"
   ]
  },
  {
   "cell_type": "markdown",
   "id": "5421bd89",
   "metadata": {},
   "source": [
    "# LGBMClassifier"
   ]
  },
  {
   "cell_type": "code",
   "execution_count": null,
   "id": "c9a50fd7",
   "metadata": {},
   "outputs": [],
   "source": [
    "params = {\n",
    "    'random_state': [12345],    \n",
    "#     'boosting_type': ['dart'],\n",
    "#     'objective': ['regression'],\n",
    "    'force_col_wise': [True],\n",
    "#     'num_leaves': range(13, 15), \n",
    "#     'learning_rate': np.arange(0.3, 0.5, 0.1),\n",
    "    'bagging_fraction': np.arange(0.6, 0.7, 0.1),\n",
    "    'verbose':[0]\n",
    "}\n",
    "lgbt_result, lgmt_model = fit_predict(LGBMClassifier, tf_idf_train, target_train,tf_idf_test, target_test, params)\n",
    "lgbt_result"
   ]
  },
  {
   "cell_type": "code",
   "execution_count": null,
   "id": "d4dabb1c",
   "metadata": {},
   "outputs": [],
   "source": [
    "# запишем все результаты в список\n",
    "\n",
    "all_data = []\n",
    "\n",
    "all_data.append(lr_result)\n",
    "all_data.append(dtr_result)\n",
    "all_data.append(crb_result)\n",
    "all_data.append(lgbt_result)"
   ]
  },
  {
   "cell_type": "code",
   "execution_count": null,
   "id": "0d38de70",
   "metadata": {
    "scrolled": true
   },
   "outputs": [],
   "source": [
    "# Список в пандас\n",
    "# Сделаем датафрейм и посторим графики\n",
    "df_all_algo = pd.DataFrame(all_data)\n",
    "\n",
    "df_all_algo.columns = ['Алгоритм', 'Время обучения', 'Время предсказания train','Время предсказания test' , 'f1 train', 'f1 test']\n",
    "df_all_algo = df_all_algo.set_index('Алгоритм')\n",
    "df_all_algo"
   ]
  },
  {
   "cell_type": "markdown",
   "id": "614db029",
   "metadata": {},
   "source": [
    "# f1 Тренировочная выборка"
   ]
  },
  {
   "cell_type": "code",
   "execution_count": null,
   "id": "7731683b",
   "metadata": {},
   "outputs": [],
   "source": [
    "# f1 тренировочная выборка\n",
    "\n",
    "df_all_algo['f1 train'].sort_values().plot(kind='bar')\n",
    "plt.title(\"\", fontsize=20)\n",
    "plt.xlabel(\"Алгоритм\", fontsize=20)\n",
    "plt.ylabel(\"f1 train\", fontsize=20)\n",
    "plt.legend('')\n",
    "plt.show()"
   ]
  },
  {
   "cell_type": "markdown",
   "id": "f9eca3a7",
   "metadata": {},
   "source": [
    "# * По итогам работы обученных моделей можно сделать вывод:\n",
    "   * Самую лучшую метрику f1 на тренировочной выборке показал алгоритм LGBMregressor, на втором месте CatBoostregressor\n",
    "   * На тестовой выборке эти два алгоритма также проявили себя хорошо, показав результаты выше требуемого 75. RMSE у алгоритма LogisticRegression = 0.85, у DecisionTreeClassifier = 0.76\n"
   ]
  },
  {
   "cell_type": "markdown",
   "id": "d6ea72d5",
   "metadata": {},
   "source": [
    "## вывод\n",
    "\n",
    "В ходе работы над проектом было сделано:\n",
    "\n",
    "* Подгружены и проверены данные\n",
    "* Произведена очистка и лемматизация данных\n",
    "* Подобраны лучшие параметры для 4х моделей : LogisticRegersion, CatBoostClassifier, DecisionTreeClassifier и LGBMClassifier\n",
    "* Результаты метрики F1 по моделям свели для анализа в одну таблицу.\n",
    "* Лучшие показатели по метрике F1 у модели LGBMRegressor и равен 0.86\n",
    "\n"
   ]
  }
 ],
 "metadata": {
  "ExecuteTimeLog": [
   {
    "duration": 8,
    "start_time": "2022-08-29T16:54:37.005Z"
   },
   {
    "duration": 3114,
    "start_time": "2022-08-29T16:57:25.191Z"
   },
   {
    "duration": 56,
    "start_time": "2022-08-29T16:57:32.118Z"
   },
   {
    "duration": 25,
    "start_time": "2022-08-29T17:01:47.888Z"
   },
   {
    "duration": 2327,
    "start_time": "2022-08-29T17:01:49.359Z"
   },
   {
    "duration": 14,
    "start_time": "2022-08-29T17:01:51.687Z"
   },
   {
    "duration": 32,
    "start_time": "2022-08-29T17:01:51.703Z"
   },
   {
    "duration": 50,
    "start_time": "2022-08-29T17:01:51.737Z"
   },
   {
    "duration": 260,
    "start_time": "2022-08-29T17:01:52.914Z"
   },
   {
    "duration": 151,
    "start_time": "2022-08-29T17:01:53.388Z"
   },
   {
    "duration": 3,
    "start_time": "2022-08-29T17:01:56.077Z"
   },
   {
    "duration": 430,
    "start_time": "2022-08-29T17:01:59.653Z"
   },
   {
    "duration": 3,
    "start_time": "2022-08-29T17:03:07.769Z"
   },
   {
    "duration": 4195,
    "start_time": "2022-08-29T17:03:09.145Z"
   },
   {
    "duration": 5,
    "start_time": "2022-08-29T17:03:19.125Z"
   },
   {
    "duration": 334,
    "start_time": "2022-08-29T17:03:24.487Z"
   },
   {
    "duration": 332,
    "start_time": "2022-08-29T17:07:18.829Z"
   },
   {
    "duration": 5,
    "start_time": "2022-08-29T17:07:25.259Z"
   },
   {
    "duration": 155261,
    "start_time": "2022-08-29T17:07:26.071Z"
   },
   {
    "duration": 38,
    "start_time": "2022-08-29T17:12:41.303Z"
   },
   {
    "duration": 786,
    "start_time": "2022-08-29T17:12:41.879Z"
   },
   {
    "duration": 11,
    "start_time": "2022-08-29T17:12:42.934Z"
   },
   {
    "duration": 35,
    "start_time": "2022-08-29T17:12:43.837Z"
   },
   {
    "duration": 28,
    "start_time": "2022-08-29T17:12:44.496Z"
   },
   {
    "duration": 216,
    "start_time": "2022-08-29T17:12:45.425Z"
   },
   {
    "duration": 108,
    "start_time": "2022-08-29T17:12:45.715Z"
   },
   {
    "duration": 3,
    "start_time": "2022-08-29T17:12:47.731Z"
   },
   {
    "duration": 4213,
    "start_time": "2022-08-29T17:12:50.242Z"
   },
   {
    "duration": 4,
    "start_time": "2022-08-29T17:12:56.482Z"
   },
   {
    "duration": 1134648,
    "start_time": "2022-08-29T17:12:57.623Z"
   },
   {
    "duration": 24,
    "start_time": "2022-08-29T17:31:52.274Z"
   },
   {
    "duration": 66,
    "start_time": "2022-08-29T17:31:52.299Z"
   },
   {
    "duration": 3,
    "start_time": "2022-08-29T17:31:52.367Z"
   },
   {
    "duration": 27,
    "start_time": "2022-08-29T17:31:52.371Z"
   },
   {
    "duration": 74,
    "start_time": "2022-08-29T17:31:52.400Z"
   },
   {
    "duration": 4,
    "start_time": "2022-08-29T17:31:52.475Z"
   },
   {
    "duration": 6329,
    "start_time": "2022-08-29T17:31:52.481Z"
   },
   {
    "duration": 3,
    "start_time": "2022-08-29T17:31:58.811Z"
   },
   {
    "duration": 9,
    "start_time": "2022-08-29T17:31:58.816Z"
   },
   {
    "duration": 52238,
    "start_time": "2022-08-29T17:31:58.827Z"
   },
   {
    "duration": 99549,
    "start_time": "2022-08-29T17:32:51.066Z"
   },
   {
    "duration": 7046458,
    "start_time": "2022-08-29T17:34:30.616Z"
   },
   {
    "duration": 0,
    "start_time": "2022-08-29T19:54:18.001Z"
   },
   {
    "duration": 94,
    "start_time": "2022-08-30T08:53:15.205Z"
   }
  ],
  "kernelspec": {
   "display_name": "Python 3 (ipykernel)",
   "language": "python",
   "name": "python3"
  },
  "language_info": {
   "codemirror_mode": {
    "name": "ipython",
    "version": 3
   },
   "file_extension": ".py",
   "mimetype": "text/x-python",
   "name": "python",
   "nbconvert_exporter": "python",
   "pygments_lexer": "ipython3",
   "version": "3.7.8"
  },
  "toc": {
   "base_numbering": 1,
   "nav_menu": {},
   "number_sections": true,
   "sideBar": true,
   "skip_h1_title": true,
   "title_cell": "Table of Contents",
   "title_sidebar": "Contents",
   "toc_cell": true,
   "toc_position": {},
   "toc_section_display": true,
   "toc_window_display": false
  }
 },
 "nbformat": 4,
 "nbformat_minor": 5
}
