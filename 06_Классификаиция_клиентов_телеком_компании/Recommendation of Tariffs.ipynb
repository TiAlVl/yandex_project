{
 "cells": [
  {
   "cell_type": "markdown",
   "metadata": {},
   "source": [
    "# Рекомендация тарифов"
   ]
  },
  {
   "cell_type": "markdown",
   "metadata": {},
   "source": [
    "В вашем распоряжении данные о поведении клиентов, которые уже перешли на эти тарифы (из проекта курса «Статистический анализ данных»). Нужно построить модель для задачи классификации, которая выберет подходящий тариф. Предобработка данных не понадобится — вы её уже сделали.\n",
    "\n",
    "Постройте модель с максимально большим значением *accuracy*. Чтобы сдать проект успешно, нужно довести долю правильных ответов по крайней мере до 0.75. Проверьте *accuracy* на тестовой выборке самостоятельно."
   ]
  },
  {
   "cell_type": "markdown",
   "metadata": {},
   "source": [
    "## Откройте и изучите файл"
   ]
  },
  {
   "cell_type": "code",
   "execution_count": 1,
   "metadata": {},
   "outputs": [],
   "source": [
    "import pandas as pd\n",
    "# Импортируем функцию делить выборку на валидационнную и тренировочную\n",
    "from sklearn.model_selection import train_test_split\n",
    "# Импортируем структуру решающего дерева\n",
    "from sklearn.tree import DecisionTreeClassifier\n",
    "# Импортируем структуру Случайного леса\n",
    "from sklearn.ensemble import RandomForestClassifier\n",
    "# Импортируем структуру логистической регрессии\n",
    "from sklearn.linear_model import LogisticRegression\n",
    "# Импротируем метрику Accuracy\n",
    "from sklearn.metrics import accuracy_score\n",
    "import os\n",
    "import numpy as np\n",
    "import matplotlib.pyplot as plt\n",
    "%matplotlib inline\n",
    "import seaborn as sns\n",
    "from tqdm import tqdm\n",
    "from sklearn.model_selection import GridSearchCV"
   ]
  },
  {
   "cell_type": "code",
   "execution_count": 2,
   "metadata": {},
   "outputs": [],
   "source": [
    "# Отображение всех столбцов\n",
    "pd.set_option('display.max_columns', None)\n",
    "# Два знака после запятой \n",
    "pd.options.display.float_format = '{:,.2f}'.format"
   ]
  },
  {
   "cell_type": "code",
   "execution_count": 3,
   "metadata": {},
   "outputs": [],
   "source": [
    "pth1 = 'datasets/users_behavior.csv'\n",
    "pth2 = '/datasets/users_behavior.csv'\n",
    "if os.path.exists(pth1):\n",
    "    data = pd.read_csv(pth1)\n",
    "elif os.path.exists(pth2):\n",
    "    data = pd.read_csv(pth2)\n",
    "else:\n",
    "    print(\"Проверьте правильность пути к датасету\")"
   ]
  },
  {
   "cell_type": "code",
   "execution_count": 4,
   "metadata": {
    "scrolled": true
   },
   "outputs": [
    {
     "name": "stdout",
     "output_type": "stream",
     "text": [
      "<class 'pandas.core.frame.DataFrame'>\n",
      "RangeIndex: 3214 entries, 0 to 3213\n",
      "Data columns (total 5 columns):\n",
      " #   Column    Non-Null Count  Dtype  \n",
      "---  ------    --------------  -----  \n",
      " 0   calls     3214 non-null   float64\n",
      " 1   minutes   3214 non-null   float64\n",
      " 2   messages  3214 non-null   float64\n",
      " 3   mb_used   3214 non-null   float64\n",
      " 4   is_ultra  3214 non-null   int64  \n",
      "dtypes: float64(4), int64(1)\n",
      "memory usage: 125.7 KB\n"
     ]
    }
   ],
   "source": [
    "data.info()"
   ]
  },
  {
   "cell_type": "code",
   "execution_count": 5,
   "metadata": {},
   "outputs": [
    {
     "data": {
      "text/plain": [
       "0    2229\n",
       "1     985\n",
       "Name: is_ultra, dtype: int64"
      ]
     },
     "execution_count": 5,
     "metadata": {},
     "output_type": "execute_result"
    }
   ],
   "source": [
    "# Проверим на несбалансиорванность целевого признака\n",
    "data['is_ultra'].value_counts()"
   ]
  },
  {
   "cell_type": "code",
   "execution_count": 6,
   "metadata": {},
   "outputs": [
    {
     "data": {
      "text/plain": [
       "2.2629441624365483"
      ]
     },
     "execution_count": 6,
     "metadata": {},
     "output_type": "execute_result"
    }
   ],
   "source": [
    "# Посмотрим во сколько раз число пользователей тарифом Самрт больше числа пользователей тарифа Ультра  в датасете\n",
    "len(data.query('is_ultra == 0')) / len(data.query('is_ultra == 1'))"
   ]
  },
  {
   "cell_type": "markdown",
   "metadata": {},
   "source": [
    "## Разбейте данные на выборки"
   ]
  },
  {
   "cell_type": "code",
   "execution_count": 7,
   "metadata": {},
   "outputs": [
    {
     "name": "stdout",
     "output_type": "stream",
     "text": [
      "Обучающая выборка: (1928, 4) в процентах: 59.99 %\n",
      "Валидационная выборка: (643, 4) в процентах: 20.01 %\n",
      "Тестовая выборка: (643, 4) в процентах: 20.01 %\n"
     ]
    }
   ],
   "source": [
    "# поместим признаки в переменную features \n",
    "features = data.drop(['is_ultra'], axis=1)\n",
    "# поместим целевой признак в переменную target\n",
    "target = data['is_ultra']\n",
    "#Разделим выборку на тренировочную и валидационную, котору потом разделим на валидационную и тестовую\n",
    "features_train, features_valid_all, target_train, target_valid_all = train_test_split(features, target, test_size=0.4, random_state=12345)\n",
    "# валидационную выборку делим пополам: на валидационную и тетовую\n",
    "features_valid, features_test, target_valid, target_test = train_test_split(features_valid_all, target_valid_all, test_size=0.5, random_state=12345)\n",
    "\n",
    "print('Обучающая выборка:', features_train.shape, 'в процентах:', round(len(features_train)/len(data)*100, 2),'%')\n",
    "print('Валидационная выборка:', features_valid.shape, 'в процентах:', round(len(features_valid)/len(data)*100, 2),'%')\n",
    "print('Тестовая выборка:', features_test.shape, 'в процентах:', round(len(features_test)/len(data)*100, 2),'%')"
   ]
  },
  {
   "cell_type": "markdown",
   "metadata": {},
   "source": [
    "### Вывод\n",
    "- Данные были разделены: отдельно данные с признаками, отдельно целевой признак\n",
    "- Были сделаны три выборки: тренировочная, валидационная и тестовая в пропорции 60:20:20"
   ]
  },
  {
   "cell_type": "code",
   "execution_count": 8,
   "metadata": {},
   "outputs": [
    {
     "data": {
      "text/plain": [
       "2.2629441624365483"
      ]
     },
     "execution_count": 8,
     "metadata": {},
     "output_type": "execute_result"
    }
   ],
   "source": [
    "# # Посмотрим во сколько раз число пользователей тарифом Самрт больше числа пользователей тарифа Ультра  в датасе\n",
    "(target==0).sum()/(target==1).sum()\n"
   ]
  },
  {
   "cell_type": "code",
   "execution_count": 9,
   "metadata": {},
   "outputs": [
    {
     "data": {
      "text/plain": [
       "2.2806122448979593"
      ]
     },
     "execution_count": 9,
     "metadata": {},
     "output_type": "execute_result"
    }
   ],
   "source": [
    "# В валидационной выборке в целевом признаке пользователей смартом также больше пользователей Ультры\n",
    "(target_valid_all==0).sum()/(target_valid_all==1).sum()"
   ]
  },
  {
   "cell_type": "code",
   "execution_count": 10,
   "metadata": {},
   "outputs": [
    {
     "name": "stdout",
     "output_type": "stream",
     "text": [
      "Обучающая выборка: (1928, 4) в процентах: 59.99 %\n",
      "Валидационная выборка: (643, 4) в процентах: 20.01 %\n",
      "Тестовая выборка: (643, 4) в процентах: 20.01 %\n"
     ]
    }
   ],
   "source": [
    "# поместим признаки в переменную features \n",
    "features = data.drop(['is_ultra'], axis=1)\n",
    "# поместим целевой признак в переменную target\n",
    "target = data['is_ultra']\n",
    "#Разделим выборку на тренировочную и валидационную, котору потом разделим на валидационную и тестовую\n",
    "features_train, features_valid_all, target_train, target_valid_all = train_test_split(features, target, test_size=0.4, random_state=12345, stratify=target)\n",
    "# валидационную выборку делим пополам: на валидационную и тетовую\n",
    "features_valid, features_test, target_valid, target_test = train_test_split(features_valid_all, target_valid_all, test_size=0.5, random_state=12345,stratify=target_valid_all)\n",
    "\n",
    "print('Обучающая выборка:', features_train.shape, 'в процентах:', round((features_train.shape[0])/len(data)*100, 2),'%')\n",
    "print('Валидационная выборка:', features_valid.shape, 'в процентах:', round((features_valid.shape[0])/len(data)*100, 2),'%')\n",
    "print('Тестовая выборка:', features_test.shape, 'в процентах:', round((features_test.shape[0])/len(data)*100, 2),'%')"
   ]
  },
  {
   "cell_type": "code",
   "execution_count": 11,
   "metadata": {},
   "outputs": [
    {
     "data": {
      "text/plain": [
       "2.2629441624365483"
      ]
     },
     "execution_count": 11,
     "metadata": {},
     "output_type": "execute_result"
    }
   ],
   "source": [
    "# # Посмотрим во сколько раз число пользователей тарифом Самрт больше числа пользователей тарифа Ультра  в датасе\n",
    "(target==0).sum()/(target==1).sum()\n"
   ]
  },
  {
   "cell_type": "code",
   "execution_count": 12,
   "metadata": {},
   "outputs": [
    {
     "data": {
      "text/plain": [
       "2.263959390862944"
      ]
     },
     "execution_count": 12,
     "metadata": {},
     "output_type": "execute_result"
    }
   ],
   "source": [
    "# В валидационной выборке в целевом признаке пользователей смартом также больше пользователей Ультры\n",
    "(target_valid_all==0).sum()/(target_valid_all==1).sum()"
   ]
  },
  {
   "cell_type": "markdown",
   "metadata": {},
   "source": [
    "## Исследуйте модели"
   ]
  },
  {
   "cell_type": "code",
   "execution_count": 13,
   "metadata": {},
   "outputs": [
    {
     "name": "stderr",
     "output_type": "stream",
     "text": [
      "100%|██████████| 15/15 [00:00<00:00, 100.82it/s]"
     ]
    },
    {
     "name": "stdout",
     "output_type": "stream",
     "text": [
      "Доля правильных ответов Accuracy на валидационной выборке у Решающего дерева: 0.8 Глубина: 8\n"
     ]
    },
    {
     "name": "stderr",
     "output_type": "stream",
     "text": [
      "\n"
     ]
    }
   ],
   "source": [
    "# Решающее дерево\n",
    "# Подберем параметр глубины через цилк\n",
    "#добавим график, для графика нужен датафрейм, где индекс - глубина, и столбец accuracy\n",
    "# список глубин решающего дерева\n",
    "depth_tree = []\n",
    "#список accuracy решающего дерева на валидационной выборке\n",
    "accuracy_tree_valid = []\n",
    "#список accuracy решающего дерева на тренировочной выборке\n",
    "accuracy_tree_train = []\n",
    "best_result_tree = 0\n",
    "best_depth_tree = 0\n",
    "best_model_tree = None\n",
    "for depth in tqdm(range(1,16)):\n",
    "#поместим в можел структуру решающего дерева\n",
    "    model_tree = DecisionTreeClassifier(random_state=12345, max_depth=depth)\n",
    "# обучим модель\n",
    "    model_tree.fit(features_train, target_train)\n",
    "# предскажем целевой признак на валидационной выборке\n",
    "    prediction_valid_tree = model_tree.predict(features_valid)\n",
    "    result = accuracy_score(target_valid, prediction_valid_tree)\n",
    "# глубину в список\n",
    "    depth_tree.append(depth)\n",
    "# accuracy в  список\n",
    "    accuracy_tree_valid.append(result)\n",
    "# добавим accuracy тренировочной выборки в список\n",
    "    accuracy_tree_train.append(accuracy_score(target_train, model_tree.predict(features_train)))\n",
    "    if result > best_result_tree:\n",
    "        best_model_tree = model_tree\n",
    "        best_depth_tree = depth\n",
    "        best_result_tree = result\n",
    "print('Доля правильных ответов Accuracy на валидационной выборке у Решающего дерева:', round(best_result_tree, 2), 'Глубина:', best_depth_tree)  "
   ]
  },
  {
   "cell_type": "code",
   "execution_count": 14,
   "metadata": {},
   "outputs": [
    {
     "data": {
      "text/plain": [
       "1    0.75\n",
       "2    0.78\n",
       "3    0.79\n",
       "4    0.80\n",
       "5    0.81\n",
       "6    0.83\n",
       "7    0.84\n",
       "8    0.86\n",
       "9    0.87\n",
       "10   0.89\n",
       "11   0.90\n",
       "12   0.92\n",
       "13   0.93\n",
       "14   0.94\n",
       "15   0.96\n",
       "dtype: float64"
      ]
     },
     "execution_count": 14,
     "metadata": {},
     "output_type": "execute_result"
    }
   ],
   "source": [
    "accuracy_tree_train = pd.Series(accuracy_tree_train, index=depth_tree)\n",
    "accuracy_tree_train"
   ]
  },
  {
   "cell_type": "code",
   "execution_count": 15,
   "metadata": {},
   "outputs": [
    {
     "data": {
      "text/html": [
       "<div>\n",
       "<style scoped>\n",
       "    .dataframe tbody tr th:only-of-type {\n",
       "        vertical-align: middle;\n",
       "    }\n",
       "\n",
       "    .dataframe tbody tr th {\n",
       "        vertical-align: top;\n",
       "    }\n",
       "\n",
       "    .dataframe thead th {\n",
       "        text-align: right;\n",
       "    }\n",
       "</style>\n",
       "<table border=\"1\" class=\"dataframe\">\n",
       "  <thead>\n",
       "    <tr style=\"text-align: right;\">\n",
       "      <th></th>\n",
       "      <th>accuracy_tree_valid</th>\n",
       "      <th>accuracy_tree_train</th>\n",
       "    </tr>\n",
       "  </thead>\n",
       "  <tbody>\n",
       "    <tr>\n",
       "      <th>1</th>\n",
       "      <td>0.74</td>\n",
       "      <td>0.75</td>\n",
       "    </tr>\n",
       "    <tr>\n",
       "      <th>2</th>\n",
       "      <td>0.77</td>\n",
       "      <td>0.78</td>\n",
       "    </tr>\n",
       "    <tr>\n",
       "      <th>3</th>\n",
       "      <td>0.78</td>\n",
       "      <td>0.79</td>\n",
       "    </tr>\n",
       "    <tr>\n",
       "      <th>4</th>\n",
       "      <td>0.75</td>\n",
       "      <td>0.80</td>\n",
       "    </tr>\n",
       "    <tr>\n",
       "      <th>5</th>\n",
       "      <td>0.79</td>\n",
       "      <td>0.81</td>\n",
       "    </tr>\n",
       "    <tr>\n",
       "      <th>6</th>\n",
       "      <td>0.77</td>\n",
       "      <td>0.83</td>\n",
       "    </tr>\n",
       "    <tr>\n",
       "      <th>7</th>\n",
       "      <td>0.79</td>\n",
       "      <td>0.84</td>\n",
       "    </tr>\n",
       "    <tr>\n",
       "      <th>8</th>\n",
       "      <td>0.80</td>\n",
       "      <td>0.86</td>\n",
       "    </tr>\n",
       "    <tr>\n",
       "      <th>9</th>\n",
       "      <td>0.78</td>\n",
       "      <td>0.87</td>\n",
       "    </tr>\n",
       "    <tr>\n",
       "      <th>10</th>\n",
       "      <td>0.77</td>\n",
       "      <td>0.89</td>\n",
       "    </tr>\n",
       "    <tr>\n",
       "      <th>11</th>\n",
       "      <td>0.76</td>\n",
       "      <td>0.90</td>\n",
       "    </tr>\n",
       "    <tr>\n",
       "      <th>12</th>\n",
       "      <td>0.75</td>\n",
       "      <td>0.92</td>\n",
       "    </tr>\n",
       "    <tr>\n",
       "      <th>13</th>\n",
       "      <td>0.74</td>\n",
       "      <td>0.93</td>\n",
       "    </tr>\n",
       "    <tr>\n",
       "      <th>14</th>\n",
       "      <td>0.76</td>\n",
       "      <td>0.94</td>\n",
       "    </tr>\n",
       "    <tr>\n",
       "      <th>15</th>\n",
       "      <td>0.75</td>\n",
       "      <td>0.96</td>\n",
       "    </tr>\n",
       "  </tbody>\n",
       "</table>\n",
       "</div>"
      ],
      "text/plain": [
       "    accuracy_tree_valid  accuracy_tree_train\n",
       "1                  0.74                 0.75\n",
       "2                  0.77                 0.78\n",
       "3                  0.78                 0.79\n",
       "4                  0.75                 0.80\n",
       "5                  0.79                 0.81\n",
       "6                  0.77                 0.83\n",
       "7                  0.79                 0.84\n",
       "8                  0.80                 0.86\n",
       "9                  0.78                 0.87\n",
       "10                 0.77                 0.89\n",
       "11                 0.76                 0.90\n",
       "12                 0.75                 0.92\n",
       "13                 0.74                 0.93\n",
       "14                 0.76                 0.94\n",
       "15                 0.75                 0.96"
      ]
     },
     "execution_count": 15,
     "metadata": {},
     "output_type": "execute_result"
    }
   ],
   "source": [
    "# Для отрисовки графика сделаем датасет\n",
    "tree_graphic = pd.DataFrame(data = accuracy_tree_valid, columns = ['accuracy_tree_valid'], index = depth_tree)\n",
    "tree_graphic['accuracy_tree_train'] = accuracy_tree_train\n",
    "tree_graphic"
   ]
  },
  {
   "cell_type": "code",
   "execution_count": 16,
   "metadata": {
    "scrolled": false
   },
   "outputs": [
    {
     "data": {
      "image/png": "[encoded data removed]",
      "text/plain": [
       "<Figure size 1584x432 with 1 Axes>"
      ]
     },
     "metadata": {
      "needs_background": "light"
     },
     "output_type": "display_data"
    }
   ],
   "source": [
    "# График Accuracy\n",
    "plt.figure(figsize=(22,6))\n",
    "\n",
    "sns.lineplot(data=tree_graphic)\n",
    "plt.title(\"Доля правильных ответов модели Решающее дерево\", fontsize=20)\n",
    "plt.xlabel(\"Глубина\", fontsize=20)\n",
    "plt.ylabel(\"Метрика Accuracy\", fontsize=20)\n",
    "#plt.legend('')\n",
    "plt.show()"
   ]
  },
  {
   "cell_type": "markdown",
   "metadata": {},
   "source": [
    "#**Закомментировано** новый код ниже\n",
    "\n",
    "# Случайный лес\n",
    "# Надо перебрать по количеству деревьев и по глубине , то есть цикл в цикле\n",
    "\n",
    "best_model_forest = None\n",
    "best_depth_forest = 0\n",
    "best_est = 0\n",
    "best_result_forest = 0\n",
    "best_leaf = 0\n",
    "best_split = 0\n",
    "# перебор по количеству деревьев в лесу от 10 до 51 \n",
    "for min_leaf in tqdm(range(1, 101, 10)):\n",
    "    for min_split in range(2, 101, 10):\n",
    "        for est in range(10, 51, 10):\n",
    "            #перебор по глубине\n",
    "            for depth_forest in range(1, 11):\n",
    "                model_forest = RandomForestClassifier(random_state=12345, n_estimators=est, max_depth=depth_forest, min_samples_leaf=min_leaf, min_samples_split=min_split, n_jobs=-1)\n",
    "                model_forest.fit(features_train, target_train)\n",
    "                predictions_forest = model_forest.predict(features_valid)\n",
    "                result_forest = accuracy_score(target_valid, predictions_forest)\n",
    "                if result_forest > best_result_forest:\n",
    "                    best_model_forest = model_forest\n",
    "                    best_depth_forest = depth_forest\n",
    "                    best_est = est\n",
    "                    best_result_forest = result_forest\n",
    "                    best_leaf = min_leaf\n",
    "                    best_split = min_split\n",
    "\n",
    "print(\"Доля правильных ответов Accuracy на валидационной выборке у Случайного леса:\", round(best_result_forest, 2), 'Глубина:',best_depth_forest, 'Деревьев:', best_est, 'узлов:', best_split, 'Листьев:', best_leaf)\n",
    "            "
   ]
  },
  {
   "cell_type": "code",
   "execution_count": 17,
   "metadata": {},
   "outputs": [
    {
     "name": "stdout",
     "output_type": "stream",
     "text": [
      "CPU times: user 29min 14s, sys: 14.5 s, total: 29min 28s\n",
      "Wall time: 29min 30s\n"
     ]
    }
   ],
   "source": [
    "%%time\n",
    "# Случайный лес\n",
    "# Надо перебрать по количеству деревьев и по глубине , то есть цикл в цикле\n",
    "# делаем словаь с параметрами для леса\n",
    "\n",
    "parametrs = { 'n_estimators': range (10, 51, 10),\n",
    "              'max_depth': range (1,11),\n",
    "              'min_samples_leaf': range (1, 101, 10),\n",
    "              'min_samples_split': range (2, 101, 10)}\n",
    "#              'random_state': list('12345'),\n",
    "#              'n_jobs': -1}\n",
    "#структура леса в переменной\n",
    "model_forest = RandomForestClassifier(random_state=12345, n_jobs=-1)\n",
    "#cv=5 - что это...\n",
    "model_forest_grid = GridSearchCV(model_forest, parametrs, cv=5)\n",
    "#В случаи использования GridSearch, не нужно будет заранее делать валидационную выборку\n",
    "# Пробуем\n",
    "#  Исправляю, объединю тренировочную выборку с валидационной для GridSearch\n",
    "#best_model_forest = model_forest_grid.fit(features_train, target_train)\n",
    "\n",
    "best_model_forest = model_forest_grid.fit(features_train.append(features_valid, ignore_index=True), target_train.append(target_valid, ignore_index=True))\n",
    "\n",
    "predictions_forest = model_forest_grid.predict(features_valid)\n",
    "result_forest = accuracy_score(target_valid, predictions_forest)\n",
    "\n",
    "#print(\"Доля правильных ответов Accuracy на валидационной выборке у Случайного леса:\", round(best_result_forest, 2), '\\nГлубина:',best_depth_forest, '\\nДеревьев:', best_est, '\\nузлов:', best_split, '\\nЛистьев:', best_leaf)"
   ]
  },
  {
   "cell_type": "code",
   "execution_count": 19,
   "metadata": {},
   "outputs": [],
   "source": [
    "# Accuracy Случайного леса на валидационной выборке\n",
    "#print(\"Доля правильных ответов Accuracy на валидационной выборке у Случайного леса:\", round(result_forest, 2), '\\nГлубина:',model_forest_grid.best_estimator_.max_depth, '\\nДеревьев:', model_forest_grid.best_estimator_.n_estimators, '\\nузлов:', model_forest_grid.best_estimator_.min_samples_split, '\\nЛистьев:', model_forest_grid.best_estimator_.min_samples_leaf)"
   ]
  },
  {
   "cell_type": "code",
   "execution_count": 20,
   "metadata": {},
   "outputs": [
    {
     "name": "stdout",
     "output_type": "stream",
     "text": [
      "Доля правильных ответов Accuracy у Случайного леса, тренировочная выборка: 0.81 \n",
      "Глубина: 8 \n",
      "Деревьев: 10 \n",
      "узлов: 22 \n",
      "Листьев: 1\n"
     ]
    }
   ],
   "source": [
    "print(\"Доля правильных ответов Accuracy у Случайного леса, тренировочная выборка:\", round(model_forest_grid.best_score_, 2), '\\nГлубина:',model_forest_grid.best_estimator_.max_depth, '\\nДеревьев:', model_forest_grid.best_estimator_.n_estimators, '\\nузлов:', model_forest_grid.best_estimator_.min_samples_split, '\\nЛистьев:', model_forest_grid.best_estimator_.min_samples_leaf)"
   ]
  },
  {
   "cell_type": "code",
   "execution_count": 21,
   "metadata": {},
   "outputs": [
    {
     "name": "stdout",
     "output_type": "stream",
     "text": [
      "Доля правильных ответов Accuracy на валидационной выборке у Логистической регрессии: 0.74\n"
     ]
    }
   ],
   "source": [
    "# Логистическая регрессия\n",
    "#Задали структуру в переменную\n",
    "model_log_reg = LogisticRegression(random_state=12345, solver='lbfgs', max_iter=1000)\n",
    "# обучили модель\n",
    "model_log_reg.fit(features_train, target_train)\n",
    "best_model_linear = model_log_reg\n",
    "predictions_log_reg = model_log_reg.predict(features_valid)\n",
    "result_log_reg = accuracy_score(target_valid, predictions_log_reg)\n",
    "print(\"Доля правильных ответов Accuracy на валидационной выборке у Логистической регрессии:\", round(result_log_reg, 2))"
   ]
  },
  {
   "cell_type": "markdown",
   "metadata": {},
   "source": [
    "###  Вывод\n",
    "\n",
    "- Были обучены 3 модели по алгоритмам: Решающее дерево, Случайный лес, Логистическая регрессия\n",
    "- Получены метрики качества Accuracy (доля правильных ответов)\n",
    "- Луше всего по метрике Accuracy показал результат Случайный лес с параметрами: количество деревьев 40, глубина 8\n",
    "- Два алгоритма показали метрику качества лучше, чем целевая в 0.75: \n",
    "* Решающее дерево, Accuracy: 0.79, глубина 3\n",
    "* Случайный лес , Accuracy: 0,81, количество деревьев 40, глубина 8, листев 1, узлов 2\n",
    "* Логистическая регрессия, Accuracy: 0.71\n",
    "\n",
    "Лучший результат на валидационой выборке у Случайного леса - 0.81"
   ]
  },
  {
   "cell_type": "markdown",
   "metadata": {},
   "source": [
    "## Проверьте модель на тестовой выборке"
   ]
  },
  {
   "cell_type": "code",
   "execution_count": 22,
   "metadata": {},
   "outputs": [],
   "source": [
    "# дерево решений тестовая выборка\n",
    "#prediction_test_tree = best_model_tree.predict(features_test)\n",
    "#resuls_test_tree = accuracy_score(prediction_test_tree, target_test)\n",
    "#Случайный лес тестовая выборка\n",
    "predictions_test_forest = best_model_forest.predict(features_test)\n",
    "result_test_forest = accuracy_score(predictions_test_forest, target_test)\n",
    "#логистическая регрессия тестовая выборка\n",
    "#presdictions_test_linear = model_log_reg.predict(features_test)\n",
    "#result_test_linear = accuracy_score(target_test, presdictions_test_linear)"
   ]
  },
  {
   "cell_type": "code",
   "execution_count": 23,
   "metadata": {},
   "outputs": [
    {
     "name": "stdout",
     "output_type": "stream",
     "text": [
      "Accuracy на тестовой выборке, алгоритм Случайный лес 0.83\n"
     ]
    }
   ],
   "source": [
    "#print('Accuracy на тестовой выборке, алгоритм Рещающее дерево', round(resuls_test_tree, 2))\n",
    "print('Accuracy на тестовой выборке, алгоритм Случайный лес', round(result_test_forest, 2))\n",
    "#print('Accuracy на тестовой выборке, алгоритм Логистическая регрессия', round(result_test_linear, 2))\n"
   ]
  },
  {
   "cell_type": "code",
   "execution_count": 24,
   "metadata": {},
   "outputs": [
    {
     "data": {
      "text/plain": [
       "10"
      ]
     },
     "execution_count": 24,
     "metadata": {},
     "output_type": "execute_result"
    }
   ],
   "source": [
    "model_forest_grid.best_estimator_.n_estimators"
   ]
  },
  {
   "cell_type": "markdown",
   "metadata": {},
   "source": [
    "### Вывод\n",
    "Лучший результат на тестовой выборке по метрике \"Доля верных решений Accuracy\" показал алгоритм Случайный лес. Доля верных решений составила 0.81\n"
   ]
  },
  {
   "cell_type": "markdown",
   "metadata": {},
   "source": [
    "## (бонус) Проверьте модели на адекватность"
   ]
  },
  {
   "cell_type": "markdown",
   "metadata": {},
   "source": [
    " Проверим модели на адекватность/вменяемость\n",
    "\n",
    "В задачах классификации, как в нашем случае, модель сравнивают со случайной величиной\n",
    "\n",
    "Если доля правильных ответов, полученных случайно, больше доли правильных ответов, выданных обученной моделью, значит модель не годится\n",
    "\n",
    "~~В задании мы имеем два варианта ответа - это либо 0, либо 1. То есть, либо тариф Смарт, либо Ультра будет выбран пользователем. Шансы угадать случайно один из ответов 50/50. Можно сказать accuracy=0.5~~\n",
    "\n",
    "~~Применяя алгоритмы машинного обучения имеем Accuracy по всем трем алгоритмам больше 0.5, значит модели работают лучше, чем простое угадывание~~"
   ]
  },
  {
   "cell_type": "code",
   "execution_count": 25,
   "metadata": {},
   "outputs": [
    {
     "data": {
      "text/plain": [
       "0    2229\n",
       "1     985\n",
       "Name: is_ultra, dtype: int64"
      ]
     },
     "execution_count": 25,
     "metadata": {},
     "output_type": "execute_result"
    }
   ],
   "source": [
    "## Проверим на несбалансиорванность целевого признака\n",
    "data['is_ultra'].value_counts()"
   ]
  },
  {
   "cell_type": "code",
   "execution_count": 26,
   "metadata": {},
   "outputs": [
    {
     "name": "stdout",
     "output_type": "stream",
     "text": [
      "Доля пользователей тарифом Смарт в датасете : 0.69\n",
      "Доля пользователей тарифом Смарт в датасете : 0.31\n"
     ]
    }
   ],
   "source": [
    "# Accuracy - это ведь отношение правильных ответов к общему количеству\n",
    "# Поэтому можно посмотртеь долю пользователей тарифом Смарт:\n",
    "print('Доля пользователей тарифом Смарт в датасете :', round(len(data.query('is_ultra == 0')) / len(data), 2))\n",
    "print('Доля пользователей тарифом Смарт в датасете :', round(len(data.query('is_ultra == 1')) / len(data), 2))"
   ]
  },
  {
   "cell_type": "markdown",
   "metadata": {},
   "source": [
    "# расчет\n",
    "у нас два значения 1 и 0 в целевом признаке. Вероятность угадать 1 такая же как и для нуля, то есть 0.5\n",
    "\n",
    "accuracy при случайном угадывании = 0.5 * 0.69 + 0.5 * 0.31 = 0.345+0.155= 0.5\n",
    "\n",
    "А наши модели дают accuracy, начиная с 0.74\n",
    "Заничит все наши модели адекватны)"
   ]
  },
  {
   "cell_type": "markdown",
   "metadata": {},
   "source": [
    "## Чек-лист готовности проекта"
   ]
  },
  {
   "cell_type": "markdown",
   "metadata": {},
   "source": [
    "Поставьте 'x' в выполненных пунктах. Далее нажмите Shift+Enter."
   ]
  },
  {
   "cell_type": "markdown",
   "metadata": {},
   "source": [
    "- [x] Jupyter Notebook открыт\n",
    "- [х] Весь код исполняется без ошибок\n",
    "- [х] Ячейки с кодом расположены в порядке исполнения\n",
    "- [х] Выполнено задание 1: данные загружены и изучены\n",
    "- [х] Выполнено задание 2: данные разбиты на три выборки\n",
    "- [х] Выполнено задание 3: проведено исследование моделей\n",
    "    - [х] Рассмотрено больше одной модели\n",
    "    - [х] Рассмотрено хотя бы 3 значения гипепараметров для какой-нибудь модели\n",
    "    - [х] Написаны выводы по результатам исследования\n",
    "- [х] Выполнено задание 3: Проведено тестирование\n",
    "- [х] Удалось достичь accuracy не меньше 0.75\n"
   ]
  }
 ],
 "metadata": {
  "ExecuteTimeLog": [
   {
    "duration": 986,
    "start_time": "2022-06-12T07:01:03.222Z"
   },
   {
    "duration": 3,
    "start_time": "2022-06-12T07:01:08.192Z"
   },
   {
    "duration": 104,
    "start_time": "2022-06-12T07:01:15.100Z"
   },
   {
    "duration": 13,
    "start_time": "2022-06-12T07:01:25.817Z"
   },
   {
    "duration": 10,
    "start_time": "2022-06-12T07:01:53.366Z"
   },
   {
    "duration": 28,
    "start_time": "2022-06-12T07:02:58.445Z"
   },
   {
    "duration": 3447,
    "start_time": "2022-06-12T07:03:07.396Z"
   },
   {
    "duration": 34,
    "start_time": "2022-06-12T07:03:17.299Z"
   },
   {
    "duration": 3432,
    "start_time": "2022-06-12T07:07:11.473Z"
   },
   {
    "duration": 30,
    "start_time": "2022-06-12T07:07:37.267Z"
   },
   {
    "duration": 28,
    "start_time": "2022-06-12T07:07:53.085Z"
   },
   {
    "duration": 25,
    "start_time": "2022-06-12T08:10:24.496Z"
   },
   {
    "duration": 27,
    "start_time": "2022-06-12T09:43:35.004Z"
   },
   {
    "duration": 132,
    "start_time": "2022-06-12T09:45:23.053Z"
   },
   {
    "duration": 3,
    "start_time": "2022-06-12T09:45:31.282Z"
   },
   {
    "duration": 4,
    "start_time": "2022-06-12T09:45:31.987Z"
   },
   {
    "duration": 46,
    "start_time": "2022-06-12T09:45:33.001Z"
   },
   {
    "duration": 10,
    "start_time": "2022-06-12T09:45:33.312Z"
   },
   {
    "duration": 12,
    "start_time": "2022-06-12T09:45:33.737Z"
   },
   {
    "duration": 37,
    "start_time": "2022-06-12T09:45:34.571Z"
   },
   {
    "duration": 3842,
    "start_time": "2022-06-12T09:45:35.224Z"
   },
   {
    "duration": 38,
    "start_time": "2022-06-12T09:45:39.072Z"
   },
   {
    "duration": 11,
    "start_time": "2022-06-12T09:45:39.112Z"
   },
   {
    "duration": 28,
    "start_time": "2022-06-12T09:45:47.172Z"
   },
   {
    "duration": 19,
    "start_time": "2022-06-12T09:46:01.792Z"
   },
   {
    "duration": 42,
    "start_time": "2022-06-12T10:03:06.674Z"
   },
   {
    "duration": 24,
    "start_time": "2022-06-12T10:03:08.097Z"
   },
   {
    "duration": 49,
    "start_time": "2022-06-12T10:03:58.253Z"
   },
   {
    "duration": 27,
    "start_time": "2022-06-12T10:04:38.578Z"
   },
   {
    "duration": 25,
    "start_time": "2022-06-12T10:04:50.298Z"
   },
   {
    "duration": 23,
    "start_time": "2022-06-12T10:05:22.474Z"
   },
   {
    "duration": 36,
    "start_time": "2022-06-12T10:05:40.891Z"
   },
   {
    "duration": 35,
    "start_time": "2022-06-12T10:06:10.901Z"
   },
   {
    "duration": 25,
    "start_time": "2022-06-12T10:06:13.997Z"
   },
   {
    "duration": 15,
    "start_time": "2022-06-12T10:07:19.107Z"
   },
   {
    "duration": 21,
    "start_time": "2022-06-12T10:07:42.021Z"
   },
   {
    "duration": 28,
    "start_time": "2022-06-12T10:08:18.774Z"
   },
   {
    "duration": 15,
    "start_time": "2022-06-12T10:08:19.587Z"
   },
   {
    "duration": 25,
    "start_time": "2022-06-12T10:08:25.678Z"
   },
   {
    "duration": 25,
    "start_time": "2022-06-12T10:08:26.822Z"
   },
   {
    "duration": 21,
    "start_time": "2022-06-12T10:08:27.451Z"
   },
   {
    "duration": 18,
    "start_time": "2022-06-12T10:09:21.497Z"
   },
   {
    "duration": 5,
    "start_time": "2022-06-12T10:09:35.746Z"
   },
   {
    "duration": 6,
    "start_time": "2022-06-12T10:22:34.849Z"
   },
   {
    "duration": 7,
    "start_time": "2022-06-12T10:23:18.581Z"
   },
   {
    "duration": 7,
    "start_time": "2022-06-12T10:23:30.172Z"
   },
   {
    "duration": 19,
    "start_time": "2022-06-12T10:23:44.313Z"
   },
   {
    "duration": 17,
    "start_time": "2022-06-12T10:24:02.815Z"
   },
   {
    "duration": 17,
    "start_time": "2022-06-12T10:24:38.261Z"
   },
   {
    "duration": 4,
    "start_time": "2022-06-12T10:27:36.691Z"
   },
   {
    "duration": 3,
    "start_time": "2022-06-12T10:42:00.588Z"
   },
   {
    "duration": 11,
    "start_time": "2022-06-12T11:00:43.733Z"
   },
   {
    "duration": 16,
    "start_time": "2022-06-12T11:00:53.151Z"
   },
   {
    "duration": 9,
    "start_time": "2022-06-12T11:01:21.826Z"
   },
   {
    "duration": 11,
    "start_time": "2022-06-12T11:02:14.297Z"
   },
   {
    "duration": 45,
    "start_time": "2022-06-12T11:02:43.460Z"
   },
   {
    "duration": 3810,
    "start_time": "2022-06-12T11:02:45.500Z"
   },
   {
    "duration": 22,
    "start_time": "2022-06-12T11:06:47.541Z"
   },
   {
    "duration": 4,
    "start_time": "2022-06-12T11:06:51.420Z"
   },
   {
    "duration": 15,
    "start_time": "2022-06-12T11:11:45.583Z"
   },
   {
    "duration": 13,
    "start_time": "2022-06-12T11:14:17.732Z"
   },
   {
    "duration": 27,
    "start_time": "2022-06-12T11:31:58.167Z"
   },
   {
    "duration": 4,
    "start_time": "2022-06-12T11:31:59.510Z"
   },
   {
    "duration": 15579,
    "start_time": "2022-06-12T11:42:50.009Z"
   },
   {
    "duration": 53,
    "start_time": "2022-06-12T11:44:34.171Z"
   },
   {
    "duration": 44,
    "start_time": "2022-06-12T11:45:01.648Z"
   },
   {
    "duration": 53138,
    "start_time": "2022-06-12T11:45:26.788Z"
   },
   {
    "duration": 634763,
    "start_time": "2022-06-12T11:47:04.957Z"
   },
   {
    "duration": 373922,
    "start_time": "2022-06-12T11:58:17.809Z"
   },
   {
    "duration": 24,
    "start_time": "2022-06-12T12:18:39.127Z"
   },
   {
    "duration": 15,
    "start_time": "2022-06-12T12:18:41.220Z"
   },
   {
    "duration": 10,
    "start_time": "2022-06-12T12:18:41.485Z"
   },
   {
    "duration": 1035,
    "start_time": "2022-06-12T14:19:57.761Z"
   },
   {
    "duration": 3,
    "start_time": "2022-06-12T14:19:58.797Z"
   },
   {
    "duration": 37,
    "start_time": "2022-06-12T14:19:58.802Z"
   },
   {
    "duration": 11,
    "start_time": "2022-06-12T14:19:58.841Z"
   },
   {
    "duration": 10,
    "start_time": "2022-06-12T14:19:58.854Z"
   },
   {
    "duration": 29,
    "start_time": "2022-06-12T14:19:58.865Z"
   },
   {
    "duration": 330978,
    "start_time": "2022-06-12T14:19:58.895Z"
   },
   {
    "duration": 25,
    "start_time": "2022-06-12T14:25:29.875Z"
   },
   {
    "duration": 17,
    "start_time": "2022-06-12T14:25:29.903Z"
   },
   {
    "duration": 3,
    "start_time": "2022-06-12T14:25:29.923Z"
   },
   {
    "duration": 6,
    "start_time": "2022-06-13T07:49:28.060Z"
   },
   {
    "duration": 3,
    "start_time": "2022-06-13T07:49:31.586Z"
   },
   {
    "duration": 43,
    "start_time": "2022-06-13T07:49:40.187Z"
   },
   {
    "duration": 964,
    "start_time": "2022-06-13T07:49:46.115Z"
   },
   {
    "duration": 3,
    "start_time": "2022-06-13T07:49:47.080Z"
   },
   {
    "duration": 67,
    "start_time": "2022-06-13T07:49:47.782Z"
   },
   {
    "duration": 10,
    "start_time": "2022-06-13T07:49:48.213Z"
   },
   {
    "duration": 2,
    "start_time": "2022-06-13T07:49:49.802Z"
   },
   {
    "duration": 57,
    "start_time": "2022-06-13T07:49:50.210Z"
   },
   {
    "duration": 17,
    "start_time": "2022-06-13T07:52:11.719Z"
   },
   {
    "duration": 4,
    "start_time": "2022-06-13T07:52:33.585Z"
   },
   {
    "duration": 5,
    "start_time": "2022-06-13T07:52:58.642Z"
   },
   {
    "duration": 35,
    "start_time": "2022-06-13T07:57:31.289Z"
   },
   {
    "duration": 8,
    "start_time": "2022-06-13T07:57:47.122Z"
   },
   {
    "duration": 8,
    "start_time": "2022-06-13T07:58:03.374Z"
   },
   {
    "duration": 6,
    "start_time": "2022-06-13T11:09:26.642Z"
   },
   {
    "duration": 8,
    "start_time": "2022-06-13T11:09:27.153Z"
   },
   {
    "duration": 28,
    "start_time": "2022-06-13T11:45:58.022Z"
   },
   {
    "duration": 13,
    "start_time": "2022-06-13T11:47:21.872Z"
   },
   {
    "duration": 6,
    "start_time": "2022-06-13T11:47:51.483Z"
   },
   {
    "duration": 3,
    "start_time": "2022-06-13T11:48:04.484Z"
   },
   {
    "duration": 19,
    "start_time": "2022-06-13T11:48:12.026Z"
   },
   {
    "duration": 5,
    "start_time": "2022-06-13T11:48:40.218Z"
   },
   {
    "duration": 7,
    "start_time": "2022-06-13T11:48:47.262Z"
   },
   {
    "duration": 3,
    "start_time": "2022-06-13T11:48:47.797Z"
   },
   {
    "duration": 34,
    "start_time": "2022-06-13T11:48:48.068Z"
   },
   {
    "duration": 14,
    "start_time": "2022-06-13T11:48:48.302Z"
   },
   {
    "duration": 6,
    "start_time": "2022-06-13T11:48:49.695Z"
   },
   {
    "duration": 9,
    "start_time": "2022-06-13T11:48:50.192Z"
   },
   {
    "duration": 13,
    "start_time": "2022-06-13T11:48:51.994Z"
   },
   {
    "duration": 7,
    "start_time": "2022-06-13T11:49:02.770Z"
   },
   {
    "duration": 14,
    "start_time": "2022-06-13T11:49:17.177Z"
   },
   {
    "duration": 34,
    "start_time": "2022-06-13T11:49:20.717Z"
   },
   {
    "duration": 7,
    "start_time": "2022-06-13T11:49:43.770Z"
   },
   {
    "duration": 16,
    "start_time": "2022-06-13T11:50:13.000Z"
   },
   {
    "duration": 6,
    "start_time": "2022-06-13T11:50:49.503Z"
   },
   {
    "duration": 12,
    "start_time": "2022-06-13T11:51:08.908Z"
   },
   {
    "duration": 18,
    "start_time": "2022-06-13T11:51:28.987Z"
   },
   {
    "duration": 13,
    "start_time": "2022-06-13T11:52:01.508Z"
   },
   {
    "duration": 22,
    "start_time": "2022-06-13T11:52:03.658Z"
   },
   {
    "duration": 15,
    "start_time": "2022-06-13T11:56:43.475Z"
   },
   {
    "duration": 3,
    "start_time": "2022-06-13T11:56:43.949Z"
   },
   {
    "duration": 35,
    "start_time": "2022-06-13T11:57:16.872Z"
   },
   {
    "duration": 8,
    "start_time": "2022-06-13T11:57:21.563Z"
   },
   {
    "duration": 4,
    "start_time": "2022-06-13T11:57:28.297Z"
   },
   {
    "duration": 37,
    "start_time": "2022-06-13T11:57:42.122Z"
   },
   {
    "duration": 13,
    "start_time": "2022-06-13T11:57:46.165Z"
   },
   {
    "duration": 7,
    "start_time": "2022-06-13T11:58:21.555Z"
   },
   {
    "duration": 4,
    "start_time": "2022-06-13T11:58:30.067Z"
   },
   {
    "duration": 5,
    "start_time": "2022-06-13T11:58:32.109Z"
   },
   {
    "duration": 4,
    "start_time": "2022-06-13T11:58:45.721Z"
   },
   {
    "duration": 9,
    "start_time": "2022-06-13T11:59:24.001Z"
   },
   {
    "duration": 14,
    "start_time": "2022-06-13T11:59:29.847Z"
   },
   {
    "duration": 7,
    "start_time": "2022-06-13T12:01:20.010Z"
   },
   {
    "duration": 5,
    "start_time": "2022-06-13T12:01:52.906Z"
   },
   {
    "duration": 5,
    "start_time": "2022-06-13T12:03:01.814Z"
   },
   {
    "duration": 14,
    "start_time": "2022-06-13T12:03:47.945Z"
   },
   {
    "duration": 10,
    "start_time": "2022-06-13T12:03:51.102Z"
   },
   {
    "duration": 4,
    "start_time": "2022-06-13T12:03:58.379Z"
   },
   {
    "duration": 4,
    "start_time": "2022-06-13T12:04:04.110Z"
   },
   {
    "duration": 4,
    "start_time": "2022-06-13T12:04:05.717Z"
   },
   {
    "duration": 13,
    "start_time": "2022-06-13T12:08:09.660Z"
   },
   {
    "duration": 10,
    "start_time": "2022-06-13T12:08:29.845Z"
   },
   {
    "duration": 3,
    "start_time": "2022-06-13T12:08:46.848Z"
   },
   {
    "duration": 2,
    "start_time": "2022-06-13T12:08:47.513Z"
   },
   {
    "duration": 67,
    "start_time": "2022-06-13T12:08:47.706Z"
   },
   {
    "duration": 12,
    "start_time": "2022-06-13T12:08:47.854Z"
   },
   {
    "duration": 4,
    "start_time": "2022-06-13T12:08:48.602Z"
   },
   {
    "duration": 8,
    "start_time": "2022-06-13T12:08:48.851Z"
   },
   {
    "duration": 14,
    "start_time": "2022-06-13T12:08:49.524Z"
   },
   {
    "duration": 5,
    "start_time": "2022-06-13T12:08:50.917Z"
   },
   {
    "duration": 5,
    "start_time": "2022-06-13T12:08:51.589Z"
   },
   {
    "duration": 15,
    "start_time": "2022-06-13T12:08:52.720Z"
   },
   {
    "duration": 15,
    "start_time": "2022-06-13T12:08:54.442Z"
   },
   {
    "duration": 4,
    "start_time": "2022-06-13T12:09:30.480Z"
   },
   {
    "duration": 4,
    "start_time": "2022-06-13T12:09:48.613Z"
   },
   {
    "duration": 14,
    "start_time": "2022-06-13T12:10:23.654Z"
   },
   {
    "duration": 13,
    "start_time": "2022-06-13T12:10:25.048Z"
   },
   {
    "duration": 16,
    "start_time": "2022-06-13T12:11:16.528Z"
   },
   {
    "duration": 4,
    "start_time": "2022-06-13T12:11:24.178Z"
   },
   {
    "duration": 10,
    "start_time": "2022-06-13T12:11:27.878Z"
   },
   {
    "duration": 4,
    "start_time": "2022-06-13T12:11:28.409Z"
   },
   {
    "duration": 21,
    "start_time": "2022-06-13T12:12:01.553Z"
   },
   {
    "duration": 6,
    "start_time": "2022-06-13T12:12:02.656Z"
   },
   {
    "duration": 5,
    "start_time": "2022-06-13T12:12:26.852Z"
   },
   {
    "duration": 5,
    "start_time": "2022-06-13T12:12:42.060Z"
   },
   {
    "duration": 6,
    "start_time": "2022-06-13T12:12:42.656Z"
   },
   {
    "duration": 7,
    "start_time": "2022-06-13T12:19:38.963Z"
   },
   {
    "duration": 29,
    "start_time": "2022-06-13T12:19:53.020Z"
   },
   {
    "duration": 12,
    "start_time": "2022-06-13T12:20:51.547Z"
   },
   {
    "duration": 39,
    "start_time": "2022-06-13T12:20:57.926Z"
   },
   {
    "duration": 15,
    "start_time": "2022-06-13T12:21:14.265Z"
   },
   {
    "duration": 4,
    "start_time": "2022-06-13T12:21:14.702Z"
   },
   {
    "duration": 8,
    "start_time": "2022-06-13T12:21:21.957Z"
   },
   {
    "duration": 16,
    "start_time": "2022-06-13T12:21:22.652Z"
   },
   {
    "duration": 28,
    "start_time": "2022-06-13T12:21:38.013Z"
   },
   {
    "duration": 17,
    "start_time": "2022-06-13T12:21:38.751Z"
   },
   {
    "duration": 20,
    "start_time": "2022-06-13T12:21:39.343Z"
   },
   {
    "duration": 7,
    "start_time": "2022-06-13T12:21:42.017Z"
   },
   {
    "duration": 67,
    "start_time": "2022-06-13T12:24:48.220Z"
   },
   {
    "duration": 29,
    "start_time": "2022-06-13T17:26:48.277Z"
   },
   {
    "duration": 33,
    "start_time": "2022-06-13T17:27:34.745Z"
   },
   {
    "duration": 30,
    "start_time": "2022-06-13T17:27:38.465Z"
   },
   {
    "duration": 7,
    "start_time": "2022-06-13T17:27:45.215Z"
   },
   {
    "duration": 65,
    "start_time": "2022-06-13T17:29:54.526Z"
   },
   {
    "duration": 22,
    "start_time": "2022-06-13T17:29:59.877Z"
   },
   {
    "duration": 18,
    "start_time": "2022-06-13T17:32:58.411Z"
   },
   {
    "duration": 17,
    "start_time": "2022-06-13T17:33:33.262Z"
   },
   {
    "duration": 36,
    "start_time": "2022-06-13T17:38:46.439Z"
   },
   {
    "duration": 7,
    "start_time": "2022-06-13T17:38:52.939Z"
   },
   {
    "duration": 1070,
    "start_time": "2022-06-14T14:45:00.352Z"
   },
   {
    "duration": 4,
    "start_time": "2022-06-14T14:45:01.424Z"
   },
   {
    "duration": 120,
    "start_time": "2022-06-14T14:45:01.549Z"
   },
   {
    "duration": 14,
    "start_time": "2022-06-14T14:45:01.847Z"
   },
   {
    "duration": 10,
    "start_time": "2022-06-14T14:45:02.989Z"
   },
   {
    "duration": 10,
    "start_time": "2022-06-14T14:45:03.215Z"
   },
   {
    "duration": 12,
    "start_time": "2022-06-14T14:45:04.597Z"
   },
   {
    "duration": 4,
    "start_time": "2022-06-14T14:45:06.967Z"
   },
   {
    "duration": 5,
    "start_time": "2022-06-14T14:45:07.925Z"
   },
   {
    "duration": 16,
    "start_time": "2022-06-14T14:45:09.392Z"
   },
   {
    "duration": 5,
    "start_time": "2022-06-14T14:45:09.964Z"
   },
   {
    "duration": 5,
    "start_time": "2022-06-14T14:45:10.365Z"
   },
   {
    "duration": 46,
    "start_time": "2022-06-14T14:45:15.363Z"
   },
   {
    "duration": 4,
    "start_time": "2022-06-14T14:48:33.309Z"
   },
   {
    "duration": 8,
    "start_time": "2022-06-14T14:48:39.061Z"
   },
   {
    "duration": 107,
    "start_time": "2022-06-14T14:48:58.010Z"
   },
   {
    "duration": 8,
    "start_time": "2022-06-14T14:49:20.139Z"
   },
   {
    "duration": 7,
    "start_time": "2022-06-14T14:49:39.206Z"
   },
   {
    "duration": 8,
    "start_time": "2022-06-14T14:50:28.473Z"
   },
   {
    "duration": 10,
    "start_time": "2022-06-14T14:54:46.254Z"
   },
   {
    "duration": 492,
    "start_time": "2022-06-14T14:55:15.244Z"
   },
   {
    "duration": 249,
    "start_time": "2022-06-14T14:55:25.833Z"
   },
   {
    "duration": 224,
    "start_time": "2022-06-14T14:56:25.766Z"
   },
   {
    "duration": 246,
    "start_time": "2022-06-14T14:56:49.707Z"
   },
   {
    "duration": 10,
    "start_time": "2022-06-14T14:57:33.912Z"
   },
   {
    "duration": 185,
    "start_time": "2022-06-14T14:57:59.831Z"
   },
   {
    "duration": 7,
    "start_time": "2022-06-14T15:02:45.112Z"
   },
   {
    "duration": 262,
    "start_time": "2022-06-14T15:02:48.344Z"
   },
   {
    "duration": 125,
    "start_time": "2022-06-14T15:03:07.140Z"
   },
   {
    "duration": 8,
    "start_time": "2022-06-14T15:03:08.515Z"
   },
   {
    "duration": 235,
    "start_time": "2022-06-14T15:03:10.315Z"
   },
   {
    "duration": 9,
    "start_time": "2022-06-14T15:04:20.641Z"
   },
   {
    "duration": 376949,
    "start_time": "2022-06-14T15:09:07.644Z"
   },
   {
    "duration": 0,
    "start_time": "2022-06-14T15:15:24.596Z"
   },
   {
    "duration": 38,
    "start_time": "2022-06-14T15:15:34.307Z"
   },
   {
    "duration": 3,
    "start_time": "2022-06-14T15:15:35.638Z"
   },
   {
    "duration": 31,
    "start_time": "2022-06-14T15:15:35.864Z"
   },
   {
    "duration": 12,
    "start_time": "2022-06-14T15:15:36.049Z"
   },
   {
    "duration": 6,
    "start_time": "2022-06-14T15:15:36.710Z"
   },
   {
    "duration": 9,
    "start_time": "2022-06-14T15:15:36.965Z"
   },
   {
    "duration": 12,
    "start_time": "2022-06-14T15:15:39.487Z"
   },
   {
    "duration": 5,
    "start_time": "2022-06-14T15:15:43.507Z"
   },
   {
    "duration": 5,
    "start_time": "2022-06-14T15:15:43.675Z"
   },
   {
    "duration": 27,
    "start_time": "2022-06-14T15:15:44.413Z"
   },
   {
    "duration": 7,
    "start_time": "2022-06-14T15:15:44.591Z"
   },
   {
    "duration": 6,
    "start_time": "2022-06-14T15:15:44.748Z"
   },
   {
    "duration": 128,
    "start_time": "2022-06-14T15:15:54.157Z"
   },
   {
    "duration": 8,
    "start_time": "2022-06-14T15:15:59.779Z"
   },
   {
    "duration": 205,
    "start_time": "2022-06-14T15:16:00.281Z"
   },
   {
    "duration": 8933,
    "start_time": "2022-06-14T15:16:03.056Z"
   },
   {
    "duration": 74825,
    "start_time": "2022-06-14T15:16:16.744Z"
   },
   {
    "duration": 381132,
    "start_time": "2022-06-14T15:29:27.295Z"
   },
   {
    "duration": 9,
    "start_time": "2022-06-14T15:36:36.554Z"
   },
   {
    "duration": 4,
    "start_time": "2022-06-14T15:36:49.450Z"
   },
   {
    "duration": 3,
    "start_time": "2022-06-14T15:37:01.685Z"
   },
   {
    "duration": 38,
    "start_time": "2022-06-14T15:37:22.148Z"
   },
   {
    "duration": 8,
    "start_time": "2022-06-14T15:37:24.197Z"
   },
   {
    "duration": 222,
    "start_time": "2022-06-14T15:37:32.908Z"
   },
   {
    "duration": 379904,
    "start_time": "2022-06-14T15:38:05.542Z"
   },
   {
    "duration": 11,
    "start_time": "2022-06-14T20:05:08.387Z"
   },
   {
    "duration": 6,
    "start_time": "2022-06-14T20:05:19.819Z"
   },
   {
    "duration": 6,
    "start_time": "2022-06-14T20:05:31.051Z"
   },
   {
    "duration": 16,
    "start_time": "2022-06-14T20:05:40.888Z"
   },
   {
    "duration": 15,
    "start_time": "2022-06-14T20:06:11.191Z"
   },
   {
    "duration": 13,
    "start_time": "2022-06-14T20:06:47.740Z"
   },
   {
    "duration": 14,
    "start_time": "2022-06-14T20:06:53.024Z"
   },
   {
    "duration": 15,
    "start_time": "2022-06-14T20:06:58.498Z"
   },
   {
    "duration": 11,
    "start_time": "2022-06-14T20:07:26.695Z"
   },
   {
    "duration": 14,
    "start_time": "2022-06-14T20:07:33.694Z"
   },
   {
    "duration": 13,
    "start_time": "2022-06-14T20:08:08.998Z"
   },
   {
    "duration": 14,
    "start_time": "2022-06-14T20:08:48.917Z"
   },
   {
    "duration": 16,
    "start_time": "2022-06-14T20:09:15.085Z"
   },
   {
    "duration": 80606,
    "start_time": "2022-06-14T20:09:32.368Z"
   },
   {
    "duration": 14016,
    "start_time": "2022-06-14T20:11:07.350Z"
   },
   {
    "duration": 7,
    "start_time": "2022-06-14T20:11:35.839Z"
   },
   {
    "duration": 263945,
    "start_time": "2022-06-14T20:11:39.527Z"
   },
   {
    "duration": 6,
    "start_time": "2022-06-14T20:18:26.678Z"
   },
   {
    "duration": 6,
    "start_time": "2022-06-14T20:36:23.793Z"
   },
   {
    "duration": 11,
    "start_time": "2022-06-14T20:36:23.800Z"
   },
   {
    "duration": 42,
    "start_time": "2022-06-14T20:36:23.812Z"
   },
   {
    "duration": 12,
    "start_time": "2022-06-14T20:36:23.856Z"
   },
   {
    "duration": 9,
    "start_time": "2022-06-14T20:36:23.870Z"
   },
   {
    "duration": 9,
    "start_time": "2022-06-14T20:36:23.881Z"
   },
   {
    "duration": 11,
    "start_time": "2022-06-14T20:36:23.894Z"
   },
   {
    "duration": 7,
    "start_time": "2022-06-14T20:36:23.906Z"
   },
   {
    "duration": 20,
    "start_time": "2022-06-14T20:36:23.915Z"
   },
   {
    "duration": 13,
    "start_time": "2022-06-14T20:36:23.937Z"
   },
   {
    "duration": 5,
    "start_time": "2022-06-14T20:36:23.952Z"
   },
   {
    "duration": 9,
    "start_time": "2022-06-14T20:36:23.959Z"
   },
   {
    "duration": 34,
    "start_time": "2022-06-14T20:36:23.969Z"
   },
   {
    "duration": 25,
    "start_time": "2022-06-14T20:36:24.005Z"
   },
   {
    "duration": 210,
    "start_time": "2022-06-14T20:36:24.032Z"
   },
   {
    "duration": 18058,
    "start_time": "2022-06-14T20:36:24.244Z"
   },
   {
    "duration": 65,
    "start_time": "2022-06-14T20:36:42.304Z"
   },
   {
    "duration": 18,
    "start_time": "2022-06-14T20:36:42.371Z"
   },
   {
    "duration": 6,
    "start_time": "2022-06-14T20:36:42.391Z"
   },
   {
    "duration": 25,
    "start_time": "2022-06-14T20:36:42.403Z"
   },
   {
    "duration": 1340,
    "start_time": "2022-06-14T20:37:12.806Z"
   },
   {
    "duration": 3,
    "start_time": "2022-06-14T20:37:15.634Z"
   },
   {
    "duration": 38,
    "start_time": "2022-06-14T20:37:16.231Z"
   },
   {
    "duration": 14,
    "start_time": "2022-06-14T20:37:16.753Z"
   },
   {
    "duration": 7,
    "start_time": "2022-06-14T20:37:18.700Z"
   },
   {
    "duration": 8,
    "start_time": "2022-06-14T20:37:19.303Z"
   },
   {
    "duration": 12,
    "start_time": "2022-06-14T20:37:20.966Z"
   },
   {
    "duration": 5,
    "start_time": "2022-06-14T20:37:26.031Z"
   },
   {
    "duration": 5,
    "start_time": "2022-06-14T20:37:26.600Z"
   },
   {
    "duration": 12,
    "start_time": "2022-06-14T20:37:29.800Z"
   },
   {
    "duration": 5,
    "start_time": "2022-06-14T20:37:34.193Z"
   },
   {
    "duration": 6,
    "start_time": "2022-06-14T20:37:34.461Z"
   },
   {
    "duration": 32,
    "start_time": "2022-06-14T20:37:38.035Z"
   },
   {
    "duration": 10,
    "start_time": "2022-06-14T20:37:40.894Z"
   },
   {
    "duration": 201,
    "start_time": "2022-06-14T20:37:42.138Z"
   },
   {
    "duration": 2037697,
    "start_time": "2022-06-14T20:37:54.222Z"
   },
   {
    "duration": 104,
    "start_time": "2022-06-14T21:56:35.123Z"
   },
   {
    "duration": 9,
    "start_time": "2022-06-14T21:56:45.474Z"
   },
   {
    "duration": 5,
    "start_time": "2022-06-14T21:56:50.625Z"
   },
   {
    "duration": 4,
    "start_time": "2022-06-14T21:57:22.579Z"
   },
   {
    "duration": 10,
    "start_time": "2022-06-14T21:57:31.252Z"
   },
   {
    "duration": 5,
    "start_time": "2022-06-14T21:57:36.029Z"
   },
   {
    "duration": 7,
    "start_time": "2022-06-15T13:49:36.181Z"
   },
   {
    "duration": 4,
    "start_time": "2022-06-15T13:49:54.987Z"
   },
   {
    "duration": 6,
    "start_time": "2022-06-15T13:50:34.236Z"
   },
   {
    "duration": 4,
    "start_time": "2022-06-15T13:50:43.060Z"
   },
   {
    "duration": 26,
    "start_time": "2022-06-15T13:50:47.880Z"
   },
   {
    "duration": 5,
    "start_time": "2022-06-15T13:50:50.994Z"
   },
   {
    "duration": 10,
    "start_time": "2022-06-15T13:51:07.136Z"
   },
   {
    "duration": 9,
    "start_time": "2022-06-15T13:51:10.381Z"
   },
   {
    "duration": 5,
    "start_time": "2022-06-15T13:51:23.582Z"
   },
   {
    "duration": 4,
    "start_time": "2022-06-15T13:52:31.908Z"
   },
   {
    "duration": 11,
    "start_time": "2022-06-15T13:52:45.857Z"
   },
   {
    "duration": 5,
    "start_time": "2022-06-15T13:53:29.210Z"
   },
   {
    "duration": 6,
    "start_time": "2022-06-15T13:53:40.836Z"
   },
   {
    "duration": 6,
    "start_time": "2022-06-15T13:53:47.654Z"
   },
   {
    "duration": 41,
    "start_time": "2022-06-15T13:54:03.547Z"
   },
   {
    "duration": 18,
    "start_time": "2022-06-15T13:54:07.593Z"
   },
   {
    "duration": 13,
    "start_time": "2022-06-15T13:54:07.805Z"
   },
   {
    "duration": 18,
    "start_time": "2022-06-15T14:25:58.798Z"
   },
   {
    "duration": 6802,
    "start_time": "2022-06-15T14:26:13.813Z"
   },
   {
    "duration": 2300957,
    "start_time": "2022-06-15T14:26:26.805Z"
   },
   {
    "duration": 6,
    "start_time": "2022-06-15T15:45:05.510Z"
   },
   {
    "duration": 3,
    "start_time": "2022-06-15T15:45:06.160Z"
   },
   {
    "duration": 120,
    "start_time": "2022-06-15T15:45:06.441Z"
   },
   {
    "duration": 13,
    "start_time": "2022-06-15T15:45:06.676Z"
   },
   {
    "duration": 5,
    "start_time": "2022-06-15T15:45:07.505Z"
   },
   {
    "duration": 9,
    "start_time": "2022-06-15T15:45:07.843Z"
   },
   {
    "duration": 12,
    "start_time": "2022-06-15T15:45:09.090Z"
   },
   {
    "duration": 6,
    "start_time": "2022-06-15T15:45:10.694Z"
   },
   {
    "duration": 5,
    "start_time": "2022-06-15T15:45:11.146Z"
   },
   {
    "duration": 12,
    "start_time": "2022-06-15T15:45:11.979Z"
   },
   {
    "duration": 7,
    "start_time": "2022-06-15T15:45:12.259Z"
   },
   {
    "duration": 7,
    "start_time": "2022-06-15T15:45:12.451Z"
   },
   {
    "duration": 8,
    "start_time": "2022-06-15T15:45:14.764Z"
   },
   {
    "duration": 194,
    "start_time": "2022-06-15T15:45:16.074Z"
   },
   {
    "duration": 13254,
    "start_time": "2022-06-15T15:45:16.685Z"
   },
   {
    "duration": 14452,
    "start_time": "2022-06-15T15:45:49.864Z"
   },
   {
    "duration": 34,
    "start_time": "2022-06-15T15:46:05.944Z"
   },
   {
    "duration": 8,
    "start_time": "2022-06-15T15:46:07.426Z"
   },
   {
    "duration": 212,
    "start_time": "2022-06-15T15:46:07.638Z"
   },
   {
    "duration": 2241116,
    "start_time": "2022-06-15T15:46:11.730Z"
   },
   {
    "duration": 7,
    "start_time": "2022-06-15T16:23:32.848Z"
   },
   {
    "duration": 13,
    "start_time": "2022-06-15T16:23:32.857Z"
   },
   {
    "duration": 5,
    "start_time": "2022-06-15T17:22:32.358Z"
   },
   {
    "duration": 5,
    "start_time": "2022-06-15T17:22:32.608Z"
   },
   {
    "duration": 42,
    "start_time": "2022-06-15T17:22:33.358Z"
   },
   {
    "duration": 12,
    "start_time": "2022-06-15T17:22:36.362Z"
   },
   {
    "duration": 5,
    "start_time": "2022-06-15T17:22:37.424Z"
   },
   {
    "duration": 4,
    "start_time": "2022-06-15T17:23:31.152Z"
   },
   {
    "duration": 1663649,
    "start_time": "2022-06-15T17:25:23.352Z"
   },
   {
    "duration": 7,
    "start_time": "2022-06-15T17:53:07.253Z"
   },
   {
    "duration": 5,
    "start_time": "2022-06-15T18:06:10.705Z"
   },
   {
    "duration": 6,
    "start_time": "2022-06-15T18:06:12.152Z"
   },
   {
    "duration": 25,
    "start_time": "2022-06-15T18:06:15.565Z"
   },
   {
    "duration": 18,
    "start_time": "2022-06-15T18:07:05.207Z"
   },
   {
    "duration": 6,
    "start_time": "2022-06-15T18:07:56.225Z"
   },
   {
    "duration": 6,
    "start_time": "2022-06-15T18:08:41.448Z"
   },
   {
    "duration": 6,
    "start_time": "2022-06-15T18:08:43.166Z"
   },
   {
    "duration": 6,
    "start_time": "2022-06-15T18:09:04.082Z"
   },
   {
    "duration": 6,
    "start_time": "2022-06-15T18:09:55.870Z"
   },
   {
    "duration": 6,
    "start_time": "2022-06-15T18:11:14.813Z"
   },
   {
    "duration": 13,
    "start_time": "2022-06-15T18:11:25.292Z"
   },
   {
    "duration": 14,
    "start_time": "2022-06-15T18:11:38.499Z"
   },
   {
    "duration": 6,
    "start_time": "2022-06-15T18:11:48.869Z"
   },
   {
    "duration": 7,
    "start_time": "2022-06-15T18:13:01.553Z"
   },
   {
    "duration": 62,
    "start_time": "2022-06-15T18:13:33.488Z"
   },
   {
    "duration": 43,
    "start_time": "2022-06-15T18:13:42.302Z"
   },
   {
    "duration": 42,
    "start_time": "2022-06-15T18:13:59.944Z"
   },
   {
    "duration": 42,
    "start_time": "2022-06-15T18:14:22.906Z"
   },
   {
    "duration": 6,
    "start_time": "2022-06-15T18:14:44.627Z"
   },
   {
    "duration": 6,
    "start_time": "2022-06-15T18:15:00.383Z"
   },
   {
    "duration": 10,
    "start_time": "2022-06-15T18:15:17.690Z"
   },
   {
    "duration": 11,
    "start_time": "2022-06-15T18:28:18.276Z"
   },
   {
    "duration": 19,
    "start_time": "2022-06-15T18:30:01.143Z"
   },
   {
    "duration": 8,
    "start_time": "2022-06-15T18:34:26.762Z"
   },
   {
    "duration": 9,
    "start_time": "2022-06-15T18:34:40.742Z"
   },
   {
    "duration": 6,
    "start_time": "2022-06-15T18:34:56.063Z"
   },
   {
    "duration": 3,
    "start_time": "2022-06-15T18:34:57.078Z"
   },
   {
    "duration": 121,
    "start_time": "2022-06-15T18:34:57.337Z"
   },
   {
    "duration": 11,
    "start_time": "2022-06-15T18:34:57.961Z"
   },
   {
    "duration": 5,
    "start_time": "2022-06-15T18:34:59.099Z"
   },
   {
    "duration": 9,
    "start_time": "2022-06-15T18:34:59.488Z"
   },
   {
    "duration": 14,
    "start_time": "2022-06-15T18:35:00.876Z"
   },
   {
    "duration": 28,
    "start_time": "2022-06-15T18:35:16.865Z"
   },
   {
    "duration": 11,
    "start_time": "2022-06-15T18:35:27.202Z"
   },
   {
    "duration": 4,
    "start_time": "2022-06-15T18:35:30.658Z"
   },
   {
    "duration": 7,
    "start_time": "2022-06-15T18:35:41.307Z"
   },
   {
    "duration": 12,
    "start_time": "2022-06-15T18:35:45.413Z"
   },
   {
    "duration": 6,
    "start_time": "2022-06-15T18:36:13.381Z"
   },
   {
    "duration": 8,
    "start_time": "2022-06-15T18:37:17.085Z"
   },
   {
    "duration": 10,
    "start_time": "2022-06-15T18:37:19.042Z"
   },
   {
    "duration": 12,
    "start_time": "2022-06-15T18:37:31.188Z"
   },
   {
    "duration": 3,
    "start_time": "2022-06-15T18:37:31.683Z"
   },
   {
    "duration": 57,
    "start_time": "2022-06-15T18:37:31.903Z"
   },
   {
    "duration": 11,
    "start_time": "2022-06-15T18:37:32.359Z"
   },
   {
    "duration": 6,
    "start_time": "2022-06-15T18:37:34.196Z"
   },
   {
    "duration": 10,
    "start_time": "2022-06-15T18:37:34.425Z"
   },
   {
    "duration": 12,
    "start_time": "2022-06-15T18:37:35.756Z"
   },
   {
    "duration": 6,
    "start_time": "2022-06-15T18:38:40.484Z"
   },
   {
    "duration": 5,
    "start_time": "2022-06-15T18:38:40.711Z"
   },
   {
    "duration": 15,
    "start_time": "2022-06-15T18:38:41.275Z"
   },
   {
    "duration": 6,
    "start_time": "2022-06-15T18:38:42.587Z"
   },
   {
    "duration": 6,
    "start_time": "2022-06-15T18:38:42.825Z"
   },
   {
    "duration": 37,
    "start_time": "2022-06-15T18:38:48.274Z"
   },
   {
    "duration": 6,
    "start_time": "2022-06-15T18:39:03.955Z"
   },
   {
    "duration": 11,
    "start_time": "2022-06-15T18:39:08.070Z"
   },
   {
    "duration": 4,
    "start_time": "2022-06-15T18:39:41.595Z"
   },
   {
    "duration": 10,
    "start_time": "2022-06-15T18:39:42.458Z"
   },
   {
    "duration": 9,
    "start_time": "2022-06-15T18:39:46.616Z"
   },
   {
    "duration": 30,
    "start_time": "2022-06-15T18:39:55.758Z"
   },
   {
    "duration": 465,
    "start_time": "2022-06-15T18:40:26.663Z"
   },
   {
    "duration": 12,
    "start_time": "2022-06-15T18:40:36.370Z"
   },
   {
    "duration": 6,
    "start_time": "2022-06-15T18:40:50.338Z"
   },
   {
    "duration": 3,
    "start_time": "2022-06-15T18:40:51.633Z"
   },
   {
    "duration": 37,
    "start_time": "2022-06-15T18:40:53.695Z"
   },
   {
    "duration": 11,
    "start_time": "2022-06-15T18:40:55.254Z"
   },
   {
    "duration": 6,
    "start_time": "2022-06-15T18:41:00.751Z"
   },
   {
    "duration": 11,
    "start_time": "2022-06-15T18:41:02.025Z"
   },
   {
    "duration": 12,
    "start_time": "2022-06-15T18:41:05.123Z"
   },
   {
    "duration": 5,
    "start_time": "2022-06-15T18:41:10.118Z"
   },
   {
    "duration": 7,
    "start_time": "2022-06-15T18:41:11.013Z"
   },
   {
    "duration": 11,
    "start_time": "2022-06-15T18:41:27.670Z"
   },
   {
    "duration": 7,
    "start_time": "2022-06-15T18:41:34.446Z"
   },
   {
    "duration": 5,
    "start_time": "2022-06-15T18:41:35.327Z"
   },
   {
    "duration": 36,
    "start_time": "2022-06-15T18:41:51.107Z"
   },
   {
    "duration": 7,
    "start_time": "2022-06-15T18:41:57.467Z"
   },
   {
    "duration": 188,
    "start_time": "2022-06-15T18:41:58.182Z"
   },
   {
    "duration": 52,
    "start_time": "2022-06-15T18:42:15.475Z"
   },
   {
    "duration": 559299,
    "start_time": "2022-06-15T18:42:35.585Z"
   },
   {
    "duration": 4,
    "start_time": "2022-06-15T19:04:36.682Z"
   },
   {
    "duration": 4,
    "start_time": "2022-06-15T19:04:37.113Z"
   },
   {
    "duration": 38,
    "start_time": "2022-06-15T19:04:45.830Z"
   },
   {
    "duration": 11,
    "start_time": "2022-06-15T19:04:51.652Z"
   },
   {
    "duration": 5,
    "start_time": "2022-06-15T19:04:54.289Z"
   },
   {
    "duration": 4,
    "start_time": "2022-06-15T19:05:01.691Z"
   },
   {
    "duration": 10,
    "start_time": "2022-06-15T19:05:02.751Z"
   },
   {
    "duration": 15,
    "start_time": "2022-06-15T19:05:04.370Z"
   },
   {
    "duration": 367,
    "start_time": "2022-06-15T19:05:07.101Z"
   },
   {
    "duration": 6,
    "start_time": "2022-06-15T19:07:03.720Z"
   },
   {
    "duration": 6,
    "start_time": "2022-06-15T19:07:06.413Z"
   },
   {
    "duration": 3,
    "start_time": "2022-06-15T19:07:42.773Z"
   },
   {
    "duration": 7,
    "start_time": "2022-06-15T19:07:43.960Z"
   },
   {
    "duration": 4,
    "start_time": "2022-06-15T19:07:54.096Z"
   },
   {
    "duration": 5,
    "start_time": "2022-06-15T19:11:14.494Z"
   },
   {
    "duration": 4,
    "start_time": "2022-06-15T19:11:22.045Z"
   },
   {
    "duration": 7,
    "start_time": "2022-06-15T19:12:02.048Z"
   },
   {
    "duration": 7,
    "start_time": "2022-06-15T19:12:16.615Z"
   },
   {
    "duration": 4,
    "start_time": "2022-06-15T19:12:26.491Z"
   },
   {
    "duration": 5,
    "start_time": "2022-06-15T19:12:55.524Z"
   },
   {
    "duration": 5,
    "start_time": "2022-06-15T19:13:06.080Z"
   },
   {
    "duration": 5,
    "start_time": "2022-06-15T19:13:11.618Z"
   },
   {
    "duration": 5,
    "start_time": "2022-06-15T19:13:17.706Z"
   },
   {
    "duration": 6,
    "start_time": "2022-06-15T19:14:16.842Z"
   },
   {
    "duration": 4,
    "start_time": "2022-06-15T19:16:09.327Z"
   },
   {
    "duration": 5,
    "start_time": "2022-06-15T19:16:09.593Z"
   },
   {
    "duration": 321,
    "start_time": "2022-06-15T19:16:16.814Z"
   },
   {
    "duration": 39,
    "start_time": "2022-06-15T19:22:24.728Z"
   },
   {
    "duration": 3,
    "start_time": "2022-06-15T19:22:35.178Z"
   },
   {
    "duration": 5,
    "start_time": "2022-06-15T19:24:13.186Z"
   },
   {
    "duration": 4,
    "start_time": "2022-06-15T19:24:33.352Z"
   },
   {
    "duration": 4,
    "start_time": "2022-06-15T19:24:41.702Z"
   },
   {
    "duration": 5,
    "start_time": "2022-06-15T19:24:42.943Z"
   },
   {
    "duration": 5,
    "start_time": "2022-06-15T19:24:43.510Z"
   },
   {
    "duration": 941,
    "start_time": "2022-06-15T19:25:39.586Z"
   },
   {
    "duration": 10,
    "start_time": "2022-06-15T19:25:49.240Z"
   },
   {
    "duration": 4,
    "start_time": "2022-06-15T19:25:54.513Z"
   },
   {
    "duration": 544,
    "start_time": "2022-06-15T19:29:39.973Z"
   },
   {
    "duration": 11,
    "start_time": "2022-06-15T19:30:19.992Z"
   },
   {
    "duration": 441,
    "start_time": "2022-06-15T19:30:30.256Z"
   },
   {
    "duration": 11,
    "start_time": "2022-06-15T19:30:42.853Z"
   },
   {
    "duration": 7,
    "start_time": "2022-06-15T19:30:42.975Z"
   },
   {
    "duration": 477,
    "start_time": "2022-06-15T19:32:01.135Z"
   },
   {
    "duration": 7,
    "start_time": "2022-06-15T19:32:15.372Z"
   },
   {
    "duration": 1377,
    "start_time": "2022-06-15T19:33:05.896Z"
   },
   {
    "duration": 3,
    "start_time": "2022-06-15T19:33:07.275Z"
   },
   {
    "duration": 35,
    "start_time": "2022-06-15T19:33:07.280Z"
   },
   {
    "duration": 11,
    "start_time": "2022-06-15T19:33:07.317Z"
   },
   {
    "duration": 9,
    "start_time": "2022-06-15T19:33:07.330Z"
   },
   {
    "duration": 15,
    "start_time": "2022-06-15T19:33:07.341Z"
   },
   {
    "duration": 22,
    "start_time": "2022-06-15T19:33:07.358Z"
   },
   {
    "duration": 8,
    "start_time": "2022-06-15T19:33:07.381Z"
   },
   {
    "duration": 11,
    "start_time": "2022-06-15T19:33:07.391Z"
   },
   {
    "duration": 13,
    "start_time": "2022-06-15T19:33:07.404Z"
   },
   {
    "duration": 9,
    "start_time": "2022-06-15T19:33:07.419Z"
   },
   {
    "duration": 7,
    "start_time": "2022-06-15T19:33:07.429Z"
   },
   {
    "duration": 41,
    "start_time": "2022-06-15T19:33:07.438Z"
   },
   {
    "duration": 10,
    "start_time": "2022-06-15T19:33:07.483Z"
   },
   {
    "duration": 213,
    "start_time": "2022-06-15T19:33:07.495Z"
   },
   {
    "duration": 1584761,
    "start_time": "2022-06-15T19:33:07.710Z"
   },
   {
    "duration": 5,
    "start_time": "2022-06-15T19:59:32.473Z"
   },
   {
    "duration": 148,
    "start_time": "2022-06-15T19:59:32.479Z"
   },
   {
    "duration": 0,
    "start_time": "2022-06-15T19:59:32.629Z"
   },
   {
    "duration": 0,
    "start_time": "2022-06-15T19:59:32.631Z"
   },
   {
    "duration": 0,
    "start_time": "2022-06-15T19:59:32.633Z"
   },
   {
    "duration": 0,
    "start_time": "2022-06-15T19:59:32.634Z"
   },
   {
    "duration": 1,
    "start_time": "2022-06-15T19:59:32.635Z"
   },
   {
    "duration": 0,
    "start_time": "2022-06-15T19:59:32.636Z"
   },
   {
    "duration": 0,
    "start_time": "2022-06-15T19:59:32.642Z"
   },
   {
    "duration": 5,
    "start_time": "2022-06-15T20:04:38.953Z"
   },
   {
    "duration": 11,
    "start_time": "2022-06-15T20:04:39.288Z"
   },
   {
    "duration": 5,
    "start_time": "2022-06-15T20:04:39.996Z"
   },
   {
    "duration": 5,
    "start_time": "2022-06-15T20:05:09.309Z"
   },
   {
    "duration": 5,
    "start_time": "2022-06-15T20:05:15.805Z"
   },
   {
    "duration": 35,
    "start_time": "2022-06-15T20:05:39.447Z"
   },
   {
    "duration": 9,
    "start_time": "2022-06-15T20:05:57.003Z"
   },
   {
    "duration": 5,
    "start_time": "2022-06-15T20:06:00.885Z"
   },
   {
    "duration": 239,
    "start_time": "2022-06-15T20:06:03.778Z"
   },
   {
    "duration": 255,
    "start_time": "2022-06-15T20:06:34.221Z"
   },
   {
    "duration": 225,
    "start_time": "2022-06-15T20:07:43.097Z"
   },
   {
    "duration": 251,
    "start_time": "2022-06-15T20:07:50.260Z"
   },
   {
    "duration": 6,
    "start_time": "2022-06-15T20:09:11.064Z"
   },
   {
    "duration": 5,
    "start_time": "2022-06-15T20:09:12.404Z"
   },
   {
    "duration": 9,
    "start_time": "2022-06-15T20:38:11.963Z"
   },
   {
    "duration": 20,
    "start_time": "2022-06-15T20:38:37.018Z"
   },
   {
    "duration": 69,
    "start_time": "2022-06-16T05:47:06.952Z"
   },
   {
    "duration": 6,
    "start_time": "2022-06-16T05:47:13.073Z"
   },
   {
    "duration": 1816,
    "start_time": "2022-06-16T05:48:54.642Z"
   },
   {
    "duration": 8,
    "start_time": "2022-06-16T05:48:56.464Z"
   },
   {
    "duration": 117,
    "start_time": "2022-06-16T05:48:56.474Z"
   },
   {
    "duration": 19,
    "start_time": "2022-06-16T05:48:56.594Z"
   },
   {
    "duration": 76,
    "start_time": "2022-06-16T05:48:56.617Z"
   },
   {
    "duration": 71,
    "start_time": "2022-06-16T05:48:56.698Z"
   },
   {
    "duration": 125,
    "start_time": "2022-06-16T05:48:56.773Z"
   },
   {
    "duration": 81,
    "start_time": "2022-06-16T05:48:56.902Z"
   },
   {
    "duration": 58,
    "start_time": "2022-06-16T05:48:56.988Z"
   },
   {
    "duration": 48,
    "start_time": "2022-06-16T05:48:57.051Z"
   },
   {
    "duration": 31,
    "start_time": "2022-06-16T05:48:57.101Z"
   },
   {
    "duration": 53,
    "start_time": "2022-06-16T05:48:57.143Z"
   },
   {
    "duration": 77,
    "start_time": "2022-06-16T05:48:57.200Z"
   },
   {
    "duration": 93,
    "start_time": "2022-06-16T05:48:57.284Z"
   },
   {
    "duration": 376,
    "start_time": "2022-06-16T05:48:57.391Z"
   },
   {
    "duration": 2032957,
    "start_time": "2022-06-16T05:48:57.768Z"
   },
   {
    "duration": 31,
    "start_time": "2022-06-16T06:22:50.726Z"
   },
   {
    "duration": 25,
    "start_time": "2022-06-16T06:22:50.760Z"
   },
   {
    "duration": 5,
    "start_time": "2022-06-16T06:22:50.787Z"
   },
   {
    "duration": 58,
    "start_time": "2022-06-16T06:22:50.794Z"
   },
   {
    "duration": 14,
    "start_time": "2022-06-16T06:22:50.856Z"
   },
   {
    "duration": 11,
    "start_time": "2022-06-16T06:22:50.873Z"
   },
   {
    "duration": 11,
    "start_time": "2022-06-16T06:22:50.885Z"
   },
   {
    "duration": 279,
    "start_time": "2022-06-16T06:22:50.898Z"
   },
   {
    "duration": 7,
    "start_time": "2022-06-16T06:22:51.179Z"
   },
   {
    "duration": 15,
    "start_time": "2022-06-16T06:22:51.188Z"
   },
   {
    "duration": 5,
    "start_time": "2022-06-16T06:56:48.742Z"
   },
   {
    "duration": 65,
    "start_time": "2022-06-16T09:48:51.882Z"
   },
   {
    "duration": 10,
    "start_time": "2022-06-16T09:49:16.008Z"
   },
   {
    "duration": 13,
    "start_time": "2022-06-16T09:50:18.883Z"
   },
   {
    "duration": 1646,
    "start_time": "2022-06-16T09:51:16.193Z"
   },
   {
    "duration": 4,
    "start_time": "2022-06-16T09:51:17.842Z"
   },
   {
    "duration": 73,
    "start_time": "2022-06-16T09:51:17.847Z"
   },
   {
    "duration": 14,
    "start_time": "2022-06-16T09:51:17.922Z"
   },
   {
    "duration": 7,
    "start_time": "2022-06-16T09:51:19.098Z"
   },
   {
    "duration": 12,
    "start_time": "2022-06-16T09:51:19.303Z"
   },
   {
    "duration": 12,
    "start_time": "2022-06-16T09:51:20.426Z"
   },
   {
    "duration": 11,
    "start_time": "2022-06-16T09:51:21.853Z"
   },
   {
    "duration": 16,
    "start_time": "2022-06-16T09:51:22.061Z"
   },
   {
    "duration": 14,
    "start_time": "2022-06-16T09:51:23.182Z"
   },
   {
    "duration": 5,
    "start_time": "2022-06-16T09:51:23.428Z"
   },
   {
    "duration": 20,
    "start_time": "2022-06-16T09:51:24.853Z"
   },
   {
    "duration": 155,
    "start_time": "2022-06-16T09:51:26.196Z"
   },
   {
    "duration": 155,
    "start_time": "2022-06-16T09:51:37.389Z"
   },
   {
    "duration": 18,
    "start_time": "2022-06-16T09:52:11.829Z"
   },
   {
    "duration": 15,
    "start_time": "2022-06-16T09:52:35.110Z"
   },
   {
    "duration": 15,
    "start_time": "2022-06-16T09:53:03.967Z"
   },
   {
    "duration": 37,
    "start_time": "2022-06-16T09:53:23.027Z"
   },
   {
    "duration": 14,
    "start_time": "2022-06-16T09:54:03.427Z"
   },
   {
    "duration": 15,
    "start_time": "2022-06-16T09:54:20.102Z"
   },
   {
    "duration": 14,
    "start_time": "2022-06-16T09:54:30.616Z"
   },
   {
    "duration": 19,
    "start_time": "2022-06-16T09:54:44.333Z"
   },
   {
    "duration": 14,
    "start_time": "2022-06-16T09:55:07.773Z"
   },
   {
    "duration": 8,
    "start_time": "2022-06-16T09:55:14.077Z"
   },
   {
    "duration": 9,
    "start_time": "2022-06-16T09:55:36.033Z"
   },
   {
    "duration": 6,
    "start_time": "2022-06-16T09:55:41.137Z"
   },
   {
    "duration": 6,
    "start_time": "2022-06-16T09:56:05.475Z"
   },
   {
    "duration": 10,
    "start_time": "2022-06-16T09:56:33.382Z"
   },
   {
    "duration": 11,
    "start_time": "2022-06-16T09:57:38.899Z"
   },
   {
    "duration": 3,
    "start_time": "2022-06-16T09:58:11.415Z"
   },
   {
    "duration": 6,
    "start_time": "2022-06-16T09:58:16.251Z"
   },
   {
    "duration": 15,
    "start_time": "2022-06-16T09:58:24.350Z"
   },
   {
    "duration": 12,
    "start_time": "2022-06-16T09:58:49.593Z"
   },
   {
    "duration": 32,
    "start_time": "2022-06-16T10:01:54.522Z"
   },
   {
    "duration": 15,
    "start_time": "2022-06-16T10:02:03.816Z"
   },
   {
    "duration": 30,
    "start_time": "2022-06-16T10:02:27.440Z"
   },
   {
    "duration": 14,
    "start_time": "2022-06-16T10:03:02.208Z"
   },
   {
    "duration": 10,
    "start_time": "2022-06-16T10:03:12.711Z"
   },
   {
    "duration": 566,
    "start_time": "2022-06-16T10:03:34.410Z"
   },
   {
    "duration": 307,
    "start_time": "2022-06-16T10:03:54.811Z"
   },
   {
    "duration": 5,
    "start_time": "2022-06-16T10:04:29.625Z"
   },
   {
    "duration": 7,
    "start_time": "2022-06-16T10:04:35.631Z"
   },
   {
    "duration": 13,
    "start_time": "2022-06-16T10:04:39.129Z"
   },
   {
    "duration": 264,
    "start_time": "2022-06-16T10:04:39.875Z"
   },
   {
    "duration": 157,
    "start_time": "2022-06-16T13:29:25.859Z"
   },
   {
    "duration": 8,
    "start_time": "2022-06-16T13:29:27.829Z"
   },
   {
    "duration": 15,
    "start_time": "2022-06-16T13:29:28.595Z"
   },
   {
    "duration": 233,
    "start_time": "2022-06-16T13:29:29.700Z"
   },
   {
    "duration": 11,
    "start_time": "2022-06-16T13:42:26.694Z"
   },
   {
    "duration": 6,
    "start_time": "2022-06-16T13:53:19.788Z"
   },
   {
    "duration": 10,
    "start_time": "2022-06-16T13:53:21.154Z"
   },
   {
    "duration": 89,
    "start_time": "2022-06-16T13:53:21.503Z"
   },
   {
    "duration": 23,
    "start_time": "2022-06-16T13:53:21.874Z"
   },
   {
    "duration": 13,
    "start_time": "2022-06-16T13:53:25.854Z"
   },
   {
    "duration": 10,
    "start_time": "2022-06-16T13:53:26.375Z"
   },
   {
    "duration": 12,
    "start_time": "2022-06-16T13:53:28.600Z"
   },
   {
    "duration": 14,
    "start_time": "2022-06-16T14:16:51.374Z"
   },
   {
    "duration": 11,
    "start_time": "2022-06-16T14:17:00.288Z"
   },
   {
    "duration": 3,
    "start_time": "2022-06-16T14:17:01.252Z"
   },
   {
    "duration": 49,
    "start_time": "2022-06-16T14:17:01.583Z"
   },
   {
    "duration": 15,
    "start_time": "2022-06-16T14:17:01.931Z"
   },
   {
    "duration": 6,
    "start_time": "2022-06-16T14:17:03.044Z"
   },
   {
    "duration": 10,
    "start_time": "2022-06-16T14:17:03.343Z"
   },
   {
    "duration": 27,
    "start_time": "2022-06-16T14:17:04.347Z"
   },
   {
    "duration": 6,
    "start_time": "2022-06-16T14:17:05.843Z"
   },
   {
    "duration": 7,
    "start_time": "2022-06-16T14:17:06.088Z"
   },
   {
    "duration": 13,
    "start_time": "2022-06-16T14:17:06.939Z"
   },
   {
    "duration": 6,
    "start_time": "2022-06-16T14:17:07.147Z"
   },
   {
    "duration": 6,
    "start_time": "2022-06-16T14:17:07.390Z"
   },
   {
    "duration": 171,
    "start_time": "2022-06-16T14:17:08.943Z"
   },
   {
    "duration": 6,
    "start_time": "2022-06-16T14:17:10.712Z"
   },
   {
    "duration": 10,
    "start_time": "2022-06-16T14:17:11.339Z"
   },
   {
    "duration": 326,
    "start_time": "2022-06-16T14:17:11.703Z"
   },
   {
    "duration": 2179928,
    "start_time": "2022-06-16T14:17:21.143Z"
   },
   {
    "duration": 6,
    "start_time": "2022-06-16T15:03:10.449Z"
   },
   {
    "duration": 5,
    "start_time": "2022-06-16T15:03:11.178Z"
   },
   {
    "duration": 7,
    "start_time": "2022-06-16T15:03:11.810Z"
   },
   {
    "duration": 3,
    "start_time": "2022-06-16T15:03:37.203Z"
   },
   {
    "duration": 5,
    "start_time": "2022-06-16T15:03:37.878Z"
   },
   {
    "duration": 55,
    "start_time": "2022-06-16T15:03:46.548Z"
   },
   {
    "duration": 10,
    "start_time": "2022-06-16T15:03:59.482Z"
   },
   {
    "duration": 5,
    "start_time": "2022-06-16T15:04:00.949Z"
   },
   {
    "duration": 4,
    "start_time": "2022-06-16T15:04:04.047Z"
   },
   {
    "duration": 1314,
    "start_time": "2022-06-16T17:35:48.820Z"
   },
   {
    "duration": 3,
    "start_time": "2022-06-16T17:35:50.136Z"
   },
   {
    "duration": 33,
    "start_time": "2022-06-16T17:35:50.140Z"
   },
   {
    "duration": 12,
    "start_time": "2022-06-16T17:35:50.175Z"
   },
   {
    "duration": 12,
    "start_time": "2022-06-16T17:35:50.189Z"
   },
   {
    "duration": 21,
    "start_time": "2022-06-16T17:35:50.202Z"
   },
   {
    "duration": 13,
    "start_time": "2022-06-16T17:35:50.224Z"
   },
   {
    "duration": 5,
    "start_time": "2022-06-16T17:35:50.239Z"
   },
   {
    "duration": 16,
    "start_time": "2022-06-16T17:35:50.246Z"
   },
   {
    "duration": 18,
    "start_time": "2022-06-16T17:35:50.265Z"
   },
   {
    "duration": 7,
    "start_time": "2022-06-16T17:35:50.285Z"
   },
   {
    "duration": 8,
    "start_time": "2022-06-16T17:35:50.293Z"
   },
   {
    "duration": 163,
    "start_time": "2022-06-16T17:35:50.302Z"
   },
   {
    "duration": 4,
    "start_time": "2022-06-16T17:35:50.467Z"
   },
   {
    "duration": 14,
    "start_time": "2022-06-16T17:35:50.473Z"
   },
   {
    "duration": 282,
    "start_time": "2022-06-16T17:35:50.489Z"
   },
   {
    "duration": 1770074,
    "start_time": "2022-06-16T17:35:50.773Z"
   },
   {
    "duration": 10,
    "start_time": "2022-06-16T18:05:20.849Z"
   },
   {
    "duration": 8,
    "start_time": "2022-06-16T18:05:20.861Z"
   },
   {
    "duration": 10,
    "start_time": "2022-06-16T18:05:20.870Z"
   },
   {
    "duration": 38,
    "start_time": "2022-06-16T18:05:20.881Z"
   },
   {
    "duration": 7,
    "start_time": "2022-06-16T18:05:20.921Z"
   },
   {
    "duration": 8,
    "start_time": "2022-06-16T18:05:20.929Z"
   },
   {
    "duration": 21,
    "start_time": "2022-06-16T18:05:20.938Z"
   },
   {
    "duration": 5,
    "start_time": "2022-06-16T18:05:20.961Z"
   },
   {
    "duration": 10,
    "start_time": "2022-06-16T18:05:20.968Z"
   },
   {
    "duration": 4,
    "start_time": "2022-06-16T18:07:01.224Z"
   },
   {
    "duration": 4,
    "start_time": "2022-06-16T18:07:34.058Z"
   },
   {
    "duration": 9,
    "start_time": "2022-06-16T18:07:52.385Z"
   },
   {
    "duration": 9,
    "start_time": "2022-06-16T18:08:00.689Z"
   }
  ],
  "kernelspec": {
   "display_name": "Python 3 (ipykernel)",
   "language": "python",
   "name": "python3"
  },
  "language_info": {
   "codemirror_mode": {
    "name": "ipython",
    "version": 3
   },
   "file_extension": ".py",
   "mimetype": "text/x-python",
   "name": "python",
   "nbconvert_exporter": "python",
   "pygments_lexer": "ipython3",
   "version": "3.7.8"
  },
  "toc": {
   "base_numbering": 1,
   "nav_menu": {},
   "number_sections": true,
   "sideBar": true,
   "skip_h1_title": true,
   "title_cell": "Table of Contents",
   "title_sidebar": "Contents",
   "toc_cell": false,
   "toc_position": {},
   "toc_section_display": true,
   "toc_window_display": false
  }
 },
 "nbformat": 4,
 "nbformat_minor": 2
}
