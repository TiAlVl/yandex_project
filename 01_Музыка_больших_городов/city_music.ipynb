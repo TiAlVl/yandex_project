{
 "cells": [
  {
   "cell_type": "markdown",
   "metadata": {
    "id": "E0vqbgi9ay0H"
   },
   "source": [
    "# Яндекс.Музыка"
   ]
  },
  {
   "cell_type": "markdown",
   "metadata": {
    "id": "VUC88oWjTJw2"
   },
   "source": [
    "Сравнение Москвы и Петербурга окружено мифами. Например:\n",
    " * Москва — мегаполис, подчинённый жёсткому ритму рабочей недели;\n",
    " * Петербург — культурная столица, со своими вкусами.\n",
    "\n",
    "На данных Яндекс.Музыки вы сравните поведение пользователей двух столиц.\n",
    "\n",
    "**Цель исследования** — проверьте три гипотезы:\n",
    "1. Активность пользователей зависит от дня недели. Причём в Москве и Петербурге это проявляется по-разному.\n",
    "2. В понедельник утром в Москве преобладают одни жанры, а в Петербурге — другие. Так же и вечером пятницы преобладают разные жанры — в зависимости от города. \n",
    "3. Москва и Петербург предпочитают разные жанры музыки. В Москве чаще слушают поп-музыку, в Петербурге — русский рэп.\n",
    "\n",
    "**Ход исследования**\n",
    "\n",
    "Данные о поведении пользователей вы получите из файла. О качестве данных ничего не известно. Поэтому перед проверкой гипотез понадобится обзор данных. \n",
    "\n",
    "Вы проверите данные на ошибки и оцените их влияние на исследование. Затем, на этапе предобработки вы поищете возможность исправить самые критичные ошибки данных.\n",
    " \n",
    "Таким образом, исследование пройдёт в три этапа:\n",
    " 1. Обзор данных.\n",
    " 2. Предобработка данных.\n",
    " 3. Проверка гипотез.\n",
    "\n"
   ]
  },
  {
   "cell_type": "markdown",
   "metadata": {
    "id": "Ml1hmfXC_Zcs"
   },
   "source": [
    "## Обзор данных\n",
    "\n",
    "Составьте первое представление о данных Яндекс.Музыки.\n",
    "\n",
    "\n"
   ]
  },
  {
   "cell_type": "markdown",
   "metadata": {
    "id": "57eAOGIz_Zcs"
   },
   "source": [
    "Основной инструмент аналитика — `pandas`. Импортируйте эту библиотеку."
   ]
  },
  {
   "cell_type": "code",
   "execution_count": 56,
   "metadata": {
    "id": "AXN7PHPN_Zcs"
   },
   "outputs": [],
   "source": [
    "import pandas as pd"
   ]
  },
  {
   "cell_type": "markdown",
   "metadata": {
    "id": "SG23P8tt_Zcs"
   },
   "source": [
    "Прочитайте файл `yandex_music_project.csv` из папки `/datasets` и сохраните его в переменной `df`:"
   ]
  },
  {
   "cell_type": "code",
   "execution_count": 27,
   "metadata": {
    "id": "fFVu7vqh_Zct"
   },
   "outputs": [],
   "source": [
    "# чтение файла с данными и сохранение в df\n",
    "df = pd.read_csv('/datasets/yandex_music_project.csv')"
   ]
  },
  {
   "cell_type": "markdown",
   "metadata": {
    "id": "rDoOMd3uTqnZ"
   },
   "source": [
    "Выведите на экран первые десять строк таблицы:"
   ]
  },
  {
   "cell_type": "code",
   "execution_count": 28,
   "metadata": {
    "id": "oWTVX3gW_Zct"
   },
   "outputs": [
    {
     "data": {
      "text/html": [
       "<div>\n",
       "<style scoped>\n",
       "    .dataframe tbody tr th:only-of-type {\n",
       "        vertical-align: middle;\n",
       "    }\n",
       "\n",
       "    .dataframe tbody tr th {\n",
       "        vertical-align: top;\n",
       "    }\n",
       "\n",
       "    .dataframe thead th {\n",
       "        text-align: right;\n",
       "    }\n",
       "</style>\n",
       "<table border=\"1\" class=\"dataframe\">\n",
       "  <thead>\n",
       "    <tr style=\"text-align: right;\">\n",
       "      <th></th>\n",
       "      <th>userID</th>\n",
       "      <th>Track</th>\n",
       "      <th>artist</th>\n",
       "      <th>genre</th>\n",
       "      <th>City</th>\n",
       "      <th>time</th>\n",
       "      <th>Day</th>\n",
       "    </tr>\n",
       "  </thead>\n",
       "  <tbody>\n",
       "    <tr>\n",
       "      <td>0</td>\n",
       "      <td>FFB692EC</td>\n",
       "      <td>Kamigata To Boots</td>\n",
       "      <td>The Mass Missile</td>\n",
       "      <td>rock</td>\n",
       "      <td>Saint-Petersburg</td>\n",
       "      <td>20:28:33</td>\n",
       "      <td>Wednesday</td>\n",
       "    </tr>\n",
       "    <tr>\n",
       "      <td>1</td>\n",
       "      <td>55204538</td>\n",
       "      <td>Delayed Because of Accident</td>\n",
       "      <td>Andreas Rönnberg</td>\n",
       "      <td>rock</td>\n",
       "      <td>Moscow</td>\n",
       "      <td>14:07:09</td>\n",
       "      <td>Friday</td>\n",
       "    </tr>\n",
       "    <tr>\n",
       "      <td>2</td>\n",
       "      <td>20EC38</td>\n",
       "      <td>Funiculì funiculà</td>\n",
       "      <td>Mario Lanza</td>\n",
       "      <td>pop</td>\n",
       "      <td>Saint-Petersburg</td>\n",
       "      <td>20:58:07</td>\n",
       "      <td>Wednesday</td>\n",
       "    </tr>\n",
       "    <tr>\n",
       "      <td>3</td>\n",
       "      <td>A3DD03C9</td>\n",
       "      <td>Dragons in the Sunset</td>\n",
       "      <td>Fire + Ice</td>\n",
       "      <td>folk</td>\n",
       "      <td>Saint-Petersburg</td>\n",
       "      <td>08:37:09</td>\n",
       "      <td>Monday</td>\n",
       "    </tr>\n",
       "    <tr>\n",
       "      <td>4</td>\n",
       "      <td>E2DC1FAE</td>\n",
       "      <td>Soul People</td>\n",
       "      <td>Space Echo</td>\n",
       "      <td>dance</td>\n",
       "      <td>Moscow</td>\n",
       "      <td>08:34:34</td>\n",
       "      <td>Monday</td>\n",
       "    </tr>\n",
       "    <tr>\n",
       "      <td>5</td>\n",
       "      <td>842029A1</td>\n",
       "      <td>Преданная</td>\n",
       "      <td>IMPERVTOR</td>\n",
       "      <td>rusrap</td>\n",
       "      <td>Saint-Petersburg</td>\n",
       "      <td>13:09:41</td>\n",
       "      <td>Friday</td>\n",
       "    </tr>\n",
       "    <tr>\n",
       "      <td>6</td>\n",
       "      <td>4CB90AA5</td>\n",
       "      <td>True</td>\n",
       "      <td>Roman Messer</td>\n",
       "      <td>dance</td>\n",
       "      <td>Moscow</td>\n",
       "      <td>13:00:07</td>\n",
       "      <td>Wednesday</td>\n",
       "    </tr>\n",
       "    <tr>\n",
       "      <td>7</td>\n",
       "      <td>F03E1C1F</td>\n",
       "      <td>Feeling This Way</td>\n",
       "      <td>Polina Griffith</td>\n",
       "      <td>dance</td>\n",
       "      <td>Moscow</td>\n",
       "      <td>20:47:49</td>\n",
       "      <td>Wednesday</td>\n",
       "    </tr>\n",
       "    <tr>\n",
       "      <td>8</td>\n",
       "      <td>8FA1D3BE</td>\n",
       "      <td>И вновь продолжается бой</td>\n",
       "      <td>NaN</td>\n",
       "      <td>ruspop</td>\n",
       "      <td>Moscow</td>\n",
       "      <td>09:17:40</td>\n",
       "      <td>Friday</td>\n",
       "    </tr>\n",
       "    <tr>\n",
       "      <td>9</td>\n",
       "      <td>E772D5C0</td>\n",
       "      <td>Pessimist</td>\n",
       "      <td>NaN</td>\n",
       "      <td>dance</td>\n",
       "      <td>Saint-Petersburg</td>\n",
       "      <td>21:20:49</td>\n",
       "      <td>Wednesday</td>\n",
       "    </tr>\n",
       "  </tbody>\n",
       "</table>\n",
       "</div>"
      ],
      "text/plain": [
       "     userID                        Track            artist   genre  \\\n",
       "0  FFB692EC            Kamigata To Boots  The Mass Missile    rock   \n",
       "1  55204538  Delayed Because of Accident  Andreas Rönnberg    rock   \n",
       "2    20EC38            Funiculì funiculà       Mario Lanza     pop   \n",
       "3  A3DD03C9        Dragons in the Sunset        Fire + Ice    folk   \n",
       "4  E2DC1FAE                  Soul People        Space Echo   dance   \n",
       "5  842029A1                    Преданная         IMPERVTOR  rusrap   \n",
       "6  4CB90AA5                         True      Roman Messer   dance   \n",
       "7  F03E1C1F             Feeling This Way   Polina Griffith   dance   \n",
       "8  8FA1D3BE     И вновь продолжается бой               NaN  ruspop   \n",
       "9  E772D5C0                    Pessimist               NaN   dance   \n",
       "\n",
       "             City        time        Day  \n",
       "0  Saint-Petersburg  20:28:33  Wednesday  \n",
       "1            Moscow  14:07:09     Friday  \n",
       "2  Saint-Petersburg  20:58:07  Wednesday  \n",
       "3  Saint-Petersburg  08:37:09     Monday  \n",
       "4            Moscow  08:34:34     Monday  \n",
       "5  Saint-Petersburg  13:09:41     Friday  \n",
       "6            Moscow  13:00:07  Wednesday  \n",
       "7            Moscow  20:47:49  Wednesday  \n",
       "8            Moscow  09:17:40     Friday  \n",
       "9  Saint-Petersburg  21:20:49  Wednesday  "
      ]
     },
     "execution_count": 28,
     "metadata": {},
     "output_type": "execute_result"
    }
   ],
   "source": [
    "# получение первых 10 строк таблицы df\n",
    "df.head(10)"
   ]
  },
  {
   "cell_type": "markdown",
   "metadata": {
    "id": "EO73Kwic_Zct"
   },
   "source": [
    "Одной командой получить общую информацию о таблице:"
   ]
  },
  {
   "cell_type": "code",
   "execution_count": 30,
   "metadata": {
    "id": "DSf2kIb-_Zct"
   },
   "outputs": [
    {
     "name": "stdout",
     "output_type": "stream",
     "text": [
      "<class 'pandas.core.frame.DataFrame'>\n",
      "RangeIndex: 65079 entries, 0 to 65078\n",
      "Data columns (total 7 columns):\n",
      "  userID    65079 non-null object\n",
      "Track       63848 non-null object\n",
      "artist      57876 non-null object\n",
      "genre       63881 non-null object\n",
      "  City      65079 non-null object\n",
      "time        65079 non-null object\n",
      "Day         65079 non-null object\n",
      "dtypes: object(7)\n",
      "memory usage: 3.5+ MB\n"
     ]
    }
   ],
   "source": [
    "# получение общей информации о данных в таблице df\n",
    "df.info()"
   ]
  },
  {
   "cell_type": "markdown",
   "metadata": {
    "id": "TaQ2Iwbr_Zct"
   },
   "source": [
    "Итак, в таблице семь столбцов. Тип данных во всех столбцах — `object`.\n",
    "\n",
    "Согласно документации к данным:\n",
    "* `userID` — идентификатор пользователя;\n",
    "* `Track` — название трека;  \n",
    "* `artist` — имя исполнителя;\n",
    "* `genre` — название жанра;\n",
    "* `City` — город пользователя;\n",
    "* `time` — время начала прослушивания;\n",
    "* `Day` — день недели.\n",
    "\n",
    "В названиях колонок видны три нарушения стиля:\n",
    "1. Строчные буквы сочетаются с прописными.\n",
    "2. Встречаются пробелы.\n",
    "3. \"Змеиный формат\" рекомендуется использовать в первом столбце: user_id.\n",
    "\n",
    "\n",
    "\n",
    "Количество значений в столбцах различается. Значит, в данных есть пропущенные значения.\n"
   ]
  },
  {
   "cell_type": "markdown",
   "metadata": {
    "id": "MCB6-dXG_Zct"
   },
   "source": [
    "**Выводы**\n",
    "\n",
    "В каждой строке таблицы — данные о прослушанном треке. Часть колонок описывает саму композицию: название, исполнителя и жанр. Остальные данные рассказывают о пользователе: из какого он города, когда он слушал музыку. \n",
    "\n",
    "Предварительно можно утверждать, что, данных достаточно для проверки гипотез. Но встречаются пропуски в данных, а в названиях колонок — расхождения с хорошим стилем.\n",
    "\n",
    "Чтобы двигаться дальше, нужно устранить проблемы в данных."
   ]
  },
  {
   "cell_type": "markdown",
   "metadata": {
    "id": "SjYF6Ub9_Zct"
   },
   "source": [
    "## Предобработка данных\n",
    "Исправьте стиль в заголовках столбцов, исключите пропуски. Затем проверьте данные на дубликаты."
   ]
  },
  {
   "cell_type": "markdown",
   "metadata": {
    "id": "dIaKXr29_Zct"
   },
   "source": [
    "### Стиль заголовков\n",
    "Выведите на экран названия столбцов:"
   ]
  },
  {
   "cell_type": "code",
   "execution_count": 31,
   "metadata": {
    "id": "oKOTdF_Q_Zct"
   },
   "outputs": [
    {
     "data": {
      "text/plain": [
       "Index(['  userID', 'Track', 'artist', 'genre', '  City  ', 'time', 'Day'], dtype='object')"
      ]
     },
     "execution_count": 31,
     "metadata": {},
     "output_type": "execute_result"
    }
   ],
   "source": [
    "# перечень названий столбцов таблицы df\n",
    "df.columns"
   ]
  },
  {
   "cell_type": "markdown",
   "metadata": {
    "id": "zj5534cv_Zct"
   },
   "source": [
    "Приведите названия в соответствие с хорошим стилем:\n",
    "* несколько слов в названии запишите в «змеином_регистре»,\n",
    "* все символы сделайте строчными,\n",
    "* устраните пробелы.\n",
    "\n",
    "Для этого переименуйте колонки так:\n",
    "* `'  userID'` → `'user_id'`;\n",
    "* `'Track'` → `'track'`;\n",
    "* `'  City  '` → `'city'`;\n",
    "* `'Day'` → `'day'`."
   ]
  },
  {
   "cell_type": "code",
   "execution_count": 32,
   "metadata": {
    "id": "ISlFqs5y_Zct"
   },
   "outputs": [],
   "source": [
    "# переименование столбцов\n",
    "df = df.rename(\n",
    "    columns={\n",
    "        '  userID': 'user_id',\n",
    "        'Track': 'track',\n",
    "        '  City  ': 'city',\n",
    "        'Day': 'day'\n",
    "    }\n",
    ")\n"
   ]
  },
  {
   "cell_type": "markdown",
   "metadata": {
    "id": "1dqbh00J_Zct"
   },
   "source": [
    "Проверьте результат. Для этого ещё раз выведите на экран названия столбцов:"
   ]
  },
  {
   "cell_type": "code",
   "execution_count": 33,
   "metadata": {
    "id": "d4NOAmTW_Zct"
   },
   "outputs": [
    {
     "data": {
      "text/plain": [
       "Index(['user_id', 'track', 'artist', 'genre', 'city', 'time', 'day'], dtype='object')"
      ]
     },
     "execution_count": 33,
     "metadata": {},
     "output_type": "execute_result"
    }
   ],
   "source": [
    "# проверка результатов - перечень названий столбцов\n",
    "df.columns"
   ]
  },
  {
   "cell_type": "markdown",
   "metadata": {
    "id": "5ISfbcfY_Zct"
   },
   "source": [
    "### Пропуски значений\n",
    "Сначала посчитайте, сколько в таблице пропущенных значений. Для этого достаточно двух методов `pandas`:"
   ]
  },
  {
   "cell_type": "code",
   "execution_count": 34,
   "metadata": {
    "id": "RskX29qr_Zct"
   },
   "outputs": [
    {
     "data": {
      "text/plain": [
       "user_id       0\n",
       "track      1231\n",
       "artist     7203\n",
       "genre      1198\n",
       "city          0\n",
       "time          0\n",
       "day           0\n",
       "dtype: int64"
      ]
     },
     "execution_count": 34,
     "metadata": {},
     "output_type": "execute_result"
    }
   ],
   "source": [
    "# подсчёт пропусков\n",
    "df.isna().sum()"
   ]
  },
  {
   "cell_type": "markdown",
   "metadata": {
    "id": "qubhgnlO_Zct"
   },
   "source": [
    "Не все пропущенные значения влияют на исследование. Так в `track` и `artist` пропуски не важны для вашей работы. Достаточно заменить их явными обозначениями.\n",
    "\n",
    "Но пропуски в `genre` могут помешать сравнению музыкальных вкусов в Москве и Санкт-Петербурге. На практике было бы правильно установить причину пропусков и восстановить данные. Такой возможности нет в учебном проекте. Придётся:\n",
    "* заполнить и эти пропуски явными обозначениями,\n",
    "* оценить, насколько они повредят расчётам. "
   ]
  },
  {
   "cell_type": "markdown",
   "metadata": {
    "id": "fSv2laPA_Zct"
   },
   "source": [
    "Замените пропущенные значения в столбцах `track`, `artist` и `genre` на строку `'unknown'`. Для этого создайте список `columns_to_replace`, переберите его элементы циклом `for` и для каждого столбца выполните замену пропущенных значений:"
   ]
  },
  {
   "cell_type": "code",
   "execution_count": 35,
   "metadata": {
    "id": "KplB5qWs_Zct"
   },
   "outputs": [],
   "source": [
    "# перебор названий столбцов в цикле и замена пропущенных значений на 'unknown'\n",
    "columns_to_replace = ['track', 'artist', 'genre']\n",
    "for value in columns_to_replace:\n",
    "    df[value] = df[value].fillna('unknown')\n"
   ]
  },
  {
   "cell_type": "markdown",
   "metadata": {
    "id": "Ilsm-MZo_Zct"
   },
   "source": [
    "Убедитесь, что в таблице не осталось пропусков. Для этого ещё раз посчитайте пропущенные значения."
   ]
  },
  {
   "cell_type": "code",
   "execution_count": 36,
   "metadata": {
    "id": "Tq4nYRX4_Zct"
   },
   "outputs": [
    {
     "data": {
      "text/plain": [
       "user_id    0\n",
       "track      0\n",
       "artist     0\n",
       "genre      0\n",
       "city       0\n",
       "time       0\n",
       "day        0\n",
       "dtype: int64"
      ]
     },
     "execution_count": 36,
     "metadata": {},
     "output_type": "execute_result"
    }
   ],
   "source": [
    "# подсчёт пропусков\n",
    "df.isna().sum()"
   ]
  },
  {
   "cell_type": "markdown",
   "metadata": {
    "id": "BWKRtBJ3_Zct"
   },
   "source": [
    "### Дубликаты\n",
    "Посчитайте явные дубликаты в таблице одной командой:"
   ]
  },
  {
   "cell_type": "code",
   "execution_count": 37,
   "metadata": {
    "id": "36eES_S0_Zct"
   },
   "outputs": [
    {
     "data": {
      "text/plain": [
       "3826"
      ]
     },
     "execution_count": 37,
     "metadata": {},
     "output_type": "execute_result"
    }
   ],
   "source": [
    "# подсчёт явных дубликатов\n",
    "df.duplicated().sum()"
   ]
  },
  {
   "cell_type": "markdown",
   "metadata": {
    "id": "Ot25h6XR_Zct"
   },
   "source": [
    "Вызовите специальный метод `pandas`, чтобы удалить явные дубликаты:"
   ]
  },
  {
   "cell_type": "code",
   "execution_count": 38,
   "metadata": {
    "id": "exFHq6tt_Zct"
   },
   "outputs": [],
   "source": [
    "# удаление явных дубликатов (с удалением старых индексов и формированием новых)\n",
    "df = df.drop_duplicates().reset_index(drop=True)"
   ]
  },
  {
   "cell_type": "markdown",
   "metadata": {
    "id": "Im2YwBEG_Zct"
   },
   "source": [
    "Ещё раз посчитайте явные дубликаты в таблице — убедитесь, что полностью от них избавились:"
   ]
  },
  {
   "cell_type": "code",
   "execution_count": 39,
   "metadata": {
    "id": "-8PuNWQ0_Zct"
   },
   "outputs": [
    {
     "data": {
      "text/plain": [
       "0"
      ]
     },
     "execution_count": 39,
     "metadata": {},
     "output_type": "execute_result"
    }
   ],
   "source": [
    "# проверка на отсутствие дубликатов\n",
    "df.duplicated().sum()"
   ]
  },
  {
   "cell_type": "markdown",
   "metadata": {
    "id": "QlFBsxAr_Zct"
   },
   "source": [
    "Теперь избавьтесь от неявных дубликатов в колонке `genre`. Например, название одного и того же жанра может быть записано немного по-разному. Такие ошибки тоже повлияют на результат исследования."
   ]
  },
  {
   "cell_type": "markdown",
   "metadata": {
    "id": "eSjWwsOh_Zct"
   },
   "source": [
    "Выведите на экран список уникальных названий жанров, отсортированный в алфавитном порядке. Для этого:\n",
    "* извлеките нужный столбец датафрейма, \n",
    "* примените к нему метод сортировки,\n",
    "* для отсортированного столбца вызовите метод, который вернёт уникальные значения из столбца."
   ]
  },
  {
   "cell_type": "code",
   "execution_count": 50,
   "metadata": {
    "id": "JIUcqzZN_Zct"
   },
   "outputs": [],
   "source": [
    "# Просмотр уникальных названий жанров\n",
    "genre_sort_uniq = df['genre'].sort_values().unique()"
   ]
  },
  {
   "cell_type": "code",
   "execution_count": 51,
   "metadata": {},
   "outputs": [
    {
     "data": {
      "text/plain": [
       "array(['acid', 'acoustic', 'action', 'adult', 'africa', 'afrikaans',\n",
       "       'alternative', 'alternativepunk', 'ambient', 'americana',\n",
       "       'animated', 'anime', 'arabesk', 'arabic', 'arena',\n",
       "       'argentinetango', 'art', 'audiobook', 'author', 'avantgarde',\n",
       "       'axé', 'baile', 'balkan', 'beats', 'bigroom', 'black', 'bluegrass',\n",
       "       'blues', 'bollywood', 'bossa', 'brazilian', 'breakbeat', 'breaks',\n",
       "       'broadway', 'cantautori', 'cantopop', 'canzone', 'caribbean',\n",
       "       'caucasian', 'celtic', 'chamber', 'chanson', 'children', 'chill',\n",
       "       'chinese', 'choral', 'christian', 'christmas', 'classical',\n",
       "       'classicmetal', 'club', 'colombian', 'comedy', 'conjazz',\n",
       "       'contemporary', 'country', 'cuban', 'dance', 'dancehall',\n",
       "       'dancepop', 'dark', 'death', 'deep', 'deutschrock', 'deutschspr',\n",
       "       'dirty', 'disco', 'dnb', 'documentary', 'downbeat', 'downtempo',\n",
       "       'drum', 'dub', 'dubstep', 'eastern', 'easy', 'electronic',\n",
       "       'electropop', 'emo', 'entehno', 'epicmetal', 'estrada', 'ethnic',\n",
       "       'eurofolk', 'european', 'experimental', 'extrememetal', 'fado',\n",
       "       'fairytail', 'film', 'fitness', 'flamenco', 'folk', 'folklore',\n",
       "       'folkmetal', 'folkrock', 'folktronica', 'forró', 'frankreich',\n",
       "       'französisch', 'french', 'funk', 'future', 'gangsta', 'garage',\n",
       "       'german', 'ghazal', 'gitarre', 'glitch', 'gospel', 'gothic',\n",
       "       'grime', 'grunge', 'gypsy', 'handsup', \"hard'n'heavy\", 'hardcore',\n",
       "       'hardstyle', 'hardtechno', 'hiphop', 'historisch', 'holiday',\n",
       "       'horror', 'house', 'hymn', 'idm', 'independent', 'indian', 'indie',\n",
       "       'indipop', 'industrial', 'inspirational', 'instrumental',\n",
       "       'international', 'irish', 'jam', 'japanese', 'jazz', 'jewish',\n",
       "       'jpop', 'jungle', 'k-pop', 'karadeniz', 'karaoke', 'kayokyoku',\n",
       "       'korean', 'laiko', 'latin', 'latino', 'leftfield', 'local',\n",
       "       'lounge', 'loungeelectronic', 'lovers', 'malaysian', 'mandopop',\n",
       "       'marschmusik', 'meditative', 'mediterranean', 'melodic', 'metal',\n",
       "       'metalcore', 'mexican', 'middle', 'minimal', 'miscellaneous',\n",
       "       'modern', 'mood', 'mpb', 'muslim', 'native', 'neoklassik', 'neue',\n",
       "       'new', 'newage', 'newwave', 'nu', 'nujazz', 'numetal', 'oceania',\n",
       "       'old', 'opera', 'orchestral', 'other', 'piano', 'podcasts', 'pop',\n",
       "       'popdance', 'popelectronic', 'popeurodance', 'poprussian', 'post',\n",
       "       'posthardcore', 'postrock', 'power', 'progmetal', 'progressive',\n",
       "       'psychedelic', 'punjabi', 'punk', 'quebecois', 'ragga', 'ram',\n",
       "       'rancheras', 'rap', 'rave', 'reggae', 'reggaeton', 'regional',\n",
       "       'relax', 'religious', 'retro', 'rhythm', 'rnb', 'rnr', 'rock',\n",
       "       'rockabilly', 'rockalternative', 'rockindie', 'rockother',\n",
       "       'romance', 'roots', 'ruspop', 'rusrap', 'rusrock', 'russian',\n",
       "       'salsa', 'samba', 'scenic', 'schlager', 'self', 'sertanejo',\n",
       "       'shanson', 'shoegazing', 'showtunes', 'singer', 'ska', 'skarock',\n",
       "       'slow', 'smooth', 'soft', 'soul', 'soulful', 'sound', 'soundtrack',\n",
       "       'southern', 'specialty', 'speech', 'spiritual', 'sport',\n",
       "       'stonerrock', 'surf', 'swing', 'synthpop', 'synthrock',\n",
       "       'sängerportrait', 'tango', 'tanzorchester', 'taraftar', 'tatar',\n",
       "       'tech', 'techno', 'teen', 'thrash', 'top', 'traditional',\n",
       "       'tradjazz', 'trance', 'tribal', 'trip', 'triphop', 'tropical',\n",
       "       'türk', 'türkçe', 'ukrrock', 'unknown', 'urban', 'uzbek',\n",
       "       'variété', 'vi', 'videogame', 'vocal', 'western', 'world',\n",
       "       'worldbeat', 'ïîï', 'электроника'], dtype=object)"
      ]
     },
     "execution_count": 51,
     "metadata": {},
     "output_type": "execute_result"
    }
   ],
   "source": [
    "genre_sort_uniq"
   ]
  },
  {
   "cell_type": "markdown",
   "metadata": {
    "id": "qej-Qmuo_Zct"
   },
   "source": [
    "Просмотрите список и найдите неявные дубликаты названия `hiphop`. Это могут быть названия с ошибками или альтернативные названия того же жанра.\n",
    "\n",
    "Вы увидите следующие неявные дубликаты:\n",
    "* *hip*,\n",
    "* *hop*,\n",
    "* *hip-hop*.\n",
    "\n",
    "Чтобы очистить от них таблицу, напишите функцию `replace_wrong_genres()` с двумя параметрами: \n",
    "* `wrong_genres` — список дубликатов,\n",
    "* `correct_genre` — строка с правильным значением.\n",
    "\n",
    "Функция должна исправить колонку `genre` в таблице `df`: заменить каждое значение из списка `wrong_genres` на значение из `correct_genre`."
   ]
  },
  {
   "cell_type": "code",
   "execution_count": 52,
   "metadata": {
    "id": "ErNDkmns_Zct"
   },
   "outputs": [],
   "source": [
    "# Функция для замены неявных дубликатов\n",
    "def replace_wrong_genres(wrong_genres, correct_genre):\n",
    "    for value in wrong_genres:\n",
    "        df['genre'] = df['genre'].replace(value, correct_genre)"
   ]
  },
  {
   "cell_type": "markdown",
   "metadata": {
    "id": "aDoBJxbA_Zct"
   },
   "source": [
    "Вызовите `replace_wrong_genres()` и передайте ей такие аргументы, чтобы она устранила неявные дубликаты: вместо `hip`, `hop` и `hip-hop` в таблице должно быть значение `hiphop`:"
   ]
  },
  {
   "cell_type": "code",
   "execution_count": 53,
   "metadata": {
    "id": "YN5i2hpmSo09"
   },
   "outputs": [],
   "source": [
    "# Устранение неявных дубликатов\n",
    "wrong_genres = ['hip', 'hop', 'hip-hop']\n",
    "correct_genre = 'hiphop'\n",
    "replace_wrong_genres(wrong_genres, correct_genre)"
   ]
  },
  {
   "cell_type": "markdown",
   "metadata": {
    "id": "zQKF16_RG15m"
   },
   "source": [
    "Проверьте, что заменили неправильные названия:\n",
    "\n",
    "*   hip\n",
    "*   hop\n",
    "*   hip-hop\n",
    "\n",
    "Выведите отсортированный список уникальных значений столбца `genre`:"
   ]
  },
  {
   "cell_type": "code",
   "execution_count": 54,
   "metadata": {
    "id": "wvixALnFG15m"
   },
   "outputs": [
    {
     "data": {
      "text/plain": [
       "array(['acid', 'acoustic', 'action', 'adult', 'africa', 'afrikaans',\n",
       "       'alternative', 'alternativepunk', 'ambient', 'americana',\n",
       "       'animated', 'anime', 'arabesk', 'arabic', 'arena',\n",
       "       'argentinetango', 'art', 'audiobook', 'author', 'avantgarde',\n",
       "       'axé', 'baile', 'balkan', 'beats', 'bigroom', 'black', 'bluegrass',\n",
       "       'blues', 'bollywood', 'bossa', 'brazilian', 'breakbeat', 'breaks',\n",
       "       'broadway', 'cantautori', 'cantopop', 'canzone', 'caribbean',\n",
       "       'caucasian', 'celtic', 'chamber', 'chanson', 'children', 'chill',\n",
       "       'chinese', 'choral', 'christian', 'christmas', 'classical',\n",
       "       'classicmetal', 'club', 'colombian', 'comedy', 'conjazz',\n",
       "       'contemporary', 'country', 'cuban', 'dance', 'dancehall',\n",
       "       'dancepop', 'dark', 'death', 'deep', 'deutschrock', 'deutschspr',\n",
       "       'dirty', 'disco', 'dnb', 'documentary', 'downbeat', 'downtempo',\n",
       "       'drum', 'dub', 'dubstep', 'eastern', 'easy', 'electronic',\n",
       "       'electropop', 'emo', 'entehno', 'epicmetal', 'estrada', 'ethnic',\n",
       "       'eurofolk', 'european', 'experimental', 'extrememetal', 'fado',\n",
       "       'fairytail', 'film', 'fitness', 'flamenco', 'folk', 'folklore',\n",
       "       'folkmetal', 'folkrock', 'folktronica', 'forró', 'frankreich',\n",
       "       'französisch', 'french', 'funk', 'future', 'gangsta', 'garage',\n",
       "       'german', 'ghazal', 'gitarre', 'glitch', 'gospel', 'gothic',\n",
       "       'grime', 'grunge', 'gypsy', 'handsup', \"hard'n'heavy\", 'hardcore',\n",
       "       'hardstyle', 'hardtechno', 'hiphop', 'historisch', 'holiday',\n",
       "       'horror', 'house', 'hymn', 'idm', 'independent', 'indian', 'indie',\n",
       "       'indipop', 'industrial', 'inspirational', 'instrumental',\n",
       "       'international', 'irish', 'jam', 'japanese', 'jazz', 'jewish',\n",
       "       'jpop', 'jungle', 'k-pop', 'karadeniz', 'karaoke', 'kayokyoku',\n",
       "       'korean', 'laiko', 'latin', 'latino', 'leftfield', 'local',\n",
       "       'lounge', 'loungeelectronic', 'lovers', 'malaysian', 'mandopop',\n",
       "       'marschmusik', 'meditative', 'mediterranean', 'melodic', 'metal',\n",
       "       'metalcore', 'mexican', 'middle', 'minimal', 'miscellaneous',\n",
       "       'modern', 'mood', 'mpb', 'muslim', 'native', 'neoklassik', 'neue',\n",
       "       'new', 'newage', 'newwave', 'nu', 'nujazz', 'numetal', 'oceania',\n",
       "       'old', 'opera', 'orchestral', 'other', 'piano', 'podcasts', 'pop',\n",
       "       'popdance', 'popelectronic', 'popeurodance', 'poprussian', 'post',\n",
       "       'posthardcore', 'postrock', 'power', 'progmetal', 'progressive',\n",
       "       'psychedelic', 'punjabi', 'punk', 'quebecois', 'ragga', 'ram',\n",
       "       'rancheras', 'rap', 'rave', 'reggae', 'reggaeton', 'regional',\n",
       "       'relax', 'religious', 'retro', 'rhythm', 'rnb', 'rnr', 'rock',\n",
       "       'rockabilly', 'rockalternative', 'rockindie', 'rockother',\n",
       "       'romance', 'roots', 'ruspop', 'rusrap', 'rusrock', 'russian',\n",
       "       'salsa', 'samba', 'scenic', 'schlager', 'self', 'sertanejo',\n",
       "       'shanson', 'shoegazing', 'showtunes', 'singer', 'ska', 'skarock',\n",
       "       'slow', 'smooth', 'soft', 'soul', 'soulful', 'sound', 'soundtrack',\n",
       "       'southern', 'specialty', 'speech', 'spiritual', 'sport',\n",
       "       'stonerrock', 'surf', 'swing', 'synthpop', 'synthrock',\n",
       "       'sängerportrait', 'tango', 'tanzorchester', 'taraftar', 'tatar',\n",
       "       'tech', 'techno', 'teen', 'thrash', 'top', 'traditional',\n",
       "       'tradjazz', 'trance', 'tribal', 'trip', 'triphop', 'tropical',\n",
       "       'türk', 'türkçe', 'ukrrock', 'unknown', 'urban', 'uzbek',\n",
       "       'variété', 'vi', 'videogame', 'vocal', 'western', 'world',\n",
       "       'worldbeat', 'ïîï', 'электроника'], dtype=object)"
      ]
     },
     "execution_count": 54,
     "metadata": {},
     "output_type": "execute_result"
    }
   ],
   "source": [
    "# Проверка на неявные дубликаты\n",
    "df['genre'].sort_values().unique()"
   ]
  },
  {
   "cell_type": "markdown",
   "metadata": {
    "id": "jz6a9-7HQUDd"
   },
   "source": [
    "**Выводы**\n",
    "\n",
    "Предобработка обнаружила три проблемы в данных:\n",
    "\n",
    "- нарушения в стиле заголовков,\n",
    "- пропущенные значения,\n",
    "- дубликаты — явные и неявные.\n",
    "\n",
    "Вы исправили заголовки, чтобы упростить работу с таблицей. Без дубликатов исследование станет более точным.\n",
    "\n",
    "Пропущенные значения вы заменили на `'unknown'`. Ещё предстоит увидеть, не повредят ли исследованию пропуски в колонке `genre`.\n",
    "\n",
    "Теперь можно перейти к проверке гипотез. "
   ]
  },
  {
   "cell_type": "markdown",
   "metadata": {
    "id": "WttZHXH0SqKk"
   },
   "source": [
    "## Проверка гипотез"
   ]
  },
  {
   "cell_type": "markdown",
   "metadata": {
    "id": "Im936VVi_Zcu"
   },
   "source": [
    "### Сравнение поведения пользователей двух столиц"
   ]
  },
  {
   "cell_type": "markdown",
   "metadata": {
    "id": "nwt_MuaL_Zcu"
   },
   "source": [
    "Первая гипотеза утверждает, что пользователи по-разному слушают музыку в Москве и Санкт-Петербурге. Проверьте это предположение по данным о трёх днях недели — понедельнике, среде и пятнице. Для этого:\n",
    "\n",
    "* Разделите пользователей Москвы и Санкт-Петербурга\n",
    "* Сравните, сколько треков послушала каждая группа пользователей в понедельник, среду и пятницу.\n"
   ]
  },
  {
   "cell_type": "markdown",
   "metadata": {
    "id": "8Dw_YMmT_Zcu"
   },
   "source": [
    "Для тренировки сначала выполните каждый из расчётов по отдельности. \n",
    "\n",
    "Оцените активность пользователей в каждом городе. Сгруппируйте данные по городу и посчитайте прослушивания в каждой группе.\n",
    "\n"
   ]
  },
  {
   "cell_type": "code",
   "execution_count": 58,
   "metadata": {
    "id": "0_Qs96oh_Zcu"
   },
   "outputs": [
    {
     "data": {
      "text/plain": [
       "city\n",
       "Moscow              42741\n",
       "Saint-Petersburg    18512\n",
       "Name: user_id, dtype: int64"
      ]
     },
     "execution_count": 58,
     "metadata": {},
     "output_type": "execute_result"
    }
   ],
   "source": [
    "# Подсчёт прослушиваний в каждом городе\n",
    "#df.groupby('city').count() было\n",
    "df.groupby('city')['user_id'].count()"
   ]
  },
  {
   "cell_type": "markdown",
   "metadata": {
    "id": "dzli3w8o_Zcu"
   },
   "source": [
    "В Москве прослушиваний больше, чем в Петербурге. Из этого не следует, что московские пользователи чаще слушают музыку. Просто самих пользователей в Москве больше.\n",
    "\n",
    "Теперь сгруппируйте данные по дню недели и подсчитайте прослушивания в понедельник, среду и пятницу. Учтите, что в данных есть информация только о прослушиваниях только за эти дни.\n"
   ]
  },
  {
   "cell_type": "code",
   "execution_count": 59,
   "metadata": {
    "id": "uZMKjiJz_Zcu"
   },
   "outputs": [
    {
     "data": {
      "text/plain": [
       "day\n",
       "Friday       21840\n",
       "Monday       21354\n",
       "Wednesday    18059\n",
       "Name: user_id, dtype: int64"
      ]
     },
     "execution_count": 59,
     "metadata": {},
     "output_type": "execute_result"
    }
   ],
   "source": [
    "# Подсчёт прослушиваний в каждый из трёх дней\n",
    "#df.groupby('day').count() было\n",
    "df.groupby('day')['user_id'].count()"
   ]
  },
  {
   "cell_type": "markdown",
   "metadata": {
    "id": "cC2tNrlL_Zcu"
   },
   "source": [
    "В среднем пользователи из двух городов менее активны по средам. Но картина может измениться, если рассмотреть каждый город в отдельности."
   ]
  },
  {
   "cell_type": "markdown",
   "metadata": {
    "id": "POzs8bGa_Zcu"
   },
   "source": [
    "Вы видели, как работает группировка по городу и по дням недели. Теперь напишите функцию, которая объединит два эти расчёта.\n",
    "\n",
    "Создайте функцию `number_tracks()`, которая посчитает прослушивания для заданного дня и города. Ей понадобятся два параметра:\n",
    "* день недели,\n",
    "* название города.\n",
    "\n",
    "В функции сохраните в переменную строки исходной таблицы, у которых значение:\n",
    "  * в колонке `day` равно параметру `day`,\n",
    "  * в колонке `city` равно параметру `city`.\n",
    "\n",
    "Для этого примените последовательную фильтрацию с логической индексацией.\n",
    "\n",
    "Затем посчитайте значения в столбце `user_id` получившейся таблицы. Результат сохраните в новую переменную. Верните эту переменную из функции."
   ]
  },
  {
   "cell_type": "code",
   "execution_count": 60,
   "metadata": {
    "id": "Nz3GdQB1_Zcu"
   },
   "outputs": [],
   "source": [
    "# <создание функции number_tracks()>\n",
    "# Объявляется функция с двумя параметрами: day, city.\n",
    "def number_tracks(day, city):\n",
    "# В переменной track_list сохраняются те строки таблицы df, для которых \n",
    "# значение в столбце 'day' равно параметру day и одновременно значение\n",
    "#    track_list = df[(df['day'] == day) & (df['city'] == city)]\n",
    "    track_list = df[df['day'] == day]\n",
    "# в столбце 'city' равно параметру city (используйте последовательную фильтрацию\n",
    "# с помощью логической индексации).\n",
    "    track_list = track_list[track_list['city'] == city]\n",
    "# В переменной track_list_count сохраняется число значений столбца 'user_id',\n",
    "# рассчитанное методом count() для таблицы track_list.\n",
    "    track_list_count = track_list['user_id'].count()\n",
    "# Функция возвращает число - значение track_list_count.\n",
    "    return track_list_count\n",
    "\n",
    "# Функция для подсчёта прослушиваний для конкретного города и дня.\n",
    "\n",
    "# С помощью последовательной фильтрации с логической индексацией она \n",
    "# сначала получит из исходной таблицы строки с нужным днём,\n",
    "# затем из результата отфильтрует строки с нужным городом,\n",
    "# методом count() посчитает количество значений в колонке user_id. \n",
    "# Это количество функция вернёт в качестве результата"
   ]
  },
  {
   "cell_type": "markdown",
   "metadata": {
    "id": "ytf7xFrFJQ2r"
   },
   "source": [
    "Вызовите `number_tracks()` шесть раз, меняя значение параметров — так, чтобы получить данные для каждого города в каждый из трёх дней."
   ]
  },
  {
   "cell_type": "code",
   "execution_count": 61,
   "metadata": {
    "id": "rJcRATNQ_Zcu"
   },
   "outputs": [
    {
     "data": {
      "text/plain": [
       "15740"
      ]
     },
     "execution_count": 61,
     "metadata": {},
     "output_type": "execute_result"
    }
   ],
   "source": [
    "# количество прослушиваний в Москве по понедельникам\n",
    "number_tracks('Monday', 'Moscow')"
   ]
  },
  {
   "cell_type": "code",
   "execution_count": 62,
   "metadata": {
    "id": "hq_ncZ5T_Zcu"
   },
   "outputs": [
    {
     "data": {
      "text/plain": [
       "5614"
      ]
     },
     "execution_count": 62,
     "metadata": {},
     "output_type": "execute_result"
    }
   ],
   "source": [
    "# количество прослушиваний в Санкт-Петербурге по понедельникам\n",
    "number_tracks('Monday', 'Saint-Petersburg')"
   ]
  },
  {
   "cell_type": "code",
   "execution_count": 63,
   "metadata": {
    "id": "_NTy2VPU_Zcu"
   },
   "outputs": [
    {
     "data": {
      "text/plain": [
       "11056"
      ]
     },
     "execution_count": 63,
     "metadata": {},
     "output_type": "execute_result"
    }
   ],
   "source": [
    "# количество прослушиваний в Москве по средам\n",
    "number_tracks('Wednesday', 'Moscow')"
   ]
  },
  {
   "cell_type": "code",
   "execution_count": 64,
   "metadata": {
    "id": "j2y3TAwo_Zcu"
   },
   "outputs": [
    {
     "data": {
      "text/plain": [
       "7003"
      ]
     },
     "execution_count": 64,
     "metadata": {},
     "output_type": "execute_result"
    }
   ],
   "source": [
    "# количество прослушиваний в Санкт-Петербурге по средам\n",
    "number_tracks('Wednesday', 'Saint-Petersburg')"
   ]
  },
  {
   "cell_type": "code",
   "execution_count": 65,
   "metadata": {
    "id": "vYDw5u_K_Zcu"
   },
   "outputs": [
    {
     "data": {
      "text/plain": [
       "15945"
      ]
     },
     "execution_count": 65,
     "metadata": {},
     "output_type": "execute_result"
    }
   ],
   "source": [
    "# количество прослушиваний в Москве по пятницам\n",
    "number_tracks('Friday', 'Moscow')"
   ]
  },
  {
   "cell_type": "code",
   "execution_count": 66,
   "metadata": {
    "id": "8_yzFtW3_Zcu"
   },
   "outputs": [
    {
     "data": {
      "text/plain": [
       "5895"
      ]
     },
     "execution_count": 66,
     "metadata": {},
     "output_type": "execute_result"
    }
   ],
   "source": [
    "# количество прослушиваний в Санкт-Петербурге по пятницам\n",
    "number_tracks('Friday', 'Saint-Petersburg')"
   ]
  },
  {
   "cell_type": "markdown",
   "metadata": {
    "id": "7QXffbO-_Zcu"
   },
   "source": [
    "Создайте c помощью конструктора `pd.DataFrame` таблицу, где\n",
    "* названия колонок — `['city', 'monday', 'wednesday', 'friday']`;\n",
    "* данные — результаты, которые вы получили с помощью `number_tracks`."
   ]
  },
  {
   "cell_type": "code",
   "execution_count": 79,
   "metadata": {
    "id": "APAcLpOr_Zcu"
   },
   "outputs": [],
   "source": [
    "# Таблица с результатами\n",
    "count_columns = ['city', 'monday', 'wednesday', 'friday']\n",
    "count_data = [\n",
    "    ['Moscow', 15740, 11056, 15945],\n",
    "    ['Saint-Petersburg', 5614, 7003, 5895]\n",
    "]\n",
    "table_city = pd.DataFrame(data = count_data, columns = count_columns) # добавил имя таблицы"
   ]
  },
  {
   "cell_type": "markdown",
   "metadata": {
    "id": "-EgPIHYu_Zcu"
   },
   "source": [
    "**Выводы**\n",
    "\n",
    "Данные показывают разницу поведения пользователей:\n",
    "\n",
    "- В Москве пик прослушиваний приходится на понедельник и пятницу, а в среду заметен спад.\n",
    "- В Петербурге, наоборот, больше слушают музыку по средам. Активность в понедельник и пятницу здесь почти в равной мере уступает среде.\n",
    "\n",
    "Значит, данные говорят в пользу первой гипотезы."
   ]
  },
  {
   "cell_type": "markdown",
   "metadata": {
    "id": "atZAxtq4_Zcu"
   },
   "source": [
    "### Музыка в начале и в конце недели"
   ]
  },
  {
   "cell_type": "markdown",
   "metadata": {
    "id": "eXrQqXFH_Zcu"
   },
   "source": [
    "Согласно второй гипотезе, утром в понедельник в Москве преобладают одни жанры, а в Петербурге — другие. Так же и вечером пятницы преобладают разные жанры — в зависимости от города."
   ]
  },
  {
   "cell_type": "markdown",
   "metadata": {
    "id": "S8UcW6Hw_Zcu"
   },
   "source": [
    "Сохраните таблицы с данными в две переменные:\n",
    "* по Москве — в `moscow_general`;\n",
    "* по Санкт-Петербургу — в `spb_general`."
   ]
  },
  {
   "cell_type": "code",
   "execution_count": 70,
   "metadata": {
    "id": "qeaFfM_P_Zcu"
   },
   "outputs": [
    {
     "data": {
      "text/plain": [
       "user_id    42741\n",
       "track      42741\n",
       "artist     42741\n",
       "genre      42741\n",
       "city       42741\n",
       "time       42741\n",
       "day        42741\n",
       "dtype: int64"
      ]
     },
     "execution_count": 70,
     "metadata": {},
     "output_type": "execute_result"
    }
   ],
   "source": [
    "# получение таблицы moscow_general из тех строк таблицы df, \n",
    "# для которых значение в столбце 'city' равно 'Moscow'\n",
    "moscow_general = df[df['city'] == 'Moscow']\n",
    "#display(moscow_general.count()) было до проверки\n",
    "moscow_general.count()"
   ]
  },
  {
   "cell_type": "code",
   "execution_count": 71,
   "metadata": {
    "id": "ORaVRKto_Zcu"
   },
   "outputs": [
    {
     "data": {
      "text/plain": [
       "user_id    18512\n",
       "track      18512\n",
       "artist     18512\n",
       "genre      18512\n",
       "city       18512\n",
       "time       18512\n",
       "day        18512\n",
       "dtype: int64"
      ]
     },
     "execution_count": 71,
     "metadata": {},
     "output_type": "execute_result"
    }
   ],
   "source": [
    "# получение таблицы spb_general из тех строк таблицы df,\n",
    "# для которых значение в столбце 'city' равно 'Saint-Petersburg'\n",
    "spb_general = df[df['city'] == 'Saint-Petersburg']\n",
    "#display(spb_general.count()) было до проверки\n",
    "spb_general.count()"
   ]
  },
  {
   "cell_type": "markdown",
   "metadata": {
    "id": "MEJV-CX2_Zcu"
   },
   "source": [
    "Создайте функцию `genre_weekday()` с четырьмя параметрами:\n",
    "* таблица (датафрейм) с данными,\n",
    "* день недели,\n",
    "* начальная временная метка в формате 'hh:mm', \n",
    "* последняя временная метка в формате 'hh:mm'.\n",
    "\n",
    "Функция должна вернуть информацию о топ-10 жанров тех треков, которые прослушивали в указанный день, в промежутке между двумя отметками времени."
   ]
  },
  {
   "cell_type": "code",
   "execution_count": 77,
   "metadata": {
    "id": "laJT9BYl_Zcu"
   },
   "outputs": [],
   "source": [
    "# Объявление функции genre_weekday() с параметрами table, day, time1, time2,\n",
    "# которая возвращает информацию о самых популярных жанрах в указанный день в\n",
    "# заданное время:\n",
    "# 1) в переменную genre_df сохраняются те строки переданного датафрейма table, для\n",
    "#    которых одновременно:\n",
    "#    - значение в столбце day равно значению аргумента day\n",
    "#    - значение в столбце time больше значения аргумента time1\n",
    "#    - значение в столбце time меньше значения аргумента time2\n",
    "#    Используйте последовательную фильтрацию с помощью логической индексации.\n",
    "# 2) сгруппировать датафрейм genre_df по столбцу genre, взять один из его\n",
    "#    столбцов и посчитать методом count() количество записей для каждого из\n",
    "#    присутствующих жанров, получившийся Series записать в переменную\n",
    "#    genre_df_count\n",
    "# 3) отсортировать genre_df_count по убыванию встречаемости и сохранить\n",
    "#    в переменную genre_df_sorted\n",
    "# 4) вернуть Series из 10 первых значений genre_df_sorted, это будут топ-10\n",
    "#    популярных жанров (в указанный день, в заданное время)\n",
    "def genre_weekday(table, day, time1, time2):\n",
    "    genre_df = table[(table['day'] == day) &\n",
    "                     (table['time'] > time1) &\n",
    "                     (table['time'] < time2)]\n",
    "    genre_df_count = genre_df.groupby('genre')['user_id'].count()\n",
    "    genre_df_sorted = genre_df_count.sort_values(ascending=False)\n",
    "#    return genre_df_sorted.head(10) было до проверки\n",
    "    return genre_df_sorted[:10] # исправил с использованием среза"
   ]
  },
  {
   "cell_type": "markdown",
   "metadata": {
    "id": "la2s2_PF_Zcu"
   },
   "source": [
    "Cравните результаты функции `genre_weekday()` для Москвы и Санкт-Петербурга в понедельник утром (с 7:00 до 11:00) и в пятницу вечером (с 17:00 до 23:00):"
   ]
  },
  {
   "cell_type": "code",
   "execution_count": 80,
   "metadata": {
    "id": "yz7itPUQ_Zcu"
   },
   "outputs": [
    {
     "data": {
      "text/plain": [
       "genre\n",
       "pop            781\n",
       "dance          549\n",
       "electronic     480\n",
       "rock           474\n",
       "hiphop         286\n",
       "ruspop         186\n",
       "world          181\n",
       "rusrap         175\n",
       "alternative    164\n",
       "unknown        161\n",
       "Name: user_id, dtype: int64"
      ]
     },
     "execution_count": 80,
     "metadata": {},
     "output_type": "execute_result"
    }
   ],
   "source": [
    "# вызов функции для утра понедельника в Москве (вместо df — таблица moscow_general)\n",
    "# объекты, хранящие время, являются строками и сравниваются как строки\n",
    "# пример вызова: genre_weekday(moscow_general, 'Monday', '07:00', '11:00')\n",
    "genre_weekday(moscow_general, 'Monday', '07:00', '11:00')"
   ]
  },
  {
   "cell_type": "code",
   "execution_count": 81,
   "metadata": {
    "id": "kwUcHPdy_Zcu"
   },
   "outputs": [
    {
     "data": {
      "text/plain": [
       "genre\n",
       "pop            218\n",
       "dance          182\n",
       "rock           162\n",
       "electronic     147\n",
       "hiphop          80\n",
       "ruspop          64\n",
       "alternative     58\n",
       "rusrap          55\n",
       "jazz            44\n",
       "classical       40\n",
       "Name: user_id, dtype: int64"
      ]
     },
     "execution_count": 81,
     "metadata": {},
     "output_type": "execute_result"
    }
   ],
   "source": [
    "# вызов функции для утра понедельника в Петербурге (вместо df — таблица spb_general)\n",
    "genre_weekday(spb_general, 'Monday', '07:00', '11:00')"
   ]
  },
  {
   "cell_type": "code",
   "execution_count": 82,
   "metadata": {
    "id": "EzXVRE1o_Zcu"
   },
   "outputs": [
    {
     "data": {
      "text/plain": [
       "genre\n",
       "pop            713\n",
       "rock           517\n",
       "dance          495\n",
       "electronic     482\n",
       "hiphop         273\n",
       "world          208\n",
       "ruspop         170\n",
       "alternative    163\n",
       "classical      163\n",
       "rusrap         142\n",
       "Name: user_id, dtype: int64"
      ]
     },
     "execution_count": 82,
     "metadata": {},
     "output_type": "execute_result"
    }
   ],
   "source": [
    "# вызов функции для вечера пятницы в Москве\n",
    "genre_weekday(moscow_general, 'Friday', '17:00', '23:00')"
   ]
  },
  {
   "cell_type": "code",
   "execution_count": 83,
   "metadata": {
    "id": "JZaEKu5v_Zcu"
   },
   "outputs": [
    {
     "data": {
      "text/plain": [
       "genre\n",
       "pop            256\n",
       "rock           216\n",
       "electronic     216\n",
       "dance          210\n",
       "hiphop          97\n",
       "alternative     63\n",
       "jazz            61\n",
       "classical       60\n",
       "rusrap          59\n",
       "world           54\n",
       "Name: user_id, dtype: int64"
      ]
     },
     "execution_count": 83,
     "metadata": {},
     "output_type": "execute_result"
    }
   ],
   "source": [
    "# вызов функции для вечера пятницы в Петербурге\n",
    "genre_weekday(spb_general, 'Friday', '17:00', '23:00')"
   ]
  },
  {
   "cell_type": "markdown",
   "metadata": {
    "id": "wrCe4MNX_Zcu"
   },
   "source": [
    "**Выводы**\n",
    "\n",
    "Если сравнить топ-10 жанров в понедельник утром, можно сделать такие выводы:\n",
    "\n",
    "1. В Москве и Петербурге слушают похожую музыку. Единственное отличие — в московский рейтинг вошёл жанр “world”, а в петербургский — джаз и классика.\n",
    "\n",
    "2. В Москве пропущенных значений оказалось так много, что значение `'unknown'` заняло десятое место среди самых популярных жанров. Значит, пропущенные значения занимают существенную долю в данных и угрожают достоверности исследования.\n",
    "\n",
    "Вечер пятницы не меняет эту картину. Некоторые жанры поднимаются немного выше, другие спускаются, но в целом топ-10 остаётся тем же самым.\n",
    "\n",
    "Таким образом, вторая гипотеза подтвердилась лишь частично:\n",
    "* Пользователи слушают похожую музыку в начале недели и в конце.\n",
    "* Разница между Москвой и Петербургом не слишком выражена. В Москве чаще слушают русскую популярную музыку, в Петербурге — джаз.\n",
    "\n",
    "Однако пропуски в данных ставят под сомнение этот результат. В Москве их так много, что рейтинг топ-10 мог бы выглядеть иначе, если бы не утерянные  данные о жанрах."
   ]
  },
  {
   "cell_type": "markdown",
   "metadata": {
    "id": "JolODAqr_Zcu"
   },
   "source": [
    "### Жанровые предпочтения в Москве и Петербурге\n",
    "\n",
    "Гипотеза: Петербург — столица рэпа, музыку этого жанра там слушают чаще, чем в Москве.  А Москва — город контрастов, в котором, тем не менее, преобладает поп-музыка."
   ]
  },
  {
   "cell_type": "markdown",
   "metadata": {
    "id": "DlegSvaT_Zcu"
   },
   "source": [
    "Сгруппируйте таблицу `moscow_general` по жанру и посчитайте прослушивания треков каждого жанра методом `count()`. Затем отсортируйте результат в порядке убывания и сохраните его в таблице `moscow_genres`."
   ]
  },
  {
   "cell_type": "code",
   "execution_count": 84,
   "metadata": {
    "id": "r19lIPke_Zcu"
   },
   "outputs": [],
   "source": [
    "# одной строкой: группировка таблицы moscow_general по столбцу 'genre', \n",
    "# подсчёт числа значений 'genre' в этой группировке методом count(), \n",
    "# сортировка получившегося Series в порядке убывания и сохранение в moscow_genres\n",
    "#display(moscow_general)\n",
    "moscow_genres = moscow_general.groupby('genre')['genre'].count().sort_values(ascending=False)"
   ]
  },
  {
   "cell_type": "markdown",
   "metadata": {
    "id": "6kMuomxTiIr8"
   },
   "source": [
    "Выведите на экран первые десять строк `moscow_genres`:"
   ]
  },
  {
   "cell_type": "code",
   "execution_count": 85,
   "metadata": {
    "id": "WhCSooF8_Zcv"
   },
   "outputs": [
    {
     "data": {
      "text/plain": [
       "genre\n",
       "pop            5892\n",
       "dance          4435\n",
       "rock           3965\n",
       "electronic     3786\n",
       "hiphop         2096\n",
       "classical      1616\n",
       "world          1432\n",
       "alternative    1379\n",
       "ruspop         1372\n",
       "rusrap         1161\n",
       "Name: genre, dtype: int64"
      ]
     },
     "metadata": {},
     "output_type": "display_data"
    }
   ],
   "source": [
    "# просмотр первых 10 строк moscow_genres\n",
    "display(moscow_genres.head(10))"
   ]
  },
  {
   "cell_type": "markdown",
   "metadata": {
    "id": "cnPG2vnN_Zcv"
   },
   "source": [
    "Теперь повторите то же и для Петербурга.\n",
    "\n",
    "Сгруппируйте таблицу `spb_general` по жанру. Посчитайте прослушивания треков каждого жанра. Результат отсортируйте в порядке убывания и сохраните в таблице `spb_genres`:\n"
   ]
  },
  {
   "cell_type": "code",
   "execution_count": 86,
   "metadata": {
    "id": "gluLIpE7_Zcv"
   },
   "outputs": [],
   "source": [
    "# одной строкой: группировка таблицы spb_general по столбцу 'genre', \n",
    "# подсчёт числа значений 'genre' в этой группировке методом count(), \n",
    "# сортировка получившегося Series в порядке убывания и сохранение в spb_genres\n",
    "spb_genres = spb_general.groupby('genre')['genre'].count().sort_values(ascending=False)"
   ]
  },
  {
   "cell_type": "markdown",
   "metadata": {
    "id": "5Doha_ODgyQ8"
   },
   "source": [
    "Выведите на экран первые десять строк `spb_genres`:"
   ]
  },
  {
   "cell_type": "code",
   "execution_count": 87,
   "metadata": {
    "id": "uaGJHjVU_Zcv"
   },
   "outputs": [
    {
     "data": {
      "text/plain": [
       "genre\n",
       "pop            2431\n",
       "dance          1932\n",
       "rock           1879\n",
       "electronic     1736\n",
       "hiphop          960\n",
       "alternative     649\n",
       "classical       646\n",
       "rusrap          564\n",
       "ruspop          538\n",
       "world           515\n",
       "Name: genre, dtype: int64"
      ]
     },
     "execution_count": 87,
     "metadata": {},
     "output_type": "execute_result"
    }
   ],
   "source": [
    "# просмотр первых 10 строк spb_genres\n",
    "#display(spb_genres.head(10))\n",
    "spb_genres.head(10)"
   ]
  },
  {
   "cell_type": "markdown",
   "metadata": {
    "id": "RY51YJYu_Zcv"
   },
   "source": [
    "**Выводы**"
   ]
  },
  {
   "cell_type": "markdown",
   "metadata": {
    "id": "nVhnJEm__Zcv"
   },
   "source": [
    "Гипотеза частично подтвердилась:\n",
    "* Поп-музыка — самый популярный жанр в Москве, как и предполагала гипотеза. Более того, в топ-10 жанров встречается близкий жанр — русская популярная музыка.\n",
    "* Вопреки ожиданиям, рэп одинаково популярен в Москве и Петербурге. \n"
   ]
  },
  {
   "cell_type": "markdown",
   "metadata": {
    "id": "ykKQ0N65_Zcv"
   },
   "source": [
    "## Итоги исследования"
   ]
  },
  {
   "cell_type": "markdown",
   "metadata": {
    "id": "tjUwbHb3_Zcv"
   },
   "source": [
    "Вы проверили три гипотезы и установили:\n",
    "\n",
    "1. День недели по-разному влияет на активность пользователей в Москве и Петербурге. \n",
    "\n",
    "Первая гипотеза полностью подтвердилась.\n",
    "\n",
    "2. Музыкальные предпочтения не сильно меняются в течение недели — будь то Москва или Петербург. Небольшие различия заметны в начале недели, по понедельникам:\n",
    "* в Москве слушают музыку жанра “world”,\n",
    "* в Петербурге — джаз и классику.\n",
    "\n",
    "Таким образом, вторая гипотеза подтвердилась лишь отчасти. Этот результат мог оказаться иным, если бы не пропуски в данных.\n",
    "\n",
    "3. Во вкусах пользователей Москвы и Петербурга больше общего чем различий. Вопреки ожиданиям, предпочтения жанров в Петербурге напоминают московские.\n",
    "\n",
    "Третья гипотеза не подтвердилась. Если различия в предпочтениях и существуют, на основной массе пользователей они незаметны.\n",
    "\n",
    "**На практике исследования содержат проверки статистических гипотез.**\n",
    "Из данных одного сервиса не всегда можно сделать вывод о всех жителях города.\n",
    "Проверки статистических гипотез покажут, насколько они достоверны, исходя из имеющихся данных. \n",
    "С методами проверок гипотез вы ещё познакомитесь в следующих темах."
   ]
  }
 ],
 "metadata": {
  "ExecuteTimeLog": [
   {
    "duration": 233,
    "start_time": "2022-02-08T18:36:26.997Z"
   },
   {
    "duration": 516,
    "start_time": "2022-02-08T18:36:35.254Z"
   },
   {
    "duration": 117,
    "start_time": "2022-02-08T18:36:38.105Z"
   },
   {
    "duration": 17,
    "start_time": "2022-02-08T18:36:41.271Z"
   },
   {
    "duration": 24,
    "start_time": "2022-02-08T18:36:46.714Z"
   },
   {
    "duration": 4,
    "start_time": "2022-02-08T18:37:15.414Z"
   },
   {
    "duration": 591,
    "start_time": "2022-02-09T16:05:15.766Z"
   },
   {
    "duration": 119,
    "start_time": "2022-02-09T16:05:17.652Z"
   },
   {
    "duration": 16,
    "start_time": "2022-02-09T16:05:19.693Z"
   },
   {
    "duration": 21,
    "start_time": "2022-02-09T16:05:26.747Z"
   },
   {
    "duration": 3,
    "start_time": "2022-02-09T16:10:34.487Z"
   },
   {
    "duration": 18,
    "start_time": "2022-02-09T16:15:49.773Z"
   },
   {
    "duration": 4,
    "start_time": "2022-02-09T16:16:06.813Z"
   },
   {
    "duration": 21,
    "start_time": "2022-02-09T16:16:52.636Z"
   },
   {
    "duration": 14,
    "start_time": "2022-02-09T16:23:04.616Z"
   },
   {
    "duration": 21,
    "start_time": "2022-02-09T16:23:29.367Z"
   },
   {
    "duration": 4429,
    "start_time": "2022-02-09T16:25:59.220Z"
   },
   {
    "duration": -29,
    "start_time": "2022-02-09T16:26:03.679Z"
   },
   {
    "duration": 4084,
    "start_time": "2022-02-09T16:26:14.426Z"
   },
   {
    "duration": -25,
    "start_time": "2022-02-09T16:26:18.537Z"
   },
   {
    "duration": 4027,
    "start_time": "2022-02-09T16:26:41.948Z"
   },
   {
    "duration": -34,
    "start_time": "2022-02-09T16:26:46.011Z"
   },
   {
    "duration": 4038,
    "start_time": "2022-02-09T16:26:51.776Z"
   },
   {
    "duration": 322,
    "start_time": "2022-02-09T16:27:08.866Z"
   },
   {
    "duration": 2,
    "start_time": "2022-02-09T16:27:17.921Z"
   },
   {
    "duration": 132,
    "start_time": "2022-02-09T16:27:18.732Z"
   },
   {
    "duration": 11,
    "start_time": "2022-02-09T16:27:19.819Z"
   },
   {
    "duration": 21,
    "start_time": "2022-02-09T16:27:22.150Z"
   },
   {
    "duration": 4,
    "start_time": "2022-02-09T16:27:27.120Z"
   },
   {
    "duration": 16,
    "start_time": "2022-02-09T16:27:29.054Z"
   },
   {
    "duration": 4,
    "start_time": "2022-02-09T16:27:30.905Z"
   },
   {
    "duration": 21,
    "start_time": "2022-02-09T16:27:33.197Z"
   },
   {
    "duration": 19,
    "start_time": "2022-02-09T16:27:37.722Z"
   },
   {
    "duration": 22,
    "start_time": "2022-02-09T16:27:40.894Z"
   },
   {
    "duration": 16,
    "start_time": "2022-02-09T16:28:15.126Z"
   },
   {
    "duration": 21,
    "start_time": "2022-02-09T16:28:16.175Z"
   },
   {
    "duration": 23,
    "start_time": "2022-02-09T16:28:30.982Z"
   },
   {
    "duration": 2,
    "start_time": "2022-02-09T16:28:34.979Z"
   },
   {
    "duration": 50,
    "start_time": "2022-02-09T16:28:53.198Z"
   },
   {
    "duration": 49,
    "start_time": "2022-02-09T16:28:58.331Z"
   },
   {
    "duration": 52,
    "start_time": "2022-02-09T16:29:34.088Z"
   },
   {
    "duration": 45,
    "start_time": "2022-02-09T16:29:43.071Z"
   },
   {
    "duration": 34,
    "start_time": "2022-02-09T16:34:11.208Z"
   },
   {
    "duration": 38,
    "start_time": "2022-02-09T16:34:22.226Z"
   },
   {
    "duration": 37,
    "start_time": "2022-02-09T16:35:11.504Z"
   },
   {
    "duration": 36,
    "start_time": "2022-02-09T16:35:21.088Z"
   },
   {
    "duration": 2,
    "start_time": "2022-02-09T16:41:04.327Z"
   },
   {
    "duration": 330,
    "start_time": "2022-02-09T16:41:26.591Z"
   },
   {
    "duration": 100,
    "start_time": "2022-02-09T16:43:18.149Z"
   },
   {
    "duration": 3,
    "start_time": "2022-02-09T16:43:29.605Z"
   },
   {
    "duration": 19,
    "start_time": "2022-02-09T16:45:17.828Z"
   },
   {
    "duration": 6,
    "start_time": "2022-02-09T16:46:02.890Z"
   },
   {
    "duration": 36,
    "start_time": "2022-02-09T16:46:27.652Z"
   },
   {
    "duration": 3,
    "start_time": "2022-02-09T16:54:12.034Z"
   },
   {
    "duration": 9,
    "start_time": "2022-02-09T16:54:14.678Z"
   },
   {
    "duration": 38,
    "start_time": "2022-02-09T16:54:24.628Z"
   },
   {
    "duration": 3,
    "start_time": "2022-02-09T16:54:53.137Z"
   },
   {
    "duration": 10,
    "start_time": "2022-02-09T16:54:54.343Z"
   },
   {
    "duration": 29,
    "start_time": "2022-02-09T16:59:17.283Z"
   },
   {
    "duration": 4,
    "start_time": "2022-02-09T16:59:40.652Z"
   },
   {
    "duration": 4,
    "start_time": "2022-02-09T16:59:58.622Z"
   },
   {
    "duration": 3,
    "start_time": "2022-02-09T17:00:07.256Z"
   },
   {
    "duration": 30,
    "start_time": "2022-02-09T17:02:28.540Z"
   },
   {
    "duration": 28,
    "start_time": "2022-02-09T17:03:23.438Z"
   },
   {
    "duration": 99,
    "start_time": "2022-02-10T10:53:15.629Z"
   },
   {
    "duration": 469,
    "start_time": "2022-02-10T10:53:27.340Z"
   },
   {
    "duration": 5,
    "start_time": "2022-02-10T10:54:21.741Z"
   },
   {
    "duration": 609,
    "start_time": "2022-02-10T11:01:57.601Z"
   },
   {
    "duration": 100,
    "start_time": "2022-02-10T11:02:49.352Z"
   },
   {
    "duration": 5,
    "start_time": "2022-02-10T11:03:09.615Z"
   },
   {
    "duration": 610,
    "start_time": "2022-02-10T11:03:13.612Z"
   },
   {
    "duration": 6,
    "start_time": "2022-02-10T11:03:32.959Z"
   },
   {
    "duration": 539,
    "start_time": "2022-02-10T11:03:45.845Z"
   },
   {
    "duration": 771,
    "start_time": "2022-02-10T11:04:14.713Z"
   },
   {
    "duration": 168,
    "start_time": "2022-02-10T11:04:15.544Z"
   },
   {
    "duration": 26,
    "start_time": "2022-02-10T11:04:16.439Z"
   },
   {
    "duration": 33,
    "start_time": "2022-02-10T11:04:17.203Z"
   },
   {
    "duration": 6,
    "start_time": "2022-02-10T11:04:19.313Z"
   },
   {
    "duration": 26,
    "start_time": "2022-02-10T11:04:20.412Z"
   },
   {
    "duration": 6,
    "start_time": "2022-02-10T11:04:21.250Z"
   },
   {
    "duration": 29,
    "start_time": "2022-02-10T11:04:22.932Z"
   },
   {
    "duration": 24,
    "start_time": "2022-02-10T11:04:24.110Z"
   },
   {
    "duration": 30,
    "start_time": "2022-02-10T11:04:24.800Z"
   },
   {
    "duration": 87,
    "start_time": "2022-02-10T11:04:26.135Z"
   },
   {
    "duration": 95,
    "start_time": "2022-02-10T11:04:26.787Z"
   },
   {
    "duration": 74,
    "start_time": "2022-02-10T11:04:27.413Z"
   },
   {
    "duration": 56,
    "start_time": "2022-02-10T11:04:28.290Z"
   },
   {
    "duration": 4,
    "start_time": "2022-02-10T11:04:28.845Z"
   },
   {
    "duration": 14,
    "start_time": "2022-02-10T11:04:29.372Z"
   },
   {
    "duration": 56,
    "start_time": "2022-02-10T11:04:30.306Z"
   },
   {
    "duration": 44,
    "start_time": "2022-02-10T11:04:34.273Z"
   },
   {
    "duration": 47,
    "start_time": "2022-02-10T11:04:35.297Z"
   },
   {
    "duration": 5,
    "start_time": "2022-02-10T11:04:39.142Z"
   },
   {
    "duration": 12,
    "start_time": "2022-02-10T11:04:40.977Z"
   },
   {
    "duration": 21,
    "start_time": "2022-02-10T11:07:12.780Z"
   },
   {
    "duration": 21,
    "start_time": "2022-02-10T11:09:01.484Z"
   },
   {
    "duration": 20,
    "start_time": "2022-02-10T11:11:38.954Z"
   },
   {
    "duration": 18,
    "start_time": "2022-02-10T11:11:59.906Z"
   },
   {
    "duration": 19,
    "start_time": "2022-02-10T11:13:19.898Z"
   },
   {
    "duration": 18,
    "start_time": "2022-02-10T11:13:20.806Z"
   },
   {
    "duration": 21,
    "start_time": "2022-02-10T11:13:21.317Z"
   },
   {
    "duration": 21,
    "start_time": "2022-02-10T11:13:21.612Z"
   },
   {
    "duration": 404,
    "start_time": "2022-02-10T11:20:27.883Z"
   },
   {
    "duration": 387,
    "start_time": "2022-02-10T11:21:19.448Z"
   },
   {
    "duration": 369,
    "start_time": "2022-02-10T11:21:37.517Z"
   },
   {
    "duration": 503,
    "start_time": "2022-02-10T11:22:21.208Z"
   },
   {
    "duration": 518,
    "start_time": "2022-02-10T11:22:58.729Z"
   },
   {
    "duration": 13,
    "start_time": "2022-02-10T11:32:37.767Z"
   },
   {
    "duration": 16,
    "start_time": "2022-02-10T11:42:10.986Z"
   },
   {
    "duration": 31,
    "start_time": "2022-02-10T11:42:24.114Z"
   },
   {
    "duration": 8072,
    "start_time": "2022-02-10T11:42:52.489Z"
   },
   {
    "duration": 33,
    "start_time": "2022-02-10T11:43:37.755Z"
   },
   {
    "duration": 31,
    "start_time": "2022-02-10T11:43:59.717Z"
   },
   {
    "duration": 17,
    "start_time": "2022-02-10T11:44:10.894Z"
   },
   {
    "duration": 12,
    "start_time": "2022-02-10T11:44:40.863Z"
   },
   {
    "duration": 92,
    "start_time": "2022-02-10T12:04:15.999Z"
   },
   {
    "duration": 109,
    "start_time": "2022-02-10T12:05:49.644Z"
   },
   {
    "duration": 6,
    "start_time": "2022-02-10T12:05:55.492Z"
   },
   {
    "duration": 30,
    "start_time": "2022-02-10T12:06:56.339Z"
   },
   {
    "duration": 29,
    "start_time": "2022-02-10T12:09:20.917Z"
   },
   {
    "duration": 30,
    "start_time": "2022-02-10T12:09:22.203Z"
   },
   {
    "duration": 28,
    "start_time": "2022-02-10T12:09:23.322Z"
   },
   {
    "duration": 39,
    "start_time": "2022-02-10T12:10:57.146Z"
   },
   {
    "duration": 34,
    "start_time": "2022-02-10T12:12:09.979Z"
   },
   {
    "duration": 33,
    "start_time": "2022-02-10T12:12:25.610Z"
   },
   {
    "duration": 35,
    "start_time": "2022-02-10T12:12:38.904Z"
   },
   {
    "duration": 24,
    "start_time": "2022-02-10T12:12:45.910Z"
   },
   {
    "duration": 6,
    "start_time": "2022-02-10T12:14:17.179Z"
   },
   {
    "duration": 25,
    "start_time": "2022-02-10T12:14:18.604Z"
   },
   {
    "duration": 19,
    "start_time": "2022-02-10T12:14:19.504Z"
   },
   {
    "duration": 24,
    "start_time": "2022-02-10T12:14:20.412Z"
   },
   {
    "duration": 26,
    "start_time": "2022-02-10T12:14:20.913Z"
   },
   {
    "duration": 9,
    "start_time": "2022-02-10T12:14:38.849Z"
   },
   {
    "duration": 26,
    "start_time": "2022-02-10T12:14:39.776Z"
   },
   {
    "duration": 19,
    "start_time": "2022-02-10T12:14:40.178Z"
   },
   {
    "duration": 26,
    "start_time": "2022-02-10T12:14:40.893Z"
   },
   {
    "duration": 19,
    "start_time": "2022-02-10T12:14:41.326Z"
   },
   {
    "duration": 378,
    "start_time": "2022-02-10T12:24:35.910Z"
   },
   {
    "duration": 308,
    "start_time": "2022-02-10T12:25:12.136Z"
   },
   {
    "duration": 18,
    "start_time": "2022-02-10T12:26:31.061Z"
   },
   {
    "duration": 35,
    "start_time": "2022-02-10T12:27:55.244Z"
   },
   {
    "duration": 12,
    "start_time": "2022-02-10T12:28:00.712Z"
   },
   {
    "duration": 16,
    "start_time": "2022-02-10T12:28:32.723Z"
   },
   {
    "duration": 6,
    "start_time": "2022-02-10T12:28:33.463Z"
   },
   {
    "duration": 10,
    "start_time": "2022-02-10T12:30:44.985Z"
   },
   {
    "duration": 6,
    "start_time": "2022-02-10T12:31:55.785Z"
   },
   {
    "duration": 7,
    "start_time": "2022-02-10T12:32:12.248Z"
   },
   {
    "duration": 627,
    "start_time": "2022-02-16T10:08:28.213Z"
   },
   {
    "duration": 121,
    "start_time": "2022-02-16T10:08:28.842Z"
   },
   {
    "duration": 16,
    "start_time": "2022-02-16T10:08:28.968Z"
   },
   {
    "duration": 24,
    "start_time": "2022-02-16T10:08:28.985Z"
   },
   {
    "duration": 3,
    "start_time": "2022-02-16T10:08:29.030Z"
   },
   {
    "duration": 20,
    "start_time": "2022-02-16T10:08:29.035Z"
   },
   {
    "duration": 5,
    "start_time": "2022-02-16T10:08:29.057Z"
   },
   {
    "duration": 22,
    "start_time": "2022-02-16T10:08:29.064Z"
   },
   {
    "duration": 42,
    "start_time": "2022-02-16T10:08:29.088Z"
   },
   {
    "duration": 23,
    "start_time": "2022-02-16T10:08:29.132Z"
   },
   {
    "duration": 56,
    "start_time": "2022-02-16T10:08:29.156Z"
   },
   {
    "duration": 75,
    "start_time": "2022-02-16T10:08:29.213Z"
   },
   {
    "duration": 63,
    "start_time": "2022-02-16T10:08:29.290Z"
   },
   {
    "duration": 38,
    "start_time": "2022-02-16T10:08:29.355Z"
   },
   {
    "duration": 3,
    "start_time": "2022-02-16T10:08:29.395Z"
   },
   {
    "duration": 12,
    "start_time": "2022-02-16T10:08:29.399Z"
   },
   {
    "duration": 56,
    "start_time": "2022-02-16T10:08:29.412Z"
   },
   {
    "duration": 33,
    "start_time": "2022-02-16T10:08:29.470Z"
   },
   {
    "duration": 54,
    "start_time": "2022-02-16T10:08:29.505Z"
   },
   {
    "duration": 3,
    "start_time": "2022-02-16T10:08:29.561Z"
   },
   {
    "duration": 22,
    "start_time": "2022-02-16T10:08:29.566Z"
   },
   {
    "duration": 14,
    "start_time": "2022-02-16T10:08:29.591Z"
   },
   {
    "duration": 35,
    "start_time": "2022-02-16T10:08:29.607Z"
   },
   {
    "duration": 14,
    "start_time": "2022-02-16T10:08:29.644Z"
   },
   {
    "duration": 18,
    "start_time": "2022-02-16T10:08:29.659Z"
   },
   {
    "duration": 13,
    "start_time": "2022-02-16T10:08:29.679Z"
   },
   {
    "duration": 41,
    "start_time": "2022-02-16T10:08:29.693Z"
   },
   {
    "duration": 25,
    "start_time": "2022-02-16T10:08:29.736Z"
   },
   {
    "duration": 17,
    "start_time": "2022-02-16T10:08:29.763Z"
   },
   {
    "duration": 4,
    "start_time": "2022-02-16T10:08:29.782Z"
   },
   {
    "duration": 43,
    "start_time": "2022-02-16T10:08:29.788Z"
   },
   {
    "duration": 12,
    "start_time": "2022-02-16T10:08:29.833Z"
   },
   {
    "duration": 18,
    "start_time": "2022-02-16T10:08:29.847Z"
   },
   {
    "duration": 13,
    "start_time": "2022-02-16T10:08:29.867Z"
   },
   {
    "duration": 9,
    "start_time": "2022-02-16T10:08:29.881Z"
   },
   {
    "duration": 39,
    "start_time": "2022-02-16T10:08:29.891Z"
   },
   {
    "duration": 7,
    "start_time": "2022-02-16T10:08:29.932Z"
   },
   {
    "duration": 5,
    "start_time": "2022-02-16T10:08:29.941Z"
   },
   {
    "duration": 9,
    "start_time": "2022-02-16T10:15:11.296Z"
   },
   {
    "duration": 4,
    "start_time": "2022-02-16T10:22:58.921Z"
   },
   {
    "duration": 2064,
    "start_time": "2022-02-21T10:19:40.579Z"
   },
   {
    "duration": 817,
    "start_time": "2022-02-21T10:20:40.192Z"
   },
   {
    "duration": 425,
    "start_time": "2022-02-21T10:23:21.218Z"
   },
   {
    "duration": 261,
    "start_time": "2022-02-21T10:24:42.816Z"
   },
   {
    "duration": 565,
    "start_time": "2022-02-21T10:27:17.234Z"
   },
   {
    "duration": 574,
    "start_time": "2022-02-21T10:29:16.909Z"
   },
   {
    "duration": 156,
    "start_time": "2022-02-21T10:29:17.809Z"
   },
   {
    "duration": 18,
    "start_time": "2022-02-21T10:29:18.613Z"
   },
   {
    "duration": 10,
    "start_time": "2022-02-21T10:29:21.684Z"
   },
   {
    "duration": 25,
    "start_time": "2022-02-21T10:29:21.705Z"
   },
   {
    "duration": 5,
    "start_time": "2022-02-21T10:29:23.721Z"
   },
   {
    "duration": 23,
    "start_time": "2022-02-21T10:29:25.975Z"
   },
   {
    "duration": 4,
    "start_time": "2022-02-21T10:29:28.004Z"
   },
   {
    "duration": 26,
    "start_time": "2022-02-21T10:29:29.324Z"
   },
   {
    "duration": 19,
    "start_time": "2022-02-21T10:29:31.561Z"
   },
   {
    "duration": 24,
    "start_time": "2022-02-21T10:29:34.556Z"
   },
   {
    "duration": 61,
    "start_time": "2022-02-21T10:29:37.140Z"
   },
   {
    "duration": 79,
    "start_time": "2022-02-21T10:29:55.798Z"
   },
   {
    "duration": 63,
    "start_time": "2022-02-21T10:29:55.879Z"
   },
   {
    "duration": 42,
    "start_time": "2022-02-21T10:29:59.941Z"
   },
   {
    "duration": 4,
    "start_time": "2022-02-21T10:30:01.957Z"
   },
   {
    "duration": 61,
    "start_time": "2022-02-21T12:46:35.036Z"
   },
   {
    "duration": 2,
    "start_time": "2022-02-21T12:48:35.249Z"
   },
   {
    "duration": 5,
    "start_time": "2022-02-21T13:02:15.767Z"
   },
   {
    "duration": 4,
    "start_time": "2022-02-21T13:02:22.400Z"
   },
   {
    "duration": 3,
    "start_time": "2022-02-21T13:02:45.081Z"
   },
   {
    "duration": 143,
    "start_time": "2022-02-21T13:02:45.126Z"
   },
   {
    "duration": 11,
    "start_time": "2022-02-21T13:02:45.932Z"
   },
   {
    "duration": 10,
    "start_time": "2022-02-21T13:02:48.667Z"
   },
   {
    "duration": 31,
    "start_time": "2022-02-21T13:02:50.132Z"
   },
   {
    "duration": 5,
    "start_time": "2022-02-21T13:02:54.516Z"
   },
   {
    "duration": 31,
    "start_time": "2022-02-21T13:02:57.262Z"
   },
   {
    "duration": 4,
    "start_time": "2022-02-21T13:02:58.845Z"
   },
   {
    "duration": 25,
    "start_time": "2022-02-21T13:03:00.963Z"
   },
   {
    "duration": 21,
    "start_time": "2022-02-21T13:03:02.810Z"
   },
   {
    "duration": 26,
    "start_time": "2022-02-21T13:03:05.110Z"
   },
   {
    "duration": 64,
    "start_time": "2022-02-21T13:03:10.462Z"
   },
   {
    "duration": 69,
    "start_time": "2022-02-21T13:03:12.886Z"
   },
   {
    "duration": 78,
    "start_time": "2022-02-21T13:03:13.356Z"
   },
   {
    "duration": 38,
    "start_time": "2022-02-21T13:03:14.941Z"
   },
   {
    "duration": 5,
    "start_time": "2022-02-21T13:03:15.617Z"
   },
   {
    "duration": 4,
    "start_time": "2022-02-21T13:03:18.290Z"
   },
   {
    "duration": 10,
    "start_time": "2022-02-21T13:03:20.036Z"
   },
   {
    "duration": 44,
    "start_time": "2022-02-21T13:03:21.354Z"
   },
   {
    "duration": 4,
    "start_time": "2022-02-21T13:03:25.567Z"
   },
   {
    "duration": 4,
    "start_time": "2022-02-21T13:03:45.217Z"
   },
   {
    "duration": 5,
    "start_time": "2022-02-21T13:03:53.651Z"
   },
   {
    "duration": 5,
    "start_time": "2022-02-21T13:03:59.484Z"
   },
   {
    "duration": 11,
    "start_time": "2022-02-21T13:04:10.857Z"
   },
   {
    "duration": 39,
    "start_time": "2022-02-21T13:04:15.641Z"
   },
   {
    "duration": 5,
    "start_time": "2022-02-21T13:04:16.287Z"
   },
   {
    "duration": 3,
    "start_time": "2022-02-21T13:04:19.817Z"
   },
   {
    "duration": 10,
    "start_time": "2022-02-21T13:04:22.704Z"
   },
   {
    "duration": 41,
    "start_time": "2022-02-21T13:04:25.613Z"
   },
   {
    "duration": 5,
    "start_time": "2022-02-21T13:04:37.398Z"
   },
   {
    "duration": 3,
    "start_time": "2022-02-21T13:04:49.912Z"
   },
   {
    "duration": 5,
    "start_time": "2022-02-21T13:04:58.120Z"
   },
   {
    "duration": 13,
    "start_time": "2022-02-21T13:05:31.015Z"
   },
   {
    "duration": 12,
    "start_time": "2022-02-21T13:07:42.804Z"
   },
   {
    "duration": 3,
    "start_time": "2022-02-21T13:10:45.116Z"
   },
   {
    "duration": 32,
    "start_time": "2022-02-21T13:10:45.121Z"
   },
   {
    "duration": 17,
    "start_time": "2022-02-21T13:10:45.155Z"
   },
   {
    "duration": 17,
    "start_time": "2022-02-21T13:10:45.174Z"
   },
   {
    "duration": 18,
    "start_time": "2022-02-21T13:10:45.352Z"
   },
   {
    "duration": 19,
    "start_time": "2022-02-21T13:10:45.568Z"
   },
   {
    "duration": 17,
    "start_time": "2022-02-21T13:10:45.760Z"
   },
   {
    "duration": 4,
    "start_time": "2022-02-21T13:10:48.879Z"
   },
   {
    "duration": 29,
    "start_time": "2022-02-21T13:10:57.034Z"
   },
   {
    "duration": 22,
    "start_time": "2022-02-21T13:10:57.065Z"
   },
   {
    "duration": 30,
    "start_time": "2022-02-21T13:13:47.383Z"
   },
   {
    "duration": 20,
    "start_time": "2022-02-21T13:14:09.730Z"
   },
   {
    "duration": 4,
    "start_time": "2022-02-21T13:18:08.714Z"
   },
   {
    "duration": 19,
    "start_time": "2022-02-21T13:18:12.262Z"
   },
   {
    "duration": 15,
    "start_time": "2022-02-21T13:18:14.284Z"
   },
   {
    "duration": 4,
    "start_time": "2022-02-21T13:18:38.055Z"
   },
   {
    "duration": 20,
    "start_time": "2022-02-21T13:18:39.742Z"
   },
   {
    "duration": 4,
    "start_time": "2022-02-21T13:18:48.051Z"
   },
   {
    "duration": 19,
    "start_time": "2022-02-21T13:18:49.007Z"
   },
   {
    "duration": 4,
    "start_time": "2022-02-21T13:21:11.004Z"
   },
   {
    "duration": 18,
    "start_time": "2022-02-21T13:23:41.575Z"
   },
   {
    "duration": 13,
    "start_time": "2022-02-21T13:23:41.777Z"
   },
   {
    "duration": 20,
    "start_time": "2022-02-21T13:23:41.986Z"
   },
   {
    "duration": 14,
    "start_time": "2022-02-21T13:23:42.169Z"
   },
   {
    "duration": 11,
    "start_time": "2022-02-21T13:23:43.921Z"
   },
   {
    "duration": 6,
    "start_time": "2022-02-21T13:23:44.543Z"
   },
   {
    "duration": 7,
    "start_time": "2022-02-21T13:23:45.676Z"
   },
   {
    "duration": 5,
    "start_time": "2022-02-21T13:23:46.285Z"
   }
  ],
  "colab": {
   "collapsed_sections": [
    "E0vqbgi9ay0H",
    "VUC88oWjTJw2"
   ],
   "name": "yandex_music_project_2021.2.ipynb",
   "provenance": []
  },
  "kernelspec": {
   "display_name": "Python 3 (ipykernel)",
   "language": "python",
   "name": "python3"
  },
  "language_info": {
   "codemirror_mode": {
    "name": "ipython",
    "version": 3
   },
   "file_extension": ".py",
   "mimetype": "text/x-python",
   "name": "python",
   "nbconvert_exporter": "python",
   "pygments_lexer": "ipython3",
   "version": "3.7.8"
  },
  "toc": {
   "base_numbering": 1,
   "nav_menu": {},
   "number_sections": true,
   "sideBar": true,
   "skip_h1_title": true,
   "title_cell": "Table of Contents",
   "title_sidebar": "Contents",
   "toc_cell": false,
   "toc_position": {},
   "toc_section_display": true,
   "toc_window_display": false
  }
 },
 "nbformat": 4,
 "nbformat_minor": 1
}
