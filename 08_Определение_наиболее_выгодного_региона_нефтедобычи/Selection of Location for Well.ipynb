{
 "cells": [
  {
   "cell_type": "markdown",
   "metadata": {},
   "source": [
    "# Выбор локации для скважины"
   ]
  },
  {
   "cell_type": "markdown",
   "metadata": {},
   "source": [
    "Допустим, вы работаете в добывающей компании «ГлавРосГосНефть». Нужно решить, где бурить новую скважину.\n",
    "\n",
    "Вам предоставлены пробы нефти в трёх регионах: в каждом 10 000 месторождений, где измерили качество нефти и объём её запасов. Постройте модель машинного обучения, которая поможет определить регион, где добыча принесёт наибольшую прибыль. Проанализируйте возможную прибыль и риски техникой *Bootstrap.*\n",
    "\n",
    "Шаги для выбора локации:\n",
    "\n",
    "- В избранном регионе ищут месторождения, для каждого определяют значения признаков;\n",
    "- Строят модель и оценивают объём запасов;\n",
    "- Выбирают месторождения с самым высокими оценками значений. Количество месторождений зависит от бюджета компании и стоимости разработки одной скважины;\n",
    "- Прибыль равна суммарной прибыли отобранных месторождений."
   ]
  },
  {
   "cell_type": "markdown",
   "metadata": {},
   "source": [
    "**План работ**\n",
    "\n",
    "1. Загрузка и подготовка данных.\n",
    "2. Обучение и проверка модели для каждого региона:\n",
    "    * Разбейте данные на обучающую и валидационную выборки в соотношении 75:25.\n",
    "    * Обучите модель и сделайте предсказания на валидационной выборке.\n",
    "    * Сохраните предсказания и правильные ответы на валидационной выборке.\n",
    "    * Напечатайте на экране средний запас предсказанного сырья и RMSE модели.\n",
    "    * Проанализируйте результаты.\n",
    "\n",
    "    \n",
    "3. Расчет прибыли:\n",
    "    * Все ключевые значения для расчётов сохраните в отдельных переменных.\n",
    "    * Рассчитайте достаточный объём сырья для безубыточной разработки новой скважины. Сравните полученный объём сырья со средним запасом в каждом регионе.\n",
    "    * Напишите выводы по этапу подготовки расчёта прибыли.\n",
    "\n",
    "\n",
    "4. Сделать функцию для расчёта прибыли по выбранным скважинам и предсказаниям модели:\n",
    "    * Выберите скважины с максимальными значениями предсказаний.\n",
    "    * Просуммируйте целевое значение объёма сырья, соответствующее этим предсказаниям.\n",
    "    * Рассчитайте прибыль для полученного объёма сырья.\n",
    "\n",
    "\n",
    "5. Посчитать риски и прибыль для каждого региона:\n",
    "    * Примените технику Bootstrap с 1000 выборок, чтобы найти распределение прибыли.\n",
    "    * Найдите среднюю прибыль, 95%-й доверительный интервал и риск убытков. Убыток — это отрицательная прибыль.\n",
    "    * Напишите выводы: предложите регион для разработки скважин и обоснуйте выбор."
   ]
  },
  {
   "cell_type": "markdown",
   "metadata": {},
   "source": [
    "## Загрузка и подготовка данных"
   ]
  },
  {
   "cell_type": "code",
   "execution_count": 1,
   "metadata": {},
   "outputs": [],
   "source": [
    "# импортируем модули\n",
    "import pandas as pd\n",
    "# Импортируем функцию делить выборку на валидационнную и тренировочную\n",
    "from sklearn.model_selection import train_test_split\n",
    "# стандартизация\n",
    "from sklearn.preprocessing import StandardScaler\n",
    "# логичтическая регрессия\n",
    "# матрица ошибок\n",
    "from sklearn.metrics import confusion_matrix\n",
    "# Линейная регрессия\n",
    "from sklearn.linear_model import LinearRegression\n",
    "# метрика accuracy_score\n",
    "from sklearn.metrics import accuracy_score, mean_squared_error\n",
    "from scipy import stats as st\n",
    "import numpy as np\n",
    "import matplotlib.pyplot as plt\n",
    "import seaborn as sns"
   ]
  },
  {
   "cell_type": "code",
   "execution_count": 2,
   "metadata": {},
   "outputs": [],
   "source": [
    "# Отображение всех столбцов\n",
    "pd.set_option('display.max_columns', None)\n",
    "# Два знака после запятой \n",
    "pd.options.display.float_format = '{:,.2f}'.format"
   ]
  },
  {
   "cell_type": "code",
   "execution_count": 3,
   "metadata": {},
   "outputs": [],
   "source": [
    "geo_data_0 = pd.read_csv('/datasets/geo_data_0.csv')\n",
    "geo_data_1 = pd.read_csv('/datasets/geo_data_1.csv')\n",
    "geo_data_2 = pd.read_csv('/datasets/geo_data_2.csv')"
   ]
  },
  {
   "cell_type": "code",
   "execution_count": 4,
   "metadata": {},
   "outputs": [],
   "source": [
    "# Информация о датсетах: пропуски, дубликаты\n",
    "def about_data(data):\n",
    "    print('Информация о датасете: \\n')\n",
    "    print(data.info(), '\\n')\n",
    "    print('Статистические данные: \\n')\n",
    "    print(data.describe(), '\\n')\n",
    "    print('Наличие дубликатов: \\n')\n",
    "    print(data.duplicated().sum(), '\\n')\n",
    "    print('Наличие пропусков: \\n')\n",
    "    print(data.isna().sum(), '\\n')    \n",
    "    print('5 разных строк: \\n')\n",
    "    print(data.sample(5), '\\n')"
   ]
  },
  {
   "cell_type": "code",
   "execution_count": 5,
   "metadata": {},
   "outputs": [
    {
     "name": "stdout",
     "output_type": "stream",
     "text": [
      "Информация о датасете: \n",
      "\n",
      "<class 'pandas.core.frame.DataFrame'>\n",
      "RangeIndex: 100000 entries, 0 to 99999\n",
      "Data columns (total 5 columns):\n",
      " #   Column   Non-Null Count   Dtype  \n",
      "---  ------   --------------   -----  \n",
      " 0   id       100000 non-null  object \n",
      " 1   f0       100000 non-null  float64\n",
      " 2   f1       100000 non-null  float64\n",
      " 3   f2       100000 non-null  float64\n",
      " 4   product  100000 non-null  float64\n",
      "dtypes: float64(4), object(1)\n",
      "memory usage: 3.8+ MB\n",
      "None \n",
      "\n",
      "Статистические данные: \n",
      "\n",
      "              f0         f1         f2    product\n",
      "count 100,000.00 100,000.00 100,000.00 100,000.00\n",
      "mean        0.50       0.25       2.50      92.50\n",
      "std         0.87       0.50       3.25      44.29\n",
      "min        -1.41      -0.85     -12.09       0.00\n",
      "25%        -0.07      -0.20       0.29      56.50\n",
      "50%         0.50       0.25       2.52      91.85\n",
      "75%         1.07       0.70       4.72     128.56\n",
      "max         2.36       1.34      16.00     185.36 \n",
      "\n",
      "Наличие дубликатов: \n",
      "\n",
      "0 \n",
      "\n",
      "Наличие пропусков: \n",
      "\n",
      "id         0\n",
      "f0         0\n",
      "f1         0\n",
      "f2         0\n",
      "product    0\n",
      "dtype: int64 \n",
      "\n",
      "5 разных строк: \n",
      "\n",
      "          id   f0    f1   f2  product\n",
      "68741  bfyXv 0.10  0.03 6.43   168.68\n",
      "77112  LaNoY 0.66  0.61 0.15    77.66\n",
      "89577  t0Bb3 1.30 -0.41 6.45   109.89\n",
      "49572  ykhgz 0.95  0.05 0.98    81.84\n",
      "30076  8PlWh 0.47 -0.36 2.14   112.35 \n",
      "\n"
     ]
    }
   ],
   "source": [
    "about_data(geo_data_0)"
   ]
  },
  {
   "cell_type": "code",
   "execution_count": 6,
   "metadata": {},
   "outputs": [
    {
     "name": "stdout",
     "output_type": "stream",
     "text": [
      "Информация о датасете: \n",
      "\n",
      "<class 'pandas.core.frame.DataFrame'>\n",
      "RangeIndex: 100000 entries, 0 to 99999\n",
      "Data columns (total 5 columns):\n",
      " #   Column   Non-Null Count   Dtype  \n",
      "---  ------   --------------   -----  \n",
      " 0   id       100000 non-null  object \n",
      " 1   f0       100000 non-null  float64\n",
      " 2   f1       100000 non-null  float64\n",
      " 3   f2       100000 non-null  float64\n",
      " 4   product  100000 non-null  float64\n",
      "dtypes: float64(4), object(1)\n",
      "memory usage: 3.8+ MB\n",
      "None \n",
      "\n",
      "Статистические данные: \n",
      "\n",
      "              f0         f1         f2    product\n",
      "count 100,000.00 100,000.00 100,000.00 100,000.00\n",
      "mean        1.14      -4.80       2.49      68.83\n",
      "std         8.97       5.12       1.70      45.94\n",
      "min       -31.61     -26.36      -0.02       0.00\n",
      "25%        -6.30      -8.27       1.00      26.95\n",
      "50%         1.15      -4.81       2.01      57.09\n",
      "75%         8.62      -1.33       4.00     107.81\n",
      "max        29.42      18.73       5.02     137.95 \n",
      "\n",
      "Наличие дубликатов: \n",
      "\n",
      "0 \n",
      "\n",
      "Наличие пропусков: \n",
      "\n",
      "id         0\n",
      "f0         0\n",
      "f1         0\n",
      "f2         0\n",
      "product    0\n",
      "dtype: int64 \n",
      "\n",
      "5 разных строк: \n",
      "\n",
      "          id     f0    f1   f2  product\n",
      "83818  NgrKL  -1.82  3.45 2.01    57.09\n",
      "13796  Br8Sn  13.88 -1.75 5.01   134.77\n",
      "17929  sgqG1  -6.16 -9.07 2.00    57.09\n",
      "85188  2ZIPx  -6.94 -7.33 2.00    57.09\n",
      "56588  qq2Mw -15.34 -3.09 1.00    30.13 \n",
      "\n"
     ]
    }
   ],
   "source": [
    "about_data(geo_data_1)"
   ]
  },
  {
   "cell_type": "code",
   "execution_count": 7,
   "metadata": {},
   "outputs": [
    {
     "name": "stdout",
     "output_type": "stream",
     "text": [
      "Информация о датасете: \n",
      "\n",
      "<class 'pandas.core.frame.DataFrame'>\n",
      "RangeIndex: 100000 entries, 0 to 99999\n",
      "Data columns (total 5 columns):\n",
      " #   Column   Non-Null Count   Dtype  \n",
      "---  ------   --------------   -----  \n",
      " 0   id       100000 non-null  object \n",
      " 1   f0       100000 non-null  float64\n",
      " 2   f1       100000 non-null  float64\n",
      " 3   f2       100000 non-null  float64\n",
      " 4   product  100000 non-null  float64\n",
      "dtypes: float64(4), object(1)\n",
      "memory usage: 3.8+ MB\n",
      "None \n",
      "\n",
      "Статистические данные: \n",
      "\n",
      "              f0         f1         f2    product\n",
      "count 100,000.00 100,000.00 100,000.00 100,000.00\n",
      "mean        0.00      -0.00       2.50      95.00\n",
      "std         1.73       1.73       3.47      44.75\n",
      "min        -8.76      -7.08     -11.97       0.00\n",
      "25%        -1.16      -1.17       0.13      59.45\n",
      "50%         0.01      -0.01       2.48      94.93\n",
      "75%         1.16       1.16       4.86     130.60\n",
      "max         7.24       7.84      16.74     190.03 \n",
      "\n",
      "Наличие дубликатов: \n",
      "\n",
      "0 \n",
      "\n",
      "Наличие пропусков: \n",
      "\n",
      "id         0\n",
      "f0         0\n",
      "f1         0\n",
      "f2         0\n",
      "product    0\n",
      "dtype: int64 \n",
      "\n",
      "5 разных строк: \n",
      "\n",
      "          id    f0    f1    f2  product\n",
      "67482  OVzaq -3.30 -2.62  6.13   134.78\n",
      "64437  pVwmA -3.63  0.59  5.94   181.36\n",
      "34176  SfGMZ  1.27 -0.12  2.16    79.24\n",
      "3211   Obm5H -1.28  0.03  3.55   110.12\n",
      "8940   dLZaG -0.02  2.28 -2.91    47.25 \n",
      "\n"
     ]
    }
   ],
   "source": [
    "about_data(geo_data_2)"
   ]
  },
  {
   "cell_type": "markdown",
   "metadata": {},
   "source": [
    "Данные геологоразведки трёх регионов подгружены и содержат данные в столбцах:\n",
    "\n",
    "*\tid — уникальный идентификатор скважины;\n",
    "*\tf0, f1, f2 — три признака точек (неважно, что они означают, но сами признаки значимы);\n",
    "*\tproduct — объём запасов в скважине (тыс. баррелей).\n"
   ]
  },
  {
   "cell_type": "markdown",
   "metadata": {},
   "source": [
    "Дубликатов не, пропуски данных отсутсвуют\n",
    "\n"
   ]
  },
  {
   "cell_type": "code",
   "execution_count": 8,
   "metadata": {},
   "outputs": [
    {
     "data": {
      "text/plain": [
       "id         1\n",
       "f0         1\n",
       "f1         1\n",
       "f2         1\n",
       "product    1\n",
       "dtype: int64"
      ]
     },
     "execution_count": 8,
     "metadata": {},
     "output_type": "execute_result"
    }
   ],
   "source": [
    "# Количество пустых скважин. Первый датасет\n",
    "geo_data_0.loc[geo_data_0['product'] == 0].count()"
   ]
  },
  {
   "cell_type": "code",
   "execution_count": 9,
   "metadata": {},
   "outputs": [
    {
     "data": {
      "text/plain": [
       "id         8235\n",
       "f0         8235\n",
       "f1         8235\n",
       "f2         8235\n",
       "product    8235\n",
       "dtype: int64"
      ]
     },
     "execution_count": 9,
     "metadata": {},
     "output_type": "execute_result"
    }
   ],
   "source": [
    "# Количество пустых скважин. Второй датасет\n",
    "geo_data_1.loc[geo_data_1['product'] == 0].count()"
   ]
  },
  {
   "cell_type": "code",
   "execution_count": 10,
   "metadata": {},
   "outputs": [
    {
     "data": {
      "text/plain": [
       "id         1\n",
       "f0         1\n",
       "f1         1\n",
       "f2         1\n",
       "product    1\n",
       "dtype: int64"
      ]
     },
     "execution_count": 10,
     "metadata": {},
     "output_type": "execute_result"
    }
   ],
   "source": [
    "# Количество пустых скважин. Третий датасет\n",
    "geo_data_2.loc[geo_data_2['product'] == 0].count()"
   ]
  },
  {
   "cell_type": "markdown",
   "metadata": {},
   "source": [
    "Судя по количеству пустых скважин - второй регион самый бедный по наличию нефти в этом случае. 8235  вышек без нефти"
   ]
  },
  {
   "cell_type": "code",
   "execution_count": 11,
   "metadata": {},
   "outputs": [
    {
     "data": {
      "text/plain": [
       "99990"
      ]
     },
     "execution_count": 11,
     "metadata": {},
     "output_type": "execute_result"
    }
   ],
   "source": [
    "# Посмотрим уникальные значения в столбце id  в датасете geo_data_0\n",
    "len(geo_data_0['id'].unique())"
   ]
  },
  {
   "cell_type": "code",
   "execution_count": 12,
   "metadata": {},
   "outputs": [
    {
     "data": {
      "text/plain": [
       "99996"
      ]
     },
     "execution_count": 12,
     "metadata": {},
     "output_type": "execute_result"
    }
   ],
   "source": [
    "# Посмотрим уникальные значения в столбце id  в датасетах geo_data_1\n",
    "len(geo_data_1['id'].unique())"
   ]
  },
  {
   "cell_type": "code",
   "execution_count": 13,
   "metadata": {},
   "outputs": [
    {
     "data": {
      "text/plain": [
       "99996"
      ]
     },
     "execution_count": 13,
     "metadata": {},
     "output_type": "execute_result"
    }
   ],
   "source": [
    "# Посмотрим уникальные значения в столбце id  в датасетах geo_data_2\n",
    "len(geo_data_2['id'].unique())"
   ]
  },
  {
   "cell_type": "code",
   "execution_count": 14,
   "metadata": {},
   "outputs": [],
   "source": [
    "list_unique_0 = list(geo_data_0['id'].value_counts().head(10).index)\n",
    "list_unique_1 = list(geo_data_1['id'].value_counts().head(4).index)\n",
    "list_unique_2 = list(geo_data_2['id'].value_counts().head(4).index)"
   ]
  },
  {
   "cell_type": "code",
   "execution_count": 15,
   "metadata": {},
   "outputs": [
    {
     "data": {
      "text/html": [
       "<div>\n",
       "<style scoped>\n",
       "    .dataframe tbody tr th:only-of-type {\n",
       "        vertical-align: middle;\n",
       "    }\n",
       "\n",
       "    .dataframe tbody tr th {\n",
       "        vertical-align: top;\n",
       "    }\n",
       "\n",
       "    .dataframe thead th {\n",
       "        text-align: right;\n",
       "    }\n",
       "</style>\n",
       "<table border=\"1\" class=\"dataframe\">\n",
       "  <thead>\n",
       "    <tr style=\"text-align: right;\">\n",
       "      <th></th>\n",
       "      <th>id</th>\n",
       "      <th>f0</th>\n",
       "      <th>f1</th>\n",
       "      <th>f2</th>\n",
       "      <th>product</th>\n",
       "    </tr>\n",
       "  </thead>\n",
       "  <tbody>\n",
       "    <tr>\n",
       "      <th>66136</th>\n",
       "      <td>74z30</td>\n",
       "      <td>1.08</td>\n",
       "      <td>-0.31</td>\n",
       "      <td>6.99</td>\n",
       "      <td>127.64</td>\n",
       "    </tr>\n",
       "    <tr>\n",
       "      <th>64022</th>\n",
       "      <td>74z30</td>\n",
       "      <td>0.74</td>\n",
       "      <td>0.46</td>\n",
       "      <td>5.15</td>\n",
       "      <td>140.77</td>\n",
       "    </tr>\n",
       "    <tr>\n",
       "      <th>51970</th>\n",
       "      <td>A5aEY</td>\n",
       "      <td>-0.18</td>\n",
       "      <td>0.94</td>\n",
       "      <td>-2.09</td>\n",
       "      <td>33.02</td>\n",
       "    </tr>\n",
       "    <tr>\n",
       "      <th>3389</th>\n",
       "      <td>A5aEY</td>\n",
       "      <td>-0.04</td>\n",
       "      <td>0.16</td>\n",
       "      <td>0.21</td>\n",
       "      <td>89.25</td>\n",
       "    </tr>\n",
       "    <tr>\n",
       "      <th>69163</th>\n",
       "      <td>AGS9W</td>\n",
       "      <td>-0.93</td>\n",
       "      <td>0.12</td>\n",
       "      <td>-3.66</td>\n",
       "      <td>19.23</td>\n",
       "    </tr>\n",
       "    <tr>\n",
       "      <th>42529</th>\n",
       "      <td>AGS9W</td>\n",
       "      <td>1.45</td>\n",
       "      <td>-0.48</td>\n",
       "      <td>0.68</td>\n",
       "      <td>126.37</td>\n",
       "    </tr>\n",
       "    <tr>\n",
       "      <th>931</th>\n",
       "      <td>HZww2</td>\n",
       "      <td>0.76</td>\n",
       "      <td>0.37</td>\n",
       "      <td>1.86</td>\n",
       "      <td>30.68</td>\n",
       "    </tr>\n",
       "    <tr>\n",
       "      <th>7530</th>\n",
       "      <td>HZww2</td>\n",
       "      <td>1.06</td>\n",
       "      <td>-0.37</td>\n",
       "      <td>10.43</td>\n",
       "      <td>158.83</td>\n",
       "    </tr>\n",
       "    <tr>\n",
       "      <th>63593</th>\n",
       "      <td>QcMuo</td>\n",
       "      <td>0.64</td>\n",
       "      <td>-0.47</td>\n",
       "      <td>0.86</td>\n",
       "      <td>64.58</td>\n",
       "    </tr>\n",
       "    <tr>\n",
       "      <th>1949</th>\n",
       "      <td>QcMuo</td>\n",
       "      <td>0.51</td>\n",
       "      <td>-0.32</td>\n",
       "      <td>-2.22</td>\n",
       "      <td>75.50</td>\n",
       "    </tr>\n",
       "    <tr>\n",
       "      <th>75715</th>\n",
       "      <td>Tdehs</td>\n",
       "      <td>0.11</td>\n",
       "      <td>0.43</td>\n",
       "      <td>3.22</td>\n",
       "      <td>60.96</td>\n",
       "    </tr>\n",
       "    <tr>\n",
       "      <th>21426</th>\n",
       "      <td>Tdehs</td>\n",
       "      <td>0.83</td>\n",
       "      <td>0.30</td>\n",
       "      <td>-0.05</td>\n",
       "      <td>96.04</td>\n",
       "    </tr>\n",
       "    <tr>\n",
       "      <th>92341</th>\n",
       "      <td>TtcGQ</td>\n",
       "      <td>0.11</td>\n",
       "      <td>1.02</td>\n",
       "      <td>0.91</td>\n",
       "      <td>101.32</td>\n",
       "    </tr>\n",
       "    <tr>\n",
       "      <th>60140</th>\n",
       "      <td>TtcGQ</td>\n",
       "      <td>0.57</td>\n",
       "      <td>-0.10</td>\n",
       "      <td>6.44</td>\n",
       "      <td>85.35</td>\n",
       "    </tr>\n",
       "    <tr>\n",
       "      <th>89582</th>\n",
       "      <td>bsk9y</td>\n",
       "      <td>0.40</td>\n",
       "      <td>-0.40</td>\n",
       "      <td>10.12</td>\n",
       "      <td>163.43</td>\n",
       "    </tr>\n",
       "    <tr>\n",
       "      <th>97785</th>\n",
       "      <td>bsk9y</td>\n",
       "      <td>0.38</td>\n",
       "      <td>0.01</td>\n",
       "      <td>0.16</td>\n",
       "      <td>160.64</td>\n",
       "    </tr>\n",
       "    <tr>\n",
       "      <th>41724</th>\n",
       "      <td>bxg6G</td>\n",
       "      <td>-0.82</td>\n",
       "      <td>0.55</td>\n",
       "      <td>3.63</td>\n",
       "      <td>93.01</td>\n",
       "    </tr>\n",
       "    <tr>\n",
       "      <th>1364</th>\n",
       "      <td>bxg6G</td>\n",
       "      <td>0.41</td>\n",
       "      <td>0.86</td>\n",
       "      <td>-3.65</td>\n",
       "      <td>73.60</td>\n",
       "    </tr>\n",
       "    <tr>\n",
       "      <th>16633</th>\n",
       "      <td>fiKDv</td>\n",
       "      <td>0.16</td>\n",
       "      <td>1.03</td>\n",
       "      <td>5.59</td>\n",
       "      <td>95.82</td>\n",
       "    </tr>\n",
       "    <tr>\n",
       "      <th>90815</th>\n",
       "      <td>fiKDv</td>\n",
       "      <td>0.05</td>\n",
       "      <td>0.84</td>\n",
       "      <td>6.39</td>\n",
       "      <td>137.35</td>\n",
       "    </tr>\n",
       "  </tbody>\n",
       "</table>\n",
       "</div>"
      ],
      "text/plain": [
       "          id    f0    f1    f2  product\n",
       "66136  74z30  1.08 -0.31  6.99   127.64\n",
       "64022  74z30  0.74  0.46  5.15   140.77\n",
       "51970  A5aEY -0.18  0.94 -2.09    33.02\n",
       "3389   A5aEY -0.04  0.16  0.21    89.25\n",
       "69163  AGS9W -0.93  0.12 -3.66    19.23\n",
       "42529  AGS9W  1.45 -0.48  0.68   126.37\n",
       "931    HZww2  0.76  0.37  1.86    30.68\n",
       "7530   HZww2  1.06 -0.37 10.43   158.83\n",
       "63593  QcMuo  0.64 -0.47  0.86    64.58\n",
       "1949   QcMuo  0.51 -0.32 -2.22    75.50\n",
       "75715  Tdehs  0.11  0.43  3.22    60.96\n",
       "21426  Tdehs  0.83  0.30 -0.05    96.04\n",
       "92341  TtcGQ  0.11  1.02  0.91   101.32\n",
       "60140  TtcGQ  0.57 -0.10  6.44    85.35\n",
       "89582  bsk9y  0.40 -0.40 10.12   163.43\n",
       "97785  bsk9y  0.38  0.01  0.16   160.64\n",
       "41724  bxg6G -0.82  0.55  3.63    93.01\n",
       "1364   bxg6G  0.41  0.86 -3.65    73.60\n",
       "16633  fiKDv  0.16  1.03  5.59    95.82\n",
       "90815  fiKDv  0.05  0.84  6.39   137.35"
      ]
     },
     "execution_count": 15,
     "metadata": {},
     "output_type": "execute_result"
    }
   ],
   "source": [
    "geo_data_0[geo_data_0['id'].isin(list_unique_0)].sort_values('id')"
   ]
  },
  {
   "cell_type": "code",
   "execution_count": 16,
   "metadata": {},
   "outputs": [
    {
     "data": {
      "text/html": [
       "<div>\n",
       "<style scoped>\n",
       "    .dataframe tbody tr th:only-of-type {\n",
       "        vertical-align: middle;\n",
       "    }\n",
       "\n",
       "    .dataframe tbody tr th {\n",
       "        vertical-align: top;\n",
       "    }\n",
       "\n",
       "    .dataframe thead th {\n",
       "        text-align: right;\n",
       "    }\n",
       "</style>\n",
       "<table border=\"1\" class=\"dataframe\">\n",
       "  <thead>\n",
       "    <tr style=\"text-align: right;\">\n",
       "      <th></th>\n",
       "      <th>id</th>\n",
       "      <th>f0</th>\n",
       "      <th>f1</th>\n",
       "      <th>f2</th>\n",
       "      <th>product</th>\n",
       "    </tr>\n",
       "  </thead>\n",
       "  <tbody>\n",
       "    <tr>\n",
       "      <th>5849</th>\n",
       "      <td>5ltQ6</td>\n",
       "      <td>-3.44</td>\n",
       "      <td>-12.30</td>\n",
       "      <td>2.00</td>\n",
       "      <td>57.09</td>\n",
       "    </tr>\n",
       "    <tr>\n",
       "      <th>84461</th>\n",
       "      <td>5ltQ6</td>\n",
       "      <td>18.21</td>\n",
       "      <td>2.19</td>\n",
       "      <td>3.99</td>\n",
       "      <td>107.81</td>\n",
       "    </tr>\n",
       "    <tr>\n",
       "      <th>1305</th>\n",
       "      <td>LHZR0</td>\n",
       "      <td>11.17</td>\n",
       "      <td>-1.95</td>\n",
       "      <td>3.00</td>\n",
       "      <td>80.86</td>\n",
       "    </tr>\n",
       "    <tr>\n",
       "      <th>41906</th>\n",
       "      <td>LHZR0</td>\n",
       "      <td>-8.99</td>\n",
       "      <td>-4.29</td>\n",
       "      <td>2.01</td>\n",
       "      <td>57.09</td>\n",
       "    </tr>\n",
       "    <tr>\n",
       "      <th>2721</th>\n",
       "      <td>bfPNe</td>\n",
       "      <td>-9.49</td>\n",
       "      <td>-5.46</td>\n",
       "      <td>4.01</td>\n",
       "      <td>110.99</td>\n",
       "    </tr>\n",
       "    <tr>\n",
       "      <th>82178</th>\n",
       "      <td>bfPNe</td>\n",
       "      <td>-6.20</td>\n",
       "      <td>-4.82</td>\n",
       "      <td>3.00</td>\n",
       "      <td>84.04</td>\n",
       "    </tr>\n",
       "    <tr>\n",
       "      <th>47591</th>\n",
       "      <td>wt4Uk</td>\n",
       "      <td>-9.09</td>\n",
       "      <td>-8.11</td>\n",
       "      <td>-0.00</td>\n",
       "      <td>3.18</td>\n",
       "    </tr>\n",
       "    <tr>\n",
       "      <th>82873</th>\n",
       "      <td>wt4Uk</td>\n",
       "      <td>10.26</td>\n",
       "      <td>-9.38</td>\n",
       "      <td>4.99</td>\n",
       "      <td>134.77</td>\n",
       "    </tr>\n",
       "  </tbody>\n",
       "</table>\n",
       "</div>"
      ],
      "text/plain": [
       "          id    f0     f1    f2  product\n",
       "5849   5ltQ6 -3.44 -12.30  2.00    57.09\n",
       "84461  5ltQ6 18.21   2.19  3.99   107.81\n",
       "1305   LHZR0 11.17  -1.95  3.00    80.86\n",
       "41906  LHZR0 -8.99  -4.29  2.01    57.09\n",
       "2721   bfPNe -9.49  -5.46  4.01   110.99\n",
       "82178  bfPNe -6.20  -4.82  3.00    84.04\n",
       "47591  wt4Uk -9.09  -8.11 -0.00     3.18\n",
       "82873  wt4Uk 10.26  -9.38  4.99   134.77"
      ]
     },
     "execution_count": 16,
     "metadata": {},
     "output_type": "execute_result"
    }
   ],
   "source": [
    "geo_data_1[geo_data_1['id'].isin(list_unique_1)].sort_values('id')"
   ]
  },
  {
   "cell_type": "code",
   "execution_count": 17,
   "metadata": {},
   "outputs": [
    {
     "data": {
      "text/html": [
       "<div>\n",
       "<style scoped>\n",
       "    .dataframe tbody tr th:only-of-type {\n",
       "        vertical-align: middle;\n",
       "    }\n",
       "\n",
       "    .dataframe tbody tr th {\n",
       "        vertical-align: top;\n",
       "    }\n",
       "\n",
       "    .dataframe thead th {\n",
       "        text-align: right;\n",
       "    }\n",
       "</style>\n",
       "<table border=\"1\" class=\"dataframe\">\n",
       "  <thead>\n",
       "    <tr style=\"text-align: right;\">\n",
       "      <th></th>\n",
       "      <th>id</th>\n",
       "      <th>f0</th>\n",
       "      <th>f1</th>\n",
       "      <th>f2</th>\n",
       "      <th>product</th>\n",
       "    </tr>\n",
       "  </thead>\n",
       "  <tbody>\n",
       "    <tr>\n",
       "      <th>45404</th>\n",
       "      <td>KUPhW</td>\n",
       "      <td>0.23</td>\n",
       "      <td>-1.70</td>\n",
       "      <td>4.99</td>\n",
       "      <td>11.72</td>\n",
       "    </tr>\n",
       "    <tr>\n",
       "      <th>55967</th>\n",
       "      <td>KUPhW</td>\n",
       "      <td>1.21</td>\n",
       "      <td>3.18</td>\n",
       "      <td>5.54</td>\n",
       "      <td>132.83</td>\n",
       "    </tr>\n",
       "    <tr>\n",
       "      <th>11449</th>\n",
       "      <td>VF7Jo</td>\n",
       "      <td>2.12</td>\n",
       "      <td>-0.86</td>\n",
       "      <td>5.75</td>\n",
       "      <td>181.72</td>\n",
       "    </tr>\n",
       "    <tr>\n",
       "      <th>49564</th>\n",
       "      <td>VF7Jo</td>\n",
       "      <td>-0.88</td>\n",
       "      <td>0.56</td>\n",
       "      <td>0.72</td>\n",
       "      <td>136.23</td>\n",
       "    </tr>\n",
       "    <tr>\n",
       "      <th>44378</th>\n",
       "      <td>Vcm5J</td>\n",
       "      <td>-1.23</td>\n",
       "      <td>-2.44</td>\n",
       "      <td>1.22</td>\n",
       "      <td>137.97</td>\n",
       "    </tr>\n",
       "    <tr>\n",
       "      <th>95090</th>\n",
       "      <td>Vcm5J</td>\n",
       "      <td>2.59</td>\n",
       "      <td>1.99</td>\n",
       "      <td>2.48</td>\n",
       "      <td>92.33</td>\n",
       "    </tr>\n",
       "    <tr>\n",
       "      <th>28039</th>\n",
       "      <td>xCHr8</td>\n",
       "      <td>1.63</td>\n",
       "      <td>0.37</td>\n",
       "      <td>-2.38</td>\n",
       "      <td>6.12</td>\n",
       "    </tr>\n",
       "    <tr>\n",
       "      <th>43233</th>\n",
       "      <td>xCHr8</td>\n",
       "      <td>-0.85</td>\n",
       "      <td>2.10</td>\n",
       "      <td>5.60</td>\n",
       "      <td>184.39</td>\n",
       "    </tr>\n",
       "  </tbody>\n",
       "</table>\n",
       "</div>"
      ],
      "text/plain": [
       "          id    f0    f1    f2  product\n",
       "45404  KUPhW  0.23 -1.70  4.99    11.72\n",
       "55967  KUPhW  1.21  3.18  5.54   132.83\n",
       "11449  VF7Jo  2.12 -0.86  5.75   181.72\n",
       "49564  VF7Jo -0.88  0.56  0.72   136.23\n",
       "44378  Vcm5J -1.23 -2.44  1.22   137.97\n",
       "95090  Vcm5J  2.59  1.99  2.48    92.33\n",
       "28039  xCHr8  1.63  0.37 -2.38     6.12\n",
       "43233  xCHr8 -0.85  2.10  5.60   184.39"
      ]
     },
     "execution_count": 17,
     "metadata": {},
     "output_type": "execute_result"
    }
   ],
   "source": [
    "geo_data_2[geo_data_2['id'].isin(list_unique_2)].sort_values('id')"
   ]
  },
  {
   "cell_type": "markdown",
   "metadata": {},
   "source": [
    "В трех датасетах есть некоторое значение неуникальных id номеров, но их количечство так мало, что вряд ли они повлияют на обучение модели. Для обучения модели нам не нужен будет id, поэтмоу оставим как есть\n"
   ]
  },
  {
   "cell_type": "markdown",
   "metadata": {},
   "source": [
    "Удалим столец id в датасетах"
   ]
  },
  {
   "cell_type": "code",
   "execution_count": 18,
   "metadata": {},
   "outputs": [],
   "source": [
    "geo_data_0 = geo_data_0.drop('id', axis=1)\n",
    "geo_data_1 = geo_data_1.drop('id', axis=1)\n",
    "geo_data_2 = geo_data_2.drop('id', axis=1)"
   ]
  },
  {
   "cell_type": "markdown",
   "metadata": {},
   "source": [
    "### Вывод\n",
    "\n",
    "- Были подгружены данные из трех файлов. В каждм наборе по 100000 строк данных\n",
    "- Во втором датасете много пустых скважин\n",
    "- Датасеты подготовлены для обучения моделей: из всех трех датасетов был удален столбец id\n"
   ]
  },
  {
   "cell_type": "markdown",
   "metadata": {},
   "source": [
    "## Обучение и проверка модели"
   ]
  },
  {
   "cell_type": "markdown",
   "metadata": {},
   "source": [
    "### Делим данные на обучающую и валидационную выборки в соотношении 75:25."
   ]
  },
  {
   "cell_type": "code",
   "execution_count": 19,
   "metadata": {},
   "outputs": [],
   "source": [
    "# Так как датасета три - и везде надо делать деление на выборки, то сделаем функцию\n",
    "\n",
    "def split_sample(data):\n",
    "    # стандартизируем данные\n",
    "    # признаки в переменную\n",
    "    features = data.drop(['product'], axis=1)\n",
    "    # целевой признак в переменную\n",
    "    target = data['product']\n",
    "    features_train, features_valid, target_train, target_valid = train_test_split(features, target, test_size=0.25, random_state=12345)\n",
    "    print('Обучающая выборка:', features_train.shape, 'в процентах:', round(len(features_train)/len(data)*100, 2),'%')\n",
    "    print('Валидационная выборка:', features_valid.shape, 'в процентах:', round(len(features_valid)/len(data)*100, 2),'%')\n",
    "    return features_train, features_valid, target_train, target_valid"
   ]
  },
  {
   "cell_type": "code",
   "execution_count": 20,
   "metadata": {},
   "outputs": [
    {
     "name": "stdout",
     "output_type": "stream",
     "text": [
      "Обучающая выборка: (75000, 3) в процентах: 75.0 %\n",
      "Валидационная выборка: (25000, 3) в процентах: 25.0 %\n",
      "Обучающая выборка: (75000, 3) в процентах: 75.0 %\n",
      "Валидационная выборка: (25000, 3) в процентах: 25.0 %\n",
      "Обучающая выборка: (75000, 3) в процентах: 75.0 %\n",
      "Валидационная выборка: (25000, 3) в процентах: 25.0 %\n"
     ]
    }
   ],
   "source": [
    "# Подготовим признаки и целевые признаки\n",
    "features_train_0, features_valid_0, target_train_0, target_valid_0 = split_sample(geo_data_0)\n",
    "features_train_1, features_valid_1, target_train_1, target_valid_1 = split_sample(geo_data_1)\n",
    "features_train_2, features_valid_2, target_train_2, target_valid_2 = split_sample(geo_data_2)"
   ]
  },
  {
   "cell_type": "markdown",
   "metadata": {},
   "source": [
    "### Обучение модели и делаем предсказание на валидационной выборке"
   ]
  },
  {
   "cell_type": "code",
   "execution_count": 21,
   "metadata": {},
   "outputs": [],
   "source": [
    "model = LinearRegression()\n",
    "# Функция для обучения модели и вывода метрик\n",
    "def model_training(features_train, features_valid, target_train, target_valid):\n",
    "    # Используем логистическую регрессию\n",
    "    \n",
    "    model.fit(features_train, target_train)\n",
    "\n",
    "    predicted_valid = model.predict(features_valid)\n",
    "    print('Доля верных решений (Accuracy):', model.score(features_valid, target_valid))\n",
    "    return predicted_valid"
   ]
  },
  {
   "cell_type": "markdown",
   "metadata": {},
   "source": [
    "### Сохраните предсказания и правильные ответы на валидационной выборке"
   ]
  },
  {
   "cell_type": "code",
   "execution_count": 22,
   "metadata": {},
   "outputs": [
    {
     "name": "stdout",
     "output_type": "stream",
     "text": [
      "Доля верных решений (Accuracy): 0.27994321524487786\n"
     ]
    }
   ],
   "source": [
    "# Первый регион\n",
    "predicted_valid_0 = model_training(features_train_0, features_valid_0, target_train_0, target_valid_0)\n"
   ]
  },
  {
   "cell_type": "code",
   "execution_count": 23,
   "metadata": {},
   "outputs": [
    {
     "name": "stdout",
     "output_type": "stream",
     "text": [
      "Доля верных решений (Accuracy): 0.9996233978805127\n"
     ]
    }
   ],
   "source": [
    "# Второй регион\n",
    "predicted_valid_1 = model_training(features_train_1, features_valid_1, target_train_1, target_valid_1)\n"
   ]
  },
  {
   "cell_type": "code",
   "execution_count": 24,
   "metadata": {},
   "outputs": [
    {
     "name": "stdout",
     "output_type": "stream",
     "text": [
      "Доля верных решений (Accuracy): 0.20524758386040443\n"
     ]
    }
   ],
   "source": [
    "# Тертий регоин\n",
    "predicted_valid_2 = model_training(features_train_2, features_valid_2, target_train_2, target_valid_2)"
   ]
  },
  {
   "cell_type": "markdown",
   "metadata": {},
   "source": [
    "###  средний запас предсказанного сырья и RMSE модели."
   ]
  },
  {
   "cell_type": "code",
   "execution_count": 25,
   "metadata": {},
   "outputs": [],
   "source": [
    "# Среднее и ошибка\n",
    "def mean_rmse(answers, predictions):\n",
    "    mse = mean_squared_error(answers, predictions)\n",
    "    print('средний запас предсказанного сырья:', predictions.mean())\n",
    "    print('RMSE:', mse**0.5)"
   ]
  },
  {
   "cell_type": "code",
   "execution_count": 26,
   "metadata": {},
   "outputs": [
    {
     "name": "stdout",
     "output_type": "stream",
     "text": [
      "средний запас предсказанного сырья: 92.59256778438035\n",
      "RMSE: 37.5794217150813\n"
     ]
    }
   ],
   "source": [
    "# Первый регион\n",
    "mean_rmse(target_valid_0, predicted_valid_0)"
   ]
  },
  {
   "cell_type": "code",
   "execution_count": 27,
   "metadata": {},
   "outputs": [
    {
     "name": "stdout",
     "output_type": "stream",
     "text": [
      "средний запас предсказанного сырья: 68.728546895446\n",
      "RMSE: 0.893099286775617\n"
     ]
    }
   ],
   "source": [
    "# Второй регион\n",
    "mean_rmse(target_valid_1, predicted_valid_1)"
   ]
  },
  {
   "cell_type": "code",
   "execution_count": 28,
   "metadata": {},
   "outputs": [
    {
     "name": "stdout",
     "output_type": "stream",
     "text": [
      "средний запас предсказанного сырья: 94.96504596800489\n",
      "RMSE: 40.02970873393434\n"
     ]
    }
   ],
   "source": [
    "# Второй регион\n",
    "mean_rmse(target_valid_2, predicted_valid_2)"
   ]
  },
  {
   "cell_type": "markdown",
   "metadata": {},
   "source": [
    "### Вывод\n",
    "\n",
    "* разделили данные на две выборки: тренировочную и валидационную в пропорции 75:25\n",
    "* Обучили модель для каждого региона\n",
    "* посчитали среднюю добычу по предсказанным данным и среднеквадратичную ошибку (корень квадратный)\n",
    "* Лучшую ошибку RMSE показал регион 2. У первого и третьего региона ошибка составляет почти половину предсказанных запасов\n",
    "* Доля верных решений Accuracy самая лучшая во втором регионе\n",
    "* Самые большие предсказаные средние запасы сырья в первом и третьем регионе. Второй регион имеет самые малые средние запасы"
   ]
  },
  {
   "cell_type": "markdown",
   "metadata": {},
   "source": [
    "## Подготовка к расчёту прибыли"
   ]
  },
  {
   "cell_type": "markdown",
   "metadata": {},
   "source": [
    "### Ключевые значения для расчётов в отдельные переменные."
   ]
  },
  {
   "cell_type": "code",
   "execution_count": 29,
   "metadata": {},
   "outputs": [],
   "source": [
    "# Бюджет на разработку скважин в регионе — 10 млрд рублей.\n",
    "budget = 10000000000\n",
    "# Доход с каждой единицы продукта 450 тыс\n",
    "dohod = 450000\n",
    "# исследуют 500 точек\n",
    "sampling_well = 500\n",
    "# выбирают 200 лучших для разработки\n",
    "best_well = 200\n",
    "# вероятность убытков меньше 2.5%.\n",
    "risk = 0.025"
   ]
  },
  {
   "cell_type": "code",
   "execution_count": 30,
   "metadata": {},
   "outputs": [
    {
     "data": {
      "text/plain": [
       "50000000.0"
      ]
     },
     "execution_count": 30,
     "metadata": {},
     "output_type": "execute_result"
    }
   ],
   "source": [
    "# Стоимость скважины в регионе\n",
    "price_well = budget / best_well\n",
    "price_well"
   ]
  },
  {
   "cell_type": "code",
   "execution_count": 31,
   "metadata": {},
   "outputs": [
    {
     "data": {
      "text/plain": [
       "111.11111111111111"
      ]
     },
     "execution_count": 31,
     "metadata": {},
     "output_type": "execute_result"
    }
   ],
   "source": [
    "# Запасы в скважине\n",
    "min_product = price_well / dohod\n",
    "min_product"
   ]
  },
  {
   "cell_type": "markdown",
   "metadata": {},
   "source": [
    "### Вывод\n",
    "\n",
    "* Средний предсказанный запас сырья в скважине меньше, чем нужно для окупаемости\n",
    "* 111 тыс баррелей - необходимый объем в скважине для окупаемости"
   ]
  },
  {
   "cell_type": "markdown",
   "metadata": {},
   "source": [
    "## Расчёт прибыли и рисков "
   ]
  },
  {
   "cell_type": "markdown",
   "metadata": {},
   "source": [
    "### функция для расчёта прибыли по выбранным скважинам и предсказаниям модели"
   ]
  },
  {
   "cell_type": "code",
   "execution_count": 32,
   "metadata": {},
   "outputs": [],
   "source": [
    "# функция по 200 скважинам и предсказаниям модели\n",
    "def well_profit(target, prediction):\n",
    "    # преобразуем в Series\n",
    "    target = pd.Series(target).reset_index(drop=True)\n",
    "\n",
    "    prediction = pd.Series(prediction).reset_index(drop=True)\n",
    "\n",
    "    # Отсортируем предсказанный объем по убыванию\n",
    "    well_sorted = prediction.sort_values(ascending=False)\n",
    "    # Выберем 200 лучших\n",
    "    well_select = target[well_sorted.index][:best_well]\n",
    "    return (well_select.sum() * dohod - budget)"
   ]
  },
  {
   "cell_type": "markdown",
   "metadata": {},
   "source": [
    "### Расчет прибыли для полученного объёма сырья"
   ]
  },
  {
   "cell_type": "code",
   "execution_count": 33,
   "metadata": {},
   "outputs": [
    {
     "name": "stdout",
     "output_type": "stream",
     "text": [
      "Прибыль первого региона: 3.32 млрд. руб\n"
     ]
    }
   ],
   "source": [
    "print('Прибыль первого региона:', round(well_profit(target_valid_0, predicted_valid_0)/1000000000, 2), 'млрд. руб')"
   ]
  },
  {
   "cell_type": "code",
   "execution_count": 34,
   "metadata": {},
   "outputs": [
    {
     "name": "stdout",
     "output_type": "stream",
     "text": [
      "Прибыль второго региона: 2.42 млрд. руб\n"
     ]
    }
   ],
   "source": [
    "print('Прибыль второго региона:', round(well_profit(target_valid_1, predicted_valid_1)/1000000000, 2), 'млрд. руб')"
   ]
  },
  {
   "cell_type": "code",
   "execution_count": 35,
   "metadata": {},
   "outputs": [
    {
     "name": "stdout",
     "output_type": "stream",
     "text": [
      "Прибыль третьего региона: 2.71 млрд. руб\n"
     ]
    }
   ],
   "source": [
    "print('Прибыль третьего региона:', round(well_profit(target_valid_2, predicted_valid_2)/1000000000, 2), 'млрд. руб')"
   ]
  },
  {
   "cell_type": "markdown",
   "metadata": {},
   "source": [
    "###  Вывод\n",
    "Оценивая прибыль, можно сказать что первое место у первого региона, за ним идет третий. Второй регион на третьем месте"
   ]
  },
  {
   "cell_type": "markdown",
   "metadata": {},
   "source": [
    "## Посчитайте риски и прибыль для каждого региона"
   ]
  },
  {
   "cell_type": "markdown",
   "metadata": {},
   "source": [
    "### техника  Bootstrap. 1000 выборок"
   ]
  },
  {
   "cell_type": "code",
   "execution_count": 40,
   "metadata": {},
   "outputs": [],
   "source": [
    "def bootstrap_profit(target, prediction):\n",
    "    state = np.random.RandomState(12345)\n",
    "    target = pd.Series(target).reset_index(drop=True)\n",
    "    prediction = pd.Series(prediction).reset_index(drop=True)    \n",
    "    values = []\n",
    "    for i in range(1000):\n",
    "        target_subsample = target.sample(n=sampling_well, replace=True, random_state=state)\n",
    "        prediction_subsample = prediction[target_subsample.index]\n",
    "        values.append(well_profit(target_subsample, prediction_subsample))\n",
    "    values = pd.Series(values)\n",
    "\n",
    "    mean_values = values.mean()\n",
    "    lower = values.quantile(risk)\n",
    "    # добавил верхнюю границу 97.5%\n",
    "    upper = values.quantile(0.975)\n",
    "    # Было:\n",
    "    #confidence_interval = st.t.interval(0.95, len(values)-1, values.mean(), values.sem())\n",
    "    confidence_interval = (lower, upper)\n",
    "    bankrot_risk = (values < 0).sum() / values.count()\n",
    " \n",
    "    \n",
    "    print('Средняя прибыль = {:.2f} руб.'.format(mean_values))\n",
    "    print('95% доверительный интервал руб.', (confidence_interval))\n",
    "    print('Процент риска {:.1%}'.format(bankrot_risk))\n",
    "    \n",
    "    #графическое представление\n",
    "    values.hist(bins=100, figsize=(16,8))\n",
    "    plt.xlabel('Доход')\n",
    "    plt.ylabel('Количество вышек')\n",
    "    plt.title('Оценка дохода')\n",
    "    plt.show()"
   ]
  },
  {
   "cell_type": "markdown",
   "metadata": {},
   "source": [
    "### средняя прибыль, 95%-й доверительный интервал и риск убытков."
   ]
  },
  {
   "cell_type": "code",
   "execution_count": 41,
   "metadata": {},
   "outputs": [
    {
     "name": "stdout",
     "output_type": "stream",
     "text": [
      "Средняя прибыль = 396164984.80 руб.\n",
      "95% доверительный интервал руб. (-111215545.89049526, 909766941.5534226)\n",
      "Процент риска 6.9%\n"
     ]
    },
    {
     "data": {
      "image/png": "[encoded data removed]",
      "text/plain": [
       "<Figure size 1152x576 with 1 Axes>"
      ]
     },
     "metadata": {
      "needs_background": "light"
     },
     "output_type": "display_data"
    }
   ],
   "source": [
    "bootstrap_profit(target_valid_0, predicted_valid_0)"
   ]
  },
  {
   "cell_type": "code",
   "execution_count": 42,
   "metadata": {},
   "outputs": [
    {
     "name": "stdout",
     "output_type": "stream",
     "text": [
      "Средняя прибыль = 456045105.79 руб.\n",
      "95% доверительный интервал руб. (33820509.39898363, 852289453.866036)\n",
      "Процент риска 1.5%\n"
     ]
    },
    {
     "data": {
      "image/png": "[encoded data removed]",
      "text/plain": [
       "<Figure size 1152x576 with 1 Axes>"
      ]
     },
     "metadata": {
      "needs_background": "light"
     },
     "output_type": "display_data"
    }
   ],
   "source": [
    "bootstrap_profit(target_valid_1, predicted_valid_1)"
   ]
  },
  {
   "cell_type": "code",
   "execution_count": 43,
   "metadata": {},
   "outputs": [
    {
     "name": "stdout",
     "output_type": "stream",
     "text": [
      "Средняя прибыль = 404403866.57 руб.\n",
      "95% доверительный интервал руб. (-163350413.39560106, 950359574.9237995)\n",
      "Процент риска 7.6%\n"
     ]
    },
    {
     "data": {
      "image/png": "[encoded data removed]",
      "text/plain": [
       "<Figure size 1152x576 with 1 Axes>"
      ]
     },
     "metadata": {
      "needs_background": "light"
     },
     "output_type": "display_data"
    }
   ],
   "source": [
    "bootstrap_profit(target_valid_2, predicted_valid_2)"
   ]
  },
  {
   "cell_type": "markdown",
   "metadata": {},
   "source": [
    "По параметру риска подходит второй регион. Самая большая средняя прибыль тоже во втором регионе"
   ]
  },
  {
   "cell_type": "markdown",
   "metadata": {},
   "source": [
    "## Общий вывод\n"
   ]
  },
  {
   "cell_type": "markdown",
   "metadata": {},
   "source": [
    "- Были подгружены данные из трех файлов. В каждм наборе по 100000 строк данных\n",
    "\n",
    "- Датасеты подготовлены для обучения моделей\n",
    "\n",
    "* разделили данные на две выборки: тренировочную и валидационную в пропорции 75:25\n",
    "* Обучили модель для каждого региона\n",
    "* посчитали среднюю добычу по предсказанным данным и среднеквадратичную ошибку :\n",
    "    * Первый регион RMSE: 37.57\n",
    "    * Второй регион RMSE: 0.89\n",
    "    * Третий регион RMSE: 40.03\n",
    "* Лучшую ошибку RMSE показал регион 2. У первого и третьего региона ошибка составляет почти половину предсказанных запасов\n",
    " \n",
    "* Средний предсказанный запас сырья в скважине:\n",
    "    * Первый регион : 92.59\n",
    "    * Второй регион : 68.72\n",
    "    * Третий регион : 94.96\n",
    "* Средний предсказанный запас сырья в скважине меньше, чем нужно для окупаемости .111 тыс баррелей - необходимый объем в скважине.\n",
    "\n",
    "* По оценкам прибыли регионы можно определить в таком порядке:\n",
    "    * Прибыль первого региона: 3.32 млрд. руб\n",
    "    * Прибыль третьего региона: 2.71 млрд. руб\n",
    "    * Прибыль второго региона: 2.42 млрд. руб"
   ]
  },
  {
   "cell_type": "markdown",
   "metadata": {},
   "source": [
    "Из трех регионов под условия задачи подходит только второй регион.\n",
    "    * Вероятность убытков 1,5%, что ниже условия задачи в 2,5%\n",
    "    * Обученная модель показала на данных этого региона самую лучшую метрику Accuracy = 0.99  и RMSE = 0.89\n"
   ]
  }
 ],
 "metadata": {
  "ExecuteTimeLog": [
   {
    "duration": 433,
    "start_time": "2022-06-27T14:58:11.025Z"
   },
   {
    "duration": 2,
    "start_time": "2022-06-27T14:58:16.280Z"
   },
   {
    "duration": 348,
    "start_time": "2022-06-27T15:00:38.796Z"
   },
   {
    "duration": 120,
    "start_time": "2022-06-27T15:00:56.421Z"
   },
   {
    "duration": 120,
    "start_time": "2022-06-27T15:00:59.805Z"
   },
   {
    "duration": 19,
    "start_time": "2022-06-27T15:01:06.241Z"
   },
   {
    "duration": 476,
    "start_time": "2022-06-27T15:01:59.227Z"
   },
   {
    "duration": 12,
    "start_time": "2022-06-27T15:02:21.875Z"
   },
   {
    "duration": 13,
    "start_time": "2022-06-27T15:02:28.719Z"
   },
   {
    "duration": 12,
    "start_time": "2022-06-27T15:02:35.582Z"
   },
   {
    "duration": 12,
    "start_time": "2022-06-27T15:02:46.384Z"
   },
   {
    "duration": 64,
    "start_time": "2022-06-27T15:05:14.537Z"
   },
   {
    "duration": 8,
    "start_time": "2022-06-27T15:05:34.242Z"
   },
   {
    "duration": 7,
    "start_time": "2022-06-27T15:05:45.400Z"
   },
   {
    "duration": 13,
    "start_time": "2022-06-27T15:05:56.629Z"
   },
   {
    "duration": 7,
    "start_time": "2022-06-27T15:06:21.272Z"
   },
   {
    "duration": 14,
    "start_time": "2022-06-27T15:06:42.302Z"
   },
   {
    "duration": 14,
    "start_time": "2022-06-27T15:06:48.808Z"
   },
   {
    "duration": 14,
    "start_time": "2022-06-27T15:06:56.873Z"
   },
   {
    "duration": 16,
    "start_time": "2022-06-27T15:06:59.272Z"
   },
   {
    "duration": 14,
    "start_time": "2022-06-27T15:07:06.780Z"
   },
   {
    "duration": 24,
    "start_time": "2022-06-27T18:12:56.842Z"
   },
   {
    "duration": 43,
    "start_time": "2022-06-27T18:13:08.411Z"
   },
   {
    "duration": 34,
    "start_time": "2022-06-27T18:13:14.542Z"
   },
   {
    "duration": 34,
    "start_time": "2022-06-27T18:13:16.173Z"
   },
   {
    "duration": 35,
    "start_time": "2022-06-27T18:13:18.001Z"
   },
   {
    "duration": 34,
    "start_time": "2022-06-27T18:13:25.654Z"
   },
   {
    "duration": 41,
    "start_time": "2022-06-27T18:13:27.819Z"
   },
   {
    "duration": 431,
    "start_time": "2022-06-29T11:28:57.730Z"
   },
   {
    "duration": 1542,
    "start_time": "2022-06-29T11:28:58.163Z"
   },
   {
    "duration": 4,
    "start_time": "2022-06-29T11:30:34.467Z"
   },
   {
    "duration": 88,
    "start_time": "2022-06-29T11:30:58.953Z"
   },
   {
    "duration": 4,
    "start_time": "2022-06-29T11:33:27.471Z"
   },
   {
    "duration": 89,
    "start_time": "2022-06-29T11:33:28.465Z"
   },
   {
    "duration": 3,
    "start_time": "2022-06-29T11:33:53.489Z"
   },
   {
    "duration": 4,
    "start_time": "2022-06-29T11:34:22.578Z"
   },
   {
    "duration": 87,
    "start_time": "2022-06-29T11:34:23.998Z"
   },
   {
    "duration": 3,
    "start_time": "2022-06-29T11:34:37.602Z"
   },
   {
    "duration": 104,
    "start_time": "2022-06-29T11:34:38.361Z"
   },
   {
    "duration": 3,
    "start_time": "2022-06-29T11:35:30.678Z"
   },
   {
    "duration": 87,
    "start_time": "2022-06-29T11:35:31.292Z"
   },
   {
    "duration": 6,
    "start_time": "2022-06-29T11:35:49.825Z"
   },
   {
    "duration": 7,
    "start_time": "2022-06-29T11:35:51.089Z"
   },
   {
    "duration": 92,
    "start_time": "2022-06-29T11:35:51.098Z"
   },
   {
    "duration": 81,
    "start_time": "2022-06-29T11:36:20.642Z"
   },
   {
    "duration": 79,
    "start_time": "2022-06-29T11:36:27.932Z"
   },
   {
    "duration": 84,
    "start_time": "2022-06-29T11:36:36.343Z"
   },
   {
    "duration": 4,
    "start_time": "2022-06-29T11:40:39.833Z"
   },
   {
    "duration": 89,
    "start_time": "2022-06-29T11:40:41.168Z"
   },
   {
    "duration": 100,
    "start_time": "2022-06-29T11:40:41.705Z"
   },
   {
    "duration": 91,
    "start_time": "2022-06-29T11:40:42.245Z"
   },
   {
    "duration": 16,
    "start_time": "2022-06-29T11:40:43.664Z"
   },
   {
    "duration": 64,
    "start_time": "2022-06-29T11:41:58.890Z"
   },
   {
    "duration": 939,
    "start_time": "2022-06-29T11:42:29.333Z"
   },
   {
    "duration": 19,
    "start_time": "2022-06-29T11:42:44.953Z"
   },
   {
    "duration": 953,
    "start_time": "2022-06-29T11:42:59.486Z"
   },
   {
    "duration": 20,
    "start_time": "2022-06-29T11:43:09.577Z"
   },
   {
    "duration": 5,
    "start_time": "2022-06-29T11:47:38.174Z"
   },
   {
    "duration": 87,
    "start_time": "2022-06-29T11:47:38.495Z"
   },
   {
    "duration": 88,
    "start_time": "2022-06-29T11:47:42.177Z"
   },
   {
    "duration": 95,
    "start_time": "2022-06-29T11:47:43.810Z"
   },
   {
    "duration": 19,
    "start_time": "2022-06-29T11:47:45.880Z"
   },
   {
    "duration": 3,
    "start_time": "2022-06-29T12:24:05.073Z"
   },
   {
    "duration": 167,
    "start_time": "2022-06-29T12:24:37.118Z"
   },
   {
    "duration": 106,
    "start_time": "2022-06-29T12:24:46.328Z"
   },
   {
    "duration": 983,
    "start_time": "2022-06-29T12:24:52.325Z"
   },
   {
    "duration": 96,
    "start_time": "2022-06-29T12:24:59.825Z"
   },
   {
    "duration": 22,
    "start_time": "2022-06-29T12:25:23.996Z"
   },
   {
    "duration": 29,
    "start_time": "2022-06-29T12:25:26.913Z"
   },
   {
    "duration": 17,
    "start_time": "2022-06-29T12:25:32.392Z"
   },
   {
    "duration": 35,
    "start_time": "2022-06-29T12:25:42.345Z"
   },
   {
    "duration": 20,
    "start_time": "2022-06-29T12:26:10.713Z"
   },
   {
    "duration": 19,
    "start_time": "2022-06-29T12:26:35.466Z"
   },
   {
    "duration": 36,
    "start_time": "2022-06-29T12:26:36.247Z"
   },
   {
    "duration": 29,
    "start_time": "2022-06-29T12:30:21.708Z"
   },
   {
    "duration": 36,
    "start_time": "2022-06-29T12:32:23.070Z"
   },
   {
    "duration": 22,
    "start_time": "2022-06-29T12:32:27.198Z"
   },
   {
    "duration": 27,
    "start_time": "2022-06-29T12:32:33.067Z"
   },
   {
    "duration": 11,
    "start_time": "2022-06-29T12:34:28.038Z"
   },
   {
    "duration": 16,
    "start_time": "2022-06-29T12:34:34.248Z"
   },
   {
    "duration": 21,
    "start_time": "2022-06-29T12:34:41.156Z"
   },
   {
    "duration": 17,
    "start_time": "2022-06-29T12:35:11.111Z"
   },
   {
    "duration": 100,
    "start_time": "2022-06-29T12:38:20.202Z"
   },
   {
    "duration": 89,
    "start_time": "2022-06-29T12:38:35.583Z"
   },
   {
    "duration": 84,
    "start_time": "2022-06-29T12:38:45.465Z"
   },
   {
    "duration": 8,
    "start_time": "2022-06-29T12:38:50.411Z"
   },
   {
    "duration": 126,
    "start_time": "2022-06-29T12:39:17.003Z"
   },
   {
    "duration": 106,
    "start_time": "2022-06-29T12:40:28.374Z"
   },
   {
    "duration": 90,
    "start_time": "2022-06-29T12:45:15.422Z"
   },
   {
    "duration": 100,
    "start_time": "2022-06-29T12:45:50.231Z"
   },
   {
    "duration": 79,
    "start_time": "2022-06-29T12:45:59.734Z"
   },
   {
    "duration": 79,
    "start_time": "2022-06-29T12:46:05.819Z"
   },
   {
    "duration": 287,
    "start_time": "2022-06-29T13:36:01.647Z"
   },
   {
    "duration": 4,
    "start_time": "2022-06-29T14:20:08.831Z"
   },
   {
    "duration": 62,
    "start_time": "2022-06-29T14:36:36.765Z"
   },
   {
    "duration": 82,
    "start_time": "2022-06-29T14:36:41.942Z"
   },
   {
    "duration": 80,
    "start_time": "2022-06-29T14:37:06.247Z"
   },
   {
    "duration": 78,
    "start_time": "2022-06-29T14:37:08.666Z"
   },
   {
    "duration": 5,
    "start_time": "2022-06-29T14:37:12.031Z"
   },
   {
    "duration": 73,
    "start_time": "2022-06-29T14:37:38.473Z"
   },
   {
    "duration": 8,
    "start_time": "2022-06-29T14:37:43.151Z"
   },
   {
    "duration": 40,
    "start_time": "2022-06-29T14:38:17.584Z"
   },
   {
    "duration": 60,
    "start_time": "2022-06-29T14:38:49.896Z"
   },
   {
    "duration": 52,
    "start_time": "2022-06-29T14:38:50.844Z"
   },
   {
    "duration": 100,
    "start_time": "2022-06-29T14:38:58.513Z"
   },
   {
    "duration": 50,
    "start_time": "2022-06-29T14:39:19.017Z"
   },
   {
    "duration": 54,
    "start_time": "2022-06-29T14:39:38.103Z"
   },
   {
    "duration": 77,
    "start_time": "2022-06-29T14:40:22.144Z"
   },
   {
    "duration": 20,
    "start_time": "2022-06-29T14:42:37.022Z"
   },
   {
    "duration": 16,
    "start_time": "2022-06-29T14:42:58.825Z"
   },
   {
    "duration": 21,
    "start_time": "2022-06-29T14:43:07.040Z"
   },
   {
    "duration": 78,
    "start_time": "2022-06-29T14:44:27.297Z"
   },
   {
    "duration": 79,
    "start_time": "2022-06-29T14:44:43.637Z"
   },
   {
    "duration": 199,
    "start_time": "2022-06-29T14:45:37.585Z"
   },
   {
    "duration": 17,
    "start_time": "2022-06-29T14:46:05.407Z"
   },
   {
    "duration": 14,
    "start_time": "2022-06-29T14:46:20.902Z"
   },
   {
    "duration": 170,
    "start_time": "2022-06-29T14:46:35.285Z"
   },
   {
    "duration": 22,
    "start_time": "2022-06-29T14:46:35.673Z"
   },
   {
    "duration": 16,
    "start_time": "2022-06-29T14:46:36.197Z"
   },
   {
    "duration": 14,
    "start_time": "2022-06-29T14:46:42.277Z"
   },
   {
    "duration": 21,
    "start_time": "2022-06-29T14:47:03.549Z"
   },
   {
    "duration": 109,
    "start_time": "2022-06-29T14:51:32.309Z"
   },
   {
    "duration": 26,
    "start_time": "2022-06-29T14:54:00.145Z"
   },
   {
    "duration": 5,
    "start_time": "2022-06-29T14:54:07.618Z"
   },
   {
    "duration": 12,
    "start_time": "2022-06-29T14:54:11.770Z"
   },
   {
    "duration": 12,
    "start_time": "2022-06-29T14:55:59.546Z"
   },
   {
    "duration": 18,
    "start_time": "2022-06-29T14:56:05.919Z"
   },
   {
    "duration": 16,
    "start_time": "2022-06-29T14:56:16.610Z"
   },
   {
    "duration": 9,
    "start_time": "2022-06-29T14:56:34.640Z"
   },
   {
    "duration": 102,
    "start_time": "2022-06-29T14:59:13.080Z"
   },
   {
    "duration": 11,
    "start_time": "2022-06-29T14:59:19.832Z"
   },
   {
    "duration": 17,
    "start_time": "2022-06-29T14:59:31.335Z"
   },
   {
    "duration": 18,
    "start_time": "2022-06-29T14:59:36.649Z"
   },
   {
    "duration": 9,
    "start_time": "2022-06-29T15:02:06.627Z"
   },
   {
    "duration": 9,
    "start_time": "2022-06-29T15:02:14.699Z"
   },
   {
    "duration": 12,
    "start_time": "2022-06-29T15:02:23.143Z"
   },
   {
    "duration": 10,
    "start_time": "2022-06-29T15:02:30.333Z"
   },
   {
    "duration": 10,
    "start_time": "2022-06-29T15:02:39.392Z"
   },
   {
    "duration": 7,
    "start_time": "2022-06-29T15:02:50.503Z"
   },
   {
    "duration": 7,
    "start_time": "2022-06-29T15:05:00.731Z"
   },
   {
    "duration": 273,
    "start_time": "2022-06-29T15:20:15.434Z"
   },
   {
    "duration": 7,
    "start_time": "2022-06-29T15:20:57.277Z"
   },
   {
    "duration": 741,
    "start_time": "2022-06-29T15:34:31.268Z"
   },
   {
    "duration": 4,
    "start_time": "2022-06-29T15:34:41.506Z"
   },
   {
    "duration": 4,
    "start_time": "2022-06-29T15:34:45.708Z"
   },
   {
    "duration": 6,
    "start_time": "2022-06-29T15:36:34.843Z"
   },
   {
    "duration": 8,
    "start_time": "2022-06-29T15:36:45.652Z"
   },
   {
    "duration": 49,
    "start_time": "2022-06-29T15:38:34.889Z"
   },
   {
    "duration": 4,
    "start_time": "2022-06-29T15:39:24.779Z"
   },
   {
    "duration": 42,
    "start_time": "2022-06-29T15:39:26.660Z"
   },
   {
    "duration": 4,
    "start_time": "2022-06-29T15:45:58.622Z"
   },
   {
    "duration": 5,
    "start_time": "2022-06-29T15:47:57.889Z"
   },
   {
    "duration": 61,
    "start_time": "2022-06-29T15:47:58.612Z"
   },
   {
    "duration": 5,
    "start_time": "2022-06-29T15:48:42.097Z"
   },
   {
    "duration": 7,
    "start_time": "2022-06-29T15:51:31.166Z"
   },
   {
    "duration": 32,
    "start_time": "2022-06-29T15:51:31.676Z"
   },
   {
    "duration": 2,
    "start_time": "2022-06-29T15:52:55.990Z"
   },
   {
    "duration": 436,
    "start_time": "2022-06-29T15:52:56.073Z"
   },
   {
    "duration": 4,
    "start_time": "2022-06-29T15:52:56.510Z"
   },
   {
    "duration": 106,
    "start_time": "2022-06-29T15:52:56.680Z"
   },
   {
    "duration": 106,
    "start_time": "2022-06-29T15:52:57.010Z"
   },
   {
    "duration": 107,
    "start_time": "2022-06-29T15:52:57.321Z"
   },
   {
    "duration": 7,
    "start_time": "2022-06-29T15:53:07.742Z"
   },
   {
    "duration": 10,
    "start_time": "2022-06-29T15:53:08.489Z"
   },
   {
    "duration": 8,
    "start_time": "2022-06-29T15:53:09.177Z"
   },
   {
    "duration": 29,
    "start_time": "2022-06-29T15:53:15.649Z"
   },
   {
    "duration": 16,
    "start_time": "2022-06-29T15:53:16.286Z"
   },
   {
    "duration": 21,
    "start_time": "2022-06-29T15:53:17.192Z"
   },
   {
    "duration": 201,
    "start_time": "2022-06-29T15:53:18.054Z"
   },
   {
    "duration": 21,
    "start_time": "2022-06-29T15:53:18.836Z"
   },
   {
    "duration": 15,
    "start_time": "2022-06-29T15:53:20.536Z"
   },
   {
    "duration": 27,
    "start_time": "2022-06-29T15:53:21.145Z"
   },
   {
    "duration": 11,
    "start_time": "2022-06-29T15:53:22.991Z"
   },
   {
    "duration": 4,
    "start_time": "2022-06-29T15:53:25.168Z"
   },
   {
    "duration": 30,
    "start_time": "2022-06-29T15:53:26.184Z"
   },
   {
    "duration": 5,
    "start_time": "2022-06-29T15:54:05.700Z"
   },
   {
    "duration": 49,
    "start_time": "2022-06-29T15:54:06.582Z"
   },
   {
    "duration": 5,
    "start_time": "2022-06-29T15:59:16.538Z"
   },
   {
    "duration": 34,
    "start_time": "2022-06-29T15:59:16.896Z"
   },
   {
    "duration": 4,
    "start_time": "2022-06-29T15:59:41.414Z"
   },
   {
    "duration": 33,
    "start_time": "2022-06-29T15:59:42.005Z"
   },
   {
    "duration": 4,
    "start_time": "2022-06-29T15:59:53.642Z"
   },
   {
    "duration": 32,
    "start_time": "2022-06-29T15:59:53.981Z"
   },
   {
    "duration": 4,
    "start_time": "2022-06-29T16:02:49.284Z"
   },
   {
    "duration": 3,
    "start_time": "2022-06-29T16:03:13.808Z"
   },
   {
    "duration": 13,
    "start_time": "2022-06-29T16:05:52.871Z"
   },
   {
    "duration": 5,
    "start_time": "2022-06-29T16:05:57.324Z"
   },
   {
    "duration": 8,
    "start_time": "2022-06-29T16:05:58.638Z"
   },
   {
    "duration": 5,
    "start_time": "2022-06-29T16:06:09.501Z"
   },
   {
    "duration": 12,
    "start_time": "2022-06-29T16:06:10.177Z"
   },
   {
    "duration": 30,
    "start_time": "2022-06-29T16:07:27.088Z"
   },
   {
    "duration": 7,
    "start_time": "2022-06-29T16:08:12.132Z"
   },
   {
    "duration": 21,
    "start_time": "2022-06-29T16:08:12.828Z"
   },
   {
    "duration": 12,
    "start_time": "2022-06-29T16:08:20.849Z"
   },
   {
    "duration": 35,
    "start_time": "2022-06-29T16:08:20.951Z"
   },
   {
    "duration": 7,
    "start_time": "2022-06-29T16:08:27.003Z"
   },
   {
    "duration": 24,
    "start_time": "2022-06-29T16:08:27.013Z"
   },
   {
    "duration": 11,
    "start_time": "2022-06-29T16:08:35.386Z"
   },
   {
    "duration": 93,
    "start_time": "2022-06-29T16:08:35.680Z"
   },
   {
    "duration": 4,
    "start_time": "2022-06-29T16:08:44.012Z"
   },
   {
    "duration": 93,
    "start_time": "2022-06-29T16:08:44.492Z"
   },
   {
    "duration": 5,
    "start_time": "2022-06-29T16:09:06.808Z"
   },
   {
    "duration": 66,
    "start_time": "2022-06-29T16:09:07.700Z"
   },
   {
    "duration": 5,
    "start_time": "2022-06-29T16:09:31.799Z"
   },
   {
    "duration": 4,
    "start_time": "2022-06-29T16:09:42.821Z"
   },
   {
    "duration": 6,
    "start_time": "2022-06-29T16:09:51.240Z"
   },
   {
    "duration": 42,
    "start_time": "2022-06-29T16:09:51.682Z"
   },
   {
    "duration": 17,
    "start_time": "2022-06-29T16:09:53.350Z"
   },
   {
    "duration": 174,
    "start_time": "2022-06-29T16:09:54.481Z"
   },
   {
    "duration": 6,
    "start_time": "2022-06-29T16:10:06.721Z"
   },
   {
    "duration": 191,
    "start_time": "2022-06-29T16:10:07.996Z"
   },
   {
    "duration": 13,
    "start_time": "2022-06-29T16:10:34.487Z"
   },
   {
    "duration": 6,
    "start_time": "2022-06-29T16:10:34.746Z"
   },
   {
    "duration": 178,
    "start_time": "2022-06-29T16:10:35.182Z"
   },
   {
    "duration": 7,
    "start_time": "2022-06-29T16:10:58.084Z"
   },
   {
    "duration": 15,
    "start_time": "2022-06-29T16:10:58.382Z"
   },
   {
    "duration": 242,
    "start_time": "2022-06-29T16:10:58.628Z"
   },
   {
    "duration": 7,
    "start_time": "2022-06-29T16:11:19.389Z"
   },
   {
    "duration": 185,
    "start_time": "2022-06-29T16:11:20.140Z"
   },
   {
    "duration": 11,
    "start_time": "2022-06-29T16:11:39.489Z"
   },
   {
    "duration": 41,
    "start_time": "2022-06-29T16:11:40.280Z"
   },
   {
    "duration": 9,
    "start_time": "2022-06-29T16:12:18.600Z"
   },
   {
    "duration": 206,
    "start_time": "2022-06-29T16:12:48.481Z"
   },
   {
    "duration": 3,
    "start_time": "2022-06-29T16:13:38.222Z"
   },
   {
    "duration": 135,
    "start_time": "2022-06-29T16:13:38.752Z"
   },
   {
    "duration": 4,
    "start_time": "2022-06-29T16:14:17.195Z"
   },
   {
    "duration": 15,
    "start_time": "2022-06-29T16:14:51.482Z"
   },
   {
    "duration": 19,
    "start_time": "2022-06-29T16:14:55.611Z"
   },
   {
    "duration": 27,
    "start_time": "2022-06-29T16:14:57.575Z"
   },
   {
    "duration": 15,
    "start_time": "2022-06-29T16:15:36.381Z"
   },
   {
    "duration": 18,
    "start_time": "2022-06-29T16:15:46.322Z"
   },
   {
    "duration": 19,
    "start_time": "2022-06-29T16:16:02.982Z"
   },
   {
    "duration": 7,
    "start_time": "2022-06-29T16:20:16.780Z"
   },
   {
    "duration": 14,
    "start_time": "2022-06-29T16:21:47.678Z"
   },
   {
    "duration": 3,
    "start_time": "2022-06-29T16:22:32.308Z"
   },
   {
    "duration": 3,
    "start_time": "2022-06-29T16:22:39.179Z"
   },
   {
    "duration": 4,
    "start_time": "2022-06-29T16:22:39.443Z"
   },
   {
    "duration": 5,
    "start_time": "2022-06-29T16:22:57.377Z"
   },
   {
    "duration": 4,
    "start_time": "2022-06-29T16:23:36.129Z"
   },
   {
    "duration": 4,
    "start_time": "2022-06-29T16:23:44.784Z"
   },
   {
    "duration": 5,
    "start_time": "2022-06-29T16:23:58.236Z"
   },
   {
    "duration": 4,
    "start_time": "2022-06-29T16:30:38.615Z"
   },
   {
    "duration": 21,
    "start_time": "2022-06-29T16:30:39.920Z"
   },
   {
    "duration": 15,
    "start_time": "2022-06-29T16:30:40.175Z"
   },
   {
    "duration": 13,
    "start_time": "2022-06-29T16:30:40.411Z"
   },
   {
    "duration": 7,
    "start_time": "2022-06-29T16:30:40.784Z"
   },
   {
    "duration": 5,
    "start_time": "2022-06-29T16:30:41.683Z"
   },
   {
    "duration": 7,
    "start_time": "2022-06-29T16:30:41.884Z"
   },
   {
    "duration": 5,
    "start_time": "2022-06-29T16:30:42.088Z"
   },
   {
    "duration": 3,
    "start_time": "2022-06-29T16:34:41.418Z"
   },
   {
    "duration": 7,
    "start_time": "2022-06-29T16:34:41.756Z"
   },
   {
    "duration": 10,
    "start_time": "2022-06-29T16:34:43.948Z"
   },
   {
    "duration": 9,
    "start_time": "2022-06-29T16:34:44.656Z"
   },
   {
    "duration": 5,
    "start_time": "2022-06-29T16:35:39.281Z"
   },
   {
    "duration": 5,
    "start_time": "2022-06-29T16:35:39.525Z"
   },
   {
    "duration": 5,
    "start_time": "2022-06-29T16:35:39.713Z"
   },
   {
    "duration": 5,
    "start_time": "2022-06-29T16:35:39.832Z"
   },
   {
    "duration": 3,
    "start_time": "2022-06-29T16:36:31.587Z"
   },
   {
    "duration": 95,
    "start_time": "2022-06-29T16:36:32.688Z"
   },
   {
    "duration": 17,
    "start_time": "2022-06-29T16:36:33.003Z"
   },
   {
    "duration": 18,
    "start_time": "2022-06-29T16:36:33.283Z"
   },
   {
    "duration": 92,
    "start_time": "2022-06-29T16:55:10.092Z"
   },
   {
    "duration": 3,
    "start_time": "2022-06-29T16:55:24.497Z"
   },
   {
    "duration": 4,
    "start_time": "2022-06-29T16:57:42.928Z"
   },
   {
    "duration": 15,
    "start_time": "2022-06-29T16:59:01.281Z"
   },
   {
    "duration": 4,
    "start_time": "2022-06-29T16:59:12.093Z"
   },
   {
    "duration": 3,
    "start_time": "2022-06-29T17:02:15.273Z"
   },
   {
    "duration": 2,
    "start_time": "2022-06-29T17:02:17.114Z"
   },
   {
    "duration": 4,
    "start_time": "2022-06-29T17:02:22.999Z"
   },
   {
    "duration": 3,
    "start_time": "2022-06-29T17:03:43.268Z"
   },
   {
    "duration": 5,
    "start_time": "2022-06-29T17:03:51.107Z"
   },
   {
    "duration": 4,
    "start_time": "2022-06-29T17:04:15.761Z"
   },
   {
    "duration": 4,
    "start_time": "2022-06-29T17:04:17.218Z"
   },
   {
    "duration": 4,
    "start_time": "2022-06-29T17:04:23.888Z"
   },
   {
    "duration": 5,
    "start_time": "2022-06-29T17:04:24.491Z"
   },
   {
    "duration": 5,
    "start_time": "2022-06-29T17:04:24.958Z"
   },
   {
    "duration": 3,
    "start_time": "2022-06-29T17:04:26.455Z"
   },
   {
    "duration": 4,
    "start_time": "2022-06-29T17:04:26.606Z"
   },
   {
    "duration": 4,
    "start_time": "2022-06-29T17:04:27.085Z"
   },
   {
    "duration": 4,
    "start_time": "2022-06-29T17:05:25.708Z"
   },
   {
    "duration": 4,
    "start_time": "2022-06-29T17:08:50.973Z"
   },
   {
    "duration": 3,
    "start_time": "2022-06-29T17:40:07.293Z"
   },
   {
    "duration": 8,
    "start_time": "2022-06-29T17:43:49.876Z"
   },
   {
    "duration": 11,
    "start_time": "2022-06-29T17:43:54.009Z"
   },
   {
    "duration": 2,
    "start_time": "2022-06-29T17:44:27.006Z"
   },
   {
    "duration": 12,
    "start_time": "2022-06-29T17:44:28.918Z"
   },
   {
    "duration": 3,
    "start_time": "2022-06-29T17:45:10.521Z"
   },
   {
    "duration": 14,
    "start_time": "2022-06-29T17:45:11.206Z"
   },
   {
    "duration": 3,
    "start_time": "2022-06-29T17:46:13.177Z"
   },
   {
    "duration": 3,
    "start_time": "2022-06-29T17:46:14.201Z"
   },
   {
    "duration": 12,
    "start_time": "2022-06-29T17:46:15.266Z"
   },
   {
    "duration": 3,
    "start_time": "2022-06-29T17:46:17.882Z"
   },
   {
    "duration": 10,
    "start_time": "2022-06-29T17:46:20.186Z"
   },
   {
    "duration": 4,
    "start_time": "2022-06-29T17:47:40.740Z"
   },
   {
    "duration": 9,
    "start_time": "2022-06-29T17:47:43.668Z"
   },
   {
    "duration": 1139,
    "start_time": "2022-06-29T17:48:43.838Z"
   },
   {
    "duration": 3,
    "start_time": "2022-06-29T17:48:44.979Z"
   },
   {
    "duration": 366,
    "start_time": "2022-06-29T17:48:44.983Z"
   },
   {
    "duration": 4,
    "start_time": "2022-06-29T17:48:45.352Z"
   },
   {
    "duration": 108,
    "start_time": "2022-06-29T17:48:45.357Z"
   },
   {
    "duration": 98,
    "start_time": "2022-06-29T17:48:45.467Z"
   },
   {
    "duration": 98,
    "start_time": "2022-06-29T17:48:45.567Z"
   },
   {
    "duration": 16,
    "start_time": "2022-06-29T17:48:45.666Z"
   },
   {
    "duration": 8,
    "start_time": "2022-06-29T17:48:45.683Z"
   },
   {
    "duration": 6,
    "start_time": "2022-06-29T17:48:45.693Z"
   },
   {
    "duration": 19,
    "start_time": "2022-06-29T17:48:45.701Z"
   },
   {
    "duration": 46,
    "start_time": "2022-06-29T17:48:45.721Z"
   },
   {
    "duration": 16,
    "start_time": "2022-06-29T17:48:45.768Z"
   },
   {
    "duration": 162,
    "start_time": "2022-06-29T17:48:45.786Z"
   },
   {
    "duration": 17,
    "start_time": "2022-06-29T17:48:45.949Z"
   },
   {
    "duration": 13,
    "start_time": "2022-06-29T17:48:45.967Z"
   },
   {
    "duration": 14,
    "start_time": "2022-06-29T17:48:45.981Z"
   },
   {
    "duration": 16,
    "start_time": "2022-06-29T17:48:45.996Z"
   },
   {
    "duration": 4,
    "start_time": "2022-06-29T17:48:46.014Z"
   },
   {
    "duration": 68,
    "start_time": "2022-06-29T17:48:46.020Z"
   },
   {
    "duration": 3,
    "start_time": "2022-06-29T17:48:46.089Z"
   },
   {
    "duration": 64,
    "start_time": "2022-06-29T17:48:46.094Z"
   },
   {
    "duration": 109,
    "start_time": "2022-06-29T17:48:46.159Z"
   },
   {
    "duration": 109,
    "start_time": "2022-06-29T17:48:46.354Z"
   },
   {
    "duration": 89,
    "start_time": "2022-06-29T17:48:46.465Z"
   },
   {
    "duration": 94,
    "start_time": "2022-06-29T17:48:46.560Z"
   },
   {
    "duration": 5,
    "start_time": "2022-06-29T17:48:46.656Z"
   },
   {
    "duration": 5,
    "start_time": "2022-06-29T17:48:46.664Z"
   },
   {
    "duration": 5,
    "start_time": "2022-06-29T17:48:46.670Z"
   },
   {
    "duration": 15,
    "start_time": "2022-06-29T17:48:46.677Z"
   },
   {
    "duration": 8,
    "start_time": "2022-06-29T17:48:46.694Z"
   },
   {
    "duration": 11,
    "start_time": "2022-06-29T17:48:46.703Z"
   },
   {
    "duration": 37,
    "start_time": "2022-06-29T17:48:46.716Z"
   },
   {
    "duration": 9,
    "start_time": "2022-06-29T17:50:49.333Z"
   },
   {
    "duration": 8,
    "start_time": "2022-06-29T17:51:34.876Z"
   },
   {
    "duration": 8,
    "start_time": "2022-06-29T17:51:35.300Z"
   },
   {
    "duration": 9,
    "start_time": "2022-06-29T17:51:47.408Z"
   },
   {
    "duration": 9,
    "start_time": "2022-06-29T17:51:49.997Z"
   },
   {
    "duration": 8,
    "start_time": "2022-06-29T17:53:20.652Z"
   },
   {
    "duration": 9,
    "start_time": "2022-06-29T17:53:29.372Z"
   },
   {
    "duration": 8,
    "start_time": "2022-06-29T17:53:34.504Z"
   },
   {
    "duration": 9,
    "start_time": "2022-06-29T17:54:00.069Z"
   },
   {
    "duration": 9,
    "start_time": "2022-06-29T17:54:15.916Z"
   },
   {
    "duration": 10,
    "start_time": "2022-06-29T17:54:30.373Z"
   },
   {
    "duration": 8,
    "start_time": "2022-06-29T17:54:45.761Z"
   },
   {
    "duration": 4,
    "start_time": "2022-06-29T18:22:43.260Z"
   },
   {
    "duration": 4,
    "start_time": "2022-06-29T19:31:56.325Z"
   },
   {
    "duration": 103,
    "start_time": "2022-06-29T19:34:40.198Z"
   },
   {
    "duration": 3,
    "start_time": "2022-06-29T19:35:10.729Z"
   },
   {
    "duration": 4,
    "start_time": "2022-06-29T19:35:20.615Z"
   },
   {
    "duration": 18,
    "start_time": "2022-06-29T19:35:20.621Z"
   },
   {
    "duration": 1099,
    "start_time": "2022-06-29T19:36:25.983Z"
   },
   {
    "duration": 3,
    "start_time": "2022-06-29T19:36:27.083Z"
   },
   {
    "duration": 384,
    "start_time": "2022-06-29T19:36:27.087Z"
   },
   {
    "duration": 3,
    "start_time": "2022-06-29T19:36:27.473Z"
   },
   {
    "duration": 99,
    "start_time": "2022-06-29T19:36:27.478Z"
   },
   {
    "duration": 99,
    "start_time": "2022-06-29T19:36:27.579Z"
   },
   {
    "duration": 103,
    "start_time": "2022-06-29T19:36:27.680Z"
   },
   {
    "duration": 12,
    "start_time": "2022-06-29T19:36:27.785Z"
   },
   {
    "duration": 8,
    "start_time": "2022-06-29T19:36:27.799Z"
   },
   {
    "duration": 6,
    "start_time": "2022-06-29T19:36:27.809Z"
   },
   {
    "duration": 48,
    "start_time": "2022-06-29T19:36:27.817Z"
   },
   {
    "duration": 16,
    "start_time": "2022-06-29T19:36:27.867Z"
   },
   {
    "duration": 17,
    "start_time": "2022-06-29T19:36:27.884Z"
   },
   {
    "duration": 175,
    "start_time": "2022-06-29T19:36:27.902Z"
   },
   {
    "duration": 17,
    "start_time": "2022-06-29T19:36:28.078Z"
   },
   {
    "duration": 13,
    "start_time": "2022-06-29T19:36:28.097Z"
   },
   {
    "duration": 14,
    "start_time": "2022-06-29T19:36:28.112Z"
   },
   {
    "duration": 43,
    "start_time": "2022-06-29T19:36:28.127Z"
   },
   {
    "duration": 4,
    "start_time": "2022-06-29T19:36:28.172Z"
   },
   {
    "duration": 39,
    "start_time": "2022-06-29T19:36:28.177Z"
   },
   {
    "duration": 11,
    "start_time": "2022-06-29T19:36:28.222Z"
   },
   {
    "duration": 45,
    "start_time": "2022-06-29T19:36:28.235Z"
   },
   {
    "duration": 202,
    "start_time": "2022-06-29T19:36:28.282Z"
   },
   {
    "duration": 185,
    "start_time": "2022-06-29T19:36:28.485Z"
   },
   {
    "duration": 195,
    "start_time": "2022-06-29T19:36:28.672Z"
   },
   {
    "duration": 7,
    "start_time": "2022-06-29T19:36:28.869Z"
   },
   {
    "duration": 5,
    "start_time": "2022-06-29T19:36:28.878Z"
   },
   {
    "duration": 4,
    "start_time": "2022-06-29T19:36:28.887Z"
   },
   {
    "duration": 5,
    "start_time": "2022-06-29T19:36:28.893Z"
   },
   {
    "duration": 6,
    "start_time": "2022-06-29T19:36:28.900Z"
   },
   {
    "duration": 10,
    "start_time": "2022-06-29T19:36:28.908Z"
   },
   {
    "duration": 4,
    "start_time": "2022-06-29T19:36:28.920Z"
   },
   {
    "duration": 129,
    "start_time": "2022-06-29T19:36:28.926Z"
   },
   {
    "duration": 0,
    "start_time": "2022-06-29T19:36:29.058Z"
   },
   {
    "duration": 0,
    "start_time": "2022-06-29T19:36:29.059Z"
   },
   {
    "duration": 0,
    "start_time": "2022-06-29T19:36:29.059Z"
   },
   {
    "duration": 0,
    "start_time": "2022-06-29T19:36:29.060Z"
   },
   {
    "duration": 4,
    "start_time": "2022-06-29T19:37:17.769Z"
   },
   {
    "duration": 26,
    "start_time": "2022-06-29T19:37:19.042Z"
   },
   {
    "duration": 3,
    "start_time": "2022-06-29T19:38:11.825Z"
   },
   {
    "duration": 9,
    "start_time": "2022-06-29T19:38:13.317Z"
   },
   {
    "duration": 9,
    "start_time": "2022-06-29T19:38:13.628Z"
   },
   {
    "duration": 11,
    "start_time": "2022-06-29T19:38:14.468Z"
   },
   {
    "duration": 4,
    "start_time": "2022-06-29T19:38:15.432Z"
   },
   {
    "duration": 13,
    "start_time": "2022-06-29T19:38:17.282Z"
   },
   {
    "duration": 4,
    "start_time": "2022-06-29T19:38:48.994Z"
   },
   {
    "duration": 11,
    "start_time": "2022-06-29T19:38:49.904Z"
   },
   {
    "duration": 5,
    "start_time": "2022-06-29T19:47:39.968Z"
   },
   {
    "duration": 1146,
    "start_time": "2022-06-29T19:47:41.272Z"
   },
   {
    "duration": 1132,
    "start_time": "2022-06-29T19:48:08.771Z"
   },
   {
    "duration": 1144,
    "start_time": "2022-06-29T19:48:10.979Z"
   },
   {
    "duration": 1174,
    "start_time": "2022-06-29T19:48:30.412Z"
   },
   {
    "duration": 1118,
    "start_time": "2022-06-29T19:48:31.845Z"
   },
   {
    "duration": 5,
    "start_time": "2022-06-29T19:53:06.446Z"
   },
   {
    "duration": 5,
    "start_time": "2022-06-29T19:54:47.092Z"
   },
   {
    "duration": 1209,
    "start_time": "2022-06-29T19:54:48.232Z"
   },
   {
    "duration": 1138,
    "start_time": "2022-06-29T19:54:49.443Z"
   },
   {
    "duration": 1162,
    "start_time": "2022-06-29T19:54:50.583Z"
   },
   {
    "duration": 7,
    "start_time": "2022-06-29T19:56:46.070Z"
   },
   {
    "duration": 1125,
    "start_time": "2022-06-29T19:56:46.900Z"
   },
   {
    "duration": 6,
    "start_time": "2022-06-29T19:57:02.887Z"
   },
   {
    "duration": 1109,
    "start_time": "2022-06-29T19:57:03.461Z"
   },
   {
    "duration": 0,
    "start_time": "2022-06-29T19:57:04.572Z"
   },
   {
    "duration": 6,
    "start_time": "2022-06-29T19:58:46.086Z"
   },
   {
    "duration": 1116,
    "start_time": "2022-06-29T19:58:47.068Z"
   },
   {
    "duration": 5,
    "start_time": "2022-06-29T19:59:32.765Z"
   },
   {
    "duration": 1094,
    "start_time": "2022-06-29T19:59:34.641Z"
   },
   {
    "duration": 6,
    "start_time": "2022-06-29T19:59:46.716Z"
   },
   {
    "duration": 1144,
    "start_time": "2022-06-29T19:59:49.937Z"
   },
   {
    "duration": 6,
    "start_time": "2022-06-29T20:00:25.335Z"
   },
   {
    "duration": 1151,
    "start_time": "2022-06-29T20:00:28.218Z"
   },
   {
    "duration": 9,
    "start_time": "2022-06-29T20:00:38.856Z"
   },
   {
    "duration": 1234,
    "start_time": "2022-06-29T20:00:39.414Z"
   },
   {
    "duration": 5,
    "start_time": "2022-06-29T20:01:38.721Z"
   },
   {
    "duration": 1182,
    "start_time": "2022-06-29T20:01:39.817Z"
   },
   {
    "duration": 6,
    "start_time": "2022-06-29T20:02:07.245Z"
   },
   {
    "duration": 1208,
    "start_time": "2022-06-29T20:02:07.601Z"
   },
   {
    "duration": 6,
    "start_time": "2022-06-29T20:02:27.690Z"
   },
   {
    "duration": 1172,
    "start_time": "2022-06-29T20:02:28.876Z"
   },
   {
    "duration": 5,
    "start_time": "2022-06-29T20:05:13.136Z"
   },
   {
    "duration": 1110,
    "start_time": "2022-06-29T20:05:14.115Z"
   },
   {
    "duration": 1173,
    "start_time": "2022-06-29T20:05:15.227Z"
   },
   {
    "duration": 1168,
    "start_time": "2022-06-29T20:05:16.402Z"
   },
   {
    "duration": 5,
    "start_time": "2022-06-29T20:05:32.843Z"
   },
   {
    "duration": 1172,
    "start_time": "2022-06-29T20:05:33.936Z"
   },
   {
    "duration": 1168,
    "start_time": "2022-06-29T20:05:35.110Z"
   },
   {
    "duration": 1134,
    "start_time": "2022-06-29T20:13:25.648Z"
   },
   {
    "duration": 5,
    "start_time": "2022-06-29T20:29:23.907Z"
   },
   {
    "duration": 1177,
    "start_time": "2022-06-29T20:29:24.342Z"
   },
   {
    "duration": 452,
    "start_time": "2022-06-29T20:29:47.704Z"
   },
   {
    "duration": 6,
    "start_time": "2022-06-29T20:30:00.642Z"
   },
   {
    "duration": 1218,
    "start_time": "2022-06-29T20:30:00.908Z"
   },
   {
    "duration": 0,
    "start_time": "2022-06-29T20:30:02.127Z"
   },
   {
    "duration": 5,
    "start_time": "2022-06-29T20:31:19.716Z"
   },
   {
    "duration": 1414,
    "start_time": "2022-06-29T20:31:20.787Z"
   },
   {
    "duration": 1464,
    "start_time": "2022-06-29T20:31:23.828Z"
   },
   {
    "duration": 1351,
    "start_time": "2022-06-29T20:31:25.294Z"
   },
   {
    "duration": 6,
    "start_time": "2022-06-29T20:39:32.375Z"
   },
   {
    "duration": 1409,
    "start_time": "2022-06-29T20:39:33.223Z"
   },
   {
    "duration": 1384,
    "start_time": "2022-06-29T20:39:34.634Z"
   },
   {
    "duration": 5,
    "start_time": "2022-06-29T20:39:51.406Z"
   },
   {
    "duration": 1500,
    "start_time": "2022-06-29T20:39:51.670Z"
   },
   {
    "duration": 1465,
    "start_time": "2022-06-29T20:39:53.172Z"
   },
   {
    "duration": 1498,
    "start_time": "2022-06-29T20:39:54.638Z"
   },
   {
    "duration": 6,
    "start_time": "2022-06-29T20:40:44.111Z"
   },
   {
    "duration": 1450,
    "start_time": "2022-06-29T20:40:44.595Z"
   },
   {
    "duration": 6,
    "start_time": "2022-06-29T20:42:22.720Z"
   },
   {
    "duration": 1374,
    "start_time": "2022-06-29T20:42:23.365Z"
   },
   {
    "duration": 1401,
    "start_time": "2022-06-29T20:42:24.741Z"
   },
   {
    "duration": 1461,
    "start_time": "2022-06-29T20:42:27.965Z"
   },
   {
    "duration": 6,
    "start_time": "2022-06-29T20:43:52.068Z"
   },
   {
    "duration": 1608,
    "start_time": "2022-06-29T20:43:53.213Z"
   },
   {
    "duration": 6,
    "start_time": "2022-06-29T20:44:20.102Z"
   },
   {
    "duration": 1396,
    "start_time": "2022-06-29T20:44:22.533Z"
   },
   {
    "duration": 6,
    "start_time": "2022-06-29T20:45:51.681Z"
   },
   {
    "duration": 1413,
    "start_time": "2022-06-29T20:45:51.972Z"
   },
   {
    "duration": 1460,
    "start_time": "2022-06-29T20:45:53.387Z"
   },
   {
    "duration": 1374,
    "start_time": "2022-06-29T20:45:54.848Z"
   },
   {
    "duration": 88,
    "start_time": "2022-06-29T20:46:32.967Z"
   },
   {
    "duration": 0,
    "start_time": "2022-06-29T20:46:33.057Z"
   },
   {
    "duration": 1550,
    "start_time": "2022-06-29T20:46:36.123Z"
   },
   {
    "duration": 110,
    "start_time": "2022-06-29T20:46:45.577Z"
   },
   {
    "duration": 1457,
    "start_time": "2022-06-29T20:46:45.848Z"
   },
   {
    "duration": 1529,
    "start_time": "2022-06-29T20:46:47.307Z"
   },
   {
    "duration": 1523,
    "start_time": "2022-06-29T20:46:50.602Z"
   },
   {
    "duration": 6,
    "start_time": "2022-06-29T20:48:22.531Z"
   },
   {
    "duration": 1465,
    "start_time": "2022-06-29T20:48:22.968Z"
   },
   {
    "duration": 1409,
    "start_time": "2022-06-29T20:48:24.435Z"
   },
   {
    "duration": 1531,
    "start_time": "2022-06-29T20:48:25.846Z"
   },
   {
    "duration": 8,
    "start_time": "2022-06-29T20:51:08.566Z"
   },
   {
    "duration": 85,
    "start_time": "2022-06-29T21:08:59.701Z"
   },
   {
    "duration": 1437,
    "start_time": "2022-06-29T21:09:19.613Z"
   },
   {
    "duration": 12,
    "start_time": "2022-06-29T21:09:21.052Z"
   },
   {
    "duration": 410,
    "start_time": "2022-06-29T21:09:21.066Z"
   },
   {
    "duration": 4,
    "start_time": "2022-06-29T21:09:21.478Z"
   },
   {
    "duration": 113,
    "start_time": "2022-06-29T21:09:21.484Z"
   },
   {
    "duration": 106,
    "start_time": "2022-06-29T21:09:21.598Z"
   },
   {
    "duration": 110,
    "start_time": "2022-06-29T21:09:21.706Z"
   },
   {
    "duration": 9,
    "start_time": "2022-06-29T21:09:21.818Z"
   },
   {
    "duration": 38,
    "start_time": "2022-06-29T21:09:21.829Z"
   },
   {
    "duration": 7,
    "start_time": "2022-06-29T21:09:21.869Z"
   },
   {
    "duration": 21,
    "start_time": "2022-06-29T21:09:21.877Z"
   },
   {
    "duration": 16,
    "start_time": "2022-06-29T21:09:21.900Z"
   },
   {
    "duration": 17,
    "start_time": "2022-06-29T21:09:21.918Z"
   },
   {
    "duration": 157,
    "start_time": "2022-06-29T21:09:21.959Z"
   },
   {
    "duration": 16,
    "start_time": "2022-06-29T21:09:22.117Z"
   },
   {
    "duration": 30,
    "start_time": "2022-06-29T21:09:22.135Z"
   },
   {
    "duration": 13,
    "start_time": "2022-06-29T21:09:22.166Z"
   },
   {
    "duration": 17,
    "start_time": "2022-06-29T21:09:22.180Z"
   },
   {
    "duration": 5,
    "start_time": "2022-06-29T21:09:22.200Z"
   },
   {
    "duration": 57,
    "start_time": "2022-06-29T21:09:22.207Z"
   },
   {
    "duration": 3,
    "start_time": "2022-06-29T21:09:22.266Z"
   },
   {
    "duration": 89,
    "start_time": "2022-06-29T21:09:22.271Z"
   },
   {
    "duration": 108,
    "start_time": "2022-06-29T21:09:22.370Z"
   },
   {
    "duration": 196,
    "start_time": "2022-06-29T21:09:22.480Z"
   },
   {
    "duration": 4,
    "start_time": "2022-06-29T21:09:22.678Z"
   },
   {
    "duration": 10,
    "start_time": "2022-06-29T21:09:22.757Z"
   },
   {
    "duration": 91,
    "start_time": "2022-06-29T21:09:22.771Z"
   },
   {
    "duration": 7,
    "start_time": "2022-06-29T21:09:22.865Z"
   },
   {
    "duration": 5,
    "start_time": "2022-06-29T21:09:22.874Z"
   },
   {
    "duration": 5,
    "start_time": "2022-06-29T21:09:22.881Z"
   },
   {
    "duration": 5,
    "start_time": "2022-06-29T21:09:22.888Z"
   },
   {
    "duration": 4,
    "start_time": "2022-06-29T21:09:22.894Z"
   },
   {
    "duration": 9,
    "start_time": "2022-06-29T21:09:22.900Z"
   },
   {
    "duration": 8,
    "start_time": "2022-06-29T21:09:22.911Z"
   },
   {
    "duration": 8,
    "start_time": "2022-06-29T21:09:22.920Z"
   },
   {
    "duration": 10,
    "start_time": "2022-06-29T21:09:22.955Z"
   },
   {
    "duration": 1537,
    "start_time": "2022-06-29T21:09:22.967Z"
   },
   {
    "duration": 1538,
    "start_time": "2022-06-29T21:09:24.506Z"
   },
   {
    "duration": 1598,
    "start_time": "2022-06-29T21:09:26.046Z"
   },
   {
    "duration": 11,
    "start_time": "2022-07-01T10:01:38.655Z"
   },
   {
    "duration": 1575,
    "start_time": "2022-07-01T10:01:53.034Z"
   },
   {
    "duration": 3,
    "start_time": "2022-07-01T10:01:54.611Z"
   },
   {
    "duration": 681,
    "start_time": "2022-07-01T10:01:54.615Z"
   },
   {
    "duration": 3,
    "start_time": "2022-07-01T10:01:55.298Z"
   },
   {
    "duration": 102,
    "start_time": "2022-07-01T10:01:55.303Z"
   },
   {
    "duration": 95,
    "start_time": "2022-07-01T10:01:55.407Z"
   },
   {
    "duration": 100,
    "start_time": "2022-07-01T10:01:55.504Z"
   },
   {
    "duration": 9,
    "start_time": "2022-07-01T10:01:55.606Z"
   },
   {
    "duration": 9,
    "start_time": "2022-07-01T10:01:55.627Z"
   },
   {
    "duration": 25,
    "start_time": "2022-07-01T10:01:55.639Z"
   },
   {
    "duration": 34,
    "start_time": "2022-07-01T10:01:55.666Z"
   },
   {
    "duration": 20,
    "start_time": "2022-07-01T10:01:55.702Z"
   },
   {
    "duration": 20,
    "start_time": "2022-07-01T10:01:55.728Z"
   },
   {
    "duration": 149,
    "start_time": "2022-07-01T10:01:55.750Z"
   },
   {
    "duration": 15,
    "start_time": "2022-07-01T10:01:55.901Z"
   },
   {
    "duration": 28,
    "start_time": "2022-07-01T10:01:55.918Z"
   },
   {
    "duration": 16,
    "start_time": "2022-07-01T10:01:55.947Z"
   },
   {
    "duration": 15,
    "start_time": "2022-07-01T10:01:55.965Z"
   },
   {
    "duration": 16,
    "start_time": "2022-07-01T10:01:55.982Z"
   },
   {
    "duration": 54,
    "start_time": "2022-07-01T10:01:56.000Z"
   },
   {
    "duration": 4,
    "start_time": "2022-07-01T10:01:56.056Z"
   },
   {
    "duration": 172,
    "start_time": "2022-07-01T10:01:56.061Z"
   },
   {
    "duration": 198,
    "start_time": "2022-07-01T10:01:56.235Z"
   },
   {
    "duration": 214,
    "start_time": "2022-07-01T10:01:56.435Z"
   },
   {
    "duration": 77,
    "start_time": "2022-07-01T10:01:56.651Z"
   },
   {
    "duration": 107,
    "start_time": "2022-07-01T10:01:56.731Z"
   },
   {
    "duration": 5,
    "start_time": "2022-07-01T10:01:56.841Z"
   },
   {
    "duration": 4,
    "start_time": "2022-07-01T10:01:56.849Z"
   },
   {
    "duration": 18,
    "start_time": "2022-07-01T10:01:56.854Z"
   },
   {
    "duration": 7,
    "start_time": "2022-07-01T10:01:56.873Z"
   },
   {
    "duration": 9,
    "start_time": "2022-07-01T10:01:56.882Z"
   },
   {
    "duration": 7,
    "start_time": "2022-07-01T10:01:56.892Z"
   },
   {
    "duration": 11,
    "start_time": "2022-07-01T10:01:56.901Z"
   },
   {
    "duration": 15,
    "start_time": "2022-07-01T10:01:56.926Z"
   },
   {
    "duration": 8,
    "start_time": "2022-07-01T10:01:56.943Z"
   },
   {
    "duration": 6,
    "start_time": "2022-07-01T10:01:56.953Z"
   },
   {
    "duration": 1454,
    "start_time": "2022-07-01T10:01:56.960Z"
   },
   {
    "duration": 1533,
    "start_time": "2022-07-01T10:01:58.416Z"
   },
   {
    "duration": 1452,
    "start_time": "2022-07-01T10:01:59.951Z"
   },
   {
    "duration": 6,
    "start_time": "2022-07-01T10:02:41.214Z"
   },
   {
    "duration": 1413,
    "start_time": "2022-07-01T10:02:54.425Z"
   },
   {
    "duration": 1406,
    "start_time": "2022-07-01T10:02:55.840Z"
   },
   {
    "duration": 1438,
    "start_time": "2022-07-01T10:02:57.247Z"
   }
  ],
  "kernelspec": {
   "display_name": "Python 3 (ipykernel)",
   "language": "python",
   "name": "python3"
  },
  "language_info": {
   "codemirror_mode": {
    "name": "ipython",
    "version": 3
   },
   "file_extension": ".py",
   "mimetype": "text/x-python",
   "name": "python",
   "nbconvert_exporter": "python",
   "pygments_lexer": "ipython3",
   "version": "3.7.8"
  },
  "toc": {
   "base_numbering": 1,
   "nav_menu": {},
   "number_sections": true,
   "sideBar": true,
   "skip_h1_title": true,
   "title_cell": "Table of Contents",
   "title_sidebar": "Contents",
   "toc_cell": false,
   "toc_position": {
    "height": "calc(100% - 180px)",
    "left": "10px",
    "top": "150px",
    "width": "366.391px"
   },
   "toc_section_display": true,
   "toc_window_display": true
  }
 },
 "nbformat": 4,
 "nbformat_minor": 2
}
