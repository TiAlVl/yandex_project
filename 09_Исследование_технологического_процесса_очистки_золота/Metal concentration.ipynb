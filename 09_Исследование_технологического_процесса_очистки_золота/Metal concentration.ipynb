{
 "cells": [
  {
   "cell_type": "markdown",
   "metadata": {
    "toc": true
   },
   "source": [
    "<h1>Содержание<span class=\"tocSkip\"></span></h1>\n",
    "<div class=\"toc\"><ul class=\"toc-item\"><li><span><a href=\"#Подготовка-данных\" data-toc-modified-id=\"Подготовка-данных-1\"><span class=\"toc-item-num\">1&nbsp;&nbsp;</span>Подготовка данных</a></span><ul class=\"toc-item\"><li><span><a href=\"#Откроем-и-изучим-файлы\" data-toc-modified-id=\"Откроем-и-изучим-файлы-1.1\"><span class=\"toc-item-num\">1.1&nbsp;&nbsp;</span>Откроем и изучим файлы</a></span></li><li><span><a href=\"#Проверка-расчета-эффективности\" data-toc-modified-id=\"Проверка-расчета-эффективности-1.2\"><span class=\"toc-item-num\">1.2&nbsp;&nbsp;</span>Проверка расчета эффективности</a></span></li><li><span><a href=\"#Анализ-и-описание-признаков,-недоступных-в-тестовой-выборке\" data-toc-modified-id=\"Анализ-и-описание-признаков,-недоступных-в-тестовой-выборке-1.3\"><span class=\"toc-item-num\">1.3&nbsp;&nbsp;</span>Анализ и описание признаков, недоступных в тестовой выборке</a></span></li><li><span><a href=\"#Предобработка-данных.\" data-toc-modified-id=\"Предобработка-данных.-1.4\"><span class=\"toc-item-num\">1.4&nbsp;&nbsp;</span>Предобработка данных.</a></span></li><li><span><a href=\"#Вывод\" data-toc-modified-id=\"Вывод-1.5\"><span class=\"toc-item-num\">1.5&nbsp;&nbsp;</span>Вывод</a></span></li></ul></li><li><span><a href=\"#Анализ-данных\" data-toc-modified-id=\"Анализ-данных-2\"><span class=\"toc-item-num\">2&nbsp;&nbsp;</span>Анализ данных</a></span><ul class=\"toc-item\"><li><span><a href=\"#Посмотрим-изменение-концентрации-металлов-(Au,-Ag,-Pb)-на-различных-этапах-очистки.-Опишите-выводы.\" data-toc-modified-id=\"Посмотрим-изменение-концентрации-металлов-(Au,-Ag,-Pb)-на-различных-этапах-очистки.-Опишите-выводы.-2.1\"><span class=\"toc-item-num\">2.1&nbsp;&nbsp;</span>Посмотрим изменение концентрации металлов (Au, Ag, Pb) на различных этапах очистки. Опишите выводы.</a></span></li><li><span><a href=\"#Сравним-распределение-размеров-гранул-сырья-на-обучающей-и-тестовой-выборках.-Если-распределения-сильно-отличаются-друг-от-друга,-оценка-модели-будет-неправильной.\" data-toc-modified-id=\"Сравним-распределение-размеров-гранул-сырья-на-обучающей-и-тестовой-выборках.-Если-распределения-сильно-отличаются-друг-от-друга,-оценка-модели-будет-неправильной.-2.2\"><span class=\"toc-item-num\">2.2&nbsp;&nbsp;</span>Сравним распределение размеров гранул сырья на обучающей и тестовой выборках. Если распределения сильно отличаются друг от друга, оценка модели будет неправильной.</a></span></li><li><span><a href=\"#Исследуйте-суммарную-концентрацию-всех-веществ-на-разных-стадиях:-в-сырье,-в-черновом-и-финальном-концентратах.\" data-toc-modified-id=\"Исследуйте-суммарную-концентрацию-всех-веществ-на-разных-стадиях:-в-сырье,-в-черновом-и-финальном-концентратах.-2.3\"><span class=\"toc-item-num\">2.3&nbsp;&nbsp;</span>Исследуйте суммарную концентрацию всех веществ на разных стадиях: в сырье, в черновом и финальном концентратах.</a></span></li></ul></li><li><span><a href=\"#Модель\" data-toc-modified-id=\"Модель-3\"><span class=\"toc-item-num\">3&nbsp;&nbsp;</span>Модель</a></span><ul class=\"toc-item\"><li><span><a href=\"#Функция-для-вычисления-итоговой-sMAPE--(Symmetric-Mean-Absolute-Percentage-Error).\" data-toc-modified-id=\"Функция-для-вычисления-итоговой-sMAPE--(Symmetric-Mean-Absolute-Percentage-Error).-3.1\"><span class=\"toc-item-num\">3.1&nbsp;&nbsp;</span>Функция для вычисления итоговой sMAPE  (Symmetric Mean Absolute Percentage Error).</a></span></li><li><span><a href=\"#Обучение-разных-моделей\" data-toc-modified-id=\"Обучение-разных-моделей-3.2\"><span class=\"toc-item-num\">3.2&nbsp;&nbsp;</span>Обучение разных моделей</a></span></li><li><span><a href=\"#оценка-качества-кросс-валидацией\" data-toc-modified-id=\"оценка-качества-кросс-валидацией-3.3\"><span class=\"toc-item-num\">3.3&nbsp;&nbsp;</span>оценка качества кросс валидацией</a></span></li><li><span><a href=\"#Выбор-лучшей-модели.-Проверка-на-тестовой-выборке.\" data-toc-modified-id=\"Выбор-лучшей-модели.-Проверка-на-тестовой-выборке.-3.4\"><span class=\"toc-item-num\">3.4&nbsp;&nbsp;</span>Выбор лучшей модели. Проверка на тестовой выборке.</a></span></li></ul></li><li><span><a href=\"#Вывод\" data-toc-modified-id=\"Вывод-4\"><span class=\"toc-item-num\">4&nbsp;&nbsp;</span>Вывод</a></span></li><li><span><a href=\"#Чек-лист-готовности-проекта\" data-toc-modified-id=\"Чек-лист-готовности-проекта-5\"><span class=\"toc-item-num\">5&nbsp;&nbsp;</span>Чек-лист готовности проекта</a></span></li></ul></div>"
   ]
  },
  {
   "cell_type": "markdown",
   "metadata": {},
   "source": [
    "# Восстановление золота из руды"
   ]
  },
  {
   "cell_type": "markdown",
   "metadata": {},
   "source": [
    "Подготовьте прототип модели машинного обучения для «Цифры». Компания разрабатывает решения для эффективной работы промышленных предприятий.\n",
    "\n",
    "Модель должна предсказать коэффициент восстановления золота из золотосодержащей руды. Используйте данные с параметрами добычи и очистки. \n",
    "\n",
    "Модель поможет оптимизировать производство, чтобы не запускать предприятие с убыточными характеристиками.\n",
    "\n",
    "Вам нужно:\n",
    "\n",
    "1. Подготовить данные;\n",
    "2. Провести исследовательский анализ данных;\n",
    "3. Построить и обучить модель.\n",
    "\n",
    "Чтобы выполнить проект, обращайтесь к библиотекам *pandas*, *matplotlib* и *sklearn.* Вам поможет их документация."
   ]
  },
  {
   "cell_type": "markdown",
   "metadata": {},
   "source": [
    "# Цель проекта:\n",
    "<br>Подготовить прототип модели машинного обучения\n",
    "<br>Модель должна предсказать коэффициент восстановления золота из золотосодержащей руды\n",
    "<br>Модель поможет оптимизировать производство, чтобы не запускать предприятие с убыточными характеристиками\n",
    "\n",
    "<br>Необходимо спрогнозировать сразу две величины:\n",
    "1.\tэффективность обогащения чернового концентрата rougher.output.recovery;\n",
    "2.\tэффективность обогащения финального концентрата final.output.recovery.\n"
   ]
  },
  {
   "cell_type": "markdown",
   "metadata": {},
   "source": [
    "# План проекта:\n",
    "\n"
   ]
  },
  {
   "cell_type": "markdown",
   "metadata": {},
   "source": [
    "1. Подготовка данных\n",
    "<br>1. 1. Открыть и изучить файлы\n",
    "<br>1. 2. Проверка расчета эффективности обогащения:\n",
    "<br>    * Вычислите её на обучающей выборке для признака rougher.output.recovery. \n",
    "<br>    * Найдите MAE между вашими расчётами и значением признака. \n",
    "<br>    * Опишите выводы.\n",
    "<br>1. 3. Анализ признаков, недоступные в тестовой выборке. Описание этих параметров, их тип данных\n",
    "<br>1. 4. Проведите предобработку данных.\n",
    "<br>1. 5. Вывод по подготовке данных\n",
    "<br>\n",
    "\n",
    "2. Проанализируйте данные\n",
    "<br>2. 1. Посмотрите, как меняется концентрация металлов (Au, Ag, Pb) на различных этапах очистки. Опишите выводы.\n",
    "<br>2. 2. Сравните распределения размеров гранул сырья на обучающей и тестовой выборках. Если распределения сильно отличаются друг от друга, оценка модели будет неправильной.\n",
    "<br>2. 3. Исследуйте суммарную концентрацию всех веществ на разных стадиях: в сырье, в черновом и финальном концентратах.\n",
    "<br>\n",
    "\n",
    "3. Постройте модель\n",
    "<br>3. 1. Напишите функцию для вычисления итоговой sMAPE.\n",
    "<br>3. 2. Обучите разные модели и оцените их качество кросс-валидацией. Выберите лучшую модель и проверьте её на тестовой выборке. Опишите выводы.\n",
    "<br>\n",
    "\n",
    "4. Вывод"
   ]
  },
  {
   "cell_type": "markdown",
   "metadata": {},
   "source": [
    "## Подготовка данных"
   ]
  },
  {
   "cell_type": "markdown",
   "metadata": {},
   "source": [
    "### Откроем и изучим файлы"
   ]
  },
  {
   "cell_type": "code",
   "execution_count": 1,
   "metadata": {},
   "outputs": [],
   "source": [
    "# импортируем модули\n",
    "import pandas as pd\n",
    "from tqdm import tqdm\n",
    "import matplotlib\n",
    "import matplotlib.pyplot as plt\n",
    "import numpy as np\n",
    "from sklearn.metrics import mean_absolute_error, make_scorer\n",
    "# линейная регрессия\n",
    "from sklearn.linear_model import LinearRegression\n",
    "# решающее дерево\n",
    "from sklearn.tree import DecisionTreeRegressor\n",
    "# Сулчайный лес\n",
    "from sklearn.ensemble import RandomForestRegressor\n",
    "from sklearn.preprocessing import StandardScaler\n",
    "from sklearn.dummy import DummyRegressor\n",
    "from sklearn.model_selection import train_test_split, cross_val_score"
   ]
  },
  {
   "cell_type": "code",
   "execution_count": 2,
   "metadata": {},
   "outputs": [],
   "source": [
    "# Отображение всех столбцов\n",
    "pd.set_option('display.max_columns', None)\n",
    "# Два знака после запятой \n",
    "pd.options.display.float_format = '{:,.2f}'.format"
   ]
  },
  {
   "cell_type": "code",
   "execution_count": 3,
   "metadata": {},
   "outputs": [],
   "source": [
    "# загрузим данные из файлов\n",
    "# Данные индексируются датой\n",
    "data_gold_train = pd.read_csv('/datasets/gold_recovery_train_new.csv', index_col = 'date')\n",
    "data_gold_test = pd.read_csv('/datasets/gold_recovery_test_new.csv', index_col = 'date')\n",
    "data_gold_full = pd.read_csv('/datasets/gold_recovery_full_new.csv', index_col = 'date')"
   ]
  },
  {
   "cell_type": "code",
   "execution_count": 4,
   "metadata": {},
   "outputs": [],
   "source": [
    "# Информация о датсетах: пропуски, дубликаты\n",
    "def about_data(data):\n",
    "    print('Информация о датасете: \\n')\n",
    "    print(data.info(), '\\n')\n",
    "    print('Статистические данные: \\n')\n",
    "    print(data.describe(), '\\n')\n",
    "    print('Наличие дубликатов: \\n')\n",
    "    print(data.duplicated().sum(), '\\n')\n",
    "    print('Наличие пропусков: \\n')\n",
    "    print(data.isna().sum(), '\\n')    \n",
    "    print('5 разных строк: \\n')\n",
    "    print(data.sample(5), '\\n')"
   ]
  },
  {
   "cell_type": "code",
   "execution_count": 5,
   "metadata": {},
   "outputs": [
    {
     "name": "stdout",
     "output_type": "stream",
     "text": [
      "Информация о датасете: \n",
      "\n",
      "<class 'pandas.core.frame.DataFrame'>\n",
      "Index: 14149 entries, 2016-01-15 00:00:00 to 2018-08-18 10:59:59\n",
      "Data columns (total 86 columns):\n",
      " #   Column                                              Non-Null Count  Dtype  \n",
      "---  ------                                              --------------  -----  \n",
      " 0   final.output.concentrate_ag                         14148 non-null  float64\n",
      " 1   final.output.concentrate_pb                         14148 non-null  float64\n",
      " 2   final.output.concentrate_sol                        13938 non-null  float64\n",
      " 3   final.output.concentrate_au                         14149 non-null  float64\n",
      " 4   final.output.recovery                               14149 non-null  float64\n",
      " 5   final.output.tail_ag                                14149 non-null  float64\n",
      " 6   final.output.tail_pb                                14049 non-null  float64\n",
      " 7   final.output.tail_sol                               14144 non-null  float64\n",
      " 8   final.output.tail_au                                14149 non-null  float64\n",
      " 9   primary_cleaner.input.sulfate                       14129 non-null  float64\n",
      " 10  primary_cleaner.input.depressant                    14117 non-null  float64\n",
      " 11  primary_cleaner.input.feed_size                     14149 non-null  float64\n",
      " 12  primary_cleaner.input.xanthate                      14049 non-null  float64\n",
      " 13  primary_cleaner.output.concentrate_ag               14149 non-null  float64\n",
      " 14  primary_cleaner.output.concentrate_pb               14063 non-null  float64\n",
      " 15  primary_cleaner.output.concentrate_sol              13863 non-null  float64\n",
      " 16  primary_cleaner.output.concentrate_au               14149 non-null  float64\n",
      " 17  primary_cleaner.output.tail_ag                      14148 non-null  float64\n",
      " 18  primary_cleaner.output.tail_pb                      14134 non-null  float64\n",
      " 19  primary_cleaner.output.tail_sol                     14103 non-null  float64\n",
      " 20  primary_cleaner.output.tail_au                      14149 non-null  float64\n",
      " 21  primary_cleaner.state.floatbank8_a_air              14145 non-null  float64\n",
      " 22  primary_cleaner.state.floatbank8_a_level            14148 non-null  float64\n",
      " 23  primary_cleaner.state.floatbank8_b_air              14145 non-null  float64\n",
      " 24  primary_cleaner.state.floatbank8_b_level            14148 non-null  float64\n",
      " 25  primary_cleaner.state.floatbank8_c_air              14147 non-null  float64\n",
      " 26  primary_cleaner.state.floatbank8_c_level            14148 non-null  float64\n",
      " 27  primary_cleaner.state.floatbank8_d_air              14146 non-null  float64\n",
      " 28  primary_cleaner.state.floatbank8_d_level            14148 non-null  float64\n",
      " 29  rougher.calculation.sulfate_to_au_concentrate       14148 non-null  float64\n",
      " 30  rougher.calculation.floatbank10_sulfate_to_au_feed  14148 non-null  float64\n",
      " 31  rougher.calculation.floatbank11_sulfate_to_au_feed  14148 non-null  float64\n",
      " 32  rougher.calculation.au_pb_ratio                     14149 non-null  float64\n",
      " 33  rougher.input.feed_ag                               14149 non-null  float64\n",
      " 34  rougher.input.feed_pb                               14049 non-null  float64\n",
      " 35  rougher.input.feed_rate                             14141 non-null  float64\n",
      " 36  rougher.input.feed_size                             14005 non-null  float64\n",
      " 37  rougher.input.feed_sol                              14071 non-null  float64\n",
      " 38  rougher.input.feed_au                               14149 non-null  float64\n",
      " 39  rougher.input.floatbank10_sulfate                   14120 non-null  float64\n",
      " 40  rougher.input.floatbank10_xanthate                  14141 non-null  float64\n",
      " 41  rougher.input.floatbank11_sulfate                   14113 non-null  float64\n",
      " 42  rougher.input.floatbank11_xanthate                  13721 non-null  float64\n",
      " 43  rougher.output.concentrate_ag                       14149 non-null  float64\n",
      " 44  rougher.output.concentrate_pb                       14149 non-null  float64\n",
      " 45  rougher.output.concentrate_sol                      14127 non-null  float64\n",
      " 46  rougher.output.concentrate_au                       14149 non-null  float64\n",
      " 47  rougher.output.recovery                             14149 non-null  float64\n",
      " 48  rougher.output.tail_ag                              14148 non-null  float64\n",
      " 49  rougher.output.tail_pb                              14149 non-null  float64\n",
      " 50  rougher.output.tail_sol                             14149 non-null  float64\n",
      " 51  rougher.output.tail_au                              14149 non-null  float64\n",
      " 52  rougher.state.floatbank10_a_air                     14148 non-null  float64\n",
      " 53  rougher.state.floatbank10_a_level                   14148 non-null  float64\n",
      " 54  rougher.state.floatbank10_b_air                     14148 non-null  float64\n",
      " 55  rougher.state.floatbank10_b_level                   14148 non-null  float64\n",
      " 56  rougher.state.floatbank10_c_air                     14148 non-null  float64\n",
      " 57  rougher.state.floatbank10_c_level                   14148 non-null  float64\n",
      " 58  rougher.state.floatbank10_d_air                     14149 non-null  float64\n",
      " 59  rougher.state.floatbank10_d_level                   14149 non-null  float64\n",
      " 60  rougher.state.floatbank10_e_air                     13713 non-null  float64\n",
      " 61  rougher.state.floatbank10_e_level                   14149 non-null  float64\n",
      " 62  rougher.state.floatbank10_f_air                     14149 non-null  float64\n",
      " 63  rougher.state.floatbank10_f_level                   14149 non-null  float64\n",
      " 64  secondary_cleaner.output.tail_ag                    14147 non-null  float64\n",
      " 65  secondary_cleaner.output.tail_pb                    14139 non-null  float64\n",
      " 66  secondary_cleaner.output.tail_sol                   12544 non-null  float64\n",
      " 67  secondary_cleaner.output.tail_au                    14149 non-null  float64\n",
      " 68  secondary_cleaner.state.floatbank2_a_air            13932 non-null  float64\n",
      " 69  secondary_cleaner.state.floatbank2_a_level          14148 non-null  float64\n",
      " 70  secondary_cleaner.state.floatbank2_b_air            14128 non-null  float64\n",
      " 71  secondary_cleaner.state.floatbank2_b_level          14148 non-null  float64\n",
      " 72  secondary_cleaner.state.floatbank3_a_air            14145 non-null  float64\n",
      " 73  secondary_cleaner.state.floatbank3_a_level          14148 non-null  float64\n",
      " 74  secondary_cleaner.state.floatbank3_b_air            14148 non-null  float64\n",
      " 75  secondary_cleaner.state.floatbank3_b_level          14148 non-null  float64\n",
      " 76  secondary_cleaner.state.floatbank4_a_air            14143 non-null  float64\n",
      " 77  secondary_cleaner.state.floatbank4_a_level          14148 non-null  float64\n",
      " 78  secondary_cleaner.state.floatbank4_b_air            14148 non-null  float64\n",
      " 79  secondary_cleaner.state.floatbank4_b_level          14148 non-null  float64\n",
      " 80  secondary_cleaner.state.floatbank5_a_air            14148 non-null  float64\n",
      " 81  secondary_cleaner.state.floatbank5_a_level          14148 non-null  float64\n",
      " 82  secondary_cleaner.state.floatbank5_b_air            14148 non-null  float64\n",
      " 83  secondary_cleaner.state.floatbank5_b_level          14148 non-null  float64\n",
      " 84  secondary_cleaner.state.floatbank6_a_air            14147 non-null  float64\n",
      " 85  secondary_cleaner.state.floatbank6_a_level          14148 non-null  float64\n",
      "dtypes: float64(86)\n",
      "memory usage: 9.4+ MB\n",
      "None \n",
      "\n",
      "Статистические данные: \n",
      "\n",
      "       final.output.concentrate_ag  final.output.concentrate_pb  \\\n",
      "count                    14,148.00                    14,148.00   \n",
      "mean                          5.14                        10.13   \n",
      "std                           1.37                         1.65   \n",
      "min                           0.00                         0.00   \n",
      "25%                           4.21                         9.30   \n",
      "50%                           4.99                        10.30   \n",
      "75%                           5.86                        11.17   \n",
      "max                          16.00                        17.03   \n",
      "\n",
      "       final.output.concentrate_sol  final.output.concentrate_au  \\\n",
      "count                     13,938.00                    14,149.00   \n",
      "mean                           9.20                        44.00   \n",
      "std                            2.79                         4.91   \n",
      "min                            0.00                         0.00   \n",
      "25%                            7.48                        43.28   \n",
      "50%                            8.85                        44.87   \n",
      "75%                           10.49                        46.17   \n",
      "max                           18.12                        52.76   \n",
      "\n",
      "       final.output.recovery  final.output.tail_ag  final.output.tail_pb  \\\n",
      "count              14,149.00             14,149.00             14,049.00   \n",
      "mean                   66.52                  9.61                  2.60   \n",
      "std                    10.30                  2.32                  0.97   \n",
      "min                     0.00                  0.00                  0.00   \n",
      "25%                    62.55                  8.00                  1.91   \n",
      "50%                    67.43                  9.48                  2.59   \n",
      "75%                    72.35                 11.00                  3.24   \n",
      "max                   100.00                 19.55                  5.64   \n",
      "\n",
      "       final.output.tail_sol  final.output.tail_au  \\\n",
      "count              14,144.00             14,149.00   \n",
      "mean                   10.51                  2.92   \n",
      "std                     3.00                  0.90   \n",
      "min                     0.00                  0.00   \n",
      "25%                     8.81                  2.37   \n",
      "50%                    10.51                  2.85   \n",
      "75%                    11.93                  3.43   \n",
      "max                    22.32                  8.20   \n",
      "\n",
      "       primary_cleaner.input.sulfate  primary_cleaner.input.depressant  \\\n",
      "count                      14,129.00                         14,117.00   \n",
      "mean                          133.32                              8.87   \n",
      "std                            39.43                              3.36   \n",
      "min                             0.00                              0.00   \n",
      "25%                           107.01                              6.04   \n",
      "50%                           133.02                              8.04   \n",
      "75%                           159.83                             11.52   \n",
      "max                           250.13                             20.05   \n",
      "\n",
      "       primary_cleaner.input.feed_size  primary_cleaner.input.xanthate  \\\n",
      "count                        14,149.00                       14,049.00   \n",
      "mean                              7.32                            0.89   \n",
      "std                               0.61                            0.37   \n",
      "min                               1.08                            0.00   \n",
      "25%                               6.96                            0.61   \n",
      "50%                               7.29                            0.89   \n",
      "75%                               7.70                            1.10   \n",
      "max                              10.47                            2.51   \n",
      "\n",
      "       primary_cleaner.output.concentrate_ag  \\\n",
      "count                              14,149.00   \n",
      "mean                                    8.20   \n",
      "std                                     2.01   \n",
      "min                                     0.00   \n",
      "25%                                     7.11   \n",
      "50%                                     8.23   \n",
      "75%                                     9.50   \n",
      "max                                    16.08   \n",
      "\n",
      "       primary_cleaner.output.concentrate_pb  \\\n",
      "count                              14,063.00   \n",
      "mean                                    9.59   \n",
      "std                                     2.69   \n",
      "min                                     0.00   \n",
      "25%                                     8.33   \n",
      "50%                                     9.93   \n",
      "75%                                    11.31   \n",
      "max                                    17.08   \n",
      "\n",
      "       primary_cleaner.output.concentrate_sol  \\\n",
      "count                               13,863.00   \n",
      "mean                                    10.11   \n",
      "std                                      4.06   \n",
      "min                                      0.00   \n",
      "25%                                      7.49   \n",
      "50%                                      9.73   \n",
      "75%                                     13.05   \n",
      "max                                     22.28   \n",
      "\n",
      "       primary_cleaner.output.concentrate_au  primary_cleaner.output.tail_ag  \\\n",
      "count                              14,149.00                       14,148.00   \n",
      "mean                                   32.39                           16.30   \n",
      "std                                     5.80                            3.74   \n",
      "min                                     0.00                            0.00   \n",
      "25%                                    30.86                           13.87   \n",
      "50%                                    33.23                           15.80   \n",
      "75%                                    35.33                           18.45   \n",
      "max                                    45.93                           29.46   \n",
      "\n",
      "       primary_cleaner.output.tail_pb  primary_cleaner.output.tail_sol  \\\n",
      "count                       14,134.00                        14,103.00   \n",
      "mean                             3.44                             7.53   \n",
      "std                              1.49                             2.13   \n",
      "min                              0.00                             0.00   \n",
      "25%                              2.42                             6.33   \n",
      "50%                              3.22                             7.71   \n",
      "75%                              4.25                             8.91   \n",
      "max                              9.63                            20.62   \n",
      "\n",
      "       primary_cleaner.output.tail_au  primary_cleaner.state.floatbank8_a_air  \\\n",
      "count                       14,149.00                               14,145.00   \n",
      "mean                             3.84                                1,608.00   \n",
      "std                              1.60                                  128.39   \n",
      "min                              0.00                                    0.01   \n",
      "25%                              2.87                                1,595.70   \n",
      "50%                              3.51                                1,601.82   \n",
      "75%                              4.49                                1,699.72   \n",
      "max                             17.79                                2,079.53   \n",
      "\n",
      "       primary_cleaner.state.floatbank8_a_level  \\\n",
      "count                                 14,148.00   \n",
      "mean                                    -488.78   \n",
      "std                                       35.70   \n",
      "min                                     -798.64   \n",
      "25%                                     -500.29   \n",
      "50%                                     -499.91   \n",
      "75%                                     -499.38   \n",
      "max                                     -330.13   \n",
      "\n",
      "       primary_cleaner.state.floatbank8_b_air  \\\n",
      "count                               14,145.00   \n",
      "mean                                 1,608.61   \n",
      "std                                    131.11   \n",
      "min                                      0.01   \n",
      "25%                                  1,558.96   \n",
      "50%                                  1,601.82   \n",
      "75%                                  1,700.22   \n",
      "max                                  2,114.91   \n",
      "\n",
      "       primary_cleaner.state.floatbank8_b_level  \\\n",
      "count                                 14,148.00   \n",
      "mean                                    -489.17   \n",
      "std                                       33.60   \n",
      "min                                     -740.12   \n",
      "25%                                     -500.38   \n",
      "50%                                     -499.94   \n",
      "75%                                     -499.39   \n",
      "max                                     -347.35   \n",
      "\n",
      "       primary_cleaner.state.floatbank8_c_air  \\\n",
      "count                               14,147.00   \n",
      "mean                                 1,608.88   \n",
      "std                                    134.27   \n",
      "min                                      0.02   \n",
      "25%                                  1,549.87   \n",
      "50%                                  1,601.57   \n",
      "75%                                  1,700.46   \n",
      "max                                  2,013.16   \n",
      "\n",
      "       primary_cleaner.state.floatbank8_c_level  \\\n",
      "count                                 14,148.00   \n",
      "mean                                    -489.61   \n",
      "std                                       35.62   \n",
      "min                                     -799.80   \n",
      "25%                                     -500.60   \n",
      "50%                                     -499.87   \n",
      "75%                                     -498.80   \n",
      "max                                     -346.65   \n",
      "\n",
      "       primary_cleaner.state.floatbank8_d_air  \\\n",
      "count                               14,146.00   \n",
      "mean                                 1,542.19   \n",
      "std                                    278.32   \n",
      "min                                      0.01   \n",
      "25%                                  1,452.68   \n",
      "50%                                  1,600.17   \n",
      "75%                                  1,699.36   \n",
      "max                                  2,398.90   \n",
      "\n",
      "       primary_cleaner.state.floatbank8_d_level  \\\n",
      "count                                 14,148.00   \n",
      "mean                                    -483.46   \n",
      "std                                       47.10   \n",
      "min                                     -799.79   \n",
      "25%                                     -500.46   \n",
      "50%                                     -499.83   \n",
      "75%                                     -498.48   \n",
      "max                                      -30.60   \n",
      "\n",
      "       rougher.calculation.sulfate_to_au_concentrate  \\\n",
      "count                                      14,148.00   \n",
      "mean                                       40,382.65   \n",
      "std                                       380,143.62   \n",
      "min                                   -42,235,197.37   \n",
      "25%                                        39,994.30   \n",
      "50%                                        43,684.31   \n",
      "75%                                        47,760.41   \n",
      "max                                     3,428,098.94   \n",
      "\n",
      "       rougher.calculation.floatbank10_sulfate_to_au_feed  \\\n",
      "count                                          14,148.00    \n",
      "mean                                            3,456.61    \n",
      "std                                             5,772.51    \n",
      "min                                              -486.60    \n",
      "25%                                             2,527.09    \n",
      "50%                                             2,975.89    \n",
      "75%                                             3,716.36    \n",
      "max                                           629,638.98    \n",
      "\n",
      "       rougher.calculation.floatbank11_sulfate_to_au_feed  \\\n",
      "count                                          14,148.00    \n",
      "mean                                            3,253.36    \n",
      "std                                             6,753.29    \n",
      "min                                              -264.98    \n",
      "25%                                             2,512.20    \n",
      "50%                                             2,899.81    \n",
      "75%                                             3,596.53    \n",
      "max                                           718,684.96    \n",
      "\n",
      "       rougher.calculation.au_pb_ratio  rougher.input.feed_ag  \\\n",
      "count                        14,149.00              14,149.00   \n",
      "mean                              2.37                   8.58   \n",
      "std                               0.87                   1.90   \n",
      "min                              -0.01                   0.01   \n",
      "25%                               2.00                   7.13   \n",
      "50%                               2.25                   8.16   \n",
      "75%                               2.66                   9.92   \n",
      "max                              39.38                  14.60   \n",
      "\n",
      "       rougher.input.feed_pb  rougher.input.feed_rate  \\\n",
      "count              14,049.00                14,141.00   \n",
      "mean                    3.52                   474.03   \n",
      "std                     1.07                   104.04   \n",
      "min                     0.01                     0.01   \n",
      "25%                     2.78                   420.78   \n",
      "50%                     3.42                   499.45   \n",
      "75%                     4.23                   547.33   \n",
      "max                     7.14                   717.51   \n",
      "\n",
      "       rougher.input.feed_size  rougher.input.feed_sol  rougher.input.feed_au  \\\n",
      "count                14,005.00               14,071.00              14,149.00   \n",
      "mean                     60.11                   36.31                   7.87   \n",
      "std                      22.42                    4.96                   1.92   \n",
      "min                       9.66                    0.01                   0.01   \n",
      "25%                      48.97                   34.12                   6.60   \n",
      "50%                      55.37                   37.02                   7.65   \n",
      "75%                      66.08                   39.42                   9.07   \n",
      "max                     484.97                   48.36                  13.13   \n",
      "\n",
      "       rougher.input.floatbank10_sulfate  rougher.input.floatbank10_xanthate  \\\n",
      "count                          14,120.00                           14,141.00   \n",
      "mean                               11.76                                5.85   \n",
      "std                                 3.28                                1.10   \n",
      "min                                 0.00                                0.00   \n",
      "25%                                 9.86                                5.12   \n",
      "50%                                11.69                                5.95   \n",
      "75%                                13.61                                6.60   \n",
      "max                                36.12                                9.70   \n",
      "\n",
      "       rougher.input.floatbank11_sulfate  rougher.input.floatbank11_xanthate  \\\n",
      "count                          14,113.00                           13,721.00   \n",
      "mean                               11.37                                5.89   \n",
      "std                                 3.74                                1.12   \n",
      "min                                 0.00                                0.00   \n",
      "25%                                 9.51                                5.20   \n",
      "50%                                11.38                                6.00   \n",
      "75%                                13.50                                6.70   \n",
      "max                                37.98                                9.70   \n",
      "\n",
      "       rougher.output.concentrate_ag  rougher.output.concentrate_pb  \\\n",
      "count                      14,149.00                      14,149.00   \n",
      "mean                           11.78                           7.66   \n",
      "std                             2.73                           1.86   \n",
      "min                             0.00                           0.00   \n",
      "25%                            10.49                           6.85   \n",
      "50%                            11.75                           7.76   \n",
      "75%                            13.43                           8.60   \n",
      "max                            24.48                          13.62   \n",
      "\n",
      "       rougher.output.concentrate_sol  rougher.output.concentrate_au  \\\n",
      "count                       14,127.00                      14,149.00   \n",
      "mean                            28.30                          19.44   \n",
      "std                              6.10                           3.77   \n",
      "min                              0.00                           0.00   \n",
      "25%                             26.70                          18.43   \n",
      "50%                             29.26                          19.95   \n",
      "75%                             31.74                          21.39   \n",
      "max                             38.35                          28.15   \n",
      "\n",
      "       rougher.output.recovery  rougher.output.tail_ag  \\\n",
      "count                14,149.00               14,148.00   \n",
      "mean                     82.70                    5.57   \n",
      "std                      14.48                    1.04   \n",
      "min                       0.00                    0.59   \n",
      "25%                      79.99                    4.92   \n",
      "50%                      85.30                    5.72   \n",
      "75%                      90.17                    6.31   \n",
      "max                     100.00                   12.72   \n",
      "\n",
      "       rougher.output.tail_pb  rougher.output.tail_sol  \\\n",
      "count               14,149.00                14,149.00   \n",
      "mean                     0.65                    17.88   \n",
      "std                      0.26                     3.43   \n",
      "min                      0.01                    10.01   \n",
      "25%                      0.47                    15.69   \n",
      "50%                      0.63                    18.02   \n",
      "75%                      0.79                    19.94   \n",
      "max                      3.78                    66.12   \n",
      "\n",
      "       rougher.output.tail_au  rougher.state.floatbank10_a_air  \\\n",
      "count               14,149.00                        14,148.00   \n",
      "mean                     1.76                         1,124.73   \n",
      "std                      0.71                           169.31   \n",
      "min                      0.02                            -0.04   \n",
      "25%                      1.31                           999.80   \n",
      "50%                      1.75                         1,001.69   \n",
      "75%                      2.19                         1,299.51   \n",
      "max                      9.69                         1,521.98   \n",
      "\n",
      "       rougher.state.floatbank10_a_level  rougher.state.floatbank10_b_air  \\\n",
      "count                          14,148.00                        14,148.00   \n",
      "mean                             -369.46                         1,320.71   \n",
      "std                                93.95                           183.16   \n",
      "min                              -650.20                            -0.65   \n",
      "25%                              -499.79                         1,199.37   \n",
      "50%                              -300.18                         1,301.37   \n",
      "75%                              -299.96                         1,449.55   \n",
      "max                              -281.04                         1,809.19   \n",
      "\n",
      "       rougher.state.floatbank10_b_level  rougher.state.floatbank10_c_air  \\\n",
      "count                          14,148.00                        14,148.00   \n",
      "mean                             -464.26                         1,299.36   \n",
      "std                                57.40                           213.40   \n",
      "min                              -650.26                            -0.04   \n",
      "25%                              -500.18                         1,103.10   \n",
      "50%                              -499.76                         1,300.21   \n",
      "75%                              -400.43                         1,450.35   \n",
      "max                              -296.38                         2,499.13   \n",
      "\n",
      "       rougher.state.floatbank10_c_level  rougher.state.floatbank10_d_air  \\\n",
      "count                          14,148.00                        14,149.00   \n",
      "mean                             -465.05                         1,210.34   \n",
      "std                                55.90                           210.43   \n",
      "min                              -641.00                            -0.55   \n",
      "25%                              -500.21                         1,059.71   \n",
      "50%                              -499.68                         1,200.74   \n",
      "75%                              -400.66                         1,344.38   \n",
      "max                              -292.16                         1,817.20   \n",
      "\n",
      "       rougher.state.floatbank10_d_level  rougher.state.floatbank10_e_air  \\\n",
      "count                          14,149.00                        13,713.00   \n",
      "mean                             -465.46                         1,090.21   \n",
      "std                                55.77                           184.61   \n",
      "min                              -640.52                            -1.97   \n",
      "25%                              -500.36                           997.18   \n",
      "50%                              -499.47                         1,050.50   \n",
      "75%                              -401.05                         1,200.05   \n",
      "max                              -208.33                         1,922.64   \n",
      "\n",
      "       rougher.state.floatbank10_e_level  rougher.state.floatbank10_f_air  \\\n",
      "count                          14,149.00                        14,149.00   \n",
      "mean                             -464.92                         1,035.49   \n",
      "std                                56.60                           175.05   \n",
      "min                              -649.44                            -2.43   \n",
      "25%                              -500.25                           900.97   \n",
      "50%                              -499.61                         1,000.05   \n",
      "75%                              -400.60                         1,100.17   \n",
      "max                              -272.20                         1,706.31   \n",
      "\n",
      "       rougher.state.floatbank10_f_level  secondary_cleaner.output.tail_ag  \\\n",
      "count                          14,149.00                         14,147.00   \n",
      "mean                             -464.69                             14.28   \n",
      "std                                56.65                              4.48   \n",
      "min                              -649.88                              0.00   \n",
      "25%                              -500.48                             12.18   \n",
      "50%                              -499.36                             15.36   \n",
      "75%                              -401.01                             17.23   \n",
      "max                              -191.72                             23.26   \n",
      "\n",
      "       secondary_cleaner.output.tail_pb  secondary_cleaner.output.tail_sol  \\\n",
      "count                         14,139.00                          12,544.00   \n",
      "mean                               5.85                               6.94   \n",
      "std                                2.86                               4.16   \n",
      "min                                0.00                               0.00   \n",
      "25%                                3.98                               3.23   \n",
      "50%                                5.44                               7.30   \n",
      "75%                                7.80                              10.55   \n",
      "max                               17.04                              17.98   \n",
      "\n",
      "       secondary_cleaner.output.tail_au  \\\n",
      "count                         14,149.00   \n",
      "mean                               4.25   \n",
      "std                                2.39   \n",
      "min                                0.00   \n",
      "25%                                3.15   \n",
      "50%                                3.98   \n",
      "75%                                4.88   \n",
      "max                               26.81   \n",
      "\n",
      "       secondary_cleaner.state.floatbank2_a_air  \\\n",
      "count                                 13,932.00   \n",
      "mean                                      29.61   \n",
      "std                                        5.80   \n",
      "min                                        0.08   \n",
      "25%                                       25.10   \n",
      "50%                                       30.03   \n",
      "75%                                       34.89   \n",
      "max                                       52.65   \n",
      "\n",
      "       secondary_cleaner.state.floatbank2_a_level  \\\n",
      "count                                   14,148.00   \n",
      "mean                                      -502.22   \n",
      "std                                         60.28   \n",
      "min                                       -799.61   \n",
      "25%                                       -500.25   \n",
      "50%                                       -499.96   \n",
      "75%                                       -499.59   \n",
      "max                                       -127.88   \n",
      "\n",
      "       secondary_cleaner.state.floatbank2_b_air  \\\n",
      "count                                 14,128.00   \n",
      "mean                                      24.91   \n",
      "std                                        5.99   \n",
      "min                                        0.00   \n",
      "25%                                       22.05   \n",
      "50%                                       27.02   \n",
      "75%                                       28.94   \n",
      "max                                       35.15   \n",
      "\n",
      "       secondary_cleaner.state.floatbank2_b_level  \\\n",
      "count                                   14,148.00   \n",
      "mean                                      -503.70   \n",
      "std                                         62.84   \n",
      "min                                       -799.87   \n",
      "25%                                       -500.27   \n",
      "50%                                       -500.01   \n",
      "75%                                       -499.76   \n",
      "max                                       -212.06   \n",
      "\n",
      "       secondary_cleaner.state.floatbank3_a_air  \\\n",
      "count                                 14,145.00   \n",
      "mean                                      29.24   \n",
      "std                                        5.64   \n",
      "min                                        0.00   \n",
      "25%                                       24.99   \n",
      "50%                                       28.02   \n",
      "75%                                       34.99   \n",
      "max                                       44.26   \n",
      "\n",
      "       secondary_cleaner.state.floatbank3_a_level  \\\n",
      "count                                   14,148.00   \n",
      "mean                                      -478.24   \n",
      "std                                         54.66   \n",
      "min                                       -799.61   \n",
      "25%                                       -500.18   \n",
      "50%                                       -499.88   \n",
      "75%                                       -436.92   \n",
      "max                                       -191.68   \n",
      "\n",
      "       secondary_cleaner.state.floatbank3_b_air  \\\n",
      "count                                 14,148.00   \n",
      "mean                                      22.66   \n",
      "std                                        5.00   \n",
      "min                                        0.00   \n",
      "25%                                       19.95   \n",
      "50%                                       22.04   \n",
      "75%                                       25.97   \n",
      "max                                       35.07   \n",
      "\n",
      "       secondary_cleaner.state.floatbank3_b_level  \\\n",
      "count                                   14,148.00   \n",
      "mean                                      -488.92   \n",
      "std                                         41.93   \n",
      "min                                       -759.18   \n",
      "25%                                       -500.11   \n",
      "50%                                       -499.97   \n",
      "75%                                       -499.76   \n",
      "max                                       -159.74   \n",
      "\n",
      "       secondary_cleaner.state.floatbank4_a_air  \\\n",
      "count                                 14,143.00   \n",
      "mean                                      19.99   \n",
      "std                                        5.66   \n",
      "min                                        0.00   \n",
      "25%                                       14.99   \n",
      "50%                                       20.00   \n",
      "75%                                       24.99   \n",
      "max                                       30.12   \n",
      "\n",
      "       secondary_cleaner.state.floatbank4_a_level  \\\n",
      "count                                   14,148.00   \n",
      "mean                                      -478.70   \n",
      "std                                         50.74   \n",
      "min                                       -799.71   \n",
      "25%                                       -500.63   \n",
      "50%                                       -499.68   \n",
      "75%                                       -477.47   \n",
      "max                                       -245.24   \n",
      "\n",
      "       secondary_cleaner.state.floatbank4_b_air  \\\n",
      "count                                 14,148.00   \n",
      "mean                                      15.49   \n",
      "std                                        5.26   \n",
      "min                                        0.00   \n",
      "25%                                       11.89   \n",
      "50%                                       14.98   \n",
      "75%                                       20.06   \n",
      "max                                       24.01   \n",
      "\n",
      "       secondary_cleaner.state.floatbank4_b_level  \\\n",
      "count                                   14,148.00   \n",
      "mean                                      -460.23   \n",
      "std                                         58.84   \n",
      "min                                       -799.89   \n",
      "25%                                       -500.15   \n",
      "50%                                       -499.39   \n",
      "75%                                       -400.04   \n",
      "max                                       -145.07   \n",
      "\n",
      "       secondary_cleaner.state.floatbank5_a_air  \\\n",
      "count                                 14,148.00   \n",
      "mean                                      16.78   \n",
      "std                                        5.83   \n",
      "min                                       -0.37   \n",
      "25%                                       11.08   \n",
      "50%                                       17.93   \n",
      "75%                                       21.35   \n",
      "max                                       43.71   \n",
      "\n",
      "       secondary_cleaner.state.floatbank5_a_level  \\\n",
      "count                                   14,148.00   \n",
      "mean                                      -483.96   \n",
      "std                                         37.89   \n",
      "min                                       -797.14   \n",
      "25%                                       -500.36   \n",
      "50%                                       -499.70   \n",
      "75%                                       -487.71   \n",
      "max                                       -275.07   \n",
      "\n",
      "       secondary_cleaner.state.floatbank5_b_air  \\\n",
      "count                                 14,148.00   \n",
      "mean                                      13.06   \n",
      "std                                        5.77   \n",
      "min                                        0.65   \n",
      "25%                                        8.99   \n",
      "50%                                       12.00   \n",
      "75%                                       17.98   \n",
      "max                                       27.93   \n",
      "\n",
      "       secondary_cleaner.state.floatbank5_b_level  \\\n",
      "count                                   14,148.00   \n",
      "mean                                      -483.97   \n",
      "std                                         39.21   \n",
      "min                                       -800.01   \n",
      "25%                                       -500.11   \n",
      "50%                                       -499.91   \n",
      "75%                                       -453.19   \n",
      "max                                       -157.40   \n",
      "\n",
      "       secondary_cleaner.state.floatbank6_a_air  \\\n",
      "count                                 14,147.00   \n",
      "mean                                      19.58   \n",
      "std                                        5.76   \n",
      "min                                        0.20   \n",
      "25%                                       14.99   \n",
      "50%                                       19.98   \n",
      "75%                                       24.99   \n",
      "max                                       32.19   \n",
      "\n",
      "       secondary_cleaner.state.floatbank6_a_level  \n",
      "count                                   14,148.00  \n",
      "mean                                      -506.80  \n",
      "std                                         37.08  \n",
      "min                                       -809.40  \n",
      "25%                                       -500.75  \n",
      "50%                                       -500.06  \n",
      "75%                                       -499.54  \n",
      "max                                       -104.43   \n",
      "\n",
      "Наличие дубликатов: \n",
      "\n",
      "0 \n",
      "\n",
      "Наличие пропусков: \n",
      "\n",
      "final.output.concentrate_ag                     1\n",
      "final.output.concentrate_pb                     1\n",
      "final.output.concentrate_sol                  211\n",
      "final.output.concentrate_au                     0\n",
      "final.output.recovery                           0\n",
      "                                             ... \n",
      "secondary_cleaner.state.floatbank5_a_level      1\n",
      "secondary_cleaner.state.floatbank5_b_air        1\n",
      "secondary_cleaner.state.floatbank5_b_level      1\n",
      "secondary_cleaner.state.floatbank6_a_air        2\n",
      "secondary_cleaner.state.floatbank6_a_level      1\n",
      "Length: 86, dtype: int64 \n",
      "\n",
      "5 разных строк: \n",
      "\n",
      "                     final.output.concentrate_ag  final.output.concentrate_pb  \\\n",
      "date                                                                            \n",
      "2018-03-19 06:59:59                         6.79                        11.53   \n",
      "2016-06-19 04:59:59                         3.90                        10.90   \n",
      "2018-08-09 23:59:59                         5.26                        10.54   \n",
      "2017-06-06 08:59:59                         4.34                        10.54   \n",
      "2018-05-28 16:59:59                         5.17                         8.30   \n",
      "\n",
      "                     final.output.concentrate_sol  \\\n",
      "date                                                \n",
      "2018-03-19 06:59:59                          7.16   \n",
      "2016-06-19 04:59:59                          8.40   \n",
      "2018-08-09 23:59:59                          8.77   \n",
      "2017-06-06 08:59:59                          7.81   \n",
      "2018-05-28 16:59:59                          7.92   \n",
      "\n",
      "                     final.output.concentrate_au  final.output.recovery  \\\n",
      "date                                                                      \n",
      "2018-03-19 06:59:59                        39.34                  77.54   \n",
      "2016-06-19 04:59:59                        46.55                  68.99   \n",
      "2018-08-09 23:59:59                        43.36                  78.54   \n",
      "2017-06-06 08:59:59                        45.89                  64.63   \n",
      "2018-05-28 16:59:59                        45.25                  77.69   \n",
      "\n",
      "                     final.output.tail_ag  final.output.tail_pb  \\\n",
      "date                                                              \n",
      "2018-03-19 06:59:59                  8.85                  1.62   \n",
      "2016-06-19 04:59:59                  7.85                  2.40   \n",
      "2018-08-09 23:59:59                 15.30                  4.28   \n",
      "2017-06-06 08:59:59                  9.06                  3.61   \n",
      "2018-05-28 16:59:59                 11.94                  1.87   \n",
      "\n",
      "                     final.output.tail_sol  final.output.tail_au  \\\n",
      "date                                                               \n",
      "2018-03-19 06:59:59                   8.33                  1.83   \n",
      "2016-06-19 04:59:59                  10.83                  2.67   \n",
      "2018-08-09 23:59:59                   9.65                  2.65   \n",
      "2017-06-06 08:59:59                   9.28                  3.62   \n",
      "2018-05-28 16:59:59                  11.32                  2.14   \n",
      "\n",
      "                     primary_cleaner.input.sulfate  \\\n",
      "date                                                 \n",
      "2018-03-19 06:59:59                         125.50   \n",
      "2016-06-19 04:59:59                         112.83   \n",
      "2018-08-09 23:59:59                         217.46   \n",
      "2017-06-06 08:59:59                          87.28   \n",
      "2018-05-28 16:59:59                         178.47   \n",
      "\n",
      "                     primary_cleaner.input.depressant  \\\n",
      "date                                                    \n",
      "2018-03-19 06:59:59                              8.33   \n",
      "2016-06-19 04:59:59                              6.01   \n",
      "2018-08-09 23:59:59                             14.99   \n",
      "2017-06-06 08:59:59                             11.97   \n",
      "2018-05-28 16:59:59                              8.10   \n",
      "\n",
      "                     primary_cleaner.input.feed_size  \\\n",
      "date                                                   \n",
      "2018-03-19 06:59:59                             6.41   \n",
      "2016-06-19 04:59:59                             7.18   \n",
      "2018-08-09 23:59:59                             6.72   \n",
      "2017-06-06 08:59:59                             6.93   \n",
      "2018-05-28 16:59:59                             7.50   \n",
      "\n",
      "                     primary_cleaner.input.xanthate  \\\n",
      "date                                                  \n",
      "2018-03-19 06:59:59                            0.78   \n",
      "2016-06-19 04:59:59                            0.85   \n",
      "2018-08-09 23:59:59                            0.57   \n",
      "2017-06-06 08:59:59                            0.99   \n",
      "2018-05-28 16:59:59                            1.10   \n",
      "\n",
      "                     primary_cleaner.output.concentrate_ag  \\\n",
      "date                                                         \n",
      "2018-03-19 06:59:59                                   9.08   \n",
      "2016-06-19 04:59:59                                   7.13   \n",
      "2018-08-09 23:59:59                                   0.01   \n",
      "2017-06-06 08:59:59                                   7.38   \n",
      "2018-05-28 16:59:59                                   9.81   \n",
      "\n",
      "                     primary_cleaner.output.concentrate_pb  \\\n",
      "date                                                         \n",
      "2018-03-19 06:59:59                                   9.84   \n",
      "2016-06-19 04:59:59                                  10.88   \n",
      "2018-08-09 23:59:59                                   0.01   \n",
      "2017-06-06 08:59:59                                  11.51   \n",
      "2018-05-28 16:59:59                                   9.64   \n",
      "\n",
      "                     primary_cleaner.output.concentrate_sol  \\\n",
      "date                                                          \n",
      "2018-03-19 06:59:59                                    6.23   \n",
      "2016-06-19 04:59:59                                    7.80   \n",
      "2018-08-09 23:59:59                                    0.01   \n",
      "2017-06-06 08:59:59                                    9.25   \n",
      "2018-05-28 16:59:59                                   12.99   \n",
      "\n",
      "                     primary_cleaner.output.concentrate_au  \\\n",
      "date                                                         \n",
      "2018-03-19 06:59:59                                  30.06   \n",
      "2016-06-19 04:59:59                                  35.49   \n",
      "2018-08-09 23:59:59                                   0.01   \n",
      "2017-06-06 08:59:59                                  34.94   \n",
      "2018-05-28 16:59:59                                  31.49   \n",
      "\n",
      "                     primary_cleaner.output.tail_ag  \\\n",
      "date                                                  \n",
      "2018-03-19 06:59:59                           18.97   \n",
      "2016-06-19 04:59:59                           12.80   \n",
      "2018-08-09 23:59:59                           25.21   \n",
      "2017-06-06 08:59:59                           15.71   \n",
      "2018-05-28 16:59:59                           17.46   \n",
      "\n",
      "                     primary_cleaner.output.tail_pb  \\\n",
      "date                                                  \n",
      "2018-03-19 06:59:59                            3.98   \n",
      "2016-06-19 04:59:59                            1.67   \n",
      "2018-08-09 23:59:59                            7.38   \n",
      "2017-06-06 08:59:59                            3.43   \n",
      "2018-05-28 16:59:59                            3.87   \n",
      "\n",
      "                     primary_cleaner.output.tail_sol  \\\n",
      "date                                                   \n",
      "2018-03-19 06:59:59                             4.72   \n",
      "2016-06-19 04:59:59                             7.75   \n",
      "2018-08-09 23:59:59                             7.10   \n",
      "2017-06-06 08:59:59                             6.93   \n",
      "2018-05-28 16:59:59                            10.35   \n",
      "\n",
      "                     primary_cleaner.output.tail_au  \\\n",
      "date                                                  \n",
      "2018-03-19 06:59:59                            2.71   \n",
      "2016-06-19 04:59:59                            3.95   \n",
      "2018-08-09 23:59:59                            3.27   \n",
      "2017-06-06 08:59:59                            4.02   \n",
      "2018-05-28 16:59:59                            2.38   \n",
      "\n",
      "                     primary_cleaner.state.floatbank8_a_air  \\\n",
      "date                                                          \n",
      "2018-03-19 06:59:59                                1,698.07   \n",
      "2016-06-19 04:59:59                                1,600.14   \n",
      "2018-08-09 23:59:59                                1,652.24   \n",
      "2017-06-06 08:59:59                                1,706.05   \n",
      "2018-05-28 16:59:59                                1,652.24   \n",
      "\n",
      "                     primary_cleaner.state.floatbank8_a_level  \\\n",
      "date                                                            \n",
      "2018-03-19 06:59:59                                   -500.27   \n",
      "2016-06-19 04:59:59                                   -449.99   \n",
      "2018-08-09 23:59:59                                   -399.19   \n",
      "2017-06-06 08:59:59                                   -500.15   \n",
      "2018-05-28 16:59:59                                   -500.31   \n",
      "\n",
      "                     primary_cleaner.state.floatbank8_b_air  \\\n",
      "date                                                          \n",
      "2018-03-19 06:59:59                                1,699.43   \n",
      "2016-06-19 04:59:59                                1,600.05   \n",
      "2018-08-09 23:59:59                                1,650.21   \n",
      "2017-06-06 08:59:59                                1,695.79   \n",
      "2018-05-28 16:59:59                                1,648.32   \n",
      "\n",
      "                     primary_cleaner.state.floatbank8_b_level  \\\n",
      "date                                                            \n",
      "2018-03-19 06:59:59                                   -499.76   \n",
      "2016-06-19 04:59:59                                   -449.81   \n",
      "2018-08-09 23:59:59                                   -399.84   \n",
      "2017-06-06 08:59:59                                   -500.46   \n",
      "2018-05-28 16:59:59                                   -500.65   \n",
      "\n",
      "                     primary_cleaner.state.floatbank8_c_air  \\\n",
      "date                                                          \n",
      "2018-03-19 06:59:59                                1,698.79   \n",
      "2016-06-19 04:59:59                                1,500.42   \n",
      "2018-08-09 23:59:59                                1,649.32   \n",
      "2017-06-06 08:59:59                                1,698.68   \n",
      "2018-05-28 16:59:59                                1,651.37   \n",
      "\n",
      "                     primary_cleaner.state.floatbank8_c_level  \\\n",
      "date                                                            \n",
      "2018-03-19 06:59:59                                   -501.34   \n",
      "2016-06-19 04:59:59                                   -450.16   \n",
      "2018-08-09 23:59:59                                   -397.73   \n",
      "2017-06-06 08:59:59                                   -501.11   \n",
      "2018-05-28 16:59:59                                   -500.83   \n",
      "\n",
      "                     primary_cleaner.state.floatbank8_d_air  \\\n",
      "date                                                          \n",
      "2018-03-19 06:59:59                                1,699.85   \n",
      "2016-06-19 04:59:59                                1,400.97   \n",
      "2018-08-09 23:59:59                                1,650.57   \n",
      "2017-06-06 08:59:59                                1,699.86   \n",
      "2018-05-28 16:59:59                                1,384.92   \n",
      "\n",
      "                     primary_cleaner.state.floatbank8_d_level  \\\n",
      "date                                                            \n",
      "2018-03-19 06:59:59                                   -500.43   \n",
      "2016-06-19 04:59:59                                   -450.33   \n",
      "2018-08-09 23:59:59                                   -399.77   \n",
      "2017-06-06 08:59:59                                   -501.01   \n",
      "2018-05-28 16:59:59                                   -499.31   \n",
      "\n",
      "                     rougher.calculation.sulfate_to_au_concentrate  \\\n",
      "date                                                                 \n",
      "2018-03-19 06:59:59                                      40,431.87   \n",
      "2016-06-19 04:59:59                                      36,036.59   \n",
      "2018-08-09 23:59:59                                      45,754.70   \n",
      "2017-06-06 08:59:59                                      34,818.67   \n",
      "2018-05-28 16:59:59                                      40,846.83   \n",
      "\n",
      "                     rougher.calculation.floatbank10_sulfate_to_au_feed  \\\n",
      "date                                                                      \n",
      "2018-03-19 06:59:59                                           2,482.49    \n",
      "2016-06-19 04:59:59                                           3,144.51    \n",
      "2018-08-09 23:59:59                                           2,511.40    \n",
      "2017-06-06 08:59:59                                           5,965.92    \n",
      "2018-05-28 16:59:59                                           2,788.42    \n",
      "\n",
      "                     rougher.calculation.floatbank11_sulfate_to_au_feed  \\\n",
      "date                                                                      \n",
      "2018-03-19 06:59:59                                           2,483.15    \n",
      "2016-06-19 04:59:59                                           3,144.24    \n",
      "2018-08-09 23:59:59                                           2,511.30    \n",
      "2017-06-06 08:59:59                                           5,966.02    \n",
      "2018-05-28 16:59:59                                           2,788.10    \n",
      "\n",
      "                     rougher.calculation.au_pb_ratio  rougher.input.feed_ag  \\\n",
      "date                                                                          \n",
      "2018-03-19 06:59:59                             1.93                   7.65   \n",
      "2016-06-19 04:59:59                             2.28                   7.39   \n",
      "2018-08-09 23:59:59                             1.75                  11.74   \n",
      "2017-06-06 08:59:59                             2.05                   8.99   \n",
      "2018-05-28 16:59:59                             2.79                  10.85   \n",
      "\n",
      "                     rougher.input.feed_pb  rougher.input.feed_rate  \\\n",
      "date                                                                  \n",
      "2018-03-19 06:59:59                   3.63                   543.38   \n",
      "2016-06-19 04:59:59                   3.34                   496.88   \n",
      "2018-08-09 23:59:59                   5.75                   600.90   \n",
      "2017-06-06 08:59:59                   4.36                   396.81   \n",
      "2018-05-28 16:59:59                   2.95                   570.72   \n",
      "\n",
      "                     rougher.input.feed_size  rougher.input.feed_sol  \\\n",
      "date                                                                   \n",
      "2018-03-19 06:59:59                    70.92                   39.47   \n",
      "2016-06-19 04:59:59                    56.61                   33.19   \n",
      "2018-08-09 23:59:59                    88.75                   37.71   \n",
      "2017-06-06 08:59:59                    49.03                   37.18   \n",
      "2018-05-28 16:59:59                    69.15                   44.06   \n",
      "\n",
      "                     rougher.input.feed_au  rougher.input.floatbank10_sulfate  \\\n",
      "date                                                                            \n",
      "2018-03-19 06:59:59                   7.02                               8.81   \n",
      "2016-06-19 04:59:59                   7.63                              12.00   \n",
      "2018-08-09 23:59:59                  10.08                              12.76   \n",
      "2017-06-06 08:59:59                   8.94                              20.00   \n",
      "2018-05-28 16:59:59                   8.24                              13.00   \n",
      "\n",
      "                     rougher.input.floatbank10_xanthate  \\\n",
      "date                                                      \n",
      "2018-03-19 06:59:59                                6.80   \n",
      "2016-06-19 04:59:59                                5.50   \n",
      "2018-08-09 23:59:59                                7.10   \n",
      "2017-06-06 08:59:59                                4.00   \n",
      "2018-05-28 16:59:59                                6.51   \n",
      "\n",
      "                     rougher.input.floatbank11_sulfate  \\\n",
      "date                                                     \n",
      "2018-03-19 06:59:59                               8.81   \n",
      "2016-06-19 04:59:59                              11.98   \n",
      "2018-08-09 23:59:59                              12.76   \n",
      "2017-06-06 08:59:59                              20.00   \n",
      "2018-05-28 16:59:59                              13.00   \n",
      "\n",
      "                     rougher.input.floatbank11_xanthate  \\\n",
      "date                                                      \n",
      "2018-03-19 06:59:59                                6.78   \n",
      "2016-06-19 04:59:59                                5.50   \n",
      "2018-08-09 23:59:59                                7.10   \n",
      "2017-06-06 08:59:59                                4.00   \n",
      "2018-05-28 16:59:59                                6.50   \n",
      "\n",
      "                     rougher.output.concentrate_ag  \\\n",
      "date                                                 \n",
      "2018-03-19 06:59:59                          10.99   \n",
      "2016-06-19 04:59:59                           9.55   \n",
      "2018-08-09 23:59:59                          14.88   \n",
      "2017-06-06 08:59:59                           0.00   \n",
      "2018-05-28 16:59:59                          15.36   \n",
      "\n",
      "                     rougher.output.concentrate_pb  \\\n",
      "date                                                 \n",
      "2018-03-19 06:59:59                           8.15   \n",
      "2016-06-19 04:59:59                           7.45   \n",
      "2018-08-09 23:59:59                           9.30   \n",
      "2017-06-06 08:59:59                           0.00   \n",
      "2018-05-28 16:59:59                           6.12   \n",
      "\n",
      "                     rougher.output.concentrate_sol  \\\n",
      "date                                                  \n",
      "2018-03-19 06:59:59                           28.25   \n",
      "2016-06-19 04:59:59                           29.27   \n",
      "2018-08-09 23:59:59                           31.62   \n",
      "2017-06-06 08:59:59                            0.00   \n",
      "2018-05-28 16:59:59                           28.15   \n",
      "\n",
      "                     rougher.output.concentrate_au  rougher.output.recovery  \\\n",
      "date                                                                          \n",
      "2018-03-19 06:59:59                          19.40                    94.70   \n",
      "2016-06-19 04:59:59                          22.82                    79.62   \n",
      "2018-08-09 23:59:59                          19.49                    95.98   \n",
      "2017-06-06 08:59:59                           0.00                     0.00   \n",
      "2018-05-28 16:59:59                          16.41                    96.71   \n",
      "\n",
      "                     rougher.output.tail_ag  rougher.output.tail_pb  \\\n",
      "date                                                                  \n",
      "2018-03-19 06:59:59                    3.66                    0.56   \n",
      "2016-06-19 04:59:59                    6.11                    0.65   \n",
      "2018-08-09 23:59:59                    4.27                    0.52   \n",
      "2017-06-06 08:59:59                    6.40                    0.62   \n",
      "2018-05-28 16:59:59                    3.16                    0.29   \n",
      "\n",
      "                     rougher.output.tail_sol  rougher.output.tail_au  \\\n",
      "date                                                                   \n",
      "2018-03-19 06:59:59                    18.10                    0.57   \n",
      "2016-06-19 04:59:59                    16.74                    2.12   \n",
      "2018-08-09 23:59:59                    16.74                    0.80   \n",
      "2017-06-06 08:59:59                    15.14                    2.16   \n",
      "2018-05-28 16:59:59                    23.35                    0.53   \n",
      "\n",
      "                     rougher.state.floatbank10_a_air  \\\n",
      "date                                                   \n",
      "2018-03-19 06:59:59                         1,399.47   \n",
      "2016-06-19 04:59:59                         1,000.12   \n",
      "2018-08-09 23:59:59                         1,197.62   \n",
      "2017-06-06 08:59:59                         1,004.78   \n",
      "2018-05-28 16:59:59                         1,056.52   \n",
      "\n",
      "                     rougher.state.floatbank10_a_level  \\\n",
      "date                                                     \n",
      "2018-03-19 06:59:59                            -300.39   \n",
      "2016-06-19 04:59:59                            -499.53   \n",
      "2018-08-09 23:59:59                            -299.82   \n",
      "2017-06-06 08:59:59                            -299.92   \n",
      "2018-05-28 16:59:59                            -300.10   \n",
      "\n",
      "                     rougher.state.floatbank10_b_air  \\\n",
      "date                                                   \n",
      "2018-03-19 06:59:59                         1,200.69   \n",
      "2016-06-19 04:59:59                         1,401.70   \n",
      "2018-08-09 23:59:59                         1,097.75   \n",
      "2017-06-06 08:59:59                         1,204.83   \n",
      "2018-05-28 16:59:59                         1,398.48   \n",
      "\n",
      "                     rougher.state.floatbank10_b_level  \\\n",
      "date                                                     \n",
      "2018-03-19 06:59:59                            -500.89   \n",
      "2016-06-19 04:59:59                            -400.02   \n",
      "2018-08-09 23:59:59                            -499.59   \n",
      "2017-06-06 08:59:59                            -500.39   \n",
      "2018-05-28 16:59:59                            -500.72   \n",
      "\n",
      "                     rougher.state.floatbank10_c_air  \\\n",
      "date                                                   \n",
      "2018-03-19 06:59:59                         1,099.64   \n",
      "2016-06-19 04:59:59                         1,399.83   \n",
      "2018-08-09 23:59:59                           998.48   \n",
      "2017-06-06 08:59:59                         1,204.11   \n",
      "2018-05-28 16:59:59                         1,401.19   \n",
      "\n",
      "                     rougher.state.floatbank10_c_level  \\\n",
      "date                                                     \n",
      "2018-03-19 06:59:59                            -500.53   \n",
      "2016-06-19 04:59:59                            -400.43   \n",
      "2018-08-09 23:59:59                            -500.40   \n",
      "2017-06-06 08:59:59                            -500.20   \n",
      "2018-05-28 16:59:59                            -500.17   \n",
      "\n",
      "                     rougher.state.floatbank10_d_air  \\\n",
      "date                                                   \n",
      "2018-03-19 06:59:59                         1,050.23   \n",
      "2016-06-19 04:59:59                         1,400.72   \n",
      "2018-08-09 23:59:59                           896.85   \n",
      "2017-06-06 08:59:59                         1,101.12   \n",
      "2018-05-28 16:59:59                         1,302.57   \n",
      "\n",
      "                     rougher.state.floatbank10_d_level  \\\n",
      "date                                                     \n",
      "2018-03-19 06:59:59                            -501.57   \n",
      "2016-06-19 04:59:59                            -397.96   \n",
      "2018-08-09 23:59:59                            -499.71   \n",
      "2017-06-06 08:59:59                            -500.64   \n",
      "2018-05-28 16:59:59                            -503.71   \n",
      "\n",
      "                     rougher.state.floatbank10_e_air  \\\n",
      "date                                                   \n",
      "2018-03-19 06:59:59                         1,050.28   \n",
      "2016-06-19 04:59:59                         1,102.53   \n",
      "2018-08-09 23:59:59                           800.13   \n",
      "2017-06-06 08:59:59                         1,000.66   \n",
      "2018-05-28 16:59:59                         1,298.27   \n",
      "\n",
      "                     rougher.state.floatbank10_e_level  \\\n",
      "date                                                     \n",
      "2018-03-19 06:59:59                            -500.65   \n",
      "2016-06-19 04:59:59                            -400.02   \n",
      "2018-08-09 23:59:59                            -500.50   \n",
      "2017-06-06 08:59:59                            -500.40   \n",
      "2018-05-28 16:59:59                            -500.08   \n",
      "\n",
      "                     rougher.state.floatbank10_f_air  \\\n",
      "date                                                   \n",
      "2018-03-19 06:59:59                           999.70   \n",
      "2016-06-19 04:59:59                         1,001.00   \n",
      "2018-08-09 23:59:59                           800.72   \n",
      "2017-06-06 08:59:59                           900.82   \n",
      "2018-05-28 16:59:59                         1,099.56   \n",
      "\n",
      "                     rougher.state.floatbank10_f_level  \\\n",
      "date                                                     \n",
      "2018-03-19 06:59:59                            -503.34   \n",
      "2016-06-19 04:59:59                            -400.54   \n",
      "2018-08-09 23:59:59                            -499.99   \n",
      "2017-06-06 08:59:59                            -500.17   \n",
      "2018-05-28 16:59:59                            -502.91   \n",
      "\n",
      "                     secondary_cleaner.output.tail_ag  \\\n",
      "date                                                    \n",
      "2018-03-19 06:59:59                             17.31   \n",
      "2016-06-19 04:59:59                             11.64   \n",
      "2018-08-09 23:59:59                             18.76   \n",
      "2017-06-06 08:59:59                             14.94   \n",
      "2018-05-28 16:59:59                             18.78   \n",
      "\n",
      "                     secondary_cleaner.output.tail_pb  \\\n",
      "date                                                    \n",
      "2018-03-19 06:59:59                              7.92   \n",
      "2016-06-19 04:59:59                              3.81   \n",
      "2018-08-09 23:59:59                             10.33   \n",
      "2017-06-06 08:59:59                              9.63   \n",
      "2018-05-28 16:59:59                              6.59   \n",
      "\n",
      "                     secondary_cleaner.output.tail_sol  \\\n",
      "date                                                     \n",
      "2018-03-19 06:59:59                                NaN   \n",
      "2016-06-19 04:59:59                              10.17   \n",
      "2018-08-09 23:59:59                               5.95   \n",
      "2017-06-06 08:59:59                               1.60   \n",
      "2018-05-28 16:59:59                               3.68   \n",
      "\n",
      "                     secondary_cleaner.output.tail_au  \\\n",
      "date                                                    \n",
      "2018-03-19 06:59:59                              4.40   \n",
      "2016-06-19 04:59:59                              3.76   \n",
      "2018-08-09 23:59:59                              5.02   \n",
      "2017-06-06 08:59:59                              9.75   \n",
      "2018-05-28 16:59:59                              3.96   \n",
      "\n",
      "                     secondary_cleaner.state.floatbank2_a_air  \\\n",
      "date                                                            \n",
      "2018-03-19 06:59:59                                     34.87   \n",
      "2016-06-19 04:59:59                                     30.07   \n",
      "2018-08-09 23:59:59                                     34.88   \n",
      "2017-06-06 08:59:59                                     25.00   \n",
      "2018-05-28 16:59:59                                     35.08   \n",
      "\n",
      "                     secondary_cleaner.state.floatbank2_a_level  \\\n",
      "date                                                              \n",
      "2018-03-19 06:59:59                                     -499.64   \n",
      "2016-06-19 04:59:59                                     -475.16   \n",
      "2018-08-09 23:59:59                                     -499.53   \n",
      "2017-06-06 08:59:59                                     -499.82   \n",
      "2018-05-28 16:59:59                                     -499.70   \n",
      "\n",
      "                     secondary_cleaner.state.floatbank2_b_air  \\\n",
      "date                                                            \n",
      "2018-03-19 06:59:59                                     26.93   \n",
      "2016-06-19 04:59:59                                     17.02   \n",
      "2018-08-09 23:59:59                                     27.93   \n",
      "2017-06-06 08:59:59                                     19.99   \n",
      "2018-05-28 16:59:59                                     27.99   \n",
      "\n",
      "                     secondary_cleaner.state.floatbank2_b_level  \\\n",
      "date                                                              \n",
      "2018-03-19 06:59:59                                     -499.50   \n",
      "2016-06-19 04:59:59                                     -499.74   \n",
      "2018-08-09 23:59:59                                     -502.58   \n",
      "2017-06-06 08:59:59                                     -499.61   \n",
      "2018-05-28 16:59:59                                     -499.91   \n",
      "\n",
      "                     secondary_cleaner.state.floatbank3_a_air  \\\n",
      "date                                                            \n",
      "2018-03-19 06:59:59                                     27.96   \n",
      "2016-06-19 04:59:59                                     29.94   \n",
      "2018-08-09 23:59:59                                     26.00   \n",
      "2017-06-06 08:59:59                                     24.98   \n",
      "2018-05-28 16:59:59                                     36.03   \n",
      "\n",
      "                     secondary_cleaner.state.floatbank3_a_level  \\\n",
      "date                                                              \n",
      "2018-03-19 06:59:59                                     -499.78   \n",
      "2016-06-19 04:59:59                                     -499.30   \n",
      "2018-08-09 23:59:59                                     -499.91   \n",
      "2017-06-06 08:59:59                                     -499.90   \n",
      "2018-05-28 16:59:59                                     -499.92   \n",
      "\n",
      "                     secondary_cleaner.state.floatbank3_b_air  \\\n",
      "date                                                            \n",
      "2018-03-19 06:59:59                                     18.98   \n",
      "2016-06-19 04:59:59                                     17.02   \n",
      "2018-08-09 23:59:59                                     23.00   \n",
      "2017-06-06 08:59:59                                     19.95   \n",
      "2018-05-28 16:59:59                                     25.02   \n",
      "\n",
      "                     secondary_cleaner.state.floatbank3_b_level  \\\n",
      "date                                                              \n",
      "2018-03-19 06:59:59                                     -500.02   \n",
      "2016-06-19 04:59:59                                     -499.27   \n",
      "2018-08-09 23:59:59                                     -500.01   \n",
      "2017-06-06 08:59:59                                     -499.98   \n",
      "2018-05-28 16:59:59                                     -500.21   \n",
      "\n",
      "                     secondary_cleaner.state.floatbank4_a_air  \\\n",
      "date                                                            \n",
      "2018-03-19 06:59:59                                     23.01   \n",
      "2016-06-19 04:59:59                                     16.02   \n",
      "2018-08-09 23:59:59                                     27.02   \n",
      "2017-06-06 08:59:59                                     15.03   \n",
      "2018-05-28 16:59:59                                     30.02   \n",
      "\n",
      "                     secondary_cleaner.state.floatbank4_a_level  \\\n",
      "date                                                              \n",
      "2018-03-19 06:59:59                                     -498.92   \n",
      "2016-06-19 04:59:59                                     -498.72   \n",
      "2018-08-09 23:59:59                                     -501.14   \n",
      "2017-06-06 08:59:59                                     -498.64   \n",
      "2018-05-28 16:59:59                                     -499.87   \n",
      "\n",
      "                     secondary_cleaner.state.floatbank4_b_air  \\\n",
      "date                                                            \n",
      "2018-03-19 06:59:59                                     15.04   \n",
      "2016-06-19 04:59:59                                      7.84   \n",
      "2018-08-09 23:59:59                                     23.01   \n",
      "2017-06-06 08:59:59                                     10.01   \n",
      "2018-05-28 16:59:59                                     20.11   \n",
      "\n",
      "                     secondary_cleaner.state.floatbank4_b_level  \\\n",
      "date                                                              \n",
      "2018-03-19 06:59:59                                     -499.34   \n",
      "2016-06-19 04:59:59                                     -496.52   \n",
      "2018-08-09 23:59:59                                     -500.31   \n",
      "2017-06-06 08:59:59                                     -379.85   \n",
      "2018-05-28 16:59:59                                     -499.64   \n",
      "\n",
      "                     secondary_cleaner.state.floatbank5_a_air  \\\n",
      "date                                                            \n",
      "2018-03-19 06:59:59                                     18.00   \n",
      "2016-06-19 04:59:59                                     16.00   \n",
      "2018-08-09 23:59:59                                     22.97   \n",
      "2017-06-06 08:59:59                                     14.94   \n",
      "2018-05-28 16:59:59                                     20.99   \n",
      "\n",
      "                     secondary_cleaner.state.floatbank5_a_level  \\\n",
      "date                                                              \n",
      "2018-03-19 06:59:59                                     -499.72   \n",
      "2016-06-19 04:59:59                                     -500.42   \n",
      "2018-08-09 23:59:59                                     -500.81   \n",
      "2017-06-06 08:59:59                                     -499.93   \n",
      "2018-05-28 16:59:59                                     -500.98   \n",
      "\n",
      "                     secondary_cleaner.state.floatbank5_b_air  \\\n",
      "date                                                            \n",
      "2018-03-19 06:59:59                                     11.96   \n",
      "2016-06-19 04:59:59                                      6.95   \n",
      "2018-08-09 23:59:59                                     18.01   \n",
      "2017-06-06 08:59:59                                      9.98   \n",
      "2018-05-28 16:59:59                                     17.06   \n",
      "\n",
      "                     secondary_cleaner.state.floatbank5_b_level  \\\n",
      "date                                                              \n",
      "2018-03-19 06:59:59                                     -499.98   \n",
      "2016-06-19 04:59:59                                     -500.36   \n",
      "2018-08-09 23:59:59                                     -499.82   \n",
      "2017-06-06 08:59:59                                     -500.16   \n",
      "2018-05-28 16:59:59                                     -499.45   \n",
      "\n",
      "                     secondary_cleaner.state.floatbank6_a_air  \\\n",
      "date                                                            \n",
      "2018-03-19 06:59:59                                     11.98   \n",
      "2016-06-19 04:59:59                                     25.00   \n",
      "2018-08-09 23:59:59                                     23.02   \n",
      "2017-06-06 08:59:59                                     14.96   \n",
      "2018-05-28 16:59:59                                     19.98   \n",
      "\n",
      "                     secondary_cleaner.state.floatbank6_a_level  \n",
      "date                                                             \n",
      "2018-03-19 06:59:59                                     -499.93  \n",
      "2016-06-19 04:59:59                                     -498.93  \n",
      "2018-08-09 23:59:59                                     -534.04  \n",
      "2017-06-06 08:59:59                                     -500.55  \n",
      "2018-05-28 16:59:59                                     -501.42   \n",
      "\n"
     ]
    }
   ],
   "source": [
    "about_data(data_gold_train)"
   ]
  },
  {
   "cell_type": "code",
   "execution_count": 6,
   "metadata": {},
   "outputs": [
    {
     "name": "stdout",
     "output_type": "stream",
     "text": [
      "Информация о датасете: \n",
      "\n",
      "<class 'pandas.core.frame.DataFrame'>\n",
      "Index: 5290 entries, 2016-09-01 00:59:59 to 2017-12-31 23:59:59\n",
      "Data columns (total 52 columns):\n",
      " #   Column                                      Non-Null Count  Dtype  \n",
      "---  ------                                      --------------  -----  \n",
      " 0   primary_cleaner.input.sulfate               5286 non-null   float64\n",
      " 1   primary_cleaner.input.depressant            5285 non-null   float64\n",
      " 2   primary_cleaner.input.feed_size             5290 non-null   float64\n",
      " 3   primary_cleaner.input.xanthate              5286 non-null   float64\n",
      " 4   primary_cleaner.state.floatbank8_a_air      5290 non-null   float64\n",
      " 5   primary_cleaner.state.floatbank8_a_level    5290 non-null   float64\n",
      " 6   primary_cleaner.state.floatbank8_b_air      5290 non-null   float64\n",
      " 7   primary_cleaner.state.floatbank8_b_level    5290 non-null   float64\n",
      " 8   primary_cleaner.state.floatbank8_c_air      5290 non-null   float64\n",
      " 9   primary_cleaner.state.floatbank8_c_level    5290 non-null   float64\n",
      " 10  primary_cleaner.state.floatbank8_d_air      5290 non-null   float64\n",
      " 11  primary_cleaner.state.floatbank8_d_level    5290 non-null   float64\n",
      " 12  rougher.input.feed_ag                       5290 non-null   float64\n",
      " 13  rougher.input.feed_pb                       5290 non-null   float64\n",
      " 14  rougher.input.feed_rate                     5287 non-null   float64\n",
      " 15  rougher.input.feed_size                     5289 non-null   float64\n",
      " 16  rougher.input.feed_sol                      5269 non-null   float64\n",
      " 17  rougher.input.feed_au                       5290 non-null   float64\n",
      " 18  rougher.input.floatbank10_sulfate           5285 non-null   float64\n",
      " 19  rougher.input.floatbank10_xanthate          5290 non-null   float64\n",
      " 20  rougher.input.floatbank11_sulfate           5282 non-null   float64\n",
      " 21  rougher.input.floatbank11_xanthate          5265 non-null   float64\n",
      " 22  rougher.state.floatbank10_a_air             5290 non-null   float64\n",
      " 23  rougher.state.floatbank10_a_level           5290 non-null   float64\n",
      " 24  rougher.state.floatbank10_b_air             5290 non-null   float64\n",
      " 25  rougher.state.floatbank10_b_level           5290 non-null   float64\n",
      " 26  rougher.state.floatbank10_c_air             5290 non-null   float64\n",
      " 27  rougher.state.floatbank10_c_level           5290 non-null   float64\n",
      " 28  rougher.state.floatbank10_d_air             5290 non-null   float64\n",
      " 29  rougher.state.floatbank10_d_level           5290 non-null   float64\n",
      " 30  rougher.state.floatbank10_e_air             5290 non-null   float64\n",
      " 31  rougher.state.floatbank10_e_level           5290 non-null   float64\n",
      " 32  rougher.state.floatbank10_f_air             5290 non-null   float64\n",
      " 33  rougher.state.floatbank10_f_level           5290 non-null   float64\n",
      " 34  secondary_cleaner.state.floatbank2_a_air    5287 non-null   float64\n",
      " 35  secondary_cleaner.state.floatbank2_a_level  5290 non-null   float64\n",
      " 36  secondary_cleaner.state.floatbank2_b_air    5288 non-null   float64\n",
      " 37  secondary_cleaner.state.floatbank2_b_level  5290 non-null   float64\n",
      " 38  secondary_cleaner.state.floatbank3_a_air    5281 non-null   float64\n",
      " 39  secondary_cleaner.state.floatbank3_a_level  5290 non-null   float64\n",
      " 40  secondary_cleaner.state.floatbank3_b_air    5290 non-null   float64\n",
      " 41  secondary_cleaner.state.floatbank3_b_level  5290 non-null   float64\n",
      " 42  secondary_cleaner.state.floatbank4_a_air    5290 non-null   float64\n",
      " 43  secondary_cleaner.state.floatbank4_a_level  5290 non-null   float64\n",
      " 44  secondary_cleaner.state.floatbank4_b_air    5290 non-null   float64\n",
      " 45  secondary_cleaner.state.floatbank4_b_level  5290 non-null   float64\n",
      " 46  secondary_cleaner.state.floatbank5_a_air    5290 non-null   float64\n",
      " 47  secondary_cleaner.state.floatbank5_a_level  5290 non-null   float64\n",
      " 48  secondary_cleaner.state.floatbank5_b_air    5290 non-null   float64\n",
      " 49  secondary_cleaner.state.floatbank5_b_level  5290 non-null   float64\n",
      " 50  secondary_cleaner.state.floatbank6_a_air    5290 non-null   float64\n",
      " 51  secondary_cleaner.state.floatbank6_a_level  5290 non-null   float64\n",
      "dtypes: float64(52)\n",
      "memory usage: 2.1+ MB\n",
      "None \n",
      "\n",
      "Статистические данные: \n",
      "\n",
      "       primary_cleaner.input.sulfate  primary_cleaner.input.depressant  \\\n",
      "count                       5,286.00                          5,285.00   \n",
      "mean                          174.84                              8.68   \n",
      "std                            43.03                              3.07   \n",
      "min                             2.57                              0.00   \n",
      "25%                           147.12                              6.49   \n",
      "50%                           177.83                              8.05   \n",
      "75%                           208.13                             10.03   \n",
      "max                           265.98                             40.00   \n",
      "\n",
      "       primary_cleaner.input.feed_size  primary_cleaner.input.xanthate  \\\n",
      "count                         5,290.00                        5,286.00   \n",
      "mean                              7.27                            1.38   \n",
      "std                               0.61                            0.64   \n",
      "min                               5.65                            0.00   \n",
      "25%                               6.89                            0.91   \n",
      "50%                               7.25                            1.20   \n",
      "75%                               7.60                            1.80   \n",
      "max                              15.50                            4.10   \n",
      "\n",
      "       primary_cleaner.state.floatbank8_a_air  \\\n",
      "count                                5,290.00   \n",
      "mean                                 1,539.49   \n",
      "std                                    116.80   \n",
      "min                                      0.00   \n",
      "25%                                  1,498.94   \n",
      "50%                                  1,585.13   \n",
      "75%                                  1,602.08   \n",
      "max                                  2,103.10   \n",
      "\n",
      "       primary_cleaner.state.floatbank8_a_level  \\\n",
      "count                                  5,290.00   \n",
      "mean                                    -497.67   \n",
      "std                                       19.95   \n",
      "min                                     -795.32   \n",
      "25%                                     -500.36   \n",
      "50%                                     -499.97   \n",
      "75%                                     -499.57   \n",
      "max                                      -57.20   \n",
      "\n",
      "       primary_cleaner.state.floatbank8_b_air  \\\n",
      "count                                5,290.00   \n",
      "mean                                 1,545.17   \n",
      "std                                    122.22   \n",
      "min                                      0.00   \n",
      "25%                                  1,498.97   \n",
      "50%                                  1,595.62   \n",
      "75%                                  1,602.32   \n",
      "max                                  1,813.08   \n",
      "\n",
      "       primary_cleaner.state.floatbank8_b_level  \\\n",
      "count                                  5,290.00   \n",
      "mean                                    -500.27   \n",
      "std                                       32.97   \n",
      "min                                     -800.00   \n",
      "25%                                     -500.70   \n",
      "50%                                     -500.03   \n",
      "75%                                     -499.29   \n",
      "max                                     -142.53   \n",
      "\n",
      "       primary_cleaner.state.floatbank8_c_air  \\\n",
      "count                                5,290.00   \n",
      "mean                                 1,527.27   \n",
      "std                                    122.54   \n",
      "min                                      0.00   \n",
      "25%                                  1,473.23   \n",
      "50%                                  1,549.59   \n",
      "75%                                  1,601.14   \n",
      "max                                  1,715.05   \n",
      "\n",
      "       primary_cleaner.state.floatbank8_c_level  \\\n",
      "count                                  5,290.00   \n",
      "mean                                    -498.33   \n",
      "std                                       21.96   \n",
      "min                                     -799.96   \n",
      "25%                                     -501.02   \n",
      "50%                                     -500.02   \n",
      "75%                                     -498.99   \n",
      "max                                     -150.94   \n",
      "\n",
      "       primary_cleaner.state.floatbank8_d_air  \\\n",
      "count                                5,290.00   \n",
      "mean                                 1,544.84   \n",
      "std                                    124.77   \n",
      "min                                      0.00   \n",
      "25%                                  1,499.48   \n",
      "50%                                  1,594.58   \n",
      "75%                                  1,600.96   \n",
      "max                                  1,913.26   \n",
      "\n",
      "       primary_cleaner.state.floatbank8_d_level  rougher.input.feed_ag  \\\n",
      "count                                  5,290.00               5,290.00   \n",
      "mean                                    -500.20                   9.37   \n",
      "std                                       31.05                   1.93   \n",
      "min                                     -799.79                   0.57   \n",
      "25%                                     -500.45                   8.11   \n",
      "50%                                     -500.02                   9.76   \n",
      "75%                                     -499.61                  10.65   \n",
      "max                                     -158.95                  14.41   \n",
      "\n",
      "       rougher.input.feed_pb  rougher.input.feed_rate  \\\n",
      "count               5,290.00                 5,287.00   \n",
      "mean                    3.80                   489.80   \n",
      "std                     0.95                   108.04   \n",
      "min                     0.27                     0.00   \n",
      "25%                     3.24                   407.02   \n",
      "50%                     3.74                   499.05   \n",
      "75%                     4.28                   575.31   \n",
      "max                     6.91                   707.36   \n",
      "\n",
      "       rougher.input.feed_size  rougher.input.feed_sol  rougher.input.feed_au  \\\n",
      "count                 5,289.00                5,269.00               5,290.00   \n",
      "mean                     55.95                   37.72                   9.33   \n",
      "std                      19.08                    5.49                   1.62   \n",
      "min                       0.05                    1.39                   0.57   \n",
      "25%                      43.91                   34.51                   8.21   \n",
      "50%                      50.84                   37.98                   9.59   \n",
      "75%                      62.43                   41.64                  10.46   \n",
      "max                     392.49                   53.48                  13.73   \n",
      "\n",
      "       rougher.input.floatbank10_sulfate  rougher.input.floatbank10_xanthate  \\\n",
      "count                           5,285.00                            5,290.00   \n",
      "mean                               13.86                                6.47   \n",
      "std                                 3.35                                1.07   \n",
      "min                                 0.00                                0.00   \n",
      "25%                                12.00                                6.00   \n",
      "50%                                14.00                                6.50   \n",
      "75%                                16.97                                7.09   \n",
      "max                                24.28                                8.91   \n",
      "\n",
      "       rougher.input.floatbank11_sulfate  rougher.input.floatbank11_xanthate  \\\n",
      "count                           5,282.00                            5,265.00   \n",
      "mean                               13.92                                6.51   \n",
      "std                                 3.22                                0.89   \n",
      "min                                 0.00                                0.01   \n",
      "25%                                12.00                                6.00   \n",
      "50%                                14.00                                6.50   \n",
      "75%                                16.96                                7.09   \n",
      "max                                24.28                                8.62   \n",
      "\n",
      "       rougher.state.floatbank10_a_air  rougher.state.floatbank10_a_level  \\\n",
      "count                         5,290.00                           5,290.00   \n",
      "mean                          1,053.40                            -395.73   \n",
      "std                             121.14                              91.09   \n",
      "min                              -0.04                            -657.95   \n",
      "25%                             999.21                            -499.92   \n",
      "50%                           1,000.47                            -399.69   \n",
      "75%                           1,006.25                            -300.06   \n",
      "max                           1,423.27                            -273.78   \n",
      "\n",
      "       rougher.state.floatbank10_b_air  rougher.state.floatbank10_b_level  \\\n",
      "count                         5,290.00                           5,290.00   \n",
      "mean                          1,318.93                            -475.24   \n",
      "std                             156.45                              45.65   \n",
      "min                              -0.72                            -650.25   \n",
      "25%                           1,200.87                            -500.26   \n",
      "50%                           1,302.25                            -499.84   \n",
      "75%                           1,433.96                            -450.75   \n",
      "max                           1,706.64                            -298.20   \n",
      "\n",
      "       rougher.state.floatbank10_c_air  rougher.state.floatbank10_c_level  \\\n",
      "count                         5,290.00                           5,290.00   \n",
      "mean                          1,301.60                            -474.84   \n",
      "std                             171.27                              45.86   \n",
      "min                              -0.06                            -647.54   \n",
      "25%                           1,199.65                            -500.23   \n",
      "50%                           1,300.20                            -499.78   \n",
      "75%                           1,406.59                            -451.15   \n",
      "max                           1,731.02                            -298.04   \n",
      "\n",
      "       rougher.state.floatbank10_d_air  rougher.state.floatbank10_d_level  \\\n",
      "count                         5,290.00                           5,290.00   \n",
      "mean                          1,214.85                            -475.68   \n",
      "std                             185.76                              47.84   \n",
      "min                              -0.99                            -648.39   \n",
      "25%                           1,093.37                            -500.44   \n",
      "50%                           1,207.01                            -499.69   \n",
      "75%                           1,391.50                            -452.48   \n",
      "max                           1,775.22                             -76.40   \n",
      "\n",
      "       rougher.state.floatbank10_e_air  rougher.state.floatbank10_e_level  \\\n",
      "count                         5,290.00                           5,290.00   \n",
      "mean                          1,056.65                            -469.03   \n",
      "std                             131.54                              59.33   \n",
      "min                              -1.98                            -649.27   \n",
      "25%                             999.36                            -500.19   \n",
      "50%                           1,047.50                            -499.77   \n",
      "75%                           1,101.37                            -450.96   \n",
      "max                           1,467.18                            -139.75   \n",
      "\n",
      "       rougher.state.floatbank10_f_air  rougher.state.floatbank10_f_level  \\\n",
      "count                         5,290.00                           5,290.00   \n",
      "mean                            997.95                            -470.48   \n",
      "std                             128.22                              60.76   \n",
      "min                              -2.59                            -649.95   \n",
      "25%                             901.02                            -500.62   \n",
      "50%                             999.44                            -499.68   \n",
      "75%                           1,050.43                            -451.99   \n",
      "max                           1,476.59                            -249.80   \n",
      "\n",
      "       secondary_cleaner.state.floatbank2_a_air  \\\n",
      "count                                  5,287.00   \n",
      "mean                                      26.31   \n",
      "std                                        3.43   \n",
      "min                                        0.21   \n",
      "25%                                       24.94   \n",
      "50%                                       26.91   \n",
      "75%                                       28.09   \n",
      "max                                       32.14   \n",
      "\n",
      "       secondary_cleaner.state.floatbank2_a_level  \\\n",
      "count                                    5,290.00   \n",
      "mean                                      -502.75   \n",
      "std                                         28.76   \n",
      "min                                       -784.09   \n",
      "25%                                       -500.21   \n",
      "50%                                       -500.00   \n",
      "75%                                       -499.79   \n",
      "max                                       -300.34   \n",
      "\n",
      "       secondary_cleaner.state.floatbank2_b_air  \\\n",
      "count                                  5,288.00   \n",
      "mean                                      21.95   \n",
      "std                                        4.35   \n",
      "min                                        0.01   \n",
      "25%                                       20.00   \n",
      "50%                                       22.94   \n",
      "75%                                       24.99   \n",
      "max                                       28.17   \n",
      "\n",
      "       secondary_cleaner.state.floatbank2_b_level  \\\n",
      "count                                    5,290.00   \n",
      "mean                                      -501.99   \n",
      "std                                         34.58   \n",
      "min                                       -797.78   \n",
      "25%                                       -500.22   \n",
      "50%                                       -500.02   \n",
      "75%                                       -499.83   \n",
      "max                                       -212.00   \n",
      "\n",
      "       secondary_cleaner.state.floatbank3_a_air  \\\n",
      "count                                  5,281.00   \n",
      "mean                                      25.40   \n",
      "std                                        6.53   \n",
      "min                                        0.00   \n",
      "25%                                       22.98   \n",
      "50%                                       25.01   \n",
      "75%                                       30.00   \n",
      "max                                       40.04   \n",
      "\n",
      "       secondary_cleaner.state.floatbank3_a_level  \\\n",
      "count                                    5,290.00   \n",
      "mean                                      -507.49   \n",
      "std                                         47.62   \n",
      "min                                       -799.76   \n",
      "25%                                       -500.30   \n",
      "50%                                       -500.03   \n",
      "75%                                       -499.78   \n",
      "max                                       -313.87   \n",
      "\n",
      "       secondary_cleaner.state.floatbank3_b_air  \\\n",
      "count                                  5,290.00   \n",
      "mean                                      20.98   \n",
      "std                                        6.74   \n",
      "min                                        0.00   \n",
      "25%                                       17.97   \n",
      "50%                                       21.00   \n",
      "75%                                       26.98   \n",
      "max                                       32.04   \n",
      "\n",
      "       secondary_cleaner.state.floatbank3_b_level  \\\n",
      "count                                    5,290.00   \n",
      "mean                                      -506.63   \n",
      "std                                         44.53   \n",
      "min                                       -809.33   \n",
      "25%                                       -500.15   \n",
      "50%                                       -500.01   \n",
      "75%                                       -499.89   \n",
      "max                                       -202.28   \n",
      "\n",
      "       secondary_cleaner.state.floatbank4_a_air  \\\n",
      "count                                  5,290.00   \n",
      "mean                                      16.32   \n",
      "std                                        3.49   \n",
      "min                                        0.00   \n",
      "25%                                       14.04   \n",
      "50%                                       17.01   \n",
      "75%                                       18.04   \n",
      "max                                       30.05   \n",
      "\n",
      "       secondary_cleaner.state.floatbank4_a_level  \\\n",
      "count                                    5,290.00   \n",
      "mean                                      -505.14   \n",
      "std                                         31.43   \n",
      "min                                       -799.80   \n",
      "25%                                       -500.87   \n",
      "50%                                       -500.12   \n",
      "75%                                       -499.40   \n",
      "max                                       -401.57   \n",
      "\n",
      "       secondary_cleaner.state.floatbank4_b_air  \\\n",
      "count                                  5,290.00   \n",
      "mean                                      13.74   \n",
      "std                                        3.43   \n",
      "min                                        0.00   \n",
      "25%                                       12.03   \n",
      "50%                                       14.96   \n",
      "75%                                       15.96   \n",
      "max                                       31.27   \n",
      "\n",
      "       secondary_cleaner.state.floatbank4_b_level  \\\n",
      "count                                    5,290.00   \n",
      "mean                                      -463.35   \n",
      "std                                         86.19   \n",
      "min                                       -800.84   \n",
      "25%                                       -500.32   \n",
      "50%                                       -499.58   \n",
      "75%                                       -400.93   \n",
      "max                                         -6.51   \n",
      "\n",
      "       secondary_cleaner.state.floatbank5_a_air  \\\n",
      "count                                  5,290.00   \n",
      "mean                                      12.80   \n",
      "std                                        3.03   \n",
      "min                                        0.07   \n",
      "25%                                       10.91   \n",
      "50%                                       12.95   \n",
      "75%                                       15.10   \n",
      "max                                       25.26   \n",
      "\n",
      "       secondary_cleaner.state.floatbank5_a_level  \\\n",
      "count                                    5,290.00   \n",
      "mean                                      -501.33   \n",
      "std                                         17.95   \n",
      "min                                       -797.32   \n",
      "25%                                       -500.73   \n",
      "50%                                       -499.99   \n",
      "75%                                       -499.28   \n",
      "max                                       -244.48   \n",
      "\n",
      "       secondary_cleaner.state.floatbank5_b_air  \\\n",
      "count                                  5,290.00   \n",
      "mean                                       9.88   \n",
      "std                                        2.87   \n",
      "min                                        0.53   \n",
      "25%                                        8.04   \n",
      "50%                                       10.00   \n",
      "75%                                       12.00   \n",
      "max                                       14.09   \n",
      "\n",
      "       secondary_cleaner.state.floatbank5_b_level  \\\n",
      "count                                    5,290.00   \n",
      "mean                                      -495.66   \n",
      "std                                         34.54   \n",
      "min                                       -800.22   \n",
      "25%                                       -500.19   \n",
      "50%                                       -499.99   \n",
      "75%                                       -499.72   \n",
      "max                                       -137.74   \n",
      "\n",
      "       secondary_cleaner.state.floatbank6_a_air  \\\n",
      "count                                  5,290.00   \n",
      "mean                                      17.30   \n",
      "std                                        4.54   \n",
      "min                                       -0.08   \n",
      "25%                                       14.00   \n",
      "50%                                       16.01   \n",
      "75%                                       21.02   \n",
      "max                                       26.71   \n",
      "\n",
      "       secondary_cleaner.state.floatbank6_a_level  \n",
      "count                                    5,290.00  \n",
      "mean                                      -501.79  \n",
      "std                                         39.04  \n",
      "min                                       -809.74  \n",
      "25%                                       -500.69  \n",
      "50%                                       -500.01  \n",
      "75%                                       -499.37  \n",
      "max                                       -123.31   \n",
      "\n",
      "Наличие дубликатов: \n",
      "\n",
      "0 \n",
      "\n",
      "Наличие пропусков: \n",
      "\n",
      "primary_cleaner.input.sulfate                  4\n",
      "primary_cleaner.input.depressant               5\n",
      "primary_cleaner.input.feed_size                0\n",
      "primary_cleaner.input.xanthate                 4\n",
      "primary_cleaner.state.floatbank8_a_air         0\n",
      "primary_cleaner.state.floatbank8_a_level       0\n",
      "primary_cleaner.state.floatbank8_b_air         0\n",
      "primary_cleaner.state.floatbank8_b_level       0\n",
      "primary_cleaner.state.floatbank8_c_air         0\n",
      "primary_cleaner.state.floatbank8_c_level       0\n",
      "primary_cleaner.state.floatbank8_d_air         0\n",
      "primary_cleaner.state.floatbank8_d_level       0\n",
      "rougher.input.feed_ag                          0\n",
      "rougher.input.feed_pb                          0\n",
      "rougher.input.feed_rate                        3\n",
      "rougher.input.feed_size                        1\n",
      "rougher.input.feed_sol                        21\n",
      "rougher.input.feed_au                          0\n",
      "rougher.input.floatbank10_sulfate              5\n",
      "rougher.input.floatbank10_xanthate             0\n",
      "rougher.input.floatbank11_sulfate              8\n",
      "rougher.input.floatbank11_xanthate            25\n",
      "rougher.state.floatbank10_a_air                0\n",
      "rougher.state.floatbank10_a_level              0\n",
      "rougher.state.floatbank10_b_air                0\n",
      "rougher.state.floatbank10_b_level              0\n",
      "rougher.state.floatbank10_c_air                0\n",
      "rougher.state.floatbank10_c_level              0\n",
      "rougher.state.floatbank10_d_air                0\n",
      "rougher.state.floatbank10_d_level              0\n",
      "rougher.state.floatbank10_e_air                0\n",
      "rougher.state.floatbank10_e_level              0\n",
      "rougher.state.floatbank10_f_air                0\n",
      "rougher.state.floatbank10_f_level              0\n",
      "secondary_cleaner.state.floatbank2_a_air       3\n",
      "secondary_cleaner.state.floatbank2_a_level     0\n",
      "secondary_cleaner.state.floatbank2_b_air       2\n",
      "secondary_cleaner.state.floatbank2_b_level     0\n",
      "secondary_cleaner.state.floatbank3_a_air       9\n",
      "secondary_cleaner.state.floatbank3_a_level     0\n",
      "secondary_cleaner.state.floatbank3_b_air       0\n",
      "secondary_cleaner.state.floatbank3_b_level     0\n",
      "secondary_cleaner.state.floatbank4_a_air       0\n",
      "secondary_cleaner.state.floatbank4_a_level     0\n",
      "secondary_cleaner.state.floatbank4_b_air       0\n",
      "secondary_cleaner.state.floatbank4_b_level     0\n",
      "secondary_cleaner.state.floatbank5_a_air       0\n",
      "secondary_cleaner.state.floatbank5_a_level     0\n",
      "secondary_cleaner.state.floatbank5_b_air       0\n",
      "secondary_cleaner.state.floatbank5_b_level     0\n",
      "secondary_cleaner.state.floatbank6_a_air       0\n",
      "secondary_cleaner.state.floatbank6_a_level     0\n",
      "dtype: int64 \n",
      "\n",
      "5 разных строк: \n",
      "\n",
      "                     primary_cleaner.input.sulfate  \\\n",
      "date                                                 \n",
      "2017-12-16 23:59:59                          45.94   \n",
      "2016-11-28 23:59:59                         216.66   \n",
      "2017-10-05 03:59:59                         182.73   \n",
      "2016-10-15 08:59:59                         192.70   \n",
      "2017-10-21 10:59:59                         231.00   \n",
      "\n",
      "                     primary_cleaner.input.depressant  \\\n",
      "date                                                    \n",
      "2017-12-16 23:59:59                              4.79   \n",
      "2016-11-28 23:59:59                              7.93   \n",
      "2017-10-05 03:59:59                              6.46   \n",
      "2016-10-15 08:59:59                             15.00   \n",
      "2017-10-21 10:59:59                             14.01   \n",
      "\n",
      "                     primary_cleaner.input.feed_size  \\\n",
      "date                                                   \n",
      "2017-12-16 23:59:59                             7.49   \n",
      "2016-11-28 23:59:59                             6.87   \n",
      "2017-10-05 03:59:59                             6.96   \n",
      "2016-10-15 08:59:59                             7.15   \n",
      "2017-10-21 10:59:59                             6.56   \n",
      "\n",
      "                     primary_cleaner.input.xanthate  \\\n",
      "date                                                  \n",
      "2017-12-16 23:59:59                            0.35   \n",
      "2016-11-28 23:59:59                            1.30   \n",
      "2017-10-05 03:59:59                            1.18   \n",
      "2016-10-15 08:59:59                            1.05   \n",
      "2017-10-21 10:59:59                            2.52   \n",
      "\n",
      "                     primary_cleaner.state.floatbank8_a_air  \\\n",
      "date                                                          \n",
      "2017-12-16 23:59:59                                1,927.48   \n",
      "2016-11-28 23:59:59                                1,503.22   \n",
      "2017-10-05 03:59:59                                1,501.43   \n",
      "2016-10-15 08:59:59                                1,632.84   \n",
      "2017-10-21 10:59:59                                1,700.02   \n",
      "\n",
      "                     primary_cleaner.state.floatbank8_a_level  \\\n",
      "date                                                            \n",
      "2017-12-16 23:59:59                                   -499.93   \n",
      "2016-11-28 23:59:59                                   -499.92   \n",
      "2017-10-05 03:59:59                                   -504.04   \n",
      "2016-10-15 08:59:59                                   -499.72   \n",
      "2017-10-21 10:59:59                                   -500.10   \n",
      "\n",
      "                     primary_cleaner.state.floatbank8_b_air  \\\n",
      "date                                                          \n",
      "2017-12-16 23:59:59                                1,548.39   \n",
      "2016-11-28 23:59:59                                1,503.32   \n",
      "2017-10-05 03:59:59                                1,449.31   \n",
      "2016-10-15 08:59:59                                1,702.50   \n",
      "2017-10-21 10:59:59                                1,698.50   \n",
      "\n",
      "                     primary_cleaner.state.floatbank8_b_level  \\\n",
      "date                                                            \n",
      "2017-12-16 23:59:59                                   -800.00   \n",
      "2016-11-28 23:59:59                                   -500.03   \n",
      "2017-10-05 03:59:59                                   -491.60   \n",
      "2016-10-15 08:59:59                                   -500.49   \n",
      "2017-10-21 10:59:59                                   -501.27   \n",
      "\n",
      "                     primary_cleaner.state.floatbank8_c_air  \\\n",
      "date                                                          \n",
      "2017-12-16 23:59:59                                1,157.85   \n",
      "2016-11-28 23:59:59                                1,497.59   \n",
      "2017-10-05 03:59:59                                1,446.70   \n",
      "2016-10-15 08:59:59                                1,701.72   \n",
      "2017-10-21 10:59:59                                1,646.64   \n",
      "\n",
      "                     primary_cleaner.state.floatbank8_c_level  \\\n",
      "date                                                            \n",
      "2017-12-16 23:59:59                                   -500.54   \n",
      "2016-11-28 23:59:59                                   -499.75   \n",
      "2017-10-05 03:59:59                                   -498.47   \n",
      "2016-10-15 08:59:59                                   -500.62   \n",
      "2017-10-21 10:59:59                                   -499.45   \n",
      "\n",
      "                     primary_cleaner.state.floatbank8_d_air  \\\n",
      "date                                                          \n",
      "2017-12-16 23:59:59                                1,622.22   \n",
      "2016-11-28 23:59:59                                1,499.93   \n",
      "2017-10-05 03:59:59                                1,447.71   \n",
      "2016-10-15 08:59:59                                1,701.67   \n",
      "2017-10-21 10:59:59                                1,700.06   \n",
      "\n",
      "                     primary_cleaner.state.floatbank8_d_level  \\\n",
      "date                                                            \n",
      "2017-12-16 23:59:59                                   -499.83   \n",
      "2016-11-28 23:59:59                                   -500.07   \n",
      "2017-10-05 03:59:59                                   -498.86   \n",
      "2016-10-15 08:59:59                                   -500.13   \n",
      "2017-10-21 10:59:59                                   -504.19   \n",
      "\n",
      "                     rougher.input.feed_ag  rougher.input.feed_pb  \\\n",
      "date                                                                \n",
      "2017-12-16 23:59:59                   8.21                   2.66   \n",
      "2016-11-28 23:59:59                  10.83                   3.46   \n",
      "2017-10-05 03:59:59                   7.24                   1.92   \n",
      "2016-10-15 08:59:59                  11.21                   4.00   \n",
      "2017-10-21 10:59:59                   9.92                   6.29   \n",
      "\n",
      "                     rougher.input.feed_rate  rougher.input.feed_size  \\\n",
      "date                                                                    \n",
      "2017-12-16 23:59:59                   200.72                    25.36   \n",
      "2016-11-28 23:59:59                   489.64                    46.14   \n",
      "2017-10-05 03:59:59                   621.41                    58.06   \n",
      "2016-10-15 08:59:59                   442.47                    43.91   \n",
      "2017-10-21 10:59:59                   538.80                    57.21   \n",
      "\n",
      "                     rougher.input.feed_sol  rougher.input.feed_au  \\\n",
      "date                                                                 \n",
      "2017-12-16 23:59:59                   26.82                   7.36   \n",
      "2016-11-28 23:59:59                   35.99                   9.87   \n",
      "2017-10-05 03:59:59                   44.72                   5.85   \n",
      "2016-10-15 08:59:59                   36.65                  11.44   \n",
      "2017-10-21 10:59:59                   40.80                  11.21   \n",
      "\n",
      "                     rougher.input.floatbank10_sulfate  \\\n",
      "date                                                     \n",
      "2017-12-16 23:59:59                              10.02   \n",
      "2016-11-28 23:59:59                              13.00   \n",
      "2017-10-05 03:59:59                              18.00   \n",
      "2016-10-15 08:59:59                              15.00   \n",
      "2017-10-21 10:59:59                              23.01   \n",
      "\n",
      "                     rougher.input.floatbank10_xanthate  \\\n",
      "date                                                      \n",
      "2017-12-16 23:59:59                                6.21   \n",
      "2016-11-28 23:59:59                                6.80   \n",
      "2017-10-05 03:59:59                                6.40   \n",
      "2016-10-15 08:59:59                                7.30   \n",
      "2017-10-21 10:59:59                                7.20   \n",
      "\n",
      "                     rougher.input.floatbank11_sulfate  \\\n",
      "date                                                     \n",
      "2017-12-16 23:59:59                                NaN   \n",
      "2016-11-28 23:59:59                              13.00   \n",
      "2017-10-05 03:59:59                              18.00   \n",
      "2016-10-15 08:59:59                              14.98   \n",
      "2017-10-21 10:59:59                              23.00   \n",
      "\n",
      "                     rougher.input.floatbank11_xanthate  \\\n",
      "date                                                      \n",
      "2017-12-16 23:59:59                                 NaN   \n",
      "2016-11-28 23:59:59                                6.80   \n",
      "2017-10-05 03:59:59                                6.40   \n",
      "2016-10-15 08:59:59                                7.30   \n",
      "2017-10-21 10:59:59                                7.20   \n",
      "\n",
      "                     rougher.state.floatbank10_a_air  \\\n",
      "date                                                   \n",
      "2017-12-16 23:59:59                           998.91   \n",
      "2016-11-28 23:59:59                           999.52   \n",
      "2017-10-05 03:59:59                           998.24   \n",
      "2016-10-15 08:59:59                           983.88   \n",
      "2017-10-21 10:59:59                         1,005.27   \n",
      "\n",
      "                     rougher.state.floatbank10_a_level  \\\n",
      "date                                                     \n",
      "2017-12-16 23:59:59                            -399.91   \n",
      "2016-11-28 23:59:59                            -499.95   \n",
      "2017-10-05 03:59:59                            -299.97   \n",
      "2016-10-15 08:59:59                            -500.08   \n",
      "2017-10-21 10:59:59                            -300.30   \n",
      "\n",
      "                     rougher.state.floatbank10_b_air  \\\n",
      "date                                                   \n",
      "2017-12-16 23:59:59                         1,197.80   \n",
      "2016-11-28 23:59:59                         1,450.36   \n",
      "2017-10-05 03:59:59                         1,400.14   \n",
      "2016-10-15 08:59:59                         1,484.09   \n",
      "2017-10-21 10:59:59                         1,220.92   \n",
      "\n",
      "                     rougher.state.floatbank10_b_level  \\\n",
      "date                                                     \n",
      "2017-12-16 23:59:59                            -499.94   \n",
      "2016-11-28 23:59:59                            -399.59   \n",
      "2017-10-05 03:59:59                            -499.60   \n",
      "2016-10-15 08:59:59                            -399.81   \n",
      "2017-10-21 10:59:59                            -499.66   \n",
      "\n",
      "                     rougher.state.floatbank10_c_air  \\\n",
      "date                                                   \n",
      "2017-12-16 23:59:59                         1,199.27   \n",
      "2016-11-28 23:59:59                         1,450.40   \n",
      "2017-10-05 03:59:59                         1,351.29   \n",
      "2016-10-15 08:59:59                         1,437.54   \n",
      "2017-10-21 10:59:59                         1,149.21   \n",
      "\n",
      "                     rougher.state.floatbank10_c_level  \\\n",
      "date                                                     \n",
      "2017-12-16 23:59:59                            -500.54   \n",
      "2016-11-28 23:59:59                            -400.23   \n",
      "2017-10-05 03:59:59                            -499.16   \n",
      "2016-10-15 08:59:59                            -400.21   \n",
      "2017-10-21 10:59:59                            -499.28   \n",
      "\n",
      "                     rougher.state.floatbank10_d_air  \\\n",
      "date                                                   \n",
      "2017-12-16 23:59:59                         1,007.92   \n",
      "2016-11-28 23:59:59                         1,400.71   \n",
      "2017-10-05 03:59:59                         1,302.78   \n",
      "2016-10-15 08:59:59                         1,325.08   \n",
      "2017-10-21 10:59:59                         1,106.09   \n",
      "\n",
      "                     rougher.state.floatbank10_d_level  \\\n",
      "date                                                     \n",
      "2017-12-16 23:59:59                            -499.99   \n",
      "2016-11-28 23:59:59                            -400.37   \n",
      "2017-10-05 03:59:59                            -499.50   \n",
      "2016-10-15 08:59:59                            -397.91   \n",
      "2017-10-21 10:59:59                            -500.20   \n",
      "\n",
      "                     rougher.state.floatbank10_e_air  \\\n",
      "date                                                   \n",
      "2017-12-16 23:59:59                         1,000.91   \n",
      "2016-11-28 23:59:59                         1,099.82   \n",
      "2017-10-05 03:59:59                         1,099.09   \n",
      "2016-10-15 08:59:59                         1,093.55   \n",
      "2017-10-21 10:59:59                         1,001.63   \n",
      "\n",
      "                     rougher.state.floatbank10_e_level  \\\n",
      "date                                                     \n",
      "2017-12-16 23:59:59                            -500.26   \n",
      "2016-11-28 23:59:59                            -399.56   \n",
      "2017-10-05 03:59:59                            -499.40   \n",
      "2016-10-15 08:59:59                            -399.40   \n",
      "2017-10-21 10:59:59                            -499.50   \n",
      "\n",
      "                     rougher.state.floatbank10_f_air  \\\n",
      "date                                                   \n",
      "2017-12-16 23:59:59                           900.53   \n",
      "2016-11-28 23:59:59                         1,000.04   \n",
      "2017-10-05 03:59:59                         1,098.36   \n",
      "2016-10-15 08:59:59                           993.64   \n",
      "2017-10-21 10:59:59                         1,003.57   \n",
      "\n",
      "                     rougher.state.floatbank10_f_level  \\\n",
      "date                                                     \n",
      "2017-12-16 23:59:59                            -500.81   \n",
      "2016-11-28 23:59:59                            -400.96   \n",
      "2017-10-05 03:59:59                            -499.68   \n",
      "2016-10-15 08:59:59                            -400.26   \n",
      "2017-10-21 10:59:59                            -500.57   \n",
      "\n",
      "                     secondary_cleaner.state.floatbank2_a_air  \\\n",
      "date                                                            \n",
      "2017-12-16 23:59:59                                     24.92   \n",
      "2016-11-28 23:59:59                                     27.03   \n",
      "2017-10-05 03:59:59                                     24.86   \n",
      "2016-10-15 08:59:59                                     30.05   \n",
      "2017-10-21 10:59:59                                     27.99   \n",
      "\n",
      "                     secondary_cleaner.state.floatbank2_a_level  \\\n",
      "date                                                              \n",
      "2017-12-16 23:59:59                                     -500.30   \n",
      "2016-11-28 23:59:59                                     -500.09   \n",
      "2017-10-05 03:59:59                                     -500.12   \n",
      "2016-10-15 08:59:59                                     -500.61   \n",
      "2017-10-21 10:59:59                                     -499.93   \n",
      "\n",
      "                     secondary_cleaner.state.floatbank2_b_air  \\\n",
      "date                                                            \n",
      "2017-12-16 23:59:59                                     19.98   \n",
      "2016-11-28 23:59:59                                     23.02   \n",
      "2017-10-05 03:59:59                                     19.90   \n",
      "2016-10-15 08:59:59                                     25.03   \n",
      "2017-10-21 10:59:59                                     26.02   \n",
      "\n",
      "                     secondary_cleaner.state.floatbank2_b_level  \\\n",
      "date                                                              \n",
      "2017-12-16 23:59:59                                     -499.62   \n",
      "2016-11-28 23:59:59                                     -500.05   \n",
      "2017-10-05 03:59:59                                     -500.65   \n",
      "2016-10-15 08:59:59                                     -500.45   \n",
      "2017-10-21 10:59:59                                     -499.35   \n",
      "\n",
      "                     secondary_cleaner.state.floatbank3_a_air  \\\n",
      "date                                                            \n",
      "2017-12-16 23:59:59                                     25.01   \n",
      "2016-11-28 23:59:59                                     31.02   \n",
      "2017-10-05 03:59:59                                     20.01   \n",
      "2016-10-15 08:59:59                                     32.94   \n",
      "2017-10-21 10:59:59                                     24.99   \n",
      "\n",
      "                     secondary_cleaner.state.floatbank3_a_level  \\\n",
      "date                                                              \n",
      "2017-12-16 23:59:59                                     -499.07   \n",
      "2016-11-28 23:59:59                                     -500.00   \n",
      "2017-10-05 03:59:59                                     -500.60   \n",
      "2016-10-15 08:59:59                                     -499.97   \n",
      "2017-10-21 10:59:59                                     -500.02   \n",
      "\n",
      "                     secondary_cleaner.state.floatbank3_b_air  \\\n",
      "date                                                            \n",
      "2017-12-16 23:59:59                                     17.98   \n",
      "2016-11-28 23:59:59                                     25.97   \n",
      "2017-10-05 03:59:59                                     14.98   \n",
      "2016-10-15 08:59:59                                     31.00   \n",
      "2017-10-21 10:59:59                                     23.01   \n",
      "\n",
      "                     secondary_cleaner.state.floatbank3_b_level  \\\n",
      "date                                                              \n",
      "2017-12-16 23:59:59                                     -499.84   \n",
      "2016-11-28 23:59:59                                     -500.11   \n",
      "2017-10-05 03:59:59                                     -500.06   \n",
      "2016-10-15 08:59:59                                     -499.86   \n",
      "2017-10-21 10:59:59                                     -500.02   \n",
      "\n",
      "                     secondary_cleaner.state.floatbank4_a_air  \\\n",
      "date                                                            \n",
      "2017-12-16 23:59:59                                      3.95   \n",
      "2016-11-28 23:59:59                                     18.02   \n",
      "2017-10-05 03:59:59                                     14.01   \n",
      "2016-10-15 08:59:59                                     15.97   \n",
      "2017-10-21 10:59:59                                     20.97   \n",
      "\n",
      "                     secondary_cleaner.state.floatbank4_a_level  \\\n",
      "date                                                              \n",
      "2017-12-16 23:59:59                                     -798.48   \n",
      "2016-11-28 23:59:59                                     -500.45   \n",
      "2017-10-05 03:59:59                                     -500.40   \n",
      "2016-10-15 08:59:59                                     -500.82   \n",
      "2017-10-21 10:59:59                                     -499.82   \n",
      "\n",
      "                     secondary_cleaner.state.floatbank4_b_air  \\\n",
      "date                                                            \n",
      "2017-12-16 23:59:59                                      0.00   \n",
      "2016-11-28 23:59:59                                     15.97   \n",
      "2017-10-05 03:59:59                                     12.09   \n",
      "2016-10-15 08:59:59                                     11.99   \n",
      "2017-10-21 10:59:59                                     19.05   \n",
      "\n",
      "                     secondary_cleaner.state.floatbank4_b_level  \\\n",
      "date                                                              \n",
      "2017-12-16 23:59:59                                     -799.84   \n",
      "2016-11-28 23:59:59                                     -501.28   \n",
      "2017-10-05 03:59:59                                     -400.05   \n",
      "2016-10-15 08:59:59                                     -500.32   \n",
      "2017-10-21 10:59:59                                     -399.94   \n",
      "\n",
      "                     secondary_cleaner.state.floatbank5_a_air  \\\n",
      "date                                                            \n",
      "2017-12-16 23:59:59                                     10.93   \n",
      "2016-11-28 23:59:59                                     16.78   \n",
      "2017-10-05 03:59:59                                     13.01   \n",
      "2016-10-15 08:59:59                                      9.18   \n",
      "2017-10-21 10:59:59                                     14.96   \n",
      "\n",
      "                     secondary_cleaner.state.floatbank5_a_level  \\\n",
      "date                                                              \n",
      "2017-12-16 23:59:59                                     -499.17   \n",
      "2016-11-28 23:59:59                                     -501.12   \n",
      "2017-10-05 03:59:59                                     -500.03   \n",
      "2016-10-15 08:59:59                                     -499.11   \n",
      "2017-10-21 10:59:59                                     -499.80   \n",
      "\n",
      "                     secondary_cleaner.state.floatbank5_b_air  \\\n",
      "date                                                            \n",
      "2017-12-16 23:59:59                                      7.99   \n",
      "2016-11-28 23:59:59                                     12.00   \n",
      "2017-10-05 03:59:59                                     11.00   \n",
      "2016-10-15 08:59:59                                      7.95   \n",
      "2017-10-21 10:59:59                                     10.99   \n",
      "\n",
      "                     secondary_cleaner.state.floatbank5_b_level  \\\n",
      "date                                                              \n",
      "2017-12-16 23:59:59                                     -500.40   \n",
      "2016-11-28 23:59:59                                     -500.20   \n",
      "2017-10-05 03:59:59                                     -500.08   \n",
      "2016-10-15 08:59:59                                     -500.39   \n",
      "2017-10-21 10:59:59                                     -500.08   \n",
      "\n",
      "                     secondary_cleaner.state.floatbank6_a_air  \\\n",
      "date                                                            \n",
      "2017-12-16 23:59:59                                     12.01   \n",
      "2016-11-28 23:59:59                                     21.99   \n",
      "2017-10-05 03:59:59                                     15.00   \n",
      "2016-10-15 08:59:59                                     17.01   \n",
      "2017-10-21 10:59:59                                     15.97   \n",
      "\n",
      "                     secondary_cleaner.state.floatbank6_a_level  \n",
      "date                                                             \n",
      "2017-12-16 23:59:59                                     -500.52  \n",
      "2016-11-28 23:59:59                                     -500.87  \n",
      "2017-10-05 03:59:59                                     -499.72  \n",
      "2016-10-15 08:59:59                                     -498.94  \n",
      "2017-10-21 10:59:59                                     -499.92   \n",
      "\n"
     ]
    }
   ],
   "source": [
    "about_data(data_gold_test)"
   ]
  },
  {
   "cell_type": "code",
   "execution_count": 7,
   "metadata": {},
   "outputs": [
    {
     "name": "stdout",
     "output_type": "stream",
     "text": [
      "Информация о датасете: \n",
      "\n",
      "<class 'pandas.core.frame.DataFrame'>\n",
      "Index: 19439 entries, 2016-01-15 00:00:00 to 2018-08-18 10:59:59\n",
      "Data columns (total 86 columns):\n",
      " #   Column                                              Non-Null Count  Dtype  \n",
      "---  ------                                              --------------  -----  \n",
      " 0   final.output.concentrate_ag                         19438 non-null  float64\n",
      " 1   final.output.concentrate_pb                         19438 non-null  float64\n",
      " 2   final.output.concentrate_sol                        19228 non-null  float64\n",
      " 3   final.output.concentrate_au                         19439 non-null  float64\n",
      " 4   final.output.recovery                               19439 non-null  float64\n",
      " 5   final.output.tail_ag                                19438 non-null  float64\n",
      " 6   final.output.tail_pb                                19338 non-null  float64\n",
      " 7   final.output.tail_sol                               19433 non-null  float64\n",
      " 8   final.output.tail_au                                19439 non-null  float64\n",
      " 9   primary_cleaner.input.sulfate                       19415 non-null  float64\n",
      " 10  primary_cleaner.input.depressant                    19402 non-null  float64\n",
      " 11  primary_cleaner.input.feed_size                     19439 non-null  float64\n",
      " 12  primary_cleaner.input.xanthate                      19335 non-null  float64\n",
      " 13  primary_cleaner.output.concentrate_ag               19439 non-null  float64\n",
      " 14  primary_cleaner.output.concentrate_pb               19323 non-null  float64\n",
      " 15  primary_cleaner.output.concentrate_sol              19069 non-null  float64\n",
      " 16  primary_cleaner.output.concentrate_au               19439 non-null  float64\n",
      " 17  primary_cleaner.output.tail_ag                      19435 non-null  float64\n",
      " 18  primary_cleaner.output.tail_pb                      19418 non-null  float64\n",
      " 19  primary_cleaner.output.tail_sol                     19377 non-null  float64\n",
      " 20  primary_cleaner.output.tail_au                      19439 non-null  float64\n",
      " 21  primary_cleaner.state.floatbank8_a_air              19435 non-null  float64\n",
      " 22  primary_cleaner.state.floatbank8_a_level            19438 non-null  float64\n",
      " 23  primary_cleaner.state.floatbank8_b_air              19435 non-null  float64\n",
      " 24  primary_cleaner.state.floatbank8_b_level            19438 non-null  float64\n",
      " 25  primary_cleaner.state.floatbank8_c_air              19437 non-null  float64\n",
      " 26  primary_cleaner.state.floatbank8_c_level            19438 non-null  float64\n",
      " 27  primary_cleaner.state.floatbank8_d_air              19436 non-null  float64\n",
      " 28  primary_cleaner.state.floatbank8_d_level            19438 non-null  float64\n",
      " 29  rougher.calculation.sulfate_to_au_concentrate       19437 non-null  float64\n",
      " 30  rougher.calculation.floatbank10_sulfate_to_au_feed  19437 non-null  float64\n",
      " 31  rougher.calculation.floatbank11_sulfate_to_au_feed  19437 non-null  float64\n",
      " 32  rougher.calculation.au_pb_ratio                     19439 non-null  float64\n",
      " 33  rougher.input.feed_ag                               19439 non-null  float64\n",
      " 34  rougher.input.feed_pb                               19339 non-null  float64\n",
      " 35  rougher.input.feed_rate                             19428 non-null  float64\n",
      " 36  rougher.input.feed_size                             19294 non-null  float64\n",
      " 37  rougher.input.feed_sol                              19340 non-null  float64\n",
      " 38  rougher.input.feed_au                               19439 non-null  float64\n",
      " 39  rougher.input.floatbank10_sulfate                   19405 non-null  float64\n",
      " 40  rougher.input.floatbank10_xanthate                  19431 non-null  float64\n",
      " 41  rougher.input.floatbank11_sulfate                   19395 non-null  float64\n",
      " 42  rougher.input.floatbank11_xanthate                  18986 non-null  float64\n",
      " 43  rougher.output.concentrate_ag                       19439 non-null  float64\n",
      " 44  rougher.output.concentrate_pb                       19439 non-null  float64\n",
      " 45  rougher.output.concentrate_sol                      19416 non-null  float64\n",
      " 46  rougher.output.concentrate_au                       19439 non-null  float64\n",
      " 47  rougher.output.recovery                             19439 non-null  float64\n",
      " 48  rougher.output.tail_ag                              19438 non-null  float64\n",
      " 49  rougher.output.tail_pb                              19439 non-null  float64\n",
      " 50  rougher.output.tail_sol                             19439 non-null  float64\n",
      " 51  rougher.output.tail_au                              19439 non-null  float64\n",
      " 52  rougher.state.floatbank10_a_air                     19438 non-null  float64\n",
      " 53  rougher.state.floatbank10_a_level                   19438 non-null  float64\n",
      " 54  rougher.state.floatbank10_b_air                     19438 non-null  float64\n",
      " 55  rougher.state.floatbank10_b_level                   19438 non-null  float64\n",
      " 56  rougher.state.floatbank10_c_air                     19438 non-null  float64\n",
      " 57  rougher.state.floatbank10_c_level                   19438 non-null  float64\n",
      " 58  rougher.state.floatbank10_d_air                     19439 non-null  float64\n",
      " 59  rougher.state.floatbank10_d_level                   19439 non-null  float64\n",
      " 60  rougher.state.floatbank10_e_air                     19003 non-null  float64\n",
      " 61  rougher.state.floatbank10_e_level                   19439 non-null  float64\n",
      " 62  rougher.state.floatbank10_f_air                     19439 non-null  float64\n",
      " 63  rougher.state.floatbank10_f_level                   19439 non-null  float64\n",
      " 64  secondary_cleaner.output.tail_ag                    19437 non-null  float64\n",
      " 65  secondary_cleaner.output.tail_pb                    19427 non-null  float64\n",
      " 66  secondary_cleaner.output.tail_sol                   17691 non-null  float64\n",
      " 67  secondary_cleaner.output.tail_au                    19439 non-null  float64\n",
      " 68  secondary_cleaner.state.floatbank2_a_air            19219 non-null  float64\n",
      " 69  secondary_cleaner.state.floatbank2_a_level          19438 non-null  float64\n",
      " 70  secondary_cleaner.state.floatbank2_b_air            19416 non-null  float64\n",
      " 71  secondary_cleaner.state.floatbank2_b_level          19438 non-null  float64\n",
      " 72  secondary_cleaner.state.floatbank3_a_air            19426 non-null  float64\n",
      " 73  secondary_cleaner.state.floatbank3_a_level          19438 non-null  float64\n",
      " 74  secondary_cleaner.state.floatbank3_b_air            19438 non-null  float64\n",
      " 75  secondary_cleaner.state.floatbank3_b_level          19438 non-null  float64\n",
      " 76  secondary_cleaner.state.floatbank4_a_air            19433 non-null  float64\n",
      " 77  secondary_cleaner.state.floatbank4_a_level          19438 non-null  float64\n",
      " 78  secondary_cleaner.state.floatbank4_b_air            19438 non-null  float64\n",
      " 79  secondary_cleaner.state.floatbank4_b_level          19438 non-null  float64\n",
      " 80  secondary_cleaner.state.floatbank5_a_air            19438 non-null  float64\n",
      " 81  secondary_cleaner.state.floatbank5_a_level          19438 non-null  float64\n",
      " 82  secondary_cleaner.state.floatbank5_b_air            19438 non-null  float64\n",
      " 83  secondary_cleaner.state.floatbank5_b_level          19438 non-null  float64\n",
      " 84  secondary_cleaner.state.floatbank6_a_air            19437 non-null  float64\n",
      " 85  secondary_cleaner.state.floatbank6_a_level          19438 non-null  float64\n",
      "dtypes: float64(86)\n",
      "memory usage: 12.9+ MB\n",
      "None \n",
      "\n",
      "Статистические данные: \n",
      "\n",
      "       final.output.concentrate_ag  final.output.concentrate_pb  \\\n",
      "count                    19,438.00                    19,438.00   \n",
      "mean                          5.17                         9.98   \n",
      "std                           1.37                         1.67   \n",
      "min                           0.00                         0.00   \n",
      "25%                           4.25                         9.14   \n",
      "50%                           5.07                        10.10   \n",
      "75%                           5.90                        11.04   \n",
      "max                          16.00                        17.03   \n",
      "\n",
      "       final.output.concentrate_sol  final.output.concentrate_au  \\\n",
      "count                     19,228.00                    19,439.00   \n",
      "mean                           9.50                        44.08   \n",
      "std                            2.79                         5.13   \n",
      "min                            0.00                         0.00   \n",
      "25%                            7.72                        43.40   \n",
      "50%                            9.22                        45.01   \n",
      "75%                           10.95                        46.28   \n",
      "max                           19.62                        52.76   \n",
      "\n",
      "       final.output.recovery  final.output.tail_ag  final.output.tail_pb  \\\n",
      "count              19,439.00             19,438.00             19,338.00   \n",
      "mean                   67.05                  9.69                  2.71   \n",
      "std                    10.13                  2.33                  0.95   \n",
      "min                     0.00                  0.00                  0.00   \n",
      "25%                    63.30                  8.06                  2.04   \n",
      "50%                    68.17                  9.74                  2.75   \n",
      "75%                    72.69                 11.13                  3.33   \n",
      "max                   100.00                 19.55                  5.80   \n",
      "\n",
      "       final.output.tail_sol  final.output.tail_au  \\\n",
      "count              19,433.00             19,439.00   \n",
      "mean                   10.58                  3.04   \n",
      "std                     2.87                  0.92   \n",
      "min                     0.00                  0.00   \n",
      "25%                     8.94                  2.46   \n",
      "50%                    10.62                  2.98   \n",
      "75%                    12.10                  3.57   \n",
      "max                    22.32                  8.25   \n",
      "\n",
      "       primary_cleaner.input.sulfate  primary_cleaner.input.depressant  \\\n",
      "count                      19,415.00                         19,402.00   \n",
      "mean                          144.62                              8.82   \n",
      "std                            44.46                              3.29   \n",
      "min                             0.00                              0.00   \n",
      "25%                           114.11                              6.08   \n",
      "50%                           143.23                              8.04   \n",
      "75%                           175.08                             11.01   \n",
      "max                           265.98                             40.00   \n",
      "\n",
      "       primary_cleaner.input.feed_size  primary_cleaner.input.xanthate  \\\n",
      "count                        19,439.00                       19,335.00   \n",
      "mean                              7.31                            1.02   \n",
      "std                               0.61                            0.51   \n",
      "min                               1.08                            0.00   \n",
      "25%                               6.94                            0.70   \n",
      "50%                               7.28                            0.94   \n",
      "75%                               7.67                            1.21   \n",
      "max                              15.50                            4.10   \n",
      "\n",
      "       primary_cleaner.output.concentrate_ag  \\\n",
      "count                              19,439.00   \n",
      "mean                                    8.44   \n",
      "std                                     2.05   \n",
      "min                                     0.00   \n",
      "25%                                     7.26   \n",
      "50%                                     8.51   \n",
      "75%                                     9.81   \n",
      "max                                    16.08   \n",
      "\n",
      "       primary_cleaner.output.concentrate_pb  \\\n",
      "count                              19,323.00   \n",
      "mean                                    9.83   \n",
      "std                                     2.56   \n",
      "min                                     0.00   \n",
      "25%                                     8.70   \n",
      "50%                                    10.15   \n",
      "75%                                    11.42   \n",
      "max                                    17.08   \n",
      "\n",
      "       primary_cleaner.output.concentrate_sol  \\\n",
      "count                               19,069.00   \n",
      "mean                                    10.49   \n",
      "std                                      3.91   \n",
      "min                                      0.00   \n",
      "25%                                      7.89   \n",
      "50%                                     10.31   \n",
      "75%                                     13.45   \n",
      "max                                     22.46   \n",
      "\n",
      "       primary_cleaner.output.concentrate_au  primary_cleaner.output.tail_ag  \\\n",
      "count                              19,439.00                       19,435.00   \n",
      "mean                                   32.12                           16.15   \n",
      "std                                     5.63                            3.55   \n",
      "min                                     0.00                            0.00   \n",
      "25%                                    30.46                           14.02   \n",
      "50%                                    32.84                           15.84   \n",
      "75%                                    35.05                           18.01   \n",
      "max                                    45.93                           29.46   \n",
      "\n",
      "       primary_cleaner.output.tail_pb  primary_cleaner.output.tail_sol  \\\n",
      "count                       19,418.00                        19,377.00   \n",
      "mean                             3.44                             7.97   \n",
      "std                              1.39                             2.21   \n",
      "min                              0.00                             0.00   \n",
      "25%                              2.50                             6.75   \n",
      "50%                              3.27                             8.18   \n",
      "75%                              4.18                             9.55   \n",
      "max                              9.63                            22.28   \n",
      "\n",
      "       primary_cleaner.output.tail_au  primary_cleaner.state.floatbank8_a_air  \\\n",
      "count                       19,439.00                               19,435.00   \n",
      "mean                             3.91                                1,589.35   \n",
      "std                              1.59                                  129.00   \n",
      "min                              0.00                                    0.00   \n",
      "25%                              2.92                                1,505.06   \n",
      "50%                              3.62                                1,600.60   \n",
      "75%                              4.59                                1,697.66   \n",
      "max                             17.79                                2,103.10   \n",
      "\n",
      "       primary_cleaner.state.floatbank8_a_level  \\\n",
      "count                                 19,438.00   \n",
      "mean                                    -491.20   \n",
      "std                                       32.43   \n",
      "min                                     -798.64   \n",
      "25%                                     -500.31   \n",
      "50%                                     -499.93   \n",
      "75%                                     -499.43   \n",
      "max                                      -57.20   \n",
      "\n",
      "       primary_cleaner.state.floatbank8_b_air  \\\n",
      "count                               19,435.00   \n",
      "mean                                 1,591.34   \n",
      "std                                    131.81   \n",
      "min                                      0.00   \n",
      "25%                                  1,503.63   \n",
      "50%                                  1,600.52   \n",
      "75%                                  1,699.22   \n",
      "max                                  2,114.91   \n",
      "\n",
      "       primary_cleaner.state.floatbank8_b_level  \\\n",
      "count                                 19,438.00   \n",
      "mean                                    -492.19   \n",
      "std                                       33.79   \n",
      "min                                     -800.00   \n",
      "25%                                     -500.44   \n",
      "50%                                     -499.96   \n",
      "75%                                     -499.37   \n",
      "max                                     -142.53   \n",
      "\n",
      "       primary_cleaner.state.floatbank8_c_air  \\\n",
      "count                               19,437.00   \n",
      "mean                                 1,586.67   \n",
      "std                                    136.11   \n",
      "min                                      0.00   \n",
      "25%                                  1,500.93   \n",
      "50%                                  1,600.25   \n",
      "75%                                  1,699.48   \n",
      "max                                  2,013.16   \n",
      "\n",
      "       primary_cleaner.state.floatbank8_c_level  \\\n",
      "count                                 19,438.00   \n",
      "mean                                    -491.98   \n",
      "std                                       32.71   \n",
      "min                                     -799.96   \n",
      "25%                                     -500.70   \n",
      "50%                                     -499.91   \n",
      "75%                                     -498.86   \n",
      "max                                     -150.94   \n",
      "\n",
      "       primary_cleaner.state.floatbank8_d_air  \\\n",
      "count                               19,436.00   \n",
      "mean                                 1,542.91   \n",
      "std                                    246.20   \n",
      "min                                      0.00   \n",
      "25%                                  1,494.22   \n",
      "50%                                  1,599.45   \n",
      "75%                                  1,698.52   \n",
      "max                                  2,398.90   \n",
      "\n",
      "       primary_cleaner.state.floatbank8_d_level  \\\n",
      "count                                 19,438.00   \n",
      "mean                                    -488.02   \n",
      "std                                       43.96   \n",
      "min                                     -799.79   \n",
      "25%                                     -500.46   \n",
      "50%                                     -499.91   \n",
      "75%                                     -499.06   \n",
      "max                                      -30.60   \n",
      "\n",
      "       rougher.calculation.sulfate_to_au_concentrate  \\\n",
      "count                                      19,437.00   \n",
      "mean                                       42,171.19   \n",
      "std                                       324,362.11   \n",
      "min                                   -42,235,197.37   \n",
      "25%                                        40,700.95   \n",
      "50%                                        44,696.48   \n",
      "75%                                        48,168.21   \n",
      "max                                     3,428,098.94   \n",
      "\n",
      "       rougher.calculation.floatbank10_sulfate_to_au_feed  \\\n",
      "count                                          19,437.00    \n",
      "mean                                            3,393.05    \n",
      "std                                             4,943.85    \n",
      "min                                              -486.60    \n",
      "25%                                             2,611.43    \n",
      "50%                                             3,018.35    \n",
      "75%                                             3,676.77    \n",
      "max                                           629,638.98    \n",
      "\n",
      "       rougher.calculation.floatbank11_sulfate_to_au_feed  \\\n",
      "count                                          19,437.00    \n",
      "mean                                            3,256.85    \n",
      "std                                             5,781.42    \n",
      "min                                              -264.98    \n",
      "25%                                             2,551.44    \n",
      "50%                                             2,997.22    \n",
      "75%                                             3,602.00    \n",
      "max                                           718,684.96    \n",
      "\n",
      "       rougher.calculation.au_pb_ratio  rougher.input.feed_ag  \\\n",
      "count                        19,439.00              19,439.00   \n",
      "mean                              2.42                   8.79   \n",
      "std                               0.81                   1.94   \n",
      "min                              -0.01                   0.01   \n",
      "25%                               2.04                   7.24   \n",
      "50%                               2.31                   8.59   \n",
      "75%                               2.73                  10.21   \n",
      "max                              39.38                  14.60   \n",
      "\n",
      "       rougher.input.feed_pb  rougher.input.feed_rate  \\\n",
      "count              19,339.00                19,428.00   \n",
      "mean                    3.60                   478.32   \n",
      "std                     1.05                   105.37   \n",
      "min                     0.01                     0.00   \n",
      "25%                     2.89                   416.53   \n",
      "50%                     3.53                   499.42   \n",
      "75%                     4.24                   550.17   \n",
      "max                     7.14                   717.51   \n",
      "\n",
      "       rougher.input.feed_size  rougher.input.feed_sol  rougher.input.feed_au  \\\n",
      "count                19,294.00               19,340.00              19,439.00   \n",
      "mean                     58.97                   36.70                   8.27   \n",
      "std                      21.63                    5.15                   1.96   \n",
      "min                       0.05                    0.01                   0.01   \n",
      "25%                      47.44                   34.21                   6.85   \n",
      "50%                      54.61                   37.20                   8.13   \n",
      "75%                      65.02                   40.04                   9.77   \n",
      "max                     484.97                   53.48                  13.73   \n",
      "\n",
      "       rougher.input.floatbank10_sulfate  rougher.input.floatbank10_xanthate  \\\n",
      "count                          19,405.00                           19,431.00   \n",
      "mean                               12.33                                6.02   \n",
      "std                                 3.43                                1.13   \n",
      "min                                 0.00                                0.00   \n",
      "25%                                10.00                                5.40   \n",
      "50%                                12.00                                6.01   \n",
      "75%                                14.72                                6.80   \n",
      "max                                36.12                                9.70   \n",
      "\n",
      "       rougher.input.floatbank11_sulfate  rougher.input.floatbank11_xanthate  \\\n",
      "count                          19,395.00                           18,986.00   \n",
      "mean                               12.06                                6.07   \n",
      "std                                 3.78                                1.10   \n",
      "min                                 0.00                                0.00   \n",
      "25%                                10.00                                5.40   \n",
      "50%                                12.00                                6.10   \n",
      "75%                                14.64                                6.80   \n",
      "max                                37.98                                9.70   \n",
      "\n",
      "       rougher.output.concentrate_ag  rougher.output.concentrate_pb  \\\n",
      "count                      19,439.00                      19,439.00   \n",
      "mean                           11.99                           7.61   \n",
      "std                             2.73                           1.80   \n",
      "min                             0.00                           0.00   \n",
      "25%                            10.63                           6.73   \n",
      "50%                            12.10                           7.74   \n",
      "75%                            13.74                           8.57   \n",
      "max                            24.48                          13.62   \n",
      "\n",
      "       rougher.output.concentrate_sol  rougher.output.concentrate_au  \\\n",
      "count                       19,416.00                      19,439.00   \n",
      "mean                            28.81                          19.77   \n",
      "std                              5.94                           3.75   \n",
      "min                              0.00                           0.00   \n",
      "25%                             27.22                          18.80   \n",
      "50%                             29.84                          20.28   \n",
      "75%                             32.19                          21.72   \n",
      "max                             38.35                          28.82   \n",
      "\n",
      "       rougher.output.recovery  rougher.output.tail_ag  \\\n",
      "count                19,439.00               19,438.00   \n",
      "mean                     83.33                    5.59   \n",
      "std                      14.15                    1.11   \n",
      "min                       0.00                    0.59   \n",
      "25%                      81.04                    4.89   \n",
      "50%                      86.19                    5.77   \n",
      "75%                      90.01                    6.39   \n",
      "max                     100.00                   12.72   \n",
      "\n",
      "       rougher.output.tail_pb  rougher.output.tail_sol  \\\n",
      "count               19,439.00                19,439.00   \n",
      "mean                     0.65                    18.06   \n",
      "std                      0.25                     3.45   \n",
      "min                      0.01                    10.01   \n",
      "25%                      0.48                    15.82   \n",
      "50%                      0.62                    18.11   \n",
      "75%                      0.78                    20.09   \n",
      "max                      3.78                    66.12   \n",
      "\n",
      "       rougher.output.tail_au  rougher.state.floatbank10_a_air  \\\n",
      "count               19,439.00                        19,438.00   \n",
      "mean                     1.82                         1,105.32   \n",
      "std                      0.68                           160.83   \n",
      "min                      0.02                            -0.04   \n",
      "25%                      1.40                           999.66   \n",
      "50%                      1.81                         1,001.07   \n",
      "75%                      2.21                         1,205.62   \n",
      "max                      9.69                         1,521.98   \n",
      "\n",
      "       rougher.state.floatbank10_a_level  rougher.state.floatbank10_b_air  \\\n",
      "count                          19,438.00                        19,438.00   \n",
      "mean                             -376.61                         1,320.22   \n",
      "std                                93.91                           176.29   \n",
      "min                              -657.95                            -0.72   \n",
      "25%                              -499.84                         1,199.63   \n",
      "50%                              -300.26                         1,301.58   \n",
      "75%                              -299.98                         1,448.63   \n",
      "max                              -273.78                         1,809.19   \n",
      "\n",
      "       rougher.state.floatbank10_b_level  rougher.state.floatbank10_c_air  \\\n",
      "count                          19,438.00                        19,438.00   \n",
      "mean                             -467.25                         1,299.97   \n",
      "std                                54.67                           202.80   \n",
      "min                              -650.26                            -0.06   \n",
      "25%                              -500.20                         1,151.08   \n",
      "50%                              -499.78                         1,300.21   \n",
      "75%                              -400.62                         1,449.46   \n",
      "max                              -296.38                         2,499.13   \n",
      "\n",
      "       rougher.state.floatbank10_c_level  rougher.state.floatbank10_d_air  \\\n",
      "count                          19,438.00                        19,439.00   \n",
      "mean                             -467.72                         1,211.56   \n",
      "std                                53.53                           204.02   \n",
      "min                              -647.54                            -0.99   \n",
      "25%                              -500.22                         1,061.05   \n",
      "50%                              -499.71                         1,201.57   \n",
      "75%                              -400.99                         1,352.88   \n",
      "max                              -292.16                         1,817.20   \n",
      "\n",
      "       rougher.state.floatbank10_d_level  rougher.state.floatbank10_e_air  \\\n",
      "count                          19,439.00                        19,003.00   \n",
      "mean                             -468.24                         1,080.87   \n",
      "std                                53.92                           172.15   \n",
      "min                              -648.39                            -1.98   \n",
      "25%                              -500.39                           998.68   \n",
      "50%                              -499.53                         1,050.03   \n",
      "75%                              -401.64                         1,199.43   \n",
      "max                               -76.40                         1,922.64   \n",
      "\n",
      "       rougher.state.floatbank10_e_level  rougher.state.floatbank10_f_air  \\\n",
      "count                          19,439.00                        19,439.00   \n",
      "mean                             -466.04                         1,025.27   \n",
      "std                                57.38                           164.49   \n",
      "min                              -649.44                            -2.59   \n",
      "25%                              -500.23                           901.00   \n",
      "50%                              -499.66                           999.92   \n",
      "75%                              -401.16                         1,099.72   \n",
      "max                              -139.75                         1,706.31   \n",
      "\n",
      "       rougher.state.floatbank10_f_level  secondary_cleaner.output.tail_ag  \\\n",
      "count                          19,439.00                         19,437.00   \n",
      "mean                             -466.27                             14.59   \n",
      "std                                57.85                              4.27   \n",
      "min                              -649.95                              0.00   \n",
      "25%                              -500.52                             12.64   \n",
      "50%                              -499.47                             15.64   \n",
      "75%                              -401.51                             17.36   \n",
      "max                              -191.72                             23.26   \n",
      "\n",
      "       secondary_cleaner.output.tail_pb  secondary_cleaner.output.tail_sol  \\\n",
      "count                         19,427.00                          17,691.00   \n",
      "mean                               5.78                               7.17   \n",
      "std                                2.77                               3.92   \n",
      "min                                0.00                               0.00   \n",
      "25%                                3.86                               3.85   \n",
      "50%                                5.34                               7.69   \n",
      "75%                                7.79                              10.41   \n",
      "max                               17.04                              26.00   \n",
      "\n",
      "       secondary_cleaner.output.tail_au  \\\n",
      "count                         19,439.00   \n",
      "mean                               4.34   \n",
      "std                                2.33   \n",
      "min                                0.00   \n",
      "25%                                3.18   \n",
      "50%                                4.07   \n",
      "75%                                5.06   \n",
      "max                               26.81   \n",
      "\n",
      "       secondary_cleaner.state.floatbank2_a_air  \\\n",
      "count                                 19,219.00   \n",
      "mean                                      28.71   \n",
      "std                                        5.46   \n",
      "min                                        0.08   \n",
      "25%                                       25.05   \n",
      "50%                                       29.10   \n",
      "75%                                       33.01   \n",
      "max                                       52.65   \n",
      "\n",
      "       secondary_cleaner.state.floatbank2_a_level  \\\n",
      "count                                   19,438.00   \n",
      "mean                                      -502.37   \n",
      "std                                         53.57   \n",
      "min                                       -799.61   \n",
      "25%                                       -500.23   \n",
      "50%                                       -499.97   \n",
      "75%                                       -499.67   \n",
      "max                                       -127.88   \n",
      "\n",
      "       secondary_cleaner.state.floatbank2_b_air  \\\n",
      "count                                 19,416.00   \n",
      "mean                                      24.11   \n",
      "std                                        5.75   \n",
      "min                                        0.00   \n",
      "25%                                       20.92   \n",
      "50%                                       25.04   \n",
      "75%                                       28.01   \n",
      "max                                       35.15   \n",
      "\n",
      "       secondary_cleaner.state.floatbank2_b_level  \\\n",
      "count                                   19,438.00   \n",
      "mean                                      -503.23   \n",
      "std                                         56.57   \n",
      "min                                       -799.87   \n",
      "25%                                       -500.25   \n",
      "50%                                       -500.02   \n",
      "75%                                       -499.79   \n",
      "max                                       -212.00   \n",
      "\n",
      "       secondary_cleaner.state.floatbank3_a_air  \\\n",
      "count                                 19,426.00   \n",
      "mean                                      28.20   \n",
      "std                                        6.13   \n",
      "min                                        0.00   \n",
      "25%                                       24.95   \n",
      "50%                                       27.98   \n",
      "75%                                       33.00   \n",
      "max                                       44.26   \n",
      "\n",
      "       secondary_cleaner.state.floatbank3_a_level  \\\n",
      "count                                   19,438.00   \n",
      "mean                                      -486.20   \n",
      "std                                         54.41   \n",
      "min                                       -799.76   \n",
      "25%                                       -500.21   \n",
      "50%                                       -499.93   \n",
      "75%                                       -499.33   \n",
      "max                                       -191.68   \n",
      "\n",
      "       secondary_cleaner.state.floatbank3_b_air  \\\n",
      "count                                 19,438.00   \n",
      "mean                                      22.20   \n",
      "std                                        5.57   \n",
      "min                                        0.00   \n",
      "25%                                       19.00   \n",
      "50%                                       22.01   \n",
      "75%                                       26.00   \n",
      "max                                       35.07   \n",
      "\n",
      "       secondary_cleaner.state.floatbank3_b_level  \\\n",
      "count                                   19,438.00   \n",
      "mean                                      -493.74   \n",
      "std                                         43.37   \n",
      "min                                       -809.33   \n",
      "25%                                       -500.12   \n",
      "50%                                       -499.98   \n",
      "75%                                       -499.81   \n",
      "max                                       -159.74   \n",
      "\n",
      "       secondary_cleaner.state.floatbank4_a_air  \\\n",
      "count                                 19,433.00   \n",
      "mean                                      18.99   \n",
      "std                                        5.41   \n",
      "min                                        0.00   \n",
      "25%                                       14.98   \n",
      "50%                                       18.02   \n",
      "75%                                       23.01   \n",
      "max                                       30.12   \n",
      "\n",
      "       secondary_cleaner.state.floatbank4_a_level  \\\n",
      "count                                   19,438.00   \n",
      "mean                                      -485.89   \n",
      "std                                         47.76   \n",
      "min                                       -799.80   \n",
      "25%                                       -500.70   \n",
      "50%                                       -499.84   \n",
      "75%                                       -498.25   \n",
      "max                                       -245.24   \n",
      "\n",
      "       secondary_cleaner.state.floatbank4_b_air  \\\n",
      "count                                 19,438.00   \n",
      "mean                                      15.01   \n",
      "std                                        4.89   \n",
      "min                                        0.00   \n",
      "25%                                       11.94   \n",
      "50%                                       14.97   \n",
      "75%                                       19.03   \n",
      "max                                       31.27   \n",
      "\n",
      "       secondary_cleaner.state.floatbank4_b_level  \\\n",
      "count                                   19,438.00   \n",
      "mean                                      -461.08   \n",
      "std                                         67.41   \n",
      "min                                       -800.84   \n",
      "25%                                       -500.19   \n",
      "50%                                       -499.46   \n",
      "75%                                       -400.12   \n",
      "max                                         -6.51   \n",
      "\n",
      "       secondary_cleaner.state.floatbank5_a_air  \\\n",
      "count                                 19,438.00   \n",
      "mean                                      15.69   \n",
      "std                                        5.51   \n",
      "min                                       -0.37   \n",
      "25%                                       10.99   \n",
      "50%                                       15.00   \n",
      "75%                                       18.03   \n",
      "max                                       43.71   \n",
      "\n",
      "       secondary_cleaner.state.floatbank5_a_level  \\\n",
      "count                                   19,438.00   \n",
      "mean                                      -488.68   \n",
      "std                                         34.53   \n",
      "min                                       -797.32   \n",
      "25%                                       -500.46   \n",
      "50%                                       -499.80   \n",
      "75%                                       -498.38   \n",
      "max                                       -244.48   \n",
      "\n",
      "       secondary_cleaner.state.floatbank5_b_air  \\\n",
      "count                                 19,438.00   \n",
      "mean                                      12.20   \n",
      "std                                        5.33   \n",
      "min                                        0.53   \n",
      "25%                                        8.97   \n",
      "50%                                       11.02   \n",
      "75%                                       14.02   \n",
      "max                                       27.93   \n",
      "\n",
      "       secondary_cleaner.state.floatbank5_b_level  \\\n",
      "count                                   19,438.00   \n",
      "mean                                      -487.15   \n",
      "std                                         38.35   \n",
      "min                                       -800.22   \n",
      "25%                                       -500.13   \n",
      "50%                                       -499.94   \n",
      "75%                                       -499.44   \n",
      "max                                       -137.74   \n",
      "\n",
      "       secondary_cleaner.state.floatbank6_a_air  \\\n",
      "count                                 19,437.00   \n",
      "mean                                      18.96   \n",
      "std                                        5.55   \n",
      "min                                       -0.08   \n",
      "25%                                       14.98   \n",
      "50%                                       19.96   \n",
      "75%                                       24.00   \n",
      "max                                       32.19   \n",
      "\n",
      "       secondary_cleaner.state.floatbank6_a_level  \n",
      "count                                   19,438.00  \n",
      "mean                                      -505.44  \n",
      "std                                         37.69  \n",
      "min                                       -809.74  \n",
      "25%                                       -500.73  \n",
      "50%                                       -500.05  \n",
      "75%                                       -499.50  \n",
      "max                                       -104.43   \n",
      "\n",
      "Наличие дубликатов: \n",
      "\n",
      "0 \n",
      "\n",
      "Наличие пропусков: \n",
      "\n",
      "final.output.concentrate_ag                     1\n",
      "final.output.concentrate_pb                     1\n",
      "final.output.concentrate_sol                  211\n",
      "final.output.concentrate_au                     0\n",
      "final.output.recovery                           0\n",
      "                                             ... \n",
      "secondary_cleaner.state.floatbank5_a_level      1\n",
      "secondary_cleaner.state.floatbank5_b_air        1\n",
      "secondary_cleaner.state.floatbank5_b_level      1\n",
      "secondary_cleaner.state.floatbank6_a_air        2\n",
      "secondary_cleaner.state.floatbank6_a_level      1\n",
      "Length: 86, dtype: int64 \n",
      "\n",
      "5 разных строк: \n",
      "\n",
      "                     final.output.concentrate_ag  final.output.concentrate_pb  \\\n",
      "date                                                                            \n",
      "2016-10-23 07:59:59                         4.94                         8.29   \n",
      "2017-01-09 13:59:59                         3.48                         6.37   \n",
      "2017-11-30 08:59:59                         4.87                        10.00   \n",
      "2016-05-16 06:59:59                         6.39                         9.41   \n",
      "2017-06-09 17:59:59                         4.54                        10.17   \n",
      "\n",
      "                     final.output.concentrate_sol  \\\n",
      "date                                                \n",
      "2016-10-23 07:59:59                         13.80   \n",
      "2017-01-09 13:59:59                         14.38   \n",
      "2017-11-30 08:59:59                         11.76   \n",
      "2016-05-16 06:59:59                         10.65   \n",
      "2017-06-09 17:59:59                          7.87   \n",
      "\n",
      "                     final.output.concentrate_au  final.output.recovery  \\\n",
      "date                                                                      \n",
      "2016-10-23 07:59:59                        48.04                  66.69   \n",
      "2017-01-09 13:59:59                        49.86                  63.49   \n",
      "2017-11-30 08:59:59                        45.79                  85.22   \n",
      "2016-05-16 06:59:59                        36.95                  59.56   \n",
      "2017-06-09 17:59:59                        45.70                  59.43   \n",
      "\n",
      "                     final.output.tail_ag  final.output.tail_pb  \\\n",
      "date                                                              \n",
      "2016-10-23 07:59:59                  9.37                  2.89   \n",
      "2017-01-09 13:59:59                  9.17                  2.59   \n",
      "2017-11-30 08:59:59                  6.02                  1.82   \n",
      "2016-05-16 06:59:59                 11.54                  2.61   \n",
      "2017-06-09 17:59:59                  8.86                  3.45   \n",
      "\n",
      "                     final.output.tail_sol  final.output.tail_au  \\\n",
      "date                                                               \n",
      "2016-10-23 07:59:59                   8.19                  4.30   \n",
      "2017-01-09 13:59:59                  11.08                  3.35   \n",
      "2017-11-30 08:59:59                   6.16                  2.14   \n",
      "2016-05-16 06:59:59                  11.07                  4.14   \n",
      "2017-06-09 17:59:59                   9.35                  3.33   \n",
      "\n",
      "                     primary_cleaner.input.sulfate  \\\n",
      "date                                                 \n",
      "2016-10-23 07:59:59                         146.91   \n",
      "2017-01-09 13:59:59                         150.28   \n",
      "2017-11-30 08:59:59                         201.44   \n",
      "2016-05-16 06:59:59                         165.61   \n",
      "2017-06-09 17:59:59                          95.58   \n",
      "\n",
      "                     primary_cleaner.input.depressant  \\\n",
      "date                                                    \n",
      "2016-10-23 07:59:59                              5.52   \n",
      "2017-01-09 13:59:59                              7.04   \n",
      "2017-11-30 08:59:59                              8.97   \n",
      "2016-05-16 06:59:59                             11.99   \n",
      "2017-06-09 17:59:59                             11.99   \n",
      "\n",
      "                     primary_cleaner.input.feed_size  \\\n",
      "date                                                   \n",
      "2016-10-23 07:59:59                             7.20   \n",
      "2017-01-09 13:59:59                             7.80   \n",
      "2017-11-30 08:59:59                             8.56   \n",
      "2016-05-16 06:59:59                             8.72   \n",
      "2017-06-09 17:59:59                             7.35   \n",
      "\n",
      "                     primary_cleaner.input.xanthate  \\\n",
      "date                                                  \n",
      "2016-10-23 07:59:59                            0.88   \n",
      "2017-01-09 13:59:59                            0.90   \n",
      "2017-11-30 08:59:59                            2.03   \n",
      "2016-05-16 06:59:59                            1.10   \n",
      "2017-06-09 17:59:59                            0.99   \n",
      "\n",
      "                     primary_cleaner.output.concentrate_ag  \\\n",
      "date                                                         \n",
      "2016-10-23 07:59:59                                   7.45   \n",
      "2017-01-09 13:59:59                                   7.50   \n",
      "2017-11-30 08:59:59                                   0.00   \n",
      "2016-05-16 06:59:59                                  10.31   \n",
      "2017-06-09 17:59:59                                   7.93   \n",
      "\n",
      "                     primary_cleaner.output.concentrate_pb  \\\n",
      "date                                                         \n",
      "2016-10-23 07:59:59                                   8.88   \n",
      "2017-01-09 13:59:59                                   9.13   \n",
      "2017-11-30 08:59:59                                   0.00   \n",
      "2016-05-16 06:59:59                                   7.35   \n",
      "2017-06-09 17:59:59                                  11.28   \n",
      "\n",
      "                     primary_cleaner.output.concentrate_sol  \\\n",
      "date                                                          \n",
      "2016-10-23 07:59:59                                    9.15   \n",
      "2017-01-09 13:59:59                                   12.62   \n",
      "2017-11-30 08:59:59                                    0.00   \n",
      "2016-05-16 06:59:59                                   16.72   \n",
      "2017-06-09 17:59:59                                    9.48   \n",
      "\n",
      "                     primary_cleaner.output.concentrate_au  \\\n",
      "date                                                         \n",
      "2016-10-23 07:59:59                                  37.38   \n",
      "2017-01-09 13:59:59                                  38.57   \n",
      "2017-11-30 08:59:59                                   0.00   \n",
      "2016-05-16 06:59:59                                  23.49   \n",
      "2017-06-09 17:59:59                                  33.80   \n",
      "\n",
      "                     primary_cleaner.output.tail_ag  \\\n",
      "date                                                  \n",
      "2016-10-23 07:59:59                           13.39   \n",
      "2017-01-09 13:59:59                           18.14   \n",
      "2017-11-30 08:59:59                           20.19   \n",
      "2016-05-16 06:59:59                           15.32   \n",
      "2017-06-09 17:59:59                           15.16   \n",
      "\n",
      "                     primary_cleaner.output.tail_pb  \\\n",
      "date                                                  \n",
      "2016-10-23 07:59:59                            2.44   \n",
      "2017-01-09 13:59:59                            4.08   \n",
      "2017-11-30 08:59:59                            6.14   \n",
      "2016-05-16 06:59:59                            3.58   \n",
      "2017-06-09 17:59:59                            3.23   \n",
      "\n",
      "                     primary_cleaner.output.tail_sol  \\\n",
      "date                                                   \n",
      "2016-10-23 07:59:59                             8.65   \n",
      "2017-01-09 13:59:59                             8.77   \n",
      "2017-11-30 08:59:59                            10.12   \n",
      "2016-05-16 06:59:59                             6.63   \n",
      "2017-06-09 17:59:59                             7.47   \n",
      "\n",
      "                     primary_cleaner.output.tail_au  \\\n",
      "date                                                  \n",
      "2016-10-23 07:59:59                            5.97   \n",
      "2017-01-09 13:59:59                            4.38   \n",
      "2017-11-30 08:59:59                            6.85   \n",
      "2016-05-16 06:59:59                            4.97   \n",
      "2017-06-09 17:59:59                            3.54   \n",
      "\n",
      "                     primary_cleaner.state.floatbank8_a_air  \\\n",
      "date                                                          \n",
      "2016-10-23 07:59:59                                1,580.08   \n",
      "2017-01-09 13:59:59                                1,603.25   \n",
      "2017-11-30 08:59:59                                1,500.88   \n",
      "2016-05-16 06:59:59                                1,590.70   \n",
      "2017-06-09 17:59:59                                1,700.82   \n",
      "\n",
      "                     primary_cleaner.state.floatbank8_a_level  \\\n",
      "date                                                            \n",
      "2016-10-23 07:59:59                                   -499.30   \n",
      "2017-01-09 13:59:59                                   -500.50   \n",
      "2017-11-30 08:59:59                                   -499.09   \n",
      "2016-05-16 06:59:59                                   -501.74   \n",
      "2017-06-09 17:59:59                                   -501.06   \n",
      "\n",
      "                     primary_cleaner.state.floatbank8_b_air  \\\n",
      "date                                                          \n",
      "2016-10-23 07:59:59                                1,700.24   \n",
      "2017-01-09 13:59:59                                1,602.85   \n",
      "2017-11-30 08:59:59                                1,500.26   \n",
      "2016-05-16 06:59:59                                1,586.76   \n",
      "2017-06-09 17:59:59                                1,699.98   \n",
      "\n",
      "                     primary_cleaner.state.floatbank8_b_level  \\\n",
      "date                                                            \n",
      "2016-10-23 07:59:59                                   -500.22   \n",
      "2017-01-09 13:59:59                                   -501.72   \n",
      "2017-11-30 08:59:59                                   -517.82   \n",
      "2016-05-16 06:59:59                                   -500.17   \n",
      "2017-06-09 17:59:59                                   -499.93   \n",
      "\n",
      "                     primary_cleaner.state.floatbank8_c_air  \\\n",
      "date                                                          \n",
      "2016-10-23 07:59:59                                1,699.50   \n",
      "2017-01-09 13:59:59                                1,598.48   \n",
      "2017-11-30 08:59:59                                1,496.40   \n",
      "2016-05-16 06:59:59                                1,590.17   \n",
      "2017-06-09 17:59:59                                1,691.17   \n",
      "\n",
      "                     primary_cleaner.state.floatbank8_c_level  \\\n",
      "date                                                            \n",
      "2016-10-23 07:59:59                                   -499.82   \n",
      "2017-01-09 13:59:59                                   -520.64   \n",
      "2017-11-30 08:59:59                                   -489.69   \n",
      "2016-05-16 06:59:59                                   -500.87   \n",
      "2017-06-09 17:59:59                                   -500.62   \n",
      "\n",
      "                     primary_cleaner.state.floatbank8_d_air  \\\n",
      "date                                                          \n",
      "2016-10-23 07:59:59                                1,700.17   \n",
      "2017-01-09 13:59:59                                1,598.88   \n",
      "2017-11-30 08:59:59                                1,501.12   \n",
      "2016-05-16 06:59:59                                1,587.26   \n",
      "2017-06-09 17:59:59                                1,697.56   \n",
      "\n",
      "                     primary_cleaner.state.floatbank8_d_level  \\\n",
      "date                                                            \n",
      "2016-10-23 07:59:59                                   -500.02   \n",
      "2017-01-09 13:59:59                                   -495.70   \n",
      "2017-11-30 08:59:59                                   -796.67   \n",
      "2016-05-16 06:59:59                                   -499.58   \n",
      "2017-06-09 17:59:59                                   -500.16   \n",
      "\n",
      "                     rougher.calculation.sulfate_to_au_concentrate  \\\n",
      "date                                                                 \n",
      "2016-10-23 07:59:59                                      43,661.65   \n",
      "2017-01-09 13:59:59                                      45,947.71   \n",
      "2017-11-30 08:59:59                                      47,943.72   \n",
      "2016-05-16 06:59:59                                      47,840.14   \n",
      "2017-06-09 17:59:59                                      40,041.81   \n",
      "\n",
      "                     rougher.calculation.floatbank10_sulfate_to_au_feed  \\\n",
      "date                                                                      \n",
      "2016-10-23 07:59:59                                           3,236.02    \n",
      "2017-01-09 13:59:59                                           2,714.87    \n",
      "2017-11-30 08:59:59                                           3,410.46    \n",
      "2016-05-16 06:59:59                                           2,702.67    \n",
      "2017-06-09 17:59:59                                           5,086.47    \n",
      "\n",
      "                     rougher.calculation.floatbank11_sulfate_to_au_feed  \\\n",
      "date                                                                      \n",
      "2016-10-23 07:59:59                                           3,234.08    \n",
      "2017-01-09 13:59:59                                           2,714.33    \n",
      "2017-11-30 08:59:59                                           3,409.25    \n",
      "2016-05-16 06:59:59                                           2,703.28    \n",
      "2017-06-09 17:59:59                                           5,086.15    \n",
      "\n",
      "                     rougher.calculation.au_pb_ratio  rougher.input.feed_ag  \\\n",
      "date                                                                          \n",
      "2016-10-23 07:59:59                             2.96                   9.26   \n",
      "2017-01-09 13:59:59                             2.86                   8.29   \n",
      "2017-11-30 08:59:59                             2.21                  10.85   \n",
      "2016-05-16 06:59:59                             3.00                  10.58   \n",
      "2017-06-09 17:59:59                             2.06                   7.80   \n",
      "\n",
      "                     rougher.input.feed_pb  rougher.input.feed_rate  \\\n",
      "date                                                                  \n",
      "2016-10-23 07:59:59                   3.70                   378.47   \n",
      "2017-01-09 13:59:59                   2.87                   472.16   \n",
      "2017-11-30 08:59:59                   5.15                   510.09   \n",
      "2016-05-16 06:59:59                   2.93                   465.95   \n",
      "2017-06-09 17:59:59                   3.60                   355.85   \n",
      "\n",
      "                     rougher.input.feed_size  rougher.input.feed_sol  \\\n",
      "date                                                                   \n",
      "2016-10-23 07:59:59                    45.52                   31.77   \n",
      "2017-01-09 13:59:59                    46.82                   36.17   \n",
      "2017-11-30 08:59:59                    53.13                   38.35   \n",
      "2016-05-16 06:59:59                    51.15                   32.82   \n",
      "2017-06-09 17:59:59                    47.43                   35.36   \n",
      "\n",
      "                     rougher.input.feed_au  rougher.input.floatbank10_sulfate  \\\n",
      "date                                                                            \n",
      "2016-10-23 07:59:59                  10.94                              13.00   \n",
      "2017-01-09 13:59:59                   8.21                              10.50   \n",
      "2017-11-30 08:59:59                  11.41                              15.66   \n",
      "2016-05-16 06:59:59                   8.79                              11.01   \n",
      "2017-06-09 17:59:59                   7.41                              15.00   \n",
      "\n",
      "                     rougher.input.floatbank10_xanthate  \\\n",
      "date                                                      \n",
      "2016-10-23 07:59:59                                6.21   \n",
      "2017-01-09 13:59:59                                5.70   \n",
      "2017-11-30 08:59:59                                7.45   \n",
      "2016-05-16 06:59:59                                5.66   \n",
      "2017-06-09 17:59:59                                4.30   \n",
      "\n",
      "                     rougher.input.floatbank11_sulfate  \\\n",
      "date                                                     \n",
      "2016-10-23 07:59:59                              12.99   \n",
      "2017-01-09 13:59:59                              10.50   \n",
      "2017-11-30 08:59:59                              15.66   \n",
      "2016-05-16 06:59:59                              11.04   \n",
      "2017-06-09 17:59:59                              15.00   \n",
      "\n",
      "                     rougher.input.floatbank11_xanthate  \\\n",
      "date                                                      \n",
      "2016-10-23 07:59:59                                6.20   \n",
      "2017-01-09 13:59:59                                5.70   \n",
      "2017-11-30 08:59:59                                7.45   \n",
      "2016-05-16 06:59:59                                5.66   \n",
      "2017-06-09 17:59:59                                4.30   \n",
      "\n",
      "                     rougher.output.concentrate_ag  \\\n",
      "date                                                 \n",
      "2016-10-23 07:59:59                          11.29   \n",
      "2017-01-09 13:59:59                          14.47   \n",
      "2017-11-30 08:59:59                          14.03   \n",
      "2016-05-16 06:59:59                          12.35   \n",
      "2017-06-09 17:59:59                          10.61   \n",
      "\n",
      "                     rougher.output.concentrate_pb  \\\n",
      "date                                                 \n",
      "2016-10-23 07:59:59                           6.49   \n",
      "2017-01-09 13:59:59                           6.52   \n",
      "2017-11-30 08:59:59                           8.86   \n",
      "2016-05-16 06:59:59                           5.02   \n",
      "2017-06-09 17:59:59                           8.92   \n",
      "\n",
      "                     rougher.output.concentrate_sol  \\\n",
      "date                                                  \n",
      "2016-10-23 07:59:59                           28.65   \n",
      "2017-01-09 13:59:59                           33.91   \n",
      "2017-11-30 08:59:59                           34.80   \n",
      "2016-05-16 06:59:59                           26.02   \n",
      "2017-06-09 17:59:59                           31.74   \n",
      "\n",
      "                     rougher.output.concentrate_au  rougher.output.recovery  \\\n",
      "date                                                                          \n",
      "2016-10-23 07:59:59                          23.18                    89.58   \n",
      "2017-01-09 13:59:59                          21.77                    84.66   \n",
      "2017-11-30 08:59:59                          21.47                    91.91   \n",
      "2016-05-16 06:59:59                          16.77                    81.14   \n",
      "2017-06-09 17:59:59                          20.81                    82.16   \n",
      "\n",
      "                     rougher.output.tail_ag  rougher.output.tail_pb  \\\n",
      "date                                                                  \n",
      "2016-10-23 07:59:59                    6.45                    0.38   \n",
      "2017-01-09 13:59:59                    5.85                    0.60   \n",
      "2017-11-30 08:59:59                    5.35                    0.53   \n",
      "2016-05-16 06:59:59                    7.21                    0.68   \n",
      "2017-06-09 17:59:59                    5.86                    0.53   \n",
      "\n",
      "                     rougher.output.tail_sol  rougher.output.tail_au  \\\n",
      "date                                                                   \n",
      "2016-10-23 07:59:59                    15.52                    1.97   \n",
      "2017-01-09 13:59:59                    18.36                    1.85   \n",
      "2017-11-30 08:59:59                    15.25                    1.80   \n",
      "2016-05-16 06:59:59                    15.46                    2.89   \n",
      "2017-06-09 17:59:59                    15.32                    1.87   \n",
      "\n",
      "                     rougher.state.floatbank10_a_air  \\\n",
      "date                                                   \n",
      "2016-10-23 07:59:59                         1,000.47   \n",
      "2017-01-09 13:59:59                         1,000.08   \n",
      "2017-11-30 08:59:59                         1,204.09   \n",
      "2016-05-16 06:59:59                         1,000.07   \n",
      "2017-06-09 17:59:59                         1,005.11   \n",
      "\n",
      "                     rougher.state.floatbank10_a_level  \\\n",
      "date                                                     \n",
      "2016-10-23 07:59:59                            -499.85   \n",
      "2017-01-09 13:59:59                            -499.86   \n",
      "2017-11-30 08:59:59                            -399.85   \n",
      "2016-05-16 06:59:59                            -499.78   \n",
      "2017-06-09 17:59:59                            -300.30   \n",
      "\n",
      "                     rougher.state.floatbank10_b_air  \\\n",
      "date                                                   \n",
      "2016-10-23 07:59:59                         1,500.03   \n",
      "2017-01-09 13:59:59                         1,248.65   \n",
      "2017-11-30 08:59:59                         1,202.56   \n",
      "2016-05-16 06:59:59                         1,200.27   \n",
      "2017-06-09 17:59:59                         1,302.40   \n",
      "\n",
      "                     rougher.state.floatbank10_b_level  \\\n",
      "date                                                     \n",
      "2016-10-23 07:59:59                            -400.31   \n",
      "2017-01-09 13:59:59                            -500.10   \n",
      "2017-11-30 08:59:59                            -500.80   \n",
      "2016-05-16 06:59:59                            -500.06   \n",
      "2017-06-09 17:59:59                            -400.08   \n",
      "\n",
      "                     rougher.state.floatbank10_c_air  \\\n",
      "date                                                   \n",
      "2016-10-23 07:59:59                         1,500.32   \n",
      "2017-01-09 13:59:59                         1,249.61   \n",
      "2017-11-30 08:59:59                         1,203.70   \n",
      "2016-05-16 06:59:59                         1,112.37   \n",
      "2017-06-09 17:59:59                         1,295.03   \n",
      "\n",
      "                     rougher.state.floatbank10_c_level  \\\n",
      "date                                                     \n",
      "2016-10-23 07:59:59                            -400.96   \n",
      "2017-01-09 13:59:59                            -500.46   \n",
      "2017-11-30 08:59:59                            -499.76   \n",
      "2016-05-16 06:59:59                            -500.16   \n",
      "2017-06-09 17:59:59                            -400.18   \n",
      "\n",
      "                     rougher.state.floatbank10_d_air  \\\n",
      "date                                                   \n",
      "2016-10-23 07:59:59                         1,398.96   \n",
      "2017-01-09 13:59:59                         1,250.16   \n",
      "2017-11-30 08:59:59                           991.34   \n",
      "2016-05-16 06:59:59                         1,005.20   \n",
      "2017-06-09 17:59:59                         1,204.68   \n",
      "\n",
      "                     rougher.state.floatbank10_d_level  \\\n",
      "date                                                     \n",
      "2016-10-23 07:59:59                            -400.69   \n",
      "2017-01-09 13:59:59                            -500.95   \n",
      "2017-11-30 08:59:59                            -499.36   \n",
      "2016-05-16 06:59:59                            -501.93   \n",
      "2017-06-09 17:59:59                            -404.53   \n",
      "\n",
      "                     rougher.state.floatbank10_e_air  \\\n",
      "date                                                   \n",
      "2016-10-23 07:59:59                         1,300.62   \n",
      "2017-01-09 13:59:59                         1,099.69   \n",
      "2017-11-30 08:59:59                         1,000.86   \n",
      "2016-05-16 06:59:59                           913.50   \n",
      "2017-06-09 17:59:59                         1,097.94   \n",
      "\n",
      "                     rougher.state.floatbank10_e_level  \\\n",
      "date                                                     \n",
      "2016-10-23 07:59:59                            -300.23   \n",
      "2017-01-09 13:59:59                            -499.92   \n",
      "2017-11-30 08:59:59                            -500.16   \n",
      "2016-05-16 06:59:59                            -501.40   \n",
      "2017-06-09 17:59:59                            -400.79   \n",
      "\n",
      "                     rougher.state.floatbank10_f_air  \\\n",
      "date                                                   \n",
      "2016-10-23 07:59:59                         1,300.29   \n",
      "2017-01-09 13:59:59                         1,000.01   \n",
      "2017-11-30 08:59:59                           900.71   \n",
      "2016-05-16 06:59:59                           821.50   \n",
      "2017-06-09 17:59:59                           997.94   \n",
      "\n",
      "                     rougher.state.floatbank10_f_level  \\\n",
      "date                                                     \n",
      "2016-10-23 07:59:59                            -300.39   \n",
      "2017-01-09 13:59:59                            -500.41   \n",
      "2017-11-30 08:59:59                            -499.62   \n",
      "2016-05-16 06:59:59                            -497.47   \n",
      "2017-06-09 17:59:59                            -400.42   \n",
      "\n",
      "                     secondary_cleaner.output.tail_ag  \\\n",
      "date                                                    \n",
      "2016-10-23 07:59:59                             12.20   \n",
      "2017-01-09 13:59:59                             16.81   \n",
      "2017-11-30 08:59:59                             18.50   \n",
      "2016-05-16 06:59:59                             17.98   \n",
      "2017-06-09 17:59:59                             15.29   \n",
      "\n",
      "                     secondary_cleaner.output.tail_pb  \\\n",
      "date                                                    \n",
      "2016-10-23 07:59:59                              3.88   \n",
      "2017-01-09 13:59:59                              3.40   \n",
      "2017-11-30 08:59:59                              7.93   \n",
      "2016-05-16 06:59:59                              3.84   \n",
      "2017-06-09 17:59:59                              9.68   \n",
      "\n",
      "                     secondary_cleaner.output.tail_sol  \\\n",
      "date                                                     \n",
      "2016-10-23 07:59:59                               8.87   \n",
      "2017-01-09 13:59:59                               9.13   \n",
      "2017-11-30 08:59:59                               6.82   \n",
      "2016-05-16 06:59:59                              11.64   \n",
      "2017-06-09 17:59:59                               2.39   \n",
      "\n",
      "                     secondary_cleaner.output.tail_au  \\\n",
      "date                                                    \n",
      "2016-10-23 07:59:59                              6.11   \n",
      "2017-01-09 13:59:59                              2.14   \n",
      "2017-11-30 08:59:59                              5.36   \n",
      "2016-05-16 06:59:59                              4.72   \n",
      "2017-06-09 17:59:59                              8.51   \n",
      "\n",
      "                     secondary_cleaner.state.floatbank2_a_air  \\\n",
      "date                                                            \n",
      "2016-10-23 07:59:59                                     32.06   \n",
      "2017-01-09 13:59:59                                     29.93   \n",
      "2017-11-30 08:59:59                                     28.08   \n",
      "2016-05-16 06:59:59                                     25.99   \n",
      "2017-06-09 17:59:59                                     25.02   \n",
      "\n",
      "                     secondary_cleaner.state.floatbank2_a_level  \\\n",
      "date                                                              \n",
      "2016-10-23 07:59:59                                     -499.78   \n",
      "2017-01-09 13:59:59                                     -487.02   \n",
      "2017-11-30 08:59:59                                     -500.06   \n",
      "2016-05-16 06:59:59                                     -500.50   \n",
      "2017-06-09 17:59:59                                     -500.04   \n",
      "\n",
      "                     secondary_cleaner.state.floatbank2_b_air  \\\n",
      "date                                                            \n",
      "2016-10-23 07:59:59                                     26.98   \n",
      "2017-01-09 13:59:59                                     28.09   \n",
      "2017-11-30 08:59:59                                     24.07   \n",
      "2016-05-16 06:59:59                                     24.00   \n",
      "2017-06-09 17:59:59                                     19.96   \n",
      "\n",
      "                     secondary_cleaner.state.floatbank2_b_level  \\\n",
      "date                                                              \n",
      "2016-10-23 07:59:59                                     -499.59   \n",
      "2017-01-09 13:59:59                                     -499.93   \n",
      "2017-11-30 08:59:59                                     -500.11   \n",
      "2016-05-16 06:59:59                                     -500.53   \n",
      "2017-06-09 17:59:59                                     -500.10   \n",
      "\n",
      "                     secondary_cleaner.state.floatbank3_a_air  \\\n",
      "date                                                            \n",
      "2016-10-23 07:59:59                                     33.04   \n",
      "2017-01-09 13:59:59                                     31.00   \n",
      "2017-11-30 08:59:59                                     25.01   \n",
      "2016-05-16 06:59:59                                     25.03   \n",
      "2017-06-09 17:59:59                                     25.06   \n",
      "\n",
      "                     secondary_cleaner.state.floatbank3_a_level  \\\n",
      "date                                                              \n",
      "2016-10-23 07:59:59                                     -498.67   \n",
      "2017-01-09 13:59:59                                     -499.95   \n",
      "2017-11-30 08:59:59                                     -499.77   \n",
      "2016-05-16 06:59:59                                     -500.52   \n",
      "2017-06-09 17:59:59                                     -500.33   \n",
      "\n",
      "                     secondary_cleaner.state.floatbank3_b_air  \\\n",
      "date                                                            \n",
      "2016-10-23 07:59:59                                     31.02   \n",
      "2017-01-09 13:59:59                                     24.98   \n",
      "2017-11-30 08:59:59                                     19.98   \n",
      "2016-05-16 06:59:59                                     22.00   \n",
      "2017-06-09 17:59:59                                     20.02   \n",
      "\n",
      "                     secondary_cleaner.state.floatbank3_b_level  \\\n",
      "date                                                              \n",
      "2016-10-23 07:59:59                                     -499.73   \n",
      "2017-01-09 13:59:59                                     -499.97   \n",
      "2017-11-30 08:59:59                                     -500.04   \n",
      "2016-05-16 06:59:59                                     -500.00   \n",
      "2017-06-09 17:59:59                                     -500.15   \n",
      "\n",
      "                     secondary_cleaner.state.floatbank4_a_air  \\\n",
      "date                                                            \n",
      "2016-10-23 07:59:59                                     19.98   \n",
      "2017-01-09 13:59:59                                     13.99   \n",
      "2017-11-30 08:59:59                                     16.93   \n",
      "2016-05-16 06:59:59                                     10.00   \n",
      "2017-06-09 17:59:59                                     15.05   \n",
      "\n",
      "                     secondary_cleaner.state.floatbank4_a_level  \\\n",
      "date                                                              \n",
      "2016-10-23 07:59:59                                     -499.26   \n",
      "2017-01-09 13:59:59                                     -500.38   \n",
      "2017-11-30 08:59:59                                     -499.76   \n",
      "2016-05-16 06:59:59                                     -499.24   \n",
      "2017-06-09 17:59:59                                     -501.33   \n",
      "\n",
      "                     secondary_cleaner.state.floatbank4_b_air  \\\n",
      "date                                                            \n",
      "2016-10-23 07:59:59                                     17.09   \n",
      "2017-01-09 13:59:59                                     11.92   \n",
      "2017-11-30 08:59:59                                     14.97   \n",
      "2016-05-16 06:59:59                                      7.91   \n",
      "2017-06-09 17:59:59                                      9.99   \n",
      "\n",
      "                     secondary_cleaner.state.floatbank4_b_level  \\\n",
      "date                                                              \n",
      "2016-10-23 07:59:59                                     -499.66   \n",
      "2017-01-09 13:59:59                                     -496.25   \n",
      "2017-11-30 08:59:59                                     -507.40   \n",
      "2016-05-16 06:59:59                                     -500.56   \n",
      "2017-06-09 17:59:59                                     -380.06   \n",
      "\n",
      "                     secondary_cleaner.state.floatbank5_a_air  \\\n",
      "date                                                            \n",
      "2016-10-23 07:59:59                                     17.03   \n",
      "2017-01-09 13:59:59                                     13.81   \n",
      "2017-11-30 08:59:59                                     10.95   \n",
      "2016-05-16 06:59:59                                      8.94   \n",
      "2017-06-09 17:59:59                                     15.04   \n",
      "\n",
      "                     secondary_cleaner.state.floatbank5_a_level  \\\n",
      "date                                                              \n",
      "2016-10-23 07:59:59                                     -498.22   \n",
      "2017-01-09 13:59:59                                     -500.77   \n",
      "2017-11-30 08:59:59                                     -498.87   \n",
      "2016-05-16 06:59:59                                     -498.60   \n",
      "2017-06-09 17:59:59                                     -501.35   \n",
      "\n",
      "                     secondary_cleaner.state.floatbank5_b_air  \\\n",
      "date                                                            \n",
      "2016-10-23 07:59:59                                     14.05   \n",
      "2017-01-09 13:59:59                                      8.04   \n",
      "2017-11-30 08:59:59                                      8.97   \n",
      "2016-05-16 06:59:59                                      6.04   \n",
      "2017-06-09 17:59:59                                      9.97   \n",
      "\n",
      "                     secondary_cleaner.state.floatbank5_b_level  \\\n",
      "date                                                              \n",
      "2016-10-23 07:59:59                                     -499.70   \n",
      "2017-01-09 13:59:59                                     -500.39   \n",
      "2017-11-30 08:59:59                                     -500.58   \n",
      "2016-05-16 06:59:59                                     -499.63   \n",
      "2017-06-09 17:59:59                                     -500.37   \n",
      "\n",
      "                     secondary_cleaner.state.floatbank6_a_air  \\\n",
      "date                                                            \n",
      "2016-10-23 07:59:59                                     25.04   \n",
      "2017-01-09 13:59:59                                     20.01   \n",
      "2017-11-30 08:59:59                                     12.00   \n",
      "2016-05-16 06:59:59                                     19.97   \n",
      "2017-06-09 17:59:59                                     14.98   \n",
      "\n",
      "                     secondary_cleaner.state.floatbank6_a_level  \n",
      "date                                                             \n",
      "2016-10-23 07:59:59                                     -498.84  \n",
      "2017-01-09 13:59:59                                     -601.48  \n",
      "2017-11-30 08:59:59                                     -499.07  \n",
      "2016-05-16 06:59:59                                     -500.19  \n",
      "2017-06-09 17:59:59                                     -501.97   \n",
      "\n"
     ]
    }
   ],
   "source": [
    "about_data(data_gold_full\n",
    "          )"
   ]
  },
  {
   "cell_type": "markdown",
   "metadata": {},
   "source": [
    "* В датасете data_gold_test количество столбцов отличается от других датасетов. Некоторые параметры замеряются и/или рассчитываются значительно позже.\n",
    "* В тестовом наборе нет целевых признаков.\n",
    "* Исходный датасет содержит обучающую и  тестовую выборки со всеми признаками"
   ]
  },
  {
   "cell_type": "code",
   "execution_count": 8,
   "metadata": {},
   "outputs": [
    {
     "name": "stdout",
     "output_type": "stream",
     "text": [
      "<class 'pandas.core.frame.DataFrame'>\n",
      "Index: 14149 entries, 2016-01-15 00:00:00 to 2018-08-18 10:59:59\n",
      "Data columns (total 86 columns):\n",
      " #   Column                                              Non-Null Count  Dtype  \n",
      "---  ------                                              --------------  -----  \n",
      " 0   final.output.concentrate_ag                         14149 non-null  float64\n",
      " 1   final.output.concentrate_pb                         14149 non-null  float64\n",
      " 2   final.output.concentrate_sol                        14149 non-null  float64\n",
      " 3   final.output.concentrate_au                         14149 non-null  float64\n",
      " 4   final.output.recovery                               14149 non-null  float64\n",
      " 5   final.output.tail_ag                                14149 non-null  float64\n",
      " 6   final.output.tail_pb                                14149 non-null  float64\n",
      " 7   final.output.tail_sol                               14149 non-null  float64\n",
      " 8   final.output.tail_au                                14149 non-null  float64\n",
      " 9   primary_cleaner.input.sulfate                       14149 non-null  float64\n",
      " 10  primary_cleaner.input.depressant                    14149 non-null  float64\n",
      " 11  primary_cleaner.input.feed_size                     14149 non-null  float64\n",
      " 12  primary_cleaner.input.xanthate                      14149 non-null  float64\n",
      " 13  primary_cleaner.output.concentrate_ag               14149 non-null  float64\n",
      " 14  primary_cleaner.output.concentrate_pb               14149 non-null  float64\n",
      " 15  primary_cleaner.output.concentrate_sol              14149 non-null  float64\n",
      " 16  primary_cleaner.output.concentrate_au               14149 non-null  float64\n",
      " 17  primary_cleaner.output.tail_ag                      14149 non-null  float64\n",
      " 18  primary_cleaner.output.tail_pb                      14149 non-null  float64\n",
      " 19  primary_cleaner.output.tail_sol                     14149 non-null  float64\n",
      " 20  primary_cleaner.output.tail_au                      14149 non-null  float64\n",
      " 21  primary_cleaner.state.floatbank8_a_air              14149 non-null  float64\n",
      " 22  primary_cleaner.state.floatbank8_a_level            14149 non-null  float64\n",
      " 23  primary_cleaner.state.floatbank8_b_air              14149 non-null  float64\n",
      " 24  primary_cleaner.state.floatbank8_b_level            14149 non-null  float64\n",
      " 25  primary_cleaner.state.floatbank8_c_air              14149 non-null  float64\n",
      " 26  primary_cleaner.state.floatbank8_c_level            14149 non-null  float64\n",
      " 27  primary_cleaner.state.floatbank8_d_air              14149 non-null  float64\n",
      " 28  primary_cleaner.state.floatbank8_d_level            14149 non-null  float64\n",
      " 29  rougher.calculation.sulfate_to_au_concentrate       14149 non-null  float64\n",
      " 30  rougher.calculation.floatbank10_sulfate_to_au_feed  14149 non-null  float64\n",
      " 31  rougher.calculation.floatbank11_sulfate_to_au_feed  14149 non-null  float64\n",
      " 32  rougher.calculation.au_pb_ratio                     14149 non-null  float64\n",
      " 33  rougher.input.feed_ag                               14149 non-null  float64\n",
      " 34  rougher.input.feed_pb                               14149 non-null  float64\n",
      " 35  rougher.input.feed_rate                             14149 non-null  float64\n",
      " 36  rougher.input.feed_size                             14149 non-null  float64\n",
      " 37  rougher.input.feed_sol                              14149 non-null  float64\n",
      " 38  rougher.input.feed_au                               14149 non-null  float64\n",
      " 39  rougher.input.floatbank10_sulfate                   14149 non-null  float64\n",
      " 40  rougher.input.floatbank10_xanthate                  14149 non-null  float64\n",
      " 41  rougher.input.floatbank11_sulfate                   14149 non-null  float64\n",
      " 42  rougher.input.floatbank11_xanthate                  14149 non-null  float64\n",
      " 43  rougher.output.concentrate_ag                       14149 non-null  float64\n",
      " 44  rougher.output.concentrate_pb                       14149 non-null  float64\n",
      " 45  rougher.output.concentrate_sol                      14149 non-null  float64\n",
      " 46  rougher.output.concentrate_au                       14149 non-null  float64\n",
      " 47  rougher.output.recovery                             14149 non-null  float64\n",
      " 48  rougher.output.tail_ag                              14149 non-null  float64\n",
      " 49  rougher.output.tail_pb                              14149 non-null  float64\n",
      " 50  rougher.output.tail_sol                             14149 non-null  float64\n",
      " 51  rougher.output.tail_au                              14149 non-null  float64\n",
      " 52  rougher.state.floatbank10_a_air                     14149 non-null  float64\n",
      " 53  rougher.state.floatbank10_a_level                   14149 non-null  float64\n",
      " 54  rougher.state.floatbank10_b_air                     14149 non-null  float64\n",
      " 55  rougher.state.floatbank10_b_level                   14149 non-null  float64\n",
      " 56  rougher.state.floatbank10_c_air                     14149 non-null  float64\n",
      " 57  rougher.state.floatbank10_c_level                   14149 non-null  float64\n",
      " 58  rougher.state.floatbank10_d_air                     14149 non-null  float64\n",
      " 59  rougher.state.floatbank10_d_level                   14149 non-null  float64\n",
      " 60  rougher.state.floatbank10_e_air                     14149 non-null  float64\n",
      " 61  rougher.state.floatbank10_e_level                   14149 non-null  float64\n",
      " 62  rougher.state.floatbank10_f_air                     14149 non-null  float64\n",
      " 63  rougher.state.floatbank10_f_level                   14149 non-null  float64\n",
      " 64  secondary_cleaner.output.tail_ag                    14149 non-null  float64\n",
      " 65  secondary_cleaner.output.tail_pb                    14149 non-null  float64\n",
      " 66  secondary_cleaner.output.tail_sol                   14149 non-null  float64\n",
      " 67  secondary_cleaner.output.tail_au                    14149 non-null  float64\n",
      " 68  secondary_cleaner.state.floatbank2_a_air            14149 non-null  float64\n",
      " 69  secondary_cleaner.state.floatbank2_a_level          14149 non-null  float64\n",
      " 70  secondary_cleaner.state.floatbank2_b_air            14149 non-null  float64\n",
      " 71  secondary_cleaner.state.floatbank2_b_level          14149 non-null  float64\n",
      " 72  secondary_cleaner.state.floatbank3_a_air            14149 non-null  float64\n",
      " 73  secondary_cleaner.state.floatbank3_a_level          14149 non-null  float64\n",
      " 74  secondary_cleaner.state.floatbank3_b_air            14149 non-null  float64\n",
      " 75  secondary_cleaner.state.floatbank3_b_level          14149 non-null  float64\n",
      " 76  secondary_cleaner.state.floatbank4_a_air            14149 non-null  float64\n",
      " 77  secondary_cleaner.state.floatbank4_a_level          14149 non-null  float64\n",
      " 78  secondary_cleaner.state.floatbank4_b_air            14149 non-null  float64\n",
      " 79  secondary_cleaner.state.floatbank4_b_level          14149 non-null  float64\n",
      " 80  secondary_cleaner.state.floatbank5_a_air            14149 non-null  float64\n",
      " 81  secondary_cleaner.state.floatbank5_a_level          14149 non-null  float64\n",
      " 82  secondary_cleaner.state.floatbank5_b_air            14149 non-null  float64\n",
      " 83  secondary_cleaner.state.floatbank5_b_level          14149 non-null  float64\n",
      " 84  secondary_cleaner.state.floatbank6_a_air            14149 non-null  float64\n",
      " 85  secondary_cleaner.state.floatbank6_a_level          14149 non-null  float64\n",
      "dtypes: float64(86)\n",
      "memory usage: 9.4+ MB\n"
     ]
    }
   ],
   "source": [
    "# Соседние по времени параметры часто похожи.\n",
    "# Заполним пропуски соседними значениями\n",
    "data_gold_train = data_gold_train.fillna(method='ffill')\n",
    "data_gold_train.info()"
   ]
  },
  {
   "cell_type": "code",
   "execution_count": 9,
   "metadata": {},
   "outputs": [
    {
     "name": "stdout",
     "output_type": "stream",
     "text": [
      "<class 'pandas.core.frame.DataFrame'>\n",
      "Index: 5290 entries, 2016-09-01 00:59:59 to 2017-12-31 23:59:59\n",
      "Data columns (total 52 columns):\n",
      " #   Column                                      Non-Null Count  Dtype  \n",
      "---  ------                                      --------------  -----  \n",
      " 0   primary_cleaner.input.sulfate               5290 non-null   float64\n",
      " 1   primary_cleaner.input.depressant            5290 non-null   float64\n",
      " 2   primary_cleaner.input.feed_size             5290 non-null   float64\n",
      " 3   primary_cleaner.input.xanthate              5290 non-null   float64\n",
      " 4   primary_cleaner.state.floatbank8_a_air      5290 non-null   float64\n",
      " 5   primary_cleaner.state.floatbank8_a_level    5290 non-null   float64\n",
      " 6   primary_cleaner.state.floatbank8_b_air      5290 non-null   float64\n",
      " 7   primary_cleaner.state.floatbank8_b_level    5290 non-null   float64\n",
      " 8   primary_cleaner.state.floatbank8_c_air      5290 non-null   float64\n",
      " 9   primary_cleaner.state.floatbank8_c_level    5290 non-null   float64\n",
      " 10  primary_cleaner.state.floatbank8_d_air      5290 non-null   float64\n",
      " 11  primary_cleaner.state.floatbank8_d_level    5290 non-null   float64\n",
      " 12  rougher.input.feed_ag                       5290 non-null   float64\n",
      " 13  rougher.input.feed_pb                       5290 non-null   float64\n",
      " 14  rougher.input.feed_rate                     5290 non-null   float64\n",
      " 15  rougher.input.feed_size                     5290 non-null   float64\n",
      " 16  rougher.input.feed_sol                      5290 non-null   float64\n",
      " 17  rougher.input.feed_au                       5290 non-null   float64\n",
      " 18  rougher.input.floatbank10_sulfate           5290 non-null   float64\n",
      " 19  rougher.input.floatbank10_xanthate          5290 non-null   float64\n",
      " 20  rougher.input.floatbank11_sulfate           5290 non-null   float64\n",
      " 21  rougher.input.floatbank11_xanthate          5290 non-null   float64\n",
      " 22  rougher.state.floatbank10_a_air             5290 non-null   float64\n",
      " 23  rougher.state.floatbank10_a_level           5290 non-null   float64\n",
      " 24  rougher.state.floatbank10_b_air             5290 non-null   float64\n",
      " 25  rougher.state.floatbank10_b_level           5290 non-null   float64\n",
      " 26  rougher.state.floatbank10_c_air             5290 non-null   float64\n",
      " 27  rougher.state.floatbank10_c_level           5290 non-null   float64\n",
      " 28  rougher.state.floatbank10_d_air             5290 non-null   float64\n",
      " 29  rougher.state.floatbank10_d_level           5290 non-null   float64\n",
      " 30  rougher.state.floatbank10_e_air             5290 non-null   float64\n",
      " 31  rougher.state.floatbank10_e_level           5290 non-null   float64\n",
      " 32  rougher.state.floatbank10_f_air             5290 non-null   float64\n",
      " 33  rougher.state.floatbank10_f_level           5290 non-null   float64\n",
      " 34  secondary_cleaner.state.floatbank2_a_air    5290 non-null   float64\n",
      " 35  secondary_cleaner.state.floatbank2_a_level  5290 non-null   float64\n",
      " 36  secondary_cleaner.state.floatbank2_b_air    5290 non-null   float64\n",
      " 37  secondary_cleaner.state.floatbank2_b_level  5290 non-null   float64\n",
      " 38  secondary_cleaner.state.floatbank3_a_air    5290 non-null   float64\n",
      " 39  secondary_cleaner.state.floatbank3_a_level  5290 non-null   float64\n",
      " 40  secondary_cleaner.state.floatbank3_b_air    5290 non-null   float64\n",
      " 41  secondary_cleaner.state.floatbank3_b_level  5290 non-null   float64\n",
      " 42  secondary_cleaner.state.floatbank4_a_air    5290 non-null   float64\n",
      " 43  secondary_cleaner.state.floatbank4_a_level  5290 non-null   float64\n",
      " 44  secondary_cleaner.state.floatbank4_b_air    5290 non-null   float64\n",
      " 45  secondary_cleaner.state.floatbank4_b_level  5290 non-null   float64\n",
      " 46  secondary_cleaner.state.floatbank5_a_air    5290 non-null   float64\n",
      " 47  secondary_cleaner.state.floatbank5_a_level  5290 non-null   float64\n",
      " 48  secondary_cleaner.state.floatbank5_b_air    5290 non-null   float64\n",
      " 49  secondary_cleaner.state.floatbank5_b_level  5290 non-null   float64\n",
      " 50  secondary_cleaner.state.floatbank6_a_air    5290 non-null   float64\n",
      " 51  secondary_cleaner.state.floatbank6_a_level  5290 non-null   float64\n",
      "dtypes: float64(52)\n",
      "memory usage: 2.1+ MB\n"
     ]
    }
   ],
   "source": [
    "data_gold_test = data_gold_test.fillna(method='ffill')\n",
    "data_gold_test.info()"
   ]
  },
  {
   "cell_type": "markdown",
   "metadata": {},
   "source": [
    "# Описание данных\n",
    "\n",
    "**Технологический процесс** \n",
    "\n",
    "*\tRougher feed — исходное сырье\n",
    "*\tRougher additions (или reagent additions) — флотационные реагенты: Xanthate, Sulphate, Depressant\n",
    "    *\tXanthate **— ксантогенат (промотер, или активатор флотации);**\n",
    "    *\tSulphate — сульфат (на данном производстве сульфид натрия);\n",
    "    *\tDepressant — депрессант (силикат натрия).\n",
    "*\tRougher process (англ. «грубый процесс») — флотация\n",
    "*\tRougher tails — отвальные хвосты\n",
    "*\tFloat banks — флотационная установка\n",
    "*\tCleaner process — очистка\n",
    "*\tRougher Au — черновой концентрат золота\n",
    "*\tFinal Au — финальный концентрат золота\n",
    "\n",
    "**Параметры этапов**\n",
    "\n",
    "*\tair amount — объём воздуха\n",
    "*\tfluid levels — уровень жидкости\n",
    "*\tfeed size — размер гранул сырья\n",
    "*\tfeed rate — скорость подачи\n",
    "\n",
    "**Наименование признаков**\n",
    "\n",
    "Наименование признаков должно быть такое:<br>\n",
    "<br><b>[этап].[тип_параметра].[название_параметра]</b>\n",
    "<br>Пример: rougher.input.feed_ag\n",
    "\n",
    "<br>**Возможные значения для блока [этап]:**\n",
    "*\trougher — флотация\n",
    "*\tprimary_cleaner — первичная очистка\n",
    "*\tsecondary_cleaner — вторичная очистка\n",
    "*\tfinal — финальные характеристики\n",
    "\n",
    "<br>**Возможные значения для блока [тип_параметра]:**\n",
    "*\tinput — параметры сырья\n",
    "*\toutput — параметры продукта\n",
    "*\tstate — параметры, характеризующие текущее состояние этапа\n",
    "*\tcalculation — расчётные характеристики\n"
   ]
  },
  {
   "cell_type": "markdown",
   "metadata": {},
   "source": [
    "### Проверка расчета эффективности"
   ]
  },
  {
   "cell_type": "markdown",
   "metadata": {},
   "source": [
    "<br>Необходимо смоделировать процесс восстановления золота из золотосодержащей руды.\n",
    "<br>Эффективность обогащения рассчитывается по формуле\n",
    "<br> `recovery = ((C * (F - T)) / (F * (C - T))) * 100%`\n",
    "<br> где:\n",
    "*\tC — доля золота в концентрате после флотации/очистки;\n",
    "*\tF — доля золота в сырье/концентрате до флотации/очистки;\n",
    "*\tT — доля золота в отвальных хвостах после флотации/очистки.\n",
    "\n",
    "<br>Данные находятся в столбцах:\n",
    "   * С - в столбце **rougher.output.concentrate_au**\n",
    "   * F - в столбце **rougher.input.feed_au**\n",
    "   * T - в столбце **rougher.output.tail_au**\n",
    "   * recovery - в столбце **rougher.output.recovery**\n",
    "<br>\n",
    "<br> \n",
    "\n",
    "Проверим, что эффективность обогащения рассчитана правильно. Вычислим её на обучающей выборке для признака **rougher.output.recovery**. Найдем **MAE** между нашими расчётами и значением признака. "
   ]
  },
  {
   "cell_type": "code",
   "execution_count": 10,
   "metadata": {},
   "outputs": [
    {
     "data": {
      "text/plain": [
       "(14149, 86)"
      ]
     },
     "execution_count": 10,
     "metadata": {},
     "output_type": "execute_result"
    }
   ],
   "source": [
    "# имеем 14149 строк в тренировочной выброке\n",
    "data_gold_train.shape"
   ]
  },
  {
   "cell_type": "code",
   "execution_count": 11,
   "metadata": {},
   "outputs": [
    {
     "data": {
      "text/plain": [
       "date\n",
       "2016-01-15 00:00:00   87.11\n",
       "2016-01-15 01:00:00   86.84\n",
       "2016-01-15 02:00:00   86.84\n",
       "2016-01-15 03:00:00   87.23\n",
       "2016-01-15 04:00:00   86.69\n",
       "                       ... \n",
       "2018-08-18 06:59:59   89.57\n",
       "2018-08-18 07:59:59   87.72\n",
       "2018-08-18 08:59:59   88.89\n",
       "2018-08-18 09:59:59   89.86\n",
       "2018-08-18 10:59:59   89.51\n",
       "Length: 14149, dtype: float64"
      ]
     },
     "execution_count": 11,
     "metadata": {},
     "output_type": "execute_result"
    }
   ],
   "source": [
    "# Произведем расчет эффективности обогащения по формуле\n",
    "# calculate_recovery = ((C * (F - T)) / (F * (C - T))) * 100%`\n",
    "C = data_gold_train['rougher.output.concentrate_au']\n",
    "F = data_gold_train['rougher.input.feed_au']\n",
    "T = data_gold_train['rougher.output.tail_au']\n",
    "calculate_recovery = ((C * (F - T)) / (F * (C - T))) * 100\n",
    "calculate_recovery\n"
   ]
  },
  {
   "cell_type": "code",
   "execution_count": 12,
   "metadata": {},
   "outputs": [
    {
     "data": {
      "text/plain": [
       "9.73512347450521e-15"
      ]
     },
     "execution_count": 12,
     "metadata": {},
     "output_type": "execute_result"
    }
   ],
   "source": [
    "# Счиатем MAE \n",
    "mean_absolute_error(data_gold_train['rougher.output.recovery'], calculate_recovery)\n"
   ]
  },
  {
   "cell_type": "markdown",
   "metadata": {},
   "source": [
    "MAE очень мало, значит расчеты верны, различий между данными, посчитанными нами по формуле и данными в столбце **rougher.output.recovery** нет"
   ]
  },
  {
   "cell_type": "code",
   "execution_count": 13,
   "metadata": {},
   "outputs": [
    {
     "data": {
      "text/plain": [
       "array([  0.        ,   2.5208538 ,   9.82687608, ...,  99.84766302,\n",
       "        99.97904062, 100.        ])"
      ]
     },
     "execution_count": 13,
     "metadata": {},
     "output_type": "execute_result"
    }
   ],
   "source": [
    "# Подозрительны значения 0 и 100 в черновой концентрации\n",
    "data_gold_train['rougher.output.recovery'].sort_values().unique()"
   ]
  },
  {
   "cell_type": "code",
   "execution_count": 14,
   "metadata": {},
   "outputs": [
    {
     "data": {
      "text/plain": [
       "array([ -0.        ,   2.5208538 ,   9.82687608, ...,  99.84766302,\n",
       "        99.97904062, 100.        ])"
      ]
     },
     "execution_count": 14,
     "metadata": {},
     "output_type": "execute_result"
    }
   ],
   "source": [
    "\n",
    "calculate_recovery.sort_values().unique()"
   ]
  },
  {
   "cell_type": "code",
   "execution_count": 15,
   "metadata": {},
   "outputs": [
    {
     "data": {
      "text/plain": [
       "[Text(0.5, 1.0, 'В данных')]"
      ]
     },
     "execution_count": 15,
     "metadata": {},
     "output_type": "execute_result"
    },
    {
     "data": {
      "image/png": "[encoded data removed]",
      "text/plain": [
       "<Figure size 1080x648 with 2 Axes>"
      ]
     },
     "metadata": {
      "needs_background": "light"
     },
     "output_type": "display_data"
    }
   ],
   "source": [
    "# Графическое представление, гистограммы одинаковые\n",
    "fig, axs = plt.subplots(nrows = 1, ncols = 2, figsize=(15,9))\n",
    "axs[0].hist(calculate_recovery, bins=100)\n",
    "axs[1].hist(data_gold_train['rougher.output.recovery'], bins=100)\n",
    "axs[0].set(title = 'Рассчитанное')\n",
    "axs[1].set(title = 'В данных')\n"
   ]
  },
  {
   "cell_type": "markdown",
   "metadata": {},
   "source": [
    "Видим у нулевой отметки на графике есть данные, посмотрим их количество"
   ]
  },
  {
   "cell_type": "code",
   "execution_count": 16,
   "metadata": {},
   "outputs": [
    {
     "data": {
      "text/plain": [
       "Text(0.5, 1.0, '')"
      ]
     },
     "execution_count": 16,
     "metadata": {},
     "output_type": "execute_result"
    },
    {
     "data": {
      "image/png": "[encoded data removed]",
      "text/plain": [
       "<Figure size 720x504 with 1 Axes>"
      ]
     },
     "metadata": {
      "needs_background": "light"
     },
     "output_type": "display_data"
    }
   ],
   "source": [
    "# Посмотрим выбросы\n",
    "#data_gold_train['rougher.output.recovery', 'final.output.recovery'].describe()\n",
    "data_gold_train.boxplot(['rougher.output.recovery', 'final.output.recovery'], figsize=(10,7))\n",
    "plt.xlabel(['черновая','финальная'])\n",
    "plt.title('')"
   ]
  },
  {
   "cell_type": "code",
   "execution_count": 17,
   "metadata": {},
   "outputs": [
    {
     "data": {
      "text/plain": [
       "302"
      ]
     },
     "execution_count": 17,
     "metadata": {},
     "output_type": "execute_result"
    }
   ],
   "source": [
    "# Посмотрим количество в черновом концентрате.\n",
    "data_gold_train.loc[(data_gold_train['rougher.output.recovery'] <= 0) | (data_gold_train['rougher.output.recovery'] >=100)]['rougher.output.recovery'].count()\n"
   ]
  },
  {
   "cell_type": "code",
   "execution_count": 18,
   "metadata": {},
   "outputs": [
    {
     "data": {
      "text/plain": [
       "133"
      ]
     },
     "execution_count": 18,
     "metadata": {},
     "output_type": "execute_result"
    }
   ],
   "source": [
    "# Посмотрим количество выбросов в финальном концентрате\n",
    "data_gold_train.loc[(data_gold_train['final.output.recovery'] <= 0) | (data_gold_train['final.output.recovery'] >=100)]['final.output.recovery'].count()"
   ]
  },
  {
   "cell_type": "markdown",
   "metadata": {},
   "source": [
    "Предлагаю избавиться от выбросов в выборке\n",
    "<br> Данные с 0 и 100 очень маловероятны"
   ]
  },
  {
   "cell_type": "code",
   "execution_count": 19,
   "metadata": {},
   "outputs": [],
   "source": [
    "data_gold_train = data_gold_train.loc[(data_gold_train['rougher.output.recovery'] > 0.01) & (data_gold_train['rougher.output.recovery'] < 99.99)]"
   ]
  },
  {
   "cell_type": "code",
   "execution_count": 20,
   "metadata": {},
   "outputs": [],
   "source": [
    "data_gold_train = data_gold_train.loc[(data_gold_train['final.output.recovery'] > 0.01) & (data_gold_train['final.output.recovery'] < 99.99)]"
   ]
  },
  {
   "cell_type": "code",
   "execution_count": 21,
   "metadata": {},
   "outputs": [
    {
     "data": {
      "text/plain": [
       "(13721, 86)"
      ]
     },
     "execution_count": 21,
     "metadata": {},
     "output_type": "execute_result"
    }
   ],
   "source": [
    "# Выбросы убрали\n",
    "data_gold_train.shape"
   ]
  },
  {
   "cell_type": "markdown",
   "metadata": {},
   "source": [
    "### Анализ и описание признаков, недоступных в тестовой выборке"
   ]
  },
  {
   "cell_type": "code",
   "execution_count": 22,
   "metadata": {},
   "outputs": [
    {
     "name": "stdout",
     "output_type": "stream",
     "text": [
      "Количество столбцов в тренировочной выборке: 86\n",
      "Количество столбцов в тестовой выборке: 52\n"
     ]
    }
   ],
   "source": [
    "# Количество столбцов в тренировочной и тестовой выборке\n",
    "print('Количество столбцов в тренировочной выборке:', data_gold_train.columns.shape[0])\n",
    "print('Количество столбцов в тестовой выборке:', data_gold_test.columns.shape[0])"
   ]
  },
  {
   "cell_type": "markdown",
   "metadata": {},
   "source": [
    "Различие в количестве столбцов между тренировочной и тестовой выборками.\n",
    "Придется либо убавить столбцов в тренировочной, либо добавить в тестовую, благо есть полная выборка."
   ]
  },
  {
   "cell_type": "code",
   "execution_count": 23,
   "metadata": {},
   "outputs": [
    {
     "data": {
      "text/plain": [
       "{'final.output.concentrate_ag',\n",
       " 'final.output.concentrate_au',\n",
       " 'final.output.concentrate_pb',\n",
       " 'final.output.concentrate_sol',\n",
       " 'final.output.recovery',\n",
       " 'final.output.tail_ag',\n",
       " 'final.output.tail_au',\n",
       " 'final.output.tail_pb',\n",
       " 'final.output.tail_sol',\n",
       " 'primary_cleaner.output.concentrate_ag',\n",
       " 'primary_cleaner.output.concentrate_au',\n",
       " 'primary_cleaner.output.concentrate_pb',\n",
       " 'primary_cleaner.output.concentrate_sol',\n",
       " 'primary_cleaner.output.tail_ag',\n",
       " 'primary_cleaner.output.tail_au',\n",
       " 'primary_cleaner.output.tail_pb',\n",
       " 'primary_cleaner.output.tail_sol',\n",
       " 'rougher.calculation.au_pb_ratio',\n",
       " 'rougher.calculation.floatbank10_sulfate_to_au_feed',\n",
       " 'rougher.calculation.floatbank11_sulfate_to_au_feed',\n",
       " 'rougher.calculation.sulfate_to_au_concentrate',\n",
       " 'rougher.output.concentrate_ag',\n",
       " 'rougher.output.concentrate_au',\n",
       " 'rougher.output.concentrate_pb',\n",
       " 'rougher.output.concentrate_sol',\n",
       " 'rougher.output.recovery',\n",
       " 'rougher.output.tail_ag',\n",
       " 'rougher.output.tail_au',\n",
       " 'rougher.output.tail_pb',\n",
       " 'rougher.output.tail_sol',\n",
       " 'secondary_cleaner.output.tail_ag',\n",
       " 'secondary_cleaner.output.tail_au',\n",
       " 'secondary_cleaner.output.tail_pb',\n",
       " 'secondary_cleaner.output.tail_sol'}"
      ]
     },
     "execution_count": 23,
     "metadata": {},
     "output_type": "execute_result"
    }
   ],
   "source": [
    "set(data_gold_train.columns) - set(data_gold_test.columns)"
   ]
  },
  {
   "cell_type": "markdown",
   "metadata": {},
   "source": [
    "В тестовой выборке отсутствуют такие признаки:\n",
    "* final.output: финальные характеристики, параметры продукта по концентрации Au, Ag, Pb, Sol\n",
    "* final.output.tail - финальная характеристика по отвалам Au, Ag, Pb, Sol\n",
    "* Нет данных о целевом признаке: эффективноть обогащения финального концентрата final.output.recovery\n",
    "* Нет данных о целевом признаке: эффективноть обогащения чернового концентрата rougher.output.recovery\n",
    "\n",
    "* primary_cleaner.output: первичная очистка, параметры продука по концентрации Au, Ag, Pb, Sol\n",
    "* rougher.calculation: этап флотации, расчетные характеристики \n",
    "* rougher.output: этап флотации, параметры продукта по концентрации Au, Ag, Pb, Sol\n",
    "* secondary_cleaner: вторичная очистка, отвалы по Au, Ag, Pb, Sol\n",
    "\n",
    "В условии задачи говорилось об этом:\n",
    "<br> Некоторые параметры недоступны, потому что замеряются и/или рассчитываются значительно позже. Из-за этого в тестовой выборке отсутствуют некоторые признаки, которые могут быть в обучающей. Также в тестовом наборе нет целевых признаков."
   ]
  },
  {
   "cell_type": "markdown",
   "metadata": {},
   "source": [
    "### Предобработка данных."
   ]
  },
  {
   "cell_type": "code",
   "execution_count": 24,
   "metadata": {},
   "outputs": [
    {
     "data": {
      "text/plain": [
       "(13721, 52)"
      ]
     },
     "execution_count": 24,
     "metadata": {},
     "output_type": "execute_result"
    }
   ],
   "source": [
    "# Из обучающей выборки удалим столбцы, которых нет в тестовой выборке\n",
    "#data_gold_train = data_gold_train[data_gold_test.columns]\n",
    "#data_gold_train.shape\n",
    "features_train = data_gold_train[data_gold_test.columns]\n",
    "features_train.shape"
   ]
  },
  {
   "cell_type": "code",
   "execution_count": 25,
   "metadata": {},
   "outputs": [],
   "source": [
    "# создадим целевые признаки\n",
    "target_rougher_train = data_gold_full.loc[data_gold_train.index, 'rougher.output.recovery']\n",
    "target_final_train = data_gold_full.loc[data_gold_train.index, 'final.output.recovery']\n",
    "target_rougher_test = data_gold_full.loc[data_gold_test.index, 'rougher.output.recovery']\n",
    "target_final_test = data_gold_full.loc[data_gold_test.index, 'final.output.recovery']"
   ]
  },
  {
   "cell_type": "markdown",
   "metadata": {},
   "source": [
    "### Вывод\n",
    "\n",
    "* Подгрузили данные\n",
    "* Проверили датасеты на дубликаты и пропуски\n",
    "* Во всем датасете заменили пропуски на предыдущие значения (метод ffill) по рекомендации из задания\n",
    "* Сравнили данные в датасете по эффективноси обогащения чернового концентрата с расчетной эффективностью методом **MAE**. Расхождения не выявили между предоставленными данными и расчетными значениями\n",
    "* подготовили тренировочную выборку к обучению модели"
   ]
  },
  {
   "cell_type": "markdown",
   "metadata": {},
   "source": [
    "## Анализ данных"
   ]
  },
  {
   "cell_type": "markdown",
   "metadata": {},
   "source": [
    "### Посмотрим изменение концентрации металлов (Au, Ag, Pb) на различных этапах очистки. Опишите выводы.\n"
   ]
  },
  {
   "cell_type": "markdown",
   "metadata": {},
   "source": [
    "У нас 3 этапа : флотация, первый этап очистки и второй этап очистки\n",
    "<br>Данные лежат в столбцах:\n",
    "* rougher.input.feed - черновое исходное сырье\n",
    "* primary_cleaner.output.concentrate - концентрация после первичной очистки\n",
    "* rougher.output.concentrate - концентрация после флотации\n",
    "* final.output.concentrate - концентация на выходе"
   ]
  },
  {
   "cell_type": "code",
   "execution_count": 26,
   "metadata": {},
   "outputs": [],
   "source": [
    "# Функция отрисовки графика\n",
    "def stage_hist(data, title):\n",
    "    fig, ax = plt.subplots(figsize=(15,9))\n",
    "\n",
    "    ax.set_title(title)\n",
    "    for i in data:\n",
    "        data[i].plot(kind='hist', bins=300, alpha=0.5)\n",
    "    ax.set_xlabel('Концентрация металла')\n",
    "    ax.set_ylabel('Количество')\n",
    "    ax.legend(['Черновое сырье', 'После флотации', 'Первичная очистка', 'На выходе'])"
   ]
  },
  {
   "cell_type": "code",
   "execution_count": 27,
   "metadata": {},
   "outputs": [],
   "source": [
    "# Концентрация золота по стадиям\n",
    "stage_au = data_gold_full[['rougher.input.feed_au', 'primary_cleaner.output.concentrate_au', 'rougher.output.concentrate_au', 'final.output.concentrate_au']]\n",
    "# Концентрация серебра по стадиям\n",
    "stage_ag = data_gold_full[['rougher.input.feed_ag', 'primary_cleaner.output.concentrate_ag', 'rougher.output.concentrate_ag', 'final.output.concentrate_ag']]\n",
    "# Концентрация свинца по стадиям\n",
    "stage_pb = data_gold_full[['rougher.input.feed_pb', 'primary_cleaner.output.concentrate_pb', 'rougher.output.concentrate_pb', 'final.output.concentrate_pb']]"
   ]
  },
  {
   "cell_type": "code",
   "execution_count": 28,
   "metadata": {},
   "outputs": [
    {
     "data": {
      "image/png": "[encoded data removed]",
      "text/plain": [
       "<Figure size 1080x648 with 1 Axes>"
      ]
     },
     "metadata": {
      "needs_background": "light"
     },
     "output_type": "display_data"
    }
   ],
   "source": [
    "stage_hist(stage_au, 'Золото')"
   ]
  },
  {
   "cell_type": "code",
   "execution_count": 29,
   "metadata": {},
   "outputs": [
    {
     "data": {
      "image/png": "[encoded data removed]",
      "text/plain": [
       "<Figure size 1080x648 with 1 Axes>"
      ]
     },
     "metadata": {
      "needs_background": "light"
     },
     "output_type": "display_data"
    }
   ],
   "source": [
    "stage_hist(stage_ag, 'Серебро')"
   ]
  },
  {
   "cell_type": "code",
   "execution_count": null,
   "metadata": {},
   "outputs": [],
   "source": [
    "stage_hist(stage_pb, 'Свинец')"
   ]
  },
  {
   "cell_type": "markdown",
   "metadata": {},
   "source": [
    "Вывод:\n",
    "\n",
    "<br> Концентрация металла отличается от стадии к стадии:\n",
    "\n",
    "* Золото в результате всех стадий обработки имеет самую высокую концентрацию на выходе\n",
    "* Серебра больше всего после первичной обработки.\n",
    "* Свинец имеет одинаковую концентрацию после флотации и на выходе\n",
    "\n",
    "<br> Имеются околонулевые значения на каждой стадии. "
   ]
  },
  {
   "cell_type": "markdown",
   "metadata": {},
   "source": [
    "### Сравним распределение размеров гранул сырья на обучающей и тестовой выборках. Если распределения сильно отличаются друг от друга, оценка модели будет неправильной.\n"
   ]
  },
  {
   "cell_type": "markdown",
   "metadata": {},
   "source": [
    "<br> Данные по размерам гранул лежат в столбцах:\n",
    "* rougher.input.feed_size - размер гранул сырья на этапе флотации\n",
    "* primary_cleaner.input.feed_size - размер гранул сырья на этапе первичной очистки\n",
    "<br> Имеем две выборки: тренировочную и тестовую. Сравним распределение размеров гранул, отобразив графически"
   ]
  },
  {
   "cell_type": "code",
   "execution_count": 32,
   "metadata": {},
   "outputs": [
    {
     "data": {
      "text/plain": [
       "<matplotlib.legend.Legend at 0x7f3b111c9d60>"
      ]
     },
     "execution_count": 32,
     "metadata": {},
     "output_type": "execute_result"
    },
    {
     "data": {
      "image/png": "[encoded data removed]",
      "text/plain": [
       "<Figure size 1080x648 with 1 Axes>"
      ]
     },
     "metadata": {
      "needs_background": "light"
     },
     "output_type": "display_data"
    }
   ],
   "source": [
    "# Функция отрисовки графика\n",
    "fig, ax = plt.subplots(figsize=(15,9))\n",
    "\n",
    "ax.set_title('распределение размеров гранул сырья на обучающей и тестовой выборках. Этап флотации')\n",
    "data_gold_train['rougher.input.feed_size'].plot(kind='hist', bins=300, alpha=0.5)\n",
    "data_gold_test['rougher.input.feed_size'].plot(kind='hist', bins=300, alpha=0.5)\n",
    "ax.set_xlabel('Гранулы')\n",
    "ax.set_ylabel('Количество')\n",
    "ax.legend(['Обучающая выборка', 'Тестовая выборка'])"
   ]
  },
  {
   "cell_type": "markdown",
   "metadata": {},
   "source": [
    "Видим одинаковое распределение размеров гранул на обучающей и тестовой выборках. \n",
    "Распределение имеет скос вправо."
   ]
  },
  {
   "cell_type": "code",
   "execution_count": 33,
   "metadata": {},
   "outputs": [
    {
     "data": {
      "text/plain": [
       "<matplotlib.legend.Legend at 0x7f3b0dc96d00>"
      ]
     },
     "execution_count": 33,
     "metadata": {},
     "output_type": "execute_result"
    },
    {
     "data": {
      "image/png": "[encoded data removed]",
      "text/plain": [
       "<Figure size 1080x648 with 1 Axes>"
      ]
     },
     "metadata": {
      "needs_background": "light"
     },
     "output_type": "display_data"
    }
   ],
   "source": [
    "# Функция отрисовки графика\n",
    "fig, ax = plt.subplots(figsize=(15,9))\n",
    "\n",
    "ax.set_title('распределение размеров гранул сырья на обучающей и тестовой выборках. Этап первичной очистки')\n",
    "data_gold_train['primary_cleaner.input.feed_size'].plot(kind='hist', bins=300, alpha=0.5)\n",
    "data_gold_test['primary_cleaner.input.feed_size'].plot(kind='hist', bins=300, alpha=0.5)\n",
    "ax.set_xlabel('Гранулы')\n",
    "ax.set_ylabel('Количество')\n",
    "ax.legend(['Обучающая выборка', 'Тестовая выборка'])"
   ]
  },
  {
   "cell_type": "markdown",
   "metadata": {},
   "source": [
    "Видим одинаковое распределение размеров гранул в выборках.\n"
   ]
  },
  {
   "cell_type": "markdown",
   "metadata": {},
   "source": [
    "### Исследуйте суммарную концентрацию всех веществ на разных стадиях: в сырье, в черновом и финальном концентратах."
   ]
  },
  {
   "cell_type": "code",
   "execution_count": 34,
   "metadata": {},
   "outputs": [],
   "source": [
    "# Данные возьмем из полной выборки\n",
    "# Суммарная концентрация всех веществ в сырье\n",
    "\n",
    "rougher_all_substance = (data_gold_full['rougher.input.feed_au'] \n",
    "    + data_gold_full['rougher.input.feed_ag']\n",
    "    + data_gold_full['rougher.input.feed_pb']\n",
    "    + data_gold_full['rougher.input.feed_sol']\n",
    ")\n",
    "# нулевые значения отбросим\n",
    "rougher_all_substance = rougher_all_substance.replace(0, np.NaN).dropna()\n",
    "\n",
    "# Суммарная концентрация всех веществ в черновом концентрате \n",
    "rougher_out_all_substance = (data_gold_full['rougher.output.concentrate_au'] \n",
    "    + data_gold_full['rougher.output.concentrate_ag']\n",
    "    + data_gold_full['rougher.output.concentrate_pb']\n",
    "    + data_gold_full['rougher.output.concentrate_sol']\n",
    ")\n",
    "# нулевые значения отбросим\n",
    "rougher_out_all_substance = rougher_out_all_substance.replace(0, np.nan).dropna()\n",
    "\n",
    "# Суммарная концентрация всех веществ на стадии первичной очистки\n",
    "primary_all_substance = (data_gold_full['primary_cleaner.output.concentrate_au'] \n",
    "    + data_gold_full['primary_cleaner.output.concentrate_ag'] \n",
    "    + data_gold_full['primary_cleaner.output.concentrate_pb'] \n",
    "    + data_gold_full['primary_cleaner.output.concentrate_sol']\n",
    ")\n",
    "# нулевые значения отбросим\n",
    "primary_all_substance = primary_all_substance.replace(0, np.nan).dropna()\n",
    "\n",
    "# Суммарная концентрация всех веществ на финальной стадии \n",
    "final_all_substance = (data_gold_full['final.output.concentrate_au'] \n",
    "    + data_gold_full['final.output.concentrate_ag'] \n",
    "    + data_gold_full['final.output.concentrate_pb'] \n",
    "    + data_gold_full['final.output.concentrate_sol']\n",
    ")\n",
    "# нулевые значения отбросим\n",
    "final_all_substance = final_all_substance.replace(0, np.nan).dropna()\n"
   ]
  },
  {
   "cell_type": "code",
   "execution_count": 35,
   "metadata": {},
   "outputs": [
    {
     "data": {
      "text/plain": [
       "<matplotlib.legend.Legend at 0x7f3b0dd0cd00>"
      ]
     },
     "execution_count": 35,
     "metadata": {},
     "output_type": "execute_result"
    },
    {
     "data": {
      "image/png": "[encoded data removed]",
      "text/plain": [
       "<Figure size 1080x648 with 1 Axes>"
      ]
     },
     "metadata": {
      "needs_background": "light"
     },
     "output_type": "display_data"
    }
   ],
   "source": [
    "fig, ax = plt.subplots(figsize=(15,9))\n",
    "\n",
    "ax.set_title('суммарная концентрация всех веществ в сырье, черновой и финальный концентрат')\n",
    "rougher_all_substance.plot(kind='hist', bins=300, alpha=0.5)\n",
    "rougher_out_all_substance.plot(kind='hist', bins=300, alpha=0.5)\n",
    "primary_all_substance.plot(kind='hist', bins=300, alpha=0.5)\n",
    "final_all_substance.plot(kind='hist', bins=300, alpha=0.5)\n",
    "ax.set_xlabel('Гранулы')\n",
    "ax.set_ylabel('Количество')\n",
    "ax.legend(['Сырье', 'Черновой концентрат', 'Первичная очистка', 'Финальная стадия'])"
   ]
  },
  {
   "cell_type": "markdown",
   "metadata": {},
   "source": [
    "* Имеем выбросы около нуля. Смотрели полную выборку. В целом на обучение не повлияют, обучающую выборку уже от выборосов почистили ранее\n",
    "* Черновой и финальный концентраты самые богатые по содержанию металлов"
   ]
  },
  {
   "cell_type": "markdown",
   "metadata": {},
   "source": [
    "## Модель"
   ]
  },
  {
   "cell_type": "markdown",
   "metadata": {},
   "source": [
    "\n",
    "### Функция для вычисления итоговой sMAPE  (Symmetric Mean Absolute Percentage Error)."
   ]
  },
  {
   "cell_type": "code",
   "execution_count": 36,
   "metadata": {},
   "outputs": [],
   "source": [
    "# Функция для вычисления итоговой sMAPE\n",
    "def smape(target, prediction):\n",
    "    smape = 1 / len(target) * (((abs(target - prediction))/(abs(target) + abs(prediction))).sum()) * 100\n",
    "    return smape"
   ]
  },
  {
   "cell_type": "code",
   "execution_count": 37,
   "metadata": {},
   "outputs": [],
   "source": [
    "def final_smape(target, prediction):\n",
    "    smape_rougher = smape(target['rougher.output.recovery'], prediction[:,0])\n",
    "    smape_final = smape(target['final.output.recovery'], prediction[:,1])\n",
    "    return 0.25 * smape_rougher + 0.75 * smape_final"
   ]
  },
  {
   "cell_type": "code",
   "execution_count": 38,
   "metadata": {},
   "outputs": [],
   "source": [
    "# будем оценивать по этой метрике . Гуглеж\n",
    "smape_scoring = make_scorer(final_smape, greater_is_better=False)"
   ]
  },
  {
   "cell_type": "markdown",
   "metadata": {},
   "source": [
    "### Обучение разных моделей"
   ]
  },
  {
   "cell_type": "code",
   "execution_count": 39,
   "metadata": {},
   "outputs": [],
   "source": [
    "# Масштабируем признаки\n",
    "scaler = StandardScaler()\n",
    "features_train = scaler.fit_transform(features_train)\n"
   ]
  },
  {
   "cell_type": "code",
   "execution_count": 40,
   "metadata": {},
   "outputs": [
    {
     "data": {
      "text/plain": [
       "(5290, 2)"
      ]
     },
     "execution_count": 40,
     "metadata": {},
     "output_type": "execute_result"
    }
   ],
   "source": [
    "# Целевые признаки\n",
    "target_train = data_gold_full.loc[data_gold_train.index, ['rougher.output.recovery', 'final.output.recovery']]\n",
    "target_train.shape\n",
    "\n",
    "\n",
    "target_test = data_gold_full.loc[data_gold_test.index, ['rougher.output.recovery', 'final.output.recovery']]\n",
    "target_test.shape\n"
   ]
  },
  {
   "cell_type": "markdown",
   "metadata": {},
   "source": [
    "###  оценка качества кросс валидацией"
   ]
  },
  {
   "cell_type": "code",
   "execution_count": 41,
   "metadata": {},
   "outputs": [
    {
     "data": {
      "text/plain": [
       "-7.48816934089092"
      ]
     },
     "execution_count": 41,
     "metadata": {},
     "output_type": "execute_result"
    }
   ],
   "source": [
    "# Модель решающее дерево\n",
    "model_tree = DecisionTreeRegressor(random_state=12345)\n",
    "cross_val_score(model_tree, features_train, target_train, cv=3, scoring = smape_scoring).mean()"
   ]
  },
  {
   "cell_type": "code",
   "execution_count": 42,
   "metadata": {},
   "outputs": [],
   "source": [
    "# Модель линейная регрессия"
   ]
  },
  {
   "cell_type": "code",
   "execution_count": 43,
   "metadata": {},
   "outputs": [
    {
     "data": {
      "text/plain": [
       "-6.259759580707974"
      ]
     },
     "execution_count": 43,
     "metadata": {},
     "output_type": "execute_result"
    }
   ],
   "source": [
    "model_linear = LinearRegression()\n",
    "cross_val_score(model_linear, features_train, target_train, cv=3, scoring = smape_scoring).mean()"
   ]
  },
  {
   "cell_type": "code",
   "execution_count": 44,
   "metadata": {},
   "outputs": [],
   "source": [
    "# Модель Случайный лес"
   ]
  },
  {
   "cell_type": "code",
   "execution_count": 45,
   "metadata": {},
   "outputs": [
    {
     "data": {
      "text/plain": [
       "-5.312028659898236"
      ]
     },
     "execution_count": 45,
     "metadata": {},
     "output_type": "execute_result"
    }
   ],
   "source": [
    "model_random_forest = RandomForestRegressor(random_state=12345, n_estimators=10)\n",
    "cross_val_score(model_random_forest, features_train, target_train, cv=3, scoring = smape_scoring).mean()"
   ]
  },
  {
   "cell_type": "markdown",
   "metadata": {},
   "source": [
    "Случайный лес лучше всех"
   ]
  },
  {
   "cell_type": "markdown",
   "metadata": {},
   "source": [
    "### Выбор лучшей модели. Проверка на тестовой выборке."
   ]
  },
  {
   "cell_type": "code",
   "execution_count": 46,
   "metadata": {},
   "outputs": [
    {
     "name": "stderr",
     "output_type": "stream",
     "text": [
      "100%|██████████| 2/2 [04:25<00:00, 132.78s/it]"
     ]
    },
    {
     "name": "stdout",
     "output_type": "stream",
     "text": [
      "Модель: Случайный лес\n",
      " sMAPE: 4.642409394985805, количество деревьев: 31, глубина: 8\n",
      "CPU times: user 4min 23s, sys: 1.18 s, total: 4min 24s\n",
      "Wall time: 4min 25s\n"
     ]
    },
    {
     "name": "stderr",
     "output_type": "stream",
     "text": [
      "\n"
     ]
    }
   ],
   "source": [
    "%%time\n",
    "# используем Случайный лес\n",
    "best_model_forest = None\n",
    "best_depth_forest = 0\n",
    "best_est = 0\n",
    "best_result_forest = 100\n",
    "for est in tqdm(range(30, 32, 1)):\n",
    "            #перебор по глубине\n",
    "            for depth_forest in range(7, 10):\n",
    "                model_forest = RandomForestRegressor(random_state=12345, n_estimators=est, max_depth=depth_forest, n_jobs=-1)\n",
    "                result_forest = cross_val_score(model_forest, features_train, target_train, cv=5, scoring = smape_scoring)\n",
    "                result_forest = abs(result_forest.mean())\n",
    "                if result_forest < best_result_forest:\n",
    "                    best_model_forest = model_forest\n",
    "                    best_depth_forest = depth_forest\n",
    "                    best_est = est\n",
    "                    best_result_forest = result_forest\n",
    "print('Модель: Случайный лес')\n",
    "print(f' sMAPE: {best_result_forest}, количество деревьев: {best_est}, глубина: {best_depth_forest}')"
   ]
  },
  {
   "cell_type": "code",
   "execution_count": 47,
   "metadata": {},
   "outputs": [],
   "source": [
    "\n",
    "rf = best_model_forest.fit(features_train, target_train)\n",
    "#rf = RandomForestRegressor(random_state=12345, n_estimators=30, max_depth=7, n_jobs=-1).fit(features_train, target_train)"
   ]
  },
  {
   "cell_type": "code",
   "execution_count": 48,
   "metadata": {},
   "outputs": [
    {
     "data": {
      "text/plain": [
       "4.905629151544774"
      ]
     },
     "execution_count": 48,
     "metadata": {},
     "output_type": "execute_result"
    }
   ],
   "source": [
    "# final smape\n",
    "rf_predicted = rf.predict(data_gold_test)\n",
    "final_smape(target_test, rf_predicted)\n"
   ]
  },
  {
   "cell_type": "code",
   "execution_count": 49,
   "metadata": {},
   "outputs": [
    {
     "data": {
      "text/plain": [
       "4.905629151544774"
      ]
     },
     "execution_count": 49,
     "metadata": {},
     "output_type": "execute_result"
    }
   ],
   "source": [
    "# или\n",
    "abs(smape_scoring(rf, data_gold_test, target_test))"
   ]
  },
  {
   "cell_type": "markdown",
   "metadata": {},
   "source": [
    "Проверим модель с помощью DummyRegressor на тестовой выборке"
   ]
  },
  {
   "cell_type": "code",
   "execution_count": 50,
   "metadata": {},
   "outputs": [
    {
     "data": {
      "text/plain": [
       "4.726827846275673"
      ]
     },
     "execution_count": 50,
     "metadata": {},
     "output_type": "execute_result"
    }
   ],
   "source": [
    "rf_dummy = DummyRegressor(strategy='median')\n",
    "rf_dummy.fit(features_train, target_train)\n",
    "rf_dummy_predicted = rf_dummy.predict(data_gold_test)\n",
    "final_smape(target_test, rf_dummy_predicted)"
   ]
  },
  {
   "cell_type": "code",
   "execution_count": 51,
   "metadata": {},
   "outputs": [
    {
     "data": {
      "text/plain": [
       "4.726827846275673"
      ]
     },
     "execution_count": 51,
     "metadata": {},
     "output_type": "execute_result"
    }
   ],
   "source": [
    "# или\n",
    "abs(smape_scoring(rf_dummy, data_gold_test, target_test))"
   ]
  },
  {
   "cell_type": "markdown",
   "metadata": {},
   "source": [
    "## Вывод"
   ]
  },
  {
   "cell_type": "markdown",
   "metadata": {},
   "source": [
    "В процессе выполнения проекта были сделаны:\n",
    "\n",
    "* Подгрузили данные\n",
    "* Проверили датасеты на дубликаты и пропуски\n",
    "* Во всем датасете заменили пропуски на предыдущие значения (метод ffill) по рекомендации из задания\n",
    "* Сравнили данные в датасете по эффективноси обогащения чернового концентрата с расчетной эффективностью методом MAE. Расхождения не выявили между предоставленными данными и расчетными значениями\n",
    "* Подготовили тренировочную выборку к обучению модели\n",
    "\n",
    "Концентрация металла отличается при переходе сырья  от стадии к стадии:\n",
    "\n",
    "* Золото в результате всех стадий обработки имеет самую высокую концентрацию на выходе\n",
    "* Серебра больше всего после первичной обработки.\n",
    "* Свинец имеет одинаковую концентрацию после флотации и на выходе\n",
    "\n",
    "\n",
    "* Исследование  суммарной  концентрацию всех веществ на разных стадиях: в сырье, в черновом и финальном концентратах, показало, что черновой и финальный концентраты самые богатые по содержанию металлов.\n",
    "\n",
    "* Были обучены  модели: линейная регрессия, решающее дерево и случаный лес\n",
    "* кросс-валидацией произведена оценка моделей, по результатам которой была  выбрана и обучена лучшуая модель случайного леса\n",
    "* Обученную модель случайного леса проверили на тестовой выборке.\n",
    "* Сравнили показатели с константной моделью, чтобы убелиться в адекватности нашей ммодели.\n",
    "\n",
    "В сравнении с константной моделью, наша модель опказывает лучшие результаты.\n",
    "Целевой показатель нашей модели 4,71 меньше, чем константной 4,95 (DummyRegressor)"
   ]
  }
 ],
 "metadata": {
  "ExecuteTimeLog": [
   {
    "duration": 441,
    "start_time": "2022-07-01T12:23:41.059Z"
   },
   {
    "duration": 689,
    "start_time": "2022-07-01T12:23:49.786Z"
   },
   {
    "duration": 2,
    "start_time": "2022-07-01T12:23:53.298Z"
   },
   {
    "duration": 3,
    "start_time": "2022-07-01T12:24:18.216Z"
   },
   {
    "duration": 1107,
    "start_time": "2022-07-01T12:27:03.093Z"
   },
   {
    "duration": 917,
    "start_time": "2022-07-01T12:27:14.531Z"
   },
   {
    "duration": 685,
    "start_time": "2022-07-01T12:27:38.286Z"
   },
   {
    "duration": 34,
    "start_time": "2022-07-01T12:27:42.407Z"
   },
   {
    "duration": 326,
    "start_time": "2022-07-01T12:28:19.661Z"
   },
   {
    "duration": 654,
    "start_time": "2022-07-01T12:28:24.064Z"
   },
   {
    "duration": 29,
    "start_time": "2022-07-01T12:28:25.380Z"
   },
   {
    "duration": 701,
    "start_time": "2022-07-01T12:28:46.762Z"
   },
   {
    "duration": 28,
    "start_time": "2022-07-01T12:28:47.465Z"
   },
   {
    "duration": 4,
    "start_time": "2022-07-01T12:59:08.917Z"
   },
   {
    "duration": 349,
    "start_time": "2022-07-01T13:00:10.271Z"
   },
   {
    "duration": 151,
    "start_time": "2022-07-01T13:00:29.632Z"
   },
   {
    "duration": 373,
    "start_time": "2022-07-01T13:00:41.627Z"
   },
   {
    "duration": 823,
    "start_time": "2022-07-02T15:46:18.769Z"
   },
   {
    "duration": 1178,
    "start_time": "2022-07-02T15:46:33.284Z"
   },
   {
    "duration": 1329,
    "start_time": "2022-07-02T15:46:34.465Z"
   },
   {
    "duration": 7,
    "start_time": "2022-07-02T15:46:35.800Z"
   },
   {
    "duration": 545,
    "start_time": "2022-07-02T15:46:35.810Z"
   },
   {
    "duration": 228,
    "start_time": "2022-07-02T15:46:36.358Z"
   },
   {
    "duration": 468,
    "start_time": "2022-07-02T15:46:36.588Z"
   },
   {
    "duration": 1011,
    "start_time": "2022-07-02T15:46:37.058Z"
   },
   {
    "duration": 20,
    "start_time": "2022-07-02T15:47:00.426Z"
   },
   {
    "duration": 883,
    "start_time": "2022-07-02T15:47:10.680Z"
   },
   {
    "duration": 970,
    "start_time": "2022-07-02T15:47:19.122Z"
   },
   {
    "duration": 785,
    "start_time": "2022-07-02T15:47:27.036Z"
   },
   {
    "duration": 12,
    "start_time": "2022-07-02T15:47:44.388Z"
   },
   {
    "duration": 8,
    "start_time": "2022-07-02T15:48:04.488Z"
   },
   {
    "duration": 11,
    "start_time": "2022-07-02T16:00:30.225Z"
   },
   {
    "duration": 10,
    "start_time": "2022-07-02T16:00:52.894Z"
   },
   {
    "duration": 843,
    "start_time": "2022-07-02T16:00:55.327Z"
   },
   {
    "duration": 4,
    "start_time": "2022-07-02T16:00:56.175Z"
   },
   {
    "duration": 519,
    "start_time": "2022-07-02T16:00:56.181Z"
   },
   {
    "duration": 207,
    "start_time": "2022-07-02T16:00:56.703Z"
   },
   {
    "duration": 11,
    "start_time": "2022-07-02T16:02:25.551Z"
   },
   {
    "duration": 9,
    "start_time": "2022-07-02T16:03:02.794Z"
   },
   {
    "duration": 19,
    "start_time": "2022-07-02T16:03:15.049Z"
   },
   {
    "duration": 17,
    "start_time": "2022-07-02T16:03:20.569Z"
   },
   {
    "duration": 32,
    "start_time": "2022-07-02T16:03:51.951Z"
   },
   {
    "duration": 30,
    "start_time": "2022-07-02T16:03:56.715Z"
   },
   {
    "duration": 14,
    "start_time": "2022-07-02T16:04:01.994Z"
   },
   {
    "duration": 11,
    "start_time": "2022-07-02T16:04:49.814Z"
   },
   {
    "duration": 11,
    "start_time": "2022-07-02T16:04:58.624Z"
   },
   {
    "duration": 14,
    "start_time": "2022-07-02T16:05:09.808Z"
   },
   {
    "duration": 12,
    "start_time": "2022-07-02T16:06:07.305Z"
   },
   {
    "duration": 57,
    "start_time": "2022-07-02T16:06:14.207Z"
   },
   {
    "duration": 50,
    "start_time": "2022-07-02T16:06:50.156Z"
   },
   {
    "duration": 41,
    "start_time": "2022-07-02T16:07:14.885Z"
   },
   {
    "duration": 103,
    "start_time": "2022-07-02T16:07:42.174Z"
   },
   {
    "duration": 51,
    "start_time": "2022-07-02T16:07:50.786Z"
   },
   {
    "duration": 25,
    "start_time": "2022-07-02T16:08:44.198Z"
   },
   {
    "duration": 22,
    "start_time": "2022-07-02T16:08:50.978Z"
   },
   {
    "duration": 7,
    "start_time": "2022-07-02T16:09:25.841Z"
   },
   {
    "duration": 11,
    "start_time": "2022-07-02T16:10:21.870Z"
   },
   {
    "duration": 6,
    "start_time": "2022-07-02T16:13:05.839Z"
   },
   {
    "duration": 138,
    "start_time": "2022-07-02T16:15:37.180Z"
   },
   {
    "duration": 1945,
    "start_time": "2022-07-02T16:15:45.454Z"
   },
   {
    "duration": 26,
    "start_time": "2022-07-02T16:15:57.762Z"
   },
   {
    "duration": 24,
    "start_time": "2022-07-02T16:16:28.207Z"
   },
   {
    "duration": 16,
    "start_time": "2022-07-02T16:20:31.121Z"
   },
   {
    "duration": 574,
    "start_time": "2022-07-02T16:21:35.094Z"
   },
   {
    "duration": 27,
    "start_time": "2022-07-02T16:21:42.654Z"
   },
   {
    "duration": 9,
    "start_time": "2022-07-02T16:21:56.923Z"
   },
   {
    "duration": 0,
    "start_time": "2022-07-02T16:26:56.512Z"
   },
   {
    "duration": 0,
    "start_time": "2022-07-02T16:26:56.513Z"
   },
   {
    "duration": 0,
    "start_time": "2022-07-02T16:26:56.515Z"
   },
   {
    "duration": 3,
    "start_time": "2022-07-02T16:26:57.984Z"
   },
   {
    "duration": 3,
    "start_time": "2022-07-02T16:26:58.292Z"
   },
   {
    "duration": 841,
    "start_time": "2022-07-02T16:26:58.527Z"
   },
   {
    "duration": 5,
    "start_time": "2022-07-02T16:26:59.371Z"
   },
   {
    "duration": 521,
    "start_time": "2022-07-02T16:26:59.378Z"
   },
   {
    "duration": 220,
    "start_time": "2022-07-02T16:26:59.901Z"
   },
   {
    "duration": 470,
    "start_time": "2022-07-02T16:27:00.128Z"
   },
   {
    "duration": 5,
    "start_time": "2022-07-02T16:27:00.600Z"
   },
   {
    "duration": 11,
    "start_time": "2022-07-02T16:27:01.498Z"
   },
   {
    "duration": 26,
    "start_time": "2022-07-02T16:27:01.933Z"
   },
   {
    "duration": 6,
    "start_time": "2022-07-02T16:27:02.213Z"
   },
   {
    "duration": 186,
    "start_time": "2022-07-02T16:27:04.498Z"
   },
   {
    "duration": 61,
    "start_time": "2022-07-02T16:28:58.527Z"
   },
   {
    "duration": 42,
    "start_time": "2022-07-02T16:29:36.247Z"
   },
   {
    "duration": 16,
    "start_time": "2022-07-02T16:33:06.404Z"
   },
   {
    "duration": 51,
    "start_time": "2022-07-02T16:33:17.017Z"
   },
   {
    "duration": 153,
    "start_time": "2022-07-02T16:33:28.313Z"
   },
   {
    "duration": 23,
    "start_time": "2022-07-02T16:33:34.147Z"
   },
   {
    "duration": 22,
    "start_time": "2022-07-02T16:33:41.317Z"
   },
   {
    "duration": 56,
    "start_time": "2022-07-02T16:34:00.547Z"
   },
   {
    "duration": 3,
    "start_time": "2022-07-02T16:34:01.062Z"
   },
   {
    "duration": 820,
    "start_time": "2022-07-02T16:34:01.198Z"
   },
   {
    "duration": 24,
    "start_time": "2022-07-02T16:34:02.020Z"
   },
   {
    "duration": 443,
    "start_time": "2022-07-02T16:34:02.047Z"
   },
   {
    "duration": 192,
    "start_time": "2022-07-02T16:34:02.492Z"
   },
   {
    "duration": 427,
    "start_time": "2022-07-02T16:34:02.686Z"
   },
   {
    "duration": 28,
    "start_time": "2022-07-02T16:34:03.115Z"
   },
   {
    "duration": 41,
    "start_time": "2022-07-02T16:34:03.150Z"
   },
   {
    "duration": 18,
    "start_time": "2022-07-02T16:34:03.193Z"
   },
   {
    "duration": 6,
    "start_time": "2022-07-02T16:34:03.282Z"
   },
   {
    "duration": 15,
    "start_time": "2022-07-02T16:34:03.858Z"
   },
   {
    "duration": 15,
    "start_time": "2022-07-02T16:38:29.405Z"
   },
   {
    "duration": 28,
    "start_time": "2022-07-02T16:38:53.954Z"
   },
   {
    "duration": 22,
    "start_time": "2022-07-02T16:39:05.900Z"
   },
   {
    "duration": 176,
    "start_time": "2022-07-02T16:39:51.787Z"
   },
   {
    "duration": 199,
    "start_time": "2022-07-02T16:40:23.580Z"
   },
   {
    "duration": 196,
    "start_time": "2022-07-02T16:40:33.656Z"
   },
   {
    "duration": 492,
    "start_time": "2022-07-02T16:40:40.321Z"
   },
   {
    "duration": 562,
    "start_time": "2022-07-02T16:41:07.385Z"
   },
   {
    "duration": 494,
    "start_time": "2022-07-02T16:42:08.337Z"
   },
   {
    "duration": 471,
    "start_time": "2022-07-02T16:42:23.282Z"
   },
   {
    "duration": 19,
    "start_time": "2022-07-02T16:44:32.838Z"
   },
   {
    "duration": 6,
    "start_time": "2022-07-02T16:44:53.086Z"
   },
   {
    "duration": 11,
    "start_time": "2022-07-02T16:44:58.344Z"
   },
   {
    "duration": 9,
    "start_time": "2022-07-02T16:45:03.239Z"
   },
   {
    "duration": 4,
    "start_time": "2022-07-02T16:45:10.567Z"
   },
   {
    "duration": 4,
    "start_time": "2022-07-02T16:45:47.045Z"
   },
   {
    "duration": 5,
    "start_time": "2022-07-02T16:47:05.383Z"
   },
   {
    "duration": 4,
    "start_time": "2022-07-02T16:47:09.489Z"
   },
   {
    "duration": 54,
    "start_time": "2022-07-02T17:25:13.343Z"
   },
   {
    "duration": 45,
    "start_time": "2022-07-02T17:25:25.950Z"
   },
   {
    "duration": 52,
    "start_time": "2022-07-02T17:25:33.693Z"
   },
   {
    "duration": 5,
    "start_time": "2022-07-02T17:26:08.593Z"
   },
   {
    "duration": 9,
    "start_time": "2022-07-02T17:26:57.110Z"
   },
   {
    "duration": 12,
    "start_time": "2022-07-02T17:27:06.938Z"
   },
   {
    "duration": 5,
    "start_time": "2022-07-02T17:27:28.427Z"
   },
   {
    "duration": 5,
    "start_time": "2022-07-02T17:27:45.461Z"
   },
   {
    "duration": 3,
    "start_time": "2022-07-02T21:17:10.167Z"
   },
   {
    "duration": 3,
    "start_time": "2022-07-02T21:17:10.576Z"
   },
   {
    "duration": 2115,
    "start_time": "2022-07-02T21:17:11.292Z"
   },
   {
    "duration": 4,
    "start_time": "2022-07-02T21:17:13.409Z"
   },
   {
    "duration": 429,
    "start_time": "2022-07-02T21:17:14.012Z"
   },
   {
    "duration": 1152,
    "start_time": "2022-07-02T21:28:11.646Z"
   },
   {
    "duration": 1491,
    "start_time": "2022-07-02T21:28:24.549Z"
   },
   {
    "duration": 1289,
    "start_time": "2022-07-02T21:28:39.164Z"
   },
   {
    "duration": 1411,
    "start_time": "2022-07-02T21:29:09.269Z"
   },
   {
    "duration": 1131,
    "start_time": "2022-07-02T21:29:16.769Z"
   },
   {
    "duration": 1382,
    "start_time": "2022-07-02T21:29:34.290Z"
   },
   {
    "duration": 5,
    "start_time": "2022-07-02T21:29:35.674Z"
   },
   {
    "duration": 814,
    "start_time": "2022-07-02T21:29:35.680Z"
   },
   {
    "duration": 4,
    "start_time": "2022-07-02T21:29:36.496Z"
   },
   {
    "duration": 468,
    "start_time": "2022-07-02T21:29:36.502Z"
   },
   {
    "duration": 177,
    "start_time": "2022-07-02T21:29:36.972Z"
   },
   {
    "duration": 433,
    "start_time": "2022-07-02T21:29:37.158Z"
   },
   {
    "duration": 6,
    "start_time": "2022-07-02T21:29:37.593Z"
   },
   {
    "duration": 11,
    "start_time": "2022-07-02T21:29:37.601Z"
   },
   {
    "duration": 33,
    "start_time": "2022-07-02T21:29:37.614Z"
   },
   {
    "duration": 7,
    "start_time": "2022-07-02T21:29:37.648Z"
   },
   {
    "duration": 516,
    "start_time": "2022-07-02T21:29:37.659Z"
   },
   {
    "duration": 5,
    "start_time": "2022-07-02T21:29:38.177Z"
   },
   {
    "duration": 6,
    "start_time": "2022-07-02T21:29:38.184Z"
   },
   {
    "duration": 1416,
    "start_time": "2022-07-02T21:29:38.192Z"
   },
   {
    "duration": 19,
    "start_time": "2022-07-02T21:30:02.224Z"
   },
   {
    "duration": 11,
    "start_time": "2022-07-02T21:30:09.805Z"
   },
   {
    "duration": 8,
    "start_time": "2022-07-02T21:30:14.908Z"
   },
   {
    "duration": 6,
    "start_time": "2022-07-02T21:30:20.907Z"
   },
   {
    "duration": 35,
    "start_time": "2022-07-02T21:31:10.638Z"
   },
   {
    "duration": 18,
    "start_time": "2022-07-02T21:33:21.884Z"
   },
   {
    "duration": 8,
    "start_time": "2022-07-02T21:33:44.287Z"
   },
   {
    "duration": 13,
    "start_time": "2022-07-02T21:33:59.224Z"
   },
   {
    "duration": 13,
    "start_time": "2022-07-02T21:34:21.967Z"
   },
   {
    "duration": 27,
    "start_time": "2022-07-02T21:34:27.321Z"
   },
   {
    "duration": 50,
    "start_time": "2022-07-02T21:37:04.522Z"
   },
   {
    "duration": 5,
    "start_time": "2022-07-02T21:46:12.250Z"
   },
   {
    "duration": 4,
    "start_time": "2022-07-02T21:46:41.013Z"
   },
   {
    "duration": 596,
    "start_time": "2022-07-02T21:52:01.505Z"
   },
   {
    "duration": 58,
    "start_time": "2022-07-02T21:56:22.688Z"
   },
   {
    "duration": 163,
    "start_time": "2022-07-02T21:59:21.507Z"
   },
   {
    "duration": 139,
    "start_time": "2022-07-02T21:59:56.467Z"
   },
   {
    "duration": 158,
    "start_time": "2022-07-02T22:01:53.485Z"
   },
   {
    "duration": 181,
    "start_time": "2022-07-02T22:02:10.825Z"
   },
   {
    "duration": 155,
    "start_time": "2022-07-02T22:02:22.298Z"
   },
   {
    "duration": 166,
    "start_time": "2022-07-02T22:04:50.869Z"
   },
   {
    "duration": 37,
    "start_time": "2022-07-02T22:05:33.298Z"
   },
   {
    "duration": 35,
    "start_time": "2022-07-02T22:05:41.910Z"
   },
   {
    "duration": 11,
    "start_time": "2022-07-02T22:07:01.527Z"
   },
   {
    "duration": 8,
    "start_time": "2022-07-02T22:07:05.619Z"
   },
   {
    "duration": 8,
    "start_time": "2022-07-02T22:07:41.561Z"
   },
   {
    "duration": 12,
    "start_time": "2022-07-02T22:09:17.826Z"
   },
   {
    "duration": 7,
    "start_time": "2022-07-02T22:09:33.534Z"
   },
   {
    "duration": 154,
    "start_time": "2022-07-02T22:31:02.251Z"
   },
   {
    "duration": 13,
    "start_time": "2022-07-02T22:31:47.134Z"
   },
   {
    "duration": 29,
    "start_time": "2022-07-02T22:31:52.522Z"
   },
   {
    "duration": 7,
    "start_time": "2022-07-02T22:32:23.363Z"
   },
   {
    "duration": 48,
    "start_time": "2022-07-02T22:32:37.653Z"
   },
   {
    "duration": 7,
    "start_time": "2022-07-02T22:32:46.843Z"
   },
   {
    "duration": 5,
    "start_time": "2022-07-02T22:33:34.858Z"
   },
   {
    "duration": 10,
    "start_time": "2022-07-03T09:43:16.514Z"
   },
   {
    "duration": 51,
    "start_time": "2022-07-03T09:43:30.125Z"
   },
   {
    "duration": 46,
    "start_time": "2022-07-03T09:44:09.522Z"
   },
   {
    "duration": 10,
    "start_time": "2022-07-03T09:44:13.358Z"
   },
   {
    "duration": 9,
    "start_time": "2022-07-03T09:44:13.614Z"
   },
   {
    "duration": 8,
    "start_time": "2022-07-03T09:44:14.021Z"
   },
   {
    "duration": 5,
    "start_time": "2022-07-03T09:44:14.416Z"
   },
   {
    "duration": 628,
    "start_time": "2022-07-03T09:44:15.199Z"
   },
   {
    "duration": 218,
    "start_time": "2022-07-03T09:44:16.855Z"
   },
   {
    "duration": 16,
    "start_time": "2022-07-03T09:44:17.296Z"
   },
   {
    "duration": 7,
    "start_time": "2022-07-03T09:44:19.709Z"
   },
   {
    "duration": 8,
    "start_time": "2022-07-03T09:44:21.881Z"
   },
   {
    "duration": 9,
    "start_time": "2022-07-03T09:44:30.183Z"
   },
   {
    "duration": 6,
    "start_time": "2022-07-03T09:44:35.188Z"
   },
   {
    "duration": 96,
    "start_time": "2022-07-03T09:48:15.087Z"
   },
   {
    "duration": 96,
    "start_time": "2022-07-03T09:48:31.005Z"
   },
   {
    "duration": 1844,
    "start_time": "2022-07-03T09:48:40.276Z"
   },
   {
    "duration": 190,
    "start_time": "2022-07-03T09:48:58.017Z"
   },
   {
    "duration": 19,
    "start_time": "2022-07-03T09:49:00.079Z"
   },
   {
    "duration": 6,
    "start_time": "2022-07-03T09:49:00.570Z"
   },
   {
    "duration": 8,
    "start_time": "2022-07-03T09:54:58.776Z"
   },
   {
    "duration": 24,
    "start_time": "2022-07-03T09:55:17.661Z"
   },
   {
    "duration": 19,
    "start_time": "2022-07-03T09:55:22.048Z"
   },
   {
    "duration": 14,
    "start_time": "2022-07-03T09:55:34.587Z"
   },
   {
    "duration": 8,
    "start_time": "2022-07-03T09:55:53.615Z"
   },
   {
    "duration": 9,
    "start_time": "2022-07-03T09:55:57.270Z"
   },
   {
    "duration": 11,
    "start_time": "2022-07-03T10:14:37.437Z"
   },
   {
    "duration": 10,
    "start_time": "2022-07-03T10:14:46.913Z"
   },
   {
    "duration": 224,
    "start_time": "2022-07-03T10:14:55.684Z"
   },
   {
    "duration": 18,
    "start_time": "2022-07-03T10:15:00.853Z"
   },
   {
    "duration": 29,
    "start_time": "2022-07-03T10:15:12.855Z"
   },
   {
    "duration": 1106,
    "start_time": "2022-07-03T10:17:12.441Z"
   },
   {
    "duration": 828,
    "start_time": "2022-07-03T10:17:19.848Z"
   },
   {
    "duration": 768,
    "start_time": "2022-07-03T10:17:31.118Z"
   },
   {
    "duration": 692,
    "start_time": "2022-07-03T10:17:38.825Z"
   },
   {
    "duration": 703,
    "start_time": "2022-07-03T10:17:52.323Z"
   },
   {
    "duration": 1117,
    "start_time": "2022-07-03T10:17:58.014Z"
   },
   {
    "duration": 1517,
    "start_time": "2022-07-03T10:18:02.091Z"
   },
   {
    "duration": 844,
    "start_time": "2022-07-03T10:18:07.558Z"
   },
   {
    "duration": 18,
    "start_time": "2022-07-03T10:20:31.257Z"
   },
   {
    "duration": 17,
    "start_time": "2022-07-03T10:20:38.454Z"
   },
   {
    "duration": 165,
    "start_time": "2022-07-03T10:21:08.548Z"
   },
   {
    "duration": 22,
    "start_time": "2022-07-03T10:21:16.370Z"
   },
   {
    "duration": 12,
    "start_time": "2022-07-03T10:21:35.096Z"
   },
   {
    "duration": 15,
    "start_time": "2022-07-03T10:22:22.870Z"
   },
   {
    "duration": 14,
    "start_time": "2022-07-03T10:22:31.488Z"
   },
   {
    "duration": 26,
    "start_time": "2022-07-03T10:22:39.850Z"
   },
   {
    "duration": 13,
    "start_time": "2022-07-03T10:36:31.210Z"
   },
   {
    "duration": 27,
    "start_time": "2022-07-03T10:36:39.924Z"
   },
   {
    "duration": 398,
    "start_time": "2022-07-03T10:37:26.523Z"
   },
   {
    "duration": 19,
    "start_time": "2022-07-03T10:37:42.221Z"
   },
   {
    "duration": 153,
    "start_time": "2022-07-03T10:37:48.322Z"
   },
   {
    "duration": 7,
    "start_time": "2022-07-03T10:37:55.285Z"
   },
   {
    "duration": 138,
    "start_time": "2022-07-03T10:37:58.610Z"
   },
   {
    "duration": 8,
    "start_time": "2022-07-03T10:38:02.893Z"
   },
   {
    "duration": 17,
    "start_time": "2022-07-03T10:38:21.890Z"
   },
   {
    "duration": 116,
    "start_time": "2022-07-03T10:38:30.429Z"
   },
   {
    "duration": 16,
    "start_time": "2022-07-03T10:38:34.051Z"
   },
   {
    "duration": 21,
    "start_time": "2022-07-03T10:38:57.164Z"
   },
   {
    "duration": 12,
    "start_time": "2022-07-03T10:39:17.795Z"
   },
   {
    "duration": 11,
    "start_time": "2022-07-03T10:39:42.369Z"
   },
   {
    "duration": 12,
    "start_time": "2022-07-03T10:40:24.213Z"
   },
   {
    "duration": 17,
    "start_time": "2022-07-03T10:40:42.191Z"
   },
   {
    "duration": 25,
    "start_time": "2022-07-03T10:41:06.719Z"
   },
   {
    "duration": 26,
    "start_time": "2022-07-03T10:41:54.619Z"
   },
   {
    "duration": 42,
    "start_time": "2022-07-03T10:42:52.754Z"
   },
   {
    "duration": 13,
    "start_time": "2022-07-03T10:42:53.097Z"
   },
   {
    "duration": 289,
    "start_time": "2022-07-03T10:51:41.666Z"
   },
   {
    "duration": 56,
    "start_time": "2022-07-03T10:51:42.447Z"
   },
   {
    "duration": 22,
    "start_time": "2022-07-03T10:51:45.557Z"
   },
   {
    "duration": 8,
    "start_time": "2022-07-03T10:54:35.984Z"
   },
   {
    "duration": 8,
    "start_time": "2022-07-03T10:54:36.704Z"
   },
   {
    "duration": 11,
    "start_time": "2022-07-03T10:54:37.405Z"
   },
   {
    "duration": 9,
    "start_time": "2022-07-03T10:55:45.606Z"
   },
   {
    "duration": 9,
    "start_time": "2022-07-03T10:55:56.814Z"
   },
   {
    "duration": 28,
    "start_time": "2022-07-03T10:56:23.129Z"
   },
   {
    "duration": 10,
    "start_time": "2022-07-03T10:57:58.575Z"
   },
   {
    "duration": 19,
    "start_time": "2022-07-03T10:58:05.156Z"
   },
   {
    "duration": 10,
    "start_time": "2022-07-03T10:58:23.193Z"
   },
   {
    "duration": 8,
    "start_time": "2022-07-03T10:58:23.720Z"
   },
   {
    "duration": 8,
    "start_time": "2022-07-03T10:58:25.608Z"
   },
   {
    "duration": 8,
    "start_time": "2022-07-03T10:58:47.014Z"
   },
   {
    "duration": 16,
    "start_time": "2022-07-03T10:58:47.156Z"
   },
   {
    "duration": 648,
    "start_time": "2022-07-03T10:58:47.326Z"
   },
   {
    "duration": 8,
    "start_time": "2022-07-03T11:00:35.590Z"
   },
   {
    "duration": 590,
    "start_time": "2022-07-03T11:00:36.308Z"
   },
   {
    "duration": 237,
    "start_time": "2022-07-03T11:00:52.110Z"
   },
   {
    "duration": 17,
    "start_time": "2022-07-03T11:00:53.182Z"
   },
   {
    "duration": 7,
    "start_time": "2022-07-03T11:01:00.986Z"
   },
   {
    "duration": 8,
    "start_time": "2022-07-03T11:01:09.764Z"
   },
   {
    "duration": 15,
    "start_time": "2022-07-03T11:01:21.653Z"
   },
   {
    "duration": 7,
    "start_time": "2022-07-03T11:12:49.411Z"
   },
   {
    "duration": 10,
    "start_time": "2022-07-03T11:12:56.453Z"
   },
   {
    "duration": 4,
    "start_time": "2022-07-03T11:16:34.398Z"
   },
   {
    "duration": 10,
    "start_time": "2022-07-03T11:16:38.089Z"
   },
   {
    "duration": 41,
    "start_time": "2022-07-03T11:16:59.126Z"
   },
   {
    "duration": 12,
    "start_time": "2022-07-03T11:17:01.366Z"
   },
   {
    "duration": 29,
    "start_time": "2022-07-03T11:18:31.231Z"
   },
   {
    "duration": 22,
    "start_time": "2022-07-03T11:18:47.177Z"
   },
   {
    "duration": 18,
    "start_time": "2022-07-03T11:18:54.337Z"
   },
   {
    "duration": 12,
    "start_time": "2022-07-03T11:19:18.018Z"
   },
   {
    "duration": 7,
    "start_time": "2022-07-03T11:19:25.508Z"
   },
   {
    "duration": 20,
    "start_time": "2022-07-03T11:19:55.657Z"
   },
   {
    "duration": 29,
    "start_time": "2022-07-03T11:20:02.192Z"
   },
   {
    "duration": 114,
    "start_time": "2022-07-03T11:20:35.126Z"
   },
   {
    "duration": 17,
    "start_time": "2022-07-03T11:21:13.658Z"
   },
   {
    "duration": 21,
    "start_time": "2022-07-03T11:21:27.469Z"
   },
   {
    "duration": 11,
    "start_time": "2022-07-03T11:27:55.337Z"
   },
   {
    "duration": 4,
    "start_time": "2022-07-03T11:28:12.733Z"
   },
   {
    "duration": 18,
    "start_time": "2022-07-03T11:35:24.521Z"
   },
   {
    "duration": 58,
    "start_time": "2022-07-03T11:39:36.825Z"
   },
   {
    "duration": 4,
    "start_time": "2022-07-03T11:40:12.016Z"
   },
   {
    "duration": 5,
    "start_time": "2022-07-03T11:40:23.692Z"
   },
   {
    "duration": 18,
    "start_time": "2022-07-03T11:40:31.109Z"
   },
   {
    "duration": 7,
    "start_time": "2022-07-03T11:40:39.241Z"
   },
   {
    "duration": 17,
    "start_time": "2022-07-03T11:43:49.894Z"
   },
   {
    "duration": 259,
    "start_time": "2022-07-03T12:05:59.185Z"
   },
   {
    "duration": 2720,
    "start_time": "2022-07-03T12:24:34.408Z"
   },
   {
    "duration": 859,
    "start_time": "2022-07-03T12:25:09.149Z"
   },
   {
    "duration": 3423,
    "start_time": "2022-07-03T12:25:41.076Z"
   },
   {
    "duration": 274,
    "start_time": "2022-07-03T12:26:47.241Z"
   },
   {
    "duration": 324,
    "start_time": "2022-07-03T12:27:09.343Z"
   },
   {
    "duration": 335,
    "start_time": "2022-07-03T12:27:59.300Z"
   },
   {
    "duration": 34,
    "start_time": "2022-07-03T12:28:16.958Z"
   },
   {
    "duration": 1144,
    "start_time": "2022-07-03T12:28:39.740Z"
   },
   {
    "duration": 1094,
    "start_time": "2022-07-03T12:29:19.309Z"
   },
   {
    "duration": 1990,
    "start_time": "2022-07-03T12:29:47.112Z"
   },
   {
    "duration": 1215,
    "start_time": "2022-07-03T12:30:10.445Z"
   },
   {
    "duration": 1298,
    "start_time": "2022-07-03T12:30:22.625Z"
   },
   {
    "duration": 1782,
    "start_time": "2022-07-03T12:40:22.300Z"
   },
   {
    "duration": 2523,
    "start_time": "2022-07-03T12:41:18.537Z"
   },
   {
    "duration": 6,
    "start_time": "2022-07-03T12:47:35.005Z"
   },
   {
    "duration": 3030,
    "start_time": "2022-07-03T12:48:34.657Z"
   },
   {
    "duration": 267,
    "start_time": "2022-07-03T12:48:49.196Z"
   },
   {
    "duration": 7,
    "start_time": "2022-07-03T12:50:00.884Z"
   },
   {
    "duration": 13,
    "start_time": "2022-07-03T14:08:52.354Z"
   },
   {
    "duration": 49,
    "start_time": "2022-07-03T14:08:53.432Z"
   },
   {
    "duration": 12,
    "start_time": "2022-07-03T14:08:54.758Z"
   },
   {
    "duration": 1668,
    "start_time": "2022-07-03T14:09:07.187Z"
   },
   {
    "duration": 4,
    "start_time": "2022-07-03T14:09:08.858Z"
   },
   {
    "duration": 3860,
    "start_time": "2022-07-03T14:09:08.864Z"
   },
   {
    "duration": 4,
    "start_time": "2022-07-03T14:09:12.726Z"
   },
   {
    "duration": 430,
    "start_time": "2022-07-03T14:09:12.731Z"
   },
   {
    "duration": 175,
    "start_time": "2022-07-03T14:09:13.164Z"
   },
   {
    "duration": 383,
    "start_time": "2022-07-03T14:09:13.340Z"
   },
   {
    "duration": 24,
    "start_time": "2022-07-03T14:09:13.726Z"
   },
   {
    "duration": 6,
    "start_time": "2022-07-03T14:09:13.752Z"
   },
   {
    "duration": 21,
    "start_time": "2022-07-03T14:09:13.761Z"
   },
   {
    "duration": 5,
    "start_time": "2022-07-03T14:09:13.784Z"
   },
   {
    "duration": 39,
    "start_time": "2022-07-03T14:09:13.791Z"
   },
   {
    "duration": 8,
    "start_time": "2022-07-03T14:09:13.832Z"
   },
   {
    "duration": 541,
    "start_time": "2022-07-03T14:09:13.842Z"
   },
   {
    "duration": 234,
    "start_time": "2022-07-03T14:09:14.385Z"
   },
   {
    "duration": 7,
    "start_time": "2022-07-03T14:09:14.625Z"
   },
   {
    "duration": 10,
    "start_time": "2022-07-03T14:09:14.633Z"
   },
   {
    "duration": 7,
    "start_time": "2022-07-03T14:09:14.644Z"
   },
   {
    "duration": 6,
    "start_time": "2022-07-03T14:09:14.653Z"
   },
   {
    "duration": 13,
    "start_time": "2022-07-03T14:09:14.660Z"
   },
   {
    "duration": 18,
    "start_time": "2022-07-03T14:09:14.675Z"
   },
   {
    "duration": 31,
    "start_time": "2022-07-03T14:09:14.695Z"
   },
   {
    "duration": 8,
    "start_time": "2022-07-03T14:09:14.728Z"
   },
   {
    "duration": 273,
    "start_time": "2022-07-03T14:09:14.738Z"
   },
   {
    "duration": 0,
    "start_time": "2022-07-03T14:09:15.013Z"
   },
   {
    "duration": 6,
    "start_time": "2022-07-03T14:09:49.025Z"
   },
   {
    "duration": 6,
    "start_time": "2022-07-03T14:09:49.600Z"
   },
   {
    "duration": 1410,
    "start_time": "2022-07-03T14:09:49.980Z"
   },
   {
    "duration": 4,
    "start_time": "2022-07-03T14:10:22.974Z"
   },
   {
    "duration": 4,
    "start_time": "2022-07-03T14:10:31.400Z"
   },
   {
    "duration": 4,
    "start_time": "2022-07-03T14:10:33.555Z"
   },
   {
    "duration": 6,
    "start_time": "2022-07-03T14:10:33.844Z"
   },
   {
    "duration": 1015,
    "start_time": "2022-07-03T14:10:34.166Z"
   },
   {
    "duration": 984,
    "start_time": "2022-07-03T14:10:56.424Z"
   },
   {
    "duration": 8,
    "start_time": "2022-07-03T14:12:17.272Z"
   },
   {
    "duration": 946,
    "start_time": "2022-07-03T14:12:34.364Z"
   },
   {
    "duration": 1062,
    "start_time": "2022-07-03T14:12:53.717Z"
   },
   {
    "duration": 913,
    "start_time": "2022-07-03T14:13:23.827Z"
   },
   {
    "duration": 1131,
    "start_time": "2022-07-03T14:13:36.289Z"
   },
   {
    "duration": 3,
    "start_time": "2022-07-03T14:13:53.466Z"
   },
   {
    "duration": 6,
    "start_time": "2022-07-03T14:13:54.211Z"
   },
   {
    "duration": 1047,
    "start_time": "2022-07-03T14:13:54.510Z"
   },
   {
    "duration": 918,
    "start_time": "2022-07-03T14:13:55.559Z"
   },
   {
    "duration": 1105,
    "start_time": "2022-07-03T14:13:56.479Z"
   },
   {
    "duration": 4,
    "start_time": "2022-07-03T14:14:09.516Z"
   },
   {
    "duration": 6,
    "start_time": "2022-07-03T14:14:10.018Z"
   },
   {
    "duration": 2483,
    "start_time": "2022-07-03T14:14:10.214Z"
   },
   {
    "duration": 2763,
    "start_time": "2022-07-03T14:14:12.699Z"
   },
   {
    "duration": 2589,
    "start_time": "2022-07-03T14:14:15.465Z"
   },
   {
    "duration": 6,
    "start_time": "2022-07-03T14:16:14.089Z"
   },
   {
    "duration": 26,
    "start_time": "2022-07-03T14:29:50.628Z"
   },
   {
    "duration": 25,
    "start_time": "2022-07-03T14:30:13.013Z"
   },
   {
    "duration": 1450,
    "start_time": "2022-07-03T14:30:57.010Z"
   },
   {
    "duration": 3,
    "start_time": "2022-07-03T14:30:58.462Z"
   },
   {
    "duration": 711,
    "start_time": "2022-07-03T14:30:58.466Z"
   },
   {
    "duration": 4,
    "start_time": "2022-07-03T14:30:59.180Z"
   },
   {
    "duration": 415,
    "start_time": "2022-07-03T14:30:59.185Z"
   },
   {
    "duration": 176,
    "start_time": "2022-07-03T14:30:59.620Z"
   },
   {
    "duration": 401,
    "start_time": "2022-07-03T14:30:59.798Z"
   },
   {
    "duration": 38,
    "start_time": "2022-07-03T14:31:00.201Z"
   },
   {
    "duration": 15,
    "start_time": "2022-07-03T14:31:00.242Z"
   },
   {
    "duration": 6,
    "start_time": "2022-07-03T14:31:00.260Z"
   },
   {
    "duration": 21,
    "start_time": "2022-07-03T14:31:00.268Z"
   },
   {
    "duration": 11,
    "start_time": "2022-07-03T14:31:00.291Z"
   },
   {
    "duration": 42,
    "start_time": "2022-07-03T14:31:00.304Z"
   },
   {
    "duration": 39,
    "start_time": "2022-07-03T14:31:00.348Z"
   },
   {
    "duration": 530,
    "start_time": "2022-07-03T14:31:00.390Z"
   },
   {
    "duration": 270,
    "start_time": "2022-07-03T14:31:00.922Z"
   },
   {
    "duration": 7,
    "start_time": "2022-07-03T14:31:01.194Z"
   },
   {
    "duration": 18,
    "start_time": "2022-07-03T14:31:01.202Z"
   },
   {
    "duration": 32,
    "start_time": "2022-07-03T14:31:01.221Z"
   },
   {
    "duration": 19,
    "start_time": "2022-07-03T14:31:01.255Z"
   },
   {
    "duration": 30,
    "start_time": "2022-07-03T14:31:01.276Z"
   },
   {
    "duration": 41,
    "start_time": "2022-07-03T14:31:01.308Z"
   },
   {
    "duration": 10,
    "start_time": "2022-07-03T14:31:01.352Z"
   },
   {
    "duration": 10,
    "start_time": "2022-07-03T14:31:01.364Z"
   },
   {
    "duration": 2336,
    "start_time": "2022-07-03T14:31:01.376Z"
   },
   {
    "duration": 2405,
    "start_time": "2022-07-03T14:31:03.714Z"
   },
   {
    "duration": 2448,
    "start_time": "2022-07-03T14:31:06.120Z"
   },
   {
    "duration": 115,
    "start_time": "2022-07-03T14:39:03.054Z"
   },
   {
    "duration": 262,
    "start_time": "2022-07-03T14:39:29.065Z"
   },
   {
    "duration": 1224,
    "start_time": "2022-07-03T14:39:38.456Z"
   },
   {
    "duration": 1204,
    "start_time": "2022-07-03T14:40:14.565Z"
   },
   {
    "duration": 1438,
    "start_time": "2022-07-03T14:40:43.339Z"
   },
   {
    "duration": 1372,
    "start_time": "2022-07-03T14:40:49.639Z"
   },
   {
    "duration": 1630,
    "start_time": "2022-07-03T14:40:56.286Z"
   },
   {
    "duration": 1166,
    "start_time": "2022-07-03T14:43:24.257Z"
   },
   {
    "duration": 1504,
    "start_time": "2022-07-03T14:44:08.170Z"
   },
   {
    "duration": 1212,
    "start_time": "2022-07-03T14:44:17.409Z"
   },
   {
    "duration": 5,
    "start_time": "2022-07-03T14:54:57.910Z"
   },
   {
    "duration": 82,
    "start_time": "2022-07-03T14:57:17.794Z"
   },
   {
    "duration": 97,
    "start_time": "2022-07-03T14:57:33.464Z"
   },
   {
    "duration": 82,
    "start_time": "2022-07-03T14:57:43.409Z"
   },
   {
    "duration": 90,
    "start_time": "2022-07-03T14:57:51.495Z"
   },
   {
    "duration": 184,
    "start_time": "2022-07-03T14:58:15.398Z"
   },
   {
    "duration": 6,
    "start_time": "2022-07-03T14:58:31.869Z"
   },
   {
    "duration": 8,
    "start_time": "2022-07-03T15:00:13.713Z"
   },
   {
    "duration": 8,
    "start_time": "2022-07-03T15:00:19.671Z"
   },
   {
    "duration": 2045,
    "start_time": "2022-07-03T15:01:30.244Z"
   },
   {
    "duration": 2345,
    "start_time": "2022-07-03T15:02:20.704Z"
   },
   {
    "duration": 1780,
    "start_time": "2022-07-03T15:02:45.236Z"
   },
   {
    "duration": 2108,
    "start_time": "2022-07-03T15:05:03.769Z"
   },
   {
    "duration": 10,
    "start_time": "2022-07-03T15:11:46.252Z"
   },
   {
    "duration": 2739,
    "start_time": "2022-07-03T15:12:21.411Z"
   },
   {
    "duration": 3,
    "start_time": "2022-07-03T15:40:08.391Z"
   },
   {
    "duration": 3,
    "start_time": "2022-07-03T15:48:32.431Z"
   },
   {
    "duration": 2,
    "start_time": "2022-07-03T15:48:43.014Z"
   },
   {
    "duration": 2,
    "start_time": "2022-07-03T15:49:03.799Z"
   },
   {
    "duration": 3,
    "start_time": "2022-07-03T15:49:06.741Z"
   },
   {
    "duration": 2,
    "start_time": "2022-07-03T15:49:08.607Z"
   },
   {
    "duration": 99,
    "start_time": "2022-07-03T15:51:38.802Z"
   },
   {
    "duration": 11,
    "start_time": "2022-07-03T15:51:58.799Z"
   },
   {
    "duration": 22,
    "start_time": "2022-07-03T15:52:09.563Z"
   },
   {
    "duration": 5,
    "start_time": "2022-07-03T15:57:10.252Z"
   },
   {
    "duration": 52,
    "start_time": "2022-07-03T15:57:52.528Z"
   },
   {
    "duration": 90,
    "start_time": "2022-07-03T15:58:17.105Z"
   },
   {
    "duration": 11,
    "start_time": "2022-07-03T15:58:38.905Z"
   },
   {
    "duration": 100,
    "start_time": "2022-07-03T15:58:54.864Z"
   },
   {
    "duration": 26,
    "start_time": "2022-07-03T15:59:13.343Z"
   },
   {
    "duration": 18,
    "start_time": "2022-07-03T15:59:31.050Z"
   },
   {
    "duration": 3,
    "start_time": "2022-07-03T16:00:08.214Z"
   },
   {
    "duration": 6,
    "start_time": "2022-07-03T16:00:17.701Z"
   },
   {
    "duration": 1569,
    "start_time": "2022-07-03T16:13:29.933Z"
   },
   {
    "duration": 3,
    "start_time": "2022-07-03T16:13:52.557Z"
   },
   {
    "duration": 4,
    "start_time": "2022-07-03T16:13:52.740Z"
   },
   {
    "duration": 702,
    "start_time": "2022-07-03T16:13:52.969Z"
   },
   {
    "duration": 4,
    "start_time": "2022-07-03T16:13:53.674Z"
   },
   {
    "duration": 464,
    "start_time": "2022-07-03T16:13:53.680Z"
   },
   {
    "duration": 160,
    "start_time": "2022-07-03T16:13:54.146Z"
   },
   {
    "duration": 370,
    "start_time": "2022-07-03T16:13:54.307Z"
   },
   {
    "duration": 20,
    "start_time": "2022-07-03T16:13:54.679Z"
   },
   {
    "duration": 43,
    "start_time": "2022-07-03T16:13:54.701Z"
   },
   {
    "duration": 4,
    "start_time": "2022-07-03T16:13:56.061Z"
   },
   {
    "duration": 13,
    "start_time": "2022-07-03T16:13:56.314Z"
   },
   {
    "duration": 7,
    "start_time": "2022-07-03T16:13:56.570Z"
   },
   {
    "duration": 10,
    "start_time": "2022-07-03T16:13:57.076Z"
   },
   {
    "duration": 8,
    "start_time": "2022-07-03T16:13:57.342Z"
   },
   {
    "duration": 480,
    "start_time": "2022-07-03T16:13:57.563Z"
   },
   {
    "duration": 155,
    "start_time": "2022-07-03T16:13:58.094Z"
   },
   {
    "duration": 6,
    "start_time": "2022-07-03T16:13:58.371Z"
   },
   {
    "duration": 11,
    "start_time": "2022-07-03T16:13:58.831Z"
   },
   {
    "duration": 8,
    "start_time": "2022-07-03T16:14:00.443Z"
   },
   {
    "duration": 4,
    "start_time": "2022-07-03T16:14:16.975Z"
   },
   {
    "duration": 5,
    "start_time": "2022-07-03T16:14:22.259Z"
   },
   {
    "duration": 3,
    "start_time": "2022-07-03T16:14:44.553Z"
   },
   {
    "duration": 5,
    "start_time": "2022-07-03T16:14:44.695Z"
   },
   {
    "duration": 694,
    "start_time": "2022-07-03T16:14:44.849Z"
   },
   {
    "duration": 4,
    "start_time": "2022-07-03T16:14:45.545Z"
   },
   {
    "duration": 382,
    "start_time": "2022-07-03T16:14:45.550Z"
   },
   {
    "duration": 172,
    "start_time": "2022-07-03T16:14:45.935Z"
   },
   {
    "duration": 393,
    "start_time": "2022-07-03T16:14:46.109Z"
   },
   {
    "duration": 38,
    "start_time": "2022-07-03T16:14:46.505Z"
   },
   {
    "duration": 17,
    "start_time": "2022-07-03T16:14:46.545Z"
   },
   {
    "duration": 4,
    "start_time": "2022-07-03T16:14:46.840Z"
   },
   {
    "duration": 10,
    "start_time": "2022-07-03T16:14:47.003Z"
   },
   {
    "duration": 4,
    "start_time": "2022-07-03T16:14:47.152Z"
   },
   {
    "duration": 8,
    "start_time": "2022-07-03T16:14:48.576Z"
   },
   {
    "duration": 8,
    "start_time": "2022-07-03T16:14:48.952Z"
   },
   {
    "duration": 480,
    "start_time": "2022-07-03T16:14:49.171Z"
   },
   {
    "duration": 160,
    "start_time": "2022-07-03T16:14:49.653Z"
   },
   {
    "duration": 7,
    "start_time": "2022-07-03T16:14:50.439Z"
   },
   {
    "duration": 6,
    "start_time": "2022-07-03T16:14:51.308Z"
   },
   {
    "duration": 10,
    "start_time": "2022-07-03T16:14:52.520Z"
   },
   {
    "duration": 7,
    "start_time": "2022-07-03T16:14:52.947Z"
   },
   {
    "duration": 3,
    "start_time": "2022-07-03T16:17:41.220Z"
   },
   {
    "duration": 2,
    "start_time": "2022-07-03T16:17:41.366Z"
   },
   {
    "duration": 738,
    "start_time": "2022-07-03T16:17:41.524Z"
   },
   {
    "duration": 5,
    "start_time": "2022-07-03T16:17:42.264Z"
   },
   {
    "duration": 420,
    "start_time": "2022-07-03T16:17:42.271Z"
   },
   {
    "duration": 194,
    "start_time": "2022-07-03T16:17:42.693Z"
   },
   {
    "duration": 397,
    "start_time": "2022-07-03T16:17:42.888Z"
   },
   {
    "duration": 20,
    "start_time": "2022-07-03T16:17:43.288Z"
   },
   {
    "duration": 27,
    "start_time": "2022-07-03T16:17:43.310Z"
   },
   {
    "duration": 4,
    "start_time": "2022-07-03T16:17:44.519Z"
   },
   {
    "duration": 12,
    "start_time": "2022-07-03T16:17:44.759Z"
   },
   {
    "duration": 4,
    "start_time": "2022-07-03T16:17:44.963Z"
   },
   {
    "duration": 8,
    "start_time": "2022-07-03T16:17:45.256Z"
   },
   {
    "duration": 8,
    "start_time": "2022-07-03T16:17:45.406Z"
   },
   {
    "duration": 651,
    "start_time": "2022-07-03T16:17:46.449Z"
   },
   {
    "duration": 162,
    "start_time": "2022-07-03T16:17:47.352Z"
   },
   {
    "duration": 7,
    "start_time": "2022-07-03T16:17:48.470Z"
   },
   {
    "duration": 19,
    "start_time": "2022-07-03T16:17:49.422Z"
   },
   {
    "duration": 9,
    "start_time": "2022-07-03T16:17:51.709Z"
   },
   {
    "duration": 61,
    "start_time": "2022-07-03T16:17:52.923Z"
   },
   {
    "duration": 4,
    "start_time": "2022-07-03T16:17:59.990Z"
   },
   {
    "duration": 10,
    "start_time": "2022-07-03T16:18:25.143Z"
   },
   {
    "duration": 4,
    "start_time": "2022-07-03T16:18:25.793Z"
   },
   {
    "duration": 17,
    "start_time": "2022-07-03T16:18:44.520Z"
   },
   {
    "duration": 4,
    "start_time": "2022-07-03T16:18:45.111Z"
   },
   {
    "duration": 6,
    "start_time": "2022-07-03T16:18:49.992Z"
   },
   {
    "duration": 9,
    "start_time": "2022-07-03T16:19:35.511Z"
   },
   {
    "duration": 3,
    "start_time": "2022-07-03T16:19:36.311Z"
   },
   {
    "duration": 9,
    "start_time": "2022-07-03T16:20:44.720Z"
   },
   {
    "duration": 6,
    "start_time": "2022-07-03T16:20:48.782Z"
   },
   {
    "duration": 6,
    "start_time": "2022-07-03T16:20:59.380Z"
   },
   {
    "duration": 4,
    "start_time": "2022-07-03T16:21:28.307Z"
   },
   {
    "duration": 3,
    "start_time": "2022-07-03T16:21:30.791Z"
   },
   {
    "duration": 4,
    "start_time": "2022-07-03T16:21:34.167Z"
   },
   {
    "duration": 6,
    "start_time": "2022-07-03T16:21:42.882Z"
   },
   {
    "duration": 15,
    "start_time": "2022-07-03T16:21:57.126Z"
   },
   {
    "duration": 4,
    "start_time": "2022-07-03T16:22:23.898Z"
   },
   {
    "duration": 6,
    "start_time": "2022-07-03T16:22:24.263Z"
   },
   {
    "duration": 2701,
    "start_time": "2022-07-03T16:22:24.970Z"
   },
   {
    "duration": 2849,
    "start_time": "2022-07-03T16:22:29.306Z"
   },
   {
    "duration": 2087,
    "start_time": "2022-07-03T16:22:32.157Z"
   },
   {
    "duration": 1526,
    "start_time": "2022-07-03T16:25:05.821Z"
   },
   {
    "duration": 1570,
    "start_time": "2022-07-03T16:25:38.667Z"
   },
   {
    "duration": 1465,
    "start_time": "2022-07-03T16:26:16.619Z"
   },
   {
    "duration": 4,
    "start_time": "2022-07-03T16:33:51.490Z"
   },
   {
    "duration": 3,
    "start_time": "2022-07-03T16:33:51.735Z"
   },
   {
    "duration": 642,
    "start_time": "2022-07-03T16:33:52.109Z"
   },
   {
    "duration": 4,
    "start_time": "2022-07-03T16:33:52.754Z"
   },
   {
    "duration": 411,
    "start_time": "2022-07-03T16:33:52.759Z"
   },
   {
    "duration": 163,
    "start_time": "2022-07-03T16:33:53.172Z"
   },
   {
    "duration": 362,
    "start_time": "2022-07-03T16:33:53.337Z"
   },
   {
    "duration": 21,
    "start_time": "2022-07-03T16:33:53.842Z"
   },
   {
    "duration": 13,
    "start_time": "2022-07-03T16:33:54.265Z"
   },
   {
    "duration": 4,
    "start_time": "2022-07-03T16:33:55.596Z"
   },
   {
    "duration": 13,
    "start_time": "2022-07-03T16:33:56.527Z"
   },
   {
    "duration": 6,
    "start_time": "2022-07-03T16:33:56.886Z"
   },
   {
    "duration": 8,
    "start_time": "2022-07-03T16:33:57.715Z"
   },
   {
    "duration": 8,
    "start_time": "2022-07-03T16:33:58.060Z"
   },
   {
    "duration": 464,
    "start_time": "2022-07-03T16:33:58.373Z"
   },
   {
    "duration": 145,
    "start_time": "2022-07-03T16:33:59.583Z"
   },
   {
    "duration": 6,
    "start_time": "2022-07-03T16:34:00.356Z"
   },
   {
    "duration": 7,
    "start_time": "2022-07-03T16:34:00.888Z"
   },
   {
    "duration": 7,
    "start_time": "2022-07-03T16:34:02.865Z"
   },
   {
    "duration": 10,
    "start_time": "2022-07-03T16:34:03.500Z"
   },
   {
    "duration": 4,
    "start_time": "2022-07-03T16:34:03.845Z"
   },
   {
    "duration": 4,
    "start_time": "2022-07-03T16:34:05.227Z"
   },
   {
    "duration": 5,
    "start_time": "2022-07-03T16:34:08.694Z"
   },
   {
    "duration": 6,
    "start_time": "2022-07-03T16:34:50.035Z"
   },
   {
    "duration": 15,
    "start_time": "2022-07-03T16:34:58.025Z"
   },
   {
    "duration": 3,
    "start_time": "2022-07-03T16:35:06.468Z"
   },
   {
    "duration": 6,
    "start_time": "2022-07-03T16:35:06.751Z"
   },
   {
    "duration": 2803,
    "start_time": "2022-07-03T16:35:08.787Z"
   },
   {
    "duration": 1972,
    "start_time": "2022-07-03T16:35:11.592Z"
   },
   {
    "duration": 2725,
    "start_time": "2022-07-03T16:35:13.566Z"
   },
   {
    "duration": 1072,
    "start_time": "2022-07-03T16:35:40.231Z"
   },
   {
    "duration": 1853,
    "start_time": "2022-07-03T16:35:41.567Z"
   },
   {
    "duration": 8,
    "start_time": "2022-07-03T16:35:45.905Z"
   },
   {
    "duration": 2099,
    "start_time": "2022-07-03T16:35:46.567Z"
   },
   {
    "duration": 5,
    "start_time": "2022-07-03T16:48:54.645Z"
   },
   {
    "duration": 5,
    "start_time": "2022-07-03T16:49:13.541Z"
   },
   {
    "duration": 5,
    "start_time": "2022-07-03T16:49:24.573Z"
   },
   {
    "duration": 7,
    "start_time": "2022-07-03T16:49:47.243Z"
   },
   {
    "duration": 2138,
    "start_time": "2022-07-03T16:50:21.351Z"
   },
   {
    "duration": 1812,
    "start_time": "2022-07-03T16:50:51.960Z"
   },
   {
    "duration": 5,
    "start_time": "2022-07-03T16:57:18.903Z"
   },
   {
    "duration": 6,
    "start_time": "2022-07-03T16:58:34.055Z"
   },
   {
    "duration": 5,
    "start_time": "2022-07-03T16:58:43.304Z"
   },
   {
    "duration": 9,
    "start_time": "2022-07-03T16:59:45.594Z"
   },
   {
    "duration": 2747,
    "start_time": "2022-07-03T16:59:47.990Z"
   },
   {
    "duration": 11,
    "start_time": "2022-07-03T17:09:55.491Z"
   },
   {
    "duration": 11,
    "start_time": "2022-07-03T17:10:02.924Z"
   },
   {
    "duration": 13,
    "start_time": "2022-07-03T17:10:11.301Z"
   },
   {
    "duration": 3,
    "start_time": "2022-07-03T17:10:34.890Z"
   },
   {
    "duration": 9,
    "start_time": "2022-07-03T17:10:45.704Z"
   },
   {
    "duration": 9,
    "start_time": "2022-07-03T17:11:39.159Z"
   },
   {
    "duration": 1985,
    "start_time": "2022-07-03T17:11:39.938Z"
   },
   {
    "duration": 9,
    "start_time": "2022-07-03T17:12:45.800Z"
   },
   {
    "duration": 2805,
    "start_time": "2022-07-03T17:12:48.013Z"
   },
   {
    "duration": 12,
    "start_time": "2022-07-03T17:13:55.548Z"
   },
   {
    "duration": 2002,
    "start_time": "2022-07-03T17:13:55.562Z"
   },
   {
    "duration": 12,
    "start_time": "2022-07-03T17:16:24.135Z"
   },
   {
    "duration": 3018,
    "start_time": "2022-07-03T17:16:24.576Z"
   },
   {
    "duration": 16,
    "start_time": "2022-07-03T17:20:56.632Z"
   },
   {
    "duration": 2013,
    "start_time": "2022-07-03T17:20:57.086Z"
   },
   {
    "duration": 3,
    "start_time": "2022-07-03T17:21:38.835Z"
   },
   {
    "duration": 4,
    "start_time": "2022-07-03T17:40:09.619Z"
   },
   {
    "duration": 52,
    "start_time": "2022-07-03T17:40:50.756Z"
   },
   {
    "duration": 8,
    "start_time": "2022-07-03T17:41:29.999Z"
   },
   {
    "duration": 11,
    "start_time": "2022-07-03T17:44:32.224Z"
   },
   {
    "duration": 9,
    "start_time": "2022-07-03T17:44:45.302Z"
   },
   {
    "duration": 23,
    "start_time": "2022-07-03T17:45:08.814Z"
   },
   {
    "duration": 10,
    "start_time": "2022-07-03T17:49:42.600Z"
   },
   {
    "duration": 1902,
    "start_time": "2022-07-03T17:50:26.358Z"
   },
   {
    "duration": 1124,
    "start_time": "2022-07-03T17:52:07.707Z"
   },
   {
    "duration": 4,
    "start_time": "2022-07-03T17:53:55.889Z"
   },
   {
    "duration": 10571,
    "start_time": "2022-07-03T17:54:01.091Z"
   },
   {
    "duration": 17,
    "start_time": "2022-07-03T18:02:29.144Z"
   },
   {
    "duration": 2038,
    "start_time": "2022-07-03T18:02:45.319Z"
   },
   {
    "duration": 16,
    "start_time": "2022-07-03T18:02:59.838Z"
   },
   {
    "duration": 13,
    "start_time": "2022-07-03T18:03:36.368Z"
   },
   {
    "duration": 1966,
    "start_time": "2022-07-03T18:03:47.891Z"
   },
   {
    "duration": 5,
    "start_time": "2022-07-03T18:03:55.591Z"
   },
   {
    "duration": 22,
    "start_time": "2022-07-03T18:05:04.412Z"
   },
   {
    "duration": 8,
    "start_time": "2022-07-03T18:05:06.439Z"
   },
   {
    "duration": 12,
    "start_time": "2022-07-03T18:05:16.600Z"
   },
   {
    "duration": 4,
    "start_time": "2022-07-03T18:05:20.881Z"
   },
   {
    "duration": 8,
    "start_time": "2022-07-03T19:06:27.426Z"
   },
   {
    "duration": 2018,
    "start_time": "2022-07-03T19:06:37.098Z"
   },
   {
    "duration": 8,
    "start_time": "2022-07-03T19:06:56.827Z"
   },
   {
    "duration": 760,
    "start_time": "2022-07-03T19:07:54.670Z"
   },
   {
    "duration": 11505,
    "start_time": "2022-07-03T19:08:00.912Z"
   },
   {
    "duration": 98,
    "start_time": "2022-07-03T19:32:45.290Z"
   },
   {
    "duration": 7,
    "start_time": "2022-07-03T19:33:15.367Z"
   },
   {
    "duration": 103,
    "start_time": "2022-07-03T19:33:22.308Z"
   },
   {
    "duration": 4,
    "start_time": "2022-07-03T19:34:50.054Z"
   },
   {
    "duration": 3,
    "start_time": "2022-07-03T19:34:50.773Z"
   },
   {
    "duration": 209,
    "start_time": "2022-07-03T19:34:57.458Z"
   },
   {
    "duration": 2085779,
    "start_time": "2022-07-03T19:35:11.690Z"
   },
   {
    "duration": 4,
    "start_time": "2022-07-03T20:09:57.471Z"
   },
   {
    "duration": 11,
    "start_time": "2022-07-03T20:09:57.477Z"
   },
   {
    "duration": 11,
    "start_time": "2022-07-03T20:09:57.490Z"
   },
   {
    "duration": 8,
    "start_time": "2022-07-03T20:09:57.502Z"
   },
   {
    "duration": 0,
    "start_time": "2022-07-03T20:09:57.525Z"
   },
   {
    "duration": 0,
    "start_time": "2022-07-03T20:09:57.534Z"
   },
   {
    "duration": 5,
    "start_time": "2022-07-03T20:09:57.534Z"
   },
   {
    "duration": 0,
    "start_time": "2022-07-03T20:09:57.539Z"
   },
   {
    "duration": 83,
    "start_time": "2022-07-03T20:10:03.637Z"
   },
   {
    "duration": 43,
    "start_time": "2022-07-03T20:10:12.819Z"
   },
   {
    "duration": 480714,
    "start_time": "2022-07-03T20:10:20.381Z"
   },
   {
    "duration": 8,
    "start_time": "2022-07-03T20:18:21.097Z"
   },
   {
    "duration": 12,
    "start_time": "2022-07-03T20:18:21.142Z"
   },
   {
    "duration": 458841,
    "start_time": "2022-07-03T20:18:57.874Z"
   },
   {
    "duration": 16,
    "start_time": "2022-07-03T20:26:36.717Z"
   },
   {
    "duration": 12,
    "start_time": "2022-07-03T20:27:55.611Z"
   },
   {
    "duration": 11,
    "start_time": "2022-07-03T20:27:56.366Z"
   },
   {
    "duration": 2023,
    "start_time": "2022-07-03T20:28:00.411Z"
   },
   {
    "duration": 2,
    "start_time": "2022-07-03T20:28:04.201Z"
   },
   {
    "duration": 526,
    "start_time": "2022-07-03T20:28:04.405Z"
   },
   {
    "duration": 2,
    "start_time": "2022-07-03T20:28:05.027Z"
   },
   {
    "duration": 11414,
    "start_time": "2022-07-03T20:28:05.869Z"
   },
   {
    "duration": 535,
    "start_time": "2022-07-03T20:28:44.807Z"
   },
   {
    "duration": 9,
    "start_time": "2022-07-03T20:28:56.374Z"
   },
   {
    "duration": 10,
    "start_time": "2022-07-03T20:29:09.732Z"
   },
   {
    "duration": 2,
    "start_time": "2022-07-03T20:30:16.478Z"
   },
   {
    "duration": 8,
    "start_time": "2022-07-03T20:30:20.162Z"
   },
   {
    "duration": 4,
    "start_time": "2022-07-03T20:30:51.728Z"
   },
   {
    "duration": 2,
    "start_time": "2022-07-03T20:31:03.299Z"
   },
   {
    "duration": 12,
    "start_time": "2022-07-03T20:31:04.908Z"
   },
   {
    "duration": 19,
    "start_time": "2022-07-03T20:31:05.131Z"
   },
   {
    "duration": 2126,
    "start_time": "2022-07-03T20:31:06.204Z"
   },
   {
    "duration": 3,
    "start_time": "2022-07-03T20:31:08.332Z"
   },
   {
    "duration": 591,
    "start_time": "2022-07-03T20:31:08.336Z"
   },
   {
    "duration": 2,
    "start_time": "2022-07-03T20:31:08.929Z"
   },
   {
    "duration": 5482,
    "start_time": "2022-07-03T20:31:08.933Z"
   },
   {
    "duration": 0,
    "start_time": "2022-07-03T20:31:14.417Z"
   },
   {
    "duration": 0,
    "start_time": "2022-07-03T20:31:14.418Z"
   },
   {
    "duration": 1,
    "start_time": "2022-07-03T20:31:14.424Z"
   },
   {
    "duration": 11362,
    "start_time": "2022-07-03T20:31:17.403Z"
   },
   {
    "duration": 523,
    "start_time": "2022-07-03T20:32:07.562Z"
   },
   {
    "duration": 9,
    "start_time": "2022-07-03T20:32:12.985Z"
   },
   {
    "duration": 6,
    "start_time": "2022-07-03T20:32:38.683Z"
   },
   {
    "duration": 1292,
    "start_time": "2022-07-03T20:32:47.820Z"
   },
   {
    "duration": 8,
    "start_time": "2022-07-03T20:35:13.500Z"
   },
   {
    "duration": 8,
    "start_time": "2022-07-03T20:35:22.807Z"
   },
   {
    "duration": 7,
    "start_time": "2022-07-03T20:35:37.935Z"
   },
   {
    "duration": 14,
    "start_time": "2022-07-03T20:35:52.362Z"
   },
   {
    "duration": 2,
    "start_time": "2022-07-03T20:41:02.384Z"
   },
   {
    "duration": 3,
    "start_time": "2022-07-03T20:41:03.411Z"
   },
   {
    "duration": 537,
    "start_time": "2022-07-03T20:41:10.032Z"
   },
   {
    "duration": 9,
    "start_time": "2022-07-03T20:41:11.098Z"
   },
   {
    "duration": 9,
    "start_time": "2022-07-03T20:41:59.214Z"
   },
   {
    "duration": 14,
    "start_time": "2022-07-03T20:48:04.899Z"
   },
   {
    "duration": 8,
    "start_time": "2022-07-03T20:48:16.385Z"
   },
   {
    "duration": 8,
    "start_time": "2022-07-03T20:48:24.702Z"
   },
   {
    "duration": 10,
    "start_time": "2022-07-03T20:48:28.783Z"
   },
   {
    "duration": 9158,
    "start_time": "2022-07-03T20:51:54.082Z"
   },
   {
    "duration": 15,
    "start_time": "2022-07-03T20:52:04.873Z"
   },
   {
    "duration": 9,
    "start_time": "2022-07-03T20:52:08.280Z"
   },
   {
    "duration": 7051,
    "start_time": "2022-07-03T20:52:29.477Z"
   },
   {
    "duration": 17,
    "start_time": "2022-07-03T20:52:36.531Z"
   },
   {
    "duration": 8684,
    "start_time": "2022-07-03T20:52:47.472Z"
   },
   {
    "duration": 15,
    "start_time": "2022-07-03T20:52:56.158Z"
   },
   {
    "duration": 9,
    "start_time": "2022-07-03T20:52:56.174Z"
   },
   {
    "duration": 8894,
    "start_time": "2022-07-03T20:53:04.581Z"
   },
   {
    "duration": 13,
    "start_time": "2022-07-03T20:53:13.477Z"
   },
   {
    "duration": 9,
    "start_time": "2022-07-03T20:53:13.492Z"
   },
   {
    "duration": 7218,
    "start_time": "2022-07-03T20:53:22.188Z"
   },
   {
    "duration": 11,
    "start_time": "2022-07-03T20:53:29.408Z"
   },
   {
    "duration": 8,
    "start_time": "2022-07-03T20:53:29.425Z"
   },
   {
    "duration": 8782,
    "start_time": "2022-07-03T20:53:37.423Z"
   },
   {
    "duration": 19,
    "start_time": "2022-07-03T20:53:46.207Z"
   },
   {
    "duration": 423632,
    "start_time": "2022-07-03T20:54:08.269Z"
   },
   {
    "duration": 29242,
    "start_time": "2022-07-03T21:01:16.669Z"
   },
   {
    "duration": 101,
    "start_time": "2022-07-03T21:02:00.072Z"
   },
   {
    "duration": 4,
    "start_time": "2022-07-03T21:02:28.788Z"
   },
   {
    "duration": 1525945,
    "start_time": "2022-07-03T21:02:35.740Z"
   },
   {
    "duration": 13,
    "start_time": "2022-07-03T21:28:01.746Z"
   },
   {
    "duration": 8535,
    "start_time": "2022-07-03T21:28:09.413Z"
   },
   {
    "duration": 1724,
    "start_time": "2022-07-03T21:28:21.319Z"
   },
   {
    "duration": 11,
    "start_time": "2022-07-03T21:28:25.596Z"
   },
   {
    "duration": 8,
    "start_time": "2022-07-03T21:28:28.647Z"
   },
   {
    "duration": 9,
    "start_time": "2022-07-03T21:29:16.252Z"
   },
   {
    "duration": 10,
    "start_time": "2022-07-03T21:29:49.223Z"
   },
   {
    "duration": 9,
    "start_time": "2022-07-03T21:30:00.065Z"
   },
   {
    "duration": 16168,
    "start_time": "2022-07-03T21:30:33.800Z"
   },
   {
    "duration": 8218,
    "start_time": "2022-07-03T21:31:27.117Z"
   },
   {
    "duration": 10,
    "start_time": "2022-07-03T21:31:37.179Z"
   },
   {
    "duration": 9,
    "start_time": "2022-07-03T21:31:47.395Z"
   },
   {
    "duration": 15,
    "start_time": "2022-07-03T21:31:50.405Z"
   },
   {
    "duration": 2966,
    "start_time": "2022-07-03T21:33:04.311Z"
   },
   {
    "duration": 14,
    "start_time": "2022-07-03T21:33:11.883Z"
   },
   {
    "duration": 10,
    "start_time": "2022-07-03T21:33:14.020Z"
   },
   {
    "duration": 11124,
    "start_time": "2022-07-03T21:34:07.849Z"
   },
   {
    "duration": 40133,
    "start_time": "2022-07-03T21:34:55.862Z"
   },
   {
    "duration": 8,
    "start_time": "2022-07-03T21:35:35.996Z"
   },
   {
    "duration": 40384,
    "start_time": "2022-07-03T21:35:38.290Z"
   },
   {
    "duration": 1324,
    "start_time": "2022-07-03T21:41:43.475Z"
   },
   {
    "duration": 3,
    "start_time": "2022-07-03T21:41:44.801Z"
   },
   {
    "duration": 668,
    "start_time": "2022-07-03T21:41:44.806Z"
   },
   {
    "duration": 3,
    "start_time": "2022-07-03T21:41:45.477Z"
   },
   {
    "duration": 361,
    "start_time": "2022-07-03T21:41:45.482Z"
   },
   {
    "duration": 155,
    "start_time": "2022-07-03T21:41:45.845Z"
   },
   {
    "duration": 351,
    "start_time": "2022-07-03T21:41:46.002Z"
   },
   {
    "duration": 20,
    "start_time": "2022-07-03T21:41:46.355Z"
   },
   {
    "duration": 12,
    "start_time": "2022-07-03T21:41:46.376Z"
   },
   {
    "duration": 5,
    "start_time": "2022-07-03T21:41:46.390Z"
   },
   {
    "duration": 36,
    "start_time": "2022-07-03T21:41:46.396Z"
   },
   {
    "duration": 4,
    "start_time": "2022-07-03T21:41:46.434Z"
   },
   {
    "duration": 9,
    "start_time": "2022-07-03T21:41:46.440Z"
   },
   {
    "duration": 7,
    "start_time": "2022-07-03T21:41:46.450Z"
   },
   {
    "duration": 505,
    "start_time": "2022-07-03T21:41:46.459Z"
   },
   {
    "duration": 220,
    "start_time": "2022-07-03T21:41:46.966Z"
   },
   {
    "duration": 6,
    "start_time": "2022-07-03T21:41:47.188Z"
   },
   {
    "duration": 16,
    "start_time": "2022-07-03T21:41:47.196Z"
   },
   {
    "duration": 28,
    "start_time": "2022-07-03T21:41:47.213Z"
   },
   {
    "duration": 10,
    "start_time": "2022-07-03T21:41:47.243Z"
   },
   {
    "duration": 4,
    "start_time": "2022-07-03T21:41:47.254Z"
   },
   {
    "duration": 12,
    "start_time": "2022-07-03T21:41:47.260Z"
   },
   {
    "duration": 18,
    "start_time": "2022-07-03T21:41:47.274Z"
   },
   {
    "duration": 16,
    "start_time": "2022-07-03T21:41:47.294Z"
   },
   {
    "duration": 22,
    "start_time": "2022-07-03T21:41:47.311Z"
   },
   {
    "duration": 3,
    "start_time": "2022-07-03T21:41:47.335Z"
   },
   {
    "duration": 16,
    "start_time": "2022-07-03T21:41:47.339Z"
   },
   {
    "duration": 2072,
    "start_time": "2022-07-03T21:41:47.358Z"
   },
   {
    "duration": 2223,
    "start_time": "2022-07-03T21:41:49.431Z"
   },
   {
    "duration": 2147,
    "start_time": "2022-07-03T21:41:51.656Z"
   },
   {
    "duration": 1225,
    "start_time": "2022-07-03T21:41:53.805Z"
   },
   {
    "duration": 1126,
    "start_time": "2022-07-03T21:41:55.032Z"
   },
   {
    "duration": 11,
    "start_time": "2022-07-03T21:41:56.160Z"
   },
   {
    "duration": 2033,
    "start_time": "2022-07-03T21:41:56.172Z"
   },
   {
    "duration": 4,
    "start_time": "2022-07-03T21:41:58.206Z"
   },
   {
    "duration": 14,
    "start_time": "2022-07-03T21:41:58.211Z"
   },
   {
    "duration": 18,
    "start_time": "2022-07-03T21:41:58.227Z"
   },
   {
    "duration": 12,
    "start_time": "2022-07-03T21:41:58.246Z"
   },
   {
    "duration": 1995,
    "start_time": "2022-07-03T21:41:58.259Z"
   },
   {
    "duration": 3,
    "start_time": "2022-07-03T21:42:00.255Z"
   },
   {
    "duration": 568,
    "start_time": "2022-07-03T21:42:00.259Z"
   },
   {
    "duration": 2,
    "start_time": "2022-07-03T21:42:00.829Z"
   },
   {
    "duration": 11624,
    "start_time": "2022-07-03T21:42:00.833Z"
   },
   {
    "duration": 40668,
    "start_time": "2022-07-03T21:42:12.459Z"
   },
   {
    "duration": 1559,
    "start_time": "2022-07-03T21:42:53.128Z"
   },
   {
    "duration": 9,
    "start_time": "2022-07-03T21:42:54.689Z"
   },
   {
    "duration": 7,
    "start_time": "2022-07-03T21:42:54.700Z"
   },
   {
    "duration": 1467,
    "start_time": "2022-07-03T21:45:04.749Z"
   },
   {
    "duration": 10,
    "start_time": "2022-07-03T21:45:06.981Z"
   },
   {
    "duration": 9,
    "start_time": "2022-07-03T21:45:08.401Z"
   },
   {
    "duration": 1491,
    "start_time": "2022-07-03T21:46:15.011Z"
   },
   {
    "duration": 10,
    "start_time": "2022-07-03T21:46:18.686Z"
   },
   {
    "duration": 8280,
    "start_time": "2022-07-03T21:46:27.923Z"
   },
   {
    "duration": 22,
    "start_time": "2022-07-03T21:46:36.204Z"
   },
   {
    "duration": 6755,
    "start_time": "2022-07-03T21:46:46.122Z"
   },
   {
    "duration": 13,
    "start_time": "2022-07-03T21:46:52.878Z"
   },
   {
    "duration": 8338,
    "start_time": "2022-07-03T21:47:00.850Z"
   },
   {
    "duration": 61912,
    "start_time": "2022-07-03T21:47:18.663Z"
   },
   {
    "duration": 8583,
    "start_time": "2022-07-03T21:48:20.578Z"
   },
   {
    "duration": 15,
    "start_time": "2022-07-03T21:48:29.163Z"
   },
   {
    "duration": 7996,
    "start_time": "2022-07-03T21:48:58.631Z"
   },
   {
    "duration": 13,
    "start_time": "2022-07-03T21:49:06.629Z"
   },
   {
    "duration": 8321,
    "start_time": "2022-07-03T21:49:16.517Z"
   },
   {
    "duration": 14,
    "start_time": "2022-07-03T21:49:25.651Z"
   },
   {
    "duration": 7950,
    "start_time": "2022-07-03T21:49:50.982Z"
   },
   {
    "duration": 14,
    "start_time": "2022-07-03T21:49:58.934Z"
   },
   {
    "duration": 1312,
    "start_time": "2022-07-03T21:50:16.830Z"
   },
   {
    "duration": 2,
    "start_time": "2022-07-03T21:50:18.144Z"
   },
   {
    "duration": 648,
    "start_time": "2022-07-03T21:50:18.147Z"
   },
   {
    "duration": 3,
    "start_time": "2022-07-03T21:50:18.797Z"
   },
   {
    "duration": 369,
    "start_time": "2022-07-03T21:50:18.802Z"
   },
   {
    "duration": 158,
    "start_time": "2022-07-03T21:50:19.173Z"
   },
   {
    "duration": 352,
    "start_time": "2022-07-03T21:50:19.332Z"
   },
   {
    "duration": 19,
    "start_time": "2022-07-03T21:50:19.686Z"
   },
   {
    "duration": 29,
    "start_time": "2022-07-03T21:50:19.706Z"
   },
   {
    "duration": 6,
    "start_time": "2022-07-03T21:50:19.737Z"
   },
   {
    "duration": 16,
    "start_time": "2022-07-03T21:50:19.744Z"
   },
   {
    "duration": 5,
    "start_time": "2022-07-03T21:50:19.761Z"
   },
   {
    "duration": 15,
    "start_time": "2022-07-03T21:50:19.767Z"
   },
   {
    "duration": 7,
    "start_time": "2022-07-03T21:50:19.783Z"
   },
   {
    "duration": 488,
    "start_time": "2022-07-03T21:50:19.791Z"
   },
   {
    "duration": 229,
    "start_time": "2022-07-03T21:50:20.280Z"
   },
   {
    "duration": 6,
    "start_time": "2022-07-03T21:50:20.511Z"
   },
   {
    "duration": 6,
    "start_time": "2022-07-03T21:50:20.525Z"
   },
   {
    "duration": 10,
    "start_time": "2022-07-03T21:50:20.533Z"
   },
   {
    "duration": 9,
    "start_time": "2022-07-03T21:50:20.544Z"
   },
   {
    "duration": 4,
    "start_time": "2022-07-03T21:50:20.554Z"
   },
   {
    "duration": 4,
    "start_time": "2022-07-03T21:50:20.559Z"
   },
   {
    "duration": 7,
    "start_time": "2022-07-03T21:50:20.565Z"
   },
   {
    "duration": 9,
    "start_time": "2022-07-03T21:50:20.574Z"
   },
   {
    "duration": 43,
    "start_time": "2022-07-03T21:50:20.584Z"
   },
   {
    "duration": 4,
    "start_time": "2022-07-03T21:50:20.629Z"
   },
   {
    "duration": 11,
    "start_time": "2022-07-03T21:50:20.634Z"
   },
   {
    "duration": 2109,
    "start_time": "2022-07-03T21:50:20.648Z"
   },
   {
    "duration": 2245,
    "start_time": "2022-07-03T21:50:22.758Z"
   },
   {
    "duration": 2166,
    "start_time": "2022-07-03T21:50:25.005Z"
   },
   {
    "duration": 1221,
    "start_time": "2022-07-03T21:50:27.173Z"
   },
   {
    "duration": 1235,
    "start_time": "2022-07-03T21:50:28.396Z"
   },
   {
    "duration": 11,
    "start_time": "2022-07-03T21:50:29.633Z"
   },
   {
    "duration": 2160,
    "start_time": "2022-07-03T21:50:29.646Z"
   },
   {
    "duration": 3,
    "start_time": "2022-07-03T21:50:31.807Z"
   },
   {
    "duration": 14,
    "start_time": "2022-07-03T21:50:31.812Z"
   },
   {
    "duration": 20,
    "start_time": "2022-07-03T21:50:31.828Z"
   },
   {
    "duration": 11,
    "start_time": "2022-07-03T21:50:31.850Z"
   },
   {
    "duration": 1982,
    "start_time": "2022-07-03T21:50:31.862Z"
   },
   {
    "duration": 2,
    "start_time": "2022-07-03T21:50:33.846Z"
   },
   {
    "duration": 477,
    "start_time": "2022-07-03T21:50:33.849Z"
   },
   {
    "duration": 3,
    "start_time": "2022-07-03T21:50:34.328Z"
   },
   {
    "duration": 11666,
    "start_time": "2022-07-03T21:50:34.332Z"
   },
   {
    "duration": 61989,
    "start_time": "2022-07-03T21:50:46.000Z"
   },
   {
    "duration": 8072,
    "start_time": "2022-07-03T21:51:47.991Z"
   },
   {
    "duration": 13,
    "start_time": "2022-07-03T21:51:56.065Z"
   },
   {
    "duration": 7,
    "start_time": "2022-07-03T21:51:56.080Z"
   },
   {
    "duration": 4,
    "start_time": "2022-07-03T22:00:21.534Z"
   },
   {
    "duration": 3,
    "start_time": "2022-07-03T22:00:45.215Z"
   },
   {
    "duration": 3,
    "start_time": "2022-07-03T22:04:21.764Z"
   },
   {
    "duration": 111,
    "start_time": "2022-07-03T22:05:33.919Z"
   },
   {
    "duration": 3,
    "start_time": "2022-07-03T22:05:41.516Z"
   },
   {
    "duration": 1995,
    "start_time": "2022-07-03T22:05:45.247Z"
   },
   {
    "duration": 2,
    "start_time": "2022-07-03T22:05:47.244Z"
   },
   {
    "duration": 679,
    "start_time": "2022-07-03T22:05:47.247Z"
   },
   {
    "duration": 3,
    "start_time": "2022-07-03T22:05:47.928Z"
   },
   {
    "duration": 11634,
    "start_time": "2022-07-03T22:05:47.932Z"
   },
   {
    "duration": 64167,
    "start_time": "2022-07-03T22:06:20.143Z"
   },
   {
    "duration": 8098,
    "start_time": "2022-07-03T22:07:24.312Z"
   },
   {
    "duration": 22,
    "start_time": "2022-07-03T22:07:32.412Z"
   },
   {
    "duration": 9,
    "start_time": "2022-07-03T22:07:32.436Z"
   },
   {
    "duration": 14,
    "start_time": "2022-07-03T22:08:16.342Z"
   },
   {
    "duration": 14,
    "start_time": "2022-07-03T22:08:56.920Z"
   },
   {
    "duration": 14,
    "start_time": "2022-07-03T22:09:27.116Z"
   },
   {
    "duration": 8,
    "start_time": "2022-07-03T22:09:30.331Z"
   },
   {
    "duration": 3,
    "start_time": "2022-07-03T22:09:37.151Z"
   },
   {
    "duration": 7,
    "start_time": "2022-07-03T22:10:18.087Z"
   },
   {
    "duration": 8392,
    "start_time": "2022-07-03T22:11:01.335Z"
   },
   {
    "duration": 16,
    "start_time": "2022-07-03T22:11:11.665Z"
   },
   {
    "duration": 15,
    "start_time": "2022-07-03T22:11:11.969Z"
   },
   {
    "duration": 8,
    "start_time": "2022-07-03T22:11:12.720Z"
   },
   {
    "duration": 8,
    "start_time": "2022-07-03T22:11:13.453Z"
   },
   {
    "duration": 2431,
    "start_time": "2022-07-03T22:11:31.287Z"
   },
   {
    "duration": 11,
    "start_time": "2022-07-03T22:11:33.721Z"
   },
   {
    "duration": 11,
    "start_time": "2022-07-03T22:11:33.733Z"
   },
   {
    "duration": 8,
    "start_time": "2022-07-03T22:11:33.745Z"
   },
   {
    "duration": 6,
    "start_time": "2022-07-03T22:11:33.754Z"
   },
   {
    "duration": 8347,
    "start_time": "2022-07-03T22:11:45.622Z"
   },
   {
    "duration": 16,
    "start_time": "2022-07-03T22:11:53.971Z"
   },
   {
    "duration": 14,
    "start_time": "2022-07-03T22:11:53.989Z"
   },
   {
    "duration": 28,
    "start_time": "2022-07-03T22:11:54.004Z"
   },
   {
    "duration": 8,
    "start_time": "2022-07-03T22:11:54.034Z"
   },
   {
    "duration": 8511,
    "start_time": "2022-07-03T22:12:00.638Z"
   },
   {
    "duration": 16,
    "start_time": "2022-07-03T22:12:25.927Z"
   },
   {
    "duration": 208611,
    "start_time": "2022-07-03T22:12:29.176Z"
   },
   {
    "duration": 8378,
    "start_time": "2022-07-03T22:15:57.789Z"
   },
   {
    "duration": 15,
    "start_time": "2022-07-03T22:16:06.169Z"
   },
   {
    "duration": 15,
    "start_time": "2022-07-03T22:16:06.186Z"
   },
   {
    "duration": 25,
    "start_time": "2022-07-03T22:16:06.203Z"
   },
   {
    "duration": 8,
    "start_time": "2022-07-03T22:16:06.229Z"
   },
   {
    "duration": 3,
    "start_time": "2022-07-03T22:17:19.802Z"
   },
   {
    "duration": 12,
    "start_time": "2022-07-03T22:17:20.226Z"
   },
   {
    "duration": 8121,
    "start_time": "2022-07-03T22:17:39.676Z"
   },
   {
    "duration": 16,
    "start_time": "2022-07-03T22:17:49.538Z"
   },
   {
    "duration": 16,
    "start_time": "2022-07-03T22:17:53.631Z"
   },
   {
    "duration": 141370,
    "start_time": "2022-07-03T22:18:19.869Z"
   },
   {
    "duration": 8513,
    "start_time": "2022-07-03T22:20:48.372Z"
   },
   {
    "duration": 14,
    "start_time": "2022-07-03T22:20:56.887Z"
   },
   {
    "duration": 25,
    "start_time": "2022-07-03T22:20:56.903Z"
   },
   {
    "duration": 8,
    "start_time": "2022-07-03T22:20:56.930Z"
   },
   {
    "duration": 12,
    "start_time": "2022-07-03T22:20:56.939Z"
   },
   {
    "duration": 1362,
    "start_time": "2022-07-03T22:21:47.453Z"
   },
   {
    "duration": 9,
    "start_time": "2022-07-03T22:21:48.817Z"
   },
   {
    "duration": 763,
    "start_time": "2022-07-03T22:21:48.827Z"
   },
   {
    "duration": 4,
    "start_time": "2022-07-03T22:21:49.592Z"
   },
   {
    "duration": 364,
    "start_time": "2022-07-03T22:21:49.598Z"
   },
   {
    "duration": 170,
    "start_time": "2022-07-03T22:21:49.963Z"
   },
   {
    "duration": 364,
    "start_time": "2022-07-03T22:21:50.135Z"
   },
   {
    "duration": 40,
    "start_time": "2022-07-03T22:21:50.501Z"
   },
   {
    "duration": 13,
    "start_time": "2022-07-03T22:21:50.543Z"
   },
   {
    "duration": 5,
    "start_time": "2022-07-03T22:21:50.559Z"
   },
   {
    "duration": 13,
    "start_time": "2022-07-03T22:21:50.565Z"
   },
   {
    "duration": 5,
    "start_time": "2022-07-03T22:21:50.579Z"
   },
   {
    "duration": 44,
    "start_time": "2022-07-03T22:21:50.585Z"
   },
   {
    "duration": 8,
    "start_time": "2022-07-03T22:21:50.631Z"
   },
   {
    "duration": 494,
    "start_time": "2022-07-03T22:21:50.640Z"
   },
   {
    "duration": 226,
    "start_time": "2022-07-03T22:21:51.135Z"
   },
   {
    "duration": 7,
    "start_time": "2022-07-03T22:21:51.363Z"
   },
   {
    "duration": 7,
    "start_time": "2022-07-03T22:21:51.371Z"
   },
   {
    "duration": 10,
    "start_time": "2022-07-03T22:21:51.380Z"
   },
   {
    "duration": 34,
    "start_time": "2022-07-03T22:21:51.392Z"
   },
   {
    "duration": 4,
    "start_time": "2022-07-03T22:21:51.428Z"
   },
   {
    "duration": 6,
    "start_time": "2022-07-03T22:21:51.433Z"
   },
   {
    "duration": 7,
    "start_time": "2022-07-03T22:21:51.440Z"
   },
   {
    "duration": 8,
    "start_time": "2022-07-03T22:21:51.448Z"
   },
   {
    "duration": 16,
    "start_time": "2022-07-03T22:21:51.458Z"
   },
   {
    "duration": 3,
    "start_time": "2022-07-03T22:21:51.476Z"
   },
   {
    "duration": 6,
    "start_time": "2022-07-03T22:21:51.481Z"
   },
   {
    "duration": 2081,
    "start_time": "2022-07-03T22:21:51.490Z"
   },
   {
    "duration": 2313,
    "start_time": "2022-07-03T22:21:53.573Z"
   },
   {
    "duration": 2231,
    "start_time": "2022-07-03T22:21:55.887Z"
   },
   {
    "duration": 1264,
    "start_time": "2022-07-03T22:21:58.120Z"
   },
   {
    "duration": 1196,
    "start_time": "2022-07-03T22:21:59.386Z"
   },
   {
    "duration": 12,
    "start_time": "2022-07-03T22:22:00.583Z"
   },
   {
    "duration": 2175,
    "start_time": "2022-07-03T22:22:00.597Z"
   },
   {
    "duration": 3,
    "start_time": "2022-07-03T22:22:02.774Z"
   },
   {
    "duration": 9,
    "start_time": "2022-07-03T22:22:02.778Z"
   },
   {
    "duration": 6,
    "start_time": "2022-07-03T22:22:02.789Z"
   },
   {
    "duration": 22,
    "start_time": "2022-07-03T22:22:02.797Z"
   },
   {
    "duration": 12,
    "start_time": "2022-07-03T22:22:02.826Z"
   },
   {
    "duration": 2037,
    "start_time": "2022-07-03T22:22:02.839Z"
   },
   {
    "duration": 2,
    "start_time": "2022-07-03T22:22:04.878Z"
   },
   {
    "duration": 649,
    "start_time": "2022-07-03T22:22:04.882Z"
   },
   {
    "duration": 92,
    "start_time": "2022-07-03T22:22:05.533Z"
   },
   {
    "duration": 11748,
    "start_time": "2022-07-03T22:22:05.627Z"
   },
   {
    "duration": 432648,
    "start_time": "2022-07-03T22:22:17.377Z"
   },
   {
    "duration": 7356,
    "start_time": "2022-07-03T22:29:30.028Z"
   },
   {
    "duration": 14,
    "start_time": "2022-07-03T22:29:37.385Z"
   },
   {
    "duration": 11,
    "start_time": "2022-07-03T22:29:37.401Z"
   },
   {
    "duration": 7,
    "start_time": "2022-07-03T22:29:37.426Z"
   },
   {
    "duration": 6,
    "start_time": "2022-07-03T22:29:37.434Z"
   },
   {
    "duration": 7338,
    "start_time": "2022-07-03T22:30:01.424Z"
   },
   {
    "duration": 18,
    "start_time": "2022-07-03T22:30:16.600Z"
   },
   {
    "duration": 15,
    "start_time": "2022-07-03T22:30:18.674Z"
   },
   {
    "duration": 1391,
    "start_time": "2022-07-03T22:30:48.510Z"
   },
   {
    "duration": 3,
    "start_time": "2022-07-03T22:30:49.903Z"
   },
   {
    "duration": 692,
    "start_time": "2022-07-03T22:30:49.907Z"
   },
   {
    "duration": 4,
    "start_time": "2022-07-03T22:30:50.601Z"
   },
   {
    "duration": 401,
    "start_time": "2022-07-03T22:30:50.607Z"
   },
   {
    "duration": 171,
    "start_time": "2022-07-03T22:30:51.010Z"
   },
   {
    "duration": 374,
    "start_time": "2022-07-03T22:30:51.182Z"
   },
   {
    "duration": 21,
    "start_time": "2022-07-03T22:30:51.558Z"
   },
   {
    "duration": 13,
    "start_time": "2022-07-03T22:30:51.580Z"
   },
   {
    "duration": 6,
    "start_time": "2022-07-03T22:30:51.595Z"
   },
   {
    "duration": 11,
    "start_time": "2022-07-03T22:30:51.625Z"
   },
   {
    "duration": 5,
    "start_time": "2022-07-03T22:30:51.637Z"
   },
   {
    "duration": 8,
    "start_time": "2022-07-03T22:30:51.643Z"
   },
   {
    "duration": 7,
    "start_time": "2022-07-03T22:30:51.653Z"
   },
   {
    "duration": 501,
    "start_time": "2022-07-03T22:30:51.662Z"
   },
   {
    "duration": 238,
    "start_time": "2022-07-03T22:30:52.164Z"
   },
   {
    "duration": 6,
    "start_time": "2022-07-03T22:30:52.403Z"
   },
   {
    "duration": 16,
    "start_time": "2022-07-03T22:30:52.411Z"
   },
   {
    "duration": 11,
    "start_time": "2022-07-03T22:30:52.428Z"
   },
   {
    "duration": 11,
    "start_time": "2022-07-03T22:30:52.441Z"
   },
   {
    "duration": 4,
    "start_time": "2022-07-03T22:30:52.453Z"
   },
   {
    "duration": 5,
    "start_time": "2022-07-03T22:30:52.459Z"
   },
   {
    "duration": 6,
    "start_time": "2022-07-03T22:30:52.465Z"
   },
   {
    "duration": 8,
    "start_time": "2022-07-03T22:30:52.472Z"
   },
   {
    "duration": 57,
    "start_time": "2022-07-03T22:30:52.481Z"
   },
   {
    "duration": 4,
    "start_time": "2022-07-03T22:30:52.540Z"
   },
   {
    "duration": 7,
    "start_time": "2022-07-03T22:30:52.546Z"
   },
   {
    "duration": 2215,
    "start_time": "2022-07-03T22:30:52.556Z"
   },
   {
    "duration": 2254,
    "start_time": "2022-07-03T22:30:54.773Z"
   },
   {
    "duration": 2152,
    "start_time": "2022-07-03T22:30:57.029Z"
   },
   {
    "duration": 1209,
    "start_time": "2022-07-03T22:30:59.183Z"
   },
   {
    "duration": 1218,
    "start_time": "2022-07-03T22:31:00.393Z"
   },
   {
    "duration": 21,
    "start_time": "2022-07-03T22:31:01.612Z"
   },
   {
    "duration": 2132,
    "start_time": "2022-07-03T22:31:01.635Z"
   },
   {
    "duration": 4,
    "start_time": "2022-07-03T22:31:03.769Z"
   },
   {
    "duration": 6,
    "start_time": "2022-07-03T22:31:03.774Z"
   },
   {
    "duration": 5,
    "start_time": "2022-07-03T22:31:03.782Z"
   },
   {
    "duration": 37,
    "start_time": "2022-07-03T22:31:03.788Z"
   },
   {
    "duration": 12,
    "start_time": "2022-07-03T22:31:03.827Z"
   },
   {
    "duration": 2048,
    "start_time": "2022-07-03T22:31:03.841Z"
   },
   {
    "duration": 2,
    "start_time": "2022-07-03T22:31:05.891Z"
   },
   {
    "duration": 635,
    "start_time": "2022-07-03T22:31:05.895Z"
   },
   {
    "duration": 92,
    "start_time": "2022-07-03T22:31:06.534Z"
   },
   {
    "duration": 11676,
    "start_time": "2022-07-03T22:31:06.628Z"
   },
   {
    "duration": 285792,
    "start_time": "2022-07-03T22:31:18.307Z"
   },
   {
    "duration": 7394,
    "start_time": "2022-07-03T22:36:04.101Z"
   },
   {
    "duration": 16,
    "start_time": "2022-07-03T22:36:11.497Z"
   },
   {
    "duration": 22,
    "start_time": "2022-07-03T22:36:11.514Z"
   },
   {
    "duration": 8,
    "start_time": "2022-07-03T22:36:11.537Z"
   },
   {
    "duration": 6,
    "start_time": "2022-07-03T22:36:11.547Z"
   },
   {
    "duration": 226183,
    "start_time": "2022-07-03T22:36:24.999Z"
   },
   {
    "duration": 9627,
    "start_time": "2022-07-03T22:40:11.184Z"
   },
   {
    "duration": 16,
    "start_time": "2022-07-03T22:40:20.812Z"
   },
   {
    "duration": 16,
    "start_time": "2022-07-03T22:40:20.830Z"
   },
   {
    "duration": 10,
    "start_time": "2022-07-03T22:40:20.848Z"
   },
   {
    "duration": 7,
    "start_time": "2022-07-03T22:40:20.859Z"
   },
   {
    "duration": 1882,
    "start_time": "2022-07-04T12:39:41.655Z"
   },
   {
    "duration": 3,
    "start_time": "2022-07-04T12:39:43.539Z"
   },
   {
    "duration": 726,
    "start_time": "2022-07-04T12:39:43.544Z"
   },
   {
    "duration": 4,
    "start_time": "2022-07-04T12:39:44.272Z"
   },
   {
    "duration": 431,
    "start_time": "2022-07-04T12:39:44.279Z"
   },
   {
    "duration": 198,
    "start_time": "2022-07-04T12:39:44.712Z"
   },
   {
    "duration": 410,
    "start_time": "2022-07-04T12:39:44.912Z"
   },
   {
    "duration": 29,
    "start_time": "2022-07-04T12:39:45.324Z"
   },
   {
    "duration": 13,
    "start_time": "2022-07-04T12:39:45.355Z"
   },
   {
    "duration": 5,
    "start_time": "2022-07-04T12:39:45.370Z"
   },
   {
    "duration": 15,
    "start_time": "2022-07-04T12:39:45.378Z"
   },
   {
    "duration": 6,
    "start_time": "2022-07-04T12:39:45.395Z"
   },
   {
    "duration": 47,
    "start_time": "2022-07-04T12:39:45.403Z"
   },
   {
    "duration": 8,
    "start_time": "2022-07-04T12:39:45.453Z"
   },
   {
    "duration": 563,
    "start_time": "2022-07-04T12:39:45.463Z"
   },
   {
    "duration": 259,
    "start_time": "2022-07-04T12:39:46.028Z"
   },
   {
    "duration": 7,
    "start_time": "2022-07-04T12:39:46.289Z"
   },
   {
    "duration": 13,
    "start_time": "2022-07-04T12:39:46.297Z"
   },
   {
    "duration": 31,
    "start_time": "2022-07-04T12:39:46.312Z"
   },
   {
    "duration": 11,
    "start_time": "2022-07-04T12:39:46.346Z"
   },
   {
    "duration": 5,
    "start_time": "2022-07-04T12:39:46.359Z"
   },
   {
    "duration": 11,
    "start_time": "2022-07-04T12:39:46.365Z"
   },
   {
    "duration": 8,
    "start_time": "2022-07-04T12:39:46.378Z"
   },
   {
    "duration": 12,
    "start_time": "2022-07-04T12:39:46.388Z"
   },
   {
    "duration": 43,
    "start_time": "2022-07-04T12:39:46.402Z"
   },
   {
    "duration": 5,
    "start_time": "2022-07-04T12:39:46.447Z"
   },
   {
    "duration": 13,
    "start_time": "2022-07-04T12:39:46.454Z"
   },
   {
    "duration": 2499,
    "start_time": "2022-07-04T12:39:46.469Z"
   },
   {
    "duration": 2631,
    "start_time": "2022-07-04T12:39:48.971Z"
   },
   {
    "duration": 2471,
    "start_time": "2022-07-04T12:39:51.604Z"
   },
   {
    "duration": 329,
    "start_time": "2022-07-04T12:40:03.478Z"
   },
   {
    "duration": 1212,
    "start_time": "2022-07-04T12:40:18.749Z"
   },
   {
    "duration": 1771,
    "start_time": "2022-07-04T12:50:35.185Z"
   },
   {
    "duration": 4,
    "start_time": "2022-07-04T12:50:36.958Z"
   },
   {
    "duration": 923,
    "start_time": "2022-07-04T12:50:36.964Z"
   },
   {
    "duration": 6,
    "start_time": "2022-07-04T12:50:37.891Z"
   },
   {
    "duration": 493,
    "start_time": "2022-07-04T12:50:37.899Z"
   },
   {
    "duration": 208,
    "start_time": "2022-07-04T12:50:38.394Z"
   },
   {
    "duration": 491,
    "start_time": "2022-07-04T12:50:38.605Z"
   },
   {
    "duration": 29,
    "start_time": "2022-07-04T12:50:39.098Z"
   },
   {
    "duration": 22,
    "start_time": "2022-07-04T12:50:39.145Z"
   },
   {
    "duration": 15,
    "start_time": "2022-07-04T12:50:39.171Z"
   },
   {
    "duration": 29,
    "start_time": "2022-07-04T12:50:39.188Z"
   },
   {
    "duration": 6,
    "start_time": "2022-07-04T12:50:39.220Z"
   },
   {
    "duration": 28,
    "start_time": "2022-07-04T12:50:39.228Z"
   },
   {
    "duration": 25,
    "start_time": "2022-07-04T12:50:39.261Z"
   },
   {
    "duration": 787,
    "start_time": "2022-07-04T12:50:39.290Z"
   },
   {
    "duration": 282,
    "start_time": "2022-07-04T12:50:40.081Z"
   },
   {
    "duration": 7,
    "start_time": "2022-07-04T12:50:40.365Z"
   },
   {
    "duration": 12,
    "start_time": "2022-07-04T12:50:40.374Z"
   },
   {
    "duration": 17,
    "start_time": "2022-07-04T12:50:40.389Z"
   },
   {
    "duration": 14,
    "start_time": "2022-07-04T12:50:40.408Z"
   },
   {
    "duration": 20,
    "start_time": "2022-07-04T12:50:40.423Z"
   },
   {
    "duration": 29,
    "start_time": "2022-07-04T12:50:40.445Z"
   },
   {
    "duration": 7,
    "start_time": "2022-07-04T12:50:40.476Z"
   },
   {
    "duration": 12,
    "start_time": "2022-07-04T12:50:40.485Z"
   },
   {
    "duration": 20,
    "start_time": "2022-07-04T12:50:40.498Z"
   },
   {
    "duration": 6,
    "start_time": "2022-07-04T12:50:40.520Z"
   },
   {
    "duration": 28,
    "start_time": "2022-07-04T12:50:40.545Z"
   },
   {
    "duration": 2742,
    "start_time": "2022-07-04T12:50:40.577Z"
   },
   {
    "duration": 2964,
    "start_time": "2022-07-04T12:50:43.321Z"
   },
   {
    "duration": 1507,
    "start_time": "2022-07-04T12:50:50.597Z"
   },
   {
    "duration": 1384,
    "start_time": "2022-07-04T12:50:52.106Z"
   },
   {
    "duration": 17,
    "start_time": "2022-07-04T12:50:53.492Z"
   },
   {
    "duration": 2789,
    "start_time": "2022-07-04T12:50:53.514Z"
   },
   {
    "duration": 4,
    "start_time": "2022-07-04T12:50:56.306Z"
   },
   {
    "duration": 14,
    "start_time": "2022-07-04T12:50:56.312Z"
   },
   {
    "duration": 6,
    "start_time": "2022-07-04T12:50:56.328Z"
   },
   {
    "duration": 29,
    "start_time": "2022-07-04T12:50:56.336Z"
   },
   {
    "duration": 14,
    "start_time": "2022-07-04T12:50:56.367Z"
   },
   {
    "duration": 2426,
    "start_time": "2022-07-04T12:50:56.382Z"
   },
   {
    "duration": 3,
    "start_time": "2022-07-04T12:50:58.810Z"
   },
   {
    "duration": 2534,
    "start_time": "2022-07-04T12:50:58.815Z"
   },
   {
    "duration": 5,
    "start_time": "2022-07-04T12:51:01.353Z"
   },
   {
    "duration": 14166,
    "start_time": "2022-07-04T12:51:01.360Z"
   },
   {
    "duration": 265583,
    "start_time": "2022-07-04T12:51:15.528Z"
   },
   {
    "duration": 11339,
    "start_time": "2022-07-04T12:55:41.113Z"
   },
   {
    "duration": 23,
    "start_time": "2022-07-04T12:55:52.456Z"
   },
   {
    "duration": 18,
    "start_time": "2022-07-04T12:55:52.481Z"
   },
   {
    "duration": 13,
    "start_time": "2022-07-04T12:55:52.501Z"
   },
   {
    "duration": 34,
    "start_time": "2022-07-04T12:55:52.516Z"
   },
   {
    "duration": 111,
    "start_time": "2022-07-04T14:23:30.160Z"
   }
  ],
  "kernelspec": {
   "display_name": "Python 3 (ipykernel)",
   "language": "python",
   "name": "python3"
  },
  "language_info": {
   "codemirror_mode": {
    "name": "ipython",
    "version": 3
   },
   "file_extension": ".py",
   "mimetype": "text/x-python",
   "name": "python",
   "nbconvert_exporter": "python",
   "pygments_lexer": "ipython3",
   "version": "3.7.8"
  },
  "toc": {
   "base_numbering": 1,
   "nav_menu": {},
   "number_sections": true,
   "sideBar": true,
   "skip_h1_title": true,
   "title_cell": "Содержание",
   "title_sidebar": "Contents",
   "toc_cell": true,
   "toc_position": {},
   "toc_section_display": true,
   "toc_window_display": false
  }
 },
 "nbformat": 4,
 "nbformat_minor": 2
}
