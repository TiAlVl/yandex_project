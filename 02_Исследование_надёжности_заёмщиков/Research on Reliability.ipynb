{
 "cells": [
  {
   "cell_type": "markdown",
   "id": "a20eeda6",
   "metadata": {},
   "source": [
    "# Описание проекта: Исследование надежности заемщиков.\n",
    "\n",
    "Заказчик — кредитный отдел банка.\n"
   ]
  },
  {
   "cell_type": "markdown",
   "id": "9897cc38",
   "metadata": {},
   "source": [
    " \n",
    "\n",
    "**Цель исследования** — проверить гипотезу:\n",
    "Нужно разобраться, влияет ли семейное положение и количество детей клиента на факт погашения кредита в срок. \n",
    "\n",
    "**Ход исследования**\n",
    "Входные данные от банка — статистика о платёжеспособности клиентов.\n",
    "Результаты исследования будут учтены при построении модели кредитного скоринга — специальной системы, которая оценивает способность потенциального заёмщика вернуть кредит банку.\n"
   ]
  },
  {
   "cell_type": "markdown",
   "id": "ab00b0ea",
   "metadata": {},
   "source": [
    "### Шаг 1. Обзор данных"
   ]
  },
  {
   "cell_type": "markdown",
   "id": "731e5fc4",
   "metadata": {},
   "source": [
    " Смотрим первые 10 строк в таблице"
   ]
  },
  {
   "cell_type": "code",
   "execution_count": 1,
   "id": "f4588e86",
   "metadata": {},
   "outputs": [],
   "source": [
    "import pandas as pd\n",
    "#data = pd.read_csv('/datasets/data.csv')\n",
    "#print(data.sort_values(by='days_employed'))"
   ]
  },
  {
   "cell_type": "code",
   "execution_count": 2,
   "id": "72d871ec",
   "metadata": {},
   "outputs": [
    {
     "name": "stdout",
     "output_type": "stream",
     "text": [
      "       children  days_employed  dob_years education  education_id  \\\n",
      "16335         1  -18388.949901         61   среднее             1   \n",
      "4299          0  -17615.563266         61   среднее             1   \n",
      "7329          0  -16593.472817         60    высшее             0   \n",
      "17838         0  -16264.699501         59   среднее             1   \n",
      "16825         0  -16119.687737         64   среднее             1   \n",
      "...         ...            ...        ...       ...           ...   \n",
      "21489         2            NaN         47   Среднее             1   \n",
      "21495         1            NaN         50   среднее             1   \n",
      "21497         0            NaN         48    ВЫСШЕЕ             0   \n",
      "21502         1            NaN         42   среднее             1   \n",
      "21510         2            NaN         28   среднее             1   \n",
      "\n",
      "          family_status  family_status_id gender income_type  debt  \\\n",
      "16335   женат / замужем                 0      F   сотрудник     0   \n",
      "4299    женат / замужем                 0      F   компаньон     0   \n",
      "7329    женат / замужем                 0      F   сотрудник     0   \n",
      "17838   женат / замужем                 0      F   сотрудник     0   \n",
      "16825   женат / замужем                 0      F   сотрудник     0   \n",
      "...                 ...               ...    ...         ...   ...   \n",
      "21489   женат / замужем                 0      M   компаньон     0   \n",
      "21495  гражданский брак                 1      F   сотрудник     0   \n",
      "21497   женат / замужем                 0      F   компаньон     0   \n",
      "21502   женат / замужем                 0      F   сотрудник     0   \n",
      "21510   женат / замужем                 0      F   сотрудник     0   \n",
      "\n",
      "        total_income                           purpose  \n",
      "16335  186178.934089          операции с недвижимостью  \n",
      "4299   122560.741753                     покупка жилья  \n",
      "7329   124697.846781      заняться высшим образованием  \n",
      "17838   51238.967133             на покупку автомобиля  \n",
      "16825   91527.685995        покупка жилой недвижимости  \n",
      "...              ...                               ...  \n",
      "21489            NaN              сделка с автомобилем  \n",
      "21495            NaN                           свадьба  \n",
      "21497            NaN        строительство недвижимости  \n",
      "21502            NaN  строительство жилой недвижимости  \n",
      "21510            NaN           приобретение автомобиля  \n",
      "\n",
      "[21525 rows x 12 columns]\n"
     ]
    }
   ],
   "source": [
    "data = pd.read_csv('/datasets/data.csv')\n",
    "print(data.sort_values(by='days_employed'))"
   ]
  },
  {
   "cell_type": "markdown",
   "id": "1699f0bd",
   "metadata": {},
   "source": [
    "Почему-то в столбце со стажем работы присутствуют отрицательные значения. \n",
    "В столбцах о стаже работы и ежемесячном доходе имеются пропуски типа NaN"
   ]
  },
  {
   "cell_type": "markdown",
   "id": "07dbef68",
   "metadata": {},
   "source": [
    "Общая информация по датафрейму: стобцам, типам данных, количеству записей "
   ]
  },
  {
   "cell_type": "code",
   "execution_count": 3,
   "id": "40e1f78c",
   "metadata": {},
   "outputs": [
    {
     "name": "stdout",
     "output_type": "stream",
     "text": [
      "<class 'pandas.core.frame.DataFrame'>\n",
      "RangeIndex: 21525 entries, 0 to 21524\n",
      "Data columns (total 12 columns):\n",
      "children            21525 non-null int64\n",
      "days_employed       19351 non-null float64\n",
      "dob_years           21525 non-null int64\n",
      "education           21525 non-null object\n",
      "education_id        21525 non-null int64\n",
      "family_status       21525 non-null object\n",
      "family_status_id    21525 non-null int64\n",
      "gender              21525 non-null object\n",
      "income_type         21525 non-null object\n",
      "debt                21525 non-null int64\n",
      "total_income        19351 non-null float64\n",
      "purpose             21525 non-null object\n",
      "dtypes: float64(2), int64(5), object(5)\n",
      "memory usage: 2.0+ MB\n"
     ]
    }
   ],
   "source": [
    "data.info()"
   ]
  },
  {
   "cell_type": "markdown",
   "id": "9f1a0848",
   "metadata": {},
   "source": [
    "проверяем на наличие пропусков"
   ]
  },
  {
   "cell_type": "code",
   "execution_count": 4,
   "id": "299745d2",
   "metadata": {},
   "outputs": [
    {
     "data": {
      "text/plain": [
       "children               0\n",
       "days_employed       2174\n",
       "dob_years              0\n",
       "education              0\n",
       "education_id           0\n",
       "family_status          0\n",
       "family_status_id       0\n",
       "gender                 0\n",
       "income_type            0\n",
       "debt                   0\n",
       "total_income        2174\n",
       "purpose                0\n",
       "dtype: int64"
      ]
     },
     "execution_count": 4,
     "metadata": {},
     "output_type": "execute_result"
    }
   ],
   "source": [
    "data.isna().sum()"
   ]
  },
  {
   "cell_type": "markdown",
   "id": "1dbd74fd",
   "metadata": {},
   "source": [
    "пропуски в наличии в двух столбцах в одинаковом количестве 2174 штуки, поэтому вероятно встречаются одновременно в строке"
   ]
  },
  {
   "cell_type": "code",
   "execution_count": 5,
   "id": "5182b6b0",
   "metadata": {},
   "outputs": [
    {
     "data": {
      "text/html": [
       "<div>\n",
       "<style scoped>\n",
       "    .dataframe tbody tr th:only-of-type {\n",
       "        vertical-align: middle;\n",
       "    }\n",
       "\n",
       "    .dataframe tbody tr th {\n",
       "        vertical-align: top;\n",
       "    }\n",
       "\n",
       "    .dataframe thead th {\n",
       "        text-align: right;\n",
       "    }\n",
       "</style>\n",
       "<table border=\"1\" class=\"dataframe\">\n",
       "  <thead>\n",
       "    <tr style=\"text-align: right;\">\n",
       "      <th></th>\n",
       "      <th>children</th>\n",
       "      <th>days_employed</th>\n",
       "      <th>dob_years</th>\n",
       "      <th>education</th>\n",
       "      <th>education_id</th>\n",
       "      <th>family_status</th>\n",
       "      <th>family_status_id</th>\n",
       "      <th>gender</th>\n",
       "      <th>income_type</th>\n",
       "      <th>debt</th>\n",
       "      <th>total_income</th>\n",
       "      <th>purpose</th>\n",
       "    </tr>\n",
       "  </thead>\n",
       "  <tbody>\n",
       "    <tr>\n",
       "      <td>12</td>\n",
       "      <td>0</td>\n",
       "      <td>NaN</td>\n",
       "      <td>65</td>\n",
       "      <td>среднее</td>\n",
       "      <td>1</td>\n",
       "      <td>гражданский брак</td>\n",
       "      <td>1</td>\n",
       "      <td>M</td>\n",
       "      <td>пенсионер</td>\n",
       "      <td>0</td>\n",
       "      <td>NaN</td>\n",
       "      <td>сыграть свадьбу</td>\n",
       "    </tr>\n",
       "    <tr>\n",
       "      <td>26</td>\n",
       "      <td>0</td>\n",
       "      <td>NaN</td>\n",
       "      <td>41</td>\n",
       "      <td>среднее</td>\n",
       "      <td>1</td>\n",
       "      <td>женат / замужем</td>\n",
       "      <td>0</td>\n",
       "      <td>M</td>\n",
       "      <td>госслужащий</td>\n",
       "      <td>0</td>\n",
       "      <td>NaN</td>\n",
       "      <td>образование</td>\n",
       "    </tr>\n",
       "    <tr>\n",
       "      <td>29</td>\n",
       "      <td>0</td>\n",
       "      <td>NaN</td>\n",
       "      <td>63</td>\n",
       "      <td>среднее</td>\n",
       "      <td>1</td>\n",
       "      <td>Не женат / не замужем</td>\n",
       "      <td>4</td>\n",
       "      <td>F</td>\n",
       "      <td>пенсионер</td>\n",
       "      <td>0</td>\n",
       "      <td>NaN</td>\n",
       "      <td>строительство жилой недвижимости</td>\n",
       "    </tr>\n",
       "    <tr>\n",
       "      <td>41</td>\n",
       "      <td>0</td>\n",
       "      <td>NaN</td>\n",
       "      <td>50</td>\n",
       "      <td>среднее</td>\n",
       "      <td>1</td>\n",
       "      <td>женат / замужем</td>\n",
       "      <td>0</td>\n",
       "      <td>F</td>\n",
       "      <td>госслужащий</td>\n",
       "      <td>0</td>\n",
       "      <td>NaN</td>\n",
       "      <td>сделка с подержанным автомобилем</td>\n",
       "    </tr>\n",
       "    <tr>\n",
       "      <td>55</td>\n",
       "      <td>0</td>\n",
       "      <td>NaN</td>\n",
       "      <td>54</td>\n",
       "      <td>среднее</td>\n",
       "      <td>1</td>\n",
       "      <td>гражданский брак</td>\n",
       "      <td>1</td>\n",
       "      <td>F</td>\n",
       "      <td>пенсионер</td>\n",
       "      <td>1</td>\n",
       "      <td>NaN</td>\n",
       "      <td>сыграть свадьбу</td>\n",
       "    </tr>\n",
       "    <tr>\n",
       "      <td>...</td>\n",
       "      <td>...</td>\n",
       "      <td>...</td>\n",
       "      <td>...</td>\n",
       "      <td>...</td>\n",
       "      <td>...</td>\n",
       "      <td>...</td>\n",
       "      <td>...</td>\n",
       "      <td>...</td>\n",
       "      <td>...</td>\n",
       "      <td>...</td>\n",
       "      <td>...</td>\n",
       "      <td>...</td>\n",
       "    </tr>\n",
       "    <tr>\n",
       "      <td>21489</td>\n",
       "      <td>2</td>\n",
       "      <td>NaN</td>\n",
       "      <td>47</td>\n",
       "      <td>Среднее</td>\n",
       "      <td>1</td>\n",
       "      <td>женат / замужем</td>\n",
       "      <td>0</td>\n",
       "      <td>M</td>\n",
       "      <td>компаньон</td>\n",
       "      <td>0</td>\n",
       "      <td>NaN</td>\n",
       "      <td>сделка с автомобилем</td>\n",
       "    </tr>\n",
       "    <tr>\n",
       "      <td>21495</td>\n",
       "      <td>1</td>\n",
       "      <td>NaN</td>\n",
       "      <td>50</td>\n",
       "      <td>среднее</td>\n",
       "      <td>1</td>\n",
       "      <td>гражданский брак</td>\n",
       "      <td>1</td>\n",
       "      <td>F</td>\n",
       "      <td>сотрудник</td>\n",
       "      <td>0</td>\n",
       "      <td>NaN</td>\n",
       "      <td>свадьба</td>\n",
       "    </tr>\n",
       "    <tr>\n",
       "      <td>21497</td>\n",
       "      <td>0</td>\n",
       "      <td>NaN</td>\n",
       "      <td>48</td>\n",
       "      <td>ВЫСШЕЕ</td>\n",
       "      <td>0</td>\n",
       "      <td>женат / замужем</td>\n",
       "      <td>0</td>\n",
       "      <td>F</td>\n",
       "      <td>компаньон</td>\n",
       "      <td>0</td>\n",
       "      <td>NaN</td>\n",
       "      <td>строительство недвижимости</td>\n",
       "    </tr>\n",
       "    <tr>\n",
       "      <td>21502</td>\n",
       "      <td>1</td>\n",
       "      <td>NaN</td>\n",
       "      <td>42</td>\n",
       "      <td>среднее</td>\n",
       "      <td>1</td>\n",
       "      <td>женат / замужем</td>\n",
       "      <td>0</td>\n",
       "      <td>F</td>\n",
       "      <td>сотрудник</td>\n",
       "      <td>0</td>\n",
       "      <td>NaN</td>\n",
       "      <td>строительство жилой недвижимости</td>\n",
       "    </tr>\n",
       "    <tr>\n",
       "      <td>21510</td>\n",
       "      <td>2</td>\n",
       "      <td>NaN</td>\n",
       "      <td>28</td>\n",
       "      <td>среднее</td>\n",
       "      <td>1</td>\n",
       "      <td>женат / замужем</td>\n",
       "      <td>0</td>\n",
       "      <td>F</td>\n",
       "      <td>сотрудник</td>\n",
       "      <td>0</td>\n",
       "      <td>NaN</td>\n",
       "      <td>приобретение автомобиля</td>\n",
       "    </tr>\n",
       "  </tbody>\n",
       "</table>\n",
       "<p>2174 rows × 12 columns</p>\n",
       "</div>"
      ],
      "text/plain": [
       "       children  days_employed  dob_years education  education_id  \\\n",
       "12            0            NaN         65   среднее             1   \n",
       "26            0            NaN         41   среднее             1   \n",
       "29            0            NaN         63   среднее             1   \n",
       "41            0            NaN         50   среднее             1   \n",
       "55            0            NaN         54   среднее             1   \n",
       "...         ...            ...        ...       ...           ...   \n",
       "21489         2            NaN         47   Среднее             1   \n",
       "21495         1            NaN         50   среднее             1   \n",
       "21497         0            NaN         48    ВЫСШЕЕ             0   \n",
       "21502         1            NaN         42   среднее             1   \n",
       "21510         2            NaN         28   среднее             1   \n",
       "\n",
       "               family_status  family_status_id gender  income_type  debt  \\\n",
       "12          гражданский брак                 1      M    пенсионер     0   \n",
       "26           женат / замужем                 0      M  госслужащий     0   \n",
       "29     Не женат / не замужем                 4      F    пенсионер     0   \n",
       "41           женат / замужем                 0      F  госслужащий     0   \n",
       "55          гражданский брак                 1      F    пенсионер     1   \n",
       "...                      ...               ...    ...          ...   ...   \n",
       "21489        женат / замужем                 0      M    компаньон     0   \n",
       "21495       гражданский брак                 1      F    сотрудник     0   \n",
       "21497        женат / замужем                 0      F    компаньон     0   \n",
       "21502        женат / замужем                 0      F    сотрудник     0   \n",
       "21510        женат / замужем                 0      F    сотрудник     0   \n",
       "\n",
       "       total_income                           purpose  \n",
       "12              NaN                   сыграть свадьбу  \n",
       "26              NaN                       образование  \n",
       "29              NaN  строительство жилой недвижимости  \n",
       "41              NaN  сделка с подержанным автомобилем  \n",
       "55              NaN                   сыграть свадьбу  \n",
       "...             ...                               ...  \n",
       "21489           NaN              сделка с автомобилем  \n",
       "21495           NaN                           свадьба  \n",
       "21497           NaN        строительство недвижимости  \n",
       "21502           NaN  строительство жилой недвижимости  \n",
       "21510           NaN           приобретение автомобиля  \n",
       "\n",
       "[2174 rows x 12 columns]"
      ]
     },
     "execution_count": 5,
     "metadata": {},
     "output_type": "execute_result"
    }
   ],
   "source": [
    "#len(data['days_employed'].unique())\n",
    "data[(data['days_employed'].isna() & data['total_income'].isna())]"
   ]
  },
  {
   "cell_type": "markdown",
   "id": "8ca417c2",
   "metadata": {},
   "source": [
    "Количество \"нанов\" не изменилось. так же 2174 штуки. Значит пропуски в строке встерчаются одновременно и в столбце days_employed, и в столбце total_income\n",
    "\n",
    "Доля нанов в таблице составляет:\n"
   ]
  },
  {
   "cell_type": "code",
   "execution_count": 6,
   "id": "c47289f5",
   "metadata": {},
   "outputs": [
    {
     "data": {
      "text/plain": [
       "10.099883855981417"
      ]
     },
     "execution_count": 6,
     "metadata": {},
     "output_type": "execute_result"
    }
   ],
   "source": [
    "(1-(data['days_employed'].count()/data['education_id'].count()))*100"
   ]
  },
  {
   "cell_type": "markdown",
   "id": "0be68683",
   "metadata": {},
   "source": [
    "10 процентов не указано о стаже работы и ежемесячном доходе, существенное значение."
   ]
  },
  {
   "cell_type": "code",
   "execution_count": 7,
   "id": "64176c14",
   "metadata": {},
   "outputs": [
    {
     "data": {
      "text/plain": [
       "children            0.000000\n",
       "days_employed       0.100999\n",
       "dob_years           0.000000\n",
       "education           0.000000\n",
       "education_id        0.000000\n",
       "family_status       0.000000\n",
       "family_status_id    0.000000\n",
       "gender              0.000000\n",
       "income_type         0.000000\n",
       "debt                0.000000\n",
       "total_income        0.100999\n",
       "purpose             0.000000\n",
       "dtype: float64"
      ]
     },
     "execution_count": 7,
     "metadata": {},
     "output_type": "execute_result"
    }
   ],
   "source": [
    "data.isna().mean() # код по твоему совету)"
   ]
  },
  {
   "cell_type": "markdown",
   "id": "8fb6e2dc",
   "metadata": {},
   "source": [
    "Средний возраст клиента, который не указал данных о доходе и стаже"
   ]
  },
  {
   "cell_type": "code",
   "execution_count": 8,
   "id": "2eef6032",
   "metadata": {},
   "outputs": [
    {
     "data": {
      "text/plain": [
       "43"
      ]
     },
     "execution_count": 8,
     "metadata": {},
     "output_type": "execute_result"
    }
   ],
   "source": [
    "int(data[data['days_employed'].isna()]['dob_years'].mean())"
   ]
  },
  {
   "cell_type": "markdown",
   "id": "3363e1e8",
   "metadata": {},
   "source": [
    "43 года - сознательные граждане, странно"
   ]
  },
  {
   "cell_type": "code",
   "execution_count": 9,
   "id": "f4004165",
   "metadata": {},
   "outputs": [
    {
     "data": {
      "text/plain": [
       "73"
      ]
     },
     "execution_count": 9,
     "metadata": {},
     "output_type": "execute_result"
    }
   ],
   "source": [
    "data[data['days_employed'].isna()]['dob_years'].max() "
   ]
  },
  {
   "cell_type": "markdown",
   "id": "dd93dcad",
   "metadata": {},
   "source": [
    "максимальный возраст заемщика 73 года"
   ]
  },
  {
   "cell_type": "code",
   "execution_count": 10,
   "id": "376d57db",
   "metadata": {},
   "outputs": [
    {
     "data": {
      "text/plain": [
       "0"
      ]
     },
     "execution_count": 10,
     "metadata": {},
     "output_type": "execute_result"
    }
   ],
   "source": [
    "data[data['days_employed'].isna()]['dob_years'].min() "
   ]
  },
  {
   "cell_type": "markdown",
   "id": "ff7ce106",
   "metadata": {},
   "source": [
    "кто - то не указал, либо указал 0 в графе возраст"
   ]
  },
  {
   "cell_type": "code",
   "execution_count": 11,
   "id": "78291ea7",
   "metadata": {},
   "outputs": [
    {
     "data": {
      "text/plain": [
       "10"
      ]
     },
     "execution_count": 11,
     "metadata": {},
     "output_type": "execute_result"
    }
   ],
   "source": [
    "data[(data['days_employed'].isna()) & (data['dob_years']==0)]['dob_years'].count()"
   ]
  },
  {
   "cell_type": "markdown",
   "id": "8f8bf273",
   "metadata": {},
   "source": [
    "Таких 10 человек"
   ]
  },
  {
   "cell_type": "code",
   "execution_count": 12,
   "id": "206745b0",
   "metadata": {},
   "outputs": [
    {
     "data": {
      "text/plain": [
       "0.0516769159216578"
      ]
     },
     "execution_count": 12,
     "metadata": {},
     "output_type": "execute_result"
    }
   ],
   "source": [
    "(data[(data['days_employed'].isna()) & (data['dob_years']==0)]['dob_years'].count()/data['days_employed'].count())*100"
   ]
  },
  {
   "cell_type": "markdown",
   "id": "1efae6b6",
   "metadata": {},
   "source": [
    "половина сотой процента. думаю вряд ли это существенно скажется на среднем возрасте"
   ]
  },
  {
   "cell_type": "code",
   "execution_count": 13,
   "id": "3274c81c",
   "metadata": {},
   "outputs": [
    {
     "data": {
      "text/plain": [
       "101"
      ]
     },
     "execution_count": 13,
     "metadata": {},
     "output_type": "execute_result"
    }
   ],
   "source": [
    "len(data[data['dob_years'] == 0])\n"
   ]
  },
  {
   "cell_type": "markdown",
   "id": "2e96c7c7",
   "metadata": {},
   "source": [
    "всего в датасете всего 101 нулевое значение в столбце возраста"
   ]
  },
  {
   "cell_type": "code",
   "execution_count": 14,
   "id": "9cb25e6c",
   "metadata": {},
   "outputs": [
    {
     "data": {
      "text/plain": [
       "0.5219368508087437"
      ]
     },
     "execution_count": 14,
     "metadata": {},
     "output_type": "execute_result"
    }
   ],
   "source": [
    "(data[(data['dob_years']==0)]['dob_years'].count()/data['days_employed'].count())*100"
   ]
  },
  {
   "cell_type": "markdown",
   "id": "d98245c4",
   "metadata": {},
   "source": [
    "Во всем дата фрейме пол процента записей имеет значение 0 в графе возраста.\n"
   ]
  },
  {
   "cell_type": "code",
   "execution_count": 15,
   "id": "f63ee380",
   "metadata": {},
   "outputs": [
    {
     "data": {
      "text/plain": [
       "54"
      ]
     },
     "execution_count": 15,
     "metadata": {},
     "output_type": "execute_result"
    }
   ],
   "source": [
    "data.duplicated().sum()"
   ]
  },
  {
   "cell_type": "markdown",
   "id": "22052f3f",
   "metadata": {},
   "source": [
    "Имеются явные дубликаты в количестве 54 штук"
   ]
  },
  {
   "cell_type": "code",
   "execution_count": 16,
   "id": "74707b1d",
   "metadata": {},
   "outputs": [
    {
     "data": {
      "text/html": [
       "<div>\n",
       "<style scoped>\n",
       "    .dataframe tbody tr th:only-of-type {\n",
       "        vertical-align: middle;\n",
       "    }\n",
       "\n",
       "    .dataframe tbody tr th {\n",
       "        vertical-align: top;\n",
       "    }\n",
       "\n",
       "    .dataframe thead th {\n",
       "        text-align: right;\n",
       "    }\n",
       "</style>\n",
       "<table border=\"1\" class=\"dataframe\">\n",
       "  <thead>\n",
       "    <tr style=\"text-align: right;\">\n",
       "      <th></th>\n",
       "      <th>children</th>\n",
       "      <th>days_employed</th>\n",
       "      <th>dob_years</th>\n",
       "      <th>education_id</th>\n",
       "      <th>family_status_id</th>\n",
       "      <th>debt</th>\n",
       "      <th>total_income</th>\n",
       "    </tr>\n",
       "  </thead>\n",
       "  <tbody>\n",
       "    <tr>\n",
       "      <td>count</td>\n",
       "      <td>21525.000000</td>\n",
       "      <td>19351.000000</td>\n",
       "      <td>21525.000000</td>\n",
       "      <td>21525.000000</td>\n",
       "      <td>21525.000000</td>\n",
       "      <td>21525.000000</td>\n",
       "      <td>1.935100e+04</td>\n",
       "    </tr>\n",
       "    <tr>\n",
       "      <td>mean</td>\n",
       "      <td>0.538908</td>\n",
       "      <td>63046.497661</td>\n",
       "      <td>43.293380</td>\n",
       "      <td>0.817236</td>\n",
       "      <td>0.972544</td>\n",
       "      <td>0.080883</td>\n",
       "      <td>1.674223e+05</td>\n",
       "    </tr>\n",
       "    <tr>\n",
       "      <td>std</td>\n",
       "      <td>1.381587</td>\n",
       "      <td>140827.311974</td>\n",
       "      <td>12.574584</td>\n",
       "      <td>0.548138</td>\n",
       "      <td>1.420324</td>\n",
       "      <td>0.272661</td>\n",
       "      <td>1.029716e+05</td>\n",
       "    </tr>\n",
       "    <tr>\n",
       "      <td>min</td>\n",
       "      <td>-1.000000</td>\n",
       "      <td>-18388.949901</td>\n",
       "      <td>0.000000</td>\n",
       "      <td>0.000000</td>\n",
       "      <td>0.000000</td>\n",
       "      <td>0.000000</td>\n",
       "      <td>2.066726e+04</td>\n",
       "    </tr>\n",
       "    <tr>\n",
       "      <td>25%</td>\n",
       "      <td>0.000000</td>\n",
       "      <td>-2747.423625</td>\n",
       "      <td>33.000000</td>\n",
       "      <td>1.000000</td>\n",
       "      <td>0.000000</td>\n",
       "      <td>0.000000</td>\n",
       "      <td>1.030532e+05</td>\n",
       "    </tr>\n",
       "    <tr>\n",
       "      <td>50%</td>\n",
       "      <td>0.000000</td>\n",
       "      <td>-1203.369529</td>\n",
       "      <td>42.000000</td>\n",
       "      <td>1.000000</td>\n",
       "      <td>0.000000</td>\n",
       "      <td>0.000000</td>\n",
       "      <td>1.450179e+05</td>\n",
       "    </tr>\n",
       "    <tr>\n",
       "      <td>75%</td>\n",
       "      <td>1.000000</td>\n",
       "      <td>-291.095954</td>\n",
       "      <td>53.000000</td>\n",
       "      <td>1.000000</td>\n",
       "      <td>1.000000</td>\n",
       "      <td>0.000000</td>\n",
       "      <td>2.034351e+05</td>\n",
       "    </tr>\n",
       "    <tr>\n",
       "      <td>max</td>\n",
       "      <td>20.000000</td>\n",
       "      <td>401755.400475</td>\n",
       "      <td>75.000000</td>\n",
       "      <td>4.000000</td>\n",
       "      <td>4.000000</td>\n",
       "      <td>1.000000</td>\n",
       "      <td>2.265604e+06</td>\n",
       "    </tr>\n",
       "  </tbody>\n",
       "</table>\n",
       "</div>"
      ],
      "text/plain": [
       "           children  days_employed     dob_years  education_id  \\\n",
       "count  21525.000000   19351.000000  21525.000000  21525.000000   \n",
       "mean       0.538908   63046.497661     43.293380      0.817236   \n",
       "std        1.381587  140827.311974     12.574584      0.548138   \n",
       "min       -1.000000  -18388.949901      0.000000      0.000000   \n",
       "25%        0.000000   -2747.423625     33.000000      1.000000   \n",
       "50%        0.000000   -1203.369529     42.000000      1.000000   \n",
       "75%        1.000000    -291.095954     53.000000      1.000000   \n",
       "max       20.000000  401755.400475     75.000000      4.000000   \n",
       "\n",
       "       family_status_id          debt  total_income  \n",
       "count      21525.000000  21525.000000  1.935100e+04  \n",
       "mean           0.972544      0.080883  1.674223e+05  \n",
       "std            1.420324      0.272661  1.029716e+05  \n",
       "min            0.000000      0.000000  2.066726e+04  \n",
       "25%            0.000000      0.000000  1.030532e+05  \n",
       "50%            0.000000      0.000000  1.450179e+05  \n",
       "75%            1.000000      0.000000  2.034351e+05  \n",
       "max            4.000000      1.000000  2.265604e+06  "
      ]
     },
     "execution_count": 16,
     "metadata": {},
     "output_type": "execute_result"
    }
   ],
   "source": [
    "data.describe() # по твоему совету пробую метод describe()"
   ]
  },
  {
   "cell_type": "markdown",
   "id": "48e73079",
   "metadata": {},
   "source": [
    "### Шаг 2.1 Заполнение пропусков"
   ]
  },
  {
   "cell_type": "code",
   "execution_count": 17,
   "id": "05c9664f",
   "metadata": {},
   "outputs": [
    {
     "name": "stderr",
     "output_type": "stream",
     "text": [
      "/opt/conda/lib/python3.7/site-packages/pandas/core/ops/__init__.py:1115: FutureWarning: elementwise comparison failed; returning scalar instead, but in the future will perform elementwise comparison\n",
      "  result = method(y)\n"
     ]
    },
    {
     "data": {
      "text/plain": [
       "-18388.949900568383"
      ]
     },
     "execution_count": 17,
     "metadata": {},
     "output_type": "execute_result"
    }
   ],
   "source": [
    "data.loc[data['days_employed'] != 'NaN']['days_employed'].min()\n",
    "\n"
   ]
  },
  {
   "cell_type": "code",
   "execution_count": 18,
   "id": "4b61d720",
   "metadata": {},
   "outputs": [
    {
     "data": {
      "text/plain": [
       "2194"
      ]
     },
     "execution_count": 18,
     "metadata": {},
     "output_type": "execute_result"
    }
   ],
   "source": [
    "days_employed_median = int(data.loc[data['days_employed'] !='NaN']['days_employed'].abs().median())\n",
    "days_employed_median # переменная с медианным значением стажа"
   ]
  },
  {
   "cell_type": "markdown",
   "id": "38ff95a9",
   "metadata": {},
   "source": [
    "В столбце о стаже рабты имются отрицательные значения, видимо это дефис, с учетом этого медианное значение в стаже 2609 дней\n"
   ]
  },
  {
   "cell_type": "code",
   "execution_count": 19,
   "id": "bf07d52e",
   "metadata": {},
   "outputs": [],
   "source": [
    "data['days_employed'] = data['days_employed'].fillna(days_employed_median)"
   ]
  },
  {
   "cell_type": "code",
   "execution_count": 20,
   "id": "4f2ad54f",
   "metadata": {},
   "outputs": [
    {
     "data": {
      "text/plain": [
       "0"
      ]
     },
     "execution_count": 20,
     "metadata": {},
     "output_type": "execute_result"
    }
   ],
   "source": [
    "data['days_employed'].isna().sum()"
   ]
  },
  {
   "cell_type": "code",
   "execution_count": 21,
   "id": "935bb222",
   "metadata": {},
   "outputs": [
    {
     "name": "stdout",
     "output_type": "stream",
     "text": [
      "<class 'pandas.core.frame.DataFrame'>\n",
      "RangeIndex: 21525 entries, 0 to 21524\n",
      "Data columns (total 12 columns):\n",
      "children            21525 non-null int64\n",
      "days_employed       21525 non-null float64\n",
      "dob_years           21525 non-null int64\n",
      "education           21525 non-null object\n",
      "education_id        21525 non-null int64\n",
      "family_status       21525 non-null object\n",
      "family_status_id    21525 non-null int64\n",
      "gender              21525 non-null object\n",
      "income_type         21525 non-null object\n",
      "debt                21525 non-null int64\n",
      "total_income        19351 non-null float64\n",
      "purpose             21525 non-null object\n",
      "dtypes: float64(2), int64(5), object(5)\n",
      "memory usage: 2.0+ MB\n"
     ]
    }
   ],
   "source": [
    "data.info()"
   ]
  },
  {
   "cell_type": "code",
   "execution_count": 22,
   "id": "3d8d3ec7",
   "metadata": {},
   "outputs": [
    {
     "data": {
      "text/plain": [
       "20667.26379327158"
      ]
     },
     "execution_count": 22,
     "metadata": {},
     "output_type": "execute_result"
    }
   ],
   "source": [
    "data['total_income'].min()"
   ]
  },
  {
   "cell_type": "code",
   "execution_count": 23,
   "id": "7217e55f",
   "metadata": {},
   "outputs": [
    {
     "data": {
      "text/plain": [
       "2265604.028722744"
      ]
     },
     "execution_count": 23,
     "metadata": {},
     "output_type": "execute_result"
    }
   ],
   "source": [
    "data['total_income'].max()"
   ]
  },
  {
   "cell_type": "code",
   "execution_count": 24,
   "id": "c2b7cc5a",
   "metadata": {},
   "outputs": [
    {
     "data": {
      "text/plain": [
       "145017.93753253992"
      ]
     },
     "execution_count": 24,
     "metadata": {},
     "output_type": "execute_result"
    }
   ],
   "source": [
    "total_income_median = data['total_income'].median()\n",
    "total_income_median"
   ]
  },
  {
   "cell_type": "code",
   "execution_count": 25,
   "id": "b85fc395",
   "metadata": {},
   "outputs": [
    {
     "name": "stdout",
     "output_type": "stream",
     "text": [
      "<class 'pandas.core.frame.DataFrame'>\n",
      "RangeIndex: 21525 entries, 0 to 21524\n",
      "Data columns (total 12 columns):\n",
      "children            21525 non-null int64\n",
      "days_employed       21525 non-null float64\n",
      "dob_years           21525 non-null int64\n",
      "education           21525 non-null object\n",
      "education_id        21525 non-null int64\n",
      "family_status       21525 non-null object\n",
      "family_status_id    21525 non-null int64\n",
      "gender              21525 non-null object\n",
      "income_type         21525 non-null object\n",
      "debt                21525 non-null int64\n",
      "total_income        21525 non-null float64\n",
      "purpose             21525 non-null object\n",
      "dtypes: float64(2), int64(5), object(5)\n",
      "memory usage: 2.0+ MB\n"
     ]
    }
   ],
   "source": [
    "data['total_income'] = data['total_income'].fillna(total_income_median)\n",
    "#data['total_income'].isna().sum()\n",
    "data.info()"
   ]
  },
  {
   "cell_type": "code",
   "execution_count": 26,
   "id": "a6e0f4ff",
   "metadata": {},
   "outputs": [
    {
     "data": {
      "text/plain": [
       "0"
      ]
     },
     "execution_count": 26,
     "metadata": {},
     "output_type": "execute_result"
    }
   ],
   "source": [
    "data['total_income'].isna().sum()"
   ]
  },
  {
   "cell_type": "markdown",
   "id": "802f0bf5",
   "metadata": {},
   "source": [
    "заменили пропуски на медианные значения. пропусков не осталось"
   ]
  },
  {
   "cell_type": "markdown",
   "id": "123a34b2",
   "metadata": {},
   "source": [
    "### Шаг 2.2 Проверка данных на аномалии и исправления."
   ]
  },
  {
   "cell_type": "markdown",
   "id": "b53d7cfe",
   "metadata": {},
   "source": [
    "Аномалии: столбец со стажем (days_employed) и столбец с ежемесячным доходом (total_income) содержит отрицательные значения - видимо это дефис.\n"
   ]
  },
  {
   "cell_type": "code",
   "execution_count": 27,
   "id": "b3ee1775",
   "metadata": {},
   "outputs": [
    {
     "data": {
      "text/plain": [
       "children                               -1\n",
       "days_employed                    -18388.9\n",
       "dob_years                               0\n",
       "education                          ВЫСШЕЕ\n",
       "education_id                            0\n",
       "family_status       Не женат / не замужем\n",
       "family_status_id                        0\n",
       "gender                                  F\n",
       "income_type                   безработный\n",
       "debt                                    0\n",
       "total_income                      20667.3\n",
       "purpose                        автомобили\n",
       "dtype: object"
      ]
     },
     "execution_count": 27,
     "metadata": {},
     "output_type": "execute_result"
    }
   ],
   "source": [
    "data.min()"
   ]
  },
  {
   "cell_type": "markdown",
   "id": "d7011208",
   "metadata": {},
   "source": [
    "Видим анмальные минимальные значения в столбце 'children' в виде отрицательного значения, и в столбце 'days_employed' тоже в виде отрицательного значения"
   ]
  },
  {
   "cell_type": "code",
   "execution_count": 28,
   "id": "b22f44ee",
   "metadata": {},
   "outputs": [
    {
     "data": {
      "text/plain": [
       "children                         20\n",
       "days_employed                401755\n",
       "dob_years                        75\n",
       "education            ученая степень\n",
       "education_id                      4\n",
       "family_status       женат / замужем\n",
       "family_status_id                  4\n",
       "gender                          XNA\n",
       "income_type                 студент\n",
       "debt                              1\n",
       "total_income             2.2656e+06\n",
       "purpose             сыграть свадьбу\n",
       "dtype: object"
      ]
     },
     "execution_count": 28,
     "metadata": {},
     "output_type": "execute_result"
    }
   ],
   "source": [
    "data.max()"
   ]
  },
  {
   "cell_type": "markdown",
   "id": "edd70ad1",
   "metadata": {},
   "source": [
    "Видим аномальные максимальные значения в столбцах gender, days_employed, children\n"
   ]
  },
  {
   "cell_type": "code",
   "execution_count": 29,
   "id": "bf5b64cd",
   "metadata": {},
   "outputs": [
    {
     "data": {
      "text/html": [
       "<div>\n",
       "<style scoped>\n",
       "    .dataframe tbody tr th:only-of-type {\n",
       "        vertical-align: middle;\n",
       "    }\n",
       "\n",
       "    .dataframe tbody tr th {\n",
       "        vertical-align: top;\n",
       "    }\n",
       "\n",
       "    .dataframe thead th {\n",
       "        text-align: right;\n",
       "    }\n",
       "</style>\n",
       "<table border=\"1\" class=\"dataframe\">\n",
       "  <thead>\n",
       "    <tr style=\"text-align: right;\">\n",
       "      <th></th>\n",
       "      <th>children</th>\n",
       "      <th>days_employed</th>\n",
       "      <th>dob_years</th>\n",
       "      <th>education</th>\n",
       "      <th>education_id</th>\n",
       "      <th>family_status</th>\n",
       "      <th>family_status_id</th>\n",
       "      <th>gender</th>\n",
       "      <th>income_type</th>\n",
       "      <th>debt</th>\n",
       "      <th>total_income</th>\n",
       "      <th>purpose</th>\n",
       "    </tr>\n",
       "  </thead>\n",
       "  <tbody>\n",
       "    <tr>\n",
       "      <td>10701</td>\n",
       "      <td>0</td>\n",
       "      <td>-2358.600502</td>\n",
       "      <td>24</td>\n",
       "      <td>неоконченное высшее</td>\n",
       "      <td>2</td>\n",
       "      <td>гражданский брак</td>\n",
       "      <td>1</td>\n",
       "      <td>XNA</td>\n",
       "      <td>компаньон</td>\n",
       "      <td>0</td>\n",
       "      <td>203905.157261</td>\n",
       "      <td>покупка недвижимости</td>\n",
       "    </tr>\n",
       "  </tbody>\n",
       "</table>\n",
       "</div>"
      ],
      "text/plain": [
       "       children  days_employed  dob_years            education  education_id  \\\n",
       "10701         0   -2358.600502         24  неоконченное высшее             2   \n",
       "\n",
       "          family_status  family_status_id gender income_type  debt  \\\n",
       "10701  гражданский брак                 1    XNA   компаньон     0   \n",
       "\n",
       "        total_income               purpose  \n",
       "10701  203905.157261  покупка недвижимости  "
      ]
     },
     "execution_count": 29,
     "metadata": {},
     "output_type": "execute_result"
    }
   ],
   "source": [
    "data[data['gender'] == 'XNA']"
   ]
  },
  {
   "cell_type": "code",
   "execution_count": 30,
   "id": "15989b57",
   "metadata": {},
   "outputs": [],
   "source": [
    "data.loc[data['gender'] == 'XNA', 'gender'] = 'M'"
   ]
  },
  {
   "cell_type": "code",
   "execution_count": 31,
   "id": "f1207cb4",
   "metadata": {},
   "outputs": [
    {
     "data": {
      "text/plain": [
       "array(['F', 'M'], dtype=object)"
      ]
     },
     "execution_count": 31,
     "metadata": {},
     "output_type": "execute_result"
    }
   ],
   "source": [
    "data['gender'].unique()# проверка пола на аномалии"
   ]
  },
  {
   "cell_type": "code",
   "execution_count": 32,
   "id": "87c40d8c",
   "metadata": {},
   "outputs": [
    {
     "data": {
      "text/plain": [
       "array([ 1,  0,  3,  2, -1,  4, 20,  5])"
      ]
     },
     "execution_count": 32,
     "metadata": {},
     "output_type": "execute_result"
    }
   ],
   "source": [
    "data['children'].unique() # проверка количества детей на аномалии"
   ]
  },
  {
   "cell_type": "markdown",
   "id": "1b906947",
   "metadata": {},
   "source": [
    "значения -1 и 20 наверняка ошибочны, по каким то причинам люди их так указали, чтоже, "
   ]
  },
  {
   "cell_type": "code",
   "execution_count": 33,
   "id": "db80d413",
   "metadata": {},
   "outputs": [
    {
     "data": {
      "text/html": [
       "<div>\n",
       "<style scoped>\n",
       "    .dataframe tbody tr th:only-of-type {\n",
       "        vertical-align: middle;\n",
       "    }\n",
       "\n",
       "    .dataframe tbody tr th {\n",
       "        vertical-align: top;\n",
       "    }\n",
       "\n",
       "    .dataframe thead th {\n",
       "        text-align: right;\n",
       "    }\n",
       "</style>\n",
       "<table border=\"1\" class=\"dataframe\">\n",
       "  <thead>\n",
       "    <tr style=\"text-align: right;\">\n",
       "      <th></th>\n",
       "      <th>purpose</th>\n",
       "      <th>автомобили</th>\n",
       "      <th>автомобиль</th>\n",
       "      <th>высшее образование</th>\n",
       "      <th>дополнительное образование</th>\n",
       "      <th>жилье</th>\n",
       "      <th>заняться высшим образованием</th>\n",
       "      <th>заняться образованием</th>\n",
       "      <th>на покупку автомобиля</th>\n",
       "      <th>на покупку подержанного автомобиля</th>\n",
       "      <th>на покупку своего автомобиля</th>\n",
       "      <th>...</th>\n",
       "      <th>профильное образование</th>\n",
       "      <th>ремонт жилью</th>\n",
       "      <th>свадьба</th>\n",
       "      <th>свой автомобиль</th>\n",
       "      <th>сделка с автомобилем</th>\n",
       "      <th>сделка с подержанным автомобилем</th>\n",
       "      <th>строительство жилой недвижимости</th>\n",
       "      <th>строительство недвижимости</th>\n",
       "      <th>строительство собственной недвижимости</th>\n",
       "      <th>сыграть свадьбу</th>\n",
       "    </tr>\n",
       "    <tr>\n",
       "      <th>debt</th>\n",
       "      <th>children</th>\n",
       "      <th></th>\n",
       "      <th></th>\n",
       "      <th></th>\n",
       "      <th></th>\n",
       "      <th></th>\n",
       "      <th></th>\n",
       "      <th></th>\n",
       "      <th></th>\n",
       "      <th></th>\n",
       "      <th></th>\n",
       "      <th></th>\n",
       "      <th></th>\n",
       "      <th></th>\n",
       "      <th></th>\n",
       "      <th></th>\n",
       "      <th></th>\n",
       "      <th></th>\n",
       "      <th></th>\n",
       "      <th></th>\n",
       "      <th></th>\n",
       "      <th></th>\n",
       "    </tr>\n",
       "  </thead>\n",
       "  <tbody>\n",
       "    <tr>\n",
       "      <td rowspan=\"8\" valign=\"top\">0</td>\n",
       "      <td>-1</td>\n",
       "      <td>28.000000</td>\n",
       "      <td>42.000000</td>\n",
       "      <td>33.000000</td>\n",
       "      <td>55.500000</td>\n",
       "      <td>37.000000</td>\n",
       "      <td>NaN</td>\n",
       "      <td>NaN</td>\n",
       "      <td>30.000000</td>\n",
       "      <td>34.000000</td>\n",
       "      <td>57.000000</td>\n",
       "      <td>...</td>\n",
       "      <td>50.500000</td>\n",
       "      <td>31.000000</td>\n",
       "      <td>NaN</td>\n",
       "      <td>37.500000</td>\n",
       "      <td>NaN</td>\n",
       "      <td>43.000000</td>\n",
       "      <td>51.333333</td>\n",
       "      <td>NaN</td>\n",
       "      <td>46.000000</td>\n",
       "      <td>40.000000</td>\n",
       "    </tr>\n",
       "    <tr>\n",
       "      <td>0</td>\n",
       "      <td>46.986159</td>\n",
       "      <td>47.281553</td>\n",
       "      <td>46.351254</td>\n",
       "      <td>48.099631</td>\n",
       "      <td>45.664083</td>\n",
       "      <td>45.955782</td>\n",
       "      <td>47.876543</td>\n",
       "      <td>46.496528</td>\n",
       "      <td>47.275510</td>\n",
       "      <td>45.687296</td>\n",
       "      <td>...</td>\n",
       "      <td>47.044944</td>\n",
       "      <td>45.677083</td>\n",
       "      <td>46.402439</td>\n",
       "      <td>46.902439</td>\n",
       "      <td>46.535581</td>\n",
       "      <td>47.317568</td>\n",
       "      <td>46.206633</td>\n",
       "      <td>46.907162</td>\n",
       "      <td>46.054726</td>\n",
       "      <td>46.352201</td>\n",
       "    </tr>\n",
       "    <tr>\n",
       "      <td>1</td>\n",
       "      <td>38.900990</td>\n",
       "      <td>37.405941</td>\n",
       "      <td>37.795455</td>\n",
       "      <td>39.876543</td>\n",
       "      <td>37.961832</td>\n",
       "      <td>40.217822</td>\n",
       "      <td>37.494253</td>\n",
       "      <td>39.215054</td>\n",
       "      <td>39.628866</td>\n",
       "      <td>37.090909</td>\n",
       "      <td>...</td>\n",
       "      <td>37.573171</td>\n",
       "      <td>37.209302</td>\n",
       "      <td>38.791139</td>\n",
       "      <td>37.764706</td>\n",
       "      <td>37.494382</td>\n",
       "      <td>38.802198</td>\n",
       "      <td>38.645161</td>\n",
       "      <td>38.672269</td>\n",
       "      <td>38.672131</td>\n",
       "      <td>38.361446</td>\n",
       "    </tr>\n",
       "    <tr>\n",
       "      <td>2</td>\n",
       "      <td>35.714286</td>\n",
       "      <td>34.470588</td>\n",
       "      <td>35.272727</td>\n",
       "      <td>35.610169</td>\n",
       "      <td>35.095238</td>\n",
       "      <td>36.068182</td>\n",
       "      <td>36.314286</td>\n",
       "      <td>36.179487</td>\n",
       "      <td>36.823529</td>\n",
       "      <td>37.468085</td>\n",
       "      <td>...</td>\n",
       "      <td>35.935484</td>\n",
       "      <td>37.129630</td>\n",
       "      <td>36.042857</td>\n",
       "      <td>36.727273</td>\n",
       "      <td>37.133333</td>\n",
       "      <td>38.846154</td>\n",
       "      <td>33.347826</td>\n",
       "      <td>35.576271</td>\n",
       "      <td>34.698113</td>\n",
       "      <td>35.741935</td>\n",
       "    </tr>\n",
       "    <tr>\n",
       "      <td>3</td>\n",
       "      <td>37.714286</td>\n",
       "      <td>38.400000</td>\n",
       "      <td>36.833333</td>\n",
       "      <td>33.375000</td>\n",
       "      <td>36.692308</td>\n",
       "      <td>38.181818</td>\n",
       "      <td>35.000000</td>\n",
       "      <td>37.333333</td>\n",
       "      <td>36.900000</td>\n",
       "      <td>29.750000</td>\n",
       "      <td>...</td>\n",
       "      <td>37.500000</td>\n",
       "      <td>30.714286</td>\n",
       "      <td>37.200000</td>\n",
       "      <td>38.700000</td>\n",
       "      <td>35.500000</td>\n",
       "      <td>38.833333</td>\n",
       "      <td>37.600000</td>\n",
       "      <td>36.000000</td>\n",
       "      <td>36.000000</td>\n",
       "      <td>35.333333</td>\n",
       "    </tr>\n",
       "    <tr>\n",
       "      <td>4</td>\n",
       "      <td>NaN</td>\n",
       "      <td>30.500000</td>\n",
       "      <td>34.000000</td>\n",
       "      <td>NaN</td>\n",
       "      <td>29.000000</td>\n",
       "      <td>41.000000</td>\n",
       "      <td>34.500000</td>\n",
       "      <td>37.333333</td>\n",
       "      <td>34.000000</td>\n",
       "      <td>NaN</td>\n",
       "      <td>...</td>\n",
       "      <td>NaN</td>\n",
       "      <td>NaN</td>\n",
       "      <td>33.500000</td>\n",
       "      <td>43.500000</td>\n",
       "      <td>NaN</td>\n",
       "      <td>NaN</td>\n",
       "      <td>32.000000</td>\n",
       "      <td>38.000000</td>\n",
       "      <td>41.000000</td>\n",
       "      <td>NaN</td>\n",
       "    </tr>\n",
       "    <tr>\n",
       "      <td>5</td>\n",
       "      <td>NaN</td>\n",
       "      <td>NaN</td>\n",
       "      <td>NaN</td>\n",
       "      <td>NaN</td>\n",
       "      <td>35.000000</td>\n",
       "      <td>38.000000</td>\n",
       "      <td>NaN</td>\n",
       "      <td>NaN</td>\n",
       "      <td>NaN</td>\n",
       "      <td>42.000000</td>\n",
       "      <td>...</td>\n",
       "      <td>NaN</td>\n",
       "      <td>NaN</td>\n",
       "      <td>NaN</td>\n",
       "      <td>NaN</td>\n",
       "      <td>NaN</td>\n",
       "      <td>31.000000</td>\n",
       "      <td>NaN</td>\n",
       "      <td>NaN</td>\n",
       "      <td>NaN</td>\n",
       "      <td>NaN</td>\n",
       "    </tr>\n",
       "    <tr>\n",
       "      <td>20</td>\n",
       "      <td>69.000000</td>\n",
       "      <td>51.000000</td>\n",
       "      <td>41.000000</td>\n",
       "      <td>41.000000</td>\n",
       "      <td>34.750000</td>\n",
       "      <td>NaN</td>\n",
       "      <td>NaN</td>\n",
       "      <td>0.000000</td>\n",
       "      <td>31.600000</td>\n",
       "      <td>NaN</td>\n",
       "      <td>...</td>\n",
       "      <td>36.000000</td>\n",
       "      <td>33.500000</td>\n",
       "      <td>33.000000</td>\n",
       "      <td>43.000000</td>\n",
       "      <td>NaN</td>\n",
       "      <td>46.000000</td>\n",
       "      <td>57.000000</td>\n",
       "      <td>NaN</td>\n",
       "      <td>49.800000</td>\n",
       "      <td>43.000000</td>\n",
       "    </tr>\n",
       "    <tr>\n",
       "      <td rowspan=\"7\" valign=\"top\">1</td>\n",
       "      <td>-1</td>\n",
       "      <td>NaN</td>\n",
       "      <td>33.000000</td>\n",
       "      <td>NaN</td>\n",
       "      <td>NaN</td>\n",
       "      <td>NaN</td>\n",
       "      <td>NaN</td>\n",
       "      <td>NaN</td>\n",
       "      <td>NaN</td>\n",
       "      <td>NaN</td>\n",
       "      <td>NaN</td>\n",
       "      <td>...</td>\n",
       "      <td>NaN</td>\n",
       "      <td>NaN</td>\n",
       "      <td>NaN</td>\n",
       "      <td>NaN</td>\n",
       "      <td>NaN</td>\n",
       "      <td>NaN</td>\n",
       "      <td>NaN</td>\n",
       "      <td>NaN</td>\n",
       "      <td>NaN</td>\n",
       "      <td>NaN</td>\n",
       "    </tr>\n",
       "    <tr>\n",
       "      <td>0</td>\n",
       "      <td>44.178571</td>\n",
       "      <td>43.766667</td>\n",
       "      <td>40.458333</td>\n",
       "      <td>43.538462</td>\n",
       "      <td>42.129032</td>\n",
       "      <td>43.714286</td>\n",
       "      <td>45.950000</td>\n",
       "      <td>42.909091</td>\n",
       "      <td>42.000000</td>\n",
       "      <td>43.233333</td>\n",
       "      <td>...</td>\n",
       "      <td>46.068966</td>\n",
       "      <td>43.652174</td>\n",
       "      <td>44.000000</td>\n",
       "      <td>41.481481</td>\n",
       "      <td>39.970588</td>\n",
       "      <td>44.551724</td>\n",
       "      <td>41.378378</td>\n",
       "      <td>43.518519</td>\n",
       "      <td>44.454545</td>\n",
       "      <td>43.270270</td>\n",
       "    </tr>\n",
       "    <tr>\n",
       "      <td>1</td>\n",
       "      <td>42.777778</td>\n",
       "      <td>36.000000</td>\n",
       "      <td>39.416667</td>\n",
       "      <td>33.800000</td>\n",
       "      <td>31.375000</td>\n",
       "      <td>33.777778</td>\n",
       "      <td>36.769231</td>\n",
       "      <td>37.500000</td>\n",
       "      <td>37.142857</td>\n",
       "      <td>38.125000</td>\n",
       "      <td>...</td>\n",
       "      <td>33.833333</td>\n",
       "      <td>34.285714</td>\n",
       "      <td>37.500000</td>\n",
       "      <td>31.214286</td>\n",
       "      <td>36.916667</td>\n",
       "      <td>37.333333</td>\n",
       "      <td>36.600000</td>\n",
       "      <td>40.187500</td>\n",
       "      <td>36.357143</td>\n",
       "      <td>37.714286</td>\n",
       "    </tr>\n",
       "    <tr>\n",
       "      <td>2</td>\n",
       "      <td>31.571429</td>\n",
       "      <td>33.750000</td>\n",
       "      <td>33.000000</td>\n",
       "      <td>33.714286</td>\n",
       "      <td>39.166667</td>\n",
       "      <td>33.000000</td>\n",
       "      <td>34.000000</td>\n",
       "      <td>37.571429</td>\n",
       "      <td>37.000000</td>\n",
       "      <td>32.833333</td>\n",
       "      <td>...</td>\n",
       "      <td>34.000000</td>\n",
       "      <td>33.666667</td>\n",
       "      <td>36.000000</td>\n",
       "      <td>34.750000</td>\n",
       "      <td>32.666667</td>\n",
       "      <td>35.571429</td>\n",
       "      <td>35.833333</td>\n",
       "      <td>39.000000</td>\n",
       "      <td>32.600000</td>\n",
       "      <td>38.800000</td>\n",
       "    </tr>\n",
       "    <tr>\n",
       "      <td>3</td>\n",
       "      <td>NaN</td>\n",
       "      <td>NaN</td>\n",
       "      <td>NaN</td>\n",
       "      <td>NaN</td>\n",
       "      <td>NaN</td>\n",
       "      <td>NaN</td>\n",
       "      <td>38.000000</td>\n",
       "      <td>NaN</td>\n",
       "      <td>NaN</td>\n",
       "      <td>39.000000</td>\n",
       "      <td>...</td>\n",
       "      <td>NaN</td>\n",
       "      <td>34.500000</td>\n",
       "      <td>36.000000</td>\n",
       "      <td>32.500000</td>\n",
       "      <td>36.000000</td>\n",
       "      <td>NaN</td>\n",
       "      <td>NaN</td>\n",
       "      <td>31.500000</td>\n",
       "      <td>NaN</td>\n",
       "      <td>43.000000</td>\n",
       "    </tr>\n",
       "    <tr>\n",
       "      <td>4</td>\n",
       "      <td>NaN</td>\n",
       "      <td>NaN</td>\n",
       "      <td>NaN</td>\n",
       "      <td>NaN</td>\n",
       "      <td>33.000000</td>\n",
       "      <td>NaN</td>\n",
       "      <td>NaN</td>\n",
       "      <td>44.000000</td>\n",
       "      <td>NaN</td>\n",
       "      <td>NaN</td>\n",
       "      <td>...</td>\n",
       "      <td>NaN</td>\n",
       "      <td>NaN</td>\n",
       "      <td>NaN</td>\n",
       "      <td>NaN</td>\n",
       "      <td>NaN</td>\n",
       "      <td>NaN</td>\n",
       "      <td>NaN</td>\n",
       "      <td>NaN</td>\n",
       "      <td>NaN</td>\n",
       "      <td>NaN</td>\n",
       "    </tr>\n",
       "    <tr>\n",
       "      <td>20</td>\n",
       "      <td>NaN</td>\n",
       "      <td>NaN</td>\n",
       "      <td>NaN</td>\n",
       "      <td>NaN</td>\n",
       "      <td>NaN</td>\n",
       "      <td>NaN</td>\n",
       "      <td>NaN</td>\n",
       "      <td>NaN</td>\n",
       "      <td>37.000000</td>\n",
       "      <td>NaN</td>\n",
       "      <td>...</td>\n",
       "      <td>NaN</td>\n",
       "      <td>NaN</td>\n",
       "      <td>NaN</td>\n",
       "      <td>40.000000</td>\n",
       "      <td>NaN</td>\n",
       "      <td>NaN</td>\n",
       "      <td>NaN</td>\n",
       "      <td>NaN</td>\n",
       "      <td>34.000000</td>\n",
       "      <td>NaN</td>\n",
       "    </tr>\n",
       "  </tbody>\n",
       "</table>\n",
       "<p>15 rows × 38 columns</p>\n",
       "</div>"
      ],
      "text/plain": [
       "purpose        автомобили  автомобиль  высшее образование  \\\n",
       "debt children                                               \n",
       "0    -1         28.000000   42.000000           33.000000   \n",
       "      0         46.986159   47.281553           46.351254   \n",
       "      1         38.900990   37.405941           37.795455   \n",
       "      2         35.714286   34.470588           35.272727   \n",
       "      3         37.714286   38.400000           36.833333   \n",
       "      4               NaN   30.500000           34.000000   \n",
       "      5               NaN         NaN                 NaN   \n",
       "      20        69.000000   51.000000           41.000000   \n",
       "1    -1               NaN   33.000000                 NaN   \n",
       "      0         44.178571   43.766667           40.458333   \n",
       "      1         42.777778   36.000000           39.416667   \n",
       "      2         31.571429   33.750000           33.000000   \n",
       "      3               NaN         NaN                 NaN   \n",
       "      4               NaN         NaN                 NaN   \n",
       "      20              NaN         NaN                 NaN   \n",
       "\n",
       "purpose        дополнительное образование      жилье  \\\n",
       "debt children                                          \n",
       "0    -1                         55.500000  37.000000   \n",
       "      0                         48.099631  45.664083   \n",
       "      1                         39.876543  37.961832   \n",
       "      2                         35.610169  35.095238   \n",
       "      3                         33.375000  36.692308   \n",
       "      4                               NaN  29.000000   \n",
       "      5                               NaN  35.000000   \n",
       "      20                        41.000000  34.750000   \n",
       "1    -1                               NaN        NaN   \n",
       "      0                         43.538462  42.129032   \n",
       "      1                         33.800000  31.375000   \n",
       "      2                         33.714286  39.166667   \n",
       "      3                               NaN        NaN   \n",
       "      4                               NaN  33.000000   \n",
       "      20                              NaN        NaN   \n",
       "\n",
       "purpose        заняться высшим образованием  заняться образованием  \\\n",
       "debt children                                                        \n",
       "0    -1                                 NaN                    NaN   \n",
       "      0                           45.955782              47.876543   \n",
       "      1                           40.217822              37.494253   \n",
       "      2                           36.068182              36.314286   \n",
       "      3                           38.181818              35.000000   \n",
       "      4                           41.000000              34.500000   \n",
       "      5                           38.000000                    NaN   \n",
       "      20                                NaN                    NaN   \n",
       "1    -1                                 NaN                    NaN   \n",
       "      0                           43.714286              45.950000   \n",
       "      1                           33.777778              36.769231   \n",
       "      2                           33.000000              34.000000   \n",
       "      3                                 NaN              38.000000   \n",
       "      4                                 NaN                    NaN   \n",
       "      20                                NaN                    NaN   \n",
       "\n",
       "purpose        на покупку автомобиля  на покупку подержанного автомобиля  \\\n",
       "debt children                                                              \n",
       "0    -1                    30.000000                           34.000000   \n",
       "      0                    46.496528                           47.275510   \n",
       "      1                    39.215054                           39.628866   \n",
       "      2                    36.179487                           36.823529   \n",
       "      3                    37.333333                           36.900000   \n",
       "      4                    37.333333                           34.000000   \n",
       "      5                          NaN                                 NaN   \n",
       "      20                    0.000000                           31.600000   \n",
       "1    -1                          NaN                                 NaN   \n",
       "      0                    42.909091                           42.000000   \n",
       "      1                    37.500000                           37.142857   \n",
       "      2                    37.571429                           37.000000   \n",
       "      3                          NaN                                 NaN   \n",
       "      4                    44.000000                                 NaN   \n",
       "      20                         NaN                           37.000000   \n",
       "\n",
       "purpose        на покупку своего автомобиля  ...  профильное образование  \\\n",
       "debt children                                ...                           \n",
       "0    -1                           57.000000  ...               50.500000   \n",
       "      0                           45.687296  ...               47.044944   \n",
       "      1                           37.090909  ...               37.573171   \n",
       "      2                           37.468085  ...               35.935484   \n",
       "      3                           29.750000  ...               37.500000   \n",
       "      4                                 NaN  ...                     NaN   \n",
       "      5                           42.000000  ...                     NaN   \n",
       "      20                                NaN  ...               36.000000   \n",
       "1    -1                                 NaN  ...                     NaN   \n",
       "      0                           43.233333  ...               46.068966   \n",
       "      1                           38.125000  ...               33.833333   \n",
       "      2                           32.833333  ...               34.000000   \n",
       "      3                           39.000000  ...                     NaN   \n",
       "      4                                 NaN  ...                     NaN   \n",
       "      20                                NaN  ...                     NaN   \n",
       "\n",
       "purpose        ремонт жилью    свадьба  свой автомобиль  сделка с автомобилем  \\\n",
       "debt children                                                                   \n",
       "0    -1           31.000000        NaN        37.500000                   NaN   \n",
       "      0           45.677083  46.402439        46.902439             46.535581   \n",
       "      1           37.209302  38.791139        37.764706             37.494382   \n",
       "      2           37.129630  36.042857        36.727273             37.133333   \n",
       "      3           30.714286  37.200000        38.700000             35.500000   \n",
       "      4                 NaN  33.500000        43.500000                   NaN   \n",
       "      5                 NaN        NaN              NaN                   NaN   \n",
       "      20          33.500000  33.000000        43.000000                   NaN   \n",
       "1    -1                 NaN        NaN              NaN                   NaN   \n",
       "      0           43.652174  44.000000        41.481481             39.970588   \n",
       "      1           34.285714  37.500000        31.214286             36.916667   \n",
       "      2           33.666667  36.000000        34.750000             32.666667   \n",
       "      3           34.500000  36.000000        32.500000             36.000000   \n",
       "      4                 NaN        NaN              NaN                   NaN   \n",
       "      20                NaN        NaN        40.000000                   NaN   \n",
       "\n",
       "purpose        сделка с подержанным автомобилем  \\\n",
       "debt children                                     \n",
       "0    -1                               43.000000   \n",
       "      0                               47.317568   \n",
       "      1                               38.802198   \n",
       "      2                               38.846154   \n",
       "      3                               38.833333   \n",
       "      4                                     NaN   \n",
       "      5                               31.000000   \n",
       "      20                              46.000000   \n",
       "1    -1                                     NaN   \n",
       "      0                               44.551724   \n",
       "      1                               37.333333   \n",
       "      2                               35.571429   \n",
       "      3                                     NaN   \n",
       "      4                                     NaN   \n",
       "      20                                    NaN   \n",
       "\n",
       "purpose        строительство жилой недвижимости  строительство недвижимости  \\\n",
       "debt children                                                                 \n",
       "0    -1                               51.333333                         NaN   \n",
       "      0                               46.206633                   46.907162   \n",
       "      1                               38.645161                   38.672269   \n",
       "      2                               33.347826                   35.576271   \n",
       "      3                               37.600000                   36.000000   \n",
       "      4                               32.000000                   38.000000   \n",
       "      5                                     NaN                         NaN   \n",
       "      20                              57.000000                         NaN   \n",
       "1    -1                                     NaN                         NaN   \n",
       "      0                               41.378378                   43.518519   \n",
       "      1                               36.600000                   40.187500   \n",
       "      2                               35.833333                   39.000000   \n",
       "      3                                     NaN                   31.500000   \n",
       "      4                                     NaN                         NaN   \n",
       "      20                                    NaN                         NaN   \n",
       "\n",
       "purpose        строительство собственной недвижимости  сыграть свадьбу  \n",
       "debt children                                                           \n",
       "0    -1                                     46.000000        40.000000  \n",
       "      0                                     46.054726        46.352201  \n",
       "      1                                     38.672131        38.361446  \n",
       "      2                                     34.698113        35.741935  \n",
       "      3                                     36.000000        35.333333  \n",
       "      4                                     41.000000              NaN  \n",
       "      5                                           NaN              NaN  \n",
       "      20                                    49.800000        43.000000  \n",
       "1    -1                                           NaN              NaN  \n",
       "      0                                     44.454545        43.270270  \n",
       "      1                                     36.357143        37.714286  \n",
       "      2                                     32.600000        38.800000  \n",
       "      3                                           NaN        43.000000  \n",
       "      4                                           NaN              NaN  \n",
       "      20                                    34.000000              NaN  \n",
       "\n",
       "[15 rows x 38 columns]"
      ]
     },
     "execution_count": 33,
     "metadata": {},
     "output_type": "execute_result"
    }
   ],
   "source": [
    "#data.pivot_table(index=['debt','children'], columns='purpose_category', values='dob_years', aggfunc='mean')\n",
    "data.pivot_table(index=['debt','children'], columns='purpose', values='dob_years', aggfunc='mean')"
   ]
  },
  {
   "cell_type": "markdown",
   "id": "4bb0a928",
   "metadata": {},
   "source": [
    "Люди, указавшие количество детей -1 и 20 в подавляющем большинстве не имеют задолженностей по кретиту.\n",
    "объединю их в группу с 0 детей - она самая большая, там незаметно будет"
   ]
  },
  {
   "cell_type": "markdown",
   "id": "dcf58f3f",
   "metadata": {},
   "source": [
    "в датасете 47 значений \"-1\" в столбце children"
   ]
  },
  {
   "cell_type": "code",
   "execution_count": 34,
   "id": "3c290437",
   "metadata": {},
   "outputs": [],
   "source": [
    "data.loc[(data['children'] == 20) | (data['children'] == -1), 'children']=0"
   ]
  },
  {
   "cell_type": "markdown",
   "id": "7aa25c93",
   "metadata": {},
   "source": [
    "Аномальных значений существенно в столбце."
   ]
  },
  {
   "cell_type": "code",
   "execution_count": 35,
   "id": "bfe2c374",
   "metadata": {},
   "outputs": [
    {
     "data": {
      "text/plain": [
       "0"
      ]
     },
     "execution_count": 35,
     "metadata": {},
     "output_type": "execute_result"
    }
   ],
   "source": [
    "data.loc[(data['children'] == -1) | (data['children'] == 20)]['children'].count()"
   ]
  },
  {
   "cell_type": "code",
   "execution_count": 36,
   "id": "4fc0b3e8",
   "metadata": {},
   "outputs": [
    {
     "data": {
      "text/plain": [
       "array([1, 0, 3, 2, 4, 5])"
      ]
     },
     "execution_count": 36,
     "metadata": {},
     "output_type": "execute_result"
    }
   ],
   "source": [
    "data['children'].unique() # проверка количества детей на аномалии"
   ]
  },
  {
   "cell_type": "markdown",
   "id": "c897f22c",
   "metadata": {},
   "source": [
    "аномальных пограничных значений количества детей не осталось"
   ]
  },
  {
   "cell_type": "markdown",
   "id": "6c930515",
   "metadata": {},
   "source": [
    "### Шаг 2.3. Изменение типов данных."
   ]
  },
  {
   "cell_type": "code",
   "execution_count": 37,
   "id": "8b85a96f",
   "metadata": {},
   "outputs": [
    {
     "name": "stdout",
     "output_type": "stream",
     "text": [
      "<class 'pandas.core.frame.DataFrame'>\n",
      "RangeIndex: 21525 entries, 0 to 21524\n",
      "Data columns (total 12 columns):\n",
      "children            21525 non-null int64\n",
      "days_employed       21525 non-null float64\n",
      "dob_years           21525 non-null int64\n",
      "education           21525 non-null object\n",
      "education_id        21525 non-null int64\n",
      "family_status       21525 non-null object\n",
      "family_status_id    21525 non-null int64\n",
      "gender              21525 non-null object\n",
      "income_type         21525 non-null object\n",
      "debt                21525 non-null int64\n",
      "total_income        21525 non-null float64\n",
      "purpose             21525 non-null object\n",
      "dtypes: float64(2), int64(5), object(5)\n",
      "memory usage: 2.0+ MB\n"
     ]
    }
   ],
   "source": [
    "data.info()"
   ]
  },
  {
   "cell_type": "code",
   "execution_count": 38,
   "id": "e0900fc3",
   "metadata": {},
   "outputs": [
    {
     "data": {
      "text/html": [
       "<div>\n",
       "<style scoped>\n",
       "    .dataframe tbody tr th:only-of-type {\n",
       "        vertical-align: middle;\n",
       "    }\n",
       "\n",
       "    .dataframe tbody tr th {\n",
       "        vertical-align: top;\n",
       "    }\n",
       "\n",
       "    .dataframe thead th {\n",
       "        text-align: right;\n",
       "    }\n",
       "</style>\n",
       "<table border=\"1\" class=\"dataframe\">\n",
       "  <thead>\n",
       "    <tr style=\"text-align: right;\">\n",
       "      <th></th>\n",
       "      <th>children</th>\n",
       "      <th>days_employed</th>\n",
       "      <th>dob_years</th>\n",
       "      <th>education</th>\n",
       "      <th>education_id</th>\n",
       "      <th>family_status</th>\n",
       "      <th>family_status_id</th>\n",
       "      <th>gender</th>\n",
       "      <th>income_type</th>\n",
       "      <th>debt</th>\n",
       "      <th>total_income</th>\n",
       "      <th>purpose</th>\n",
       "    </tr>\n",
       "  </thead>\n",
       "  <tbody>\n",
       "    <tr>\n",
       "      <td>0</td>\n",
       "      <td>1</td>\n",
       "      <td>-8437.673028</td>\n",
       "      <td>42</td>\n",
       "      <td>высшее</td>\n",
       "      <td>0</td>\n",
       "      <td>женат / замужем</td>\n",
       "      <td>0</td>\n",
       "      <td>F</td>\n",
       "      <td>сотрудник</td>\n",
       "      <td>0</td>\n",
       "      <td>253875</td>\n",
       "      <td>покупка жилья</td>\n",
       "    </tr>\n",
       "    <tr>\n",
       "      <td>1</td>\n",
       "      <td>1</td>\n",
       "      <td>-4024.803754</td>\n",
       "      <td>36</td>\n",
       "      <td>среднее</td>\n",
       "      <td>1</td>\n",
       "      <td>женат / замужем</td>\n",
       "      <td>0</td>\n",
       "      <td>F</td>\n",
       "      <td>сотрудник</td>\n",
       "      <td>0</td>\n",
       "      <td>112080</td>\n",
       "      <td>приобретение автомобиля</td>\n",
       "    </tr>\n",
       "    <tr>\n",
       "      <td>2</td>\n",
       "      <td>0</td>\n",
       "      <td>-5623.422610</td>\n",
       "      <td>33</td>\n",
       "      <td>Среднее</td>\n",
       "      <td>1</td>\n",
       "      <td>женат / замужем</td>\n",
       "      <td>0</td>\n",
       "      <td>M</td>\n",
       "      <td>сотрудник</td>\n",
       "      <td>0</td>\n",
       "      <td>145885</td>\n",
       "      <td>покупка жилья</td>\n",
       "    </tr>\n",
       "    <tr>\n",
       "      <td>3</td>\n",
       "      <td>3</td>\n",
       "      <td>-4124.747207</td>\n",
       "      <td>32</td>\n",
       "      <td>среднее</td>\n",
       "      <td>1</td>\n",
       "      <td>женат / замужем</td>\n",
       "      <td>0</td>\n",
       "      <td>M</td>\n",
       "      <td>сотрудник</td>\n",
       "      <td>0</td>\n",
       "      <td>267628</td>\n",
       "      <td>дополнительное образование</td>\n",
       "    </tr>\n",
       "    <tr>\n",
       "      <td>4</td>\n",
       "      <td>0</td>\n",
       "      <td>340266.072047</td>\n",
       "      <td>53</td>\n",
       "      <td>среднее</td>\n",
       "      <td>1</td>\n",
       "      <td>гражданский брак</td>\n",
       "      <td>1</td>\n",
       "      <td>F</td>\n",
       "      <td>пенсионер</td>\n",
       "      <td>0</td>\n",
       "      <td>158616</td>\n",
       "      <td>сыграть свадьбу</td>\n",
       "    </tr>\n",
       "  </tbody>\n",
       "</table>\n",
       "</div>"
      ],
      "text/plain": [
       "   children  days_employed  dob_years education  education_id  \\\n",
       "0         1   -8437.673028         42    высшее             0   \n",
       "1         1   -4024.803754         36   среднее             1   \n",
       "2         0   -5623.422610         33   Среднее             1   \n",
       "3         3   -4124.747207         32   среднее             1   \n",
       "4         0  340266.072047         53   среднее             1   \n",
       "\n",
       "      family_status  family_status_id gender income_type  debt  total_income  \\\n",
       "0   женат / замужем                 0      F   сотрудник     0        253875   \n",
       "1   женат / замужем                 0      F   сотрудник     0        112080   \n",
       "2   женат / замужем                 0      M   сотрудник     0        145885   \n",
       "3   женат / замужем                 0      M   сотрудник     0        267628   \n",
       "4  гражданский брак                 1      F   пенсионер     0        158616   \n",
       "\n",
       "                      purpose  \n",
       "0               покупка жилья  \n",
       "1     приобретение автомобиля  \n",
       "2               покупка жилья  \n",
       "3  дополнительное образование  \n",
       "4             сыграть свадьбу  "
      ]
     },
     "execution_count": 38,
     "metadata": {},
     "output_type": "execute_result"
    }
   ],
   "source": [
    "data['total_income'] = data['total_income'].astype(int)\n",
    "data.head()"
   ]
  },
  {
   "cell_type": "markdown",
   "id": "cfb11899",
   "metadata": {},
   "source": [
    "### Шаг 2.4. Удаление дубликатов."
   ]
  },
  {
   "cell_type": "markdown",
   "id": "89a0682c",
   "metadata": {},
   "source": [
    "Удаление явных дубликатов"
   ]
  },
  {
   "cell_type": "code",
   "execution_count": 39,
   "id": "6f115615",
   "metadata": {},
   "outputs": [
    {
     "data": {
      "text/plain": [
       "54"
      ]
     },
     "execution_count": 39,
     "metadata": {},
     "output_type": "execute_result"
    }
   ],
   "source": [
    "data.duplicated().sum()"
   ]
  },
  {
   "cell_type": "code",
   "execution_count": 40,
   "id": "082aedbe",
   "metadata": {},
   "outputs": [],
   "source": [
    "data = data.drop_duplicates().reset_index(drop=True)"
   ]
  },
  {
   "cell_type": "code",
   "execution_count": 41,
   "id": "8e17a357",
   "metadata": {},
   "outputs": [
    {
     "data": {
      "text/plain": [
       "0"
      ]
     },
     "execution_count": 41,
     "metadata": {},
     "output_type": "execute_result"
    }
   ],
   "source": [
    "data.duplicated().sum()"
   ]
  },
  {
   "cell_type": "markdown",
   "id": "0777ae35",
   "metadata": {},
   "source": [
    "Явные дубикаты удалены. осталось найти неявные\n"
   ]
  },
  {
   "cell_type": "code",
   "execution_count": 42,
   "id": "e97b0df8",
   "metadata": {},
   "outputs": [
    {
     "data": {
      "text/plain": [
       "array(['высшее', 'среднее', 'Среднее', 'СРЕДНЕЕ', 'ВЫСШЕЕ',\n",
       "       'неоконченное высшее', 'начальное', 'Высшее',\n",
       "       'НЕОКОНЧЕННОЕ ВЫСШЕЕ', 'Неоконченное высшее', 'НАЧАЛЬНОЕ',\n",
       "       'Начальное', 'Ученая степень', 'УЧЕНАЯ СТЕПЕНЬ', 'ученая степень'],\n",
       "      dtype=object)"
      ]
     },
     "execution_count": 42,
     "metadata": {},
     "output_type": "execute_result"
    }
   ],
   "source": [
    "data['education'].unique()"
   ]
  },
  {
   "cell_type": "code",
   "execution_count": 43,
   "id": "f7d79792",
   "metadata": {},
   "outputs": [],
   "source": [
    "data['education'] = data['education'].str.lower()\n"
   ]
  },
  {
   "cell_type": "code",
   "execution_count": 44,
   "id": "6aa210d4",
   "metadata": {},
   "outputs": [
    {
     "data": {
      "text/plain": [
       "array(['высшее', 'среднее', 'неоконченное высшее', 'начальное',\n",
       "       'ученая степень'], dtype=object)"
      ]
     },
     "execution_count": 44,
     "metadata": {},
     "output_type": "execute_result"
    }
   ],
   "source": [
    "data['education'].unique()"
   ]
  },
  {
   "cell_type": "markdown",
   "id": "2c2d9002",
   "metadata": {},
   "source": [
    "Приведение к нижнему регистру сократило количество неявных дубликатов."
   ]
  },
  {
   "cell_type": "markdown",
   "id": "810ebc51",
   "metadata": {},
   "source": [
    "На всякий случай еще раз проверим на явные дубликаты, если таковые найдутся - удаляем."
   ]
  },
  {
   "cell_type": "code",
   "execution_count": 45,
   "id": "ee27d99f",
   "metadata": {},
   "outputs": [
    {
     "data": {
      "text/plain": [
       "17"
      ]
     },
     "execution_count": 45,
     "metadata": {},
     "output_type": "execute_result"
    }
   ],
   "source": [
    "data.duplicated().sum()"
   ]
  },
  {
   "cell_type": "code",
   "execution_count": 46,
   "id": "321d266f",
   "metadata": {},
   "outputs": [],
   "source": [
    "data = data.drop_duplicates().reset_index(drop=True)"
   ]
  },
  {
   "cell_type": "code",
   "execution_count": 47,
   "id": "717448f9",
   "metadata": {},
   "outputs": [
    {
     "data": {
      "text/plain": [
       "0"
      ]
     },
     "execution_count": 47,
     "metadata": {},
     "output_type": "execute_result"
    }
   ],
   "source": [
    "data.duplicated().sum()"
   ]
  },
  {
   "cell_type": "markdown",
   "id": "6c78da16",
   "metadata": {},
   "source": [
    "### Шаг 2.5. Формирование дополнительных датафреймов словарей, декомпозиция исходного датафрейма."
   ]
  },
  {
   "cell_type": "code",
   "execution_count": 48,
   "id": "976efe15",
   "metadata": {},
   "outputs": [
    {
     "data": {
      "text/html": [
       "<div>\n",
       "<style scoped>\n",
       "    .dataframe tbody tr th:only-of-type {\n",
       "        vertical-align: middle;\n",
       "    }\n",
       "\n",
       "    .dataframe tbody tr th {\n",
       "        vertical-align: top;\n",
       "    }\n",
       "\n",
       "    .dataframe thead th {\n",
       "        text-align: right;\n",
       "    }\n",
       "</style>\n",
       "<table border=\"1\" class=\"dataframe\">\n",
       "  <thead>\n",
       "    <tr style=\"text-align: right;\">\n",
       "      <th></th>\n",
       "      <th>education_id</th>\n",
       "      <th>education</th>\n",
       "    </tr>\n",
       "  </thead>\n",
       "  <tbody>\n",
       "    <tr>\n",
       "      <td>0</td>\n",
       "      <td>0</td>\n",
       "      <td>высшее</td>\n",
       "    </tr>\n",
       "    <tr>\n",
       "      <td>1</td>\n",
       "      <td>1</td>\n",
       "      <td>среднее</td>\n",
       "    </tr>\n",
       "    <tr>\n",
       "      <td>2</td>\n",
       "      <td>1</td>\n",
       "      <td>среднее</td>\n",
       "    </tr>\n",
       "    <tr>\n",
       "      <td>3</td>\n",
       "      <td>1</td>\n",
       "      <td>среднее</td>\n",
       "    </tr>\n",
       "    <tr>\n",
       "      <td>4</td>\n",
       "      <td>1</td>\n",
       "      <td>среднее</td>\n",
       "    </tr>\n",
       "    <tr>\n",
       "      <td>...</td>\n",
       "      <td>...</td>\n",
       "      <td>...</td>\n",
       "    </tr>\n",
       "    <tr>\n",
       "      <td>21449</td>\n",
       "      <td>1</td>\n",
       "      <td>среднее</td>\n",
       "    </tr>\n",
       "    <tr>\n",
       "      <td>21450</td>\n",
       "      <td>1</td>\n",
       "      <td>среднее</td>\n",
       "    </tr>\n",
       "    <tr>\n",
       "      <td>21451</td>\n",
       "      <td>1</td>\n",
       "      <td>среднее</td>\n",
       "    </tr>\n",
       "    <tr>\n",
       "      <td>21452</td>\n",
       "      <td>1</td>\n",
       "      <td>среднее</td>\n",
       "    </tr>\n",
       "    <tr>\n",
       "      <td>21453</td>\n",
       "      <td>1</td>\n",
       "      <td>среднее</td>\n",
       "    </tr>\n",
       "  </tbody>\n",
       "</table>\n",
       "<p>21454 rows × 2 columns</p>\n",
       "</div>"
      ],
      "text/plain": [
       "       education_id education\n",
       "0                 0    высшее\n",
       "1                 1   среднее\n",
       "2                 1   среднее\n",
       "3                 1   среднее\n",
       "4                 1   среднее\n",
       "...             ...       ...\n",
       "21449             1   среднее\n",
       "21450             1   среднее\n",
       "21451             1   среднее\n",
       "21452             1   среднее\n",
       "21453             1   среднее\n",
       "\n",
       "[21454 rows x 2 columns]"
      ]
     },
     "execution_count": 48,
     "metadata": {},
     "output_type": "execute_result"
    }
   ],
   "source": [
    "data_education = data[['education_id','education']]\n",
    "data_education"
   ]
  },
  {
   "cell_type": "code",
   "execution_count": 49,
   "id": "0742a095",
   "metadata": {},
   "outputs": [],
   "source": [
    "data_education = data_education.drop_duplicates().reset_index(drop=True)"
   ]
  },
  {
   "cell_type": "code",
   "execution_count": 50,
   "id": "fb7aadf3",
   "metadata": {},
   "outputs": [
    {
     "data": {
      "text/plain": [
       "0"
      ]
     },
     "execution_count": 50,
     "metadata": {},
     "output_type": "execute_result"
    }
   ],
   "source": [
    "data_education.duplicated().sum()"
   ]
  },
  {
   "cell_type": "code",
   "execution_count": 51,
   "id": "fe60de99",
   "metadata": {},
   "outputs": [
    {
     "data": {
      "text/plain": [
       "21449"
      ]
     },
     "execution_count": 51,
     "metadata": {},
     "output_type": "execute_result"
    }
   ],
   "source": [
    "data_family_status = data[['family_status_id','family_status']]\n",
    "data_family_status.duplicated().sum()"
   ]
  },
  {
   "cell_type": "code",
   "execution_count": 52,
   "id": "8f6e5929",
   "metadata": {},
   "outputs": [],
   "source": [
    "data_family_status = data_family_status.drop_duplicates().reset_index(drop=True)"
   ]
  },
  {
   "cell_type": "code",
   "execution_count": 53,
   "id": "06bd03ca",
   "metadata": {},
   "outputs": [
    {
     "data": {
      "text/plain": [
       "0"
      ]
     },
     "execution_count": 53,
     "metadata": {},
     "output_type": "execute_result"
    }
   ],
   "source": [
    "data_family_status.duplicated().sum()"
   ]
  },
  {
   "cell_type": "code",
   "execution_count": 54,
   "id": "f047da05",
   "metadata": {},
   "outputs": [],
   "source": [
    "try:\n",
    "    data = data.drop(columns=['education', 'family_status'])\n",
    "except:\n",
    "    print('Столбцы отсутствуют')"
   ]
  },
  {
   "cell_type": "code",
   "execution_count": 55,
   "id": "6cafcb29",
   "metadata": {},
   "outputs": [
    {
     "name": "stdout",
     "output_type": "stream",
     "text": [
      "<class 'pandas.core.frame.DataFrame'>\n",
      "RangeIndex: 21454 entries, 0 to 21453\n",
      "Data columns (total 10 columns):\n",
      "children            21454 non-null int64\n",
      "days_employed       21454 non-null float64\n",
      "dob_years           21454 non-null int64\n",
      "education_id        21454 non-null int64\n",
      "family_status_id    21454 non-null int64\n",
      "gender              21454 non-null object\n",
      "income_type         21454 non-null object\n",
      "debt                21454 non-null int64\n",
      "total_income        21454 non-null int64\n",
      "purpose             21454 non-null object\n",
      "dtypes: float64(1), int64(6), object(3)\n",
      "memory usage: 1.6+ MB\n"
     ]
    }
   ],
   "source": [
    "data.info()"
   ]
  },
  {
   "cell_type": "markdown",
   "id": "5c1416a6",
   "metadata": {},
   "source": [
    "### Шаг 2.6. Категоризация дохода."
   ]
  },
  {
   "cell_type": "markdown",
   "id": "e4b21ed3",
   "metadata": {},
   "source": [
    "На основании диапазонов, указанных ниже, создайте столбец total_income_category с категориями:\n",
    "0–30000 — 'E';\n",
    "30001–50000 — 'D';\n",
    "50001–200000 — 'C';\n",
    "200001–1000000 — 'B';\n",
    "1000001 и выше — 'A'.\n",
    "Например, кредитополучателю с доходом 25000 нужно назначить категорию 'E', а клиенту, получающему 235000, — 'B'."
   ]
  },
  {
   "cell_type": "code",
   "execution_count": 56,
   "id": "2bbfb38e",
   "metadata": {},
   "outputs": [],
   "source": [
    "def income_category_simbol(row):\n",
    "    total_income = row['total_income']\n",
    "    try:\n",
    "        if 0<total_income<=30000:\n",
    "            return 'E'\n",
    "        elif 30001<=total_income<=50000:\n",
    "            return 'D'\n",
    "        elif 50001<=total_income<=200000:\n",
    "            return 'C'\n",
    "        elif 200001<=total_income<=1000000:\n",
    "            return 'B'\n",
    "        elif total_income>= 1000001:\n",
    "            return 'A'\n",
    "    except:\n",
    "        'Отрицательный доход'\n",
    "data['total_income_category'] = data.apply(income_category_simbol, axis=1)\n"
   ]
  },
  {
   "cell_type": "markdown",
   "id": "24e0ce90",
   "metadata": {},
   "source": [
    "Функция добавления категории заемщику исходя из его дохода применилась к дата сету.\n",
    "проверка результатов. посмотрим в датасете минимально знечание дохода у полученной категории."
   ]
  },
  {
   "cell_type": "code",
   "execution_count": 57,
   "id": "631defcf",
   "metadata": {},
   "outputs": [
    {
     "data": {
      "text/plain": [
       "array(['B', 'C', 'D', 'E', 'A'], dtype=object)"
      ]
     },
     "execution_count": 57,
     "metadata": {},
     "output_type": "execute_result"
    }
   ],
   "source": [
    "data[(data['total_income'] <= 10000000) & (data['total_income']>= 0)]['total_income_category'].unique()"
   ]
  },
  {
   "cell_type": "code",
   "execution_count": 58,
   "id": "ca49769e",
   "metadata": {},
   "outputs": [
    {
     "data": {
      "text/plain": [
       "20667"
      ]
     },
     "execution_count": 58,
     "metadata": {},
     "output_type": "execute_result"
    }
   ],
   "source": [
    "data[data['total_income_category'] == 'E']['total_income'].min()"
   ]
  },
  {
   "cell_type": "code",
   "execution_count": 59,
   "id": "456b425f",
   "metadata": {},
   "outputs": [
    {
     "data": {
      "text/plain": [
       "30075"
      ]
     },
     "execution_count": 59,
     "metadata": {},
     "output_type": "execute_result"
    }
   ],
   "source": [
    "data[data['total_income_category'] == 'D']['total_income'].min()"
   ]
  },
  {
   "cell_type": "code",
   "execution_count": 60,
   "id": "031326f1",
   "metadata": {},
   "outputs": [
    {
     "data": {
      "text/plain": [
       "50025"
      ]
     },
     "execution_count": 60,
     "metadata": {},
     "output_type": "execute_result"
    }
   ],
   "source": [
    "data[data['total_income_category'] == 'C']['total_income'].min()"
   ]
  },
  {
   "cell_type": "code",
   "execution_count": 61,
   "id": "5eb4891b",
   "metadata": {},
   "outputs": [
    {
     "data": {
      "text/plain": [
       "200001"
      ]
     },
     "execution_count": 61,
     "metadata": {},
     "output_type": "execute_result"
    }
   ],
   "source": [
    "data[data['total_income_category'] == 'B']['total_income'].min()"
   ]
  },
  {
   "cell_type": "code",
   "execution_count": 62,
   "id": "b353aad0",
   "metadata": {},
   "outputs": [
    {
     "data": {
      "text/plain": [
       "1004476"
      ]
     },
     "execution_count": 62,
     "metadata": {},
     "output_type": "execute_result"
    }
   ],
   "source": [
    "data[data['total_income_category'] == 'A']['total_income'].min()"
   ]
  },
  {
   "cell_type": "markdown",
   "id": "a68420a6",
   "metadata": {},
   "source": [
    "Категории расставились верно согласно начальному условию"
   ]
  },
  {
   "cell_type": "markdown",
   "id": "299f2f6d",
   "metadata": {},
   "source": [
    "### Шаг 2.7. Категоризация целей кредита."
   ]
  },
  {
   "cell_type": "markdown",
   "id": "f6d279c6",
   "metadata": {},
   "source": [
    "посмотрим уникальные значения в столбце с целью кредита"
   ]
  },
  {
   "cell_type": "code",
   "execution_count": 63,
   "id": "a2365d70",
   "metadata": {},
   "outputs": [
    {
     "data": {
      "text/plain": [
       "array(['покупка жилья', 'приобретение автомобиля',\n",
       "       'дополнительное образование', 'сыграть свадьбу',\n",
       "       'операции с жильем', 'образование', 'на проведение свадьбы',\n",
       "       'покупка жилья для семьи', 'покупка недвижимости',\n",
       "       'покупка коммерческой недвижимости', 'покупка жилой недвижимости',\n",
       "       'строительство собственной недвижимости', 'недвижимость',\n",
       "       'строительство недвижимости', 'на покупку подержанного автомобиля',\n",
       "       'на покупку своего автомобиля',\n",
       "       'операции с коммерческой недвижимостью',\n",
       "       'строительство жилой недвижимости', 'жилье',\n",
       "       'операции со своей недвижимостью', 'автомобили',\n",
       "       'заняться образованием', 'сделка с подержанным автомобилем',\n",
       "       'получение образования', 'автомобиль', 'свадьба',\n",
       "       'получение дополнительного образования', 'покупка своего жилья',\n",
       "       'операции с недвижимостью', 'получение высшего образования',\n",
       "       'свой автомобиль', 'сделка с автомобилем',\n",
       "       'профильное образование', 'высшее образование',\n",
       "       'покупка жилья для сдачи', 'на покупку автомобиля', 'ремонт жилью',\n",
       "       'заняться высшим образованием'], dtype=object)"
      ]
     },
     "execution_count": 63,
     "metadata": {},
     "output_type": "execute_result"
    }
   ],
   "source": [
    "data['purpose'].unique()"
   ]
  },
  {
   "cell_type": "markdown",
   "id": "8f07c772",
   "metadata": {},
   "source": [
    "Много неявных дублей, можно свести к 4 целям:\n",
    "'операции с автомобилем',\n",
    "'операции с недвижимостью',\n",
    "'проведение свадьбы',\n",
    "'получение образования'."
   ]
  },
  {
   "cell_type": "code",
   "execution_count": 64,
   "id": "68bd031b",
   "metadata": {},
   "outputs": [],
   "source": [
    "#с помощю функции purpose_arrange, которая описана ниже, производим категоризацию целей кредита\n",
    "def purpose_arrange(row):\n",
    "    purpose_local = row['purpose']\n",
    "    try:\n",
    "        if 'автомобил' in purpose_local:\n",
    "            return 'операции с автомобилем'\n",
    "        elif 'недвижимост' in purpose_local:\n",
    "            return 'операции с недвижимостью'\n",
    "        elif ('жиль') in purpose_local:\n",
    "            return 'операции с недвижимостью'\n",
    "        elif 'свадьб' in purpose_local:\n",
    "            return 'проведение свадьбы'\n",
    "        elif 'образовани' in purpose_local:\n",
    "            return 'получение образования'\n",
    "    except:\n",
    "        'Ошибка'\n",
    "\n",
    "        \n",
    "data['purpose_category'] = data.apply(purpose_arrange, axis=1)\n",
    "\n"
   ]
  },
  {
   "cell_type": "code",
   "execution_count": 65,
   "id": "32224253",
   "metadata": {},
   "outputs": [
    {
     "data": {
      "text/html": [
       "<div>\n",
       "<style scoped>\n",
       "    .dataframe tbody tr th:only-of-type {\n",
       "        vertical-align: middle;\n",
       "    }\n",
       "\n",
       "    .dataframe tbody tr th {\n",
       "        vertical-align: top;\n",
       "    }\n",
       "\n",
       "    .dataframe thead th {\n",
       "        text-align: right;\n",
       "    }\n",
       "</style>\n",
       "<table border=\"1\" class=\"dataframe\">\n",
       "  <thead>\n",
       "    <tr style=\"text-align: right;\">\n",
       "      <th></th>\n",
       "      <th>children</th>\n",
       "      <th>days_employed</th>\n",
       "      <th>dob_years</th>\n",
       "      <th>education_id</th>\n",
       "      <th>family_status_id</th>\n",
       "      <th>gender</th>\n",
       "      <th>income_type</th>\n",
       "      <th>debt</th>\n",
       "      <th>total_income</th>\n",
       "      <th>purpose</th>\n",
       "      <th>total_income_category</th>\n",
       "      <th>purpose_category</th>\n",
       "    </tr>\n",
       "  </thead>\n",
       "  <tbody>\n",
       "    <tr>\n",
       "      <td>0</td>\n",
       "      <td>1</td>\n",
       "      <td>-8437.673028</td>\n",
       "      <td>42</td>\n",
       "      <td>0</td>\n",
       "      <td>0</td>\n",
       "      <td>F</td>\n",
       "      <td>сотрудник</td>\n",
       "      <td>0</td>\n",
       "      <td>253875</td>\n",
       "      <td>покупка жилья</td>\n",
       "      <td>B</td>\n",
       "      <td>операции с недвижимостью</td>\n",
       "    </tr>\n",
       "    <tr>\n",
       "      <td>1</td>\n",
       "      <td>1</td>\n",
       "      <td>-4024.803754</td>\n",
       "      <td>36</td>\n",
       "      <td>1</td>\n",
       "      <td>0</td>\n",
       "      <td>F</td>\n",
       "      <td>сотрудник</td>\n",
       "      <td>0</td>\n",
       "      <td>112080</td>\n",
       "      <td>приобретение автомобиля</td>\n",
       "      <td>C</td>\n",
       "      <td>операции с автомобилем</td>\n",
       "    </tr>\n",
       "    <tr>\n",
       "      <td>2</td>\n",
       "      <td>0</td>\n",
       "      <td>-5623.422610</td>\n",
       "      <td>33</td>\n",
       "      <td>1</td>\n",
       "      <td>0</td>\n",
       "      <td>M</td>\n",
       "      <td>сотрудник</td>\n",
       "      <td>0</td>\n",
       "      <td>145885</td>\n",
       "      <td>покупка жилья</td>\n",
       "      <td>C</td>\n",
       "      <td>операции с недвижимостью</td>\n",
       "    </tr>\n",
       "    <tr>\n",
       "      <td>3</td>\n",
       "      <td>3</td>\n",
       "      <td>-4124.747207</td>\n",
       "      <td>32</td>\n",
       "      <td>1</td>\n",
       "      <td>0</td>\n",
       "      <td>M</td>\n",
       "      <td>сотрудник</td>\n",
       "      <td>0</td>\n",
       "      <td>267628</td>\n",
       "      <td>дополнительное образование</td>\n",
       "      <td>B</td>\n",
       "      <td>получение образования</td>\n",
       "    </tr>\n",
       "    <tr>\n",
       "      <td>4</td>\n",
       "      <td>0</td>\n",
       "      <td>340266.072047</td>\n",
       "      <td>53</td>\n",
       "      <td>1</td>\n",
       "      <td>1</td>\n",
       "      <td>F</td>\n",
       "      <td>пенсионер</td>\n",
       "      <td>0</td>\n",
       "      <td>158616</td>\n",
       "      <td>сыграть свадьбу</td>\n",
       "      <td>C</td>\n",
       "      <td>проведение свадьбы</td>\n",
       "    </tr>\n",
       "    <tr>\n",
       "      <td>...</td>\n",
       "      <td>...</td>\n",
       "      <td>...</td>\n",
       "      <td>...</td>\n",
       "      <td>...</td>\n",
       "      <td>...</td>\n",
       "      <td>...</td>\n",
       "      <td>...</td>\n",
       "      <td>...</td>\n",
       "      <td>...</td>\n",
       "      <td>...</td>\n",
       "      <td>...</td>\n",
       "      <td>...</td>\n",
       "    </tr>\n",
       "    <tr>\n",
       "      <td>21449</td>\n",
       "      <td>1</td>\n",
       "      <td>-4529.316663</td>\n",
       "      <td>43</td>\n",
       "      <td>1</td>\n",
       "      <td>1</td>\n",
       "      <td>F</td>\n",
       "      <td>компаньон</td>\n",
       "      <td>0</td>\n",
       "      <td>224791</td>\n",
       "      <td>операции с жильем</td>\n",
       "      <td>B</td>\n",
       "      <td>операции с недвижимостью</td>\n",
       "    </tr>\n",
       "    <tr>\n",
       "      <td>21450</td>\n",
       "      <td>0</td>\n",
       "      <td>343937.404131</td>\n",
       "      <td>67</td>\n",
       "      <td>1</td>\n",
       "      <td>0</td>\n",
       "      <td>F</td>\n",
       "      <td>пенсионер</td>\n",
       "      <td>0</td>\n",
       "      <td>155999</td>\n",
       "      <td>сделка с автомобилем</td>\n",
       "      <td>C</td>\n",
       "      <td>операции с автомобилем</td>\n",
       "    </tr>\n",
       "    <tr>\n",
       "      <td>21451</td>\n",
       "      <td>1</td>\n",
       "      <td>-2113.346888</td>\n",
       "      <td>38</td>\n",
       "      <td>1</td>\n",
       "      <td>1</td>\n",
       "      <td>M</td>\n",
       "      <td>сотрудник</td>\n",
       "      <td>1</td>\n",
       "      <td>89672</td>\n",
       "      <td>недвижимость</td>\n",
       "      <td>C</td>\n",
       "      <td>операции с недвижимостью</td>\n",
       "    </tr>\n",
       "    <tr>\n",
       "      <td>21452</td>\n",
       "      <td>3</td>\n",
       "      <td>-3112.481705</td>\n",
       "      <td>38</td>\n",
       "      <td>1</td>\n",
       "      <td>0</td>\n",
       "      <td>M</td>\n",
       "      <td>сотрудник</td>\n",
       "      <td>1</td>\n",
       "      <td>244093</td>\n",
       "      <td>на покупку своего автомобиля</td>\n",
       "      <td>B</td>\n",
       "      <td>операции с автомобилем</td>\n",
       "    </tr>\n",
       "    <tr>\n",
       "      <td>21453</td>\n",
       "      <td>2</td>\n",
       "      <td>-1984.507589</td>\n",
       "      <td>40</td>\n",
       "      <td>1</td>\n",
       "      <td>0</td>\n",
       "      <td>F</td>\n",
       "      <td>сотрудник</td>\n",
       "      <td>0</td>\n",
       "      <td>82047</td>\n",
       "      <td>на покупку автомобиля</td>\n",
       "      <td>C</td>\n",
       "      <td>операции с автомобилем</td>\n",
       "    </tr>\n",
       "  </tbody>\n",
       "</table>\n",
       "<p>21454 rows × 12 columns</p>\n",
       "</div>"
      ],
      "text/plain": [
       "       children  days_employed  dob_years  education_id  family_status_id  \\\n",
       "0             1   -8437.673028         42             0                 0   \n",
       "1             1   -4024.803754         36             1                 0   \n",
       "2             0   -5623.422610         33             1                 0   \n",
       "3             3   -4124.747207         32             1                 0   \n",
       "4             0  340266.072047         53             1                 1   \n",
       "...         ...            ...        ...           ...               ...   \n",
       "21449         1   -4529.316663         43             1                 1   \n",
       "21450         0  343937.404131         67             1                 0   \n",
       "21451         1   -2113.346888         38             1                 1   \n",
       "21452         3   -3112.481705         38             1                 0   \n",
       "21453         2   -1984.507589         40             1                 0   \n",
       "\n",
       "      gender income_type  debt  total_income                       purpose  \\\n",
       "0          F   сотрудник     0        253875                 покупка жилья   \n",
       "1          F   сотрудник     0        112080       приобретение автомобиля   \n",
       "2          M   сотрудник     0        145885                 покупка жилья   \n",
       "3          M   сотрудник     0        267628    дополнительное образование   \n",
       "4          F   пенсионер     0        158616               сыграть свадьбу   \n",
       "...      ...         ...   ...           ...                           ...   \n",
       "21449      F   компаньон     0        224791             операции с жильем   \n",
       "21450      F   пенсионер     0        155999          сделка с автомобилем   \n",
       "21451      M   сотрудник     1         89672                  недвижимость   \n",
       "21452      M   сотрудник     1        244093  на покупку своего автомобиля   \n",
       "21453      F   сотрудник     0         82047         на покупку автомобиля   \n",
       "\n",
       "      total_income_category          purpose_category  \n",
       "0                         B  операции с недвижимостью  \n",
       "1                         C    операции с автомобилем  \n",
       "2                         C  операции с недвижимостью  \n",
       "3                         B     получение образования  \n",
       "4                         C        проведение свадьбы  \n",
       "...                     ...                       ...  \n",
       "21449                     B  операции с недвижимостью  \n",
       "21450                     C    операции с автомобилем  \n",
       "21451                     C  операции с недвижимостью  \n",
       "21452                     B    операции с автомобилем  \n",
       "21453                     C    операции с автомобилем  \n",
       "\n",
       "[21454 rows x 12 columns]"
      ]
     },
     "execution_count": 65,
     "metadata": {},
     "output_type": "execute_result"
    }
   ],
   "source": [
    "data"
   ]
  },
  {
   "cell_type": "markdown",
   "id": "92b0c636",
   "metadata": {},
   "source": [
    "### Ответы на вопросы."
   ]
  },
  {
   "cell_type": "markdown",
   "id": "cf2404a9",
   "metadata": {},
   "source": [
    "##### Вопрос 1: "
   ]
  },
  {
   "cell_type": "markdown",
   "id": "e0266fac",
   "metadata": {},
   "source": [
    "Есть ли зависимость между количеством детей и возвратом кредита в срок?\n"
   ]
  },
  {
   "cell_type": "markdown",
   "id": "cc5ab37a",
   "metadata": {},
   "source": [
    "Что бы ответить на этот вопрос, надо "
   ]
  },
  {
   "cell_type": "code",
   "execution_count": 66,
   "id": "c13640b9",
   "metadata": {},
   "outputs": [],
   "source": [
    "data1 = data.pivot_table(index=['children'], columns='debt', values='dob_years', aggfunc='count')"
   ]
  },
  {
   "cell_type": "code",
   "execution_count": 67,
   "id": "1471efff",
   "metadata": {},
   "outputs": [],
   "source": [
    "data1['total_avg'] = data1[1]/data1[0]*100\n"
   ]
  },
  {
   "cell_type": "code",
   "execution_count": 68,
   "id": "4cc51f38",
   "metadata": {},
   "outputs": [],
   "source": [
    "data1['percernt_cildren_avg'] = data1[1]/(data1[1] + data1[0])*100 #Добавленый код после первой проверки"
   ]
  },
  {
   "cell_type": "code",
   "execution_count": 69,
   "id": "30e7b3c5",
   "metadata": {},
   "outputs": [
    {
     "data": {
      "text/html": [
       "<div>\n",
       "<style scoped>\n",
       "    .dataframe tbody tr th:only-of-type {\n",
       "        vertical-align: middle;\n",
       "    }\n",
       "\n",
       "    .dataframe tbody tr th {\n",
       "        vertical-align: top;\n",
       "    }\n",
       "\n",
       "    .dataframe thead th {\n",
       "        text-align: right;\n",
       "    }\n",
       "</style>\n",
       "<table border=\"1\" class=\"dataframe\">\n",
       "  <thead>\n",
       "    <tr style=\"text-align: right;\">\n",
       "      <th>debt</th>\n",
       "      <th>0</th>\n",
       "      <th>1</th>\n",
       "      <th>total_avg</th>\n",
       "      <th>percernt_cildren_avg</th>\n",
       "    </tr>\n",
       "    <tr>\n",
       "      <th>children</th>\n",
       "      <th></th>\n",
       "      <th></th>\n",
       "      <th></th>\n",
       "      <th></th>\n",
       "    </tr>\n",
       "  </thead>\n",
       "  <tbody>\n",
       "    <tr>\n",
       "      <td>0</td>\n",
       "      <td>13142.0</td>\n",
       "      <td>1072.0</td>\n",
       "      <td>8.157054</td>\n",
       "      <td>7.541860</td>\n",
       "    </tr>\n",
       "    <tr>\n",
       "      <td>3</td>\n",
       "      <td>303.0</td>\n",
       "      <td>27.0</td>\n",
       "      <td>8.910891</td>\n",
       "      <td>8.181818</td>\n",
       "    </tr>\n",
       "    <tr>\n",
       "      <td>1</td>\n",
       "      <td>4364.0</td>\n",
       "      <td>444.0</td>\n",
       "      <td>10.174152</td>\n",
       "      <td>9.234609</td>\n",
       "    </tr>\n",
       "    <tr>\n",
       "      <td>2</td>\n",
       "      <td>1858.0</td>\n",
       "      <td>194.0</td>\n",
       "      <td>10.441335</td>\n",
       "      <td>9.454191</td>\n",
       "    </tr>\n",
       "    <tr>\n",
       "      <td>4</td>\n",
       "      <td>37.0</td>\n",
       "      <td>4.0</td>\n",
       "      <td>10.810811</td>\n",
       "      <td>9.756098</td>\n",
       "    </tr>\n",
       "    <tr>\n",
       "      <td>5</td>\n",
       "      <td>9.0</td>\n",
       "      <td>NaN</td>\n",
       "      <td>NaN</td>\n",
       "      <td>NaN</td>\n",
       "    </tr>\n",
       "  </tbody>\n",
       "</table>\n",
       "</div>"
      ],
      "text/plain": [
       "debt            0       1  total_avg  percernt_cildren_avg\n",
       "children                                                  \n",
       "0         13142.0  1072.0   8.157054              7.541860\n",
       "3           303.0    27.0   8.910891              8.181818\n",
       "1          4364.0   444.0  10.174152              9.234609\n",
       "2          1858.0   194.0  10.441335              9.454191\n",
       "4            37.0     4.0  10.810811              9.756098\n",
       "5             9.0     NaN        NaN                   NaN"
      ]
     },
     "execution_count": 69,
     "metadata": {},
     "output_type": "execute_result"
    }
   ],
   "source": [
    "data1.sort_values(by='total_avg')"
   ]
  },
  {
   "cell_type": "markdown",
   "id": "553c8dec",
   "metadata": {},
   "source": [
    "Самая лучшая ситуация с обслуживанием задолженности у двух групп людей: с 5 детьми и без детей"
   ]
  },
  {
   "cell_type": "markdown",
   "id": "0e4ba1ab",
   "metadata": {},
   "source": [
    "##### Вывод 1:"
   ]
  },
  {
   "cell_type": "markdown",
   "id": "e4541f64",
   "metadata": {},
   "source": [
    "Из сводной таблицы видно, что заемщики с 5 детьми не допускают просрочек.\n",
    "Правда таких  людей немного, поэтому не особоенно показательный результат,\n",
    "но на втором месте люди без детей.\n",
    "То есть можно сказать, что появление ребенка сказывается на платежеспосоности клиента"
   ]
  },
  {
   "cell_type": "markdown",
   "id": "cccd9b72",
   "metadata": {},
   "source": [
    "##### Вопрос 2: "
   ]
  },
  {
   "cell_type": "markdown",
   "id": "256a91ee",
   "metadata": {},
   "source": [
    "Есть ли зависимость между семейным положением и возвратом кредита в срок?"
   ]
  },
  {
   "cell_type": "code",
   "execution_count": 70,
   "id": "84052152",
   "metadata": {},
   "outputs": [],
   "source": [
    "data3=data.pivot_table(index='family_status_id',columns='debt', values='total_income',aggfunc='count')"
   ]
  },
  {
   "cell_type": "code",
   "execution_count": 71,
   "id": "f15cc9b0",
   "metadata": {},
   "outputs": [],
   "source": [
    "data3['total_avg']=data3[1]/data3[0]*100"
   ]
  },
  {
   "cell_type": "code",
   "execution_count": 72,
   "id": "23f08e48",
   "metadata": {},
   "outputs": [],
   "source": [
    "data3['percernt_cildren_avg'] = data3[1]/(data3[1] + data3[0])*100 #Добавленый код после первой проверки"
   ]
  },
  {
   "cell_type": "code",
   "execution_count": 73,
   "id": "acec5118",
   "metadata": {},
   "outputs": [
    {
     "data": {
      "text/html": [
       "<div>\n",
       "<style scoped>\n",
       "    .dataframe tbody tr th:only-of-type {\n",
       "        vertical-align: middle;\n",
       "    }\n",
       "\n",
       "    .dataframe tbody tr th {\n",
       "        vertical-align: top;\n",
       "    }\n",
       "\n",
       "    .dataframe thead th {\n",
       "        text-align: right;\n",
       "    }\n",
       "</style>\n",
       "<table border=\"1\" class=\"dataframe\">\n",
       "  <thead>\n",
       "    <tr style=\"text-align: right;\">\n",
       "      <th>debt</th>\n",
       "      <th>0</th>\n",
       "      <th>1</th>\n",
       "      <th>total_avg</th>\n",
       "      <th>percernt_cildren_avg</th>\n",
       "    </tr>\n",
       "    <tr>\n",
       "      <th>family_status_id</th>\n",
       "      <th></th>\n",
       "      <th></th>\n",
       "      <th></th>\n",
       "      <th></th>\n",
       "    </tr>\n",
       "  </thead>\n",
       "  <tbody>\n",
       "    <tr>\n",
       "      <td>2</td>\n",
       "      <td>896</td>\n",
       "      <td>63</td>\n",
       "      <td>7.031250</td>\n",
       "      <td>6.569343</td>\n",
       "    </tr>\n",
       "    <tr>\n",
       "      <td>3</td>\n",
       "      <td>1110</td>\n",
       "      <td>85</td>\n",
       "      <td>7.657658</td>\n",
       "      <td>7.112971</td>\n",
       "    </tr>\n",
       "    <tr>\n",
       "      <td>0</td>\n",
       "      <td>11408</td>\n",
       "      <td>931</td>\n",
       "      <td>8.160940</td>\n",
       "      <td>7.545182</td>\n",
       "    </tr>\n",
       "    <tr>\n",
       "      <td>1</td>\n",
       "      <td>3763</td>\n",
       "      <td>388</td>\n",
       "      <td>10.310922</td>\n",
       "      <td>9.347145</td>\n",
       "    </tr>\n",
       "    <tr>\n",
       "      <td>4</td>\n",
       "      <td>2536</td>\n",
       "      <td>274</td>\n",
       "      <td>10.804416</td>\n",
       "      <td>9.750890</td>\n",
       "    </tr>\n",
       "  </tbody>\n",
       "</table>\n",
       "</div>"
      ],
      "text/plain": [
       "debt                  0    1  total_avg  percernt_cildren_avg\n",
       "family_status_id                                             \n",
       "2                   896   63   7.031250              6.569343\n",
       "3                  1110   85   7.657658              7.112971\n",
       "0                 11408  931   8.160940              7.545182\n",
       "1                  3763  388  10.310922              9.347145\n",
       "4                  2536  274  10.804416              9.750890"
      ]
     },
     "execution_count": 73,
     "metadata": {},
     "output_type": "execute_result"
    }
   ],
   "source": [
    "data3.sort_values(by='total_avg')"
   ]
  },
  {
   "cell_type": "code",
   "execution_count": 74,
   "id": "d3f38c82",
   "metadata": {},
   "outputs": [
    {
     "data": {
      "text/html": [
       "<div>\n",
       "<style scoped>\n",
       "    .dataframe tbody tr th:only-of-type {\n",
       "        vertical-align: middle;\n",
       "    }\n",
       "\n",
       "    .dataframe tbody tr th {\n",
       "        vertical-align: top;\n",
       "    }\n",
       "\n",
       "    .dataframe thead th {\n",
       "        text-align: right;\n",
       "    }\n",
       "</style>\n",
       "<table border=\"1\" class=\"dataframe\">\n",
       "  <thead>\n",
       "    <tr style=\"text-align: right;\">\n",
       "      <th></th>\n",
       "      <th>family_status_id</th>\n",
       "      <th>0</th>\n",
       "      <th>1</th>\n",
       "      <th>total_avg</th>\n",
       "      <th>percernt_cildren_avg</th>\n",
       "      <th>family_status</th>\n",
       "    </tr>\n",
       "  </thead>\n",
       "  <tbody>\n",
       "    <tr>\n",
       "      <td>2</td>\n",
       "      <td>2</td>\n",
       "      <td>896</td>\n",
       "      <td>63</td>\n",
       "      <td>7.031250</td>\n",
       "      <td>6.569343</td>\n",
       "      <td>вдовец / вдова</td>\n",
       "    </tr>\n",
       "    <tr>\n",
       "      <td>3</td>\n",
       "      <td>3</td>\n",
       "      <td>1110</td>\n",
       "      <td>85</td>\n",
       "      <td>7.657658</td>\n",
       "      <td>7.112971</td>\n",
       "      <td>в разводе</td>\n",
       "    </tr>\n",
       "    <tr>\n",
       "      <td>0</td>\n",
       "      <td>0</td>\n",
       "      <td>11408</td>\n",
       "      <td>931</td>\n",
       "      <td>8.160940</td>\n",
       "      <td>7.545182</td>\n",
       "      <td>женат / замужем</td>\n",
       "    </tr>\n",
       "    <tr>\n",
       "      <td>1</td>\n",
       "      <td>1</td>\n",
       "      <td>3763</td>\n",
       "      <td>388</td>\n",
       "      <td>10.310922</td>\n",
       "      <td>9.347145</td>\n",
       "      <td>гражданский брак</td>\n",
       "    </tr>\n",
       "    <tr>\n",
       "      <td>4</td>\n",
       "      <td>4</td>\n",
       "      <td>2536</td>\n",
       "      <td>274</td>\n",
       "      <td>10.804416</td>\n",
       "      <td>9.750890</td>\n",
       "      <td>Не женат / не замужем</td>\n",
       "    </tr>\n",
       "  </tbody>\n",
       "</table>\n",
       "</div>"
      ],
      "text/plain": [
       "   family_status_id      0    1  total_avg  percernt_cildren_avg  \\\n",
       "2                 2    896   63   7.031250              6.569343   \n",
       "3                 3   1110   85   7.657658              7.112971   \n",
       "0                 0  11408  931   8.160940              7.545182   \n",
       "1                 1   3763  388  10.310922              9.347145   \n",
       "4                 4   2536  274  10.804416              9.750890   \n",
       "\n",
       "           family_status  \n",
       "2         вдовец / вдова  \n",
       "3              в разводе  \n",
       "0        женат / замужем  \n",
       "1       гражданский брак  \n",
       "4  Не женат / не замужем  "
      ]
     },
     "execution_count": 74,
     "metadata": {},
     "output_type": "execute_result"
    }
   ],
   "source": [
    "data3.merge(data_family_status, on='family_status_id', how='left').sort_values(by='total_avg')"
   ]
  },
  {
   "cell_type": "markdown",
   "id": "6ebfb373",
   "metadata": {},
   "source": [
    "##### Вывод 2:"
   ]
  },
  {
   "cell_type": "markdown",
   "id": "a2d6964d",
   "metadata": {},
   "source": [
    "Наблюдается следующая зависимость, что человек, перенесший расставание с супругом - он более ответственный в платежной дисциплине, и меньше допускает просрочек по кредиту."
   ]
  },
  {
   "cell_type": "markdown",
   "id": "45720046",
   "metadata": {},
   "source": [
    "##### Вопрос 3: "
   ]
  },
  {
   "cell_type": "markdown",
   "id": "39cbaefc",
   "metadata": {},
   "source": [
    "Есть ли зависимость между уровнем дохода и возвратом кредита в срок?"
   ]
  },
  {
   "cell_type": "code",
   "execution_count": 75,
   "id": "4ac2dfa0",
   "metadata": {},
   "outputs": [],
   "source": [
    "data4 = data.pivot_table(index='total_income_category',columns = 'debt', values='total_income', aggfunc='count')"
   ]
  },
  {
   "cell_type": "code",
   "execution_count": 76,
   "id": "5beee2ea",
   "metadata": {},
   "outputs": [],
   "source": [
    "data4['total_avg'] = data4[1]/data4[0]*100"
   ]
  },
  {
   "cell_type": "code",
   "execution_count": 77,
   "id": "f5709523",
   "metadata": {},
   "outputs": [],
   "source": [
    "data4['percernt_cildren_avg'] = data4[1]/(data4[1] + data4[0])*100 #Добавленый код после первой проверки"
   ]
  },
  {
   "cell_type": "code",
   "execution_count": 78,
   "id": "bf0b055a",
   "metadata": {},
   "outputs": [
    {
     "data": {
      "text/html": [
       "<div>\n",
       "<style scoped>\n",
       "    .dataframe tbody tr th:only-of-type {\n",
       "        vertical-align: middle;\n",
       "    }\n",
       "\n",
       "    .dataframe tbody tr th {\n",
       "        vertical-align: top;\n",
       "    }\n",
       "\n",
       "    .dataframe thead th {\n",
       "        text-align: right;\n",
       "    }\n",
       "</style>\n",
       "<table border=\"1\" class=\"dataframe\">\n",
       "  <thead>\n",
       "    <tr style=\"text-align: right;\">\n",
       "      <th>debt</th>\n",
       "      <th>0</th>\n",
       "      <th>1</th>\n",
       "      <th>total_avg</th>\n",
       "      <th>percernt_cildren_avg</th>\n",
       "    </tr>\n",
       "    <tr>\n",
       "      <th>total_income_category</th>\n",
       "      <th></th>\n",
       "      <th></th>\n",
       "      <th></th>\n",
       "      <th></th>\n",
       "    </tr>\n",
       "  </thead>\n",
       "  <tbody>\n",
       "    <tr>\n",
       "      <td>D</td>\n",
       "      <td>329</td>\n",
       "      <td>21</td>\n",
       "      <td>6.382979</td>\n",
       "      <td>6.000000</td>\n",
       "    </tr>\n",
       "    <tr>\n",
       "      <td>B</td>\n",
       "      <td>4685</td>\n",
       "      <td>356</td>\n",
       "      <td>7.598719</td>\n",
       "      <td>7.062091</td>\n",
       "    </tr>\n",
       "    <tr>\n",
       "      <td>A</td>\n",
       "      <td>23</td>\n",
       "      <td>2</td>\n",
       "      <td>8.695652</td>\n",
       "      <td>8.000000</td>\n",
       "    </tr>\n",
       "    <tr>\n",
       "      <td>C</td>\n",
       "      <td>14656</td>\n",
       "      <td>1360</td>\n",
       "      <td>9.279476</td>\n",
       "      <td>8.491508</td>\n",
       "    </tr>\n",
       "    <tr>\n",
       "      <td>E</td>\n",
       "      <td>20</td>\n",
       "      <td>2</td>\n",
       "      <td>10.000000</td>\n",
       "      <td>9.090909</td>\n",
       "    </tr>\n",
       "  </tbody>\n",
       "</table>\n",
       "</div>"
      ],
      "text/plain": [
       "debt                       0     1  total_avg  percernt_cildren_avg\n",
       "total_income_category                                              \n",
       "D                        329    21   6.382979              6.000000\n",
       "B                       4685   356   7.598719              7.062091\n",
       "A                         23     2   8.695652              8.000000\n",
       "C                      14656  1360   9.279476              8.491508\n",
       "E                         20     2  10.000000              9.090909"
      ]
     },
     "execution_count": 78,
     "metadata": {},
     "output_type": "execute_result"
    }
   ],
   "source": [
    "data4.sort_values(by='total_avg')"
   ]
  },
  {
   "cell_type": "markdown",
   "id": "526befb9",
   "metadata": {},
   "source": [
    "##### Вывод 3:"
   ]
  },
  {
   "cell_type": "markdown",
   "id": "268ce5ad",
   "metadata": {},
   "source": [
    "Лучшая ситуация в категориях заемщиков D и B, то есть с доходами от 30001 до 100000 руб\n",
    "\n",
    "Поправка: \n",
    "\n",
    "Клинеты группы D с доходом от 30 до 50 тыс в мес\n",
    "\n",
    "Клиенты группы B с доходом от 200 до миллиона в мес"
   ]
  },
  {
   "cell_type": "markdown",
   "id": "956fe852",
   "metadata": {},
   "source": [
    "##### Вопрос 4: "
   ]
  },
  {
   "cell_type": "markdown",
   "id": "7c75a4aa",
   "metadata": {},
   "source": [
    "Как разные цели кредита влияют на его возврат в срок?"
   ]
  },
  {
   "cell_type": "code",
   "execution_count": 79,
   "id": "bde08693",
   "metadata": {},
   "outputs": [],
   "source": [
    "data5=data.pivot_table(index='purpose_category',columns='debt', values='dob_years', aggfunc='count')"
   ]
  },
  {
   "cell_type": "code",
   "execution_count": 80,
   "id": "e7fcd1e3",
   "metadata": {},
   "outputs": [],
   "source": [
    "data5['total_avg']=data5[1]/data5[0]*100"
   ]
  },
  {
   "cell_type": "code",
   "execution_count": 81,
   "id": "d182e423",
   "metadata": {},
   "outputs": [],
   "source": [
    "data5['percernt_cildren_avg'] = data5[1]/(data5[1] + data5[0])*100 #Добавленый код после первой проверки"
   ]
  },
  {
   "cell_type": "code",
   "execution_count": 82,
   "id": "754ce649",
   "metadata": {},
   "outputs": [
    {
     "data": {
      "text/html": [
       "<div>\n",
       "<style scoped>\n",
       "    .dataframe tbody tr th:only-of-type {\n",
       "        vertical-align: middle;\n",
       "    }\n",
       "\n",
       "    .dataframe tbody tr th {\n",
       "        vertical-align: top;\n",
       "    }\n",
       "\n",
       "    .dataframe thead th {\n",
       "        text-align: right;\n",
       "    }\n",
       "</style>\n",
       "<table border=\"1\" class=\"dataframe\">\n",
       "  <thead>\n",
       "    <tr style=\"text-align: right;\">\n",
       "      <th>debt</th>\n",
       "      <th>0</th>\n",
       "      <th>1</th>\n",
       "      <th>total_avg</th>\n",
       "      <th>percernt_cildren_avg</th>\n",
       "    </tr>\n",
       "    <tr>\n",
       "      <th>purpose_category</th>\n",
       "      <th></th>\n",
       "      <th></th>\n",
       "      <th></th>\n",
       "      <th></th>\n",
       "    </tr>\n",
       "  </thead>\n",
       "  <tbody>\n",
       "    <tr>\n",
       "      <td>операции с недвижимостью</td>\n",
       "      <td>10029</td>\n",
       "      <td>782</td>\n",
       "      <td>7.797388</td>\n",
       "      <td>7.233373</td>\n",
       "    </tr>\n",
       "    <tr>\n",
       "      <td>проведение свадьбы</td>\n",
       "      <td>2138</td>\n",
       "      <td>186</td>\n",
       "      <td>8.699719</td>\n",
       "      <td>8.003442</td>\n",
       "    </tr>\n",
       "    <tr>\n",
       "      <td>получение образования</td>\n",
       "      <td>3643</td>\n",
       "      <td>370</td>\n",
       "      <td>10.156464</td>\n",
       "      <td>9.220035</td>\n",
       "    </tr>\n",
       "    <tr>\n",
       "      <td>операции с автомобилем</td>\n",
       "      <td>3903</td>\n",
       "      <td>403</td>\n",
       "      <td>10.325391</td>\n",
       "      <td>9.359034</td>\n",
       "    </tr>\n",
       "  </tbody>\n",
       "</table>\n",
       "</div>"
      ],
      "text/plain": [
       "debt                          0    1  total_avg  percernt_cildren_avg\n",
       "purpose_category                                                     \n",
       "операции с недвижимостью  10029  782   7.797388              7.233373\n",
       "проведение свадьбы         2138  186   8.699719              8.003442\n",
       "получение образования      3643  370  10.156464              9.220035\n",
       "операции с автомобилем     3903  403  10.325391              9.359034"
      ]
     },
     "execution_count": 82,
     "metadata": {},
     "output_type": "execute_result"
    }
   ],
   "source": [
    "data5.sort_values(by='total_avg')"
   ]
  },
  {
   "cell_type": "markdown",
   "id": "eaf753a3",
   "metadata": {},
   "source": [
    "##### Вывод 4:"
   ]
  },
  {
   "cell_type": "markdown",
   "id": "716b37db",
   "metadata": {},
   "source": [
    "Значимые цели кредита имеют лучшую статистику по своевременным оплатам."
   ]
  },
  {
   "cell_type": "markdown",
   "id": "0d365421",
   "metadata": {},
   "source": [
    "## Общий вывод:"
   ]
  },
  {
   "cell_type": "markdown",
   "id": "4fdcf55b",
   "metadata": {},
   "source": [
    "Подводя итог, можно сказать, что наиболее ответственно подходят к платежной дисциплине по кредиту люди разведенные или овдовевшие, что касается наличия детей: судя по данным видно, что лучше всего справляются с те, у кого 5 детей, а следующие за ними - люди, не имеющие ни одного ребенка. "
   ]
  }
 ],
 "metadata": {
  "ExecuteTimeLog": [
   {
    "duration": 734,
    "start_time": "2022-02-23T15:08:54.594Z"
   },
   {
    "duration": 12,
    "start_time": "2022-02-23T15:09:33.718Z"
   },
   {
    "duration": 25,
    "start_time": "2022-02-24T06:43:47.452Z"
   },
   {
    "duration": 10,
    "start_time": "2022-02-24T06:43:56.394Z"
   },
   {
    "duration": 481,
    "start_time": "2022-02-24T06:44:43.444Z"
   },
   {
    "duration": 255,
    "start_time": "2022-02-24T06:44:51.019Z"
   },
   {
    "duration": 18,
    "start_time": "2022-02-24T09:39:44.599Z"
   },
   {
    "duration": 17,
    "start_time": "2022-02-24T09:39:52.288Z"
   },
   {
    "duration": 233,
    "start_time": "2022-02-24T09:41:19.619Z"
   },
   {
    "duration": 8,
    "start_time": "2022-02-24T09:41:58.983Z"
   },
   {
    "duration": 7,
    "start_time": "2022-02-24T09:42:04.902Z"
   },
   {
    "duration": 9,
    "start_time": "2022-02-24T09:42:09.203Z"
   },
   {
    "duration": 328,
    "start_time": "2022-02-24T17:07:03.512Z"
   },
   {
    "duration": 175,
    "start_time": "2022-02-24T17:08:54.763Z"
   },
   {
    "duration": 201,
    "start_time": "2022-02-24T17:08:59.647Z"
   },
   {
    "duration": 628,
    "start_time": "2022-02-24T17:09:04.419Z"
   },
   {
    "duration": 10,
    "start_time": "2022-02-24T17:09:05.049Z"
   },
   {
    "duration": 14,
    "start_time": "2022-02-24T17:09:05.805Z"
   },
   {
    "duration": 16,
    "start_time": "2022-02-24T17:10:23.985Z"
   },
   {
    "duration": 15,
    "start_time": "2022-02-24T17:10:33.482Z"
   },
   {
    "duration": 5,
    "start_time": "2022-02-24T17:10:45.902Z"
   },
   {
    "duration": 5,
    "start_time": "2022-02-24T17:12:01.794Z"
   },
   {
    "duration": 8,
    "start_time": "2022-02-24T17:13:23.167Z"
   },
   {
    "duration": 6,
    "start_time": "2022-02-24T17:13:43.797Z"
   },
   {
    "duration": 7,
    "start_time": "2022-02-24T17:13:56.914Z"
   },
   {
    "duration": 7,
    "start_time": "2022-02-24T17:14:02.490Z"
   },
   {
    "duration": 9,
    "start_time": "2022-02-24T17:14:22.525Z"
   },
   {
    "duration": 8,
    "start_time": "2022-02-24T17:14:31.079Z"
   },
   {
    "duration": 23,
    "start_time": "2022-02-24T17:14:48.762Z"
   },
   {
    "duration": 21,
    "start_time": "2022-02-24T17:15:16.324Z"
   },
   {
    "duration": 8,
    "start_time": "2022-02-24T17:15:24.697Z"
   },
   {
    "duration": 49,
    "start_time": "2022-02-24T17:16:55.518Z"
   },
   {
    "duration": 60,
    "start_time": "2022-02-24T17:18:16.455Z"
   },
   {
    "duration": 10,
    "start_time": "2022-02-24T17:18:19.717Z"
   },
   {
    "duration": 60,
    "start_time": "2022-02-24T17:18:42.783Z"
   },
   {
    "duration": 54,
    "start_time": "2022-02-24T17:18:53.360Z"
   },
   {
    "duration": 325,
    "start_time": "2022-02-24T17:19:09.911Z"
   },
   {
    "duration": 11,
    "start_time": "2022-02-24T17:19:11.246Z"
   },
   {
    "duration": 219,
    "start_time": "2022-02-24T17:19:18.042Z"
   },
   {
    "duration": 53,
    "start_time": "2022-02-24T17:19:55.979Z"
   },
   {
    "duration": 51,
    "start_time": "2022-02-24T17:20:05.614Z"
   },
   {
    "duration": 50,
    "start_time": "2022-02-24T17:22:47.304Z"
   },
   {
    "duration": 50,
    "start_time": "2022-02-24T17:24:04.788Z"
   },
   {
    "duration": 5,
    "start_time": "2022-02-24T17:26:10.671Z"
   },
   {
    "duration": 6,
    "start_time": "2022-02-24T17:26:26.272Z"
   },
   {
    "duration": 8,
    "start_time": "2022-02-24T17:26:40.396Z"
   },
   {
    "duration": 9,
    "start_time": "2022-02-24T17:26:49.072Z"
   },
   {
    "duration": 8,
    "start_time": "2022-02-24T17:27:11.101Z"
   },
   {
    "duration": 24,
    "start_time": "2022-02-24T17:28:43.693Z"
   },
   {
    "duration": 22,
    "start_time": "2022-02-24T17:28:50.885Z"
   },
   {
    "duration": 15,
    "start_time": "2022-02-24T17:29:52.663Z"
   },
   {
    "duration": 14,
    "start_time": "2022-02-24T17:47:04.565Z"
   },
   {
    "duration": 6,
    "start_time": "2022-02-24T17:47:17.914Z"
   },
   {
    "duration": 14,
    "start_time": "2022-02-24T17:47:45.126Z"
   },
   {
    "duration": 7,
    "start_time": "2022-02-24T17:48:08.710Z"
   },
   {
    "duration": 20,
    "start_time": "2022-02-24T17:48:26.501Z"
   },
   {
    "duration": 8,
    "start_time": "2022-02-24T17:48:43.174Z"
   },
   {
    "duration": 3,
    "start_time": "2022-02-25T19:00:45.180Z"
   },
   {
    "duration": 61,
    "start_time": "2022-02-25T19:03:01.130Z"
   },
   {
    "duration": 217,
    "start_time": "2022-02-25T19:03:09.130Z"
   },
   {
    "duration": 592,
    "start_time": "2022-02-25T19:04:12.765Z"
   },
   {
    "duration": 10,
    "start_time": "2022-02-25T19:04:13.359Z"
   },
   {
    "duration": 15,
    "start_time": "2022-02-25T19:04:15.193Z"
   },
   {
    "duration": 121,
    "start_time": "2022-02-25T19:05:18.075Z"
   },
   {
    "duration": 8,
    "start_time": "2022-02-25T19:05:48.865Z"
   },
   {
    "duration": 20,
    "start_time": "2022-02-25T19:06:21.325Z"
   },
   {
    "duration": 21,
    "start_time": "2022-02-25T19:06:30.876Z"
   },
   {
    "duration": 17,
    "start_time": "2022-02-25T19:08:49.549Z"
   },
   {
    "duration": 15,
    "start_time": "2022-02-25T19:09:06.441Z"
   },
   {
    "duration": 21,
    "start_time": "2022-02-25T19:09:20.580Z"
   },
   {
    "duration": 16,
    "start_time": "2022-02-25T19:09:56.336Z"
   },
   {
    "duration": 50,
    "start_time": "2022-02-25T19:11:47.976Z"
   },
   {
    "duration": 685,
    "start_time": "2022-02-27T16:41:03.386Z"
   },
   {
    "duration": 27,
    "start_time": "2022-02-27T16:42:43.418Z"
   },
   {
    "duration": 23,
    "start_time": "2022-02-27T16:43:38.949Z"
   },
   {
    "duration": 373,
    "start_time": "2022-02-27T17:16:40.979Z"
   },
   {
    "duration": 11,
    "start_time": "2022-02-27T17:16:45.361Z"
   },
   {
    "duration": 26,
    "start_time": "2022-02-27T17:16:46.412Z"
   },
   {
    "duration": 265,
    "start_time": "2022-02-27T17:16:48.410Z"
   },
   {
    "duration": 4,
    "start_time": "2022-02-27T17:17:46.828Z"
   },
   {
    "duration": 6,
    "start_time": "2022-02-27T17:18:45.895Z"
   },
   {
    "duration": 5,
    "start_time": "2022-02-27T17:19:16.347Z"
   },
   {
    "duration": 5,
    "start_time": "2022-02-27T17:19:29.693Z"
   },
   {
    "duration": 82,
    "start_time": "2022-02-27T17:19:42.184Z"
   },
   {
    "duration": 85,
    "start_time": "2022-02-27T17:19:47.043Z"
   },
   {
    "duration": 5,
    "start_time": "2022-02-27T17:19:51.250Z"
   },
   {
    "duration": 84,
    "start_time": "2022-02-27T17:24:24.310Z"
   },
   {
    "duration": 5,
    "start_time": "2022-02-27T17:24:28.912Z"
   },
   {
    "duration": 88,
    "start_time": "2022-02-27T17:24:30.736Z"
   },
   {
    "duration": 18,
    "start_time": "2022-02-27T17:24:31.024Z"
   },
   {
    "duration": 93,
    "start_time": "2022-02-27T17:24:38.323Z"
   },
   {
    "duration": 23,
    "start_time": "2022-02-27T17:24:43.431Z"
   },
   {
    "duration": 5,
    "start_time": "2022-02-27T17:25:10.172Z"
   },
   {
    "duration": 6,
    "start_time": "2022-02-27T17:25:38.161Z"
   },
   {
    "duration": 6,
    "start_time": "2022-02-27T17:25:54.889Z"
   },
   {
    "duration": -704,
    "start_time": "2022-02-27T17:26:25.446Z"
   },
   {
    "duration": -707,
    "start_time": "2022-02-27T17:26:34.048Z"
   },
   {
    "duration": 7,
    "start_time": "2022-02-27T17:26:36.032Z"
   },
   {
    "duration": 6,
    "start_time": "2022-02-27T17:26:36.736Z"
   },
   {
    "duration": -705,
    "start_time": "2022-02-27T17:26:56.025Z"
   },
   {
    "duration": -707,
    "start_time": "2022-02-27T17:26:56.028Z"
   },
   {
    "duration": -707,
    "start_time": "2022-02-27T17:26:56.030Z"
   },
   {
    "duration": -709,
    "start_time": "2022-02-27T17:26:56.033Z"
   },
   {
    "duration": 7,
    "start_time": "2022-02-27T17:26:55.535Z"
   },
   {
    "duration": 7,
    "start_time": "2022-02-27T17:26:55.837Z"
   },
   {
    "duration": 6577,
    "start_time": "2022-02-27T17:26:56.735Z"
   },
   {
    "duration": 7,
    "start_time": "2022-02-27T17:27:19.793Z"
   },
   {
    "duration": 296,
    "start_time": "2022-02-27T17:28:41.531Z"
   },
   {
    "duration": 300,
    "start_time": "2022-02-27T17:28:54.652Z"
   },
   {
    "duration": 8,
    "start_time": "2022-02-27T17:28:59.944Z"
   },
   {
    "duration": 6,
    "start_time": "2022-02-27T17:29:04.363Z"
   },
   {
    "duration": 23,
    "start_time": "2022-02-27T17:29:08.536Z"
   },
   {
    "duration": 5,
    "start_time": "2022-02-27T17:29:09.578Z"
   },
   {
    "duration": 8,
    "start_time": "2022-02-27T17:29:10.103Z"
   },
   {
    "duration": 7,
    "start_time": "2022-02-27T17:29:10.344Z"
   },
   {
    "duration": 6,
    "start_time": "2022-02-27T17:29:10.739Z"
   },
   {
    "duration": 6,
    "start_time": "2022-02-27T17:29:11.396Z"
   },
   {
    "duration": 271,
    "start_time": "2022-02-27T17:30:04.411Z"
   },
   {
    "duration": 275,
    "start_time": "2022-02-27T17:30:48.015Z"
   },
   {
    "duration": 25,
    "start_time": "2022-02-27T17:31:30.186Z"
   },
   {
    "duration": 8,
    "start_time": "2022-02-27T17:32:49.167Z"
   },
   {
    "duration": 12,
    "start_time": "2022-02-27T17:33:02.432Z"
   },
   {
    "duration": 9,
    "start_time": "2022-02-27T17:33:16.603Z"
   },
   {
    "duration": 26,
    "start_time": "2022-02-27T17:33:32.031Z"
   },
   {
    "duration": 6,
    "start_time": "2022-02-27T17:34:23.064Z"
   },
   {
    "duration": 6,
    "start_time": "2022-02-27T17:34:27.094Z"
   },
   {
    "duration": 336,
    "start_time": "2022-02-27T17:34:53.607Z"
   },
   {
    "duration": 427,
    "start_time": "2022-02-27T17:35:02.362Z"
   },
   {
    "duration": -713,
    "start_time": "2022-02-27T17:35:56.368Z"
   },
   {
    "duration": -716,
    "start_time": "2022-02-27T17:35:56.372Z"
   },
   {
    "duration": -727,
    "start_time": "2022-02-27T17:35:56.384Z"
   },
   {
    "duration": -728,
    "start_time": "2022-02-27T17:35:56.386Z"
   },
   {
    "duration": -729,
    "start_time": "2022-02-27T17:35:56.388Z"
   },
   {
    "duration": 66,
    "start_time": "2022-02-27T17:35:56.098Z"
   },
   {
    "duration": 11,
    "start_time": "2022-02-27T17:35:56.166Z"
   },
   {
    "duration": 10,
    "start_time": "2022-02-27T17:35:56.179Z"
   },
   {
    "duration": 21,
    "start_time": "2022-02-27T17:35:56.677Z"
   },
   {
    "duration": 4,
    "start_time": "2022-02-27T17:35:58.087Z"
   },
   {
    "duration": 6,
    "start_time": "2022-02-27T17:35:59.084Z"
   },
   {
    "duration": 6,
    "start_time": "2022-02-27T17:35:59.582Z"
   },
   {
    "duration": 6,
    "start_time": "2022-02-27T17:36:00.073Z"
   },
   {
    "duration": 7,
    "start_time": "2022-02-27T17:36:12.885Z"
   },
   {
    "duration": 9,
    "start_time": "2022-02-27T17:36:17.318Z"
   },
   {
    "duration": 6,
    "start_time": "2022-02-27T17:36:34.132Z"
   },
   {
    "duration": 6,
    "start_time": "2022-02-27T17:36:40.090Z"
   },
   {
    "duration": 7,
    "start_time": "2022-02-27T17:36:52.924Z"
   },
   {
    "duration": 8,
    "start_time": "2022-02-27T17:37:01.058Z"
   },
   {
    "duration": 8,
    "start_time": "2022-02-27T17:37:15.702Z"
   },
   {
    "duration": 10,
    "start_time": "2022-02-27T17:37:28.261Z"
   },
   {
    "duration": 21,
    "start_time": "2022-02-27T17:37:34.805Z"
   },
   {
    "duration": 7,
    "start_time": "2022-02-27T17:38:06.360Z"
   },
   {
    "duration": 8,
    "start_time": "2022-02-27T17:38:36.063Z"
   },
   {
    "duration": 81,
    "start_time": "2022-02-27T17:38:42.626Z"
   },
   {
    "duration": 8,
    "start_time": "2022-02-27T17:38:51.032Z"
   },
   {
    "duration": 6,
    "start_time": "2022-02-27T17:39:07.836Z"
   },
   {
    "duration": 6,
    "start_time": "2022-02-27T17:40:02.624Z"
   },
   {
    "duration": 6,
    "start_time": "2022-02-27T17:40:19.192Z"
   },
   {
    "duration": 114,
    "start_time": "2022-02-27T17:41:30.046Z"
   },
   {
    "duration": 7,
    "start_time": "2022-02-27T17:42:45.140Z"
   },
   {
    "duration": 9,
    "start_time": "2022-02-27T17:43:40.680Z"
   },
   {
    "duration": 9,
    "start_time": "2022-02-27T17:43:53.345Z"
   },
   {
    "duration": 8,
    "start_time": "2022-02-27T17:47:13.630Z"
   },
   {
    "duration": 7,
    "start_time": "2022-02-27T18:25:53.744Z"
   },
   {
    "duration": 6,
    "start_time": "2022-02-27T18:26:05.179Z"
   },
   {
    "duration": 285,
    "start_time": "2022-02-27T18:30:01.173Z"
   },
   {
    "duration": 6929,
    "start_time": "2022-02-27T18:30:09.418Z"
   },
   {
    "duration": -717,
    "start_time": "2022-02-27T18:30:17.067Z"
   },
   {
    "duration": 73,
    "start_time": "2022-02-27T18:30:19.541Z"
   },
   {
    "duration": 13,
    "start_time": "2022-02-27T18:30:20.706Z"
   },
   {
    "duration": 16,
    "start_time": "2022-02-27T18:30:21.562Z"
   },
   {
    "duration": 23,
    "start_time": "2022-02-27T18:30:22.652Z"
   },
   {
    "duration": 5,
    "start_time": "2022-02-27T18:30:23.626Z"
   },
   {
    "duration": 6,
    "start_time": "2022-02-27T18:30:24.948Z"
   },
   {
    "duration": 7,
    "start_time": "2022-02-27T18:30:25.550Z"
   },
   {
    "duration": 8,
    "start_time": "2022-02-27T18:30:26.159Z"
   },
   {
    "duration": 8,
    "start_time": "2022-02-27T18:30:26.710Z"
   },
   {
    "duration": 9,
    "start_time": "2022-02-27T18:30:27.269Z"
   },
   {
    "duration": 7,
    "start_time": "2022-02-27T18:30:28.480Z"
   },
   {
    "duration": 25,
    "start_time": "2022-02-27T18:30:29.402Z"
   },
   {
    "duration": 7544,
    "start_time": "2022-02-27T18:30:32.697Z"
   },
   {
    "duration": 534,
    "start_time": "2022-02-27T18:31:30.612Z"
   },
   {
    "duration": 6620,
    "start_time": "2022-02-27T18:31:47.791Z"
   },
   {
    "duration": 7,
    "start_time": "2022-02-27T18:32:03.672Z"
   },
   {
    "duration": 6,
    "start_time": "2022-02-27T18:32:04.489Z"
   },
   {
    "duration": 17,
    "start_time": "2022-02-27T18:32:04.887Z"
   },
   {
    "duration": 8522,
    "start_time": "2022-02-27T18:32:06.448Z"
   },
   {
    "duration": 359,
    "start_time": "2022-02-27T18:32:18.586Z"
   },
   {
    "duration": 261,
    "start_time": "2022-02-27T18:32:48.417Z"
   },
   {
    "duration": 8177,
    "start_time": "2022-02-27T18:32:52.035Z"
   },
   {
    "duration": -714,
    "start_time": "2022-02-27T18:34:40.951Z"
   },
   {
    "duration": 6690,
    "start_time": "2022-02-27T18:34:42.015Z"
   },
   {
    "duration": 43572,
    "start_time": "2022-02-27T18:35:09.248Z"
   },
   {
    "duration": 261,
    "start_time": "2022-02-27T18:36:41.466Z"
   },
   {
    "duration": 298,
    "start_time": "2022-02-27T18:36:51.781Z"
   },
   {
    "duration": 6970,
    "start_time": "2022-02-27T18:36:56.550Z"
   },
   {
    "duration": -719,
    "start_time": "2022-02-27T18:38:39.961Z"
   },
   {
    "duration": 6595,
    "start_time": "2022-02-27T18:38:52.717Z"
   },
   {
    "duration": 81,
    "start_time": "2022-02-27T18:39:22.308Z"
   },
   {
    "duration": 297,
    "start_time": "2022-02-27T18:39:28.091Z"
   },
   {
    "duration": 7,
    "start_time": "2022-02-27T18:40:45.204Z"
   },
   {
    "duration": 6,
    "start_time": "2022-02-27T18:44:37.302Z"
   },
   {
    "duration": 9,
    "start_time": "2022-02-27T18:44:44.533Z"
   },
   {
    "duration": 8,
    "start_time": "2022-02-27T18:48:22.591Z"
   },
   {
    "duration": 8,
    "start_time": "2022-02-27T18:48:25.457Z"
   },
   {
    "duration": 8,
    "start_time": "2022-02-27T18:48:29.351Z"
   },
   {
    "duration": 11,
    "start_time": "2022-02-27T18:48:48.150Z"
   },
   {
    "duration": 11,
    "start_time": "2022-02-27T18:48:52.486Z"
   },
   {
    "duration": 11,
    "start_time": "2022-02-27T18:48:59.605Z"
   },
   {
    "duration": 8,
    "start_time": "2022-02-27T18:49:09.793Z"
   },
   {
    "duration": 7,
    "start_time": "2022-02-27T18:49:18.890Z"
   },
   {
    "duration": 340,
    "start_time": "2022-02-27T18:52:53.416Z"
   },
   {
    "duration": 8,
    "start_time": "2022-02-27T18:52:57.334Z"
   },
   {
    "duration": 9,
    "start_time": "2022-02-27T18:53:03.760Z"
   },
   {
    "duration": 9,
    "start_time": "2022-02-27T18:53:07.134Z"
   },
   {
    "duration": 9,
    "start_time": "2022-02-27T18:53:11.740Z"
   },
   {
    "duration": 9,
    "start_time": "2022-02-27T18:53:15.660Z"
   },
   {
    "duration": 8,
    "start_time": "2022-02-27T18:53:18.954Z"
   },
   {
    "duration": 295,
    "start_time": "2022-02-27T19:15:05.228Z"
   },
   {
    "duration": 261,
    "start_time": "2022-02-27T19:15:08.494Z"
   },
   {
    "duration": 8,
    "start_time": "2022-02-27T19:15:11.610Z"
   },
   {
    "duration": 24,
    "start_time": "2022-02-27T19:16:35.010Z"
   },
   {
    "duration": 7,
    "start_time": "2022-02-27T19:18:03.289Z"
   },
   {
    "duration": 6,
    "start_time": "2022-02-27T19:19:42.201Z"
   },
   {
    "duration": 6,
    "start_time": "2022-02-27T19:19:47.224Z"
   },
   {
    "duration": 85,
    "start_time": "2022-02-27T19:20:54.566Z"
   },
   {
    "duration": 17,
    "start_time": "2022-02-27T19:20:55.693Z"
   },
   {
    "duration": 7,
    "start_time": "2022-02-27T19:21:01.674Z"
   },
   {
    "duration": 17,
    "start_time": "2022-02-27T19:21:02.720Z"
   },
   {
    "duration": 8,
    "start_time": "2022-02-27T19:21:04.625Z"
   },
   {
    "duration": 8,
    "start_time": "2022-02-27T19:21:05.413Z"
   },
   {
    "duration": 8,
    "start_time": "2022-02-27T19:24:04.305Z"
   },
   {
    "duration": 8,
    "start_time": "2022-02-27T19:24:16.451Z"
   },
   {
    "duration": 9,
    "start_time": "2022-02-27T19:24:43.969Z"
   },
   {
    "duration": 7,
    "start_time": "2022-02-27T19:25:36.236Z"
   },
   {
    "duration": 7,
    "start_time": "2022-02-27T19:26:10.441Z"
   },
   {
    "duration": 4,
    "start_time": "2022-02-27T19:26:15.526Z"
   },
   {
    "duration": 434,
    "start_time": "2022-02-27T19:27:36.203Z"
   },
   {
    "duration": 6,
    "start_time": "2022-02-27T19:28:40.387Z"
   },
   {
    "duration": 5,
    "start_time": "2022-02-27T19:28:45.191Z"
   },
   {
    "duration": 4,
    "start_time": "2022-02-27T19:29:03.583Z"
   },
   {
    "duration": 6,
    "start_time": "2022-02-27T19:29:04.719Z"
   },
   {
    "duration": 16,
    "start_time": "2022-02-27T19:29:32.009Z"
   },
   {
    "duration": 4,
    "start_time": "2022-02-27T19:29:48.303Z"
   },
   {
    "duration": 3626,
    "start_time": "2022-02-27T19:29:48.461Z"
   },
   {
    "duration": -732,
    "start_time": "2022-02-27T19:29:52.821Z"
   },
   {
    "duration": 4390,
    "start_time": "2022-02-27T19:29:58.085Z"
   },
   {
    "duration": -723,
    "start_time": "2022-02-27T19:30:03.200Z"
   },
   {
    "duration": 5313,
    "start_time": "2022-02-27T19:30:04.011Z"
   },
   {
    "duration": -722,
    "start_time": "2022-02-27T19:30:10.048Z"
   },
   {
    "duration": -724,
    "start_time": "2022-02-27T19:30:10.051Z"
   },
   {
    "duration": -727,
    "start_time": "2022-02-27T19:30:10.056Z"
   },
   {
    "duration": -729,
    "start_time": "2022-02-27T19:30:10.059Z"
   },
   {
    "duration": 3607,
    "start_time": "2022-02-27T19:30:23.357Z"
   },
   {
    "duration": 3432,
    "start_time": "2022-02-27T19:30:31.260Z"
   },
   {
    "duration": 84,
    "start_time": "2022-02-27T19:30:43.659Z"
   },
   {
    "duration": 13,
    "start_time": "2022-02-27T19:30:44.701Z"
   },
   {
    "duration": 10,
    "start_time": "2022-02-27T19:30:45.226Z"
   },
   {
    "duration": 35,
    "start_time": "2022-02-27T19:30:45.828Z"
   },
   {
    "duration": 6,
    "start_time": "2022-02-27T19:30:47.361Z"
   },
   {
    "duration": 7,
    "start_time": "2022-02-27T19:30:48.702Z"
   },
   {
    "duration": 7,
    "start_time": "2022-02-27T19:30:49.546Z"
   },
   {
    "duration": 7,
    "start_time": "2022-02-27T19:30:50.113Z"
   },
   {
    "duration": 7,
    "start_time": "2022-02-27T19:30:51.454Z"
   },
   {
    "duration": 8,
    "start_time": "2022-02-27T19:30:53.645Z"
   },
   {
    "duration": 6,
    "start_time": "2022-02-27T19:30:55.177Z"
   },
   {
    "duration": 7,
    "start_time": "2022-02-27T19:30:57.092Z"
   },
   {
    "duration": 16,
    "start_time": "2022-02-27T19:30:58.404Z"
   },
   {
    "duration": 8,
    "start_time": "2022-02-27T19:31:00.363Z"
   },
   {
    "duration": 8,
    "start_time": "2022-02-27T19:31:01.707Z"
   },
   {
    "duration": 5,
    "start_time": "2022-02-27T19:31:03.949Z"
   },
   {
    "duration": 3513,
    "start_time": "2022-02-27T19:31:19.707Z"
   },
   {
    "duration": 3803,
    "start_time": "2022-02-27T19:31:30.082Z"
   },
   {
    "duration": -731,
    "start_time": "2022-02-27T19:31:34.619Z"
   },
   {
    "duration": 3520,
    "start_time": "2022-02-27T19:31:36.853Z"
   },
   {
    "duration": 5,
    "start_time": "2022-02-27T19:31:44.786Z"
   },
   {
    "duration": 4133,
    "start_time": "2022-02-27T19:31:46.053Z"
   },
   {
    "duration": -761,
    "start_time": "2022-02-27T19:31:50.949Z"
   },
   {
    "duration": -765,
    "start_time": "2022-02-27T19:31:50.954Z"
   },
   {
    "duration": -767,
    "start_time": "2022-02-27T19:31:50.957Z"
   },
   {
    "duration": -769,
    "start_time": "2022-02-27T19:31:50.960Z"
   },
   {
    "duration": -772,
    "start_time": "2022-02-27T19:31:50.963Z"
   },
   {
    "duration": -774,
    "start_time": "2022-02-27T19:31:50.966Z"
   },
   {
    "duration": -775,
    "start_time": "2022-02-27T19:31:50.968Z"
   },
   {
    "duration": 3417,
    "start_time": "2022-02-27T19:31:50.335Z"
   },
   {
    "duration": -727,
    "start_time": "2022-02-27T19:31:54.481Z"
   },
   {
    "duration": 3842,
    "start_time": "2022-02-27T19:31:58.557Z"
   },
   {
    "duration": 66,
    "start_time": "2022-02-27T19:32:22.001Z"
   },
   {
    "duration": 12,
    "start_time": "2022-02-27T19:32:22.983Z"
   },
   {
    "duration": 11,
    "start_time": "2022-02-27T19:32:23.639Z"
   },
   {
    "duration": 22,
    "start_time": "2022-02-27T19:32:24.651Z"
   },
   {
    "duration": 4,
    "start_time": "2022-02-27T19:32:25.880Z"
   },
   {
    "duration": 6,
    "start_time": "2022-02-27T19:32:27.071Z"
   },
   {
    "duration": 6,
    "start_time": "2022-02-27T19:32:27.850Z"
   },
   {
    "duration": 6,
    "start_time": "2022-02-27T19:32:28.988Z"
   },
   {
    "duration": 7,
    "start_time": "2022-02-27T19:32:29.786Z"
   },
   {
    "duration": 7,
    "start_time": "2022-02-27T19:32:30.593Z"
   },
   {
    "duration": 6,
    "start_time": "2022-02-27T19:32:31.653Z"
   },
   {
    "duration": 7,
    "start_time": "2022-02-27T19:32:32.604Z"
   },
   {
    "duration": 14,
    "start_time": "2022-02-27T19:32:34.037Z"
   },
   {
    "duration": 8,
    "start_time": "2022-02-27T19:32:37.581Z"
   },
   {
    "duration": 9,
    "start_time": "2022-02-27T19:32:38.501Z"
   },
   {
    "duration": 4,
    "start_time": "2022-02-27T19:32:50.445Z"
   },
   {
    "duration": 5,
    "start_time": "2022-02-27T19:32:51.630Z"
   },
   {
    "duration": 12,
    "start_time": "2022-02-27T19:32:53.036Z"
   },
   {
    "duration": 4,
    "start_time": "2022-02-27T19:34:29.042Z"
   },
   {
    "duration": 4,
    "start_time": "2022-02-27T19:34:59.892Z"
   },
   {
    "duration": 5,
    "start_time": "2022-02-27T19:36:58.459Z"
   },
   {
    "duration": 5,
    "start_time": "2022-02-27T19:38:23.435Z"
   },
   {
    "duration": 10,
    "start_time": "2022-02-27T19:38:52.733Z"
   },
   {
    "duration": 7,
    "start_time": "2022-02-27T19:39:06.600Z"
   },
   {
    "duration": 7,
    "start_time": "2022-02-27T19:39:15.362Z"
   },
   {
    "duration": 9,
    "start_time": "2022-02-27T19:39:27.466Z"
   },
   {
    "duration": 9,
    "start_time": "2022-02-27T19:39:32.895Z"
   },
   {
    "duration": 4,
    "start_time": "2022-02-27T19:40:13.173Z"
   },
   {
    "duration": 4,
    "start_time": "2022-02-27T19:40:13.836Z"
   },
   {
    "duration": 13,
    "start_time": "2022-02-27T19:40:14.929Z"
   },
   {
    "duration": 4,
    "start_time": "2022-02-27T19:41:53.549Z"
   },
   {
    "duration": 4,
    "start_time": "2022-02-27T19:41:53.778Z"
   },
   {
    "duration": 5,
    "start_time": "2022-02-27T19:41:54.086Z"
   },
   {
    "duration": 5,
    "start_time": "2022-02-27T19:42:00.532Z"
   },
   {
    "duration": 6,
    "start_time": "2022-02-27T19:42:05.907Z"
   },
   {
    "duration": 5,
    "start_time": "2022-02-27T19:42:47.193Z"
   },
   {
    "duration": 4,
    "start_time": "2022-02-27T19:42:53.799Z"
   },
   {
    "duration": 5,
    "start_time": "2022-02-27T19:42:59.894Z"
   },
   {
    "duration": 5,
    "start_time": "2022-02-27T19:43:32.233Z"
   },
   {
    "duration": 12,
    "start_time": "2022-02-27T19:43:44.548Z"
   },
   {
    "duration": 13,
    "start_time": "2022-02-27T19:44:15.506Z"
   },
   {
    "duration": 13,
    "start_time": "2022-02-27T19:44:28.882Z"
   },
   {
    "duration": 13,
    "start_time": "2022-02-27T19:44:39.946Z"
   },
   {
    "duration": 12,
    "start_time": "2022-02-27T19:44:44.773Z"
   },
   {
    "duration": 5,
    "start_time": "2022-02-27T19:45:10.887Z"
   },
   {
    "duration": 12,
    "start_time": "2022-02-27T20:06:04.034Z"
   },
   {
    "duration": 3,
    "start_time": "2022-02-27T20:07:58.418Z"
   },
   {
    "duration": 14,
    "start_time": "2022-02-27T20:08:05.959Z"
   },
   {
    "duration": 12,
    "start_time": "2022-02-27T20:08:11.382Z"
   },
   {
    "duration": 13,
    "start_time": "2022-02-27T20:08:24.592Z"
   },
   {
    "duration": 16,
    "start_time": "2022-02-27T20:09:28.835Z"
   },
   {
    "duration": 19,
    "start_time": "2022-02-27T20:12:15.939Z"
   },
   {
    "duration": 17,
    "start_time": "2022-02-27T20:12:22.070Z"
   },
   {
    "duration": 254,
    "start_time": "2022-02-27T20:15:03.384Z"
   },
   {
    "duration": 264,
    "start_time": "2022-02-27T20:15:20.806Z"
   },
   {
    "duration": 5,
    "start_time": "2022-02-27T20:15:25.835Z"
   },
   {
    "duration": 262,
    "start_time": "2022-02-27T20:15:43.360Z"
   },
   {
    "duration": 11,
    "start_time": "2022-02-27T20:15:48.682Z"
   },
   {
    "duration": 20,
    "start_time": "2022-02-27T20:16:18.607Z"
   },
   {
    "duration": 5,
    "start_time": "2022-02-27T20:16:45.319Z"
   },
   {
    "duration": 6,
    "start_time": "2022-02-27T20:17:05.191Z"
   },
   {
    "duration": 6,
    "start_time": "2022-02-27T20:17:27.265Z"
   },
   {
    "duration": 6859,
    "start_time": "2022-02-27T20:18:09.477Z"
   },
   {
    "duration": -728,
    "start_time": "2022-02-27T20:18:24.666Z"
   },
   {
    "duration": 265,
    "start_time": "2022-02-27T20:18:46.074Z"
   },
   {
    "duration": -729,
    "start_time": "2022-02-27T20:19:01.865Z"
   },
   {
    "duration": 295,
    "start_time": "2022-02-27T20:19:03.688Z"
   },
   {
    "duration": 5,
    "start_time": "2022-02-27T20:19:06.254Z"
   },
   {
    "duration": 583,
    "start_time": "2022-02-27T20:20:09.395Z"
   },
   {
    "duration": 15,
    "start_time": "2022-02-27T20:20:15.396Z"
   },
   {
    "duration": 11,
    "start_time": "2022-02-27T20:20:32.181Z"
   },
   {
    "duration": 8,
    "start_time": "2022-02-27T20:20:46.457Z"
   },
   {
    "duration": 17,
    "start_time": "2022-02-27T20:21:16.426Z"
   },
   {
    "duration": 11,
    "start_time": "2022-02-27T20:22:06.308Z"
   },
   {
    "duration": 17,
    "start_time": "2022-02-27T20:29:33.218Z"
   },
   {
    "duration": 18,
    "start_time": "2022-02-27T20:29:43.449Z"
   },
   {
    "duration": 17,
    "start_time": "2022-02-27T20:29:51.534Z"
   },
   {
    "duration": 5,
    "start_time": "2022-02-27T20:47:01.567Z"
   },
   {
    "duration": 10,
    "start_time": "2022-02-27T20:47:12.219Z"
   },
   {
    "duration": 4,
    "start_time": "2022-02-27T20:48:17.168Z"
   },
   {
    "duration": 11,
    "start_time": "2022-02-27T20:48:22.743Z"
   },
   {
    "duration": 6,
    "start_time": "2022-02-27T20:57:00.896Z"
   },
   {
    "duration": 266,
    "start_time": "2022-02-27T20:57:08.642Z"
   },
   {
    "duration": 303,
    "start_time": "2022-02-27T20:57:17.397Z"
   },
   {
    "duration": 265,
    "start_time": "2022-02-27T20:57:22.078Z"
   },
   {
    "duration": 85,
    "start_time": "2022-02-27T20:57:51.421Z"
   },
   {
    "duration": 4,
    "start_time": "2022-02-27T20:58:25.617Z"
   },
   {
    "duration": 11,
    "start_time": "2022-02-27T20:58:33.885Z"
   },
   {
    "duration": 219,
    "start_time": "2022-03-01T08:16:51.260Z"
   },
   {
    "duration": 638,
    "start_time": "2022-03-01T08:16:59.883Z"
   },
   {
    "duration": 11,
    "start_time": "2022-03-01T08:17:01.280Z"
   },
   {
    "duration": 15,
    "start_time": "2022-03-01T08:17:06.193Z"
   },
   {
    "duration": 23,
    "start_time": "2022-03-01T08:17:08.319Z"
   },
   {
    "duration": 6,
    "start_time": "2022-03-01T08:17:27.682Z"
   },
   {
    "duration": 6,
    "start_time": "2022-03-01T08:17:29.667Z"
   },
   {
    "duration": 7,
    "start_time": "2022-03-01T08:17:30.980Z"
   },
   {
    "duration": 6,
    "start_time": "2022-03-01T08:17:31.938Z"
   },
   {
    "duration": 7,
    "start_time": "2022-03-01T08:17:33.911Z"
   },
   {
    "duration": 5,
    "start_time": "2022-03-01T08:17:35.180Z"
   },
   {
    "duration": 7,
    "start_time": "2022-03-01T08:17:36.124Z"
   },
   {
    "duration": 15,
    "start_time": "2022-03-01T08:17:37.121Z"
   },
   {
    "duration": 8,
    "start_time": "2022-03-01T08:17:38.976Z"
   },
   {
    "duration": 7,
    "start_time": "2022-03-01T08:18:53.173Z"
   },
   {
    "duration": 8,
    "start_time": "2022-03-01T08:18:54.323Z"
   },
   {
    "duration": 5,
    "start_time": "2022-03-01T08:18:55.480Z"
   },
   {
    "duration": 4,
    "start_time": "2022-03-01T08:18:55.801Z"
   },
   {
    "duration": 11,
    "start_time": "2022-03-01T08:18:56.574Z"
   },
   {
    "duration": 5,
    "start_time": "2022-03-01T08:18:57.080Z"
   },
   {
    "duration": 4,
    "start_time": "2022-03-01T08:18:57.826Z"
   },
   {
    "duration": 5,
    "start_time": "2022-03-01T08:18:58.136Z"
   },
   {
    "duration": 12,
    "start_time": "2022-03-01T08:19:05.220Z"
   },
   {
    "duration": 4,
    "start_time": "2022-03-01T08:19:06.879Z"
   },
   {
    "duration": 10,
    "start_time": "2022-03-01T08:20:16.802Z"
   },
   {
    "duration": 12,
    "start_time": "2022-03-01T08:20:17.269Z"
   },
   {
    "duration": 16,
    "start_time": "2022-03-01T08:20:18.313Z"
   },
   {
    "duration": 18,
    "start_time": "2022-03-01T08:20:18.608Z"
   },
   {
    "duration": 17,
    "start_time": "2022-03-01T08:20:18.931Z"
   },
   {
    "duration": 6,
    "start_time": "2022-03-01T08:20:19.584Z"
   },
   {
    "duration": 13,
    "start_time": "2022-03-01T08:20:19.917Z"
   },
   {
    "duration": 7,
    "start_time": "2022-03-01T08:20:20.284Z"
   },
   {
    "duration": 16,
    "start_time": "2022-03-01T08:20:21.777Z"
   },
   {
    "duration": 19,
    "start_time": "2022-03-01T08:20:22.335Z"
   },
   {
    "duration": 17,
    "start_time": "2022-03-01T08:20:22.642Z"
   },
   {
    "duration": 12,
    "start_time": "2022-03-01T08:20:24.065Z"
   },
   {
    "duration": 11,
    "start_time": "2022-03-01T08:20:27.712Z"
   },
   {
    "duration": 6,
    "start_time": "2022-03-01T08:20:29.417Z"
   },
   {
    "duration": 11,
    "start_time": "2022-03-01T08:20:37.312Z"
   },
   {
    "duration": 70,
    "start_time": "2022-03-01T17:13:27.856Z"
   },
   {
    "duration": 4,
    "start_time": "2022-03-01T17:14:27.877Z"
   },
   {
    "duration": 9,
    "start_time": "2022-03-01T17:14:28.438Z"
   },
   {
    "duration": 66,
    "start_time": "2022-03-01T17:14:30.338Z"
   },
   {
    "duration": 963,
    "start_time": "2022-03-01T17:15:20.065Z"
   },
   {
    "duration": 974,
    "start_time": "2022-03-01T17:15:22.298Z"
   },
   {
    "duration": 17,
    "start_time": "2022-03-01T17:15:41.238Z"
   },
   {
    "duration": 957,
    "start_time": "2022-03-01T17:49:52.324Z"
   },
   {
    "duration": 17,
    "start_time": "2022-03-01T17:49:53.283Z"
   },
   {
    "duration": 236,
    "start_time": "2022-03-01T17:51:51.631Z"
   },
   {
    "duration": 18,
    "start_time": "2022-03-01T17:51:52.375Z"
   },
   {
    "duration": 6,
    "start_time": "2022-03-01T17:52:34.285Z"
   },
   {
    "duration": 6,
    "start_time": "2022-03-01T17:52:43.130Z"
   },
   {
    "duration": 6,
    "start_time": "2022-03-01T17:52:55.442Z"
   },
   {
    "duration": 5,
    "start_time": "2022-03-01T17:53:17.012Z"
   },
   {
    "duration": 17,
    "start_time": "2022-03-01T17:53:28.075Z"
   },
   {
    "duration": 214,
    "start_time": "2022-03-01T17:55:14.084Z"
   },
   {
    "duration": 71,
    "start_time": "2022-03-01T17:55:21.272Z"
   },
   {
    "duration": 8,
    "start_time": "2022-03-01T17:55:38.874Z"
   },
   {
    "duration": 8,
    "start_time": "2022-03-01T17:55:49.456Z"
   },
   {
    "duration": 16,
    "start_time": "2022-03-01T17:55:56.922Z"
   },
   {
    "duration": 20,
    "start_time": "2022-03-01T17:56:10.104Z"
   },
   {
    "duration": 15,
    "start_time": "2022-03-01T17:56:26.715Z"
   },
   {
    "duration": 6,
    "start_time": "2022-03-01T17:56:57.574Z"
   },
   {
    "duration": 6,
    "start_time": "2022-03-01T17:57:03.407Z"
   },
   {
    "duration": 185,
    "start_time": "2022-03-01T17:57:41.447Z"
   },
   {
    "duration": 8,
    "start_time": "2022-03-01T17:57:57.643Z"
   },
   {
    "duration": 6,
    "start_time": "2022-03-01T17:58:17.468Z"
   },
   {
    "duration": 8,
    "start_time": "2022-03-01T17:58:30.844Z"
   },
   {
    "duration": 6,
    "start_time": "2022-03-01T17:58:50.900Z"
   },
   {
    "duration": 8,
    "start_time": "2022-03-01T17:59:11.884Z"
   },
   {
    "duration": 8,
    "start_time": "2022-03-01T18:01:39.822Z"
   },
   {
    "duration": 7,
    "start_time": "2022-03-01T18:02:13.359Z"
   },
   {
    "duration": 10,
    "start_time": "2022-03-01T18:02:37.176Z"
   },
   {
    "duration": 8,
    "start_time": "2022-03-01T18:02:45.271Z"
   },
   {
    "duration": 7,
    "start_time": "2022-03-01T18:03:11.326Z"
   },
   {
    "duration": 7,
    "start_time": "2022-03-01T18:10:11.595Z"
   },
   {
    "duration": 9,
    "start_time": "2022-03-01T18:10:26.609Z"
   },
   {
    "duration": 8,
    "start_time": "2022-03-01T18:10:33.434Z"
   },
   {
    "duration": 7,
    "start_time": "2022-03-01T18:10:38.242Z"
   },
   {
    "duration": 10,
    "start_time": "2022-03-01T18:10:43.122Z"
   },
   {
    "duration": 8,
    "start_time": "2022-03-01T18:10:51.770Z"
   },
   {
    "duration": 9,
    "start_time": "2022-03-01T18:10:58.869Z"
   },
   {
    "duration": 10,
    "start_time": "2022-03-01T18:11:05.868Z"
   },
   {
    "duration": 9,
    "start_time": "2022-03-01T18:11:16.966Z"
   },
   {
    "duration": 10,
    "start_time": "2022-03-01T18:11:23.896Z"
   },
   {
    "duration": 9,
    "start_time": "2022-03-01T18:12:02.550Z"
   },
   {
    "duration": 18,
    "start_time": "2022-03-01T18:12:07.917Z"
   },
   {
    "duration": 19,
    "start_time": "2022-03-01T18:14:04.300Z"
   },
   {
    "duration": 11,
    "start_time": "2022-03-01T18:14:15.244Z"
   },
   {
    "duration": 17,
    "start_time": "2022-03-01T18:14:23.822Z"
   },
   {
    "duration": 11,
    "start_time": "2022-03-01T18:15:11.685Z"
   },
   {
    "duration": 18,
    "start_time": "2022-03-01T18:16:36.279Z"
   },
   {
    "duration": 212,
    "start_time": "2022-03-01T18:16:41.249Z"
   },
   {
    "duration": 37,
    "start_time": "2022-03-01T18:17:00.177Z"
   },
   {
    "duration": 18,
    "start_time": "2022-03-01T18:18:10.749Z"
   },
   {
    "duration": 194,
    "start_time": "2022-03-01T18:18:14.478Z"
   },
   {
    "duration": 217,
    "start_time": "2022-03-01T18:19:30.011Z"
   },
   {
    "duration": 184,
    "start_time": "2022-03-01T18:19:37.468Z"
   },
   {
    "duration": 16,
    "start_time": "2022-03-01T18:19:42.952Z"
   },
   {
    "duration": 212,
    "start_time": "2022-03-01T18:19:47.359Z"
   },
   {
    "duration": 18,
    "start_time": "2022-03-01T18:19:53.612Z"
   },
   {
    "duration": 13,
    "start_time": "2022-03-01T18:20:47.942Z"
   },
   {
    "duration": 8,
    "start_time": "2022-03-01T18:21:00.322Z"
   },
   {
    "duration": 6,
    "start_time": "2022-03-01T18:21:37.376Z"
   },
   {
    "duration": 6,
    "start_time": "2022-03-01T18:22:06.944Z"
   },
   {
    "duration": 8,
    "start_time": "2022-03-01T18:23:56.014Z"
   },
   {
    "duration": 8,
    "start_time": "2022-03-01T18:23:56.334Z"
   },
   {
    "duration": 7,
    "start_time": "2022-03-01T18:23:56.626Z"
   },
   {
    "duration": 67,
    "start_time": "2022-03-01T18:24:39.429Z"
   },
   {
    "duration": 6,
    "start_time": "2022-03-01T18:42:30.471Z"
   },
   {
    "duration": 19,
    "start_time": "2022-03-01T18:46:24.179Z"
   },
   {
    "duration": 65,
    "start_time": "2022-03-01T18:46:26.732Z"
   },
   {
    "duration": 66,
    "start_time": "2022-03-01T18:46:43.951Z"
   },
   {
    "duration": 235,
    "start_time": "2022-03-01T18:47:06.974Z"
   },
   {
    "duration": 29,
    "start_time": "2022-03-01T18:47:11.219Z"
   },
   {
    "duration": 244,
    "start_time": "2022-03-01T18:47:48.007Z"
   },
   {
    "duration": 17,
    "start_time": "2022-03-01T18:47:48.844Z"
   },
   {
    "duration": 244,
    "start_time": "2022-03-01T18:48:52.443Z"
   },
   {
    "duration": 18,
    "start_time": "2022-03-01T18:48:52.976Z"
   },
   {
    "duration": 232,
    "start_time": "2022-03-01T18:49:51.925Z"
   },
   {
    "duration": 17,
    "start_time": "2022-03-01T18:49:52.283Z"
   },
   {
    "duration": 235,
    "start_time": "2022-03-01T18:50:05.701Z"
   },
   {
    "duration": 18,
    "start_time": "2022-03-01T18:50:06.441Z"
   },
   {
    "duration": 233,
    "start_time": "2022-03-01T18:50:35.823Z"
   },
   {
    "duration": 17,
    "start_time": "2022-03-01T18:50:36.506Z"
   },
   {
    "duration": 14,
    "start_time": "2022-03-01T21:15:05.881Z"
   },
   {
    "duration": 13,
    "start_time": "2022-03-01T21:15:59.888Z"
   },
   {
    "duration": 14,
    "start_time": "2022-03-01T21:16:24.061Z"
   },
   {
    "duration": 13,
    "start_time": "2022-03-01T21:17:37.865Z"
   },
   {
    "duration": 191,
    "start_time": "2022-03-01T21:17:46.521Z"
   },
   {
    "duration": 13,
    "start_time": "2022-03-01T21:17:53.114Z"
   },
   {
    "duration": 14,
    "start_time": "2022-03-01T22:27:59.581Z"
   },
   {
    "duration": 20,
    "start_time": "2022-03-01T22:28:56.848Z"
   },
   {
    "duration": 12,
    "start_time": "2022-03-01T22:29:07.380Z"
   },
   {
    "duration": 13,
    "start_time": "2022-03-01T22:30:27.682Z"
   },
   {
    "duration": 14,
    "start_time": "2022-03-01T22:30:33.130Z"
   },
   {
    "duration": 13,
    "start_time": "2022-03-01T22:30:43.771Z"
   },
   {
    "duration": 13,
    "start_time": "2022-03-01T22:30:46.126Z"
   },
   {
    "duration": 14,
    "start_time": "2022-03-01T22:30:52.122Z"
   },
   {
    "duration": 13,
    "start_time": "2022-03-01T22:31:02.251Z"
   },
   {
    "duration": 15,
    "start_time": "2022-03-01T22:32:15.177Z"
   },
   {
    "duration": 13,
    "start_time": "2022-03-01T22:32:45.790Z"
   },
   {
    "duration": 661,
    "start_time": "2022-03-02T12:03:20.156Z"
   },
   {
    "duration": 8,
    "start_time": "2022-03-02T12:03:20.819Z"
   },
   {
    "duration": 14,
    "start_time": "2022-03-02T12:03:21.230Z"
   },
   {
    "duration": 19,
    "start_time": "2022-03-02T12:03:21.630Z"
   },
   {
    "duration": 5,
    "start_time": "2022-03-02T12:03:21.996Z"
   },
   {
    "duration": 5,
    "start_time": "2022-03-02T12:03:22.541Z"
   },
   {
    "duration": 5,
    "start_time": "2022-03-02T12:03:22.961Z"
   },
   {
    "duration": 6,
    "start_time": "2022-03-02T12:03:23.463Z"
   },
   {
    "duration": 7,
    "start_time": "2022-03-02T12:03:23.915Z"
   },
   {
    "duration": 7,
    "start_time": "2022-03-02T12:03:24.285Z"
   },
   {
    "duration": 5,
    "start_time": "2022-03-02T12:03:24.677Z"
   },
   {
    "duration": 5,
    "start_time": "2022-03-02T12:03:25.110Z"
   },
   {
    "duration": 13,
    "start_time": "2022-03-02T12:03:25.538Z"
   },
   {
    "duration": 7,
    "start_time": "2022-03-02T12:03:26.331Z"
   },
   {
    "duration": 7,
    "start_time": "2022-03-02T12:03:26.576Z"
   },
   {
    "duration": 7,
    "start_time": "2022-03-02T12:03:36.273Z"
   },
   {
    "duration": 7,
    "start_time": "2022-03-02T12:03:37.386Z"
   },
   {
    "duration": 3,
    "start_time": "2022-03-02T12:03:38.654Z"
   },
   {
    "duration": 4,
    "start_time": "2022-03-02T12:03:39.194Z"
   },
   {
    "duration": 10,
    "start_time": "2022-03-02T12:03:42.133Z"
   },
   {
    "duration": 10,
    "start_time": "2022-03-02T12:04:03.874Z"
   },
   {
    "duration": 5,
    "start_time": "2022-03-02T12:04:04.162Z"
   },
   {
    "duration": 4,
    "start_time": "2022-03-02T12:04:04.991Z"
   },
   {
    "duration": 6,
    "start_time": "2022-03-02T12:04:05.306Z"
   },
   {
    "duration": 11,
    "start_time": "2022-03-02T12:04:05.560Z"
   },
   {
    "duration": 6,
    "start_time": "2022-03-02T12:04:05.876Z"
   },
   {
    "duration": 11,
    "start_time": "2022-03-02T12:04:07.461Z"
   },
   {
    "duration": 11,
    "start_time": "2022-03-02T12:04:07.732Z"
   },
   {
    "duration": 14,
    "start_time": "2022-03-02T12:04:08.543Z"
   },
   {
    "duration": 16,
    "start_time": "2022-03-02T12:04:08.939Z"
   },
   {
    "duration": 14,
    "start_time": "2022-03-02T12:04:09.190Z"
   },
   {
    "duration": 5,
    "start_time": "2022-03-02T12:04:09.673Z"
   },
   {
    "duration": 10,
    "start_time": "2022-03-02T12:04:09.901Z"
   },
   {
    "duration": 6,
    "start_time": "2022-03-02T12:04:10.097Z"
   },
   {
    "duration": 14,
    "start_time": "2022-03-02T12:04:10.617Z"
   },
   {
    "duration": 16,
    "start_time": "2022-03-02T12:04:10.781Z"
   },
   {
    "duration": 14,
    "start_time": "2022-03-02T12:04:10.940Z"
   },
   {
    "duration": 9,
    "start_time": "2022-03-02T12:04:11.288Z"
   },
   {
    "duration": 9,
    "start_time": "2022-03-02T12:04:11.469Z"
   },
   {
    "duration": 5,
    "start_time": "2022-03-02T12:04:11.669Z"
   },
   {
    "duration": 8,
    "start_time": "2022-03-02T12:04:11.821Z"
   },
   {
    "duration": 197,
    "start_time": "2022-03-02T12:04:12.371Z"
   },
   {
    "duration": 9,
    "start_time": "2022-03-02T12:04:12.711Z"
   },
   {
    "duration": 6,
    "start_time": "2022-03-02T12:04:12.890Z"
   },
   {
    "duration": 6,
    "start_time": "2022-03-02T12:04:13.086Z"
   },
   {
    "duration": 7,
    "start_time": "2022-03-02T12:04:13.261Z"
   },
   {
    "duration": 7,
    "start_time": "2022-03-02T12:04:13.414Z"
   },
   {
    "duration": 9,
    "start_time": "2022-03-02T12:04:13.589Z"
   },
   {
    "duration": 5,
    "start_time": "2022-03-02T12:04:14.334Z"
   },
   {
    "duration": 92,
    "start_time": "2022-03-02T12:04:14.528Z"
   },
   {
    "duration": 201,
    "start_time": "2022-03-02T12:04:14.750Z"
   },
   {
    "duration": 17,
    "start_time": "2022-03-02T12:04:14.953Z"
   },
   {
    "duration": 13,
    "start_time": "2022-03-02T12:04:16.009Z"
   },
   {
    "duration": 12,
    "start_time": "2022-03-02T12:04:17.045Z"
   },
   {
    "duration": 12,
    "start_time": "2022-03-02T12:04:18.252Z"
   },
   {
    "duration": 14,
    "start_time": "2022-03-02T12:04:19.087Z"
   },
   {
    "duration": 15,
    "start_time": "2022-03-02T12:04:56.676Z"
   },
   {
    "duration": 23,
    "start_time": "2022-03-02T12:10:20.160Z"
   },
   {
    "duration": 15,
    "start_time": "2022-03-02T12:10:20.966Z"
   },
   {
    "duration": 5,
    "start_time": "2022-03-02T12:11:03.566Z"
   },
   {
    "duration": 97,
    "start_time": "2022-03-02T12:11:04.221Z"
   },
   {
    "duration": 196,
    "start_time": "2022-03-02T12:11:16.286Z"
   },
   {
    "duration": 17,
    "start_time": "2022-03-02T12:11:17.235Z"
   },
   {
    "duration": 194,
    "start_time": "2022-03-02T12:11:53.363Z"
   },
   {
    "duration": 14,
    "start_time": "2022-03-02T12:11:54.133Z"
   },
   {
    "duration": 25,
    "start_time": "2022-03-02T12:12:46.265Z"
   },
   {
    "duration": 111,
    "start_time": "2022-03-02T12:14:31.989Z"
   },
   {
    "duration": 97,
    "start_time": "2022-03-02T12:14:33.161Z"
   },
   {
    "duration": 27,
    "start_time": "2022-03-02T12:15:03.448Z"
   },
   {
    "duration": 93,
    "start_time": "2022-03-02T12:17:10.177Z"
   },
   {
    "duration": 8,
    "start_time": "2022-03-02T12:18:45.159Z"
   },
   {
    "duration": 7,
    "start_time": "2022-03-02T12:18:54.473Z"
   },
   {
    "duration": 11,
    "start_time": "2022-03-02T12:19:04.324Z"
   },
   {
    "duration": 411,
    "start_time": "2022-03-02T12:58:56.025Z"
   },
   {
    "duration": 11,
    "start_time": "2022-03-02T12:59:08.050Z"
   },
   {
    "duration": 56,
    "start_time": "2022-03-02T12:59:15.871Z"
   },
   {
    "duration": 10,
    "start_time": "2022-03-02T12:59:16.974Z"
   },
   {
    "duration": 10,
    "start_time": "2022-03-02T12:59:17.855Z"
   },
   {
    "duration": 22,
    "start_time": "2022-03-02T12:59:18.652Z"
   },
   {
    "duration": 4,
    "start_time": "2022-03-02T12:59:19.547Z"
   },
   {
    "duration": 6,
    "start_time": "2022-03-02T12:59:20.804Z"
   },
   {
    "duration": 6,
    "start_time": "2022-03-02T12:59:21.510Z"
   },
   {
    "duration": 6,
    "start_time": "2022-03-02T12:59:22.220Z"
   },
   {
    "duration": 6,
    "start_time": "2022-03-02T12:59:22.839Z"
   },
   {
    "duration": 7,
    "start_time": "2022-03-02T12:59:23.503Z"
   },
   {
    "duration": 6,
    "start_time": "2022-03-02T12:59:24.151Z"
   },
   {
    "duration": 6,
    "start_time": "2022-03-02T12:59:24.748Z"
   },
   {
    "duration": 14,
    "start_time": "2022-03-02T12:59:25.085Z"
   },
   {
    "duration": 8,
    "start_time": "2022-03-02T12:59:25.941Z"
   },
   {
    "duration": 8,
    "start_time": "2022-03-02T12:59:26.122Z"
   },
   {
    "duration": 4,
    "start_time": "2022-03-02T12:59:26.746Z"
   },
   {
    "duration": 5,
    "start_time": "2022-03-02T12:59:27.040Z"
   },
   {
    "duration": 11,
    "start_time": "2022-03-02T12:59:27.317Z"
   },
   {
    "duration": 5,
    "start_time": "2022-03-02T12:59:27.626Z"
   },
   {
    "duration": 5,
    "start_time": "2022-03-02T12:59:28.247Z"
   },
   {
    "duration": 5,
    "start_time": "2022-03-02T12:59:28.721Z"
   },
   {
    "duration": 10,
    "start_time": "2022-03-02T12:59:29.223Z"
   },
   {
    "duration": 5,
    "start_time": "2022-03-02T12:59:29.785Z"
   },
   {
    "duration": 26,
    "start_time": "2022-03-02T12:59:32.587Z"
   },
   {
    "duration": 24,
    "start_time": "2022-03-02T12:59:37.055Z"
   },
   {
    "duration": 11,
    "start_time": "2022-03-02T12:59:39.168Z"
   },
   {
    "duration": 315,
    "start_time": "2022-03-02T12:59:41.261Z"
   },
   {
    "duration": 359,
    "start_time": "2022-03-02T16:41:01.717Z"
   },
   {
    "duration": 19,
    "start_time": "2022-03-02T16:41:23.481Z"
   },
   {
    "duration": 20,
    "start_time": "2022-03-02T16:41:30.619Z"
   },
   {
    "duration": 7,
    "start_time": "2022-03-02T16:41:54.597Z"
   },
   {
    "duration": 7,
    "start_time": "2022-03-02T16:41:58.722Z"
   },
   {
    "duration": 6,
    "start_time": "2022-03-02T16:42:11.032Z"
   },
   {
    "duration": 1968,
    "start_time": "2022-03-02T16:42:27.069Z"
   },
   {
    "duration": 6,
    "start_time": "2022-03-02T16:42:42.570Z"
   },
   {
    "duration": 5,
    "start_time": "2022-03-02T16:44:36.603Z"
   },
   {
    "duration": 6,
    "start_time": "2022-03-02T16:44:53.471Z"
   },
   {
    "duration": 5,
    "start_time": "2022-03-02T16:45:01.116Z"
   },
   {
    "duration": 5,
    "start_time": "2022-03-02T16:45:07.549Z"
   },
   {
    "duration": 6,
    "start_time": "2022-03-02T16:45:16.285Z"
   },
   {
    "duration": 6,
    "start_time": "2022-03-02T16:45:30.198Z"
   },
   {
    "duration": 6,
    "start_time": "2022-03-02T16:45:37.423Z"
   },
   {
    "duration": 6,
    "start_time": "2022-03-02T16:45:48.893Z"
   },
   {
    "duration": 311,
    "start_time": "2022-03-02T16:45:56.153Z"
   },
   {
    "duration": 5,
    "start_time": "2022-03-02T16:46:01.351Z"
   },
   {
    "duration": 6,
    "start_time": "2022-03-02T16:46:23.461Z"
   },
   {
    "duration": 282,
    "start_time": "2022-03-02T16:47:15.602Z"
   },
   {
    "duration": 293,
    "start_time": "2022-03-02T17:26:58.917Z"
   },
   {
    "duration": 12,
    "start_time": "2022-03-02T17:27:01.366Z"
   },
   {
    "duration": 295,
    "start_time": "2022-03-02T17:27:05.540Z"
   },
   {
    "duration": 4,
    "start_time": "2022-03-02T17:27:39.081Z"
   },
   {
    "duration": 6,
    "start_time": "2022-03-02T17:32:38.649Z"
   },
   {
    "duration": 5,
    "start_time": "2022-03-02T17:32:50.627Z"
   },
   {
    "duration": 11,
    "start_time": "2022-03-02T17:33:19.350Z"
   },
   {
    "duration": 8,
    "start_time": "2022-03-02T17:35:37.644Z"
   },
   {
    "duration": 6,
    "start_time": "2022-03-02T17:35:50.018Z"
   },
   {
    "duration": 6,
    "start_time": "2022-03-02T17:36:19.789Z"
   },
   {
    "duration": 7,
    "start_time": "2022-03-02T17:36:24.587Z"
   },
   {
    "duration": 6,
    "start_time": "2022-03-02T17:36:35.590Z"
   },
   {
    "duration": 6,
    "start_time": "2022-03-02T17:37:01.890Z"
   },
   {
    "duration": 7,
    "start_time": "2022-03-02T17:37:13.657Z"
   },
   {
    "duration": 7,
    "start_time": "2022-03-02T17:39:07.258Z"
   },
   {
    "duration": 6,
    "start_time": "2022-03-02T17:39:14.510Z"
   },
   {
    "duration": 9,
    "start_time": "2022-03-02T17:39:25.911Z"
   },
   {
    "duration": 10,
    "start_time": "2022-03-02T17:39:26.291Z"
   },
   {
    "duration": 16,
    "start_time": "2022-03-02T17:39:27.774Z"
   },
   {
    "duration": 17,
    "start_time": "2022-03-02T17:39:28.133Z"
   },
   {
    "duration": 16,
    "start_time": "2022-03-02T17:39:29.175Z"
   },
   {
    "duration": 5,
    "start_time": "2022-03-02T17:39:29.564Z"
   },
   {
    "duration": 10,
    "start_time": "2022-03-02T17:39:29.787Z"
   },
   {
    "duration": 6,
    "start_time": "2022-03-02T17:39:30.290Z"
   },
   {
    "duration": 14,
    "start_time": "2022-03-02T17:39:31.129Z"
   },
   {
    "duration": 16,
    "start_time": "2022-03-02T17:39:31.403Z"
   },
   {
    "duration": 14,
    "start_time": "2022-03-02T17:39:32.189Z"
   },
   {
    "duration": 9,
    "start_time": "2022-03-02T17:39:33.398Z"
   },
   {
    "duration": 8,
    "start_time": "2022-03-02T17:39:35.146Z"
   },
   {
    "duration": 5,
    "start_time": "2022-03-02T17:39:35.450Z"
   },
   {
    "duration": 8,
    "start_time": "2022-03-02T17:39:35.700Z"
   },
   {
    "duration": 193,
    "start_time": "2022-03-02T17:39:37.330Z"
   },
   {
    "duration": 9,
    "start_time": "2022-03-02T17:39:38.089Z"
   },
   {
    "duration": 6,
    "start_time": "2022-03-02T17:39:38.478Z"
   },
   {
    "duration": 6,
    "start_time": "2022-03-02T17:39:38.737Z"
   },
   {
    "duration": 7,
    "start_time": "2022-03-02T17:39:39.032Z"
   },
   {
    "duration": 6,
    "start_time": "2022-03-02T17:39:39.316Z"
   },
   {
    "duration": 6,
    "start_time": "2022-03-02T17:39:39.590Z"
   },
   {
    "duration": 5,
    "start_time": "2022-03-02T17:39:41.345Z"
   },
   {
    "duration": 196,
    "start_time": "2022-03-02T17:39:42.459Z"
   },
   {
    "duration": 17,
    "start_time": "2022-03-02T17:39:42.945Z"
   },
   {
    "duration": 20,
    "start_time": "2022-03-02T17:40:28.315Z"
   },
   {
    "duration": 298,
    "start_time": "2022-03-02T17:41:58.434Z"
   },
   {
    "duration": 282,
    "start_time": "2022-03-02T17:44:17.546Z"
   },
   {
    "duration": 328,
    "start_time": "2022-03-02T17:45:47.701Z"
   },
   {
    "duration": 20,
    "start_time": "2022-03-02T17:46:04.592Z"
   },
   {
    "duration": 17,
    "start_time": "2022-03-02T17:46:30.434Z"
   },
   {
    "duration": 20,
    "start_time": "2022-03-02T17:46:53.604Z"
   },
   {
    "duration": 13,
    "start_time": "2022-03-02T17:48:34.114Z"
   },
   {
    "duration": 277,
    "start_time": "2022-03-02T17:50:38.453Z"
   },
   {
    "duration": 300,
    "start_time": "2022-03-02T17:51:01.274Z"
   },
   {
    "duration": 349,
    "start_time": "2022-03-02T17:51:12.667Z"
   },
   {
    "duration": 10,
    "start_time": "2022-03-02T17:51:30.960Z"
   },
   {
    "duration": 23,
    "start_time": "2022-03-02T17:52:11.445Z"
   },
   {
    "duration": 27,
    "start_time": "2022-03-02T17:52:56.335Z"
   },
   {
    "duration": 22,
    "start_time": "2022-03-02T17:53:15.232Z"
   },
   {
    "duration": 19,
    "start_time": "2022-03-02T17:53:59.062Z"
   },
   {
    "duration": 344,
    "start_time": "2022-03-02T17:55:19.517Z"
   },
   {
    "duration": 300,
    "start_time": "2022-03-02T17:55:33.016Z"
   },
   {
    "duration": 18,
    "start_time": "2022-03-02T17:56:14.557Z"
   },
   {
    "duration": 18,
    "start_time": "2022-03-02T17:56:53.743Z"
   },
   {
    "duration": 20,
    "start_time": "2022-03-02T17:57:47.315Z"
   },
   {
    "duration": 286,
    "start_time": "2022-03-02T17:58:24.405Z"
   },
   {
    "duration": 18,
    "start_time": "2022-03-02T17:58:29.118Z"
   },
   {
    "duration": 327,
    "start_time": "2022-03-02T18:00:33.887Z"
   },
   {
    "duration": 21,
    "start_time": "2022-03-02T18:00:39.118Z"
   },
   {
    "duration": 301,
    "start_time": "2022-03-02T18:01:45.989Z"
   },
   {
    "duration": 782,
    "start_time": "2022-03-02T18:01:49.345Z"
   },
   {
    "duration": 22,
    "start_time": "2022-03-02T18:01:52.905Z"
   },
   {
    "duration": 309,
    "start_time": "2022-03-02T18:02:23.312Z"
   },
   {
    "duration": 294,
    "start_time": "2022-03-02T18:02:27.376Z"
   },
   {
    "duration": 22,
    "start_time": "2022-03-02T18:02:32.410Z"
   },
   {
    "duration": 322,
    "start_time": "2022-03-02T18:02:40.890Z"
   },
   {
    "duration": 21,
    "start_time": "2022-03-02T18:03:44.809Z"
   },
   {
    "duration": 20,
    "start_time": "2022-03-02T18:34:46.990Z"
   },
   {
    "duration": 3415,
    "start_time": "2022-03-02T18:35:19.560Z"
   },
   {
    "duration": 20,
    "start_time": "2022-03-02T18:35:27.503Z"
   },
   {
    "duration": 290,
    "start_time": "2022-03-02T18:42:36.699Z"
   },
   {
    "duration": 21,
    "start_time": "2022-03-02T18:42:45.527Z"
   },
   {
    "duration": 288,
    "start_time": "2022-03-02T18:46:33.840Z"
   },
   {
    "duration": 22,
    "start_time": "2022-03-02T18:46:39.502Z"
   },
   {
    "duration": 21,
    "start_time": "2022-03-02T18:46:48.660Z"
   },
   {
    "duration": 22,
    "start_time": "2022-03-02T18:48:14.418Z"
   },
   {
    "duration": 21,
    "start_time": "2022-03-02T18:48:53.909Z"
   },
   {
    "duration": 22,
    "start_time": "2022-03-02T18:49:07.992Z"
   },
   {
    "duration": 302,
    "start_time": "2022-03-02T18:54:08.068Z"
   },
   {
    "duration": 290,
    "start_time": "2022-03-02T18:54:11.304Z"
   },
   {
    "duration": 22,
    "start_time": "2022-03-02T18:54:15.350Z"
   },
   {
    "duration": 5,
    "start_time": "2022-03-02T19:02:31.786Z"
   },
   {
    "duration": 5,
    "start_time": "2022-03-02T19:02:39.530Z"
   },
   {
    "duration": 5,
    "start_time": "2022-03-02T19:02:49.445Z"
   },
   {
    "duration": 5,
    "start_time": "2022-03-02T19:03:00.317Z"
   },
   {
    "duration": 6,
    "start_time": "2022-03-02T19:03:22.512Z"
   },
   {
    "duration": 96,
    "start_time": "2022-03-02T19:03:26.145Z"
   },
   {
    "duration": 9,
    "start_time": "2022-03-02T19:03:26.439Z"
   },
   {
    "duration": 1100,
    "start_time": "2022-03-02T19:03:48.210Z"
   },
   {
    "duration": -1021,
    "start_time": "2022-03-02T19:03:50.334Z"
   },
   {
    "duration": 8,
    "start_time": "2022-03-02T19:03:49.646Z"
   },
   {
    "duration": 284,
    "start_time": "2022-03-02T19:04:22.498Z"
   },
   {
    "duration": 8,
    "start_time": "2022-03-02T19:04:49.763Z"
   },
   {
    "duration": 92,
    "start_time": "2022-03-02T19:04:51.134Z"
   },
   {
    "duration": 7,
    "start_time": "2022-03-02T19:04:51.857Z"
   },
   {
    "duration": 11,
    "start_time": "2022-03-02T19:05:48.225Z"
   },
   {
    "duration": 5,
    "start_time": "2022-03-02T19:06:04.534Z"
   },
   {
    "duration": 8,
    "start_time": "2022-03-02T19:06:14.198Z"
   },
   {
    "duration": 8,
    "start_time": "2022-03-02T19:06:15.615Z"
   },
   {
    "duration": 4,
    "start_time": "2022-03-02T19:06:16.531Z"
   },
   {
    "duration": 52,
    "start_time": "2022-03-02T19:07:05.920Z"
   },
   {
    "duration": 11,
    "start_time": "2022-03-02T19:07:06.841Z"
   },
   {
    "duration": 5,
    "start_time": "2022-03-02T19:07:07.069Z"
   },
   {
    "duration": 55,
    "start_time": "2022-03-02T19:07:14.436Z"
   },
   {
    "duration": 9,
    "start_time": "2022-03-02T19:07:15.003Z"
   },
   {
    "duration": 8,
    "start_time": "2022-03-02T19:07:15.470Z"
   },
   {
    "duration": 19,
    "start_time": "2022-03-02T19:07:16.340Z"
   },
   {
    "duration": 4,
    "start_time": "2022-03-02T19:07:17.294Z"
   },
   {
    "duration": 7,
    "start_time": "2022-03-02T19:07:18.453Z"
   },
   {
    "duration": 5,
    "start_time": "2022-03-02T19:07:19.078Z"
   },
   {
    "duration": 6,
    "start_time": "2022-03-02T19:07:19.719Z"
   },
   {
    "duration": 6,
    "start_time": "2022-03-02T19:07:20.510Z"
   },
   {
    "duration": 6,
    "start_time": "2022-03-02T19:07:21.126Z"
   },
   {
    "duration": 5,
    "start_time": "2022-03-02T19:07:21.729Z"
   },
   {
    "duration": 5,
    "start_time": "2022-03-02T19:07:22.299Z"
   },
   {
    "duration": 14,
    "start_time": "2022-03-02T19:07:22.829Z"
   },
   {
    "duration": 6,
    "start_time": "2022-03-02T19:07:23.709Z"
   },
   {
    "duration": 8,
    "start_time": "2022-03-02T19:07:24.003Z"
   },
   {
    "duration": 3,
    "start_time": "2022-03-02T19:07:24.777Z"
   },
   {
    "duration": 4,
    "start_time": "2022-03-02T19:07:25.153Z"
   },
   {
    "duration": 9,
    "start_time": "2022-03-02T19:07:25.481Z"
   },
   {
    "duration": 4,
    "start_time": "2022-03-02T19:07:25.824Z"
   },
   {
    "duration": 4,
    "start_time": "2022-03-02T19:07:26.414Z"
   },
   {
    "duration": 4,
    "start_time": "2022-03-02T19:07:26.833Z"
   },
   {
    "duration": 10,
    "start_time": "2022-03-02T19:07:27.439Z"
   },
   {
    "duration": 4,
    "start_time": "2022-03-02T19:07:28.785Z"
   },
   {
    "duration": 25,
    "start_time": "2022-03-02T19:07:36.043Z"
   },
   {
    "duration": 26,
    "start_time": "2022-03-02T19:07:37.379Z"
   },
   {
    "duration": 11,
    "start_time": "2022-03-02T19:07:41.940Z"
   },
   {
    "duration": 4,
    "start_time": "2022-03-02T19:07:42.624Z"
   },
   {
    "duration": 294,
    "start_time": "2022-03-02T19:07:47.646Z"
   },
   {
    "duration": 5,
    "start_time": "2022-03-02T19:08:02.923Z"
   },
   {
    "duration": 299,
    "start_time": "2022-03-02T19:08:04.634Z"
   },
   {
    "duration": 300,
    "start_time": "2022-03-02T19:08:24.321Z"
   },
   {
    "duration": 6,
    "start_time": "2022-03-02T19:08:30.765Z"
   },
   {
    "duration": 6,
    "start_time": "2022-03-02T19:08:32.255Z"
   },
   {
    "duration": 4,
    "start_time": "2022-03-02T19:08:33.333Z"
   },
   {
    "duration": 26,
    "start_time": "2022-03-02T19:08:39.530Z"
   },
   {
    "duration": 10,
    "start_time": "2022-03-02T19:08:40.354Z"
   },
   {
    "duration": 4,
    "start_time": "2022-03-02T19:08:41.631Z"
   },
   {
    "duration": 290,
    "start_time": "2022-03-02T19:08:43.116Z"
   },
   {
    "duration": 303,
    "start_time": "2022-03-02T19:08:52.318Z"
   },
   {
    "duration": 294,
    "start_time": "2022-03-02T19:09:07.700Z"
   },
   {
    "duration": 2,
    "start_time": "2022-03-02T19:09:27.505Z"
   },
   {
    "duration": 6,
    "start_time": "2022-03-02T19:09:29.544Z"
   },
   {
    "duration": 7,
    "start_time": "2022-03-02T19:09:31.111Z"
   },
   {
    "duration": 4,
    "start_time": "2022-03-02T19:09:31.764Z"
   },
   {
    "duration": 92,
    "start_time": "2022-03-02T19:09:33.346Z"
   },
   {
    "duration": 290,
    "start_time": "2022-03-02T19:10:11.889Z"
   },
   {
    "duration": 10,
    "start_time": "2022-03-02T19:11:17.530Z"
   },
   {
    "duration": 12,
    "start_time": "2022-03-02T19:11:17.828Z"
   },
   {
    "duration": 14,
    "start_time": "2022-03-02T19:11:18.826Z"
   },
   {
    "duration": 16,
    "start_time": "2022-03-02T19:11:19.073Z"
   },
   {
    "duration": 14,
    "start_time": "2022-03-02T19:11:19.430Z"
   },
   {
    "duration": 4,
    "start_time": "2022-03-02T19:11:19.966Z"
   },
   {
    "duration": 9,
    "start_time": "2022-03-02T19:11:20.217Z"
   },
   {
    "duration": 6,
    "start_time": "2022-03-02T19:11:20.506Z"
   },
   {
    "duration": 15,
    "start_time": "2022-03-02T19:11:21.329Z"
   },
   {
    "duration": 17,
    "start_time": "2022-03-02T19:11:21.551Z"
   },
   {
    "duration": 14,
    "start_time": "2022-03-02T19:11:21.808Z"
   },
   {
    "duration": 10,
    "start_time": "2022-03-02T19:11:22.300Z"
   },
   {
    "duration": 9,
    "start_time": "2022-03-02T19:11:22.563Z"
   },
   {
    "duration": 4,
    "start_time": "2022-03-02T19:11:22.926Z"
   },
   {
    "duration": 9,
    "start_time": "2022-03-02T19:11:23.195Z"
   },
   {
    "duration": 192,
    "start_time": "2022-03-02T19:11:24.050Z"
   },
   {
    "duration": 9,
    "start_time": "2022-03-02T19:11:24.631Z"
   },
   {
    "duration": 6,
    "start_time": "2022-03-02T19:11:24.985Z"
   },
   {
    "duration": 6,
    "start_time": "2022-03-02T19:11:25.244Z"
   },
   {
    "duration": 7,
    "start_time": "2022-03-02T19:11:25.491Z"
   },
   {
    "duration": 6,
    "start_time": "2022-03-02T19:11:25.771Z"
   },
   {
    "duration": 6,
    "start_time": "2022-03-02T19:11:26.112Z"
   },
   {
    "duration": 5,
    "start_time": "2022-03-02T19:11:27.470Z"
   },
   {
    "duration": 194,
    "start_time": "2022-03-02T19:11:28.150Z"
   },
   {
    "duration": 16,
    "start_time": "2022-03-02T19:11:28.489Z"
   },
   {
    "duration": 12,
    "start_time": "2022-03-02T19:11:30.515Z"
   },
   {
    "duration": 18,
    "start_time": "2022-03-02T19:13:07.361Z"
   },
   {
    "duration": 18,
    "start_time": "2022-03-02T19:14:14.204Z"
   },
   {
    "duration": 19,
    "start_time": "2022-03-02T19:14:40.871Z"
   },
   {
    "duration": 284,
    "start_time": "2022-03-02T19:15:11.579Z"
   },
   {
    "duration": 17,
    "start_time": "2022-03-02T19:16:38.488Z"
   },
   {
    "duration": 17,
    "start_time": "2022-03-02T19:16:44.099Z"
   },
   {
    "duration": 17,
    "start_time": "2022-03-02T19:16:52.693Z"
   },
   {
    "duration": 26,
    "start_time": "2022-03-02T19:17:06.706Z"
   },
   {
    "duration": 310,
    "start_time": "2022-03-02T19:18:19.783Z"
   },
   {
    "duration": 22,
    "start_time": "2022-03-02T19:18:56.391Z"
   },
   {
    "duration": 19,
    "start_time": "2022-03-02T19:19:23.558Z"
   },
   {
    "duration": 15,
    "start_time": "2022-03-02T19:20:15.155Z"
   },
   {
    "duration": 15,
    "start_time": "2022-03-02T19:21:04.328Z"
   },
   {
    "duration": 35,
    "start_time": "2022-03-02T19:21:29.932Z"
   },
   {
    "duration": 291,
    "start_time": "2022-03-02T19:22:16.934Z"
   },
   {
    "duration": 23,
    "start_time": "2022-03-02T19:22:20.275Z"
   },
   {
    "duration": 22,
    "start_time": "2022-03-02T19:23:25.550Z"
   },
   {
    "duration": 17,
    "start_time": "2022-03-02T19:24:09.677Z"
   },
   {
    "duration": 18,
    "start_time": "2022-03-02T19:24:59.931Z"
   },
   {
    "duration": 17,
    "start_time": "2022-03-02T19:25:26.674Z"
   },
   {
    "duration": 18,
    "start_time": "2022-03-02T19:25:32.914Z"
   },
   {
    "duration": 18,
    "start_time": "2022-03-02T19:25:50.963Z"
   },
   {
    "duration": 299,
    "start_time": "2022-03-02T19:30:35.020Z"
   },
   {
    "duration": 17,
    "start_time": "2022-03-02T19:30:38.415Z"
   },
   {
    "duration": 16,
    "start_time": "2022-03-02T19:37:25.432Z"
   },
   {
    "duration": 394,
    "start_time": "2022-03-02T19:40:05.842Z"
   },
   {
    "duration": 2324,
    "start_time": "2022-03-02T19:40:20.666Z"
   },
   {
    "duration": 4,
    "start_time": "2022-03-02T19:40:28.621Z"
   },
   {
    "duration": 21,
    "start_time": "2022-03-02T19:40:28.627Z"
   },
   {
    "duration": 5,
    "start_time": "2022-03-02T19:40:28.649Z"
   },
   {
    "duration": 8,
    "start_time": "2022-03-02T19:40:28.656Z"
   },
   {
    "duration": 3,
    "start_time": "2022-03-02T19:40:28.665Z"
   },
   {
    "duration": 10,
    "start_time": "2022-03-02T19:40:28.670Z"
   },
   {
    "duration": 9,
    "start_time": "2022-03-02T19:40:28.681Z"
   },
   {
    "duration": 27,
    "start_time": "2022-03-02T19:40:28.692Z"
   },
   {
    "duration": 15,
    "start_time": "2022-03-02T19:40:28.721Z"
   },
   {
    "duration": 15,
    "start_time": "2022-03-02T19:40:34.286Z"
   },
   {
    "duration": 16282,
    "start_time": "2022-03-02T19:40:34.826Z"
   },
   {
    "duration": -942,
    "start_time": "2022-03-02T19:40:52.052Z"
   },
   {
    "duration": -946,
    "start_time": "2022-03-02T19:40:52.057Z"
   },
   {
    "duration": -950,
    "start_time": "2022-03-02T19:40:52.062Z"
   },
   {
    "duration": -953,
    "start_time": "2022-03-02T19:40:52.066Z"
   },
   {
    "duration": -957,
    "start_time": "2022-03-02T19:40:52.071Z"
   },
   {
    "duration": -961,
    "start_time": "2022-03-02T19:40:52.076Z"
   },
   {
    "duration": -966,
    "start_time": "2022-03-02T19:40:52.081Z"
   },
   {
    "duration": -969,
    "start_time": "2022-03-02T19:40:52.085Z"
   },
   {
    "duration": -972,
    "start_time": "2022-03-02T19:40:52.090Z"
   },
   {
    "duration": 16,
    "start_time": "2022-03-02T19:42:05.678Z"
   },
   {
    "duration": 5,
    "start_time": "2022-03-02T19:42:07.640Z"
   },
   {
    "duration": 316,
    "start_time": "2022-03-02T19:42:09.312Z"
   },
   {
    "duration": 56,
    "start_time": "2022-03-02T19:42:20.250Z"
   },
   {
    "duration": 9,
    "start_time": "2022-03-02T19:42:22.070Z"
   },
   {
    "duration": 8,
    "start_time": "2022-03-02T19:42:22.081Z"
   },
   {
    "duration": 19,
    "start_time": "2022-03-02T19:42:22.765Z"
   },
   {
    "duration": 4,
    "start_time": "2022-03-02T19:42:23.602Z"
   },
   {
    "duration": 5,
    "start_time": "2022-03-02T19:42:24.710Z"
   },
   {
    "duration": 5,
    "start_time": "2022-03-02T19:42:25.448Z"
   },
   {
    "duration": 6,
    "start_time": "2022-03-02T19:42:26.072Z"
   },
   {
    "duration": 6,
    "start_time": "2022-03-02T19:42:26.678Z"
   },
   {
    "duration": 8,
    "start_time": "2022-03-02T19:42:27.271Z"
   },
   {
    "duration": 5,
    "start_time": "2022-03-02T19:42:27.837Z"
   },
   {
    "duration": 6,
    "start_time": "2022-03-02T19:42:28.401Z"
   },
   {
    "duration": 14,
    "start_time": "2022-03-02T19:42:29.016Z"
   },
   {
    "duration": 7,
    "start_time": "2022-03-02T19:42:29.878Z"
   },
   {
    "duration": 8,
    "start_time": "2022-03-02T19:42:30.178Z"
   },
   {
    "duration": 4,
    "start_time": "2022-03-02T19:42:30.826Z"
   },
   {
    "duration": 5,
    "start_time": "2022-03-02T19:42:31.135Z"
   },
   {
    "duration": 9,
    "start_time": "2022-03-02T19:42:31.423Z"
   },
   {
    "duration": 4,
    "start_time": "2022-03-02T19:42:31.697Z"
   },
   {
    "duration": 4,
    "start_time": "2022-03-02T19:42:31.995Z"
   },
   {
    "duration": 5,
    "start_time": "2022-03-02T19:42:32.287Z"
   },
   {
    "duration": 10,
    "start_time": "2022-03-02T19:42:32.598Z"
   },
   {
    "duration": 4,
    "start_time": "2022-03-02T19:42:32.926Z"
   },
   {
    "duration": 24,
    "start_time": "2022-03-02T19:42:34.276Z"
   },
   {
    "duration": 24,
    "start_time": "2022-03-02T19:42:35.017Z"
   },
   {
    "duration": 11,
    "start_time": "2022-03-02T19:42:35.759Z"
   },
   {
    "duration": 17,
    "start_time": "2022-03-02T19:42:36.132Z"
   },
   {
    "duration": 5,
    "start_time": "2022-03-02T19:42:37.946Z"
   },
   {
    "duration": 313,
    "start_time": "2022-03-02T19:42:39.014Z"
   },
   {
    "duration": 8,
    "start_time": "2022-03-02T19:42:43.746Z"
   },
   {
    "duration": 7,
    "start_time": "2022-03-02T19:42:44.792Z"
   },
   {
    "duration": 4,
    "start_time": "2022-03-02T19:42:45.245Z"
   },
   {
    "duration": 5,
    "start_time": "2022-03-02T19:43:43.055Z"
   },
   {
    "duration": 4,
    "start_time": "2022-03-02T19:43:43.871Z"
   },
   {
    "duration": 5,
    "start_time": "2022-03-02T19:44:20.417Z"
   },
   {
    "duration": 4,
    "start_time": "2022-03-02T19:44:40.123Z"
   },
   {
    "duration": 4,
    "start_time": "2022-03-02T19:44:40.686Z"
   },
   {
    "duration": 4,
    "start_time": "2022-03-02T19:44:54.655Z"
   },
   {
    "duration": 54,
    "start_time": "2022-03-02T19:45:02.817Z"
   },
   {
    "duration": 11,
    "start_time": "2022-03-02T19:45:03.636Z"
   },
   {
    "duration": 11,
    "start_time": "2022-03-02T19:45:04.265Z"
   },
   {
    "duration": 21,
    "start_time": "2022-03-02T19:45:05.162Z"
   },
   {
    "duration": 5,
    "start_time": "2022-03-02T19:45:07.394Z"
   },
   {
    "duration": 6,
    "start_time": "2022-03-02T19:45:08.474Z"
   },
   {
    "duration": 5,
    "start_time": "2022-03-02T19:45:09.433Z"
   },
   {
    "duration": 6,
    "start_time": "2022-03-02T19:45:10.654Z"
   },
   {
    "duration": 6,
    "start_time": "2022-03-02T19:45:11.190Z"
   },
   {
    "duration": 7,
    "start_time": "2022-03-02T19:45:11.742Z"
   },
   {
    "duration": 5,
    "start_time": "2022-03-02T19:45:12.745Z"
   },
   {
    "duration": 7,
    "start_time": "2022-03-02T19:45:13.589Z"
   },
   {
    "duration": 14,
    "start_time": "2022-03-02T19:45:14.185Z"
   },
   {
    "duration": 8,
    "start_time": "2022-03-02T19:45:15.653Z"
   },
   {
    "duration": 8,
    "start_time": "2022-03-02T19:45:16.174Z"
   },
   {
    "duration": 4,
    "start_time": "2022-03-02T19:45:16.873Z"
   },
   {
    "duration": 5,
    "start_time": "2022-03-02T19:45:17.308Z"
   },
   {
    "duration": 11,
    "start_time": "2022-03-02T19:45:18.438Z"
   },
   {
    "duration": 4,
    "start_time": "2022-03-02T19:45:18.945Z"
   },
   {
    "duration": 5,
    "start_time": "2022-03-02T19:45:19.553Z"
   },
   {
    "duration": 5,
    "start_time": "2022-03-02T19:45:19.994Z"
   },
   {
    "duration": 10,
    "start_time": "2022-03-02T19:45:20.662Z"
   },
   {
    "duration": 5,
    "start_time": "2022-03-02T19:45:21.159Z"
   },
   {
    "duration": 26,
    "start_time": "2022-03-02T19:45:24.306Z"
   },
   {
    "duration": 27,
    "start_time": "2022-03-02T19:45:27.453Z"
   },
   {
    "duration": 11,
    "start_time": "2022-03-02T19:45:29.383Z"
   },
   {
    "duration": 5,
    "start_time": "2022-03-02T19:45:30.018Z"
   },
   {
    "duration": 5501,
    "start_time": "2022-03-02T19:45:51.377Z"
   },
   {
    "duration": -937,
    "start_time": "2022-03-02T19:45:57.817Z"
   },
   {
    "duration": 12,
    "start_time": "2022-03-02T19:45:59.956Z"
   },
   {
    "duration": 5601,
    "start_time": "2022-03-02T19:46:00.632Z"
   },
   {
    "duration": -970,
    "start_time": "2022-03-02T19:46:07.205Z"
   },
   {
    "duration": 5475,
    "start_time": "2022-03-02T19:46:35.406Z"
   },
   {
    "duration": 6,
    "start_time": "2022-03-02T19:46:43.820Z"
   },
   {
    "duration": 5,
    "start_time": "2022-03-02T19:46:48.588Z"
   },
   {
    "duration": 5,
    "start_time": "2022-03-02T19:47:11.418Z"
   },
   {
    "duration": 4,
    "start_time": "2022-03-02T19:47:36.479Z"
   },
   {
    "duration": 4,
    "start_time": "2022-03-02T19:47:37.295Z"
   },
   {
    "duration": 298,
    "start_time": "2022-03-02T19:47:37.883Z"
   },
   {
    "duration": 6,
    "start_time": "2022-03-02T19:47:45.008Z"
   },
   {
    "duration": 6,
    "start_time": "2022-03-02T19:47:45.969Z"
   },
   {
    "duration": 3,
    "start_time": "2022-03-02T19:47:46.482Z"
   },
   {
    "duration": 9,
    "start_time": "2022-03-02T19:47:50.123Z"
   },
   {
    "duration": 11,
    "start_time": "2022-03-02T19:47:50.613Z"
   },
   {
    "duration": 13,
    "start_time": "2022-03-02T19:47:55.523Z"
   },
   {
    "duration": 16,
    "start_time": "2022-03-02T19:47:55.914Z"
   },
   {
    "duration": 14,
    "start_time": "2022-03-02T19:47:56.386Z"
   },
   {
    "duration": 4,
    "start_time": "2022-03-02T19:47:57.317Z"
   },
   {
    "duration": 10,
    "start_time": "2022-03-02T19:47:58.127Z"
   },
   {
    "duration": 5,
    "start_time": "2022-03-02T19:47:58.598Z"
   },
   {
    "duration": 14,
    "start_time": "2022-03-02T19:47:59.945Z"
   },
   {
    "duration": 16,
    "start_time": "2022-03-02T19:48:00.304Z"
   },
   {
    "duration": 14,
    "start_time": "2022-03-02T19:48:00.775Z"
   },
   {
    "duration": 9,
    "start_time": "2022-03-02T19:48:02.485Z"
   },
   {
    "duration": 9,
    "start_time": "2022-03-02T19:48:02.737Z"
   },
   {
    "duration": 5,
    "start_time": "2022-03-02T19:48:04.152Z"
   },
   {
    "duration": 8,
    "start_time": "2022-03-02T19:48:04.585Z"
   },
   {
    "duration": 194,
    "start_time": "2022-03-02T19:48:06.956Z"
   },
   {
    "duration": 9,
    "start_time": "2022-03-02T19:48:07.780Z"
   },
   {
    "duration": 6,
    "start_time": "2022-03-02T19:48:08.908Z"
   },
   {
    "duration": 6,
    "start_time": "2022-03-02T19:48:11.417Z"
   },
   {
    "duration": 7,
    "start_time": "2022-03-02T19:48:11.910Z"
   },
   {
    "duration": 7,
    "start_time": "2022-03-02T19:48:12.218Z"
   },
   {
    "duration": 6,
    "start_time": "2022-03-02T19:48:12.502Z"
   },
   {
    "duration": 5,
    "start_time": "2022-03-02T19:48:14.657Z"
   },
   {
    "duration": 196,
    "start_time": "2022-03-02T19:48:15.709Z"
   },
   {
    "duration": 16,
    "start_time": "2022-03-02T19:48:16.238Z"
   },
   {
    "duration": 18,
    "start_time": "2022-03-02T19:48:19.604Z"
   },
   {
    "duration": 15,
    "start_time": "2022-03-02T19:48:35.510Z"
   },
   {
    "duration": 11,
    "start_time": "2022-03-02T19:49:15.543Z"
   },
   {
    "duration": 18,
    "start_time": "2022-03-02T19:50:59.422Z"
   },
   {
    "duration": 16,
    "start_time": "2022-03-02T19:51:08.052Z"
   },
   {
    "duration": 15,
    "start_time": "2022-03-02T19:51:22.538Z"
   },
   {
    "duration": 12,
    "start_time": "2022-03-02T19:53:51.253Z"
   },
   {
    "duration": 6,
    "start_time": "2022-03-02T19:54:03.652Z"
   },
   {
    "duration": 5,
    "start_time": "2022-03-02T19:54:22.119Z"
   },
   {
    "duration": 5,
    "start_time": "2022-03-02T19:54:32.183Z"
   },
   {
    "duration": 5433,
    "start_time": "2022-03-02T19:55:22.629Z"
   },
   {
    "duration": 6,
    "start_time": "2022-03-02T19:55:46.467Z"
   },
   {
    "duration": 6,
    "start_time": "2022-03-02T19:55:48.018Z"
   },
   {
    "duration": 3,
    "start_time": "2022-03-02T19:56:01.468Z"
   },
   {
    "duration": 7,
    "start_time": "2022-03-02T19:56:02.012Z"
   },
   {
    "duration": 3,
    "start_time": "2022-03-02T19:56:12.182Z"
   },
   {
    "duration": 6,
    "start_time": "2022-03-02T19:56:13.279Z"
   },
   {
    "duration": 276,
    "start_time": "2022-03-02T19:58:44.621Z"
   },
   {
    "duration": 13,
    "start_time": "2022-03-02T19:58:46.940Z"
   },
   {
    "duration": 6,
    "start_time": "2022-03-02T19:58:48.644Z"
   },
   {
    "duration": 13,
    "start_time": "2022-03-02T20:00:03.920Z"
   },
   {
    "duration": 5487,
    "start_time": "2022-03-02T20:00:04.551Z"
   },
   {
    "duration": 17,
    "start_time": "2022-03-02T20:00:24.444Z"
   },
   {
    "duration": 14,
    "start_time": "2022-03-02T20:00:33.600Z"
   },
   {
    "duration": 5,
    "start_time": "2022-03-02T20:00:59.626Z"
   },
   {
    "duration": 7299,
    "start_time": "2022-03-02T20:01:40.954Z"
   },
   {
    "duration": -947,
    "start_time": "2022-03-02T20:01:49.202Z"
   },
   {
    "duration": 4,
    "start_time": "2022-03-02T20:01:58.089Z"
   },
   {
    "duration": 6,
    "start_time": "2022-03-02T20:01:58.794Z"
   },
   {
    "duration": 15,
    "start_time": "2022-03-02T20:02:55.735Z"
   },
   {
    "duration": 12,
    "start_time": "2022-03-02T20:03:06.223Z"
   },
   {
    "duration": 5,
    "start_time": "2022-03-02T20:03:22.687Z"
   },
   {
    "duration": 3,
    "start_time": "2022-03-02T20:03:44.240Z"
   },
   {
    "duration": 5,
    "start_time": "2022-03-02T20:04:06.507Z"
   },
   {
    "duration": 4,
    "start_time": "2022-03-02T20:04:23.446Z"
   },
   {
    "duration": 4,
    "start_time": "2022-03-02T20:04:24.257Z"
   },
   {
    "duration": 13,
    "start_time": "2022-03-02T20:04:29.743Z"
   },
   {
    "duration": 4,
    "start_time": "2022-03-02T20:04:30.065Z"
   },
   {
    "duration": 7,
    "start_time": "2022-03-02T20:04:30.424Z"
   },
   {
    "duration": 11,
    "start_time": "2022-03-02T20:09:21.754Z"
   },
   {
    "duration": 3,
    "start_time": "2022-03-02T20:09:23.421Z"
   },
   {
    "duration": 7,
    "start_time": "2022-03-02T20:09:23.877Z"
   },
   {
    "duration": 5,
    "start_time": "2022-03-02T20:20:45.245Z"
   },
   {
    "duration": 7,
    "start_time": "2022-03-02T20:21:41.002Z"
   },
   {
    "duration": 8,
    "start_time": "2022-03-02T20:22:08.190Z"
   },
   {
    "duration": 17,
    "start_time": "2022-03-02T20:25:13.749Z"
   },
   {
    "duration": 18,
    "start_time": "2022-03-02T20:26:23.984Z"
   },
   {
    "duration": 11,
    "start_time": "2022-03-02T20:26:28.935Z"
   },
   {
    "duration": 3,
    "start_time": "2022-03-02T20:26:29.320Z"
   },
   {
    "duration": 17,
    "start_time": "2022-03-02T20:26:29.849Z"
   },
   {
    "duration": 6,
    "start_time": "2022-03-02T20:27:05.176Z"
   },
   {
    "duration": 285,
    "start_time": "2022-03-02T20:27:42.109Z"
   },
   {
    "duration": 285,
    "start_time": "2022-03-02T20:28:22.079Z"
   },
   {
    "duration": 298,
    "start_time": "2022-03-02T20:30:49.898Z"
   },
   {
    "duration": 6,
    "start_time": "2022-03-02T20:30:53.944Z"
   },
   {
    "duration": 3,
    "start_time": "2022-03-02T20:30:57.433Z"
   },
   {
    "duration": 6,
    "start_time": "2022-03-02T20:30:58.104Z"
   },
   {
    "duration": 290,
    "start_time": "2022-03-02T20:30:59.060Z"
   },
   {
    "duration": 310,
    "start_time": "2022-03-02T20:31:22.079Z"
   },
   {
    "duration": 269,
    "start_time": "2022-03-02T20:31:32.311Z"
   },
   {
    "duration": 15,
    "start_time": "2022-03-02T20:31:38.496Z"
   },
   {
    "duration": 16,
    "start_time": "2022-03-02T20:31:51.347Z"
   },
   {
    "duration": 3,
    "start_time": "2022-03-02T20:32:21.316Z"
   },
   {
    "duration": 6,
    "start_time": "2022-03-02T20:32:22.781Z"
   },
   {
    "duration": 15,
    "start_time": "2022-03-02T20:32:24.054Z"
   },
   {
    "duration": 280,
    "start_time": "2022-03-02T20:34:38.313Z"
   },
   {
    "duration": 288,
    "start_time": "2022-03-02T20:34:51.975Z"
   },
   {
    "duration": 274,
    "start_time": "2022-03-02T20:34:55.840Z"
   },
   {
    "duration": 1129,
    "start_time": "2022-03-02T20:35:03.519Z"
   },
   {
    "duration": 341,
    "start_time": "2022-03-02T20:36:54.487Z"
   },
   {
    "duration": 346,
    "start_time": "2022-03-02T20:37:25.035Z"
   },
   {
    "duration": 285,
    "start_time": "2022-03-02T20:37:31.971Z"
   },
   {
    "duration": 294,
    "start_time": "2022-03-02T20:37:35.193Z"
   },
   {
    "duration": 301,
    "start_time": "2022-03-02T20:37:41.126Z"
   },
   {
    "duration": 297,
    "start_time": "2022-03-02T20:37:41.598Z"
   },
   {
    "duration": 284,
    "start_time": "2022-03-02T20:38:08.137Z"
   },
   {
    "duration": 293,
    "start_time": "2022-03-02T20:38:15.841Z"
   },
   {
    "duration": 283,
    "start_time": "2022-03-02T20:38:22.061Z"
   },
   {
    "duration": 64,
    "start_time": "2022-03-02T20:38:42.648Z"
   },
   {
    "duration": 9,
    "start_time": "2022-03-02T20:38:43.273Z"
   },
   {
    "duration": 8,
    "start_time": "2022-03-02T20:38:43.595Z"
   },
   {
    "duration": 18,
    "start_time": "2022-03-02T20:38:44.364Z"
   },
   {
    "duration": 5,
    "start_time": "2022-03-02T20:38:44.859Z"
   },
   {
    "duration": 5,
    "start_time": "2022-03-02T20:38:45.685Z"
   },
   {
    "duration": 5,
    "start_time": "2022-03-02T20:38:46.099Z"
   },
   {
    "duration": 5,
    "start_time": "2022-03-02T20:38:46.688Z"
   },
   {
    "duration": 5,
    "start_time": "2022-03-02T20:38:47.261Z"
   },
   {
    "duration": 6,
    "start_time": "2022-03-02T20:38:47.674Z"
   },
   {
    "duration": 5,
    "start_time": "2022-03-02T20:38:48.112Z"
   },
   {
    "duration": 5,
    "start_time": "2022-03-02T20:38:48.567Z"
   },
   {
    "duration": 14,
    "start_time": "2022-03-02T20:38:48.957Z"
   },
   {
    "duration": 6,
    "start_time": "2022-03-02T20:38:49.815Z"
   },
   {
    "duration": 7,
    "start_time": "2022-03-02T20:38:50.095Z"
   },
   {
    "duration": 3,
    "start_time": "2022-03-02T20:38:50.738Z"
   },
   {
    "duration": 4,
    "start_time": "2022-03-02T20:38:51.046Z"
   },
   {
    "duration": 10,
    "start_time": "2022-03-02T20:38:51.305Z"
   },
   {
    "duration": 4,
    "start_time": "2022-03-02T20:38:51.552Z"
   },
   {
    "duration": 3,
    "start_time": "2022-03-02T20:38:51.776Z"
   },
   {
    "duration": 5,
    "start_time": "2022-03-02T20:38:52.044Z"
   },
   {
    "duration": 10,
    "start_time": "2022-03-02T20:38:52.347Z"
   },
   {
    "duration": 4,
    "start_time": "2022-03-02T20:38:52.718Z"
   },
   {
    "duration": 25,
    "start_time": "2022-03-02T20:38:53.832Z"
   },
   {
    "duration": 25,
    "start_time": "2022-03-02T20:38:54.303Z"
   },
   {
    "duration": 14,
    "start_time": "2022-03-02T20:38:54.987Z"
   },
   {
    "duration": 6,
    "start_time": "2022-03-02T20:38:55.316Z"
   },
   {
    "duration": 4,
    "start_time": "2022-03-02T20:38:55.581Z"
   },
   {
    "duration": 4,
    "start_time": "2022-03-02T20:38:55.870Z"
   },
   {
    "duration": 282,
    "start_time": "2022-03-02T20:38:56.342Z"
   },
   {
    "duration": 6,
    "start_time": "2022-03-02T20:39:00.355Z"
   },
   {
    "duration": 6,
    "start_time": "2022-03-02T20:39:01.034Z"
   },
   {
    "duration": 4,
    "start_time": "2022-03-02T20:39:01.263Z"
   },
   {
    "duration": 11,
    "start_time": "2022-03-02T20:39:01.920Z"
   },
   {
    "duration": 11,
    "start_time": "2022-03-02T20:39:02.165Z"
   },
   {
    "duration": 15,
    "start_time": "2022-03-02T20:39:03.368Z"
   },
   {
    "duration": 17,
    "start_time": "2022-03-02T20:39:03.677Z"
   },
   {
    "duration": 14,
    "start_time": "2022-03-02T20:39:04.109Z"
   },
   {
    "duration": 4,
    "start_time": "2022-03-02T20:39:04.708Z"
   },
   {
    "duration": 9,
    "start_time": "2022-03-02T20:39:04.940Z"
   },
   {
    "duration": 5,
    "start_time": "2022-03-02T20:39:05.152Z"
   },
   {
    "duration": 14,
    "start_time": "2022-03-02T20:39:06.117Z"
   },
   {
    "duration": 15,
    "start_time": "2022-03-02T20:39:06.391Z"
   },
   {
    "duration": 15,
    "start_time": "2022-03-02T20:39:06.800Z"
   },
   {
    "duration": 10,
    "start_time": "2022-03-02T20:39:07.769Z"
   },
   {
    "duration": 7,
    "start_time": "2022-03-02T20:39:08.129Z"
   },
   {
    "duration": 5,
    "start_time": "2022-03-02T20:39:45.754Z"
   },
   {
    "duration": 5,
    "start_time": "2022-03-02T20:39:52.439Z"
   },
   {
    "duration": 6,
    "start_time": "2022-03-02T20:40:42.515Z"
   },
   {
    "duration": 7,
    "start_time": "2022-03-02T20:40:44.948Z"
   },
   {
    "duration": 5,
    "start_time": "2022-03-02T20:40:45.302Z"
   },
   {
    "duration": 7,
    "start_time": "2022-03-02T20:40:55.664Z"
   },
   {
    "duration": 5,
    "start_time": "2022-03-02T20:40:55.942Z"
   },
   {
    "duration": 4,
    "start_time": "2022-03-02T20:40:56.243Z"
   },
   {
    "duration": 5,
    "start_time": "2022-03-02T20:40:56.512Z"
   },
   {
    "duration": 8,
    "start_time": "2022-03-02T20:40:56.787Z"
   },
   {
    "duration": 192,
    "start_time": "2022-03-02T20:40:58.047Z"
   },
   {
    "duration": 9,
    "start_time": "2022-03-02T20:40:58.869Z"
   },
   {
    "duration": 6,
    "start_time": "2022-03-02T20:40:59.274Z"
   },
   {
    "duration": 6,
    "start_time": "2022-03-02T20:40:59.613Z"
   },
   {
    "duration": 7,
    "start_time": "2022-03-02T20:41:00.006Z"
   },
   {
    "duration": 7,
    "start_time": "2022-03-02T20:41:00.334Z"
   },
   {
    "duration": 6,
    "start_time": "2022-03-02T20:41:00.657Z"
   },
   {
    "duration": 6,
    "start_time": "2022-03-02T20:41:02.486Z"
   },
   {
    "duration": 192,
    "start_time": "2022-03-02T20:41:03.551Z"
   },
   {
    "duration": 17,
    "start_time": "2022-03-02T20:41:04.006Z"
   },
   {
    "duration": 13,
    "start_time": "2022-03-02T20:41:06.424Z"
   },
   {
    "duration": 3,
    "start_time": "2022-03-02T20:41:06.790Z"
   },
   {
    "duration": 8,
    "start_time": "2022-03-02T20:41:07.093Z"
   },
   {
    "duration": 12,
    "start_time": "2022-03-02T20:41:11.208Z"
   },
   {
    "duration": 4,
    "start_time": "2022-03-02T20:41:11.603Z"
   },
   {
    "duration": 6,
    "start_time": "2022-03-02T20:41:12.313Z"
   },
   {
    "duration": 294,
    "start_time": "2022-03-02T20:41:12.963Z"
   },
   {
    "duration": 10,
    "start_time": "2022-03-02T20:41:25.484Z"
   },
   {
    "duration": 6,
    "start_time": "2022-03-02T20:42:19.754Z"
   },
   {
    "duration": 11,
    "start_time": "2022-03-02T20:42:42.503Z"
   },
   {
    "duration": 301,
    "start_time": "2022-03-02T20:45:09.602Z"
   },
   {
    "duration": 4,
    "start_time": "2022-03-02T20:45:20.099Z"
   },
   {
    "duration": 9,
    "start_time": "2022-03-02T20:45:20.713Z"
   },
   {
    "duration": 14,
    "start_time": "2022-03-02T20:45:42.051Z"
   },
   {
    "duration": 4,
    "start_time": "2022-03-02T20:45:42.515Z"
   },
   {
    "duration": 7,
    "start_time": "2022-03-02T20:45:42.994Z"
   },
   {
    "duration": 25,
    "start_time": "2022-03-02T20:46:22.714Z"
   },
   {
    "duration": 13,
    "start_time": "2022-03-02T20:46:42.957Z"
   },
   {
    "duration": 302,
    "start_time": "2022-03-02T20:46:54.458Z"
   },
   {
    "duration": 13,
    "start_time": "2022-03-02T20:47:11.757Z"
   },
   {
    "duration": 9,
    "start_time": "2022-03-02T20:48:07.598Z"
   },
   {
    "duration": 6,
    "start_time": "2022-03-02T20:48:07.861Z"
   },
   {
    "duration": 15,
    "start_time": "2022-03-02T20:48:24.722Z"
   },
   {
    "duration": 289,
    "start_time": "2022-03-02T20:48:26.038Z"
   },
   {
    "duration": 13,
    "start_time": "2022-03-02T20:48:38.986Z"
   },
   {
    "duration": 306,
    "start_time": "2022-03-02T20:49:23.764Z"
   },
   {
    "duration": 277,
    "start_time": "2022-03-02T20:49:28.097Z"
   },
   {
    "duration": 12,
    "start_time": "2022-03-02T20:49:42.341Z"
   },
   {
    "duration": 6,
    "start_time": "2022-03-02T20:49:51.910Z"
   },
   {
    "duration": 4,
    "start_time": "2022-03-02T20:50:55.026Z"
   },
   {
    "duration": 7,
    "start_time": "2022-03-02T20:51:07.458Z"
   },
   {
    "duration": 7,
    "start_time": "2022-03-02T20:51:26.276Z"
   },
   {
    "duration": 12,
    "start_time": "2022-03-02T20:58:25.014Z"
   },
   {
    "duration": 4,
    "start_time": "2022-03-02T20:58:25.175Z"
   },
   {
    "duration": 7,
    "start_time": "2022-03-02T20:58:25.316Z"
   },
   {
    "duration": 660,
    "start_time": "2022-03-12T09:27:16.404Z"
   },
   {
    "duration": 11,
    "start_time": "2022-03-12T09:27:17.066Z"
   },
   {
    "duration": 13,
    "start_time": "2022-03-12T09:27:17.079Z"
   },
   {
    "duration": 20,
    "start_time": "2022-03-12T09:27:17.094Z"
   },
   {
    "duration": 5,
    "start_time": "2022-03-12T09:27:17.115Z"
   },
   {
    "duration": 5,
    "start_time": "2022-03-12T09:27:17.122Z"
   },
   {
    "duration": 4,
    "start_time": "2022-03-12T09:27:17.129Z"
   },
   {
    "duration": 5,
    "start_time": "2022-03-12T09:27:17.134Z"
   },
   {
    "duration": 6,
    "start_time": "2022-03-12T09:27:17.142Z"
   },
   {
    "duration": 9,
    "start_time": "2022-03-12T09:27:17.150Z"
   },
   {
    "duration": 42,
    "start_time": "2022-03-12T09:27:17.160Z"
   },
   {
    "duration": 5,
    "start_time": "2022-03-12T09:27:17.203Z"
   },
   {
    "duration": 13,
    "start_time": "2022-03-12T09:27:17.210Z"
   },
   {
    "duration": 6,
    "start_time": "2022-03-12T09:27:17.225Z"
   },
   {
    "duration": 8,
    "start_time": "2022-03-12T09:27:17.232Z"
   },
   {
    "duration": 7,
    "start_time": "2022-03-12T09:27:17.241Z"
   },
   {
    "duration": 9,
    "start_time": "2022-03-12T09:27:17.249Z"
   },
   {
    "duration": 15,
    "start_time": "2022-03-12T09:27:17.259Z"
   },
   {
    "duration": 6,
    "start_time": "2022-03-12T09:27:17.275Z"
   },
   {
    "duration": 21,
    "start_time": "2022-03-12T09:27:17.282Z"
   },
   {
    "duration": 6,
    "start_time": "2022-03-12T09:27:17.305Z"
   },
   {
    "duration": 13,
    "start_time": "2022-03-12T09:27:17.313Z"
   },
   {
    "duration": 5,
    "start_time": "2022-03-12T09:27:17.328Z"
   },
   {
    "duration": 30,
    "start_time": "2022-03-12T09:27:17.334Z"
   },
   {
    "duration": 40,
    "start_time": "2022-03-12T09:27:17.365Z"
   },
   {
    "duration": 10,
    "start_time": "2022-03-12T09:27:17.407Z"
   },
   {
    "duration": 5,
    "start_time": "2022-03-12T09:27:17.421Z"
   },
   {
    "duration": 5,
    "start_time": "2022-03-12T09:27:17.428Z"
   },
   {
    "duration": 7,
    "start_time": "2022-03-12T09:27:17.434Z"
   },
   {
    "duration": 645,
    "start_time": "2022-03-12T09:27:17.442Z"
   },
   {
    "duration": -279,
    "start_time": "2022-03-12T09:27:18.368Z"
   },
   {
    "duration": -280,
    "start_time": "2022-03-12T09:27:18.370Z"
   },
   {
    "duration": -281,
    "start_time": "2022-03-12T09:27:18.372Z"
   },
   {
    "duration": -282,
    "start_time": "2022-03-12T09:27:18.374Z"
   },
   {
    "duration": -283,
    "start_time": "2022-03-12T09:27:18.376Z"
   },
   {
    "duration": -292,
    "start_time": "2022-03-12T09:27:18.386Z"
   },
   {
    "duration": -294,
    "start_time": "2022-03-12T09:27:18.388Z"
   },
   {
    "duration": -295,
    "start_time": "2022-03-12T09:27:18.390Z"
   },
   {
    "duration": -296,
    "start_time": "2022-03-12T09:27:18.392Z"
   },
   {
    "duration": -297,
    "start_time": "2022-03-12T09:27:18.394Z"
   },
   {
    "duration": -298,
    "start_time": "2022-03-12T09:27:18.396Z"
   },
   {
    "duration": -299,
    "start_time": "2022-03-12T09:27:18.398Z"
   },
   {
    "duration": -300,
    "start_time": "2022-03-12T09:27:18.400Z"
   },
   {
    "duration": -301,
    "start_time": "2022-03-12T09:27:18.402Z"
   },
   {
    "duration": -302,
    "start_time": "2022-03-12T09:27:18.404Z"
   },
   {
    "duration": -303,
    "start_time": "2022-03-12T09:27:18.406Z"
   },
   {
    "duration": -304,
    "start_time": "2022-03-12T09:27:18.408Z"
   },
   {
    "duration": -305,
    "start_time": "2022-03-12T09:27:18.410Z"
   },
   {
    "duration": -306,
    "start_time": "2022-03-12T09:27:18.412Z"
   },
   {
    "duration": -307,
    "start_time": "2022-03-12T09:27:18.414Z"
   },
   {
    "duration": -308,
    "start_time": "2022-03-12T09:27:18.416Z"
   },
   {
    "duration": -309,
    "start_time": "2022-03-12T09:27:18.418Z"
   },
   {
    "duration": -314,
    "start_time": "2022-03-12T09:27:18.424Z"
   },
   {
    "duration": -316,
    "start_time": "2022-03-12T09:27:18.427Z"
   },
   {
    "duration": -316,
    "start_time": "2022-03-12T09:27:18.428Z"
   },
   {
    "duration": -317,
    "start_time": "2022-03-12T09:27:18.430Z"
   },
   {
    "duration": -319,
    "start_time": "2022-03-12T09:27:18.432Z"
   },
   {
    "duration": -320,
    "start_time": "2022-03-12T09:27:18.434Z"
   },
   {
    "duration": -321,
    "start_time": "2022-03-12T09:27:18.436Z"
   },
   {
    "duration": -322,
    "start_time": "2022-03-12T09:27:18.438Z"
   },
   {
    "duration": -323,
    "start_time": "2022-03-12T09:27:18.440Z"
   },
   {
    "duration": -325,
    "start_time": "2022-03-12T09:27:18.443Z"
   },
   {
    "duration": -326,
    "start_time": "2022-03-12T09:27:18.445Z"
   },
   {
    "duration": -327,
    "start_time": "2022-03-12T09:27:18.447Z"
   },
   {
    "duration": -328,
    "start_time": "2022-03-12T09:27:18.449Z"
   },
   {
    "duration": -329,
    "start_time": "2022-03-12T09:27:18.451Z"
   },
   {
    "duration": -331,
    "start_time": "2022-03-12T09:27:18.453Z"
   },
   {
    "duration": -331,
    "start_time": "2022-03-12T09:27:18.455Z"
   },
   {
    "duration": -332,
    "start_time": "2022-03-12T09:27:18.457Z"
   },
   {
    "duration": -333,
    "start_time": "2022-03-12T09:27:18.459Z"
   },
   {
    "duration": -335,
    "start_time": "2022-03-12T09:27:18.461Z"
   },
   {
    "duration": -336,
    "start_time": "2022-03-12T09:27:18.463Z"
   },
   {
    "duration": -337,
    "start_time": "2022-03-12T09:27:18.465Z"
   },
   {
    "duration": -338,
    "start_time": "2022-03-12T09:27:18.467Z"
   },
   {
    "duration": -339,
    "start_time": "2022-03-12T09:27:18.469Z"
   },
   {
    "duration": 4,
    "start_time": "2022-03-12T09:28:24.078Z"
   },
   {
    "duration": 106,
    "start_time": "2022-03-12T09:28:30.532Z"
   },
   {
    "duration": 6,
    "start_time": "2022-03-12T09:29:01.823Z"
   },
   {
    "duration": 5,
    "start_time": "2022-03-12T09:29:02.769Z"
   },
   {
    "duration": 4,
    "start_time": "2022-03-12T09:29:02.957Z"
   },
   {
    "duration": 10,
    "start_time": "2022-03-12T09:29:03.499Z"
   },
   {
    "duration": 11,
    "start_time": "2022-03-12T09:29:03.678Z"
   },
   {
    "duration": 15,
    "start_time": "2022-03-12T09:29:04.238Z"
   },
   {
    "duration": 17,
    "start_time": "2022-03-12T09:29:04.414Z"
   },
   {
    "duration": 14,
    "start_time": "2022-03-12T09:29:04.599Z"
   },
   {
    "duration": 5,
    "start_time": "2022-03-12T09:29:04.945Z"
   },
   {
    "duration": 10,
    "start_time": "2022-03-12T09:29:05.125Z"
   },
   {
    "duration": 6,
    "start_time": "2022-03-12T09:29:05.302Z"
   },
   {
    "duration": 15,
    "start_time": "2022-03-12T09:29:05.833Z"
   },
   {
    "duration": 19,
    "start_time": "2022-03-12T09:29:06.136Z"
   },
   {
    "duration": 16,
    "start_time": "2022-03-12T09:29:06.320Z"
   },
   {
    "duration": 10,
    "start_time": "2022-03-12T09:29:06.695Z"
   },
   {
    "duration": 6,
    "start_time": "2022-03-12T09:29:06.880Z"
   },
   {
    "duration": 5,
    "start_time": "2022-03-12T09:29:07.070Z"
   },
   {
    "duration": 8,
    "start_time": "2022-03-12T09:29:07.259Z"
   },
   {
    "duration": 6,
    "start_time": "2022-03-12T09:29:07.445Z"
   },
   {
    "duration": 4,
    "start_time": "2022-03-12T09:29:07.634Z"
   },
   {
    "duration": 4,
    "start_time": "2022-03-12T09:29:07.813Z"
   },
   {
    "duration": 8,
    "start_time": "2022-03-12T09:29:07.987Z"
   },
   {
    "duration": 205,
    "start_time": "2022-03-12T09:29:08.524Z"
   },
   {
    "duration": 9,
    "start_time": "2022-03-12T09:29:08.896Z"
   },
   {
    "duration": 6,
    "start_time": "2022-03-12T09:29:09.090Z"
   },
   {
    "duration": 6,
    "start_time": "2022-03-12T09:29:09.282Z"
   },
   {
    "duration": 7,
    "start_time": "2022-03-12T09:29:09.476Z"
   },
   {
    "duration": 7,
    "start_time": "2022-03-12T09:29:09.643Z"
   },
   {
    "duration": 5,
    "start_time": "2022-03-12T09:29:09.981Z"
   },
   {
    "duration": 7,
    "start_time": "2022-03-12T09:29:10.719Z"
   },
   {
    "duration": 203,
    "start_time": "2022-03-12T09:29:11.104Z"
   },
   {
    "duration": 16,
    "start_time": "2022-03-12T09:29:11.309Z"
   },
   {
    "duration": 13,
    "start_time": "2022-03-12T09:29:12.425Z"
   },
   {
    "duration": 7,
    "start_time": "2022-03-12T09:29:12.615Z"
   },
   {
    "duration": 8,
    "start_time": "2022-03-12T09:29:12.802Z"
   },
   {
    "duration": 12,
    "start_time": "2022-03-12T09:29:14.210Z"
   },
   {
    "duration": 4,
    "start_time": "2022-03-12T09:29:14.396Z"
   },
   {
    "duration": 9,
    "start_time": "2022-03-12T09:29:14.578Z"
   },
   {
    "duration": 11,
    "start_time": "2022-03-12T09:29:14.764Z"
   },
   {
    "duration": 12,
    "start_time": "2022-03-12T09:29:15.886Z"
   },
   {
    "duration": 3,
    "start_time": "2022-03-12T09:29:16.086Z"
   },
   {
    "duration": 7,
    "start_time": "2022-03-12T09:29:16.271Z"
   },
   {
    "duration": 14,
    "start_time": "2022-03-12T09:29:17.444Z"
   },
   {
    "duration": 4,
    "start_time": "2022-03-12T09:29:17.632Z"
   },
   {
    "duration": 7,
    "start_time": "2022-03-12T09:29:17.851Z"
   },
   {
    "duration": 27,
    "start_time": "2022-03-12T09:30:14.225Z"
   },
   {
    "duration": 6,
    "start_time": "2022-03-12T09:31:24.972Z"
   },
   {
    "duration": 7,
    "start_time": "2022-03-12T09:31:41.917Z"
   },
   {
    "duration": 398,
    "start_time": "2022-03-12T09:58:51.425Z"
   },
   {
    "duration": 578,
    "start_time": "2022-03-13T10:52:20.009Z"
   },
   {
    "duration": 57,
    "start_time": "2022-03-13T10:52:30.583Z"
   },
   {
    "duration": 15,
    "start_time": "2022-03-13T10:55:20.291Z"
   },
   {
    "duration": 10,
    "start_time": "2022-03-13T10:58:38.961Z"
   },
   {
    "duration": 31,
    "start_time": "2022-03-13T10:59:29.163Z"
   },
   {
    "duration": 6,
    "start_time": "2022-03-13T11:01:45.904Z"
   },
   {
    "duration": 7,
    "start_time": "2022-03-13T11:01:46.799Z"
   },
   {
    "duration": 6,
    "start_time": "2022-03-13T11:02:06.194Z"
   },
   {
    "duration": 6,
    "start_time": "2022-03-13T11:02:07.438Z"
   },
   {
    "duration": 7,
    "start_time": "2022-03-13T11:02:10.850Z"
   },
   {
    "duration": 5,
    "start_time": "2022-03-13T11:02:11.710Z"
   },
   {
    "duration": 6,
    "start_time": "2022-03-13T11:02:12.686Z"
   },
   {
    "duration": 16,
    "start_time": "2022-03-13T11:02:13.937Z"
   },
   {
    "duration": 29,
    "start_time": "2022-03-13T11:04:20.627Z"
   },
   {
    "duration": 10,
    "start_time": "2022-03-13T11:06:31.975Z"
   },
   {
    "duration": 7,
    "start_time": "2022-03-13T11:06:32.515Z"
   },
   {
    "duration": 7,
    "start_time": "2022-03-13T11:06:33.769Z"
   },
   {
    "duration": 5,
    "start_time": "2022-03-13T11:06:34.241Z"
   },
   {
    "duration": 6,
    "start_time": "2022-03-13T11:06:34.689Z"
   },
   {
    "duration": 7,
    "start_time": "2022-03-13T11:06:35.100Z"
   },
   {
    "duration": 5,
    "start_time": "2022-03-13T11:06:36.018Z"
   },
   {
    "duration": 6,
    "start_time": "2022-03-13T11:06:36.337Z"
   },
   {
    "duration": 15,
    "start_time": "2022-03-13T11:06:37.482Z"
   },
   {
    "duration": 31,
    "start_time": "2022-03-13T11:08:11.426Z"
   },
   {
    "duration": 9,
    "start_time": "2022-03-13T11:08:20.102Z"
   },
   {
    "duration": 7,
    "start_time": "2022-03-13T11:11:53.206Z"
   },
   {
    "duration": 9,
    "start_time": "2022-03-13T11:11:53.714Z"
   },
   {
    "duration": 4,
    "start_time": "2022-03-13T11:11:55.646Z"
   },
   {
    "duration": 5,
    "start_time": "2022-03-13T11:11:56.120Z"
   },
   {
    "duration": 11,
    "start_time": "2022-03-13T11:11:57.365Z"
   },
   {
    "duration": 5,
    "start_time": "2022-03-13T11:12:01.969Z"
   },
   {
    "duration": 5,
    "start_time": "2022-03-13T11:12:02.422Z"
   },
   {
    "duration": 5,
    "start_time": "2022-03-13T11:12:04.142Z"
   },
   {
    "duration": 12,
    "start_time": "2022-03-13T11:12:05.650Z"
   },
   {
    "duration": 4,
    "start_time": "2022-03-13T11:14:06.634Z"
   },
   {
    "duration": 5,
    "start_time": "2022-03-13T11:14:23.195Z"
   },
   {
    "duration": 7,
    "start_time": "2022-03-13T11:16:36.171Z"
   },
   {
    "duration": 6,
    "start_time": "2022-03-13T11:16:43.540Z"
   },
   {
    "duration": 5,
    "start_time": "2022-03-13T11:16:44.148Z"
   },
   {
    "duration": 9,
    "start_time": "2022-03-13T11:17:20.866Z"
   },
   {
    "duration": 10,
    "start_time": "2022-03-13T11:17:32.136Z"
   },
   {
    "duration": 10,
    "start_time": "2022-03-13T11:17:43.620Z"
   },
   {
    "duration": 5,
    "start_time": "2022-03-13T11:18:10.499Z"
   },
   {
    "duration": 4,
    "start_time": "2022-03-13T11:18:25.873Z"
   },
   {
    "duration": 218,
    "start_time": "2022-03-13T11:18:34.495Z"
   },
   {
    "duration": 5,
    "start_time": "2022-03-13T11:18:38.034Z"
   },
   {
    "duration": 4,
    "start_time": "2022-03-13T11:18:50.218Z"
   },
   {
    "duration": 7,
    "start_time": "2022-03-13T11:18:52.725Z"
   },
   {
    "duration": 12,
    "start_time": "2022-03-13T11:19:03.270Z"
   },
   {
    "duration": 4,
    "start_time": "2022-03-13T11:19:17.583Z"
   },
   {
    "duration": 11,
    "start_time": "2022-03-13T11:19:29.140Z"
   },
   {
    "duration": 2,
    "start_time": "2022-03-13T11:20:42.391Z"
   },
   {
    "duration": 9,
    "start_time": "2022-03-13T11:23:04.323Z"
   },
   {
    "duration": 222,
    "start_time": "2022-03-13T11:23:48.584Z"
   },
   {
    "duration": 8,
    "start_time": "2022-03-13T11:23:53.011Z"
   },
   {
    "duration": 9,
    "start_time": "2022-03-13T11:24:05.316Z"
   },
   {
    "duration": 4,
    "start_time": "2022-03-13T11:24:09.413Z"
   },
   {
    "duration": 5,
    "start_time": "2022-03-13T11:24:09.679Z"
   },
   {
    "duration": 12,
    "start_time": "2022-03-13T11:24:09.851Z"
   },
   {
    "duration": 8,
    "start_time": "2022-03-13T11:24:11.287Z"
   },
   {
    "duration": 4,
    "start_time": "2022-03-13T11:24:12.409Z"
   },
   {
    "duration": 8,
    "start_time": "2022-03-13T11:35:48.269Z"
   },
   {
    "duration": 10,
    "start_time": "2022-03-13T11:37:33.025Z"
   },
   {
    "duration": 9,
    "start_time": "2022-03-13T11:37:41.157Z"
   },
   {
    "duration": 9,
    "start_time": "2022-03-13T11:37:52.005Z"
   },
   {
    "duration": 10,
    "start_time": "2022-03-13T11:37:56.350Z"
   },
   {
    "duration": 9,
    "start_time": "2022-03-13T11:39:22.409Z"
   },
   {
    "duration": 4,
    "start_time": "2022-03-13T11:39:29.611Z"
   },
   {
    "duration": 4,
    "start_time": "2022-03-13T11:39:48.642Z"
   },
   {
    "duration": 177,
    "start_time": "2022-03-13T11:39:49.691Z"
   },
   {
    "duration": 187,
    "start_time": "2022-03-13T11:40:17.385Z"
   },
   {
    "duration": 170,
    "start_time": "2022-03-13T11:40:21.772Z"
   },
   {
    "duration": 4,
    "start_time": "2022-03-13T11:41:18.425Z"
   },
   {
    "duration": 182,
    "start_time": "2022-03-13T11:46:12.988Z"
   },
   {
    "duration": 185,
    "start_time": "2022-03-13T11:46:25.432Z"
   },
   {
    "duration": 17,
    "start_time": "2022-03-13T11:46:37.193Z"
   },
   {
    "duration": 178,
    "start_time": "2022-03-13T11:46:42.602Z"
   },
   {
    "duration": 6,
    "start_time": "2022-03-13T11:46:46.910Z"
   },
   {
    "duration": 239,
    "start_time": "2022-03-13T11:46:50.850Z"
   },
   {
    "duration": 6,
    "start_time": "2022-03-13T11:46:55.599Z"
   },
   {
    "duration": 4,
    "start_time": "2022-03-13T11:46:56.205Z"
   },
   {
    "duration": 168,
    "start_time": "2022-03-13T11:46:59.715Z"
   },
   {
    "duration": 11,
    "start_time": "2022-03-13T11:47:20.058Z"
   },
   {
    "duration": 12,
    "start_time": "2022-03-13T11:47:22.406Z"
   },
   {
    "duration": 195,
    "start_time": "2022-03-13T11:47:27.885Z"
   },
   {
    "duration": 33,
    "start_time": "2022-03-13T11:47:56.074Z"
   },
   {
    "duration": 33,
    "start_time": "2022-03-13T11:50:14.489Z"
   },
   {
    "duration": 4,
    "start_time": "2022-03-13T11:50:38.611Z"
   },
   {
    "duration": 588,
    "start_time": "2022-03-14T14:05:26.353Z"
   },
   {
    "duration": 68,
    "start_time": "2022-03-14T14:05:26.943Z"
   },
   {
    "duration": 10,
    "start_time": "2022-03-14T14:05:27.013Z"
   },
   {
    "duration": 14,
    "start_time": "2022-03-14T14:05:27.025Z"
   },
   {
    "duration": 20,
    "start_time": "2022-03-14T14:05:27.040Z"
   },
   {
    "duration": 5,
    "start_time": "2022-03-14T14:05:27.062Z"
   },
   {
    "duration": 35,
    "start_time": "2022-03-14T14:05:27.068Z"
   },
   {
    "duration": 5,
    "start_time": "2022-03-14T14:05:27.106Z"
   },
   {
    "duration": 6,
    "start_time": "2022-03-14T14:05:27.113Z"
   },
   {
    "duration": 6,
    "start_time": "2022-03-14T14:05:27.120Z"
   },
   {
    "duration": 6,
    "start_time": "2022-03-14T14:05:27.128Z"
   },
   {
    "duration": 10,
    "start_time": "2022-03-14T14:05:27.136Z"
   },
   {
    "duration": 7,
    "start_time": "2022-03-14T14:05:27.148Z"
   },
   {
    "duration": 14,
    "start_time": "2022-03-14T14:05:27.157Z"
   },
   {
    "duration": 38,
    "start_time": "2022-03-14T14:05:27.173Z"
   },
   {
    "duration": 31,
    "start_time": "2022-03-14T14:05:27.212Z"
   },
   {
    "duration": 7,
    "start_time": "2022-03-14T14:05:27.245Z"
   },
   {
    "duration": 12,
    "start_time": "2022-03-14T14:05:27.253Z"
   },
   {
    "duration": 35,
    "start_time": "2022-03-14T14:05:27.267Z"
   },
   {
    "duration": 4,
    "start_time": "2022-03-14T14:05:27.303Z"
   },
   {
    "duration": 27,
    "start_time": "2022-03-14T14:05:27.309Z"
   },
   {
    "duration": 7,
    "start_time": "2022-03-14T14:05:27.338Z"
   },
   {
    "duration": 15,
    "start_time": "2022-03-14T14:05:27.349Z"
   },
   {
    "duration": 17,
    "start_time": "2022-03-14T14:05:27.367Z"
   },
   {
    "duration": 16,
    "start_time": "2022-03-14T14:05:27.386Z"
   },
   {
    "duration": 8,
    "start_time": "2022-03-14T14:05:27.403Z"
   },
   {
    "duration": 40,
    "start_time": "2022-03-14T14:05:27.413Z"
   },
   {
    "duration": 25,
    "start_time": "2022-03-14T14:05:27.454Z"
   },
   {
    "duration": 10,
    "start_time": "2022-03-14T14:05:27.481Z"
   },
   {
    "duration": 13,
    "start_time": "2022-03-14T14:05:27.501Z"
   },
   {
    "duration": 13,
    "start_time": "2022-03-14T14:05:27.516Z"
   },
   {
    "duration": 25,
    "start_time": "2022-03-14T14:05:27.530Z"
   },
   {
    "duration": 47,
    "start_time": "2022-03-14T14:05:27.557Z"
   },
   {
    "duration": 6,
    "start_time": "2022-03-14T14:05:27.606Z"
   },
   {
    "duration": 15,
    "start_time": "2022-03-14T14:05:27.614Z"
   },
   {
    "duration": 22,
    "start_time": "2022-03-14T14:05:27.631Z"
   },
   {
    "duration": 20,
    "start_time": "2022-03-14T14:05:27.654Z"
   },
   {
    "duration": 23,
    "start_time": "2022-03-14T14:05:27.676Z"
   },
   {
    "duration": 36,
    "start_time": "2022-03-14T14:05:27.700Z"
   },
   {
    "duration": 25,
    "start_time": "2022-03-14T14:05:27.737Z"
   },
   {
    "duration": 16,
    "start_time": "2022-03-14T14:05:27.764Z"
   },
   {
    "duration": 12,
    "start_time": "2022-03-14T14:05:27.782Z"
   },
   {
    "duration": 13,
    "start_time": "2022-03-14T14:05:27.796Z"
   },
   {
    "duration": 13,
    "start_time": "2022-03-14T14:05:27.810Z"
   },
   {
    "duration": 24,
    "start_time": "2022-03-14T14:05:27.824Z"
   },
   {
    "duration": 17,
    "start_time": "2022-03-14T14:05:27.850Z"
   },
   {
    "duration": 33,
    "start_time": "2022-03-14T14:05:27.869Z"
   },
   {
    "duration": 10,
    "start_time": "2022-03-14T14:05:27.904Z"
   },
   {
    "duration": 8,
    "start_time": "2022-03-14T14:05:27.915Z"
   },
   {
    "duration": 6,
    "start_time": "2022-03-14T14:05:27.924Z"
   },
   {
    "duration": 12,
    "start_time": "2022-03-14T14:05:27.932Z"
   },
   {
    "duration": 9,
    "start_time": "2022-03-14T14:05:27.945Z"
   },
   {
    "duration": 9,
    "start_time": "2022-03-14T14:05:27.955Z"
   },
   {
    "duration": 35,
    "start_time": "2022-03-14T14:05:27.966Z"
   },
   {
    "duration": 10,
    "start_time": "2022-03-14T14:05:28.003Z"
   },
   {
    "duration": 224,
    "start_time": "2022-03-14T14:05:28.015Z"
   },
   {
    "duration": 10,
    "start_time": "2022-03-14T14:05:28.240Z"
   },
   {
    "duration": 6,
    "start_time": "2022-03-14T14:05:28.251Z"
   },
   {
    "duration": 8,
    "start_time": "2022-03-14T14:05:28.259Z"
   },
   {
    "duration": 37,
    "start_time": "2022-03-14T14:05:28.269Z"
   },
   {
    "duration": 6,
    "start_time": "2022-03-14T14:05:28.308Z"
   },
   {
    "duration": 7,
    "start_time": "2022-03-14T14:05:28.316Z"
   },
   {
    "duration": 9,
    "start_time": "2022-03-14T14:05:28.325Z"
   },
   {
    "duration": 239,
    "start_time": "2022-03-14T14:05:28.335Z"
   },
   {
    "duration": 16,
    "start_time": "2022-03-14T14:05:28.576Z"
   },
   {
    "duration": 13,
    "start_time": "2022-03-14T14:05:28.601Z"
   },
   {
    "duration": 7,
    "start_time": "2022-03-14T14:05:28.615Z"
   },
   {
    "duration": 4,
    "start_time": "2022-03-14T14:05:28.626Z"
   },
   {
    "duration": 11,
    "start_time": "2022-03-14T14:05:28.631Z"
   },
   {
    "duration": 13,
    "start_time": "2022-03-14T14:05:28.644Z"
   },
   {
    "duration": 4,
    "start_time": "2022-03-14T14:05:28.658Z"
   },
   {
    "duration": 6,
    "start_time": "2022-03-14T14:05:28.663Z"
   },
   {
    "duration": 9,
    "start_time": "2022-03-14T14:05:28.701Z"
   },
   {
    "duration": 14,
    "start_time": "2022-03-14T14:05:28.711Z"
   },
   {
    "duration": 16,
    "start_time": "2022-03-14T14:05:28.727Z"
   },
   {
    "duration": 4,
    "start_time": "2022-03-14T14:05:28.744Z"
   },
   {
    "duration": 7,
    "start_time": "2022-03-14T14:05:28.750Z"
   },
   {
    "duration": 13,
    "start_time": "2022-03-14T14:05:28.759Z"
   },
   {
    "duration": 38,
    "start_time": "2022-03-14T14:05:28.774Z"
   },
   {
    "duration": 7,
    "start_time": "2022-03-14T14:05:28.814Z"
   },
   {
    "duration": 10,
    "start_time": "2022-03-14T14:05:28.823Z"
   },
   {
    "duration": 12,
    "start_time": "2022-03-14T14:05:28.835Z"
   }
  ],
  "kernelspec": {
   "display_name": "Python 3 (ipykernel)",
   "language": "python",
   "name": "python3"
  },
  "language_info": {
   "codemirror_mode": {
    "name": "ipython",
    "version": 3
   },
   "file_extension": ".py",
   "mimetype": "text/x-python",
   "name": "python",
   "nbconvert_exporter": "python",
   "pygments_lexer": "ipython3",
   "version": "3.7.8"
  },
  "toc": {
   "base_numbering": 1,
   "nav_menu": {},
   "number_sections": true,
   "sideBar": true,
   "skip_h1_title": true,
   "title_cell": "Table of Contents",
   "title_sidebar": "Contents",
   "toc_cell": false,
   "toc_position": {
    "height": "calc(100% - 180px)",
    "left": "10px",
    "top": "150px",
    "width": "289.6px"
   },
   "toc_section_display": true,
   "toc_window_display": true
  }
 },
 "nbformat": 4,
 "nbformat_minor": 5
}
