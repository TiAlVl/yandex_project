{
 "cells": [
  {
   "cell_type": "markdown",
   "metadata": {},
   "source": [
    "# Определение стоимости автомобилей"
   ]
  },
  {
   "cell_type": "markdown",
   "metadata": {},
   "source": [
    "Наш сервис по продаже автомобилей с пробегом разрабатывает приложение, чтобы привлечь новых клиентов. Оно имеет удобный инструмент, чтобы оценить стоимость уже имеющихся у нас авто. Нами уже скомпонованы исторические данные: характеристик, комплектация, цены.\n",
    "\n",
    "нужно построить модель для определения стоимости. \n",
    "\n",
    "Заказчику важны:\n",
    "\n",
    "- качество предсказания;\n",
    "- скорость предсказания;\n",
    "- время обучения."
   ]
  },
  {
   "cell_type": "markdown",
   "metadata": {},
   "source": [
    "# План работы\n",
    "\n",
    "- Выполнить загрузку и подготовку данных\n",
    "- Произвести обучение моделей. Используем алгоритмы: LinearRegression, CatBoostRegressor, DecisionTreeRegressor, LGBMRegressor\n",
    "- Выполним анализ скорости работы и качества моделей"
   ]
  },
  {
   "cell_type": "markdown",
   "metadata": {},
   "source": [
    "\n",
    "\n",
    "\n",
    "## Подготовка данных"
   ]
  },
  {
   "cell_type": "code",
   "execution_count": 104,
   "metadata": {},
   "outputs": [],
   "source": [
    "# Подгружаем модули\n",
    "import pandas as pd\n",
    "import numpy as np\n",
    "import os\n",
    "import time\n",
    "\n",
    "import matplotlib\n",
    "import matplotlib.pyplot as plt\n",
    "from sklearn.model_selection import train_test_split\n",
    "from sklearn.tree import DecisionTreeClassifier\n",
    "from sklearn.preprocessing import OrdinalEncoder\n",
    "from sklearn.preprocessing import StandardScaler\n",
    "from tqdm import tqdm\n",
    "from sklearn.model_selection import GridSearchCV\n",
    "from sklearn.linear_model import SGDRegressor\n",
    "from lightgbm import LGBMRegressor\n",
    "from sklearn.tree import DecisionTreeRegressor\n",
    "from sklearn.linear_model import LinearRegression\n",
    "from catboost import CatBoostRegressor\n",
    "from sklearn.metrics import mean_squared_error\n",
    "from sklearn.metrics import mean_squared_log_error\n",
    "from sklearn.model_selection import train_test_split, cross_val_score"
   ]
  },
  {
   "cell_type": "code",
   "execution_count": 105,
   "metadata": {},
   "outputs": [],
   "source": [
    "\n",
    "pd.options.mode.chained_assignment = None"
   ]
  },
  {
   "cell_type": "code",
   "execution_count": 106,
   "metadata": {},
   "outputs": [],
   "source": [
    "# Загрузка данных\n",
    "data = pd.read_csv('/datasets/autos.csv')"
   ]
  },
  {
   "cell_type": "code",
   "execution_count": 107,
   "metadata": {},
   "outputs": [
    {
     "data": {
      "text/html": [
       "<div>\n",
       "<style scoped>\n",
       "    .dataframe tbody tr th:only-of-type {\n",
       "        vertical-align: middle;\n",
       "    }\n",
       "\n",
       "    .dataframe tbody tr th {\n",
       "        vertical-align: top;\n",
       "    }\n",
       "\n",
       "    .dataframe thead th {\n",
       "        text-align: right;\n",
       "    }\n",
       "</style>\n",
       "<table border=\"1\" class=\"dataframe\">\n",
       "  <thead>\n",
       "    <tr style=\"text-align: right;\">\n",
       "      <th></th>\n",
       "      <th>DateCrawled</th>\n",
       "      <th>Price</th>\n",
       "      <th>VehicleType</th>\n",
       "      <th>RegistrationYear</th>\n",
       "      <th>Gearbox</th>\n",
       "      <th>Power</th>\n",
       "      <th>Model</th>\n",
       "      <th>Kilometer</th>\n",
       "      <th>RegistrationMonth</th>\n",
       "      <th>FuelType</th>\n",
       "      <th>Brand</th>\n",
       "      <th>NotRepaired</th>\n",
       "      <th>DateCreated</th>\n",
       "      <th>NumberOfPictures</th>\n",
       "      <th>PostalCode</th>\n",
       "      <th>LastSeen</th>\n",
       "    </tr>\n",
       "  </thead>\n",
       "  <tbody>\n",
       "    <tr>\n",
       "      <th>0</th>\n",
       "      <td>2016-03-24 11:52:17</td>\n",
       "      <td>480</td>\n",
       "      <td>NaN</td>\n",
       "      <td>1993</td>\n",
       "      <td>manual</td>\n",
       "      <td>0</td>\n",
       "      <td>golf</td>\n",
       "      <td>150000</td>\n",
       "      <td>0</td>\n",
       "      <td>petrol</td>\n",
       "      <td>volkswagen</td>\n",
       "      <td>NaN</td>\n",
       "      <td>2016-03-24 00:00:00</td>\n",
       "      <td>0</td>\n",
       "      <td>70435</td>\n",
       "      <td>2016-04-07 03:16:57</td>\n",
       "    </tr>\n",
       "    <tr>\n",
       "      <th>1</th>\n",
       "      <td>2016-03-24 10:58:45</td>\n",
       "      <td>18300</td>\n",
       "      <td>coupe</td>\n",
       "      <td>2011</td>\n",
       "      <td>manual</td>\n",
       "      <td>190</td>\n",
       "      <td>NaN</td>\n",
       "      <td>125000</td>\n",
       "      <td>5</td>\n",
       "      <td>gasoline</td>\n",
       "      <td>audi</td>\n",
       "      <td>yes</td>\n",
       "      <td>2016-03-24 00:00:00</td>\n",
       "      <td>0</td>\n",
       "      <td>66954</td>\n",
       "      <td>2016-04-07 01:46:50</td>\n",
       "    </tr>\n",
       "    <tr>\n",
       "      <th>2</th>\n",
       "      <td>2016-03-14 12:52:21</td>\n",
       "      <td>9800</td>\n",
       "      <td>suv</td>\n",
       "      <td>2004</td>\n",
       "      <td>auto</td>\n",
       "      <td>163</td>\n",
       "      <td>grand</td>\n",
       "      <td>125000</td>\n",
       "      <td>8</td>\n",
       "      <td>gasoline</td>\n",
       "      <td>jeep</td>\n",
       "      <td>NaN</td>\n",
       "      <td>2016-03-14 00:00:00</td>\n",
       "      <td>0</td>\n",
       "      <td>90480</td>\n",
       "      <td>2016-04-05 12:47:46</td>\n",
       "    </tr>\n",
       "    <tr>\n",
       "      <th>3</th>\n",
       "      <td>2016-03-17 16:54:04</td>\n",
       "      <td>1500</td>\n",
       "      <td>small</td>\n",
       "      <td>2001</td>\n",
       "      <td>manual</td>\n",
       "      <td>75</td>\n",
       "      <td>golf</td>\n",
       "      <td>150000</td>\n",
       "      <td>6</td>\n",
       "      <td>petrol</td>\n",
       "      <td>volkswagen</td>\n",
       "      <td>no</td>\n",
       "      <td>2016-03-17 00:00:00</td>\n",
       "      <td>0</td>\n",
       "      <td>91074</td>\n",
       "      <td>2016-03-17 17:40:17</td>\n",
       "    </tr>\n",
       "    <tr>\n",
       "      <th>4</th>\n",
       "      <td>2016-03-31 17:25:20</td>\n",
       "      <td>3600</td>\n",
       "      <td>small</td>\n",
       "      <td>2008</td>\n",
       "      <td>manual</td>\n",
       "      <td>69</td>\n",
       "      <td>fabia</td>\n",
       "      <td>90000</td>\n",
       "      <td>7</td>\n",
       "      <td>gasoline</td>\n",
       "      <td>skoda</td>\n",
       "      <td>no</td>\n",
       "      <td>2016-03-31 00:00:00</td>\n",
       "      <td>0</td>\n",
       "      <td>60437</td>\n",
       "      <td>2016-04-06 10:17:21</td>\n",
       "    </tr>\n",
       "    <tr>\n",
       "      <th>...</th>\n",
       "      <td>...</td>\n",
       "      <td>...</td>\n",
       "      <td>...</td>\n",
       "      <td>...</td>\n",
       "      <td>...</td>\n",
       "      <td>...</td>\n",
       "      <td>...</td>\n",
       "      <td>...</td>\n",
       "      <td>...</td>\n",
       "      <td>...</td>\n",
       "      <td>...</td>\n",
       "      <td>...</td>\n",
       "      <td>...</td>\n",
       "      <td>...</td>\n",
       "      <td>...</td>\n",
       "      <td>...</td>\n",
       "    </tr>\n",
       "    <tr>\n",
       "      <th>354364</th>\n",
       "      <td>2016-03-21 09:50:58</td>\n",
       "      <td>0</td>\n",
       "      <td>NaN</td>\n",
       "      <td>2005</td>\n",
       "      <td>manual</td>\n",
       "      <td>0</td>\n",
       "      <td>colt</td>\n",
       "      <td>150000</td>\n",
       "      <td>7</td>\n",
       "      <td>petrol</td>\n",
       "      <td>mitsubishi</td>\n",
       "      <td>yes</td>\n",
       "      <td>2016-03-21 00:00:00</td>\n",
       "      <td>0</td>\n",
       "      <td>2694</td>\n",
       "      <td>2016-03-21 10:42:49</td>\n",
       "    </tr>\n",
       "    <tr>\n",
       "      <th>354365</th>\n",
       "      <td>2016-03-14 17:48:27</td>\n",
       "      <td>2200</td>\n",
       "      <td>NaN</td>\n",
       "      <td>2005</td>\n",
       "      <td>NaN</td>\n",
       "      <td>0</td>\n",
       "      <td>NaN</td>\n",
       "      <td>20000</td>\n",
       "      <td>1</td>\n",
       "      <td>NaN</td>\n",
       "      <td>sonstige_autos</td>\n",
       "      <td>NaN</td>\n",
       "      <td>2016-03-14 00:00:00</td>\n",
       "      <td>0</td>\n",
       "      <td>39576</td>\n",
       "      <td>2016-04-06 00:46:52</td>\n",
       "    </tr>\n",
       "    <tr>\n",
       "      <th>354366</th>\n",
       "      <td>2016-03-05 19:56:21</td>\n",
       "      <td>1199</td>\n",
       "      <td>convertible</td>\n",
       "      <td>2000</td>\n",
       "      <td>auto</td>\n",
       "      <td>101</td>\n",
       "      <td>fortwo</td>\n",
       "      <td>125000</td>\n",
       "      <td>3</td>\n",
       "      <td>petrol</td>\n",
       "      <td>smart</td>\n",
       "      <td>no</td>\n",
       "      <td>2016-03-05 00:00:00</td>\n",
       "      <td>0</td>\n",
       "      <td>26135</td>\n",
       "      <td>2016-03-11 18:17:12</td>\n",
       "    </tr>\n",
       "    <tr>\n",
       "      <th>354367</th>\n",
       "      <td>2016-03-19 18:57:12</td>\n",
       "      <td>9200</td>\n",
       "      <td>bus</td>\n",
       "      <td>1996</td>\n",
       "      <td>manual</td>\n",
       "      <td>102</td>\n",
       "      <td>transporter</td>\n",
       "      <td>150000</td>\n",
       "      <td>3</td>\n",
       "      <td>gasoline</td>\n",
       "      <td>volkswagen</td>\n",
       "      <td>no</td>\n",
       "      <td>2016-03-19 00:00:00</td>\n",
       "      <td>0</td>\n",
       "      <td>87439</td>\n",
       "      <td>2016-04-07 07:15:26</td>\n",
       "    </tr>\n",
       "    <tr>\n",
       "      <th>354368</th>\n",
       "      <td>2016-03-20 19:41:08</td>\n",
       "      <td>3400</td>\n",
       "      <td>wagon</td>\n",
       "      <td>2002</td>\n",
       "      <td>manual</td>\n",
       "      <td>100</td>\n",
       "      <td>golf</td>\n",
       "      <td>150000</td>\n",
       "      <td>6</td>\n",
       "      <td>gasoline</td>\n",
       "      <td>volkswagen</td>\n",
       "      <td>NaN</td>\n",
       "      <td>2016-03-20 00:00:00</td>\n",
       "      <td>0</td>\n",
       "      <td>40764</td>\n",
       "      <td>2016-03-24 12:45:21</td>\n",
       "    </tr>\n",
       "  </tbody>\n",
       "</table>\n",
       "<p>354369 rows × 16 columns</p>\n",
       "</div>"
      ],
      "text/plain": [
       "                DateCrawled  Price  VehicleType  RegistrationYear Gearbox  \\\n",
       "0       2016-03-24 11:52:17    480          NaN              1993  manual   \n",
       "1       2016-03-24 10:58:45  18300        coupe              2011  manual   \n",
       "2       2016-03-14 12:52:21   9800          suv              2004    auto   \n",
       "3       2016-03-17 16:54:04   1500        small              2001  manual   \n",
       "4       2016-03-31 17:25:20   3600        small              2008  manual   \n",
       "...                     ...    ...          ...               ...     ...   \n",
       "354364  2016-03-21 09:50:58      0          NaN              2005  manual   \n",
       "354365  2016-03-14 17:48:27   2200          NaN              2005     NaN   \n",
       "354366  2016-03-05 19:56:21   1199  convertible              2000    auto   \n",
       "354367  2016-03-19 18:57:12   9200          bus              1996  manual   \n",
       "354368  2016-03-20 19:41:08   3400        wagon              2002  manual   \n",
       "\n",
       "        Power        Model  Kilometer  RegistrationMonth  FuelType  \\\n",
       "0           0         golf     150000                  0    petrol   \n",
       "1         190          NaN     125000                  5  gasoline   \n",
       "2         163        grand     125000                  8  gasoline   \n",
       "3          75         golf     150000                  6    petrol   \n",
       "4          69        fabia      90000                  7  gasoline   \n",
       "...       ...          ...        ...                ...       ...   \n",
       "354364      0         colt     150000                  7    petrol   \n",
       "354365      0          NaN      20000                  1       NaN   \n",
       "354366    101       fortwo     125000                  3    petrol   \n",
       "354367    102  transporter     150000                  3  gasoline   \n",
       "354368    100         golf     150000                  6  gasoline   \n",
       "\n",
       "                 Brand NotRepaired          DateCreated  NumberOfPictures  \\\n",
       "0           volkswagen         NaN  2016-03-24 00:00:00                 0   \n",
       "1                 audi         yes  2016-03-24 00:00:00                 0   \n",
       "2                 jeep         NaN  2016-03-14 00:00:00                 0   \n",
       "3           volkswagen          no  2016-03-17 00:00:00                 0   \n",
       "4                skoda          no  2016-03-31 00:00:00                 0   \n",
       "...                ...         ...                  ...               ...   \n",
       "354364      mitsubishi         yes  2016-03-21 00:00:00                 0   \n",
       "354365  sonstige_autos         NaN  2016-03-14 00:00:00                 0   \n",
       "354366           smart          no  2016-03-05 00:00:00                 0   \n",
       "354367      volkswagen          no  2016-03-19 00:00:00                 0   \n",
       "354368      volkswagen         NaN  2016-03-20 00:00:00                 0   \n",
       "\n",
       "        PostalCode             LastSeen  \n",
       "0            70435  2016-04-07 03:16:57  \n",
       "1            66954  2016-04-07 01:46:50  \n",
       "2            90480  2016-04-05 12:47:46  \n",
       "3            91074  2016-03-17 17:40:17  \n",
       "4            60437  2016-04-06 10:17:21  \n",
       "...            ...                  ...  \n",
       "354364        2694  2016-03-21 10:42:49  \n",
       "354365       39576  2016-04-06 00:46:52  \n",
       "354366       26135  2016-03-11 18:17:12  \n",
       "354367       87439  2016-04-07 07:15:26  \n",
       "354368       40764  2016-03-24 12:45:21  \n",
       "\n",
       "[354369 rows x 16 columns]"
      ]
     },
     "execution_count": 107,
     "metadata": {},
     "output_type": "execute_result"
    }
   ],
   "source": [
    "# Ознакомимся\n",
    "data\n"
   ]
  },
  {
   "cell_type": "code",
   "execution_count": 108,
   "metadata": {},
   "outputs": [
    {
     "name": "stdout",
     "output_type": "stream",
     "text": [
      "<class 'pandas.core.frame.DataFrame'>\n",
      "RangeIndex: 354369 entries, 0 to 354368\n",
      "Data columns (total 16 columns):\n",
      " #   Column             Non-Null Count   Dtype \n",
      "---  ------             --------------   ----- \n",
      " 0   DateCrawled        354369 non-null  object\n",
      " 1   Price              354369 non-null  int64 \n",
      " 2   VehicleType        316879 non-null  object\n",
      " 3   RegistrationYear   354369 non-null  int64 \n",
      " 4   Gearbox            334536 non-null  object\n",
      " 5   Power              354369 non-null  int64 \n",
      " 6   Model              334664 non-null  object\n",
      " 7   Kilometer          354369 non-null  int64 \n",
      " 8   RegistrationMonth  354369 non-null  int64 \n",
      " 9   FuelType           321474 non-null  object\n",
      " 10  Brand              354369 non-null  object\n",
      " 11  NotRepaired        283215 non-null  object\n",
      " 12  DateCreated        354369 non-null  object\n",
      " 13  NumberOfPictures   354369 non-null  int64 \n",
      " 14  PostalCode         354369 non-null  int64 \n",
      " 15  LastSeen           354369 non-null  object\n",
      "dtypes: int64(7), object(9)\n",
      "memory usage: 43.3+ MB\n"
     ]
    }
   ],
   "source": [
    "# Инфромация\n",
    "data.info()"
   ]
  },
  {
   "cell_type": "code",
   "execution_count": 109,
   "metadata": {},
   "outputs": [
    {
     "data": {
      "text/plain": [
       "4"
      ]
     },
     "execution_count": 109,
     "metadata": {},
     "output_type": "execute_result"
    }
   ],
   "source": [
    "#дубликаты\n",
    "data.duplicated().sum()"
   ]
  },
  {
   "cell_type": "code",
   "execution_count": 110,
   "metadata": {},
   "outputs": [],
   "source": [
    "# Удалим найденные \n",
    "data = data.drop_duplicates()"
   ]
  },
  {
   "cell_type": "markdown",
   "metadata": {},
   "source": [
    "# **Признаки**\n",
    "*\tDateCrawled — дата скачивания анкеты из базы\n",
    "*\tVehicleType — тип автомобильного кузова\n",
    "*\tRegistrationYear — год регистрации автомобиля\n",
    "*\tGearbox — тип коробки передач\n",
    "*\tPower — мощность (л. с.)\n",
    "*\tModel — модель автомобиля\n",
    "*\tKilometer — пробег (км)\n",
    "*\tRegistrationMonth — месяц регистрации автомобиля\n",
    "*\tFuelType — тип топлива\n",
    "*\tBrand — марка автомобиля\n",
    "*\tNotRepaired — была машина в ремонте или нет\n",
    "*\tDateCreated — дата создания анкеты\n",
    "*\tNumberOfPictures — количество фотографий автомобиля\n",
    "*\tPostalCode — почтовый индекс владельца анкеты (пользователя)\n",
    "*\tLastSeen — дата последней активности пользователя\n",
    "\n",
    "**Целевой признак**\n",
    "* Price — цена (евро)\n"
   ]
  },
  {
   "cell_type": "markdown",
   "metadata": {},
   "source": [
    "Предполагаю, что для обучения модели не нужны будут признаки с датой, индексом и количеством фотографий в объявлении, поэтому сформируем датасет для модели без этих признаков. Оставим год регистрации"
   ]
  },
  {
   "cell_type": "code",
   "execution_count": 111,
   "metadata": {},
   "outputs": [],
   "source": [
    "# оставим признаки для обучения модели\n",
    "data = data.drop(['DateCrawled', 'RegistrationMonth', 'DateCreated', 'NumberOfPictures', 'PostalCode', 'LastSeen'], axis=1)"
   ]
  },
  {
   "cell_type": "code",
   "execution_count": 112,
   "metadata": {},
   "outputs": [
    {
     "name": "stdout",
     "output_type": "stream",
     "text": [
      "<class 'pandas.core.frame.DataFrame'>\n",
      "Int64Index: 354365 entries, 0 to 354368\n",
      "Data columns (total 10 columns):\n",
      " #   Column            Non-Null Count   Dtype \n",
      "---  ------            --------------   ----- \n",
      " 0   Price             354365 non-null  int64 \n",
      " 1   VehicleType       316875 non-null  object\n",
      " 2   RegistrationYear  354365 non-null  int64 \n",
      " 3   Gearbox           334532 non-null  object\n",
      " 4   Power             354365 non-null  int64 \n",
      " 5   Model             334660 non-null  object\n",
      " 6   Kilometer         354365 non-null  int64 \n",
      " 7   FuelType          321470 non-null  object\n",
      " 8   Brand             354365 non-null  object\n",
      " 9   NotRepaired       283211 non-null  object\n",
      "dtypes: int64(4), object(6)\n",
      "memory usage: 29.7+ MB\n"
     ]
    }
   ],
   "source": [
    "data.info()\n"
   ]
  },
  {
   "cell_type": "code",
   "execution_count": 113,
   "metadata": {},
   "outputs": [
    {
     "data": {
      "text/plain": [
       "Price                   0\n",
       "VehicleType         37490\n",
       "RegistrationYear        0\n",
       "Gearbox             19833\n",
       "Power                   0\n",
       "Model               19705\n",
       "Kilometer               0\n",
       "FuelType            32895\n",
       "Brand                   0\n",
       "NotRepaired         71154\n",
       "dtype: int64"
      ]
     },
     "execution_count": 113,
     "metadata": {},
     "output_type": "execute_result"
    }
   ],
   "source": [
    "# Проверим пропуски\n",
    "data.isna().sum()"
   ]
  },
  {
   "cell_type": "markdown",
   "metadata": {},
   "source": [
    "Пропуски имеем в признаках:\n",
    "* **VehicleType** - тип автомобильного кузова - заменим пропуски на unknown\n",
    "* **Gearbox** — тип коробки передач, заменим пропуски на unknown (потому как могут быть еще варианты вариатор и робот)\n",
    "* **Model** — модель автомобиля, заменим пропуски на unknown\n",
    "* **FuelType** - тип топлива, поставим самый популярный бензин\n",
    "* **NotRepaired** - была машина в ремонте или нет, если не указано, поставим не было ремонта\n"
   ]
  },
  {
   "cell_type": "code",
   "execution_count": 114,
   "metadata": {},
   "outputs": [
    {
     "data": {
      "text/html": [
       "<div>\n",
       "<style scoped>\n",
       "    .dataframe tbody tr th:only-of-type {\n",
       "        vertical-align: middle;\n",
       "    }\n",
       "\n",
       "    .dataframe tbody tr th {\n",
       "        vertical-align: top;\n",
       "    }\n",
       "\n",
       "    .dataframe thead th {\n",
       "        text-align: right;\n",
       "    }\n",
       "</style>\n",
       "<table border=\"1\" class=\"dataframe\">\n",
       "  <thead>\n",
       "    <tr style=\"text-align: right;\">\n",
       "      <th></th>\n",
       "      <th>Price</th>\n",
       "      <th>RegistrationYear</th>\n",
       "      <th>Power</th>\n",
       "      <th>Kilometer</th>\n",
       "    </tr>\n",
       "  </thead>\n",
       "  <tbody>\n",
       "    <tr>\n",
       "      <th>count</th>\n",
       "      <td>354365.000000</td>\n",
       "      <td>354365.000000</td>\n",
       "      <td>354365.000000</td>\n",
       "      <td>354365.000000</td>\n",
       "    </tr>\n",
       "    <tr>\n",
       "      <th>mean</th>\n",
       "      <td>4416.679830</td>\n",
       "      <td>2004.234481</td>\n",
       "      <td>110.093816</td>\n",
       "      <td>128211.363989</td>\n",
       "    </tr>\n",
       "    <tr>\n",
       "      <th>std</th>\n",
       "      <td>4514.176349</td>\n",
       "      <td>90.228466</td>\n",
       "      <td>189.851330</td>\n",
       "      <td>37905.083858</td>\n",
       "    </tr>\n",
       "    <tr>\n",
       "      <th>min</th>\n",
       "      <td>0.000000</td>\n",
       "      <td>1000.000000</td>\n",
       "      <td>0.000000</td>\n",
       "      <td>5000.000000</td>\n",
       "    </tr>\n",
       "    <tr>\n",
       "      <th>25%</th>\n",
       "      <td>1050.000000</td>\n",
       "      <td>1999.000000</td>\n",
       "      <td>69.000000</td>\n",
       "      <td>125000.000000</td>\n",
       "    </tr>\n",
       "    <tr>\n",
       "      <th>50%</th>\n",
       "      <td>2700.000000</td>\n",
       "      <td>2003.000000</td>\n",
       "      <td>105.000000</td>\n",
       "      <td>150000.000000</td>\n",
       "    </tr>\n",
       "    <tr>\n",
       "      <th>75%</th>\n",
       "      <td>6400.000000</td>\n",
       "      <td>2008.000000</td>\n",
       "      <td>143.000000</td>\n",
       "      <td>150000.000000</td>\n",
       "    </tr>\n",
       "    <tr>\n",
       "      <th>max</th>\n",
       "      <td>20000.000000</td>\n",
       "      <td>9999.000000</td>\n",
       "      <td>20000.000000</td>\n",
       "      <td>150000.000000</td>\n",
       "    </tr>\n",
       "  </tbody>\n",
       "</table>\n",
       "</div>"
      ],
      "text/plain": [
       "               Price  RegistrationYear          Power      Kilometer\n",
       "count  354365.000000     354365.000000  354365.000000  354365.000000\n",
       "mean     4416.679830       2004.234481     110.093816  128211.363989\n",
       "std      4514.176349         90.228466     189.851330   37905.083858\n",
       "min         0.000000       1000.000000       0.000000    5000.000000\n",
       "25%      1050.000000       1999.000000      69.000000  125000.000000\n",
       "50%      2700.000000       2003.000000     105.000000  150000.000000\n",
       "75%      6400.000000       2008.000000     143.000000  150000.000000\n",
       "max     20000.000000       9999.000000   20000.000000  150000.000000"
      ]
     },
     "execution_count": 114,
     "metadata": {},
     "output_type": "execute_result"
    }
   ],
   "source": [
    "# посмотрим максимум, минимум и квантили:\n",
    "data.describe()"
   ]
  },
  {
   "cell_type": "markdown",
   "metadata": {},
   "source": [
    "Есть некорректные данные:\n",
    "* Нулевая стоимость\n",
    "* год выпуска минимум 1000 и максимум 9999\n",
    "* указана мощность минимум 0 и максимум 20000\n",
    "\n",
    "Проанализируем их количество и после примем решение, что с ними делать"
   ]
  },
  {
   "cell_type": "code",
   "execution_count": 115,
   "metadata": {},
   "outputs": [
    {
     "data": {
      "text/plain": [
       "Text(0.5, 1.0, '[count    354365.000000\\nmean       2004.234481\\nstd          90.228466\\nmin        1000.000000\\n25%        1999.000000\\n50%        2003.000000\\n75%        2008.000000\\nmax        9999.000000\\nName: RegistrationYear, dtype: float64]')"
      ]
     },
     "execution_count": 115,
     "metadata": {},
     "output_type": "execute_result"
    },
    {
     "data": {
      "image/png": "[encoded data removed]",
      "text/plain": [
       "<Figure size 432x576 with 1 Axes>"
      ]
     },
     "metadata": {
      "needs_background": "light"
     },
     "output_type": "display_data"
    }
   ],
   "source": [
    "data.boxplot(['RegistrationYear'], figsize=(6,8))\n",
    "plt.xlabel('Год регистрации')\n",
    "plt.title([data['RegistrationYear'].describe()])"
   ]
  },
  {
   "cell_type": "code",
   "execution_count": 116,
   "metadata": {},
   "outputs": [
    {
     "data": {
      "text/plain": [
       "Text(0.5, 1.0, \"['Количество', 354194]\")"
      ]
     },
     "execution_count": 116,
     "metadata": {},
     "output_type": "execute_result"
    },
    {
     "data": {
      "image/png": "[encoded data removed]",
      "text/plain": [
       "<Figure size 432x288 with 1 Axes>"
      ]
     },
     "metadata": {
      "needs_background": "light"
     },
     "output_type": "display_data"
    }
   ],
   "source": [
    "#\n",
    "data.query('1900 <= RegistrationYear <= 2022')['RegistrationYear'].plot(kind='hist', bins=100)\n",
    "plt.xlabel('Год')\n",
    "plt.title(['Количество', data.query('1900 <= RegistrationYear <= 2022')['RegistrationYear'].count()])"
   ]
  },
  {
   "cell_type": "markdown",
   "metadata": {},
   "source": [
    "Сплошные выбросы, выберем диапазон с 1985 по 2022 год для обучения модели"
   ]
  },
  {
   "cell_type": "code",
   "execution_count": 117,
   "metadata": {},
   "outputs": [],
   "source": [
    "# Исправление, выберем диапазон с 2016 года\n",
    "#data = data.query('1985 <= RegistrationYear <= 2022')\n",
    "data = data.query('2016 <= RegistrationYear <= 2022')"
   ]
  },
  {
   "cell_type": "code",
   "execution_count": 118,
   "metadata": {},
   "outputs": [],
   "source": [
    "# Исправление, выберем диапазон с 2016 года\n",
    "#data = data.query('1985 <= RegistrationYear <= 2022')\n",
    "data = data.query('1985 <= RegistrationYear <= 2016')"
   ]
  },
  {
   "cell_type": "code",
   "execution_count": 119,
   "metadata": {
    "scrolled": true
   },
   "outputs": [
    {
     "data": {
      "text/plain": [
       "Text(0.5, 1.0, '[count     9599.000000\\nmean      2104.498073\\nstd       3024.341955\\nmin          0.000000\\n25%        400.000000\\n50%        950.000000\\n75%       2499.000000\\nmax      20000.000000\\nName: Price, dtype: float64]')"
      ]
     },
     "execution_count": 119,
     "metadata": {},
     "output_type": "execute_result"
    },
    {
     "data": {
      "image/png": "[encoded data removed]",
      "text/plain": [
       "<Figure size 432x576 with 1 Axes>"
      ]
     },
     "metadata": {
      "needs_background": "light"
     },
     "output_type": "display_data"
    }
   ],
   "source": [
    "data.boxplot(['Price'], figsize=(6,8))\n",
    "plt.xlabel('Цена')\n",
    "plt.title([data['Price'].describe()])"
   ]
  },
  {
   "cell_type": "code",
   "execution_count": 120,
   "metadata": {},
   "outputs": [
    {
     "data": {
      "text/plain": [
       "Text(0.5, 1.0, \"['Количество', 752]\")"
      ]
     },
     "execution_count": 120,
     "metadata": {},
     "output_type": "execute_result"
    },
    {
     "data": {
      "image/png": "[encoded data removed]",
      "text/plain": [
       "<Figure size 432x576 with 1 Axes>"
      ]
     },
     "metadata": {
      "needs_background": "light"
     },
     "output_type": "display_data"
    }
   ],
   "source": [
    "#Уберем объявления дешевле 100\n",
    "data.query('Price < 100')['Price'].plot(kind='hist', bins=100, figsize=(6,8))\n",
    "plt.title(['Количество', data.query('Price < 100')['Price'].count()])"
   ]
  },
  {
   "cell_type": "code",
   "execution_count": 121,
   "metadata": {},
   "outputs": [
    {
     "data": {
      "text/html": [
       "<div>\n",
       "<style scoped>\n",
       "    .dataframe tbody tr th:only-of-type {\n",
       "        vertical-align: middle;\n",
       "    }\n",
       "\n",
       "    .dataframe tbody tr th {\n",
       "        vertical-align: top;\n",
       "    }\n",
       "\n",
       "    .dataframe thead th {\n",
       "        text-align: right;\n",
       "    }\n",
       "</style>\n",
       "<table border=\"1\" class=\"dataframe\">\n",
       "  <thead>\n",
       "    <tr style=\"text-align: right;\">\n",
       "      <th></th>\n",
       "      <th>Price</th>\n",
       "      <th>VehicleType</th>\n",
       "      <th>RegistrationYear</th>\n",
       "      <th>Gearbox</th>\n",
       "      <th>Power</th>\n",
       "      <th>Model</th>\n",
       "      <th>Kilometer</th>\n",
       "      <th>FuelType</th>\n",
       "      <th>Brand</th>\n",
       "      <th>NotRepaired</th>\n",
       "    </tr>\n",
       "  </thead>\n",
       "  <tbody>\n",
       "    <tr>\n",
       "      <th>16</th>\n",
       "      <td>300</td>\n",
       "      <td>NaN</td>\n",
       "      <td>2016</td>\n",
       "      <td>NaN</td>\n",
       "      <td>60</td>\n",
       "      <td>polo</td>\n",
       "      <td>150000</td>\n",
       "      <td>petrol</td>\n",
       "      <td>volkswagen</td>\n",
       "      <td>NaN</td>\n",
       "    </tr>\n",
       "    <tr>\n",
       "      <th>31</th>\n",
       "      <td>899</td>\n",
       "      <td>NaN</td>\n",
       "      <td>2016</td>\n",
       "      <td>manual</td>\n",
       "      <td>60</td>\n",
       "      <td>clio</td>\n",
       "      <td>150000</td>\n",
       "      <td>petrol</td>\n",
       "      <td>renault</td>\n",
       "      <td>NaN</td>\n",
       "    </tr>\n",
       "    <tr>\n",
       "      <th>35</th>\n",
       "      <td>350</td>\n",
       "      <td>NaN</td>\n",
       "      <td>2016</td>\n",
       "      <td>manual</td>\n",
       "      <td>75</td>\n",
       "      <td>golf</td>\n",
       "      <td>150000</td>\n",
       "      <td>petrol</td>\n",
       "      <td>volkswagen</td>\n",
       "      <td>no</td>\n",
       "    </tr>\n",
       "    <tr>\n",
       "      <th>37</th>\n",
       "      <td>1500</td>\n",
       "      <td>NaN</td>\n",
       "      <td>2016</td>\n",
       "      <td>NaN</td>\n",
       "      <td>0</td>\n",
       "      <td>kangoo</td>\n",
       "      <td>150000</td>\n",
       "      <td>gasoline</td>\n",
       "      <td>renault</td>\n",
       "      <td>no</td>\n",
       "    </tr>\n",
       "    <tr>\n",
       "      <th>52</th>\n",
       "      <td>1400</td>\n",
       "      <td>NaN</td>\n",
       "      <td>2016</td>\n",
       "      <td>manual</td>\n",
       "      <td>55</td>\n",
       "      <td>other</td>\n",
       "      <td>5000</td>\n",
       "      <td>NaN</td>\n",
       "      <td>hyundai</td>\n",
       "      <td>NaN</td>\n",
       "    </tr>\n",
       "    <tr>\n",
       "      <th>...</th>\n",
       "      <td>...</td>\n",
       "      <td>...</td>\n",
       "      <td>...</td>\n",
       "      <td>...</td>\n",
       "      <td>...</td>\n",
       "      <td>...</td>\n",
       "      <td>...</td>\n",
       "      <td>...</td>\n",
       "      <td>...</td>\n",
       "      <td>...</td>\n",
       "    </tr>\n",
       "    <tr>\n",
       "      <th>354107</th>\n",
       "      <td>395</td>\n",
       "      <td>NaN</td>\n",
       "      <td>2016</td>\n",
       "      <td>manual</td>\n",
       "      <td>60</td>\n",
       "      <td>golf</td>\n",
       "      <td>150000</td>\n",
       "      <td>petrol</td>\n",
       "      <td>volkswagen</td>\n",
       "      <td>NaN</td>\n",
       "    </tr>\n",
       "    <tr>\n",
       "      <th>354115</th>\n",
       "      <td>299</td>\n",
       "      <td>NaN</td>\n",
       "      <td>2016</td>\n",
       "      <td>manual</td>\n",
       "      <td>60</td>\n",
       "      <td>astra</td>\n",
       "      <td>150000</td>\n",
       "      <td>petrol</td>\n",
       "      <td>opel</td>\n",
       "      <td>yes</td>\n",
       "    </tr>\n",
       "    <tr>\n",
       "      <th>354169</th>\n",
       "      <td>3000</td>\n",
       "      <td>NaN</td>\n",
       "      <td>2016</td>\n",
       "      <td>manual</td>\n",
       "      <td>0</td>\n",
       "      <td>colt</td>\n",
       "      <td>150000</td>\n",
       "      <td>gasoline</td>\n",
       "      <td>mitsubishi</td>\n",
       "      <td>no</td>\n",
       "    </tr>\n",
       "    <tr>\n",
       "      <th>354198</th>\n",
       "      <td>1350</td>\n",
       "      <td>NaN</td>\n",
       "      <td>2016</td>\n",
       "      <td>manual</td>\n",
       "      <td>0</td>\n",
       "      <td>clk</td>\n",
       "      <td>150000</td>\n",
       "      <td>NaN</td>\n",
       "      <td>mercedes_benz</td>\n",
       "      <td>yes</td>\n",
       "    </tr>\n",
       "    <tr>\n",
       "      <th>354361</th>\n",
       "      <td>5250</td>\n",
       "      <td>NaN</td>\n",
       "      <td>2016</td>\n",
       "      <td>auto</td>\n",
       "      <td>150</td>\n",
       "      <td>159</td>\n",
       "      <td>150000</td>\n",
       "      <td>NaN</td>\n",
       "      <td>alfa_romeo</td>\n",
       "      <td>no</td>\n",
       "    </tr>\n",
       "  </tbody>\n",
       "</table>\n",
       "<p>8847 rows × 10 columns</p>\n",
       "</div>"
      ],
      "text/plain": [
       "        Price VehicleType  RegistrationYear Gearbox  Power   Model  Kilometer  \\\n",
       "16        300         NaN              2016     NaN     60    polo     150000   \n",
       "31        899         NaN              2016  manual     60    clio     150000   \n",
       "35        350         NaN              2016  manual     75    golf     150000   \n",
       "37       1500         NaN              2016     NaN      0  kangoo     150000   \n",
       "52       1400         NaN              2016  manual     55   other       5000   \n",
       "...       ...         ...               ...     ...    ...     ...        ...   \n",
       "354107    395         NaN              2016  manual     60    golf     150000   \n",
       "354115    299         NaN              2016  manual     60   astra     150000   \n",
       "354169   3000         NaN              2016  manual      0    colt     150000   \n",
       "354198   1350         NaN              2016  manual      0     clk     150000   \n",
       "354361   5250         NaN              2016    auto    150     159     150000   \n",
       "\n",
       "        FuelType          Brand NotRepaired  \n",
       "16        petrol     volkswagen         NaN  \n",
       "31        petrol        renault         NaN  \n",
       "35        petrol     volkswagen          no  \n",
       "37      gasoline        renault          no  \n",
       "52           NaN        hyundai         NaN  \n",
       "...          ...            ...         ...  \n",
       "354107    petrol     volkswagen         NaN  \n",
       "354115    petrol           opel         yes  \n",
       "354169  gasoline     mitsubishi          no  \n",
       "354198       NaN  mercedes_benz         yes  \n",
       "354361       NaN     alfa_romeo          no  \n",
       "\n",
       "[8847 rows x 10 columns]"
      ]
     },
     "execution_count": 121,
     "metadata": {},
     "output_type": "execute_result"
    }
   ],
   "source": [
    "#Для обучения модели оставим объявления от 100\n",
    "data = data.query('Price >= 100')\n",
    "data"
   ]
  },
  {
   "cell_type": "markdown",
   "metadata": {},
   "source": [
    "**Мощность**"
   ]
  },
  {
   "cell_type": "code",
   "execution_count": 122,
   "metadata": {},
   "outputs": [
    {
     "data": {
      "text/plain": [
       "Text(0.5, 1.0, '[count     8847.000000\\nmean        79.858709\\nstd        269.683773\\nmin          0.000000\\n25%          0.000000\\n50%         75.000000\\n75%        107.000000\\nmax      13616.000000\\nName: Power, dtype: float64]')"
      ]
     },
     "execution_count": 122,
     "metadata": {},
     "output_type": "execute_result"
    },
    {
     "data": {
      "image/png": "[encoded data removed]",
      "text/plain": [
       "<Figure size 432x576 with 1 Axes>"
      ]
     },
     "metadata": {
      "needs_background": "light"
     },
     "output_type": "display_data"
    }
   ],
   "source": [
    "data.boxplot(['Power'], figsize=(6,8))\n",
    "plt.xlabel('Мощность')\n",
    "plt.title([data['Power'].describe()])"
   ]
  },
  {
   "cell_type": "code",
   "execution_count": 123,
   "metadata": {},
   "outputs": [
    {
     "data": {
      "text/plain": [
       "Text(0.5, 1.0, \"['Количество', 2893]\")"
      ]
     },
     "execution_count": 123,
     "metadata": {},
     "output_type": "execute_result"
    },
    {
     "data": {
      "image/png": "[encoded data removed]",
      "text/plain": [
       "<Figure size 432x576 with 1 Axes>"
      ]
     },
     "metadata": {
      "needs_background": "light"
     },
     "output_type": "display_data"
    }
   ],
   "source": [
    "# Посмотрим объявления с нереальной мощностью\n",
    "#Было\n",
    "#data.query('((Power <= 50) or (Power >= 1300))')['Power'].plot(kind='hist', bins=100, figsize=(6,8))\n",
    "#Стало\n",
    "data.query('((Power <= 50) or (Power >= 450))')['Power'].plot(kind='hist', bins=100, figsize=(6,8))\n",
    "plt.xlabel('Мощность')\n",
    "plt.title(['Количество', data.query('((Power <= 50) or (Power >= 450))')['Price'].count()])"
   ]
  },
  {
   "cell_type": "code",
   "execution_count": 124,
   "metadata": {},
   "outputs": [
    {
     "data": {
      "text/plain": [
       "2893"
      ]
     },
     "execution_count": 124,
     "metadata": {},
     "output_type": "execute_result"
    }
   ],
   "source": [
    "# Их существенное количество, чтобы просто удалить, заменим такие значения на медианные по модели. \n",
    "#Было\n",
    "#data.loc[(data['Power'] <= 50) | (data['Power'] >= 1300), 'Power'] = None\n",
    "#Стало\n",
    "data.loc[(data['Power'] <= 50) | (data['Power'] >= 450), 'Power'] = None\n",
    "data['Power'].isna().sum()"
   ]
  },
  {
   "cell_type": "code",
   "execution_count": 125,
   "metadata": {},
   "outputs": [],
   "source": [
    "#Методом transform пропуски в столбце Power заменим медианой по модели\n",
    "#Было\n",
    "#data['Power'] = data['Power'].fillna(data.groupby('Model')['Power'].transform('median'))\n",
    "#Стало\n",
    "data['Power'] = data['Power'].fillna(data.groupby(['Model','Brand'])['Power'].transform('median'))"
   ]
  },
  {
   "cell_type": "code",
   "execution_count": 126,
   "metadata": {},
   "outputs": [
    {
     "data": {
      "text/plain": [
       "467"
      ]
     },
     "execution_count": 126,
     "metadata": {},
     "output_type": "execute_result"
    }
   ],
   "source": [
    "# осталось 5 тыс пропусков удалим их\n",
    "data['Power'].isna().sum()"
   ]
  },
  {
   "cell_type": "code",
   "execution_count": 127,
   "metadata": {},
   "outputs": [],
   "source": [
    "# осталось 5 тыс пропусков удалим их\n",
    "data = data.loc[~data['Power'].isna()]"
   ]
  },
  {
   "cell_type": "code",
   "execution_count": 128,
   "metadata": {
    "scrolled": true
   },
   "outputs": [
    {
     "data": {
      "text/html": [
       "<div>\n",
       "<style scoped>\n",
       "    .dataframe tbody tr th:only-of-type {\n",
       "        vertical-align: middle;\n",
       "    }\n",
       "\n",
       "    .dataframe tbody tr th {\n",
       "        vertical-align: top;\n",
       "    }\n",
       "\n",
       "    .dataframe thead th {\n",
       "        text-align: right;\n",
       "    }\n",
       "</style>\n",
       "<table border=\"1\" class=\"dataframe\">\n",
       "  <thead>\n",
       "    <tr style=\"text-align: right;\">\n",
       "      <th></th>\n",
       "      <th>Price</th>\n",
       "      <th>RegistrationYear</th>\n",
       "      <th>Power</th>\n",
       "      <th>Kilometer</th>\n",
       "    </tr>\n",
       "  </thead>\n",
       "  <tbody>\n",
       "    <tr>\n",
       "      <th>count</th>\n",
       "      <td>8380.000000</td>\n",
       "      <td>8380.0</td>\n",
       "      <td>8380.000000</td>\n",
       "      <td>8380.000000</td>\n",
       "    </tr>\n",
       "    <tr>\n",
       "      <th>mean</th>\n",
       "      <td>2308.437709</td>\n",
       "      <td>2016.0</td>\n",
       "      <td>99.740334</td>\n",
       "      <td>134697.494033</td>\n",
       "    </tr>\n",
       "    <tr>\n",
       "      <th>std</th>\n",
       "      <td>3090.991489</td>\n",
       "      <td>0.0</td>\n",
       "      <td>40.468207</td>\n",
       "      <td>35200.664512</td>\n",
       "    </tr>\n",
       "    <tr>\n",
       "      <th>min</th>\n",
       "      <td>100.000000</td>\n",
       "      <td>2016.0</td>\n",
       "      <td>51.000000</td>\n",
       "      <td>5000.000000</td>\n",
       "    </tr>\n",
       "    <tr>\n",
       "      <th>25%</th>\n",
       "      <td>500.000000</td>\n",
       "      <td>2016.0</td>\n",
       "      <td>75.000000</td>\n",
       "      <td>150000.000000</td>\n",
       "    </tr>\n",
       "    <tr>\n",
       "      <th>50%</th>\n",
       "      <td>1100.000000</td>\n",
       "      <td>2016.0</td>\n",
       "      <td>90.000000</td>\n",
       "      <td>150000.000000</td>\n",
       "    </tr>\n",
       "    <tr>\n",
       "      <th>75%</th>\n",
       "      <td>2700.000000</td>\n",
       "      <td>2016.0</td>\n",
       "      <td>116.000000</td>\n",
       "      <td>150000.000000</td>\n",
       "    </tr>\n",
       "    <tr>\n",
       "      <th>max</th>\n",
       "      <td>20000.000000</td>\n",
       "      <td>2016.0</td>\n",
       "      <td>387.000000</td>\n",
       "      <td>150000.000000</td>\n",
       "    </tr>\n",
       "  </tbody>\n",
       "</table>\n",
       "</div>"
      ],
      "text/plain": [
       "              Price  RegistrationYear        Power      Kilometer\n",
       "count   8380.000000            8380.0  8380.000000    8380.000000\n",
       "mean    2308.437709            2016.0    99.740334  134697.494033\n",
       "std     3090.991489               0.0    40.468207   35200.664512\n",
       "min      100.000000            2016.0    51.000000    5000.000000\n",
       "25%      500.000000            2016.0    75.000000  150000.000000\n",
       "50%     1100.000000            2016.0    90.000000  150000.000000\n",
       "75%     2700.000000            2016.0   116.000000  150000.000000\n",
       "max    20000.000000            2016.0   387.000000  150000.000000"
      ]
     },
     "execution_count": 128,
     "metadata": {},
     "output_type": "execute_result"
    }
   ],
   "source": [
    "#Для обучения модели оставим объявления от 1000 \n",
    "data.describe()"
   ]
  },
  {
   "cell_type": "code",
   "execution_count": 129,
   "metadata": {
    "scrolled": true
   },
   "outputs": [
    {
     "data": {
      "text/html": [
       "<div>\n",
       "<style scoped>\n",
       "    .dataframe tbody tr th:only-of-type {\n",
       "        vertical-align: middle;\n",
       "    }\n",
       "\n",
       "    .dataframe tbody tr th {\n",
       "        vertical-align: top;\n",
       "    }\n",
       "\n",
       "    .dataframe thead th {\n",
       "        text-align: right;\n",
       "    }\n",
       "</style>\n",
       "<table border=\"1\" class=\"dataframe\">\n",
       "  <thead>\n",
       "    <tr style=\"text-align: right;\">\n",
       "      <th></th>\n",
       "      <th>Price</th>\n",
       "      <th>VehicleType</th>\n",
       "      <th>RegistrationYear</th>\n",
       "      <th>Gearbox</th>\n",
       "      <th>Power</th>\n",
       "      <th>Model</th>\n",
       "      <th>Kilometer</th>\n",
       "      <th>FuelType</th>\n",
       "      <th>Brand</th>\n",
       "      <th>NotRepaired</th>\n",
       "    </tr>\n",
       "  </thead>\n",
       "  <tbody>\n",
       "    <tr>\n",
       "      <th>16</th>\n",
       "      <td>300</td>\n",
       "      <td>NaN</td>\n",
       "      <td>2016</td>\n",
       "      <td>NaN</td>\n",
       "      <td>60.0</td>\n",
       "      <td>polo</td>\n",
       "      <td>150000</td>\n",
       "      <td>petrol</td>\n",
       "      <td>volkswagen</td>\n",
       "      <td>NaN</td>\n",
       "    </tr>\n",
       "    <tr>\n",
       "      <th>31</th>\n",
       "      <td>899</td>\n",
       "      <td>NaN</td>\n",
       "      <td>2016</td>\n",
       "      <td>manual</td>\n",
       "      <td>60.0</td>\n",
       "      <td>clio</td>\n",
       "      <td>150000</td>\n",
       "      <td>petrol</td>\n",
       "      <td>renault</td>\n",
       "      <td>NaN</td>\n",
       "    </tr>\n",
       "    <tr>\n",
       "      <th>35</th>\n",
       "      <td>350</td>\n",
       "      <td>NaN</td>\n",
       "      <td>2016</td>\n",
       "      <td>manual</td>\n",
       "      <td>75.0</td>\n",
       "      <td>golf</td>\n",
       "      <td>150000</td>\n",
       "      <td>petrol</td>\n",
       "      <td>volkswagen</td>\n",
       "      <td>no</td>\n",
       "    </tr>\n",
       "    <tr>\n",
       "      <th>37</th>\n",
       "      <td>1500</td>\n",
       "      <td>NaN</td>\n",
       "      <td>2016</td>\n",
       "      <td>NaN</td>\n",
       "      <td>75.0</td>\n",
       "      <td>kangoo</td>\n",
       "      <td>150000</td>\n",
       "      <td>gasoline</td>\n",
       "      <td>renault</td>\n",
       "      <td>no</td>\n",
       "    </tr>\n",
       "    <tr>\n",
       "      <th>52</th>\n",
       "      <td>1400</td>\n",
       "      <td>NaN</td>\n",
       "      <td>2016</td>\n",
       "      <td>manual</td>\n",
       "      <td>55.0</td>\n",
       "      <td>other</td>\n",
       "      <td>5000</td>\n",
       "      <td>NaN</td>\n",
       "      <td>hyundai</td>\n",
       "      <td>NaN</td>\n",
       "    </tr>\n",
       "    <tr>\n",
       "      <th>...</th>\n",
       "      <td>...</td>\n",
       "      <td>...</td>\n",
       "      <td>...</td>\n",
       "      <td>...</td>\n",
       "      <td>...</td>\n",
       "      <td>...</td>\n",
       "      <td>...</td>\n",
       "      <td>...</td>\n",
       "      <td>...</td>\n",
       "      <td>...</td>\n",
       "    </tr>\n",
       "    <tr>\n",
       "      <th>354107</th>\n",
       "      <td>395</td>\n",
       "      <td>NaN</td>\n",
       "      <td>2016</td>\n",
       "      <td>manual</td>\n",
       "      <td>60.0</td>\n",
       "      <td>golf</td>\n",
       "      <td>150000</td>\n",
       "      <td>petrol</td>\n",
       "      <td>volkswagen</td>\n",
       "      <td>NaN</td>\n",
       "    </tr>\n",
       "    <tr>\n",
       "      <th>354115</th>\n",
       "      <td>299</td>\n",
       "      <td>NaN</td>\n",
       "      <td>2016</td>\n",
       "      <td>manual</td>\n",
       "      <td>60.0</td>\n",
       "      <td>astra</td>\n",
       "      <td>150000</td>\n",
       "      <td>petrol</td>\n",
       "      <td>opel</td>\n",
       "      <td>yes</td>\n",
       "    </tr>\n",
       "    <tr>\n",
       "      <th>354169</th>\n",
       "      <td>3000</td>\n",
       "      <td>NaN</td>\n",
       "      <td>2016</td>\n",
       "      <td>manual</td>\n",
       "      <td>75.0</td>\n",
       "      <td>colt</td>\n",
       "      <td>150000</td>\n",
       "      <td>gasoline</td>\n",
       "      <td>mitsubishi</td>\n",
       "      <td>no</td>\n",
       "    </tr>\n",
       "    <tr>\n",
       "      <th>354198</th>\n",
       "      <td>1350</td>\n",
       "      <td>NaN</td>\n",
       "      <td>2016</td>\n",
       "      <td>manual</td>\n",
       "      <td>136.0</td>\n",
       "      <td>clk</td>\n",
       "      <td>150000</td>\n",
       "      <td>NaN</td>\n",
       "      <td>mercedes_benz</td>\n",
       "      <td>yes</td>\n",
       "    </tr>\n",
       "    <tr>\n",
       "      <th>354361</th>\n",
       "      <td>5250</td>\n",
       "      <td>NaN</td>\n",
       "      <td>2016</td>\n",
       "      <td>auto</td>\n",
       "      <td>150.0</td>\n",
       "      <td>159</td>\n",
       "      <td>150000</td>\n",
       "      <td>NaN</td>\n",
       "      <td>alfa_romeo</td>\n",
       "      <td>no</td>\n",
       "    </tr>\n",
       "  </tbody>\n",
       "</table>\n",
       "<p>8380 rows × 10 columns</p>\n",
       "</div>"
      ],
      "text/plain": [
       "        Price VehicleType  RegistrationYear Gearbox  Power   Model  Kilometer  \\\n",
       "16        300         NaN              2016     NaN   60.0    polo     150000   \n",
       "31        899         NaN              2016  manual   60.0    clio     150000   \n",
       "35        350         NaN              2016  manual   75.0    golf     150000   \n",
       "37       1500         NaN              2016     NaN   75.0  kangoo     150000   \n",
       "52       1400         NaN              2016  manual   55.0   other       5000   \n",
       "...       ...         ...               ...     ...    ...     ...        ...   \n",
       "354107    395         NaN              2016  manual   60.0    golf     150000   \n",
       "354115    299         NaN              2016  manual   60.0   astra     150000   \n",
       "354169   3000         NaN              2016  manual   75.0    colt     150000   \n",
       "354198   1350         NaN              2016  manual  136.0     clk     150000   \n",
       "354361   5250         NaN              2016    auto  150.0     159     150000   \n",
       "\n",
       "        FuelType          Brand NotRepaired  \n",
       "16        petrol     volkswagen         NaN  \n",
       "31        petrol        renault         NaN  \n",
       "35        petrol     volkswagen          no  \n",
       "37      gasoline        renault          no  \n",
       "52           NaN        hyundai         NaN  \n",
       "...          ...            ...         ...  \n",
       "354107    petrol     volkswagen         NaN  \n",
       "354115    petrol           opel         yes  \n",
       "354169  gasoline     mitsubishi          no  \n",
       "354198       NaN  mercedes_benz         yes  \n",
       "354361       NaN     alfa_romeo          no  \n",
       "\n",
       "[8380 rows x 10 columns]"
      ]
     },
     "execution_count": 129,
     "metadata": {},
     "output_type": "execute_result"
    }
   ],
   "source": [
    "data[data['Power'] <= 1200 ]"
   ]
  },
  {
   "cell_type": "code",
   "execution_count": 130,
   "metadata": {},
   "outputs": [
    {
     "data": {
      "text/plain": [
       "Price                  0\n",
       "VehicleType         8228\n",
       "RegistrationYear       0\n",
       "Gearbox             1065\n",
       "Power                  0\n",
       "Model                743\n",
       "Kilometer              0\n",
       "FuelType            3192\n",
       "Brand                  0\n",
       "NotRepaired         3771\n",
       "dtype: int64"
      ]
     },
     "execution_count": 130,
     "metadata": {},
     "output_type": "execute_result"
    }
   ],
   "source": [
    "# Проверим пропуски\n",
    "data.isna().sum()"
   ]
  },
  {
   "cell_type": "markdown",
   "metadata": {},
   "source": [
    "Пропуски в наличии \n",
    "\n",
    "Пропуски в **FuelType** заменим на **petrol** (бензин)\n",
    "\n",
    "Пропуски в **NotRepaired** заменим на No\n",
    "\n",
    "Заменим на \"заглушку\" **unknown** пропуски в \n",
    "* VehicleType         \n",
    "* Gearbox \n",
    "* Model                "
   ]
  },
  {
   "cell_type": "code",
   "execution_count": 131,
   "metadata": {},
   "outputs": [
    {
     "data": {
      "text/plain": [
       "array([nan, 'no', 'yes'], dtype=object)"
      ]
     },
     "execution_count": 131,
     "metadata": {},
     "output_type": "execute_result"
    }
   ],
   "source": [
    "# Что в ремонтах, уникальные значения\n",
    "data['NotRepaired'].unique()"
   ]
  },
  {
   "cell_type": "code",
   "execution_count": 132,
   "metadata": {},
   "outputs": [
    {
     "data": {
      "text/plain": [
       "array(['petrol', 'gasoline', nan, 'lpg', 'cng', 'hybrid', 'electric',\n",
       "       'other'], dtype=object)"
      ]
     },
     "execution_count": 132,
     "metadata": {},
     "output_type": "execute_result"
    }
   ],
   "source": [
    "# Посмотрим какие типы топлива в датасете.\n",
    "data['FuelType'].unique()"
   ]
  },
  {
   "cell_type": "code",
   "execution_count": 133,
   "metadata": {},
   "outputs": [
    {
     "data": {
      "text/plain": [
       "3771"
      ]
     },
     "execution_count": 133,
     "metadata": {},
     "output_type": "execute_result"
    }
   ],
   "source": [
    "# Количество пропусков данных о ремонтах\n",
    "data['NotRepaired'].isna().sum()"
   ]
  },
  {
   "cell_type": "code",
   "execution_count": 134,
   "metadata": {},
   "outputs": [
    {
     "data": {
      "text/plain": [
       "373"
      ]
     },
     "execution_count": 134,
     "metadata": {},
     "output_type": "execute_result"
    }
   ],
   "source": [
    "# Заменим пропуски в данных о ремонте при пробеге более 100 тыс км на no - то есть машина ремонтировалась\n",
    "data.loc[(data['Kilometer'] >= 100000)& (data['NotRepaired'].isna()), 'NotRepaired'] = 'no'\n",
    "data['NotRepaired'].isna().sum()"
   ]
  },
  {
   "cell_type": "code",
   "execution_count": 135,
   "metadata": {},
   "outputs": [
    {
     "data": {
      "text/plain": [
       "0"
      ]
     },
     "execution_count": 135,
     "metadata": {},
     "output_type": "execute_result"
    }
   ],
   "source": [
    "# # Заменим пропуски в данных о ремонте при пробеге более 100 тыс км на yes - то есть машина не ремонтировалась\n",
    "data.loc[(data['Kilometer'] < 100000)& (data['NotRepaired'].isna()),'NotRepaired'] = 'yes'\n",
    "data['NotRepaired'].isna().sum()"
   ]
  },
  {
   "cell_type": "code",
   "execution_count": 136,
   "metadata": {},
   "outputs": [],
   "source": [
    "# Пропуски в FuelType заменим на petrol (бензин)\n",
    "data['FuelType'] = data['FuelType'].fillna('petrol')"
   ]
  },
  {
   "cell_type": "markdown",
   "metadata": {},
   "source": [
    "пока заменим все пропуски на заглушку \"unknown\""
   ]
  },
  {
   "cell_type": "code",
   "execution_count": 137,
   "metadata": {},
   "outputs": [],
   "source": [
    "# Остальные пропуски заменим заглушкой \n",
    "data = data.fillna('unknown')"
   ]
  },
  {
   "cell_type": "code",
   "execution_count": 138,
   "metadata": {},
   "outputs": [
    {
     "data": {
      "text/plain": [
       "Price               0\n",
       "VehicleType         0\n",
       "RegistrationYear    0\n",
       "Gearbox             0\n",
       "Power               0\n",
       "Model               0\n",
       "Kilometer           0\n",
       "FuelType            0\n",
       "Brand               0\n",
       "NotRepaired         0\n",
       "dtype: int64"
      ]
     },
     "execution_count": 138,
     "metadata": {},
     "output_type": "execute_result"
    }
   ],
   "source": [
    "# пропуски ушли\n",
    "data.isna().sum()"
   ]
  },
  {
   "cell_type": "code",
   "execution_count": 139,
   "metadata": {},
   "outputs": [
    {
     "data": {
      "text/html": [
       "<div>\n",
       "<style scoped>\n",
       "    .dataframe tbody tr th:only-of-type {\n",
       "        vertical-align: middle;\n",
       "    }\n",
       "\n",
       "    .dataframe tbody tr th {\n",
       "        vertical-align: top;\n",
       "    }\n",
       "\n",
       "    .dataframe thead th {\n",
       "        text-align: right;\n",
       "    }\n",
       "</style>\n",
       "<table border=\"1\" class=\"dataframe\">\n",
       "  <thead>\n",
       "    <tr style=\"text-align: right;\">\n",
       "      <th></th>\n",
       "      <th>Price</th>\n",
       "      <th>RegistrationYear</th>\n",
       "      <th>Power</th>\n",
       "      <th>Kilometer</th>\n",
       "    </tr>\n",
       "  </thead>\n",
       "  <tbody>\n",
       "    <tr>\n",
       "      <th>count</th>\n",
       "      <td>8380.000000</td>\n",
       "      <td>8380.0</td>\n",
       "      <td>8380.000000</td>\n",
       "      <td>8380.000000</td>\n",
       "    </tr>\n",
       "    <tr>\n",
       "      <th>mean</th>\n",
       "      <td>2308.437709</td>\n",
       "      <td>2016.0</td>\n",
       "      <td>99.740334</td>\n",
       "      <td>134697.494033</td>\n",
       "    </tr>\n",
       "    <tr>\n",
       "      <th>std</th>\n",
       "      <td>3090.991489</td>\n",
       "      <td>0.0</td>\n",
       "      <td>40.468207</td>\n",
       "      <td>35200.664512</td>\n",
       "    </tr>\n",
       "    <tr>\n",
       "      <th>min</th>\n",
       "      <td>100.000000</td>\n",
       "      <td>2016.0</td>\n",
       "      <td>51.000000</td>\n",
       "      <td>5000.000000</td>\n",
       "    </tr>\n",
       "    <tr>\n",
       "      <th>25%</th>\n",
       "      <td>500.000000</td>\n",
       "      <td>2016.0</td>\n",
       "      <td>75.000000</td>\n",
       "      <td>150000.000000</td>\n",
       "    </tr>\n",
       "    <tr>\n",
       "      <th>50%</th>\n",
       "      <td>1100.000000</td>\n",
       "      <td>2016.0</td>\n",
       "      <td>90.000000</td>\n",
       "      <td>150000.000000</td>\n",
       "    </tr>\n",
       "    <tr>\n",
       "      <th>75%</th>\n",
       "      <td>2700.000000</td>\n",
       "      <td>2016.0</td>\n",
       "      <td>116.000000</td>\n",
       "      <td>150000.000000</td>\n",
       "    </tr>\n",
       "    <tr>\n",
       "      <th>max</th>\n",
       "      <td>20000.000000</td>\n",
       "      <td>2016.0</td>\n",
       "      <td>387.000000</td>\n",
       "      <td>150000.000000</td>\n",
       "    </tr>\n",
       "  </tbody>\n",
       "</table>\n",
       "</div>"
      ],
      "text/plain": [
       "              Price  RegistrationYear        Power      Kilometer\n",
       "count   8380.000000            8380.0  8380.000000    8380.000000\n",
       "mean    2308.437709            2016.0    99.740334  134697.494033\n",
       "std     3090.991489               0.0    40.468207   35200.664512\n",
       "min      100.000000            2016.0    51.000000    5000.000000\n",
       "25%      500.000000            2016.0    75.000000  150000.000000\n",
       "50%     1100.000000            2016.0    90.000000  150000.000000\n",
       "75%     2700.000000            2016.0   116.000000  150000.000000\n",
       "max    20000.000000            2016.0   387.000000  150000.000000"
      ]
     },
     "execution_count": 139,
     "metadata": {},
     "output_type": "execute_result"
    }
   ],
   "source": [
    "data.describe()"
   ]
  },
  {
   "cell_type": "code",
   "execution_count": 140,
   "metadata": {},
   "outputs": [
    {
     "data": {
      "text/plain": [
       "<AxesSubplot:>"
      ]
     },
     "execution_count": 140,
     "metadata": {},
     "output_type": "execute_result"
    },
    {
     "data": {
      "image/png": "[encoded data removed]",
      "text/plain": [
       "<Figure size 432x288 with 1 Axes>"
      ]
     },
     "metadata": {
      "needs_background": "light"
     },
     "output_type": "display_data"
    }
   ],
   "source": [
    "#Посмотрим как колчиество авто от типа топлива\n",
    "\n",
    "data['FuelType'].value_counts().plot(kind='bar')"
   ]
  },
  {
   "cell_type": "markdown",
   "metadata": {},
   "source": [
    "Ожидаемо больше всего бензиновых авто в объявлениях"
   ]
  },
  {
   "cell_type": "code",
   "execution_count": 141,
   "metadata": {},
   "outputs": [
    {
     "name": "stdout",
     "output_type": "stream",
     "text": [
      "<class 'pandas.core.frame.DataFrame'>\n",
      "Int64Index: 8380 entries, 16 to 354361\n",
      "Data columns (total 10 columns):\n",
      " #   Column            Non-Null Count  Dtype  \n",
      "---  ------            --------------  -----  \n",
      " 0   Price             8380 non-null   int64  \n",
      " 1   VehicleType       8380 non-null   object \n",
      " 2   RegistrationYear  8380 non-null   int64  \n",
      " 3   Gearbox           8380 non-null   object \n",
      " 4   Power             8380 non-null   float64\n",
      " 5   Model             8380 non-null   object \n",
      " 6   Kilometer         8380 non-null   int64  \n",
      " 7   FuelType          8380 non-null   object \n",
      " 8   Brand             8380 non-null   object \n",
      " 9   NotRepaired       8380 non-null   object \n",
      "dtypes: float64(1), int64(3), object(6)\n",
      "memory usage: 720.2+ KB\n"
     ]
    }
   ],
   "source": [
    "data.info()"
   ]
  },
  {
   "cell_type": "code",
   "execution_count": 142,
   "metadata": {},
   "outputs": [
    {
     "data": {
      "text/plain": [
       "Text(0.5, 1.0, \"['Количество', 8380]\")"
      ]
     },
     "execution_count": 142,
     "metadata": {},
     "output_type": "execute_result"
    },
    {
     "data": {
      "image/png": "[encoded data removed]",
      "text/plain": [
       "<Figure size 432x288 with 1 Axes>"
      ]
     },
     "metadata": {
      "needs_background": "light"
     },
     "output_type": "display_data"
    }
   ],
   "source": [
    "#\n",
    "data.query('1900 <= RegistrationYear <= 2022')['RegistrationYear'].plot(kind='hist', bins=100)\n",
    "plt.xlabel('Год')\n",
    "plt.title(['Количество', data.query('1900 <= RegistrationYear <= 2022')['RegistrationYear'].count()])"
   ]
  },
  {
   "cell_type": "code",
   "execution_count": 143,
   "metadata": {},
   "outputs": [
    {
     "data": {
      "text/html": [
       "<div>\n",
       "<style scoped>\n",
       "    .dataframe tbody tr th:only-of-type {\n",
       "        vertical-align: middle;\n",
       "    }\n",
       "\n",
       "    .dataframe tbody tr th {\n",
       "        vertical-align: top;\n",
       "    }\n",
       "\n",
       "    .dataframe thead th {\n",
       "        text-align: right;\n",
       "    }\n",
       "</style>\n",
       "<table border=\"1\" class=\"dataframe\">\n",
       "  <thead>\n",
       "    <tr style=\"text-align: right;\">\n",
       "      <th></th>\n",
       "      <th>Price</th>\n",
       "      <th>RegistrationYear</th>\n",
       "      <th>Power</th>\n",
       "      <th>Kilometer</th>\n",
       "    </tr>\n",
       "  </thead>\n",
       "  <tbody>\n",
       "    <tr>\n",
       "      <th>Price</th>\n",
       "      <td>1.000000</td>\n",
       "      <td>NaN</td>\n",
       "      <td>0.424674</td>\n",
       "      <td>-0.372572</td>\n",
       "    </tr>\n",
       "    <tr>\n",
       "      <th>RegistrationYear</th>\n",
       "      <td>NaN</td>\n",
       "      <td>NaN</td>\n",
       "      <td>NaN</td>\n",
       "      <td>NaN</td>\n",
       "    </tr>\n",
       "    <tr>\n",
       "      <th>Power</th>\n",
       "      <td>0.424674</td>\n",
       "      <td>NaN</td>\n",
       "      <td>1.000000</td>\n",
       "      <td>0.039372</td>\n",
       "    </tr>\n",
       "    <tr>\n",
       "      <th>Kilometer</th>\n",
       "      <td>-0.372572</td>\n",
       "      <td>NaN</td>\n",
       "      <td>0.039372</td>\n",
       "      <td>1.000000</td>\n",
       "    </tr>\n",
       "  </tbody>\n",
       "</table>\n",
       "</div>"
      ],
      "text/plain": [
       "                     Price  RegistrationYear     Power  Kilometer\n",
       "Price             1.000000               NaN  0.424674  -0.372572\n",
       "RegistrationYear       NaN               NaN       NaN        NaN\n",
       "Power             0.424674               NaN  1.000000   0.039372\n",
       "Kilometer        -0.372572               NaN  0.039372   1.000000"
      ]
     },
     "execution_count": 143,
     "metadata": {},
     "output_type": "execute_result"
    }
   ],
   "source": [
    "# Посмотрим корреляцию\n",
    "data.corr()\n"
   ]
  },
  {
   "cell_type": "markdown",
   "metadata": {},
   "source": [
    "\n",
    "Наблюдаем умеренную корреляцию между ценой и годом авто, а также между ценой и мощностью авто. \n",
    "\n",
    "Есть обратная умеренная корреляция между ценой и пробегом."
   ]
  },
  {
   "cell_type": "code",
   "execution_count": 144,
   "metadata": {
    "scrolled": true
   },
   "outputs": [
    {
     "name": "stderr",
     "output_type": "stream",
     "text": [
      "/opt/conda/lib/python3.9/site-packages/pandas/plotting/_matplotlib/misc.py:89: UserWarning: Attempting to set identical left == right == 2016.0 results in singular transformations; automatically expanding.\n",
      "  ax.set_xlim(boundaries_list[j])\n",
      "/opt/conda/lib/python3.9/site-packages/pandas/plotting/_matplotlib/misc.py:90: UserWarning: Attempting to set identical bottom == top == 2016.0 results in singular transformations; automatically expanding.\n",
      "  ax.set_ylim(boundaries_list[i])\n",
      "/opt/conda/lib/python3.9/site-packages/pandas/plotting/_matplotlib/misc.py:80: UserWarning: Attempting to set identical left == right == 2016.0 results in singular transformations; automatically expanding.\n",
      "  ax.set_xlim(boundaries_list[i])\n"
     ]
    },
    {
     "data": {
      "text/plain": [
       "array([[<AxesSubplot:xlabel='Price', ylabel='Price'>,\n",
       "        <AxesSubplot:xlabel='RegistrationYear', ylabel='Price'>,\n",
       "        <AxesSubplot:xlabel='Power', ylabel='Price'>,\n",
       "        <AxesSubplot:xlabel='Kilometer', ylabel='Price'>],\n",
       "       [<AxesSubplot:xlabel='Price', ylabel='RegistrationYear'>,\n",
       "        <AxesSubplot:xlabel='RegistrationYear', ylabel='RegistrationYear'>,\n",
       "        <AxesSubplot:xlabel='Power', ylabel='RegistrationYear'>,\n",
       "        <AxesSubplot:xlabel='Kilometer', ylabel='RegistrationYear'>],\n",
       "       [<AxesSubplot:xlabel='Price', ylabel='Power'>,\n",
       "        <AxesSubplot:xlabel='RegistrationYear', ylabel='Power'>,\n",
       "        <AxesSubplot:xlabel='Power', ylabel='Power'>,\n",
       "        <AxesSubplot:xlabel='Kilometer', ylabel='Power'>],\n",
       "       [<AxesSubplot:xlabel='Price', ylabel='Kilometer'>,\n",
       "        <AxesSubplot:xlabel='RegistrationYear', ylabel='Kilometer'>,\n",
       "        <AxesSubplot:xlabel='Power', ylabel='Kilometer'>,\n",
       "        <AxesSubplot:xlabel='Kilometer', ylabel='Kilometer'>]],\n",
       "      dtype=object)"
      ]
     },
     "execution_count": 144,
     "metadata": {},
     "output_type": "execute_result"
    },
    {
     "data": {
      "image/png": "[encoded data removed]",
      "text/plain": [
       "<Figure size 1152x1152 with 16 Axes>"
      ]
     },
     "metadata": {
      "needs_background": "light"
     },
     "output_type": "display_data"
    }
   ],
   "source": [
    "pd.plotting.scatter_matrix(data, figsize=(16,16))"
   ]
  },
  {
   "cell_type": "markdown",
   "metadata": {},
   "source": [
    "### Вывод\n",
    "\n",
    "* Загрзули данные \n",
    "* Удалили дубликаты\n",
    "* Выделили признаки для обучения модели\n",
    "* Избавились от пропусков\n",
    "* Проверили корреляцию , имеем умеренную корреляцию между целевым признаком \"Цена\" и признаками Год регистрации, Мощность и пробег."
   ]
  },
  {
   "cell_type": "markdown",
   "metadata": {},
   "source": [
    "## Обучение моделей"
   ]
  },
  {
   "cell_type": "code",
   "execution_count": 145,
   "metadata": {},
   "outputs": [],
   "source": [
    "# сделаем списки категориальных и количественных фичей\n",
    "numeric = ['RegistrationYear', 'Power', 'Kilometer' ]\n",
    "categorial = ['VehicleType', 'Gearbox', 'Model', 'FuelType', 'Brand', 'NotRepaired']"
   ]
  },
  {
   "cell_type": "code",
   "execution_count": 146,
   "metadata": {},
   "outputs": [],
   "source": [
    "# Признаки и целевой признак без кодирования\n",
    "features = data.drop(['Price'], axis=1)\n",
    "target = data['Price']"
   ]
  },
  {
   "cell_type": "code",
   "execution_count": 147,
   "metadata": {},
   "outputs": [],
   "source": [
    "# Некодированные тренировочная и тестовые выборки 75:25\n",
    "features_train, features_test, target_train, target_test = train_test_split(\n",
    "    features, target, test_size=0.25, random_state=12345)"
   ]
  },
  {
   "cell_type": "code",
   "execution_count": 148,
   "metadata": {},
   "outputs": [
    {
     "data": {
      "text/html": [
       "<div>\n",
       "<style scoped>\n",
       "    .dataframe tbody tr th:only-of-type {\n",
       "        vertical-align: middle;\n",
       "    }\n",
       "\n",
       "    .dataframe tbody tr th {\n",
       "        vertical-align: top;\n",
       "    }\n",
       "\n",
       "    .dataframe thead th {\n",
       "        text-align: right;\n",
       "    }\n",
       "</style>\n",
       "<table border=\"1\" class=\"dataframe\">\n",
       "  <thead>\n",
       "    <tr style=\"text-align: right;\">\n",
       "      <th></th>\n",
       "      <th>VehicleType</th>\n",
       "      <th>RegistrationYear</th>\n",
       "      <th>Gearbox</th>\n",
       "      <th>Power</th>\n",
       "      <th>Model</th>\n",
       "      <th>Kilometer</th>\n",
       "      <th>FuelType</th>\n",
       "      <th>Brand</th>\n",
       "      <th>NotRepaired</th>\n",
       "    </tr>\n",
       "  </thead>\n",
       "  <tbody>\n",
       "    <tr>\n",
       "      <th>225676</th>\n",
       "      <td>unknown</td>\n",
       "      <td>2016</td>\n",
       "      <td>manual</td>\n",
       "      <td>60.0</td>\n",
       "      <td>corsa</td>\n",
       "      <td>150000</td>\n",
       "      <td>petrol</td>\n",
       "      <td>opel</td>\n",
       "      <td>no</td>\n",
       "    </tr>\n",
       "    <tr>\n",
       "      <th>64861</th>\n",
       "      <td>unknown</td>\n",
       "      <td>2016</td>\n",
       "      <td>manual</td>\n",
       "      <td>174.0</td>\n",
       "      <td>a4</td>\n",
       "      <td>150000</td>\n",
       "      <td>petrol</td>\n",
       "      <td>audi</td>\n",
       "      <td>no</td>\n",
       "    </tr>\n",
       "    <tr>\n",
       "      <th>285707</th>\n",
       "      <td>unknown</td>\n",
       "      <td>2016</td>\n",
       "      <td>manual</td>\n",
       "      <td>109.0</td>\n",
       "      <td>scenic</td>\n",
       "      <td>150000</td>\n",
       "      <td>petrol</td>\n",
       "      <td>renault</td>\n",
       "      <td>no</td>\n",
       "    </tr>\n",
       "    <tr>\n",
       "      <th>267155</th>\n",
       "      <td>unknown</td>\n",
       "      <td>2016</td>\n",
       "      <td>manual</td>\n",
       "      <td>88.0</td>\n",
       "      <td>transporter</td>\n",
       "      <td>150000</td>\n",
       "      <td>petrol</td>\n",
       "      <td>volkswagen</td>\n",
       "      <td>no</td>\n",
       "    </tr>\n",
       "    <tr>\n",
       "      <th>60327</th>\n",
       "      <td>unknown</td>\n",
       "      <td>2016</td>\n",
       "      <td>manual</td>\n",
       "      <td>90.0</td>\n",
       "      <td>unknown</td>\n",
       "      <td>150000</td>\n",
       "      <td>petrol</td>\n",
       "      <td>opel</td>\n",
       "      <td>no</td>\n",
       "    </tr>\n",
       "    <tr>\n",
       "      <th>...</th>\n",
       "      <td>...</td>\n",
       "      <td>...</td>\n",
       "      <td>...</td>\n",
       "      <td>...</td>\n",
       "      <td>...</td>\n",
       "      <td>...</td>\n",
       "      <td>...</td>\n",
       "      <td>...</td>\n",
       "      <td>...</td>\n",
       "    </tr>\n",
       "    <tr>\n",
       "      <th>190821</th>\n",
       "      <td>unknown</td>\n",
       "      <td>2016</td>\n",
       "      <td>manual</td>\n",
       "      <td>230.0</td>\n",
       "      <td>3er</td>\n",
       "      <td>20000</td>\n",
       "      <td>petrol</td>\n",
       "      <td>bmw</td>\n",
       "      <td>yes</td>\n",
       "    </tr>\n",
       "    <tr>\n",
       "      <th>176051</th>\n",
       "      <td>unknown</td>\n",
       "      <td>2016</td>\n",
       "      <td>unknown</td>\n",
       "      <td>75.0</td>\n",
       "      <td>ibiza</td>\n",
       "      <td>150000</td>\n",
       "      <td>petrol</td>\n",
       "      <td>seat</td>\n",
       "      <td>no</td>\n",
       "    </tr>\n",
       "    <tr>\n",
       "      <th>150311</th>\n",
       "      <td>unknown</td>\n",
       "      <td>2016</td>\n",
       "      <td>manual</td>\n",
       "      <td>60.0</td>\n",
       "      <td>punto</td>\n",
       "      <td>125000</td>\n",
       "      <td>petrol</td>\n",
       "      <td>fiat</td>\n",
       "      <td>yes</td>\n",
       "    </tr>\n",
       "    <tr>\n",
       "      <th>93923</th>\n",
       "      <td>unknown</td>\n",
       "      <td>2016</td>\n",
       "      <td>manual</td>\n",
       "      <td>54.0</td>\n",
       "      <td>corsa</td>\n",
       "      <td>150000</td>\n",
       "      <td>petrol</td>\n",
       "      <td>opel</td>\n",
       "      <td>no</td>\n",
       "    </tr>\n",
       "    <tr>\n",
       "      <th>195340</th>\n",
       "      <td>unknown</td>\n",
       "      <td>2016</td>\n",
       "      <td>manual</td>\n",
       "      <td>82.0</td>\n",
       "      <td>a_klasse</td>\n",
       "      <td>150000</td>\n",
       "      <td>petrol</td>\n",
       "      <td>mercedes_benz</td>\n",
       "      <td>no</td>\n",
       "    </tr>\n",
       "  </tbody>\n",
       "</table>\n",
       "<p>6285 rows × 9 columns</p>\n",
       "</div>"
      ],
      "text/plain": [
       "       VehicleType  RegistrationYear  Gearbox  Power        Model  Kilometer  \\\n",
       "225676     unknown              2016   manual   60.0        corsa     150000   \n",
       "64861      unknown              2016   manual  174.0           a4     150000   \n",
       "285707     unknown              2016   manual  109.0       scenic     150000   \n",
       "267155     unknown              2016   manual   88.0  transporter     150000   \n",
       "60327      unknown              2016   manual   90.0      unknown     150000   \n",
       "...            ...               ...      ...    ...          ...        ...   \n",
       "190821     unknown              2016   manual  230.0          3er      20000   \n",
       "176051     unknown              2016  unknown   75.0        ibiza     150000   \n",
       "150311     unknown              2016   manual   60.0        punto     125000   \n",
       "93923      unknown              2016   manual   54.0        corsa     150000   \n",
       "195340     unknown              2016   manual   82.0     a_klasse     150000   \n",
       "\n",
       "       FuelType          Brand NotRepaired  \n",
       "225676   petrol           opel          no  \n",
       "64861    petrol           audi          no  \n",
       "285707   petrol        renault          no  \n",
       "267155   petrol     volkswagen          no  \n",
       "60327    petrol           opel          no  \n",
       "...         ...            ...         ...  \n",
       "190821   petrol            bmw         yes  \n",
       "176051   petrol           seat          no  \n",
       "150311   petrol           fiat         yes  \n",
       "93923    petrol           opel          no  \n",
       "195340   petrol  mercedes_benz          no  \n",
       "\n",
       "[6285 rows x 9 columns]"
      ]
     },
     "execution_count": 148,
     "metadata": {},
     "output_type": "execute_result"
    }
   ],
   "source": [
    "features_train"
   ]
  },
  {
   "cell_type": "markdown",
   "metadata": {},
   "source": [
    "# Ordinal Encoder\n"
   ]
  },
  {
   "cell_type": "code",
   "execution_count": 149,
   "metadata": {},
   "outputs": [],
   "source": [
    "#Создаём объект этой структуры данных.\n",
    "encoder = OrdinalEncoder()"
   ]
  },
  {
   "cell_type": "code",
   "execution_count": 150,
   "metadata": {},
   "outputs": [
    {
     "data": {
      "text/plain": [
       "OrdinalEncoder()"
      ]
     },
     "execution_count": 150,
     "metadata": {},
     "output_type": "execute_result"
    }
   ],
   "source": [
    "# \n",
    "encoder.fit(data[categorial])\n",
    "#encoder.fit(data)"
   ]
  },
  {
   "cell_type": "code",
   "execution_count": 151,
   "metadata": {},
   "outputs": [],
   "source": [
    "# Датасет с данными, обработанными  подрядоковым кодированием \n",
    "data_ordinal = pd.DataFrame(encoder.transform(data[categorial]), columns=[categorial], index=data.index)"
   ]
  },
  {
   "cell_type": "code",
   "execution_count": 152,
   "metadata": {},
   "outputs": [
    {
     "name": "stdout",
     "output_type": "stream",
     "text": [
      "<class 'pandas.core.frame.DataFrame'>\n",
      "Int64Index: 8380 entries, 16 to 354361\n",
      "Data columns (total 9 columns):\n",
      " #   Column            Non-Null Count  Dtype  \n",
      "---  ------            --------------  -----  \n",
      " 0   RegistrationYear  8380 non-null   int64  \n",
      " 1   Power             8380 non-null   float64\n",
      " 2   Kilometer         8380 non-null   int64  \n",
      " 3   (VehicleType,)    8380 non-null   float64\n",
      " 4   (Gearbox,)        8380 non-null   float64\n",
      " 5   (Model,)          8380 non-null   float64\n",
      " 6   (FuelType,)       8380 non-null   float64\n",
      " 7   (Brand,)          8380 non-null   float64\n",
      " 8   (NotRepaired,)    8380 non-null   float64\n",
      "dtypes: float64(7), int64(2)\n",
      "memory usage: 912.7 KB\n"
     ]
    }
   ],
   "source": [
    "data_ordinal = pd.merge(data[numeric], data_ordinal, how='outer', left_index=True, right_index=True)\n",
    "#data_ordinal = pd.concat((data[numeric], data_ordinal), join='outer', axis=1)\n",
    "data_ordinal.info()"
   ]
  },
  {
   "cell_type": "code",
   "execution_count": 153,
   "metadata": {},
   "outputs": [
    {
     "name": "stdout",
     "output_type": "stream",
     "text": [
      "<class 'pandas.core.frame.DataFrame'>\n",
      "Int64Index: 8380 entries, 16 to 354361\n",
      "Data columns (total 10 columns):\n",
      " #   Column            Non-Null Count  Dtype  \n",
      "---  ------            --------------  -----  \n",
      " 0   Price             8380 non-null   int64  \n",
      " 1   VehicleType       8380 non-null   object \n",
      " 2   RegistrationYear  8380 non-null   int64  \n",
      " 3   Gearbox           8380 non-null   object \n",
      " 4   Power             8380 non-null   float64\n",
      " 5   Model             8380 non-null   object \n",
      " 6   Kilometer         8380 non-null   int64  \n",
      " 7   FuelType          8380 non-null   object \n",
      " 8   Brand             8380 non-null   object \n",
      " 9   NotRepaired       8380 non-null   object \n",
      "dtypes: float64(1), int64(3), object(6)\n",
      "memory usage: 978.2+ KB\n"
     ]
    }
   ],
   "source": [
    "data.info()"
   ]
  },
  {
   "cell_type": "code",
   "execution_count": 154,
   "metadata": {},
   "outputs": [],
   "source": [
    "# Коированные тренировочная и тестовые выборки 75:25\n",
    "features_ordinal_train, features_ordinal_test, target_ordinal_train, target_ordinal_test = train_test_split(\n",
    "    data_ordinal, data['Price'], test_size=0.25, random_state=12345)"
   ]
  },
  {
   "cell_type": "code",
   "execution_count": 155,
   "metadata": {},
   "outputs": [
    {
     "name": "stdout",
     "output_type": "stream",
     "text": [
      "(6285, 9)\n",
      "(6285,)\n",
      "(2095, 9)\n",
      "(2095,)\n"
     ]
    }
   ],
   "source": [
    "print(features_ordinal_train.shape)\n",
    "print(target_ordinal_train.shape)\n",
    "\n",
    "print(features_ordinal_test.shape)\n",
    "print(target_ordinal_test.shape)"
   ]
  },
  {
   "cell_type": "code",
   "execution_count": 156,
   "metadata": {},
   "outputs": [],
   "source": [
    "# Масштабируем\n",
    "scaler_ordinal = StandardScaler()"
   ]
  },
  {
   "cell_type": "code",
   "execution_count": 157,
   "metadata": {},
   "outputs": [
    {
     "data": {
      "text/plain": [
       "StandardScaler()"
      ]
     },
     "execution_count": 157,
     "metadata": {},
     "output_type": "execute_result"
    }
   ],
   "source": [
    "scaler_ordinal.fit(features_ordinal_train)"
   ]
  },
  {
   "cell_type": "code",
   "execution_count": 158,
   "metadata": {},
   "outputs": [],
   "source": [
    "features_ordinal_train = scaler_ordinal.transform(features_ordinal_train)"
   ]
  },
  {
   "cell_type": "code",
   "execution_count": 159,
   "metadata": {},
   "outputs": [
    {
     "data": {
      "text/plain": [
       "array([[ 0.        , -0.98200431,  0.43178208, ...,  0.40865626,\n",
       "         0.09891912, -0.45882042],\n",
       "       [ 0.        ,  1.86128565,  0.43178208, ...,  0.40865626,\n",
       "        -1.75189912, -0.45882042],\n",
       "       [ 0.        ,  0.24011155,  0.43178208, ...,  0.40865626,\n",
       "         0.35130343, -0.45882042],\n",
       "       ...,\n",
       "       [ 0.        , -0.98200431, -0.28553405, ...,  0.40865626,\n",
       "        -1.07887431,  2.17950195],\n",
       "       [ 0.        , -1.13165115,  0.43178208, ...,  0.40865626,\n",
       "         0.09891912, -0.45882042],\n",
       "       [ 0.        , -0.43329923,  0.43178208, ...,  0.40865626,\n",
       "        -0.23759329, -0.45882042]])"
      ]
     },
     "execution_count": 159,
     "metadata": {},
     "output_type": "execute_result"
    }
   ],
   "source": [
    "features_ordinal_train"
   ]
  },
  {
   "cell_type": "code",
   "execution_count": 160,
   "metadata": {},
   "outputs": [],
   "source": [
    "features_ordinal_test = scaler_ordinal.transform(features_ordinal_test)"
   ]
  },
  {
   "cell_type": "code",
   "execution_count": 161,
   "metadata": {},
   "outputs": [
    {
     "data": {
      "text/plain": [
       "array([[ 0.        , -1.03188659,  0.43178208, ...,  0.40865626,\n",
       "         0.35130343, -0.45882042],\n",
       "       [ 0.        ,  0.04058243,  0.43178208, ...,  0.40865626,\n",
       "         1.19258445,  2.17950195],\n",
       "       [ 0.        , -1.13165115,  0.43178208, ...,  0.40865626,\n",
       "         0.09891912, -0.45882042],\n",
       "       ...,\n",
       "       [ 0.        , -0.98200431,  0.43178208, ...,  0.40865626,\n",
       "         0.18304722, -0.45882042],\n",
       "       [ 0.        , -0.98200431, -1.28977662, ...,  0.40865626,\n",
       "         0.09891912,  2.17950195],\n",
       "       [ 0.        ,  2.50975529,  0.43178208, ...,  0.40865626,\n",
       "         1.19258445, -0.45882042]])"
      ]
     },
     "execution_count": 161,
     "metadata": {},
     "output_type": "execute_result"
    }
   ],
   "source": [
    "features_ordinal_test"
   ]
  },
  {
   "cell_type": "markdown",
   "metadata": {},
   "source": [
    "# OHE - Прямое кодирование признаков"
   ]
  },
  {
   "cell_type": "code",
   "execution_count": 162,
   "metadata": {},
   "outputs": [
    {
     "name": "stdout",
     "output_type": "stream",
     "text": [
      "<class 'pandas.core.frame.DataFrame'>\n",
      "Int64Index: 8380 entries, 16 to 354361\n",
      "Columns: 250 entries, Price to NotRepaired_yes\n",
      "dtypes: float64(1), int64(3), uint8(246)\n",
      "memory usage: 2.5 MB\n"
     ]
    }
   ],
   "source": [
    "# Прямое кодирование признаков\n",
    "\n",
    "data_ohe = pd.get_dummies(data, drop_first=True)\n",
    "target_ohe = data_ohe['Price']\n",
    "features_ohe = data_ohe.drop('Price', axis=1)\n",
    "data_ohe.info()"
   ]
  },
  {
   "cell_type": "code",
   "execution_count": 163,
   "metadata": {},
   "outputs": [],
   "source": [
    "# Коированные тренировочная и тестовые выборки 75:25\n",
    "features_ohe_train, features_ohe_test, target_ohe_train, target_ohe_test = train_test_split(\n",
    "    features_ohe, target_ohe, test_size=0.25, random_state=12345)"
   ]
  },
  {
   "cell_type": "code",
   "execution_count": 164,
   "metadata": {},
   "outputs": [],
   "source": [
    "# масштабирование признаков\n",
    "scaler_ohe = StandardScaler()"
   ]
  },
  {
   "cell_type": "code",
   "execution_count": 165,
   "metadata": {},
   "outputs": [
    {
     "data": {
      "text/plain": [
       "StandardScaler()"
      ]
     },
     "execution_count": 165,
     "metadata": {},
     "output_type": "execute_result"
    }
   ],
   "source": [
    "# Масштабируем кодированные признаки\n",
    "#Было\n",
    "#scaler_ohe.fit(features_ohe[numeric])\n",
    "# Стало\n",
    "# fit() на train выборке\n",
    "scaler_ohe.fit(features_ohe_train[numeric])\n"
   ]
  },
  {
   "cell_type": "code",
   "execution_count": 166,
   "metadata": {},
   "outputs": [
    {
     "name": "stdout",
     "output_type": "stream",
     "text": [
      "<class 'pandas.core.frame.DataFrame'>\n",
      "Int64Index: 6285 entries, 225676 to 195340\n",
      "Columns: 249 entries, RegistrationYear to NotRepaired_yes\n",
      "dtypes: float64(3), uint8(246)\n",
      "memory usage: 1.7 MB\n"
     ]
    }
   ],
   "source": [
    "# transform() на train и test выборках\n",
    "features_ohe_train[numeric] = scaler_ohe.transform(features_ohe_train[numeric])\n",
    "features_ohe_train.info()"
   ]
  },
  {
   "cell_type": "code",
   "execution_count": 167,
   "metadata": {},
   "outputs": [
    {
     "data": {
      "text/html": [
       "<div>\n",
       "<style scoped>\n",
       "    .dataframe tbody tr th:only-of-type {\n",
       "        vertical-align: middle;\n",
       "    }\n",
       "\n",
       "    .dataframe tbody tr th {\n",
       "        vertical-align: top;\n",
       "    }\n",
       "\n",
       "    .dataframe thead th {\n",
       "        text-align: right;\n",
       "    }\n",
       "</style>\n",
       "<table border=\"1\" class=\"dataframe\">\n",
       "  <thead>\n",
       "    <tr style=\"text-align: right;\">\n",
       "      <th></th>\n",
       "      <th>RegistrationYear</th>\n",
       "      <th>Power</th>\n",
       "      <th>Kilometer</th>\n",
       "      <th>VehicleType_convertible</th>\n",
       "      <th>VehicleType_coupe</th>\n",
       "      <th>VehicleType_other</th>\n",
       "      <th>VehicleType_sedan</th>\n",
       "      <th>VehicleType_small</th>\n",
       "      <th>VehicleType_suv</th>\n",
       "      <th>VehicleType_unknown</th>\n",
       "      <th>...</th>\n",
       "      <th>Brand_seat</th>\n",
       "      <th>Brand_skoda</th>\n",
       "      <th>Brand_smart</th>\n",
       "      <th>Brand_sonstige_autos</th>\n",
       "      <th>Brand_subaru</th>\n",
       "      <th>Brand_suzuki</th>\n",
       "      <th>Brand_toyota</th>\n",
       "      <th>Brand_volkswagen</th>\n",
       "      <th>Brand_volvo</th>\n",
       "      <th>NotRepaired_yes</th>\n",
       "    </tr>\n",
       "  </thead>\n",
       "  <tbody>\n",
       "    <tr>\n",
       "      <th>252534</th>\n",
       "      <td>0.0</td>\n",
       "      <td>-1.031887</td>\n",
       "      <td>0.431782</td>\n",
       "      <td>0</td>\n",
       "      <td>0</td>\n",
       "      <td>0</td>\n",
       "      <td>0</td>\n",
       "      <td>0</td>\n",
       "      <td>0</td>\n",
       "      <td>1</td>\n",
       "      <td>...</td>\n",
       "      <td>0</td>\n",
       "      <td>0</td>\n",
       "      <td>0</td>\n",
       "      <td>0</td>\n",
       "      <td>0</td>\n",
       "      <td>0</td>\n",
       "      <td>0</td>\n",
       "      <td>0</td>\n",
       "      <td>0</td>\n",
       "      <td>0</td>\n",
       "    </tr>\n",
       "    <tr>\n",
       "      <th>103995</th>\n",
       "      <td>0.0</td>\n",
       "      <td>0.040582</td>\n",
       "      <td>0.431782</td>\n",
       "      <td>0</td>\n",
       "      <td>0</td>\n",
       "      <td>0</td>\n",
       "      <td>0</td>\n",
       "      <td>0</td>\n",
       "      <td>0</td>\n",
       "      <td>1</td>\n",
       "      <td>...</td>\n",
       "      <td>0</td>\n",
       "      <td>0</td>\n",
       "      <td>0</td>\n",
       "      <td>0</td>\n",
       "      <td>0</td>\n",
       "      <td>0</td>\n",
       "      <td>0</td>\n",
       "      <td>1</td>\n",
       "      <td>0</td>\n",
       "      <td>1</td>\n",
       "    </tr>\n",
       "    <tr>\n",
       "      <th>165328</th>\n",
       "      <td>0.0</td>\n",
       "      <td>-1.131651</td>\n",
       "      <td>0.431782</td>\n",
       "      <td>0</td>\n",
       "      <td>0</td>\n",
       "      <td>0</td>\n",
       "      <td>0</td>\n",
       "      <td>0</td>\n",
       "      <td>0</td>\n",
       "      <td>1</td>\n",
       "      <td>...</td>\n",
       "      <td>0</td>\n",
       "      <td>0</td>\n",
       "      <td>0</td>\n",
       "      <td>0</td>\n",
       "      <td>0</td>\n",
       "      <td>0</td>\n",
       "      <td>0</td>\n",
       "      <td>0</td>\n",
       "      <td>0</td>\n",
       "      <td>0</td>\n",
       "    </tr>\n",
       "    <tr>\n",
       "      <th>246504</th>\n",
       "      <td>0.0</td>\n",
       "      <td>3.756812</td>\n",
       "      <td>-1.289777</td>\n",
       "      <td>0</td>\n",
       "      <td>0</td>\n",
       "      <td>0</td>\n",
       "      <td>0</td>\n",
       "      <td>0</td>\n",
       "      <td>0</td>\n",
       "      <td>1</td>\n",
       "      <td>...</td>\n",
       "      <td>0</td>\n",
       "      <td>0</td>\n",
       "      <td>0</td>\n",
       "      <td>0</td>\n",
       "      <td>0</td>\n",
       "      <td>0</td>\n",
       "      <td>0</td>\n",
       "      <td>0</td>\n",
       "      <td>0</td>\n",
       "      <td>0</td>\n",
       "    </tr>\n",
       "    <tr>\n",
       "      <th>57266</th>\n",
       "      <td>0.0</td>\n",
       "      <td>0.514464</td>\n",
       "      <td>0.431782</td>\n",
       "      <td>0</td>\n",
       "      <td>0</td>\n",
       "      <td>0</td>\n",
       "      <td>0</td>\n",
       "      <td>0</td>\n",
       "      <td>0</td>\n",
       "      <td>1</td>\n",
       "      <td>...</td>\n",
       "      <td>0</td>\n",
       "      <td>0</td>\n",
       "      <td>0</td>\n",
       "      <td>0</td>\n",
       "      <td>0</td>\n",
       "      <td>0</td>\n",
       "      <td>0</td>\n",
       "      <td>0</td>\n",
       "      <td>0</td>\n",
       "      <td>0</td>\n",
       "    </tr>\n",
       "    <tr>\n",
       "      <th>...</th>\n",
       "      <td>...</td>\n",
       "      <td>...</td>\n",
       "      <td>...</td>\n",
       "      <td>...</td>\n",
       "      <td>...</td>\n",
       "      <td>...</td>\n",
       "      <td>...</td>\n",
       "      <td>...</td>\n",
       "      <td>...</td>\n",
       "      <td>...</td>\n",
       "      <td>...</td>\n",
       "      <td>...</td>\n",
       "      <td>...</td>\n",
       "      <td>...</td>\n",
       "      <td>...</td>\n",
       "      <td>...</td>\n",
       "      <td>...</td>\n",
       "      <td>...</td>\n",
       "      <td>...</td>\n",
       "      <td>...</td>\n",
       "      <td>...</td>\n",
       "    </tr>\n",
       "    <tr>\n",
       "      <th>2618</th>\n",
       "      <td>0.0</td>\n",
       "      <td>-0.607887</td>\n",
       "      <td>-0.285534</td>\n",
       "      <td>0</td>\n",
       "      <td>0</td>\n",
       "      <td>0</td>\n",
       "      <td>0</td>\n",
       "      <td>0</td>\n",
       "      <td>0</td>\n",
       "      <td>1</td>\n",
       "      <td>...</td>\n",
       "      <td>0</td>\n",
       "      <td>0</td>\n",
       "      <td>0</td>\n",
       "      <td>0</td>\n",
       "      <td>0</td>\n",
       "      <td>0</td>\n",
       "      <td>0</td>\n",
       "      <td>0</td>\n",
       "      <td>0</td>\n",
       "      <td>0</td>\n",
       "    </tr>\n",
       "    <tr>\n",
       "      <th>75795</th>\n",
       "      <td>0.0</td>\n",
       "      <td>-1.106710</td>\n",
       "      <td>0.431782</td>\n",
       "      <td>0</td>\n",
       "      <td>0</td>\n",
       "      <td>0</td>\n",
       "      <td>0</td>\n",
       "      <td>0</td>\n",
       "      <td>0</td>\n",
       "      <td>1</td>\n",
       "      <td>...</td>\n",
       "      <td>1</td>\n",
       "      <td>0</td>\n",
       "      <td>0</td>\n",
       "      <td>0</td>\n",
       "      <td>0</td>\n",
       "      <td>0</td>\n",
       "      <td>0</td>\n",
       "      <td>0</td>\n",
       "      <td>0</td>\n",
       "      <td>0</td>\n",
       "    </tr>\n",
       "    <tr>\n",
       "      <th>116945</th>\n",
       "      <td>0.0</td>\n",
       "      <td>-0.982004</td>\n",
       "      <td>0.431782</td>\n",
       "      <td>0</td>\n",
       "      <td>0</td>\n",
       "      <td>0</td>\n",
       "      <td>0</td>\n",
       "      <td>0</td>\n",
       "      <td>0</td>\n",
       "      <td>1</td>\n",
       "      <td>...</td>\n",
       "      <td>0</td>\n",
       "      <td>0</td>\n",
       "      <td>0</td>\n",
       "      <td>0</td>\n",
       "      <td>0</td>\n",
       "      <td>0</td>\n",
       "      <td>0</td>\n",
       "      <td>0</td>\n",
       "      <td>0</td>\n",
       "      <td>0</td>\n",
       "    </tr>\n",
       "    <tr>\n",
       "      <th>307259</th>\n",
       "      <td>0.0</td>\n",
       "      <td>-0.982004</td>\n",
       "      <td>-1.289777</td>\n",
       "      <td>0</td>\n",
       "      <td>0</td>\n",
       "      <td>0</td>\n",
       "      <td>0</td>\n",
       "      <td>0</td>\n",
       "      <td>0</td>\n",
       "      <td>1</td>\n",
       "      <td>...</td>\n",
       "      <td>0</td>\n",
       "      <td>0</td>\n",
       "      <td>0</td>\n",
       "      <td>0</td>\n",
       "      <td>0</td>\n",
       "      <td>0</td>\n",
       "      <td>0</td>\n",
       "      <td>0</td>\n",
       "      <td>0</td>\n",
       "      <td>1</td>\n",
       "    </tr>\n",
       "    <tr>\n",
       "      <th>214515</th>\n",
       "      <td>0.0</td>\n",
       "      <td>2.509755</td>\n",
       "      <td>0.431782</td>\n",
       "      <td>0</td>\n",
       "      <td>0</td>\n",
       "      <td>0</td>\n",
       "      <td>0</td>\n",
       "      <td>0</td>\n",
       "      <td>0</td>\n",
       "      <td>1</td>\n",
       "      <td>...</td>\n",
       "      <td>0</td>\n",
       "      <td>0</td>\n",
       "      <td>0</td>\n",
       "      <td>0</td>\n",
       "      <td>0</td>\n",
       "      <td>0</td>\n",
       "      <td>0</td>\n",
       "      <td>1</td>\n",
       "      <td>0</td>\n",
       "      <td>0</td>\n",
       "    </tr>\n",
       "  </tbody>\n",
       "</table>\n",
       "<p>2095 rows × 249 columns</p>\n",
       "</div>"
      ],
      "text/plain": [
       "        RegistrationYear     Power  Kilometer  VehicleType_convertible  \\\n",
       "252534               0.0 -1.031887   0.431782                        0   \n",
       "103995               0.0  0.040582   0.431782                        0   \n",
       "165328               0.0 -1.131651   0.431782                        0   \n",
       "246504               0.0  3.756812  -1.289777                        0   \n",
       "57266                0.0  0.514464   0.431782                        0   \n",
       "...                  ...       ...        ...                      ...   \n",
       "2618                 0.0 -0.607887  -0.285534                        0   \n",
       "75795                0.0 -1.106710   0.431782                        0   \n",
       "116945               0.0 -0.982004   0.431782                        0   \n",
       "307259               0.0 -0.982004  -1.289777                        0   \n",
       "214515               0.0  2.509755   0.431782                        0   \n",
       "\n",
       "        VehicleType_coupe  VehicleType_other  VehicleType_sedan  \\\n",
       "252534                  0                  0                  0   \n",
       "103995                  0                  0                  0   \n",
       "165328                  0                  0                  0   \n",
       "246504                  0                  0                  0   \n",
       "57266                   0                  0                  0   \n",
       "...                   ...                ...                ...   \n",
       "2618                    0                  0                  0   \n",
       "75795                   0                  0                  0   \n",
       "116945                  0                  0                  0   \n",
       "307259                  0                  0                  0   \n",
       "214515                  0                  0                  0   \n",
       "\n",
       "        VehicleType_small  VehicleType_suv  VehicleType_unknown  ...  \\\n",
       "252534                  0                0                    1  ...   \n",
       "103995                  0                0                    1  ...   \n",
       "165328                  0                0                    1  ...   \n",
       "246504                  0                0                    1  ...   \n",
       "57266                   0                0                    1  ...   \n",
       "...                   ...              ...                  ...  ...   \n",
       "2618                    0                0                    1  ...   \n",
       "75795                   0                0                    1  ...   \n",
       "116945                  0                0                    1  ...   \n",
       "307259                  0                0                    1  ...   \n",
       "214515                  0                0                    1  ...   \n",
       "\n",
       "        Brand_seat  Brand_skoda  Brand_smart  Brand_sonstige_autos  \\\n",
       "252534           0            0            0                     0   \n",
       "103995           0            0            0                     0   \n",
       "165328           0            0            0                     0   \n",
       "246504           0            0            0                     0   \n",
       "57266            0            0            0                     0   \n",
       "...            ...          ...          ...                   ...   \n",
       "2618             0            0            0                     0   \n",
       "75795            1            0            0                     0   \n",
       "116945           0            0            0                     0   \n",
       "307259           0            0            0                     0   \n",
       "214515           0            0            0                     0   \n",
       "\n",
       "        Brand_subaru  Brand_suzuki  Brand_toyota  Brand_volkswagen  \\\n",
       "252534             0             0             0                 0   \n",
       "103995             0             0             0                 1   \n",
       "165328             0             0             0                 0   \n",
       "246504             0             0             0                 0   \n",
       "57266              0             0             0                 0   \n",
       "...              ...           ...           ...               ...   \n",
       "2618               0             0             0                 0   \n",
       "75795              0             0             0                 0   \n",
       "116945             0             0             0                 0   \n",
       "307259             0             0             0                 0   \n",
       "214515             0             0             0                 1   \n",
       "\n",
       "        Brand_volvo  NotRepaired_yes  \n",
       "252534            0                0  \n",
       "103995            0                1  \n",
       "165328            0                0  \n",
       "246504            0                0  \n",
       "57266             0                0  \n",
       "...             ...              ...  \n",
       "2618              0                0  \n",
       "75795             0                0  \n",
       "116945            0                0  \n",
       "307259            0                1  \n",
       "214515            0                0  \n",
       "\n",
       "[2095 rows x 249 columns]"
      ]
     },
     "execution_count": 167,
     "metadata": {},
     "output_type": "execute_result"
    }
   ],
   "source": [
    "# тестовую выборку тоже\n",
    "# transform() на train и test выборках\n",
    "features_ohe_test[numeric] = scaler_ohe.transform(features_ohe_test[numeric])\n",
    "features_ohe_test"
   ]
  },
  {
   "cell_type": "markdown",
   "metadata": {},
   "source": [
    "~~# Сделали прямое кодирование признаков\n",
    "features_ohe[numeric] = scaler_ohe.transform(features_ohe[numeric])\n",
    "features_ohe~~"
   ]
  },
  {
   "cell_type": "markdown",
   "metadata": {},
   "source": [
    "~~# Коированные тренировочная и тестовые выборки 75:25\n",
    "features_ohe_train, features_ohe_test, target_ohe_train, target_ohe_test = train_test_split(\n",
    "    features_ohe, target_ohe, test_size=0.25, random_state=12345)~~"
   ]
  },
  {
   "cell_type": "code",
   "execution_count": 168,
   "metadata": {},
   "outputs": [],
   "source": [
    "# Функция обучения и предсказания, на вход принимает алгоритм, признаки, целевой признак и параметры\n",
    "# возвращает словарь с данными о времени обучения и rmse\n",
    "def fit_predict(algo, X_train, y_train, X_test, y_test, parametrs):\n",
    "\n",
    "    tt = []\n",
    "    if algo == LinearRegression:\n",
    "        model_grid = algo()\n",
    "\n",
    "    else:\n",
    "        model = algo()\n",
    "\n",
    "        model_grid = GridSearchCV(model, parametrs, cv=5, n_jobs=-1, scoring='neg_root_mean_squared_error')\n",
    "#        model_grid = cross_val_score(model, fit_params=parametrs, cv=5, n_jobs=-1, scoring='neg_root_mean_squared_error')\n",
    "\n",
    "    start_fit = time.time()\n",
    "    model_grid_best = model_grid.fit(X_train, y_train)\n",
    "\n",
    "    stop_fit = time.time()\n",
    "    start_pred =  time.time()\n",
    "    predicted = model_grid_best.predict(X_test)\n",
    "    stop_pred = time.time()\n",
    "    rmse = mean_squared_error(y_test, predicted) ** 0.5\n",
    "    time_fit = stop_fit - start_fit\n",
    "    time_predict = stop_pred - start_pred\n",
    "    t = {'algo' : algo,\n",
    "         'time_fit': time_fit,\n",
    "         'time_predict': time_predict,\n",
    "         'rmse': rmse\n",
    "        }\n",
    "    tt = [algo, time_fit, time_predict, rmse]\n",
    "    return t"
   ]
  },
  {
   "cell_type": "code",
   "execution_count": 169,
   "metadata": {},
   "outputs": [],
   "source": [
    "# Функция перебора кросс валидацией  -  не работает....\n",
    "def fit_predict_cv(algo, X_train, y_train, range_param, param):\n",
    "\n",
    "    tt = []\n",
    "    if algo == LinearRegression:\n",
    "        best_model_rmse = algo()\n",
    "        start_fit = time.time()\n",
    "        best_model_rmse.fit(X_train, y_train)\n",
    "        stop_fit = time.time()\n",
    "        start_pred =  time.time()\n",
    "        predicted = best_model_rmse.predict(X_train)\n",
    "        stop_pred = time.time()\n",
    "        time_fit = stop_fit - start_fit\n",
    "        time_predict = stop_pred - start_pred\n",
    "        best_rmse = mean_squared_error(predicted, y_train) ** 0.5\n",
    "\n",
    "    else:\n",
    "        model_cv = algo()\n",
    "\n",
    "#         model_grid = GridSearchCV(model, parametrs, cv=5, n_jobs=-1, scoring='neg_root_mean_squared_error')\n",
    "        best_rmse_cv = 2500\n",
    "        for depth in tqdm(range_param):\n",
    "#             model_cv = model_cv()\n",
    "            rmse_cv = ((cross_val_score(model_cv, features_ohe_train,target_ohe_train, cv=5, scoring='neg_mean_squared_error')).mean() * -1) ** 0.5\n",
    "\n",
    "            print(rmse_cv)\n",
    "            start_fit = time.time()\n",
    "            model = model_cv.fit(X_train, y_train)\n",
    "            stop_fit = time.time()\n",
    "            start_pred =  time.time()\n",
    "            predicted = model_cv.predict(X_train)\n",
    "            stop_pred = time.time()\n",
    "            if rmse_cv < best_rmse_cv:\n",
    "                best_model_rmse = model\n",
    "                best_depth_rmse = depth\n",
    "                best_rmse = rmse_cv\n",
    "                time_fit = stop_fit - start_fit\n",
    "                time_predict = stop_pred - start_pred\n",
    "\n",
    "    t = {'algo' : algo,\n",
    "         'time_fit': time_fit,\n",
    "         'time_predict': time_predict,\n",
    "         'rmse': best_rmse\n",
    "        }\n",
    "    print(t)\n",
    "    return t, best_model_rmse"
   ]
  },
  {
   "cell_type": "code",
   "execution_count": 170,
   "metadata": {},
   "outputs": [],
   "source": [
    "# Создадим список словарей с результатами по каждой модели\n",
    "\n",
    "all_algo = []"
   ]
  },
  {
   "cell_type": "markdown",
   "metadata": {},
   "source": [
    "**Линейная регрессия**"
   ]
  },
  {
   "cell_type": "code",
   "execution_count": 171,
   "metadata": {},
   "outputs": [
    {
     "name": "stdout",
     "output_type": "stream",
     "text": [
      "5.18 s ± 0 ns per loop (mean ± std. dev. of 1 run, 1 loop each)\n",
      "CPU times: user 1.24 s, sys: 4.01 s, total: 5.25 s\n",
      "Wall time: 5.18 s\n"
     ]
    }
   ],
   "source": [
    "%%time\n",
    "# Обучим линейную регрессию на кодированной выборке\n",
    "# Измерим время обучения\n",
    "model = LinearRegression()\n",
    "time_fit_lr = %timeit -o -n 1  -r 1 model.fit(features_ohe_train, target_ohe_train)"
   ]
  },
  {
   "cell_type": "code",
   "execution_count": 172,
   "metadata": {},
   "outputs": [
    {
     "data": {
      "text/plain": [
       "<TimeitResult : 5.18 s ± 0 ns per loop (mean ± std. dev. of 1 run, 1 loop each)>"
      ]
     },
     "execution_count": 172,
     "metadata": {},
     "output_type": "execute_result"
    }
   ],
   "source": [
    "# Сохраним время обучения \n",
    "time_fit_lr"
   ]
  },
  {
   "cell_type": "code",
   "execution_count": 173,
   "metadata": {},
   "outputs": [
    {
     "data": {
      "text/plain": [
       "['5.18', 's', '± 0 ns per loop (mean ± std. dev. of 1 run, 1 loop each)']"
      ]
     },
     "execution_count": 173,
     "metadata": {},
     "output_type": "execute_result"
    }
   ],
   "source": [
    "# Сохраним время обучения \n",
    "time_fit_lr = str(time_fit_lr).split(maxsplit=2)\n",
    "time_fit_lr"
   ]
  },
  {
   "cell_type": "code",
   "execution_count": 174,
   "metadata": {},
   "outputs": [
    {
     "name": "stdout",
     "output_type": "stream",
     "text": [
      "94.9 ms ± 0 ns per loop (mean ± std. dev. of 1 run, 1 loop each)\n",
      "CPU times: user 38.7 ms, sys: 143 ms, total: 182 ms\n",
      "Wall time: 98.9 ms\n"
     ]
    }
   ],
   "source": [
    "%%time\n",
    "# Сделаем предсказания, посчитаем RMSE\n",
    "lime_predict_lr = %timeit -o -n 1 -r 1 predict = model.predict(features_ohe_train)"
   ]
  },
  {
   "cell_type": "code",
   "execution_count": 175,
   "metadata": {},
   "outputs": [
    {
     "data": {
      "text/plain": [
       "['94.9', 'ms', '± 0 ns per loop (mean ± std. dev. of 1 run, 1 loop each)']"
      ]
     },
     "execution_count": 175,
     "metadata": {},
     "output_type": "execute_result"
    }
   ],
   "source": [
    "lime_predict_lr = str(lime_predict_lr).split(maxsplit=2)\n",
    "lime_predict_lr"
   ]
  },
  {
   "cell_type": "code",
   "execution_count": 176,
   "metadata": {},
   "outputs": [],
   "source": [
    "predict = model.predict(features_ohe_train)\n",
    "rmse = mean_squared_error(predict, target_ohe_train) ** 0.5"
   ]
  },
  {
   "cell_type": "code",
   "execution_count": 177,
   "metadata": {},
   "outputs": [],
   "source": [
    "# Посчитаем RMSE через кросс валидацию, улучшая метрику RMSE \n",
    "model_lr = LinearRegression()\n",
    "lr = ((cross_val_score(model_lr, features_ohe_train, target_ohe_train, scoring='neg_root_mean_squared_error', cv=5, n_jobs=-1))* -1).mean()"
   ]
  },
  {
   "cell_type": "code",
   "execution_count": 178,
   "metadata": {},
   "outputs": [
    {
     "data": {
      "text/plain": [
       "69044307849989.64"
      ]
     },
     "execution_count": 178,
     "metadata": {},
     "output_type": "execute_result"
    }
   ],
   "source": [
    "# Кросс валидация дала негативный результат...\n",
    "lr"
   ]
  },
  {
   "cell_type": "code",
   "execution_count": 179,
   "metadata": {},
   "outputs": [
    {
     "data": {
      "text/plain": [
       "{'algo': 'Линейная регрессия',\n",
       " 'time_fit': ['5.18', 's'],\n",
       " 'time_predict': ['94.9', 'ms'],\n",
       " 'rmse': 1945}"
      ]
     },
     "execution_count": 179,
     "metadata": {},
     "output_type": "execute_result"
    }
   ],
   "source": [
    "# Запишем результаты линейной регрессии\n",
    "lr_result_train = {}\n",
    "lr_result_train = {'algo' : 'Линейная регрессия',\n",
    "         'time_fit': time_fit_lr[:2],\n",
    "         'time_predict': lime_predict_lr[:2],\n",
    "         'rmse': round(rmse)\n",
    "        }\n",
    "lr_result_train"
   ]
  },
  {
   "cell_type": "code",
   "execution_count": 180,
   "metadata": {},
   "outputs": [],
   "source": [
    "all_algo.append(lr_result_train)"
   ]
  },
  {
   "cell_type": "markdown",
   "metadata": {},
   "source": [
    "\n",
    "\n",
    "**DeciseionTreeRegressor**"
   ]
  },
  {
   "cell_type": "code",
   "execution_count": 181,
   "metadata": {
    "scrolled": true
   },
   "outputs": [
    {
     "name": "stderr",
     "output_type": "stream",
     "text": [
      "100%|██████████| 9/9 [00:01<00:00,  6.78it/s]"
     ]
    },
    {
     "name": "stdout",
     "output_type": "stream",
     "text": [
      "2161.768470676679 6\n"
     ]
    },
    {
     "name": "stderr",
     "output_type": "stream",
     "text": [
      "\n"
     ]
    }
   ],
   "source": [
    "# Переберем параметры для решающего дерева\n",
    "# используем кросс валидацию\n",
    "best_rmse_dtr = 2500\n",
    "for depth in tqdm(range(1,10)):\n",
    "    model = DecisionTreeRegressor(random_state=12345, max_depth=depth)\n",
    "\n",
    "    dtr = (((cross_val_score(model, features_ohe_train, target_ohe_train, cv=5, scoring='neg_root_mean_squared_error', n_jobs=-1))* -1).mean())\n",
    "\n",
    "    if dtr < best_rmse_dtr:\n",
    "        best_model_tree = model\n",
    "        best_depth_tree = depth\n",
    "        best_rmse_dtr = dtr\n",
    "print(best_rmse_dtr, best_depth_tree)"
   ]
  },
  {
   "cell_type": "code",
   "execution_count": 182,
   "metadata": {},
   "outputs": [
    {
     "name": "stdout",
     "output_type": "stream",
     "text": [
      "51.5 ms ± 0 ns per loop (mean ± std. dev. of 1 run, 1 loop each)\n"
     ]
    },
    {
     "data": {
      "text/plain": [
       "['51.5', 'ms']"
      ]
     },
     "execution_count": 182,
     "metadata": {},
     "output_type": "execute_result"
    }
   ],
   "source": [
    "# Обучим модель на подобранных параметрах\n",
    "model = DecisionTreeRegressor(random_state=12345, max_depth=9)\n",
    "time_fit_dtr = %timeit -o -n 1 -r 1 model.fit(features_ohe_train, target_ohe_train)\n",
    "time_fit_dtr = str(time_fit_dtr).split(maxsplit=2)\n",
    "time_fit_dtr[:2]"
   ]
  },
  {
   "cell_type": "code",
   "execution_count": 183,
   "metadata": {},
   "outputs": [
    {
     "name": "stdout",
     "output_type": "stream",
     "text": [
      "8.53 ms ± 0 ns per loop (mean ± std. dev. of 1 run, 1 loop each)\n"
     ]
    }
   ],
   "source": [
    "# Посчитаем время предсказания на тренировочной выборке\n",
    "time_predict_dtr = %timeit -o -n 1 -r 1 predict = model.predict(features_ohe_train)\n",
    "time_predict_dtr = str(time_predict_dtr).split(maxsplit=2)"
   ]
  },
  {
   "cell_type": "code",
   "execution_count": 184,
   "metadata": {},
   "outputs": [
    {
     "data": {
      "text/plain": [
       "1945.2870096872539"
      ]
     },
     "execution_count": 184,
     "metadata": {},
     "output_type": "execute_result"
    }
   ],
   "source": [
    "#Посчитаем RMSE Решающего дерева на тренировочной выбрке\n",
    "rmse = mean_squared_error(predict, target_ohe_train)**0.5\n",
    "rmse\n"
   ]
  },
  {
   "cell_type": "code",
   "execution_count": 185,
   "metadata": {},
   "outputs": [
    {
     "data": {
      "text/plain": [
       "{'algo': 'Решающее дерево',\n",
       " 'time_fit': ['51.5', 'ms'],\n",
       " 'time_predict': ['8.53', 'ms'],\n",
       " 'rmse': 2162}"
      ]
     },
     "execution_count": 185,
     "metadata": {},
     "output_type": "execute_result"
    }
   ],
   "source": [
    "# Запишем результаты\n",
    "\n",
    "dtr_result_train = {}\n",
    "dtr_result_train = {\n",
    "         'algo' : 'Решающее дерево',\n",
    "         'time_fit': time_fit_dtr[:2],\n",
    "         'time_predict': time_predict_dtr[:2],\n",
    "         'rmse': round(best_rmse_dtr)\n",
    "        }\n",
    "dtr_result_train"
   ]
  },
  {
   "cell_type": "code",
   "execution_count": 186,
   "metadata": {},
   "outputs": [],
   "source": [
    "#Добавим результаты  по решающему дереву в итоговую талицу\n",
    "#dtr['algo'] = 'Решающее дерево'\n",
    "all_algo.append(dtr_result_train)"
   ]
  },
  {
   "cell_type": "code",
   "execution_count": 187,
   "metadata": {},
   "outputs": [
    {
     "data": {
      "text/plain": [
       "[{'algo': 'Линейная регрессия',\n",
       "  'time_fit': ['5.18', 's'],\n",
       "  'time_predict': ['94.9', 'ms'],\n",
       "  'rmse': 1945},\n",
       " {'algo': 'Решающее дерево',\n",
       "  'time_fit': ['51.5', 'ms'],\n",
       "  'time_predict': ['8.53', 'ms'],\n",
       "  'rmse': 2162}]"
      ]
     },
     "execution_count": 187,
     "metadata": {},
     "output_type": "execute_result"
    }
   ],
   "source": [
    "all_algo"
   ]
  },
  {
   "cell_type": "markdown",
   "metadata": {},
   "source": [
    "**CatBoostRegressor**\n"
   ]
  },
  {
   "cell_type": "code",
   "execution_count": 188,
   "metadata": {},
   "outputs": [
    {
     "name": "stderr",
     "output_type": "stream",
     "text": [
      "100%|██████████| 9/9 [00:48<00:00,  5.35s/it]"
     ]
    },
    {
     "name": "stdout",
     "output_type": "stream",
     "text": [
      "1840.132700419122 8\n"
     ]
    },
    {
     "name": "stderr",
     "output_type": "stream",
     "text": [
      "\n"
     ]
    }
   ],
   "source": [
    "best_rmse_cbr = 2500\n",
    "for depth in tqdm(range(1,10)):\n",
    "    model = CatBoostRegressor(\n",
    "        random_state=12345,\n",
    "        verbose=False,\n",
    "        iterations=100,\n",
    "        learning_rate=0.5,\n",
    "        depth=depth\n",
    "                             )\n",
    "    cbr = (cross_val_score(model, features_ohe_train,target_ohe_train, cv=5, scoring='neg_root_mean_squared_error')).mean() * -1\n",
    "    \n",
    "    if cbr < best_rmse_cbr:\n",
    "        best_model_cbre = model\n",
    "        best_depth_cbr = depth\n",
    "        best_rmse_cbr = cbr\n",
    "print(best_rmse_cbr, best_depth_cbr)    "
   ]
  },
  {
   "cell_type": "code",
   "execution_count": 189,
   "metadata": {},
   "outputs": [
    {
     "name": "stdout",
     "output_type": "stream",
     "text": [
      "1.29 s ± 0 ns per loop (mean ± std. dev. of 1 run, 1 loop each)\n"
     ]
    },
    {
     "data": {
      "text/plain": [
       "['1.29', 's']"
      ]
     },
     "execution_count": 189,
     "metadata": {},
     "output_type": "execute_result"
    }
   ],
   "source": [
    "# Обучим модель на подобранных параметрах\n",
    "model_cbr = CatBoostRegressor(\n",
    "        random_state=12345,\n",
    "        verbose=False,\n",
    "        iterations=100,\n",
    "        learning_rate=0.5,\n",
    "        depth=8\n",
    "                             )\n",
    "time_fit_cbr = %timeit -o -n 1 -r 1 model_cbr.fit(features_ohe_train, target_ohe_train)\n",
    "time_fit_cbr = str(time_fit_cbr).split(maxsplit=2)\n",
    "time_fit_cbr[:2]"
   ]
  },
  {
   "cell_type": "code",
   "execution_count": 190,
   "metadata": {},
   "outputs": [
    {
     "name": "stdout",
     "output_type": "stream",
     "text": [
      "10.9 ms ± 0 ns per loop (mean ± std. dev. of 1 run, 1 loop each)\n"
     ]
    }
   ],
   "source": [
    "# Посчитаем время предсказания на тренировочной выборке\n",
    "time_predict_cbr = %timeit -o -n 1 -r 1 predict = model_cbr.predict(features_ohe_train)\n",
    "time_predict_cbr = str(time_predict_cbr).split(maxsplit=2)\n"
   ]
  },
  {
   "cell_type": "code",
   "execution_count": 191,
   "metadata": {},
   "outputs": [
    {
     "data": {
      "text/plain": [
       "{'algo': 'CatBoostRegressor',\n",
       " 'time_fit': ['1.29', 's'],\n",
       " 'time_predict': ['10.9', 'ms'],\n",
       " 'rmse': 1840}"
      ]
     },
     "execution_count": 191,
     "metadata": {},
     "output_type": "execute_result"
    }
   ],
   "source": [
    "\n",
    "# Запишем результаты линейной регрессии\n",
    "cbr_result_train = {}\n",
    "cbr_result_train = {'algo' : 'CatBoostRegressor',\n",
    "         'time_fit': time_fit_cbr[:2],\n",
    "         'time_predict': time_predict_cbr[:2],\n",
    "         'rmse': round(best_rmse_cbr)\n",
    "        }\n",
    "cbr_result_train"
   ]
  },
  {
   "cell_type": "code",
   "execution_count": 192,
   "metadata": {},
   "outputs": [],
   "source": [
    "#Добавим результаты  по решающему дереву в итоговую талицу\n",
    "all_algo.append(cbr_result_train)"
   ]
  },
  {
   "cell_type": "markdown",
   "metadata": {},
   "source": [
    "**LGBMRegressor**"
   ]
  },
  {
   "cell_type": "code",
   "execution_count": 193,
   "metadata": {},
   "outputs": [
    {
     "name": "stderr",
     "output_type": "stream",
     "text": [
      "  0%|          | 0/1 [00:00<?, ?it/s]"
     ]
    },
    {
     "name": "stdout",
     "output_type": "stream",
     "text": [
      "[LightGBM] [Warning] bagging_fraction is set=0.8, subsample=1.0 will be ignored. Current value: bagging_fraction=0.8\n",
      "[LightGBM] [Warning] bagging_fraction is set=0.8, subsample=1.0 will be ignored. Current value: bagging_fraction=0.8\n",
      "[LightGBM] [Warning] bagging_fraction is set=0.8, subsample=1.0 will be ignored. Current value: bagging_fraction=0.8\n",
      "[LightGBM] [Warning] bagging_fraction is set=0.8, subsample=1.0 will be ignored. Current value: bagging_fraction=0.8\n",
      "[LightGBM] [Warning] bagging_fraction is set=0.8, subsample=1.0 will be ignored. Current value: bagging_fraction=0.8\n",
      "[LightGBM] [Warning] bagging_fraction is set=0.8, subsample=1.0 will be ignored. Current value: bagging_fraction=0.8\n"
     ]
    },
    {
     "name": "stderr",
     "output_type": "stream",
     "text": [
      "100%|██████████| 1/1 [03:12<00:00, 192.22s/it]"
     ]
    },
    {
     "name": "stdout",
     "output_type": "stream",
     "text": [
      "38 1970.4463573923574\n",
      "1970.4463573923574\n"
     ]
    },
    {
     "name": "stderr",
     "output_type": "stream",
     "text": [
      "\n"
     ]
    }
   ],
   "source": [
    "best_rmse_lgbt = 2500\n",
    "for depth in tqdm(range(38,39)):\n",
    "    model = LGBMRegressor(\n",
    "        random_state=12345,\n",
    "#         verbose=False,\n",
    "        n_estimators=depth,\n",
    "        bagging_fraction=0.8\n",
    "    #     learning_rate=0.5,\n",
    "                        )\n",
    "    lgbt = (cross_val_score(model, features_ordinal_train,target_ordinal_train, cv=5, scoring='neg_root_mean_squared_error')).mean() * -1\n",
    "    model.fit(features_ordinal_train,target_ordinal_train)\n",
    "    if lgbt < best_rmse_lgbt:\n",
    "        best_model_lgbt = model\n",
    "        best_depth_lgbt = depth\n",
    "        best_rmse_lgbt = lgbt\n",
    "        print(best_depth_lgbt, best_rmse_lgbt)\n",
    "#print(best_rmse_lgbt, best_depth_lgbt)  \n",
    "\n",
    "# model = LGBMRegressor(\n",
    "#     random_state=12345,\n",
    "#     verbose=False,\n",
    "# #     learning_rate=0.5,\n",
    "#                     )\n",
    "# lgbt = (cross_val_score(model, features_ordinal_train,target_ordinal_train, cv=5, scoring='neg_root_mean_squared_error')).mean() * -1\n",
    "# #lgbt = (cross_val_score(model, features_ohe_train,target_ohe_train)).mean() * -1\n",
    "print(lgbt)"
   ]
  },
  {
   "cell_type": "code",
   "execution_count": 194,
   "metadata": {},
   "outputs": [
    {
     "name": "stdout",
     "output_type": "stream",
     "text": [
      "16.1 s ± 0 ns per loop (mean ± std. dev. of 1 run, 1 loop each)\n"
     ]
    },
    {
     "data": {
      "text/plain": [
       "['16.1', 's']"
      ]
     },
     "execution_count": 194,
     "metadata": {},
     "output_type": "execute_result"
    }
   ],
   "source": [
    "# Обучим модель на подобранных параметрах\n",
    "model = LGBMRegressor(random_state=12345, bagging_fraction=0.8, n_estimators=38)\n",
    "time_fit_lgbt = %timeit -o -n 1 -r 1 model.fit(features_ordinal_train,target_ordinal_train)\n",
    "time_fit_lgbt = str(time_fit_lgbt).split(maxsplit=2)\n",
    "time_fit_lgbt[:2]"
   ]
  },
  {
   "cell_type": "code",
   "execution_count": 195,
   "metadata": {},
   "outputs": [
    {
     "name": "stdout",
     "output_type": "stream",
     "text": [
      "85.3 ms ± 0 ns per loop (mean ± std. dev. of 1 run, 1 loop each)\n"
     ]
    }
   ],
   "source": [
    "# Посчитаем время предсказания на тренировочной выборке\n",
    "time_predict_lgbt = %timeit -o -n 1 -r 1 predict = model.predict(features_ordinal_train)\n",
    "time_predict_lgbt = str(time_predict_lgbt).split(maxsplit=2)\n"
   ]
  },
  {
   "cell_type": "code",
   "execution_count": 196,
   "metadata": {},
   "outputs": [
    {
     "data": {
      "text/plain": [
       "{'algo': 'LightGBM',\n",
       " 'time_fit': ['16.1', 's'],\n",
       " 'time_predict': ['85.3', 'ms'],\n",
       " 'rmse': 1970}"
      ]
     },
     "execution_count": 196,
     "metadata": {},
     "output_type": "execute_result"
    }
   ],
   "source": [
    "\n",
    "# Запишем результаты линейной регрессии\n",
    "lgbt_result_train = {}\n",
    "lgbt_result_train = {'algo' : 'LightGBM',\n",
    "         'time_fit': time_fit_lgbt[:2],\n",
    "         'time_predict': time_predict_lgbt[:2],\n",
    "         'rmse': round(best_rmse_lgbt)\n",
    "        }\n",
    "lgbt_result_train\n",
    "\n"
   ]
  },
  {
   "cell_type": "code",
   "execution_count": 197,
   "metadata": {},
   "outputs": [],
   "source": [
    "#Добавим результаты  по решающему дереву в итоговую талицу\n",
    "all_algo.append(lgbt_result_train)"
   ]
  },
  {
   "cell_type": "markdown",
   "metadata": {},
   "source": [
    "# Модель с лучшей RMSE"
   ]
  },
  {
   "cell_type": "code",
   "execution_count": 198,
   "metadata": {},
   "outputs": [
    {
     "data": {
      "text/plain": [
       "[{'algo': 'Линейная регрессия',\n",
       "  'time_fit': ['5.18', 's'],\n",
       "  'time_predict': ['94.9', 'ms'],\n",
       "  'rmse': 1945},\n",
       " {'algo': 'Решающее дерево',\n",
       "  'time_fit': ['51.5', 'ms'],\n",
       "  'time_predict': ['8.53', 'ms'],\n",
       "  'rmse': 2162},\n",
       " {'algo': 'CatBoostRegressor',\n",
       "  'time_fit': ['1.29', 's'],\n",
       "  'time_predict': ['10.9', 'ms'],\n",
       "  'rmse': 1840},\n",
       " {'algo': 'LightGBM',\n",
       "  'time_fit': ['16.1', 's'],\n",
       "  'time_predict': ['85.3', 'ms'],\n",
       "  'rmse': 1970}]"
      ]
     },
     "execution_count": 198,
     "metadata": {},
     "output_type": "execute_result"
    }
   ],
   "source": [
    "#Наш список словарей с результатами\n",
    "all_algo"
   ]
  },
  {
   "cell_type": "markdown",
   "metadata": {},
   "source": [
    "По метрике RMSE лучше всего CatBoostRegressor"
   ]
  },
  {
   "cell_type": "code",
   "execution_count": 199,
   "metadata": {},
   "outputs": [],
   "source": [
    "#Протестируем КэтБуст на тестовой выборке\n",
    "\n",
    "predict_cbr = model_cbr.predict(features_ohe_test)"
   ]
  },
  {
   "cell_type": "code",
   "execution_count": 200,
   "metadata": {},
   "outputs": [
    {
     "data": {
      "text/plain": [
       "1759.210005734491"
      ]
     },
     "execution_count": 200,
     "metadata": {},
     "output_type": "execute_result"
    }
   ],
   "source": [
    "rmse_cbr_test = mean_squared_error(predict_cbr, target_test) ** 0.5\n",
    "rmse_cbr_test"
   ]
  },
  {
   "cell_type": "markdown",
   "metadata": {},
   "source": [
    "### Вывод\n",
    "\n",
    "* Данные были раделены на тренировочную и тестовую выборки.\n",
    "* Призведено прямое кодирование признаков\n",
    "* Отмасштабировали данные.\n",
    "* Обучили модели, используя алгоритмы **LinearRegression, CatBoostRegressor, DecisionTreeRegressor, LGBMRegressor**. Сделали предсказания, получили метрики RMSE и время обучения и предсказания моделей не тренировочной выбрке\n",
    "* Сохранили результаты в словарь\n",
    "\n",
    "* Лучшая модель по метрике RMSE - **CatBoostRegressor**. Результат RMSE предсказаний на тестовой выборке составил 2059.56"
   ]
  },
  {
   "cell_type": "markdown",
   "metadata": {},
   "source": [
    "## Анализ моделей"
   ]
  },
  {
   "cell_type": "code",
   "execution_count": 201,
   "metadata": {},
   "outputs": [
    {
     "data": {
      "text/html": [
       "<div>\n",
       "<style scoped>\n",
       "    .dataframe tbody tr th:only-of-type {\n",
       "        vertical-align: middle;\n",
       "    }\n",
       "\n",
       "    .dataframe tbody tr th {\n",
       "        vertical-align: top;\n",
       "    }\n",
       "\n",
       "    .dataframe thead th {\n",
       "        text-align: right;\n",
       "    }\n",
       "</style>\n",
       "<table border=\"1\" class=\"dataframe\">\n",
       "  <thead>\n",
       "    <tr style=\"text-align: right;\">\n",
       "      <th></th>\n",
       "      <th>algo</th>\n",
       "      <th>time_fit</th>\n",
       "      <th>time_predict</th>\n",
       "      <th>rmse</th>\n",
       "    </tr>\n",
       "  </thead>\n",
       "  <tbody>\n",
       "    <tr>\n",
       "      <th>0</th>\n",
       "      <td>Линейная регрессия</td>\n",
       "      <td>[5.18, s]</td>\n",
       "      <td>[94.9, ms]</td>\n",
       "      <td>1945</td>\n",
       "    </tr>\n",
       "    <tr>\n",
       "      <th>1</th>\n",
       "      <td>Решающее дерево</td>\n",
       "      <td>[51.5, ms]</td>\n",
       "      <td>[8.53, ms]</td>\n",
       "      <td>2162</td>\n",
       "    </tr>\n",
       "    <tr>\n",
       "      <th>2</th>\n",
       "      <td>CatBoostRegressor</td>\n",
       "      <td>[1.29, s]</td>\n",
       "      <td>[10.9, ms]</td>\n",
       "      <td>1840</td>\n",
       "    </tr>\n",
       "    <tr>\n",
       "      <th>3</th>\n",
       "      <td>LightGBM</td>\n",
       "      <td>[16.1, s]</td>\n",
       "      <td>[85.3, ms]</td>\n",
       "      <td>1970</td>\n",
       "    </tr>\n",
       "  </tbody>\n",
       "</table>\n",
       "</div>"
      ],
      "text/plain": [
       "                 algo    time_fit time_predict  rmse\n",
       "0  Линейная регрессия   [5.18, s]   [94.9, ms]  1945\n",
       "1     Решающее дерево  [51.5, ms]   [8.53, ms]  2162\n",
       "2   CatBoostRegressor   [1.29, s]   [10.9, ms]  1840\n",
       "3            LightGBM   [16.1, s]   [85.3, ms]  1970"
      ]
     },
     "execution_count": 201,
     "metadata": {},
     "output_type": "execute_result"
    }
   ],
   "source": [
    "\n",
    "# Сделаем датафрейм и посторим графики\n",
    "df_all_algo = pd.DataFrame(all_algo)\n",
    "df_all_algo"
   ]
  },
  {
   "cell_type": "code",
   "execution_count": 202,
   "metadata": {},
   "outputs": [],
   "source": [
    "\n",
    "\n",
    "df_all_algo.columns = ['Алгоритм', 'Время обучения', 'Время предсказания', 'rmse']\n",
    "df_all_algo = df_all_algo.set_index('Алгоритм')"
   ]
  },
  {
   "cell_type": "code",
   "execution_count": 203,
   "metadata": {
    "scrolled": true
   },
   "outputs": [
    {
     "data": {
      "text/html": [
       "<div>\n",
       "<style scoped>\n",
       "    .dataframe tbody tr th:only-of-type {\n",
       "        vertical-align: middle;\n",
       "    }\n",
       "\n",
       "    .dataframe tbody tr th {\n",
       "        vertical-align: top;\n",
       "    }\n",
       "\n",
       "    .dataframe thead th {\n",
       "        text-align: right;\n",
       "    }\n",
       "</style>\n",
       "<table border=\"1\" class=\"dataframe\">\n",
       "  <thead>\n",
       "    <tr style=\"text-align: right;\">\n",
       "      <th></th>\n",
       "      <th>Время обучения</th>\n",
       "      <th>Время предсказания</th>\n",
       "      <th>rmse</th>\n",
       "    </tr>\n",
       "    <tr>\n",
       "      <th>Алгоритм</th>\n",
       "      <th></th>\n",
       "      <th></th>\n",
       "      <th></th>\n",
       "    </tr>\n",
       "  </thead>\n",
       "  <tbody>\n",
       "    <tr>\n",
       "      <th>Линейная регрессия</th>\n",
       "      <td>[5.18, s]</td>\n",
       "      <td>[94.9, ms]</td>\n",
       "      <td>1945</td>\n",
       "    </tr>\n",
       "    <tr>\n",
       "      <th>Решающее дерево</th>\n",
       "      <td>[51.5, ms]</td>\n",
       "      <td>[8.53, ms]</td>\n",
       "      <td>2162</td>\n",
       "    </tr>\n",
       "    <tr>\n",
       "      <th>CatBoostRegressor</th>\n",
       "      <td>[1.29, s]</td>\n",
       "      <td>[10.9, ms]</td>\n",
       "      <td>1840</td>\n",
       "    </tr>\n",
       "    <tr>\n",
       "      <th>LightGBM</th>\n",
       "      <td>[16.1, s]</td>\n",
       "      <td>[85.3, ms]</td>\n",
       "      <td>1970</td>\n",
       "    </tr>\n",
       "  </tbody>\n",
       "</table>\n",
       "</div>"
      ],
      "text/plain": [
       "                   Время обучения Время предсказания  rmse\n",
       "Алгоритм                                                  \n",
       "Линейная регрессия      [5.18, s]         [94.9, ms]  1945\n",
       "Решающее дерево        [51.5, ms]         [8.53, ms]  2162\n",
       "CatBoostRegressor       [1.29, s]         [10.9, ms]  1840\n",
       "LightGBM                [16.1, s]         [85.3, ms]  1970"
      ]
     },
     "execution_count": 203,
     "metadata": {},
     "output_type": "execute_result"
    }
   ],
   "source": [
    "df_all_algo"
   ]
  },
  {
   "cell_type": "markdown",
   "metadata": {},
   "source": [
    "* Быстрее всех обучилась лиенйная регрессия\n",
    "* Дольше всех - CatBoost"
   ]
  },
  {
   "cell_type": "markdown",
   "metadata": {},
   "source": [
    "Самый быстрый в предсказаниях CatBoost\n",
    "\n",
    "На фоне всех алгоритмов заметно медленнее LGBMRegressor .\n",
    "\n"
   ]
  },
  {
   "cell_type": "code",
   "execution_count": 204,
   "metadata": {},
   "outputs": [
    {
     "data": {
      "image/png": "[encoded data removed]",
      "text/plain": [
       "<Figure size 432x288 with 1 Axes>"
      ]
     },
     "metadata": {
      "needs_background": "light"
     },
     "output_type": "display_data"
    }
   ],
   "source": [
    "df_all_algo['rmse'].sort_values().plot(kind='bar')\n",
    "plt.title(\"\", fontsize=20)\n",
    "plt.xlabel(\"Алгоритм\", fontsize=20)\n",
    "plt.ylabel(\"rmse\", fontsize=20)\n",
    "plt.legend('')\n",
    "plt.show()"
   ]
  },
  {
   "cell_type": "markdown",
   "metadata": {},
   "source": [
    "Лучшая метрика у CatBoost"
   ]
  },
  {
   "cell_type": "markdown",
   "metadata": {},
   "source": [
    "### Вывод\n",
    "\n",
    "В результате анализа полученных результатов можно сказать следующее.\n",
    "\n",
    "Принимая во внимание, что заказчику важны:\n",
    "- качество предсказания;\n",
    "- скорость предсказания;\n",
    "- время обучения.\n",
    "\n",
    "Можно рекомендовать к использованию алгоритм **CatBoostRegressor**, так как он имеет лучшую метрику RMSE, быстрое предсказани, но один минус - обучается дольше всех.\n",
    "\n",
    "Но раз в требованиях заказчика время обучения на третьем месте после качества и скорости предсказания, поэтому отдаем первое место алгоритму **CatBoostRegressor**\n"
   ]
  },
  {
   "cell_type": "markdown",
   "metadata": {},
   "source": [
    "## Вывод\n",
    "\n"
   ]
  },
  {
   "cell_type": "markdown",
   "metadata": {},
   "source": [
    "В ходе рабоы над проектом для сервиса был выбран алгоритм **CatBoostRegressor** как лучший по качеству и скорости предсказания. \n",
    "\n",
    "Для достижения этого результата были подгружены и обработаны данные, из которых подготовлены тренировочная и тестовая выборки, на которых уже тренировали модели по несольким алгоритмам, а именно использованы были алгоритмы:\n",
    "* LinearRegression\n",
    "* CatBoostRegressor\n",
    "* DecisionTreeRegressor\n",
    "* LGBMRegressor\n",
    "\n",
    "Результаты обучения и предсказания алгоритмов проанализировали и выбрали соотвествующий требованиям заказчика."
   ]
  }
 ],
 "metadata": {
  "ExecuteTimeLog": [
   {
    "duration": 477,
    "start_time": "2022-08-18T21:36:36.239Z"
   },
   {
    "duration": 1059,
    "start_time": "2022-08-18T21:40:39.611Z"
   },
   {
    "duration": 25,
    "start_time": "2022-08-18T21:40:48.542Z"
   },
   {
    "duration": 117,
    "start_time": "2022-08-18T21:41:08.391Z"
   },
   {
    "duration": 92,
    "start_time": "2022-08-18T21:41:18.390Z"
   },
   {
    "duration": 80,
    "start_time": "2022-08-18T21:41:31.581Z"
   },
   {
    "duration": 47612,
    "start_time": "2022-08-18T21:48:03.064Z"
   },
   {
    "duration": 44,
    "start_time": "2022-08-21T19:18:40.811Z"
   },
   {
    "duration": 6,
    "start_time": "2022-08-21T19:18:41.014Z"
   },
   {
    "duration": 6,
    "start_time": "2022-08-21T19:18:41.810Z"
   },
   {
    "duration": 334,
    "start_time": "2022-08-21T19:18:46.946Z"
   },
   {
    "duration": 1008,
    "start_time": "2022-08-21T19:18:47.282Z"
   },
   {
    "duration": 26,
    "start_time": "2022-08-21T19:18:48.291Z"
   },
   {
    "duration": 137,
    "start_time": "2022-08-21T19:18:48.319Z"
   },
   {
    "duration": 35,
    "start_time": "2022-08-21T19:18:48.458Z"
   },
   {
    "duration": 85,
    "start_time": "2022-08-21T19:18:49.628Z"
   },
   {
    "duration": 71,
    "start_time": "2022-08-21T19:18:50.175Z"
   },
   {
    "duration": 44918,
    "start_time": "2022-08-21T19:18:51.572Z"
   },
   {
    "duration": 15,
    "start_time": "2022-08-21T19:19:36.492Z"
   },
   {
    "duration": 150,
    "start_time": "2022-08-21T19:19:40.160Z"
   },
   {
    "duration": 3,
    "start_time": "2022-08-22T14:07:12.562Z"
   },
   {
    "duration": 767,
    "start_time": "2022-08-22T14:07:12.959Z"
   },
   {
    "duration": 20,
    "start_time": "2022-08-22T14:07:13.728Z"
   },
   {
    "duration": 158,
    "start_time": "2022-08-22T14:07:13.749Z"
   },
   {
    "duration": 7,
    "start_time": "2022-08-22T14:07:15.819Z"
   },
   {
    "duration": 45,
    "start_time": "2022-08-22T14:07:24.280Z"
   },
   {
    "duration": 23,
    "start_time": "2022-08-22T14:07:32.088Z"
   },
   {
    "duration": 51,
    "start_time": "2022-08-22T14:07:34.914Z"
   },
   {
    "duration": 99,
    "start_time": "2022-08-22T14:07:36.014Z"
   },
   {
    "duration": 30,
    "start_time": "2022-08-22T14:07:38.213Z"
   },
   {
    "duration": 15107,
    "start_time": "2022-08-22T14:07:38.919Z"
   },
   {
    "duration": 62,
    "start_time": "2022-08-22T14:08:37.408Z"
   },
   {
    "duration": 504,
    "start_time": "2022-08-22T14:09:09.651Z"
   },
   {
    "duration": 186,
    "start_time": "2022-08-22T14:09:32.609Z"
   },
   {
    "duration": 201,
    "start_time": "2022-08-22T14:09:56.765Z"
   },
   {
    "duration": 42,
    "start_time": "2022-08-22T14:10:02.913Z"
   },
   {
    "duration": 41,
    "start_time": "2022-08-22T14:10:19.908Z"
   },
   {
    "duration": 25,
    "start_time": "2022-08-22T14:10:26.739Z"
   },
   {
    "duration": 4,
    "start_time": "2022-08-22T14:10:37.959Z"
   },
   {
    "duration": 19,
    "start_time": "2022-08-22T14:10:41.907Z"
   },
   {
    "duration": 11,
    "start_time": "2022-08-22T14:19:01.215Z"
   },
   {
    "duration": 16,
    "start_time": "2022-08-22T14:19:09.006Z"
   },
   {
    "duration": 99,
    "start_time": "2022-08-22T14:20:51.703Z"
   },
   {
    "duration": 15,
    "start_time": "2022-08-22T14:20:51.900Z"
   },
   {
    "duration": 113,
    "start_time": "2022-08-22T14:21:04.302Z"
   },
   {
    "duration": 17,
    "start_time": "2022-08-22T14:21:04.505Z"
   },
   {
    "duration": 40,
    "start_time": "2022-08-22T14:21:14.623Z"
   },
   {
    "duration": 22,
    "start_time": "2022-08-22T14:21:56.622Z"
   },
   {
    "duration": 32,
    "start_time": "2022-08-22T14:25:36.566Z"
   },
   {
    "duration": 195,
    "start_time": "2022-08-22T14:26:56.121Z"
   },
   {
    "duration": 156,
    "start_time": "2022-08-22T14:27:00.251Z"
   },
   {
    "duration": 173,
    "start_time": "2022-08-22T14:27:07.543Z"
   },
   {
    "duration": 153,
    "start_time": "2022-08-22T14:27:12.565Z"
   },
   {
    "duration": 125,
    "start_time": "2022-08-22T14:27:58.382Z"
   },
   {
    "duration": 166,
    "start_time": "2022-08-22T14:28:00.160Z"
   },
   {
    "duration": 2,
    "start_time": "2022-08-22T14:28:04.046Z"
   },
   {
    "duration": 780,
    "start_time": "2022-08-22T14:28:04.367Z"
   },
   {
    "duration": 25,
    "start_time": "2022-08-22T14:28:05.149Z"
   },
   {
    "duration": 175,
    "start_time": "2022-08-22T14:28:05.176Z"
   },
   {
    "duration": 432,
    "start_time": "2022-08-22T14:28:06.422Z"
   },
   {
    "duration": 61,
    "start_time": "2022-08-22T14:30:48.222Z"
   },
   {
    "duration": 175,
    "start_time": "2022-08-22T14:31:05.651Z"
   },
   {
    "duration": 177,
    "start_time": "2022-08-22T14:31:18.322Z"
   },
   {
    "duration": 3,
    "start_time": "2022-08-22T14:33:24.268Z"
   },
   {
    "duration": 668,
    "start_time": "2022-08-22T14:33:24.450Z"
   },
   {
    "duration": 20,
    "start_time": "2022-08-22T14:33:25.120Z"
   },
   {
    "duration": 138,
    "start_time": "2022-08-22T14:33:25.142Z"
   },
   {
    "duration": 372,
    "start_time": "2022-08-22T14:33:25.287Z"
   },
   {
    "duration": 16,
    "start_time": "2022-08-22T14:33:26.542Z"
   },
   {
    "duration": 161,
    "start_time": "2022-08-22T14:33:28.914Z"
   },
   {
    "duration": 9,
    "start_time": "2022-08-22T14:33:40.369Z"
   },
   {
    "duration": 200,
    "start_time": "2022-08-22T14:35:15.080Z"
   },
   {
    "duration": 80,
    "start_time": "2022-08-22T14:35:32.916Z"
   },
   {
    "duration": 87,
    "start_time": "2022-08-22T14:35:41.309Z"
   },
   {
    "duration": 12,
    "start_time": "2022-08-22T14:35:46.109Z"
   },
   {
    "duration": 53,
    "start_time": "2022-08-22T14:35:56.146Z"
   },
   {
    "duration": 78,
    "start_time": "2022-08-22T14:36:04.713Z"
   },
   {
    "duration": 61,
    "start_time": "2022-08-22T16:24:55.368Z"
   },
   {
    "duration": 63,
    "start_time": "2022-08-22T16:27:58.840Z"
   },
   {
    "duration": 109,
    "start_time": "2022-08-22T16:33:53.503Z"
   },
   {
    "duration": 25,
    "start_time": "2022-08-22T16:33:54.805Z"
   },
   {
    "duration": 47,
    "start_time": "2022-08-22T16:33:59.162Z"
   },
   {
    "duration": 15162,
    "start_time": "2022-08-22T16:33:59.646Z"
   },
   {
    "duration": 85,
    "start_time": "2022-08-22T16:35:20.600Z"
   },
   {
    "duration": 80,
    "start_time": "2022-08-22T16:35:24.203Z"
   },
   {
    "duration": 12,
    "start_time": "2022-08-22T16:35:41.787Z"
   },
   {
    "duration": 571,
    "start_time": "2022-08-22T16:35:45.560Z"
   },
   {
    "duration": 56,
    "start_time": "2022-08-22T16:40:51.070Z"
   },
   {
    "duration": 59,
    "start_time": "2022-08-22T16:40:55.974Z"
   },
   {
    "duration": 171,
    "start_time": "2022-08-22T16:41:19.014Z"
   },
   {
    "duration": 212,
    "start_time": "2022-08-22T16:45:54.268Z"
   },
   {
    "duration": 44,
    "start_time": "2022-08-22T16:45:58.258Z"
   },
   {
    "duration": 36,
    "start_time": "2022-08-22T16:46:25.434Z"
   },
   {
    "duration": 49,
    "start_time": "2022-08-22T16:46:41.003Z"
   },
   {
    "duration": 153,
    "start_time": "2022-08-22T16:46:45.113Z"
   },
   {
    "duration": 26,
    "start_time": "2022-08-22T16:47:49.574Z"
   },
   {
    "duration": 162,
    "start_time": "2022-08-22T16:49:09.222Z"
   },
   {
    "duration": 165,
    "start_time": "2022-08-22T16:50:00.450Z"
   },
   {
    "duration": 16,
    "start_time": "2022-08-22T16:56:58.219Z"
   },
   {
    "duration": 151,
    "start_time": "2022-08-22T16:57:02.848Z"
   },
   {
    "duration": 120,
    "start_time": "2022-08-22T16:57:11.103Z"
   },
   {
    "duration": 144,
    "start_time": "2022-08-22T16:58:10.368Z"
   },
   {
    "duration": 147,
    "start_time": "2022-08-22T16:58:26.529Z"
   },
   {
    "duration": 148,
    "start_time": "2022-08-22T16:58:46.680Z"
   },
   {
    "duration": 140,
    "start_time": "2022-08-22T16:58:53.261Z"
   },
   {
    "duration": 154,
    "start_time": "2022-08-22T16:59:01.654Z"
   },
   {
    "duration": 133,
    "start_time": "2022-08-22T16:59:05.108Z"
   },
   {
    "duration": 14,
    "start_time": "2022-08-22T16:59:09.508Z"
   },
   {
    "duration": 133,
    "start_time": "2022-08-22T16:59:13.268Z"
   },
   {
    "duration": 4,
    "start_time": "2022-08-22T17:00:24.007Z"
   },
   {
    "duration": 194,
    "start_time": "2022-08-22T17:00:26.216Z"
   },
   {
    "duration": 256,
    "start_time": "2022-08-22T17:01:21.750Z"
   },
   {
    "duration": 255,
    "start_time": "2022-08-22T17:02:32.487Z"
   },
   {
    "duration": 16,
    "start_time": "2022-08-22T17:03:08.322Z"
   },
   {
    "duration": 9,
    "start_time": "2022-08-22T17:05:43.959Z"
   },
   {
    "duration": 13,
    "start_time": "2022-08-22T17:05:56.276Z"
   },
   {
    "duration": 1182,
    "start_time": "2022-08-22T17:06:53.486Z"
   },
   {
    "duration": 11,
    "start_time": "2022-08-22T17:07:36.467Z"
   },
   {
    "duration": 293,
    "start_time": "2022-08-22T17:07:59.811Z"
   },
   {
    "duration": 12,
    "start_time": "2022-08-22T17:11:35.761Z"
   },
   {
    "duration": 26,
    "start_time": "2022-08-22T17:11:56.342Z"
   },
   {
    "duration": 24,
    "start_time": "2022-08-22T17:12:24.800Z"
   },
   {
    "duration": 225,
    "start_time": "2022-08-22T17:12:47.049Z"
   },
   {
    "duration": 30,
    "start_time": "2022-08-22T17:14:04.784Z"
   },
   {
    "duration": 34,
    "start_time": "2022-08-22T17:14:40.769Z"
   },
   {
    "duration": 14,
    "start_time": "2022-08-22T17:14:54.218Z"
   },
   {
    "duration": 24,
    "start_time": "2022-08-22T17:15:01.064Z"
   },
   {
    "duration": 102,
    "start_time": "2022-08-22T17:16:10.254Z"
   },
   {
    "duration": 108,
    "start_time": "2022-08-22T17:16:16.415Z"
   },
   {
    "duration": 3,
    "start_time": "2022-08-22T17:16:29.055Z"
   },
   {
    "duration": 842,
    "start_time": "2022-08-22T17:16:29.333Z"
   },
   {
    "duration": 35,
    "start_time": "2022-08-22T17:16:30.177Z"
   },
   {
    "duration": 144,
    "start_time": "2022-08-22T17:16:30.217Z"
   },
   {
    "duration": 453,
    "start_time": "2022-08-22T17:16:30.362Z"
   },
   {
    "duration": 21,
    "start_time": "2022-08-22T17:16:31.287Z"
   },
   {
    "duration": 169,
    "start_time": "2022-08-22T17:16:31.813Z"
   },
   {
    "duration": 202,
    "start_time": "2022-08-22T17:16:33.514Z"
   },
   {
    "duration": 89,
    "start_time": "2022-08-22T17:16:34.614Z"
   },
   {
    "duration": 95,
    "start_time": "2022-08-22T17:16:36.029Z"
   },
   {
    "duration": 117,
    "start_time": "2022-08-22T17:16:54.829Z"
   },
   {
    "duration": 56,
    "start_time": "2022-08-22T17:17:05.417Z"
   },
   {
    "duration": 61,
    "start_time": "2022-08-22T18:51:01.970Z"
   },
   {
    "duration": 216,
    "start_time": "2022-08-22T18:56:22.477Z"
   },
   {
    "duration": 94,
    "start_time": "2022-08-22T18:57:25.835Z"
   },
   {
    "duration": 123,
    "start_time": "2022-08-22T18:57:28.751Z"
   },
   {
    "duration": 57,
    "start_time": "2022-08-22T18:57:32.521Z"
   },
   {
    "duration": 103,
    "start_time": "2022-08-22T18:57:39.804Z"
   },
   {
    "duration": 70,
    "start_time": "2022-08-22T18:57:42.609Z"
   },
   {
    "duration": 42,
    "start_time": "2022-08-22T18:57:43.404Z"
   },
   {
    "duration": 104,
    "start_time": "2022-08-22T18:57:48.003Z"
   },
   {
    "duration": 23,
    "start_time": "2022-08-22T18:59:37.799Z"
   },
   {
    "duration": 177,
    "start_time": "2022-08-22T18:59:46.969Z"
   },
   {
    "duration": 300,
    "start_time": "2022-08-22T18:59:54.053Z"
   },
   {
    "duration": 302,
    "start_time": "2022-08-22T19:00:20.118Z"
   },
   {
    "duration": 83,
    "start_time": "2022-08-22T19:02:25.642Z"
   },
   {
    "duration": 84,
    "start_time": "2022-08-22T19:02:53.272Z"
   },
   {
    "duration": 24,
    "start_time": "2022-08-22T19:03:01.048Z"
   },
   {
    "duration": 11145,
    "start_time": "2022-08-22T19:03:01.753Z"
   },
   {
    "duration": 8,
    "start_time": "2022-08-22T19:33:34.119Z"
   },
   {
    "duration": 720,
    "start_time": "2022-08-22T19:34:02.534Z"
   },
   {
    "duration": 575,
    "start_time": "2022-08-22T19:34:08.161Z"
   },
   {
    "duration": 18,
    "start_time": "2022-08-22T19:34:27.454Z"
   },
   {
    "duration": 9,
    "start_time": "2022-08-22T19:44:50.002Z"
   },
   {
    "duration": 7,
    "start_time": "2022-08-22T19:45:03.471Z"
   },
   {
    "duration": 32,
    "start_time": "2022-08-22T19:45:07.799Z"
   },
   {
    "duration": 3,
    "start_time": "2022-08-22T19:45:30.561Z"
   },
   {
    "duration": 1209,
    "start_time": "2022-08-22T19:45:30.802Z"
   },
   {
    "duration": 34,
    "start_time": "2022-08-22T19:45:32.014Z"
   },
   {
    "duration": 138,
    "start_time": "2022-08-22T19:45:32.049Z"
   },
   {
    "duration": 433,
    "start_time": "2022-08-22T19:45:32.189Z"
   },
   {
    "duration": 17,
    "start_time": "2022-08-22T19:45:42.500Z"
   },
   {
    "duration": 177,
    "start_time": "2022-08-22T19:45:43.162Z"
   },
   {
    "duration": 245,
    "start_time": "2022-08-22T19:45:46.198Z"
   },
   {
    "duration": 89,
    "start_time": "2022-08-22T19:45:49.295Z"
   },
   {
    "duration": 200,
    "start_time": "2022-08-22T19:45:56.997Z"
   },
   {
    "duration": 87,
    "start_time": "2022-08-22T19:45:58.713Z"
   },
   {
    "duration": 68,
    "start_time": "2022-08-22T19:46:01.707Z"
   },
   {
    "duration": 128,
    "start_time": "2022-08-22T19:46:03.702Z"
   },
   {
    "duration": 49,
    "start_time": "2022-08-22T19:46:05.798Z"
   },
   {
    "duration": 50,
    "start_time": "2022-08-22T19:46:11.525Z"
   },
   {
    "duration": 73,
    "start_time": "2022-08-22T19:46:23.034Z"
   },
   {
    "duration": 53,
    "start_time": "2022-08-22T19:46:23.515Z"
   },
   {
    "duration": 14,
    "start_time": "2022-08-22T19:46:23.967Z"
   },
   {
    "duration": 185,
    "start_time": "2022-08-22T19:46:25.007Z"
   },
   {
    "duration": 281,
    "start_time": "2022-08-22T19:46:32.962Z"
   },
   {
    "duration": 63,
    "start_time": "2022-08-22T19:46:33.370Z"
   },
   {
    "duration": 72,
    "start_time": "2022-08-22T19:46:37.859Z"
   },
   {
    "duration": 290,
    "start_time": "2022-08-22T19:46:39.104Z"
   },
   {
    "duration": 23,
    "start_time": "2022-08-22T19:46:47.224Z"
   },
   {
    "duration": 8408,
    "start_time": "2022-08-22T19:46:50.399Z"
   },
   {
    "duration": 22,
    "start_time": "2022-08-22T19:47:18.969Z"
   },
   {
    "duration": 361,
    "start_time": "2022-08-22T19:47:22.517Z"
   },
   {
    "duration": 20,
    "start_time": "2022-08-22T19:47:24.003Z"
   },
   {
    "duration": 20,
    "start_time": "2022-08-22T19:47:39.459Z"
   },
   {
    "duration": 5,
    "start_time": "2022-08-22T19:47:50.853Z"
   },
   {
    "duration": 30,
    "start_time": "2022-08-22T19:48:11.051Z"
   },
   {
    "duration": 4,
    "start_time": "2022-08-22T19:49:23.308Z"
   },
   {
    "duration": 58,
    "start_time": "2022-08-22T19:52:52.542Z"
   },
   {
    "duration": 48,
    "start_time": "2022-08-22T20:13:26.488Z"
   },
   {
    "duration": 4,
    "start_time": "2022-08-22T20:13:32.045Z"
   },
   {
    "duration": 1245,
    "start_time": "2022-08-22T20:29:18.029Z"
   },
   {
    "duration": 476,
    "start_time": "2022-08-22T20:29:33.253Z"
   },
   {
    "duration": 6113,
    "start_time": "2022-08-22T20:32:56.240Z"
   },
   {
    "duration": 10,
    "start_time": "2022-08-22T20:43:03.901Z"
   },
   {
    "duration": 1207,
    "start_time": "2022-08-22T20:43:12.539Z"
   },
   {
    "duration": 54,
    "start_time": "2022-08-22T20:43:24.037Z"
   },
   {
    "duration": 18,
    "start_time": "2022-08-22T20:43:39.732Z"
   },
   {
    "duration": 258,
    "start_time": "2022-08-22T20:45:18.119Z"
   },
   {
    "duration": 10,
    "start_time": "2022-08-22T20:45:22.917Z"
   },
   {
    "duration": 251,
    "start_time": "2022-08-22T20:45:27.703Z"
   },
   {
    "duration": 11,
    "start_time": "2022-08-22T20:46:29.843Z"
   },
   {
    "duration": 18,
    "start_time": "2022-08-22T20:47:29.099Z"
   },
   {
    "duration": 3,
    "start_time": "2022-08-22T20:48:34.047Z"
   },
   {
    "duration": 28,
    "start_time": "2022-08-22T20:52:23.339Z"
   },
   {
    "duration": 3,
    "start_time": "2022-08-22T20:52:52.904Z"
   },
   {
    "duration": 431,
    "start_time": "2022-08-22T20:52:53.818Z"
   },
   {
    "duration": 25,
    "start_time": "2022-08-22T20:52:54.799Z"
   },
   {
    "duration": 3,
    "start_time": "2022-08-22T20:53:22.709Z"
   },
   {
    "duration": 42,
    "start_time": "2022-08-22T20:53:30.702Z"
   },
   {
    "duration": 18,
    "start_time": "2022-08-22T20:53:34.507Z"
   },
   {
    "duration": 18,
    "start_time": "2022-08-22T20:54:32.019Z"
   },
   {
    "duration": 16,
    "start_time": "2022-08-22T20:54:45.699Z"
   },
   {
    "duration": 119,
    "start_time": "2022-08-22T20:55:16.900Z"
   },
   {
    "duration": 126,
    "start_time": "2022-08-22T20:55:24.024Z"
   },
   {
    "duration": 3,
    "start_time": "2022-08-22T20:57:08.840Z"
   },
   {
    "duration": 16,
    "start_time": "2022-08-22T20:57:09.146Z"
   },
   {
    "duration": 12,
    "start_time": "2022-08-22T20:57:09.517Z"
   },
   {
    "duration": 3,
    "start_time": "2022-08-22T20:57:21.847Z"
   },
   {
    "duration": 414,
    "start_time": "2022-08-22T20:57:22.309Z"
   },
   {
    "duration": 2,
    "start_time": "2022-08-22T20:57:22.725Z"
   },
   {
    "duration": 16,
    "start_time": "2022-08-22T20:57:22.729Z"
   },
   {
    "duration": 99,
    "start_time": "2022-08-22T20:57:23.303Z"
   },
   {
    "duration": 4,
    "start_time": "2022-08-22T21:01:01.804Z"
   },
   {
    "duration": 282,
    "start_time": "2022-08-22T21:01:21.098Z"
   },
   {
    "duration": 17,
    "start_time": "2022-08-22T21:01:22.698Z"
   },
   {
    "duration": 264,
    "start_time": "2022-08-22T21:01:31.099Z"
   },
   {
    "duration": 16,
    "start_time": "2022-08-22T21:01:31.697Z"
   },
   {
    "duration": 266,
    "start_time": "2022-08-22T21:01:45.202Z"
   },
   {
    "duration": 14,
    "start_time": "2022-08-22T21:01:45.856Z"
   },
   {
    "duration": 284,
    "start_time": "2022-08-22T21:01:58.371Z"
   },
   {
    "duration": 14,
    "start_time": "2022-08-22T21:01:58.834Z"
   },
   {
    "duration": 66,
    "start_time": "2022-08-22T21:03:40.636Z"
   },
   {
    "duration": 10,
    "start_time": "2022-08-22T21:04:14.048Z"
   },
   {
    "duration": 277,
    "start_time": "2022-08-22T21:05:07.897Z"
   },
   {
    "duration": 15,
    "start_time": "2022-08-22T21:05:08.706Z"
   },
   {
    "duration": 274,
    "start_time": "2022-08-22T21:05:16.905Z"
   },
   {
    "duration": 336,
    "start_time": "2022-08-22T21:05:29.838Z"
   },
   {
    "duration": 15,
    "start_time": "2022-08-22T21:05:31.316Z"
   },
   {
    "duration": 20,
    "start_time": "2022-08-22T21:11:01.442Z"
   },
   {
    "duration": 12,
    "start_time": "2022-08-22T21:11:08.052Z"
   },
   {
    "duration": 270,
    "start_time": "2022-08-22T21:11:08.489Z"
   },
   {
    "duration": 15,
    "start_time": "2022-08-22T21:11:09.544Z"
   },
   {
    "duration": 14,
    "start_time": "2022-08-22T21:11:15.959Z"
   },
   {
    "duration": 63,
    "start_time": "2022-08-22T21:12:58.411Z"
   },
   {
    "duration": 54,
    "start_time": "2022-08-22T21:13:04.957Z"
   },
   {
    "duration": 43,
    "start_time": "2022-08-22T21:15:55.923Z"
   },
   {
    "duration": 305,
    "start_time": "2022-08-22T21:16:03.927Z"
   },
   {
    "duration": 13,
    "start_time": "2022-08-22T21:16:04.431Z"
   },
   {
    "duration": 48,
    "start_time": "2022-08-22T21:16:05.710Z"
   },
   {
    "duration": 120,
    "start_time": "2022-08-22T21:26:57.317Z"
   },
   {
    "duration": 10,
    "start_time": "2022-08-22T21:34:16.884Z"
   },
   {
    "duration": 446,
    "start_time": "2022-08-22T21:36:11.674Z"
   },
   {
    "duration": 4,
    "start_time": "2022-08-22T21:36:34.295Z"
   },
   {
    "duration": 407,
    "start_time": "2022-08-22T21:36:43.363Z"
   },
   {
    "duration": 144,
    "start_time": "2022-08-22T21:37:27.690Z"
   },
   {
    "duration": 37,
    "start_time": "2022-08-22T21:37:32.022Z"
   },
   {
    "duration": 411,
    "start_time": "2022-08-22T21:37:32.666Z"
   },
   {
    "duration": 142,
    "start_time": "2022-08-22T21:37:33.130Z"
   },
   {
    "duration": 146,
    "start_time": "2022-08-22T21:37:52.160Z"
   },
   {
    "duration": 26,
    "start_time": "2022-08-22T21:37:59.937Z"
   },
   {
    "duration": 390,
    "start_time": "2022-08-22T21:38:54.742Z"
   },
   {
    "duration": 3,
    "start_time": "2022-08-22T21:38:55.353Z"
   },
   {
    "duration": 16,
    "start_time": "2022-08-22T21:38:56.135Z"
   },
   {
    "duration": 99,
    "start_time": "2022-08-22T21:38:57.002Z"
   },
   {
    "duration": 155,
    "start_time": "2022-08-22T21:39:00.846Z"
   },
   {
    "duration": 26,
    "start_time": "2022-08-22T21:39:14.799Z"
   },
   {
    "duration": 30,
    "start_time": "2022-08-22T21:39:24.092Z"
   },
   {
    "duration": 33,
    "start_time": "2022-08-22T21:41:25.099Z"
   },
   {
    "duration": 15,
    "start_time": "2022-08-22T21:41:26.830Z"
   },
   {
    "duration": 4,
    "start_time": "2022-08-22T21:46:12.330Z"
   },
   {
    "duration": 91,
    "start_time": "2022-08-22T21:47:03.981Z"
   },
   {
    "duration": 3,
    "start_time": "2022-08-22T21:47:39.304Z"
   },
   {
    "duration": 61,
    "start_time": "2022-08-22T21:47:39.880Z"
   },
   {
    "duration": 4,
    "start_time": "2022-08-22T21:47:42.454Z"
   },
   {
    "duration": 67,
    "start_time": "2022-08-22T21:47:43.347Z"
   },
   {
    "duration": 24851,
    "start_time": "2022-08-22T21:48:18.049Z"
   },
   {
    "duration": 207,
    "start_time": "2022-08-22T21:48:42.904Z"
   },
   {
    "duration": 5,
    "start_time": "2022-08-22T21:50:16.665Z"
   },
   {
    "duration": 6,
    "start_time": "2022-08-22T21:50:37.790Z"
   },
   {
    "duration": 2262,
    "start_time": "2022-08-22T21:55:18.303Z"
   },
   {
    "duration": 79,
    "start_time": "2022-08-22T21:55:31.037Z"
   },
   {
    "duration": 6,
    "start_time": "2022-08-22T21:55:58.556Z"
   },
   {
    "duration": 2305,
    "start_time": "2022-08-22T21:56:14.799Z"
   },
   {
    "duration": 92,
    "start_time": "2022-08-22T21:56:17.106Z"
   },
   {
    "duration": 6,
    "start_time": "2022-08-22T21:56:17.201Z"
   },
   {
    "duration": 69,
    "start_time": "2022-08-22T21:58:47.062Z"
   },
   {
    "duration": 12,
    "start_time": "2022-08-22T21:59:14.922Z"
   },
   {
    "duration": 52,
    "start_time": "2022-08-22T21:59:28.999Z"
   },
   {
    "duration": 18425,
    "start_time": "2022-08-22T21:59:43.099Z"
   },
   {
    "duration": 98,
    "start_time": "2022-08-22T22:00:23.360Z"
   },
   {
    "duration": 4,
    "start_time": "2022-08-22T22:00:52.147Z"
   },
   {
    "duration": 5,
    "start_time": "2022-08-22T22:01:19.099Z"
   },
   {
    "duration": 17571,
    "start_time": "2022-08-22T22:02:32.302Z"
   },
   {
    "duration": 80,
    "start_time": "2022-08-22T22:02:49.875Z"
   },
   {
    "duration": 6,
    "start_time": "2022-08-22T22:02:49.957Z"
   },
   {
    "duration": 44857,
    "start_time": "2022-08-22T22:03:43.131Z"
   },
   {
    "duration": 513,
    "start_time": "2022-08-22T22:04:27.995Z"
   },
   {
    "duration": 5,
    "start_time": "2022-08-22T22:04:28.510Z"
   },
   {
    "duration": 63,
    "start_time": "2022-08-22T22:16:12.606Z"
   },
   {
    "duration": 32,
    "start_time": "2022-08-22T22:17:07.551Z"
   },
   {
    "duration": 65,
    "start_time": "2022-08-22T22:17:15.878Z"
   },
   {
    "duration": 54,
    "start_time": "2022-08-22T22:17:31.537Z"
   },
   {
    "duration": 90,
    "start_time": "2022-08-22T22:17:52.578Z"
   },
   {
    "duration": 161422,
    "start_time": "2022-08-22T22:18:13.477Z"
   },
   {
    "duration": 7024,
    "start_time": "2022-08-22T22:20:58.626Z"
   },
   {
    "duration": 156794,
    "start_time": "2022-08-22T22:21:13.640Z"
   },
   {
    "duration": 82,
    "start_time": "2022-08-22T22:30:01.041Z"
   },
   {
    "duration": 9,
    "start_time": "2022-08-22T22:30:04.487Z"
   },
   {
    "duration": 64,
    "start_time": "2022-08-23T06:02:11.260Z"
   },
   {
    "duration": 109,
    "start_time": "2022-08-23T06:02:18.123Z"
   },
   {
    "duration": 4,
    "start_time": "2022-08-23T06:02:39.678Z"
   },
   {
    "duration": 15,
    "start_time": "2022-08-23T06:03:32.197Z"
   },
   {
    "duration": 12,
    "start_time": "2022-08-23T06:03:56.454Z"
   },
   {
    "duration": 4,
    "start_time": "2022-08-23T06:05:15.277Z"
   },
   {
    "duration": 313,
    "start_time": "2022-08-23T06:05:29.323Z"
   },
   {
    "duration": 4,
    "start_time": "2022-08-23T06:05:59.224Z"
   },
   {
    "duration": 313,
    "start_time": "2022-08-23T06:06:00.612Z"
   },
   {
    "duration": 55,
    "start_time": "2022-08-23T06:06:17.513Z"
   },
   {
    "duration": 17322,
    "start_time": "2022-08-23T06:07:56.777Z"
   },
   {
    "duration": 4,
    "start_time": "2022-08-23T06:08:27.215Z"
   },
   {
    "duration": 13,
    "start_time": "2022-08-23T06:09:17.484Z"
   },
   {
    "duration": 5000,
    "start_time": "2022-08-23T06:09:53.787Z"
   },
   {
    "duration": 5,
    "start_time": "2022-08-23T06:09:58.789Z"
   },
   {
    "duration": 144,
    "start_time": "2022-08-23T06:13:46.816Z"
   },
   {
    "duration": 4,
    "start_time": "2022-08-23T06:13:47.031Z"
   },
   {
    "duration": 95196,
    "start_time": "2022-08-23T06:13:49.419Z"
   },
   {
    "duration": 339209,
    "start_time": "2022-08-23T06:15:26.490Z"
   },
   {
    "duration": 4,
    "start_time": "2022-08-23T06:27:08.511Z"
   },
   {
    "duration": 9319,
    "start_time": "2022-08-23T06:27:16.668Z"
   },
   {
    "duration": 101,
    "start_time": "2022-08-23T06:27:25.989Z"
   },
   {
    "duration": 4,
    "start_time": "2022-08-23T06:27:28.415Z"
   },
   {
    "duration": 9,
    "start_time": "2022-08-23T06:35:50.367Z"
   },
   {
    "duration": 9,
    "start_time": "2022-08-23T06:36:06.484Z"
   },
   {
    "duration": 2,
    "start_time": "2022-08-23T06:37:49.157Z"
   },
   {
    "duration": 3,
    "start_time": "2022-08-23T06:38:07.679Z"
   },
   {
    "duration": 3,
    "start_time": "2022-08-23T06:38:19.508Z"
   },
   {
    "duration": 3,
    "start_time": "2022-08-23T06:38:19.799Z"
   },
   {
    "duration": 9,
    "start_time": "2022-08-23T06:38:54.381Z"
   },
   {
    "duration": 3,
    "start_time": "2022-08-23T06:38:54.674Z"
   },
   {
    "duration": 3,
    "start_time": "2022-08-23T06:39:23.707Z"
   },
   {
    "duration": 3,
    "start_time": "2022-08-23T06:39:24.516Z"
   },
   {
    "duration": 10,
    "start_time": "2022-08-23T07:15:07.242Z"
   },
   {
    "duration": 4,
    "start_time": "2022-08-23T07:15:12.430Z"
   },
   {
    "duration": 16,
    "start_time": "2022-08-23T07:15:13.734Z"
   },
   {
    "duration": 15,
    "start_time": "2022-08-23T07:15:23.863Z"
   },
   {
    "duration": 1954070,
    "start_time": "2022-08-23T07:15:34.539Z"
   },
   {
    "duration": 18,
    "start_time": "2022-08-23T14:51:10.587Z"
   },
   {
    "duration": 9,
    "start_time": "2022-08-23T15:10:41.861Z"
   },
   {
    "duration": 2,
    "start_time": "2022-08-23T15:11:39.059Z"
   },
   {
    "duration": 3,
    "start_time": "2022-08-23T15:11:52.426Z"
   },
   {
    "duration": 3,
    "start_time": "2022-08-23T15:11:54.932Z"
   },
   {
    "duration": 4,
    "start_time": "2022-08-23T15:12:06.839Z"
   },
   {
    "duration": 5,
    "start_time": "2022-08-23T15:16:01.394Z"
   },
   {
    "duration": 5,
    "start_time": "2022-08-23T15:17:24.269Z"
   },
   {
    "duration": 10458,
    "start_time": "2022-08-23T15:17:28.095Z"
   },
   {
    "duration": 18226,
    "start_time": "2022-08-23T15:17:40.172Z"
   },
   {
    "duration": 3,
    "start_time": "2022-08-23T15:17:58.400Z"
   },
   {
    "duration": 3,
    "start_time": "2022-08-23T15:18:35.875Z"
   },
   {
    "duration": 3,
    "start_time": "2022-08-23T15:18:44.750Z"
   },
   {
    "duration": 2,
    "start_time": "2022-08-23T15:18:46.215Z"
   },
   {
    "duration": 4,
    "start_time": "2022-08-23T15:19:01.027Z"
   },
   {
    "duration": 3,
    "start_time": "2022-08-23T15:19:13.552Z"
   },
   {
    "duration": 2,
    "start_time": "2022-08-23T15:19:16.530Z"
   },
   {
    "duration": 4,
    "start_time": "2022-08-23T15:19:18.703Z"
   },
   {
    "duration": 4,
    "start_time": "2022-08-23T15:19:45.662Z"
   },
   {
    "duration": 4,
    "start_time": "2022-08-23T15:19:59.121Z"
   },
   {
    "duration": 14,
    "start_time": "2022-08-23T15:20:51.836Z"
   },
   {
    "duration": 14262,
    "start_time": "2022-08-23T15:20:58.030Z"
   },
   {
    "duration": 4,
    "start_time": "2022-08-23T15:21:12.294Z"
   },
   {
    "duration": 20,
    "start_time": "2022-08-23T15:21:12.299Z"
   },
   {
    "duration": 10,
    "start_time": "2022-08-23T15:21:42.456Z"
   },
   {
    "duration": 13,
    "start_time": "2022-08-23T15:21:49.045Z"
   },
   {
    "duration": 10,
    "start_time": "2022-08-23T15:22:07.369Z"
   },
   {
    "duration": 4,
    "start_time": "2022-08-23T15:24:33.674Z"
   },
   {
    "duration": 7,
    "start_time": "2022-08-23T15:24:37.929Z"
   },
   {
    "duration": 5,
    "start_time": "2022-08-23T15:25:43.287Z"
   },
   {
    "duration": 13521,
    "start_time": "2022-08-23T15:25:44.173Z"
   },
   {
    "duration": 48,
    "start_time": "2022-08-23T15:25:57.696Z"
   },
   {
    "duration": 0,
    "start_time": "2022-08-23T15:25:57.746Z"
   },
   {
    "duration": 8,
    "start_time": "2022-08-23T15:26:03.952Z"
   },
   {
    "duration": 9,
    "start_time": "2022-08-23T15:26:37.875Z"
   },
   {
    "duration": 9,
    "start_time": "2022-08-23T15:26:40.901Z"
   },
   {
    "duration": 3,
    "start_time": "2022-08-23T15:26:48.886Z"
   },
   {
    "duration": 9,
    "start_time": "2022-08-23T15:26:49.804Z"
   },
   {
    "duration": 3,
    "start_time": "2022-08-23T15:26:55.482Z"
   },
   {
    "duration": 8,
    "start_time": "2022-08-23T15:26:59.031Z"
   },
   {
    "duration": 12,
    "start_time": "2022-08-23T15:27:06.621Z"
   },
   {
    "duration": 9,
    "start_time": "2022-08-23T15:27:16.180Z"
   },
   {
    "duration": 13,
    "start_time": "2022-08-23T15:28:02.985Z"
   },
   {
    "duration": 9,
    "start_time": "2022-08-23T15:28:13.341Z"
   },
   {
    "duration": 3,
    "start_time": "2022-08-23T15:28:31.855Z"
   },
   {
    "duration": 88,
    "start_time": "2022-08-23T15:28:37.760Z"
   },
   {
    "duration": 3,
    "start_time": "2022-08-23T15:28:47.780Z"
   },
   {
    "duration": 4,
    "start_time": "2022-08-23T15:29:00.568Z"
   },
   {
    "duration": 14,
    "start_time": "2022-08-23T15:29:13.819Z"
   },
   {
    "duration": 53259,
    "start_time": "2022-08-23T17:32:05.529Z"
   },
   {
    "duration": 5,
    "start_time": "2022-08-23T17:33:10.427Z"
   },
   {
    "duration": 10310,
    "start_time": "2022-08-23T17:33:39.081Z"
   },
   {
    "duration": 87,
    "start_time": "2022-08-23T17:33:51.802Z"
   },
   {
    "duration": 5,
    "start_time": "2022-08-23T17:33:53.478Z"
   },
   {
    "duration": 9,
    "start_time": "2022-08-23T17:59:51.730Z"
   },
   {
    "duration": 53,
    "start_time": "2022-08-23T18:01:35.541Z"
   },
   {
    "duration": 88403,
    "start_time": "2022-08-23T18:01:51.461Z"
   },
   {
    "duration": 4,
    "start_time": "2022-08-23T18:03:19.866Z"
   },
   {
    "duration": 5,
    "start_time": "2022-08-23T19:14:33.806Z"
   },
   {
    "duration": 13,
    "start_time": "2022-08-23T19:14:38.525Z"
   },
   {
    "duration": 4,
    "start_time": "2022-08-23T19:15:45.439Z"
   },
   {
    "duration": 13,
    "start_time": "2022-08-23T19:15:47.512Z"
   },
   {
    "duration": 6,
    "start_time": "2022-08-23T19:16:36.014Z"
   },
   {
    "duration": 4,
    "start_time": "2022-08-23T19:16:51.701Z"
   },
   {
    "duration": 13,
    "start_time": "2022-08-23T19:16:52.995Z"
   },
   {
    "duration": 4,
    "start_time": "2022-08-23T19:17:35.477Z"
   },
   {
    "duration": 13,
    "start_time": "2022-08-23T19:17:36.689Z"
   },
   {
    "duration": 4,
    "start_time": "2022-08-23T19:19:59.477Z"
   },
   {
    "duration": 13801,
    "start_time": "2022-08-23T19:20:00.389Z"
   },
   {
    "duration": 2,
    "start_time": "2022-08-23T19:27:25.683Z"
   },
   {
    "duration": 4,
    "start_time": "2022-08-23T19:27:27.695Z"
   },
   {
    "duration": 9,
    "start_time": "2022-08-23T19:27:38.668Z"
   },
   {
    "duration": 50681,
    "start_time": "2022-08-23T19:27:39.007Z"
   },
   {
    "duration": 87787,
    "start_time": "2022-08-23T19:34:59.281Z"
   },
   {
    "duration": 31727,
    "start_time": "2022-08-23T19:36:27.070Z"
   },
   {
    "duration": 68,
    "start_time": "2022-08-23T19:37:25.578Z"
   },
   {
    "duration": 74,
    "start_time": "2022-08-23T19:37:48.695Z"
   },
   {
    "duration": 13,
    "start_time": "2022-08-23T19:38:49.305Z"
   },
   {
    "duration": 78,
    "start_time": "2022-08-23T19:39:22.537Z"
   },
   {
    "duration": 48,
    "start_time": "2022-08-23T19:39:23.833Z"
   },
   {
    "duration": 43,
    "start_time": "2022-08-23T19:39:45.799Z"
   },
   {
    "duration": 264,
    "start_time": "2022-08-23T19:43:01.600Z"
   },
   {
    "duration": 22,
    "start_time": "2022-08-23T19:43:18.063Z"
   },
   {
    "duration": 47,
    "start_time": "2022-08-23T19:43:49.387Z"
   },
   {
    "duration": 585,
    "start_time": "2022-08-23T19:43:52.164Z"
   },
   {
    "duration": 11,
    "start_time": "2022-08-23T19:44:12.140Z"
   },
   {
    "duration": 214,
    "start_time": "2022-08-23T19:45:30.206Z"
   },
   {
    "duration": 23,
    "start_time": "2022-08-23T19:45:45.319Z"
   },
   {
    "duration": 257,
    "start_time": "2022-08-23T19:45:57.857Z"
   },
   {
    "duration": 247,
    "start_time": "2022-08-23T19:46:04.319Z"
   },
   {
    "duration": 234,
    "start_time": "2022-08-23T19:46:28.890Z"
   },
   {
    "duration": 232,
    "start_time": "2022-08-23T19:46:34.122Z"
   },
   {
    "duration": 4,
    "start_time": "2022-08-23T19:47:18.318Z"
   },
   {
    "duration": 242,
    "start_time": "2022-08-23T19:47:25.287Z"
   },
   {
    "duration": 233,
    "start_time": "2022-08-23T19:47:48.812Z"
   },
   {
    "duration": 239,
    "start_time": "2022-08-23T19:48:09.773Z"
   },
   {
    "duration": 263,
    "start_time": "2022-08-23T19:50:41.130Z"
   },
   {
    "duration": 331,
    "start_time": "2022-08-23T19:50:59.360Z"
   },
   {
    "duration": 272,
    "start_time": "2022-08-23T19:51:29.288Z"
   },
   {
    "duration": 267,
    "start_time": "2022-08-23T19:52:39.056Z"
   },
   {
    "duration": 1092,
    "start_time": "2022-08-23T19:53:43.503Z"
   },
   {
    "duration": 278,
    "start_time": "2022-08-23T20:31:04.147Z"
   },
   {
    "duration": 55,
    "start_time": "2022-08-23T20:31:39.114Z"
   },
   {
    "duration": 303,
    "start_time": "2022-08-23T20:31:46.174Z"
   },
   {
    "duration": 272,
    "start_time": "2022-08-23T20:32:52.861Z"
   },
   {
    "duration": 334,
    "start_time": "2022-08-23T20:32:56.117Z"
   },
   {
    "duration": 287,
    "start_time": "2022-08-23T20:33:49.497Z"
   },
   {
    "duration": 5,
    "start_time": "2022-08-23T20:34:11.969Z"
   },
   {
    "duration": 989,
    "start_time": "2022-08-23T20:34:12.518Z"
   },
   {
    "duration": 22,
    "start_time": "2022-08-23T20:34:13.509Z"
   },
   {
    "duration": 121,
    "start_time": "2022-08-23T20:34:14.404Z"
   },
   {
    "duration": 360,
    "start_time": "2022-08-23T20:34:15.397Z"
   },
   {
    "duration": 445,
    "start_time": "2022-08-23T20:34:16.145Z"
   },
   {
    "duration": 31,
    "start_time": "2022-08-23T20:34:24.387Z"
   },
   {
    "duration": 83,
    "start_time": "2022-08-23T20:34:41.074Z"
   },
   {
    "duration": 91,
    "start_time": "2022-08-23T20:34:48.634Z"
   },
   {
    "duration": 150,
    "start_time": "2022-08-23T20:34:49.143Z"
   },
   {
    "duration": 169,
    "start_time": "2022-08-23T20:34:50.417Z"
   },
   {
    "duration": 74,
    "start_time": "2022-08-23T20:34:52.458Z"
   },
   {
    "duration": 71,
    "start_time": "2022-08-23T20:35:10.042Z"
   },
   {
    "duration": 3,
    "start_time": "2022-08-23T20:35:10.554Z"
   },
   {
    "duration": 45,
    "start_time": "2022-08-23T20:35:12.833Z"
   },
   {
    "duration": 67,
    "start_time": "2022-08-23T20:38:19.824Z"
   },
   {
    "duration": 14,
    "start_time": "2022-08-23T20:39:05.801Z"
   },
   {
    "duration": 24,
    "start_time": "2022-08-23T20:39:09.947Z"
   },
   {
    "duration": 10,
    "start_time": "2022-08-23T20:39:20.768Z"
   },
   {
    "duration": 65,
    "start_time": "2022-08-23T20:39:38.645Z"
   },
   {
    "duration": 10,
    "start_time": "2022-08-23T20:39:48.290Z"
   },
   {
    "duration": 12,
    "start_time": "2022-08-23T20:40:02.086Z"
   },
   {
    "duration": 11,
    "start_time": "2022-08-23T20:40:11.040Z"
   },
   {
    "duration": 11,
    "start_time": "2022-08-23T20:40:17.292Z"
   },
   {
    "duration": 10,
    "start_time": "2022-08-23T20:40:22.802Z"
   },
   {
    "duration": 11,
    "start_time": "2022-08-23T20:40:35.910Z"
   },
   {
    "duration": 11,
    "start_time": "2022-08-23T20:40:41.487Z"
   },
   {
    "duration": 441,
    "start_time": "2022-08-23T20:42:01.386Z"
   },
   {
    "duration": 262,
    "start_time": "2022-08-23T20:42:44.961Z"
   },
   {
    "duration": 283,
    "start_time": "2022-08-23T20:43:10.960Z"
   },
   {
    "duration": 46,
    "start_time": "2022-08-23T20:43:36.849Z"
   },
   {
    "duration": 283,
    "start_time": "2022-08-23T20:43:43.960Z"
   },
   {
    "duration": 229,
    "start_time": "2022-08-23T20:43:56.950Z"
   },
   {
    "duration": 230,
    "start_time": "2022-08-23T20:44:22.626Z"
   },
   {
    "duration": 244,
    "start_time": "2022-08-23T20:45:29.423Z"
   },
   {
    "duration": 258,
    "start_time": "2022-08-23T20:45:34.558Z"
   },
   {
    "duration": 251,
    "start_time": "2022-08-23T20:45:39.936Z"
   },
   {
    "duration": 255,
    "start_time": "2022-08-23T20:46:01.551Z"
   },
   {
    "duration": 256,
    "start_time": "2022-08-23T20:46:20.649Z"
   },
   {
    "duration": 238,
    "start_time": "2022-08-23T20:46:38.739Z"
   },
   {
    "duration": 61,
    "start_time": "2022-08-23T20:46:57.818Z"
   },
   {
    "duration": 48,
    "start_time": "2022-08-23T20:47:08.583Z"
   },
   {
    "duration": 255,
    "start_time": "2022-08-23T20:47:30.055Z"
   },
   {
    "duration": 242,
    "start_time": "2022-08-23T20:47:50.449Z"
   },
   {
    "duration": 66,
    "start_time": "2022-08-23T20:47:55.328Z"
   },
   {
    "duration": 309,
    "start_time": "2022-08-23T20:48:06.504Z"
   },
   {
    "duration": 40,
    "start_time": "2022-08-23T20:49:41.142Z"
   },
   {
    "duration": 88,
    "start_time": "2022-08-23T20:49:50.870Z"
   },
   {
    "duration": 251,
    "start_time": "2022-08-23T20:50:23.310Z"
   },
   {
    "duration": 48,
    "start_time": "2022-08-23T20:51:13.186Z"
   },
   {
    "duration": 44,
    "start_time": "2022-08-23T20:52:07.486Z"
   },
   {
    "duration": 38,
    "start_time": "2022-08-23T20:52:22.059Z"
   },
   {
    "duration": 26,
    "start_time": "2022-08-23T20:52:53.814Z"
   },
   {
    "duration": 45,
    "start_time": "2022-08-23T20:53:15.629Z"
   },
   {
    "duration": 655,
    "start_time": "2022-08-23T20:53:39.087Z"
   },
   {
    "duration": 322,
    "start_time": "2022-08-23T20:53:52.058Z"
   },
   {
    "duration": 251,
    "start_time": "2022-08-23T20:54:31.251Z"
   },
   {
    "duration": 312,
    "start_time": "2022-08-23T20:55:26.671Z"
   },
   {
    "duration": 314,
    "start_time": "2022-08-23T20:56:06.020Z"
   },
   {
    "duration": 270,
    "start_time": "2022-08-23T20:56:49.065Z"
   },
   {
    "duration": 4,
    "start_time": "2022-08-23T20:57:17.275Z"
   },
   {
    "duration": 760,
    "start_time": "2022-08-23T20:57:17.907Z"
   },
   {
    "duration": 22,
    "start_time": "2022-08-23T20:57:18.694Z"
   },
   {
    "duration": 126,
    "start_time": "2022-08-23T20:57:19.570Z"
   },
   {
    "duration": 370,
    "start_time": "2022-08-23T20:57:20.689Z"
   },
   {
    "duration": 394,
    "start_time": "2022-08-23T20:57:21.535Z"
   },
   {
    "duration": 31,
    "start_time": "2022-08-23T20:57:28.534Z"
   },
   {
    "duration": 80,
    "start_time": "2022-08-23T20:57:32.300Z"
   },
   {
    "duration": 77,
    "start_time": "2022-08-23T20:57:33.458Z"
   },
   {
    "duration": 3,
    "start_time": "2022-08-23T20:57:34.406Z"
   },
   {
    "duration": 52,
    "start_time": "2022-08-23T20:57:35.610Z"
   },
   {
    "duration": 423,
    "start_time": "2022-08-23T20:57:38.074Z"
   },
   {
    "duration": 289,
    "start_time": "2022-08-23T20:57:42.811Z"
   },
   {
    "duration": 26,
    "start_time": "2022-08-23T20:59:28.922Z"
   },
   {
    "duration": 11,
    "start_time": "2022-08-23T20:59:52.986Z"
   },
   {
    "duration": 439,
    "start_time": "2022-08-23T20:59:54.353Z"
   },
   {
    "duration": 264,
    "start_time": "2022-08-23T21:00:03.525Z"
   },
   {
    "duration": 48,
    "start_time": "2022-08-23T21:01:14.728Z"
   },
   {
    "duration": 58,
    "start_time": "2022-08-23T21:01:29.683Z"
   },
   {
    "duration": 122,
    "start_time": "2022-08-23T21:02:07.235Z"
   },
   {
    "duration": 152,
    "start_time": "2022-08-23T21:02:11.258Z"
   },
   {
    "duration": 57,
    "start_time": "2022-08-23T21:02:12.068Z"
   },
   {
    "duration": 14,
    "start_time": "2022-08-23T21:06:47.216Z"
   },
   {
    "duration": 11,
    "start_time": "2022-08-23T21:07:45.540Z"
   },
   {
    "duration": 10,
    "start_time": "2022-08-23T21:07:51.534Z"
   },
   {
    "duration": 14,
    "start_time": "2022-08-23T21:07:55.288Z"
   },
   {
    "duration": 13,
    "start_time": "2022-08-23T21:07:57.714Z"
   },
   {
    "duration": 15,
    "start_time": "2022-08-23T21:08:07.729Z"
   },
   {
    "duration": 13,
    "start_time": "2022-08-23T21:08:45.221Z"
   },
   {
    "duration": 64,
    "start_time": "2022-08-23T21:09:56.416Z"
   },
   {
    "duration": 57,
    "start_time": "2022-08-23T21:09:57.074Z"
   },
   {
    "duration": 66,
    "start_time": "2022-08-23T21:10:25.185Z"
   },
   {
    "duration": 57,
    "start_time": "2022-08-23T21:10:36.516Z"
   },
   {
    "duration": 242,
    "start_time": "2022-08-23T21:11:30.790Z"
   },
   {
    "duration": 304,
    "start_time": "2022-08-23T21:12:30.348Z"
   },
   {
    "duration": 256,
    "start_time": "2022-08-23T21:13:58.069Z"
   },
   {
    "duration": 288,
    "start_time": "2022-08-23T21:14:13.199Z"
   },
   {
    "duration": 285,
    "start_time": "2022-08-23T21:14:17.846Z"
   },
   {
    "duration": 247,
    "start_time": "2022-08-23T21:14:49.275Z"
   },
   {
    "duration": 270,
    "start_time": "2022-08-23T21:15:01.956Z"
   },
   {
    "duration": 266,
    "start_time": "2022-08-23T21:15:05.838Z"
   },
   {
    "duration": 345,
    "start_time": "2022-08-23T21:15:26.459Z"
   },
   {
    "duration": 336,
    "start_time": "2022-08-23T21:15:36.135Z"
   },
   {
    "duration": 280,
    "start_time": "2022-08-23T21:15:40.671Z"
   },
   {
    "duration": 278,
    "start_time": "2022-08-23T21:15:44.151Z"
   },
   {
    "duration": 298,
    "start_time": "2022-08-23T21:15:47.365Z"
   },
   {
    "duration": 29,
    "start_time": "2022-08-23T21:15:53.742Z"
   },
   {
    "duration": 319,
    "start_time": "2022-08-23T21:16:06.408Z"
   },
   {
    "duration": 257,
    "start_time": "2022-08-23T21:16:24.199Z"
   },
   {
    "duration": 297,
    "start_time": "2022-08-23T21:17:00.333Z"
   },
   {
    "duration": 296,
    "start_time": "2022-08-23T21:17:15.142Z"
   },
   {
    "duration": 272,
    "start_time": "2022-08-23T21:17:28.272Z"
   },
   {
    "duration": 1022,
    "start_time": "2022-08-23T21:17:45.159Z"
   },
   {
    "duration": 326,
    "start_time": "2022-08-23T21:17:56.090Z"
   },
   {
    "duration": 279,
    "start_time": "2022-08-23T21:18:09.112Z"
   },
   {
    "duration": 283,
    "start_time": "2022-08-23T21:18:30.929Z"
   },
   {
    "duration": 243,
    "start_time": "2022-08-23T21:18:38.034Z"
   },
   {
    "duration": 243,
    "start_time": "2022-08-23T21:18:42.714Z"
   },
   {
    "duration": 424,
    "start_time": "2022-08-23T21:18:46.419Z"
   },
   {
    "duration": 311,
    "start_time": "2022-08-23T21:18:58.581Z"
   },
   {
    "duration": 467,
    "start_time": "2022-08-23T21:19:06.220Z"
   },
   {
    "duration": 350,
    "start_time": "2022-08-23T21:19:10.090Z"
   },
   {
    "duration": 274,
    "start_time": "2022-08-23T21:19:24.310Z"
   },
   {
    "duration": 290,
    "start_time": "2022-08-23T21:20:10.547Z"
   },
   {
    "duration": 10,
    "start_time": "2022-08-23T21:20:29.111Z"
   },
   {
    "duration": 25,
    "start_time": "2022-08-23T21:20:40.643Z"
   },
   {
    "duration": 20,
    "start_time": "2022-08-23T21:20:46.038Z"
   },
   {
    "duration": 33,
    "start_time": "2022-08-23T21:21:07.438Z"
   },
   {
    "duration": 9,
    "start_time": "2022-08-23T21:22:08.957Z"
   },
   {
    "duration": 33,
    "start_time": "2022-08-23T21:22:10.575Z"
   },
   {
    "duration": 6,
    "start_time": "2022-08-23T21:22:18.454Z"
   },
   {
    "duration": 758,
    "start_time": "2022-08-23T21:22:18.605Z"
   },
   {
    "duration": 28,
    "start_time": "2022-08-23T21:22:19.365Z"
   },
   {
    "duration": 135,
    "start_time": "2022-08-23T21:22:19.962Z"
   },
   {
    "duration": 377,
    "start_time": "2022-08-23T21:22:20.338Z"
   },
   {
    "duration": 408,
    "start_time": "2022-08-23T21:22:21.530Z"
   },
   {
    "duration": 40,
    "start_time": "2022-08-23T21:22:26.028Z"
   },
   {
    "duration": 111,
    "start_time": "2022-08-23T21:22:26.914Z"
   },
   {
    "duration": 96,
    "start_time": "2022-08-23T21:22:30.277Z"
   },
   {
    "duration": 3,
    "start_time": "2022-08-23T21:22:32.125Z"
   },
   {
    "duration": 57,
    "start_time": "2022-08-23T21:22:33.469Z"
   },
   {
    "duration": 590,
    "start_time": "2022-08-23T21:22:35.776Z"
   },
   {
    "duration": 368,
    "start_time": "2022-08-23T21:22:37.545Z"
   },
   {
    "duration": 24,
    "start_time": "2022-08-23T21:22:40.559Z"
   },
   {
    "duration": 12,
    "start_time": "2022-08-23T21:22:41.212Z"
   },
   {
    "duration": 573,
    "start_time": "2022-08-23T21:22:54.045Z"
   },
   {
    "duration": 307,
    "start_time": "2022-08-23T21:22:58.833Z"
   },
   {
    "duration": 285,
    "start_time": "2022-08-23T21:23:34.599Z"
   },
   {
    "duration": 282,
    "start_time": "2022-08-23T21:23:44.149Z"
   },
   {
    "duration": 274,
    "start_time": "2022-08-23T21:23:51.361Z"
   },
   {
    "duration": 305,
    "start_time": "2022-08-23T21:24:16.628Z"
   },
   {
    "duration": 50,
    "start_time": "2022-08-23T21:24:35.162Z"
   },
   {
    "duration": 44,
    "start_time": "2022-08-23T21:24:52.978Z"
   },
   {
    "duration": 425,
    "start_time": "2022-08-23T21:25:03.207Z"
   },
   {
    "duration": 304,
    "start_time": "2022-08-23T21:25:04.881Z"
   },
   {
    "duration": 40,
    "start_time": "2022-08-23T21:25:17.288Z"
   },
   {
    "duration": 56,
    "start_time": "2022-08-23T21:25:19.295Z"
   },
   {
    "duration": 193,
    "start_time": "2022-08-23T21:25:29.552Z"
   },
   {
    "duration": 205,
    "start_time": "2022-08-23T21:25:33.582Z"
   },
   {
    "duration": 62,
    "start_time": "2022-08-23T21:25:34.113Z"
   },
   {
    "duration": 20,
    "start_time": "2022-08-23T21:25:37.570Z"
   },
   {
    "duration": 16,
    "start_time": "2022-08-23T21:25:38.322Z"
   },
   {
    "duration": 23,
    "start_time": "2022-08-23T21:25:40.211Z"
   },
   {
    "duration": 23,
    "start_time": "2022-08-23T21:25:40.567Z"
   },
   {
    "duration": 83,
    "start_time": "2022-08-23T21:25:41.974Z"
   },
   {
    "duration": 68,
    "start_time": "2022-08-23T21:25:42.935Z"
   },
   {
    "duration": 62,
    "start_time": "2022-08-23T21:25:44.858Z"
   },
   {
    "duration": 172,
    "start_time": "2022-08-23T21:25:51.534Z"
   },
   {
    "duration": 77,
    "start_time": "2022-08-23T21:25:54.140Z"
   },
   {
    "duration": 349,
    "start_time": "2022-08-23T21:25:58.256Z"
   },
   {
    "duration": 75,
    "start_time": "2022-08-23T21:27:08.506Z"
   },
   {
    "duration": 3,
    "start_time": "2022-08-23T21:27:13.917Z"
   },
   {
    "duration": 37,
    "start_time": "2022-08-23T21:27:14.573Z"
   },
   {
    "duration": 10039,
    "start_time": "2022-08-23T21:27:21.120Z"
   },
   {
    "duration": 35,
    "start_time": "2022-08-23T21:27:31.162Z"
   },
   {
    "duration": 26,
    "start_time": "2022-08-23T21:27:53.673Z"
   },
   {
    "duration": 3,
    "start_time": "2022-08-23T21:28:38.406Z"
   },
   {
    "duration": 12,
    "start_time": "2022-08-23T21:28:39.006Z"
   },
   {
    "duration": 50,
    "start_time": "2022-08-23T21:28:40.556Z"
   },
   {
    "duration": 31,
    "start_time": "2022-08-23T21:28:41.272Z"
   },
   {
    "duration": 584,
    "start_time": "2022-08-23T21:28:43.979Z"
   },
   {
    "duration": 2,
    "start_time": "2022-08-23T21:28:45.213Z"
   },
   {
    "duration": 15,
    "start_time": "2022-08-23T21:28:47.765Z"
   },
   {
    "duration": 117,
    "start_time": "2022-08-23T21:28:48.613Z"
   },
   {
    "duration": 194,
    "start_time": "2022-08-23T21:28:51.228Z"
   },
   {
    "duration": 5,
    "start_time": "2022-08-23T21:28:52.710Z"
   },
   {
    "duration": 45,
    "start_time": "2022-08-24T06:28:19.935Z"
   },
   {
    "duration": 8,
    "start_time": "2022-08-24T06:51:23.083Z"
   },
   {
    "duration": 1406,
    "start_time": "2022-08-24T06:51:33.879Z"
   },
   {
    "duration": 1080,
    "start_time": "2022-08-24T06:51:35.286Z"
   },
   {
    "duration": 29,
    "start_time": "2022-08-24T06:51:36.369Z"
   },
   {
    "duration": 136,
    "start_time": "2022-08-24T06:51:39.947Z"
   },
   {
    "duration": 429,
    "start_time": "2022-08-24T06:51:40.677Z"
   },
   {
    "duration": 478,
    "start_time": "2022-08-24T06:51:41.108Z"
   },
   {
    "duration": 35,
    "start_time": "2022-08-24T06:51:42.055Z"
   },
   {
    "duration": 81,
    "start_time": "2022-08-24T06:51:42.291Z"
   },
   {
    "duration": 78,
    "start_time": "2022-08-24T06:51:42.503Z"
   },
   {
    "duration": 2,
    "start_time": "2022-08-24T06:51:42.813Z"
   },
   {
    "duration": 60,
    "start_time": "2022-08-24T06:51:43.876Z"
   },
   {
    "duration": 452,
    "start_time": "2022-08-24T06:51:44.337Z"
   },
   {
    "duration": 355,
    "start_time": "2022-08-24T06:51:44.791Z"
   },
   {
    "duration": 27,
    "start_time": "2022-08-24T06:51:46.478Z"
   },
   {
    "duration": 444,
    "start_time": "2022-08-24T06:51:49.303Z"
   },
   {
    "duration": 313,
    "start_time": "2022-08-24T06:51:51.845Z"
   },
   {
    "duration": 40,
    "start_time": "2022-08-24T06:51:54.044Z"
   },
   {
    "duration": 369,
    "start_time": "2022-08-24T06:51:59.728Z"
   },
   {
    "duration": 239,
    "start_time": "2022-08-24T06:52:20.108Z"
   },
   {
    "duration": 16,
    "start_time": "2022-08-24T06:52:27.190Z"
   },
   {
    "duration": 17,
    "start_time": "2022-08-24T06:52:41.979Z"
   },
   {
    "duration": 17,
    "start_time": "2022-08-24T06:52:52.693Z"
   },
   {
    "duration": 88,
    "start_time": "2022-08-24T06:53:27.668Z"
   },
   {
    "duration": 85,
    "start_time": "2022-08-24T06:53:34.686Z"
   },
   {
    "duration": 94,
    "start_time": "2022-08-24T06:54:05.786Z"
   },
   {
    "duration": 277,
    "start_time": "2022-08-24T06:54:24.756Z"
   },
   {
    "duration": 71,
    "start_time": "2022-08-24T06:54:40.354Z"
   },
   {
    "duration": 87,
    "start_time": "2022-08-24T06:54:43.758Z"
   },
   {
    "duration": 9,
    "start_time": "2022-08-24T06:55:02.779Z"
   },
   {
    "duration": 87,
    "start_time": "2022-08-24T06:55:10.516Z"
   },
   {
    "duration": 270,
    "start_time": "2022-08-24T06:55:22.002Z"
   },
   {
    "duration": 51,
    "start_time": "2022-08-24T06:56:03.703Z"
   },
   {
    "duration": 23,
    "start_time": "2022-08-24T06:56:09.078Z"
   },
   {
    "duration": 20,
    "start_time": "2022-08-24T06:56:16.979Z"
   },
   {
    "duration": 57,
    "start_time": "2022-08-24T06:56:43.882Z"
   },
   {
    "duration": 84,
    "start_time": "2022-08-24T06:56:49.174Z"
   },
   {
    "duration": 7,
    "start_time": "2022-08-24T06:56:54.917Z"
   },
   {
    "duration": 11,
    "start_time": "2022-08-24T06:57:18.173Z"
   },
   {
    "duration": 33,
    "start_time": "2022-08-24T06:57:29.017Z"
   },
   {
    "duration": 34,
    "start_time": "2022-08-24T06:57:37.329Z"
   },
   {
    "duration": 4,
    "start_time": "2022-08-24T06:57:52.888Z"
   },
   {
    "duration": 739,
    "start_time": "2022-08-24T06:57:53.103Z"
   },
   {
    "duration": 21,
    "start_time": "2022-08-24T06:57:53.843Z"
   },
   {
    "duration": 134,
    "start_time": "2022-08-24T06:57:53.866Z"
   },
   {
    "duration": 397,
    "start_time": "2022-08-24T06:57:54.002Z"
   },
   {
    "duration": 392,
    "start_time": "2022-08-24T06:57:54.879Z"
   },
   {
    "duration": 26,
    "start_time": "2022-08-24T06:57:57.048Z"
   },
   {
    "duration": 89,
    "start_time": "2022-08-24T06:57:57.333Z"
   },
   {
    "duration": 80,
    "start_time": "2022-08-24T06:57:58.757Z"
   },
   {
    "duration": 3,
    "start_time": "2022-08-24T06:57:59.628Z"
   },
   {
    "duration": 53,
    "start_time": "2022-08-24T06:58:01.128Z"
   },
   {
    "duration": 429,
    "start_time": "2022-08-24T06:58:02.193Z"
   },
   {
    "duration": 397,
    "start_time": "2022-08-24T06:58:03.274Z"
   },
   {
    "duration": 25,
    "start_time": "2022-08-24T06:58:06.697Z"
   },
   {
    "duration": 442,
    "start_time": "2022-08-24T06:58:08.361Z"
   },
   {
    "duration": 245,
    "start_time": "2022-08-24T06:58:15.082Z"
   },
   {
    "duration": 37,
    "start_time": "2022-08-24T06:58:30.898Z"
   },
   {
    "duration": 34,
    "start_time": "2022-08-24T06:58:46.109Z"
   },
   {
    "duration": 364,
    "start_time": "2022-08-24T06:58:50.784Z"
   },
   {
    "duration": 261,
    "start_time": "2022-08-24T06:58:54.285Z"
   },
   {
    "duration": 17,
    "start_time": "2022-08-24T06:59:17.595Z"
   },
   {
    "duration": 93,
    "start_time": "2022-08-24T06:59:33.620Z"
   },
   {
    "duration": 71,
    "start_time": "2022-08-24T07:02:14.174Z"
   },
   {
    "duration": 13,
    "start_time": "2022-08-24T07:02:24.386Z"
   },
   {
    "duration": 49,
    "start_time": "2022-08-24T07:02:42.810Z"
   },
   {
    "duration": 13,
    "start_time": "2022-08-24T07:02:47.357Z"
   },
   {
    "duration": 14,
    "start_time": "2022-08-24T07:03:17.519Z"
   },
   {
    "duration": 10,
    "start_time": "2022-08-24T07:03:38.166Z"
   },
   {
    "duration": 35,
    "start_time": "2022-08-24T07:06:02.863Z"
   },
   {
    "duration": 90,
    "start_time": "2022-08-24T07:06:07.160Z"
   },
   {
    "duration": 6,
    "start_time": "2022-08-24T07:07:52.381Z"
   },
   {
    "duration": 68,
    "start_time": "2022-08-24T15:14:29.259Z"
   },
   {
    "duration": 271,
    "start_time": "2022-08-24T15:15:19.812Z"
   },
   {
    "duration": 174,
    "start_time": "2022-08-24T15:16:07.255Z"
   },
   {
    "duration": 19,
    "start_time": "2022-08-24T15:18:33.790Z"
   },
   {
    "duration": 54,
    "start_time": "2022-08-24T15:18:35.169Z"
   },
   {
    "duration": 191,
    "start_time": "2022-08-24T15:19:06.002Z"
   },
   {
    "duration": 17,
    "start_time": "2022-08-24T15:22:42.445Z"
   },
   {
    "duration": 31,
    "start_time": "2022-08-24T15:23:09.159Z"
   },
   {
    "duration": 31,
    "start_time": "2022-08-24T15:23:25.719Z"
   },
   {
    "duration": 11,
    "start_time": "2022-08-24T15:23:34.376Z"
   },
   {
    "duration": 39,
    "start_time": "2022-08-24T15:23:42.677Z"
   },
   {
    "duration": 162,
    "start_time": "2022-08-24T15:23:51.984Z"
   },
   {
    "duration": 31,
    "start_time": "2022-08-24T15:24:18.730Z"
   },
   {
    "duration": 150,
    "start_time": "2022-08-24T15:24:42.359Z"
   },
   {
    "duration": 166,
    "start_time": "2022-08-24T15:24:48.620Z"
   },
   {
    "duration": 68,
    "start_time": "2022-08-24T15:24:49.533Z"
   },
   {
    "duration": 6,
    "start_time": "2022-08-24T15:25:07.886Z"
   },
   {
    "duration": 783,
    "start_time": "2022-08-24T15:25:08.364Z"
   },
   {
    "duration": 21,
    "start_time": "2022-08-24T15:25:09.149Z"
   },
   {
    "duration": 128,
    "start_time": "2022-08-24T15:25:09.317Z"
   },
   {
    "duration": 393,
    "start_time": "2022-08-24T15:25:09.709Z"
   },
   {
    "duration": 430,
    "start_time": "2022-08-24T15:25:10.104Z"
   },
   {
    "duration": 24,
    "start_time": "2022-08-24T15:25:11.544Z"
   },
   {
    "duration": 90,
    "start_time": "2022-08-24T15:25:11.749Z"
   },
   {
    "duration": 82,
    "start_time": "2022-08-24T15:25:11.941Z"
   },
   {
    "duration": 2,
    "start_time": "2022-08-24T15:25:12.158Z"
   },
   {
    "duration": 54,
    "start_time": "2022-08-24T15:25:12.409Z"
   },
   {
    "duration": 441,
    "start_time": "2022-08-24T15:25:13.849Z"
   },
   {
    "duration": 303,
    "start_time": "2022-08-24T15:25:14.369Z"
   },
   {
    "duration": 26,
    "start_time": "2022-08-24T15:25:15.733Z"
   },
   {
    "duration": 548,
    "start_time": "2022-08-24T15:25:16.234Z"
   },
   {
    "duration": 246,
    "start_time": "2022-08-24T15:25:16.996Z"
   },
   {
    "duration": 36,
    "start_time": "2022-08-24T15:25:18.726Z"
   },
   {
    "duration": 367,
    "start_time": "2022-08-24T15:25:22.151Z"
   },
   {
    "duration": 282,
    "start_time": "2022-08-24T15:25:24.730Z"
   },
   {
    "duration": 12,
    "start_time": "2022-08-24T15:25:28.121Z"
   },
   {
    "duration": 35,
    "start_time": "2022-08-24T15:25:33.941Z"
   },
   {
    "duration": 6,
    "start_time": "2022-08-24T15:25:34.519Z"
   },
   {
    "duration": 19,
    "start_time": "2022-08-24T15:25:35.547Z"
   },
   {
    "duration": 59,
    "start_time": "2022-08-24T15:25:37.751Z"
   },
   {
    "duration": 416,
    "start_time": "2022-08-24T15:26:12.797Z"
   },
   {
    "duration": 412,
    "start_time": "2022-08-24T15:26:13.384Z"
   },
   {
    "duration": 10,
    "start_time": "2022-08-24T15:26:14.595Z"
   },
   {
    "duration": 34,
    "start_time": "2022-08-24T15:26:15.475Z"
   },
   {
    "duration": 5,
    "start_time": "2022-08-24T15:26:17.647Z"
   },
   {
    "duration": 26,
    "start_time": "2022-08-24T15:26:18.425Z"
   },
   {
    "duration": 56,
    "start_time": "2022-08-24T15:26:19.335Z"
   },
   {
    "duration": 74,
    "start_time": "2022-08-24T15:26:21.018Z"
   },
   {
    "duration": 19,
    "start_time": "2022-08-24T15:26:23.376Z"
   },
   {
    "duration": 19,
    "start_time": "2022-08-24T15:26:33.000Z"
   },
   {
    "duration": 20,
    "start_time": "2022-08-24T15:26:37.102Z"
   },
   {
    "duration": 18,
    "start_time": "2022-08-24T15:26:42.131Z"
   },
   {
    "duration": 82,
    "start_time": "2022-08-24T15:26:48.499Z"
   },
   {
    "duration": 75,
    "start_time": "2022-08-24T15:26:49.139Z"
   },
   {
    "duration": 81,
    "start_time": "2022-08-24T15:26:49.896Z"
   },
   {
    "duration": 152,
    "start_time": "2022-08-24T15:26:58.950Z"
   },
   {
    "duration": 229,
    "start_time": "2022-08-24T15:27:24.725Z"
   },
   {
    "duration": 139,
    "start_time": "2022-08-24T15:27:42.019Z"
   },
   {
    "duration": 138,
    "start_time": "2022-08-24T15:27:50.256Z"
   },
   {
    "duration": 136,
    "start_time": "2022-08-24T15:28:05.195Z"
   },
   {
    "duration": 135,
    "start_time": "2022-08-24T15:28:11.050Z"
   },
   {
    "duration": 141,
    "start_time": "2022-08-24T15:29:33.989Z"
   },
   {
    "duration": 83,
    "start_time": "2022-08-24T15:29:36.029Z"
   },
   {
    "duration": 136,
    "start_time": "2022-08-24T15:30:01.244Z"
   },
   {
    "duration": 169,
    "start_time": "2022-08-24T15:30:01.904Z"
   },
   {
    "duration": 71,
    "start_time": "2022-08-24T15:30:02.667Z"
   },
   {
    "duration": 83,
    "start_time": "2022-08-24T15:30:05.411Z"
   },
   {
    "duration": 3,
    "start_time": "2022-08-24T15:30:10.008Z"
   },
   {
    "duration": 23,
    "start_time": "2022-08-24T15:30:10.285Z"
   },
   {
    "duration": 9782,
    "start_time": "2022-08-24T15:30:25.312Z"
   },
   {
    "duration": 14,
    "start_time": "2022-08-24T15:30:35.096Z"
   },
   {
    "duration": 17,
    "start_time": "2022-08-24T15:30:35.853Z"
   },
   {
    "duration": 4,
    "start_time": "2022-08-24T15:33:15.773Z"
   },
   {
    "duration": 855,
    "start_time": "2022-08-24T15:33:16.011Z"
   },
   {
    "duration": 29,
    "start_time": "2022-08-24T15:33:16.868Z"
   },
   {
    "duration": 134,
    "start_time": "2022-08-24T15:33:16.899Z"
   },
   {
    "duration": 456,
    "start_time": "2022-08-24T15:33:17.035Z"
   },
   {
    "duration": 441,
    "start_time": "2022-08-24T15:33:17.493Z"
   },
   {
    "duration": 25,
    "start_time": "2022-08-24T15:33:17.936Z"
   },
   {
    "duration": 101,
    "start_time": "2022-08-24T15:33:17.963Z"
   },
   {
    "duration": 92,
    "start_time": "2022-08-24T15:33:18.066Z"
   },
   {
    "duration": 54,
    "start_time": "2022-08-24T15:33:18.382Z"
   },
   {
    "duration": 464,
    "start_time": "2022-08-24T15:33:18.829Z"
   },
   {
    "duration": 341,
    "start_time": "2022-08-24T15:33:19.295Z"
   },
   {
    "duration": 27,
    "start_time": "2022-08-24T15:33:19.638Z"
   },
   {
    "duration": 489,
    "start_time": "2022-08-24T15:33:19.699Z"
   },
   {
    "duration": 436,
    "start_time": "2022-08-24T15:33:20.190Z"
   },
   {
    "duration": 36,
    "start_time": "2022-08-24T15:33:20.627Z"
   },
   {
    "duration": 373,
    "start_time": "2022-08-24T15:33:22.350Z"
   },
   {
    "duration": 267,
    "start_time": "2022-08-24T15:33:25.052Z"
   },
   {
    "duration": 15,
    "start_time": "2022-08-24T15:33:26.322Z"
   },
   {
    "duration": 36,
    "start_time": "2022-08-24T15:33:27.187Z"
   },
   {
    "duration": 6,
    "start_time": "2022-08-24T15:33:35.390Z"
   },
   {
    "duration": 20,
    "start_time": "2022-08-24T15:33:37.107Z"
   },
   {
    "duration": 59,
    "start_time": "2022-08-24T15:33:37.733Z"
   },
   {
    "duration": 74,
    "start_time": "2022-08-24T15:33:38.676Z"
   },
   {
    "duration": 20,
    "start_time": "2022-08-24T15:33:43.976Z"
   },
   {
    "duration": 20,
    "start_time": "2022-08-24T15:33:47.756Z"
   },
   {
    "duration": 22,
    "start_time": "2022-08-24T15:33:49.350Z"
   },
   {
    "duration": 17,
    "start_time": "2022-08-24T15:34:02.042Z"
   },
   {
    "duration": 20,
    "start_time": "2022-08-24T15:34:05.289Z"
   },
   {
    "duration": 19,
    "start_time": "2022-08-24T15:34:09.410Z"
   },
   {
    "duration": 83,
    "start_time": "2022-08-24T15:34:13.793Z"
   },
   {
    "duration": 73,
    "start_time": "2022-08-24T15:34:14.785Z"
   },
   {
    "duration": 91,
    "start_time": "2022-08-24T15:34:16.266Z"
   },
   {
    "duration": 142,
    "start_time": "2022-08-24T15:34:18.341Z"
   },
   {
    "duration": 79,
    "start_time": "2022-08-24T15:34:23.688Z"
   },
   {
    "duration": 87,
    "start_time": "2022-08-24T15:34:49.284Z"
   },
   {
    "duration": 2,
    "start_time": "2022-08-24T15:34:50.310Z"
   },
   {
    "duration": 26,
    "start_time": "2022-08-24T15:34:51.064Z"
   },
   {
    "duration": 189,
    "start_time": "2022-08-24T15:35:30.084Z"
   },
   {
    "duration": 275,
    "start_time": "2022-08-24T15:36:22.137Z"
   },
   {
    "duration": 273,
    "start_time": "2022-08-24T15:36:49.295Z"
   },
   {
    "duration": 25,
    "start_time": "2022-08-24T15:37:37.323Z"
   },
   {
    "duration": 11436,
    "start_time": "2022-08-24T15:39:12.438Z"
   },
   {
    "duration": 3,
    "start_time": "2022-08-24T15:39:23.875Z"
   },
   {
    "duration": 16,
    "start_time": "2022-08-24T15:39:28.598Z"
   },
   {
    "duration": 60,
    "start_time": "2022-08-24T15:39:33.629Z"
   },
   {
    "duration": 17,
    "start_time": "2022-08-24T15:39:34.742Z"
   },
   {
    "duration": 795,
    "start_time": "2022-08-24T15:40:02.734Z"
   },
   {
    "duration": 4,
    "start_time": "2022-08-24T15:40:06.650Z"
   },
   {
    "duration": 26,
    "start_time": "2022-08-24T15:40:09.625Z"
   },
   {
    "duration": 151,
    "start_time": "2022-08-24T15:40:13.076Z"
   },
   {
    "duration": 397,
    "start_time": "2022-08-24T15:43:36.546Z"
   },
   {
    "duration": 253,
    "start_time": "2022-08-24T15:43:42.703Z"
   },
   {
    "duration": 5,
    "start_time": "2022-08-24T15:44:42.655Z"
   },
   {
    "duration": 162672,
    "start_time": "2022-08-24T15:44:59.231Z"
   },
   {
    "duration": 4,
    "start_time": "2022-08-24T15:48:07.611Z"
   },
   {
    "duration": 17514,
    "start_time": "2022-08-24T15:48:26.973Z"
   },
   {
    "duration": 190,
    "start_time": "2022-08-24T15:48:46.503Z"
   },
   {
    "duration": 5,
    "start_time": "2022-08-24T15:48:48.856Z"
   },
   {
    "duration": 29680,
    "start_time": "2022-08-24T15:49:05.508Z"
   },
   {
    "duration": 164,
    "start_time": "2022-08-24T15:49:35.190Z"
   },
   {
    "duration": 5,
    "start_time": "2022-08-24T15:49:35.355Z"
   },
   {
    "duration": 143212,
    "start_time": "2022-08-24T15:50:51.680Z"
   },
   {
    "duration": 4,
    "start_time": "2022-08-24T15:53:14.894Z"
   },
   {
    "duration": 288715,
    "start_time": "2022-08-24T15:53:14.900Z"
   },
   {
    "duration": 139,
    "start_time": "2022-08-24T16:10:17.766Z"
   },
   {
    "duration": 4,
    "start_time": "2022-08-24T16:10:36.685Z"
   },
   {
    "duration": 712,
    "start_time": "2022-08-24T16:10:36.876Z"
   },
   {
    "duration": 24,
    "start_time": "2022-08-24T16:10:37.590Z"
   },
   {
    "duration": 147,
    "start_time": "2022-08-24T16:10:37.616Z"
   },
   {
    "duration": 409,
    "start_time": "2022-08-24T16:10:37.766Z"
   },
   {
    "duration": 424,
    "start_time": "2022-08-24T16:10:38.176Z"
   },
   {
    "duration": 24,
    "start_time": "2022-08-24T16:10:38.603Z"
   },
   {
    "duration": 109,
    "start_time": "2022-08-24T16:10:38.629Z"
   },
   {
    "duration": 92,
    "start_time": "2022-08-24T16:10:38.740Z"
   },
   {
    "duration": 53,
    "start_time": "2022-08-24T16:10:39.014Z"
   },
   {
    "duration": 444,
    "start_time": "2022-08-24T16:10:39.332Z"
   },
   {
    "duration": 336,
    "start_time": "2022-08-24T16:10:39.779Z"
   },
   {
    "duration": 26,
    "start_time": "2022-08-24T16:10:40.118Z"
   },
   {
    "duration": 538,
    "start_time": "2022-08-24T16:10:40.145Z"
   },
   {
    "duration": 265,
    "start_time": "2022-08-24T16:10:40.687Z"
   },
   {
    "duration": 45,
    "start_time": "2022-08-24T16:10:40.954Z"
   },
   {
    "duration": 378,
    "start_time": "2022-08-24T16:10:41.001Z"
   },
   {
    "duration": 292,
    "start_time": "2022-08-24T16:10:41.381Z"
   },
   {
    "duration": 12,
    "start_time": "2022-08-24T16:10:50.303Z"
   },
   {
    "duration": 36,
    "start_time": "2022-08-24T16:10:53.881Z"
   },
   {
    "duration": 6,
    "start_time": "2022-08-24T16:10:55.059Z"
   },
   {
    "duration": 19,
    "start_time": "2022-08-24T16:10:55.784Z"
   },
   {
    "duration": 62,
    "start_time": "2022-08-24T16:10:56.352Z"
   },
   {
    "duration": 88,
    "start_time": "2022-08-24T16:11:00.371Z"
   },
   {
    "duration": 18,
    "start_time": "2022-08-24T16:11:02.414Z"
   },
   {
    "duration": 20,
    "start_time": "2022-08-24T16:11:05.826Z"
   },
   {
    "duration": 20,
    "start_time": "2022-08-24T16:11:06.106Z"
   },
   {
    "duration": 20,
    "start_time": "2022-08-24T16:11:06.589Z"
   },
   {
    "duration": 136,
    "start_time": "2022-08-24T16:12:39.030Z"
   },
   {
    "duration": 114,
    "start_time": "2022-08-24T16:14:41.493Z"
   },
   {
    "duration": 4,
    "start_time": "2022-08-24T16:15:12.160Z"
   },
   {
    "duration": 22,
    "start_time": "2022-08-24T16:15:21.720Z"
   },
   {
    "duration": 365,
    "start_time": "2022-08-24T16:15:46.443Z"
   },
   {
    "duration": 79,
    "start_time": "2022-08-24T16:16:48.497Z"
   },
   {
    "duration": 9,
    "start_time": "2022-08-24T16:17:07.963Z"
   },
   {
    "duration": 89,
    "start_time": "2022-08-24T16:17:14.616Z"
   },
   {
    "duration": 136,
    "start_time": "2022-08-24T16:17:40.694Z"
   },
   {
    "duration": 97,
    "start_time": "2022-08-24T16:18:01.839Z"
   },
   {
    "duration": 6,
    "start_time": "2022-08-24T16:18:32.885Z"
   },
   {
    "duration": 752,
    "start_time": "2022-08-24T16:18:32.983Z"
   },
   {
    "duration": 22,
    "start_time": "2022-08-24T16:18:33.738Z"
   },
   {
    "duration": 140,
    "start_time": "2022-08-24T16:18:33.762Z"
   },
   {
    "duration": 434,
    "start_time": "2022-08-24T16:18:33.904Z"
   },
   {
    "duration": 427,
    "start_time": "2022-08-24T16:18:34.340Z"
   },
   {
    "duration": 35,
    "start_time": "2022-08-24T16:18:34.770Z"
   },
   {
    "duration": 87,
    "start_time": "2022-08-24T16:18:34.806Z"
   },
   {
    "duration": 79,
    "start_time": "2022-08-24T16:18:34.895Z"
   },
   {
    "duration": 54,
    "start_time": "2022-08-24T16:18:35.259Z"
   },
   {
    "duration": 477,
    "start_time": "2022-08-24T16:18:35.584Z"
   },
   {
    "duration": 394,
    "start_time": "2022-08-24T16:18:36.063Z"
   },
   {
    "duration": 37,
    "start_time": "2022-08-24T16:18:36.459Z"
   },
   {
    "duration": 511,
    "start_time": "2022-08-24T16:18:36.498Z"
   },
   {
    "duration": 252,
    "start_time": "2022-08-24T16:18:37.011Z"
   },
   {
    "duration": 42,
    "start_time": "2022-08-24T16:18:37.264Z"
   },
   {
    "duration": 363,
    "start_time": "2022-08-24T16:18:37.919Z"
   },
   {
    "duration": 274,
    "start_time": "2022-08-24T16:18:38.652Z"
   },
   {
    "duration": 13,
    "start_time": "2022-08-24T16:18:39.762Z"
   },
   {
    "duration": 39,
    "start_time": "2022-08-24T16:18:40.937Z"
   },
   {
    "duration": 5,
    "start_time": "2022-08-24T16:18:42.214Z"
   },
   {
    "duration": 20,
    "start_time": "2022-08-24T16:18:42.559Z"
   },
   {
    "duration": 58,
    "start_time": "2022-08-24T16:18:42.809Z"
   },
   {
    "duration": 74,
    "start_time": "2022-08-24T16:18:43.052Z"
   },
   {
    "duration": 76,
    "start_time": "2022-08-24T16:19:03.762Z"
   },
   {
    "duration": 20,
    "start_time": "2022-08-24T16:19:06.131Z"
   },
   {
    "duration": 24,
    "start_time": "2022-08-24T16:19:06.558Z"
   },
   {
    "duration": 22,
    "start_time": "2022-08-24T16:19:10.037Z"
   },
   {
    "duration": 20,
    "start_time": "2022-08-24T16:19:13.880Z"
   },
   {
    "duration": 20,
    "start_time": "2022-08-24T16:19:16.799Z"
   },
   {
    "duration": 20,
    "start_time": "2022-08-24T16:19:19.656Z"
   },
   {
    "duration": 113,
    "start_time": "2022-08-24T16:19:26.007Z"
   },
   {
    "duration": 81,
    "start_time": "2022-08-24T16:19:26.589Z"
   },
   {
    "duration": 79,
    "start_time": "2022-08-24T16:19:27.367Z"
   },
   {
    "duration": 141,
    "start_time": "2022-08-24T16:19:27.877Z"
   },
   {
    "duration": 80,
    "start_time": "2022-08-24T16:19:30.822Z"
   },
   {
    "duration": 319,
    "start_time": "2022-08-24T16:19:37.205Z"
   },
   {
    "duration": 81,
    "start_time": "2022-08-24T16:19:58.015Z"
   },
   {
    "duration": 2,
    "start_time": "2022-08-24T16:19:58.317Z"
   },
   {
    "duration": 29,
    "start_time": "2022-08-24T16:19:58.605Z"
   },
   {
    "duration": 13350,
    "start_time": "2022-08-24T16:20:02.655Z"
   },
   {
    "duration": 5,
    "start_time": "2022-08-24T16:20:16.007Z"
   },
   {
    "duration": 22,
    "start_time": "2022-08-24T16:20:16.016Z"
   },
   {
    "duration": 88,
    "start_time": "2022-08-24T16:20:16.040Z"
   },
   {
    "duration": 17,
    "start_time": "2022-08-24T16:20:16.129Z"
   },
   {
    "duration": 889,
    "start_time": "2022-08-24T16:20:20.769Z"
   },
   {
    "duration": 2,
    "start_time": "2022-08-24T16:20:21.660Z"
   },
   {
    "duration": 21,
    "start_time": "2022-08-24T16:20:23.048Z"
   },
   {
    "duration": 181,
    "start_time": "2022-08-24T16:20:25.978Z"
   },
   {
    "duration": 293,
    "start_time": "2022-08-24T16:20:43.473Z"
   },
   {
    "duration": 4,
    "start_time": "2022-08-24T16:20:44.826Z"
   },
   {
    "duration": 105169,
    "start_time": "2022-08-24T16:20:52.842Z"
   },
   {
    "duration": 97,
    "start_time": "2022-08-24T16:22:38.089Z"
   },
   {
    "duration": 20702,
    "start_time": "2022-08-24T16:22:49.286Z"
   },
   {
    "duration": 196,
    "start_time": "2022-08-24T16:23:09.991Z"
   },
   {
    "duration": 97,
    "start_time": "2022-08-24T16:23:10.190Z"
   },
   {
    "duration": 72,
    "start_time": "2022-08-24T16:24:32.620Z"
   },
   {
    "duration": 38449,
    "start_time": "2022-08-24T16:24:40.254Z"
   },
   {
    "duration": 4,
    "start_time": "2022-08-24T16:26:03.843Z"
   },
   {
    "duration": 162787,
    "start_time": "2022-08-24T16:26:30.721Z"
   },
   {
    "duration": 38508,
    "start_time": "2022-08-24T16:30:03.140Z"
   },
   {
    "duration": 4,
    "start_time": "2022-08-24T16:30:41.650Z"
   },
   {
    "duration": 168048,
    "start_time": "2022-08-24T16:30:41.656Z"
   },
   {
    "duration": 3,
    "start_time": "2022-08-24T16:33:29.706Z"
   },
   {
    "duration": 82,
    "start_time": "2022-08-24T16:33:29.711Z"
   },
   {
    "duration": 10,
    "start_time": "2022-08-24T16:34:50.680Z"
   },
   {
    "duration": 9,
    "start_time": "2022-08-24T16:35:08.838Z"
   },
   {
    "duration": 66,
    "start_time": "2022-08-24T16:35:33.970Z"
   },
   {
    "duration": 3,
    "start_time": "2022-08-24T16:35:37.119Z"
   },
   {
    "duration": 4,
    "start_time": "2022-08-24T16:36:08.659Z"
   },
   {
    "duration": 3,
    "start_time": "2022-08-24T16:36:29.216Z"
   },
   {
    "duration": 3,
    "start_time": "2022-08-24T16:36:39.159Z"
   },
   {
    "duration": 4,
    "start_time": "2022-08-24T16:36:45.798Z"
   },
   {
    "duration": 4,
    "start_time": "2022-08-24T16:37:03.996Z"
   },
   {
    "duration": 11,
    "start_time": "2022-08-24T16:37:12.925Z"
   },
   {
    "duration": 7,
    "start_time": "2022-08-24T16:38:04.029Z"
   },
   {
    "duration": 26246,
    "start_time": "2022-08-24T16:38:13.352Z"
   },
   {
    "duration": 286,
    "start_time": "2022-08-24T16:38:39.601Z"
   },
   {
    "duration": 7,
    "start_time": "2022-08-24T16:38:39.890Z"
   },
   {
    "duration": 38691,
    "start_time": "2022-08-24T16:38:39.987Z"
   },
   {
    "duration": 8,
    "start_time": "2022-08-24T16:39:18.679Z"
   },
   {
    "duration": 5,
    "start_time": "2022-08-24T16:48:19.543Z"
   },
   {
    "duration": 13,
    "start_time": "2022-08-24T16:48:27.674Z"
   },
   {
    "duration": 5,
    "start_time": "2022-08-24T16:49:25.913Z"
   },
   {
    "duration": 34201,
    "start_time": "2022-08-24T16:49:30.511Z"
   },
   {
    "duration": 0,
    "start_time": "2022-08-24T16:50:04.718Z"
   },
   {
    "duration": 69957,
    "start_time": "2022-08-24T16:50:06.546Z"
   },
   {
    "duration": 0,
    "start_time": "2022-08-24T16:51:16.508Z"
   },
   {
    "duration": 0,
    "start_time": "2022-08-24T16:51:16.510Z"
   },
   {
    "duration": 47,
    "start_time": "2022-08-24T16:51:28.856Z"
   },
   {
    "duration": 6,
    "start_time": "2022-08-24T16:51:38.524Z"
   },
   {
    "duration": 45,
    "start_time": "2022-08-24T16:51:40.075Z"
   },
   {
    "duration": 1433,
    "start_time": "2022-08-24T16:51:46.447Z"
   },
   {
    "duration": 1103,
    "start_time": "2022-08-24T16:51:47.883Z"
   },
   {
    "duration": 23,
    "start_time": "2022-08-24T16:51:48.988Z"
   },
   {
    "duration": 140,
    "start_time": "2022-08-24T16:51:49.013Z"
   },
   {
    "duration": 447,
    "start_time": "2022-08-24T16:51:49.154Z"
   },
   {
    "duration": 492,
    "start_time": "2022-08-24T16:51:49.914Z"
   },
   {
    "duration": 38,
    "start_time": "2022-08-24T16:51:50.475Z"
   },
   {
    "duration": 83,
    "start_time": "2022-08-24T16:51:50.680Z"
   },
   {
    "duration": 79,
    "start_time": "2022-08-24T16:51:50.841Z"
   },
   {
    "duration": 58,
    "start_time": "2022-08-24T16:51:52.307Z"
   },
   {
    "duration": 433,
    "start_time": "2022-08-24T16:51:52.757Z"
   },
   {
    "duration": 340,
    "start_time": "2022-08-24T16:51:53.192Z"
   },
   {
    "duration": 26,
    "start_time": "2022-08-24T16:51:53.534Z"
   },
   {
    "duration": 470,
    "start_time": "2022-08-24T16:51:53.562Z"
   },
   {
    "duration": 320,
    "start_time": "2022-08-24T16:51:54.035Z"
   },
   {
    "duration": 51,
    "start_time": "2022-08-24T16:51:54.356Z"
   },
   {
    "duration": 364,
    "start_time": "2022-08-24T16:51:54.408Z"
   },
   {
    "duration": 266,
    "start_time": "2022-08-24T16:51:54.774Z"
   },
   {
    "duration": 12,
    "start_time": "2022-08-24T16:51:55.042Z"
   },
   {
    "duration": 47,
    "start_time": "2022-08-24T16:51:55.056Z"
   },
   {
    "duration": 5,
    "start_time": "2022-08-24T16:51:55.492Z"
   },
   {
    "duration": 21,
    "start_time": "2022-08-24T16:51:55.739Z"
   },
   {
    "duration": 58,
    "start_time": "2022-08-24T16:51:55.892Z"
   },
   {
    "duration": 75,
    "start_time": "2022-08-24T16:51:56.086Z"
   },
   {
    "duration": 18,
    "start_time": "2022-08-24T16:51:56.491Z"
   },
   {
    "duration": 19,
    "start_time": "2022-08-24T16:51:56.656Z"
   },
   {
    "duration": 21,
    "start_time": "2022-08-24T16:51:56.845Z"
   },
   {
    "duration": 19,
    "start_time": "2022-08-24T16:51:57.041Z"
   },
   {
    "duration": 96,
    "start_time": "2022-08-24T16:51:57.478Z"
   },
   {
    "duration": 74,
    "start_time": "2022-08-24T16:51:57.686Z"
   },
   {
    "duration": 84,
    "start_time": "2022-08-24T16:51:57.905Z"
   },
   {
    "duration": 138,
    "start_time": "2022-08-24T16:51:58.097Z"
   },
   {
    "duration": 78,
    "start_time": "2022-08-24T16:51:58.878Z"
   },
   {
    "duration": 334,
    "start_time": "2022-08-24T16:51:59.184Z"
   },
   {
    "duration": 86,
    "start_time": "2022-08-24T16:51:59.520Z"
   },
   {
    "duration": 2,
    "start_time": "2022-08-24T16:51:59.646Z"
   },
   {
    "duration": 29,
    "start_time": "2022-08-24T16:51:59.863Z"
   },
   {
    "duration": 13354,
    "start_time": "2022-08-24T16:52:00.712Z"
   },
   {
    "duration": 3,
    "start_time": "2022-08-24T16:52:14.069Z"
   },
   {
    "duration": 23,
    "start_time": "2022-08-24T16:52:14.074Z"
   },
   {
    "duration": 76,
    "start_time": "2022-08-24T16:52:14.099Z"
   },
   {
    "duration": 24,
    "start_time": "2022-08-24T16:52:14.177Z"
   },
   {
    "duration": 895,
    "start_time": "2022-08-24T16:52:17.816Z"
   },
   {
    "duration": 2,
    "start_time": "2022-08-24T16:52:18.892Z"
   },
   {
    "duration": 21,
    "start_time": "2022-08-24T16:52:21.553Z"
   },
   {
    "duration": 174,
    "start_time": "2022-08-24T16:52:22.061Z"
   },
   {
    "duration": 298,
    "start_time": "2022-08-24T16:52:23.596Z"
   },
   {
    "duration": 227,
    "start_time": "2022-08-24T16:52:25.308Z"
   },
   {
    "duration": 5,
    "start_time": "2022-08-24T16:52:41.735Z"
   },
   {
    "duration": 5,
    "start_time": "2022-08-24T16:53:08.865Z"
   },
   {
    "duration": 4,
    "start_time": "2022-08-24T16:53:38.924Z"
   },
   {
    "duration": 4,
    "start_time": "2022-08-24T16:53:43.499Z"
   },
   {
    "duration": 5,
    "start_time": "2022-08-24T16:54:17.405Z"
   },
   {
    "duration": 83,
    "start_time": "2022-08-24T16:54:21.130Z"
   },
   {
    "duration": 12,
    "start_time": "2022-08-24T16:54:46.052Z"
   },
   {
    "duration": 5,
    "start_time": "2022-08-24T16:55:42.650Z"
   },
   {
    "duration": 20676,
    "start_time": "2022-08-24T16:55:45.711Z"
   },
   {
    "duration": 5,
    "start_time": "2022-08-24T16:56:06.390Z"
   },
   {
    "duration": 5,
    "start_time": "2022-08-24T17:00:17.339Z"
   },
   {
    "duration": 29587,
    "start_time": "2022-08-24T17:00:24.400Z"
   },
   {
    "duration": 7,
    "start_time": "2022-08-24T17:00:53.990Z"
   },
   {
    "duration": 2,
    "start_time": "2022-08-24T17:01:34.990Z"
   },
   {
    "duration": 8,
    "start_time": "2022-08-24T17:02:11.184Z"
   },
   {
    "duration": 9,
    "start_time": "2022-08-24T17:02:16.047Z"
   },
   {
    "duration": 3,
    "start_time": "2022-08-24T17:02:28.817Z"
   },
   {
    "duration": 4,
    "start_time": "2022-08-24T17:04:18.773Z"
   },
   {
    "duration": 39408,
    "start_time": "2022-08-24T17:04:55.929Z"
   },
   {
    "duration": 2,
    "start_time": "2022-08-24T17:06:47.052Z"
   },
   {
    "duration": 167944,
    "start_time": "2022-08-24T17:06:50.157Z"
   },
   {
    "duration": 2,
    "start_time": "2022-08-24T17:09:38.103Z"
   },
   {
    "duration": 92949,
    "start_time": "2022-08-24T17:09:45.047Z"
   },
   {
    "duration": 2,
    "start_time": "2022-08-24T17:11:17.998Z"
   },
   {
    "duration": 10,
    "start_time": "2022-08-24T17:11:18.002Z"
   },
   {
    "duration": 3,
    "start_time": "2022-08-24T17:13:23.310Z"
   },
   {
    "duration": 3,
    "start_time": "2022-08-24T17:13:29.816Z"
   },
   {
    "duration": 3,
    "start_time": "2022-08-24T17:13:31.602Z"
   },
   {
    "duration": 8,
    "start_time": "2022-08-24T17:13:38.519Z"
   },
   {
    "duration": 10,
    "start_time": "2022-08-24T17:14:10.356Z"
   },
   {
    "duration": 4,
    "start_time": "2022-08-24T17:16:07.480Z"
   },
   {
    "duration": 8,
    "start_time": "2022-08-24T17:16:08.123Z"
   },
   {
    "duration": 2,
    "start_time": "2022-08-24T17:16:41.127Z"
   },
   {
    "duration": 2,
    "start_time": "2022-08-24T17:16:43.649Z"
   },
   {
    "duration": 2,
    "start_time": "2022-08-24T17:16:47.000Z"
   },
   {
    "duration": 3,
    "start_time": "2022-08-24T17:16:51.027Z"
   },
   {
    "duration": 2,
    "start_time": "2022-08-24T17:16:53.438Z"
   },
   {
    "duration": 4,
    "start_time": "2022-08-24T17:16:56.287Z"
   },
   {
    "duration": 4,
    "start_time": "2022-08-24T17:17:02.204Z"
   },
   {
    "duration": 4,
    "start_time": "2022-08-24T17:17:02.708Z"
   },
   {
    "duration": 8,
    "start_time": "2022-08-24T17:17:07.053Z"
   },
   {
    "duration": 3,
    "start_time": "2022-08-24T17:17:17.796Z"
   },
   {
    "duration": 4,
    "start_time": "2022-08-24T17:17:39.547Z"
   },
   {
    "duration": 9,
    "start_time": "2022-08-24T17:17:43.319Z"
   },
   {
    "duration": 178,
    "start_time": "2022-08-24T17:18:44.552Z"
   },
   {
    "duration": 132,
    "start_time": "2022-08-24T17:18:55.046Z"
   },
   {
    "duration": 744,
    "start_time": "2022-08-24T17:19:27.955Z"
   },
   {
    "duration": 111,
    "start_time": "2022-08-24T17:19:37.008Z"
   },
   {
    "duration": 10,
    "start_time": "2022-08-24T17:20:06.992Z"
   },
   {
    "duration": 9,
    "start_time": "2022-08-24T17:20:11.258Z"
   },
   {
    "duration": 9,
    "start_time": "2022-08-24T17:20:22.179Z"
   },
   {
    "duration": 10,
    "start_time": "2022-08-24T17:20:33.239Z"
   },
   {
    "duration": 10,
    "start_time": "2022-08-24T17:20:52.327Z"
   },
   {
    "duration": 9,
    "start_time": "2022-08-24T17:20:57.495Z"
   },
   {
    "duration": 10,
    "start_time": "2022-08-24T17:21:01.260Z"
   },
   {
    "duration": 9,
    "start_time": "2022-08-24T17:24:01.004Z"
   },
   {
    "duration": 5,
    "start_time": "2022-08-24T17:24:11.327Z"
   },
   {
    "duration": 12,
    "start_time": "2022-08-24T17:24:12.537Z"
   },
   {
    "duration": 3,
    "start_time": "2022-08-24T17:24:28.395Z"
   },
   {
    "duration": 8,
    "start_time": "2022-08-24T17:31:44.297Z"
   },
   {
    "duration": 4,
    "start_time": "2022-08-24T17:31:50.791Z"
   },
   {
    "duration": 4,
    "start_time": "2022-08-24T17:35:03.461Z"
   },
   {
    "duration": 4,
    "start_time": "2022-08-24T17:35:28.307Z"
   },
   {
    "duration": 3,
    "start_time": "2022-08-24T17:35:30.589Z"
   },
   {
    "duration": 4,
    "start_time": "2022-08-24T17:35:31.439Z"
   },
   {
    "duration": 2,
    "start_time": "2022-08-24T17:35:55.214Z"
   },
   {
    "duration": 3,
    "start_time": "2022-08-24T17:36:11.795Z"
   },
   {
    "duration": 3,
    "start_time": "2022-08-24T17:36:38.443Z"
   },
   {
    "duration": 4,
    "start_time": "2022-08-24T17:36:39.426Z"
   },
   {
    "duration": 2,
    "start_time": "2022-08-24T17:36:50.002Z"
   },
   {
    "duration": 4,
    "start_time": "2022-08-24T17:36:52.925Z"
   },
   {
    "duration": 2,
    "start_time": "2022-08-24T17:36:53.920Z"
   },
   {
    "duration": 4,
    "start_time": "2022-08-24T17:36:56.106Z"
   },
   {
    "duration": 3,
    "start_time": "2022-08-24T17:36:59.109Z"
   },
   {
    "duration": 3,
    "start_time": "2022-08-24T17:37:01.865Z"
   },
   {
    "duration": 4,
    "start_time": "2022-08-24T17:37:04.250Z"
   },
   {
    "duration": 6,
    "start_time": "2022-08-24T17:37:05.454Z"
   },
   {
    "duration": 3,
    "start_time": "2022-08-24T17:37:08.507Z"
   },
   {
    "duration": 5,
    "start_time": "2022-08-24T17:37:08.747Z"
   },
   {
    "duration": 41,
    "start_time": "2022-08-24T17:37:09.092Z"
   },
   {
    "duration": 12,
    "start_time": "2022-08-24T17:37:15.498Z"
   },
   {
    "duration": 2,
    "start_time": "2022-08-24T17:37:54.447Z"
   },
   {
    "duration": 4,
    "start_time": "2022-08-24T17:37:56.669Z"
   },
   {
    "duration": 3,
    "start_time": "2022-08-24T17:37:58.272Z"
   },
   {
    "duration": 4,
    "start_time": "2022-08-24T17:37:58.901Z"
   },
   {
    "duration": 2,
    "start_time": "2022-08-24T17:38:02.262Z"
   },
   {
    "duration": 3,
    "start_time": "2022-08-24T17:38:05.460Z"
   },
   {
    "duration": 3,
    "start_time": "2022-08-24T17:38:07.767Z"
   },
   {
    "duration": 4,
    "start_time": "2022-08-24T17:38:09.824Z"
   },
   {
    "duration": 4,
    "start_time": "2022-08-24T17:38:12.219Z"
   },
   {
    "duration": 9,
    "start_time": "2022-08-24T17:38:13.005Z"
   },
   {
    "duration": 4,
    "start_time": "2022-08-24T17:38:38.999Z"
   },
   {
    "duration": 9,
    "start_time": "2022-08-24T17:38:39.720Z"
   },
   {
    "duration": 11,
    "start_time": "2022-08-24T17:39:04.527Z"
   },
   {
    "duration": 9,
    "start_time": "2022-08-24T17:39:07.674Z"
   },
   {
    "duration": 125,
    "start_time": "2022-08-24T17:39:11.099Z"
   },
   {
    "duration": 13,
    "start_time": "2022-08-24T17:39:31.420Z"
   },
   {
    "duration": 5,
    "start_time": "2022-08-24T17:39:45.448Z"
   },
   {
    "duration": 9,
    "start_time": "2022-08-24T17:39:46.368Z"
   },
   {
    "duration": 133,
    "start_time": "2022-08-24T17:39:48.477Z"
   },
   {
    "duration": 246,
    "start_time": "2022-08-24T17:41:46.571Z"
   },
   {
    "duration": 126,
    "start_time": "2022-08-24T17:41:55.392Z"
   },
   {
    "duration": 114,
    "start_time": "2022-08-24T17:42:37.781Z"
   },
   {
    "duration": 154,
    "start_time": "2022-08-24T17:42:46.304Z"
   },
   {
    "duration": 120,
    "start_time": "2022-08-24T17:43:18.870Z"
   },
   {
    "duration": 4,
    "start_time": "2022-08-24T17:46:02.213Z"
   },
   {
    "duration": 9,
    "start_time": "2022-08-24T17:46:50.561Z"
   },
   {
    "duration": 13,
    "start_time": "2022-08-24T17:46:57.995Z"
   },
   {
    "duration": 143,
    "start_time": "2022-08-24T17:47:04.966Z"
   },
   {
    "duration": 121,
    "start_time": "2022-08-24T17:47:18.902Z"
   },
   {
    "duration": 112,
    "start_time": "2022-08-24T17:47:24.730Z"
   },
   {
    "duration": 8,
    "start_time": "2022-08-24T19:14:13.651Z"
   },
   {
    "duration": 5,
    "start_time": "2022-08-24T19:23:36.425Z"
   },
   {
    "duration": 764,
    "start_time": "2022-08-24T19:24:08.700Z"
   },
   {
    "duration": 21,
    "start_time": "2022-08-24T19:24:20.220Z"
   },
   {
    "duration": 123,
    "start_time": "2022-08-24T19:24:38.397Z"
   },
   {
    "duration": 373,
    "start_time": "2022-08-24T19:24:42.726Z"
   },
   {
    "duration": 399,
    "start_time": "2022-08-24T19:24:43.341Z"
   },
   {
    "duration": 253,
    "start_time": "2022-08-24T19:26:49.752Z"
   },
   {
    "duration": 1452,
    "start_time": "2022-08-24T19:37:55.625Z"
   },
   {
    "duration": 831,
    "start_time": "2022-08-24T19:37:57.079Z"
   },
   {
    "duration": 22,
    "start_time": "2022-08-24T19:37:57.912Z"
   },
   {
    "duration": 136,
    "start_time": "2022-08-24T19:37:57.936Z"
   },
   {
    "duration": 437,
    "start_time": "2022-08-24T19:37:58.074Z"
   },
   {
    "duration": 456,
    "start_time": "2022-08-24T19:37:58.513Z"
   },
   {
    "duration": 41,
    "start_time": "2022-08-24T19:37:58.971Z"
   },
   {
    "duration": 86,
    "start_time": "2022-08-24T19:37:59.014Z"
   },
   {
    "duration": 92,
    "start_time": "2022-08-24T19:37:59.101Z"
   },
   {
    "duration": 52,
    "start_time": "2022-08-24T19:37:59.195Z"
   },
   {
    "duration": 461,
    "start_time": "2022-08-24T19:37:59.249Z"
   },
   {
    "duration": 345,
    "start_time": "2022-08-24T19:37:59.711Z"
   },
   {
    "duration": 37,
    "start_time": "2022-08-24T19:38:00.058Z"
   },
   {
    "duration": 477,
    "start_time": "2022-08-24T19:38:00.097Z"
   },
   {
    "duration": 356,
    "start_time": "2022-08-24T19:38:00.576Z"
   },
   {
    "duration": 42,
    "start_time": "2022-08-24T19:38:00.934Z"
   },
   {
    "duration": 376,
    "start_time": "2022-08-24T19:38:00.986Z"
   },
   {
    "duration": 280,
    "start_time": "2022-08-24T19:38:01.364Z"
   },
   {
    "duration": 12,
    "start_time": "2022-08-24T19:38:01.645Z"
   },
   {
    "duration": 49,
    "start_time": "2022-08-24T19:38:01.659Z"
   },
   {
    "duration": 8,
    "start_time": "2022-08-24T19:38:01.709Z"
   },
   {
    "duration": 60,
    "start_time": "2022-08-24T19:38:01.719Z"
   },
   {
    "duration": 70,
    "start_time": "2022-08-24T19:38:01.780Z"
   },
   {
    "duration": 94,
    "start_time": "2022-08-24T19:38:01.852Z"
   },
   {
    "duration": 20,
    "start_time": "2022-08-24T19:38:01.948Z"
   },
   {
    "duration": 38,
    "start_time": "2022-08-24T19:38:01.970Z"
   },
   {
    "duration": 32,
    "start_time": "2022-08-24T19:38:02.011Z"
   },
   {
    "duration": 24,
    "start_time": "2022-08-24T19:38:02.048Z"
   },
   {
    "duration": 115,
    "start_time": "2022-08-24T19:38:02.086Z"
   },
   {
    "duration": 106,
    "start_time": "2022-08-24T19:38:02.203Z"
   },
   {
    "duration": 85,
    "start_time": "2022-08-24T19:38:02.310Z"
   },
   {
    "duration": 152,
    "start_time": "2022-08-24T19:38:02.397Z"
   },
   {
    "duration": 86,
    "start_time": "2022-08-24T19:38:02.550Z"
   },
   {
    "duration": 316,
    "start_time": "2022-08-24T19:38:02.637Z"
   },
   {
    "duration": 88,
    "start_time": "2022-08-24T19:38:02.954Z"
   },
   {
    "duration": 27,
    "start_time": "2022-08-24T19:38:03.044Z"
   },
   {
    "duration": 13041,
    "start_time": "2022-08-24T19:38:03.073Z"
   },
   {
    "duration": 3,
    "start_time": "2022-08-24T19:38:16.116Z"
   },
   {
    "duration": 22,
    "start_time": "2022-08-24T19:38:16.121Z"
   },
   {
    "duration": 75,
    "start_time": "2022-08-24T19:38:16.145Z"
   },
   {
    "duration": 20,
    "start_time": "2022-08-24T19:38:16.223Z"
   },
   {
    "duration": 936,
    "start_time": "2022-08-24T19:38:16.245Z"
   },
   {
    "duration": 3,
    "start_time": "2022-08-24T19:38:17.182Z"
   },
   {
    "duration": 23,
    "start_time": "2022-08-24T19:38:17.187Z"
   },
   {
    "duration": 186,
    "start_time": "2022-08-24T19:38:17.212Z"
   },
   {
    "duration": 321,
    "start_time": "2022-08-24T19:38:17.400Z"
   },
   {
    "duration": 6,
    "start_time": "2022-08-24T19:38:17.722Z"
   },
   {
    "duration": 13,
    "start_time": "2022-08-24T19:38:17.729Z"
   },
   {
    "duration": 20748,
    "start_time": "2022-08-24T19:38:17.744Z"
   },
   {
    "duration": 96,
    "start_time": "2022-08-24T19:38:38.494Z"
   },
   {
    "duration": 96,
    "start_time": "2022-08-24T19:38:38.592Z"
   },
   {
    "duration": 7,
    "start_time": "2022-08-24T19:38:38.689Z"
   },
   {
    "duration": 38128,
    "start_time": "2022-08-24T19:38:38.698Z"
   },
   {
    "duration": 3,
    "start_time": "2022-08-24T19:39:16.828Z"
   },
   {
    "duration": 161241,
    "start_time": "2022-08-24T19:39:16.832Z"
   },
   {
    "duration": 3,
    "start_time": "2022-08-24T19:41:58.074Z"
   },
   {
    "duration": 109,
    "start_time": "2022-08-24T19:41:58.078Z"
   },
   {
    "duration": 0,
    "start_time": "2022-08-24T19:41:58.189Z"
   },
   {
    "duration": 0,
    "start_time": "2022-08-24T19:41:58.190Z"
   },
   {
    "duration": 0,
    "start_time": "2022-08-24T19:41:58.191Z"
   },
   {
    "duration": 0,
    "start_time": "2022-08-24T19:41:58.192Z"
   },
   {
    "duration": 0,
    "start_time": "2022-08-24T19:41:58.193Z"
   },
   {
    "duration": 0,
    "start_time": "2022-08-24T19:41:58.194Z"
   },
   {
    "duration": 0,
    "start_time": "2022-08-24T19:41:58.196Z"
   },
   {
    "duration": 0,
    "start_time": "2022-08-24T19:41:58.196Z"
   },
   {
    "duration": 0,
    "start_time": "2022-08-24T19:41:58.197Z"
   },
   {
    "duration": 43630,
    "start_time": "2022-08-24T19:42:56.472Z"
   },
   {
    "duration": 4,
    "start_time": "2022-08-24T19:43:40.104Z"
   },
   {
    "duration": 12,
    "start_time": "2022-08-24T19:43:40.110Z"
   },
   {
    "duration": 7,
    "start_time": "2022-08-24T19:43:40.124Z"
   },
   {
    "duration": 11,
    "start_time": "2022-08-24T19:43:40.133Z"
   },
   {
    "duration": 177,
    "start_time": "2022-08-24T19:43:40.146Z"
   },
   {
    "duration": 144,
    "start_time": "2022-08-24T19:43:40.325Z"
   },
   {
    "duration": 124,
    "start_time": "2022-08-24T19:43:40.471Z"
   },
   {
    "duration": 1631,
    "start_time": "2022-08-24T20:43:51.570Z"
   },
   {
    "duration": 996,
    "start_time": "2022-08-24T20:43:53.203Z"
   },
   {
    "duration": 23,
    "start_time": "2022-08-24T20:43:54.201Z"
   },
   {
    "duration": 106,
    "start_time": "2022-08-24T20:43:54.226Z"
   },
   {
    "duration": 472,
    "start_time": "2022-08-24T20:43:54.333Z"
   },
   {
    "duration": 439,
    "start_time": "2022-08-24T20:43:54.807Z"
   },
   {
    "duration": 38,
    "start_time": "2022-08-24T20:43:55.247Z"
   },
   {
    "duration": 79,
    "start_time": "2022-08-24T20:43:55.287Z"
   },
   {
    "duration": 72,
    "start_time": "2022-08-24T20:43:55.368Z"
   },
   {
    "duration": 63,
    "start_time": "2022-08-24T20:43:55.442Z"
   },
   {
    "duration": 408,
    "start_time": "2022-08-24T20:43:55.506Z"
   },
   {
    "duration": 334,
    "start_time": "2022-08-24T20:43:55.916Z"
   },
   {
    "duration": 34,
    "start_time": "2022-08-24T20:43:56.251Z"
   },
   {
    "duration": 442,
    "start_time": "2022-08-24T20:43:56.286Z"
   },
   {
    "duration": 325,
    "start_time": "2022-08-24T20:43:56.730Z"
   },
   {
    "duration": 44,
    "start_time": "2022-08-24T20:43:57.057Z"
   },
   {
    "duration": 356,
    "start_time": "2022-08-24T20:43:57.103Z"
   },
   {
    "duration": 278,
    "start_time": "2022-08-24T20:43:57.461Z"
   },
   {
    "duration": 11,
    "start_time": "2022-08-24T20:43:57.741Z"
   },
   {
    "duration": 43,
    "start_time": "2022-08-24T20:43:57.754Z"
   },
   {
    "duration": 4,
    "start_time": "2022-08-24T20:43:57.799Z"
   },
   {
    "duration": 31,
    "start_time": "2022-08-24T20:43:57.804Z"
   },
   {
    "duration": 65,
    "start_time": "2022-08-24T20:43:57.837Z"
   },
   {
    "duration": 57,
    "start_time": "2022-08-24T20:43:57.904Z"
   },
   {
    "duration": 31,
    "start_time": "2022-08-24T20:43:57.963Z"
   },
   {
    "duration": 18,
    "start_time": "2022-08-24T20:43:57.996Z"
   },
   {
    "duration": 33,
    "start_time": "2022-08-24T20:43:58.016Z"
   },
   {
    "duration": 14,
    "start_time": "2022-08-24T20:43:58.053Z"
   },
   {
    "duration": 80,
    "start_time": "2022-08-24T20:43:58.069Z"
   },
   {
    "duration": 67,
    "start_time": "2022-08-24T20:43:58.150Z"
   },
   {
    "duration": 89,
    "start_time": "2022-08-24T20:43:58.219Z"
   },
   {
    "duration": 152,
    "start_time": "2022-08-24T20:43:58.310Z"
   },
   {
    "duration": 79,
    "start_time": "2022-08-24T20:43:58.464Z"
   },
   {
    "duration": 331,
    "start_time": "2022-08-24T20:43:58.545Z"
   },
   {
    "duration": 68,
    "start_time": "2022-08-24T20:43:58.878Z"
   },
   {
    "duration": 39,
    "start_time": "2022-08-24T20:43:58.948Z"
   },
   {
    "duration": 12639,
    "start_time": "2022-08-24T20:43:58.988Z"
   },
   {
    "duration": 51,
    "start_time": "2022-08-24T20:44:11.629Z"
   },
   {
    "duration": 3,
    "start_time": "2022-08-24T20:44:11.681Z"
   },
   {
    "duration": 24,
    "start_time": "2022-08-24T20:44:11.685Z"
   },
   {
    "duration": 68,
    "start_time": "2022-08-24T20:44:11.710Z"
   },
   {
    "duration": 16,
    "start_time": "2022-08-24T20:44:11.780Z"
   },
   {
    "duration": 864,
    "start_time": "2022-08-24T20:44:11.798Z"
   },
   {
    "duration": 2,
    "start_time": "2022-08-24T20:44:12.664Z"
   },
   {
    "duration": 55,
    "start_time": "2022-08-24T20:44:12.668Z"
   },
   {
    "duration": 179,
    "start_time": "2022-08-24T20:44:12.725Z"
   },
   {
    "duration": 298,
    "start_time": "2022-08-24T20:44:12.907Z"
   },
   {
    "duration": 5,
    "start_time": "2022-08-24T20:44:13.207Z"
   },
   {
    "duration": 12,
    "start_time": "2022-08-24T20:44:13.213Z"
   },
   {
    "duration": 19484,
    "start_time": "2022-08-24T20:44:13.226Z"
   },
   {
    "duration": 76,
    "start_time": "2022-08-24T20:44:32.711Z"
   },
   {
    "duration": 2,
    "start_time": "2022-08-24T20:44:32.789Z"
   },
   {
    "duration": 98,
    "start_time": "2022-08-24T20:44:32.794Z"
   },
   {
    "duration": 38670,
    "start_time": "2022-08-24T20:44:32.893Z"
   },
   {
    "duration": 2,
    "start_time": "2022-08-24T20:45:11.565Z"
   },
   {
    "duration": 165392,
    "start_time": "2022-08-24T20:45:11.569Z"
   },
   {
    "duration": 3,
    "start_time": "2022-08-24T20:47:56.963Z"
   },
   {
    "duration": 223018,
    "start_time": "2022-08-24T20:47:56.967Z"
   },
   {
    "duration": 2,
    "start_time": "2022-08-24T20:51:39.987Z"
   },
   {
    "duration": 9,
    "start_time": "2022-08-24T20:51:39.991Z"
   },
   {
    "duration": 10,
    "start_time": "2022-08-24T20:51:40.001Z"
   },
   {
    "duration": 14,
    "start_time": "2022-08-24T20:51:40.012Z"
   },
   {
    "duration": 148,
    "start_time": "2022-08-24T20:51:40.028Z"
   },
   {
    "duration": 158,
    "start_time": "2022-08-24T20:51:40.177Z"
   },
   {
    "duration": 153,
    "start_time": "2022-08-24T20:51:40.337Z"
   },
   {
    "duration": 75,
    "start_time": "2022-08-24T20:51:40.494Z"
   },
   {
    "duration": 40,
    "start_time": "2022-08-24T20:51:51.220Z"
   },
   {
    "duration": 80,
    "start_time": "2022-08-24T20:53:13.378Z"
   },
   {
    "duration": 31,
    "start_time": "2022-08-24T20:53:19.277Z"
   },
   {
    "duration": 36,
    "start_time": "2022-08-24T20:54:25.741Z"
   },
   {
    "duration": 31,
    "start_time": "2022-08-24T20:55:16.102Z"
   },
   {
    "duration": 33,
    "start_time": "2022-08-24T20:55:31.767Z"
   },
   {
    "duration": 60,
    "start_time": "2022-08-25T07:39:35.980Z"
   },
   {
    "duration": 7,
    "start_time": "2022-08-25T07:42:43.550Z"
   },
   {
    "duration": 6,
    "start_time": "2022-08-25T07:44:15.720Z"
   },
   {
    "duration": 1490,
    "start_time": "2022-08-25T07:44:28.137Z"
   },
   {
    "duration": 3373,
    "start_time": "2022-08-25T07:44:29.629Z"
   },
   {
    "duration": 21,
    "start_time": "2022-08-25T07:44:33.004Z"
   },
   {
    "duration": 108,
    "start_time": "2022-08-25T07:44:33.027Z"
   },
   {
    "duration": 409,
    "start_time": "2022-08-25T07:44:33.136Z"
   },
   {
    "duration": 463,
    "start_time": "2022-08-25T07:44:33.547Z"
   },
   {
    "duration": 31,
    "start_time": "2022-08-25T07:44:34.012Z"
   },
   {
    "duration": 84,
    "start_time": "2022-08-25T07:44:34.045Z"
   },
   {
    "duration": 88,
    "start_time": "2022-08-25T07:44:34.131Z"
   },
   {
    "duration": 65,
    "start_time": "2022-08-25T07:44:34.221Z"
   },
   {
    "duration": 425,
    "start_time": "2022-08-25T07:44:34.287Z"
   },
   {
    "duration": 346,
    "start_time": "2022-08-25T07:44:34.714Z"
   },
   {
    "duration": 16,
    "start_time": "2022-08-25T07:44:35.062Z"
   },
   {
    "duration": 193,
    "start_time": "2022-08-25T07:44:35.080Z"
   },
   {
    "duration": 330,
    "start_time": "2022-08-25T07:44:35.275Z"
   },
   {
    "duration": 18,
    "start_time": "2022-08-25T07:44:35.606Z"
   },
   {
    "duration": 176,
    "start_time": "2022-08-25T07:44:35.626Z"
   },
   {
    "duration": 301,
    "start_time": "2022-08-25T07:44:35.805Z"
   },
   {
    "duration": 7,
    "start_time": "2022-08-25T07:44:36.997Z"
   },
   {
    "duration": 10,
    "start_time": "2022-08-25T07:44:37.521Z"
   },
   {
    "duration": 5,
    "start_time": "2022-08-25T07:44:38.055Z"
   },
   {
    "duration": 6,
    "start_time": "2022-08-25T07:44:39.082Z"
   },
   {
    "duration": 20,
    "start_time": "2022-08-25T07:44:47.730Z"
   },
   {
    "duration": 26,
    "start_time": "2022-08-25T07:44:54.368Z"
   },
   {
    "duration": 9,
    "start_time": "2022-08-25T07:45:00.226Z"
   },
   {
    "duration": 6,
    "start_time": "2022-08-25T07:45:03.991Z"
   },
   {
    "duration": 5,
    "start_time": "2022-08-25T07:45:04.552Z"
   },
   {
    "duration": 5,
    "start_time": "2022-08-25T07:45:05.230Z"
   },
   {
    "duration": 4,
    "start_time": "2022-08-25T07:45:05.675Z"
   },
   {
    "duration": 9,
    "start_time": "2022-08-25T07:45:06.944Z"
   },
   {
    "duration": 10,
    "start_time": "2022-08-25T07:45:07.253Z"
   },
   {
    "duration": 21,
    "start_time": "2022-08-25T07:45:07.509Z"
   },
   {
    "duration": 134,
    "start_time": "2022-08-25T07:45:07.982Z"
   },
   {
    "duration": 13,
    "start_time": "2022-08-25T07:45:12.742Z"
   },
   {
    "duration": 214,
    "start_time": "2022-08-25T07:45:13.697Z"
   },
   {
    "duration": 13,
    "start_time": "2022-08-25T07:45:29.268Z"
   },
   {
    "duration": 10,
    "start_time": "2022-08-25T07:45:30.456Z"
   },
   {
    "duration": 2126,
    "start_time": "2022-08-25T07:45:35.726Z"
   },
   {
    "duration": 3,
    "start_time": "2022-08-25T07:45:41.408Z"
   },
   {
    "duration": 4,
    "start_time": "2022-08-25T07:45:41.776Z"
   },
   {
    "duration": 7,
    "start_time": "2022-08-25T07:45:42.263Z"
   },
   {
    "duration": 17,
    "start_time": "2022-08-25T07:45:43.558Z"
   },
   {
    "duration": 44,
    "start_time": "2022-08-25T07:45:44.665Z"
   },
   {
    "duration": 3,
    "start_time": "2022-08-25T07:45:49.409Z"
   },
   {
    "duration": 7,
    "start_time": "2022-08-25T07:45:50.093Z"
   },
   {
    "duration": 30,
    "start_time": "2022-08-25T07:46:26.351Z"
   },
   {
    "duration": 18,
    "start_time": "2022-08-25T07:46:27.804Z"
   },
   {
    "duration": 4,
    "start_time": "2022-08-25T07:46:29.276Z"
   },
   {
    "duration": 3,
    "start_time": "2022-08-25T07:46:32.333Z"
   },
   {
    "duration": 1189,
    "start_time": "2022-08-25T07:46:32.819Z"
   },
   {
    "duration": 4,
    "start_time": "2022-08-25T07:46:34.107Z"
   },
   {
    "duration": 2,
    "start_time": "2022-08-25T07:46:47.149Z"
   },
   {
    "duration": 3,
    "start_time": "2022-08-25T07:46:47.718Z"
   },
   {
    "duration": 1081,
    "start_time": "2022-08-25T07:46:50.908Z"
   },
   {
    "duration": 3,
    "start_time": "2022-08-25T07:46:52.076Z"
   },
   {
    "duration": 20157,
    "start_time": "2022-08-25T07:46:54.960Z"
   },
   {
    "duration": 3,
    "start_time": "2022-08-25T07:47:15.119Z"
   },
   {
    "duration": 8089,
    "start_time": "2022-08-25T07:47:15.124Z"
   },
   {
    "duration": 3,
    "start_time": "2022-08-25T07:47:23.215Z"
   },
   {
    "duration": 8,
    "start_time": "2022-08-25T07:47:23.219Z"
   },
   {
    "duration": 5,
    "start_time": "2022-08-25T07:48:01.065Z"
   },
   {
    "duration": 8,
    "start_time": "2022-08-25T07:48:01.481Z"
   },
   {
    "duration": 121,
    "start_time": "2022-08-25T07:48:05.261Z"
   },
   {
    "duration": 166,
    "start_time": "2022-08-25T07:48:06.049Z"
   },
   {
    "duration": 109,
    "start_time": "2022-08-25T07:48:07.266Z"
   },
   {
    "duration": 1443,
    "start_time": "2022-08-25T10:03:31.069Z"
   },
   {
    "duration": 752,
    "start_time": "2022-08-25T10:03:32.514Z"
   },
   {
    "duration": 23,
    "start_time": "2022-08-25T10:03:33.267Z"
   },
   {
    "duration": 102,
    "start_time": "2022-08-25T10:03:33.305Z"
   },
   {
    "duration": 449,
    "start_time": "2022-08-25T10:03:33.408Z"
   },
   {
    "duration": 513,
    "start_time": "2022-08-25T10:03:33.859Z"
   },
   {
    "duration": 41,
    "start_time": "2022-08-25T10:03:34.374Z"
   },
   {
    "duration": 76,
    "start_time": "2022-08-25T10:03:34.417Z"
   },
   {
    "duration": 76,
    "start_time": "2022-08-25T10:03:34.495Z"
   },
   {
    "duration": 72,
    "start_time": "2022-08-25T10:03:34.574Z"
   },
   {
    "duration": 429,
    "start_time": "2022-08-25T10:03:34.647Z"
   },
   {
    "duration": 350,
    "start_time": "2022-08-25T10:03:35.078Z"
   },
   {
    "duration": 15,
    "start_time": "2022-08-25T10:03:35.430Z"
   },
   {
    "duration": 192,
    "start_time": "2022-08-25T10:03:35.447Z"
   },
   {
    "duration": 344,
    "start_time": "2022-08-25T10:03:35.642Z"
   },
   {
    "duration": 31,
    "start_time": "2022-08-25T10:03:35.988Z"
   },
   {
    "duration": 248,
    "start_time": "2022-08-25T10:03:36.021Z"
   },
   {
    "duration": 327,
    "start_time": "2022-08-25T10:03:36.271Z"
   },
   {
    "duration": 10,
    "start_time": "2022-08-25T10:03:36.600Z"
   },
   {
    "duration": 17,
    "start_time": "2022-08-25T10:03:36.612Z"
   },
   {
    "duration": 26,
    "start_time": "2022-08-25T10:03:36.632Z"
   },
   {
    "duration": 17,
    "start_time": "2022-08-25T10:03:36.660Z"
   },
   {
    "duration": 38,
    "start_time": "2022-08-25T10:03:36.679Z"
   },
   {
    "duration": 31,
    "start_time": "2022-08-25T10:03:36.718Z"
   },
   {
    "duration": 9,
    "start_time": "2022-08-25T10:03:36.751Z"
   },
   {
    "duration": 15,
    "start_time": "2022-08-25T10:03:36.761Z"
   },
   {
    "duration": 19,
    "start_time": "2022-08-25T10:03:36.778Z"
   },
   {
    "duration": 22,
    "start_time": "2022-08-25T10:03:36.800Z"
   },
   {
    "duration": 21,
    "start_time": "2022-08-25T10:03:36.823Z"
   },
   {
    "duration": 31,
    "start_time": "2022-08-25T10:03:36.845Z"
   },
   {
    "duration": 39,
    "start_time": "2022-08-25T10:03:36.878Z"
   },
   {
    "duration": 25,
    "start_time": "2022-08-25T10:03:36.919Z"
   },
   {
    "duration": 153,
    "start_time": "2022-08-25T10:03:36.946Z"
   },
   {
    "duration": 17,
    "start_time": "2022-08-25T10:03:37.100Z"
   },
   {
    "duration": 267,
    "start_time": "2022-08-25T10:03:37.118Z"
   },
   {
    "duration": 20,
    "start_time": "2022-08-25T10:03:37.387Z"
   },
   {
    "duration": 9,
    "start_time": "2022-08-25T10:03:37.409Z"
   },
   {
    "duration": 2120,
    "start_time": "2022-08-25T10:03:37.420Z"
   },
   {
    "duration": 4,
    "start_time": "2022-08-25T10:03:39.542Z"
   },
   {
    "duration": 8,
    "start_time": "2022-08-25T10:03:39.548Z"
   },
   {
    "duration": 10,
    "start_time": "2022-08-25T10:03:39.558Z"
   },
   {
    "duration": 19,
    "start_time": "2022-08-25T10:03:39.569Z"
   },
   {
    "duration": 45,
    "start_time": "2022-08-25T10:03:39.589Z"
   },
   {
    "duration": 2,
    "start_time": "2022-08-25T10:03:39.635Z"
   },
   {
    "duration": 11,
    "start_time": "2022-08-25T10:03:39.639Z"
   },
   {
    "duration": 27,
    "start_time": "2022-08-25T10:03:39.652Z"
   },
   {
    "duration": 32,
    "start_time": "2022-08-25T10:03:39.680Z"
   },
   {
    "duration": 9,
    "start_time": "2022-08-25T10:03:39.714Z"
   },
   {
    "duration": 11,
    "start_time": "2022-08-25T10:03:39.724Z"
   },
   {
    "duration": 1987,
    "start_time": "2022-08-25T10:03:39.737Z"
   },
   {
    "duration": 89,
    "start_time": "2022-08-25T10:03:41.730Z"
   },
   {
    "duration": 89,
    "start_time": "2022-08-25T10:03:41.824Z"
   },
   {
    "duration": 7,
    "start_time": "2022-08-25T10:03:41.915Z"
   },
   {
    "duration": 1235,
    "start_time": "2022-08-25T10:03:41.924Z"
   },
   {
    "duration": 3,
    "start_time": "2022-08-25T10:03:43.160Z"
   },
   {
    "duration": 21477,
    "start_time": "2022-08-25T10:03:43.165Z"
   },
   {
    "duration": 3,
    "start_time": "2022-08-25T10:04:04.644Z"
   },
   {
    "duration": 19861,
    "start_time": "2022-08-25T10:04:04.649Z"
   },
   {
    "duration": 2,
    "start_time": "2022-08-25T10:04:24.512Z"
   },
   {
    "duration": 7,
    "start_time": "2022-08-25T10:04:24.516Z"
   },
   {
    "duration": 6,
    "start_time": "2022-08-25T10:04:24.524Z"
   },
   {
    "duration": 10,
    "start_time": "2022-08-25T10:04:24.532Z"
   },
   {
    "duration": 181,
    "start_time": "2022-08-25T10:04:24.544Z"
   },
   {
    "duration": 156,
    "start_time": "2022-08-25T10:04:24.727Z"
   },
   {
    "duration": 135,
    "start_time": "2022-08-25T10:04:24.885Z"
   },
   {
    "duration": 134,
    "start_time": "2022-08-25T11:30:10.379Z"
   },
   {
    "duration": 5,
    "start_time": "2022-08-25T11:58:21.220Z"
   },
   {
    "duration": 5,
    "start_time": "2022-08-25T11:58:25.861Z"
   },
   {
    "duration": 7,
    "start_time": "2022-08-25T11:58:42.412Z"
   },
   {
    "duration": 4,
    "start_time": "2022-08-25T11:58:49.911Z"
   },
   {
    "duration": 690,
    "start_time": "2022-08-25T11:58:50.138Z"
   },
   {
    "duration": 21,
    "start_time": "2022-08-25T11:58:50.830Z"
   },
   {
    "duration": 122,
    "start_time": "2022-08-25T11:58:50.853Z"
   },
   {
    "duration": 386,
    "start_time": "2022-08-25T11:58:50.977Z"
   },
   {
    "duration": 389,
    "start_time": "2022-08-25T11:58:51.364Z"
   },
   {
    "duration": 26,
    "start_time": "2022-08-25T11:58:51.755Z"
   },
   {
    "duration": 66,
    "start_time": "2022-08-25T11:58:52.144Z"
   },
   {
    "duration": 59,
    "start_time": "2022-08-25T11:58:52.347Z"
   },
   {
    "duration": 52,
    "start_time": "2022-08-25T11:58:52.817Z"
   },
   {
    "duration": 357,
    "start_time": "2022-08-25T11:58:53.273Z"
   },
   {
    "duration": 294,
    "start_time": "2022-08-25T11:58:53.631Z"
   },
   {
    "duration": 14,
    "start_time": "2022-08-25T11:58:53.927Z"
   },
   {
    "duration": 157,
    "start_time": "2022-08-25T11:58:54.113Z"
   },
   {
    "duration": 252,
    "start_time": "2022-08-25T11:58:54.885Z"
   },
   {
    "duration": 19,
    "start_time": "2022-08-25T11:58:55.624Z"
   },
   {
    "duration": 155,
    "start_time": "2022-08-25T11:58:56.905Z"
   },
   {
    "duration": 267,
    "start_time": "2022-08-25T11:58:57.370Z"
   },
   {
    "duration": 6,
    "start_time": "2022-08-25T11:58:57.894Z"
   },
   {
    "duration": 8,
    "start_time": "2022-08-25T11:59:01.445Z"
   },
   {
    "duration": 5,
    "start_time": "2022-08-25T11:59:02.418Z"
   },
   {
    "duration": 6,
    "start_time": "2022-08-25T11:59:05.306Z"
   },
   {
    "duration": 25,
    "start_time": "2022-08-25T11:59:06.068Z"
   },
   {
    "duration": 17,
    "start_time": "2022-08-25T11:59:08.339Z"
   },
   {
    "duration": 9,
    "start_time": "2022-08-25T11:59:22.313Z"
   },
   {
    "duration": 5,
    "start_time": "2022-08-25T11:59:25.351Z"
   },
   {
    "duration": 9,
    "start_time": "2022-08-25T11:59:27.869Z"
   },
   {
    "duration": 5,
    "start_time": "2022-08-25T12:00:29.989Z"
   },
   {
    "duration": 6,
    "start_time": "2022-08-25T12:00:36.353Z"
   },
   {
    "duration": 5,
    "start_time": "2022-08-25T12:00:40.020Z"
   },
   {
    "duration": 16,
    "start_time": "2022-08-25T12:01:14.463Z"
   },
   {
    "duration": 5,
    "start_time": "2022-08-25T12:01:41.794Z"
   },
   {
    "duration": 5,
    "start_time": "2022-08-25T12:01:45.645Z"
   },
   {
    "duration": 8,
    "start_time": "2022-08-25T12:02:44.695Z"
   },
   {
    "duration": 8,
    "start_time": "2022-08-25T12:03:29.571Z"
   },
   {
    "duration": 7,
    "start_time": "2022-08-25T12:03:44.143Z"
   },
   {
    "duration": 5,
    "start_time": "2022-08-25T12:03:50.645Z"
   },
   {
    "duration": 4,
    "start_time": "2022-08-25T12:04:09.319Z"
   },
   {
    "duration": 662,
    "start_time": "2022-08-25T12:04:09.456Z"
   },
   {
    "duration": 21,
    "start_time": "2022-08-25T12:04:10.119Z"
   },
   {
    "duration": 116,
    "start_time": "2022-08-25T12:04:10.141Z"
   },
   {
    "duration": 398,
    "start_time": "2022-08-25T12:04:10.259Z"
   },
   {
    "duration": 382,
    "start_time": "2022-08-25T12:04:10.860Z"
   },
   {
    "duration": 25,
    "start_time": "2022-08-25T12:04:11.781Z"
   },
   {
    "duration": 66,
    "start_time": "2022-08-25T12:04:12.181Z"
   },
   {
    "duration": 68,
    "start_time": "2022-08-25T12:04:12.384Z"
   },
   {
    "duration": 53,
    "start_time": "2022-08-25T12:04:12.849Z"
   },
   {
    "duration": 399,
    "start_time": "2022-08-25T12:04:13.327Z"
   },
   {
    "duration": 324,
    "start_time": "2022-08-25T12:04:13.728Z"
   },
   {
    "duration": 15,
    "start_time": "2022-08-25T12:04:14.717Z"
   },
   {
    "duration": 166,
    "start_time": "2022-08-25T12:04:15.202Z"
   },
   {
    "duration": 238,
    "start_time": "2022-08-25T12:04:16.864Z"
   },
   {
    "duration": 18,
    "start_time": "2022-08-25T12:04:17.199Z"
   },
   {
    "duration": 161,
    "start_time": "2022-08-25T12:04:17.695Z"
   },
   {
    "duration": 270,
    "start_time": "2022-08-25T12:04:17.857Z"
   },
   {
    "duration": 7,
    "start_time": "2022-08-25T12:04:18.129Z"
   },
   {
    "duration": 13,
    "start_time": "2022-08-25T12:04:18.233Z"
   },
   {
    "duration": 6,
    "start_time": "2022-08-25T12:04:19.918Z"
   },
   {
    "duration": 6,
    "start_time": "2022-08-25T12:04:22.060Z"
   },
   {
    "duration": 30,
    "start_time": "2022-08-25T12:04:27.028Z"
   },
   {
    "duration": 33,
    "start_time": "2022-08-25T12:04:29.025Z"
   },
   {
    "duration": 12,
    "start_time": "2022-08-25T12:04:31.542Z"
   },
   {
    "duration": 6,
    "start_time": "2022-08-25T12:04:33.880Z"
   },
   {
    "duration": 6,
    "start_time": "2022-08-25T12:04:36.186Z"
   },
   {
    "duration": 6,
    "start_time": "2022-08-25T12:04:37.575Z"
   },
   {
    "duration": 26,
    "start_time": "2022-08-25T12:04:39.763Z"
   },
   {
    "duration": 10,
    "start_time": "2022-08-25T12:04:48.593Z"
   },
   {
    "duration": 6,
    "start_time": "2022-08-25T12:04:52.068Z"
   },
   {
    "duration": 18,
    "start_time": "2022-08-25T12:05:28.356Z"
   },
   {
    "duration": 10,
    "start_time": "2022-08-25T12:06:04.529Z"
   },
   {
    "duration": 5,
    "start_time": "2022-08-25T12:06:09.360Z"
   },
   {
    "duration": 5,
    "start_time": "2022-08-25T12:06:26.258Z"
   },
   {
    "duration": 9,
    "start_time": "2022-08-25T12:06:34.827Z"
   },
   {
    "duration": 6,
    "start_time": "2022-08-25T12:06:48.952Z"
   },
   {
    "duration": 17,
    "start_time": "2022-08-25T12:06:55.411Z"
   },
   {
    "duration": 10,
    "start_time": "2022-08-25T12:07:12.832Z"
   },
   {
    "duration": 342,
    "start_time": "2022-08-25T12:07:16.285Z"
   },
   {
    "duration": 5,
    "start_time": "2022-08-25T12:07:23.901Z"
   },
   {
    "duration": 8,
    "start_time": "2022-08-25T12:07:51.910Z"
   },
   {
    "duration": 8,
    "start_time": "2022-08-25T12:07:55.322Z"
   },
   {
    "duration": 27,
    "start_time": "2022-08-25T12:07:57.382Z"
   },
   {
    "duration": 5,
    "start_time": "2022-08-25T12:09:28.130Z"
   },
   {
    "duration": 22,
    "start_time": "2022-08-25T12:09:28.997Z"
   },
   {
    "duration": 7,
    "start_time": "2022-08-25T12:10:30.363Z"
   },
   {
    "duration": 5,
    "start_time": "2022-08-25T12:10:35.751Z"
   },
   {
    "duration": 17,
    "start_time": "2022-08-25T12:10:36.580Z"
   },
   {
    "duration": 1439,
    "start_time": "2022-08-25T12:11:22.805Z"
   },
   {
    "duration": 818,
    "start_time": "2022-08-25T12:11:24.246Z"
   },
   {
    "duration": 25,
    "start_time": "2022-08-25T12:11:25.065Z"
   },
   {
    "duration": 117,
    "start_time": "2022-08-25T12:11:25.093Z"
   },
   {
    "duration": 449,
    "start_time": "2022-08-25T12:11:25.212Z"
   },
   {
    "duration": 519,
    "start_time": "2022-08-25T12:11:25.663Z"
   },
   {
    "duration": 39,
    "start_time": "2022-08-25T12:11:26.184Z"
   },
   {
    "duration": 132,
    "start_time": "2022-08-25T12:11:26.225Z"
   },
   {
    "duration": 75,
    "start_time": "2022-08-25T12:11:26.359Z"
   },
   {
    "duration": 72,
    "start_time": "2022-08-25T12:11:26.437Z"
   },
   {
    "duration": 440,
    "start_time": "2022-08-25T12:11:26.512Z"
   },
   {
    "duration": 339,
    "start_time": "2022-08-25T12:11:26.953Z"
   },
   {
    "duration": 22,
    "start_time": "2022-08-25T12:11:27.294Z"
   },
   {
    "duration": 173,
    "start_time": "2022-08-25T12:11:27.318Z"
   },
   {
    "duration": 342,
    "start_time": "2022-08-25T12:11:27.493Z"
   },
   {
    "duration": 21,
    "start_time": "2022-08-25T12:11:27.837Z"
   },
   {
    "duration": 187,
    "start_time": "2022-08-25T12:11:27.860Z"
   },
   {
    "duration": 273,
    "start_time": "2022-08-25T12:11:28.048Z"
   },
   {
    "duration": 7,
    "start_time": "2022-08-25T12:11:28.322Z"
   },
   {
    "duration": 8,
    "start_time": "2022-08-25T12:11:28.331Z"
   },
   {
    "duration": 4,
    "start_time": "2022-08-25T12:11:28.340Z"
   },
   {
    "duration": 6,
    "start_time": "2022-08-25T12:11:28.345Z"
   },
   {
    "duration": 25,
    "start_time": "2022-08-25T12:11:28.353Z"
   },
   {
    "duration": 42,
    "start_time": "2022-08-25T12:11:28.380Z"
   },
   {
    "duration": 9,
    "start_time": "2022-08-25T12:11:28.423Z"
   },
   {
    "duration": 5,
    "start_time": "2022-08-25T12:11:28.434Z"
   },
   {
    "duration": 6,
    "start_time": "2022-08-25T12:11:28.440Z"
   },
   {
    "duration": 4,
    "start_time": "2022-08-25T12:11:28.449Z"
   },
   {
    "duration": 53,
    "start_time": "2022-08-25T12:11:28.455Z"
   },
   {
    "duration": 10,
    "start_time": "2022-08-25T12:11:28.509Z"
   },
   {
    "duration": 6,
    "start_time": "2022-08-25T12:11:28.521Z"
   },
   {
    "duration": 8,
    "start_time": "2022-08-25T12:11:28.528Z"
   },
   {
    "duration": 4,
    "start_time": "2022-08-25T12:11:28.537Z"
   },
   {
    "duration": 6,
    "start_time": "2022-08-25T12:11:28.543Z"
   },
   {
    "duration": 9,
    "start_time": "2022-08-25T12:11:28.550Z"
   },
   {
    "duration": 50,
    "start_time": "2022-08-25T12:11:28.560Z"
   },
   {
    "duration": 20,
    "start_time": "2022-08-25T12:11:28.612Z"
   },
   {
    "duration": 147,
    "start_time": "2022-08-25T12:11:28.634Z"
   },
   {
    "duration": 23,
    "start_time": "2022-08-25T12:11:28.783Z"
   },
   {
    "duration": 251,
    "start_time": "2022-08-25T12:11:28.808Z"
   },
   {
    "duration": 18,
    "start_time": "2022-08-25T12:11:29.061Z"
   },
   {
    "duration": 27,
    "start_time": "2022-08-25T12:11:29.080Z"
   },
   {
    "duration": 1968,
    "start_time": "2022-08-25T12:11:29.108Z"
   },
   {
    "duration": 3,
    "start_time": "2022-08-25T12:11:31.078Z"
   },
   {
    "duration": 13,
    "start_time": "2022-08-25T12:11:31.083Z"
   },
   {
    "duration": 18,
    "start_time": "2022-08-25T12:11:31.098Z"
   },
   {
    "duration": 21,
    "start_time": "2022-08-25T12:11:31.117Z"
   },
   {
    "duration": 50,
    "start_time": "2022-08-25T12:11:31.139Z"
   },
   {
    "duration": 2,
    "start_time": "2022-08-25T12:11:31.191Z"
   },
   {
    "duration": 49,
    "start_time": "2022-08-25T12:11:31.195Z"
   },
   {
    "duration": 32,
    "start_time": "2022-08-25T12:11:31.246Z"
   },
   {
    "duration": 14,
    "start_time": "2022-08-25T12:11:31.279Z"
   },
   {
    "duration": 6,
    "start_time": "2022-08-25T12:11:31.295Z"
   },
   {
    "duration": 24,
    "start_time": "2022-08-25T12:11:31.302Z"
   },
   {
    "duration": 1280,
    "start_time": "2022-08-25T12:11:31.328Z"
   },
   {
    "duration": 4,
    "start_time": "2022-08-25T12:11:32.611Z"
   },
   {
    "duration": 95,
    "start_time": "2022-08-25T12:11:32.616Z"
   },
   {
    "duration": 15,
    "start_time": "2022-08-25T12:11:32.713Z"
   },
   {
    "duration": 1200,
    "start_time": "2022-08-25T12:11:32.805Z"
   },
   {
    "duration": 2,
    "start_time": "2022-08-25T12:11:34.007Z"
   },
   {
    "duration": 22389,
    "start_time": "2022-08-25T12:11:34.011Z"
   },
   {
    "duration": 3,
    "start_time": "2022-08-25T12:11:56.402Z"
   },
   {
    "duration": 71907,
    "start_time": "2022-08-25T12:11:56.406Z"
   },
   {
    "duration": 3,
    "start_time": "2022-08-25T12:13:08.314Z"
   },
   {
    "duration": 6,
    "start_time": "2022-08-25T12:13:08.318Z"
   },
   {
    "duration": 5,
    "start_time": "2022-08-25T12:13:08.326Z"
   },
   {
    "duration": 8,
    "start_time": "2022-08-25T12:13:08.332Z"
   },
   {
    "duration": 123,
    "start_time": "2022-08-25T12:13:08.406Z"
   },
   {
    "duration": 124,
    "start_time": "2022-08-25T12:13:08.531Z"
   },
   {
    "duration": 118,
    "start_time": "2022-08-25T12:13:08.657Z"
   },
   {
    "duration": 4,
    "start_time": "2022-08-25T12:55:13.264Z"
   },
   {
    "duration": 732,
    "start_time": "2022-08-25T12:55:13.909Z"
   },
   {
    "duration": 20,
    "start_time": "2022-08-25T12:55:14.645Z"
   },
   {
    "duration": 114,
    "start_time": "2022-08-25T12:55:14.666Z"
   },
   {
    "duration": 421,
    "start_time": "2022-08-25T12:55:14.885Z"
   },
   {
    "duration": 365,
    "start_time": "2022-08-25T12:55:15.307Z"
   },
   {
    "duration": 25,
    "start_time": "2022-08-25T12:55:15.700Z"
   },
   {
    "duration": 87,
    "start_time": "2022-08-25T12:55:16.067Z"
   },
   {
    "duration": 72,
    "start_time": "2022-08-25T12:55:16.422Z"
   },
   {
    "duration": 62,
    "start_time": "2022-08-25T12:55:16.913Z"
   },
   {
    "duration": 383,
    "start_time": "2022-08-25T12:55:17.356Z"
   },
   {
    "duration": 430,
    "start_time": "2022-08-25T12:55:17.741Z"
   },
   {
    "duration": 16,
    "start_time": "2022-08-25T12:55:18.172Z"
   },
   {
    "duration": 148,
    "start_time": "2022-08-25T12:55:18.253Z"
   },
   {
    "duration": 231,
    "start_time": "2022-08-25T12:55:18.874Z"
   },
   {
    "duration": 17,
    "start_time": "2022-08-25T12:55:19.130Z"
   },
   {
    "duration": 162,
    "start_time": "2022-08-25T12:55:20.118Z"
   },
   {
    "duration": 240,
    "start_time": "2022-08-25T12:55:21.090Z"
   },
   {
    "duration": 8,
    "start_time": "2022-08-25T12:55:22.465Z"
   },
   {
    "duration": 6,
    "start_time": "2022-08-25T12:55:47.178Z"
   },
   {
    "duration": 8,
    "start_time": "2022-08-25T12:55:48.240Z"
   },
   {
    "duration": 4,
    "start_time": "2022-08-25T12:55:49.184Z"
   },
   {
    "duration": 5,
    "start_time": "2022-08-25T12:55:50.845Z"
   },
   {
    "duration": 19,
    "start_time": "2022-08-25T12:55:51.622Z"
   },
   {
    "duration": 17,
    "start_time": "2022-08-25T12:55:53.971Z"
   },
   {
    "duration": 10,
    "start_time": "2022-08-25T12:55:59.545Z"
   },
   {
    "duration": 5,
    "start_time": "2022-08-25T12:56:02.719Z"
   },
   {
    "duration": 5,
    "start_time": "2022-08-25T12:56:03.134Z"
   },
   {
    "duration": 5,
    "start_time": "2022-08-25T12:56:06.528Z"
   },
   {
    "duration": 18,
    "start_time": "2022-08-25T12:56:07.067Z"
   },
   {
    "duration": 17,
    "start_time": "2022-08-25T12:56:21.069Z"
   },
   {
    "duration": 9,
    "start_time": "2022-08-25T12:58:07.451Z"
   },
   {
    "duration": 10,
    "start_time": "2022-08-25T12:58:41.340Z"
   },
   {
    "duration": 17,
    "start_time": "2022-08-25T12:58:57.740Z"
   },
   {
    "duration": 8,
    "start_time": "2022-08-25T12:59:15.805Z"
   },
   {
    "duration": 11,
    "start_time": "2022-08-25T12:59:26.253Z"
   },
   {
    "duration": 17,
    "start_time": "2022-08-25T12:59:31.464Z"
   },
   {
    "duration": 5,
    "start_time": "2022-08-25T13:00:49.078Z"
   },
   {
    "duration": 8,
    "start_time": "2022-08-25T13:02:20.500Z"
   },
   {
    "duration": 12,
    "start_time": "2022-08-25T13:02:46.142Z"
   },
   {
    "duration": 1407,
    "start_time": "2022-08-25T13:03:36.819Z"
   },
   {
    "duration": 722,
    "start_time": "2022-08-25T13:03:38.228Z"
   },
   {
    "duration": 24,
    "start_time": "2022-08-25T13:03:38.952Z"
   },
   {
    "duration": 129,
    "start_time": "2022-08-25T13:03:38.978Z"
   },
   {
    "duration": 409,
    "start_time": "2022-08-25T13:03:39.108Z"
   },
   {
    "duration": 460,
    "start_time": "2022-08-25T13:03:39.519Z"
   },
   {
    "duration": 35,
    "start_time": "2022-08-25T13:03:39.981Z"
   },
   {
    "duration": 94,
    "start_time": "2022-08-25T13:03:40.018Z"
   },
   {
    "duration": 74,
    "start_time": "2022-08-25T13:03:40.114Z"
   },
   {
    "duration": 65,
    "start_time": "2022-08-25T13:03:40.191Z"
   },
   {
    "duration": 437,
    "start_time": "2022-08-25T13:03:40.257Z"
   },
   {
    "duration": 316,
    "start_time": "2022-08-25T13:03:40.696Z"
   },
   {
    "duration": 16,
    "start_time": "2022-08-25T13:03:41.013Z"
   },
   {
    "duration": 164,
    "start_time": "2022-08-25T13:03:41.031Z"
   },
   {
    "duration": 300,
    "start_time": "2022-08-25T13:03:41.196Z"
   },
   {
    "duration": 26,
    "start_time": "2022-08-25T13:03:41.497Z"
   },
   {
    "duration": 157,
    "start_time": "2022-08-25T13:03:41.525Z"
   },
   {
    "duration": 236,
    "start_time": "2022-08-25T13:03:41.683Z"
   },
   {
    "duration": 7,
    "start_time": "2022-08-25T13:03:41.921Z"
   },
   {
    "duration": 15,
    "start_time": "2022-08-25T13:03:41.929Z"
   },
   {
    "duration": 4,
    "start_time": "2022-08-25T13:03:41.945Z"
   },
   {
    "duration": 10,
    "start_time": "2022-08-25T13:03:41.950Z"
   },
   {
    "duration": 27,
    "start_time": "2022-08-25T13:03:41.962Z"
   },
   {
    "duration": 30,
    "start_time": "2022-08-25T13:03:41.990Z"
   },
   {
    "duration": 9,
    "start_time": "2022-08-25T13:03:42.022Z"
   },
   {
    "duration": 8,
    "start_time": "2022-08-25T13:03:42.033Z"
   },
   {
    "duration": 8,
    "start_time": "2022-08-25T13:03:42.043Z"
   },
   {
    "duration": 5,
    "start_time": "2022-08-25T13:03:42.054Z"
   },
   {
    "duration": 14,
    "start_time": "2022-08-25T13:03:42.060Z"
   },
   {
    "duration": 33,
    "start_time": "2022-08-25T13:03:42.076Z"
   },
   {
    "duration": 17,
    "start_time": "2022-08-25T13:03:42.111Z"
   },
   {
    "duration": 30,
    "start_time": "2022-08-25T13:03:42.129Z"
   },
   {
    "duration": 19,
    "start_time": "2022-08-25T13:03:42.161Z"
   },
   {
    "duration": 34,
    "start_time": "2022-08-25T13:03:42.181Z"
   },
   {
    "duration": 130,
    "start_time": "2022-08-25T13:03:42.216Z"
   },
   {
    "duration": 13,
    "start_time": "2022-08-25T13:03:42.348Z"
   },
   {
    "duration": 240,
    "start_time": "2022-08-25T13:03:42.362Z"
   },
   {
    "duration": 12,
    "start_time": "2022-08-25T13:03:42.604Z"
   },
   {
    "duration": 13,
    "start_time": "2022-08-25T13:03:42.617Z"
   },
   {
    "duration": 1897,
    "start_time": "2022-08-25T13:03:42.631Z"
   },
   {
    "duration": 3,
    "start_time": "2022-08-25T13:03:44.530Z"
   },
   {
    "duration": 18,
    "start_time": "2022-08-25T13:03:44.535Z"
   },
   {
    "duration": 30,
    "start_time": "2022-08-25T13:03:44.555Z"
   },
   {
    "duration": 32,
    "start_time": "2022-08-25T13:03:44.587Z"
   },
   {
    "duration": 70,
    "start_time": "2022-08-25T13:03:44.621Z"
   },
   {
    "duration": 3,
    "start_time": "2022-08-25T13:03:44.692Z"
   },
   {
    "duration": 32,
    "start_time": "2022-08-25T13:03:44.696Z"
   },
   {
    "duration": 38,
    "start_time": "2022-08-25T13:03:44.729Z"
   },
   {
    "duration": 16,
    "start_time": "2022-08-25T13:03:44.768Z"
   },
   {
    "duration": 9,
    "start_time": "2022-08-25T13:03:44.785Z"
   },
   {
    "duration": 9,
    "start_time": "2022-08-25T13:03:44.796Z"
   },
   {
    "duration": 1103,
    "start_time": "2022-08-25T13:03:44.806Z"
   },
   {
    "duration": 4,
    "start_time": "2022-08-25T13:03:45.912Z"
   },
   {
    "duration": 3,
    "start_time": "2022-08-25T13:03:46.007Z"
   },
   {
    "duration": 96,
    "start_time": "2022-08-25T13:03:46.012Z"
   },
   {
    "duration": 1264,
    "start_time": "2022-08-25T13:03:46.110Z"
   },
   {
    "duration": 2,
    "start_time": "2022-08-25T13:03:47.376Z"
   },
   {
    "duration": 20225,
    "start_time": "2022-08-25T13:03:47.379Z"
   },
   {
    "duration": 2,
    "start_time": "2022-08-25T13:04:07.606Z"
   },
   {
    "duration": 7918,
    "start_time": "2022-08-25T13:04:07.609Z"
   },
   {
    "duration": 77,
    "start_time": "2022-08-25T13:04:15.529Z"
   },
   {
    "duration": 6,
    "start_time": "2022-08-25T13:04:15.608Z"
   },
   {
    "duration": 7,
    "start_time": "2022-08-25T13:04:15.615Z"
   },
   {
    "duration": 13,
    "start_time": "2022-08-25T13:04:15.623Z"
   },
   {
    "duration": 153,
    "start_time": "2022-08-25T13:04:15.637Z"
   },
   {
    "duration": 134,
    "start_time": "2022-08-25T13:04:15.791Z"
   },
   {
    "duration": 127,
    "start_time": "2022-08-25T13:04:15.927Z"
   },
   {
    "duration": 4,
    "start_time": "2022-08-25T13:13:56.725Z"
   },
   {
    "duration": 698,
    "start_time": "2022-08-25T13:13:57.550Z"
   },
   {
    "duration": 21,
    "start_time": "2022-08-25T13:13:58.437Z"
   },
   {
    "duration": 95,
    "start_time": "2022-08-25T13:13:59.483Z"
   },
   {
    "duration": 377,
    "start_time": "2022-08-25T13:14:00.702Z"
   },
   {
    "duration": 390,
    "start_time": "2022-08-25T13:14:01.374Z"
   },
   {
    "duration": 29,
    "start_time": "2022-08-25T13:14:03.166Z"
   },
   {
    "duration": 69,
    "start_time": "2022-08-25T13:14:04.524Z"
   },
   {
    "duration": 60,
    "start_time": "2022-08-25T13:14:05.513Z"
   },
   {
    "duration": 50,
    "start_time": "2022-08-25T13:14:08.463Z"
   },
   {
    "duration": 387,
    "start_time": "2022-08-25T13:14:12.428Z"
   },
   {
    "duration": 405,
    "start_time": "2022-08-25T13:14:13.674Z"
   },
   {
    "duration": 17,
    "start_time": "2022-08-25T13:14:15.245Z"
   },
   {
    "duration": 145,
    "start_time": "2022-08-25T13:14:19.556Z"
   },
   {
    "duration": 220,
    "start_time": "2022-08-25T13:14:22.637Z"
   },
   {
    "duration": 19,
    "start_time": "2022-08-25T13:14:31.388Z"
   },
   {
    "duration": 164,
    "start_time": "2022-08-25T13:14:33.840Z"
   },
   {
    "duration": 270,
    "start_time": "2022-08-25T13:14:34.911Z"
   },
   {
    "duration": 7,
    "start_time": "2022-08-25T13:14:36.425Z"
   },
   {
    "duration": 9,
    "start_time": "2022-08-25T13:14:41.340Z"
   },
   {
    "duration": 4,
    "start_time": "2022-08-25T13:14:41.632Z"
   },
   {
    "duration": 5,
    "start_time": "2022-08-25T13:14:41.922Z"
   },
   {
    "duration": 21,
    "start_time": "2022-08-25T13:14:42.717Z"
   },
   {
    "duration": 18,
    "start_time": "2022-08-25T13:14:44.005Z"
   },
   {
    "duration": 9,
    "start_time": "2022-08-25T13:14:51.271Z"
   },
   {
    "duration": 5,
    "start_time": "2022-08-25T13:15:31.531Z"
   },
   {
    "duration": 5,
    "start_time": "2022-08-25T13:15:32.432Z"
   },
   {
    "duration": 5,
    "start_time": "2022-08-25T13:16:05.636Z"
   },
   {
    "duration": 8,
    "start_time": "2022-08-25T13:16:21.817Z"
   },
   {
    "duration": 7,
    "start_time": "2022-08-25T13:16:22.718Z"
   },
   {
    "duration": 4,
    "start_time": "2022-08-25T13:16:31.875Z"
   },
   {
    "duration": 9,
    "start_time": "2022-08-25T13:16:33.134Z"
   },
   {
    "duration": 10,
    "start_time": "2022-08-25T13:16:35.249Z"
   },
   {
    "duration": 21,
    "start_time": "2022-08-25T13:16:37.598Z"
   },
   {
    "duration": 125,
    "start_time": "2022-08-25T13:16:40.671Z"
   },
   {
    "duration": 14,
    "start_time": "2022-08-25T13:16:44.404Z"
   },
   {
    "duration": 230,
    "start_time": "2022-08-25T13:16:52.309Z"
   },
   {
    "duration": 11,
    "start_time": "2022-08-25T13:17:09.215Z"
   },
   {
    "duration": 1923,
    "start_time": "2022-08-25T13:17:19.101Z"
   },
   {
    "duration": 17,
    "start_time": "2022-08-25T13:17:36.925Z"
   },
   {
    "duration": 5,
    "start_time": "2022-08-25T13:18:00.463Z"
   },
   {
    "duration": 18,
    "start_time": "2022-08-25T13:18:15.265Z"
   },
   {
    "duration": 16,
    "start_time": "2022-08-25T14:12:10.677Z"
   },
   {
    "duration": 5,
    "start_time": "2022-08-25T14:12:18.460Z"
   },
   {
    "duration": 5,
    "start_time": "2022-08-25T14:12:26.267Z"
   },
   {
    "duration": 25,
    "start_time": "2022-08-25T14:12:46.214Z"
   },
   {
    "duration": 59,
    "start_time": "2022-08-25T14:13:08.847Z"
   },
   {
    "duration": 59,
    "start_time": "2022-08-25T14:13:27.077Z"
   },
   {
    "duration": 16,
    "start_time": "2022-08-25T14:27:54.845Z"
   },
   {
    "duration": 3,
    "start_time": "2022-08-25T14:28:38.336Z"
   },
   {
    "duration": 7,
    "start_time": "2022-08-25T14:29:15.392Z"
   },
   {
    "duration": 8,
    "start_time": "2022-08-25T14:30:22.096Z"
   },
   {
    "duration": 33,
    "start_time": "2022-08-25T14:31:24.567Z"
   },
   {
    "duration": 2,
    "start_time": "2022-08-25T14:32:45.755Z"
   },
   {
    "duration": 23,
    "start_time": "2022-08-25T14:33:07.374Z"
   },
   {
    "duration": 27,
    "start_time": "2022-08-25T14:33:49.291Z"
   },
   {
    "duration": 5,
    "start_time": "2022-08-25T14:34:05.806Z"
   },
   {
    "duration": 773,
    "start_time": "2022-08-25T14:34:05.988Z"
   },
   {
    "duration": 18,
    "start_time": "2022-08-25T14:34:06.763Z"
   },
   {
    "duration": 117,
    "start_time": "2022-08-25T14:34:06.783Z"
   },
   {
    "duration": 387,
    "start_time": "2022-08-25T14:34:06.902Z"
   },
   {
    "duration": 418,
    "start_time": "2022-08-25T14:34:07.290Z"
   },
   {
    "duration": 30,
    "start_time": "2022-08-25T14:34:07.712Z"
   },
   {
    "duration": 76,
    "start_time": "2022-08-25T14:34:07.744Z"
   },
   {
    "duration": 65,
    "start_time": "2022-08-25T14:34:07.865Z"
   },
   {
    "duration": 53,
    "start_time": "2022-08-25T14:34:08.189Z"
   },
   {
    "duration": 559,
    "start_time": "2022-08-25T14:34:08.541Z"
   },
   {
    "duration": 301,
    "start_time": "2022-08-25T14:34:09.107Z"
   },
   {
    "duration": 16,
    "start_time": "2022-08-25T14:34:09.409Z"
   },
   {
    "duration": 165,
    "start_time": "2022-08-25T14:34:09.426Z"
   },
   {
    "duration": 234,
    "start_time": "2022-08-25T14:34:09.733Z"
   },
   {
    "duration": 19,
    "start_time": "2022-08-25T14:34:09.969Z"
   },
   {
    "duration": 162,
    "start_time": "2022-08-25T14:34:10.113Z"
   },
   {
    "duration": 290,
    "start_time": "2022-08-25T14:34:10.292Z"
   },
   {
    "duration": 8,
    "start_time": "2022-08-25T14:34:10.584Z"
   },
   {
    "duration": 11,
    "start_time": "2022-08-25T14:34:10.613Z"
   },
   {
    "duration": 5,
    "start_time": "2022-08-25T14:34:10.788Z"
   },
   {
    "duration": 5,
    "start_time": "2022-08-25T14:34:11.049Z"
   },
   {
    "duration": 20,
    "start_time": "2022-08-25T14:34:11.175Z"
   },
   {
    "duration": 18,
    "start_time": "2022-08-25T14:34:11.355Z"
   },
   {
    "duration": 10,
    "start_time": "2022-08-25T14:34:11.870Z"
   },
   {
    "duration": 5,
    "start_time": "2022-08-25T14:34:12.194Z"
   },
   {
    "duration": 7,
    "start_time": "2022-08-25T14:34:12.402Z"
   },
   {
    "duration": 5,
    "start_time": "2022-08-25T14:34:12.658Z"
   },
   {
    "duration": 9,
    "start_time": "2022-08-25T14:34:12.862Z"
   },
   {
    "duration": 9,
    "start_time": "2022-08-25T14:34:13.017Z"
   },
   {
    "duration": 5,
    "start_time": "2022-08-25T14:34:13.170Z"
   },
   {
    "duration": 8,
    "start_time": "2022-08-25T14:34:13.468Z"
   },
   {
    "duration": 10,
    "start_time": "2022-08-25T14:34:13.626Z"
   },
   {
    "duration": 24,
    "start_time": "2022-08-25T14:34:13.792Z"
   },
   {
    "duration": 122,
    "start_time": "2022-08-25T14:34:13.966Z"
   },
   {
    "duration": 14,
    "start_time": "2022-08-25T14:34:21.970Z"
   },
   {
    "duration": 239,
    "start_time": "2022-08-25T14:34:22.818Z"
   },
   {
    "duration": 11,
    "start_time": "2022-08-25T14:34:25.393Z"
   },
   {
    "duration": 2150,
    "start_time": "2022-08-25T14:34:28.276Z"
   },
   {
    "duration": 3,
    "start_time": "2022-08-25T14:34:31.345Z"
   },
   {
    "duration": 5,
    "start_time": "2022-08-25T14:34:32.007Z"
   },
   {
    "duration": 32,
    "start_time": "2022-08-25T14:34:32.014Z"
   },
   {
    "duration": 19,
    "start_time": "2022-08-25T14:34:35.194Z"
   },
   {
    "duration": 56,
    "start_time": "2022-08-25T14:34:40.237Z"
   },
   {
    "duration": 16,
    "start_time": "2022-08-25T14:35:11.235Z"
   },
   {
    "duration": 3,
    "start_time": "2022-08-25T14:35:20.133Z"
   },
   {
    "duration": 9,
    "start_time": "2022-08-25T14:35:21.617Z"
   },
   {
    "duration": 4,
    "start_time": "2022-08-25T14:38:09.010Z"
   },
   {
    "duration": 3,
    "start_time": "2022-08-25T14:38:11.393Z"
   },
   {
    "duration": 699,
    "start_time": "2022-08-25T14:38:14.342Z"
   },
   {
    "duration": 19,
    "start_time": "2022-08-25T14:38:15.043Z"
   },
   {
    "duration": 110,
    "start_time": "2022-08-25T14:38:15.064Z"
   },
   {
    "duration": 379,
    "start_time": "2022-08-25T14:38:15.176Z"
   },
   {
    "duration": 403,
    "start_time": "2022-08-25T14:38:15.557Z"
   },
   {
    "duration": 30,
    "start_time": "2022-08-25T14:38:15.962Z"
   },
   {
    "duration": 102,
    "start_time": "2022-08-25T14:38:15.993Z"
   },
   {
    "duration": 84,
    "start_time": "2022-08-25T14:38:16.190Z"
   },
   {
    "duration": 58,
    "start_time": "2022-08-25T14:38:16.473Z"
   },
   {
    "duration": 413,
    "start_time": "2022-08-25T14:38:16.755Z"
   },
   {
    "duration": 318,
    "start_time": "2022-08-25T14:38:17.169Z"
   },
   {
    "duration": 17,
    "start_time": "2022-08-25T14:38:17.489Z"
   },
   {
    "duration": 172,
    "start_time": "2022-08-25T14:38:17.507Z"
   },
   {
    "duration": 239,
    "start_time": "2022-08-25T14:38:18.022Z"
   },
   {
    "duration": 18,
    "start_time": "2022-08-25T14:38:18.263Z"
   },
   {
    "duration": 154,
    "start_time": "2022-08-25T14:38:18.576Z"
   },
   {
    "duration": 250,
    "start_time": "2022-08-25T14:38:18.750Z"
   },
   {
    "duration": 18,
    "start_time": "2022-08-25T14:38:19.002Z"
   },
   {
    "duration": 9,
    "start_time": "2022-08-25T14:38:19.170Z"
   },
   {
    "duration": 7,
    "start_time": "2022-08-25T14:38:19.418Z"
   },
   {
    "duration": 4,
    "start_time": "2022-08-25T14:38:19.576Z"
   },
   {
    "duration": 21,
    "start_time": "2022-08-25T14:38:19.768Z"
   },
   {
    "duration": 19,
    "start_time": "2022-08-25T14:38:20.002Z"
   },
   {
    "duration": 11,
    "start_time": "2022-08-25T14:38:20.617Z"
   },
   {
    "duration": 7,
    "start_time": "2022-08-25T14:38:21.124Z"
   },
   {
    "duration": 5,
    "start_time": "2022-08-25T14:38:22.056Z"
   },
   {
    "duration": 5,
    "start_time": "2022-08-25T14:38:22.670Z"
   },
   {
    "duration": 13,
    "start_time": "2022-08-25T14:38:23.002Z"
   },
   {
    "duration": 8,
    "start_time": "2022-08-25T14:38:23.117Z"
   },
   {
    "duration": 5,
    "start_time": "2022-08-25T14:38:25.266Z"
   },
   {
    "duration": 8,
    "start_time": "2022-08-25T14:38:27.288Z"
   },
   {
    "duration": 13,
    "start_time": "2022-08-25T14:38:29.616Z"
   },
   {
    "duration": 24,
    "start_time": "2022-08-25T14:38:30.005Z"
   },
   {
    "duration": 121,
    "start_time": "2022-08-25T14:38:30.317Z"
   },
   {
    "duration": 13,
    "start_time": "2022-08-25T14:38:31.668Z"
   },
   {
    "duration": 229,
    "start_time": "2022-08-25T14:38:32.101Z"
   },
   {
    "duration": 10,
    "start_time": "2022-08-25T14:38:32.343Z"
   },
   {
    "duration": 2048,
    "start_time": "2022-08-25T14:38:33.490Z"
   },
   {
    "duration": 4,
    "start_time": "2022-08-25T14:38:35.540Z"
   },
   {
    "duration": 13,
    "start_time": "2022-08-25T14:38:35.702Z"
   },
   {
    "duration": 10,
    "start_time": "2022-08-25T14:38:36.302Z"
   },
   {
    "duration": 15,
    "start_time": "2022-08-25T14:38:41.633Z"
   },
   {
    "duration": 57,
    "start_time": "2022-08-25T14:38:45.523Z"
   },
   {
    "duration": 17,
    "start_time": "2022-08-25T14:38:48.916Z"
   },
   {
    "duration": 3,
    "start_time": "2022-08-25T14:38:50.701Z"
   },
   {
    "duration": 7,
    "start_time": "2022-08-25T14:38:51.230Z"
   },
   {
    "duration": 32,
    "start_time": "2022-08-25T14:38:53.685Z"
   },
   {
    "duration": 24,
    "start_time": "2022-08-25T14:38:55.616Z"
   },
   {
    "duration": 5,
    "start_time": "2022-08-25T15:05:33.501Z"
   },
   {
    "duration": 2,
    "start_time": "2022-08-25T15:05:34.617Z"
   },
   {
    "duration": 2676,
    "start_time": "2022-08-25T15:05:34.946Z"
   },
   {
    "duration": 5,
    "start_time": "2022-08-25T15:05:37.623Z"
   },
   {
    "duration": 5,
    "start_time": "2022-08-25T15:05:37.710Z"
   },
   {
    "duration": 98,
    "start_time": "2022-08-25T15:05:37.723Z"
   },
   {
    "duration": 1110,
    "start_time": "2022-08-25T15:05:37.823Z"
   },
   {
    "duration": 2,
    "start_time": "2022-08-25T15:05:38.935Z"
   },
   {
    "duration": 22987,
    "start_time": "2022-08-25T15:05:38.939Z"
   },
   {
    "duration": 2,
    "start_time": "2022-08-25T15:06:01.928Z"
   },
   {
    "duration": 58499,
    "start_time": "2022-08-25T15:06:01.932Z"
   },
   {
    "duration": 13,
    "start_time": "2022-08-25T15:07:00.506Z"
   },
   {
    "duration": 12,
    "start_time": "2022-08-25T15:07:00.521Z"
   },
   {
    "duration": 13,
    "start_time": "2022-08-25T15:07:00.534Z"
   },
   {
    "duration": 15,
    "start_time": "2022-08-25T15:07:00.548Z"
   },
   {
    "duration": 150,
    "start_time": "2022-08-25T15:07:00.564Z"
   },
   {
    "duration": 122,
    "start_time": "2022-08-25T15:07:00.724Z"
   },
   {
    "duration": 122,
    "start_time": "2022-08-25T15:07:00.848Z"
   },
   {
    "duration": 134,
    "start_time": "2022-08-25T19:07:11.285Z"
   },
   {
    "duration": 1772,
    "start_time": "2022-08-25T19:07:19.474Z"
   },
   {
    "duration": 3,
    "start_time": "2022-08-25T19:07:21.249Z"
   },
   {
    "duration": 1150,
    "start_time": "2022-08-25T19:07:21.254Z"
   },
   {
    "duration": 24,
    "start_time": "2022-08-25T19:07:22.406Z"
   },
   {
    "duration": 131,
    "start_time": "2022-08-25T19:07:22.431Z"
   },
   {
    "duration": 427,
    "start_time": "2022-08-25T19:07:22.563Z"
   },
   {
    "duration": 449,
    "start_time": "2022-08-25T19:07:22.992Z"
   },
   {
    "duration": 30,
    "start_time": "2022-08-25T19:07:23.443Z"
   },
   {
    "duration": 92,
    "start_time": "2022-08-25T19:07:23.474Z"
   },
   {
    "duration": 88,
    "start_time": "2022-08-25T19:07:23.568Z"
   },
   {
    "duration": 64,
    "start_time": "2022-08-25T19:07:23.658Z"
   },
   {
    "duration": 466,
    "start_time": "2022-08-25T19:07:23.724Z"
   },
   {
    "duration": 333,
    "start_time": "2022-08-25T19:07:24.191Z"
   },
   {
    "duration": 15,
    "start_time": "2022-08-25T19:07:24.525Z"
   },
   {
    "duration": 175,
    "start_time": "2022-08-25T19:07:24.541Z"
   },
   {
    "duration": 320,
    "start_time": "2022-08-25T19:07:24.717Z"
   },
   {
    "duration": 17,
    "start_time": "2022-08-25T19:07:25.039Z"
   },
   {
    "duration": 178,
    "start_time": "2022-08-25T19:07:25.058Z"
   },
   {
    "duration": 273,
    "start_time": "2022-08-25T19:07:25.238Z"
   },
   {
    "duration": 7,
    "start_time": "2022-08-25T19:07:25.514Z"
   },
   {
    "duration": 19,
    "start_time": "2022-08-25T19:07:25.522Z"
   },
   {
    "duration": 19,
    "start_time": "2022-08-25T19:07:25.543Z"
   },
   {
    "duration": 9,
    "start_time": "2022-08-25T19:07:25.564Z"
   },
   {
    "duration": 28,
    "start_time": "2022-08-25T19:07:25.575Z"
   },
   {
    "duration": 29,
    "start_time": "2022-08-25T19:07:25.604Z"
   },
   {
    "duration": 10,
    "start_time": "2022-08-25T19:07:25.635Z"
   },
   {
    "duration": 5,
    "start_time": "2022-08-26T06:50:16.907Z"
   },
   {
    "duration": 3,
    "start_time": "2022-08-26T06:50:20.092Z"
   },
   {
    "duration": 74,
    "start_time": "2022-08-26T06:50:20.909Z"
   },
   {
    "duration": 3,
    "start_time": "2022-08-26T06:50:33.809Z"
   },
   {
    "duration": 3,
    "start_time": "2022-08-26T06:50:34.015Z"
   },
   {
    "duration": 702,
    "start_time": "2022-08-26T06:50:34.132Z"
   },
   {
    "duration": 21,
    "start_time": "2022-08-26T06:50:34.836Z"
   },
   {
    "duration": 148,
    "start_time": "2022-08-26T06:50:34.858Z"
   },
   {
    "duration": 391,
    "start_time": "2022-08-26T06:50:35.007Z"
   },
   {
    "duration": 378,
    "start_time": "2022-08-26T06:50:35.399Z"
   },
   {
    "duration": 30,
    "start_time": "2022-08-26T06:50:35.779Z"
   },
   {
    "duration": 92,
    "start_time": "2022-08-26T06:50:35.811Z"
   },
   {
    "duration": 93,
    "start_time": "2022-08-26T06:50:35.905Z"
   },
   {
    "duration": 54,
    "start_time": "2022-08-26T06:50:37.138Z"
   },
   {
    "duration": 428,
    "start_time": "2022-08-26T06:50:37.497Z"
   },
   {
    "duration": 319,
    "start_time": "2022-08-26T06:50:37.927Z"
   },
   {
    "duration": 13,
    "start_time": "2022-08-26T06:50:38.248Z"
   },
   {
    "duration": 182,
    "start_time": "2022-08-26T06:50:38.263Z"
   },
   {
    "duration": 238,
    "start_time": "2022-08-26T06:50:38.601Z"
   },
   {
    "duration": 17,
    "start_time": "2022-08-26T06:50:38.841Z"
   },
   {
    "duration": 250,
    "start_time": "2022-08-26T06:50:39.142Z"
   },
   {
    "duration": 255,
    "start_time": "2022-08-26T06:50:39.394Z"
   },
   {
    "duration": 7,
    "start_time": "2022-08-26T06:50:39.651Z"
   },
   {
    "duration": 22,
    "start_time": "2022-08-26T06:50:39.659Z"
   },
   {
    "duration": 4,
    "start_time": "2022-08-26T06:50:39.782Z"
   },
   {
    "duration": 5,
    "start_time": "2022-08-26T06:50:39.955Z"
   },
   {
    "duration": 21,
    "start_time": "2022-08-26T06:50:40.145Z"
   },
   {
    "duration": 27,
    "start_time": "2022-08-26T06:50:40.354Z"
   },
   {
    "duration": 10,
    "start_time": "2022-08-26T06:50:43.366Z"
   },
   {
    "duration": 5,
    "start_time": "2022-08-26T06:50:43.747Z"
   },
   {
    "duration": 5,
    "start_time": "2022-08-26T06:50:43.887Z"
   },
   {
    "duration": 5,
    "start_time": "2022-08-26T06:50:44.216Z"
   },
   {
    "duration": 8,
    "start_time": "2022-08-26T06:50:44.385Z"
   },
   {
    "duration": 8,
    "start_time": "2022-08-26T06:50:44.542Z"
   },
   {
    "duration": 5,
    "start_time": "2022-08-26T06:50:44.704Z"
   },
   {
    "duration": 9,
    "start_time": "2022-08-26T06:50:45.764Z"
   },
   {
    "duration": 12,
    "start_time": "2022-08-26T06:50:45.937Z"
   },
   {
    "duration": 21,
    "start_time": "2022-08-26T06:50:46.086Z"
   },
   {
    "duration": 159,
    "start_time": "2022-08-26T06:50:46.262Z"
   },
   {
    "duration": 16,
    "start_time": "2022-08-26T06:50:46.570Z"
   },
   {
    "duration": 231,
    "start_time": "2022-08-26T06:50:46.729Z"
   },
   {
    "duration": 10,
    "start_time": "2022-08-26T06:50:46.962Z"
   },
   {
    "duration": 1978,
    "start_time": "2022-08-26T06:50:47.184Z"
   },
   {
    "duration": 3,
    "start_time": "2022-08-26T06:50:49.164Z"
   },
   {
    "duration": 4,
    "start_time": "2022-08-26T06:50:49.745Z"
   },
   {
    "duration": 9,
    "start_time": "2022-08-26T06:50:51.554Z"
   },
   {
    "duration": 18,
    "start_time": "2022-08-26T06:50:51.758Z"
   },
   {
    "duration": 56,
    "start_time": "2022-08-26T06:50:51.910Z"
   },
   {
    "duration": 15,
    "start_time": "2022-08-26T06:50:52.082Z"
   },
   {
    "duration": 3,
    "start_time": "2022-08-26T06:50:53.215Z"
   },
   {
    "duration": 8,
    "start_time": "2022-08-26T06:50:55.680Z"
   },
   {
    "duration": 27,
    "start_time": "2022-08-26T06:50:55.880Z"
   },
   {
    "duration": 23,
    "start_time": "2022-08-26T06:50:56.083Z"
   },
   {
    "duration": 5,
    "start_time": "2022-08-26T06:50:59.149Z"
   },
   {
    "duration": 2,
    "start_time": "2022-08-26T06:51:00.341Z"
   },
   {
    "duration": 1345,
    "start_time": "2022-08-26T06:51:00.544Z"
   },
   {
    "duration": 4,
    "start_time": "2022-08-26T06:51:03.145Z"
   },
   {
    "duration": 3,
    "start_time": "2022-08-26T06:51:16.620Z"
   },
   {
    "duration": 4,
    "start_time": "2022-08-26T06:51:16.796Z"
   },
   {
    "duration": 68,
    "start_time": "2022-08-26T06:51:17.249Z"
   },
   {
    "duration": 4,
    "start_time": "2022-08-26T06:52:29.369Z"
   },
   {
    "duration": 65,
    "start_time": "2022-08-26T06:52:40.833Z"
   },
   {
    "duration": 5,
    "start_time": "2022-08-26T08:16:18.896Z"
   },
   {
    "duration": 2,
    "start_time": "2022-08-26T08:16:20.182Z"
   },
   {
    "duration": 1174,
    "start_time": "2022-08-26T08:16:20.521Z"
   },
   {
    "duration": 91,
    "start_time": "2022-08-26T08:16:21.698Z"
   },
   {
    "duration": 99,
    "start_time": "2022-08-26T08:16:21.791Z"
   },
   {
    "duration": 6,
    "start_time": "2022-08-26T08:16:21.892Z"
   },
   {
    "duration": 71,
    "start_time": "2022-08-26T08:16:23.984Z"
   },
   {
    "duration": 4,
    "start_time": "2022-08-26T09:08:33.084Z"
   },
   {
    "duration": 5624,
    "start_time": "2022-08-26T09:12:46.188Z"
   },
   {
    "duration": 5,
    "start_time": "2022-08-26T09:19:36.378Z"
   },
   {
    "duration": 4,
    "start_time": "2022-08-26T09:19:46.681Z"
   },
   {
    "duration": 4,
    "start_time": "2022-08-26T09:19:58.539Z"
   },
   {
    "duration": 4,
    "start_time": "2022-08-26T09:20:08.425Z"
   },
   {
    "duration": 6,
    "start_time": "2022-08-26T09:20:16.899Z"
   },
   {
    "duration": 5,
    "start_time": "2022-08-26T09:20:21.000Z"
   },
   {
    "duration": 3,
    "start_time": "2022-08-26T09:20:29.649Z"
   },
   {
    "duration": 5,
    "start_time": "2022-08-26T09:20:38.719Z"
   },
   {
    "duration": 13,
    "start_time": "2022-08-26T09:21:20.234Z"
   },
   {
    "duration": 4,
    "start_time": "2022-08-26T09:21:21.082Z"
   },
   {
    "duration": 7,
    "start_time": "2022-08-26T09:22:15.387Z"
   },
   {
    "duration": 4,
    "start_time": "2022-08-26T09:22:19.710Z"
   },
   {
    "duration": 4,
    "start_time": "2022-08-26T09:22:27.330Z"
   },
   {
    "duration": 4,
    "start_time": "2022-08-26T09:22:31.274Z"
   },
   {
    "duration": 4,
    "start_time": "2022-08-26T09:22:35.077Z"
   },
   {
    "duration": 4,
    "start_time": "2022-08-26T09:22:39.812Z"
   },
   {
    "duration": 80,
    "start_time": "2022-08-26T09:26:55.828Z"
   },
   {
    "duration": 28,
    "start_time": "2022-08-26T09:27:12.144Z"
   },
   {
    "duration": 31,
    "start_time": "2022-08-26T09:30:06.723Z"
   },
   {
    "duration": 35,
    "start_time": "2022-08-26T09:31:03.987Z"
   },
   {
    "duration": 30,
    "start_time": "2022-08-26T09:31:40.346Z"
   },
   {
    "duration": 60,
    "start_time": "2022-08-26T09:34:30.883Z"
   },
   {
    "duration": 86,
    "start_time": "2022-08-26T09:34:42.005Z"
   },
   {
    "duration": 58,
    "start_time": "2022-08-26T09:34:48.659Z"
   },
   {
    "duration": 1700,
    "start_time": "2022-08-26T09:44:28.504Z"
   },
   {
    "duration": 1744,
    "start_time": "2022-08-26T09:45:01.027Z"
   },
   {
    "duration": 41779,
    "start_time": "2022-08-26T09:45:50.314Z"
   },
   {
    "duration": 0,
    "start_time": "2022-08-26T09:48:28.925Z"
   },
   {
    "duration": 41068,
    "start_time": "2022-08-26T09:48:31.055Z"
   },
   {
    "duration": 1680,
    "start_time": "2022-08-26T09:49:25.176Z"
   },
   {
    "duration": 111,
    "start_time": "2022-08-26T13:07:31.576Z"
   },
   {
    "duration": 1627,
    "start_time": "2022-08-26T13:07:42.156Z"
   },
   {
    "duration": 10,
    "start_time": "2022-08-26T13:08:15.543Z"
   },
   {
    "duration": 3,
    "start_time": "2022-08-26T13:08:39.233Z"
   },
   {
    "duration": 1621,
    "start_time": "2022-08-26T13:09:50.711Z"
   },
   {
    "duration": 116,
    "start_time": "2022-08-26T13:10:21.761Z"
   },
   {
    "duration": 1818,
    "start_time": "2022-08-26T13:10:45.402Z"
   },
   {
    "duration": 3,
    "start_time": "2022-08-26T13:11:44.415Z"
   },
   {
    "duration": 10584,
    "start_time": "2022-08-26T13:11:56.303Z"
   },
   {
    "duration": 4,
    "start_time": "2022-08-26T13:12:13.001Z"
   },
   {
    "duration": 4,
    "start_time": "2022-08-26T13:15:33.976Z"
   },
   {
    "duration": 2,
    "start_time": "2022-08-26T13:15:34.165Z"
   },
   {
    "duration": 751,
    "start_time": "2022-08-26T13:15:34.374Z"
   },
   {
    "duration": 20,
    "start_time": "2022-08-26T13:15:35.126Z"
   },
   {
    "duration": 132,
    "start_time": "2022-08-26T13:15:35.148Z"
   },
   {
    "duration": 372,
    "start_time": "2022-08-26T13:15:35.287Z"
   },
   {
    "duration": 408,
    "start_time": "2022-08-26T13:15:35.661Z"
   },
   {
    "duration": 25,
    "start_time": "2022-08-26T13:15:36.677Z"
   },
   {
    "duration": 83,
    "start_time": "2022-08-26T13:15:37.274Z"
   },
   {
    "duration": 90,
    "start_time": "2022-08-26T13:15:37.542Z"
   },
   {
    "duration": 54,
    "start_time": "2022-08-26T13:15:38.126Z"
   },
   {
    "duration": 416,
    "start_time": "2022-08-26T13:15:38.712Z"
   },
   {
    "duration": 309,
    "start_time": "2022-08-26T13:15:39.130Z"
   },
   {
    "duration": 15,
    "start_time": "2022-08-26T13:15:39.538Z"
   },
   {
    "duration": 160,
    "start_time": "2022-08-26T13:15:39.785Z"
   },
   {
    "duration": 238,
    "start_time": "2022-08-26T13:15:40.533Z"
   },
   {
    "duration": 24,
    "start_time": "2022-08-26T13:15:40.773Z"
   },
   {
    "duration": 159,
    "start_time": "2022-08-26T13:15:41.336Z"
   },
   {
    "duration": 263,
    "start_time": "2022-08-26T13:15:41.541Z"
   },
   {
    "duration": 6,
    "start_time": "2022-08-26T13:15:41.818Z"
   },
   {
    "duration": 14,
    "start_time": "2022-08-26T13:15:42.011Z"
   },
   {
    "duration": 4,
    "start_time": "2022-08-26T13:15:42.420Z"
   },
   {
    "duration": 5,
    "start_time": "2022-08-26T13:15:42.670Z"
   },
   {
    "duration": 21,
    "start_time": "2022-08-26T13:15:43.431Z"
   },
   {
    "duration": 18,
    "start_time": "2022-08-26T13:15:44.183Z"
   },
   {
    "duration": 11,
    "start_time": "2022-08-26T13:15:47.981Z"
   },
   {
    "duration": 5,
    "start_time": "2022-08-26T13:15:49.303Z"
   },
   {
    "duration": 5,
    "start_time": "2022-08-26T13:15:51.071Z"
   },
   {
    "duration": 5,
    "start_time": "2022-08-26T13:15:52.699Z"
   },
   {
    "duration": 9,
    "start_time": "2022-08-26T13:15:53.640Z"
   },
   {
    "duration": 8,
    "start_time": "2022-08-26T13:15:54.317Z"
   },
   {
    "duration": 5,
    "start_time": "2022-08-26T13:15:55.621Z"
   },
   {
    "duration": 9,
    "start_time": "2022-08-26T13:15:56.993Z"
   },
   {
    "duration": 12,
    "start_time": "2022-08-26T13:15:58.283Z"
   },
   {
    "duration": 24,
    "start_time": "2022-08-26T13:16:01.344Z"
   },
   {
    "duration": 127,
    "start_time": "2022-08-26T13:16:03.098Z"
   },
   {
    "duration": 16,
    "start_time": "2022-08-26T13:16:04.415Z"
   },
   {
    "duration": 255,
    "start_time": "2022-08-26T13:16:04.846Z"
   },
   {
    "duration": 10,
    "start_time": "2022-08-26T13:16:05.195Z"
   },
   {
    "duration": 2116,
    "start_time": "2022-08-26T13:16:06.543Z"
   },
   {
    "duration": 3,
    "start_time": "2022-08-26T13:16:08.661Z"
   },
   {
    "duration": 5,
    "start_time": "2022-08-26T13:16:09.077Z"
   },
   {
    "duration": 12,
    "start_time": "2022-08-26T13:16:19.693Z"
   },
   {
    "duration": 17,
    "start_time": "2022-08-26T13:16:22.539Z"
   },
   {
    "duration": 56,
    "start_time": "2022-08-26T13:16:24.402Z"
   },
   {
    "duration": 16,
    "start_time": "2022-08-26T13:16:43.766Z"
   },
   {
    "duration": 2,
    "start_time": "2022-08-26T13:16:45.025Z"
   },
   {
    "duration": 8,
    "start_time": "2022-08-26T13:16:45.778Z"
   },
   {
    "duration": 24,
    "start_time": "2022-08-26T13:18:42.390Z"
   },
   {
    "duration": 24,
    "start_time": "2022-08-26T13:18:47.802Z"
   },
   {
    "duration": 3,
    "start_time": "2022-08-26T13:18:54.779Z"
   },
   {
    "duration": 6739,
    "start_time": "2022-08-26T13:19:04.052Z"
   },
   {
    "duration": 92,
    "start_time": "2022-08-26T13:19:10.795Z"
   },
   {
    "duration": 1143,
    "start_time": "2022-08-26T13:20:12.352Z"
   },
   {
    "duration": 48,
    "start_time": "2022-08-26T13:21:53.239Z"
   },
   {
    "duration": 4,
    "start_time": "2022-08-26T13:22:02.783Z"
   },
   {
    "duration": 5892,
    "start_time": "2022-08-26T13:22:21.301Z"
   },
   {
    "duration": 4,
    "start_time": "2022-08-26T13:22:29.806Z"
   },
   {
    "duration": 6409,
    "start_time": "2022-08-26T13:23:01.578Z"
   },
   {
    "duration": 10,
    "start_time": "2022-08-26T13:23:33.139Z"
   },
   {
    "duration": 51,
    "start_time": "2022-08-26T13:29:09.719Z"
   },
   {
    "duration": 79,
    "start_time": "2022-08-26T13:29:18.763Z"
   },
   {
    "duration": 3,
    "start_time": "2022-08-26T13:29:25.817Z"
   },
   {
    "duration": 5832,
    "start_time": "2022-08-26T13:29:31.867Z"
   },
   {
    "duration": 88,
    "start_time": "2022-08-26T13:29:37.701Z"
   },
   {
    "duration": 52,
    "start_time": "2022-08-26T13:35:35.094Z"
   },
   {
    "duration": 9,
    "start_time": "2022-08-26T13:35:43.606Z"
   },
   {
    "duration": 9,
    "start_time": "2022-08-26T13:35:52.547Z"
   },
   {
    "duration": 6266,
    "start_time": "2022-08-26T13:36:04.926Z"
   },
   {
    "duration": 95,
    "start_time": "2022-08-26T13:36:11.194Z"
   },
   {
    "duration": 19721,
    "start_time": "2022-08-26T13:36:49.968Z"
   },
   {
    "duration": 92,
    "start_time": "2022-08-26T13:37:09.696Z"
   },
   {
    "duration": 19602,
    "start_time": "2022-08-26T13:37:20.288Z"
   },
   {
    "duration": 92,
    "start_time": "2022-08-26T13:37:39.895Z"
   },
   {
    "duration": 22,
    "start_time": "2022-08-26T13:40:48.885Z"
   },
   {
    "duration": 5,
    "start_time": "2022-08-26T13:40:49.402Z"
   },
   {
    "duration": 5,
    "start_time": "2022-08-26T13:42:16.223Z"
   },
   {
    "duration": 3,
    "start_time": "2022-08-26T13:42:29.950Z"
   },
   {
    "duration": 4,
    "start_time": "2022-08-26T13:43:23.619Z"
   },
   {
    "duration": 2192,
    "start_time": "2022-08-26T13:43:31.597Z"
   },
   {
    "duration": 34,
    "start_time": "2022-08-26T13:43:57.867Z"
   },
   {
    "duration": 1168,
    "start_time": "2022-08-26T13:44:11.720Z"
   },
   {
    "duration": 24,
    "start_time": "2022-08-26T13:44:16.987Z"
   },
   {
    "duration": 1151,
    "start_time": "2022-08-26T13:44:20.939Z"
   },
   {
    "duration": 24,
    "start_time": "2022-08-26T13:44:22.936Z"
   },
   {
    "duration": 5,
    "start_time": "2022-08-26T13:44:38.086Z"
   },
   {
    "duration": 2,
    "start_time": "2022-08-26T13:45:51.978Z"
   },
   {
    "duration": 10240,
    "start_time": "2022-08-26T13:53:19.747Z"
   },
   {
    "duration": 2523,
    "start_time": "2022-08-26T13:54:13.568Z"
   },
   {
    "duration": 2413,
    "start_time": "2022-08-26T13:54:31.576Z"
   },
   {
    "duration": 3,
    "start_time": "2022-08-26T13:54:33.991Z"
   },
   {
    "duration": 3,
    "start_time": "2022-08-26T13:54:36.538Z"
   },
   {
    "duration": 40,
    "start_time": "2022-08-26T13:54:55.234Z"
   },
   {
    "duration": 3,
    "start_time": "2022-08-26T13:54:55.692Z"
   },
   {
    "duration": 4125,
    "start_time": "2022-08-26T13:55:00.266Z"
   },
   {
    "duration": 4,
    "start_time": "2022-08-26T13:55:04.393Z"
   },
   {
    "duration": 13,
    "start_time": "2022-08-26T13:55:33.477Z"
   },
   {
    "duration": 3,
    "start_time": "2022-08-26T13:55:45.458Z"
   },
   {
    "duration": 3353,
    "start_time": "2022-08-26T13:55:51.139Z"
   },
   {
    "duration": 94,
    "start_time": "2022-08-26T13:55:54.494Z"
   },
   {
    "duration": 4,
    "start_time": "2022-08-26T13:56:09.544Z"
   },
   {
    "duration": 3,
    "start_time": "2022-08-26T13:56:20.458Z"
   },
   {
    "duration": 9,
    "start_time": "2022-08-26T13:56:40.687Z"
   },
   {
    "duration": 8,
    "start_time": "2022-08-26T13:56:48.442Z"
   },
   {
    "duration": 40,
    "start_time": "2022-08-26T13:57:04.389Z"
   },
   {
    "duration": 3032,
    "start_time": "2022-08-26T13:57:11.266Z"
   },
   {
    "duration": 10,
    "start_time": "2022-08-26T13:57:24.659Z"
   },
   {
    "duration": 9,
    "start_time": "2022-08-26T13:57:27.607Z"
   },
   {
    "duration": 9,
    "start_time": "2022-08-26T13:57:44.422Z"
   },
   {
    "duration": 9,
    "start_time": "2022-08-26T13:57:48.311Z"
   },
   {
    "duration": 5,
    "start_time": "2022-08-26T13:57:55.700Z"
   },
   {
    "duration": 3,
    "start_time": "2022-08-26T13:58:33.301Z"
   },
   {
    "duration": 4,
    "start_time": "2022-08-26T13:58:37.130Z"
   },
   {
    "duration": 3,
    "start_time": "2022-08-26T13:58:40.927Z"
   },
   {
    "duration": 48,
    "start_time": "2022-08-26T13:58:51.617Z"
   },
   {
    "duration": 4,
    "start_time": "2022-08-26T13:58:51.818Z"
   },
   {
    "duration": 3,
    "start_time": "2022-08-26T13:58:57.883Z"
   },
   {
    "duration": 4,
    "start_time": "2022-08-26T13:58:58.879Z"
   },
   {
    "duration": 3,
    "start_time": "2022-08-26T13:59:06.928Z"
   },
   {
    "duration": 4,
    "start_time": "2022-08-26T13:59:12.139Z"
   },
   {
    "duration": 3,
    "start_time": "2022-08-26T13:59:28.116Z"
   },
   {
    "duration": 46,
    "start_time": "2022-08-26T14:00:12.516Z"
   },
   {
    "duration": 2339,
    "start_time": "2022-08-26T14:00:20.451Z"
   },
   {
    "duration": 2,
    "start_time": "2022-08-26T14:00:25.364Z"
   },
   {
    "duration": 4,
    "start_time": "2022-08-26T14:01:50.489Z"
   },
   {
    "duration": 3170,
    "start_time": "2022-08-26T14:02:40.521Z"
   },
   {
    "duration": 6,
    "start_time": "2022-08-26T14:03:10.654Z"
   },
   {
    "duration": 3403,
    "start_time": "2022-08-26T14:03:32.994Z"
   },
   {
    "duration": 4,
    "start_time": "2022-08-26T14:03:51.975Z"
   },
   {
    "duration": 25,
    "start_time": "2022-08-26T14:04:31.579Z"
   },
   {
    "duration": 1145,
    "start_time": "2022-08-26T14:04:50.945Z"
   },
   {
    "duration": 4,
    "start_time": "2022-08-26T14:04:52.163Z"
   },
   {
    "duration": 28,
    "start_time": "2022-08-26T14:05:00.945Z"
   },
   {
    "duration": 1322,
    "start_time": "2022-08-26T14:15:36.566Z"
   },
   {
    "duration": 3,
    "start_time": "2022-08-26T14:15:39.061Z"
   },
   {
    "duration": 11,
    "start_time": "2022-08-26T14:16:01.787Z"
   },
   {
    "duration": 4,
    "start_time": "2022-08-26T14:18:03.034Z"
   },
   {
    "duration": 70,
    "start_time": "2022-08-26T14:18:45.309Z"
   },
   {
    "duration": 3,
    "start_time": "2022-08-26T14:20:14.623Z"
   },
   {
    "duration": 2,
    "start_time": "2022-08-26T14:20:23.475Z"
   },
   {
    "duration": 4,
    "start_time": "2022-08-26T14:20:37.096Z"
   },
   {
    "duration": 1302,
    "start_time": "2022-08-26T14:21:09.285Z"
   },
   {
    "duration": 3,
    "start_time": "2022-08-26T14:21:10.589Z"
   },
   {
    "duration": 8,
    "start_time": "2022-08-26T14:21:10.594Z"
   },
   {
    "duration": 4,
    "start_time": "2022-08-26T14:21:17.440Z"
   },
   {
    "duration": 1316,
    "start_time": "2022-08-26T14:22:25.674Z"
   },
   {
    "duration": 4,
    "start_time": "2022-08-26T14:22:47.707Z"
   },
   {
    "duration": 8,
    "start_time": "2022-08-26T14:23:08.334Z"
   },
   {
    "duration": 9,
    "start_time": "2022-08-26T14:23:14.297Z"
   },
   {
    "duration": 3,
    "start_time": "2022-08-26T14:23:27.480Z"
   },
   {
    "duration": 4,
    "start_time": "2022-08-26T14:23:47.496Z"
   },
   {
    "duration": 4,
    "start_time": "2022-08-26T14:23:54.186Z"
   },
   {
    "duration": 4,
    "start_time": "2022-08-26T14:23:58.339Z"
   },
   {
    "duration": 99,
    "start_time": "2022-08-26T14:24:41.888Z"
   },
   {
    "duration": 4,
    "start_time": "2022-08-26T14:24:45.035Z"
   },
   {
    "duration": 10,
    "start_time": "2022-08-26T14:25:07.378Z"
   },
   {
    "duration": 9,
    "start_time": "2022-08-26T14:25:10.975Z"
   },
   {
    "duration": 5,
    "start_time": "2022-08-26T14:26:36.394Z"
   },
   {
    "duration": 2,
    "start_time": "2022-08-26T14:26:49.530Z"
   },
   {
    "duration": 4,
    "start_time": "2022-08-26T14:27:05.719Z"
   },
   {
    "duration": 3,
    "start_time": "2022-08-26T14:29:10.832Z"
   },
   {
    "duration": 3,
    "start_time": "2022-08-26T14:29:12.984Z"
   },
   {
    "duration": 3,
    "start_time": "2022-08-26T14:30:03.304Z"
   },
   {
    "duration": 4,
    "start_time": "2022-08-26T14:30:04.893Z"
   },
   {
    "duration": 3,
    "start_time": "2022-08-26T14:34:27.283Z"
   },
   {
    "duration": 4,
    "start_time": "2022-08-26T14:34:28.069Z"
   },
   {
    "duration": 18,
    "start_time": "2022-08-26T14:34:42.263Z"
   },
   {
    "duration": 4,
    "start_time": "2022-08-26T14:35:06.598Z"
   },
   {
    "duration": 14,
    "start_time": "2022-08-26T14:42:27.842Z"
   },
   {
    "duration": 3,
    "start_time": "2022-08-26T14:43:02.823Z"
   },
   {
    "duration": 6,
    "start_time": "2022-08-26T14:43:06.346Z"
   },
   {
    "duration": 115,
    "start_time": "2022-08-26T14:43:57.898Z"
   },
   {
    "duration": 123,
    "start_time": "2022-08-26T14:44:07.128Z"
   },
   {
    "duration": 1638,
    "start_time": "2022-08-26T14:48:11.173Z"
   },
   {
    "duration": 1677,
    "start_time": "2022-08-26T14:48:29.482Z"
   },
   {
    "duration": 1746,
    "start_time": "2022-08-26T14:49:16.282Z"
   },
   {
    "duration": 1641,
    "start_time": "2022-08-26T14:49:27.969Z"
   },
   {
    "duration": 1094,
    "start_time": "2022-08-26T14:50:15.003Z"
   },
   {
    "duration": 1099,
    "start_time": "2022-08-26T14:50:30.896Z"
   },
   {
    "duration": 2,
    "start_time": "2022-08-26T14:50:39.453Z"
   },
   {
    "duration": 1417,
    "start_time": "2022-08-26T14:51:50.377Z"
   },
   {
    "duration": 91,
    "start_time": "2022-08-26T14:51:51.797Z"
   },
   {
    "duration": 1308,
    "start_time": "2022-08-26T14:53:06.579Z"
   },
   {
    "duration": 1143,
    "start_time": "2022-08-26T14:53:22.744Z"
   },
   {
    "duration": 5,
    "start_time": "2022-08-26T14:53:23.889Z"
   },
   {
    "duration": 4,
    "start_time": "2022-08-26T14:53:24.197Z"
   },
   {
    "duration": 26,
    "start_time": "2022-08-26T14:53:24.731Z"
   },
   {
    "duration": 4,
    "start_time": "2022-08-26T14:53:26.034Z"
   },
   {
    "duration": 5,
    "start_time": "2022-08-26T14:53:27.885Z"
   },
   {
    "duration": 6,
    "start_time": "2022-08-26T14:53:29.208Z"
   },
   {
    "duration": 14,
    "start_time": "2022-08-26T14:53:32.198Z"
   },
   {
    "duration": 14,
    "start_time": "2022-08-26T14:54:15.313Z"
   },
   {
    "duration": 8691,
    "start_time": "2022-08-26T14:54:29.996Z"
   },
   {
    "duration": 4,
    "start_time": "2022-08-26T14:54:38.690Z"
   },
   {
    "duration": 135,
    "start_time": "2022-08-26T14:54:38.695Z"
   },
   {
    "duration": 1620,
    "start_time": "2022-08-26T14:55:42.854Z"
   },
   {
    "duration": 4,
    "start_time": "2022-08-26T14:58:36.465Z"
   },
   {
    "duration": 9,
    "start_time": "2022-08-26T14:59:18.274Z"
   },
   {
    "duration": 77,
    "start_time": "2022-08-26T14:59:25.842Z"
   },
   {
    "duration": 8,
    "start_time": "2022-08-26T14:59:31.792Z"
   },
   {
    "duration": 10,
    "start_time": "2022-08-26T15:01:20.620Z"
   },
   {
    "duration": 9,
    "start_time": "2022-08-26T15:01:23.848Z"
   },
   {
    "duration": 30,
    "start_time": "2022-08-26T15:04:13.476Z"
   },
   {
    "duration": 1627,
    "start_time": "2022-08-26T15:04:20.895Z"
   },
   {
    "duration": 10,
    "start_time": "2022-08-26T15:11:33.302Z"
   },
   {
    "duration": 4,
    "start_time": "2022-08-26T15:12:44.583Z"
   },
   {
    "duration": 9,
    "start_time": "2022-08-26T15:12:49.439Z"
   },
   {
    "duration": 4,
    "start_time": "2022-08-26T15:12:55.956Z"
   },
   {
    "duration": 138,
    "start_time": "2022-08-26T15:16:45.591Z"
   },
   {
    "duration": 6,
    "start_time": "2022-08-26T15:17:28.740Z"
   },
   {
    "duration": 1850,
    "start_time": "2022-08-26T15:19:04.066Z"
   },
   {
    "duration": 1746,
    "start_time": "2022-08-26T15:19:21.145Z"
   },
   {
    "duration": 1697,
    "start_time": "2022-08-26T15:21:23.490Z"
   },
   {
    "duration": 1700,
    "start_time": "2022-08-26T16:06:04.062Z"
   },
   {
    "duration": 1669,
    "start_time": "2022-08-26T16:06:18.250Z"
   },
   {
    "duration": 3240,
    "start_time": "2022-08-26T16:07:01.684Z"
   },
   {
    "duration": 126,
    "start_time": "2022-08-26T16:09:29.000Z"
   },
   {
    "duration": 133,
    "start_time": "2022-08-26T16:10:04.188Z"
   },
   {
    "duration": 124,
    "start_time": "2022-08-26T16:10:28.343Z"
   },
   {
    "duration": 29,
    "start_time": "2022-08-26T16:11:45.487Z"
   },
   {
    "duration": 6,
    "start_time": "2022-08-26T16:11:50.308Z"
   },
   {
    "duration": 30,
    "start_time": "2022-08-26T16:12:19.291Z"
   },
   {
    "duration": 6,
    "start_time": "2022-08-26T16:12:57.382Z"
   },
   {
    "duration": 4,
    "start_time": "2022-08-26T16:13:08.607Z"
   },
   {
    "duration": 121,
    "start_time": "2022-08-26T16:14:20.257Z"
   },
   {
    "duration": 28,
    "start_time": "2022-08-26T16:14:21.044Z"
   },
   {
    "duration": 5,
    "start_time": "2022-08-26T16:14:21.728Z"
   },
   {
    "duration": 9,
    "start_time": "2022-08-26T16:14:22.990Z"
   },
   {
    "duration": 9,
    "start_time": "2022-08-26T16:14:40.581Z"
   },
   {
    "duration": 10,
    "start_time": "2022-08-26T16:14:49.385Z"
   },
   {
    "duration": 30,
    "start_time": "2022-08-26T16:15:16.925Z"
   },
   {
    "duration": 6,
    "start_time": "2022-08-26T16:15:18.982Z"
   },
   {
    "duration": 4,
    "start_time": "2022-08-26T16:15:19.180Z"
   },
   {
    "duration": 4,
    "start_time": "2022-08-26T16:15:55.762Z"
   },
   {
    "duration": 115,
    "start_time": "2022-08-26T16:16:22.243Z"
   },
   {
    "duration": 30,
    "start_time": "2022-08-26T16:16:23.005Z"
   },
   {
    "duration": 6,
    "start_time": "2022-08-26T16:16:23.422Z"
   },
   {
    "duration": 5,
    "start_time": "2022-08-26T16:16:24.542Z"
   },
   {
    "duration": 132,
    "start_time": "2022-08-26T16:16:54.428Z"
   },
   {
    "duration": 30,
    "start_time": "2022-08-26T16:16:56.475Z"
   },
   {
    "duration": 5,
    "start_time": "2022-08-26T16:17:00.359Z"
   },
   {
    "duration": 4,
    "start_time": "2022-08-26T16:17:05.966Z"
   },
   {
    "duration": 5,
    "start_time": "2022-08-26T16:17:13.157Z"
   },
   {
    "duration": 125,
    "start_time": "2022-08-26T16:17:40.093Z"
   },
   {
    "duration": 121,
    "start_time": "2022-08-26T16:17:55.142Z"
   },
   {
    "duration": 4,
    "start_time": "2022-08-26T16:18:11.869Z"
   },
   {
    "duration": 5,
    "start_time": "2022-08-26T16:18:30.859Z"
   },
   {
    "duration": 3,
    "start_time": "2022-08-26T16:18:49.295Z"
   },
   {
    "duration": 5,
    "start_time": "2022-08-26T16:19:06.656Z"
   },
   {
    "duration": 2,
    "start_time": "2022-08-26T16:21:21.093Z"
   },
   {
    "duration": 14,
    "start_time": "2022-08-26T16:56:59.207Z"
   },
   {
    "duration": 14,
    "start_time": "2022-08-26T16:57:05.458Z"
   },
   {
    "duration": 9380,
    "start_time": "2022-08-26T16:57:08.860Z"
   },
   {
    "duration": 49,
    "start_time": "2022-08-26T17:06:27.177Z"
   },
   {
    "duration": 1340,
    "start_time": "2022-08-26T17:06:32.637Z"
   },
   {
    "duration": 3423,
    "start_time": "2022-08-26T17:08:16.683Z"
   },
   {
    "duration": 4974,
    "start_time": "2022-08-26T17:08:36.958Z"
   },
   {
    "duration": 3997,
    "start_time": "2022-08-26T17:08:54.410Z"
   },
   {
    "duration": 3,
    "start_time": "2022-08-26T17:09:18.692Z"
   },
   {
    "duration": 10,
    "start_time": "2022-08-26T17:09:25.586Z"
   },
   {
    "duration": 3562,
    "start_time": "2022-08-26T17:10:42.164Z"
   },
   {
    "duration": 37892,
    "start_time": "2022-08-26T17:13:15.266Z"
   },
   {
    "duration": 1143,
    "start_time": "2022-08-26T17:16:57.127Z"
   },
   {
    "duration": 9,
    "start_time": "2022-08-26T17:17:35.376Z"
   },
   {
    "duration": 22,
    "start_time": "2022-08-26T17:18:32.133Z"
   },
   {
    "duration": 5,
    "start_time": "2022-08-26T17:19:29.218Z"
   },
   {
    "duration": 5,
    "start_time": "2022-08-26T17:19:56.452Z"
   },
   {
    "duration": 3,
    "start_time": "2022-08-26T17:20:19.395Z"
   },
   {
    "duration": 207,
    "start_time": "2022-08-26T17:39:29.577Z"
   },
   {
    "duration": 27,
    "start_time": "2022-08-26T17:42:15.676Z"
   },
   {
    "duration": 26,
    "start_time": "2022-08-26T17:43:22.712Z"
   },
   {
    "duration": 200,
    "start_time": "2022-08-26T17:44:31.534Z"
   },
   {
    "duration": 1408,
    "start_time": "2022-08-26T17:45:07.046Z"
   },
   {
    "duration": 2,
    "start_time": "2022-08-26T17:45:08.456Z"
   },
   {
    "duration": 828,
    "start_time": "2022-08-26T17:45:08.460Z"
   },
   {
    "duration": 24,
    "start_time": "2022-08-26T17:45:09.290Z"
   },
   {
    "duration": 146,
    "start_time": "2022-08-26T17:45:09.316Z"
   },
   {
    "duration": 452,
    "start_time": "2022-08-26T17:45:09.464Z"
   },
   {
    "duration": 503,
    "start_time": "2022-08-26T17:45:09.918Z"
   },
   {
    "duration": 32,
    "start_time": "2022-08-26T17:45:10.423Z"
   },
   {
    "duration": 105,
    "start_time": "2022-08-26T17:45:10.457Z"
   },
   {
    "duration": 100,
    "start_time": "2022-08-26T17:45:10.564Z"
   },
   {
    "duration": 85,
    "start_time": "2022-08-26T17:45:10.665Z"
   },
   {
    "duration": 484,
    "start_time": "2022-08-26T17:45:10.752Z"
   },
   {
    "duration": 350,
    "start_time": "2022-08-26T17:45:11.238Z"
   },
   {
    "duration": 18,
    "start_time": "2022-08-26T17:45:11.591Z"
   },
   {
    "duration": 194,
    "start_time": "2022-08-26T17:45:11.611Z"
   },
   {
    "duration": 342,
    "start_time": "2022-08-26T17:45:11.806Z"
   },
   {
    "duration": 20,
    "start_time": "2022-08-26T17:45:12.150Z"
   },
   {
    "duration": 185,
    "start_time": "2022-08-26T17:45:12.172Z"
   },
   {
    "duration": 278,
    "start_time": "2022-08-26T17:45:12.359Z"
   },
   {
    "duration": 9,
    "start_time": "2022-08-26T17:45:12.638Z"
   },
   {
    "duration": 16,
    "start_time": "2022-08-26T17:45:12.648Z"
   },
   {
    "duration": 6,
    "start_time": "2022-08-26T17:45:12.666Z"
   },
   {
    "duration": 26,
    "start_time": "2022-08-26T17:45:12.673Z"
   },
   {
    "duration": 27,
    "start_time": "2022-08-26T17:45:12.701Z"
   },
   {
    "duration": 18,
    "start_time": "2022-08-26T17:45:12.729Z"
   },
   {
    "duration": 10,
    "start_time": "2022-08-26T17:45:12.749Z"
   },
   {
    "duration": 9,
    "start_time": "2022-08-26T17:45:12.761Z"
   },
   {
    "duration": 18,
    "start_time": "2022-08-26T17:45:12.772Z"
   },
   {
    "duration": 7,
    "start_time": "2022-08-26T17:45:12.792Z"
   },
   {
    "duration": 12,
    "start_time": "2022-08-26T17:45:12.800Z"
   },
   {
    "duration": 9,
    "start_time": "2022-08-26T17:45:12.813Z"
   },
   {
    "duration": 5,
    "start_time": "2022-08-26T17:45:12.823Z"
   },
   {
    "duration": 14,
    "start_time": "2022-08-26T17:45:12.829Z"
   },
   {
    "duration": 11,
    "start_time": "2022-08-26T17:45:12.845Z"
   },
   {
    "duration": 23,
    "start_time": "2022-08-26T17:45:12.888Z"
   },
   {
    "duration": 151,
    "start_time": "2022-08-26T17:45:12.913Z"
   },
   {
    "duration": 21,
    "start_time": "2022-08-26T17:45:13.066Z"
   },
   {
    "duration": 258,
    "start_time": "2022-08-26T17:45:13.089Z"
   },
   {
    "duration": 11,
    "start_time": "2022-08-26T17:45:13.349Z"
   },
   {
    "duration": 2129,
    "start_time": "2022-08-26T17:45:13.361Z"
   },
   {
    "duration": 3,
    "start_time": "2022-08-26T17:45:15.495Z"
   },
   {
    "duration": 8,
    "start_time": "2022-08-26T17:45:15.500Z"
   },
   {
    "duration": 11,
    "start_time": "2022-08-26T17:45:15.510Z"
   },
   {
    "duration": 19,
    "start_time": "2022-08-26T17:45:15.522Z"
   },
   {
    "duration": 83,
    "start_time": "2022-08-26T17:45:15.543Z"
   },
   {
    "duration": 16,
    "start_time": "2022-08-26T17:45:15.628Z"
   },
   {
    "duration": 3,
    "start_time": "2022-08-26T17:45:15.645Z"
   },
   {
    "duration": 11,
    "start_time": "2022-08-26T17:45:15.649Z"
   },
   {
    "duration": 45,
    "start_time": "2022-08-26T17:45:15.662Z"
   },
   {
    "duration": 24,
    "start_time": "2022-08-26T17:45:15.709Z"
   },
   {
    "duration": 5,
    "start_time": "2022-08-26T17:45:15.734Z"
   },
   {
    "duration": 5,
    "start_time": "2022-08-26T17:45:15.741Z"
   },
   {
    "duration": 1345,
    "start_time": "2022-08-26T17:45:15.748Z"
   },
   {
    "duration": 5,
    "start_time": "2022-08-26T17:45:17.095Z"
   },
   {
    "duration": 186,
    "start_time": "2022-08-26T17:45:17.102Z"
   },
   {
    "duration": 13,
    "start_time": "2022-08-26T17:45:17.290Z"
   },
   {
    "duration": 1192,
    "start_time": "2022-08-26T17:45:17.305Z"
   },
   {
    "duration": 4,
    "start_time": "2022-08-26T17:45:18.587Z"
   },
   {
    "duration": 7,
    "start_time": "2022-08-26T17:45:18.593Z"
   },
   {
    "duration": 89,
    "start_time": "2022-08-26T17:45:18.602Z"
   },
   {
    "duration": 4,
    "start_time": "2022-08-26T17:45:18.786Z"
   },
   {
    "duration": 7,
    "start_time": "2022-08-26T17:45:18.792Z"
   },
   {
    "duration": 125,
    "start_time": "2022-08-26T17:45:18.800Z"
   },
   {
    "duration": 0,
    "start_time": "2022-08-26T17:45:18.927Z"
   },
   {
    "duration": 0,
    "start_time": "2022-08-26T17:45:18.928Z"
   },
   {
    "duration": 0,
    "start_time": "2022-08-26T17:45:18.929Z"
   },
   {
    "duration": 0,
    "start_time": "2022-08-26T17:45:18.931Z"
   },
   {
    "duration": 0,
    "start_time": "2022-08-26T17:45:18.932Z"
   },
   {
    "duration": 0,
    "start_time": "2022-08-26T17:45:18.933Z"
   },
   {
    "duration": 0,
    "start_time": "2022-08-26T17:45:18.934Z"
   },
   {
    "duration": 0,
    "start_time": "2022-08-26T17:45:18.935Z"
   },
   {
    "duration": 0,
    "start_time": "2022-08-26T17:45:18.936Z"
   },
   {
    "duration": 0,
    "start_time": "2022-08-26T17:45:18.937Z"
   },
   {
    "duration": 0,
    "start_time": "2022-08-26T17:45:18.938Z"
   },
   {
    "duration": 0,
    "start_time": "2022-08-26T17:45:18.939Z"
   },
   {
    "duration": 0,
    "start_time": "2022-08-26T17:45:18.940Z"
   },
   {
    "duration": 0,
    "start_time": "2022-08-26T17:45:18.941Z"
   },
   {
    "duration": 0,
    "start_time": "2022-08-26T17:45:18.942Z"
   },
   {
    "duration": 0,
    "start_time": "2022-08-26T17:45:18.943Z"
   },
   {
    "duration": 0,
    "start_time": "2022-08-26T17:45:18.945Z"
   },
   {
    "duration": 0,
    "start_time": "2022-08-26T17:45:18.945Z"
   },
   {
    "duration": 0,
    "start_time": "2022-08-26T17:45:18.946Z"
   },
   {
    "duration": 0,
    "start_time": "2022-08-26T17:45:18.947Z"
   },
   {
    "duration": 0,
    "start_time": "2022-08-26T17:45:18.948Z"
   },
   {
    "duration": 0,
    "start_time": "2022-08-26T17:45:18.949Z"
   },
   {
    "duration": 0,
    "start_time": "2022-08-26T17:45:18.987Z"
   },
   {
    "duration": 1409,
    "start_time": "2022-08-26T17:45:50.174Z"
   },
   {
    "duration": 3,
    "start_time": "2022-08-26T17:45:51.584Z"
   },
   {
    "duration": 782,
    "start_time": "2022-08-26T17:45:51.588Z"
   },
   {
    "duration": 28,
    "start_time": "2022-08-26T17:45:52.372Z"
   },
   {
    "duration": 135,
    "start_time": "2022-08-26T17:45:52.402Z"
   },
   {
    "duration": 438,
    "start_time": "2022-08-26T17:45:52.538Z"
   },
   {
    "duration": 485,
    "start_time": "2022-08-26T17:45:52.978Z"
   },
   {
    "duration": 38,
    "start_time": "2022-08-26T17:45:53.465Z"
   },
   {
    "duration": 99,
    "start_time": "2022-08-26T17:45:53.504Z"
   },
   {
    "duration": 83,
    "start_time": "2022-08-26T17:45:53.606Z"
   },
   {
    "duration": 56,
    "start_time": "2022-08-26T17:45:53.691Z"
   },
   {
    "duration": 469,
    "start_time": "2022-08-26T17:45:53.748Z"
   },
   {
    "duration": 332,
    "start_time": "2022-08-26T17:45:54.220Z"
   },
   {
    "duration": 17,
    "start_time": "2022-08-26T17:45:54.554Z"
   },
   {
    "duration": 183,
    "start_time": "2022-08-26T17:45:54.572Z"
   },
   {
    "duration": 318,
    "start_time": "2022-08-26T17:45:54.756Z"
   },
   {
    "duration": 26,
    "start_time": "2022-08-26T17:45:55.076Z"
   },
   {
    "duration": 169,
    "start_time": "2022-08-26T17:45:55.104Z"
   },
   {
    "duration": 261,
    "start_time": "2022-08-26T17:45:55.275Z"
   },
   {
    "duration": 7,
    "start_time": "2022-08-26T17:45:55.537Z"
   },
   {
    "duration": 27,
    "start_time": "2022-08-26T17:45:55.546Z"
   },
   {
    "duration": 5,
    "start_time": "2022-08-26T17:45:55.575Z"
   },
   {
    "duration": 13,
    "start_time": "2022-08-26T17:45:55.581Z"
   },
   {
    "duration": 39,
    "start_time": "2022-08-26T17:45:55.595Z"
   },
   {
    "duration": 17,
    "start_time": "2022-08-26T17:45:55.636Z"
   },
   {
    "duration": 16,
    "start_time": "2022-08-26T17:45:55.655Z"
   },
   {
    "duration": 14,
    "start_time": "2022-08-26T17:45:55.673Z"
   },
   {
    "duration": 21,
    "start_time": "2022-08-26T17:45:55.692Z"
   },
   {
    "duration": 20,
    "start_time": "2022-08-26T17:45:55.715Z"
   },
   {
    "duration": 20,
    "start_time": "2022-08-26T17:45:55.736Z"
   },
   {
    "duration": 19,
    "start_time": "2022-08-26T17:45:55.758Z"
   },
   {
    "duration": 33,
    "start_time": "2022-08-26T17:45:55.778Z"
   },
   {
    "duration": 31,
    "start_time": "2022-08-26T17:45:55.812Z"
   },
   {
    "duration": 44,
    "start_time": "2022-08-26T17:45:55.844Z"
   },
   {
    "duration": 37,
    "start_time": "2022-08-26T17:45:55.890Z"
   },
   {
    "duration": 135,
    "start_time": "2022-08-26T17:45:55.929Z"
   },
   {
    "duration": 21,
    "start_time": "2022-08-26T17:45:56.066Z"
   },
   {
    "duration": 299,
    "start_time": "2022-08-26T17:45:56.089Z"
   },
   {
    "duration": 13,
    "start_time": "2022-08-26T17:45:56.390Z"
   },
   {
    "duration": 2105,
    "start_time": "2022-08-26T17:45:56.405Z"
   },
   {
    "duration": 3,
    "start_time": "2022-08-26T17:45:58.512Z"
   },
   {
    "duration": 9,
    "start_time": "2022-08-26T17:45:58.516Z"
   },
   {
    "duration": 10,
    "start_time": "2022-08-26T17:45:58.527Z"
   },
   {
    "duration": 17,
    "start_time": "2022-08-26T17:45:58.538Z"
   },
   {
    "duration": 62,
    "start_time": "2022-08-26T17:45:58.556Z"
   },
   {
    "duration": 16,
    "start_time": "2022-08-26T17:45:58.619Z"
   },
   {
    "duration": 3,
    "start_time": "2022-08-26T17:45:58.636Z"
   },
   {
    "duration": 11,
    "start_time": "2022-08-26T17:45:58.641Z"
   },
   {
    "duration": 36,
    "start_time": "2022-08-26T17:45:58.654Z"
   },
   {
    "duration": 23,
    "start_time": "2022-08-26T17:45:58.691Z"
   },
   {
    "duration": 4,
    "start_time": "2022-08-26T17:45:58.716Z"
   },
   {
    "duration": 9,
    "start_time": "2022-08-26T17:45:58.722Z"
   },
   {
    "duration": 1354,
    "start_time": "2022-08-26T17:45:58.733Z"
   },
   {
    "duration": 5,
    "start_time": "2022-08-26T17:46:00.090Z"
   },
   {
    "duration": 28,
    "start_time": "2022-08-26T17:46:00.187Z"
   },
   {
    "duration": 21,
    "start_time": "2022-08-26T17:46:00.216Z"
   },
   {
    "duration": 1249,
    "start_time": "2022-08-26T17:46:00.239Z"
   },
   {
    "duration": 4,
    "start_time": "2022-08-26T17:46:01.490Z"
   },
   {
    "duration": 26,
    "start_time": "2022-08-26T17:46:01.496Z"
   },
   {
    "duration": 69,
    "start_time": "2022-08-26T17:46:01.524Z"
   },
   {
    "duration": 107,
    "start_time": "2022-08-26T17:46:01.686Z"
   },
   {
    "duration": 26,
    "start_time": "2022-08-26T17:46:01.795Z"
   },
   {
    "duration": 5774,
    "start_time": "2022-08-26T17:46:01.822Z"
   },
   {
    "duration": 94,
    "start_time": "2022-08-26T17:46:07.602Z"
   },
   {
    "duration": 115,
    "start_time": "2022-08-26T17:46:07.788Z"
   },
   {
    "duration": 0,
    "start_time": "2022-08-26T17:46:07.905Z"
   },
   {
    "duration": 0,
    "start_time": "2022-08-26T17:46:07.906Z"
   },
   {
    "duration": 0,
    "start_time": "2022-08-26T17:46:07.907Z"
   },
   {
    "duration": 0,
    "start_time": "2022-08-26T17:46:07.908Z"
   },
   {
    "duration": 0,
    "start_time": "2022-08-26T17:46:07.909Z"
   },
   {
    "duration": 0,
    "start_time": "2022-08-26T17:46:07.910Z"
   },
   {
    "duration": 0,
    "start_time": "2022-08-26T17:46:07.911Z"
   },
   {
    "duration": 0,
    "start_time": "2022-08-26T17:46:07.912Z"
   },
   {
    "duration": 0,
    "start_time": "2022-08-26T17:46:07.912Z"
   },
   {
    "duration": 0,
    "start_time": "2022-08-26T17:46:07.913Z"
   },
   {
    "duration": 0,
    "start_time": "2022-08-26T17:46:07.914Z"
   },
   {
    "duration": 0,
    "start_time": "2022-08-26T17:46:07.916Z"
   },
   {
    "duration": 0,
    "start_time": "2022-08-26T17:46:07.917Z"
   },
   {
    "duration": 0,
    "start_time": "2022-08-26T17:46:07.918Z"
   },
   {
    "duration": 0,
    "start_time": "2022-08-26T17:46:07.919Z"
   },
   {
    "duration": 0,
    "start_time": "2022-08-26T17:46:07.920Z"
   },
   {
    "duration": 0,
    "start_time": "2022-08-26T17:46:07.921Z"
   },
   {
    "duration": 0,
    "start_time": "2022-08-26T17:46:07.922Z"
   },
   {
    "duration": 0,
    "start_time": "2022-08-26T17:46:07.923Z"
   },
   {
    "duration": 0,
    "start_time": "2022-08-26T17:46:07.924Z"
   },
   {
    "duration": 10,
    "start_time": "2022-08-26T17:51:05.563Z"
   },
   {
    "duration": 57,
    "start_time": "2022-08-26T17:51:14.633Z"
   },
   {
    "duration": 4,
    "start_time": "2022-08-26T17:51:15.691Z"
   },
   {
    "duration": 10,
    "start_time": "2022-08-26T17:51:16.486Z"
   },
   {
    "duration": 10,
    "start_time": "2022-08-26T17:51:38.385Z"
   },
   {
    "duration": 1317,
    "start_time": "2022-08-26T17:52:02.374Z"
   },
   {
    "duration": 3,
    "start_time": "2022-08-26T17:52:03.693Z"
   },
   {
    "duration": 4,
    "start_time": "2022-08-26T17:52:04.541Z"
   },
   {
    "duration": 27,
    "start_time": "2022-08-26T17:52:05.646Z"
   },
   {
    "duration": 4,
    "start_time": "2022-08-26T17:52:07.245Z"
   },
   {
    "duration": 9,
    "start_time": "2022-08-26T17:52:08.229Z"
   },
   {
    "duration": 24,
    "start_time": "2022-08-26T17:52:15.624Z"
   },
   {
    "duration": 12,
    "start_time": "2022-08-26T17:52:17.041Z"
   },
   {
    "duration": 23,
    "start_time": "2022-08-26T17:52:28.128Z"
   },
   {
    "duration": 4,
    "start_time": "2022-08-26T17:52:30.989Z"
   },
   {
    "duration": 22,
    "start_time": "2022-08-26T17:52:43.443Z"
   },
   {
    "duration": 6046,
    "start_time": "2022-08-26T17:52:44.346Z"
   },
   {
    "duration": 5,
    "start_time": "2022-08-26T17:52:50.395Z"
   },
   {
    "duration": 5,
    "start_time": "2022-08-26T17:52:52.103Z"
   },
   {
    "duration": 23,
    "start_time": "2022-08-26T17:53:01.150Z"
   },
   {
    "duration": 6075,
    "start_time": "2022-08-26T17:53:02.014Z"
   },
   {
    "duration": 97,
    "start_time": "2022-08-26T17:53:08.092Z"
   },
   {
    "duration": 118,
    "start_time": "2022-08-26T17:53:08.191Z"
   },
   {
    "duration": 3148,
    "start_time": "2022-08-26T17:54:21.056Z"
   },
   {
    "duration": 3047,
    "start_time": "2022-08-26T17:54:36.892Z"
   },
   {
    "duration": 117,
    "start_time": "2022-08-26T17:55:03.012Z"
   },
   {
    "duration": 21,
    "start_time": "2022-08-26T17:55:03.610Z"
   },
   {
    "duration": 5,
    "start_time": "2022-08-26T17:55:04.909Z"
   },
   {
    "duration": 5,
    "start_time": "2022-08-26T17:55:10.895Z"
   },
   {
    "duration": 14,
    "start_time": "2022-08-26T17:57:44.192Z"
   },
   {
    "duration": 5,
    "start_time": "2022-08-26T17:57:59.875Z"
   },
   {
    "duration": 232,
    "start_time": "2022-08-26T17:58:10.287Z"
   },
   {
    "duration": 47,
    "start_time": "2022-08-26T17:58:28.190Z"
   },
   {
    "duration": 124,
    "start_time": "2022-08-26T17:59:56.428Z"
   },
   {
    "duration": 28,
    "start_time": "2022-08-26T17:59:56.788Z"
   },
   {
    "duration": 5,
    "start_time": "2022-08-26T17:59:57.119Z"
   },
   {
    "duration": 5,
    "start_time": "2022-08-26T17:59:58.231Z"
   },
   {
    "duration": 2,
    "start_time": "2022-08-26T18:00:02.255Z"
   },
   {
    "duration": 37589,
    "start_time": "2022-08-26T18:00:04.929Z"
   },
   {
    "duration": 1023,
    "start_time": "2022-08-26T18:00:42.520Z"
   },
   {
    "duration": 22,
    "start_time": "2022-08-26T18:00:43.545Z"
   },
   {
    "duration": 5,
    "start_time": "2022-08-26T18:00:43.569Z"
   },
   {
    "duration": 5,
    "start_time": "2022-08-26T18:00:43.575Z"
   },
   {
    "duration": 28,
    "start_time": "2022-08-26T18:01:36.780Z"
   },
   {
    "duration": 29,
    "start_time": "2022-08-26T18:03:00.605Z"
   },
   {
    "duration": 211,
    "start_time": "2022-08-26T18:03:28.857Z"
   },
   {
    "duration": 233,
    "start_time": "2022-08-26T18:03:42.615Z"
   },
   {
    "duration": 30,
    "start_time": "2022-08-26T18:04:08.986Z"
   },
   {
    "duration": 28,
    "start_time": "2022-08-26T18:06:17.011Z"
   },
   {
    "duration": 2,
    "start_time": "2022-08-26T18:07:03.261Z"
   },
   {
    "duration": 5,
    "start_time": "2022-08-26T18:07:04.381Z"
   },
   {
    "duration": 7,
    "start_time": "2022-08-26T18:07:07.434Z"
   },
   {
    "duration": 19,
    "start_time": "2022-08-26T18:07:12.466Z"
   },
   {
    "duration": 29,
    "start_time": "2022-08-26T18:07:30.615Z"
   },
   {
    "duration": 29,
    "start_time": "2022-08-26T18:07:48.983Z"
   },
   {
    "duration": 3,
    "start_time": "2022-08-26T18:08:22.998Z"
   },
   {
    "duration": 26,
    "start_time": "2022-08-26T18:08:48.190Z"
   },
   {
    "duration": 7364,
    "start_time": "2022-08-26T18:09:34.543Z"
   },
   {
    "duration": 209,
    "start_time": "2022-08-26T18:10:03.526Z"
   },
   {
    "duration": 215,
    "start_time": "2022-08-26T18:10:13.101Z"
   },
   {
    "duration": 219,
    "start_time": "2022-08-26T18:10:17.137Z"
   },
   {
    "duration": 7274,
    "start_time": "2022-08-26T18:10:21.231Z"
   },
   {
    "duration": 27,
    "start_time": "2022-08-26T18:10:41.062Z"
   },
   {
    "duration": 27,
    "start_time": "2022-08-26T18:10:54.201Z"
   },
   {
    "duration": 3,
    "start_time": "2022-08-26T18:13:02.542Z"
   },
   {
    "duration": 27,
    "start_time": "2022-08-26T18:13:16.165Z"
   },
   {
    "duration": 5855,
    "start_time": "2022-08-26T18:13:43.042Z"
   },
   {
    "duration": 30,
    "start_time": "2022-08-26T18:14:16.624Z"
   },
   {
    "duration": 2,
    "start_time": "2022-08-26T18:17:59.902Z"
   },
   {
    "duration": 11,
    "start_time": "2022-08-26T18:20:47.013Z"
   },
   {
    "duration": 8,
    "start_time": "2022-08-26T18:21:48.266Z"
   },
   {
    "duration": 28,
    "start_time": "2022-08-26T18:21:53.597Z"
   },
   {
    "duration": 4,
    "start_time": "2022-08-26T18:21:59.388Z"
   },
   {
    "duration": 36,
    "start_time": "2022-08-26T18:22:12.522Z"
   },
   {
    "duration": 14,
    "start_time": "2022-08-26T19:26:35.239Z"
   },
   {
    "duration": 13,
    "start_time": "2022-08-26T19:26:54.166Z"
   },
   {
    "duration": 34,
    "start_time": "2022-08-26T19:26:55.445Z"
   },
   {
    "duration": 18,
    "start_time": "2022-08-26T19:26:56.951Z"
   },
   {
    "duration": 20,
    "start_time": "2022-08-26T19:27:08.385Z"
   },
   {
    "duration": 19,
    "start_time": "2022-08-26T19:27:10.994Z"
   },
   {
    "duration": 46,
    "start_time": "2022-08-26T19:27:49.076Z"
   },
   {
    "duration": 18,
    "start_time": "2022-08-26T19:27:49.893Z"
   },
   {
    "duration": 3,
    "start_time": "2022-08-26T19:27:56.434Z"
   },
   {
    "duration": 21,
    "start_time": "2022-08-26T19:27:56.804Z"
   },
   {
    "duration": 12,
    "start_time": "2022-08-26T19:28:02.626Z"
   },
   {
    "duration": 15,
    "start_time": "2022-08-26T19:28:03.783Z"
   },
   {
    "duration": 45,
    "start_time": "2022-08-26T19:28:22.251Z"
   },
   {
    "duration": 15,
    "start_time": "2022-08-26T19:28:23.328Z"
   },
   {
    "duration": 2,
    "start_time": "2022-08-26T19:32:02.379Z"
   },
   {
    "duration": 12,
    "start_time": "2022-08-26T19:32:07.486Z"
   },
   {
    "duration": 11,
    "start_time": "2022-08-26T19:32:11.852Z"
   },
   {
    "duration": 10,
    "start_time": "2022-08-26T19:33:20.184Z"
   },
   {
    "duration": 17,
    "start_time": "2022-08-26T19:33:21.416Z"
   },
   {
    "duration": 9,
    "start_time": "2022-08-26T19:33:28.818Z"
   },
   {
    "duration": 10,
    "start_time": "2022-08-26T19:33:48.403Z"
   },
   {
    "duration": 12,
    "start_time": "2022-08-26T19:33:58.370Z"
   },
   {
    "duration": 9,
    "start_time": "2022-08-26T19:34:06.139Z"
   },
   {
    "duration": 9,
    "start_time": "2022-08-26T19:34:11.229Z"
   },
   {
    "duration": 49,
    "start_time": "2022-08-26T19:35:23.348Z"
   },
   {
    "duration": 11,
    "start_time": "2022-08-26T19:35:39.172Z"
   },
   {
    "duration": 2,
    "start_time": "2022-08-26T19:35:55.946Z"
   },
   {
    "duration": 12,
    "start_time": "2022-08-26T19:35:56.686Z"
   },
   {
    "duration": 4,
    "start_time": "2022-08-26T19:36:07.273Z"
   },
   {
    "duration": 3,
    "start_time": "2022-08-26T19:36:07.428Z"
   },
   {
    "duration": 803,
    "start_time": "2022-08-26T19:36:07.581Z"
   },
   {
    "duration": 22,
    "start_time": "2022-08-26T19:36:08.386Z"
   },
   {
    "duration": 155,
    "start_time": "2022-08-26T19:36:08.410Z"
   },
   {
    "duration": 420,
    "start_time": "2022-08-26T19:36:08.567Z"
   },
   {
    "duration": 421,
    "start_time": "2022-08-26T19:36:08.989Z"
   },
   {
    "duration": 27,
    "start_time": "2022-08-26T19:36:09.411Z"
   },
   {
    "duration": 100,
    "start_time": "2022-08-26T19:36:09.440Z"
   },
   {
    "duration": 91,
    "start_time": "2022-08-26T19:36:09.541Z"
   },
   {
    "duration": 68,
    "start_time": "2022-08-26T19:36:09.634Z"
   },
   {
    "duration": 504,
    "start_time": "2022-08-26T19:36:09.703Z"
   },
   {
    "duration": 364,
    "start_time": "2022-08-26T19:36:10.210Z"
   },
   {
    "duration": 21,
    "start_time": "2022-08-26T19:36:10.576Z"
   },
   {
    "duration": 192,
    "start_time": "2022-08-26T19:36:10.599Z"
   },
   {
    "duration": 270,
    "start_time": "2022-08-26T19:36:10.794Z"
   },
   {
    "duration": 28,
    "start_time": "2022-08-26T19:36:11.066Z"
   },
   {
    "duration": 171,
    "start_time": "2022-08-26T19:36:11.096Z"
   },
   {
    "duration": 462,
    "start_time": "2022-08-26T19:36:11.269Z"
   },
   {
    "duration": 7,
    "start_time": "2022-08-26T19:36:11.734Z"
   },
   {
    "duration": 11,
    "start_time": "2022-08-26T19:36:13.226Z"
   },
   {
    "duration": 5,
    "start_time": "2022-08-26T19:36:13.407Z"
   },
   {
    "duration": 6,
    "start_time": "2022-08-26T19:36:13.551Z"
   },
   {
    "duration": 22,
    "start_time": "2022-08-26T19:36:13.721Z"
   },
   {
    "duration": 19,
    "start_time": "2022-08-26T19:36:13.878Z"
   },
   {
    "duration": 12,
    "start_time": "2022-08-26T19:36:14.907Z"
   },
   {
    "duration": 5,
    "start_time": "2022-08-26T19:36:15.466Z"
   },
   {
    "duration": 5,
    "start_time": "2022-08-26T19:36:15.610Z"
   },
   {
    "duration": 8,
    "start_time": "2022-08-26T19:36:16.333Z"
   },
   {
    "duration": 9,
    "start_time": "2022-08-26T19:36:16.486Z"
   },
   {
    "duration": 15,
    "start_time": "2022-08-26T19:36:16.635Z"
   },
   {
    "duration": 6,
    "start_time": "2022-08-26T19:36:16.770Z"
   },
   {
    "duration": 10,
    "start_time": "2022-08-26T19:36:16.970Z"
   },
   {
    "duration": 13,
    "start_time": "2022-08-26T19:36:17.108Z"
   },
   {
    "duration": 22,
    "start_time": "2022-08-26T19:36:17.253Z"
   },
   {
    "duration": 129,
    "start_time": "2022-08-26T19:36:17.379Z"
   },
   {
    "duration": 20,
    "start_time": "2022-08-26T19:36:17.615Z"
   },
   {
    "duration": 269,
    "start_time": "2022-08-26T19:36:17.773Z"
   },
   {
    "duration": 14,
    "start_time": "2022-08-26T19:36:18.044Z"
   },
   {
    "duration": 1887,
    "start_time": "2022-08-26T19:36:18.183Z"
   },
   {
    "duration": 3,
    "start_time": "2022-08-26T19:36:20.072Z"
   },
   {
    "duration": 13,
    "start_time": "2022-08-26T19:36:20.077Z"
   },
   {
    "duration": 13,
    "start_time": "2022-08-26T19:36:20.092Z"
   },
   {
    "duration": 16,
    "start_time": "2022-08-26T19:36:20.107Z"
   },
   {
    "duration": 2,
    "start_time": "2022-08-26T19:36:20.125Z"
   },
   {
    "duration": 26,
    "start_time": "2022-08-26T19:36:20.129Z"
   },
   {
    "duration": 9,
    "start_time": "2022-08-26T19:36:20.157Z"
   },
   {
    "duration": 48,
    "start_time": "2022-08-26T19:36:28.673Z"
   },
   {
    "duration": 16,
    "start_time": "2022-08-26T19:36:29.153Z"
   },
   {
    "duration": 9,
    "start_time": "2022-08-26T19:45:27.202Z"
   },
   {
    "duration": 15,
    "start_time": "2022-08-26T19:45:41.735Z"
   },
   {
    "duration": 13,
    "start_time": "2022-08-26T19:46:00.734Z"
   },
   {
    "duration": 16,
    "start_time": "2022-08-26T19:47:08.262Z"
   },
   {
    "duration": 18,
    "start_time": "2022-08-26T19:47:20.809Z"
   },
   {
    "duration": 14,
    "start_time": "2022-08-26T19:48:35.849Z"
   },
   {
    "duration": 10,
    "start_time": "2022-08-26T19:51:48.200Z"
   },
   {
    "duration": 10,
    "start_time": "2022-08-26T19:51:55.440Z"
   },
   {
    "duration": 11,
    "start_time": "2022-08-26T19:52:13.489Z"
   },
   {
    "duration": 10,
    "start_time": "2022-08-26T19:52:19.204Z"
   },
   {
    "duration": 11,
    "start_time": "2022-08-26T19:52:25.086Z"
   },
   {
    "duration": 10,
    "start_time": "2022-08-26T19:52:43.331Z"
   },
   {
    "duration": 5,
    "start_time": "2022-08-26T19:54:05.357Z"
   },
   {
    "duration": 20,
    "start_time": "2022-08-26T19:54:07.241Z"
   },
   {
    "duration": 30,
    "start_time": "2022-08-26T19:54:45.501Z"
   },
   {
    "duration": 10,
    "start_time": "2022-08-26T19:55:25.317Z"
   },
   {
    "duration": 13,
    "start_time": "2022-08-26T19:55:37.503Z"
   },
   {
    "duration": 12,
    "start_time": "2022-08-26T19:58:47.973Z"
   },
   {
    "duration": 23,
    "start_time": "2022-08-26T19:58:52.796Z"
   },
   {
    "duration": 23,
    "start_time": "2022-08-26T19:59:27.527Z"
   },
   {
    "duration": 17,
    "start_time": "2022-08-26T19:59:31.930Z"
   },
   {
    "duration": 12,
    "start_time": "2022-08-26T20:02:17.303Z"
   },
   {
    "duration": 28,
    "start_time": "2022-08-26T20:02:18.147Z"
   },
   {
    "duration": 22,
    "start_time": "2022-08-26T20:02:19.543Z"
   },
   {
    "duration": 30,
    "start_time": "2022-08-26T20:03:21.084Z"
   },
   {
    "duration": 35,
    "start_time": "2022-08-26T20:03:22.046Z"
   },
   {
    "duration": 17,
    "start_time": "2022-08-26T20:06:26.106Z"
   },
   {
    "duration": 54,
    "start_time": "2022-08-26T20:07:03.334Z"
   },
   {
    "duration": 7,
    "start_time": "2022-08-26T20:10:02.513Z"
   },
   {
    "duration": 8,
    "start_time": "2022-08-26T20:10:21.440Z"
   },
   {
    "duration": 3,
    "start_time": "2022-08-26T20:10:25.809Z"
   },
   {
    "duration": 4,
    "start_time": "2022-08-26T20:10:39.089Z"
   },
   {
    "duration": 3,
    "start_time": "2022-08-26T20:11:10.553Z"
   },
   {
    "duration": 4,
    "start_time": "2022-08-26T20:12:48.812Z"
   },
   {
    "duration": 1487,
    "start_time": "2022-08-26T20:13:25.359Z"
   },
   {
    "duration": 3,
    "start_time": "2022-08-26T20:13:26.847Z"
   },
   {
    "duration": 818,
    "start_time": "2022-08-26T20:13:26.852Z"
   },
   {
    "duration": 26,
    "start_time": "2022-08-26T20:13:27.673Z"
   },
   {
    "duration": 136,
    "start_time": "2022-08-26T20:13:27.701Z"
   },
   {
    "duration": 494,
    "start_time": "2022-08-26T20:13:27.839Z"
   },
   {
    "duration": 536,
    "start_time": "2022-08-26T20:13:28.335Z"
   },
   {
    "duration": 37,
    "start_time": "2022-08-26T20:13:28.873Z"
   },
   {
    "duration": 89,
    "start_time": "2022-08-26T20:13:28.912Z"
   },
   {
    "duration": 87,
    "start_time": "2022-08-26T20:13:29.004Z"
   },
   {
    "duration": 58,
    "start_time": "2022-08-26T20:13:29.093Z"
   },
   {
    "duration": 462,
    "start_time": "2022-08-26T20:13:29.153Z"
   },
   {
    "duration": 328,
    "start_time": "2022-08-26T20:13:29.617Z"
   },
   {
    "duration": 17,
    "start_time": "2022-08-26T20:13:29.947Z"
   },
   {
    "duration": 181,
    "start_time": "2022-08-26T20:13:29.965Z"
   },
   {
    "duration": 334,
    "start_time": "2022-08-26T20:13:30.147Z"
   },
   {
    "duration": 20,
    "start_time": "2022-08-26T20:13:30.486Z"
   },
   {
    "duration": 183,
    "start_time": "2022-08-26T20:13:30.508Z"
   },
   {
    "duration": 268,
    "start_time": "2022-08-26T20:13:30.693Z"
   },
   {
    "duration": 9,
    "start_time": "2022-08-26T20:13:30.963Z"
   },
   {
    "duration": 11,
    "start_time": "2022-08-26T20:13:30.986Z"
   },
   {
    "duration": 21,
    "start_time": "2022-08-26T20:13:30.999Z"
   },
   {
    "duration": 18,
    "start_time": "2022-08-26T20:13:31.021Z"
   },
   {
    "duration": 34,
    "start_time": "2022-08-26T20:13:31.040Z"
   },
   {
    "duration": 26,
    "start_time": "2022-08-26T20:13:31.076Z"
   },
   {
    "duration": 17,
    "start_time": "2022-08-26T20:13:31.104Z"
   },
   {
    "duration": 11,
    "start_time": "2022-08-26T20:13:31.122Z"
   },
   {
    "duration": 25,
    "start_time": "2022-08-26T20:13:31.137Z"
   },
   {
    "duration": 21,
    "start_time": "2022-08-26T20:13:31.163Z"
   },
   {
    "duration": 16,
    "start_time": "2022-08-26T20:13:31.186Z"
   },
   {
    "duration": 29,
    "start_time": "2022-08-26T20:13:31.204Z"
   },
   {
    "duration": 11,
    "start_time": "2022-08-26T20:13:31.234Z"
   },
   {
    "duration": 14,
    "start_time": "2022-08-26T20:13:31.246Z"
   },
   {
    "duration": 35,
    "start_time": "2022-08-26T20:13:31.261Z"
   },
   {
    "duration": 24,
    "start_time": "2022-08-26T20:13:31.297Z"
   },
   {
    "duration": 134,
    "start_time": "2022-08-26T20:13:31.323Z"
   },
   {
    "duration": 28,
    "start_time": "2022-08-26T20:13:31.458Z"
   },
   {
    "duration": 244,
    "start_time": "2022-08-26T20:13:31.488Z"
   },
   {
    "duration": 10,
    "start_time": "2022-08-26T20:13:31.734Z"
   },
   {
    "duration": 1997,
    "start_time": "2022-08-26T20:13:31.745Z"
   },
   {
    "duration": 3,
    "start_time": "2022-08-26T20:13:33.744Z"
   },
   {
    "duration": 9,
    "start_time": "2022-08-26T20:13:33.749Z"
   },
   {
    "duration": 10,
    "start_time": "2022-08-26T20:13:33.759Z"
   },
   {
    "duration": 17,
    "start_time": "2022-08-26T20:13:33.771Z"
   },
   {
    "duration": 4,
    "start_time": "2022-08-26T20:13:33.790Z"
   },
   {
    "duration": 16,
    "start_time": "2022-08-26T20:13:33.795Z"
   },
   {
    "duration": 49,
    "start_time": "2022-08-26T20:13:33.813Z"
   },
   {
    "duration": 0,
    "start_time": "2022-08-26T20:13:33.865Z"
   },
   {
    "duration": 0,
    "start_time": "2022-08-26T20:13:33.866Z"
   },
   {
    "duration": 0,
    "start_time": "2022-08-26T20:13:33.867Z"
   },
   {
    "duration": 1,
    "start_time": "2022-08-26T20:13:33.868Z"
   },
   {
    "duration": 0,
    "start_time": "2022-08-26T20:13:33.870Z"
   },
   {
    "duration": 0,
    "start_time": "2022-08-26T20:13:33.871Z"
   },
   {
    "duration": 0,
    "start_time": "2022-08-26T20:13:33.873Z"
   },
   {
    "duration": 0,
    "start_time": "2022-08-26T20:13:33.874Z"
   },
   {
    "duration": 0,
    "start_time": "2022-08-26T20:13:33.875Z"
   },
   {
    "duration": 0,
    "start_time": "2022-08-26T20:13:33.876Z"
   },
   {
    "duration": 0,
    "start_time": "2022-08-26T20:13:33.877Z"
   },
   {
    "duration": 0,
    "start_time": "2022-08-26T20:13:33.879Z"
   },
   {
    "duration": 0,
    "start_time": "2022-08-26T20:13:33.879Z"
   },
   {
    "duration": 0,
    "start_time": "2022-08-26T20:13:33.880Z"
   },
   {
    "duration": 0,
    "start_time": "2022-08-26T20:13:33.881Z"
   },
   {
    "duration": 0,
    "start_time": "2022-08-26T20:13:33.882Z"
   },
   {
    "duration": 0,
    "start_time": "2022-08-26T20:13:33.883Z"
   },
   {
    "duration": 0,
    "start_time": "2022-08-26T20:13:33.884Z"
   },
   {
    "duration": 0,
    "start_time": "2022-08-26T20:13:33.884Z"
   },
   {
    "duration": 0,
    "start_time": "2022-08-26T20:13:33.885Z"
   },
   {
    "duration": 0,
    "start_time": "2022-08-26T20:13:33.886Z"
   },
   {
    "duration": 0,
    "start_time": "2022-08-26T20:13:33.887Z"
   },
   {
    "duration": 0,
    "start_time": "2022-08-26T20:13:33.888Z"
   },
   {
    "duration": 0,
    "start_time": "2022-08-26T20:13:33.889Z"
   },
   {
    "duration": 0,
    "start_time": "2022-08-26T20:13:33.890Z"
   },
   {
    "duration": 0,
    "start_time": "2022-08-26T20:13:33.891Z"
   },
   {
    "duration": 0,
    "start_time": "2022-08-26T20:13:33.892Z"
   },
   {
    "duration": 0,
    "start_time": "2022-08-26T20:13:33.893Z"
   },
   {
    "duration": 0,
    "start_time": "2022-08-26T20:13:33.894Z"
   },
   {
    "duration": 0,
    "start_time": "2022-08-26T20:13:33.895Z"
   },
   {
    "duration": 0,
    "start_time": "2022-08-26T20:13:33.895Z"
   },
   {
    "duration": 0,
    "start_time": "2022-08-26T20:13:33.896Z"
   },
   {
    "duration": 0,
    "start_time": "2022-08-26T20:13:33.897Z"
   },
   {
    "duration": 0,
    "start_time": "2022-08-26T20:13:33.898Z"
   },
   {
    "duration": 0,
    "start_time": "2022-08-26T20:13:33.899Z"
   },
   {
    "duration": 0,
    "start_time": "2022-08-26T20:13:33.900Z"
   },
   {
    "duration": 0,
    "start_time": "2022-08-26T20:13:33.901Z"
   },
   {
    "duration": 0,
    "start_time": "2022-08-26T20:13:33.902Z"
   },
   {
    "duration": 0,
    "start_time": "2022-08-26T20:13:33.903Z"
   },
   {
    "duration": 0,
    "start_time": "2022-08-26T20:13:33.904Z"
   },
   {
    "duration": 0,
    "start_time": "2022-08-26T20:13:33.905Z"
   },
   {
    "duration": 0,
    "start_time": "2022-08-26T20:13:33.906Z"
   },
   {
    "duration": 0,
    "start_time": "2022-08-26T20:13:33.907Z"
   },
   {
    "duration": 0,
    "start_time": "2022-08-26T20:13:33.909Z"
   },
   {
    "duration": 0,
    "start_time": "2022-08-26T20:13:33.910Z"
   },
   {
    "duration": 36,
    "start_time": "2022-08-26T20:16:36.221Z"
   },
   {
    "duration": 23,
    "start_time": "2022-08-26T20:16:37.466Z"
   },
   {
    "duration": 8,
    "start_time": "2022-08-26T20:16:38.455Z"
   },
   {
    "duration": 4,
    "start_time": "2022-08-26T20:16:39.438Z"
   },
   {
    "duration": 56,
    "start_time": "2022-08-26T20:16:41.625Z"
   },
   {
    "duration": 17,
    "start_time": "2022-08-26T20:16:43.023Z"
   },
   {
    "duration": 3,
    "start_time": "2022-08-26T20:16:43.595Z"
   },
   {
    "duration": 8,
    "start_time": "2022-08-26T20:16:44.138Z"
   },
   {
    "duration": 25,
    "start_time": "2022-08-26T20:16:45.225Z"
   },
   {
    "duration": 24,
    "start_time": "2022-08-26T20:16:46.074Z"
   },
   {
    "duration": 4,
    "start_time": "2022-08-26T20:17:59.977Z"
   },
   {
    "duration": 10,
    "start_time": "2022-08-26T20:18:52.524Z"
   },
   {
    "duration": 5,
    "start_time": "2022-08-26T20:19:52.482Z"
   },
   {
    "duration": 121,
    "start_time": "2022-08-26T20:20:41.797Z"
   },
   {
    "duration": 6,
    "start_time": "2022-08-26T20:20:52.501Z"
   },
   {
    "duration": 21,
    "start_time": "2022-08-26T20:20:54.272Z"
   },
   {
    "duration": 5,
    "start_time": "2022-08-26T20:21:22.883Z"
   },
   {
    "duration": 5,
    "start_time": "2022-08-26T20:21:35.476Z"
   },
   {
    "duration": 8,
    "start_time": "2022-08-26T20:21:49.312Z"
   },
   {
    "duration": 4,
    "start_time": "2022-08-26T20:21:50.068Z"
   },
   {
    "duration": 3,
    "start_time": "2022-08-26T20:21:50.926Z"
   },
   {
    "duration": 8,
    "start_time": "2022-08-26T20:21:51.544Z"
   },
   {
    "duration": 6,
    "start_time": "2022-08-26T20:21:52.139Z"
   },
   {
    "duration": 5,
    "start_time": "2022-08-26T20:21:52.669Z"
   },
   {
    "duration": 5,
    "start_time": "2022-08-26T20:21:53.467Z"
   },
   {
    "duration": 4,
    "start_time": "2022-08-26T20:22:32.093Z"
   },
   {
    "duration": 9,
    "start_time": "2022-08-26T20:22:39.999Z"
   },
   {
    "duration": 21,
    "start_time": "2022-08-26T20:22:44.053Z"
   },
   {
    "duration": 20,
    "start_time": "2022-08-26T20:23:10.457Z"
   },
   {
    "duration": 17,
    "start_time": "2022-08-26T20:24:03.035Z"
   },
   {
    "duration": 16,
    "start_time": "2022-08-26T20:24:19.150Z"
   },
   {
    "duration": 3,
    "start_time": "2022-08-26T20:24:46.549Z"
   },
   {
    "duration": 12,
    "start_time": "2022-08-26T20:24:46.954Z"
   },
   {
    "duration": 48,
    "start_time": "2022-08-26T20:24:50.549Z"
   },
   {
    "duration": 13,
    "start_time": "2022-08-26T20:24:59.567Z"
   },
   {
    "duration": 15,
    "start_time": "2022-08-26T20:25:03.376Z"
   },
   {
    "duration": 7,
    "start_time": "2022-08-26T20:25:09.191Z"
   },
   {
    "duration": 4,
    "start_time": "2022-08-26T20:25:11.288Z"
   },
   {
    "duration": 2,
    "start_time": "2022-08-26T20:25:12.943Z"
   },
   {
    "duration": 8,
    "start_time": "2022-08-26T20:25:13.417Z"
   },
   {
    "duration": 5,
    "start_time": "2022-08-26T20:25:14.942Z"
   },
   {
    "duration": 5,
    "start_time": "2022-08-26T20:25:15.799Z"
   },
   {
    "duration": 6,
    "start_time": "2022-08-26T20:25:40.591Z"
   },
   {
    "duration": 5,
    "start_time": "2022-08-26T20:25:41.881Z"
   },
   {
    "duration": 62,
    "start_time": "2022-08-26T20:25:55.142Z"
   },
   {
    "duration": 17,
    "start_time": "2022-08-26T20:25:55.930Z"
   },
   {
    "duration": 3,
    "start_time": "2022-08-26T20:25:56.897Z"
   },
   {
    "duration": 10,
    "start_time": "2022-08-26T20:25:57.541Z"
   },
   {
    "duration": 28,
    "start_time": "2022-08-26T20:25:59.087Z"
   },
   {
    "duration": 25,
    "start_time": "2022-08-26T20:26:00.305Z"
   },
   {
    "duration": 13,
    "start_time": "2022-08-26T20:27:36.178Z"
   },
   {
    "duration": 5,
    "start_time": "2022-08-26T20:27:41.878Z"
   },
   {
    "duration": 8,
    "start_time": "2022-08-26T20:28:16.101Z"
   },
   {
    "duration": 3,
    "start_time": "2022-08-26T20:28:16.622Z"
   },
   {
    "duration": 1658,
    "start_time": "2022-08-26T20:28:16.935Z"
   },
   {
    "duration": 91,
    "start_time": "2022-08-26T20:28:18.600Z"
   },
   {
    "duration": 6,
    "start_time": "2022-08-26T20:28:18.694Z"
   },
   {
    "duration": 4,
    "start_time": "2022-08-26T20:28:19.300Z"
   },
   {
    "duration": 1508,
    "start_time": "2022-08-26T20:28:20.882Z"
   },
   {
    "duration": 94,
    "start_time": "2022-08-26T20:28:22.392Z"
   },
   {
    "duration": 9,
    "start_time": "2022-08-26T20:28:22.488Z"
   },
   {
    "duration": 89,
    "start_time": "2022-08-26T20:28:22.499Z"
   },
   {
    "duration": 5,
    "start_time": "2022-08-26T20:28:22.591Z"
   },
   {
    "duration": 28,
    "start_time": "2022-08-26T20:28:22.726Z"
   },
   {
    "duration": 6920,
    "start_time": "2022-08-26T20:28:22.967Z"
   },
   {
    "duration": 9,
    "start_time": "2022-08-26T20:28:29.890Z"
   },
   {
    "duration": 8,
    "start_time": "2022-08-26T20:28:29.988Z"
   },
   {
    "duration": 3230,
    "start_time": "2022-08-26T20:28:29.999Z"
   },
   {
    "duration": 127,
    "start_time": "2022-08-26T20:28:33.231Z"
   },
   {
    "duration": 30,
    "start_time": "2022-08-26T20:28:33.360Z"
   },
   {
    "duration": 5,
    "start_time": "2022-08-26T20:28:34.155Z"
   },
   {
    "duration": 5,
    "start_time": "2022-08-26T20:28:34.660Z"
   },
   {
    "duration": 2,
    "start_time": "2022-08-26T20:28:37.405Z"
   },
   {
    "duration": 39516,
    "start_time": "2022-08-26T20:28:38.976Z"
   },
   {
    "duration": 1088,
    "start_time": "2022-08-26T20:29:18.494Z"
   },
   {
    "duration": 23,
    "start_time": "2022-08-26T20:29:19.583Z"
   },
   {
    "duration": 5,
    "start_time": "2022-08-26T20:29:19.608Z"
   },
   {
    "duration": 5,
    "start_time": "2022-08-26T20:29:19.615Z"
   },
   {
    "duration": 3,
    "start_time": "2022-08-26T20:30:40.092Z"
   },
   {
    "duration": 35,
    "start_time": "2022-08-26T20:30:40.383Z"
   },
   {
    "duration": 230197,
    "start_time": "2022-08-26T20:31:09.599Z"
   },
   {
    "duration": 146,
    "start_time": "2022-08-26T20:46:33.372Z"
   },
   {
    "duration": 123,
    "start_time": "2022-08-26T20:46:53.418Z"
   },
   {
    "duration": 116,
    "start_time": "2022-08-26T20:47:47.838Z"
   },
   {
    "duration": 71,
    "start_time": "2022-08-26T20:48:37.259Z"
   },
   {
    "duration": 152,
    "start_time": "2022-08-26T20:48:55.589Z"
   },
   {
    "duration": 359876,
    "start_time": "2022-08-26T20:49:08.725Z"
   },
   {
    "duration": 9,
    "start_time": "2022-08-26T20:56:04.661Z"
   },
   {
    "duration": 8910,
    "start_time": "2022-08-26T20:57:04.495Z"
   },
   {
    "duration": 9,
    "start_time": "2022-08-26T20:57:21.272Z"
   },
   {
    "duration": 276900,
    "start_time": "2022-08-26T20:57:42.195Z"
   },
   {
    "duration": 1445524,
    "start_time": "2022-08-26T21:02:50.790Z"
   },
   {
    "duration": 353311,
    "start_time": "2022-08-26T21:27:02.084Z"
   },
   {
    "duration": 532205,
    "start_time": "2022-08-26T21:38:14.611Z"
   },
   {
    "duration": 50481,
    "start_time": "2022-08-26T21:47:15.429Z"
   },
   {
    "duration": 35934,
    "start_time": "2022-08-26T21:48:16.281Z"
   },
   {
    "duration": 126853,
    "start_time": "2022-08-26T21:48:53.543Z"
   },
   {
    "duration": 77,
    "start_time": "2022-08-26T21:53:33.428Z"
   },
   {
    "duration": 86,
    "start_time": "2022-08-26T21:54:47.924Z"
   },
   {
    "duration": 8,
    "start_time": "2022-08-26T21:55:11.975Z"
   },
   {
    "duration": 2,
    "start_time": "2022-08-26T21:55:30.382Z"
   },
   {
    "duration": 5,
    "start_time": "2022-08-26T21:55:30.805Z"
   },
   {
    "duration": 7,
    "start_time": "2022-08-26T21:55:31.077Z"
   },
   {
    "duration": 16,
    "start_time": "2022-08-26T21:55:31.525Z"
   },
   {
    "duration": 2,
    "start_time": "2022-08-26T21:55:32.928Z"
   },
   {
    "duration": 11,
    "start_time": "2022-08-26T21:55:33.481Z"
   },
   {
    "duration": 33,
    "start_time": "2022-08-26T21:55:33.997Z"
   },
   {
    "duration": 16,
    "start_time": "2022-08-26T21:55:35.079Z"
   },
   {
    "duration": 14,
    "start_time": "2022-08-26T21:55:37.272Z"
   },
   {
    "duration": 7,
    "start_time": "2022-08-26T21:55:37.757Z"
   },
   {
    "duration": 4,
    "start_time": "2022-08-26T21:55:39.080Z"
   },
   {
    "duration": 3,
    "start_time": "2022-08-26T21:55:40.029Z"
   },
   {
    "duration": 8,
    "start_time": "2022-08-26T21:55:40.456Z"
   },
   {
    "duration": 5,
    "start_time": "2022-08-26T21:55:40.719Z"
   },
   {
    "duration": 4,
    "start_time": "2022-08-26T21:55:41.688Z"
   },
   {
    "duration": 5,
    "start_time": "2022-08-26T21:55:45.984Z"
   },
   {
    "duration": 4,
    "start_time": "2022-08-26T21:55:46.496Z"
   },
   {
    "duration": 72,
    "start_time": "2022-08-26T21:55:58.385Z"
   },
   {
    "duration": 1420,
    "start_time": "2022-08-26T21:56:25.975Z"
   },
   {
    "duration": 108,
    "start_time": "2022-08-26T21:56:32.133Z"
   },
   {
    "duration": 13,
    "start_time": "2022-08-26T21:56:39.702Z"
   },
   {
    "duration": 5,
    "start_time": "2022-08-26T21:58:17.235Z"
   },
   {
    "duration": 3,
    "start_time": "2022-08-26T21:58:18.515Z"
   },
   {
    "duration": 6,
    "start_time": "2022-08-26T21:58:22.826Z"
   },
   {
    "duration": 1185,
    "start_time": "2022-08-26T22:00:40.836Z"
   },
   {
    "duration": 27,
    "start_time": "2022-08-26T22:00:42.023Z"
   },
   {
    "duration": 20,
    "start_time": "2022-08-26T22:01:25.910Z"
   },
   {
    "duration": 6,
    "start_time": "2022-08-26T22:02:07.060Z"
   },
   {
    "duration": 6,
    "start_time": "2022-08-26T22:02:18.860Z"
   },
   {
    "duration": 6,
    "start_time": "2022-08-26T22:04:25.173Z"
   },
   {
    "duration": 13,
    "start_time": "2022-08-26T22:04:26.328Z"
   },
   {
    "duration": 13,
    "start_time": "2022-08-26T22:04:34.529Z"
   },
   {
    "duration": 10,
    "start_time": "2022-08-26T22:05:13.586Z"
   },
   {
    "duration": 9,
    "start_time": "2022-08-26T22:12:55.124Z"
   },
   {
    "duration": 6,
    "start_time": "2022-08-26T22:13:01.742Z"
   },
   {
    "duration": 16,
    "start_time": "2022-08-26T22:13:05.773Z"
   },
   {
    "duration": 6,
    "start_time": "2022-08-26T22:13:36.756Z"
   },
   {
    "duration": 14,
    "start_time": "2022-08-26T22:13:39.686Z"
   },
   {
    "duration": 20,
    "start_time": "2022-08-26T22:14:42.745Z"
   },
   {
    "duration": 6,
    "start_time": "2022-08-26T22:15:08.111Z"
   },
   {
    "duration": 3,
    "start_time": "2022-08-26T22:15:08.732Z"
   },
   {
    "duration": 10963,
    "start_time": "2022-08-26T22:15:09.628Z"
   },
   {
    "duration": 7,
    "start_time": "2022-08-26T22:15:41.625Z"
   },
   {
    "duration": 3,
    "start_time": "2022-08-26T22:15:41.843Z"
   },
   {
    "duration": 26707,
    "start_time": "2022-08-26T22:15:42.380Z"
   },
   {
    "duration": 6,
    "start_time": "2022-08-26T22:16:54.381Z"
   },
   {
    "duration": 3,
    "start_time": "2022-08-26T22:16:59.988Z"
   },
   {
    "duration": 0,
    "start_time": "2022-08-26T22:17:33.492Z"
   },
   {
    "duration": 0,
    "start_time": "2022-08-26T22:17:33.494Z"
   },
   {
    "duration": 0,
    "start_time": "2022-08-26T22:17:33.496Z"
   },
   {
    "duration": 9,
    "start_time": "2022-08-26T22:17:37.672Z"
   },
   {
    "duration": 2,
    "start_time": "2022-08-26T22:17:38.425Z"
   },
   {
    "duration": 24814,
    "start_time": "2022-08-26T22:17:39.383Z"
   },
   {
    "duration": 9,
    "start_time": "2022-08-26T22:18:25.308Z"
   },
   {
    "duration": 6,
    "start_time": "2022-08-26T22:18:25.633Z"
   },
   {
    "duration": 27919,
    "start_time": "2022-08-26T22:18:26.071Z"
   },
   {
    "duration": 11,
    "start_time": "2022-08-26T22:23:36.610Z"
   },
   {
    "duration": 8,
    "start_time": "2022-08-26T22:23:42.662Z"
   },
   {
    "duration": 3,
    "start_time": "2022-08-26T22:23:46.061Z"
   },
   {
    "duration": 1435,
    "start_time": "2022-08-26T22:23:46.654Z"
   },
   {
    "duration": 7,
    "start_time": "2022-08-26T22:24:13.908Z"
   },
   {
    "duration": 3,
    "start_time": "2022-08-26T22:24:15.085Z"
   },
   {
    "duration": 2001,
    "start_time": "2022-08-26T22:24:15.294Z"
   },
   {
    "duration": 51,
    "start_time": "2022-08-26T22:26:10.850Z"
   },
   {
    "duration": 3,
    "start_time": "2022-08-26T22:26:12.083Z"
   },
   {
    "duration": 45,
    "start_time": "2022-08-26T22:26:24.577Z"
   },
   {
    "duration": 2,
    "start_time": "2022-08-26T22:26:24.718Z"
   },
   {
    "duration": 1408,
    "start_time": "2022-08-26T22:26:25.681Z"
   },
   {
    "duration": 7,
    "start_time": "2022-08-26T22:27:00.667Z"
   },
   {
    "duration": 3,
    "start_time": "2022-08-26T22:27:01.881Z"
   },
   {
    "duration": 1348,
    "start_time": "2022-08-26T22:27:02.141Z"
   },
   {
    "duration": 10,
    "start_time": "2022-08-26T22:27:54.632Z"
   },
   {
    "duration": 3,
    "start_time": "2022-08-26T22:27:54.863Z"
   },
   {
    "duration": 2033,
    "start_time": "2022-08-26T22:27:55.557Z"
   },
   {
    "duration": 8,
    "start_time": "2022-08-26T22:28:41.645Z"
   },
   {
    "duration": 3,
    "start_time": "2022-08-26T22:28:42.779Z"
   },
   {
    "duration": 2110,
    "start_time": "2022-08-26T22:28:43.281Z"
   },
   {
    "duration": 4,
    "start_time": "2022-08-26T22:29:26.994Z"
   },
   {
    "duration": 10,
    "start_time": "2022-08-26T22:31:23.455Z"
   },
   {
    "duration": 3,
    "start_time": "2022-08-26T22:31:26.487Z"
   },
   {
    "duration": 1485,
    "start_time": "2022-08-26T22:31:27.110Z"
   },
   {
    "duration": 94,
    "start_time": "2022-08-26T22:31:28.598Z"
   },
   {
    "duration": 3,
    "start_time": "2022-08-26T22:31:38.775Z"
   },
   {
    "duration": 3,
    "start_time": "2022-08-26T22:31:39.473Z"
   },
   {
    "duration": 2,
    "start_time": "2022-08-26T22:35:23.522Z"
   },
   {
    "duration": 13,
    "start_time": "2022-08-26T22:35:36.669Z"
   },
   {
    "duration": 6,
    "start_time": "2022-08-26T22:37:24.382Z"
   },
   {
    "duration": 2,
    "start_time": "2022-08-26T22:37:33.005Z"
   },
   {
    "duration": 5893,
    "start_time": "2022-08-26T22:37:33.758Z"
   },
   {
    "duration": 5,
    "start_time": "2022-08-26T22:37:48.287Z"
   },
   {
    "duration": 3,
    "start_time": "2022-08-26T22:39:03.995Z"
   },
   {
    "duration": 3,
    "start_time": "2022-08-26T22:39:07.588Z"
   },
   {
    "duration": 5,
    "start_time": "2022-08-26T22:39:38.615Z"
   },
   {
    "duration": 6,
    "start_time": "2022-08-26T22:41:09.123Z"
   },
   {
    "duration": 9,
    "start_time": "2022-08-26T22:41:26.898Z"
   },
   {
    "duration": 3,
    "start_time": "2022-08-26T22:41:42.785Z"
   },
   {
    "duration": 11846,
    "start_time": "2022-08-26T22:41:44.586Z"
   },
   {
    "duration": 8,
    "start_time": "2022-08-26T22:42:42.446Z"
   },
   {
    "duration": 3,
    "start_time": "2022-08-26T22:42:58.933Z"
   },
   {
    "duration": 11702,
    "start_time": "2022-08-26T22:42:59.864Z"
   },
   {
    "duration": 3,
    "start_time": "2022-08-26T22:43:18.755Z"
   },
   {
    "duration": 15858,
    "start_time": "2022-08-26T22:43:23.536Z"
   },
   {
    "duration": 13511,
    "start_time": "2022-08-26T22:43:53.329Z"
   },
   {
    "duration": 3131,
    "start_time": "2022-08-26T22:44:12.764Z"
   },
   {
    "duration": 2,
    "start_time": "2022-08-26T22:44:57.010Z"
   },
   {
    "duration": 13799,
    "start_time": "2022-08-26T22:44:57.539Z"
   },
   {
    "duration": 4,
    "start_time": "2022-08-26T22:45:16.334Z"
   },
   {
    "duration": 13483,
    "start_time": "2022-08-26T22:45:18.911Z"
   },
   {
    "duration": 8,
    "start_time": "2022-08-26T22:46:01.597Z"
   },
   {
    "duration": 2,
    "start_time": "2022-08-26T22:46:02.328Z"
   },
   {
    "duration": 2036,
    "start_time": "2022-08-26T22:46:04.260Z"
   },
   {
    "duration": 92,
    "start_time": "2022-08-26T22:46:06.298Z"
   },
   {
    "duration": 14,
    "start_time": "2022-08-26T22:46:06.393Z"
   },
   {
    "duration": 5,
    "start_time": "2022-08-26T22:46:07.832Z"
   },
   {
    "duration": 3,
    "start_time": "2022-08-26T22:46:21.875Z"
   },
   {
    "duration": 16,
    "start_time": "2022-08-26T22:46:22.925Z"
   },
   {
    "duration": 7,
    "start_time": "2022-08-26T22:46:59.583Z"
   },
   {
    "duration": 3,
    "start_time": "2022-08-26T22:47:06.221Z"
   },
   {
    "duration": 16,
    "start_time": "2022-08-26T22:47:06.500Z"
   },
   {
    "duration": 3,
    "start_time": "2022-08-26T22:47:10.479Z"
   },
   {
    "duration": 17,
    "start_time": "2022-08-26T22:47:11.748Z"
   },
   {
    "duration": 7,
    "start_time": "2022-08-26T22:47:43.551Z"
   },
   {
    "duration": 3,
    "start_time": "2022-08-26T22:47:44.171Z"
   },
   {
    "duration": 3,
    "start_time": "2022-08-26T22:47:49.128Z"
   },
   {
    "duration": 116,
    "start_time": "2022-08-26T22:47:49.344Z"
   },
   {
    "duration": 3,
    "start_time": "2022-08-26T22:48:01.793Z"
   },
   {
    "duration": 122,
    "start_time": "2022-08-26T22:48:03.325Z"
   },
   {
    "duration": 7,
    "start_time": "2022-08-26T22:51:38.337Z"
   },
   {
    "duration": 3071,
    "start_time": "2022-08-26T22:52:03.022Z"
   },
   {
    "duration": 8,
    "start_time": "2022-08-26T22:52:06.187Z"
   },
   {
    "duration": 38,
    "start_time": "2022-08-26T22:52:06.197Z"
   },
   {
    "duration": 51,
    "start_time": "2022-08-26T22:52:06.238Z"
   },
   {
    "duration": 4,
    "start_time": "2022-08-26T22:52:07.695Z"
   },
   {
    "duration": 15,
    "start_time": "2022-08-26T22:52:09.117Z"
   },
   {
    "duration": 8353,
    "start_time": "2022-08-26T22:52:09.636Z"
   },
   {
    "duration": 95,
    "start_time": "2022-08-26T22:52:17.993Z"
   },
   {
    "duration": 6,
    "start_time": "2022-08-26T22:52:31.842Z"
   },
   {
    "duration": 3139,
    "start_time": "2022-08-26T22:52:53.135Z"
   },
   {
    "duration": 114,
    "start_time": "2022-08-26T22:52:57.398Z"
   },
   {
    "duration": 22,
    "start_time": "2022-08-26T22:52:58.560Z"
   },
   {
    "duration": 5,
    "start_time": "2022-08-26T22:52:59.826Z"
   },
   {
    "duration": 5,
    "start_time": "2022-08-26T22:53:01.166Z"
   },
   {
    "duration": 5,
    "start_time": "2022-08-26T22:53:40.635Z"
   },
   {
    "duration": 3,
    "start_time": "2022-08-26T22:53:41.188Z"
   },
   {
    "duration": 37039,
    "start_time": "2022-08-26T22:53:44.370Z"
   },
   {
    "duration": 1030,
    "start_time": "2022-08-26T22:54:21.412Z"
   },
   {
    "duration": 23,
    "start_time": "2022-08-26T22:54:22.443Z"
   },
   {
    "duration": 5,
    "start_time": "2022-08-26T22:54:22.468Z"
   },
   {
    "duration": 15,
    "start_time": "2022-08-26T22:54:22.475Z"
   },
   {
    "duration": 34899,
    "start_time": "2022-08-26T22:54:22.491Z"
   },
   {
    "duration": 501,
    "start_time": "2022-08-26T22:54:57.391Z"
   },
   {
    "duration": 96,
    "start_time": "2022-08-26T22:54:57.894Z"
   },
   {
    "duration": 5,
    "start_time": "2022-08-26T22:54:57.992Z"
   },
   {
    "duration": 5,
    "start_time": "2022-08-26T22:54:58.000Z"
   },
   {
    "duration": 11,
    "start_time": "2022-08-26T22:54:58.007Z"
   },
   {
    "duration": 18,
    "start_time": "2022-08-26T22:54:58.020Z"
   },
   {
    "duration": 5,
    "start_time": "2022-08-26T22:54:58.040Z"
   },
   {
    "duration": 46,
    "start_time": "2022-08-26T22:54:58.046Z"
   },
   {
    "duration": 7,
    "start_time": "2022-08-26T22:54:58.093Z"
   },
   {
    "duration": 10,
    "start_time": "2022-08-26T22:56:18.340Z"
   },
   {
    "duration": 10,
    "start_time": "2022-08-26T22:56:31.012Z"
   },
   {
    "duration": 10,
    "start_time": "2022-08-26T22:57:06.592Z"
   },
   {
    "duration": 9,
    "start_time": "2022-08-26T22:57:15.421Z"
   },
   {
    "duration": 66,
    "start_time": "2022-08-26T22:57:38.701Z"
   },
   {
    "duration": 10,
    "start_time": "2022-08-26T22:57:44.615Z"
   },
   {
    "duration": 9,
    "start_time": "2022-08-26T22:57:49.363Z"
   },
   {
    "duration": 5,
    "start_time": "2022-08-26T22:58:16.917Z"
   },
   {
    "duration": 6,
    "start_time": "2022-08-26T22:58:37.913Z"
   },
   {
    "duration": 10,
    "start_time": "2022-08-26T22:58:49.327Z"
   },
   {
    "duration": 10,
    "start_time": "2022-08-26T22:58:53.260Z"
   },
   {
    "duration": 11,
    "start_time": "2022-08-26T22:59:01.432Z"
   },
   {
    "duration": 10,
    "start_time": "2022-08-26T22:59:05.901Z"
   },
   {
    "duration": 5,
    "start_time": "2022-08-26T22:59:27.038Z"
   },
   {
    "duration": 3070,
    "start_time": "2022-08-26T22:59:30.401Z"
   },
   {
    "duration": 110,
    "start_time": "2022-08-26T22:59:34.396Z"
   },
   {
    "duration": 21,
    "start_time": "2022-08-26T22:59:35.392Z"
   },
   {
    "duration": 6,
    "start_time": "2022-08-26T22:59:36.373Z"
   },
   {
    "duration": 4,
    "start_time": "2022-08-26T22:59:37.118Z"
   },
   {
    "duration": 2,
    "start_time": "2022-08-26T22:59:38.068Z"
   },
   {
    "duration": 41673,
    "start_time": "2022-08-26T22:59:39.635Z"
   },
   {
    "duration": 1021,
    "start_time": "2022-08-26T23:00:21.311Z"
   },
   {
    "duration": 25,
    "start_time": "2022-08-26T23:00:22.334Z"
   },
   {
    "duration": 5,
    "start_time": "2022-08-26T23:00:22.362Z"
   },
   {
    "duration": 4,
    "start_time": "2022-08-26T23:00:22.369Z"
   },
   {
    "duration": 36634,
    "start_time": "2022-08-26T23:00:22.375Z"
   },
   {
    "duration": 0,
    "start_time": "2022-08-26T23:00:59.011Z"
   },
   {
    "duration": 0,
    "start_time": "2022-08-26T23:00:59.013Z"
   },
   {
    "duration": 0,
    "start_time": "2022-08-26T23:00:59.015Z"
   },
   {
    "duration": 0,
    "start_time": "2022-08-26T23:00:59.016Z"
   },
   {
    "duration": 0,
    "start_time": "2022-08-26T23:00:59.018Z"
   },
   {
    "duration": 0,
    "start_time": "2022-08-26T23:00:59.019Z"
   },
   {
    "duration": 0,
    "start_time": "2022-08-26T23:00:59.021Z"
   },
   {
    "duration": 0,
    "start_time": "2022-08-26T23:00:59.022Z"
   },
   {
    "duration": 0,
    "start_time": "2022-08-26T23:00:59.024Z"
   },
   {
    "duration": 0,
    "start_time": "2022-08-26T23:00:59.025Z"
   },
   {
    "duration": 4,
    "start_time": "2022-08-26T23:01:04.476Z"
   },
   {
    "duration": 346,
    "start_time": "2022-08-26T23:01:13.272Z"
   },
   {
    "duration": 10,
    "start_time": "2022-08-26T23:01:13.953Z"
   },
   {
    "duration": 1417,
    "start_time": "2022-08-26T23:01:36.753Z"
   },
   {
    "duration": 3,
    "start_time": "2022-08-26T23:01:38.172Z"
   },
   {
    "duration": 806,
    "start_time": "2022-08-26T23:01:38.176Z"
   },
   {
    "duration": 25,
    "start_time": "2022-08-26T23:01:38.984Z"
   },
   {
    "duration": 152,
    "start_time": "2022-08-26T23:01:39.010Z"
   },
   {
    "duration": 479,
    "start_time": "2022-08-26T23:01:39.164Z"
   },
   {
    "duration": 525,
    "start_time": "2022-08-26T23:01:39.645Z"
   },
   {
    "duration": 41,
    "start_time": "2022-08-26T23:01:40.172Z"
   },
   {
    "duration": 106,
    "start_time": "2022-08-26T23:01:40.215Z"
   },
   {
    "duration": 88,
    "start_time": "2022-08-26T23:01:40.325Z"
   },
   {
    "duration": 57,
    "start_time": "2022-08-26T23:01:40.415Z"
   },
   {
    "duration": 474,
    "start_time": "2022-08-26T23:01:40.486Z"
   },
   {
    "duration": 338,
    "start_time": "2022-08-26T23:01:40.961Z"
   },
   {
    "duration": 17,
    "start_time": "2022-08-26T23:01:41.300Z"
   },
   {
    "duration": 177,
    "start_time": "2022-08-26T23:01:41.319Z"
   },
   {
    "duration": 342,
    "start_time": "2022-08-26T23:01:41.497Z"
   },
   {
    "duration": 19,
    "start_time": "2022-08-26T23:01:41.841Z"
   },
   {
    "duration": 187,
    "start_time": "2022-08-26T23:01:41.862Z"
   },
   {
    "duration": 283,
    "start_time": "2022-08-26T23:01:42.051Z"
   },
   {
    "duration": 7,
    "start_time": "2022-08-26T23:01:42.336Z"
   },
   {
    "duration": 12,
    "start_time": "2022-08-26T23:01:42.345Z"
   },
   {
    "duration": 5,
    "start_time": "2022-08-26T23:01:42.358Z"
   },
   {
    "duration": 25,
    "start_time": "2022-08-26T23:01:42.365Z"
   },
   {
    "duration": 26,
    "start_time": "2022-08-26T23:01:42.391Z"
   },
   {
    "duration": 19,
    "start_time": "2022-08-26T23:01:42.418Z"
   },
   {
    "duration": 10,
    "start_time": "2022-08-26T23:01:42.439Z"
   },
   {
    "duration": 5,
    "start_time": "2022-08-26T23:01:42.451Z"
   },
   {
    "duration": 5,
    "start_time": "2022-08-26T23:01:42.486Z"
   },
   {
    "duration": 10,
    "start_time": "2022-08-26T23:01:42.493Z"
   },
   {
    "duration": 10,
    "start_time": "2022-08-26T23:01:42.504Z"
   },
   {
    "duration": 9,
    "start_time": "2022-08-26T23:01:42.515Z"
   },
   {
    "duration": 4,
    "start_time": "2022-08-26T23:01:42.526Z"
   },
   {
    "duration": 12,
    "start_time": "2022-08-26T23:01:42.532Z"
   },
   {
    "duration": 42,
    "start_time": "2022-08-26T23:01:42.546Z"
   },
   {
    "duration": 25,
    "start_time": "2022-08-26T23:01:42.590Z"
   },
   {
    "duration": 150,
    "start_time": "2022-08-26T23:01:42.616Z"
   },
   {
    "duration": 21,
    "start_time": "2022-08-26T23:01:42.767Z"
   },
   {
    "duration": 264,
    "start_time": "2022-08-26T23:01:42.790Z"
   },
   {
    "duration": 12,
    "start_time": "2022-08-26T23:01:43.056Z"
   },
   {
    "duration": 2037,
    "start_time": "2022-08-26T23:01:43.069Z"
   },
   {
    "duration": 3,
    "start_time": "2022-08-26T23:01:45.108Z"
   },
   {
    "duration": 8,
    "start_time": "2022-08-26T23:01:45.113Z"
   },
   {
    "duration": 11,
    "start_time": "2022-08-26T23:01:45.123Z"
   },
   {
    "duration": 18,
    "start_time": "2022-08-26T23:01:45.135Z"
   },
   {
    "duration": 6,
    "start_time": "2022-08-26T23:01:45.154Z"
   },
   {
    "duration": 17,
    "start_time": "2022-08-26T23:01:45.162Z"
   },
   {
    "duration": 31,
    "start_time": "2022-08-26T23:01:45.181Z"
   },
   {
    "duration": 14,
    "start_time": "2022-08-26T23:01:45.214Z"
   },
   {
    "duration": 14,
    "start_time": "2022-08-26T23:01:45.230Z"
   },
   {
    "duration": 6,
    "start_time": "2022-08-26T23:01:45.246Z"
   },
   {
    "duration": 5,
    "start_time": "2022-08-26T23:01:45.254Z"
   },
   {
    "duration": 3,
    "start_time": "2022-08-26T23:01:45.287Z"
   },
   {
    "duration": 17,
    "start_time": "2022-08-26T23:01:45.292Z"
   },
   {
    "duration": 13,
    "start_time": "2022-08-26T23:01:45.310Z"
   },
   {
    "duration": 15,
    "start_time": "2022-08-26T23:01:45.324Z"
   },
   {
    "duration": 12,
    "start_time": "2022-08-26T23:01:45.341Z"
   },
   {
    "duration": 15,
    "start_time": "2022-08-26T23:01:45.354Z"
   },
   {
    "duration": 72,
    "start_time": "2022-08-26T23:01:45.371Z"
   },
   {
    "duration": 17,
    "start_time": "2022-08-26T23:01:45.444Z"
   },
   {
    "duration": 3,
    "start_time": "2022-08-26T23:01:45.462Z"
   },
   {
    "duration": 23,
    "start_time": "2022-08-26T23:01:45.466Z"
   },
   {
    "duration": 30,
    "start_time": "2022-08-26T23:01:45.491Z"
   },
   {
    "duration": 23,
    "start_time": "2022-08-26T23:01:45.522Z"
   },
   {
    "duration": 5,
    "start_time": "2022-08-26T23:01:45.547Z"
   },
   {
    "duration": 23,
    "start_time": "2022-08-26T23:01:45.554Z"
   },
   {
    "duration": 15,
    "start_time": "2022-08-26T23:01:45.579Z"
   },
   {
    "duration": 1595,
    "start_time": "2022-08-26T23:01:45.596Z"
   },
   {
    "duration": 4,
    "start_time": "2022-08-26T23:01:47.194Z"
   },
   {
    "duration": 10,
    "start_time": "2022-08-26T23:01:47.287Z"
   },
   {
    "duration": 91,
    "start_time": "2022-08-26T23:01:47.299Z"
   },
   {
    "duration": 95,
    "start_time": "2022-08-26T23:01:47.393Z"
   },
   {
    "duration": 33,
    "start_time": "2022-08-26T23:01:47.490Z"
   },
   {
    "duration": 6702,
    "start_time": "2022-08-26T23:01:47.588Z"
   },
   {
    "duration": 4,
    "start_time": "2022-08-26T23:01:54.292Z"
   },
   {
    "duration": 104,
    "start_time": "2022-08-26T23:01:54.297Z"
   },
   {
    "duration": 3246,
    "start_time": "2022-08-26T23:01:54.487Z"
   },
   {
    "duration": 132,
    "start_time": "2022-08-26T23:01:57.735Z"
   },
   {
    "duration": 28,
    "start_time": "2022-08-26T23:01:57.869Z"
   },
   {
    "duration": 6,
    "start_time": "2022-08-26T23:01:57.898Z"
   },
   {
    "duration": 7,
    "start_time": "2022-08-26T23:01:57.905Z"
   },
   {
    "duration": 8,
    "start_time": "2022-08-26T23:01:57.914Z"
   },
   {
    "duration": 38106,
    "start_time": "2022-08-26T23:01:57.928Z"
   },
   {
    "duration": 967,
    "start_time": "2022-08-26T23:02:36.035Z"
   },
   {
    "duration": 23,
    "start_time": "2022-08-26T23:02:37.004Z"
   },
   {
    "duration": 107,
    "start_time": "2022-08-26T23:02:37.029Z"
   },
   {
    "duration": 0,
    "start_time": "2022-08-26T23:02:37.138Z"
   },
   {
    "duration": 0,
    "start_time": "2022-08-26T23:02:37.139Z"
   },
   {
    "duration": 0,
    "start_time": "2022-08-26T23:02:37.141Z"
   },
   {
    "duration": 0,
    "start_time": "2022-08-26T23:02:37.142Z"
   },
   {
    "duration": 0,
    "start_time": "2022-08-26T23:02:37.142Z"
   },
   {
    "duration": 0,
    "start_time": "2022-08-26T23:02:37.143Z"
   },
   {
    "duration": 0,
    "start_time": "2022-08-26T23:02:37.145Z"
   },
   {
    "duration": 0,
    "start_time": "2022-08-26T23:02:37.145Z"
   },
   {
    "duration": 0,
    "start_time": "2022-08-26T23:02:37.146Z"
   },
   {
    "duration": 0,
    "start_time": "2022-08-26T23:02:37.147Z"
   },
   {
    "duration": 0,
    "start_time": "2022-08-26T23:02:37.148Z"
   },
   {
    "duration": 0,
    "start_time": "2022-08-26T23:02:37.150Z"
   },
   {
    "duration": 0,
    "start_time": "2022-08-26T23:02:37.150Z"
   },
   {
    "duration": 0,
    "start_time": "2022-08-26T23:02:37.152Z"
   },
   {
    "duration": 0,
    "start_time": "2022-08-26T23:02:37.153Z"
   },
   {
    "duration": 5,
    "start_time": "2022-08-26T23:07:33.554Z"
   },
   {
    "duration": 3,
    "start_time": "2022-08-26T23:07:34.710Z"
   },
   {
    "duration": 100079,
    "start_time": "2022-08-26T23:07:37.313Z"
   },
   {
    "duration": 502,
    "start_time": "2022-08-26T23:09:17.393Z"
   },
   {
    "duration": 99,
    "start_time": "2022-08-26T23:09:17.897Z"
   },
   {
    "duration": 4,
    "start_time": "2022-08-26T23:09:17.999Z"
   },
   {
    "duration": 82,
    "start_time": "2022-08-26T23:09:18.005Z"
   },
   {
    "duration": 9,
    "start_time": "2022-08-26T23:09:18.089Z"
   },
   {
    "duration": 22,
    "start_time": "2022-08-26T23:09:18.099Z"
   },
   {
    "duration": 6,
    "start_time": "2022-08-26T23:09:18.123Z"
   },
   {
    "duration": 11,
    "start_time": "2022-08-26T23:12:59.781Z"
   },
   {
    "duration": 5,
    "start_time": "2022-08-26T23:13:00.373Z"
   },
   {
    "duration": 9,
    "start_time": "2022-08-26T23:13:00.643Z"
   },
   {
    "duration": 4,
    "start_time": "2022-08-26T23:14:07.070Z"
   },
   {
    "duration": 2,
    "start_time": "2022-08-26T23:14:43.764Z"
   },
   {
    "duration": 171,
    "start_time": "2022-08-26T23:14:56.697Z"
   },
   {
    "duration": 9,
    "start_time": "2022-08-26T23:14:57.078Z"
   },
   {
    "duration": 16,
    "start_time": "2022-08-26T23:14:57.420Z"
   },
   {
    "duration": 15,
    "start_time": "2022-08-26T23:14:59.555Z"
   },
   {
    "duration": 116,
    "start_time": "2022-08-26T23:15:00.560Z"
   },
   {
    "duration": 1945,
    "start_time": "2022-08-27T15:44:58.388Z"
   },
   {
    "duration": 2,
    "start_time": "2022-08-27T15:45:00.335Z"
   },
   {
    "duration": 3668,
    "start_time": "2022-08-27T15:45:00.339Z"
   },
   {
    "duration": 35,
    "start_time": "2022-08-27T15:45:04.009Z"
   },
   {
    "duration": 141,
    "start_time": "2022-08-27T15:45:04.049Z"
   },
   {
    "duration": 492,
    "start_time": "2022-08-27T15:45:04.192Z"
   },
   {
    "duration": 554,
    "start_time": "2022-08-27T15:45:04.685Z"
   },
   {
    "duration": 33,
    "start_time": "2022-08-27T15:45:05.244Z"
   },
   {
    "duration": 92,
    "start_time": "2022-08-27T15:45:05.279Z"
   },
   {
    "duration": 79,
    "start_time": "2022-08-27T15:45:05.375Z"
   },
   {
    "duration": 71,
    "start_time": "2022-08-27T15:45:05.455Z"
   },
   {
    "duration": 481,
    "start_time": "2022-08-27T15:45:05.531Z"
   },
   {
    "duration": 450,
    "start_time": "2022-08-27T15:45:06.013Z"
   },
   {
    "duration": 23,
    "start_time": "2022-08-27T15:45:06.465Z"
   },
   {
    "duration": 248,
    "start_time": "2022-08-27T15:45:06.491Z"
   },
   {
    "duration": 344,
    "start_time": "2022-08-27T15:45:06.746Z"
   },
   {
    "duration": 22,
    "start_time": "2022-08-27T15:45:07.092Z"
   },
   {
    "duration": 181,
    "start_time": "2022-08-27T15:45:07.116Z"
   },
   {
    "duration": 339,
    "start_time": "2022-08-27T15:45:07.299Z"
   },
   {
    "duration": 9,
    "start_time": "2022-08-27T15:45:07.640Z"
   },
   {
    "duration": 15,
    "start_time": "2022-08-27T15:45:07.651Z"
   },
   {
    "duration": 6,
    "start_time": "2022-08-27T15:45:07.668Z"
   },
   {
    "duration": 6,
    "start_time": "2022-08-27T15:45:07.675Z"
   },
   {
    "duration": 25,
    "start_time": "2022-08-27T15:45:07.682Z"
   },
   {
    "duration": 36,
    "start_time": "2022-08-27T15:45:07.709Z"
   },
   {
    "duration": 13,
    "start_time": "2022-08-27T15:45:07.748Z"
   },
   {
    "duration": 7,
    "start_time": "2022-08-27T15:45:07.763Z"
   },
   {
    "duration": 9,
    "start_time": "2022-08-27T15:45:07.774Z"
   },
   {
    "duration": 11,
    "start_time": "2022-08-27T15:45:07.784Z"
   },
   {
    "duration": 17,
    "start_time": "2022-08-27T15:45:07.796Z"
   },
   {
    "duration": 44,
    "start_time": "2022-08-27T15:45:07.820Z"
   },
   {
    "duration": 7,
    "start_time": "2022-08-27T15:45:07.865Z"
   },
   {
    "duration": 11,
    "start_time": "2022-08-27T15:45:07.873Z"
   },
   {
    "duration": 12,
    "start_time": "2022-08-27T15:45:07.886Z"
   },
   {
    "duration": 46,
    "start_time": "2022-08-27T15:45:07.899Z"
   },
   {
    "duration": 142,
    "start_time": "2022-08-27T15:45:07.947Z"
   },
   {
    "duration": 17,
    "start_time": "2022-08-27T15:45:08.090Z"
   },
   {
    "duration": 640,
    "start_time": "2022-08-27T15:45:08.116Z"
   },
   {
    "duration": 67,
    "start_time": "2022-08-27T15:45:08.757Z"
   },
   {
    "duration": 2435,
    "start_time": "2022-08-27T15:45:08.833Z"
   },
   {
    "duration": 3,
    "start_time": "2022-08-27T15:45:11.270Z"
   },
   {
    "duration": 7,
    "start_time": "2022-08-27T15:45:11.275Z"
   },
   {
    "duration": 11,
    "start_time": "2022-08-27T15:45:11.283Z"
   },
   {
    "duration": 47,
    "start_time": "2022-08-27T15:45:11.296Z"
   },
   {
    "duration": 5,
    "start_time": "2022-08-27T15:45:11.345Z"
   },
   {
    "duration": 14,
    "start_time": "2022-08-27T15:45:11.351Z"
   },
   {
    "duration": 28,
    "start_time": "2022-08-27T15:45:11.367Z"
   },
   {
    "duration": 16,
    "start_time": "2022-08-27T15:45:11.396Z"
   },
   {
    "duration": 15,
    "start_time": "2022-08-27T15:45:11.414Z"
   },
   {
    "duration": 23,
    "start_time": "2022-08-27T15:45:11.431Z"
   },
   {
    "duration": 6,
    "start_time": "2022-08-27T15:45:11.456Z"
   },
   {
    "duration": 6,
    "start_time": "2022-08-27T15:45:11.463Z"
   },
   {
    "duration": 10,
    "start_time": "2022-08-27T15:45:11.470Z"
   },
   {
    "duration": 6,
    "start_time": "2022-08-27T15:45:11.481Z"
   },
   {
    "duration": 23,
    "start_time": "2022-08-27T15:45:11.489Z"
   },
   {
    "duration": 35,
    "start_time": "2022-08-27T15:45:11.514Z"
   },
   {
    "duration": 5,
    "start_time": "2022-08-27T15:45:11.552Z"
   },
   {
    "duration": 72,
    "start_time": "2022-08-27T15:45:11.559Z"
   },
   {
    "duration": 26,
    "start_time": "2022-08-27T15:45:11.634Z"
   },
   {
    "duration": 3,
    "start_time": "2022-08-27T15:45:11.662Z"
   },
   {
    "duration": 12,
    "start_time": "2022-08-27T15:45:11.666Z"
   },
   {
    "duration": 33,
    "start_time": "2022-08-27T15:45:11.680Z"
   },
   {
    "duration": 37,
    "start_time": "2022-08-27T15:45:11.721Z"
   },
   {
    "duration": 6,
    "start_time": "2022-08-27T15:45:11.761Z"
   },
   {
    "duration": 7,
    "start_time": "2022-08-27T15:45:11.769Z"
   },
   {
    "duration": 7,
    "start_time": "2022-08-27T15:45:11.778Z"
   },
   {
    "duration": 4532,
    "start_time": "2022-08-27T15:45:11.787Z"
   },
   {
    "duration": 8,
    "start_time": "2022-08-27T15:45:16.322Z"
   },
   {
    "duration": 37,
    "start_time": "2022-08-27T15:45:16.406Z"
   },
   {
    "duration": 66,
    "start_time": "2022-08-27T15:45:16.445Z"
   },
   {
    "duration": 18,
    "start_time": "2022-08-27T15:45:16.517Z"
   },
   {
    "duration": 52,
    "start_time": "2022-08-27T15:45:16.608Z"
   },
   {
    "duration": 16053,
    "start_time": "2022-08-27T15:45:16.664Z"
   },
   {
    "duration": 9,
    "start_time": "2022-08-27T15:45:32.719Z"
   },
   {
    "duration": 109,
    "start_time": "2022-08-27T15:45:32.729Z"
   },
   {
    "duration": 6,
    "start_time": "2022-08-27T15:45:32.840Z"
   },
   {
    "duration": 3601,
    "start_time": "2022-08-27T15:45:32.847Z"
   },
   {
    "duration": 159,
    "start_time": "2022-08-27T15:45:36.450Z"
   },
   {
    "duration": 28,
    "start_time": "2022-08-27T15:45:36.613Z"
   },
   {
    "duration": 6,
    "start_time": "2022-08-27T15:45:36.643Z"
   },
   {
    "duration": 7,
    "start_time": "2022-08-27T15:45:36.650Z"
   },
   {
    "duration": 3,
    "start_time": "2022-08-27T15:45:36.663Z"
   },
   {
    "duration": 8,
    "start_time": "2022-08-27T15:45:36.668Z"
   },
   {
    "duration": 57623,
    "start_time": "2022-08-27T15:45:36.677Z"
   },
   {
    "duration": 1578,
    "start_time": "2022-08-27T15:46:34.302Z"
   },
   {
    "duration": 19,
    "start_time": "2022-08-27T15:46:35.881Z"
   },
   {
    "duration": 36,
    "start_time": "2022-08-27T15:46:35.902Z"
   },
   {
    "duration": 9,
    "start_time": "2022-08-27T15:46:35.939Z"
   },
   {
    "duration": 689483,
    "start_time": "2022-08-27T15:46:35.950Z"
   },
   {
    "duration": 57878,
    "start_time": "2022-08-27T15:58:05.438Z"
   },
   {
    "duration": 98,
    "start_time": "2022-08-27T15:59:03.319Z"
   },
   {
    "duration": 10,
    "start_time": "2022-08-27T15:59:03.420Z"
   },
   {
    "duration": 7,
    "start_time": "2022-08-27T15:59:03.432Z"
   },
   {
    "duration": 9,
    "start_time": "2022-08-27T15:59:03.440Z"
   },
   {
    "duration": 21,
    "start_time": "2022-08-27T15:59:03.450Z"
   },
   {
    "duration": 35,
    "start_time": "2022-08-27T15:59:03.472Z"
   },
   {
    "duration": 27,
    "start_time": "2022-08-27T15:59:03.509Z"
   },
   {
    "duration": 7,
    "start_time": "2022-08-27T15:59:03.538Z"
   },
   {
    "duration": 10,
    "start_time": "2022-08-27T15:59:03.546Z"
   },
   {
    "duration": 127,
    "start_time": "2022-08-27T15:59:03.557Z"
   },
   {
    "duration": 123,
    "start_time": "2022-08-27T17:54:38.914Z"
   },
   {
    "duration": 125,
    "start_time": "2022-08-27T17:56:51.650Z"
   },
   {
    "duration": 30,
    "start_time": "2022-08-27T17:59:09.338Z"
   },
   {
    "duration": 7,
    "start_time": "2022-08-27T18:00:50.446Z"
   },
   {
    "duration": 9,
    "start_time": "2022-08-27T18:00:50.455Z"
   },
   {
    "duration": 873,
    "start_time": "2022-08-27T18:00:50.465Z"
   },
   {
    "duration": 24,
    "start_time": "2022-08-27T18:00:51.340Z"
   },
   {
    "duration": 128,
    "start_time": "2022-08-27T18:00:51.366Z"
   },
   {
    "duration": 447,
    "start_time": "2022-08-27T18:00:51.496Z"
   },
   {
    "duration": 445,
    "start_time": "2022-08-27T18:00:51.945Z"
   },
   {
    "duration": 35,
    "start_time": "2022-08-27T18:00:52.392Z"
   },
   {
    "duration": 84,
    "start_time": "2022-08-27T18:00:52.429Z"
   },
   {
    "duration": 86,
    "start_time": "2022-08-27T18:00:52.522Z"
   },
   {
    "duration": 75,
    "start_time": "2022-08-27T18:00:52.613Z"
   },
   {
    "duration": 473,
    "start_time": "2022-08-27T18:00:52.690Z"
   },
   {
    "duration": 323,
    "start_time": "2022-08-27T18:00:53.165Z"
   },
   {
    "duration": 24,
    "start_time": "2022-08-27T18:00:53.489Z"
   },
   {
    "duration": 8,
    "start_time": "2022-08-27T18:00:53.515Z"
   },
   {
    "duration": 175,
    "start_time": "2022-08-27T18:00:53.524Z"
   },
   {
    "duration": 264,
    "start_time": "2022-08-27T18:00:53.701Z"
   },
   {
    "duration": 18,
    "start_time": "2022-08-27T18:00:53.967Z"
   },
   {
    "duration": 186,
    "start_time": "2022-08-27T18:00:53.987Z"
   },
   {
    "duration": 427,
    "start_time": "2022-08-27T18:00:54.175Z"
   },
   {
    "duration": 23,
    "start_time": "2022-08-27T18:00:54.604Z"
   },
   {
    "duration": 12,
    "start_time": "2022-08-27T18:00:54.628Z"
   },
   {
    "duration": 9,
    "start_time": "2022-08-27T18:00:54.642Z"
   },
   {
    "duration": 6,
    "start_time": "2022-08-27T18:00:54.653Z"
   },
   {
    "duration": 22,
    "start_time": "2022-08-27T18:00:54.660Z"
   },
   {
    "duration": 17,
    "start_time": "2022-08-27T18:00:54.684Z"
   },
   {
    "duration": 19,
    "start_time": "2022-08-27T18:00:54.709Z"
   },
   {
    "duration": 11,
    "start_time": "2022-08-27T18:00:54.735Z"
   },
   {
    "duration": 18,
    "start_time": "2022-08-27T18:00:54.748Z"
   },
   {
    "duration": 11,
    "start_time": "2022-08-27T18:00:54.768Z"
   },
   {
    "duration": 22,
    "start_time": "2022-08-27T18:00:54.781Z"
   },
   {
    "duration": 9,
    "start_time": "2022-08-27T18:00:54.805Z"
   },
   {
    "duration": 23,
    "start_time": "2022-08-27T18:00:54.816Z"
   },
   {
    "duration": 11,
    "start_time": "2022-08-27T18:00:54.842Z"
   },
   {
    "duration": 11,
    "start_time": "2022-08-27T18:00:54.855Z"
   },
   {
    "duration": 21,
    "start_time": "2022-08-27T18:00:54.868Z"
   },
   {
    "duration": 178,
    "start_time": "2022-08-27T18:00:54.891Z"
   },
   {
    "duration": 13,
    "start_time": "2022-08-27T18:00:55.070Z"
   },
   {
    "duration": 292,
    "start_time": "2022-08-27T18:00:55.085Z"
   },
   {
    "duration": 10,
    "start_time": "2022-08-27T18:00:55.378Z"
   },
   {
    "duration": 1649,
    "start_time": "2022-08-27T18:00:55.389Z"
   },
   {
    "duration": 3,
    "start_time": "2022-08-27T18:00:57.041Z"
   },
   {
    "duration": 10,
    "start_time": "2022-08-27T18:00:57.046Z"
   },
   {
    "duration": 10,
    "start_time": "2022-08-27T18:00:57.058Z"
   },
   {
    "duration": 20,
    "start_time": "2022-08-27T18:00:57.070Z"
   },
   {
    "duration": 6,
    "start_time": "2022-08-27T18:00:57.091Z"
   },
   {
    "duration": 14,
    "start_time": "2022-08-27T18:00:57.110Z"
   },
   {
    "duration": 27,
    "start_time": "2022-08-27T18:00:57.126Z"
   },
   {
    "duration": 14,
    "start_time": "2022-08-27T18:00:57.155Z"
   },
   {
    "duration": 11,
    "start_time": "2022-08-27T18:00:57.170Z"
   },
   {
    "duration": 5,
    "start_time": "2022-08-27T18:00:57.182Z"
   },
   {
    "duration": 21,
    "start_time": "2022-08-27T18:00:57.188Z"
   },
   {
    "duration": 3,
    "start_time": "2022-08-27T18:00:57.212Z"
   },
   {
    "duration": 20,
    "start_time": "2022-08-27T18:00:57.217Z"
   },
   {
    "duration": 8,
    "start_time": "2022-08-27T18:00:57.238Z"
   },
   {
    "duration": 170,
    "start_time": "2022-08-27T18:00:57.248Z"
   },
   {
    "duration": 24,
    "start_time": "2022-08-27T18:00:57.420Z"
   },
   {
    "duration": 7,
    "start_time": "2022-08-27T18:00:57.446Z"
   },
   {
    "duration": 30,
    "start_time": "2022-08-27T18:00:57.455Z"
   },
   {
    "duration": 9,
    "start_time": "2022-08-27T18:00:57.487Z"
   },
   {
    "duration": 3,
    "start_time": "2022-08-27T18:00:57.497Z"
   },
   {
    "duration": 42,
    "start_time": "2022-08-27T18:00:57.501Z"
   },
   {
    "duration": 21,
    "start_time": "2022-08-27T18:00:57.545Z"
   },
   {
    "duration": 20,
    "start_time": "2022-08-27T18:00:57.568Z"
   },
   {
    "duration": 5,
    "start_time": "2022-08-27T18:00:57.589Z"
   },
   {
    "duration": 8,
    "start_time": "2022-08-27T18:00:57.595Z"
   },
   {
    "duration": 26,
    "start_time": "2022-08-27T18:00:57.604Z"
   },
   {
    "duration": 5192,
    "start_time": "2022-08-27T18:00:57.632Z"
   },
   {
    "duration": 8,
    "start_time": "2022-08-27T18:01:02.905Z"
   },
   {
    "duration": 113,
    "start_time": "2022-08-27T18:01:02.915Z"
   },
   {
    "duration": 180,
    "start_time": "2022-08-27T18:01:03.030Z"
   },
   {
    "duration": 7,
    "start_time": "2022-08-27T18:01:03.218Z"
   },
   {
    "duration": 23,
    "start_time": "2022-08-27T18:01:03.227Z"
   },
   {
    "duration": 20156,
    "start_time": "2022-08-27T18:01:03.253Z"
   },
   {
    "duration": 6,
    "start_time": "2022-08-27T18:01:23.415Z"
   },
   {
    "duration": 102,
    "start_time": "2022-08-27T18:01:23.422Z"
   },
   {
    "duration": 9,
    "start_time": "2022-08-27T18:01:23.527Z"
   },
   {
    "duration": 1337,
    "start_time": "2022-08-27T18:01:23.538Z"
   },
   {
    "duration": 59,
    "start_time": "2022-08-27T18:01:24.876Z"
   },
   {
    "duration": 14,
    "start_time": "2022-08-27T18:01:24.937Z"
   },
   {
    "duration": 9,
    "start_time": "2022-08-27T18:01:24.953Z"
   },
   {
    "duration": 9,
    "start_time": "2022-08-27T18:01:24.967Z"
   },
   {
    "duration": 7,
    "start_time": "2022-08-27T18:01:24.978Z"
   },
   {
    "duration": 34,
    "start_time": "2022-08-27T18:01:24.986Z"
   },
   {
    "duration": 48132,
    "start_time": "2022-08-27T18:01:25.022Z"
   },
   {
    "duration": 1297,
    "start_time": "2022-08-27T18:02:13.156Z"
   },
   {
    "duration": 15,
    "start_time": "2022-08-27T18:02:14.455Z"
   },
   {
    "duration": 5,
    "start_time": "2022-08-27T18:02:14.472Z"
   },
   {
    "duration": 4,
    "start_time": "2022-08-27T18:02:14.478Z"
   },
   {
    "duration": 192231,
    "start_time": "2022-08-27T18:02:14.484Z"
   },
   {
    "duration": 16095,
    "start_time": "2022-08-27T18:05:26.721Z"
   },
   {
    "duration": 93,
    "start_time": "2022-08-27T18:05:42.817Z"
   },
   {
    "duration": 6,
    "start_time": "2022-08-27T18:05:42.915Z"
   },
   {
    "duration": 17,
    "start_time": "2022-08-27T18:05:42.922Z"
   },
   {
    "duration": 8,
    "start_time": "2022-08-27T18:05:42.940Z"
   },
   {
    "duration": 17,
    "start_time": "2022-08-27T18:05:42.949Z"
   },
   {
    "duration": 4,
    "start_time": "2022-08-27T18:05:42.968Z"
   },
   {
    "duration": 11,
    "start_time": "2022-08-27T18:05:42.973Z"
   },
   {
    "duration": 5,
    "start_time": "2022-08-27T18:05:42.985Z"
   },
   {
    "duration": 26,
    "start_time": "2022-08-27T18:05:42.991Z"
   },
   {
    "duration": 131,
    "start_time": "2022-08-27T18:05:43.018Z"
   }
  ],
  "kernelspec": {
   "display_name": "Python 3 (ipykernel)",
   "language": "python",
   "name": "python3"
  },
  "language_info": {
   "codemirror_mode": {
    "name": "ipython",
    "version": 3
   },
   "file_extension": ".py",
   "mimetype": "text/x-python",
   "name": "python",
   "nbconvert_exporter": "python",
   "pygments_lexer": "ipython3",
   "version": "3.7.8"
  },
  "toc": {
   "base_numbering": 1,
   "nav_menu": {},
   "number_sections": true,
   "sideBar": true,
   "skip_h1_title": true,
   "title_cell": "Table of Contents",
   "title_sidebar": "Contents",
   "toc_cell": false,
   "toc_position": {},
   "toc_section_display": true,
   "toc_window_display": false
  }
 },
 "nbformat": 4,
 "nbformat_minor": 2
}
